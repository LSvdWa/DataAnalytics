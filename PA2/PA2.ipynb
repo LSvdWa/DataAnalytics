{
 "cells": [
  {
   "cell_type": "code",
   "id": "6198313a0fd8ef21",
   "metadata": {
    "ExecuteTime": {
     "end_time": "2025-09-22T16:46:34.385489Z",
     "start_time": "2025-09-22T16:46:27.652716Z"
    }
   },
   "source": [
    "#from numpy.core.numeric import infty\n",
    "!pip install numpy\n",
    "!pip install pandas\n",
    "!pip install plotly\n",
    "\n",
    "!pip install scikit-learn # non-depreaceated sklearn"
   ],
   "outputs": [
    {
     "name": "stdout",
     "output_type": "stream",
     "text": [
      "Requirement already satisfied: numpy in /Users/school/Documents/GitHub/DataAnalytics/.venvPytorc/lib/python3.8/site-packages (1.24.4)\r\n",
      "Requirement already satisfied: pandas in /Users/school/Documents/GitHub/DataAnalytics/.venvPytorc/lib/python3.8/site-packages (2.0.3)\r\n",
      "Requirement already satisfied: python-dateutil>=2.8.2 in /Users/school/Documents/GitHub/DataAnalytics/.venvPytorc/lib/python3.8/site-packages (from pandas) (2.9.0.post0)\r\n",
      "Requirement already satisfied: pytz>=2020.1 in /Users/school/Documents/GitHub/DataAnalytics/.venvPytorc/lib/python3.8/site-packages (from pandas) (2025.2)\r\n",
      "Requirement already satisfied: tzdata>=2022.1 in /Users/school/Documents/GitHub/DataAnalytics/.venvPytorc/lib/python3.8/site-packages (from pandas) (2025.2)\r\n",
      "Requirement already satisfied: numpy>=1.20.3 in /Users/school/Documents/GitHub/DataAnalytics/.venvPytorc/lib/python3.8/site-packages (from pandas) (1.24.4)\r\n",
      "Requirement already satisfied: six>=1.5 in /Users/school/Documents/GitHub/DataAnalytics/.venvPytorc/lib/python3.8/site-packages (from python-dateutil>=2.8.2->pandas) (1.17.0)\r\n",
      "Requirement already satisfied: plotly in /Users/school/Documents/GitHub/DataAnalytics/.venvPytorc/lib/python3.8/site-packages (6.3.0)\r\n",
      "Requirement already satisfied: narwhals>=1.15.1 in /Users/school/Documents/GitHub/DataAnalytics/.venvPytorc/lib/python3.8/site-packages (from plotly) (1.42.1)\r\n",
      "Requirement already satisfied: packaging in /Users/school/Documents/GitHub/DataAnalytics/.venvPytorc/lib/python3.8/site-packages (from plotly) (25.0)\r\n",
      "Requirement already satisfied: scikit-learn in /Users/school/Documents/GitHub/DataAnalytics/.venvPytorc/lib/python3.8/site-packages (1.3.2)\r\n",
      "Requirement already satisfied: numpy<2.0,>=1.17.3 in /Users/school/Documents/GitHub/DataAnalytics/.venvPytorc/lib/python3.8/site-packages (from scikit-learn) (1.24.4)\r\n",
      "Requirement already satisfied: scipy>=1.5.0 in /Users/school/Documents/GitHub/DataAnalytics/.venvPytorc/lib/python3.8/site-packages (from scikit-learn) (1.10.1)\r\n",
      "Requirement already satisfied: joblib>=1.1.1 in /Users/school/Documents/GitHub/DataAnalytics/.venvPytorc/lib/python3.8/site-packages (from scikit-learn) (1.4.2)\r\n",
      "Requirement already satisfied: threadpoolctl>=2.0.0 in /Users/school/Documents/GitHub/DataAnalytics/.venvPytorc/lib/python3.8/site-packages (from scikit-learn) (3.5.0)\r\n"
     ]
    }
   ],
   "execution_count": 34
  },
  {
   "cell_type": "markdown",
   "id": "c04bec9720cf8181",
   "metadata": {},
   "source": [
    "Task 1"
   ]
  },
  {
   "cell_type": "code",
   "id": "569340ce255da6ee",
   "metadata": {
    "collapsed": true,
    "ExecuteTime": {
     "end_time": "2025-09-22T16:46:34.528784Z",
     "start_time": "2025-09-22T16:46:34.398634Z"
    }
   },
   "source": [
    "import pandas as pd\n",
    "# read the csv and make it a pandas.DataFrame\n",
    "frame = pd.DataFrame(pd.read_csv(\"./online_shoppers_intention.csv\"))\n",
    "frame.describe(include='all') # 18 columns, including 2 categorical: Month & VisitorType, and two boolean: Weekend & Revenue"
   ],
   "outputs": [
    {
     "data": {
      "text/plain": [
       "        Administrative  Administrative_Duration  Informational  \\\n",
       "count     12330.000000             12330.000000   12330.000000   \n",
       "unique             NaN                      NaN            NaN   \n",
       "top                NaN                      NaN            NaN   \n",
       "freq               NaN                      NaN            NaN   \n",
       "mean          2.315166                80.818611       0.503569   \n",
       "std           3.321784               176.779107       1.270156   \n",
       "min           0.000000                 0.000000       0.000000   \n",
       "25%           0.000000                 0.000000       0.000000   \n",
       "50%           1.000000                 7.500000       0.000000   \n",
       "75%           4.000000                93.256250       0.000000   \n",
       "max          27.000000              3398.750000      24.000000   \n",
       "\n",
       "        Informational_Duration  ProductRelated  ProductRelated_Duration  \\\n",
       "count             12330.000000    12330.000000             12330.000000   \n",
       "unique                     NaN             NaN                      NaN   \n",
       "top                        NaN             NaN                      NaN   \n",
       "freq                       NaN             NaN                      NaN   \n",
       "mean                 34.472398       31.731468              1194.746220   \n",
       "std                 140.749294       44.475503              1913.669288   \n",
       "min                   0.000000        0.000000                 0.000000   \n",
       "25%                   0.000000        7.000000               184.137500   \n",
       "50%                   0.000000       18.000000               598.936905   \n",
       "75%                   0.000000       38.000000              1464.157214   \n",
       "max                2549.375000      705.000000             63973.522230   \n",
       "\n",
       "         BounceRates     ExitRates    PageValues    SpecialDay  Month  \\\n",
       "count   12330.000000  12330.000000  12330.000000  12330.000000  12330   \n",
       "unique           NaN           NaN           NaN           NaN     10   \n",
       "top              NaN           NaN           NaN           NaN    May   \n",
       "freq             NaN           NaN           NaN           NaN   3364   \n",
       "mean        0.022191      0.043073      5.889258      0.061427    NaN   \n",
       "std         0.048488      0.048597     18.568437      0.198917    NaN   \n",
       "min         0.000000      0.000000      0.000000      0.000000    NaN   \n",
       "25%         0.000000      0.014286      0.000000      0.000000    NaN   \n",
       "50%         0.003112      0.025156      0.000000      0.000000    NaN   \n",
       "75%         0.016813      0.050000      0.000000      0.000000    NaN   \n",
       "max         0.200000      0.200000    361.763742      1.000000    NaN   \n",
       "\n",
       "        OperatingSystems       Browser        Region   TrafficType  \\\n",
       "count       12330.000000  12330.000000  12330.000000  12330.000000   \n",
       "unique               NaN           NaN           NaN           NaN   \n",
       "top                  NaN           NaN           NaN           NaN   \n",
       "freq                 NaN           NaN           NaN           NaN   \n",
       "mean            2.124006      2.357097      3.147364      4.069586   \n",
       "std             0.911325      1.717277      2.401591      4.025169   \n",
       "min             1.000000      1.000000      1.000000      1.000000   \n",
       "25%             2.000000      2.000000      1.000000      2.000000   \n",
       "50%             2.000000      2.000000      3.000000      2.000000   \n",
       "75%             3.000000      2.000000      4.000000      4.000000   \n",
       "max             8.000000     13.000000      9.000000     20.000000   \n",
       "\n",
       "              VisitorType Weekend Revenue  \n",
       "count               12330   12330   12330  \n",
       "unique                  3       2       2  \n",
       "top     Returning_Visitor   False   False  \n",
       "freq                10551    9462   10422  \n",
       "mean                  NaN     NaN     NaN  \n",
       "std                   NaN     NaN     NaN  \n",
       "min                   NaN     NaN     NaN  \n",
       "25%                   NaN     NaN     NaN  \n",
       "50%                   NaN     NaN     NaN  \n",
       "75%                   NaN     NaN     NaN  \n",
       "max                   NaN     NaN     NaN  "
      ],
      "text/html": [
       "<div>\n",
       "<style scoped>\n",
       "    .dataframe tbody tr th:only-of-type {\n",
       "        vertical-align: middle;\n",
       "    }\n",
       "\n",
       "    .dataframe tbody tr th {\n",
       "        vertical-align: top;\n",
       "    }\n",
       "\n",
       "    .dataframe thead th {\n",
       "        text-align: right;\n",
       "    }\n",
       "</style>\n",
       "<table border=\"1\" class=\"dataframe\">\n",
       "  <thead>\n",
       "    <tr style=\"text-align: right;\">\n",
       "      <th></th>\n",
       "      <th>Administrative</th>\n",
       "      <th>Administrative_Duration</th>\n",
       "      <th>Informational</th>\n",
       "      <th>Informational_Duration</th>\n",
       "      <th>ProductRelated</th>\n",
       "      <th>ProductRelated_Duration</th>\n",
       "      <th>BounceRates</th>\n",
       "      <th>ExitRates</th>\n",
       "      <th>PageValues</th>\n",
       "      <th>SpecialDay</th>\n",
       "      <th>Month</th>\n",
       "      <th>OperatingSystems</th>\n",
       "      <th>Browser</th>\n",
       "      <th>Region</th>\n",
       "      <th>TrafficType</th>\n",
       "      <th>VisitorType</th>\n",
       "      <th>Weekend</th>\n",
       "      <th>Revenue</th>\n",
       "    </tr>\n",
       "  </thead>\n",
       "  <tbody>\n",
       "    <tr>\n",
       "      <th>count</th>\n",
       "      <td>12330.000000</td>\n",
       "      <td>12330.000000</td>\n",
       "      <td>12330.000000</td>\n",
       "      <td>12330.000000</td>\n",
       "      <td>12330.000000</td>\n",
       "      <td>12330.000000</td>\n",
       "      <td>12330.000000</td>\n",
       "      <td>12330.000000</td>\n",
       "      <td>12330.000000</td>\n",
       "      <td>12330.000000</td>\n",
       "      <td>12330</td>\n",
       "      <td>12330.000000</td>\n",
       "      <td>12330.000000</td>\n",
       "      <td>12330.000000</td>\n",
       "      <td>12330.000000</td>\n",
       "      <td>12330</td>\n",
       "      <td>12330</td>\n",
       "      <td>12330</td>\n",
       "    </tr>\n",
       "    <tr>\n",
       "      <th>unique</th>\n",
       "      <td>NaN</td>\n",
       "      <td>NaN</td>\n",
       "      <td>NaN</td>\n",
       "      <td>NaN</td>\n",
       "      <td>NaN</td>\n",
       "      <td>NaN</td>\n",
       "      <td>NaN</td>\n",
       "      <td>NaN</td>\n",
       "      <td>NaN</td>\n",
       "      <td>NaN</td>\n",
       "      <td>10</td>\n",
       "      <td>NaN</td>\n",
       "      <td>NaN</td>\n",
       "      <td>NaN</td>\n",
       "      <td>NaN</td>\n",
       "      <td>3</td>\n",
       "      <td>2</td>\n",
       "      <td>2</td>\n",
       "    </tr>\n",
       "    <tr>\n",
       "      <th>top</th>\n",
       "      <td>NaN</td>\n",
       "      <td>NaN</td>\n",
       "      <td>NaN</td>\n",
       "      <td>NaN</td>\n",
       "      <td>NaN</td>\n",
       "      <td>NaN</td>\n",
       "      <td>NaN</td>\n",
       "      <td>NaN</td>\n",
       "      <td>NaN</td>\n",
       "      <td>NaN</td>\n",
       "      <td>May</td>\n",
       "      <td>NaN</td>\n",
       "      <td>NaN</td>\n",
       "      <td>NaN</td>\n",
       "      <td>NaN</td>\n",
       "      <td>Returning_Visitor</td>\n",
       "      <td>False</td>\n",
       "      <td>False</td>\n",
       "    </tr>\n",
       "    <tr>\n",
       "      <th>freq</th>\n",
       "      <td>NaN</td>\n",
       "      <td>NaN</td>\n",
       "      <td>NaN</td>\n",
       "      <td>NaN</td>\n",
       "      <td>NaN</td>\n",
       "      <td>NaN</td>\n",
       "      <td>NaN</td>\n",
       "      <td>NaN</td>\n",
       "      <td>NaN</td>\n",
       "      <td>NaN</td>\n",
       "      <td>3364</td>\n",
       "      <td>NaN</td>\n",
       "      <td>NaN</td>\n",
       "      <td>NaN</td>\n",
       "      <td>NaN</td>\n",
       "      <td>10551</td>\n",
       "      <td>9462</td>\n",
       "      <td>10422</td>\n",
       "    </tr>\n",
       "    <tr>\n",
       "      <th>mean</th>\n",
       "      <td>2.315166</td>\n",
       "      <td>80.818611</td>\n",
       "      <td>0.503569</td>\n",
       "      <td>34.472398</td>\n",
       "      <td>31.731468</td>\n",
       "      <td>1194.746220</td>\n",
       "      <td>0.022191</td>\n",
       "      <td>0.043073</td>\n",
       "      <td>5.889258</td>\n",
       "      <td>0.061427</td>\n",
       "      <td>NaN</td>\n",
       "      <td>2.124006</td>\n",
       "      <td>2.357097</td>\n",
       "      <td>3.147364</td>\n",
       "      <td>4.069586</td>\n",
       "      <td>NaN</td>\n",
       "      <td>NaN</td>\n",
       "      <td>NaN</td>\n",
       "    </tr>\n",
       "    <tr>\n",
       "      <th>std</th>\n",
       "      <td>3.321784</td>\n",
       "      <td>176.779107</td>\n",
       "      <td>1.270156</td>\n",
       "      <td>140.749294</td>\n",
       "      <td>44.475503</td>\n",
       "      <td>1913.669288</td>\n",
       "      <td>0.048488</td>\n",
       "      <td>0.048597</td>\n",
       "      <td>18.568437</td>\n",
       "      <td>0.198917</td>\n",
       "      <td>NaN</td>\n",
       "      <td>0.911325</td>\n",
       "      <td>1.717277</td>\n",
       "      <td>2.401591</td>\n",
       "      <td>4.025169</td>\n",
       "      <td>NaN</td>\n",
       "      <td>NaN</td>\n",
       "      <td>NaN</td>\n",
       "    </tr>\n",
       "    <tr>\n",
       "      <th>min</th>\n",
       "      <td>0.000000</td>\n",
       "      <td>0.000000</td>\n",
       "      <td>0.000000</td>\n",
       "      <td>0.000000</td>\n",
       "      <td>0.000000</td>\n",
       "      <td>0.000000</td>\n",
       "      <td>0.000000</td>\n",
       "      <td>0.000000</td>\n",
       "      <td>0.000000</td>\n",
       "      <td>0.000000</td>\n",
       "      <td>NaN</td>\n",
       "      <td>1.000000</td>\n",
       "      <td>1.000000</td>\n",
       "      <td>1.000000</td>\n",
       "      <td>1.000000</td>\n",
       "      <td>NaN</td>\n",
       "      <td>NaN</td>\n",
       "      <td>NaN</td>\n",
       "    </tr>\n",
       "    <tr>\n",
       "      <th>25%</th>\n",
       "      <td>0.000000</td>\n",
       "      <td>0.000000</td>\n",
       "      <td>0.000000</td>\n",
       "      <td>0.000000</td>\n",
       "      <td>7.000000</td>\n",
       "      <td>184.137500</td>\n",
       "      <td>0.000000</td>\n",
       "      <td>0.014286</td>\n",
       "      <td>0.000000</td>\n",
       "      <td>0.000000</td>\n",
       "      <td>NaN</td>\n",
       "      <td>2.000000</td>\n",
       "      <td>2.000000</td>\n",
       "      <td>1.000000</td>\n",
       "      <td>2.000000</td>\n",
       "      <td>NaN</td>\n",
       "      <td>NaN</td>\n",
       "      <td>NaN</td>\n",
       "    </tr>\n",
       "    <tr>\n",
       "      <th>50%</th>\n",
       "      <td>1.000000</td>\n",
       "      <td>7.500000</td>\n",
       "      <td>0.000000</td>\n",
       "      <td>0.000000</td>\n",
       "      <td>18.000000</td>\n",
       "      <td>598.936905</td>\n",
       "      <td>0.003112</td>\n",
       "      <td>0.025156</td>\n",
       "      <td>0.000000</td>\n",
       "      <td>0.000000</td>\n",
       "      <td>NaN</td>\n",
       "      <td>2.000000</td>\n",
       "      <td>2.000000</td>\n",
       "      <td>3.000000</td>\n",
       "      <td>2.000000</td>\n",
       "      <td>NaN</td>\n",
       "      <td>NaN</td>\n",
       "      <td>NaN</td>\n",
       "    </tr>\n",
       "    <tr>\n",
       "      <th>75%</th>\n",
       "      <td>4.000000</td>\n",
       "      <td>93.256250</td>\n",
       "      <td>0.000000</td>\n",
       "      <td>0.000000</td>\n",
       "      <td>38.000000</td>\n",
       "      <td>1464.157214</td>\n",
       "      <td>0.016813</td>\n",
       "      <td>0.050000</td>\n",
       "      <td>0.000000</td>\n",
       "      <td>0.000000</td>\n",
       "      <td>NaN</td>\n",
       "      <td>3.000000</td>\n",
       "      <td>2.000000</td>\n",
       "      <td>4.000000</td>\n",
       "      <td>4.000000</td>\n",
       "      <td>NaN</td>\n",
       "      <td>NaN</td>\n",
       "      <td>NaN</td>\n",
       "    </tr>\n",
       "    <tr>\n",
       "      <th>max</th>\n",
       "      <td>27.000000</td>\n",
       "      <td>3398.750000</td>\n",
       "      <td>24.000000</td>\n",
       "      <td>2549.375000</td>\n",
       "      <td>705.000000</td>\n",
       "      <td>63973.522230</td>\n",
       "      <td>0.200000</td>\n",
       "      <td>0.200000</td>\n",
       "      <td>361.763742</td>\n",
       "      <td>1.000000</td>\n",
       "      <td>NaN</td>\n",
       "      <td>8.000000</td>\n",
       "      <td>13.000000</td>\n",
       "      <td>9.000000</td>\n",
       "      <td>20.000000</td>\n",
       "      <td>NaN</td>\n",
       "      <td>NaN</td>\n",
       "      <td>NaN</td>\n",
       "    </tr>\n",
       "  </tbody>\n",
       "</table>\n",
       "</div>"
      ]
     },
     "execution_count": 35,
     "metadata": {},
     "output_type": "execute_result"
    }
   ],
   "execution_count": 35
  },
  {
   "cell_type": "markdown",
   "id": "67c526a1fa33357c",
   "metadata": {},
   "source": [
    "Verhaaltje van ~1min"
   ]
  },
  {
   "cell_type": "code",
   "id": "619404bddacffcd3",
   "metadata": {
    "ExecuteTime": {
     "end_time": "2025-09-22T16:46:34.732854Z",
     "start_time": "2025-09-22T16:46:34.634738Z"
    }
   },
   "source": [
    "#visualisation\n",
    "# split the Browser 13 users from the rest\n",
    "frame13 = frame.loc[frame.Browser == 13]\n",
    "frameOther = frame.loc[frame.Browser != 13]\n",
    "\n",
    "import plotly.graph_objects as go\n",
    "# make a small dataframe with normalized data for plotting\n",
    "def create_distribution(frameColumn):\n",
    "    return pd.DataFrame({\n",
    "        'Browser 13': frame13[frameColumn].value_counts(normalize=True),\n",
    "        'Other browsers': frameOther[frameColumn].value_counts(normalize=True)\n",
    "    }).reset_index().rename(columns={'index': col})\n",
    "# plot all these columns\n",
    "for col in ['VisitorType', 'Region', 'Month']:\n",
    "    distribution = create_distribution(col)\n",
    "    fig = go.Figure()\n",
    "    fig.add_trace(go.Bar(x=distribution[col], y=distribution['Browser 13'], name='Browser 13'))\n",
    "    fig.add_trace(go.Bar(x=distribution[col], y=distribution['Other browsers'], name='Other browsers'))\n",
    "    fig.update_layout(barmode='group', title=f'{col} Distribution')\n",
    "    fig.show()"
   ],
   "outputs": [
    {
     "data": {
      "application/vnd.plotly.v1+json": {
       "data": [
        {
         "name": "Browser 13",
         "x": [
          "New_Visitor",
          "Other",
          "Returning_Visitor"
         ],
         "y": {
          "dtype": "f8",
          "bdata": "O9q8T3HJkD+f4pIhWEfrPzvavE9xycA/"
         },
         "type": "bar"
        },
        {
         "name": "Other browsers",
         "x": [
          "New_Visitor",
          "Other",
          "Returning_Visitor"
         ],
         "y": {
          "dtype": "f8",
          "bdata": "3UlcfaipwT/28yTJuAhmP5XI3yeNf+s/"
         },
         "type": "bar"
        }
       ],
       "layout": {
        "template": {
         "data": {
          "histogram2dcontour": [
           {
            "type": "histogram2dcontour",
            "colorbar": {
             "outlinewidth": 0,
             "ticks": ""
            },
            "colorscale": [
             [
              0.0,
              "#0d0887"
             ],
             [
              0.1111111111111111,
              "#46039f"
             ],
             [
              0.2222222222222222,
              "#7201a8"
             ],
             [
              0.3333333333333333,
              "#9c179e"
             ],
             [
              0.4444444444444444,
              "#bd3786"
             ],
             [
              0.5555555555555556,
              "#d8576b"
             ],
             [
              0.6666666666666666,
              "#ed7953"
             ],
             [
              0.7777777777777778,
              "#fb9f3a"
             ],
             [
              0.8888888888888888,
              "#fdca26"
             ],
             [
              1.0,
              "#f0f921"
             ]
            ]
           }
          ],
          "choropleth": [
           {
            "type": "choropleth",
            "colorbar": {
             "outlinewidth": 0,
             "ticks": ""
            }
           }
          ],
          "histogram2d": [
           {
            "type": "histogram2d",
            "colorbar": {
             "outlinewidth": 0,
             "ticks": ""
            },
            "colorscale": [
             [
              0.0,
              "#0d0887"
             ],
             [
              0.1111111111111111,
              "#46039f"
             ],
             [
              0.2222222222222222,
              "#7201a8"
             ],
             [
              0.3333333333333333,
              "#9c179e"
             ],
             [
              0.4444444444444444,
              "#bd3786"
             ],
             [
              0.5555555555555556,
              "#d8576b"
             ],
             [
              0.6666666666666666,
              "#ed7953"
             ],
             [
              0.7777777777777778,
              "#fb9f3a"
             ],
             [
              0.8888888888888888,
              "#fdca26"
             ],
             [
              1.0,
              "#f0f921"
             ]
            ]
           }
          ],
          "heatmap": [
           {
            "type": "heatmap",
            "colorbar": {
             "outlinewidth": 0,
             "ticks": ""
            },
            "colorscale": [
             [
              0.0,
              "#0d0887"
             ],
             [
              0.1111111111111111,
              "#46039f"
             ],
             [
              0.2222222222222222,
              "#7201a8"
             ],
             [
              0.3333333333333333,
              "#9c179e"
             ],
             [
              0.4444444444444444,
              "#bd3786"
             ],
             [
              0.5555555555555556,
              "#d8576b"
             ],
             [
              0.6666666666666666,
              "#ed7953"
             ],
             [
              0.7777777777777778,
              "#fb9f3a"
             ],
             [
              0.8888888888888888,
              "#fdca26"
             ],
             [
              1.0,
              "#f0f921"
             ]
            ]
           }
          ],
          "contourcarpet": [
           {
            "type": "contourcarpet",
            "colorbar": {
             "outlinewidth": 0,
             "ticks": ""
            }
           }
          ],
          "contour": [
           {
            "type": "contour",
            "colorbar": {
             "outlinewidth": 0,
             "ticks": ""
            },
            "colorscale": [
             [
              0.0,
              "#0d0887"
             ],
             [
              0.1111111111111111,
              "#46039f"
             ],
             [
              0.2222222222222222,
              "#7201a8"
             ],
             [
              0.3333333333333333,
              "#9c179e"
             ],
             [
              0.4444444444444444,
              "#bd3786"
             ],
             [
              0.5555555555555556,
              "#d8576b"
             ],
             [
              0.6666666666666666,
              "#ed7953"
             ],
             [
              0.7777777777777778,
              "#fb9f3a"
             ],
             [
              0.8888888888888888,
              "#fdca26"
             ],
             [
              1.0,
              "#f0f921"
             ]
            ]
           }
          ],
          "surface": [
           {
            "type": "surface",
            "colorbar": {
             "outlinewidth": 0,
             "ticks": ""
            },
            "colorscale": [
             [
              0.0,
              "#0d0887"
             ],
             [
              0.1111111111111111,
              "#46039f"
             ],
             [
              0.2222222222222222,
              "#7201a8"
             ],
             [
              0.3333333333333333,
              "#9c179e"
             ],
             [
              0.4444444444444444,
              "#bd3786"
             ],
             [
              0.5555555555555556,
              "#d8576b"
             ],
             [
              0.6666666666666666,
              "#ed7953"
             ],
             [
              0.7777777777777778,
              "#fb9f3a"
             ],
             [
              0.8888888888888888,
              "#fdca26"
             ],
             [
              1.0,
              "#f0f921"
             ]
            ]
           }
          ],
          "mesh3d": [
           {
            "type": "mesh3d",
            "colorbar": {
             "outlinewidth": 0,
             "ticks": ""
            }
           }
          ],
          "scatter": [
           {
            "marker": {
             "line": {
              "color": "#283442"
             }
            },
            "type": "scatter"
           }
          ],
          "parcoords": [
           {
            "type": "parcoords",
            "line": {
             "colorbar": {
              "outlinewidth": 0,
              "ticks": ""
             }
            }
           }
          ],
          "scatterpolargl": [
           {
            "type": "scatterpolargl",
            "marker": {
             "colorbar": {
              "outlinewidth": 0,
              "ticks": ""
             }
            }
           }
          ],
          "bar": [
           {
            "error_x": {
             "color": "#f2f5fa"
            },
            "error_y": {
             "color": "#f2f5fa"
            },
            "marker": {
             "line": {
              "color": "rgb(17,17,17)",
              "width": 0.5
             },
             "pattern": {
              "fillmode": "overlay",
              "size": 10,
              "solidity": 0.2
             }
            },
            "type": "bar"
           }
          ],
          "scattergeo": [
           {
            "type": "scattergeo",
            "marker": {
             "colorbar": {
              "outlinewidth": 0,
              "ticks": ""
             }
            }
           }
          ],
          "scatterpolar": [
           {
            "type": "scatterpolar",
            "marker": {
             "colorbar": {
              "outlinewidth": 0,
              "ticks": ""
             }
            }
           }
          ],
          "histogram": [
           {
            "marker": {
             "pattern": {
              "fillmode": "overlay",
              "size": 10,
              "solidity": 0.2
             }
            },
            "type": "histogram"
           }
          ],
          "scattergl": [
           {
            "marker": {
             "line": {
              "color": "#283442"
             }
            },
            "type": "scattergl"
           }
          ],
          "scatter3d": [
           {
            "type": "scatter3d",
            "line": {
             "colorbar": {
              "outlinewidth": 0,
              "ticks": ""
             }
            },
            "marker": {
             "colorbar": {
              "outlinewidth": 0,
              "ticks": ""
             }
            }
           }
          ],
          "scattermap": [
           {
            "type": "scattermap",
            "marker": {
             "colorbar": {
              "outlinewidth": 0,
              "ticks": ""
             }
            }
           }
          ],
          "scattermapbox": [
           {
            "type": "scattermapbox",
            "marker": {
             "colorbar": {
              "outlinewidth": 0,
              "ticks": ""
             }
            }
           }
          ],
          "scatterternary": [
           {
            "type": "scatterternary",
            "marker": {
             "colorbar": {
              "outlinewidth": 0,
              "ticks": ""
             }
            }
           }
          ],
          "scattercarpet": [
           {
            "type": "scattercarpet",
            "marker": {
             "colorbar": {
              "outlinewidth": 0,
              "ticks": ""
             }
            }
           }
          ],
          "carpet": [
           {
            "aaxis": {
             "endlinecolor": "#A2B1C6",
             "gridcolor": "#506784",
             "linecolor": "#506784",
             "minorgridcolor": "#506784",
             "startlinecolor": "#A2B1C6"
            },
            "baxis": {
             "endlinecolor": "#A2B1C6",
             "gridcolor": "#506784",
             "linecolor": "#506784",
             "minorgridcolor": "#506784",
             "startlinecolor": "#A2B1C6"
            },
            "type": "carpet"
           }
          ],
          "table": [
           {
            "cells": {
             "fill": {
              "color": "#506784"
             },
             "line": {
              "color": "rgb(17,17,17)"
             }
            },
            "header": {
             "fill": {
              "color": "#2a3f5f"
             },
             "line": {
              "color": "rgb(17,17,17)"
             }
            },
            "type": "table"
           }
          ],
          "barpolar": [
           {
            "marker": {
             "line": {
              "color": "rgb(17,17,17)",
              "width": 0.5
             },
             "pattern": {
              "fillmode": "overlay",
              "size": 10,
              "solidity": 0.2
             }
            },
            "type": "barpolar"
           }
          ],
          "pie": [
           {
            "automargin": true,
            "type": "pie"
           }
          ]
         },
         "layout": {
          "autotypenumbers": "strict",
          "colorway": [
           "#636efa",
           "#EF553B",
           "#00cc96",
           "#ab63fa",
           "#FFA15A",
           "#19d3f3",
           "#FF6692",
           "#B6E880",
           "#FF97FF",
           "#FECB52"
          ],
          "font": {
           "color": "#f2f5fa"
          },
          "hovermode": "closest",
          "hoverlabel": {
           "align": "left"
          },
          "paper_bgcolor": "rgb(17,17,17)",
          "plot_bgcolor": "rgb(17,17,17)",
          "polar": {
           "bgcolor": "rgb(17,17,17)",
           "angularaxis": {
            "gridcolor": "#506784",
            "linecolor": "#506784",
            "ticks": ""
           },
           "radialaxis": {
            "gridcolor": "#506784",
            "linecolor": "#506784",
            "ticks": ""
           }
          },
          "ternary": {
           "bgcolor": "rgb(17,17,17)",
           "aaxis": {
            "gridcolor": "#506784",
            "linecolor": "#506784",
            "ticks": ""
           },
           "baxis": {
            "gridcolor": "#506784",
            "linecolor": "#506784",
            "ticks": ""
           },
           "caxis": {
            "gridcolor": "#506784",
            "linecolor": "#506784",
            "ticks": ""
           }
          },
          "coloraxis": {
           "colorbar": {
            "outlinewidth": 0,
            "ticks": ""
           }
          },
          "colorscale": {
           "sequential": [
            [
             0.0,
             "#0d0887"
            ],
            [
             0.1111111111111111,
             "#46039f"
            ],
            [
             0.2222222222222222,
             "#7201a8"
            ],
            [
             0.3333333333333333,
             "#9c179e"
            ],
            [
             0.4444444444444444,
             "#bd3786"
            ],
            [
             0.5555555555555556,
             "#d8576b"
            ],
            [
             0.6666666666666666,
             "#ed7953"
            ],
            [
             0.7777777777777778,
             "#fb9f3a"
            ],
            [
             0.8888888888888888,
             "#fdca26"
            ],
            [
             1.0,
             "#f0f921"
            ]
           ],
           "sequentialminus": [
            [
             0.0,
             "#0d0887"
            ],
            [
             0.1111111111111111,
             "#46039f"
            ],
            [
             0.2222222222222222,
             "#7201a8"
            ],
            [
             0.3333333333333333,
             "#9c179e"
            ],
            [
             0.4444444444444444,
             "#bd3786"
            ],
            [
             0.5555555555555556,
             "#d8576b"
            ],
            [
             0.6666666666666666,
             "#ed7953"
            ],
            [
             0.7777777777777778,
             "#fb9f3a"
            ],
            [
             0.8888888888888888,
             "#fdca26"
            ],
            [
             1.0,
             "#f0f921"
            ]
           ],
           "diverging": [
            [
             0,
             "#8e0152"
            ],
            [
             0.1,
             "#c51b7d"
            ],
            [
             0.2,
             "#de77ae"
            ],
            [
             0.3,
             "#f1b6da"
            ],
            [
             0.4,
             "#fde0ef"
            ],
            [
             0.5,
             "#f7f7f7"
            ],
            [
             0.6,
             "#e6f5d0"
            ],
            [
             0.7,
             "#b8e186"
            ],
            [
             0.8,
             "#7fbc41"
            ],
            [
             0.9,
             "#4d9221"
            ],
            [
             1,
             "#276419"
            ]
           ]
          },
          "xaxis": {
           "gridcolor": "#283442",
           "linecolor": "#506784",
           "ticks": "",
           "title": {
            "standoff": 15
           },
           "zerolinecolor": "#283442",
           "automargin": true,
           "zerolinewidth": 2
          },
          "yaxis": {
           "gridcolor": "#283442",
           "linecolor": "#506784",
           "ticks": "",
           "title": {
            "standoff": 15
           },
           "zerolinecolor": "#283442",
           "automargin": true,
           "zerolinewidth": 2
          },
          "scene": {
           "xaxis": {
            "backgroundcolor": "rgb(17,17,17)",
            "gridcolor": "#506784",
            "linecolor": "#506784",
            "showbackground": true,
            "ticks": "",
            "zerolinecolor": "#C8D4E3",
            "gridwidth": 2
           },
           "yaxis": {
            "backgroundcolor": "rgb(17,17,17)",
            "gridcolor": "#506784",
            "linecolor": "#506784",
            "showbackground": true,
            "ticks": "",
            "zerolinecolor": "#C8D4E3",
            "gridwidth": 2
           },
           "zaxis": {
            "backgroundcolor": "rgb(17,17,17)",
            "gridcolor": "#506784",
            "linecolor": "#506784",
            "showbackground": true,
            "ticks": "",
            "zerolinecolor": "#C8D4E3",
            "gridwidth": 2
           }
          },
          "shapedefaults": {
           "line": {
            "color": "#f2f5fa"
           }
          },
          "annotationdefaults": {
           "arrowcolor": "#f2f5fa",
           "arrowhead": 0,
           "arrowwidth": 1
          },
          "geo": {
           "bgcolor": "rgb(17,17,17)",
           "landcolor": "rgb(17,17,17)",
           "subunitcolor": "#506784",
           "showland": true,
           "showlakes": true,
           "lakecolor": "rgb(17,17,17)"
          },
          "title": {
           "x": 0.05
          },
          "updatemenudefaults": {
           "bgcolor": "#506784",
           "borderwidth": 0
          },
          "sliderdefaults": {
           "bgcolor": "#C8D4E3",
           "borderwidth": 1,
           "bordercolor": "rgb(17,17,17)",
           "tickwidth": 0
          },
          "mapbox": {
           "style": "dark"
          }
         }
        },
        "barmode": "group",
        "title": {
         "text": "VisitorType Distribution"
        }
       },
       "config": {
        "plotlyServerURL": "https://plot.ly"
       }
      }
     },
     "metadata": {},
     "output_type": "display_data",
     "jetTransient": {
      "display_id": null
     }
    },
    {
     "data": {
      "application/vnd.plotly.v1+json": {
       "data": [
        {
         "name": "Browser 13",
         "x": {
          "dtype": "i1",
          "bdata": "AQIDBAUGBwgJ"
         },
         "y": {
          "dtype": "f8",
          "bdata": "AAAAAAAA+H8AAAAAAAD4fwAAAAAAAPh/AAAAAAAA+H8AAAAAAAD4fwAAAAAAAPh/AAAAAAAA+H8AAAAAAAD4fwAAAAAAAPA/"
         },
         "type": "bar"
        },
        {
         "name": "Other browsers",
         "x": {
          "dtype": "i1",
          "bdata": "AQIDBAUGBwgJ"
         },
         "y": {
          "dtype": "f8",
          "bdata": "fyaXBDTv2D9Ka1KaDLS3P2ULlm3sEck/tVyZMsOpuD/0gux9gYqaP8OA2Wj7y7A/3Jeaa+fBrz8itZOdgByiP3d+P/Fux6I/"
         },
         "type": "bar"
        }
       ],
       "layout": {
        "template": {
         "data": {
          "histogram2dcontour": [
           {
            "type": "histogram2dcontour",
            "colorbar": {
             "outlinewidth": 0,
             "ticks": ""
            },
            "colorscale": [
             [
              0.0,
              "#0d0887"
             ],
             [
              0.1111111111111111,
              "#46039f"
             ],
             [
              0.2222222222222222,
              "#7201a8"
             ],
             [
              0.3333333333333333,
              "#9c179e"
             ],
             [
              0.4444444444444444,
              "#bd3786"
             ],
             [
              0.5555555555555556,
              "#d8576b"
             ],
             [
              0.6666666666666666,
              "#ed7953"
             ],
             [
              0.7777777777777778,
              "#fb9f3a"
             ],
             [
              0.8888888888888888,
              "#fdca26"
             ],
             [
              1.0,
              "#f0f921"
             ]
            ]
           }
          ],
          "choropleth": [
           {
            "type": "choropleth",
            "colorbar": {
             "outlinewidth": 0,
             "ticks": ""
            }
           }
          ],
          "histogram2d": [
           {
            "type": "histogram2d",
            "colorbar": {
             "outlinewidth": 0,
             "ticks": ""
            },
            "colorscale": [
             [
              0.0,
              "#0d0887"
             ],
             [
              0.1111111111111111,
              "#46039f"
             ],
             [
              0.2222222222222222,
              "#7201a8"
             ],
             [
              0.3333333333333333,
              "#9c179e"
             ],
             [
              0.4444444444444444,
              "#bd3786"
             ],
             [
              0.5555555555555556,
              "#d8576b"
             ],
             [
              0.6666666666666666,
              "#ed7953"
             ],
             [
              0.7777777777777778,
              "#fb9f3a"
             ],
             [
              0.8888888888888888,
              "#fdca26"
             ],
             [
              1.0,
              "#f0f921"
             ]
            ]
           }
          ],
          "heatmap": [
           {
            "type": "heatmap",
            "colorbar": {
             "outlinewidth": 0,
             "ticks": ""
            },
            "colorscale": [
             [
              0.0,
              "#0d0887"
             ],
             [
              0.1111111111111111,
              "#46039f"
             ],
             [
              0.2222222222222222,
              "#7201a8"
             ],
             [
              0.3333333333333333,
              "#9c179e"
             ],
             [
              0.4444444444444444,
              "#bd3786"
             ],
             [
              0.5555555555555556,
              "#d8576b"
             ],
             [
              0.6666666666666666,
              "#ed7953"
             ],
             [
              0.7777777777777778,
              "#fb9f3a"
             ],
             [
              0.8888888888888888,
              "#fdca26"
             ],
             [
              1.0,
              "#f0f921"
             ]
            ]
           }
          ],
          "contourcarpet": [
           {
            "type": "contourcarpet",
            "colorbar": {
             "outlinewidth": 0,
             "ticks": ""
            }
           }
          ],
          "contour": [
           {
            "type": "contour",
            "colorbar": {
             "outlinewidth": 0,
             "ticks": ""
            },
            "colorscale": [
             [
              0.0,
              "#0d0887"
             ],
             [
              0.1111111111111111,
              "#46039f"
             ],
             [
              0.2222222222222222,
              "#7201a8"
             ],
             [
              0.3333333333333333,
              "#9c179e"
             ],
             [
              0.4444444444444444,
              "#bd3786"
             ],
             [
              0.5555555555555556,
              "#d8576b"
             ],
             [
              0.6666666666666666,
              "#ed7953"
             ],
             [
              0.7777777777777778,
              "#fb9f3a"
             ],
             [
              0.8888888888888888,
              "#fdca26"
             ],
             [
              1.0,
              "#f0f921"
             ]
            ]
           }
          ],
          "surface": [
           {
            "type": "surface",
            "colorbar": {
             "outlinewidth": 0,
             "ticks": ""
            },
            "colorscale": [
             [
              0.0,
              "#0d0887"
             ],
             [
              0.1111111111111111,
              "#46039f"
             ],
             [
              0.2222222222222222,
              "#7201a8"
             ],
             [
              0.3333333333333333,
              "#9c179e"
             ],
             [
              0.4444444444444444,
              "#bd3786"
             ],
             [
              0.5555555555555556,
              "#d8576b"
             ],
             [
              0.6666666666666666,
              "#ed7953"
             ],
             [
              0.7777777777777778,
              "#fb9f3a"
             ],
             [
              0.8888888888888888,
              "#fdca26"
             ],
             [
              1.0,
              "#f0f921"
             ]
            ]
           }
          ],
          "mesh3d": [
           {
            "type": "mesh3d",
            "colorbar": {
             "outlinewidth": 0,
             "ticks": ""
            }
           }
          ],
          "scatter": [
           {
            "marker": {
             "line": {
              "color": "#283442"
             }
            },
            "type": "scatter"
           }
          ],
          "parcoords": [
           {
            "type": "parcoords",
            "line": {
             "colorbar": {
              "outlinewidth": 0,
              "ticks": ""
             }
            }
           }
          ],
          "scatterpolargl": [
           {
            "type": "scatterpolargl",
            "marker": {
             "colorbar": {
              "outlinewidth": 0,
              "ticks": ""
             }
            }
           }
          ],
          "bar": [
           {
            "error_x": {
             "color": "#f2f5fa"
            },
            "error_y": {
             "color": "#f2f5fa"
            },
            "marker": {
             "line": {
              "color": "rgb(17,17,17)",
              "width": 0.5
             },
             "pattern": {
              "fillmode": "overlay",
              "size": 10,
              "solidity": 0.2
             }
            },
            "type": "bar"
           }
          ],
          "scattergeo": [
           {
            "type": "scattergeo",
            "marker": {
             "colorbar": {
              "outlinewidth": 0,
              "ticks": ""
             }
            }
           }
          ],
          "scatterpolar": [
           {
            "type": "scatterpolar",
            "marker": {
             "colorbar": {
              "outlinewidth": 0,
              "ticks": ""
             }
            }
           }
          ],
          "histogram": [
           {
            "marker": {
             "pattern": {
              "fillmode": "overlay",
              "size": 10,
              "solidity": 0.2
             }
            },
            "type": "histogram"
           }
          ],
          "scattergl": [
           {
            "marker": {
             "line": {
              "color": "#283442"
             }
            },
            "type": "scattergl"
           }
          ],
          "scatter3d": [
           {
            "type": "scatter3d",
            "line": {
             "colorbar": {
              "outlinewidth": 0,
              "ticks": ""
             }
            },
            "marker": {
             "colorbar": {
              "outlinewidth": 0,
              "ticks": ""
             }
            }
           }
          ],
          "scattermap": [
           {
            "type": "scattermap",
            "marker": {
             "colorbar": {
              "outlinewidth": 0,
              "ticks": ""
             }
            }
           }
          ],
          "scattermapbox": [
           {
            "type": "scattermapbox",
            "marker": {
             "colorbar": {
              "outlinewidth": 0,
              "ticks": ""
             }
            }
           }
          ],
          "scatterternary": [
           {
            "type": "scatterternary",
            "marker": {
             "colorbar": {
              "outlinewidth": 0,
              "ticks": ""
             }
            }
           }
          ],
          "scattercarpet": [
           {
            "type": "scattercarpet",
            "marker": {
             "colorbar": {
              "outlinewidth": 0,
              "ticks": ""
             }
            }
           }
          ],
          "carpet": [
           {
            "aaxis": {
             "endlinecolor": "#A2B1C6",
             "gridcolor": "#506784",
             "linecolor": "#506784",
             "minorgridcolor": "#506784",
             "startlinecolor": "#A2B1C6"
            },
            "baxis": {
             "endlinecolor": "#A2B1C6",
             "gridcolor": "#506784",
             "linecolor": "#506784",
             "minorgridcolor": "#506784",
             "startlinecolor": "#A2B1C6"
            },
            "type": "carpet"
           }
          ],
          "table": [
           {
            "cells": {
             "fill": {
              "color": "#506784"
             },
             "line": {
              "color": "rgb(17,17,17)"
             }
            },
            "header": {
             "fill": {
              "color": "#2a3f5f"
             },
             "line": {
              "color": "rgb(17,17,17)"
             }
            },
            "type": "table"
           }
          ],
          "barpolar": [
           {
            "marker": {
             "line": {
              "color": "rgb(17,17,17)",
              "width": 0.5
             },
             "pattern": {
              "fillmode": "overlay",
              "size": 10,
              "solidity": 0.2
             }
            },
            "type": "barpolar"
           }
          ],
          "pie": [
           {
            "automargin": true,
            "type": "pie"
           }
          ]
         },
         "layout": {
          "autotypenumbers": "strict",
          "colorway": [
           "#636efa",
           "#EF553B",
           "#00cc96",
           "#ab63fa",
           "#FFA15A",
           "#19d3f3",
           "#FF6692",
           "#B6E880",
           "#FF97FF",
           "#FECB52"
          ],
          "font": {
           "color": "#f2f5fa"
          },
          "hovermode": "closest",
          "hoverlabel": {
           "align": "left"
          },
          "paper_bgcolor": "rgb(17,17,17)",
          "plot_bgcolor": "rgb(17,17,17)",
          "polar": {
           "bgcolor": "rgb(17,17,17)",
           "angularaxis": {
            "gridcolor": "#506784",
            "linecolor": "#506784",
            "ticks": ""
           },
           "radialaxis": {
            "gridcolor": "#506784",
            "linecolor": "#506784",
            "ticks": ""
           }
          },
          "ternary": {
           "bgcolor": "rgb(17,17,17)",
           "aaxis": {
            "gridcolor": "#506784",
            "linecolor": "#506784",
            "ticks": ""
           },
           "baxis": {
            "gridcolor": "#506784",
            "linecolor": "#506784",
            "ticks": ""
           },
           "caxis": {
            "gridcolor": "#506784",
            "linecolor": "#506784",
            "ticks": ""
           }
          },
          "coloraxis": {
           "colorbar": {
            "outlinewidth": 0,
            "ticks": ""
           }
          },
          "colorscale": {
           "sequential": [
            [
             0.0,
             "#0d0887"
            ],
            [
             0.1111111111111111,
             "#46039f"
            ],
            [
             0.2222222222222222,
             "#7201a8"
            ],
            [
             0.3333333333333333,
             "#9c179e"
            ],
            [
             0.4444444444444444,
             "#bd3786"
            ],
            [
             0.5555555555555556,
             "#d8576b"
            ],
            [
             0.6666666666666666,
             "#ed7953"
            ],
            [
             0.7777777777777778,
             "#fb9f3a"
            ],
            [
             0.8888888888888888,
             "#fdca26"
            ],
            [
             1.0,
             "#f0f921"
            ]
           ],
           "sequentialminus": [
            [
             0.0,
             "#0d0887"
            ],
            [
             0.1111111111111111,
             "#46039f"
            ],
            [
             0.2222222222222222,
             "#7201a8"
            ],
            [
             0.3333333333333333,
             "#9c179e"
            ],
            [
             0.4444444444444444,
             "#bd3786"
            ],
            [
             0.5555555555555556,
             "#d8576b"
            ],
            [
             0.6666666666666666,
             "#ed7953"
            ],
            [
             0.7777777777777778,
             "#fb9f3a"
            ],
            [
             0.8888888888888888,
             "#fdca26"
            ],
            [
             1.0,
             "#f0f921"
            ]
           ],
           "diverging": [
            [
             0,
             "#8e0152"
            ],
            [
             0.1,
             "#c51b7d"
            ],
            [
             0.2,
             "#de77ae"
            ],
            [
             0.3,
             "#f1b6da"
            ],
            [
             0.4,
             "#fde0ef"
            ],
            [
             0.5,
             "#f7f7f7"
            ],
            [
             0.6,
             "#e6f5d0"
            ],
            [
             0.7,
             "#b8e186"
            ],
            [
             0.8,
             "#7fbc41"
            ],
            [
             0.9,
             "#4d9221"
            ],
            [
             1,
             "#276419"
            ]
           ]
          },
          "xaxis": {
           "gridcolor": "#283442",
           "linecolor": "#506784",
           "ticks": "",
           "title": {
            "standoff": 15
           },
           "zerolinecolor": "#283442",
           "automargin": true,
           "zerolinewidth": 2
          },
          "yaxis": {
           "gridcolor": "#283442",
           "linecolor": "#506784",
           "ticks": "",
           "title": {
            "standoff": 15
           },
           "zerolinecolor": "#283442",
           "automargin": true,
           "zerolinewidth": 2
          },
          "scene": {
           "xaxis": {
            "backgroundcolor": "rgb(17,17,17)",
            "gridcolor": "#506784",
            "linecolor": "#506784",
            "showbackground": true,
            "ticks": "",
            "zerolinecolor": "#C8D4E3",
            "gridwidth": 2
           },
           "yaxis": {
            "backgroundcolor": "rgb(17,17,17)",
            "gridcolor": "#506784",
            "linecolor": "#506784",
            "showbackground": true,
            "ticks": "",
            "zerolinecolor": "#C8D4E3",
            "gridwidth": 2
           },
           "zaxis": {
            "backgroundcolor": "rgb(17,17,17)",
            "gridcolor": "#506784",
            "linecolor": "#506784",
            "showbackground": true,
            "ticks": "",
            "zerolinecolor": "#C8D4E3",
            "gridwidth": 2
           }
          },
          "shapedefaults": {
           "line": {
            "color": "#f2f5fa"
           }
          },
          "annotationdefaults": {
           "arrowcolor": "#f2f5fa",
           "arrowhead": 0,
           "arrowwidth": 1
          },
          "geo": {
           "bgcolor": "rgb(17,17,17)",
           "landcolor": "rgb(17,17,17)",
           "subunitcolor": "#506784",
           "showland": true,
           "showlakes": true,
           "lakecolor": "rgb(17,17,17)"
          },
          "title": {
           "x": 0.05
          },
          "updatemenudefaults": {
           "bgcolor": "#506784",
           "borderwidth": 0
          },
          "sliderdefaults": {
           "bgcolor": "#C8D4E3",
           "borderwidth": 1,
           "bordercolor": "rgb(17,17,17)",
           "tickwidth": 0
          },
          "mapbox": {
           "style": "dark"
          }
         }
        },
        "barmode": "group",
        "title": {
         "text": "Region Distribution"
        }
       },
       "config": {
        "plotlyServerURL": "https://plot.ly"
       }
      }
     },
     "metadata": {},
     "output_type": "display_data",
     "jetTransient": {
      "display_id": null
     }
    },
    {
     "data": {
      "application/vnd.plotly.v1+json": {
       "data": [
        {
         "name": "Browser 13",
         "x": [
          "Aug",
          "Dec",
          "Feb",
          "Jul",
          "June",
          "Mar",
          "May",
          "Nov",
          "Oct",
          "Sep"
         ],
         "y": {
          "dtype": "f8",
          "bdata": "AAAAAAAA+H/nfYpLhmDtPwAAAAAAAPh/AAAAAAAA+H872rxPccmQPwAAAAAAAPh/AAAAAAAA+H872rxPccmwPwAAAAAAAPh/AAAAAAAA+H8="
         },
         "type": "bar"
        },
        {
         "name": "Other browsers",
         "x": [
          "Aug",
          "Dec",
          "Feb",
          "Jul",
          "June",
          "Mar",
          "May",
          "Nov",
          "Oct",
          "Sep"
         ],
         "y": {
          "dtype": "f8",
          "bdata": "jfhYuNERoj+oPJmQ5m7BP0ct3gjTto4/+Dse0yIHoj/K1rL5JfSXPxKzImU15cM/Q8P6hkeM0T+SYjw6XTzPPzVs9pYR6aY/TQXKJhGyoj8="
         },
         "type": "bar"
        }
       ],
       "layout": {
        "template": {
         "data": {
          "histogram2dcontour": [
           {
            "type": "histogram2dcontour",
            "colorbar": {
             "outlinewidth": 0,
             "ticks": ""
            },
            "colorscale": [
             [
              0.0,
              "#0d0887"
             ],
             [
              0.1111111111111111,
              "#46039f"
             ],
             [
              0.2222222222222222,
              "#7201a8"
             ],
             [
              0.3333333333333333,
              "#9c179e"
             ],
             [
              0.4444444444444444,
              "#bd3786"
             ],
             [
              0.5555555555555556,
              "#d8576b"
             ],
             [
              0.6666666666666666,
              "#ed7953"
             ],
             [
              0.7777777777777778,
              "#fb9f3a"
             ],
             [
              0.8888888888888888,
              "#fdca26"
             ],
             [
              1.0,
              "#f0f921"
             ]
            ]
           }
          ],
          "choropleth": [
           {
            "type": "choropleth",
            "colorbar": {
             "outlinewidth": 0,
             "ticks": ""
            }
           }
          ],
          "histogram2d": [
           {
            "type": "histogram2d",
            "colorbar": {
             "outlinewidth": 0,
             "ticks": ""
            },
            "colorscale": [
             [
              0.0,
              "#0d0887"
             ],
             [
              0.1111111111111111,
              "#46039f"
             ],
             [
              0.2222222222222222,
              "#7201a8"
             ],
             [
              0.3333333333333333,
              "#9c179e"
             ],
             [
              0.4444444444444444,
              "#bd3786"
             ],
             [
              0.5555555555555556,
              "#d8576b"
             ],
             [
              0.6666666666666666,
              "#ed7953"
             ],
             [
              0.7777777777777778,
              "#fb9f3a"
             ],
             [
              0.8888888888888888,
              "#fdca26"
             ],
             [
              1.0,
              "#f0f921"
             ]
            ]
           }
          ],
          "heatmap": [
           {
            "type": "heatmap",
            "colorbar": {
             "outlinewidth": 0,
             "ticks": ""
            },
            "colorscale": [
             [
              0.0,
              "#0d0887"
             ],
             [
              0.1111111111111111,
              "#46039f"
             ],
             [
              0.2222222222222222,
              "#7201a8"
             ],
             [
              0.3333333333333333,
              "#9c179e"
             ],
             [
              0.4444444444444444,
              "#bd3786"
             ],
             [
              0.5555555555555556,
              "#d8576b"
             ],
             [
              0.6666666666666666,
              "#ed7953"
             ],
             [
              0.7777777777777778,
              "#fb9f3a"
             ],
             [
              0.8888888888888888,
              "#fdca26"
             ],
             [
              1.0,
              "#f0f921"
             ]
            ]
           }
          ],
          "contourcarpet": [
           {
            "type": "contourcarpet",
            "colorbar": {
             "outlinewidth": 0,
             "ticks": ""
            }
           }
          ],
          "contour": [
           {
            "type": "contour",
            "colorbar": {
             "outlinewidth": 0,
             "ticks": ""
            },
            "colorscale": [
             [
              0.0,
              "#0d0887"
             ],
             [
              0.1111111111111111,
              "#46039f"
             ],
             [
              0.2222222222222222,
              "#7201a8"
             ],
             [
              0.3333333333333333,
              "#9c179e"
             ],
             [
              0.4444444444444444,
              "#bd3786"
             ],
             [
              0.5555555555555556,
              "#d8576b"
             ],
             [
              0.6666666666666666,
              "#ed7953"
             ],
             [
              0.7777777777777778,
              "#fb9f3a"
             ],
             [
              0.8888888888888888,
              "#fdca26"
             ],
             [
              1.0,
              "#f0f921"
             ]
            ]
           }
          ],
          "surface": [
           {
            "type": "surface",
            "colorbar": {
             "outlinewidth": 0,
             "ticks": ""
            },
            "colorscale": [
             [
              0.0,
              "#0d0887"
             ],
             [
              0.1111111111111111,
              "#46039f"
             ],
             [
              0.2222222222222222,
              "#7201a8"
             ],
             [
              0.3333333333333333,
              "#9c179e"
             ],
             [
              0.4444444444444444,
              "#bd3786"
             ],
             [
              0.5555555555555556,
              "#d8576b"
             ],
             [
              0.6666666666666666,
              "#ed7953"
             ],
             [
              0.7777777777777778,
              "#fb9f3a"
             ],
             [
              0.8888888888888888,
              "#fdca26"
             ],
             [
              1.0,
              "#f0f921"
             ]
            ]
           }
          ],
          "mesh3d": [
           {
            "type": "mesh3d",
            "colorbar": {
             "outlinewidth": 0,
             "ticks": ""
            }
           }
          ],
          "scatter": [
           {
            "marker": {
             "line": {
              "color": "#283442"
             }
            },
            "type": "scatter"
           }
          ],
          "parcoords": [
           {
            "type": "parcoords",
            "line": {
             "colorbar": {
              "outlinewidth": 0,
              "ticks": ""
             }
            }
           }
          ],
          "scatterpolargl": [
           {
            "type": "scatterpolargl",
            "marker": {
             "colorbar": {
              "outlinewidth": 0,
              "ticks": ""
             }
            }
           }
          ],
          "bar": [
           {
            "error_x": {
             "color": "#f2f5fa"
            },
            "error_y": {
             "color": "#f2f5fa"
            },
            "marker": {
             "line": {
              "color": "rgb(17,17,17)",
              "width": 0.5
             },
             "pattern": {
              "fillmode": "overlay",
              "size": 10,
              "solidity": 0.2
             }
            },
            "type": "bar"
           }
          ],
          "scattergeo": [
           {
            "type": "scattergeo",
            "marker": {
             "colorbar": {
              "outlinewidth": 0,
              "ticks": ""
             }
            }
           }
          ],
          "scatterpolar": [
           {
            "type": "scatterpolar",
            "marker": {
             "colorbar": {
              "outlinewidth": 0,
              "ticks": ""
             }
            }
           }
          ],
          "histogram": [
           {
            "marker": {
             "pattern": {
              "fillmode": "overlay",
              "size": 10,
              "solidity": 0.2
             }
            },
            "type": "histogram"
           }
          ],
          "scattergl": [
           {
            "marker": {
             "line": {
              "color": "#283442"
             }
            },
            "type": "scattergl"
           }
          ],
          "scatter3d": [
           {
            "type": "scatter3d",
            "line": {
             "colorbar": {
              "outlinewidth": 0,
              "ticks": ""
             }
            },
            "marker": {
             "colorbar": {
              "outlinewidth": 0,
              "ticks": ""
             }
            }
           }
          ],
          "scattermap": [
           {
            "type": "scattermap",
            "marker": {
             "colorbar": {
              "outlinewidth": 0,
              "ticks": ""
             }
            }
           }
          ],
          "scattermapbox": [
           {
            "type": "scattermapbox",
            "marker": {
             "colorbar": {
              "outlinewidth": 0,
              "ticks": ""
             }
            }
           }
          ],
          "scatterternary": [
           {
            "type": "scatterternary",
            "marker": {
             "colorbar": {
              "outlinewidth": 0,
              "ticks": ""
             }
            }
           }
          ],
          "scattercarpet": [
           {
            "type": "scattercarpet",
            "marker": {
             "colorbar": {
              "outlinewidth": 0,
              "ticks": ""
             }
            }
           }
          ],
          "carpet": [
           {
            "aaxis": {
             "endlinecolor": "#A2B1C6",
             "gridcolor": "#506784",
             "linecolor": "#506784",
             "minorgridcolor": "#506784",
             "startlinecolor": "#A2B1C6"
            },
            "baxis": {
             "endlinecolor": "#A2B1C6",
             "gridcolor": "#506784",
             "linecolor": "#506784",
             "minorgridcolor": "#506784",
             "startlinecolor": "#A2B1C6"
            },
            "type": "carpet"
           }
          ],
          "table": [
           {
            "cells": {
             "fill": {
              "color": "#506784"
             },
             "line": {
              "color": "rgb(17,17,17)"
             }
            },
            "header": {
             "fill": {
              "color": "#2a3f5f"
             },
             "line": {
              "color": "rgb(17,17,17)"
             }
            },
            "type": "table"
           }
          ],
          "barpolar": [
           {
            "marker": {
             "line": {
              "color": "rgb(17,17,17)",
              "width": 0.5
             },
             "pattern": {
              "fillmode": "overlay",
              "size": 10,
              "solidity": 0.2
             }
            },
            "type": "barpolar"
           }
          ],
          "pie": [
           {
            "automargin": true,
            "type": "pie"
           }
          ]
         },
         "layout": {
          "autotypenumbers": "strict",
          "colorway": [
           "#636efa",
           "#EF553B",
           "#00cc96",
           "#ab63fa",
           "#FFA15A",
           "#19d3f3",
           "#FF6692",
           "#B6E880",
           "#FF97FF",
           "#FECB52"
          ],
          "font": {
           "color": "#f2f5fa"
          },
          "hovermode": "closest",
          "hoverlabel": {
           "align": "left"
          },
          "paper_bgcolor": "rgb(17,17,17)",
          "plot_bgcolor": "rgb(17,17,17)",
          "polar": {
           "bgcolor": "rgb(17,17,17)",
           "angularaxis": {
            "gridcolor": "#506784",
            "linecolor": "#506784",
            "ticks": ""
           },
           "radialaxis": {
            "gridcolor": "#506784",
            "linecolor": "#506784",
            "ticks": ""
           }
          },
          "ternary": {
           "bgcolor": "rgb(17,17,17)",
           "aaxis": {
            "gridcolor": "#506784",
            "linecolor": "#506784",
            "ticks": ""
           },
           "baxis": {
            "gridcolor": "#506784",
            "linecolor": "#506784",
            "ticks": ""
           },
           "caxis": {
            "gridcolor": "#506784",
            "linecolor": "#506784",
            "ticks": ""
           }
          },
          "coloraxis": {
           "colorbar": {
            "outlinewidth": 0,
            "ticks": ""
           }
          },
          "colorscale": {
           "sequential": [
            [
             0.0,
             "#0d0887"
            ],
            [
             0.1111111111111111,
             "#46039f"
            ],
            [
             0.2222222222222222,
             "#7201a8"
            ],
            [
             0.3333333333333333,
             "#9c179e"
            ],
            [
             0.4444444444444444,
             "#bd3786"
            ],
            [
             0.5555555555555556,
             "#d8576b"
            ],
            [
             0.6666666666666666,
             "#ed7953"
            ],
            [
             0.7777777777777778,
             "#fb9f3a"
            ],
            [
             0.8888888888888888,
             "#fdca26"
            ],
            [
             1.0,
             "#f0f921"
            ]
           ],
           "sequentialminus": [
            [
             0.0,
             "#0d0887"
            ],
            [
             0.1111111111111111,
             "#46039f"
            ],
            [
             0.2222222222222222,
             "#7201a8"
            ],
            [
             0.3333333333333333,
             "#9c179e"
            ],
            [
             0.4444444444444444,
             "#bd3786"
            ],
            [
             0.5555555555555556,
             "#d8576b"
            ],
            [
             0.6666666666666666,
             "#ed7953"
            ],
            [
             0.7777777777777778,
             "#fb9f3a"
            ],
            [
             0.8888888888888888,
             "#fdca26"
            ],
            [
             1.0,
             "#f0f921"
            ]
           ],
           "diverging": [
            [
             0,
             "#8e0152"
            ],
            [
             0.1,
             "#c51b7d"
            ],
            [
             0.2,
             "#de77ae"
            ],
            [
             0.3,
             "#f1b6da"
            ],
            [
             0.4,
             "#fde0ef"
            ],
            [
             0.5,
             "#f7f7f7"
            ],
            [
             0.6,
             "#e6f5d0"
            ],
            [
             0.7,
             "#b8e186"
            ],
            [
             0.8,
             "#7fbc41"
            ],
            [
             0.9,
             "#4d9221"
            ],
            [
             1,
             "#276419"
            ]
           ]
          },
          "xaxis": {
           "gridcolor": "#283442",
           "linecolor": "#506784",
           "ticks": "",
           "title": {
            "standoff": 15
           },
           "zerolinecolor": "#283442",
           "automargin": true,
           "zerolinewidth": 2
          },
          "yaxis": {
           "gridcolor": "#283442",
           "linecolor": "#506784",
           "ticks": "",
           "title": {
            "standoff": 15
           },
           "zerolinecolor": "#283442",
           "automargin": true,
           "zerolinewidth": 2
          },
          "scene": {
           "xaxis": {
            "backgroundcolor": "rgb(17,17,17)",
            "gridcolor": "#506784",
            "linecolor": "#506784",
            "showbackground": true,
            "ticks": "",
            "zerolinecolor": "#C8D4E3",
            "gridwidth": 2
           },
           "yaxis": {
            "backgroundcolor": "rgb(17,17,17)",
            "gridcolor": "#506784",
            "linecolor": "#506784",
            "showbackground": true,
            "ticks": "",
            "zerolinecolor": "#C8D4E3",
            "gridwidth": 2
           },
           "zaxis": {
            "backgroundcolor": "rgb(17,17,17)",
            "gridcolor": "#506784",
            "linecolor": "#506784",
            "showbackground": true,
            "ticks": "",
            "zerolinecolor": "#C8D4E3",
            "gridwidth": 2
           }
          },
          "shapedefaults": {
           "line": {
            "color": "#f2f5fa"
           }
          },
          "annotationdefaults": {
           "arrowcolor": "#f2f5fa",
           "arrowhead": 0,
           "arrowwidth": 1
          },
          "geo": {
           "bgcolor": "rgb(17,17,17)",
           "landcolor": "rgb(17,17,17)",
           "subunitcolor": "#506784",
           "showland": true,
           "showlakes": true,
           "lakecolor": "rgb(17,17,17)"
          },
          "title": {
           "x": 0.05
          },
          "updatemenudefaults": {
           "bgcolor": "#506784",
           "borderwidth": 0
          },
          "sliderdefaults": {
           "bgcolor": "#C8D4E3",
           "borderwidth": 1,
           "bordercolor": "rgb(17,17,17)",
           "tickwidth": 0
          },
          "mapbox": {
           "style": "dark"
          }
         }
        },
        "barmode": "group",
        "title": {
         "text": "Month Distribution"
        }
       },
       "config": {
        "plotlyServerURL": "https://plot.ly"
       }
      }
     },
     "metadata": {},
     "output_type": "display_data",
     "jetTransient": {
      "display_id": null
     }
    }
   ],
   "execution_count": 36
  },
  {
   "cell_type": "markdown",
   "id": "e1d6f54fce662810",
   "metadata": {},
   "source": [
    "Task 2"
   ]
  },
  {
   "cell_type": "code",
   "id": "b3be118550c59a04",
   "metadata": {
    "ExecuteTime": {
     "end_time": "2025-09-22T16:46:35.002494Z",
     "start_time": "2025-09-22T16:46:34.830478Z"
    }
   },
   "source": [
    "#Prepositioning op basis van algoritmes in task 3\n",
    "# Preprocess using dropna AND change all string types to an integer\n",
    "def Month_to_num(x):\n",
    "    months = {\n",
    "        \"Jan\": 1, \"Feb\": 2, \"Mar\": 3, \"Apr\": 4,\n",
    "        \"May\": 5, \"June\": 6, \"Jul\": 7, \"Aug\": 8,\n",
    "        \"Sep\": 9, \"Oct\": 10, \"Nov\": 11, \"Dec\": 12, \"Returning_Visitor\": 1, \"Old_Visitor\": 2, \"New_Visitor\": 3, \"Other\": 4, True: 1, False: 0}\n",
    "    if x not in months:\n",
    "        raise ValueError(f\"Invalid month string: {x}\")\n",
    "    return months[x]\n",
    "\n",
    "\n",
    "addlist = []\n",
    "preprocessed = (frame.copy().dropna())\n",
    "for i, j in enumerate(preprocessed['Month']):\n",
    "    addlist.append(Month_to_num(j))\n",
    "preprocessed['Month'] = addlist\n",
    "\n",
    "addlist = []\n",
    "for i, j in enumerate(preprocessed['VisitorType']):\n",
    "    addlist.append(Month_to_num(j))\n",
    "preprocessed['VisitorType'] = addlist\n",
    "\n",
    "addlist = []\n",
    "for i, j in enumerate(preprocessed['Weekend']):\n",
    "    addlist.append(Month_to_num(j))\n",
    "preprocessed['Weekend'] = addlist\n",
    "\n",
    "addlist = []\n",
    "for i, j in enumerate(preprocessed['Revenue']):\n",
    "    addlist.append(Month_to_num(j))\n",
    "preprocessed['Revenue'] = addlist\n",
    "\n",
    "for i in preprocessed.columns:\n",
    "    preprocessed[i] = pd.to_numeric(preprocessed[i], errors='raise')\n",
    "\n",
    "preprocessed = (preprocessed-preprocessed.min())/preprocessed.max()-preprocessed.min()\n",
    "print(preprocessed)\n",
    "\n",
    "\n"
   ],
   "outputs": [
    {
     "name": "stdout",
     "output_type": "stream",
     "text": [
      "       Administrative  Administrative_Duration  Informational  \\\n",
      "0            0.000000                 0.000000            0.0   \n",
      "1            0.000000                 0.000000            0.0   \n",
      "2            0.000000                 0.000000            0.0   \n",
      "3            0.000000                 0.000000            0.0   \n",
      "4            0.000000                 0.000000            0.0   \n",
      "...               ...                      ...            ...   \n",
      "12325        0.111111                 0.042663            0.0   \n",
      "12326        0.000000                 0.000000            0.0   \n",
      "12327        0.000000                 0.000000            0.0   \n",
      "12328        0.148148                 0.022067            0.0   \n",
      "12329        0.000000                 0.000000            0.0   \n",
      "\n",
      "       Informational_Duration  ProductRelated  ProductRelated_Duration  \\\n",
      "0                         0.0        0.001418                 0.000000   \n",
      "1                         0.0        0.002837                 0.001000   \n",
      "2                         0.0        0.001418                 0.000000   \n",
      "3                         0.0        0.002837                 0.000042   \n",
      "4                         0.0        0.014184                 0.009809   \n",
      "...                       ...             ...                      ...   \n",
      "12325                     0.0        0.075177                 0.027883   \n",
      "12326                     0.0        0.007092                 0.007280   \n",
      "12327                     0.0        0.008511                 0.002880   \n",
      "12328                     0.0        0.021277                 0.005408   \n",
      "12329                     0.0        0.004255                 0.000332   \n",
      "\n",
      "       BounceRates  ExitRates  PageValues  SpecialDay     Month  \\\n",
      "0         1.000000   1.000000    0.000000         0.0 -2.000000   \n",
      "1         0.000000   0.500000    0.000000         0.0 -2.000000   \n",
      "2         1.000000   1.000000    0.000000         0.0 -2.000000   \n",
      "3         0.250000   0.700000    0.000000         0.0 -2.000000   \n",
      "4         0.100000   0.250000    0.000000         0.0 -2.000000   \n",
      "...            ...        ...         ...         ...       ...   \n",
      "12325     0.035714   0.145153    0.033839         0.0 -1.166667   \n",
      "12326     0.000000   0.106667    0.000000         0.0 -1.250000   \n",
      "12327     0.416667   0.433333    0.000000         0.0 -1.250000   \n",
      "12328     0.000000   0.105263    0.000000         0.0 -1.250000   \n",
      "12329     0.000000   0.333333    0.000000         0.0 -1.250000   \n",
      "\n",
      "       OperatingSystems   Browser    Region  TrafficType  VisitorType  \\\n",
      "0                -1.000 -1.000000 -1.000000        -1.00         -1.0   \n",
      "1                -0.875 -0.923077 -1.000000        -0.95         -1.0   \n",
      "2                -0.625 -1.000000 -0.111111        -0.90         -1.0   \n",
      "3                -0.750 -0.923077 -0.888889        -0.85         -1.0   \n",
      "4                -0.750 -0.846154 -1.000000        -0.85         -1.0   \n",
      "...                 ...       ...       ...          ...          ...   \n",
      "12325            -0.625 -0.615385 -1.000000        -1.00         -1.0   \n",
      "12326            -0.750 -0.923077 -1.000000        -0.65         -1.0   \n",
      "12327            -0.750 -0.923077 -1.000000        -0.40         -1.0   \n",
      "12328            -0.875 -0.923077 -0.777778        -0.50         -1.0   \n",
      "12329            -0.750 -0.923077 -1.000000        -0.95         -0.5   \n",
      "\n",
      "       Weekend  Revenue  \n",
      "0          0.0      0.0  \n",
      "1          0.0      0.0  \n",
      "2          0.0      0.0  \n",
      "3          0.0      0.0  \n",
      "4          1.0      0.0  \n",
      "...        ...      ...  \n",
      "12325      1.0      0.0  \n",
      "12326      1.0      0.0  \n",
      "12327      1.0      0.0  \n",
      "12328      0.0      0.0  \n",
      "12329      1.0      0.0  \n",
      "\n",
      "[12330 rows x 18 columns]\n"
     ]
    }
   ],
   "execution_count": 37
  },
  {
   "cell_type": "markdown",
   "id": "ca05fe789cf17ab3",
   "metadata": {},
   "source": [
    "Task 3"
   ]
  },
  {
   "cell_type": "code",
   "id": "a64c29fcca7de65f",
   "metadata": {
    "ExecuteTime": {
     "end_time": "2025-09-22T16:48:23.321815Z",
     "start_time": "2025-09-22T16:48:21.505132Z"
    }
   },
   "source": [
    "# affinity propagation clustering - aan de hand van documentatie - NU HEEL SLOOM\n",
    "from sklearn.cluster import AffinityPropagation, DBSCAN, Birch\n",
    "import plotly.express as px\n",
    "Data = preprocessed.copy()\n",
    "#Gebruik van sample maakt het proces sneller\n",
    "Sample = Data.sample(n=1000)\n",
    "clustering = AffinityPropagation(random_state=2).fit(Sample)\n",
    "AffinityPropagation(random_state=2)\n",
    "\n",
    "labels = clustering.labels_\n",
    "cluster_centers = clustering.cluster_centers_\n",
    "n_clusters = len(cluster_centers)\n",
    "\n",
    "print(\"Number of clusters:\", n_clusters)\n",
    "print(\"Cluster centers:\\n\", cluster_centers)\n",
    "\n",
    "\n",
    "# DBSCAN clustering\n",
    "#TODO werkt maar de label -1 laat zien dat er een hoop data punten in ruis categorie vallen...\n",
    "clustering2 = DBSCAN(eps=0.5).fit(Data)\n",
    "labels2 = clustering2.labels_\n",
    "print(\"Labels DBSCAN\", labels2[:50])   \n",
    "\n",
    "#Lijkt me dat beide problemen hier liggen aan de variabelen in de functies\n",
    "\n",
    "# Birch clustering\n",
    "#TODO nog een groot aantal clusters...\n",
    "clustering3 = Birch(n_clusters=None).fit(Data)\n",
    "labels3 = clustering3.labels_\n",
    "print(len(labels3), len(Data))\n",
    "print(\"Labels Birch\", labels3[:50])   \n",
    "aantal_clusters = len(set(labels3))\n",
    "print(\"Aantal clusters Birch\", aantal_clusters)\n",
    "\n",
    "fig = px.scatter(Sample, labels)\n",
    "fig.show()\n",
    "fig = px.scatter(Data, labels2)\n",
    "fig.show()\n",
    "fig = px.scatter(Data, labels3)\n",
    "fig.show()\n"
   ],
   "outputs": [
    {
     "name": "stdout",
     "output_type": "stream",
     "text": [
      "Number of clusters: 53\n",
      "Cluster centers:\n",
      " [[ 0.00000000e+00  0.00000000e+00  0.00000000e+00  0.00000000e+00\n",
      "   4.25531915e-03  1.40683203e-04  3.33333335e-01  6.66666665e-01\n",
      "   0.00000000e+00  0.00000000e+00 -1.75000000e+00 -8.75000000e-01\n",
      "  -9.23076923e-01 -8.88888889e-01 -9.00000000e-01 -1.00000000e+00\n",
      "   1.00000000e+00  0.00000000e+00]\n",
      " [ 0.00000000e+00  0.00000000e+00  0.00000000e+00  0.00000000e+00\n",
      "   1.41843972e-03  0.00000000e+00  1.00000000e+00  1.00000000e+00\n",
      "   0.00000000e+00  0.00000000e+00 -1.16666667e+00 -1.00000000e+00\n",
      "  -7.69230769e-02 -1.11111111e-01 -5.00000000e-02 -1.00000000e+00\n",
      "   0.00000000e+00  0.00000000e+00]\n",
      " [ 2.22222222e-01  4.36067181e-02  8.33333333e-02  5.47192939e-02\n",
      "   1.39007092e-01  5.80607810e-02  2.50000000e-02  6.71496600e-02\n",
      "   0.00000000e+00  0.00000000e+00 -1.25000000e+00 -8.75000000e-01\n",
      "  -9.23076923e-01 -1.00000000e+00 -9.50000000e-01 -1.00000000e+00\n",
      "   0.00000000e+00  0.00000000e+00]\n",
      " [ 7.40740741e-02  4.41338727e-03  0.00000000e+00  0.00000000e+00\n",
      "   3.26241135e-02  5.37201415e-03  1.25000000e-01  2.50000000e-01\n",
      "   0.00000000e+00  6.00000000e-01 -1.75000000e+00 -8.75000000e-01\n",
      "  -9.23076923e-01 -4.44444444e-01 -7.50000000e-01 -1.00000000e+00\n",
      "   0.00000000e+00  0.00000000e+00]\n",
      " [ 0.00000000e+00  0.00000000e+00  4.16666667e-02  0.00000000e+00\n",
      "   0.00000000e+00  0.00000000e+00  1.00000000e+00  1.00000000e+00\n",
      "   0.00000000e+00  1.00000000e+00 -1.75000000e+00 -1.00000000e+00\n",
      "  -1.00000000e+00 -7.77777778e-01 -9.00000000e-01 -1.00000000e+00\n",
      "   1.00000000e+00  0.00000000e+00]\n",
      " [ 0.00000000e+00  0.00000000e+00  0.00000000e+00  0.00000000e+00\n",
      "   2.97872340e-02  2.31814655e-02  3.94736850e-02  1.08771930e-01\n",
      "   0.00000000e+00  1.00000000e+00 -1.75000000e+00 -1.00000000e+00\n",
      "  -1.00000000e+00 -7.77777778e-01 -7.00000000e-01 -1.00000000e+00\n",
      "   1.00000000e+00  0.00000000e+00]\n",
      " [ 1.11111111e-01  2.87605737e-02  4.16666667e-02  1.82397646e-02\n",
      "   1.70212766e-02  4.02380012e-03  3.33333350e-02  1.35555555e-01\n",
      "   0.00000000e+00  0.00000000e+00 -1.25000000e+00 -7.50000000e-01\n",
      "  -9.23076923e-01 -4.44444444e-01 -9.00000000e-01 -1.00000000e+00\n",
      "   0.00000000e+00  0.00000000e+00]\n",
      " [ 3.70370370e-02  0.00000000e+00  0.00000000e+00  0.00000000e+00\n",
      "   4.25531915e-03  2.79021686e-03  0.00000000e+00  3.33333335e-01\n",
      "   2.22509467e-02  0.00000000e+00 -1.41666667e+00 -8.75000000e-01\n",
      "  -6.15384615e-01 -8.88888889e-01 -1.00000000e+00 -1.00000000e+00\n",
      "   0.00000000e+00  0.00000000e+00]\n",
      " [ 1.48148148e-01  1.90266029e-02  0.00000000e+00  0.00000000e+00\n",
      "   5.39007092e-02  2.25978908e-02  0.00000000e+00  2.63157900e-02\n",
      "   1.44053568e-01  0.00000000e+00 -1.25000000e+00 -8.75000000e-01\n",
      "  -9.23076923e-01 -1.00000000e+00 -9.50000000e-01 -5.00000000e-01\n",
      "   0.00000000e+00  1.00000000e+00]\n",
      " [ 3.70370370e-02  2.35380655e-03  0.00000000e+00  0.00000000e+00\n",
      "   7.80141844e-02  2.96005351e-02  6.36363650e-02  1.92417580e-01\n",
      "   0.00000000e+00  0.00000000e+00 -1.25000000e+00 -7.50000000e-01\n",
      "  -9.23076923e-01 -1.00000000e+00 -4.00000000e-01 -1.00000000e+00\n",
      "   1.00000000e+00  0.00000000e+00]\n",
      " [ 1.48148148e-01  3.05994851e-02  4.16666667e-02  3.64795293e-02\n",
      "   2.12765957e-02  4.57220409e-03  0.00000000e+00  1.06250000e-01\n",
      "   0.00000000e+00  0.00000000e+00 -1.75000000e+00 -8.75000000e-01\n",
      "  -7.69230769e-01 -7.77777778e-01 -8.50000000e-01 -1.00000000e+00\n",
      "   1.00000000e+00  0.00000000e+00]\n",
      " [ 3.70370370e-02  2.05958073e-03  0.00000000e+00  0.00000000e+00\n",
      "   3.68794326e-02  1.45893692e-02  4.00000000e-02  1.40000000e-01\n",
      "   5.10697946e-03  0.00000000e+00 -1.75000000e+00 -8.75000000e-01\n",
      "  -9.23076923e-01 -1.00000000e+00 -4.00000000e-01 -1.00000000e+00\n",
      "   0.00000000e+00  0.00000000e+00]\n",
      " [ 3.70370370e-02  1.61824200e-03  0.00000000e+00  0.00000000e+00\n",
      "   1.46099291e-01  3.05621547e-02  7.67973850e-02  1.85285520e-01\n",
      "   0.00000000e+00  0.00000000e+00 -1.66666667e+00 -8.75000000e-01\n",
      "  -9.23076923e-01 -1.11111111e-01 -4.00000000e-01 -1.00000000e+00\n",
      "   1.00000000e+00  0.00000000e+00]\n",
      " [ 2.59259259e-01  3.37624127e-02  4.16666667e-02  6.17798480e-03\n",
      "   2.97872340e-02  2.52551399e-02  0.00000000e+00  4.96894400e-02\n",
      "   0.00000000e+00  0.00000000e+00 -1.16666667e+00 -8.75000000e-01\n",
      "  -9.23076923e-01 -2.22222222e-01 -9.50000000e-01 -5.00000000e-01\n",
      "   1.00000000e+00  0.00000000e+00]\n",
      " [ 0.00000000e+00  0.00000000e+00  0.00000000e+00  0.00000000e+00\n",
      "   2.69503546e-02  1.62598519e-02  0.00000000e+00  5.55555550e-02\n",
      "   3.20595976e-01  0.00000000e+00 -1.75000000e+00 -8.75000000e-01\n",
      "  -9.23076923e-01 -4.44444444e-01 -9.50000000e-01 -5.00000000e-01\n",
      "   1.00000000e+00  1.00000000e+00]\n",
      " [ 3.33333333e-01  7.35809734e-02  8.33333333e-02  1.19637166e-02\n",
      "   2.19858156e-01  7.25813363e-02  1.03658550e-02  3.73342550e-02\n",
      "   2.79629850e-02  0.00000000e+00 -1.25000000e+00 -8.75000000e-01\n",
      "  -9.23076923e-01 -1.00000000e+00 -9.00000000e-01 -1.00000000e+00\n",
      "   0.00000000e+00  1.00000000e+00]\n",
      " [ 0.00000000e+00  0.00000000e+00  0.00000000e+00  0.00000000e+00\n",
      "   4.53900709e-02  1.10623892e-02  1.25000000e-01  4.21875000e-01\n",
      "   0.00000000e+00  0.00000000e+00 -1.66666667e+00 -8.75000000e-01\n",
      "  -9.23076923e-01 -4.44444444e-01 -4.00000000e-01 -1.00000000e+00\n",
      "   0.00000000e+00  0.00000000e+00]\n",
      " [ 0.00000000e+00  0.00000000e+00  8.33333333e-02  1.51409659e-01\n",
      "   5.10638298e-02  2.51657199e-02  0.00000000e+00  4.66165400e-02\n",
      "   3.45619401e-02  0.00000000e+00 -1.25000000e+00 -8.75000000e-01\n",
      "  -9.23076923e-01 -7.77777778e-01 -9.00000000e-01 -1.00000000e+00\n",
      "   0.00000000e+00  1.00000000e+00]\n",
      " [ 0.00000000e+00  0.00000000e+00  0.00000000e+00  0.00000000e+00\n",
      "   2.83687943e-02  8.22996736e-03  1.00000000e-01  1.75000000e-01\n",
      "   0.00000000e+00  0.00000000e+00 -1.25000000e+00 -7.50000000e-01\n",
      "  -9.23076923e-01 -8.88888889e-01 -4.00000000e-01 -1.00000000e+00\n",
      "   0.00000000e+00  0.00000000e+00]\n",
      " [ 1.11111111e-01  1.55939684e-02  0.00000000e+00  0.00000000e+00\n",
      "   8.93617021e-02  3.84729481e-02  0.00000000e+00  2.86458350e-02\n",
      "   0.00000000e+00  0.00000000e+00 -1.75000000e+00 -8.75000000e-01\n",
      "  -9.23076923e-01 -2.22222222e-01 -9.00000000e-01 -5.00000000e-01\n",
      "   0.00000000e+00  0.00000000e+00]\n",
      " [ 7.40740741e-02  1.06509746e-02  0.00000000e+00  0.00000000e+00\n",
      "   3.12056738e-02  2.82161005e-02  0.00000000e+00  4.34782600e-02\n",
      "   9.91430603e-03  0.00000000e+00 -1.41666667e+00 -8.75000000e-01\n",
      "  -9.23076923e-01 -1.00000000e+00 -9.50000000e-01 -1.00000000e+00\n",
      "   1.00000000e+00  1.00000000e+00]\n",
      " [ 0.00000000e+00  0.00000000e+00  0.00000000e+00  0.00000000e+00\n",
      "   1.13475177e-02  6.28384972e-03  0.00000000e+00  1.90476190e-01\n",
      "   0.00000000e+00  0.00000000e+00 -1.91666667e+00 -8.75000000e-01\n",
      "  -9.23076923e-01 -8.88888889e-01 -1.00000000e+00 -1.00000000e+00\n",
      "   0.00000000e+00  0.00000000e+00]\n",
      " [ 0.00000000e+00  0.00000000e+00  0.00000000e+00  0.00000000e+00\n",
      "   1.41843972e-03  0.00000000e+00  1.00000000e+00  1.00000000e+00\n",
      "   0.00000000e+00  0.00000000e+00 -1.91666667e+00 -8.75000000e-01\n",
      "  -9.23076923e-01 -6.66666667e-01 -9.00000000e-01 -1.00000000e+00\n",
      "   0.00000000e+00  0.00000000e+00]\n",
      " [ 1.85185185e-01  3.81390217e-02  4.16666667e-02  5.88379505e-03\n",
      "   3.54609929e-02  6.08706072e-03  3.84615400e-02  7.05128200e-02\n",
      "   0.00000000e+00  0.00000000e+00 -1.16666667e+00 -7.50000000e-01\n",
      "  -9.23076923e-01 -1.00000000e+00 -9.50000000e-01 -1.00000000e+00\n",
      "   1.00000000e+00  0.00000000e+00]\n",
      " [ 3.70370370e-02  5.14895182e-03  0.00000000e+00  0.00000000e+00\n",
      "   2.41134752e-02  1.04103202e-02  0.00000000e+00  1.17647050e-02\n",
      "   1.42654039e-01  0.00000000e+00 -1.75000000e+00 -8.75000000e-01\n",
      "  -9.23076923e-01 -6.66666667e-01 -9.50000000e-01 -5.00000000e-01\n",
      "   0.00000000e+00  1.00000000e+00]\n",
      " [ 0.00000000e+00  0.00000000e+00  0.00000000e+00  0.00000000e+00\n",
      "   9.92907801e-03  6.25258679e-04  7.14285715e-01  7.85714285e-01\n",
      "   0.00000000e+00  6.00000000e-01 -1.75000000e+00 -7.50000000e-01\n",
      "  -9.23076923e-01 -7.77777778e-01 -8.50000000e-01 -1.00000000e+00\n",
      "   0.00000000e+00  0.00000000e+00]\n",
      " [ 0.00000000e+00  0.00000000e+00  0.00000000e+00  0.00000000e+00\n",
      "   4.11347518e-02  7.63455057e-03  7.14285700e-02  1.08695650e-01\n",
      "   0.00000000e+00  0.00000000e+00 -1.25000000e+00 -1.00000000e+00\n",
      "  -4.61538462e-01 -1.00000000e+00 -5.00000000e-01 -5.00000000e-01\n",
      "   0.00000000e+00  1.00000000e+00]\n",
      " [ 0.00000000e+00  0.00000000e+00  0.00000000e+00  0.00000000e+00\n",
      "   1.41843972e-03  0.00000000e+00  1.00000000e+00  1.00000000e+00\n",
      "   0.00000000e+00  0.00000000e+00 -1.25000000e+00 -8.75000000e-01\n",
      "  -9.23076923e-01 -4.44444444e-01 -9.50000000e-01 -1.00000000e+00\n",
      "   0.00000000e+00  0.00000000e+00]\n",
      " [ 2.22222222e-01  2.95696947e-02  0.00000000e+00  0.00000000e+00\n",
      "   1.41843972e-02  5.19876539e-03  0.00000000e+00  1.09890100e-02\n",
      "   0.00000000e+00  0.00000000e+00 -1.16666667e+00 -1.25000000e-01\n",
      "  -7.69230769e-02 -1.11111111e-01 -5.00000000e-02 -2.50000000e-01\n",
      "   0.00000000e+00  0.00000000e+00]\n",
      " [ 7.40740741e-02  6.82603898e-03  0.00000000e+00  0.00000000e+00\n",
      "   1.56028369e-02  1.86327086e-03  0.00000000e+00  7.69230750e-02\n",
      "   0.00000000e+00  0.00000000e+00 -1.41666667e+00 -8.75000000e-01\n",
      "  -9.23076923e-01 -8.88888889e-01 -9.50000000e-01 -5.00000000e-01\n",
      "   1.00000000e+00  0.00000000e+00]\n",
      " [ 0.00000000e+00  0.00000000e+00  0.00000000e+00  0.00000000e+00\n",
      "   1.41843972e-03  0.00000000e+00  1.00000000e+00  1.00000000e+00\n",
      "   0.00000000e+00  0.00000000e+00 -1.25000000e+00 -8.75000000e-01\n",
      "  -9.23076923e-01 -1.00000000e+00 -7.50000000e-01 -5.00000000e-01\n",
      "   0.00000000e+00  0.00000000e+00]\n",
      " [ 1.48148148e-01  1.53732990e-02  0.00000000e+00  0.00000000e+00\n",
      "   4.25531915e-03  4.37681075e-04  0.00000000e+00  1.25000000e-01\n",
      "   0.00000000e+00  0.00000000e+00 -1.25000000e+00 -8.75000000e-01\n",
      "  -9.23076923e-01 -1.00000000e+00 -7.50000000e-01 -5.00000000e-01\n",
      "   0.00000000e+00  0.00000000e+00]\n",
      " [ 0.00000000e+00  0.00000000e+00  0.00000000e+00  0.00000000e+00\n",
      "   1.41843972e-03  0.00000000e+00  1.00000000e+00  1.00000000e+00\n",
      "   0.00000000e+00  0.00000000e+00 -1.58333333e+00 -1.00000000e+00\n",
      "  -1.00000000e+00 -7.77777778e-01 -8.50000000e-01 -1.00000000e+00\n",
      "   1.00000000e+00  0.00000000e+00]\n",
      " [ 7.40740741e-02  8.25513582e-03  0.00000000e+00  0.00000000e+00\n",
      "   1.03546099e-01  3.53405138e-02  1.33333350e-02  9.46666650e-02\n",
      "   0.00000000e+00  0.00000000e+00 -1.66666667e+00 -8.75000000e-01\n",
      "  -9.23076923e-01 -3.33333333e-01 -8.50000000e-01 -1.00000000e+00\n",
      "   1.00000000e+00  0.00000000e+00]\n",
      " [ 0.00000000e+00  0.00000000e+00  0.00000000e+00  0.00000000e+00\n",
      "   2.83687943e-03  0.00000000e+00  1.00000000e+00  1.00000000e+00\n",
      "   0.00000000e+00  0.00000000e+00 -1.25000000e+00 -8.75000000e-01\n",
      "  -6.92307692e-01 -1.00000000e+00 -9.50000000e-01 -1.00000000e+00\n",
      "   0.00000000e+00  0.00000000e+00]\n",
      " [ 0.00000000e+00  0.00000000e+00  0.00000000e+00  0.00000000e+00\n",
      "   8.51063830e-03  1.20362296e-03  0.00000000e+00  8.33333350e-02\n",
      "   0.00000000e+00  6.00000000e-01 -1.75000000e+00 -8.75000000e-01\n",
      "  -9.23076923e-01 -8.88888889e-01 -8.50000000e-01 -1.00000000e+00\n",
      "   0.00000000e+00  0.00000000e+00]\n",
      " [ 3.70370370e-02  1.17690327e-03  0.00000000e+00  0.00000000e+00\n",
      "   2.55319149e-02  9.87387664e-03  0.00000000e+00  1.38888890e-01\n",
      "   1.55694615e-01  0.00000000e+00 -1.75000000e+00 -8.75000000e-01\n",
      "  -9.23076923e-01 -1.00000000e+00 -9.00000000e-01 -1.00000000e+00\n",
      "   0.00000000e+00  1.00000000e+00]\n",
      " [ 0.00000000e+00  0.00000000e+00  0.00000000e+00  0.00000000e+00\n",
      "   7.65957447e-02  3.08792745e-02  1.85185200e-02  8.02469150e-02\n",
      "   0.00000000e+00  0.00000000e+00 -1.25000000e+00 -8.75000000e-01\n",
      "  -9.23076923e-01 -1.11111111e-01 -9.50000000e-01 -1.00000000e+00\n",
      "   0.00000000e+00  0.00000000e+00]\n",
      " [ 0.00000000e+00  0.00000000e+00  0.00000000e+00  0.00000000e+00\n",
      "   4.25531915e-03  4.42370515e-03  3.33333335e-01  6.66666665e-01\n",
      "   0.00000000e+00  0.00000000e+00 -1.75000000e+00 -8.75000000e-01\n",
      "  -9.23076923e-01 -7.77777778e-01 -8.50000000e-01 -1.00000000e+00\n",
      "   0.00000000e+00  0.00000000e+00]\n",
      " [ 1.85185185e-01  1.54468555e-02  0.00000000e+00  0.00000000e+00\n",
      "   9.92907801e-03  6.49487453e-03  0.00000000e+00  8.33333350e-02\n",
      "   0.00000000e+00  0.00000000e+00 -1.75000000e+00 -8.75000000e-01\n",
      "  -9.23076923e-01 -1.00000000e+00 -8.50000000e-01 -5.00000000e-01\n",
      "   0.00000000e+00  0.00000000e+00]\n",
      " [ 0.00000000e+00  0.00000000e+00  0.00000000e+00  0.00000000e+00\n",
      "   2.83687943e-02  3.07679375e-03  2.00000000e-01  3.16666665e-01\n",
      "   0.00000000e+00  6.00000000e-01 -1.75000000e+00 -8.75000000e-01\n",
      "  -9.23076923e-01 -1.00000000e+00 -8.50000000e-01 -1.00000000e+00\n",
      "   0.00000000e+00  0.00000000e+00]\n",
      " [ 1.48148148e-01  6.87752850e-03  8.33333333e-02  9.08457955e-02\n",
      "   4.96453901e-02  1.55712558e-02  3.04054050e-02  2.08708710e-01\n",
      "   0.00000000e+00  0.00000000e+00 -1.25000000e+00 -8.75000000e-01\n",
      "  -9.23076923e-01 -5.55555556e-01 -9.50000000e-01 -1.00000000e+00\n",
      "   1.00000000e+00  0.00000000e+00]\n",
      " [ 1.48148148e-01  1.14895182e-01  0.00000000e+00  0.00000000e+00\n",
      "   3.82978723e-02  2.00955534e-02  0.00000000e+00  3.44827600e-02\n",
      "   4.05574804e-02  0.00000000e+00 -1.16666667e+00 -8.75000000e-01\n",
      "  -9.23076923e-01 -2.22222222e-01 -9.50000000e-01 -1.00000000e+00\n",
      "   0.00000000e+00  1.00000000e+00]\n",
      " [ 1.11111111e-01  3.39830820e-02  0.00000000e+00  0.00000000e+00\n",
      "   7.80141844e-02  2.86563031e-02  0.00000000e+00  4.14312600e-02\n",
      "   5.14613292e-02  0.00000000e+00 -1.25000000e+00 -8.75000000e-01\n",
      "  -9.23076923e-01 -4.44444444e-01 -9.50000000e-01 -1.00000000e+00\n",
      "   1.00000000e+00  1.00000000e+00]\n",
      " [ 2.22222222e-01  3.67373626e-02  1.25000000e-01  9.53174798e-02\n",
      "   3.54609929e-02  3.08126609e-02  3.57142850e-02  1.51190475e-01\n",
      "   6.88211590e-02  0.00000000e+00 -1.75000000e+00 -8.75000000e-01\n",
      "  -9.23076923e-01 -5.55555556e-01 -8.50000000e-01 -1.00000000e+00\n",
      "   0.00000000e+00  1.00000000e+00]\n",
      " [ 0.00000000e+00  0.00000000e+00  0.00000000e+00  0.00000000e+00\n",
      "   5.67375887e-02  1.52263515e-02  3.41880350e-02  1.41025640e-01\n",
      "   0.00000000e+00  0.00000000e+00 -1.25000000e+00 -8.75000000e-01\n",
      "  -9.23076923e-01 -1.00000000e+00 -9.00000000e-01 -1.00000000e+00\n",
      "   0.00000000e+00  0.00000000e+00]\n",
      " [ 7.40740741e-02  1.22839279e-02  8.33333333e-02  1.17675901e-02\n",
      "   3.54609929e-02  9.31752668e-03  7.69231000e-03  1.00732600e-01\n",
      "   0.00000000e+00  0.00000000e+00 -1.25000000e+00 -8.75000000e-01\n",
      "  -9.23076923e-01 -7.77777778e-01 -1.00000000e+00 -1.00000000e+00\n",
      "   0.00000000e+00  0.00000000e+00]\n",
      " [ 0.00000000e+00  0.00000000e+00  0.00000000e+00  0.00000000e+00\n",
      "   4.25531915e-02  7.50701201e-03  3.88888900e-02  1.25000000e-01\n",
      "   0.00000000e+00  0.00000000e+00 -1.91666667e+00 -8.75000000e-01\n",
      "  -9.23076923e-01 -3.33333333e-01 -1.00000000e+00 -1.00000000e+00\n",
      "   0.00000000e+00  0.00000000e+00]\n",
      " [ 3.70370370e-02  1.17690327e-03  0.00000000e+00  0.00000000e+00\n",
      "   2.55319149e-02  2.24858652e-03  0.00000000e+00  1.70588235e-01\n",
      "   0.00000000e+00  0.00000000e+00 -1.75000000e+00 -8.75000000e-01\n",
      "  -9.23076923e-01 -7.77777778e-01 -9.00000000e-01 -1.00000000e+00\n",
      "   0.00000000e+00  0.00000000e+00]\n",
      " [ 4.44444444e-01  7.23010911e-02  1.66666667e-01  5.92968865e-01\n",
      "   6.22695035e-01  3.41657700e-01  1.79431300e-02  6.24880600e-02\n",
      "   3.16207291e-02  0.00000000e+00 -1.41666667e+00 -8.75000000e-01\n",
      "  -9.23076923e-01 -1.00000000e+00 -4.00000000e-01 -1.00000000e+00\n",
      "   0.00000000e+00  0.00000000e+00]\n",
      " [ 2.59259259e-01  2.53851498e-02  8.33333333e-02  8.23731307e-03\n",
      "   1.13475177e-01  3.39247650e-02  1.78571450e-02  1.07638890e-01\n",
      "   7.12232418e-02  0.00000000e+00 -1.25000000e+00 -7.50000000e-01\n",
      "  -9.23076923e-01 -1.00000000e+00 -5.50000000e-01 -1.00000000e+00\n",
      "   1.00000000e+00  1.00000000e+00]\n",
      " [ 1.48148148e-01  1.02782886e-02  0.00000000e+00  0.00000000e+00\n",
      "   2.83687943e-03  3.56397447e-04  0.00000000e+00  1.42857145e-01\n",
      "   0.00000000e+00  0.00000000e+00 -1.33333333e+00 -8.75000000e-01\n",
      "  -9.23076923e-01 -6.66666667e-01 -9.50000000e-01 -5.00000000e-01\n",
      "   0.00000000e+00  0.00000000e+00]\n",
      " [ 1.48148148e-01  2.50091946e-02  0.00000000e+00  0.00000000e+00\n",
      "   2.69503546e-02  9.36324872e-03  7.50000000e-02  1.75000000e-01\n",
      "   0.00000000e+00  0.00000000e+00 -1.75000000e+00 -8.75000000e-01\n",
      "  -9.23076923e-01 -1.00000000e+00 -9.50000000e-01 -1.00000000e+00\n",
      "   0.00000000e+00  0.00000000e+00]]\n",
      "Labels DBSCAN [0 0 0 0 1 0 0 1 0 0 0 0 0 0 0 0 0 1 0 0 2 0 0 0 1 0 0 0 0 0 0 1 0 0 0 0 1\n",
      " 0 0 0 0 0 0 0 0 0 0 0 0 0]\n",
      "12330 12330\n",
      "Labels Birch [ 0  1  0  1  2  1  0  3 12 12  1 12  1  1  1  8  0  2  1  1  4  0  1 12\n",
      "  3  8  1  1  1 12  8  2  1  1  1  8  2 13 12  1  8 12  1 12  1  1  1  1\n",
      "  1 11]\n",
      "Aantal clusters Birch 41\n"
     ]
    },
    {
     "data": {
      "application/vnd.plotly.v1+json": {
       "data": [
        {
         "hovertemplate": "x=%{x}<br>index=%{y}<extra></extra>",
         "legendgroup": "",
         "marker": {
          "color": "#636efa",
          "symbol": "circle"
         },
         "mode": "markers",
         "name": "",
         "orientation": "h",
         "showlegend": false,
         "x": {
          "dtype": "i1",
          "bdata": "FR8VKBcqABAUJzALCxAXDyUwDjQQMBUfGxUUCxMGIwsnIxUJLggIFhQ0BS4jJTAXJy0tICYvKBUsAjMVAikGLC8uJBg0AgsVJBsSLwoVFAgGJhwmFSsBLSYSMCQXFy0jETMmFRUwBwwuETQkKSYCEhcEFxUwMhsPFyskFBUvGRQdFRAKCRUmCCskDzADMAYRKQsgIRIEDwUSCiknJzQGJQ8KNAoSLwwvDioqJjQiAjQPJC0oFCM0BxcVEjQjMBIHJykVJQgtNC4HExYJAgsJKRotLgYvFws0KAIyCB0SLQoWHRQVMBAqLikPBykGLS8QFgYjHSwGCy0zITAYFyktFxIuLSYAKAMuAyE0NAwvBw0VNCYQLyMoKi4zFyQQDiIKGAYVHxczBw80LwYaGTQvERQPMCItJQs0EyIkIBYuMCQzAxMrKR8rHyQ0BSUSIhUzNA4XIysVHxgPCRYkChIjES4QCgo0JTAzFxcKMBARCykwJAoqEQMuMC8DLTISEy00ECsoLi0oMzAUAgsjFR4HJSkRAiwtMCksFS0ALgUdBwkwBxYuGSYpNAkPKCodJhY0Ci0KCREjBjAuEhQQLTAzITAKMCQKAicCLxUKIzQvHTA0LhcvIAYHJSMtFRQnGwgCEhYzACMKBgolFxUbKhUtGAsCFQoFNDQYGSwwMzQQMDQWEhIzHwISCgYfHSctAy0DHyMAKikXBiEwLQYtERUtAhooERAZFREGACMdJx8ALC0yHSY0Di8GFjQVLS8tHQAULy0hHR0gFg0VGwoSHh8pMQ80LS4UAg8cNBYfEgYfJAIWGS0MLycmMAYNLAYKJwIwAwMKIxMwFS0UEigMBgYLCBcVAw0WEB8dNC4XHQIvKS4LCQYzFx4nJB8gEQYEDyASNDM0AzQXBgo0KSYnIS4aLgMmCB8kHxUiDycyKREMFS0KEwItAi4CNBIeEyEjFQIKMB0kEiQKAyQVIy40ETQtJQowMggCBSACDy4HFyQuIy8LJC8CERYtJjAqJQgCNAYwACMAKzAuEjAuETMlLS8XBxEgFS8qLjMWGwIUDygQMycnMCscLxcvJygpCgYSIS4CCRgtLQIXKjQKAy4uMiQCLy0VIh8GCgoVNDArES0sJx0lJBgAIRMGCg0ALxsuFSk0LQspAi4RLy0KLTACNCcvFCgSMyMVJzQtIwopLSUiEgczJi0vCjMGEAo0LjQwNCUvFSkXFRYoLzAYJDAuLDQzAxsRHSQuLSALIQoCNCAXLiwCFgILFhIuAi4UCzELNC0tMA4yJw8UIRUWChQyAhgfMx8zCRcRAjQwLSArNDIuMysXCykuJwIkGA=="
         },
         "xaxis": "x",
         "y": {
          "dtype": "i2",
          "bdata": "pwTbLQkHFwBBKY0g7w9PGucaYxQ8FocTpA4TB2Uavy9VKB8eeQizDCcLohHxB6wfjy8aAMEYZwquBoModADhFFoOjA9DB3wXLiqwHp0uKgFWC/kUHxK2IIYAKhvGFeEc8wQhKTYkNSakEvgGZAsVBKMRlxv1L/wB8SVHLBgaVBXYAJkf6wRBG8URiCH6EncBJhOOLrkcqwUBAqsCZCBxHfYeYQh4J3wCDQCRGZQvTiI9D7Uf2B43EQEcFSkzJKoIpSa8Il4HQwRPAegU1QlHHgYuSS27CcUNPyF9E5ghDSNfJhsUESUiABwPrSItGG4jPi7pL40Rnx1qBowJQRIAHvsJhAGOCN0dnRCJAnwAfhc4JRUUVSCXA5AOeBfXJNIchyPeDloQtw+hL0wJxCkrCj0XwgP6FxoJxAIHFEsiCCXXLXMRyw5eAnUofwKyC1sY6Q72H34voSLJCOwo9iE9EKMXjB2TKp4JPhWkFGEUiBgDJmkHbi2KHkURwBf2KFYfmQ11FzYFDCxsH/cfcw2EIaUkbh5/CK8mfxZsDLUv2yM8KqAjWiliJroM4i4oCjgWrABWHtgV5B9PIA0vOiaUESUDQRheLpgDARa3GwMZuiMPH20hjBMqFuMp7htREt8TMQgzHTYQuiCvFIkumgxwJO4i0hCcDoYThikEIM0fCiBZJHImSCz3DDwa/A/5ErEhfwugDPYS5A5pFg8MlSyLIdUEiwsFCPgYDwROEDYAAi5EI40nFSQ8CNsPOw/cIU8PjAIAHRQEOhyWJ4EhHh6SLogFUB5AJ1golwxFC3MTKCjKKqAhgwtBHg0d8h//D1sBexyAJRQejQitARIloQ8rBC0ZBgwxDkwu+SkzK/YudBaKDwcWoAuaFx4lJS60BaQlRRKpHkAgABWbIywAViw9GP0sEicVAKsW6AxNGDQPoShsIL8amwDpC8cXkiKDDCofyCDqJFcMihd2Gv8geg57JDIJpxQOEmMVbxptCXghJQmoAIYPISvEHvonThFDKFYNmReHJfQKLiPoL6gPyiCzFvYZXx4LAQgPdQFyLJsVZyGiKH4m6SXAB+MnjhCPJFMRHQEEGVQDUCA6Dk4HciOLH0UVriEDArMdgRI6De4rAQp2JwYh+QraHNoHkwYJCN4MtAkkLdURqy9DIWsJnRX2FOgtQye/F38TSSuAE1cdRQp+DC0OQhX6HvkRYyWBDQ0kywSfAhsDYhCWEh8RWxtyBgUUzCPTF7kEQRnqKiEfGRitDxwWxQClICwdASwlG7UYCSA/A8YeTxBVCtIHQynJAPwkoS7sBgMgNi/4A+IiqhMoBwMp5AUkAKkAkAMdDZsX6AlAE5wJxS2BEQ8w9BWeFA4UzSmCGgspTR83KqAm2BGvJKoruAlKBecVKBScJt0QPh4rEEIMuh+EF+UkmyEnCicaThqrKBkpxih7AMoWjCEaLa4NkSJ6AaINkwDnIjYloRfBFHcD4xwjIR0LGRQiL44p5C1rA1gHfgsGCocX7AMJAhYBHh3TE20dShySC9APzRhYH30PvRyYFFIQsgCHIngAaCT5DxopgB/YHY8s7h25LgcdASuWH+Ij3h2zJ8wh7hMuAXMeIC58GVUV2Rn1KJYcnQ0nLQEUYxCWAQ8FExvBLKEVEgh7H+UCCRoOKW4aygj6CC0B3QowII8ClgCRLT8pzBjYE0AfuB/RIk8FTCAkGbgGFxDOIJENFAn6KNAZlg+TFuohnROiGagFwiOoKHgJYCpeKDIekCllLeUSvgb+Le8i1STkJdAK6yr5G1Ei3w+eFUgRaAmADlMXOS4DBlED3yrOAo4ERxipK/InxiObDnADkidTLv4Nhxz7BLwvGxu7Af0NbiSYKn4Zagf7IUkUlAYjLZwheR6hI2IbxAfjK9EmmxC8DYgT7wK7I40CAgRLFzQNRCo7FWgGVAvGCx8ITAhpL30cfyInE4Uo7yC3Ej8NoxitH9goVg9BAlQWvyKMKcwdBytRDAYrLBOpBC4MoQSSDXwWMikECNoirhBhD0YdTCIlJEclfA50LtoMChhMEmgbChMQFaQVkhxODjwguCHILrMaESe2BkIq6xV2JS0upAUbDJ4p4SldILUIPC5qJf0HwxWICKAQ6hfzHnMPiBJ5I7AgIQULJ58HcxSFD/Ak0BoWMKYhuQcnKWUvCRhOF08Z7Sq/HT4sACTgECQLdxQrKRUnUSRmDckuGQhoKNEFKSaAKo4btAK0GfwCHxiMCkAkCB2ZHjgTIQnwGtEvVQMTCgUeMhmiEuwvSgNXJxkHDQXuIF8flwEKLyAM9yQRE3gd7SXGHyQgCgEFMOwYEiATApscbAYQESoEThj1DewXMSCgAOoCZQMNCXcYJBOyDa4qwypFKS4f1xv8HAkvUQoDMDYH8gP8LdkgwhbxAoMIESJbFBoSGg4wIw8HFwJEGt0iQQZfDBML0gbyDQkVGw2IC+cv2ha/COYuWg83IsAobC1EE0QcKC/8JhUNKg14EdUaCwr+E4chBCKZHOUosxNoJRkCbxG2JkgiSyEyLAMfqQ0cF2kQphDpJ+0krQMNC9MmCA3xKCoKSB1YA8sUdQhyG6wo+yQyCM4mNxzcK5UWWAy/LTEZ1yhWCWIZdC2cAKAaPh2tJ5Ip6SmxK28m9AnNHCYfaQz8KEUN8Aw="
         },
         "yaxis": "y",
         "type": "scatter"
        }
       ],
       "layout": {
        "template": {
         "data": {
          "histogram2dcontour": [
           {
            "type": "histogram2dcontour",
            "colorbar": {
             "outlinewidth": 0,
             "ticks": ""
            },
            "colorscale": [
             [
              0.0,
              "#0d0887"
             ],
             [
              0.1111111111111111,
              "#46039f"
             ],
             [
              0.2222222222222222,
              "#7201a8"
             ],
             [
              0.3333333333333333,
              "#9c179e"
             ],
             [
              0.4444444444444444,
              "#bd3786"
             ],
             [
              0.5555555555555556,
              "#d8576b"
             ],
             [
              0.6666666666666666,
              "#ed7953"
             ],
             [
              0.7777777777777778,
              "#fb9f3a"
             ],
             [
              0.8888888888888888,
              "#fdca26"
             ],
             [
              1.0,
              "#f0f921"
             ]
            ]
           }
          ],
          "choropleth": [
           {
            "type": "choropleth",
            "colorbar": {
             "outlinewidth": 0,
             "ticks": ""
            }
           }
          ],
          "histogram2d": [
           {
            "type": "histogram2d",
            "colorbar": {
             "outlinewidth": 0,
             "ticks": ""
            },
            "colorscale": [
             [
              0.0,
              "#0d0887"
             ],
             [
              0.1111111111111111,
              "#46039f"
             ],
             [
              0.2222222222222222,
              "#7201a8"
             ],
             [
              0.3333333333333333,
              "#9c179e"
             ],
             [
              0.4444444444444444,
              "#bd3786"
             ],
             [
              0.5555555555555556,
              "#d8576b"
             ],
             [
              0.6666666666666666,
              "#ed7953"
             ],
             [
              0.7777777777777778,
              "#fb9f3a"
             ],
             [
              0.8888888888888888,
              "#fdca26"
             ],
             [
              1.0,
              "#f0f921"
             ]
            ]
           }
          ],
          "heatmap": [
           {
            "type": "heatmap",
            "colorbar": {
             "outlinewidth": 0,
             "ticks": ""
            },
            "colorscale": [
             [
              0.0,
              "#0d0887"
             ],
             [
              0.1111111111111111,
              "#46039f"
             ],
             [
              0.2222222222222222,
              "#7201a8"
             ],
             [
              0.3333333333333333,
              "#9c179e"
             ],
             [
              0.4444444444444444,
              "#bd3786"
             ],
             [
              0.5555555555555556,
              "#d8576b"
             ],
             [
              0.6666666666666666,
              "#ed7953"
             ],
             [
              0.7777777777777778,
              "#fb9f3a"
             ],
             [
              0.8888888888888888,
              "#fdca26"
             ],
             [
              1.0,
              "#f0f921"
             ]
            ]
           }
          ],
          "contourcarpet": [
           {
            "type": "contourcarpet",
            "colorbar": {
             "outlinewidth": 0,
             "ticks": ""
            }
           }
          ],
          "contour": [
           {
            "type": "contour",
            "colorbar": {
             "outlinewidth": 0,
             "ticks": ""
            },
            "colorscale": [
             [
              0.0,
              "#0d0887"
             ],
             [
              0.1111111111111111,
              "#46039f"
             ],
             [
              0.2222222222222222,
              "#7201a8"
             ],
             [
              0.3333333333333333,
              "#9c179e"
             ],
             [
              0.4444444444444444,
              "#bd3786"
             ],
             [
              0.5555555555555556,
              "#d8576b"
             ],
             [
              0.6666666666666666,
              "#ed7953"
             ],
             [
              0.7777777777777778,
              "#fb9f3a"
             ],
             [
              0.8888888888888888,
              "#fdca26"
             ],
             [
              1.0,
              "#f0f921"
             ]
            ]
           }
          ],
          "surface": [
           {
            "type": "surface",
            "colorbar": {
             "outlinewidth": 0,
             "ticks": ""
            },
            "colorscale": [
             [
              0.0,
              "#0d0887"
             ],
             [
              0.1111111111111111,
              "#46039f"
             ],
             [
              0.2222222222222222,
              "#7201a8"
             ],
             [
              0.3333333333333333,
              "#9c179e"
             ],
             [
              0.4444444444444444,
              "#bd3786"
             ],
             [
              0.5555555555555556,
              "#d8576b"
             ],
             [
              0.6666666666666666,
              "#ed7953"
             ],
             [
              0.7777777777777778,
              "#fb9f3a"
             ],
             [
              0.8888888888888888,
              "#fdca26"
             ],
             [
              1.0,
              "#f0f921"
             ]
            ]
           }
          ],
          "mesh3d": [
           {
            "type": "mesh3d",
            "colorbar": {
             "outlinewidth": 0,
             "ticks": ""
            }
           }
          ],
          "scatter": [
           {
            "marker": {
             "line": {
              "color": "#283442"
             }
            },
            "type": "scatter"
           }
          ],
          "parcoords": [
           {
            "type": "parcoords",
            "line": {
             "colorbar": {
              "outlinewidth": 0,
              "ticks": ""
             }
            }
           }
          ],
          "scatterpolargl": [
           {
            "type": "scatterpolargl",
            "marker": {
             "colorbar": {
              "outlinewidth": 0,
              "ticks": ""
             }
            }
           }
          ],
          "bar": [
           {
            "error_x": {
             "color": "#f2f5fa"
            },
            "error_y": {
             "color": "#f2f5fa"
            },
            "marker": {
             "line": {
              "color": "rgb(17,17,17)",
              "width": 0.5
             },
             "pattern": {
              "fillmode": "overlay",
              "size": 10,
              "solidity": 0.2
             }
            },
            "type": "bar"
           }
          ],
          "scattergeo": [
           {
            "type": "scattergeo",
            "marker": {
             "colorbar": {
              "outlinewidth": 0,
              "ticks": ""
             }
            }
           }
          ],
          "scatterpolar": [
           {
            "type": "scatterpolar",
            "marker": {
             "colorbar": {
              "outlinewidth": 0,
              "ticks": ""
             }
            }
           }
          ],
          "histogram": [
           {
            "marker": {
             "pattern": {
              "fillmode": "overlay",
              "size": 10,
              "solidity": 0.2
             }
            },
            "type": "histogram"
           }
          ],
          "scattergl": [
           {
            "marker": {
             "line": {
              "color": "#283442"
             }
            },
            "type": "scattergl"
           }
          ],
          "scatter3d": [
           {
            "type": "scatter3d",
            "line": {
             "colorbar": {
              "outlinewidth": 0,
              "ticks": ""
             }
            },
            "marker": {
             "colorbar": {
              "outlinewidth": 0,
              "ticks": ""
             }
            }
           }
          ],
          "scattermap": [
           {
            "type": "scattermap",
            "marker": {
             "colorbar": {
              "outlinewidth": 0,
              "ticks": ""
             }
            }
           }
          ],
          "scattermapbox": [
           {
            "type": "scattermapbox",
            "marker": {
             "colorbar": {
              "outlinewidth": 0,
              "ticks": ""
             }
            }
           }
          ],
          "scatterternary": [
           {
            "type": "scatterternary",
            "marker": {
             "colorbar": {
              "outlinewidth": 0,
              "ticks": ""
             }
            }
           }
          ],
          "scattercarpet": [
           {
            "type": "scattercarpet",
            "marker": {
             "colorbar": {
              "outlinewidth": 0,
              "ticks": ""
             }
            }
           }
          ],
          "carpet": [
           {
            "aaxis": {
             "endlinecolor": "#A2B1C6",
             "gridcolor": "#506784",
             "linecolor": "#506784",
             "minorgridcolor": "#506784",
             "startlinecolor": "#A2B1C6"
            },
            "baxis": {
             "endlinecolor": "#A2B1C6",
             "gridcolor": "#506784",
             "linecolor": "#506784",
             "minorgridcolor": "#506784",
             "startlinecolor": "#A2B1C6"
            },
            "type": "carpet"
           }
          ],
          "table": [
           {
            "cells": {
             "fill": {
              "color": "#506784"
             },
             "line": {
              "color": "rgb(17,17,17)"
             }
            },
            "header": {
             "fill": {
              "color": "#2a3f5f"
             },
             "line": {
              "color": "rgb(17,17,17)"
             }
            },
            "type": "table"
           }
          ],
          "barpolar": [
           {
            "marker": {
             "line": {
              "color": "rgb(17,17,17)",
              "width": 0.5
             },
             "pattern": {
              "fillmode": "overlay",
              "size": 10,
              "solidity": 0.2
             }
            },
            "type": "barpolar"
           }
          ],
          "pie": [
           {
            "automargin": true,
            "type": "pie"
           }
          ]
         },
         "layout": {
          "autotypenumbers": "strict",
          "colorway": [
           "#636efa",
           "#EF553B",
           "#00cc96",
           "#ab63fa",
           "#FFA15A",
           "#19d3f3",
           "#FF6692",
           "#B6E880",
           "#FF97FF",
           "#FECB52"
          ],
          "font": {
           "color": "#f2f5fa"
          },
          "hovermode": "closest",
          "hoverlabel": {
           "align": "left"
          },
          "paper_bgcolor": "rgb(17,17,17)",
          "plot_bgcolor": "rgb(17,17,17)",
          "polar": {
           "bgcolor": "rgb(17,17,17)",
           "angularaxis": {
            "gridcolor": "#506784",
            "linecolor": "#506784",
            "ticks": ""
           },
           "radialaxis": {
            "gridcolor": "#506784",
            "linecolor": "#506784",
            "ticks": ""
           }
          },
          "ternary": {
           "bgcolor": "rgb(17,17,17)",
           "aaxis": {
            "gridcolor": "#506784",
            "linecolor": "#506784",
            "ticks": ""
           },
           "baxis": {
            "gridcolor": "#506784",
            "linecolor": "#506784",
            "ticks": ""
           },
           "caxis": {
            "gridcolor": "#506784",
            "linecolor": "#506784",
            "ticks": ""
           }
          },
          "coloraxis": {
           "colorbar": {
            "outlinewidth": 0,
            "ticks": ""
           }
          },
          "colorscale": {
           "sequential": [
            [
             0.0,
             "#0d0887"
            ],
            [
             0.1111111111111111,
             "#46039f"
            ],
            [
             0.2222222222222222,
             "#7201a8"
            ],
            [
             0.3333333333333333,
             "#9c179e"
            ],
            [
             0.4444444444444444,
             "#bd3786"
            ],
            [
             0.5555555555555556,
             "#d8576b"
            ],
            [
             0.6666666666666666,
             "#ed7953"
            ],
            [
             0.7777777777777778,
             "#fb9f3a"
            ],
            [
             0.8888888888888888,
             "#fdca26"
            ],
            [
             1.0,
             "#f0f921"
            ]
           ],
           "sequentialminus": [
            [
             0.0,
             "#0d0887"
            ],
            [
             0.1111111111111111,
             "#46039f"
            ],
            [
             0.2222222222222222,
             "#7201a8"
            ],
            [
             0.3333333333333333,
             "#9c179e"
            ],
            [
             0.4444444444444444,
             "#bd3786"
            ],
            [
             0.5555555555555556,
             "#d8576b"
            ],
            [
             0.6666666666666666,
             "#ed7953"
            ],
            [
             0.7777777777777778,
             "#fb9f3a"
            ],
            [
             0.8888888888888888,
             "#fdca26"
            ],
            [
             1.0,
             "#f0f921"
            ]
           ],
           "diverging": [
            [
             0,
             "#8e0152"
            ],
            [
             0.1,
             "#c51b7d"
            ],
            [
             0.2,
             "#de77ae"
            ],
            [
             0.3,
             "#f1b6da"
            ],
            [
             0.4,
             "#fde0ef"
            ],
            [
             0.5,
             "#f7f7f7"
            ],
            [
             0.6,
             "#e6f5d0"
            ],
            [
             0.7,
             "#b8e186"
            ],
            [
             0.8,
             "#7fbc41"
            ],
            [
             0.9,
             "#4d9221"
            ],
            [
             1,
             "#276419"
            ]
           ]
          },
          "xaxis": {
           "gridcolor": "#283442",
           "linecolor": "#506784",
           "ticks": "",
           "title": {
            "standoff": 15
           },
           "zerolinecolor": "#283442",
           "automargin": true,
           "zerolinewidth": 2
          },
          "yaxis": {
           "gridcolor": "#283442",
           "linecolor": "#506784",
           "ticks": "",
           "title": {
            "standoff": 15
           },
           "zerolinecolor": "#283442",
           "automargin": true,
           "zerolinewidth": 2
          },
          "scene": {
           "xaxis": {
            "backgroundcolor": "rgb(17,17,17)",
            "gridcolor": "#506784",
            "linecolor": "#506784",
            "showbackground": true,
            "ticks": "",
            "zerolinecolor": "#C8D4E3",
            "gridwidth": 2
           },
           "yaxis": {
            "backgroundcolor": "rgb(17,17,17)",
            "gridcolor": "#506784",
            "linecolor": "#506784",
            "showbackground": true,
            "ticks": "",
            "zerolinecolor": "#C8D4E3",
            "gridwidth": 2
           },
           "zaxis": {
            "backgroundcolor": "rgb(17,17,17)",
            "gridcolor": "#506784",
            "linecolor": "#506784",
            "showbackground": true,
            "ticks": "",
            "zerolinecolor": "#C8D4E3",
            "gridwidth": 2
           }
          },
          "shapedefaults": {
           "line": {
            "color": "#f2f5fa"
           }
          },
          "annotationdefaults": {
           "arrowcolor": "#f2f5fa",
           "arrowhead": 0,
           "arrowwidth": 1
          },
          "geo": {
           "bgcolor": "rgb(17,17,17)",
           "landcolor": "rgb(17,17,17)",
           "subunitcolor": "#506784",
           "showland": true,
           "showlakes": true,
           "lakecolor": "rgb(17,17,17)"
          },
          "title": {
           "x": 0.05
          },
          "updatemenudefaults": {
           "bgcolor": "#506784",
           "borderwidth": 0
          },
          "sliderdefaults": {
           "bgcolor": "#C8D4E3",
           "borderwidth": 1,
           "bordercolor": "rgb(17,17,17)",
           "tickwidth": 0
          },
          "mapbox": {
           "style": "dark"
          }
         }
        },
        "xaxis": {
         "anchor": "y",
         "domain": [
          0.0,
          1.0
         ],
         "title": {
          "text": "x"
         }
        },
        "yaxis": {
         "anchor": "x",
         "domain": [
          0.0,
          1.0
         ],
         "title": {
          "text": "index"
         }
        },
        "legend": {
         "tracegroupgap": 0
        },
        "margin": {
         "t": 60
        }
       },
       "config": {
        "plotlyServerURL": "https://plot.ly"
       }
      }
     },
     "metadata": {},
     "output_type": "display_data",
     "jetTransient": {
      "display_id": null
     }
    },
    {
     "data": {
      "application/vnd.plotly.v1+json": {
       "data": [
        {
         "hovertemplate": "x=%{x}<br>index=%{y}<extra></extra>",
         "legendgroup": "",
         "marker": {
          "color": "#636efa",
          "symbol": "circle"
         },
         "mode": "markers",
         "name": "",
         "showlegend": false,
         "x": {
          "dtype": "i1",
          "bdata": "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"
         },
         "xaxis": "x",
         "y": {
          "dtype": "i2",
          "bdata": "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"
         },
         "yaxis": "y",
         "type": "scattergl"
        }
       ],
       "layout": {
        "template": {
         "data": {
          "histogram2dcontour": [
           {
            "type": "histogram2dcontour",
            "colorbar": {
             "outlinewidth": 0,
             "ticks": ""
            },
            "colorscale": [
             [
              0.0,
              "#0d0887"
             ],
             [
              0.1111111111111111,
              "#46039f"
             ],
             [
              0.2222222222222222,
              "#7201a8"
             ],
             [
              0.3333333333333333,
              "#9c179e"
             ],
             [
              0.4444444444444444,
              "#bd3786"
             ],
             [
              0.5555555555555556,
              "#d8576b"
             ],
             [
              0.6666666666666666,
              "#ed7953"
             ],
             [
              0.7777777777777778,
              "#fb9f3a"
             ],
             [
              0.8888888888888888,
              "#fdca26"
             ],
             [
              1.0,
              "#f0f921"
             ]
            ]
           }
          ],
          "choropleth": [
           {
            "type": "choropleth",
            "colorbar": {
             "outlinewidth": 0,
             "ticks": ""
            }
           }
          ],
          "histogram2d": [
           {
            "type": "histogram2d",
            "colorbar": {
             "outlinewidth": 0,
             "ticks": ""
            },
            "colorscale": [
             [
              0.0,
              "#0d0887"
             ],
             [
              0.1111111111111111,
              "#46039f"
             ],
             [
              0.2222222222222222,
              "#7201a8"
             ],
             [
              0.3333333333333333,
              "#9c179e"
             ],
             [
              0.4444444444444444,
              "#bd3786"
             ],
             [
              0.5555555555555556,
              "#d8576b"
             ],
             [
              0.6666666666666666,
              "#ed7953"
             ],
             [
              0.7777777777777778,
              "#fb9f3a"
             ],
             [
              0.8888888888888888,
              "#fdca26"
             ],
             [
              1.0,
              "#f0f921"
             ]
            ]
           }
          ],
          "heatmap": [
           {
            "type": "heatmap",
            "colorbar": {
             "outlinewidth": 0,
             "ticks": ""
            },
            "colorscale": [
             [
              0.0,
              "#0d0887"
             ],
             [
              0.1111111111111111,
              "#46039f"
             ],
             [
              0.2222222222222222,
              "#7201a8"
             ],
             [
              0.3333333333333333,
              "#9c179e"
             ],
             [
              0.4444444444444444,
              "#bd3786"
             ],
             [
              0.5555555555555556,
              "#d8576b"
             ],
             [
              0.6666666666666666,
              "#ed7953"
             ],
             [
              0.7777777777777778,
              "#fb9f3a"
             ],
             [
              0.8888888888888888,
              "#fdca26"
             ],
             [
              1.0,
              "#f0f921"
             ]
            ]
           }
          ],
          "contourcarpet": [
           {
            "type": "contourcarpet",
            "colorbar": {
             "outlinewidth": 0,
             "ticks": ""
            }
           }
          ],
          "contour": [
           {
            "type": "contour",
            "colorbar": {
             "outlinewidth": 0,
             "ticks": ""
            },
            "colorscale": [
             [
              0.0,
              "#0d0887"
             ],
             [
              0.1111111111111111,
              "#46039f"
             ],
             [
              0.2222222222222222,
              "#7201a8"
             ],
             [
              0.3333333333333333,
              "#9c179e"
             ],
             [
              0.4444444444444444,
              "#bd3786"
             ],
             [
              0.5555555555555556,
              "#d8576b"
             ],
             [
              0.6666666666666666,
              "#ed7953"
             ],
             [
              0.7777777777777778,
              "#fb9f3a"
             ],
             [
              0.8888888888888888,
              "#fdca26"
             ],
             [
              1.0,
              "#f0f921"
             ]
            ]
           }
          ],
          "surface": [
           {
            "type": "surface",
            "colorbar": {
             "outlinewidth": 0,
             "ticks": ""
            },
            "colorscale": [
             [
              0.0,
              "#0d0887"
             ],
             [
              0.1111111111111111,
              "#46039f"
             ],
             [
              0.2222222222222222,
              "#7201a8"
             ],
             [
              0.3333333333333333,
              "#9c179e"
             ],
             [
              0.4444444444444444,
              "#bd3786"
             ],
             [
              0.5555555555555556,
              "#d8576b"
             ],
             [
              0.6666666666666666,
              "#ed7953"
             ],
             [
              0.7777777777777778,
              "#fb9f3a"
             ],
             [
              0.8888888888888888,
              "#fdca26"
             ],
             [
              1.0,
              "#f0f921"
             ]
            ]
           }
          ],
          "mesh3d": [
           {
            "type": "mesh3d",
            "colorbar": {
             "outlinewidth": 0,
             "ticks": ""
            }
           }
          ],
          "scatter": [
           {
            "marker": {
             "line": {
              "color": "#283442"
             }
            },
            "type": "scatter"
           }
          ],
          "parcoords": [
           {
            "type": "parcoords",
            "line": {
             "colorbar": {
              "outlinewidth": 0,
              "ticks": ""
             }
            }
           }
          ],
          "scatterpolargl": [
           {
            "type": "scatterpolargl",
            "marker": {
             "colorbar": {
              "outlinewidth": 0,
              "ticks": ""
             }
            }
           }
          ],
          "bar": [
           {
            "error_x": {
             "color": "#f2f5fa"
            },
            "error_y": {
             "color": "#f2f5fa"
            },
            "marker": {
             "line": {
              "color": "rgb(17,17,17)",
              "width": 0.5
             },
             "pattern": {
              "fillmode": "overlay",
              "size": 10,
              "solidity": 0.2
             }
            },
            "type": "bar"
           }
          ],
          "scattergeo": [
           {
            "type": "scattergeo",
            "marker": {
             "colorbar": {
              "outlinewidth": 0,
              "ticks": ""
             }
            }
           }
          ],
          "scatterpolar": [
           {
            "type": "scatterpolar",
            "marker": {
             "colorbar": {
              "outlinewidth": 0,
              "ticks": ""
             }
            }
           }
          ],
          "histogram": [
           {
            "marker": {
             "pattern": {
              "fillmode": "overlay",
              "size": 10,
              "solidity": 0.2
             }
            },
            "type": "histogram"
           }
          ],
          "scattergl": [
           {
            "marker": {
             "line": {
              "color": "#283442"
             }
            },
            "type": "scattergl"
           }
          ],
          "scatter3d": [
           {
            "type": "scatter3d",
            "line": {
             "colorbar": {
              "outlinewidth": 0,
              "ticks": ""
             }
            },
            "marker": {
             "colorbar": {
              "outlinewidth": 0,
              "ticks": ""
             }
            }
           }
          ],
          "scattermap": [
           {
            "type": "scattermap",
            "marker": {
             "colorbar": {
              "outlinewidth": 0,
              "ticks": ""
             }
            }
           }
          ],
          "scattermapbox": [
           {
            "type": "scattermapbox",
            "marker": {
             "colorbar": {
              "outlinewidth": 0,
              "ticks": ""
             }
            }
           }
          ],
          "scatterternary": [
           {
            "type": "scatterternary",
            "marker": {
             "colorbar": {
              "outlinewidth": 0,
              "ticks": ""
             }
            }
           }
          ],
          "scattercarpet": [
           {
            "type": "scattercarpet",
            "marker": {
             "colorbar": {
              "outlinewidth": 0,
              "ticks": ""
             }
            }
           }
          ],
          "carpet": [
           {
            "aaxis": {
             "endlinecolor": "#A2B1C6",
             "gridcolor": "#506784",
             "linecolor": "#506784",
             "minorgridcolor": "#506784",
             "startlinecolor": "#A2B1C6"
            },
            "baxis": {
             "endlinecolor": "#A2B1C6",
             "gridcolor": "#506784",
             "linecolor": "#506784",
             "minorgridcolor": "#506784",
             "startlinecolor": "#A2B1C6"
            },
            "type": "carpet"
           }
          ],
          "table": [
           {
            "cells": {
             "fill": {
              "color": "#506784"
             },
             "line": {
              "color": "rgb(17,17,17)"
             }
            },
            "header": {
             "fill": {
              "color": "#2a3f5f"
             },
             "line": {
              "color": "rgb(17,17,17)"
             }
            },
            "type": "table"
           }
          ],
          "barpolar": [
           {
            "marker": {
             "line": {
              "color": "rgb(17,17,17)",
              "width": 0.5
             },
             "pattern": {
              "fillmode": "overlay",
              "size": 10,
              "solidity": 0.2
             }
            },
            "type": "barpolar"
           }
          ],
          "pie": [
           {
            "automargin": true,
            "type": "pie"
           }
          ]
         },
         "layout": {
          "autotypenumbers": "strict",
          "colorway": [
           "#636efa",
           "#EF553B",
           "#00cc96",
           "#ab63fa",
           "#FFA15A",
           "#19d3f3",
           "#FF6692",
           "#B6E880",
           "#FF97FF",
           "#FECB52"
          ],
          "font": {
           "color": "#f2f5fa"
          },
          "hovermode": "closest",
          "hoverlabel": {
           "align": "left"
          },
          "paper_bgcolor": "rgb(17,17,17)",
          "plot_bgcolor": "rgb(17,17,17)",
          "polar": {
           "bgcolor": "rgb(17,17,17)",
           "angularaxis": {
            "gridcolor": "#506784",
            "linecolor": "#506784",
            "ticks": ""
           },
           "radialaxis": {
            "gridcolor": "#506784",
            "linecolor": "#506784",
            "ticks": ""
           }
          },
          "ternary": {
           "bgcolor": "rgb(17,17,17)",
           "aaxis": {
            "gridcolor": "#506784",
            "linecolor": "#506784",
            "ticks": ""
           },
           "baxis": {
            "gridcolor": "#506784",
            "linecolor": "#506784",
            "ticks": ""
           },
           "caxis": {
            "gridcolor": "#506784",
            "linecolor": "#506784",
            "ticks": ""
           }
          },
          "coloraxis": {
           "colorbar": {
            "outlinewidth": 0,
            "ticks": ""
           }
          },
          "colorscale": {
           "sequential": [
            [
             0.0,
             "#0d0887"
            ],
            [
             0.1111111111111111,
             "#46039f"
            ],
            [
             0.2222222222222222,
             "#7201a8"
            ],
            [
             0.3333333333333333,
             "#9c179e"
            ],
            [
             0.4444444444444444,
             "#bd3786"
            ],
            [
             0.5555555555555556,
             "#d8576b"
            ],
            [
             0.6666666666666666,
             "#ed7953"
            ],
            [
             0.7777777777777778,
             "#fb9f3a"
            ],
            [
             0.8888888888888888,
             "#fdca26"
            ],
            [
             1.0,
             "#f0f921"
            ]
           ],
           "sequentialminus": [
            [
             0.0,
             "#0d0887"
            ],
            [
             0.1111111111111111,
             "#46039f"
            ],
            [
             0.2222222222222222,
             "#7201a8"
            ],
            [
             0.3333333333333333,
             "#9c179e"
            ],
            [
             0.4444444444444444,
             "#bd3786"
            ],
            [
             0.5555555555555556,
             "#d8576b"
            ],
            [
             0.6666666666666666,
             "#ed7953"
            ],
            [
             0.7777777777777778,
             "#fb9f3a"
            ],
            [
             0.8888888888888888,
             "#fdca26"
            ],
            [
             1.0,
             "#f0f921"
            ]
           ],
           "diverging": [
            [
             0,
             "#8e0152"
            ],
            [
             0.1,
             "#c51b7d"
            ],
            [
             0.2,
             "#de77ae"
            ],
            [
             0.3,
             "#f1b6da"
            ],
            [
             0.4,
             "#fde0ef"
            ],
            [
             0.5,
             "#f7f7f7"
            ],
            [
             0.6,
             "#e6f5d0"
            ],
            [
             0.7,
             "#b8e186"
            ],
            [
             0.8,
             "#7fbc41"
            ],
            [
             0.9,
             "#4d9221"
            ],
            [
             1,
             "#276419"
            ]
           ]
          },
          "xaxis": {
           "gridcolor": "#283442",
           "linecolor": "#506784",
           "ticks": "",
           "title": {
            "standoff": 15
           },
           "zerolinecolor": "#283442",
           "automargin": true,
           "zerolinewidth": 2
          },
          "yaxis": {
           "gridcolor": "#283442",
           "linecolor": "#506784",
           "ticks": "",
           "title": {
            "standoff": 15
           },
           "zerolinecolor": "#283442",
           "automargin": true,
           "zerolinewidth": 2
          },
          "scene": {
           "xaxis": {
            "backgroundcolor": "rgb(17,17,17)",
            "gridcolor": "#506784",
            "linecolor": "#506784",
            "showbackground": true,
            "ticks": "",
            "zerolinecolor": "#C8D4E3",
            "gridwidth": 2
           },
           "yaxis": {
            "backgroundcolor": "rgb(17,17,17)",
            "gridcolor": "#506784",
            "linecolor": "#506784",
            "showbackground": true,
            "ticks": "",
            "zerolinecolor": "#C8D4E3",
            "gridwidth": 2
           },
           "zaxis": {
            "backgroundcolor": "rgb(17,17,17)",
            "gridcolor": "#506784",
            "linecolor": "#506784",
            "showbackground": true,
            "ticks": "",
            "zerolinecolor": "#C8D4E3",
            "gridwidth": 2
           }
          },
          "shapedefaults": {
           "line": {
            "color": "#f2f5fa"
           }
          },
          "annotationdefaults": {
           "arrowcolor": "#f2f5fa",
           "arrowhead": 0,
           "arrowwidth": 1
          },
          "geo": {
           "bgcolor": "rgb(17,17,17)",
           "landcolor": "rgb(17,17,17)",
           "subunitcolor": "#506784",
           "showland": true,
           "showlakes": true,
           "lakecolor": "rgb(17,17,17)"
          },
          "title": {
           "x": 0.05
          },
          "updatemenudefaults": {
           "bgcolor": "#506784",
           "borderwidth": 0
          },
          "sliderdefaults": {
           "bgcolor": "#C8D4E3",
           "borderwidth": 1,
           "bordercolor": "rgb(17,17,17)",
           "tickwidth": 0
          },
          "mapbox": {
           "style": "dark"
          }
         }
        },
        "xaxis": {
         "anchor": "y",
         "domain": [
          0.0,
          1.0
         ],
         "title": {
          "text": "x"
         }
        },
        "yaxis": {
         "anchor": "x",
         "domain": [
          0.0,
          1.0
         ],
         "title": {
          "text": "index"
         }
        },
        "legend": {
         "tracegroupgap": 0
        },
        "margin": {
         "t": 60
        }
       },
       "config": {
        "plotlyServerURL": "https://plot.ly"
       }
      }
     },
     "metadata": {},
     "output_type": "display_data",
     "jetTransient": {
      "display_id": null
     }
    },
    {
     "data": {
      "application/vnd.plotly.v1+json": {
       "data": [
        {
         "hovertemplate": "x=%{x}<br>index=%{y}<extra></extra>",
         "legendgroup": "",
         "marker": {
          "color": "#636efa",
          "symbol": "circle"
         },
         "mode": "markers",
         "name": "",
         "showlegend": false,
         "x": {
          "dtype": "i1",
          "bdata": "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"
         },
         "xaxis": "x",
         "y": {
          "dtype": "i2",
          "bdata": "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"
         },
         "yaxis": "y",
         "type": "scattergl"
        }
       ],
       "layout": {
        "template": {
         "data": {
          "histogram2dcontour": [
           {
            "type": "histogram2dcontour",
            "colorbar": {
             "outlinewidth": 0,
             "ticks": ""
            },
            "colorscale": [
             [
              0.0,
              "#0d0887"
             ],
             [
              0.1111111111111111,
              "#46039f"
             ],
             [
              0.2222222222222222,
              "#7201a8"
             ],
             [
              0.3333333333333333,
              "#9c179e"
             ],
             [
              0.4444444444444444,
              "#bd3786"
             ],
             [
              0.5555555555555556,
              "#d8576b"
             ],
             [
              0.6666666666666666,
              "#ed7953"
             ],
             [
              0.7777777777777778,
              "#fb9f3a"
             ],
             [
              0.8888888888888888,
              "#fdca26"
             ],
             [
              1.0,
              "#f0f921"
             ]
            ]
           }
          ],
          "choropleth": [
           {
            "type": "choropleth",
            "colorbar": {
             "outlinewidth": 0,
             "ticks": ""
            }
           }
          ],
          "histogram2d": [
           {
            "type": "histogram2d",
            "colorbar": {
             "outlinewidth": 0,
             "ticks": ""
            },
            "colorscale": [
             [
              0.0,
              "#0d0887"
             ],
             [
              0.1111111111111111,
              "#46039f"
             ],
             [
              0.2222222222222222,
              "#7201a8"
             ],
             [
              0.3333333333333333,
              "#9c179e"
             ],
             [
              0.4444444444444444,
              "#bd3786"
             ],
             [
              0.5555555555555556,
              "#d8576b"
             ],
             [
              0.6666666666666666,
              "#ed7953"
             ],
             [
              0.7777777777777778,
              "#fb9f3a"
             ],
             [
              0.8888888888888888,
              "#fdca26"
             ],
             [
              1.0,
              "#f0f921"
             ]
            ]
           }
          ],
          "heatmap": [
           {
            "type": "heatmap",
            "colorbar": {
             "outlinewidth": 0,
             "ticks": ""
            },
            "colorscale": [
             [
              0.0,
              "#0d0887"
             ],
             [
              0.1111111111111111,
              "#46039f"
             ],
             [
              0.2222222222222222,
              "#7201a8"
             ],
             [
              0.3333333333333333,
              "#9c179e"
             ],
             [
              0.4444444444444444,
              "#bd3786"
             ],
             [
              0.5555555555555556,
              "#d8576b"
             ],
             [
              0.6666666666666666,
              "#ed7953"
             ],
             [
              0.7777777777777778,
              "#fb9f3a"
             ],
             [
              0.8888888888888888,
              "#fdca26"
             ],
             [
              1.0,
              "#f0f921"
             ]
            ]
           }
          ],
          "contourcarpet": [
           {
            "type": "contourcarpet",
            "colorbar": {
             "outlinewidth": 0,
             "ticks": ""
            }
           }
          ],
          "contour": [
           {
            "type": "contour",
            "colorbar": {
             "outlinewidth": 0,
             "ticks": ""
            },
            "colorscale": [
             [
              0.0,
              "#0d0887"
             ],
             [
              0.1111111111111111,
              "#46039f"
             ],
             [
              0.2222222222222222,
              "#7201a8"
             ],
             [
              0.3333333333333333,
              "#9c179e"
             ],
             [
              0.4444444444444444,
              "#bd3786"
             ],
             [
              0.5555555555555556,
              "#d8576b"
             ],
             [
              0.6666666666666666,
              "#ed7953"
             ],
             [
              0.7777777777777778,
              "#fb9f3a"
             ],
             [
              0.8888888888888888,
              "#fdca26"
             ],
             [
              1.0,
              "#f0f921"
             ]
            ]
           }
          ],
          "surface": [
           {
            "type": "surface",
            "colorbar": {
             "outlinewidth": 0,
             "ticks": ""
            },
            "colorscale": [
             [
              0.0,
              "#0d0887"
             ],
             [
              0.1111111111111111,
              "#46039f"
             ],
             [
              0.2222222222222222,
              "#7201a8"
             ],
             [
              0.3333333333333333,
              "#9c179e"
             ],
             [
              0.4444444444444444,
              "#bd3786"
             ],
             [
              0.5555555555555556,
              "#d8576b"
             ],
             [
              0.6666666666666666,
              "#ed7953"
             ],
             [
              0.7777777777777778,
              "#fb9f3a"
             ],
             [
              0.8888888888888888,
              "#fdca26"
             ],
             [
              1.0,
              "#f0f921"
             ]
            ]
           }
          ],
          "mesh3d": [
           {
            "type": "mesh3d",
            "colorbar": {
             "outlinewidth": 0,
             "ticks": ""
            }
           }
          ],
          "scatter": [
           {
            "marker": {
             "line": {
              "color": "#283442"
             }
            },
            "type": "scatter"
           }
          ],
          "parcoords": [
           {
            "type": "parcoords",
            "line": {
             "colorbar": {
              "outlinewidth": 0,
              "ticks": ""
             }
            }
           }
          ],
          "scatterpolargl": [
           {
            "type": "scatterpolargl",
            "marker": {
             "colorbar": {
              "outlinewidth": 0,
              "ticks": ""
             }
            }
           }
          ],
          "bar": [
           {
            "error_x": {
             "color": "#f2f5fa"
            },
            "error_y": {
             "color": "#f2f5fa"
            },
            "marker": {
             "line": {
              "color": "rgb(17,17,17)",
              "width": 0.5
             },
             "pattern": {
              "fillmode": "overlay",
              "size": 10,
              "solidity": 0.2
             }
            },
            "type": "bar"
           }
          ],
          "scattergeo": [
           {
            "type": "scattergeo",
            "marker": {
             "colorbar": {
              "outlinewidth": 0,
              "ticks": ""
             }
            }
           }
          ],
          "scatterpolar": [
           {
            "type": "scatterpolar",
            "marker": {
             "colorbar": {
              "outlinewidth": 0,
              "ticks": ""
             }
            }
           }
          ],
          "histogram": [
           {
            "marker": {
             "pattern": {
              "fillmode": "overlay",
              "size": 10,
              "solidity": 0.2
             }
            },
            "type": "histogram"
           }
          ],
          "scattergl": [
           {
            "marker": {
             "line": {
              "color": "#283442"
             }
            },
            "type": "scattergl"
           }
          ],
          "scatter3d": [
           {
            "type": "scatter3d",
            "line": {
             "colorbar": {
              "outlinewidth": 0,
              "ticks": ""
             }
            },
            "marker": {
             "colorbar": {
              "outlinewidth": 0,
              "ticks": ""
             }
            }
           }
          ],
          "scattermap": [
           {
            "type": "scattermap",
            "marker": {
             "colorbar": {
              "outlinewidth": 0,
              "ticks": ""
             }
            }
           }
          ],
          "scattermapbox": [
           {
            "type": "scattermapbox",
            "marker": {
             "colorbar": {
              "outlinewidth": 0,
              "ticks": ""
             }
            }
           }
          ],
          "scatterternary": [
           {
            "type": "scatterternary",
            "marker": {
             "colorbar": {
              "outlinewidth": 0,
              "ticks": ""
             }
            }
           }
          ],
          "scattercarpet": [
           {
            "type": "scattercarpet",
            "marker": {
             "colorbar": {
              "outlinewidth": 0,
              "ticks": ""
             }
            }
           }
          ],
          "carpet": [
           {
            "aaxis": {
             "endlinecolor": "#A2B1C6",
             "gridcolor": "#506784",
             "linecolor": "#506784",
             "minorgridcolor": "#506784",
             "startlinecolor": "#A2B1C6"
            },
            "baxis": {
             "endlinecolor": "#A2B1C6",
             "gridcolor": "#506784",
             "linecolor": "#506784",
             "minorgridcolor": "#506784",
             "startlinecolor": "#A2B1C6"
            },
            "type": "carpet"
           }
          ],
          "table": [
           {
            "cells": {
             "fill": {
              "color": "#506784"
             },
             "line": {
              "color": "rgb(17,17,17)"
             }
            },
            "header": {
             "fill": {
              "color": "#2a3f5f"
             },
             "line": {
              "color": "rgb(17,17,17)"
             }
            },
            "type": "table"
           }
          ],
          "barpolar": [
           {
            "marker": {
             "line": {
              "color": "rgb(17,17,17)",
              "width": 0.5
             },
             "pattern": {
              "fillmode": "overlay",
              "size": 10,
              "solidity": 0.2
             }
            },
            "type": "barpolar"
           }
          ],
          "pie": [
           {
            "automargin": true,
            "type": "pie"
           }
          ]
         },
         "layout": {
          "autotypenumbers": "strict",
          "colorway": [
           "#636efa",
           "#EF553B",
           "#00cc96",
           "#ab63fa",
           "#FFA15A",
           "#19d3f3",
           "#FF6692",
           "#B6E880",
           "#FF97FF",
           "#FECB52"
          ],
          "font": {
           "color": "#f2f5fa"
          },
          "hovermode": "closest",
          "hoverlabel": {
           "align": "left"
          },
          "paper_bgcolor": "rgb(17,17,17)",
          "plot_bgcolor": "rgb(17,17,17)",
          "polar": {
           "bgcolor": "rgb(17,17,17)",
           "angularaxis": {
            "gridcolor": "#506784",
            "linecolor": "#506784",
            "ticks": ""
           },
           "radialaxis": {
            "gridcolor": "#506784",
            "linecolor": "#506784",
            "ticks": ""
           }
          },
          "ternary": {
           "bgcolor": "rgb(17,17,17)",
           "aaxis": {
            "gridcolor": "#506784",
            "linecolor": "#506784",
            "ticks": ""
           },
           "baxis": {
            "gridcolor": "#506784",
            "linecolor": "#506784",
            "ticks": ""
           },
           "caxis": {
            "gridcolor": "#506784",
            "linecolor": "#506784",
            "ticks": ""
           }
          },
          "coloraxis": {
           "colorbar": {
            "outlinewidth": 0,
            "ticks": ""
           }
          },
          "colorscale": {
           "sequential": [
            [
             0.0,
             "#0d0887"
            ],
            [
             0.1111111111111111,
             "#46039f"
            ],
            [
             0.2222222222222222,
             "#7201a8"
            ],
            [
             0.3333333333333333,
             "#9c179e"
            ],
            [
             0.4444444444444444,
             "#bd3786"
            ],
            [
             0.5555555555555556,
             "#d8576b"
            ],
            [
             0.6666666666666666,
             "#ed7953"
            ],
            [
             0.7777777777777778,
             "#fb9f3a"
            ],
            [
             0.8888888888888888,
             "#fdca26"
            ],
            [
             1.0,
             "#f0f921"
            ]
           ],
           "sequentialminus": [
            [
             0.0,
             "#0d0887"
            ],
            [
             0.1111111111111111,
             "#46039f"
            ],
            [
             0.2222222222222222,
             "#7201a8"
            ],
            [
             0.3333333333333333,
             "#9c179e"
            ],
            [
             0.4444444444444444,
             "#bd3786"
            ],
            [
             0.5555555555555556,
             "#d8576b"
            ],
            [
             0.6666666666666666,
             "#ed7953"
            ],
            [
             0.7777777777777778,
             "#fb9f3a"
            ],
            [
             0.8888888888888888,
             "#fdca26"
            ],
            [
             1.0,
             "#f0f921"
            ]
           ],
           "diverging": [
            [
             0,
             "#8e0152"
            ],
            [
             0.1,
             "#c51b7d"
            ],
            [
             0.2,
             "#de77ae"
            ],
            [
             0.3,
             "#f1b6da"
            ],
            [
             0.4,
             "#fde0ef"
            ],
            [
             0.5,
             "#f7f7f7"
            ],
            [
             0.6,
             "#e6f5d0"
            ],
            [
             0.7,
             "#b8e186"
            ],
            [
             0.8,
             "#7fbc41"
            ],
            [
             0.9,
             "#4d9221"
            ],
            [
             1,
             "#276419"
            ]
           ]
          },
          "xaxis": {
           "gridcolor": "#283442",
           "linecolor": "#506784",
           "ticks": "",
           "title": {
            "standoff": 15
           },
           "zerolinecolor": "#283442",
           "automargin": true,
           "zerolinewidth": 2
          },
          "yaxis": {
           "gridcolor": "#283442",
           "linecolor": "#506784",
           "ticks": "",
           "title": {
            "standoff": 15
           },
           "zerolinecolor": "#283442",
           "automargin": true,
           "zerolinewidth": 2
          },
          "scene": {
           "xaxis": {
            "backgroundcolor": "rgb(17,17,17)",
            "gridcolor": "#506784",
            "linecolor": "#506784",
            "showbackground": true,
            "ticks": "",
            "zerolinecolor": "#C8D4E3",
            "gridwidth": 2
           },
           "yaxis": {
            "backgroundcolor": "rgb(17,17,17)",
            "gridcolor": "#506784",
            "linecolor": "#506784",
            "showbackground": true,
            "ticks": "",
            "zerolinecolor": "#C8D4E3",
            "gridwidth": 2
           },
           "zaxis": {
            "backgroundcolor": "rgb(17,17,17)",
            "gridcolor": "#506784",
            "linecolor": "#506784",
            "showbackground": true,
            "ticks": "",
            "zerolinecolor": "#C8D4E3",
            "gridwidth": 2
           }
          },
          "shapedefaults": {
           "line": {
            "color": "#f2f5fa"
           }
          },
          "annotationdefaults": {
           "arrowcolor": "#f2f5fa",
           "arrowhead": 0,
           "arrowwidth": 1
          },
          "geo": {
           "bgcolor": "rgb(17,17,17)",
           "landcolor": "rgb(17,17,17)",
           "subunitcolor": "#506784",
           "showland": true,
           "showlakes": true,
           "lakecolor": "rgb(17,17,17)"
          },
          "title": {
           "x": 0.05
          },
          "updatemenudefaults": {
           "bgcolor": "#506784",
           "borderwidth": 0
          },
          "sliderdefaults": {
           "bgcolor": "#C8D4E3",
           "borderwidth": 1,
           "bordercolor": "rgb(17,17,17)",
           "tickwidth": 0
          },
          "mapbox": {
           "style": "dark"
          }
         }
        },
        "xaxis": {
         "anchor": "y",
         "domain": [
          0.0,
          1.0
         ],
         "title": {
          "text": "x"
         }
        },
        "yaxis": {
         "anchor": "x",
         "domain": [
          0.0,
          1.0
         ],
         "title": {
          "text": "index"
         }
        },
        "legend": {
         "tracegroupgap": 0
        },
        "margin": {
         "t": 60
        }
       },
       "config": {
        "plotlyServerURL": "https://plot.ly"
       }
      }
     },
     "metadata": {},
     "output_type": "display_data",
     "jetTransient": {
      "display_id": null
     }
    }
   ],
   "execution_count": 42
  },
  {
   "metadata": {
    "ExecuteTime": {
     "end_time": "2025-09-22T16:46:45.086702Z",
     "start_time": "2025-09-22T15:41:52.956367Z"
    }
   },
   "cell_type": "code",
   "source": [
    "#TODO visualisaties van task 3\n",
    "# in apart codeblock "
   ],
   "id": "7505cad42ca4aa05",
   "outputs": [],
   "execution_count": 11
  },
  {
   "cell_type": "markdown",
   "id": "2d8d2baa9a81b136",
   "metadata": {},
   "source": [
    "Task 4"
   ]
  },
  {
   "cell_type": "code",
   "id": "878a2061917b83d8",
   "metadata": {
    "ExecuteTime": {
     "end_time": "2025-09-22T16:46:45.101516Z",
     "start_time": "2025-09-22T15:42:48.501879Z"
    }
   },
   "source": [
    "# manual Silhouette score, is zo volgensmij goed. Moet alleen zoeken hoe ik deze waardes kan pakken uit de labels\n",
    "import numpy as np\n",
    "def Silhouette_score(point, labelSELF, labels, Data):\n",
    "    clusterSELF = Data[labels == labelSELF].to_numpy()\n",
    "    clusters = Data[labels != labelSELF].to_numpy()\n",
    "    afstand = 0\n",
    "\n",
    "    for points in clusterSELF:\n",
    "        if set(points) == set(point):\n",
    "            continue\n",
    "        afstand += np.linalg.norm(point-points)\n",
    "    a = afstand/len(clusterSELF)\n",
    "\n",
    "    lowest = 999999999\n",
    "    clustr = None\n",
    "    for clust in clusters:\n",
    "        afstand_nearest = 0\n",
    "        for points in clust:\n",
    "            afstand_nearest += np.linalg.norm(point-points)\n",
    "        dis = afstand_nearest/len(clust)\n",
    "        if dis < lowest:\n",
    "            lowest = dis\n",
    "            clustr = clust\n",
    "    b = lowest\n",
    "    return (b-a)/(max(b,a))\n",
    "\n",
    "def Silhouette_scores(x, labels):\n",
    "    n = len(x)\n",
    "    sil_values = []\n",
    "    for i in range(n):\n",
    "        sil_values.append(Silhouette_score(point=x.iloc[i].to_numpy(), labelSELF = labels[i], labels = labels, Data= x))\n",
    "    print(\"Silhouette score:\", sil_values)\n",
    "\n",
    "from sklearn.metrics import davies_bouldin_score\n",
    "print(\"Silhouette scores:\")\n",
    "print(f\"Affinity propagation: {Silhouette_scores(Sample, labels)}\")\n",
    "print(f\"DBSCAN: {Silhouette_scores(Data[:1000], labels2[:1000])}\")\n",
    "print(f\"Birch Clustering: {Silhouette_scores(Data[:1000], labels3[:1000])}\")\n",
    "print()\n",
    "\n",
    "# Davies Buildin Score\n",
    "from sklearn.metrics import davies_bouldin_score\n",
    "print(\"Davies Bouldin score:\")\n",
    "print(f\"Affinity propogation: {davies_bouldin_score(Sample, labels)}\")\n",
    "print(f\"DBSCAN: {davies_bouldin_score(Data, labels2)}\")\n",
    "print(f\"Birch Clustering: {davies_bouldin_score(Data, labels3)}\")\n",
    "print()\n",
    "# calinski-harabasz index\n",
    "from sklearn.metrics import calinski_harabasz_score\n",
    "print(\"Calinski Harabasz score:\")\n",
    "print(f\"Affinity propogation: {calinski_harabasz_score(Sample, labels)}\")\n",
    "print(f\"DBSCAN: {calinski_harabasz_score(Data, labels2)}\")\n",
    "print(f\"Birch Clustering: {calinski_harabasz_score(Data, labels3)}\")"
   ],
   "outputs": [
    {
     "name": "stdout",
     "output_type": "stream",
     "text": [
      "Silhouette scores:\n",
      "Silhouette score: [1.0, 0.878736446749771, 0.7662484431530868, 0.7742817897861408, 0.8559688408548123, 0.8651070663856432, 0.8488157732650228, 1.0, 0.5017090279459387, 0.9101124486149625, 0.9643520914369468, 0.9332328992509247, 1.0, 0.9416626145018047, 0.9048491625736388, 0.22538804048262887, 0.8425444813996091, 0.9115544375353146, 0.781607933695057, 0.8649089598043697, 0.7188384382366519, 0.9002297825027985, 0.9215791996921291, 0.15624529209219484, 0.18190518222570262, 0.9633886754028588, 1.0, 0.7409260823370911, 0.5284083746125419, 1.0, 0.22451265203760906, 0.8861444525679153, 0.7880819519474844, 0.7681485163825628, 0.8341073592595727, 0.8843085345251915, 0.9262357892423178, 0.9017642999473482, 0.41602349757859997, 0.8200938893912628, 1.0, 1.0, 0.8364365920601684, 1.0, 0.9383146253162942, 0.1405826058333037, 0.8567189338327121, 0.9025150945380129, 0.6436352893952269, 0.40530132418574644, 0.9297880585380399, 0.9368441824296635, 0.7133637862350329, 0.9168833867469508, 0.27522890933646804, 0.8572641996330076, 0.9119500526984787, 0.8931740066974667, 0.889623327962245, 1.0, 0.9114279628487496, 0.9266057656085862, 1.0, 0.912803812723129, 0.9013461175310676, 0.8247167137104772, 0.7547979131668452, 0.8758788955356349, 0.8337630422876737, 1.0, 0.8377858067970559, 0.7474271544237345, 0.941645298175984, 0.9091916197140493, 0.9564512348473307, 0.1727499858119177, 0.7756093397845496, 0.7953918936429794, 0.8649346348273064, 0.7991611794443106, 0.3180565303361017, 0.8366766566624941, 0.8726008959768345, 0.8628460294107066, 0.8794346477648323, 1.0, 0.823444888657226, 0.9132414512853441, 0.6351885485268812, 0.895255651543489, 0.7157806150062415, 0.9133864691097322, 0.6981599258283441, 0.04613396160442343, 0.8561468043692952, 0.39433466056169675, 0.8115451264437428, 1.0, 0.8452643940000213, 0.910693092886235, 0.8334659864769697, 0.9951930113049032, 0.8012775668795612, 0.9102199898222416, 0.8481858014605075, 0.9373384887567257, 1.0, 0.93111579479421, 0.9615737161833551, 0.8789888138296031, 0.8543189967272603, 0.86130525604087, 0.7670667756542163, 0.8762332581783131, 1.0, 0.9039533010468562, 0.9268204532738779, 0.8600300813517435, 0.7604212567209343, 0.7305632733138623, 0.19477175271272879, 0.8531239748522795, 0.5278502383259616, 0.7022940692315022, 0.9160029322259335, 0.9012985743440669, 0.4078435321837605, 0.6065352326447847, 0.9281542595715542, 0.9518467620181864, 0.8179340769198765, 0.7514231786398883, 0.8700673210640291, 0.850817866129349, 0.9104297811013428, 0.9636398631011088, 0.7274399989991386, 0.8893505523312308, 0.7900402759617924, 0.5944247294097893, 0.6873790643795885, 0.8902890379200717, 0.6354069008567641, 0.9001543209722845, 0.8458913031440725, 0.8686431525337575, 0.5109849362079238, 0.8048532942264945, 0.859643406581549, 0.6052001344739095, 0.7977237723956969, 0.8838022664396575, 0.8989974297883375, 0.8261972125573749, 0.5834515988991201, 0.8874034232368364, 1.0, 0.9397580006250413, 0.7922477615583187, 1.0, 0.81734723267095, 0.8999292643560501, 0.9243251109243655, 0.940028975354652, 0.981276738107276, 1.0, 0.4067628671148576, 0.8908683752491139, 0.7496207071930209, 0.8062090418649768, 0.9090332016919374, 0.9278871211626831, 0.24684407383504944, 0.9324561873324894, 0.8769164868821707, 0.7361396172996462, 0.9139477073730792, 0.8291113074683364, 0.7570630388314776, 0.9396318230734295, 0.9054209395348842, 0.6762435135791696, 0.8262988202961252, 0.9042961985827908, 0.9262842046700165, 0.6925736663725405, 0.8279135630623001, 0.8302437760238581, 0.9083209320894429, 0.905717626746716, 0.8380096790982039, 0.20203868827712146, 0.8321826511695564, 0.8836800993690812, 0.8523242171822052, 0.9725341796837669, 0.4412993499598802, 0.8517939089245935, 0.30471598326145, 0.3256364217305592, 0.9619771575819381, 1.0, 0.8809990034948423, 0.8672533182255152, 0.9126920914665045, 0.5974493423178712, 1.0, 0.900978312017249, 0.6310771353029332, 0.8965442366036993, 0.4388948667634863, 0.8019524301274409, 0.342037363110488, 0.8247024601352401, 0.9624280154496104, 0.7751379182955953, 0.8916461024114979, 0.9283337334649178, 0.9112736101496122, 0.8918142346097679, 0.8913826490277138, 0.8135328254396587, 0.811700224807518, 0.9068425470127331, 0.8857968683160773, 0.9189831369080564, 0.9265111430119107, 0.887475803854876, 0.8344248668696134, 0.9322908280605936, 0.9120749794667217, 1.0, 0.8053455927038066, 0.38717612646846183, 0.8478614399789532, 0.9701907300176608, 1.0, 0.7960783410747972, 1.0, 0.9488307449403276, 0.8414483336305123, 1.0, 0.9335188234192123, 0.843644151732333, 0.36342776849044217, 0.7883532327144478, 0.8149712238426171, 0.8512586839888834, 0.9334092279623143, 0.913758305481753, 0.21812555082016447, 1.0, 0.882334362145265, 0.28452935999096846, 1.0, 0.4216057992900358, 0.9179889279200567, 0.8989300159061382, 0.33519487688167415, 0.7993914523854561, 0.8200561847743135, 0.9617394264457363, 0.830599862526614, 0.7867765229624926, 0.8807891233136431, 0.970371066177346, 0.20438773934269838, 0.4901707833377785, 0.9108906936208179, 1.0, 0.6318227416628026, 0.8554611067262755, 0.8906366764491677, 0.8471958861354772, 0.8035364490749254, 0.7295190432293381, 0.9524658118759204, 0.8273343423087007, 0.9466127627165587, 0.9115977707872228, 0.9519968479934562, 0.8697965103360648, 0.6786866447639239, 0.7211538990441915, 0.925406388755204, 0.952007623480206, 1.0, 0.44030545921976927, 0.8869838239586574, 0.8474312871465132, 0.8674234883380542, 0.8101614694519407, 0.938515438036418, 0.9304945927861596, 0.30312107237684366, 0.9592331898393095, 0.9184910823906908, 0.8793424619146171, 0.8224218040188762, 0.7363713485783095, 0.8008948066336432, 0.9151594459906536, 0.9152276324219134, 0.9951836810411191, 0.9476005953807057, 0.8183318525885686, 0.8530456146069375, 0.9320300674782621, 0.8721830258692116, 0.7576605955986367, 0.8439687126785914, 0.8274501008299554, 0.8404980213032458, 0.8264127655352626, 0.8511482060029736, 0.8503224389518155, 0.8984895194591248, 0.8966387768911208, 0.9264849328466843, 0.8977482431940506, 0.7881908535607812, 0.7000261376521285, 0.9345809051764296, 0.8398081262072131, 0.9045476724033613, 1.0, 0.93313689648742, 0.3539149349297332, 0.6221567094982423, 1.0, 0.698809690758875, 0.5884526350978327, 0.8731887952372237, 0.8825613199069693, 1.0, 1.0, 0.880803806038974, 0.8629696016420307, 0.6717294171443802, 0.8830990261364383, 0.8884678675154667, 0.8173189927180426, 0.6816102612809033, 0.8225942687653999, 0.794351637413139, 0.8970514562566139, 0.8443648776723106, 0.8058370393231858, 0.8266304049732899, 0.7885368697099742, 1.0, 0.8347245876593954, 0.8384319318581626, 1.0, 0.8688587467680977, 0.8953568559407227, 0.8445934470323074, 0.8983367737352767, 0.3325796947015099, 0.8315327876811378, 0.8978663818531851, 0.7922534199504911, 0.2274281159375565, 0.955077126843869, 1.0, 0.8991809877333324, 0.8525941760127892, 0.6216341024323839, 1.0, 0.3433681495018231, 0.8677349258314949, 0.2626744502489437, 0.34297377330986956, 0.8674896449212206, 0.26854011421348833, 1.0, 0.9036745283103876, 0.9066735819042814, 0.8477643456437283, 1.0, 0.6315374466656296, 0.915015354103883, 0.8068445075860736, 0.8773333238520691, 0.9322696323585836, 0.848948314746134, 1.0, 0.8014823612024552, 0.8058897297896233, 0.8800937960636009, 0.8589815140959142, 0.84687324590065, 0.8524120853267367, 0.9023502809291343, 0.3851313278807067, 0.7606403616947143, 0.9103154925571026, 0.871243996475641, 0.759869886898765, 0.8946620772519382, 0.2622389150974776, 0.7269651765190852, 1.0, 0.8662128699953723, 1.0, 0.897775771902015, 0.8987392112943351, 0.17426875126144295, 1.0, 0.8785647321787956, 0.9041527276971457, 1.0, 0.6941360325470443, 0.8605018249995132, 0.9786785396039012, 0.7995172868781497, 0.9425754168671652, 0.8911435334973663, 0.4991115580809775, 0.7187136602962261, 1.0, 0.9638501404498895, 0.7942690111119726, 0.6204355827293464, 0.8815111011315829, 0.9609026294622516, 1.0, 0.8597873169565444, 0.9024721481954882, 0.7982874131900856, 0.9074067209128568, 1.0, 0.8751872316114466, 0.8295662165367141, 0.9436762774036648, 0.8734543548035727, 1.0, 0.8335811783482656, 0.8788201346868696, 0.7974008750346467, 0.3541089386585003, 0.7907020251691927, 1.0, 0.8722617608575631, 0.9182796579094639, 0.9024516218018658, 0.9197660644096394, 0.6559959316319232, 0.901207948248707, 0.8742674853035769, 0.8725725074582508, 0.8243064228570427, 0.9719842099323233, 0.4064851133992887, 0.8409035261463693, 0.9081852778320005, 1.0, 0.9024298215259384, 0.8982861522882684, 0.9032875000480383, 0.3625635135780147, 0.9222446807076015, 0.21945519435361818, 0.8538938500947972, 0.8249840373423525, 0.802716400475181, 1.0, 0.8917855533998186, 0.8930777052503683, 0.8935525049553796, 1.0, 0.6630765127901702, 0.9831993236400359, 0.8336225795218929, 0.43703002074697056, 0.8961290987521088, 0.896061465651235, 0.915496257257516, 0.8756227069755699, 0.8817638926255202, 0.9017470869949292, 0.8732369729895247, 0.8126936089584298, 0.8258665414209093, 0.7296828926850706, 0.939800257035626, 0.870136368189405, 0.9017083726074685, 0.9567104591934866, 0.8893906815730183, 0.7394650024707207, 0.8371383251421579, 0.894466474125978, 0.8238735583431629, 1.0, 1.0, 0.7893142149037852, 0.6897797473999722, 0.8964681671768119, 0.9473806641270663, 0.8658914270790677, 0.753657344801095, 0.9140658704312329, 0.9323339464198955, 0.925433919889281, 0.850911637487658, 0.26479960500526517, 0.8350343829511593, 0.8848966574138856, 0.5811779075724987, 1.0, 0.756252553361883, 1.0, 0.6125285098572868, 0.9512627363909874, 0.9159819114174778, 1.0, 0.9014221747721959, 0.9282959255254571, 0.9608849887549334, 0.37169253900528604, 0.8127547494830227, 0.34080419110819754, 0.7750334525180854, 0.9047848064479344, 0.9097681931021429, 1.0, 0.8926022777222736, 0.8395661573998495, 0.8208020140322722, 0.7566856822369611, 0.8978145192302748, 0.9716532450323068, 0.6706875673031951, 0.3336218879564963, 1.0, 0.6670776955054121, 0.3160494100216865, 0.8748355408424622, 0.9609944844893928, 0.9053400574389755, 0.7167631373355705, 0.9012530023748743, 0.8378215753654341, 0.8575998483572855, 0.9480643017797817, 0.9305507849253395, 0.22418858364531202, 0.7604348114352205, 0.9528820509883708, 0.9268728051334525, 1.0, 0.8773074936425038, 0.9261821417966599, 0.9222328156018531, 0.9596804252155539, 0.9509278269107794, 0.8684208314091869, 0.8588540702515569, 0.9101708243326622, 0.676656479473442, 0.8565066667470912, 0.8659827662738436, 0.5980693506006998, 1.0, 0.8101774545989366, 0.3699831860631316, 0.9259374987092991, 0.8511265094409657, 0.21569157369974606, 0.8949489667054834, 0.4261193589379538, 0.6579982148605514, 0.8917580571479167, 0.38468404177282467, 0.9580320747880791, 0.8468418598378592, 0.9611277464971774, 0.8987376694237659, 0.8641565634960324, 1.0, 0.9026858089804558, 1.0, 0.8079663006395128, 0.8571382578403918, 0.7872206183129954, 0.8477301101126451, 0.9503297147015344, 0.7558689948237214, 0.8926153229418673, 0.8645903943881682, 0.8737090994586953, 0.864264547330171, 0.8810266219949389, 0.8515840815432183, 0.7991490227549244, 0.8563895372943974, 0.9541844725552384, 1.0, 1.0, 0.9001227641906497, 0.8941965153212823, 0.766210883420047, 0.836696756079645, 0.7097455588946722, 0.7161367786742359, 0.7195660233918452, 0.7913419112451108, 0.9106708285917761, 0.9641482147683432, 0.8933999621027079, 1.0, 0.6241890409703764, 0.887358530450985, 0.32004858912025846, 0.39718729057709795, 0.7933511883111329, 0.8984442988339231, 1.0, 0.8714938953875274, 0.8445953345050543, 0.92578814146063, 0.8519000388037912, 0.8574380503010124, 1.0, 0.21945519435361818, 1.0, 0.6011190831052016, 0.8828507979379117, 1.0, 0.9022893007343215, 0.7387066441255304, 0.910703003241747, 0.8271264528501777, 1.0, 0.8663942641668674, 0.34909388629905214, 0.9498360079694534, 0.9084664440770814, 0.464534947507884, 0.9343750843980009, 0.9275840747961721, 0.7658583626600438, 0.9688355617204959, 0.8589891061699864, 0.8491548785569881, 1.0, 0.7595787555626641, 0.9065529115973523, 0.8140594380540154, 0.8956798657795259, 0.8564593540216053, 0.8594360323457616, 1.0, 0.9426094250345155, 1.0, 0.8340335419704507, 0.9263177309598979, 0.8456315002137461, 0.6486416960808783, 0.6022784350005019, 0.3767236864358393, 0.8953198624468459, 0.894303282186492, 0.8192140279602652, 0.8401433497935005, 0.8135532226303323, 0.8593935332908673, 0.8021463328313345, 0.9194495018615355, 0.8439035510080414, 0.8540495365737434, 0.9491721106296236, 0.8201031222172918, 0.9141699518281962, 0.8841840254526577, 0.8831885609674703, 0.905318810280631, 0.32203573899454957, 1.0, 1.0, 0.9119762958218508, 0.87689482503368, 0.8853162417765587, 0.8104824882359916, 0.8246123313376044, 0.893975961293599, 0.756675673353123, 0.9273392247884884, 0.8825221017280738, 0.9409830194858996, 0.7712699557954252, 0.8352330430659461, 0.9240708458415144, 0.9102812423107369, 0.8671175500586424, 0.6698127353273202, 0.5313013277250043, 0.8447777574384903, 0.8329258812605209, 0.8920762524907034, 0.9022993157742449, 0.8335270976344162, 0.1782074079294146, 0.7686532294985238, 0.859236634534316, 0.9161846231569247, 0.8856052411925324, 0.47207893535265094, 0.8503557901983327, 0.1016804735840623, 0.9076123562920696, 0.8979185811079947, 0.7145326308874506, 0.8829467338246609, 0.8272426790954909, 0.32387781153128214, 0.9354205223184764, 0.3831435978529194, 0.5946422992610679, 0.8538773293649292, 0.8528023250145651, 0.8082325215367797, 0.9167269286374071, 0.9054590405517261, 0.09956021361911581, 0.8314599569268413, 0.8317229667957315, 0.3789817056627012, 0.88926086145905, 0.4148227182333468, 0.8398271743896275, 0.8930048944769469, 0.3569427348407087, 0.8557147337784746, 0.8130478399786956, 0.887857910563449, 0.7680525457694941, 0.9236849349821922, 0.8943266181805769, 0.9008083654754069, 0.9121759400747088, 0.7903373913040953, 0.8126273559836892, 0.9099542594889086, 0.9007392203039161, 0.9043979918256129, 0.8626298462809261, 0.8592854383724129, 1.0, 0.5955452952455077, 0.7933081341605146, 0.913879960059387, 1.0, 0.8319926164813325, 0.39442779723332694, 0.12697111794349833, 0.8557947187846623, 0.78826576989801, 0.9766022715547206, 1.0, 0.8468069259966768, 0.775583188546418, 0.8869235191992911, 0.8973487795744566, 0.8464700395360046, 0.834001825406381, 0.8670523248484711, 0.7107641800640182, 0.6065013037381439, 0.9159458976842141, 0.3134588408601137, 0.8622066356003578, 1.0, 0.8174885857594141, 0.7452052477495911, 0.9271699062488169, 1.0, 0.7116974970935038, 0.8379523492189536, 0.24517436496151807, 0.8492273331102012, 0.8802737897201975, 1.0, 0.23267969396389024, 0.07950220498653054, 1.0, 0.6979951508401531, 0.9620060493617688, 0.906751348672475, 0.7542164907443617, 0.8936778668378277, 0.7867705274528584, 0.8316290655826687, 0.7649041638112296, 0.6934804707504351, 0.8199488512315939, 0.5586034757862771, 0.9594828276312803, 0.9170117415788777, 0.9186358565154229, 0.9391453225896084, 0.9527730586834907, 0.8871156914890337, 0.8579490893204902, 0.8714014872963918, 1.0, 0.9067660530581788, 0.8301307110184117, 1.0, 0.8511851928757931, 0.9289233853116811, 0.8857737029702368, 1.0, 1.0, 0.8480326991746221, 0.8649320010053375, 0.9089442338039248, 0.8511815123968062, 0.7938107098195374, 0.8586646828181115, 0.6275777618629493, 0.9158588037961212, 0.8404950102735598, 0.8630328161942303, 1.0, 0.610953383906495, 0.8007489335681073, 0.3828776401845833, 1.0, 0.9261917524497056, 0.46570760452228255, 0.8767662678801943, 0.704210820872408, 1.0, 0.7489729934283803, 0.5277463216365004, 0.3460879429359552, 0.8826572438770585, 1.0, 0.24308868738484918, 0.9028820132316835, 0.8263665209842317, 0.7792201164399157, 0.8567802791713057, 0.9540100134788784, 0.8277550807560896, 0.6868644077160141, 0.8414627437002389, 0.9836523779696277, 0.9341248219896165, 0.9255761780531434, 0.9282426655357056, 0.8812853974926601, 0.8621180559635422, 0.4542965880290721, 0.39718729057709795, 0.8053580179459725, 0.9137547424193868, 0.9004770867036789, 0.8306956528502267, 1.0, 0.6407933803339048, 0.8007234760470828, 0.7469702873989331, 0.8292858806073248, 0.27377844754390157, 0.6945639852759643, 0.9140466555802126, 0.9159940511025771, 0.9082393177822833, 0.7872379170950164, 0.9311905964662055, 0.9181406215201362, 0.8692452935747441, 1.0, 0.7657441913460212, 0.39703236344507675, 0.2167614384739578, 0.8265780887614093, 0.7622733972406975, 0.34923676989820207, 0.888544117585258, 0.8245178362920503, 0.9576332205869957, 0.9387334074413378, 0.8805421959124237, 0.9055281919830063, 1.0, 0.8478201796119441, 0.8528851244217455, 1.0, 0.6192246350544935, 0.9475467820376963, 0.9212806365543575, 0.8821675359141857, 0.6089404089991872, 0.1818480800956324, 0.9582732744692115, 0.780931407938233, 1.0, 0.8372145271021503, 0.8809564442817462, 0.7923863570574823, 0.8875442164782387, 0.91537228612188, 0.8746782489065853, 0.3645762673243431, 1.0, 1.0, 0.7023087402354824, 0.8586328273824465, 0.8978388054884103, 0.8367197463843264, 0.8324401397764976, 1.0, 1.0, 0.8421365287675016, 0.8820906146807733, 0.879356759421909, 0.34153442863913197, 0.6442442801230451, 0.9254481190421495, 1.0, 0.781585303903825, 0.8969358144452919, 1.0, 0.836096829893697, 0.8325182592065875, 0.8604787703010636, 0.836872758897869, 0.890928694549744, 0.8851872912233298, 0.9551529123156113, 1.0, 0.8213967443682372, 0.8713215357377723, 0.8449117901476141, 0.7320939929191426, 0.8794781330030059, 1.0, 0.8124848057705119, 0.8567885195345555, 0.9591858073894469, 1.0, 0.9106805585749127, 1.0, 0.853314223517592, 0.8841185686075871, 0.6043031168654506, 0.8594523522588188, 0.2412846423470349, 0.155483444776386, 0.8238568826008265, 0.7193337742009428, 0.850200153852363, 1.0, 0.8517128128146378, 1.0, 0.9101968556196991, 0.8415343972376185, 0.8214029620341835, 0.27330592584512453, 0.8782635602472775, 0.9491270537276306, 0.8944553135984203, 0.29822749704137264, 0.8118838263479997, 0.8987506872370775, 0.5242017408309856, 1.0, 0.9300027989066891, 0.3527120483258806, 0.900565151558841, 1.0, 0.7766276973283698, 0.35210425098713183, 0.8091246258907777, 0.8263773943791869, 0.9505303586552962, 1.0, 0.8526348196853708, 1.0, 0.6755639978721049, 0.8795640345332502, 0.8615521895637099, 0.11920676398649369, 0.8865240777216057, 1.0, 1.0, 1.0, 0.3961591750042599, 0.8587300124182695, 0.8548759369154384, 0.8552887440382864, 0.19830969915277138, 1.0, 0.9114849257452946, 1.0, 0.9433103957126848]\n",
      "Affinity propagation: None\n",
      "Silhouette score: [-0.9095333216764511, -0.7412215725899207, -0.8991547108329568, -0.905737406315461, 0.3325273100327489, -0.4173458780582805, -0.9062304573908853, -0.9063009031939008, -0.8257617608188185, 0.3290505771677794, 0.2321255976732605, 0.24535903229279588, 0.026888799435439915, -0.6251904542139406, -0.7283227952566699, 1.0, -0.9066858943663166, 0.1505482765526159, -0.8399796693046756, 0.3985825211833297, -0.48592382165122633, -0.9068022146261541, -0.6002739831441521, -0.8847289224665597, -0.907309980027618, -0.411761856058148, 0.9930206415534678, -0.7012075284509661, -0.7445928653418541, 0.27249028200570685, -0.830913195135499, -0.6948233983674458, -0.21152403053093588, -0.3074063531267055, 0.2166359264133627, 1.0, 0.22498097049517096, 0.07392469231229129, -0.7443893888440063, 0.29605514715254944, 0.3479831141181038, -0.8673932451549172, 0.10173388002348724, -0.8344456581230147, -0.660299009087851, 0.33219297163161715, -0.16457750012112626, -0.6879338683517834, 0.32259984101736716, -0.9079903915268182, -0.9069339860002402, -0.019923607071586906, -0.8488202974068074, -0.39667747654291524, -0.48781538919958695, -0.9066645998236902, -0.9070230040906373, -0.14357555918886766, -0.6042028129734628, 0.21921114730006963, -0.36266140287786164, 0.2385684796448133, 0.27326280364132605, 0.3317808368356213, -0.9064711124255841, -0.35420371406764334, 0.23705176439055176, -0.9061213423833052, 0.30842032381260537, -0.9068724145978283, -0.9046459812039186, -0.2568448947897986, -0.8078151586431344, 0.26117833115909095, -0.4903638459717381, 0.3282544426717028, 0.3145116327547109, -0.7016691893219996, -0.9088033193202232, -0.9085406574702991, -0.21750872981624544, -0.005160214301274706, -0.8177936855038995, 0.20980401316469063, -0.9090449784551553, -0.9083684375667206, -0.43379662220531806, -0.4787505456480994, 0.15453892815525702, 0.33218012413075104, -0.35934086785469177, -0.9093494075234171, -0.7796079448102498, 0.3334755097571747, 0.30487366661602316, -0.8369645210727656, 0.21058620585074425, -0.6000719102675384, -0.7857320148793036, 0.3334503983241468, 0.403423286140516, 0.32522564201173365, 0.25147363460326333, 0.37829859591294357, 0.024937952986740758, -0.8530111059662385, -0.19175992665128866, -0.3884300146004644, -0.5678746173261858, 0.30534558024737, -0.060046891302583734, -0.9066498781171941, -0.9083825442492853, 0.26958606726532364, -0.10438955219193184, 0.11814003272688303, 0.2700078697452724, 0.3263046326975666, -0.6356882500994556, 0.08089860929416483, -0.09342107249375471, -0.488215942384509, -0.6929473007550987, -0.8135710404288191, 0.06053233154976495, -0.9075402911871657, 0.25592451915921927, -0.15432242316165687, 0.34386361064152676, -0.8890307920357402, -0.16731180500379905, -0.1912723411390267, -0.9067931936661002, 0.9886469955092109, 0.2547921448417644, -0.40342065474198907, 0.0867358204678627, -0.858986499056548, -0.8106968127159714, -0.13738807742505382, -0.9028673028630185, 0.0029156103726868323, 0.16684358292064566, -0.9077699928184572, 0.3150024353557334, 0.32481770169403323, 0.28680818311126144, 0.32518190530660024, 0.25707191794117956, 0.11573529219967368, 0.3126811795350364, -0.9066286845529289, -0.8810732369406319, 0.3317061554184709, -0.031183415863280058, 0.33174597555537055, -0.9070594004220515, -0.5547960373225159, -0.9083684375667206, -0.9067931936661002, 0.3048941971751266, -0.32491342806662116, 0.2583875930795721, 0.2880289172443113, 0.32936272501733727, -0.5118382624803922, -0.7444818671355288, -0.5272030970029841, 0.3329761297962678, 0.3334139720813171, 0.29893958678081617, 0.2692789633430186, -0.770259136588078, -0.9095500796164437, 0.2748971545542419, 0.10769570458723741, 0.33331404129879955, 0.24320196825927112, -0.9067931936661002, -0.38436362124936185, 0.03702641794256754, -0.9068015783784875, -0.9072216842545524, -0.03681951580664125, -0.40117596285801443, 0.3045407706902039, 0.3167143426756294, 0.391559355658741, 0.3569169807676174, 0.4006076669899425, -0.9075471196227679, 0.34028844923846596, 0.1163761851346086, -0.8106835683847822, 0.18096422480232183, 0.37497387857337716, 0.4059004121991027, 0.4012577347782666, -0.323089318010359, 0.36894138750034006, 0.39959663253122846, -0.8064984908768235, -0.7726541772606762, -0.4958489769071321, 0.04525943651651682, -0.6338503195484219, 0.1483382744677419, 0.32163008758299194, -0.40091948703491426, 0.3298370268489512, -0.8610261827584302, 0.32403568853213816, -0.784391334591261, 0.3248740758246044, -0.7618671211510659, -0.6002508954857229, -0.6248176165286907, 0.26289648581054453, -0.25405763026797984, -0.8776995674280976, -0.5151731808084021, -0.8643062524228471, -0.8866853683973689, -0.2073219807390315, 0.18317985937918047, -0.870745409362542, 0.289567506318434, -0.6088350456401165, 0.3940722615172769, 1.0, 0.08865490573296564, 0.2737833592389152, -0.5012586263201633, 0.1459029610696719, 0.9661954538851789, -0.8022078732121176, 0.24413493834005306, -0.08371612216836356, 0.29413015388952174, 0.2961226477403996, -0.013474187180411585, 0.18066013166393932, 0.22038283065800912, 0.2924391660019731, 0.32766136001393004, 0.3324015229121193, 0.32127079105457035, 0.25304337055338294, -0.23104504259762879, 0.40266779455875257, 0.4073774614408675, 0.2981962137195082, -0.9083730493297715, -0.7639552192134433, -0.898620354366774, 0.21720354652953353, -0.86657752789014, 0.08810001544418904, 0.31593016446914074, -0.2920945790047309, 0.3120288470769255, -0.9047678033161535, 0.36615469118190586, -0.5587501376424523, 0.23331623377876665, 0.29689003863846775, -0.17704432623083605, -0.7076649300886025, 0.21146671246956952, -0.11549162850068657, 0.1743177663781959, -0.9056218848025251, -0.8583132656913512, 0.32835470012167745, -0.7028376563147855, -0.42328559873454225, -0.8786351295272177, 0.36971757469437966, 0.26743166197641793, 0.32136645271629005, -0.8138534271292307, -0.8064183084919101, 0.1861436919271038, -0.7240900276162183, 0.038856312170170694, 0.23972142801183002, -0.9081474188123085, 0.3864420222957286, 0.40236311958417187, -0.7565698613607565, 0.28282095860868595, 0.3308853535909745, 0.3074079306304274, -0.9088720724715798, -0.5541375229436322, 0.11914497082652618, 0.3247994363242533, -0.2882286500125058, -0.9013799948622734, -0.14724999311222275, -0.5882562541925714, 0.3127744045147402, -0.9067977950578714, 0.31769539145015424, -0.6793848115877655, -0.8893977098031609, -0.8978779822422488, -0.901431809772999, -0.636783477993555, -0.025842000103440756, 0.3869443229250893, -0.7050745729993452, -0.7042808600311399, 0.26022533447249707, 0.12955840673741678, 0.40902715969897757, -0.6321929474389036, 0.18117911920731225, -0.5945380655156779, 0.2351679789768524, 1.0, -0.41153709783421777, -0.10134753098468849, 0.09218492984176158, 0.3879179626550464, -0.619332003608667, -0.579513044679675, -0.336290919272394, -0.029081746553598325, -0.5832110676614686, -0.906906068726254, -0.10434024690983858, -0.5369349313261077, 0.28640423626432127, 0.3266580279142493, -0.005062916720616952, 0.08061649519391233, 0.23455789735899477, -0.7797965895498935, 0.333592094559608, -0.7410685697182956, -0.9065749383398563, 0.13509062975270117, 0.19596041871102568, -0.9013702774141023, -0.8024843339405434, 0.24462401956292562, 0.25936340833033694, 0.31554829477595786, -0.06594524059549339, 0.3195767914063002, -0.2694869742297785, -0.7911289113874793, 0.3289637194184237, 0.3242427170578624, 0.9895185037011738, -0.9060724264718814, 0.09764119987540565, 0.40426608513072726, -0.9075623686318249, 0.32114809365778785, -0.37365957295811847, -0.7364072287455418, 0.4035795117641926, -0.14896765109724455, -0.5718369619679784, -0.15221205011896521, 0.37749053956465994, -0.8056569412363511, 0.32291761363171295, -0.014799715877949123, -0.1076520531833013, -0.20178955814748387, 0.3243970831190074, -0.8043849685131824, 0.3248860814743114, -0.32915242598135125, 0.2195485930166382, 0.3258480351496586, -0.10046177447346241, -0.8905293097549908, -0.8986457078391099, 0.2384129996297186, -0.9072553703235636, 0.37403485607921044, -0.057125152344720195, -0.7311922568402215, -0.7639817356564433, -0.10210810882831046, 0.3207275892025089, 0.26193494371414605, 0.21480217604305207, 0.3206571778755693, 0.3272619177704189, -0.6073282153667288, 0.20776755154315865, -0.7483044794706682, 0.3261822215181657, -0.9067043114659147, 0.029564365600208573, 0.3234238658069921, -0.11693451289932331, -0.6439620437629088, -0.23422600778773062, -0.41445011270596366, 0.2985142690577545, -0.594222137124481, -0.8614655065279637, 0.2826200017424075, 0.2533811289353074, -0.41568687038774566, -0.3806613311355226, -0.773512365152253, -0.8670140099983945, 0.3336225646730952, 0.33118848442106685, -0.8463053863964208, -0.8727316264561774, -0.9088720724715798, -0.864971807270056, -0.28532722528478544, -0.9074019396355281, 0.2364114655416458, -0.4682194194444085, 0.3008013125771495, 0.04861813460223288, -0.9075145191925447, -0.27753115055106353, 0.30022774670098257, -0.8958541637326813, 0.25447814176391076, 0.21299101842700568, -0.6120236067486354, -0.2366587645785872, -0.318493429521616, -0.21438682598806358, 0.31084157044046706, 0.18699178260895688, 0.15819560684316614, 0.32161481717914286, 0.18847126545850731, 0.38932044328422394, -0.019993075106386055, 0.24489847089515268, -0.6460460010403402, -0.8471109646507374, 0.11617898146063334, -0.7868354279075142, 0.3571466162850397, 0.33221694034425714, -0.41517435434609107, 0.32086048740034806, 0.28430708102000535, 0.3200343762613566, 0.333443074507235, 0.2608702709557704, -0.9065749383398563, -0.39759921878765764, -0.9036692363375864, 0.39791496009016675, -0.6482705909381629, 0.3332991236182593, -0.6827936589362333, -0.6845404465304369, 0.9900810522791695, 0.3182138355712032, 0.04822485687806272, 0.2809905945606471, -0.9055440518952745, 0.3307188730990636, 0.3259130762958328, 0.28656700757173226, -0.16368340512316829, 0.3321454873157572, 0.3324104637076161, 0.09379531280329095, 0.4055016809536862, 0.3675186066598182, -0.6563433946336098, -0.9067870207369328, 1.0, -0.1993756863582665, 0.30908348109579376, -0.906906068726254, -0.6841537549256469, -0.6298104257026971, -0.014264189663313697, 0.2954875245138884, 1.0, 0.2569074042425523, 0.05159359338824389, -0.8909568618216372, 0.3333586312365279, -0.8281130269840066, -0.7300900303865088, 0.33290630867836707, -0.4316241063847833, -0.6982673929802443, -0.7364185506822327, 0.3291499226623221, 0.12744336614420335, 0.3058514887457506, 0.3281687908490829, 0.40459600183933336, 0.2833340047915216, -0.7245349389834032, 0.3190667156644789, 0.278745306311017, -0.01742168999116921, 0.11091922131375545, 0.15213183847911016, 0.34491575394305846, -0.9081474188123085, 0.2626737104559979, 0.043887969620802415, -0.9060602545079796, 0.3047293585310508, 0.3126927885457866, -0.4886173975837876, 0.02241475166674492, -0.7259938534476738, 0.1901799085146798, 0.3323786255608235, -0.11737763953064684, -0.007983305218465232, -0.6471275388908918, 0.3124891306644633, 0.3027670241043217, -0.6006382194476952, -0.8015637792580036, 0.3004759152459579, 0.33088937010679725, -0.9026154682570317, -0.5586558281698991, -0.45689133442223484, 0.3328174194011617, 0.06419841687986, -0.5238624302598152, -0.30308290831785395, -0.1808463307031798, -0.906906068726254, 0.2964837571953601, 0.27100382594315525, 0.3288953756399738, 0.20416009710324165, -0.6458224117507075, -0.8749750323796628, -0.7633631549559503, -0.5972948177028888, -0.79217631747704, 0.16572041955011277, -0.35587686863758605, 0.390980345263592, 0.07716929578967506, -0.9081474188123085, -0.09396287079906063, -0.5299898975583031, 0.3260391774900147, -0.16826015513104398, 0.2689859971880326, -0.09505227530956926, -0.08228222647719967, -0.8929709216794492, -0.7923793555290342, -0.3608080517914112, 0.2378800417363518, -0.7768848066759091, 0.40270270917512163, -0.8491494501441104, -0.05303423977151542, -0.169684693635442, -0.15586546761375825, -0.5270256807878823, 0.12844638964619018, 0.3587778169060115, 0.3426460999168597, -0.5603774029771396, -0.9042097134342663, 0.20824449841091766, -0.5004149612364406, 0.298684059662675, 0.2562128560793818, 0.2473737354007267, 0.3020709599246908, -0.016531737227250886, -0.8979251568433354, 0.03371098974854717, 0.37898793939900643, 0.2570123931707045, -0.9081474188123085, 0.1609466966405095, -0.9070478491959809, 0.19648837790264106, -0.7942923863335589, 1.0, -0.7745794713152699, -0.8892410970114947, 0.22645994334541641, -0.05940473705447268, -0.21606405742676063, 0.23648198387813846, 0.4062539405060736, 0.23192779241977354, -0.3413829071715628, 0.22104157597265162, 0.30597560511303146, 0.9929340605757134, -0.3884629624745025, -0.12450493457598771, -0.8870352935940888, 0.39903472442464966, 0.2601612268773205, 0.3859669325961626, 0.36322862450359483, -0.4556584543637413, -0.5269203292248962, -0.22152447028107577, 0.1944879076443713, -0.21755209167950537, 0.2704510727754157, -0.009004615148190877, -0.6702742692996122, 0.20505608040911885, -0.8879593581218082, -0.85805361539996, 0.2889956381152541, 0.29016379906274764, -0.05854398011621761, -0.2682046202615105, 0.39176842423146385, 0.3401095126689844, 0.2870117323669514, 0.32039849252608343, 0.20131469539046873, 0.21968128608647733, -0.4671163631686252, -0.8343996390084096, -0.08504989103830808, -0.9063683741893935, -0.25668120109042314, 1.0, -0.08501238211854256, -0.752024142692317, 0.3261358717653897, 0.05651856732083051, 0.3325842850210838, -0.8605485159158264, 0.27605195402398935, -0.6716208014665125, 0.390786207736003, -0.8910330786417947, -0.7445103725997456, 0.3180245941406765, 0.2381466191400145, 0.3163880417594233, 0.2079451984567032, -0.7518540992008913, -0.7106446664792309, -0.8985569957564717, -0.9055440518952745, 0.22619564228669, 0.26238831857547046, -0.2368991115160082, -0.8775521003839883, 0.3328322636408626, 0.3773437364732043, 0.3037205814475197, 0.19733891590732652, 0.08305611729274133, 0.3310926870103955, -0.9033840098158686, -0.7671041803675782, 0.0849429073994526, 0.3007413663433679, -0.1860835089731603, 0.33248080424310134, -0.3143432813809786, 0.3099448364786361, 0.11763386236642372, -0.6662453864840227, -0.5140066494379899, -0.6263799559774775, -0.3017600257936349, 0.193199170881121, -0.6739816160948082, -0.36924684898415766, 0.23432793318565912, -0.8592413089816314, 0.20373120193156813, 0.3178824498373413, -0.8442381279725087, 0.3331186029433397, 0.3433554291980618, 0.31542271366650454, -0.25633444746672673, 0.21660560301920584, 0.4042219674708279, 0.2666171148239103, 0.28300808694848834, 0.14458478316612067, -0.8150932014854478, 0.39504829573822375, -0.47954335649676755, 0.3205949473592776, 0.3938738258949925, -0.23563517936846531, 0.9670686860320293, -0.4422043495036249, 0.32964380426843237, 0.29685030113799815, 0.07257154153825351, 0.012853088632335443, -0.06343405635984091, -0.162600414195483, -0.03502836284152832, 0.23638158019730468, -0.15977415090180241, 0.27624607071596646, -0.8136715140128106, -0.8885389238920265, -0.9070478491959809, -0.8183152329464205, 0.28738613935991464, 0.2775188937058655, -0.9083697597588098, 0.2699393021472314, 0.32347201771947015, -0.9061552165066631, 0.11998311411561047, 0.2697481040809861, -0.6121411735419205, 0.3333468387674589, 0.31246700169654484, 1.0, 0.39618036229577125, 0.3920052109215036, -0.8865377541805063, 0.2639739992335859, 0.13001016539581228, 0.36733959684454, 0.40197464790374726, 0.33235378325174797, 0.2610892769281392, -0.9011640205881681, 0.27439092376424795, -0.20614282338778872, -0.439731111291116, -0.8652682902829021, 0.3139192190183694, 0.3331066533902991, 1.0, 0.4030104770492287, -0.183533872588773, -0.08885836910631618, -0.0008012208573858294, -0.4835775219400339, -0.6447664303562051, -0.04191735471928214, 0.3047510448683037, 0.3300495877152242, 0.3956269162871321, 0.29582525165818024, 0.31178187078570624, -0.9077582348826262, 0.3333345101297093, -0.34641165557052533, -0.4090645102221999, 0.32586434895703487, 0.3159931914539843, 0.2429953192886057, 0.3069247707904395, 0.23385789238813054, 0.39978401062803853, -0.6102038256378027, -0.9065749383398563, 0.25955121845658974, -0.03683440939207252, 0.31818304422705446, 0.26958170202993953, 0.3070366940743245, -0.7010185953114482, -0.23447367724128265, -0.32744846363867514, -0.6559378746999368, 0.33346976117401705, -0.46419964525489427, -0.8587597520660611, 0.3317664802492603, -0.0415575205059676, -0.845545288241002, -0.08937389853028983, -0.5101703488115159, 0.3265289213833933, -0.8141466991131371, -0.03214045667936815, 0.33298256642391755, 0.39873846247435346, 0.265033249468646, -0.7594908808525662, 0.13320737276316402, -0.4754360231574488, 0.32263638518551013, -0.25510829050660866, -0.8548605627647514, -0.9072596810934322, -0.9033728681857441, 0.3255097734733493, -0.08977903476110494, -0.41151924672638046, 0.12785445884049032, 0.3630339271297327, -0.29726148014162207, -0.549689483987535, 0.2448791166647576, 0.27526568956971686, -0.06983199873648417, -0.7519879292040202, -0.6384270317357231, -0.307985459231406, -0.8812345988152529, -0.7881546141917884, -0.1942213372078003, -0.9070607813766643, -0.4643879719673248, -0.4586626667756544, 0.273911239729779, 0.23929408469930213, -0.5340329867245205, 0.38107778073491044, 0.0010553963642422773, 0.12382698481854901, -0.9067047912860261, -0.7201321928771078, -0.13472807063188694, 0.27989586746102574, -0.41014874268964946, 0.3212801807860869, 0.28145051570326224, 0.31398042150109035, -0.7597743532070397, 0.2979043764321209, -0.2355747100621064, 0.3032499346201536, 0.22963801059480204, -0.19770490939407365, 0.2166663248270954, 0.28724098997678377, -0.3147974837692875, 0.35163827747030596, -0.16188458618064994, -0.3448652862602666, -0.38767420089919497, -0.8895690080674461, 0.31890394548801804, -0.10339000734269826, -0.36313231747694974, 0.32198465305125806, 0.3120568844390239, 0.16921561744389202, 0.3276219714262611, 0.09010477295544467, 0.23751377505446936, -0.7065605681480485, -0.41171649092501056, -0.7574962117765928, -0.7860886105476023, 0.40722824793261075, 0.2597790425884788, 0.18555206724976245, 0.02342050146467738, -0.9069531265112241, 0.34295732765472253, -0.906906068726254, -0.5870435787758826, 1.0, -0.7410907873207083, -0.5293313774554121, 0.13614440220948082, 0.11161792033416686, 0.3049080430685908, -0.6286574565938574, -0.8512483434623141, -0.47705488289711817, 0.25099637989281515, 0.3446209390458986, 1.0, 0.3063008990732958, -0.42597307532479906, -0.6356577490910705, -0.9083697597588098, 0.3252734325527054, 0.3486358321642565, 0.2609323996777672, 0.1311643915577798, -0.06772867978417653, 0.24005943883226039, -0.7382591634705304, -0.8960472470688726, 0.1781759323806762, -0.2691339990126438, 0.3281221735932396, 0.27970656532672045, 0.3274909918529536, -0.0798508640767694, -0.9435257136576611, 0.3993285500229499, 0.33077280862948855, -0.844201247714459, -0.7797448007718004, -0.8585961489289975, -0.7130684100182856, -0.06834256468508818, 0.3560486882806597, 0.025516485848913584, 0.030006875099273665, 0.9910447657141108, -0.1578466074541604, -0.6183730559769083, -0.850742350937757, -0.3434769277356707, 0.24946785967958537, -0.011503678145927525, -0.9074019396355281, -0.7632306998102336, 0.40213576259081213, 0.32762611717361995, 0.3305627289830345, -0.8421860787025018, 0.2885950317084158, -0.8954083465747408, -0.26025769659876663, 0.2704587231902968, 0.2532837745385282, -0.8980594049175993, -0.030242640109925546, -0.6274529316050542, -0.39132805609122784, -0.9579719872563253, 0.29169828847381596, -0.2697537289516547, 0.2917605046080259, -0.7473368786983176, -0.903161842239842, 0.33062651729892867, -0.24654187530694224, -0.8996590564883274, 0.1737059725232462, -0.9081474188123085, 0.3208936557443144, -0.8508663185789003, 0.2637856450334522, -0.7543931229272816, 0.24246184440779645, 0.1534511492029111, 0.12038301564017821, 0.0018303072338090771, -0.9063683741893935, -0.4395360704200043, -0.21998965858547906, -0.8876822787134028, -0.7765773154055439, 0.18125856930707457, -0.012534286946661937, 0.246850097136618, 0.2297807335387792, 0.39609941507406987, 0.0060940211195094135, 0.3002777097896917, 0.37760631409941114, 0.20383203482403828, -0.5234102579101565, -0.4575409764990857, -0.037548476312908065, 0.12416937103326306, -0.9081474188123085, -0.5183192628313756, -0.8536324827644476, 0.30468880846950547, -0.46705935764656836, 0.22980469686367638, -0.17874480113292898, -0.03738679810332069, 0.28972490722576877, 0.08195819101195635, -0.45866625202431455, -0.6145240373103802, -0.8449089898083033, -0.41082333715590175, -0.6040944374436459, 0.23969103460304442, 0.1452914537984587, 0.055526172286860666, -0.40555006673267974, -0.8993704784240351, -0.15583647175359525, 0.2688738329046364, 0.39916996730518506, 0.13976561809726482, -0.575813764008703, 0.2811276422783067]\n",
      "DBSCAN: None\n",
      "Silhouette score: [1.0, 1.0, 1.0, 1.0, 1.0, 1.0, 1.0, 1.0, 1.0, 1.0, 1.0, 1.0, 1.0, 1.0, 1.0, 1.0, 0.909246132648771, 1.0, 1.0, 1.0, 1.0, 1.0, 1.0, 1.0, 1.0, 1.0, 1.0, 1.0, 1.0, 1.0, 1.0, 1.0, 1.0, 1.0, 1.0, 1.0, 1.0, 1.0, 1.0, 1.0, 1.0, 1.0, 1.0, 1.0, 1.0, 1.0, 1.0, 1.0, 1.0, 1.0, 1.0, 1.0, 1.0, 1.0, 1.0, 1.0, 0.9219450262141803, 1.0, 1.0, 1.0, 1.0, 1.0, 1.0, 1.0, 1.0, 1.0, 1.0, 1.0, 1.0, 0.9858508039923776, 1.0, 1.0, 1.0, 1.0, 1.0, 1.0, 1.0, 1.0, 1.0, 0.9367637716670778, 1.0, 1.0, 1.0, 1.0, 1.0, 0.9685606754705264, 1.0, 1.0, 1.0, 1.0, 1.0, 0.8927223363266675, 1.0, 1.0, 1.0, 1.0, 1.0, 1.0, 1.0, 1.0, 1.0, 1.0, 1.0, 1.0, 1.0, 1.0, 1.0, 1.0, 1.0, 1.0, 1.0, 1.0, 1.0, 1.0, 1.0, 1.0, 1.0, 1.0, 1.0, 1.0, 1.0, 1.0, 1.0, 1.0, 1.0, 0.8984388201815068, 1.0, 1.0, 1.0, 1.0, 1.0, 1.0, 0.9788476098093135, 1.0, 1.0, 1.0, 1.0, 1.0, 1.0, 1.0, 1.0, 1.0, 1.0, 1.0, 1.0, 1.0, 1.0, 1.0, 1.0, 1.0, 1.0, 1.0, 1.0, 1.0, 1.0, 1.0, 1.0, 1.0, 0.9685606754705264, 0.9788476098093135, 1.0, 1.0, 1.0, 1.0, 1.0, 1.0, 1.0, 1.0, 1.0, 1.0, 1.0, 1.0, 1.0, 0.8923776224145821, 1.0, 1.0, 1.0, 1.0, 0.9788476098093135, 1.0, 1.0, 1.0, 0.9024282690401478, 1.0, 1.0, 1.0, 1.0, 1.0, 1.0, 1.0, 0.8984388201815068, 1.0, 1.0, 1.0, 1.0, 1.0, 1.0, 1.0, 1.0, 1.0, 1.0, 1.0, 1.0, 1.0, 1.0, 1.0, 1.0, 1.0, 1.0, 1.0, 1.0, 1.0, 1.0, 1.0, 1.0, 1.0, 1.0, 1.0, 1.0, 1.0, 1.0, 1.0, 1.0, 1.0, 1.0, 1.0, 1.0, 1.0, 1.0, 1.0, 1.0, 1.0, 1.0, 1.0, 1.0, 1.0, 1.0, 1.0, 1.0, 1.0, 1.0, 1.0, 1.0, 1.0, 1.0, 1.0, 1.0, 1.0, 1.0, 1.0, 1.0, 1.0, 1.0, 1.0, 1.0, 1.0, 1.0, 1.0, 1.0, 1.0, 1.0, 1.0, 1.0, 1.0, 1.0, 1.0, 1.0, 1.0, 1.0, 1.0, 1.0, 1.0, 1.0, 1.0, 1.0, 1.0, 1.0, 1.0, 1.0, 1.0, 1.0, 1.0, 1.0, 1.0, 1.0, 1.0, 1.0, 1.0, 1.0, 1.0, 1.0, 1.0, 1.0, 1.0, 1.0, 1.0, 1.0, 1.0, 1.0, 1.0, 1.0, 1.0, 1.0, 1.0, 1.0, 1.0, 1.0, 1.0, 1.0, 1.0, 1.0, 1.0, 1.0, 1.0, 1.0, 1.0, 1.0, 1.0, 1.0, 1.0, 1.0, 1.0, 1.0, 1.0, 1.0, 1.0, 1.0, 1.0, 1.0, 1.0, 1.0, 1.0, 1.0, 1.0, 1.0, 1.0, 1.0, 1.0, 1.0, 1.0, 1.0, 1.0, 1.0, 1.0, 1.0, 1.0, 1.0, 1.0, 1.0, 1.0, 1.0, 1.0, 1.0, 1.0, 1.0, 1.0, 1.0, 1.0, 1.0, 1.0, 1.0, 1.0, 1.0, 1.0, 1.0, 1.0, 1.0, 1.0, 1.0, 1.0, 1.0, 1.0, 1.0, 1.0, 1.0, 1.0, 1.0, 1.0, 1.0, 1.0, 1.0, 1.0, 1.0, 1.0, 1.0, 1.0, 1.0, 1.0, 1.0, 1.0, 1.0, 1.0, 1.0, 1.0, 1.0, 1.0, 1.0, 1.0, 0.909246132648771, 1.0, 1.0, 1.0, 1.0, 1.0, 1.0, 1.0, 1.0, 1.0, 1.0, 1.0, 1.0, 1.0, 1.0, 1.0, 1.0, 1.0, 1.0, 1.0, 1.0, 1.0, 1.0, 1.0, 1.0, 1.0, 1.0, 1.0, 1.0, 1.0, 1.0, 1.0, 1.0, 1.0, 1.0, 1.0, 1.0, 1.0, 1.0, 1.0, 1.0, 1.0, 1.0, 1.0, 1.0, 1.0, 1.0, 1.0, 1.0, 1.0, 1.0, 1.0, 1.0, 1.0, 1.0, 1.0, 1.0, 1.0, 1.0, 1.0, 1.0, 1.0, 1.0, 1.0, 1.0, 1.0, 1.0, 1.0, 1.0, 1.0, 1.0, 1.0, 1.0, 1.0, 1.0, 1.0, 1.0, 1.0, 1.0, 1.0, 1.0, 1.0, 1.0, 1.0, 1.0, 1.0, 1.0, 1.0, 1.0, 1.0, 1.0, 1.0, 1.0, 1.0, 1.0, 1.0, 1.0, 1.0, 1.0, 1.0, 1.0, 1.0, 1.0, 1.0, 1.0, 1.0, 1.0, 1.0, 1.0, 1.0, 1.0, 1.0, 1.0, 1.0, 1.0, 1.0, 1.0, 1.0, 1.0, 1.0, 1.0, 1.0, 1.0, 1.0, 1.0, 1.0, 1.0, 1.0, 1.0, 1.0, 1.0, 1.0, 1.0, 1.0, 1.0, 1.0, 1.0, 1.0, 1.0, 1.0, 1.0, 1.0, 1.0, 1.0, 1.0, 1.0, 1.0, 1.0, 1.0, 1.0, 1.0, 1.0, 1.0, 1.0, 1.0, 1.0, 1.0, 1.0, 1.0, 1.0, 1.0, 1.0, 1.0, 1.0, 1.0, 1.0, 1.0, 1.0, 1.0, 1.0, 1.0, 1.0, 1.0, 1.0, 1.0, 1.0, 1.0, 1.0, 1.0, 1.0, 1.0, 1.0, 1.0, 1.0, 1.0, 1.0, 1.0, 1.0, 1.0, 1.0, 1.0, 1.0, 1.0, 1.0, 1.0, 1.0, 1.0, 1.0, 1.0, 1.0, 1.0, 1.0, 1.0, 1.0, 1.0, 1.0, 1.0, 1.0, 1.0, 1.0, 1.0, 1.0, 1.0, 1.0, 1.0, 1.0, 1.0, 1.0, 1.0, 1.0, 1.0, 1.0, 1.0, 1.0, 1.0, 1.0, 1.0, 1.0, 1.0, 1.0, 1.0, 1.0, 1.0, 1.0, 1.0, 1.0, 1.0, 1.0, 1.0, 1.0, 1.0, 1.0, 1.0, 1.0, 1.0, 1.0, 1.0, 1.0, 1.0, 1.0, 1.0, 1.0, 1.0, 1.0, 1.0, 1.0, 1.0, 1.0, 1.0, 1.0, 1.0, 1.0, 1.0, 1.0, 1.0, 1.0, 1.0, 1.0, 1.0, 1.0, 1.0, 1.0, 1.0, 1.0, 1.0, 1.0, 1.0, 1.0, 1.0, 1.0, 1.0, 1.0, 1.0, 1.0, 1.0, 1.0, 1.0, 1.0, 1.0, 1.0, 1.0, 1.0, 1.0, 1.0, 1.0, 1.0, 1.0, 1.0, 1.0, 1.0, 1.0, 1.0, 1.0, 1.0, 1.0, 1.0, 1.0, 1.0, 1.0, 1.0, 1.0, 1.0, 1.0, 1.0, 1.0, 1.0, 1.0, 1.0, 1.0, 1.0, 1.0, 1.0, 1.0, 1.0, 1.0, 1.0, 1.0, 1.0, 1.0, 1.0, 1.0, 1.0, 1.0, 1.0, 1.0, 1.0, 1.0, 1.0, 1.0, 1.0, 1.0, 1.0, 1.0, 1.0, 1.0, 1.0, 1.0, 1.0, 1.0, 1.0, 1.0, 1.0, 1.0, 1.0, 1.0, 1.0, 1.0, 1.0, 1.0, 1.0, 1.0, 1.0, 1.0, 1.0, 1.0, 0.893739410324159, 1.0, 1.0, 1.0, 1.0, 1.0, 1.0, 1.0, 1.0, 1.0, 1.0, 1.0, 1.0, 1.0, 1.0, 1.0, 1.0, 1.0, 1.0, 1.0, 1.0, 1.0, 1.0, 1.0, 1.0, 1.0, 1.0, 1.0, 1.0, 1.0, 1.0, 1.0, 1.0, 1.0, 1.0, 1.0, 1.0, 1.0, 1.0, 1.0, 1.0, 1.0, 1.0, 1.0, 1.0, 1.0, 1.0, 1.0, 1.0, 1.0, 1.0, 1.0, 1.0, 1.0, 1.0, 1.0, 1.0, 1.0, 1.0, 1.0, 1.0, 1.0, 1.0, 1.0, 1.0, 1.0, 1.0, 1.0, 1.0, 1.0, 1.0, 1.0, 1.0, 1.0, 1.0, 1.0, 1.0, 1.0, 1.0, 1.0, 1.0, 1.0, 1.0, 1.0, 1.0, 1.0, 1.0, 1.0, 1.0, 1.0, 1.0, 1.0, 1.0, 1.0, 1.0, 1.0, 1.0, 1.0, 1.0, 1.0, 1.0, 1.0, 1.0, 1.0, 1.0, 1.0, 1.0, 1.0, 1.0, 1.0, 1.0, 1.0, 1.0, 1.0, 1.0, 1.0, 1.0, 1.0, 1.0, 1.0, 1.0, 1.0, 1.0, 1.0, 1.0, 1.0, 1.0, 1.0, 1.0, 1.0, 1.0, 1.0, 1.0, 1.0, 1.0, 1.0, 1.0, 1.0, 1.0, 1.0, 1.0, 1.0, 1.0, 1.0, 1.0, 1.0, 1.0, 1.0, 1.0, 1.0, 1.0, 1.0, 1.0, 1.0, 1.0, 1.0, 1.0, 1.0, 1.0, 1.0, 1.0, 1.0, 1.0, 1.0, 1.0, 1.0, 1.0, 1.0, 1.0, 1.0, 1.0, 1.0, 1.0, 1.0, 1.0, 1.0, 1.0, 1.0, 1.0, 1.0, 1.0, 1.0, 1.0, 1.0, 1.0, 1.0, 1.0, 1.0, 1.0, 1.0, 1.0, 1.0, 1.0, 1.0, 1.0, 1.0, 1.0, 1.0, 1.0, 1.0, 1.0, 1.0, 1.0, 1.0, 1.0, 1.0, 1.0, 1.0, 1.0, 1.0, 1.0, 1.0, 1.0, 1.0, 1.0, 1.0, 1.0, 1.0, 1.0, 1.0, 1.0, 1.0, 1.0, 1.0, 1.0, 1.0, 1.0, 1.0, 1.0, 1.0, 1.0, 1.0, 1.0, 1.0, 1.0, 1.0, 1.0]\n",
      "Birch Clustering: None\n",
      "\n",
      "Davies Bouldin score:\n",
      "Affinity propogation: 0.6376776846491032\n",
      "DBSCAN: 2.5861546432114526\n",
      "Birch Clustering: 0.016264891930299313\n",
      "\n",
      "Calinski Harabasz score:\n",
      "Affinity propogation: 2216.842132604691\n",
      "DBSCAN: 69.9358974300055\n",
      "Birch Clustering: 16312188.242043376\n"
     ]
    }
   ],
   "execution_count": 13
  },
  {
   "cell_type": "markdown",
   "id": "12deb65d3f7f63eb",
   "metadata": {},
   "source": [
    "Task 5 ALL MANUAL\n"
   ]
  },
  {
   "cell_type": "code",
   "id": "2a95a246f6bf2fa2",
   "metadata": {
    "ExecuteTime": {
     "end_time": "2025-09-22T16:46:45.102423Z",
     "start_time": "2025-09-22T15:49:34.666511Z"
    }
   },
   "source": [
    "# dit is de basics, maar idk wat de dimensies van a en b horen te zijn\n",
    "# Euclidean distance\n",
    "def our_euclidean_distance(a, b):\n",
    "    distance = 0\n",
    "    for index, _ in enumerate(a):\n",
    "        distance += (a[index] - b[index]) ** 2\n",
    "    distance = distance**0.5\n",
    "    return distance\n",
    "# Manhattan distance\n",
    "def our_manhattan_distance(a, b):\n",
    "    distance = 0\n",
    "    for index, _ in enumerate(a):\n",
    "        distance += ((a[index] - b[index]) ** 0.5) ** 2\n",
    "    return distance    \n",
    "# Cosine similarity\n",
    "def our_cosine_similarity(a, b):\n",
    "    numerator = 0\n",
    "    denominator_a = 0\n",
    "    denominator_b = 0\n",
    "    for index, _ in enumerate(a):\n",
    "        numerator += a[index] * b[index]\n",
    "        denominator_a += a[index] ** 2\n",
    "        denominator_b += b[index] ** 2\n",
    "    distance = numerator / (denominator_a ** 0.5 * denominator_b ** 0.5)\n",
    "    return distance\n",
    "# Distances effect on dbscan\n",
    "clustering_c1 = DBSCAN(eps=20, metric=our_euclidean_distance).fit(Data[:1000])\n",
    "label_c1 = clustering_c1.labels_\n",
    "print(\"Labels DBSCAN\", label_c1)   \n",
    "\n",
    "clustering_c2 = DBSCAN(eps=200, metric=our_manhattan_distance).fit(Data[:1000])\n",
    "label_c2 = clustering_c2.labels_\n",
    "print(\"Labels DBSCAN\", label_c2)   \n",
    "\n",
    "clustering_c3 = DBSCAN(eps=20, metric=our_cosine_similarity).fit(Data[:1000])\n",
    "label_c3 = clustering_c3.labels_\n",
    "print(\"Labels DBSCAN\", label_c3)   \n",
    "import plotly.express as px\n",
    "fig = px.scatter(Data[:1000], label_c2)\n",
    "fig.show()"
   ],
   "outputs": [
    {
     "name": "stdout",
     "output_type": "stream",
     "text": [
      "Labels DBSCAN [ 0  0  0  0  1  0  0  0  0  4  0  0  0  0  0 -1  0  0  0 -1  0  0  0  0\n",
      "  0  0 -1  0  0 -1  0  0  0  0  0 -1  0  0  0  0 -1  0  0  0  0  1  0  0\n",
      "  2  0  0  0  0  0  0  0  0 -1  0  0  0  0 -1  1  0 -1 -1  0  3  0  0  0\n",
      "  0  0  0  1 -1  0  0  0  0  0  0  0  0  0  0  0  0  1 -1  0  0  1  3  0\n",
      " -1  0  0  1 -1 -1  0 -1 -1  0  0  0  0 -1  0  0  0 -1 -1  0 -1  1  0  0\n",
      "  0  0 -1  0  0  0 -1  0 -1  0  0  0  0 -1 -1  0  0  0  0 -1  0  0  0  0\n",
      " -1  4  5  1 -1  0 -1  0  0  1  0  1  0  0  0  0  0 -1 -1  0  4  0  0  0\n",
      "  1  1  0  0  0  0 -1 -1  1  0  0  0  0  0  0  0 -1  3 -1 -1 -1 -1  0 -1\n",
      " -1  0  0 -1 -1 -1 -1 -1 -1  0 -1  0 -1 -1 -1 -1 -1 -1 -1  1  0 -1 -1 -1\n",
      " -1 -1  0  0 -1  0  0 -1 -1  0 -1  0 -1 -1 -1 -1  0 -1 -1 -1 -1 -1  0 -1\n",
      " -1  0 -1 -1  4  1  2 -1 -1 -1 -1 -1  0  0  0 -1  0 -1 -1  0 -1  0 -1  0\n",
      "  0 -1  0  0 -1  0  0  0 -1 -1  0  0 -1 -1 -1  1  0 -1 -1  0 -1  0  0 -1\n",
      " -1  0 -1 -1 -1  0 -1 -1  4 -1  0  0 -1 -1  0 -1  0  0  0  0  0 -1 -1  0\n",
      "  0 -1 -1 -1  0 -1 -1 -1 -1  0  0 -1 -1 -1 -1  0 -1 -1  0 -1 -1 -1 -1  0\n",
      " -1 -1  0  1  0  0  0 -1  0 -1  0 -1 -1  0 -1  0 -1 -1 -1 -1  0  0 -1  0\n",
      "  2  0  0 -1  0 -1  0 -1 -1  1 -1  0 -1 -1  0  4 -1 -1  4 -1  0  0  0  0\n",
      " -1  0  0  0  0  1 -1  0  1 -1  0 -1 -1 -1  0 -1 -1  0 -1 -1 -1 -1 -1  0\n",
      " -1 -1  0 -1 -1 -1 -1  1 -1  0  0  0 -1  0 -1 -1 -1  0  0  0 -1  0 -1 -1\n",
      " -1 -1  0  0  0  0  0 -1 -1 -1  0 -1  0 -1 -1 -1 -1  1  0  2  0  2  1  0\n",
      "  0 -1  0 -1 -1  1 -1  0 -1 -1 -1 -1  0 -1 -1  5  0  1  1 -1 -1 -1 -1  0\n",
      " -1  0  0  0 -1  0  0  0 -1 -1  0  0  1  0  0  1 -1  0 -1 -1  0  3 -1 -1\n",
      " -1 -1  1 -1 -1  0 -1 -1  0 -1 -1  0  3 -1  0 -1  0 -1  1  0 -1 -1 -1  0\n",
      "  0  0 -1  1  0  0  0 -1 -1  0  0  0  0  0  0 -1 -1 -1  0 -1 -1  0  0  0\n",
      " -1  0  0 -1 -1 -1  0  0 -1  0  0  0 -1 -1  0 -1  0  0  0  0  0  0 -1 -1\n",
      "  0  0 -1 -1  0 -1 -1  0 -1  0 -1 -1 -1  0  0  0 -1 -1 -1 -1  0  0  0  0\n",
      " -1 -1 -1 -1 -1  0 -1 -1  0 -1 -1 -1 -1 -1 -1  0 -1 -1 -1 -1 -1 -1  0  0\n",
      " -1 -1  5  0 -1 -1 -1  5 -1 -1  0 -1  0 -1  0 -1 -1 -1  0  4  0  1  0 -1\n",
      " -1 -1  0  0 -1 -1 -1 -1  0 -1  0  0  0 -1 -1  0  1 -1  3 -1 -1 -1  0  0\n",
      "  0  0 -1 -1 -1  0  0  0  0 -1 -1 -1  0  0  0  0  0 -1  0  1 -1 -1 -1 -1\n",
      " -1 -1 -1  0  0 -1 -1  1 -1  0 -1 -1 -1 -1 -1  0 -1  0  0 -1 -1 -1  0 -1\n",
      "  0  0 -1  0  0  0 -1  0  0 -1 -1  1 -1 -1 -1 -1  0 -1 -1 -1 -1  1 -1  0\n",
      " -1  0 -1 -1  0  1 -1 -1 -1 -1  0 -1 -1  0 -1  1 -1 -1  0  0  1  0  0  1\n",
      " -1 -1 -1 -1 -1 -1  0 -1 -1 -1  0  0  0  0 -1 -1  1  0  0 -1 -1  0  0  0\n",
      " -1 -1 -1  1 -1 -1  0 -1  0 -1 -1  0  0  0 -1  0 -1 -1 -1  0  0 -1 -1 -1\n",
      " -1 -1 -1  0  0  0  0  0  0 -1 -1  0 -1  0 -1  0  0 -1 -1 -1 -1 -1 -1  0\n",
      " -1  0 -1 -1 -1 -1 -1  0 -1 -1 -1 -1  0 -1 -1 -1  1  0 -1 -1  0  0  0 -1\n",
      "  0  0 -1  0 -1 -1  0 -1  0 -1 -1  0 -1 -1  0  3  0  0 -1 -1 -1 -1 -1 -1\n",
      "  0  0  4 -1 -1  0 -1  0 -1  0  0  0  4 -1  1 -1 -1 -1 -1  0  0 -1 -1  0\n",
      " -1  0  0 -1 -1  0 -1 -1 -1 -1  0 -1 -1 -1  1  0  5  0  0 -1 -1  0 -1  0\n",
      "  0 -1 -1 -1 -1 -1  0  1 -1  0 -1  0 -1  0 -1  0 -1  0 -1 -1  0  0  0  0\n",
      "  0  0 -1 -1  0 -1 -1 -1 -1  0 -1 -1 -1  0  0 -1  0  3  0 -1  0 -1  0 -1\n",
      "  0  0 -1  0  0 -1  0 -1  0  0  0 -1 -1  0  0 -1]\n"
     ]
    },
    {
     "name": "stderr",
     "output_type": "stream",
     "text": [
      "C:\\Users\\Friso\\AppData\\Local\\Temp\\ipykernel_12856\\1660085157.py:13: RuntimeWarning:\n",
      "\n",
      "invalid value encountered in scalar power\n",
      "\n"
     ]
    },
    {
     "name": "stdout",
     "output_type": "stream",
     "text": [
      "Labels DBSCAN [  0   2   0  -1  -1  -1   1  -1  -1  -1  -1  -1  17  62  92  -1   0  -1\n",
      "   2  -1  -1  -1  39  -1  67   9  -1  12  -1  -1  50  -1  17  71  84  -1\n",
      "  -1  -1  -1  -1  -1  -1  69  -1  -1  -1  -1   2  -1   4   3  -1  -1  -1\n",
      "  -1   1   4  -1  -1  -1  -1  -1  -1  -1   5  -1  -1  -1  -1   4  -1  -1\n",
      "  -1  -1   9  -1  -1  -1   6   1  -1  -1  18  -1  -1   0  -1   9  -1  37\n",
      "  -1   3   2  -1  -1   2  -1  -1  -1  37  -1  -1  -1  -1  -1  -1  -1  -1\n",
      "  -1  -1  -1   7   8  -1  -1  -1  -1  -1  -1   9   9  -1  -1  50  -1   0\n",
      "  -1  -1  -1  -1  -1  -1   4  -1  -1  -1  -1  -1  -1  -1  10  -1  -1   1\n",
      "  -1  -1  -1  -1  -1  -1  -1  11  -1  -1  33  -1  -1  -1   0   4  -1  -1\n",
      "  -1  -1  -1  16  12  12  -1  -1  -1  -1  -1   6  -1  -1  37  -1   4  -1\n",
      "  -1  13   1  -1  -1  -1  -1  -1  -1  -1  14  -1  -1  16  15  -1  -1  -1\n",
      "  -1  -1  -1  45  -1  45  -1  -1  -1  -1  -1  -1  -1  -1  -1  -1  -1  -1\n",
      "  -1  -1  16  -1  -1  -1  -1  -1  -1  -1  -1  35  -1  -1  -1  -1  -1  -1\n",
      "  -1  -1  -1  -1  -1  -1  -1  17  -1  -1  -1  -1  -1  -1  -1  -1  -1  -1\n",
      "  14  -1  -1  -1  -1  -1  -1  18  -1  19  -1  16  -1  -1  -1  45  -1  22\n",
      "  20  21  -1  -1  -1  -1  -1  -1  -1  -1  27  22  -1  23  -1  84  19  -1\n",
      "  -1  45  -1  -1  -1  42  -1  -1  -1  -1  29  17  -1  -1  24  -1  25  -1\n",
      "  45  36  26  -1  -1  27  -1  -1  -1  -1  -1  -1  -1  -1  -1  31  69  -1\n",
      "  -1  -1  -1  -1  -1  -1  19  -1  -1  -1  -1  75  -1  -1  16  -1  18  19\n",
      "  28  -1  29  -1  30  -1  -1  -1  -1  31  -1  -1  -1  -1  32  33  -1  19\n",
      "  -1  34  41  -1  15  -1  35  -1  -1  -1  -1  69  -1  -1  36  -1  -1  -1\n",
      "  37  -1  -1  -1  -1  38  -1  -1  16  41  39  -1  -1  40  -1  -1  35  -1\n",
      "  -1  -1  21  -1  -1  17  -1  -1  -1  -1  -1  -1  -1  -1  69  -1  -1  -1\n",
      "  -1  -1  -1  58  42  -1  -1  19  -1  41  -1  22  42  43  -1  44  -1  -1\n",
      "  -1  -1  45  -1  -1  -1  46  -1  -1  -1  47  -1  -1  -1  -1  -1  -1  -1\n",
      "  45  -1  -1  -1  -1  -1  19  -1  48  -1  -1  -1  -1  16  -1  -1  -1  -1\n",
      "  49  -1  -1  -1  50  -1  -1  51  -1  -1  -1  44  -1  -1  -1  19  -1  -1\n",
      "  52  -1  -1  -1  15  -1  -1  -1  -1  -1  -1  53  -1  -1  54  -1  -1  -1\n",
      "  -1  -1  -1  -1  -1  40  -1  -1  19  -1  -1  44  -1  -1  55  -1  45  -1\n",
      "  -1  -1  -1  -1  -1  -1  56  -1  -1  -1  57  58  59  -1  -1  60  61  40\n",
      "  19  -1  -1  -1  -1  -1  27  -1  -1  -1  -1  62  -1  -1  19  -1  -1  -1\n",
      "  -1  -1  -1  63 100  -1  -1  -1  64  -1  -1  -1  65  -1  16  66  -1  -1\n",
      "  31  67  -1  -1  -1  -1  -1  -1  -1  68  -1  -1  -1  19  69  44  -1  -1\n",
      "  -1  -1  36  70  30  71  -1  -1  -1  -1  -1  -1  -1  -1  66  -1  -1  -1\n",
      "  -1  -1  -1  72  -1  -1  -1  -1  -1  -1  -1  -1  -1  -1  -1  -1  -1  -1\n",
      "  -1  -1  -1  -1  -1  -1  73  -1  74  -1  -1  -1  -1  -1  75  -1  -1  -1\n",
      "  -1  -1  45  25  -1  -1  -1  -1  31  -1  76  49  -1  -1  -1  -1  -1  -1\n",
      "  -1  77  -1  -1  78  45  -1  -1  -1  -1  17  -1  -1  79  16  -1  -1  -1\n",
      "  -1  -1  80  -1  77  -1  62  -1  -1  -1  -1  -1  -1  -1  -1  81  45  -1\n",
      "  -1  -1  -1  82  -1  -1  -1  -1  -1  83  -1  15  -1  -1  -1  -1  92  -1\n",
      "  44  45  -1  -1  19  84  -1  85  15  -1  -1  37  -1  -1  -1  -1  -1  -1\n",
      "  -1  -1  -1  -1  -1  86  -1  35  -1  -1  -1  37  -1  -1  -1  -1  -1  -1\n",
      "  -1  40  -1  37  -1  -1  -1  14  -1  87  88  -1  -1  -1  -1  -1  -1  -1\n",
      "  19  -1  -1  -1  -1  -1  79  -1  -1  -1  -1  62  16  -1  -1  16  69  -1\n",
      "  -1  -1  -1  -1  -1  -1  -1  -1  18  -1  -1  -1  42  89  -1  90  -1  -1\n",
      "  -1  35  59  -1  -1  -1  -1  -1  -1  -1  -1  83  32  91  43  -1  -1  35\n",
      "  -1  -1  -1  -1  92  -1  -1  -1  -1  -1  -1  45  -1  93  -1  -1  -1  -1\n",
      "  -1  94  -1  -1  -1  -1  -1  -1  -1  -1  -1  -1  -1  -1  -1  -1  -1  -1\n",
      "  25  16  -1  -1  -1  -1  95  -1  19  -1  -1  -1  -1  -1  96  -1  97  -1\n",
      "  -1  -1  -1  -1  -1  -1  91  19  -1  -1  -1  84  -1  98  -1  99  -1  69\n",
      "  -1  -1  -1  -1  -1  -1  -1  45 100  -1  -1 101  -1  17  15  -1  -1 102\n",
      "  -1  -1  -1  -1  19  -1  -1  -1  -1  93  -1 103  83  -1  -1  44  -1  35\n",
      "  28  -1  -1  -1  -1  -1 104  37  -1 105  -1  19  -1  -1  -1  65  -1  77\n",
      "  -1  -1  74  45  -1  -1 106  -1  -1  -1  -1  -1  -1  -1  -1  77  -1 107\n",
      "  -1 108  19  -1  -1  -1  40  -1  15  -1  -1  -1  -1  60  -1  -1 109  -1\n",
      " 110  -1  82 111  15  -1  -1  -1  16  -1]\n",
      "Labels DBSCAN [0 0 0 0 0 0 0 0 0 0 0 0 0 0 0 0 0 0 0 0 0 0 0 0 0 0 0 0 0 0 0 0 0 0 0 0 0\n",
      " 0 0 0 0 0 0 0 0 0 0 0 0 0 0 0 0 0 0 0 0 0 0 0 0 0 0 0 0 0 0 0 0 0 0 0 0 0\n",
      " 0 0 0 0 0 0 0 0 0 0 0 0 0 0 0 0 0 0 0 0 0 0 0 0 0 0 0 0 0 0 0 0 0 0 0 0 0\n",
      " 0 0 0 0 0 0 0 0 0 0 0 0 0 0 0 0 0 0 0 0 0 0 0 0 0 0 0 0 0 0 0 0 0 0 0 0 0\n",
      " 0 0 0 0 0 0 0 0 0 0 0 0 0 0 0 0 0 0 0 0 0 0 0 0 0 0 0 0 0 0 0 0 0 0 0 0 0\n",
      " 0 0 0 0 0 0 0 0 0 0 0 0 0 0 0 0 0 0 0 0 0 0 0 0 0 0 0 0 0 0 0 0 0 0 0 0 0\n",
      " 0 0 0 0 0 0 0 0 0 0 0 0 0 0 0 0 0 0 0 0 0 0 0 0 0 0 0 0 0 0 0 0 0 0 0 0 0\n",
      " 0 0 0 0 0 0 0 0 0 0 0 0 0 0 0 0 0 0 0 0 0 0 0 0 0 0 0 0 0 0 0 0 0 0 0 0 0\n",
      " 0 0 0 0 0 0 0 0 0 0 0 0 0 0 0 0 0 0 0 0 0 0 0 0 0 0 0 0 0 0 0 0 0 0 0 0 0\n",
      " 0 0 0 0 0 0 0 0 0 0 0 0 0 0 0 0 0 0 0 0 0 0 0 0 0 0 0 0 0 0 0 0 0 0 0 0 0\n",
      " 0 0 0 0 0 0 0 0 0 0 0 0 0 0 0 0 0 0 0 0 0 0 0 0 0 0 0 0 0 0 0 0 0 0 0 0 0\n",
      " 0 0 0 0 0 0 0 0 0 0 0 0 0 0 0 0 0 0 0 0 0 0 0 0 0 0 0 0 0 0 0 0 0 0 0 0 0\n",
      " 0 0 0 0 0 0 0 0 0 0 0 0 0 0 0 0 0 0 0 0 0 0 0 0 0 0 0 0 0 0 0 0 0 0 0 0 0\n",
      " 0 0 0 0 0 0 0 0 0 0 0 0 0 0 0 0 0 0 0 0 0 0 0 0 0 0 0 0 0 0 0 0 0 0 0 0 0\n",
      " 0 0 0 0 0 0 0 0 0 0 0 0 0 0 0 0 0 0 0 0 0 0 0 0 0 0 0 0 0 0 0 0 0 0 0 0 0\n",
      " 0 0 0 0 0 0 0 0 0 0 0 0 0 0 0 0 0 0 0 0 0 0 0 0 0 0 0 0 0 0 0 0 0 0 0 0 0\n",
      " 0 0 0 0 0 0 0 0 0 0 0 0 0 0 0 0 0 0 0 0 0 0 0 0 0 0 0 0 0 0 0 0 0 0 0 0 0\n",
      " 0 0 0 0 0 0 0 0 0 0 0 0 0 0 0 0 0 0 0 0 0 0 0 0 0 0 0 0 0 0 0 0 0 0 0 0 0\n",
      " 0 0 0 0 0 0 0 0 0 0 0 0 0 0 0 0 0 0 0 0 0 0 0 0 0 0 0 0 0 0 0 0 0 0 0 0 0\n",
      " 0 0 0 0 0 0 0 0 0 0 0 0 0 0 0 0 0 0 0 0 0 0 0 0 0 0 0 0 0 0 0 0 0 0 0 0 0\n",
      " 0 0 0 0 0 0 0 0 0 0 0 0 0 0 0 0 0 0 0 0 0 0 0 0 0 0 0 0 0 0 0 0 0 0 0 0 0\n",
      " 0 0 0 0 0 0 0 0 0 0 0 0 0 0 0 0 0 0 0 0 0 0 0 0 0 0 0 0 0 0 0 0 0 0 0 0 0\n",
      " 0 0 0 0 0 0 0 0 0 0 0 0 0 0 0 0 0 0 0 0 0 0 0 0 0 0 0 0 0 0 0 0 0 0 0 0 0\n",
      " 0 0 0 0 0 0 0 0 0 0 0 0 0 0 0 0 0 0 0 0 0 0 0 0 0 0 0 0 0 0 0 0 0 0 0 0 0\n",
      " 0 0 0 0 0 0 0 0 0 0 0 0 0 0 0 0 0 0 0 0 0 0 0 0 0 0 0 0 0 0 0 0 0 0 0 0 0\n",
      " 0 0 0 0 0 0 0 0 0 0 0 0 0 0 0 0 0 0 0 0 0 0 0 0 0 0 0 0 0 0 0 0 0 0 0 0 0\n",
      " 0 0 0 0 0 0 0 0 0 0 0 0 0 0 0 0 0 0 0 0 0 0 0 0 0 0 0 0 0 0 0 0 0 0 0 0 0\n",
      " 0]\n"
     ]
    },
    {
     "data": {
      "application/vnd.plotly.v1+json": {
       "data": [
        {
         "hovertemplate": "x=%{x}<br>index=%{y}<extra></extra>",
         "legendgroup": "",
         "marker": {
          "color": "#636efa",
          "symbol": "circle"
         },
         "mode": "markers",
         "name": "",
         "orientation": "h",
         "showlegend": false,
         "x": {
          "dtype": "i1",
          "bdata": "AAIA////Af//////ET5c/wD/Av///yf/Qwn/DP//Mv8RR1T/////////Rf////8C/wQD/////wEE/////////wX/////BP////8J////BgH//xL//wD/Cf8l/wMC//8C////Jf//////////////Bwj///////8JCf//Mv8A////////BP////////8K//8B/////////wv//yH///8ABP//////EAwM//////8G//8l/wT//w0B/////////w7//xAP////////Lf8t//////////////////8Q//////////8j/////////////////xH/////////////Dv///////xL/E/8Q////Lf8WFBX//////////xsW/xf/VBP//y3///8q/////x0R//8Y/xn/LSQa//8b////////////H0X/////////E/////9L//8Q/xITHP8d/x7/////H/////8gIf8T/yIp/w//I/////9F//8k////Jf////8m//8QKSf//yj//yP///8V//8R//////////9F////////Oir//xP/Kf8WKiv/LP////8t////Lv///y//////////Lf//////E/8w/////xD/////Mf///zL//zP///8s////E///NP///w////////81//82//////////8o//8T//8s//83/y3/////////OP///zk6O///PD0oE///////G/////8+//8T////////P2T///9A////Qf8QQv//H0P/////////RP///xNFLP////8kRh5H//////////9C////////SP//////////////////////////Sf9K//////9L//////8tGf////8f/0wx/////////03//04t/////xH//08Q//////9Q/03/Pv//////////US3/////Uv//////U/8P/////1z/LC3//xNU/1UP//8l//////////////9W/yP///8l/////////yj/Jf///w7/V1j/////////E///////T/////8+EP//EEX///////////8S////Kln/Wv///yM7//////////9TIFsr//8j/////1z///////8t/13//////17/////////////////////GRD/////X/8T//////9g/2H/////////WxP///9U/2L/Y/9F/////////y1k//9l/xEP//9m/////xP/////Xf9nU///LP8jHP//////aCX/af8T////Qf9N//9KLf//av//////////Tf9r/2wT////KP8P/////zz//23/bv9Sbw////8Q/w=="
         },
         "xaxis": "x",
         "y": {
          "dtype": "i2",
          "bdata": "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"
         },
         "yaxis": "y",
         "type": "scatter"
        }
       ],
       "layout": {
        "template": {
         "data": {
          "histogram2dcontour": [
           {
            "type": "histogram2dcontour",
            "colorbar": {
             "outlinewidth": 0,
             "ticks": ""
            },
            "colorscale": [
             [
              0.0,
              "#0d0887"
             ],
             [
              0.1111111111111111,
              "#46039f"
             ],
             [
              0.2222222222222222,
              "#7201a8"
             ],
             [
              0.3333333333333333,
              "#9c179e"
             ],
             [
              0.4444444444444444,
              "#bd3786"
             ],
             [
              0.5555555555555556,
              "#d8576b"
             ],
             [
              0.6666666666666666,
              "#ed7953"
             ],
             [
              0.7777777777777778,
              "#fb9f3a"
             ],
             [
              0.8888888888888888,
              "#fdca26"
             ],
             [
              1.0,
              "#f0f921"
             ]
            ]
           }
          ],
          "choropleth": [
           {
            "type": "choropleth",
            "colorbar": {
             "outlinewidth": 0,
             "ticks": ""
            }
           }
          ],
          "histogram2d": [
           {
            "type": "histogram2d",
            "colorbar": {
             "outlinewidth": 0,
             "ticks": ""
            },
            "colorscale": [
             [
              0.0,
              "#0d0887"
             ],
             [
              0.1111111111111111,
              "#46039f"
             ],
             [
              0.2222222222222222,
              "#7201a8"
             ],
             [
              0.3333333333333333,
              "#9c179e"
             ],
             [
              0.4444444444444444,
              "#bd3786"
             ],
             [
              0.5555555555555556,
              "#d8576b"
             ],
             [
              0.6666666666666666,
              "#ed7953"
             ],
             [
              0.7777777777777778,
              "#fb9f3a"
             ],
             [
              0.8888888888888888,
              "#fdca26"
             ],
             [
              1.0,
              "#f0f921"
             ]
            ]
           }
          ],
          "heatmap": [
           {
            "type": "heatmap",
            "colorbar": {
             "outlinewidth": 0,
             "ticks": ""
            },
            "colorscale": [
             [
              0.0,
              "#0d0887"
             ],
             [
              0.1111111111111111,
              "#46039f"
             ],
             [
              0.2222222222222222,
              "#7201a8"
             ],
             [
              0.3333333333333333,
              "#9c179e"
             ],
             [
              0.4444444444444444,
              "#bd3786"
             ],
             [
              0.5555555555555556,
              "#d8576b"
             ],
             [
              0.6666666666666666,
              "#ed7953"
             ],
             [
              0.7777777777777778,
              "#fb9f3a"
             ],
             [
              0.8888888888888888,
              "#fdca26"
             ],
             [
              1.0,
              "#f0f921"
             ]
            ]
           }
          ],
          "contourcarpet": [
           {
            "type": "contourcarpet",
            "colorbar": {
             "outlinewidth": 0,
             "ticks": ""
            }
           }
          ],
          "contour": [
           {
            "type": "contour",
            "colorbar": {
             "outlinewidth": 0,
             "ticks": ""
            },
            "colorscale": [
             [
              0.0,
              "#0d0887"
             ],
             [
              0.1111111111111111,
              "#46039f"
             ],
             [
              0.2222222222222222,
              "#7201a8"
             ],
             [
              0.3333333333333333,
              "#9c179e"
             ],
             [
              0.4444444444444444,
              "#bd3786"
             ],
             [
              0.5555555555555556,
              "#d8576b"
             ],
             [
              0.6666666666666666,
              "#ed7953"
             ],
             [
              0.7777777777777778,
              "#fb9f3a"
             ],
             [
              0.8888888888888888,
              "#fdca26"
             ],
             [
              1.0,
              "#f0f921"
             ]
            ]
           }
          ],
          "surface": [
           {
            "type": "surface",
            "colorbar": {
             "outlinewidth": 0,
             "ticks": ""
            },
            "colorscale": [
             [
              0.0,
              "#0d0887"
             ],
             [
              0.1111111111111111,
              "#46039f"
             ],
             [
              0.2222222222222222,
              "#7201a8"
             ],
             [
              0.3333333333333333,
              "#9c179e"
             ],
             [
              0.4444444444444444,
              "#bd3786"
             ],
             [
              0.5555555555555556,
              "#d8576b"
             ],
             [
              0.6666666666666666,
              "#ed7953"
             ],
             [
              0.7777777777777778,
              "#fb9f3a"
             ],
             [
              0.8888888888888888,
              "#fdca26"
             ],
             [
              1.0,
              "#f0f921"
             ]
            ]
           }
          ],
          "mesh3d": [
           {
            "type": "mesh3d",
            "colorbar": {
             "outlinewidth": 0,
             "ticks": ""
            }
           }
          ],
          "scatter": [
           {
            "marker": {
             "line": {
              "color": "#283442"
             }
            },
            "type": "scatter"
           }
          ],
          "parcoords": [
           {
            "type": "parcoords",
            "line": {
             "colorbar": {
              "outlinewidth": 0,
              "ticks": ""
             }
            }
           }
          ],
          "scatterpolargl": [
           {
            "type": "scatterpolargl",
            "marker": {
             "colorbar": {
              "outlinewidth": 0,
              "ticks": ""
             }
            }
           }
          ],
          "bar": [
           {
            "error_x": {
             "color": "#f2f5fa"
            },
            "error_y": {
             "color": "#f2f5fa"
            },
            "marker": {
             "line": {
              "color": "rgb(17,17,17)",
              "width": 0.5
             },
             "pattern": {
              "fillmode": "overlay",
              "size": 10,
              "solidity": 0.2
             }
            },
            "type": "bar"
           }
          ],
          "scattergeo": [
           {
            "type": "scattergeo",
            "marker": {
             "colorbar": {
              "outlinewidth": 0,
              "ticks": ""
             }
            }
           }
          ],
          "scatterpolar": [
           {
            "type": "scatterpolar",
            "marker": {
             "colorbar": {
              "outlinewidth": 0,
              "ticks": ""
             }
            }
           }
          ],
          "histogram": [
           {
            "marker": {
             "pattern": {
              "fillmode": "overlay",
              "size": 10,
              "solidity": 0.2
             }
            },
            "type": "histogram"
           }
          ],
          "scattergl": [
           {
            "marker": {
             "line": {
              "color": "#283442"
             }
            },
            "type": "scattergl"
           }
          ],
          "scatter3d": [
           {
            "type": "scatter3d",
            "line": {
             "colorbar": {
              "outlinewidth": 0,
              "ticks": ""
             }
            },
            "marker": {
             "colorbar": {
              "outlinewidth": 0,
              "ticks": ""
             }
            }
           }
          ],
          "scattermap": [
           {
            "type": "scattermap",
            "marker": {
             "colorbar": {
              "outlinewidth": 0,
              "ticks": ""
             }
            }
           }
          ],
          "scattermapbox": [
           {
            "type": "scattermapbox",
            "marker": {
             "colorbar": {
              "outlinewidth": 0,
              "ticks": ""
             }
            }
           }
          ],
          "scatterternary": [
           {
            "type": "scatterternary",
            "marker": {
             "colorbar": {
              "outlinewidth": 0,
              "ticks": ""
             }
            }
           }
          ],
          "scattercarpet": [
           {
            "type": "scattercarpet",
            "marker": {
             "colorbar": {
              "outlinewidth": 0,
              "ticks": ""
             }
            }
           }
          ],
          "carpet": [
           {
            "aaxis": {
             "endlinecolor": "#A2B1C6",
             "gridcolor": "#506784",
             "linecolor": "#506784",
             "minorgridcolor": "#506784",
             "startlinecolor": "#A2B1C6"
            },
            "baxis": {
             "endlinecolor": "#A2B1C6",
             "gridcolor": "#506784",
             "linecolor": "#506784",
             "minorgridcolor": "#506784",
             "startlinecolor": "#A2B1C6"
            },
            "type": "carpet"
           }
          ],
          "table": [
           {
            "cells": {
             "fill": {
              "color": "#506784"
             },
             "line": {
              "color": "rgb(17,17,17)"
             }
            },
            "header": {
             "fill": {
              "color": "#2a3f5f"
             },
             "line": {
              "color": "rgb(17,17,17)"
             }
            },
            "type": "table"
           }
          ],
          "barpolar": [
           {
            "marker": {
             "line": {
              "color": "rgb(17,17,17)",
              "width": 0.5
             },
             "pattern": {
              "fillmode": "overlay",
              "size": 10,
              "solidity": 0.2
             }
            },
            "type": "barpolar"
           }
          ],
          "pie": [
           {
            "automargin": true,
            "type": "pie"
           }
          ]
         },
         "layout": {
          "autotypenumbers": "strict",
          "colorway": [
           "#636efa",
           "#EF553B",
           "#00cc96",
           "#ab63fa",
           "#FFA15A",
           "#19d3f3",
           "#FF6692",
           "#B6E880",
           "#FF97FF",
           "#FECB52"
          ],
          "font": {
           "color": "#f2f5fa"
          },
          "hovermode": "closest",
          "hoverlabel": {
           "align": "left"
          },
          "paper_bgcolor": "rgb(17,17,17)",
          "plot_bgcolor": "rgb(17,17,17)",
          "polar": {
           "bgcolor": "rgb(17,17,17)",
           "angularaxis": {
            "gridcolor": "#506784",
            "linecolor": "#506784",
            "ticks": ""
           },
           "radialaxis": {
            "gridcolor": "#506784",
            "linecolor": "#506784",
            "ticks": ""
           }
          },
          "ternary": {
           "bgcolor": "rgb(17,17,17)",
           "aaxis": {
            "gridcolor": "#506784",
            "linecolor": "#506784",
            "ticks": ""
           },
           "baxis": {
            "gridcolor": "#506784",
            "linecolor": "#506784",
            "ticks": ""
           },
           "caxis": {
            "gridcolor": "#506784",
            "linecolor": "#506784",
            "ticks": ""
           }
          },
          "coloraxis": {
           "colorbar": {
            "outlinewidth": 0,
            "ticks": ""
           }
          },
          "colorscale": {
           "sequential": [
            [
             0.0,
             "#0d0887"
            ],
            [
             0.1111111111111111,
             "#46039f"
            ],
            [
             0.2222222222222222,
             "#7201a8"
            ],
            [
             0.3333333333333333,
             "#9c179e"
            ],
            [
             0.4444444444444444,
             "#bd3786"
            ],
            [
             0.5555555555555556,
             "#d8576b"
            ],
            [
             0.6666666666666666,
             "#ed7953"
            ],
            [
             0.7777777777777778,
             "#fb9f3a"
            ],
            [
             0.8888888888888888,
             "#fdca26"
            ],
            [
             1.0,
             "#f0f921"
            ]
           ],
           "sequentialminus": [
            [
             0.0,
             "#0d0887"
            ],
            [
             0.1111111111111111,
             "#46039f"
            ],
            [
             0.2222222222222222,
             "#7201a8"
            ],
            [
             0.3333333333333333,
             "#9c179e"
            ],
            [
             0.4444444444444444,
             "#bd3786"
            ],
            [
             0.5555555555555556,
             "#d8576b"
            ],
            [
             0.6666666666666666,
             "#ed7953"
            ],
            [
             0.7777777777777778,
             "#fb9f3a"
            ],
            [
             0.8888888888888888,
             "#fdca26"
            ],
            [
             1.0,
             "#f0f921"
            ]
           ],
           "diverging": [
            [
             0,
             "#8e0152"
            ],
            [
             0.1,
             "#c51b7d"
            ],
            [
             0.2,
             "#de77ae"
            ],
            [
             0.3,
             "#f1b6da"
            ],
            [
             0.4,
             "#fde0ef"
            ],
            [
             0.5,
             "#f7f7f7"
            ],
            [
             0.6,
             "#e6f5d0"
            ],
            [
             0.7,
             "#b8e186"
            ],
            [
             0.8,
             "#7fbc41"
            ],
            [
             0.9,
             "#4d9221"
            ],
            [
             1,
             "#276419"
            ]
           ]
          },
          "xaxis": {
           "gridcolor": "#283442",
           "linecolor": "#506784",
           "ticks": "",
           "title": {
            "standoff": 15
           },
           "zerolinecolor": "#283442",
           "automargin": true,
           "zerolinewidth": 2
          },
          "yaxis": {
           "gridcolor": "#283442",
           "linecolor": "#506784",
           "ticks": "",
           "title": {
            "standoff": 15
           },
           "zerolinecolor": "#283442",
           "automargin": true,
           "zerolinewidth": 2
          },
          "scene": {
           "xaxis": {
            "backgroundcolor": "rgb(17,17,17)",
            "gridcolor": "#506784",
            "linecolor": "#506784",
            "showbackground": true,
            "ticks": "",
            "zerolinecolor": "#C8D4E3",
            "gridwidth": 2
           },
           "yaxis": {
            "backgroundcolor": "rgb(17,17,17)",
            "gridcolor": "#506784",
            "linecolor": "#506784",
            "showbackground": true,
            "ticks": "",
            "zerolinecolor": "#C8D4E3",
            "gridwidth": 2
           },
           "zaxis": {
            "backgroundcolor": "rgb(17,17,17)",
            "gridcolor": "#506784",
            "linecolor": "#506784",
            "showbackground": true,
            "ticks": "",
            "zerolinecolor": "#C8D4E3",
            "gridwidth": 2
           }
          },
          "shapedefaults": {
           "line": {
            "color": "#f2f5fa"
           }
          },
          "annotationdefaults": {
           "arrowcolor": "#f2f5fa",
           "arrowhead": 0,
           "arrowwidth": 1
          },
          "geo": {
           "bgcolor": "rgb(17,17,17)",
           "landcolor": "rgb(17,17,17)",
           "subunitcolor": "#506784",
           "showland": true,
           "showlakes": true,
           "lakecolor": "rgb(17,17,17)"
          },
          "title": {
           "x": 0.05
          },
          "updatemenudefaults": {
           "bgcolor": "#506784",
           "borderwidth": 0
          },
          "sliderdefaults": {
           "bgcolor": "#C8D4E3",
           "borderwidth": 1,
           "bordercolor": "rgb(17,17,17)",
           "tickwidth": 0
          },
          "mapbox": {
           "style": "dark"
          }
         }
        },
        "xaxis": {
         "anchor": "y",
         "domain": [
          0.0,
          1.0
         ],
         "title": {
          "text": "x"
         }
        },
        "yaxis": {
         "anchor": "x",
         "domain": [
          0.0,
          1.0
         ],
         "title": {
          "text": "index"
         }
        },
        "legend": {
         "tracegroupgap": 0
        },
        "margin": {
         "t": 60
        }
       },
       "config": {
        "plotlyServerURL": "https://plot.ly"
       }
      }
     },
     "metadata": {},
     "output_type": "display_data"
    }
   ],
   "execution_count": 17
  },
  {
   "metadata": {
    "ExecuteTime": {
     "end_time": "2025-09-22T16:46:45.102864Z",
     "start_time": "2025-09-22T15:52:44.048003Z"
    }
   },
   "cell_type": "code",
   "source": [
    "clustering_c2 = DBSCAN(eps=2, metric=our_manhattan_distance).fit(Data[:1000])\n",
    "label_c2 = clustering_c2.labels_\n",
    "print(\"Labels DBSCAN\", label_c2)   \n",
    "clustering_c3 = DBSCAN(eps=20, metric=our_manhattan_distance).fit(Data[:1000])\n",
    "label_c3 = clustering_c2.labels_\n",
    "print(\"Labels DBSCAN\", label_c3)   \n",
    "clustering_c4 = DBSCAN(eps=20000, metric=our_manhattan_distance).fit(Data[:1000])\n",
    "label_c4 = clustering_c4.labels_\n",
    "print(\"Labels DBSCAN\", label_c4)   \n",
    "\n",
    "import plotly.express as px\n",
    "fig = px.scatter(Data[:1000], label_c2)\n",
    "fig.show()\n",
    "fig = px.scatter(Data[:1000], label_c3)\n",
    "fig.show()\n",
    "fig = px.scatter(Data[:1000], label_c4)\n",
    "fig.show()"
   ],
   "id": "1d5829ec487c8fa9",
   "outputs": [
    {
     "name": "stderr",
     "output_type": "stream",
     "text": [
      "C:\\Users\\Friso\\AppData\\Local\\Temp\\ipykernel_12856\\1660085157.py:13: RuntimeWarning:\n",
      "\n",
      "invalid value encountered in scalar power\n",
      "\n"
     ]
    },
    {
     "name": "stdout",
     "output_type": "stream",
     "text": [
      "Labels DBSCAN [-1 -1 -1 -1 -1 -1 -1 -1 -1 -1 -1 -1 -1 -1 -1 -1 -1 -1 -1 -1 -1 -1 -1 -1\n",
      " -1 -1 -1 -1 -1 -1 -1 -1 -1 -1 -1 -1 -1 -1 -1 -1 -1 -1 -1 -1 -1 -1 -1 -1\n",
      " -1  0 -1 -1 -1 -1 -1 -1  0 -1 -1 -1 -1 -1 -1 -1 -1 -1 -1 -1 -1  0 -1 -1\n",
      " -1 -1 -1 -1 -1 -1  1  1 -1 -1 -1 -1 -1  1 -1 -1 -1 -1 -1  1 -1 -1 -1 -1\n",
      " -1 -1 -1 -1 -1 -1 -1 -1 -1 -1 -1 -1 -1 -1 -1 -1 -1 -1 -1 -1 -1 -1 -1 -1\n",
      " -1 -1 -1 -1 -1 -1 -1 -1 -1 -1 -1 -1  0 -1 -1 -1 -1 -1 -1 -1 -1 -1 -1  4\n",
      " -1 -1 -1 -1 -1 -1 -1 -1 -1 -1 -1 -1 -1 -1  1  0 -1 -1 -1 -1 -1 -1 -1 -1\n",
      " -1 -1 -1 -1 -1  1 -1 -1 -1 -1  0 -1 -1 -1 -1 -1 -1 -1 -1 -1 -1 -1 -1 -1\n",
      " -1 -1 -1 -1 -1 -1 -1 -1 -1 -1 -1 -1 -1 -1 -1 -1 -1 -1 -1 -1 -1 -1 -1 -1\n",
      " -1 -1 -1 -1 -1 -1 -1 -1 -1 -1 -1 -1 -1 -1 -1 -1 -1 -1 -1 -1 -1 -1 -1 -1\n",
      " -1 -1 -1 -1 -1 -1 -1 -1 -1 -1 -1 -1 -1 -1 -1 -1 -1 -1 -1 -1 -1 -1 -1 -1\n",
      " -1 -1 -1 -1 -1 -1 -1 -1 -1 -1 -1 -1 -1 -1 -1 -1 -1 -1 -1 -1 -1 -1  2 -1\n",
      " -1 -1 -1 -1 -1 -1 -1 -1 -1 -1 -1 -1 -1 -1  3 -1 -1 -1 -1 -1 -1 -1 -1 -1\n",
      " -1 -1 -1 -1 -1 -1 -1 -1 -1 -1 -1 -1 -1 -1 -1 -1 -1 -1  3 -1 -1 -1 -1 -1\n",
      " -1 -1 -1 -1 -1 -1 -1 -1 -1 -1 -1 -1 -1 -1 -1 -1 -1 -1 -1 -1 -1 -1 -1  3\n",
      " -1 -1 -1 -1 -1 -1 -1 -1 -1 -1 -1 -1 -1 -1 -1 -1 -1 -1 -1 -1 -1 -1 -1  4\n",
      " -1 -1 -1 -1 -1 -1 -1 -1 -1 -1 -1 -1 -1 -1 -1 -1 -1 -1 -1 -1 -1 -1 -1 -1\n",
      " -1 -1 -1 -1 -1 -1 -1 -1 -1 -1 -1 -1 -1  3 -1 -1 -1 -1 -1 -1 -1 -1 -1 -1\n",
      " -1 -1 -1 -1 -1 -1 -1 -1 -1 -1 -1 -1 -1 -1 -1 -1 -1 -1 -1 -1 -1 -1 -1 -1\n",
      " -1 -1 -1 -1 -1 -1 -1 -1 -1 -1 -1 -1 -1 -1 -1 -1 -1 -1 -1 -1 -1 -1 -1  4\n",
      " -1 -1 -1  3 -1 -1 -1 -1 -1 -1 -1 -1 -1 -1 -1 -1 -1 -1 -1 -1 -1 -1 -1 -1\n",
      " -1 -1 -1 -1 -1 -1 -1 -1  2 -1 -1 -1 -1 -1 -1 -1 -1 -1 -1 -1 -1 -1 -1 -1\n",
      " -1 -1 -1 -1 -1 -1 -1 -1 -1 -1 -1 -1  3 -1 -1 -1 -1 -1 -1 -1 -1 -1 -1 -1\n",
      " -1 -1  2 -1 -1 -1 -1 -1 -1 -1 -1 -1 -1 -1 -1 -1 -1 -1 -1 -1 -1 -1 -1 -1\n",
      " -1 -1 -1 -1 -1 -1 -1 -1 -1 -1 -1 -1 -1  2 -1  4 -1 -1 -1 -1 -1 -1 -1 -1\n",
      " -1 -1 -1 -1 -1 -1 -1 -1 -1 -1 -1 -1 -1 -1 -1 -1 -1 -1 -1 -1 -1 -1 -1 -1\n",
      " -1 -1 -1 -1 -1 -1 -1 -1 -1 -1 -1 -1 -1 -1  5 -1 -1 -1 -1 -1 -1 -1 -1 -1\n",
      " -1 -1 -1 -1 -1 -1 -1 -1 -1 -1 -1 -1 -1 -1 -1 -1 -1 -1 -1 -1 -1 -1 -1 -1\n",
      " -1 -1 -1 -1 -1 -1 -1 -1 -1 -1 -1 -1 -1 -1 -1 -1 -1 -1 -1 -1 -1 -1 -1 -1\n",
      " -1 -1 -1 -1 -1 -1 -1 -1 -1 -1 -1 -1 -1 -1 -1 -1 -1 -1 -1 -1 -1 -1 -1 -1\n",
      "  4 -1 -1 -1 -1 -1 -1 -1 -1 -1 -1 -1 -1 -1 -1 -1 -1 -1 -1 -1 -1 -1 -1 -1\n",
      " -1 -1 -1 -1 -1 -1 -1 -1 -1 -1 -1 -1 -1 -1 -1 -1 -1 -1 -1 -1 -1 -1 -1 -1\n",
      " -1 -1 -1 -1 -1 -1 -1 -1 -1 -1 -1 -1 -1 -1 -1 -1 -1 -1 -1 -1 -1 -1 -1 -1\n",
      " -1 -1 -1 -1 -1 -1 -1 -1 -1 -1 -1 -1 -1 -1 -1 -1 -1 -1 -1 -1 -1 -1 -1 -1\n",
      " -1 -1 -1 -1 -1 -1 -1 -1 -1 -1 -1 -1 -1 -1 -1 -1 -1 -1 -1 -1 -1 -1 -1 -1\n",
      " -1 -1 -1 -1 -1 -1 -1 -1 -1 -1 -1 -1 -1 -1 -1 -1 -1 -1 -1 -1 -1 -1 -1 -1\n",
      " -1 -1 -1 -1 -1 -1 -1 -1  3 -1 -1 -1 -1 -1 -1 -1 -1 -1 -1 -1 -1 -1 -1 -1\n",
      " -1 -1 -1 -1 -1 -1 -1 -1 -1 -1 -1 -1 -1 -1 -1 -1 -1 -1 -1 -1 -1 -1 -1 -1\n",
      " -1 -1 -1 -1 -1 -1 -1 -1 -1 -1  3 -1 -1 -1 -1 -1 -1 -1 -1 -1 -1 -1 -1 -1\n",
      " -1 -1 -1 -1 -1 -1 -1 -1 -1 -1 -1  2 -1 -1 -1 -1 -1 -1 -1 -1  5 -1 -1 -1\n",
      " -1 -1 -1 -1 -1 -1 -1 -1 -1 -1 -1 -1 -1 -1  2 -1 -1 -1 -1 -1 -1 -1 -1 -1\n",
      " -1 -1 -1 -1 -1 -1 -1 -1 -1 -1 -1 -1 -1 -1 -1 -1]\n"
     ]
    },
    {
     "name": "stderr",
     "output_type": "stream",
     "text": [
      "C:\\Users\\Friso\\AppData\\Local\\Temp\\ipykernel_12856\\1660085157.py:13: RuntimeWarning:\n",
      "\n",
      "invalid value encountered in scalar power\n",
      "\n"
     ]
    },
    {
     "name": "stdout",
     "output_type": "stream",
     "text": [
      "Labels DBSCAN [-1 -1 -1 -1 -1 -1 -1 -1 -1 -1 -1 -1 -1 -1 -1 -1 -1 -1 -1 -1 -1 -1 -1 -1\n",
      " -1 -1 -1 -1 -1 -1 -1 -1 -1 -1 -1 -1 -1 -1 -1 -1 -1 -1 -1 -1 -1 -1 -1 -1\n",
      " -1  0 -1 -1 -1 -1 -1 -1  0 -1 -1 -1 -1 -1 -1 -1 -1 -1 -1 -1 -1  0 -1 -1\n",
      " -1 -1 -1 -1 -1 -1  1  1 -1 -1 -1 -1 -1  1 -1 -1 -1 -1 -1  1 -1 -1 -1 -1\n",
      " -1 -1 -1 -1 -1 -1 -1 -1 -1 -1 -1 -1 -1 -1 -1 -1 -1 -1 -1 -1 -1 -1 -1 -1\n",
      " -1 -1 -1 -1 -1 -1 -1 -1 -1 -1 -1 -1  0 -1 -1 -1 -1 -1 -1 -1 -1 -1 -1  4\n",
      " -1 -1 -1 -1 -1 -1 -1 -1 -1 -1 -1 -1 -1 -1  1  0 -1 -1 -1 -1 -1 -1 -1 -1\n",
      " -1 -1 -1 -1 -1  1 -1 -1 -1 -1  0 -1 -1 -1 -1 -1 -1 -1 -1 -1 -1 -1 -1 -1\n",
      " -1 -1 -1 -1 -1 -1 -1 -1 -1 -1 -1 -1 -1 -1 -1 -1 -1 -1 -1 -1 -1 -1 -1 -1\n",
      " -1 -1 -1 -1 -1 -1 -1 -1 -1 -1 -1 -1 -1 -1 -1 -1 -1 -1 -1 -1 -1 -1 -1 -1\n",
      " -1 -1 -1 -1 -1 -1 -1 -1 -1 -1 -1 -1 -1 -1 -1 -1 -1 -1 -1 -1 -1 -1 -1 -1\n",
      " -1 -1 -1 -1 -1 -1 -1 -1 -1 -1 -1 -1 -1 -1 -1 -1 -1 -1 -1 -1 -1 -1  2 -1\n",
      " -1 -1 -1 -1 -1 -1 -1 -1 -1 -1 -1 -1 -1 -1  3 -1 -1 -1 -1 -1 -1 -1 -1 -1\n",
      " -1 -1 -1 -1 -1 -1 -1 -1 -1 -1 -1 -1 -1 -1 -1 -1 -1 -1  3 -1 -1 -1 -1 -1\n",
      " -1 -1 -1 -1 -1 -1 -1 -1 -1 -1 -1 -1 -1 -1 -1 -1 -1 -1 -1 -1 -1 -1 -1  3\n",
      " -1 -1 -1 -1 -1 -1 -1 -1 -1 -1 -1 -1 -1 -1 -1 -1 -1 -1 -1 -1 -1 -1 -1  4\n",
      " -1 -1 -1 -1 -1 -1 -1 -1 -1 -1 -1 -1 -1 -1 -1 -1 -1 -1 -1 -1 -1 -1 -1 -1\n",
      " -1 -1 -1 -1 -1 -1 -1 -1 -1 -1 -1 -1 -1  3 -1 -1 -1 -1 -1 -1 -1 -1 -1 -1\n",
      " -1 -1 -1 -1 -1 -1 -1 -1 -1 -1 -1 -1 -1 -1 -1 -1 -1 -1 -1 -1 -1 -1 -1 -1\n",
      " -1 -1 -1 -1 -1 -1 -1 -1 -1 -1 -1 -1 -1 -1 -1 -1 -1 -1 -1 -1 -1 -1 -1  4\n",
      " -1 -1 -1  3 -1 -1 -1 -1 -1 -1 -1 -1 -1 -1 -1 -1 -1 -1 -1 -1 -1 -1 -1 -1\n",
      " -1 -1 -1 -1 -1 -1 -1 -1  2 -1 -1 -1 -1 -1 -1 -1 -1 -1 -1 -1 -1 -1 -1 -1\n",
      " -1 -1 -1 -1 -1 -1 -1 -1 -1 -1 -1 -1  3 -1 -1 -1 -1 -1 -1 -1 -1 -1 -1 -1\n",
      " -1 -1  2 -1 -1 -1 -1 -1 -1 -1 -1 -1 -1 -1 -1 -1 -1 -1 -1 -1 -1 -1 -1 -1\n",
      " -1 -1 -1 -1 -1 -1 -1 -1 -1 -1 -1 -1 -1  2 -1  4 -1 -1 -1 -1 -1 -1 -1 -1\n",
      " -1 -1 -1 -1 -1 -1 -1 -1 -1 -1 -1 -1 -1 -1 -1 -1 -1 -1 -1 -1 -1 -1 -1 -1\n",
      " -1 -1 -1 -1 -1 -1 -1 -1 -1 -1 -1 -1 -1 -1  5 -1 -1 -1 -1 -1 -1 -1 -1 -1\n",
      " -1 -1 -1 -1 -1 -1 -1 -1 -1 -1 -1 -1 -1 -1 -1 -1 -1 -1 -1 -1 -1 -1 -1 -1\n",
      " -1 -1 -1 -1 -1 -1 -1 -1 -1 -1 -1 -1 -1 -1 -1 -1 -1 -1 -1 -1 -1 -1 -1 -1\n",
      " -1 -1 -1 -1 -1 -1 -1 -1 -1 -1 -1 -1 -1 -1 -1 -1 -1 -1 -1 -1 -1 -1 -1 -1\n",
      "  4 -1 -1 -1 -1 -1 -1 -1 -1 -1 -1 -1 -1 -1 -1 -1 -1 -1 -1 -1 -1 -1 -1 -1\n",
      " -1 -1 -1 -1 -1 -1 -1 -1 -1 -1 -1 -1 -1 -1 -1 -1 -1 -1 -1 -1 -1 -1 -1 -1\n",
      " -1 -1 -1 -1 -1 -1 -1 -1 -1 -1 -1 -1 -1 -1 -1 -1 -1 -1 -1 -1 -1 -1 -1 -1\n",
      " -1 -1 -1 -1 -1 -1 -1 -1 -1 -1 -1 -1 -1 -1 -1 -1 -1 -1 -1 -1 -1 -1 -1 -1\n",
      " -1 -1 -1 -1 -1 -1 -1 -1 -1 -1 -1 -1 -1 -1 -1 -1 -1 -1 -1 -1 -1 -1 -1 -1\n",
      " -1 -1 -1 -1 -1 -1 -1 -1 -1 -1 -1 -1 -1 -1 -1 -1 -1 -1 -1 -1 -1 -1 -1 -1\n",
      " -1 -1 -1 -1 -1 -1 -1 -1  3 -1 -1 -1 -1 -1 -1 -1 -1 -1 -1 -1 -1 -1 -1 -1\n",
      " -1 -1 -1 -1 -1 -1 -1 -1 -1 -1 -1 -1 -1 -1 -1 -1 -1 -1 -1 -1 -1 -1 -1 -1\n",
      " -1 -1 -1 -1 -1 -1 -1 -1 -1 -1  3 -1 -1 -1 -1 -1 -1 -1 -1 -1 -1 -1 -1 -1\n",
      " -1 -1 -1 -1 -1 -1 -1 -1 -1 -1 -1  2 -1 -1 -1 -1 -1 -1 -1 -1  5 -1 -1 -1\n",
      " -1 -1 -1 -1 -1 -1 -1 -1 -1 -1 -1 -1 -1 -1  2 -1 -1 -1 -1 -1 -1 -1 -1 -1\n",
      " -1 -1 -1 -1 -1 -1 -1 -1 -1 -1 -1 -1 -1 -1 -1 -1]\n"
     ]
    },
    {
     "name": "stderr",
     "output_type": "stream",
     "text": [
      "C:\\Users\\Friso\\AppData\\Local\\Temp\\ipykernel_12856\\1660085157.py:13: RuntimeWarning:\n",
      "\n",
      "invalid value encountered in scalar power\n",
      "\n"
     ]
    },
    {
     "name": "stdout",
     "output_type": "stream",
     "text": [
      "Labels DBSCAN [  0   5   0  -1   1  46   2  -1  -1  -1  -1  -1   1 171 292  -1   0  11\n",
      "   5  -1  -1  -1  96  -1 181  14  62   8  -1   3  14  -1   1 190   3  -1\n",
      "   4  -1  -1 333  -1  -1  11  -1  -1  -1  26   5  42   7   6  -1  -1  -1\n",
      "  -1   2   7  -1  -1  -1  11   8  -1  38   9  -1  -1  -1  -1   7  -1  -1\n",
      "  -1  64  14  34  -1  -1  10   2  -1  11   1  -1  -1   0 104   8  -1  20\n",
      "  11   6   5  -1  -1   5  -1  11  -1  96  -1  11  15  -1  -1  -1  -1  -1\n",
      "  -1  -1  -1  12  13  -1  -1  11  -1  -1  -1  14  14  -1  15  14  -1   0\n",
      "  16  -1  -1  -1  -1 120   7  -1  -1  64  64 244  -1  -1  17  11 191   2\n",
      " 271  -1   3  -1  -1  -1   3  18  -1  -1  31 129  -1  -1   0   7  -1  -1\n",
      "  -1  11  -1  15   1  19  -1  20  11  -1  -1  10  -1  62  23  -1   7  -1\n",
      "  20  21   2  -1  -1 132  22  22  23  24  25  26  23  35  27  -1  -1  26\n",
      "  -1  -1  -1 118 281 118 271 308  -1  28  -1  29  30  31  -1  32  33  -1\n",
      "  -1  34  35  -1  -1 241  -1  -1  36  -1  22  44  -1  37  38  39  -1  40\n",
      "  41  -1  42  43  52  44  45  46  47  48  84 176  47  49  50  51  52  53\n",
      "  25  -1  -1  62  64  -1  22  54  -1  55  56  26  23  -1  -1 118  53  32\n",
      "  57  58  -1  -1 228  64  -1  59  34  60  75  61  62  63  64  31  55  -1\n",
      "  65 118  66  38  67 114  -1  -1  43  68  82  29 109  69  70  71  72  -1\n",
      " 118  93  73 271  74  75  -1  51  22  22  -1  -1  26  -1  76  44  52  77\n",
      " 317  43  -1  48 144  -1  55  -1  62  78  79  23  80  22  26  22  29  55\n",
      "  81  -1  82  -1  44  83  84  41  77  64  -1 153  22  -1  85  86  22  55\n",
      "  22  87  64  88  22  -1  89  90  -1  91  -1  59  -1  92  93  94  22  95\n",
      "  96  97 134  -1  -1  98  99 100  26  28 101 102 103 104 105  -1  32  99\n",
      "  -1 106  58 107  -1  26  -1 108  -1  52  -1  -1 109 271 153  22  -1  -1\n",
      " 110 111  -1 142 114  -1  -1  55  52 112 113  22 114 115  22 116 117  22\n",
      "  23  -1 118 308  -1 119  91  22  22 120 121  -1  -1  -1 122  -1 123  38\n",
      " 118  77  76 124  -1 125  55  -1 126  52  -1 127 128  28  26 129  22 130\n",
      " 131  -1 132 133 134 135  43 136 137 138 139 116 140  47  -1  55 276  -1\n",
      " 141  96 142  -1  27  -1 143  -1  -1 129 144 145  -1 146 147 148 149 150\n",
      " 271 294 151  -1 152 104 153 154  55 155 153 116  38 156 157 158  96  62\n",
      " 159 228 160  -1 161  22 162  22  26 163 164 165 166 153  -1 167 168 104\n",
      "  55  -1  -1 169 170  -1  75  -1  -1  -1 129 171 172  -1  55 173  -1  -1\n",
      " 143  -1 174 175 104  -1  22 176 177  26  -1  43 178  -1  26 179 149 180\n",
      "  31 181 182  -1 183 184  -1 198  22 185 271  -1  62  55 186 116 187  -1\n",
      "  52 188  93 189  31 190 191 192  -1 193  23  26 195  -1  32 194 195 196\n",
      " 197 198  -1 199  22  22  62 200  62  -1 201  -1  -1  22 202 203  48 204\n",
      " 205 206 207 208  96 209 210  -1 211  23 212 213 188 214 215  45  -1 216\n",
      "  -1 113 118  57  -1  22 217 218  31 271 219 131  38 220  -1 134 221 222\n",
      " 223 224  -1  42 225 100  22 226 227  -1  22 228 137 229  26  -1  -1  22\n",
      "  96  42 117  -1  96  92 171 230 231 232 233  -1 234  -1 235 236 118 237\n",
      " 238 133 239  96 240 149 281 241  22 242 243  26 244  76 245 246 292  -1\n",
      " 116  26  -1  -1  55 247  -1 248  27 249 250  38  38  22  -1 251  -1 252\n",
      "  -1  -1 253  22 254 255 153  64  62  -1 333  22 256 257 258 259 268  -1\n",
      " 260 104  -1  34 261  -1 262  25 263 264 265  22  26  -1 266  48 267 268\n",
      "  55 269 270 271  -1  -1 182  -1 281 272  26 171  26 273 274  26 186  -1\n",
      " 275 276 277 278 279 280  -1 281  54 308  -1  -1 114 282 283 284  -1  -1\n",
      " 285  89 166 286 287  -1  -1  -1 288  -1  64  41  85 289 115 339 290  37\n",
      " 291  -1 271  -1 292 308 293 294  22 295 296 118 271 297 298 299 300 301\n",
      "  22 302 303  62 304  22  -1 305 306  -1  -1 307  -1  38 301  62 224 308\n",
      "  30  26  -1  96 309 308 310 311  55  22  22  -1 312 313 314 160 315  -1\n",
      " 316  -1 317 227 318  -1 241  55  22  22 140  47 319 320  -1 321  22  23\n",
      " 129 322 176  -1  -1  -1 323 118 324  -1  -1 240 180  26  27 325 326 327\n",
      "  62  22 132 328  55  -1 329 330  -1  64  48 331  74 332  -1 116  -1  89\n",
      "  81  -1  38 333  -1 334 335  22 336 337  -1  55 338  -1  22  59 339  96\n",
      " 308 340 211 118  62  -1 341  -1  22 333  96  -1 342  22 180  22  -1 139\n",
      " 107 343  55  39  -1  23  22 344  27  26  22  -1  -1 167 345 136  96  22\n",
      " 346  -1  62 347  22 348  22  31  26  59]\n"
     ]
    },
    {
     "data": {
      "application/vnd.plotly.v1+json": {
       "data": [
        {
         "hovertemplate": "x=%{x}<br>index=%{y}<extra></extra>",
         "legendgroup": "",
         "marker": {
          "color": "#636efa",
          "symbol": "circle"
         },
         "mode": "markers",
         "name": "",
         "orientation": "h",
         "showlegend": false,
         "x": {
          "dtype": "i1",
          "bdata": "/////////////////////////////////////////////////////////////////wD///////8A////////////////AP//////////AQH//////wH//////wH/////////////////////////////////////////////////////AP////////////8E//////////////////8BAP////////////////8B/////wD//////////////////////////////////////////////////////////////////////////////////////////////////////////////////////////////////////////////wL///////////////////8D////////////////////////////////////A/////////////////////////////////////8D//////////////////////////////8E/////////////////////////////////////////////////wP///////////////////////////////////////////////////////////////////////////8E////A/////////////////////////////////////8C////////////////////////////////////A/////////////////8C/////////////////////////////////////////////wL/BP////////////////////////////////////////////////////////////8F////////////////////////////////////////////////////////////////////////////////////////////////////////////BP////////////////////////////////////////////////////////////////////////////////////////////////////////////////////////////////////////////////////////////////////////////////////////////////////////8D/////////////////////////////////////////////////////////////////wP///////////////////////////////8C//////////8F//////////////////////8C/////////////////////////////////w=="
         },
         "xaxis": "x",
         "y": {
          "dtype": "i2",
          "bdata": "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"
         },
         "yaxis": "y",
         "type": "scatter"
        }
       ],
       "layout": {
        "template": {
         "data": {
          "histogram2dcontour": [
           {
            "type": "histogram2dcontour",
            "colorbar": {
             "outlinewidth": 0,
             "ticks": ""
            },
            "colorscale": [
             [
              0.0,
              "#0d0887"
             ],
             [
              0.1111111111111111,
              "#46039f"
             ],
             [
              0.2222222222222222,
              "#7201a8"
             ],
             [
              0.3333333333333333,
              "#9c179e"
             ],
             [
              0.4444444444444444,
              "#bd3786"
             ],
             [
              0.5555555555555556,
              "#d8576b"
             ],
             [
              0.6666666666666666,
              "#ed7953"
             ],
             [
              0.7777777777777778,
              "#fb9f3a"
             ],
             [
              0.8888888888888888,
              "#fdca26"
             ],
             [
              1.0,
              "#f0f921"
             ]
            ]
           }
          ],
          "choropleth": [
           {
            "type": "choropleth",
            "colorbar": {
             "outlinewidth": 0,
             "ticks": ""
            }
           }
          ],
          "histogram2d": [
           {
            "type": "histogram2d",
            "colorbar": {
             "outlinewidth": 0,
             "ticks": ""
            },
            "colorscale": [
             [
              0.0,
              "#0d0887"
             ],
             [
              0.1111111111111111,
              "#46039f"
             ],
             [
              0.2222222222222222,
              "#7201a8"
             ],
             [
              0.3333333333333333,
              "#9c179e"
             ],
             [
              0.4444444444444444,
              "#bd3786"
             ],
             [
              0.5555555555555556,
              "#d8576b"
             ],
             [
              0.6666666666666666,
              "#ed7953"
             ],
             [
              0.7777777777777778,
              "#fb9f3a"
             ],
             [
              0.8888888888888888,
              "#fdca26"
             ],
             [
              1.0,
              "#f0f921"
             ]
            ]
           }
          ],
          "heatmap": [
           {
            "type": "heatmap",
            "colorbar": {
             "outlinewidth": 0,
             "ticks": ""
            },
            "colorscale": [
             [
              0.0,
              "#0d0887"
             ],
             [
              0.1111111111111111,
              "#46039f"
             ],
             [
              0.2222222222222222,
              "#7201a8"
             ],
             [
              0.3333333333333333,
              "#9c179e"
             ],
             [
              0.4444444444444444,
              "#bd3786"
             ],
             [
              0.5555555555555556,
              "#d8576b"
             ],
             [
              0.6666666666666666,
              "#ed7953"
             ],
             [
              0.7777777777777778,
              "#fb9f3a"
             ],
             [
              0.8888888888888888,
              "#fdca26"
             ],
             [
              1.0,
              "#f0f921"
             ]
            ]
           }
          ],
          "contourcarpet": [
           {
            "type": "contourcarpet",
            "colorbar": {
             "outlinewidth": 0,
             "ticks": ""
            }
           }
          ],
          "contour": [
           {
            "type": "contour",
            "colorbar": {
             "outlinewidth": 0,
             "ticks": ""
            },
            "colorscale": [
             [
              0.0,
              "#0d0887"
             ],
             [
              0.1111111111111111,
              "#46039f"
             ],
             [
              0.2222222222222222,
              "#7201a8"
             ],
             [
              0.3333333333333333,
              "#9c179e"
             ],
             [
              0.4444444444444444,
              "#bd3786"
             ],
             [
              0.5555555555555556,
              "#d8576b"
             ],
             [
              0.6666666666666666,
              "#ed7953"
             ],
             [
              0.7777777777777778,
              "#fb9f3a"
             ],
             [
              0.8888888888888888,
              "#fdca26"
             ],
             [
              1.0,
              "#f0f921"
             ]
            ]
           }
          ],
          "surface": [
           {
            "type": "surface",
            "colorbar": {
             "outlinewidth": 0,
             "ticks": ""
            },
            "colorscale": [
             [
              0.0,
              "#0d0887"
             ],
             [
              0.1111111111111111,
              "#46039f"
             ],
             [
              0.2222222222222222,
              "#7201a8"
             ],
             [
              0.3333333333333333,
              "#9c179e"
             ],
             [
              0.4444444444444444,
              "#bd3786"
             ],
             [
              0.5555555555555556,
              "#d8576b"
             ],
             [
              0.6666666666666666,
              "#ed7953"
             ],
             [
              0.7777777777777778,
              "#fb9f3a"
             ],
             [
              0.8888888888888888,
              "#fdca26"
             ],
             [
              1.0,
              "#f0f921"
             ]
            ]
           }
          ],
          "mesh3d": [
           {
            "type": "mesh3d",
            "colorbar": {
             "outlinewidth": 0,
             "ticks": ""
            }
           }
          ],
          "scatter": [
           {
            "marker": {
             "line": {
              "color": "#283442"
             }
            },
            "type": "scatter"
           }
          ],
          "parcoords": [
           {
            "type": "parcoords",
            "line": {
             "colorbar": {
              "outlinewidth": 0,
              "ticks": ""
             }
            }
           }
          ],
          "scatterpolargl": [
           {
            "type": "scatterpolargl",
            "marker": {
             "colorbar": {
              "outlinewidth": 0,
              "ticks": ""
             }
            }
           }
          ],
          "bar": [
           {
            "error_x": {
             "color": "#f2f5fa"
            },
            "error_y": {
             "color": "#f2f5fa"
            },
            "marker": {
             "line": {
              "color": "rgb(17,17,17)",
              "width": 0.5
             },
             "pattern": {
              "fillmode": "overlay",
              "size": 10,
              "solidity": 0.2
             }
            },
            "type": "bar"
           }
          ],
          "scattergeo": [
           {
            "type": "scattergeo",
            "marker": {
             "colorbar": {
              "outlinewidth": 0,
              "ticks": ""
             }
            }
           }
          ],
          "scatterpolar": [
           {
            "type": "scatterpolar",
            "marker": {
             "colorbar": {
              "outlinewidth": 0,
              "ticks": ""
             }
            }
           }
          ],
          "histogram": [
           {
            "marker": {
             "pattern": {
              "fillmode": "overlay",
              "size": 10,
              "solidity": 0.2
             }
            },
            "type": "histogram"
           }
          ],
          "scattergl": [
           {
            "marker": {
             "line": {
              "color": "#283442"
             }
            },
            "type": "scattergl"
           }
          ],
          "scatter3d": [
           {
            "type": "scatter3d",
            "line": {
             "colorbar": {
              "outlinewidth": 0,
              "ticks": ""
             }
            },
            "marker": {
             "colorbar": {
              "outlinewidth": 0,
              "ticks": ""
             }
            }
           }
          ],
          "scattermap": [
           {
            "type": "scattermap",
            "marker": {
             "colorbar": {
              "outlinewidth": 0,
              "ticks": ""
             }
            }
           }
          ],
          "scattermapbox": [
           {
            "type": "scattermapbox",
            "marker": {
             "colorbar": {
              "outlinewidth": 0,
              "ticks": ""
             }
            }
           }
          ],
          "scatterternary": [
           {
            "type": "scatterternary",
            "marker": {
             "colorbar": {
              "outlinewidth": 0,
              "ticks": ""
             }
            }
           }
          ],
          "scattercarpet": [
           {
            "type": "scattercarpet",
            "marker": {
             "colorbar": {
              "outlinewidth": 0,
              "ticks": ""
             }
            }
           }
          ],
          "carpet": [
           {
            "aaxis": {
             "endlinecolor": "#A2B1C6",
             "gridcolor": "#506784",
             "linecolor": "#506784",
             "minorgridcolor": "#506784",
             "startlinecolor": "#A2B1C6"
            },
            "baxis": {
             "endlinecolor": "#A2B1C6",
             "gridcolor": "#506784",
             "linecolor": "#506784",
             "minorgridcolor": "#506784",
             "startlinecolor": "#A2B1C6"
            },
            "type": "carpet"
           }
          ],
          "table": [
           {
            "cells": {
             "fill": {
              "color": "#506784"
             },
             "line": {
              "color": "rgb(17,17,17)"
             }
            },
            "header": {
             "fill": {
              "color": "#2a3f5f"
             },
             "line": {
              "color": "rgb(17,17,17)"
             }
            },
            "type": "table"
           }
          ],
          "barpolar": [
           {
            "marker": {
             "line": {
              "color": "rgb(17,17,17)",
              "width": 0.5
             },
             "pattern": {
              "fillmode": "overlay",
              "size": 10,
              "solidity": 0.2
             }
            },
            "type": "barpolar"
           }
          ],
          "pie": [
           {
            "automargin": true,
            "type": "pie"
           }
          ]
         },
         "layout": {
          "autotypenumbers": "strict",
          "colorway": [
           "#636efa",
           "#EF553B",
           "#00cc96",
           "#ab63fa",
           "#FFA15A",
           "#19d3f3",
           "#FF6692",
           "#B6E880",
           "#FF97FF",
           "#FECB52"
          ],
          "font": {
           "color": "#f2f5fa"
          },
          "hovermode": "closest",
          "hoverlabel": {
           "align": "left"
          },
          "paper_bgcolor": "rgb(17,17,17)",
          "plot_bgcolor": "rgb(17,17,17)",
          "polar": {
           "bgcolor": "rgb(17,17,17)",
           "angularaxis": {
            "gridcolor": "#506784",
            "linecolor": "#506784",
            "ticks": ""
           },
           "radialaxis": {
            "gridcolor": "#506784",
            "linecolor": "#506784",
            "ticks": ""
           }
          },
          "ternary": {
           "bgcolor": "rgb(17,17,17)",
           "aaxis": {
            "gridcolor": "#506784",
            "linecolor": "#506784",
            "ticks": ""
           },
           "baxis": {
            "gridcolor": "#506784",
            "linecolor": "#506784",
            "ticks": ""
           },
           "caxis": {
            "gridcolor": "#506784",
            "linecolor": "#506784",
            "ticks": ""
           }
          },
          "coloraxis": {
           "colorbar": {
            "outlinewidth": 0,
            "ticks": ""
           }
          },
          "colorscale": {
           "sequential": [
            [
             0.0,
             "#0d0887"
            ],
            [
             0.1111111111111111,
             "#46039f"
            ],
            [
             0.2222222222222222,
             "#7201a8"
            ],
            [
             0.3333333333333333,
             "#9c179e"
            ],
            [
             0.4444444444444444,
             "#bd3786"
            ],
            [
             0.5555555555555556,
             "#d8576b"
            ],
            [
             0.6666666666666666,
             "#ed7953"
            ],
            [
             0.7777777777777778,
             "#fb9f3a"
            ],
            [
             0.8888888888888888,
             "#fdca26"
            ],
            [
             1.0,
             "#f0f921"
            ]
           ],
           "sequentialminus": [
            [
             0.0,
             "#0d0887"
            ],
            [
             0.1111111111111111,
             "#46039f"
            ],
            [
             0.2222222222222222,
             "#7201a8"
            ],
            [
             0.3333333333333333,
             "#9c179e"
            ],
            [
             0.4444444444444444,
             "#bd3786"
            ],
            [
             0.5555555555555556,
             "#d8576b"
            ],
            [
             0.6666666666666666,
             "#ed7953"
            ],
            [
             0.7777777777777778,
             "#fb9f3a"
            ],
            [
             0.8888888888888888,
             "#fdca26"
            ],
            [
             1.0,
             "#f0f921"
            ]
           ],
           "diverging": [
            [
             0,
             "#8e0152"
            ],
            [
             0.1,
             "#c51b7d"
            ],
            [
             0.2,
             "#de77ae"
            ],
            [
             0.3,
             "#f1b6da"
            ],
            [
             0.4,
             "#fde0ef"
            ],
            [
             0.5,
             "#f7f7f7"
            ],
            [
             0.6,
             "#e6f5d0"
            ],
            [
             0.7,
             "#b8e186"
            ],
            [
             0.8,
             "#7fbc41"
            ],
            [
             0.9,
             "#4d9221"
            ],
            [
             1,
             "#276419"
            ]
           ]
          },
          "xaxis": {
           "gridcolor": "#283442",
           "linecolor": "#506784",
           "ticks": "",
           "title": {
            "standoff": 15
           },
           "zerolinecolor": "#283442",
           "automargin": true,
           "zerolinewidth": 2
          },
          "yaxis": {
           "gridcolor": "#283442",
           "linecolor": "#506784",
           "ticks": "",
           "title": {
            "standoff": 15
           },
           "zerolinecolor": "#283442",
           "automargin": true,
           "zerolinewidth": 2
          },
          "scene": {
           "xaxis": {
            "backgroundcolor": "rgb(17,17,17)",
            "gridcolor": "#506784",
            "linecolor": "#506784",
            "showbackground": true,
            "ticks": "",
            "zerolinecolor": "#C8D4E3",
            "gridwidth": 2
           },
           "yaxis": {
            "backgroundcolor": "rgb(17,17,17)",
            "gridcolor": "#506784",
            "linecolor": "#506784",
            "showbackground": true,
            "ticks": "",
            "zerolinecolor": "#C8D4E3",
            "gridwidth": 2
           },
           "zaxis": {
            "backgroundcolor": "rgb(17,17,17)",
            "gridcolor": "#506784",
            "linecolor": "#506784",
            "showbackground": true,
            "ticks": "",
            "zerolinecolor": "#C8D4E3",
            "gridwidth": 2
           }
          },
          "shapedefaults": {
           "line": {
            "color": "#f2f5fa"
           }
          },
          "annotationdefaults": {
           "arrowcolor": "#f2f5fa",
           "arrowhead": 0,
           "arrowwidth": 1
          },
          "geo": {
           "bgcolor": "rgb(17,17,17)",
           "landcolor": "rgb(17,17,17)",
           "subunitcolor": "#506784",
           "showland": true,
           "showlakes": true,
           "lakecolor": "rgb(17,17,17)"
          },
          "title": {
           "x": 0.05
          },
          "updatemenudefaults": {
           "bgcolor": "#506784",
           "borderwidth": 0
          },
          "sliderdefaults": {
           "bgcolor": "#C8D4E3",
           "borderwidth": 1,
           "bordercolor": "rgb(17,17,17)",
           "tickwidth": 0
          },
          "mapbox": {
           "style": "dark"
          }
         }
        },
        "xaxis": {
         "anchor": "y",
         "domain": [
          0.0,
          1.0
         ],
         "title": {
          "text": "x"
         }
        },
        "yaxis": {
         "anchor": "x",
         "domain": [
          0.0,
          1.0
         ],
         "title": {
          "text": "index"
         }
        },
        "legend": {
         "tracegroupgap": 0
        },
        "margin": {
         "t": 60
        }
       },
       "config": {
        "plotlyServerURL": "https://plot.ly"
       }
      }
     },
     "metadata": {},
     "output_type": "display_data"
    },
    {
     "data": {
      "application/vnd.plotly.v1+json": {
       "data": [
        {
         "hovertemplate": "x=%{x}<br>index=%{y}<extra></extra>",
         "legendgroup": "",
         "marker": {
          "color": "#636efa",
          "symbol": "circle"
         },
         "mode": "markers",
         "name": "",
         "orientation": "h",
         "showlegend": false,
         "x": {
          "dtype": "i1",
          "bdata": "/////////////////////////////////////////////////////////////////wD///////8A////////////////AP//////////AQH//////wH//////wH/////////////////////////////////////////////////////AP////////////8E//////////////////8BAP////////////////8B/////wD//////////////////////////////////////////////////////////////////////////////////////////////////////////////////////////////////////////////wL///////////////////8D////////////////////////////////////A/////////////////////////////////////8D//////////////////////////////8E/////////////////////////////////////////////////wP///////////////////////////////////////////////////////////////////////////8E////A/////////////////////////////////////8C////////////////////////////////////A/////////////////8C/////////////////////////////////////////////wL/BP////////////////////////////////////////////////////////////8F////////////////////////////////////////////////////////////////////////////////////////////////////////////BP////////////////////////////////////////////////////////////////////////////////////////////////////////////////////////////////////////////////////////////////////////////////////////////////////////8D/////////////////////////////////////////////////////////////////wP///////////////////////////////8C//////////8F//////////////////////8C/////////////////////////////////w=="
         },
         "xaxis": "x",
         "y": {
          "dtype": "i2",
          "bdata": "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"
         },
         "yaxis": "y",
         "type": "scatter"
        }
       ],
       "layout": {
        "template": {
         "data": {
          "histogram2dcontour": [
           {
            "type": "histogram2dcontour",
            "colorbar": {
             "outlinewidth": 0,
             "ticks": ""
            },
            "colorscale": [
             [
              0.0,
              "#0d0887"
             ],
             [
              0.1111111111111111,
              "#46039f"
             ],
             [
              0.2222222222222222,
              "#7201a8"
             ],
             [
              0.3333333333333333,
              "#9c179e"
             ],
             [
              0.4444444444444444,
              "#bd3786"
             ],
             [
              0.5555555555555556,
              "#d8576b"
             ],
             [
              0.6666666666666666,
              "#ed7953"
             ],
             [
              0.7777777777777778,
              "#fb9f3a"
             ],
             [
              0.8888888888888888,
              "#fdca26"
             ],
             [
              1.0,
              "#f0f921"
             ]
            ]
           }
          ],
          "choropleth": [
           {
            "type": "choropleth",
            "colorbar": {
             "outlinewidth": 0,
             "ticks": ""
            }
           }
          ],
          "histogram2d": [
           {
            "type": "histogram2d",
            "colorbar": {
             "outlinewidth": 0,
             "ticks": ""
            },
            "colorscale": [
             [
              0.0,
              "#0d0887"
             ],
             [
              0.1111111111111111,
              "#46039f"
             ],
             [
              0.2222222222222222,
              "#7201a8"
             ],
             [
              0.3333333333333333,
              "#9c179e"
             ],
             [
              0.4444444444444444,
              "#bd3786"
             ],
             [
              0.5555555555555556,
              "#d8576b"
             ],
             [
              0.6666666666666666,
              "#ed7953"
             ],
             [
              0.7777777777777778,
              "#fb9f3a"
             ],
             [
              0.8888888888888888,
              "#fdca26"
             ],
             [
              1.0,
              "#f0f921"
             ]
            ]
           }
          ],
          "heatmap": [
           {
            "type": "heatmap",
            "colorbar": {
             "outlinewidth": 0,
             "ticks": ""
            },
            "colorscale": [
             [
              0.0,
              "#0d0887"
             ],
             [
              0.1111111111111111,
              "#46039f"
             ],
             [
              0.2222222222222222,
              "#7201a8"
             ],
             [
              0.3333333333333333,
              "#9c179e"
             ],
             [
              0.4444444444444444,
              "#bd3786"
             ],
             [
              0.5555555555555556,
              "#d8576b"
             ],
             [
              0.6666666666666666,
              "#ed7953"
             ],
             [
              0.7777777777777778,
              "#fb9f3a"
             ],
             [
              0.8888888888888888,
              "#fdca26"
             ],
             [
              1.0,
              "#f0f921"
             ]
            ]
           }
          ],
          "contourcarpet": [
           {
            "type": "contourcarpet",
            "colorbar": {
             "outlinewidth": 0,
             "ticks": ""
            }
           }
          ],
          "contour": [
           {
            "type": "contour",
            "colorbar": {
             "outlinewidth": 0,
             "ticks": ""
            },
            "colorscale": [
             [
              0.0,
              "#0d0887"
             ],
             [
              0.1111111111111111,
              "#46039f"
             ],
             [
              0.2222222222222222,
              "#7201a8"
             ],
             [
              0.3333333333333333,
              "#9c179e"
             ],
             [
              0.4444444444444444,
              "#bd3786"
             ],
             [
              0.5555555555555556,
              "#d8576b"
             ],
             [
              0.6666666666666666,
              "#ed7953"
             ],
             [
              0.7777777777777778,
              "#fb9f3a"
             ],
             [
              0.8888888888888888,
              "#fdca26"
             ],
             [
              1.0,
              "#f0f921"
             ]
            ]
           }
          ],
          "surface": [
           {
            "type": "surface",
            "colorbar": {
             "outlinewidth": 0,
             "ticks": ""
            },
            "colorscale": [
             [
              0.0,
              "#0d0887"
             ],
             [
              0.1111111111111111,
              "#46039f"
             ],
             [
              0.2222222222222222,
              "#7201a8"
             ],
             [
              0.3333333333333333,
              "#9c179e"
             ],
             [
              0.4444444444444444,
              "#bd3786"
             ],
             [
              0.5555555555555556,
              "#d8576b"
             ],
             [
              0.6666666666666666,
              "#ed7953"
             ],
             [
              0.7777777777777778,
              "#fb9f3a"
             ],
             [
              0.8888888888888888,
              "#fdca26"
             ],
             [
              1.0,
              "#f0f921"
             ]
            ]
           }
          ],
          "mesh3d": [
           {
            "type": "mesh3d",
            "colorbar": {
             "outlinewidth": 0,
             "ticks": ""
            }
           }
          ],
          "scatter": [
           {
            "marker": {
             "line": {
              "color": "#283442"
             }
            },
            "type": "scatter"
           }
          ],
          "parcoords": [
           {
            "type": "parcoords",
            "line": {
             "colorbar": {
              "outlinewidth": 0,
              "ticks": ""
             }
            }
           }
          ],
          "scatterpolargl": [
           {
            "type": "scatterpolargl",
            "marker": {
             "colorbar": {
              "outlinewidth": 0,
              "ticks": ""
             }
            }
           }
          ],
          "bar": [
           {
            "error_x": {
             "color": "#f2f5fa"
            },
            "error_y": {
             "color": "#f2f5fa"
            },
            "marker": {
             "line": {
              "color": "rgb(17,17,17)",
              "width": 0.5
             },
             "pattern": {
              "fillmode": "overlay",
              "size": 10,
              "solidity": 0.2
             }
            },
            "type": "bar"
           }
          ],
          "scattergeo": [
           {
            "type": "scattergeo",
            "marker": {
             "colorbar": {
              "outlinewidth": 0,
              "ticks": ""
             }
            }
           }
          ],
          "scatterpolar": [
           {
            "type": "scatterpolar",
            "marker": {
             "colorbar": {
              "outlinewidth": 0,
              "ticks": ""
             }
            }
           }
          ],
          "histogram": [
           {
            "marker": {
             "pattern": {
              "fillmode": "overlay",
              "size": 10,
              "solidity": 0.2
             }
            },
            "type": "histogram"
           }
          ],
          "scattergl": [
           {
            "marker": {
             "line": {
              "color": "#283442"
             }
            },
            "type": "scattergl"
           }
          ],
          "scatter3d": [
           {
            "type": "scatter3d",
            "line": {
             "colorbar": {
              "outlinewidth": 0,
              "ticks": ""
             }
            },
            "marker": {
             "colorbar": {
              "outlinewidth": 0,
              "ticks": ""
             }
            }
           }
          ],
          "scattermap": [
           {
            "type": "scattermap",
            "marker": {
             "colorbar": {
              "outlinewidth": 0,
              "ticks": ""
             }
            }
           }
          ],
          "scattermapbox": [
           {
            "type": "scattermapbox",
            "marker": {
             "colorbar": {
              "outlinewidth": 0,
              "ticks": ""
             }
            }
           }
          ],
          "scatterternary": [
           {
            "type": "scatterternary",
            "marker": {
             "colorbar": {
              "outlinewidth": 0,
              "ticks": ""
             }
            }
           }
          ],
          "scattercarpet": [
           {
            "type": "scattercarpet",
            "marker": {
             "colorbar": {
              "outlinewidth": 0,
              "ticks": ""
             }
            }
           }
          ],
          "carpet": [
           {
            "aaxis": {
             "endlinecolor": "#A2B1C6",
             "gridcolor": "#506784",
             "linecolor": "#506784",
             "minorgridcolor": "#506784",
             "startlinecolor": "#A2B1C6"
            },
            "baxis": {
             "endlinecolor": "#A2B1C6",
             "gridcolor": "#506784",
             "linecolor": "#506784",
             "minorgridcolor": "#506784",
             "startlinecolor": "#A2B1C6"
            },
            "type": "carpet"
           }
          ],
          "table": [
           {
            "cells": {
             "fill": {
              "color": "#506784"
             },
             "line": {
              "color": "rgb(17,17,17)"
             }
            },
            "header": {
             "fill": {
              "color": "#2a3f5f"
             },
             "line": {
              "color": "rgb(17,17,17)"
             }
            },
            "type": "table"
           }
          ],
          "barpolar": [
           {
            "marker": {
             "line": {
              "color": "rgb(17,17,17)",
              "width": 0.5
             },
             "pattern": {
              "fillmode": "overlay",
              "size": 10,
              "solidity": 0.2
             }
            },
            "type": "barpolar"
           }
          ],
          "pie": [
           {
            "automargin": true,
            "type": "pie"
           }
          ]
         },
         "layout": {
          "autotypenumbers": "strict",
          "colorway": [
           "#636efa",
           "#EF553B",
           "#00cc96",
           "#ab63fa",
           "#FFA15A",
           "#19d3f3",
           "#FF6692",
           "#B6E880",
           "#FF97FF",
           "#FECB52"
          ],
          "font": {
           "color": "#f2f5fa"
          },
          "hovermode": "closest",
          "hoverlabel": {
           "align": "left"
          },
          "paper_bgcolor": "rgb(17,17,17)",
          "plot_bgcolor": "rgb(17,17,17)",
          "polar": {
           "bgcolor": "rgb(17,17,17)",
           "angularaxis": {
            "gridcolor": "#506784",
            "linecolor": "#506784",
            "ticks": ""
           },
           "radialaxis": {
            "gridcolor": "#506784",
            "linecolor": "#506784",
            "ticks": ""
           }
          },
          "ternary": {
           "bgcolor": "rgb(17,17,17)",
           "aaxis": {
            "gridcolor": "#506784",
            "linecolor": "#506784",
            "ticks": ""
           },
           "baxis": {
            "gridcolor": "#506784",
            "linecolor": "#506784",
            "ticks": ""
           },
           "caxis": {
            "gridcolor": "#506784",
            "linecolor": "#506784",
            "ticks": ""
           }
          },
          "coloraxis": {
           "colorbar": {
            "outlinewidth": 0,
            "ticks": ""
           }
          },
          "colorscale": {
           "sequential": [
            [
             0.0,
             "#0d0887"
            ],
            [
             0.1111111111111111,
             "#46039f"
            ],
            [
             0.2222222222222222,
             "#7201a8"
            ],
            [
             0.3333333333333333,
             "#9c179e"
            ],
            [
             0.4444444444444444,
             "#bd3786"
            ],
            [
             0.5555555555555556,
             "#d8576b"
            ],
            [
             0.6666666666666666,
             "#ed7953"
            ],
            [
             0.7777777777777778,
             "#fb9f3a"
            ],
            [
             0.8888888888888888,
             "#fdca26"
            ],
            [
             1.0,
             "#f0f921"
            ]
           ],
           "sequentialminus": [
            [
             0.0,
             "#0d0887"
            ],
            [
             0.1111111111111111,
             "#46039f"
            ],
            [
             0.2222222222222222,
             "#7201a8"
            ],
            [
             0.3333333333333333,
             "#9c179e"
            ],
            [
             0.4444444444444444,
             "#bd3786"
            ],
            [
             0.5555555555555556,
             "#d8576b"
            ],
            [
             0.6666666666666666,
             "#ed7953"
            ],
            [
             0.7777777777777778,
             "#fb9f3a"
            ],
            [
             0.8888888888888888,
             "#fdca26"
            ],
            [
             1.0,
             "#f0f921"
            ]
           ],
           "diverging": [
            [
             0,
             "#8e0152"
            ],
            [
             0.1,
             "#c51b7d"
            ],
            [
             0.2,
             "#de77ae"
            ],
            [
             0.3,
             "#f1b6da"
            ],
            [
             0.4,
             "#fde0ef"
            ],
            [
             0.5,
             "#f7f7f7"
            ],
            [
             0.6,
             "#e6f5d0"
            ],
            [
             0.7,
             "#b8e186"
            ],
            [
             0.8,
             "#7fbc41"
            ],
            [
             0.9,
             "#4d9221"
            ],
            [
             1,
             "#276419"
            ]
           ]
          },
          "xaxis": {
           "gridcolor": "#283442",
           "linecolor": "#506784",
           "ticks": "",
           "title": {
            "standoff": 15
           },
           "zerolinecolor": "#283442",
           "automargin": true,
           "zerolinewidth": 2
          },
          "yaxis": {
           "gridcolor": "#283442",
           "linecolor": "#506784",
           "ticks": "",
           "title": {
            "standoff": 15
           },
           "zerolinecolor": "#283442",
           "automargin": true,
           "zerolinewidth": 2
          },
          "scene": {
           "xaxis": {
            "backgroundcolor": "rgb(17,17,17)",
            "gridcolor": "#506784",
            "linecolor": "#506784",
            "showbackground": true,
            "ticks": "",
            "zerolinecolor": "#C8D4E3",
            "gridwidth": 2
           },
           "yaxis": {
            "backgroundcolor": "rgb(17,17,17)",
            "gridcolor": "#506784",
            "linecolor": "#506784",
            "showbackground": true,
            "ticks": "",
            "zerolinecolor": "#C8D4E3",
            "gridwidth": 2
           },
           "zaxis": {
            "backgroundcolor": "rgb(17,17,17)",
            "gridcolor": "#506784",
            "linecolor": "#506784",
            "showbackground": true,
            "ticks": "",
            "zerolinecolor": "#C8D4E3",
            "gridwidth": 2
           }
          },
          "shapedefaults": {
           "line": {
            "color": "#f2f5fa"
           }
          },
          "annotationdefaults": {
           "arrowcolor": "#f2f5fa",
           "arrowhead": 0,
           "arrowwidth": 1
          },
          "geo": {
           "bgcolor": "rgb(17,17,17)",
           "landcolor": "rgb(17,17,17)",
           "subunitcolor": "#506784",
           "showland": true,
           "showlakes": true,
           "lakecolor": "rgb(17,17,17)"
          },
          "title": {
           "x": 0.05
          },
          "updatemenudefaults": {
           "bgcolor": "#506784",
           "borderwidth": 0
          },
          "sliderdefaults": {
           "bgcolor": "#C8D4E3",
           "borderwidth": 1,
           "bordercolor": "rgb(17,17,17)",
           "tickwidth": 0
          },
          "mapbox": {
           "style": "dark"
          }
         }
        },
        "xaxis": {
         "anchor": "y",
         "domain": [
          0.0,
          1.0
         ],
         "title": {
          "text": "x"
         }
        },
        "yaxis": {
         "anchor": "x",
         "domain": [
          0.0,
          1.0
         ],
         "title": {
          "text": "index"
         }
        },
        "legend": {
         "tracegroupgap": 0
        },
        "margin": {
         "t": 60
        }
       },
       "config": {
        "plotlyServerURL": "https://plot.ly"
       }
      }
     },
     "metadata": {},
     "output_type": "display_data"
    },
    {
     "data": {
      "application/vnd.plotly.v1+json": {
       "data": [
        {
         "hovertemplate": "x=%{x}<br>index=%{y}<extra></extra>",
         "legendgroup": "",
         "marker": {
          "color": "#636efa",
          "symbol": "circle"
         },
         "mode": "markers",
         "name": "",
         "orientation": "h",
         "showlegend": false,
         "x": {
          "dtype": "i2",
          "bdata": "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"
         },
         "xaxis": "x",
         "y": {
          "dtype": "i2",
          "bdata": "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"
         },
         "yaxis": "y",
         "type": "scatter"
        }
       ],
       "layout": {
        "template": {
         "data": {
          "histogram2dcontour": [
           {
            "type": "histogram2dcontour",
            "colorbar": {
             "outlinewidth": 0,
             "ticks": ""
            },
            "colorscale": [
             [
              0.0,
              "#0d0887"
             ],
             [
              0.1111111111111111,
              "#46039f"
             ],
             [
              0.2222222222222222,
              "#7201a8"
             ],
             [
              0.3333333333333333,
              "#9c179e"
             ],
             [
              0.4444444444444444,
              "#bd3786"
             ],
             [
              0.5555555555555556,
              "#d8576b"
             ],
             [
              0.6666666666666666,
              "#ed7953"
             ],
             [
              0.7777777777777778,
              "#fb9f3a"
             ],
             [
              0.8888888888888888,
              "#fdca26"
             ],
             [
              1.0,
              "#f0f921"
             ]
            ]
           }
          ],
          "choropleth": [
           {
            "type": "choropleth",
            "colorbar": {
             "outlinewidth": 0,
             "ticks": ""
            }
           }
          ],
          "histogram2d": [
           {
            "type": "histogram2d",
            "colorbar": {
             "outlinewidth": 0,
             "ticks": ""
            },
            "colorscale": [
             [
              0.0,
              "#0d0887"
             ],
             [
              0.1111111111111111,
              "#46039f"
             ],
             [
              0.2222222222222222,
              "#7201a8"
             ],
             [
              0.3333333333333333,
              "#9c179e"
             ],
             [
              0.4444444444444444,
              "#bd3786"
             ],
             [
              0.5555555555555556,
              "#d8576b"
             ],
             [
              0.6666666666666666,
              "#ed7953"
             ],
             [
              0.7777777777777778,
              "#fb9f3a"
             ],
             [
              0.8888888888888888,
              "#fdca26"
             ],
             [
              1.0,
              "#f0f921"
             ]
            ]
           }
          ],
          "heatmap": [
           {
            "type": "heatmap",
            "colorbar": {
             "outlinewidth": 0,
             "ticks": ""
            },
            "colorscale": [
             [
              0.0,
              "#0d0887"
             ],
             [
              0.1111111111111111,
              "#46039f"
             ],
             [
              0.2222222222222222,
              "#7201a8"
             ],
             [
              0.3333333333333333,
              "#9c179e"
             ],
             [
              0.4444444444444444,
              "#bd3786"
             ],
             [
              0.5555555555555556,
              "#d8576b"
             ],
             [
              0.6666666666666666,
              "#ed7953"
             ],
             [
              0.7777777777777778,
              "#fb9f3a"
             ],
             [
              0.8888888888888888,
              "#fdca26"
             ],
             [
              1.0,
              "#f0f921"
             ]
            ]
           }
          ],
          "contourcarpet": [
           {
            "type": "contourcarpet",
            "colorbar": {
             "outlinewidth": 0,
             "ticks": ""
            }
           }
          ],
          "contour": [
           {
            "type": "contour",
            "colorbar": {
             "outlinewidth": 0,
             "ticks": ""
            },
            "colorscale": [
             [
              0.0,
              "#0d0887"
             ],
             [
              0.1111111111111111,
              "#46039f"
             ],
             [
              0.2222222222222222,
              "#7201a8"
             ],
             [
              0.3333333333333333,
              "#9c179e"
             ],
             [
              0.4444444444444444,
              "#bd3786"
             ],
             [
              0.5555555555555556,
              "#d8576b"
             ],
             [
              0.6666666666666666,
              "#ed7953"
             ],
             [
              0.7777777777777778,
              "#fb9f3a"
             ],
             [
              0.8888888888888888,
              "#fdca26"
             ],
             [
              1.0,
              "#f0f921"
             ]
            ]
           }
          ],
          "surface": [
           {
            "type": "surface",
            "colorbar": {
             "outlinewidth": 0,
             "ticks": ""
            },
            "colorscale": [
             [
              0.0,
              "#0d0887"
             ],
             [
              0.1111111111111111,
              "#46039f"
             ],
             [
              0.2222222222222222,
              "#7201a8"
             ],
             [
              0.3333333333333333,
              "#9c179e"
             ],
             [
              0.4444444444444444,
              "#bd3786"
             ],
             [
              0.5555555555555556,
              "#d8576b"
             ],
             [
              0.6666666666666666,
              "#ed7953"
             ],
             [
              0.7777777777777778,
              "#fb9f3a"
             ],
             [
              0.8888888888888888,
              "#fdca26"
             ],
             [
              1.0,
              "#f0f921"
             ]
            ]
           }
          ],
          "mesh3d": [
           {
            "type": "mesh3d",
            "colorbar": {
             "outlinewidth": 0,
             "ticks": ""
            }
           }
          ],
          "scatter": [
           {
            "marker": {
             "line": {
              "color": "#283442"
             }
            },
            "type": "scatter"
           }
          ],
          "parcoords": [
           {
            "type": "parcoords",
            "line": {
             "colorbar": {
              "outlinewidth": 0,
              "ticks": ""
             }
            }
           }
          ],
          "scatterpolargl": [
           {
            "type": "scatterpolargl",
            "marker": {
             "colorbar": {
              "outlinewidth": 0,
              "ticks": ""
             }
            }
           }
          ],
          "bar": [
           {
            "error_x": {
             "color": "#f2f5fa"
            },
            "error_y": {
             "color": "#f2f5fa"
            },
            "marker": {
             "line": {
              "color": "rgb(17,17,17)",
              "width": 0.5
             },
             "pattern": {
              "fillmode": "overlay",
              "size": 10,
              "solidity": 0.2
             }
            },
            "type": "bar"
           }
          ],
          "scattergeo": [
           {
            "type": "scattergeo",
            "marker": {
             "colorbar": {
              "outlinewidth": 0,
              "ticks": ""
             }
            }
           }
          ],
          "scatterpolar": [
           {
            "type": "scatterpolar",
            "marker": {
             "colorbar": {
              "outlinewidth": 0,
              "ticks": ""
             }
            }
           }
          ],
          "histogram": [
           {
            "marker": {
             "pattern": {
              "fillmode": "overlay",
              "size": 10,
              "solidity": 0.2
             }
            },
            "type": "histogram"
           }
          ],
          "scattergl": [
           {
            "marker": {
             "line": {
              "color": "#283442"
             }
            },
            "type": "scattergl"
           }
          ],
          "scatter3d": [
           {
            "type": "scatter3d",
            "line": {
             "colorbar": {
              "outlinewidth": 0,
              "ticks": ""
             }
            },
            "marker": {
             "colorbar": {
              "outlinewidth": 0,
              "ticks": ""
             }
            }
           }
          ],
          "scattermap": [
           {
            "type": "scattermap",
            "marker": {
             "colorbar": {
              "outlinewidth": 0,
              "ticks": ""
             }
            }
           }
          ],
          "scattermapbox": [
           {
            "type": "scattermapbox",
            "marker": {
             "colorbar": {
              "outlinewidth": 0,
              "ticks": ""
             }
            }
           }
          ],
          "scatterternary": [
           {
            "type": "scatterternary",
            "marker": {
             "colorbar": {
              "outlinewidth": 0,
              "ticks": ""
             }
            }
           }
          ],
          "scattercarpet": [
           {
            "type": "scattercarpet",
            "marker": {
             "colorbar": {
              "outlinewidth": 0,
              "ticks": ""
             }
            }
           }
          ],
          "carpet": [
           {
            "aaxis": {
             "endlinecolor": "#A2B1C6",
             "gridcolor": "#506784",
             "linecolor": "#506784",
             "minorgridcolor": "#506784",
             "startlinecolor": "#A2B1C6"
            },
            "baxis": {
             "endlinecolor": "#A2B1C6",
             "gridcolor": "#506784",
             "linecolor": "#506784",
             "minorgridcolor": "#506784",
             "startlinecolor": "#A2B1C6"
            },
            "type": "carpet"
           }
          ],
          "table": [
           {
            "cells": {
             "fill": {
              "color": "#506784"
             },
             "line": {
              "color": "rgb(17,17,17)"
             }
            },
            "header": {
             "fill": {
              "color": "#2a3f5f"
             },
             "line": {
              "color": "rgb(17,17,17)"
             }
            },
            "type": "table"
           }
          ],
          "barpolar": [
           {
            "marker": {
             "line": {
              "color": "rgb(17,17,17)",
              "width": 0.5
             },
             "pattern": {
              "fillmode": "overlay",
              "size": 10,
              "solidity": 0.2
             }
            },
            "type": "barpolar"
           }
          ],
          "pie": [
           {
            "automargin": true,
            "type": "pie"
           }
          ]
         },
         "layout": {
          "autotypenumbers": "strict",
          "colorway": [
           "#636efa",
           "#EF553B",
           "#00cc96",
           "#ab63fa",
           "#FFA15A",
           "#19d3f3",
           "#FF6692",
           "#B6E880",
           "#FF97FF",
           "#FECB52"
          ],
          "font": {
           "color": "#f2f5fa"
          },
          "hovermode": "closest",
          "hoverlabel": {
           "align": "left"
          },
          "paper_bgcolor": "rgb(17,17,17)",
          "plot_bgcolor": "rgb(17,17,17)",
          "polar": {
           "bgcolor": "rgb(17,17,17)",
           "angularaxis": {
            "gridcolor": "#506784",
            "linecolor": "#506784",
            "ticks": ""
           },
           "radialaxis": {
            "gridcolor": "#506784",
            "linecolor": "#506784",
            "ticks": ""
           }
          },
          "ternary": {
           "bgcolor": "rgb(17,17,17)",
           "aaxis": {
            "gridcolor": "#506784",
            "linecolor": "#506784",
            "ticks": ""
           },
           "baxis": {
            "gridcolor": "#506784",
            "linecolor": "#506784",
            "ticks": ""
           },
           "caxis": {
            "gridcolor": "#506784",
            "linecolor": "#506784",
            "ticks": ""
           }
          },
          "coloraxis": {
           "colorbar": {
            "outlinewidth": 0,
            "ticks": ""
           }
          },
          "colorscale": {
           "sequential": [
            [
             0.0,
             "#0d0887"
            ],
            [
             0.1111111111111111,
             "#46039f"
            ],
            [
             0.2222222222222222,
             "#7201a8"
            ],
            [
             0.3333333333333333,
             "#9c179e"
            ],
            [
             0.4444444444444444,
             "#bd3786"
            ],
            [
             0.5555555555555556,
             "#d8576b"
            ],
            [
             0.6666666666666666,
             "#ed7953"
            ],
            [
             0.7777777777777778,
             "#fb9f3a"
            ],
            [
             0.8888888888888888,
             "#fdca26"
            ],
            [
             1.0,
             "#f0f921"
            ]
           ],
           "sequentialminus": [
            [
             0.0,
             "#0d0887"
            ],
            [
             0.1111111111111111,
             "#46039f"
            ],
            [
             0.2222222222222222,
             "#7201a8"
            ],
            [
             0.3333333333333333,
             "#9c179e"
            ],
            [
             0.4444444444444444,
             "#bd3786"
            ],
            [
             0.5555555555555556,
             "#d8576b"
            ],
            [
             0.6666666666666666,
             "#ed7953"
            ],
            [
             0.7777777777777778,
             "#fb9f3a"
            ],
            [
             0.8888888888888888,
             "#fdca26"
            ],
            [
             1.0,
             "#f0f921"
            ]
           ],
           "diverging": [
            [
             0,
             "#8e0152"
            ],
            [
             0.1,
             "#c51b7d"
            ],
            [
             0.2,
             "#de77ae"
            ],
            [
             0.3,
             "#f1b6da"
            ],
            [
             0.4,
             "#fde0ef"
            ],
            [
             0.5,
             "#f7f7f7"
            ],
            [
             0.6,
             "#e6f5d0"
            ],
            [
             0.7,
             "#b8e186"
            ],
            [
             0.8,
             "#7fbc41"
            ],
            [
             0.9,
             "#4d9221"
            ],
            [
             1,
             "#276419"
            ]
           ]
          },
          "xaxis": {
           "gridcolor": "#283442",
           "linecolor": "#506784",
           "ticks": "",
           "title": {
            "standoff": 15
           },
           "zerolinecolor": "#283442",
           "automargin": true,
           "zerolinewidth": 2
          },
          "yaxis": {
           "gridcolor": "#283442",
           "linecolor": "#506784",
           "ticks": "",
           "title": {
            "standoff": 15
           },
           "zerolinecolor": "#283442",
           "automargin": true,
           "zerolinewidth": 2
          },
          "scene": {
           "xaxis": {
            "backgroundcolor": "rgb(17,17,17)",
            "gridcolor": "#506784",
            "linecolor": "#506784",
            "showbackground": true,
            "ticks": "",
            "zerolinecolor": "#C8D4E3",
            "gridwidth": 2
           },
           "yaxis": {
            "backgroundcolor": "rgb(17,17,17)",
            "gridcolor": "#506784",
            "linecolor": "#506784",
            "showbackground": true,
            "ticks": "",
            "zerolinecolor": "#C8D4E3",
            "gridwidth": 2
           },
           "zaxis": {
            "backgroundcolor": "rgb(17,17,17)",
            "gridcolor": "#506784",
            "linecolor": "#506784",
            "showbackground": true,
            "ticks": "",
            "zerolinecolor": "#C8D4E3",
            "gridwidth": 2
           }
          },
          "shapedefaults": {
           "line": {
            "color": "#f2f5fa"
           }
          },
          "annotationdefaults": {
           "arrowcolor": "#f2f5fa",
           "arrowhead": 0,
           "arrowwidth": 1
          },
          "geo": {
           "bgcolor": "rgb(17,17,17)",
           "landcolor": "rgb(17,17,17)",
           "subunitcolor": "#506784",
           "showland": true,
           "showlakes": true,
           "lakecolor": "rgb(17,17,17)"
          },
          "title": {
           "x": 0.05
          },
          "updatemenudefaults": {
           "bgcolor": "#506784",
           "borderwidth": 0
          },
          "sliderdefaults": {
           "bgcolor": "#C8D4E3",
           "borderwidth": 1,
           "bordercolor": "rgb(17,17,17)",
           "tickwidth": 0
          },
          "mapbox": {
           "style": "dark"
          }
         }
        },
        "xaxis": {
         "anchor": "y",
         "domain": [
          0.0,
          1.0
         ],
         "title": {
          "text": "x"
         }
        },
        "yaxis": {
         "anchor": "x",
         "domain": [
          0.0,
          1.0
         ],
         "title": {
          "text": "index"
         }
        },
        "legend": {
         "tracegroupgap": 0
        },
        "margin": {
         "t": 60
        }
       },
       "config": {
        "plotlyServerURL": "https://plot.ly"
       }
      }
     },
     "metadata": {},
     "output_type": "display_data"
    }
   ],
   "execution_count": 20
  }
 ],
 "metadata": {
  "kernelspec": {
   "display_name": "Python 3",
   "language": "python",
   "name": "python3"
  },
  "language_info": {
   "codemirror_mode": {
    "name": "ipython",
    "version": 3
   },
   "file_extension": ".py",
   "mimetype": "text/x-python",
   "name": "python",
   "nbconvert_exporter": "python",
   "pygments_lexer": "ipython3",
   "version": "3.13.7"
  }
 },
 "nbformat": 4,
 "nbformat_minor": 5
}
