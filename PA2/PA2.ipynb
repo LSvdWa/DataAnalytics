{
 "cells": [
  {
   "metadata": {
    "ExecuteTime": {
     "end_time": "2025-09-16T14:21:19.429215Z",
     "start_time": "2025-09-16T14:21:11.623238Z"
    }
   },
   "cell_type": "code",
   "source": [
    "\n",
    "!pip install pandas\n",
    "!pip install plotly\n",
    "\n",
    "!pip install scikit-learn # non-depreaceated sklearn"
   ],
   "id": "6198313a0fd8ef21",
   "outputs": [
    {
     "name": "stdout",
     "output_type": "stream",
     "text": [
      "Requirement already satisfied: pandas in /Users/school/Documents/GitHub/DataAnalytics/.venvPytorc/lib/python3.8/site-packages (2.0.3)\r\n",
      "Requirement already satisfied: python-dateutil>=2.8.2 in /Users/school/Documents/GitHub/DataAnalytics/.venvPytorc/lib/python3.8/site-packages (from pandas) (2.9.0.post0)\r\n",
      "Requirement already satisfied: pytz>=2020.1 in /Users/school/Documents/GitHub/DataAnalytics/.venvPytorc/lib/python3.8/site-packages (from pandas) (2025.2)\r\n",
      "Requirement already satisfied: tzdata>=2022.1 in /Users/school/Documents/GitHub/DataAnalytics/.venvPytorc/lib/python3.8/site-packages (from pandas) (2025.2)\r\n",
      "Requirement already satisfied: numpy>=1.20.3 in /Users/school/Documents/GitHub/DataAnalytics/.venvPytorc/lib/python3.8/site-packages (from pandas) (1.24.4)\r\n",
      "Requirement already satisfied: six>=1.5 in /Users/school/Documents/GitHub/DataAnalytics/.venvPytorc/lib/python3.8/site-packages (from python-dateutil>=2.8.2->pandas) (1.17.0)\r\n",
      "Requirement already satisfied: plotly in /Users/school/Documents/GitHub/DataAnalytics/.venvPytorc/lib/python3.8/site-packages (6.3.0)\r\n",
      "Requirement already satisfied: narwhals>=1.15.1 in /Users/school/Documents/GitHub/DataAnalytics/.venvPytorc/lib/python3.8/site-packages (from plotly) (1.42.1)\r\n",
      "Requirement already satisfied: packaging in /Users/school/Documents/GitHub/DataAnalytics/.venvPytorc/lib/python3.8/site-packages (from plotly) (25.0)\r\n",
      "Requirement already satisfied: scikit-learn in /Users/school/Documents/GitHub/DataAnalytics/.venvPytorc/lib/python3.8/site-packages (1.3.2)\r\n",
      "Requirement already satisfied: numpy<2.0,>=1.17.3 in /Users/school/Documents/GitHub/DataAnalytics/.venvPytorc/lib/python3.8/site-packages (from scikit-learn) (1.24.4)\r\n",
      "Requirement already satisfied: scipy>=1.5.0 in /Users/school/Documents/GitHub/DataAnalytics/.venvPytorc/lib/python3.8/site-packages (from scikit-learn) (1.10.1)\r\n",
      "Requirement already satisfied: joblib>=1.1.1 in /Users/school/Documents/GitHub/DataAnalytics/.venvPytorc/lib/python3.8/site-packages (from scikit-learn) (1.4.2)\r\n",
      "Requirement already satisfied: threadpoolctl>=2.0.0 in /Users/school/Documents/GitHub/DataAnalytics/.venvPytorc/lib/python3.8/site-packages (from scikit-learn) (3.5.0)\r\n"
     ]
    }
   ],
   "execution_count": 51
  },
  {
   "metadata": {},
   "cell_type": "markdown",
   "source": "Task 1",
   "id": "c04bec9720cf8181"
  },
  {
   "metadata": {
    "collapsed": true,
    "ExecuteTime": {
     "end_time": "2025-09-16T14:21:19.818851Z",
     "start_time": "2025-09-16T14:21:19.462607Z"
    }
   },
   "cell_type": "code",
   "source": [
    "import pandas as pd\n",
    "# read the csv and make it a pandas.DataFrame\n",
    "frame = pd.DataFrame(pd.read_csv(\"./online_shoppers_intention.csv\"))\n",
    "print(frame)"
   ],
   "id": "569340ce255da6ee",
   "outputs": [
    {
     "name": "stdout",
     "output_type": "stream",
     "text": [
      "       Administrative  Administrative_Duration  Informational  \\\n",
      "0                   0                      0.0              0   \n",
      "1                   0                      0.0              0   \n",
      "2                   0                      0.0              0   \n",
      "3                   0                      0.0              0   \n",
      "4                   0                      0.0              0   \n",
      "...               ...                      ...            ...   \n",
      "12325               3                    145.0              0   \n",
      "12326               0                      0.0              0   \n",
      "12327               0                      0.0              0   \n",
      "12328               4                     75.0              0   \n",
      "12329               0                      0.0              0   \n",
      "\n",
      "       Informational_Duration  ProductRelated  ProductRelated_Duration  \\\n",
      "0                         0.0               1                 0.000000   \n",
      "1                         0.0               2                64.000000   \n",
      "2                         0.0               1                 0.000000   \n",
      "3                         0.0               2                 2.666667   \n",
      "4                         0.0              10               627.500000   \n",
      "...                       ...             ...                      ...   \n",
      "12325                     0.0              53              1783.791667   \n",
      "12326                     0.0               5               465.750000   \n",
      "12327                     0.0               6               184.250000   \n",
      "12328                     0.0              15               346.000000   \n",
      "12329                     0.0               3                21.250000   \n",
      "\n",
      "       BounceRates  ExitRates  PageValues  SpecialDay Month  OperatingSystems  \\\n",
      "0         0.200000   0.200000    0.000000         0.0   Feb                 1   \n",
      "1         0.000000   0.100000    0.000000         0.0   Feb                 2   \n",
      "2         0.200000   0.200000    0.000000         0.0   Feb                 4   \n",
      "3         0.050000   0.140000    0.000000         0.0   Feb                 3   \n",
      "4         0.020000   0.050000    0.000000         0.0   Feb                 3   \n",
      "...            ...        ...         ...         ...   ...               ...   \n",
      "12325     0.007143   0.029031   12.241717         0.0   Dec                 4   \n",
      "12326     0.000000   0.021333    0.000000         0.0   Nov                 3   \n",
      "12327     0.083333   0.086667    0.000000         0.0   Nov                 3   \n",
      "12328     0.000000   0.021053    0.000000         0.0   Nov                 2   \n",
      "12329     0.000000   0.066667    0.000000         0.0   Nov                 3   \n",
      "\n",
      "       Browser  Region  TrafficType        VisitorType  Weekend  Revenue  \n",
      "0            1       1            1  Returning_Visitor    False    False  \n",
      "1            2       1            2  Returning_Visitor    False    False  \n",
      "2            1       9            3  Returning_Visitor    False    False  \n",
      "3            2       2            4  Returning_Visitor    False    False  \n",
      "4            3       1            4  Returning_Visitor     True    False  \n",
      "...        ...     ...          ...                ...      ...      ...  \n",
      "12325        6       1            1  Returning_Visitor     True    False  \n",
      "12326        2       1            8  Returning_Visitor     True    False  \n",
      "12327        2       1           13  Returning_Visitor     True    False  \n",
      "12328        2       3           11  Returning_Visitor    False    False  \n",
      "12329        2       1            2        New_Visitor     True    False  \n",
      "\n",
      "[12330 rows x 18 columns]\n"
     ]
    }
   ],
   "execution_count": 52
  },
  {
   "metadata": {
    "ExecuteTime": {
     "end_time": "2025-09-16T14:21:19.834596Z",
     "start_time": "2025-09-16T14:21:19.830952Z"
    }
   },
   "cell_type": "code",
   "source": "#visualisation",
   "id": "619404bddacffcd3",
   "outputs": [],
   "execution_count": 53
  },
  {
   "metadata": {},
   "cell_type": "markdown",
   "source": "Verhaaltje van ~1min",
   "id": "67c526a1fa33357c"
  },
  {
   "metadata": {},
   "cell_type": "markdown",
   "source": "Task 2",
   "id": "e1d6f54fce662810"
  },
  {
   "metadata": {
    "ExecuteTime": {
     "end_time": "2025-09-16T14:22:34.585750Z",
     "start_time": "2025-09-16T14:22:34.486479Z"
    }
   },
   "cell_type": "code",
   "source": [
    "#Prepositioning op basis van algoritmes in task 3\n",
    "# Preprocess using dropna AND change all string types to an integer\n",
    "def Month_to_num(x):\n",
    "    months = {\n",
    "        \"Jan\": 1, \"Feb\": 2, \"Mar\": 3, \"Apr\": 4,\n",
    "        \"May\": 5, \"June\": 6, \"Jul\": 7, \"Aug\": 8,\n",
    "        \"Sep\": 9, \"Oct\": 10, \"Nov\": 11, \"Dec\": 12, \"Returning_Visitor\": 1, \"Old_Visitor\": 2, \"New_Visitor\": 3, \"Other\": 4}\n",
    "    if x not in months:\n",
    "        raise ValueError(f\"Invalid month string: {x}\")\n",
    "    return months[x]\n",
    "\n",
    "addlist = []\n",
    "preprocessed = (frame.copy().dropna())\n",
    "for i,j in enumerate(preprocessed['Month']):\n",
    "    addlist.append(Month_to_num(j))\n",
    "preprocessed['Month'] = addlist\n",
    "\n",
    "addlist = []\n",
    "for i,j in enumerate(preprocessed['VisitorType']):\n",
    "    addlist.append(Month_to_num(j))\n",
    "preprocessed['VisitorType'] = addlist\n",
    "\n",
    "for i in preprocessed.columns:\n",
    "    preprocessed[i] = pd.to_numeric(preprocessed[i], errors='raise')\n",
    "\n",
    "print(preprocessed)\n",
    "\n"
   ],
   "id": "b3be118550c59a04",
   "outputs": [
    {
     "name": "stdout",
     "output_type": "stream",
     "text": [
      "       Administrative  Administrative_Duration  Informational  \\\n",
      "0                   0                      0.0              0   \n",
      "1                   0                      0.0              0   \n",
      "2                   0                      0.0              0   \n",
      "3                   0                      0.0              0   \n",
      "4                   0                      0.0              0   \n",
      "...               ...                      ...            ...   \n",
      "12325               3                    145.0              0   \n",
      "12326               0                      0.0              0   \n",
      "12327               0                      0.0              0   \n",
      "12328               4                     75.0              0   \n",
      "12329               0                      0.0              0   \n",
      "\n",
      "       Informational_Duration  ProductRelated  ProductRelated_Duration  \\\n",
      "0                         0.0               1                 0.000000   \n",
      "1                         0.0               2                64.000000   \n",
      "2                         0.0               1                 0.000000   \n",
      "3                         0.0               2                 2.666667   \n",
      "4                         0.0              10               627.500000   \n",
      "...                       ...             ...                      ...   \n",
      "12325                     0.0              53              1783.791667   \n",
      "12326                     0.0               5               465.750000   \n",
      "12327                     0.0               6               184.250000   \n",
      "12328                     0.0              15               346.000000   \n",
      "12329                     0.0               3                21.250000   \n",
      "\n",
      "       BounceRates  ExitRates  PageValues  SpecialDay  Month  \\\n",
      "0         0.200000   0.200000    0.000000         0.0      2   \n",
      "1         0.000000   0.100000    0.000000         0.0      2   \n",
      "2         0.200000   0.200000    0.000000         0.0      2   \n",
      "3         0.050000   0.140000    0.000000         0.0      2   \n",
      "4         0.020000   0.050000    0.000000         0.0      2   \n",
      "...            ...        ...         ...         ...    ...   \n",
      "12325     0.007143   0.029031   12.241717         0.0     12   \n",
      "12326     0.000000   0.021333    0.000000         0.0     11   \n",
      "12327     0.083333   0.086667    0.000000         0.0     11   \n",
      "12328     0.000000   0.021053    0.000000         0.0     11   \n",
      "12329     0.000000   0.066667    0.000000         0.0     11   \n",
      "\n",
      "       OperatingSystems  Browser  Region  TrafficType  VisitorType  Weekend  \\\n",
      "0                     1        1       1            1            1    False   \n",
      "1                     2        2       1            2            1    False   \n",
      "2                     4        1       9            3            1    False   \n",
      "3                     3        2       2            4            1    False   \n",
      "4                     3        3       1            4            1     True   \n",
      "...                 ...      ...     ...          ...          ...      ...   \n",
      "12325                 4        6       1            1            1     True   \n",
      "12326                 3        2       1            8            1     True   \n",
      "12327                 3        2       1           13            1     True   \n",
      "12328                 2        2       3           11            1    False   \n",
      "12329                 3        2       1            2            3     True   \n",
      "\n",
      "       Revenue  \n",
      "0        False  \n",
      "1        False  \n",
      "2        False  \n",
      "3        False  \n",
      "4        False  \n",
      "...        ...  \n",
      "12325    False  \n",
      "12326    False  \n",
      "12327    False  \n",
      "12328    False  \n",
      "12329    False  \n",
      "\n",
      "[12330 rows x 18 columns]\n"
     ]
    }
   ],
   "execution_count": 56
  },
  {
   "metadata": {},
   "cell_type": "markdown",
   "source": "Task 3",
   "id": "ca05fe789cf17ab3"
  },
  {
   "metadata": {
    "ExecuteTime": {
     "end_time": "2025-09-16T14:22:31.865014Z",
     "start_time": "2025-09-16T14:21:20.004822Z"
    }
   },
   "cell_type": "code",
   "source": [
    "# affinity propagation clustering - aan de hand van documentatie - NU HEEL SLOOM\n",
    "from sklearn.cluster import AffinityPropagation\n",
    "Data = preprocessed.copy()\n",
    "clustering = AffinityPropagation(random_state=5).fit(Data)\n",
    "AffinityPropagation(random_state=24)\n",
    "\n",
    "labels = clustering.labels_\n",
    "cluster_centers = clustering.cluster_centers_\n",
    "n_clusters = len(cluster_centers)\n",
    "\n",
    "print(\"Number of clusters:\", n_clusters)\n",
    "print(\"Cluster centers:\\n\", cluster_centers)\n",
    "\n",
    "\n",
    "# DBSCAN clustering\n",
    "\n",
    "# Birch clustering"
   ],
   "id": "a64c29fcca7de65f",
   "outputs": [
    {
     "ename": "KeyboardInterrupt",
     "evalue": "",
     "output_type": "error",
     "traceback": [
      "\u001B[0;31m---------------------------------------------------------------------------\u001B[0m",
      "\u001B[0;31mKeyboardInterrupt\u001B[0m                         Traceback (most recent call last)",
      "Cell \u001B[0;32mIn[55], line 4\u001B[0m\n\u001B[1;32m      2\u001B[0m \u001B[38;5;28;01mfrom\u001B[39;00m\u001B[38;5;250m \u001B[39m\u001B[38;5;21;01msklearn\u001B[39;00m\u001B[38;5;21;01m.\u001B[39;00m\u001B[38;5;21;01mcluster\u001B[39;00m\u001B[38;5;250m \u001B[39m\u001B[38;5;28;01mimport\u001B[39;00m AffinityPropagation\n\u001B[1;32m      3\u001B[0m Data \u001B[38;5;241m=\u001B[39m preprocessed\u001B[38;5;241m.\u001B[39mcopy()\n\u001B[0;32m----> 4\u001B[0m clustering \u001B[38;5;241m=\u001B[39m \u001B[43mAffinityPropagation\u001B[49m\u001B[43m(\u001B[49m\u001B[43mrandom_state\u001B[49m\u001B[38;5;241;43m=\u001B[39;49m\u001B[38;5;241;43m5\u001B[39;49m\u001B[43m)\u001B[49m\u001B[38;5;241;43m.\u001B[39;49m\u001B[43mfit\u001B[49m\u001B[43m(\u001B[49m\u001B[43mData\u001B[49m\u001B[43m)\u001B[49m\n\u001B[1;32m      5\u001B[0m AffinityPropagation(random_state\u001B[38;5;241m=\u001B[39m\u001B[38;5;241m24\u001B[39m)\n\u001B[1;32m      7\u001B[0m labels \u001B[38;5;241m=\u001B[39m clustering\u001B[38;5;241m.\u001B[39mlabels_\n",
      "File \u001B[0;32m~/Documents/GitHub/DataAnalytics/.venvPytorc/lib/python3.8/site-packages/sklearn/base.py:1152\u001B[0m, in \u001B[0;36m_fit_context.<locals>.decorator.<locals>.wrapper\u001B[0;34m(estimator, *args, **kwargs)\u001B[0m\n\u001B[1;32m   1145\u001B[0m     estimator\u001B[38;5;241m.\u001B[39m_validate_params()\n\u001B[1;32m   1147\u001B[0m \u001B[38;5;28;01mwith\u001B[39;00m config_context(\n\u001B[1;32m   1148\u001B[0m     skip_parameter_validation\u001B[38;5;241m=\u001B[39m(\n\u001B[1;32m   1149\u001B[0m         prefer_skip_nested_validation \u001B[38;5;129;01mor\u001B[39;00m global_skip_validation\n\u001B[1;32m   1150\u001B[0m     )\n\u001B[1;32m   1151\u001B[0m ):\n\u001B[0;32m-> 1152\u001B[0m     \u001B[38;5;28;01mreturn\u001B[39;00m \u001B[43mfit_method\u001B[49m\u001B[43m(\u001B[49m\u001B[43mestimator\u001B[49m\u001B[43m,\u001B[49m\u001B[43m \u001B[49m\u001B[38;5;241;43m*\u001B[39;49m\u001B[43margs\u001B[49m\u001B[43m,\u001B[49m\u001B[43m \u001B[49m\u001B[38;5;241;43m*\u001B[39;49m\u001B[38;5;241;43m*\u001B[39;49m\u001B[43mkwargs\u001B[49m\u001B[43m)\u001B[49m\n",
      "File \u001B[0;32m~/Documents/GitHub/DataAnalytics/.venvPytorc/lib/python3.8/site-packages/sklearn/cluster/_affinity_propagation.py:520\u001B[0m, in \u001B[0;36mAffinityPropagation.fit\u001B[0;34m(self, X, y)\u001B[0m\n\u001B[1;32m    512\u001B[0m preference \u001B[38;5;241m=\u001B[39m np\u001B[38;5;241m.\u001B[39marray(preference, copy\u001B[38;5;241m=\u001B[39m\u001B[38;5;28;01mFalse\u001B[39;00m)\n\u001B[1;32m    514\u001B[0m random_state \u001B[38;5;241m=\u001B[39m check_random_state(\u001B[38;5;28mself\u001B[39m\u001B[38;5;241m.\u001B[39mrandom_state)\n\u001B[1;32m    516\u001B[0m (\n\u001B[1;32m    517\u001B[0m     \u001B[38;5;28mself\u001B[39m\u001B[38;5;241m.\u001B[39mcluster_centers_indices_,\n\u001B[1;32m    518\u001B[0m     \u001B[38;5;28mself\u001B[39m\u001B[38;5;241m.\u001B[39mlabels_,\n\u001B[1;32m    519\u001B[0m     \u001B[38;5;28mself\u001B[39m\u001B[38;5;241m.\u001B[39mn_iter_,\n\u001B[0;32m--> 520\u001B[0m ) \u001B[38;5;241m=\u001B[39m \u001B[43m_affinity_propagation\u001B[49m\u001B[43m(\u001B[49m\n\u001B[1;32m    521\u001B[0m \u001B[43m    \u001B[49m\u001B[38;5;28;43mself\u001B[39;49m\u001B[38;5;241;43m.\u001B[39;49m\u001B[43maffinity_matrix_\u001B[49m\u001B[43m,\u001B[49m\n\u001B[1;32m    522\u001B[0m \u001B[43m    \u001B[49m\u001B[43mmax_iter\u001B[49m\u001B[38;5;241;43m=\u001B[39;49m\u001B[38;5;28;43mself\u001B[39;49m\u001B[38;5;241;43m.\u001B[39;49m\u001B[43mmax_iter\u001B[49m\u001B[43m,\u001B[49m\n\u001B[1;32m    523\u001B[0m \u001B[43m    \u001B[49m\u001B[43mconvergence_iter\u001B[49m\u001B[38;5;241;43m=\u001B[39;49m\u001B[38;5;28;43mself\u001B[39;49m\u001B[38;5;241;43m.\u001B[39;49m\u001B[43mconvergence_iter\u001B[49m\u001B[43m,\u001B[49m\n\u001B[1;32m    524\u001B[0m \u001B[43m    \u001B[49m\u001B[43mpreference\u001B[49m\u001B[38;5;241;43m=\u001B[39;49m\u001B[43mpreference\u001B[49m\u001B[43m,\u001B[49m\n\u001B[1;32m    525\u001B[0m \u001B[43m    \u001B[49m\u001B[43mdamping\u001B[49m\u001B[38;5;241;43m=\u001B[39;49m\u001B[38;5;28;43mself\u001B[39;49m\u001B[38;5;241;43m.\u001B[39;49m\u001B[43mdamping\u001B[49m\u001B[43m,\u001B[49m\n\u001B[1;32m    526\u001B[0m \u001B[43m    \u001B[49m\u001B[43mverbose\u001B[49m\u001B[38;5;241;43m=\u001B[39;49m\u001B[38;5;28;43mself\u001B[39;49m\u001B[38;5;241;43m.\u001B[39;49m\u001B[43mverbose\u001B[49m\u001B[43m,\u001B[49m\n\u001B[1;32m    527\u001B[0m \u001B[43m    \u001B[49m\u001B[43mreturn_n_iter\u001B[49m\u001B[38;5;241;43m=\u001B[39;49m\u001B[38;5;28;43;01mTrue\u001B[39;49;00m\u001B[43m,\u001B[49m\n\u001B[1;32m    528\u001B[0m \u001B[43m    \u001B[49m\u001B[43mrandom_state\u001B[49m\u001B[38;5;241;43m=\u001B[39;49m\u001B[43mrandom_state\u001B[49m\u001B[43m,\u001B[49m\n\u001B[1;32m    529\u001B[0m \u001B[43m\u001B[49m\u001B[43m)\u001B[49m\n\u001B[1;32m    531\u001B[0m \u001B[38;5;28;01mif\u001B[39;00m \u001B[38;5;28mself\u001B[39m\u001B[38;5;241m.\u001B[39maffinity \u001B[38;5;241m!=\u001B[39m \u001B[38;5;124m\"\u001B[39m\u001B[38;5;124mprecomputed\u001B[39m\u001B[38;5;124m\"\u001B[39m:\n\u001B[1;32m    532\u001B[0m     \u001B[38;5;28mself\u001B[39m\u001B[38;5;241m.\u001B[39mcluster_centers_ \u001B[38;5;241m=\u001B[39m X[\u001B[38;5;28mself\u001B[39m\u001B[38;5;241m.\u001B[39mcluster_centers_indices_]\u001B[38;5;241m.\u001B[39mcopy()\n",
      "File \u001B[0;32m~/Documents/GitHub/DataAnalytics/.venvPytorc/lib/python3.8/site-packages/sklearn/cluster/_affinity_propagation.py:117\u001B[0m, in \u001B[0;36m_affinity_propagation\u001B[0;34m(S, preference, convergence_iter, max_iter, damping, verbose, return_n_iter, random_state)\u001B[0m\n\u001B[1;32m    115\u001B[0m tmp \u001B[38;5;241m*\u001B[39m\u001B[38;5;241m=\u001B[39m \u001B[38;5;241m1\u001B[39m \u001B[38;5;241m-\u001B[39m damping\n\u001B[1;32m    116\u001B[0m A \u001B[38;5;241m*\u001B[39m\u001B[38;5;241m=\u001B[39m damping\n\u001B[0;32m--> 117\u001B[0m A \u001B[38;5;241m-\u001B[39m\u001B[38;5;241m=\u001B[39m tmp\n\u001B[1;32m    119\u001B[0m \u001B[38;5;66;03m# Check for convergence\u001B[39;00m\n\u001B[1;32m    120\u001B[0m E \u001B[38;5;241m=\u001B[39m (np\u001B[38;5;241m.\u001B[39mdiag(A) \u001B[38;5;241m+\u001B[39m np\u001B[38;5;241m.\u001B[39mdiag(R)) \u001B[38;5;241m>\u001B[39m \u001B[38;5;241m0\u001B[39m\n",
      "\u001B[0;31mKeyboardInterrupt\u001B[0m: "
     ]
    }
   ],
   "execution_count": 55
  },
  {
   "metadata": {},
   "cell_type": "markdown",
   "source": "Task 4",
   "id": "2d8d2baa9a81b136"
  },
  {
   "metadata": {},
   "cell_type": "code",
   "outputs": [],
   "execution_count": null,
   "source": [
    "# manual Silhouette score\n",
    "\n",
    "# Davies Buildin Score\n",
    "\n",
    "# calinski-harabasz index"
   ],
   "id": "878a2061917b83d8"
  },
  {
   "metadata": {},
   "cell_type": "markdown",
   "source": "Task 5 ALL MANUAL\n",
   "id": "12deb65d3f7f63eb"
  },
  {
   "metadata": {},
   "cell_type": "code",
   "outputs": [],
   "execution_count": null,
   "source": [
    "# Euclidian distance\n",
    "\n",
    "# Manhattan distance\n",
    "\n",
    "# Cosine similarity\n",
    "\n",
    "# Distances effect on dbscan"
   ],
   "id": "2a95a246f6bf2fa2"
  }
 ],
 "metadata": {
  "kernelspec": {
   "display_name": "Python 3",
   "language": "python",
   "name": "python3"
  },
  "language_info": {
   "codemirror_mode": {
    "name": "ipython",
    "version": 2
   },
   "file_extension": ".py",
   "mimetype": "text/x-python",
   "name": "python",
   "nbconvert_exporter": "python",
   "pygments_lexer": "ipython2",
   "version": "2.7.6"
  }
 },
 "nbformat": 4,
 "nbformat_minor": 5
}
