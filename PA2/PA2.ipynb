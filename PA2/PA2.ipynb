{
 "cells": [
  {
   "cell_type": "code",
   "id": "6198313a0fd8ef21",
   "metadata": {},
   "source": [
    "!pip install numpy\n",
    "!pip install pandas\n",
    "!pip install plotly\n",
    "\n",
    "!pip install scikit-learn # non-depreaceated sklearn"
   ],
   "outputs": [],
   "execution_count": null
  },
  {
   "cell_type": "markdown",
   "id": "c04bec9720cf8181",
   "metadata": {},
   "source": [
    "Task 1"
   ]
  },
  {
   "cell_type": "code",
   "id": "569340ce255da6ee",
   "metadata": {
    "collapsed": true
   },
   "source": [
    "import pandas as pd\n",
    "# read the csv and make it a pandas.DataFrame\n",
    "frame = pd.DataFrame(pd.read_csv(\"./online_shoppers_intention.csv\"))\n",
    "frame.describe(include='all') # 18 columns, including 2 categorical: Month & VisitorType, and two boolean: Weekend & Revenue"
   ],
   "outputs": [],
   "execution_count": null
  },
  {
   "cell_type": "markdown",
   "id": "67c526a1fa33357c",
   "metadata": {},
   "source": [
    "Verhaaltje van ~1min"
   ]
  },
  {
   "cell_type": "code",
   "id": "619404bddacffcd3",
   "metadata": {},
   "source": [
    "#visualisation\n",
    "# split the Browser 13 users from the rest\n",
    "frame13 = frame.loc[frame.Browser == 13]\n",
    "frameOther = frame.loc[frame.Browser != 13]\n",
    "\n",
    "import plotly.graph_objects as go\n",
    "# make a small dataframe with normalized data for plotting\n",
    "def create_distribution(frameColumn):\n",
    "    return pd.DataFrame({\n",
    "        'Browser 13': frame13[frameColumn].value_counts(normalize=True),\n",
    "        'Other browsers': frameOther[frameColumn].value_counts(normalize=True)\n",
    "    }).reset_index().rename(columns={'index': col})\n",
    "# plot all these columns \n",
    "for col in ['VisitorType', 'Weekend', 'Revenue']:\n",
    "    distribution = create_distribution(col)\n",
    "    fig = go.Figure()\n",
    "    fig.add_trace(go.Bar(x=distribution[col], y=distribution['Browser 13'], name='Browser 13'))\n",
    "    fig.add_trace(go.Bar(x=distribution[col], y=distribution['Other browsers'], name='Other browsers'))\n",
    "    fig.update_layout(barmode='group', title=f'{col} Distribution')\n",
    "    fig.show()"
   ],
   "outputs": [],
   "execution_count": null
  },
  {
   "cell_type": "markdown",
   "id": "e1d6f54fce662810",
   "metadata": {},
   "source": [
    "Task 2"
   ]
  },
  {
   "cell_type": "code",
   "id": "b3be118550c59a04",
   "metadata": {},
   "source": [
    "#Prepositioning op basis van algoritmes in task 3\n",
    "# Preprocess using dropna AND change all string types to an integer\n",
    "#TODO Jan & Apr aren't in dataset, maybe remove from this function\n",
    "def Month_to_num(x):\n",
    "    months = {\n",
    "        \"Jan\": 1, \"Feb\": 2, \"Mar\": 3, \"Apr\": 4,\n",
    "        \"May\": 5, \"June\": 6, \"Jul\": 7, \"Aug\": 8,\n",
    "        \"Sep\": 9, \"Oct\": 10, \"Nov\": 11, \"Dec\": 12, \"Returning_Visitor\": 1, \"Old_Visitor\": 2, \"New_Visitor\": 3, \"Other\": 4}\n",
    "    if x not in months:\n",
    "        raise ValueError(f\"Invalid month string: {x}\")\n",
    "    return months[x]\n",
    "\n",
    "addlist = []\n",
    "preprocessed = (frame.copy().dropna())\n",
    "for i,j in enumerate(preprocessed['Month']):\n",
    "    addlist.append(Month_to_num(j))\n",
    "preprocessed['Month'] = addlist\n",
    "\n",
    "addlist = []\n",
    "for i,j in enumerate(preprocessed['VisitorType']):\n",
    "    addlist.append(Month_to_num(j))\n",
    "preprocessed['VisitorType'] = addlist\n",
    "\n",
    "for i in preprocessed.columns:\n",
    "    preprocessed[i] = pd.to_numeric(preprocessed[i], errors='raise')\n",
    "\n",
    "print(preprocessed)\n",
    "\n"
   ],
   "outputs": [],
   "execution_count": null
  },
  {
   "cell_type": "markdown",
   "id": "ca05fe789cf17ab3",
   "metadata": {},
   "source": [
    "Task 3"
   ]
  },
  {
   "cell_type": "code",
   "id": "a64c29fcca7de65f",
   "metadata": {},
   "source": [
    "# affinity propagation clustering - aan de hand van documentatie - NU HEEL SLOOM\n",
    "from sklearn.cluster import AffinityPropagation, DBSCAN, Birch\n",
    "Data = preprocessed.copy()\n",
    "#Gebruik van sample maakt het proces sneller\n",
    "Sample = Data.sample(n=1000)\n",
    "clustering = AffinityPropagation(random_state=5).fit(Sample)\n",
    "AffinityPropagation(random_state=24)\n",
    "\n",
    "labels = clustering.labels_\n",
    "cluster_centers = clustering.cluster_centers_\n",
    "n_clusters = len(cluster_centers)\n",
    "\n",
    "print(\"Number of clusters:\", n_clusters)\n",
    "print(\"Cluster centers:\\n\", cluster_centers)\n",
    "\n",
    "\n",
    "# DBSCAN clustering\n",
    "#TODO werkt maar de label -1 laat zien dat er een hoop data punten in ruis categorie vallen...\n",
    "clustering2 = DBSCAN(eps=3).fit(Data)\n",
    "labels2 = clustering2.labels_\n",
    "print(\"Labels DBSCAN\", labels2[:50])   \n",
    "\n",
    "\n",
    "# Birch clustering\n",
    "#TODO nog een groot aantal clusters...\n",
    "clustering3 = Birch(n_clusters=None).fit(Data)\n",
    "labels3 = clustering3.labels_\n",
    "print(\"Labels Birch\", labels3[:50])   \n",
    "aantal_clusters = len(set(labels3))\n",
    "print(\"Aantal clusters Birch\", aantal_clusters)\n"
   ],
   "outputs": [],
   "execution_count": null
  },
  {
   "cell_type": "markdown",
   "id": "2d8d2baa9a81b136",
   "metadata": {},
   "source": [
    "Task 4"
   ]
  },
  {
   "cell_type": "code",
   "id": "878a2061917b83d8",
   "metadata": {},
   "source": [
    "# manual Silhouette score\n",
    "\n",
    "# Davies Buildin Score\n",
    "\n",
    "# calinski-harabasz index"
   ],
   "outputs": [],
   "execution_count": null
  },
  {
   "cell_type": "markdown",
   "id": "12deb65d3f7f63eb",
   "metadata": {},
   "source": [
    "Task 5 ALL MANUAL\n"
   ]
  },
  {
   "cell_type": "code",
   "id": "2a95a246f6bf2fa2",
   "metadata": {},
   "source": [
    "# Euclidian distance\n",
    "\n",
    "# Manhattan distance\n",
    "\n",
    "# Cosine similarity\n",
    "\n",
    "# Distances effect on dbscan"
   ],
   "outputs": [],
   "execution_count": null
  }
 ],
 "metadata": {
  "kernelspec": {
   "display_name": "Python 3",
   "language": "python",
   "name": "python3"
  },
  "language_info": {
   "codemirror_mode": {
    "name": "ipython",
    "version": 3
   },
   "file_extension": ".py",
   "mimetype": "text/x-python",
   "name": "python",
   "nbconvert_exporter": "python",
   "pygments_lexer": "ipython3",
   "version": "3.13.7"
  }
 },
 "nbformat": 4,
 "nbformat_minor": 5
}
