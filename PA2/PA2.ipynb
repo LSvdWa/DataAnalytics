{
 "cells": [
  {
   "cell_type": "code",
   "id": "6198313a0fd8ef21",
   "metadata": {
    "ExecuteTime": {
     "end_time": "2025-09-24T14:48:08.551857Z",
     "start_time": "2025-09-24T14:48:02.686408Z"
    }
   },
   "source": [
    "#from numpy.core.numeric import infty\n",
    "!pip install numpy\n",
    "!pip install pandas\n",
    "!pip install plotly\n",
    "\n",
    "!pip install scikit-learn # non-depreceated sklearn"
   ],
   "outputs": [
    {
     "name": "stdout",
     "output_type": "stream",
     "text": [
      "Requirement already satisfied: numpy in c:\\users\\friso\\appdata\\local\\programs\\python\\python38\\lib\\site-packages (1.24.4)\n"
     ]
    },
    {
     "name": "stderr",
     "output_type": "stream",
     "text": [
      "WARNING: You are using pip version 21.1.1; however, version 25.0.1 is available.\n",
      "You should consider upgrading via the 'c:\\users\\friso\\appdata\\local\\programs\\python\\python38\\python.exe -m pip install --upgrade pip' command.\n"
     ]
    },
    {
     "name": "stdout",
     "output_type": "stream",
     "text": [
      "Requirement already satisfied: pandas in c:\\users\\friso\\appdata\\local\\programs\\python\\python38\\lib\\site-packages (2.0.3)\n",
      "Requirement already satisfied: tzdata>=2022.1 in c:\\users\\friso\\appdata\\local\\programs\\python\\python38\\lib\\site-packages (from pandas) (2025.2)\n",
      "Requirement already satisfied: numpy>=1.20.3 in c:\\users\\friso\\appdata\\local\\programs\\python\\python38\\lib\\site-packages (from pandas) (1.24.4)\n",
      "Requirement already satisfied: python-dateutil>=2.8.2 in c:\\users\\friso\\appdata\\local\\programs\\python\\python38\\lib\\site-packages (from pandas) (2.9.0.post0)\n",
      "Requirement already satisfied: pytz>=2020.1 in c:\\users\\friso\\appdata\\local\\programs\\python\\python38\\lib\\site-packages (from pandas) (2025.2)\n",
      "Requirement already satisfied: six>=1.5 in c:\\users\\friso\\appdata\\local\\programs\\python\\python38\\lib\\site-packages (from python-dateutil>=2.8.2->pandas) (1.17.0)\n"
     ]
    },
    {
     "name": "stderr",
     "output_type": "stream",
     "text": [
      "WARNING: You are using pip version 21.1.1; however, version 25.0.1 is available.\n",
      "You should consider upgrading via the 'c:\\users\\friso\\appdata\\local\\programs\\python\\python38\\python.exe -m pip install --upgrade pip' command.\n"
     ]
    },
    {
     "name": "stdout",
     "output_type": "stream",
     "text": [
      "Requirement already satisfied: plotly in c:\\users\\friso\\appdata\\local\\programs\\python\\python38\\lib\\site-packages (6.3.0)\n",
      "Requirement already satisfied: narwhals>=1.15.1 in c:\\users\\friso\\appdata\\local\\programs\\python\\python38\\lib\\site-packages (from plotly) (1.42.1)\n",
      "Requirement already satisfied: packaging in c:\\users\\friso\\appdata\\local\\programs\\python\\python38\\lib\\site-packages (from plotly) (25.0)\n"
     ]
    },
    {
     "name": "stderr",
     "output_type": "stream",
     "text": [
      "WARNING: You are using pip version 21.1.1; however, version 25.0.1 is available.\n",
      "You should consider upgrading via the 'c:\\users\\friso\\appdata\\local\\programs\\python\\python38\\python.exe -m pip install --upgrade pip' command.\n",
      "ERROR: Invalid requirement: '#'\n",
      "WARNING: You are using pip version 21.1.1; however, version 25.0.1 is available.\n",
      "You should consider upgrading via the 'c:\\users\\friso\\appdata\\local\\programs\\python\\python38\\python.exe -m pip install --upgrade pip' command.\n"
     ]
    }
   ],
   "execution_count": 59
  },
  {
   "cell_type": "markdown",
   "id": "c04bec9720cf8181",
   "metadata": {},
   "source": [
    "Task 1"
   ]
  },
  {
   "cell_type": "code",
   "id": "569340ce255da6ee",
   "metadata": {
    "collapsed": true,
    "ExecuteTime": {
     "end_time": "2025-09-24T14:48:08.635273Z",
     "start_time": "2025-09-24T14:48:08.553865Z"
    }
   },
   "source": [
    "import pandas as pd\n",
    "# read the csv and make it a pandas.DataFrame\n",
    "frame = pd.DataFrame(pd.read_csv(\"./online_shoppers_intention.csv\"))\n",
    "frame.describe(include='all') # 18 columns, including 2 categorical: Month & VisitorType, and two boolean: Weekend & Revenue"
   ],
   "outputs": [
    {
     "data": {
      "text/plain": [
       "        Administrative  Administrative_Duration  Informational  \\\n",
       "count     12330.000000             12330.000000   12330.000000   \n",
       "unique             NaN                      NaN            NaN   \n",
       "top                NaN                      NaN            NaN   \n",
       "freq               NaN                      NaN            NaN   \n",
       "mean          2.315166                80.818611       0.503569   \n",
       "std           3.321784               176.779107       1.270156   \n",
       "min           0.000000                 0.000000       0.000000   \n",
       "25%           0.000000                 0.000000       0.000000   \n",
       "50%           1.000000                 7.500000       0.000000   \n",
       "75%           4.000000                93.256250       0.000000   \n",
       "max          27.000000              3398.750000      24.000000   \n",
       "\n",
       "        Informational_Duration  ProductRelated  ProductRelated_Duration  \\\n",
       "count             12330.000000    12330.000000             12330.000000   \n",
       "unique                     NaN             NaN                      NaN   \n",
       "top                        NaN             NaN                      NaN   \n",
       "freq                       NaN             NaN                      NaN   \n",
       "mean                 34.472398       31.731468              1194.746220   \n",
       "std                 140.749294       44.475503              1913.669288   \n",
       "min                   0.000000        0.000000                 0.000000   \n",
       "25%                   0.000000        7.000000               184.137500   \n",
       "50%                   0.000000       18.000000               598.936905   \n",
       "75%                   0.000000       38.000000              1464.157214   \n",
       "max                2549.375000      705.000000             63973.522230   \n",
       "\n",
       "         BounceRates     ExitRates    PageValues    SpecialDay  Month  \\\n",
       "count   12330.000000  12330.000000  12330.000000  12330.000000  12330   \n",
       "unique           NaN           NaN           NaN           NaN     10   \n",
       "top              NaN           NaN           NaN           NaN    May   \n",
       "freq             NaN           NaN           NaN           NaN   3364   \n",
       "mean        0.022191      0.043073      5.889258      0.061427    NaN   \n",
       "std         0.048488      0.048597     18.568437      0.198917    NaN   \n",
       "min         0.000000      0.000000      0.000000      0.000000    NaN   \n",
       "25%         0.000000      0.014286      0.000000      0.000000    NaN   \n",
       "50%         0.003112      0.025156      0.000000      0.000000    NaN   \n",
       "75%         0.016813      0.050000      0.000000      0.000000    NaN   \n",
       "max         0.200000      0.200000    361.763742      1.000000    NaN   \n",
       "\n",
       "        OperatingSystems       Browser        Region   TrafficType  \\\n",
       "count       12330.000000  12330.000000  12330.000000  12330.000000   \n",
       "unique               NaN           NaN           NaN           NaN   \n",
       "top                  NaN           NaN           NaN           NaN   \n",
       "freq                 NaN           NaN           NaN           NaN   \n",
       "mean            2.124006      2.357097      3.147364      4.069586   \n",
       "std             0.911325      1.717277      2.401591      4.025169   \n",
       "min             1.000000      1.000000      1.000000      1.000000   \n",
       "25%             2.000000      2.000000      1.000000      2.000000   \n",
       "50%             2.000000      2.000000      3.000000      2.000000   \n",
       "75%             3.000000      2.000000      4.000000      4.000000   \n",
       "max             8.000000     13.000000      9.000000     20.000000   \n",
       "\n",
       "              VisitorType Weekend Revenue  \n",
       "count               12330   12330   12330  \n",
       "unique                  3       2       2  \n",
       "top     Returning_Visitor   False   False  \n",
       "freq                10551    9462   10422  \n",
       "mean                  NaN     NaN     NaN  \n",
       "std                   NaN     NaN     NaN  \n",
       "min                   NaN     NaN     NaN  \n",
       "25%                   NaN     NaN     NaN  \n",
       "50%                   NaN     NaN     NaN  \n",
       "75%                   NaN     NaN     NaN  \n",
       "max                   NaN     NaN     NaN  "
      ],
      "text/html": [
       "<div>\n",
       "<style scoped>\n",
       "    .dataframe tbody tr th:only-of-type {\n",
       "        vertical-align: middle;\n",
       "    }\n",
       "\n",
       "    .dataframe tbody tr th {\n",
       "        vertical-align: top;\n",
       "    }\n",
       "\n",
       "    .dataframe thead th {\n",
       "        text-align: right;\n",
       "    }\n",
       "</style>\n",
       "<table border=\"1\" class=\"dataframe\">\n",
       "  <thead>\n",
       "    <tr style=\"text-align: right;\">\n",
       "      <th></th>\n",
       "      <th>Administrative</th>\n",
       "      <th>Administrative_Duration</th>\n",
       "      <th>Informational</th>\n",
       "      <th>Informational_Duration</th>\n",
       "      <th>ProductRelated</th>\n",
       "      <th>ProductRelated_Duration</th>\n",
       "      <th>BounceRates</th>\n",
       "      <th>ExitRates</th>\n",
       "      <th>PageValues</th>\n",
       "      <th>SpecialDay</th>\n",
       "      <th>Month</th>\n",
       "      <th>OperatingSystems</th>\n",
       "      <th>Browser</th>\n",
       "      <th>Region</th>\n",
       "      <th>TrafficType</th>\n",
       "      <th>VisitorType</th>\n",
       "      <th>Weekend</th>\n",
       "      <th>Revenue</th>\n",
       "    </tr>\n",
       "  </thead>\n",
       "  <tbody>\n",
       "    <tr>\n",
       "      <th>count</th>\n",
       "      <td>12330.000000</td>\n",
       "      <td>12330.000000</td>\n",
       "      <td>12330.000000</td>\n",
       "      <td>12330.000000</td>\n",
       "      <td>12330.000000</td>\n",
       "      <td>12330.000000</td>\n",
       "      <td>12330.000000</td>\n",
       "      <td>12330.000000</td>\n",
       "      <td>12330.000000</td>\n",
       "      <td>12330.000000</td>\n",
       "      <td>12330</td>\n",
       "      <td>12330.000000</td>\n",
       "      <td>12330.000000</td>\n",
       "      <td>12330.000000</td>\n",
       "      <td>12330.000000</td>\n",
       "      <td>12330</td>\n",
       "      <td>12330</td>\n",
       "      <td>12330</td>\n",
       "    </tr>\n",
       "    <tr>\n",
       "      <th>unique</th>\n",
       "      <td>NaN</td>\n",
       "      <td>NaN</td>\n",
       "      <td>NaN</td>\n",
       "      <td>NaN</td>\n",
       "      <td>NaN</td>\n",
       "      <td>NaN</td>\n",
       "      <td>NaN</td>\n",
       "      <td>NaN</td>\n",
       "      <td>NaN</td>\n",
       "      <td>NaN</td>\n",
       "      <td>10</td>\n",
       "      <td>NaN</td>\n",
       "      <td>NaN</td>\n",
       "      <td>NaN</td>\n",
       "      <td>NaN</td>\n",
       "      <td>3</td>\n",
       "      <td>2</td>\n",
       "      <td>2</td>\n",
       "    </tr>\n",
       "    <tr>\n",
       "      <th>top</th>\n",
       "      <td>NaN</td>\n",
       "      <td>NaN</td>\n",
       "      <td>NaN</td>\n",
       "      <td>NaN</td>\n",
       "      <td>NaN</td>\n",
       "      <td>NaN</td>\n",
       "      <td>NaN</td>\n",
       "      <td>NaN</td>\n",
       "      <td>NaN</td>\n",
       "      <td>NaN</td>\n",
       "      <td>May</td>\n",
       "      <td>NaN</td>\n",
       "      <td>NaN</td>\n",
       "      <td>NaN</td>\n",
       "      <td>NaN</td>\n",
       "      <td>Returning_Visitor</td>\n",
       "      <td>False</td>\n",
       "      <td>False</td>\n",
       "    </tr>\n",
       "    <tr>\n",
       "      <th>freq</th>\n",
       "      <td>NaN</td>\n",
       "      <td>NaN</td>\n",
       "      <td>NaN</td>\n",
       "      <td>NaN</td>\n",
       "      <td>NaN</td>\n",
       "      <td>NaN</td>\n",
       "      <td>NaN</td>\n",
       "      <td>NaN</td>\n",
       "      <td>NaN</td>\n",
       "      <td>NaN</td>\n",
       "      <td>3364</td>\n",
       "      <td>NaN</td>\n",
       "      <td>NaN</td>\n",
       "      <td>NaN</td>\n",
       "      <td>NaN</td>\n",
       "      <td>10551</td>\n",
       "      <td>9462</td>\n",
       "      <td>10422</td>\n",
       "    </tr>\n",
       "    <tr>\n",
       "      <th>mean</th>\n",
       "      <td>2.315166</td>\n",
       "      <td>80.818611</td>\n",
       "      <td>0.503569</td>\n",
       "      <td>34.472398</td>\n",
       "      <td>31.731468</td>\n",
       "      <td>1194.746220</td>\n",
       "      <td>0.022191</td>\n",
       "      <td>0.043073</td>\n",
       "      <td>5.889258</td>\n",
       "      <td>0.061427</td>\n",
       "      <td>NaN</td>\n",
       "      <td>2.124006</td>\n",
       "      <td>2.357097</td>\n",
       "      <td>3.147364</td>\n",
       "      <td>4.069586</td>\n",
       "      <td>NaN</td>\n",
       "      <td>NaN</td>\n",
       "      <td>NaN</td>\n",
       "    </tr>\n",
       "    <tr>\n",
       "      <th>std</th>\n",
       "      <td>3.321784</td>\n",
       "      <td>176.779107</td>\n",
       "      <td>1.270156</td>\n",
       "      <td>140.749294</td>\n",
       "      <td>44.475503</td>\n",
       "      <td>1913.669288</td>\n",
       "      <td>0.048488</td>\n",
       "      <td>0.048597</td>\n",
       "      <td>18.568437</td>\n",
       "      <td>0.198917</td>\n",
       "      <td>NaN</td>\n",
       "      <td>0.911325</td>\n",
       "      <td>1.717277</td>\n",
       "      <td>2.401591</td>\n",
       "      <td>4.025169</td>\n",
       "      <td>NaN</td>\n",
       "      <td>NaN</td>\n",
       "      <td>NaN</td>\n",
       "    </tr>\n",
       "    <tr>\n",
       "      <th>min</th>\n",
       "      <td>0.000000</td>\n",
       "      <td>0.000000</td>\n",
       "      <td>0.000000</td>\n",
       "      <td>0.000000</td>\n",
       "      <td>0.000000</td>\n",
       "      <td>0.000000</td>\n",
       "      <td>0.000000</td>\n",
       "      <td>0.000000</td>\n",
       "      <td>0.000000</td>\n",
       "      <td>0.000000</td>\n",
       "      <td>NaN</td>\n",
       "      <td>1.000000</td>\n",
       "      <td>1.000000</td>\n",
       "      <td>1.000000</td>\n",
       "      <td>1.000000</td>\n",
       "      <td>NaN</td>\n",
       "      <td>NaN</td>\n",
       "      <td>NaN</td>\n",
       "    </tr>\n",
       "    <tr>\n",
       "      <th>25%</th>\n",
       "      <td>0.000000</td>\n",
       "      <td>0.000000</td>\n",
       "      <td>0.000000</td>\n",
       "      <td>0.000000</td>\n",
       "      <td>7.000000</td>\n",
       "      <td>184.137500</td>\n",
       "      <td>0.000000</td>\n",
       "      <td>0.014286</td>\n",
       "      <td>0.000000</td>\n",
       "      <td>0.000000</td>\n",
       "      <td>NaN</td>\n",
       "      <td>2.000000</td>\n",
       "      <td>2.000000</td>\n",
       "      <td>1.000000</td>\n",
       "      <td>2.000000</td>\n",
       "      <td>NaN</td>\n",
       "      <td>NaN</td>\n",
       "      <td>NaN</td>\n",
       "    </tr>\n",
       "    <tr>\n",
       "      <th>50%</th>\n",
       "      <td>1.000000</td>\n",
       "      <td>7.500000</td>\n",
       "      <td>0.000000</td>\n",
       "      <td>0.000000</td>\n",
       "      <td>18.000000</td>\n",
       "      <td>598.936905</td>\n",
       "      <td>0.003112</td>\n",
       "      <td>0.025156</td>\n",
       "      <td>0.000000</td>\n",
       "      <td>0.000000</td>\n",
       "      <td>NaN</td>\n",
       "      <td>2.000000</td>\n",
       "      <td>2.000000</td>\n",
       "      <td>3.000000</td>\n",
       "      <td>2.000000</td>\n",
       "      <td>NaN</td>\n",
       "      <td>NaN</td>\n",
       "      <td>NaN</td>\n",
       "    </tr>\n",
       "    <tr>\n",
       "      <th>75%</th>\n",
       "      <td>4.000000</td>\n",
       "      <td>93.256250</td>\n",
       "      <td>0.000000</td>\n",
       "      <td>0.000000</td>\n",
       "      <td>38.000000</td>\n",
       "      <td>1464.157214</td>\n",
       "      <td>0.016813</td>\n",
       "      <td>0.050000</td>\n",
       "      <td>0.000000</td>\n",
       "      <td>0.000000</td>\n",
       "      <td>NaN</td>\n",
       "      <td>3.000000</td>\n",
       "      <td>2.000000</td>\n",
       "      <td>4.000000</td>\n",
       "      <td>4.000000</td>\n",
       "      <td>NaN</td>\n",
       "      <td>NaN</td>\n",
       "      <td>NaN</td>\n",
       "    </tr>\n",
       "    <tr>\n",
       "      <th>max</th>\n",
       "      <td>27.000000</td>\n",
       "      <td>3398.750000</td>\n",
       "      <td>24.000000</td>\n",
       "      <td>2549.375000</td>\n",
       "      <td>705.000000</td>\n",
       "      <td>63973.522230</td>\n",
       "      <td>0.200000</td>\n",
       "      <td>0.200000</td>\n",
       "      <td>361.763742</td>\n",
       "      <td>1.000000</td>\n",
       "      <td>NaN</td>\n",
       "      <td>8.000000</td>\n",
       "      <td>13.000000</td>\n",
       "      <td>9.000000</td>\n",
       "      <td>20.000000</td>\n",
       "      <td>NaN</td>\n",
       "      <td>NaN</td>\n",
       "      <td>NaN</td>\n",
       "    </tr>\n",
       "  </tbody>\n",
       "</table>\n",
       "</div>"
      ]
     },
     "execution_count": 60,
     "metadata": {},
     "output_type": "execute_result"
    }
   ],
   "execution_count": 60
  },
  {
   "cell_type": "code",
   "id": "619404bddacffcd3",
   "metadata": {
    "ExecuteTime": {
     "end_time": "2025-09-24T14:48:08.717667Z",
     "start_time": "2025-09-24T14:48:08.635273Z"
    }
   },
   "source": [
    "#visualisation\n",
    "# split the Browser 13 users from the rest\n",
    "frame13 = frame.loc[frame.Browser == 13]\n",
    "frameOther = frame.loc[frame.Browser != 13]\n",
    "\n",
    "import plotly.graph_objects as go\n",
    "# make a small dataframe with normalized data for plotting\n",
    "def create_distribution(frameColumn):\n",
    "    return pd.DataFrame({\n",
    "        'Browser 13': frame13[frameColumn].value_counts(normalize=True),\n",
    "        'Other browsers': frameOther[frameColumn].value_counts(normalize=True) \n",
    "    }).reset_index().rename(columns={'index': col}) \n",
    "# plot all these columns\n",
    "for col in ['VisitorType', 'Region', 'Month']:\n",
    "    distribution = create_distribution(col)\n",
    "    fig = go.Figure()\n",
    "    fig.add_trace(go.Bar(x=distribution[col], y=distribution['Browser 13'], name='Browser 13'))\n",
    "    fig.add_trace(go.Bar(x=distribution[col], y=distribution['Other browsers'], name='Other browsers'))\n",
    "    fig.update_layout(barmode='group', title=f'{col} Distribution')\n",
    "    fig.update_yaxes(title='Count')\n",
    "    fig.update_xaxes(title=f'{col}')\n",
    "    fig.show()"
   ],
   "outputs": [
    {
     "data": {
      "application/vnd.plotly.v1+json": {
       "data": [
        {
         "name": "Browser 13",
         "x": [
          "New_Visitor",
          "Other",
          "Returning_Visitor"
         ],
         "y": {
          "dtype": "f8",
          "bdata": "O9q8T3HJkD+f4pIhWEfrPzvavE9xycA/"
         },
         "type": "bar"
        },
        {
         "name": "Other browsers",
         "x": [
          "New_Visitor",
          "Other",
          "Returning_Visitor"
         ],
         "y": {
          "dtype": "f8",
          "bdata": "3UlcfaipwT/28yTJuAhmP5XI3yeNf+s/"
         },
         "type": "bar"
        }
       ],
       "layout": {
        "template": {
         "data": {
          "histogram2dcontour": [
           {
            "type": "histogram2dcontour",
            "colorbar": {
             "outlinewidth": 0,
             "ticks": ""
            },
            "colorscale": [
             [
              0.0,
              "#0d0887"
             ],
             [
              0.1111111111111111,
              "#46039f"
             ],
             [
              0.2222222222222222,
              "#7201a8"
             ],
             [
              0.3333333333333333,
              "#9c179e"
             ],
             [
              0.4444444444444444,
              "#bd3786"
             ],
             [
              0.5555555555555556,
              "#d8576b"
             ],
             [
              0.6666666666666666,
              "#ed7953"
             ],
             [
              0.7777777777777778,
              "#fb9f3a"
             ],
             [
              0.8888888888888888,
              "#fdca26"
             ],
             [
              1.0,
              "#f0f921"
             ]
            ]
           }
          ],
          "choropleth": [
           {
            "type": "choropleth",
            "colorbar": {
             "outlinewidth": 0,
             "ticks": ""
            }
           }
          ],
          "histogram2d": [
           {
            "type": "histogram2d",
            "colorbar": {
             "outlinewidth": 0,
             "ticks": ""
            },
            "colorscale": [
             [
              0.0,
              "#0d0887"
             ],
             [
              0.1111111111111111,
              "#46039f"
             ],
             [
              0.2222222222222222,
              "#7201a8"
             ],
             [
              0.3333333333333333,
              "#9c179e"
             ],
             [
              0.4444444444444444,
              "#bd3786"
             ],
             [
              0.5555555555555556,
              "#d8576b"
             ],
             [
              0.6666666666666666,
              "#ed7953"
             ],
             [
              0.7777777777777778,
              "#fb9f3a"
             ],
             [
              0.8888888888888888,
              "#fdca26"
             ],
             [
              1.0,
              "#f0f921"
             ]
            ]
           }
          ],
          "heatmap": [
           {
            "type": "heatmap",
            "colorbar": {
             "outlinewidth": 0,
             "ticks": ""
            },
            "colorscale": [
             [
              0.0,
              "#0d0887"
             ],
             [
              0.1111111111111111,
              "#46039f"
             ],
             [
              0.2222222222222222,
              "#7201a8"
             ],
             [
              0.3333333333333333,
              "#9c179e"
             ],
             [
              0.4444444444444444,
              "#bd3786"
             ],
             [
              0.5555555555555556,
              "#d8576b"
             ],
             [
              0.6666666666666666,
              "#ed7953"
             ],
             [
              0.7777777777777778,
              "#fb9f3a"
             ],
             [
              0.8888888888888888,
              "#fdca26"
             ],
             [
              1.0,
              "#f0f921"
             ]
            ]
           }
          ],
          "contourcarpet": [
           {
            "type": "contourcarpet",
            "colorbar": {
             "outlinewidth": 0,
             "ticks": ""
            }
           }
          ],
          "contour": [
           {
            "type": "contour",
            "colorbar": {
             "outlinewidth": 0,
             "ticks": ""
            },
            "colorscale": [
             [
              0.0,
              "#0d0887"
             ],
             [
              0.1111111111111111,
              "#46039f"
             ],
             [
              0.2222222222222222,
              "#7201a8"
             ],
             [
              0.3333333333333333,
              "#9c179e"
             ],
             [
              0.4444444444444444,
              "#bd3786"
             ],
             [
              0.5555555555555556,
              "#d8576b"
             ],
             [
              0.6666666666666666,
              "#ed7953"
             ],
             [
              0.7777777777777778,
              "#fb9f3a"
             ],
             [
              0.8888888888888888,
              "#fdca26"
             ],
             [
              1.0,
              "#f0f921"
             ]
            ]
           }
          ],
          "surface": [
           {
            "type": "surface",
            "colorbar": {
             "outlinewidth": 0,
             "ticks": ""
            },
            "colorscale": [
             [
              0.0,
              "#0d0887"
             ],
             [
              0.1111111111111111,
              "#46039f"
             ],
             [
              0.2222222222222222,
              "#7201a8"
             ],
             [
              0.3333333333333333,
              "#9c179e"
             ],
             [
              0.4444444444444444,
              "#bd3786"
             ],
             [
              0.5555555555555556,
              "#d8576b"
             ],
             [
              0.6666666666666666,
              "#ed7953"
             ],
             [
              0.7777777777777778,
              "#fb9f3a"
             ],
             [
              0.8888888888888888,
              "#fdca26"
             ],
             [
              1.0,
              "#f0f921"
             ]
            ]
           }
          ],
          "mesh3d": [
           {
            "type": "mesh3d",
            "colorbar": {
             "outlinewidth": 0,
             "ticks": ""
            }
           }
          ],
          "scatter": [
           {
            "marker": {
             "line": {
              "color": "#283442"
             }
            },
            "type": "scatter"
           }
          ],
          "parcoords": [
           {
            "type": "parcoords",
            "line": {
             "colorbar": {
              "outlinewidth": 0,
              "ticks": ""
             }
            }
           }
          ],
          "scatterpolargl": [
           {
            "type": "scatterpolargl",
            "marker": {
             "colorbar": {
              "outlinewidth": 0,
              "ticks": ""
             }
            }
           }
          ],
          "bar": [
           {
            "error_x": {
             "color": "#f2f5fa"
            },
            "error_y": {
             "color": "#f2f5fa"
            },
            "marker": {
             "line": {
              "color": "rgb(17,17,17)",
              "width": 0.5
             },
             "pattern": {
              "fillmode": "overlay",
              "size": 10,
              "solidity": 0.2
             }
            },
            "type": "bar"
           }
          ],
          "scattergeo": [
           {
            "type": "scattergeo",
            "marker": {
             "colorbar": {
              "outlinewidth": 0,
              "ticks": ""
             }
            }
           }
          ],
          "scatterpolar": [
           {
            "type": "scatterpolar",
            "marker": {
             "colorbar": {
              "outlinewidth": 0,
              "ticks": ""
             }
            }
           }
          ],
          "histogram": [
           {
            "marker": {
             "pattern": {
              "fillmode": "overlay",
              "size": 10,
              "solidity": 0.2
             }
            },
            "type": "histogram"
           }
          ],
          "scattergl": [
           {
            "marker": {
             "line": {
              "color": "#283442"
             }
            },
            "type": "scattergl"
           }
          ],
          "scatter3d": [
           {
            "type": "scatter3d",
            "line": {
             "colorbar": {
              "outlinewidth": 0,
              "ticks": ""
             }
            },
            "marker": {
             "colorbar": {
              "outlinewidth": 0,
              "ticks": ""
             }
            }
           }
          ],
          "scattermap": [
           {
            "type": "scattermap",
            "marker": {
             "colorbar": {
              "outlinewidth": 0,
              "ticks": ""
             }
            }
           }
          ],
          "scattermapbox": [
           {
            "type": "scattermapbox",
            "marker": {
             "colorbar": {
              "outlinewidth": 0,
              "ticks": ""
             }
            }
           }
          ],
          "scatterternary": [
           {
            "type": "scatterternary",
            "marker": {
             "colorbar": {
              "outlinewidth": 0,
              "ticks": ""
             }
            }
           }
          ],
          "scattercarpet": [
           {
            "type": "scattercarpet",
            "marker": {
             "colorbar": {
              "outlinewidth": 0,
              "ticks": ""
             }
            }
           }
          ],
          "carpet": [
           {
            "aaxis": {
             "endlinecolor": "#A2B1C6",
             "gridcolor": "#506784",
             "linecolor": "#506784",
             "minorgridcolor": "#506784",
             "startlinecolor": "#A2B1C6"
            },
            "baxis": {
             "endlinecolor": "#A2B1C6",
             "gridcolor": "#506784",
             "linecolor": "#506784",
             "minorgridcolor": "#506784",
             "startlinecolor": "#A2B1C6"
            },
            "type": "carpet"
           }
          ],
          "table": [
           {
            "cells": {
             "fill": {
              "color": "#506784"
             },
             "line": {
              "color": "rgb(17,17,17)"
             }
            },
            "header": {
             "fill": {
              "color": "#2a3f5f"
             },
             "line": {
              "color": "rgb(17,17,17)"
             }
            },
            "type": "table"
           }
          ],
          "barpolar": [
           {
            "marker": {
             "line": {
              "color": "rgb(17,17,17)",
              "width": 0.5
             },
             "pattern": {
              "fillmode": "overlay",
              "size": 10,
              "solidity": 0.2
             }
            },
            "type": "barpolar"
           }
          ],
          "pie": [
           {
            "automargin": true,
            "type": "pie"
           }
          ]
         },
         "layout": {
          "autotypenumbers": "strict",
          "colorway": [
           "#636efa",
           "#EF553B",
           "#00cc96",
           "#ab63fa",
           "#FFA15A",
           "#19d3f3",
           "#FF6692",
           "#B6E880",
           "#FF97FF",
           "#FECB52"
          ],
          "font": {
           "color": "#f2f5fa"
          },
          "hovermode": "closest",
          "hoverlabel": {
           "align": "left"
          },
          "paper_bgcolor": "rgb(17,17,17)",
          "plot_bgcolor": "rgb(17,17,17)",
          "polar": {
           "bgcolor": "rgb(17,17,17)",
           "angularaxis": {
            "gridcolor": "#506784",
            "linecolor": "#506784",
            "ticks": ""
           },
           "radialaxis": {
            "gridcolor": "#506784",
            "linecolor": "#506784",
            "ticks": ""
           }
          },
          "ternary": {
           "bgcolor": "rgb(17,17,17)",
           "aaxis": {
            "gridcolor": "#506784",
            "linecolor": "#506784",
            "ticks": ""
           },
           "baxis": {
            "gridcolor": "#506784",
            "linecolor": "#506784",
            "ticks": ""
           },
           "caxis": {
            "gridcolor": "#506784",
            "linecolor": "#506784",
            "ticks": ""
           }
          },
          "coloraxis": {
           "colorbar": {
            "outlinewidth": 0,
            "ticks": ""
           }
          },
          "colorscale": {
           "sequential": [
            [
             0.0,
             "#0d0887"
            ],
            [
             0.1111111111111111,
             "#46039f"
            ],
            [
             0.2222222222222222,
             "#7201a8"
            ],
            [
             0.3333333333333333,
             "#9c179e"
            ],
            [
             0.4444444444444444,
             "#bd3786"
            ],
            [
             0.5555555555555556,
             "#d8576b"
            ],
            [
             0.6666666666666666,
             "#ed7953"
            ],
            [
             0.7777777777777778,
             "#fb9f3a"
            ],
            [
             0.8888888888888888,
             "#fdca26"
            ],
            [
             1.0,
             "#f0f921"
            ]
           ],
           "sequentialminus": [
            [
             0.0,
             "#0d0887"
            ],
            [
             0.1111111111111111,
             "#46039f"
            ],
            [
             0.2222222222222222,
             "#7201a8"
            ],
            [
             0.3333333333333333,
             "#9c179e"
            ],
            [
             0.4444444444444444,
             "#bd3786"
            ],
            [
             0.5555555555555556,
             "#d8576b"
            ],
            [
             0.6666666666666666,
             "#ed7953"
            ],
            [
             0.7777777777777778,
             "#fb9f3a"
            ],
            [
             0.8888888888888888,
             "#fdca26"
            ],
            [
             1.0,
             "#f0f921"
            ]
           ],
           "diverging": [
            [
             0,
             "#8e0152"
            ],
            [
             0.1,
             "#c51b7d"
            ],
            [
             0.2,
             "#de77ae"
            ],
            [
             0.3,
             "#f1b6da"
            ],
            [
             0.4,
             "#fde0ef"
            ],
            [
             0.5,
             "#f7f7f7"
            ],
            [
             0.6,
             "#e6f5d0"
            ],
            [
             0.7,
             "#b8e186"
            ],
            [
             0.8,
             "#7fbc41"
            ],
            [
             0.9,
             "#4d9221"
            ],
            [
             1,
             "#276419"
            ]
           ]
          },
          "xaxis": {
           "gridcolor": "#283442",
           "linecolor": "#506784",
           "ticks": "",
           "title": {
            "standoff": 15
           },
           "zerolinecolor": "#283442",
           "automargin": true,
           "zerolinewidth": 2
          },
          "yaxis": {
           "gridcolor": "#283442",
           "linecolor": "#506784",
           "ticks": "",
           "title": {
            "standoff": 15
           },
           "zerolinecolor": "#283442",
           "automargin": true,
           "zerolinewidth": 2
          },
          "scene": {
           "xaxis": {
            "backgroundcolor": "rgb(17,17,17)",
            "gridcolor": "#506784",
            "linecolor": "#506784",
            "showbackground": true,
            "ticks": "",
            "zerolinecolor": "#C8D4E3",
            "gridwidth": 2
           },
           "yaxis": {
            "backgroundcolor": "rgb(17,17,17)",
            "gridcolor": "#506784",
            "linecolor": "#506784",
            "showbackground": true,
            "ticks": "",
            "zerolinecolor": "#C8D4E3",
            "gridwidth": 2
           },
           "zaxis": {
            "backgroundcolor": "rgb(17,17,17)",
            "gridcolor": "#506784",
            "linecolor": "#506784",
            "showbackground": true,
            "ticks": "",
            "zerolinecolor": "#C8D4E3",
            "gridwidth": 2
           }
          },
          "shapedefaults": {
           "line": {
            "color": "#f2f5fa"
           }
          },
          "annotationdefaults": {
           "arrowcolor": "#f2f5fa",
           "arrowhead": 0,
           "arrowwidth": 1
          },
          "geo": {
           "bgcolor": "rgb(17,17,17)",
           "landcolor": "rgb(17,17,17)",
           "subunitcolor": "#506784",
           "showland": true,
           "showlakes": true,
           "lakecolor": "rgb(17,17,17)"
          },
          "title": {
           "x": 0.05
          },
          "updatemenudefaults": {
           "bgcolor": "#506784",
           "borderwidth": 0
          },
          "sliderdefaults": {
           "bgcolor": "#C8D4E3",
           "borderwidth": 1,
           "bordercolor": "rgb(17,17,17)",
           "tickwidth": 0
          },
          "mapbox": {
           "style": "dark"
          }
         }
        },
        "barmode": "group",
        "title": {
         "text": "VisitorType Distribution"
        },
        "yaxis": {
         "title": {
          "text": "Count"
         }
        },
        "xaxis": {
         "title": {
          "text": "VisitorType"
         }
        }
       },
       "config": {
        "plotlyServerURL": "https://plot.ly"
       }
      }
     },
     "metadata": {},
     "output_type": "display_data"
    },
    {
     "data": {
      "application/vnd.plotly.v1+json": {
       "data": [
        {
         "name": "Browser 13",
         "x": {
          "dtype": "i1",
          "bdata": "AQIDBAUGBwgJ"
         },
         "y": {
          "dtype": "f8",
          "bdata": "AAAAAAAA+H8AAAAAAAD4fwAAAAAAAPh/AAAAAAAA+H8AAAAAAAD4fwAAAAAAAPh/AAAAAAAA+H8AAAAAAAD4fwAAAAAAAPA/"
         },
         "type": "bar"
        },
        {
         "name": "Other browsers",
         "x": {
          "dtype": "i1",
          "bdata": "AQIDBAUGBwgJ"
         },
         "y": {
          "dtype": "f8",
          "bdata": "fyaXBDTv2D9Ka1KaDLS3P2ULlm3sEck/tVyZMsOpuD/0gux9gYqaP8OA2Wj7y7A/3Jeaa+fBrz8itZOdgByiP3d+P/Fux6I/"
         },
         "type": "bar"
        }
       ],
       "layout": {
        "template": {
         "data": {
          "histogram2dcontour": [
           {
            "type": "histogram2dcontour",
            "colorbar": {
             "outlinewidth": 0,
             "ticks": ""
            },
            "colorscale": [
             [
              0.0,
              "#0d0887"
             ],
             [
              0.1111111111111111,
              "#46039f"
             ],
             [
              0.2222222222222222,
              "#7201a8"
             ],
             [
              0.3333333333333333,
              "#9c179e"
             ],
             [
              0.4444444444444444,
              "#bd3786"
             ],
             [
              0.5555555555555556,
              "#d8576b"
             ],
             [
              0.6666666666666666,
              "#ed7953"
             ],
             [
              0.7777777777777778,
              "#fb9f3a"
             ],
             [
              0.8888888888888888,
              "#fdca26"
             ],
             [
              1.0,
              "#f0f921"
             ]
            ]
           }
          ],
          "choropleth": [
           {
            "type": "choropleth",
            "colorbar": {
             "outlinewidth": 0,
             "ticks": ""
            }
           }
          ],
          "histogram2d": [
           {
            "type": "histogram2d",
            "colorbar": {
             "outlinewidth": 0,
             "ticks": ""
            },
            "colorscale": [
             [
              0.0,
              "#0d0887"
             ],
             [
              0.1111111111111111,
              "#46039f"
             ],
             [
              0.2222222222222222,
              "#7201a8"
             ],
             [
              0.3333333333333333,
              "#9c179e"
             ],
             [
              0.4444444444444444,
              "#bd3786"
             ],
             [
              0.5555555555555556,
              "#d8576b"
             ],
             [
              0.6666666666666666,
              "#ed7953"
             ],
             [
              0.7777777777777778,
              "#fb9f3a"
             ],
             [
              0.8888888888888888,
              "#fdca26"
             ],
             [
              1.0,
              "#f0f921"
             ]
            ]
           }
          ],
          "heatmap": [
           {
            "type": "heatmap",
            "colorbar": {
             "outlinewidth": 0,
             "ticks": ""
            },
            "colorscale": [
             [
              0.0,
              "#0d0887"
             ],
             [
              0.1111111111111111,
              "#46039f"
             ],
             [
              0.2222222222222222,
              "#7201a8"
             ],
             [
              0.3333333333333333,
              "#9c179e"
             ],
             [
              0.4444444444444444,
              "#bd3786"
             ],
             [
              0.5555555555555556,
              "#d8576b"
             ],
             [
              0.6666666666666666,
              "#ed7953"
             ],
             [
              0.7777777777777778,
              "#fb9f3a"
             ],
             [
              0.8888888888888888,
              "#fdca26"
             ],
             [
              1.0,
              "#f0f921"
             ]
            ]
           }
          ],
          "contourcarpet": [
           {
            "type": "contourcarpet",
            "colorbar": {
             "outlinewidth": 0,
             "ticks": ""
            }
           }
          ],
          "contour": [
           {
            "type": "contour",
            "colorbar": {
             "outlinewidth": 0,
             "ticks": ""
            },
            "colorscale": [
             [
              0.0,
              "#0d0887"
             ],
             [
              0.1111111111111111,
              "#46039f"
             ],
             [
              0.2222222222222222,
              "#7201a8"
             ],
             [
              0.3333333333333333,
              "#9c179e"
             ],
             [
              0.4444444444444444,
              "#bd3786"
             ],
             [
              0.5555555555555556,
              "#d8576b"
             ],
             [
              0.6666666666666666,
              "#ed7953"
             ],
             [
              0.7777777777777778,
              "#fb9f3a"
             ],
             [
              0.8888888888888888,
              "#fdca26"
             ],
             [
              1.0,
              "#f0f921"
             ]
            ]
           }
          ],
          "surface": [
           {
            "type": "surface",
            "colorbar": {
             "outlinewidth": 0,
             "ticks": ""
            },
            "colorscale": [
             [
              0.0,
              "#0d0887"
             ],
             [
              0.1111111111111111,
              "#46039f"
             ],
             [
              0.2222222222222222,
              "#7201a8"
             ],
             [
              0.3333333333333333,
              "#9c179e"
             ],
             [
              0.4444444444444444,
              "#bd3786"
             ],
             [
              0.5555555555555556,
              "#d8576b"
             ],
             [
              0.6666666666666666,
              "#ed7953"
             ],
             [
              0.7777777777777778,
              "#fb9f3a"
             ],
             [
              0.8888888888888888,
              "#fdca26"
             ],
             [
              1.0,
              "#f0f921"
             ]
            ]
           }
          ],
          "mesh3d": [
           {
            "type": "mesh3d",
            "colorbar": {
             "outlinewidth": 0,
             "ticks": ""
            }
           }
          ],
          "scatter": [
           {
            "marker": {
             "line": {
              "color": "#283442"
             }
            },
            "type": "scatter"
           }
          ],
          "parcoords": [
           {
            "type": "parcoords",
            "line": {
             "colorbar": {
              "outlinewidth": 0,
              "ticks": ""
             }
            }
           }
          ],
          "scatterpolargl": [
           {
            "type": "scatterpolargl",
            "marker": {
             "colorbar": {
              "outlinewidth": 0,
              "ticks": ""
             }
            }
           }
          ],
          "bar": [
           {
            "error_x": {
             "color": "#f2f5fa"
            },
            "error_y": {
             "color": "#f2f5fa"
            },
            "marker": {
             "line": {
              "color": "rgb(17,17,17)",
              "width": 0.5
             },
             "pattern": {
              "fillmode": "overlay",
              "size": 10,
              "solidity": 0.2
             }
            },
            "type": "bar"
           }
          ],
          "scattergeo": [
           {
            "type": "scattergeo",
            "marker": {
             "colorbar": {
              "outlinewidth": 0,
              "ticks": ""
             }
            }
           }
          ],
          "scatterpolar": [
           {
            "type": "scatterpolar",
            "marker": {
             "colorbar": {
              "outlinewidth": 0,
              "ticks": ""
             }
            }
           }
          ],
          "histogram": [
           {
            "marker": {
             "pattern": {
              "fillmode": "overlay",
              "size": 10,
              "solidity": 0.2
             }
            },
            "type": "histogram"
           }
          ],
          "scattergl": [
           {
            "marker": {
             "line": {
              "color": "#283442"
             }
            },
            "type": "scattergl"
           }
          ],
          "scatter3d": [
           {
            "type": "scatter3d",
            "line": {
             "colorbar": {
              "outlinewidth": 0,
              "ticks": ""
             }
            },
            "marker": {
             "colorbar": {
              "outlinewidth": 0,
              "ticks": ""
             }
            }
           }
          ],
          "scattermap": [
           {
            "type": "scattermap",
            "marker": {
             "colorbar": {
              "outlinewidth": 0,
              "ticks": ""
             }
            }
           }
          ],
          "scattermapbox": [
           {
            "type": "scattermapbox",
            "marker": {
             "colorbar": {
              "outlinewidth": 0,
              "ticks": ""
             }
            }
           }
          ],
          "scatterternary": [
           {
            "type": "scatterternary",
            "marker": {
             "colorbar": {
              "outlinewidth": 0,
              "ticks": ""
             }
            }
           }
          ],
          "scattercarpet": [
           {
            "type": "scattercarpet",
            "marker": {
             "colorbar": {
              "outlinewidth": 0,
              "ticks": ""
             }
            }
           }
          ],
          "carpet": [
           {
            "aaxis": {
             "endlinecolor": "#A2B1C6",
             "gridcolor": "#506784",
             "linecolor": "#506784",
             "minorgridcolor": "#506784",
             "startlinecolor": "#A2B1C6"
            },
            "baxis": {
             "endlinecolor": "#A2B1C6",
             "gridcolor": "#506784",
             "linecolor": "#506784",
             "minorgridcolor": "#506784",
             "startlinecolor": "#A2B1C6"
            },
            "type": "carpet"
           }
          ],
          "table": [
           {
            "cells": {
             "fill": {
              "color": "#506784"
             },
             "line": {
              "color": "rgb(17,17,17)"
             }
            },
            "header": {
             "fill": {
              "color": "#2a3f5f"
             },
             "line": {
              "color": "rgb(17,17,17)"
             }
            },
            "type": "table"
           }
          ],
          "barpolar": [
           {
            "marker": {
             "line": {
              "color": "rgb(17,17,17)",
              "width": 0.5
             },
             "pattern": {
              "fillmode": "overlay",
              "size": 10,
              "solidity": 0.2
             }
            },
            "type": "barpolar"
           }
          ],
          "pie": [
           {
            "automargin": true,
            "type": "pie"
           }
          ]
         },
         "layout": {
          "autotypenumbers": "strict",
          "colorway": [
           "#636efa",
           "#EF553B",
           "#00cc96",
           "#ab63fa",
           "#FFA15A",
           "#19d3f3",
           "#FF6692",
           "#B6E880",
           "#FF97FF",
           "#FECB52"
          ],
          "font": {
           "color": "#f2f5fa"
          },
          "hovermode": "closest",
          "hoverlabel": {
           "align": "left"
          },
          "paper_bgcolor": "rgb(17,17,17)",
          "plot_bgcolor": "rgb(17,17,17)",
          "polar": {
           "bgcolor": "rgb(17,17,17)",
           "angularaxis": {
            "gridcolor": "#506784",
            "linecolor": "#506784",
            "ticks": ""
           },
           "radialaxis": {
            "gridcolor": "#506784",
            "linecolor": "#506784",
            "ticks": ""
           }
          },
          "ternary": {
           "bgcolor": "rgb(17,17,17)",
           "aaxis": {
            "gridcolor": "#506784",
            "linecolor": "#506784",
            "ticks": ""
           },
           "baxis": {
            "gridcolor": "#506784",
            "linecolor": "#506784",
            "ticks": ""
           },
           "caxis": {
            "gridcolor": "#506784",
            "linecolor": "#506784",
            "ticks": ""
           }
          },
          "coloraxis": {
           "colorbar": {
            "outlinewidth": 0,
            "ticks": ""
           }
          },
          "colorscale": {
           "sequential": [
            [
             0.0,
             "#0d0887"
            ],
            [
             0.1111111111111111,
             "#46039f"
            ],
            [
             0.2222222222222222,
             "#7201a8"
            ],
            [
             0.3333333333333333,
             "#9c179e"
            ],
            [
             0.4444444444444444,
             "#bd3786"
            ],
            [
             0.5555555555555556,
             "#d8576b"
            ],
            [
             0.6666666666666666,
             "#ed7953"
            ],
            [
             0.7777777777777778,
             "#fb9f3a"
            ],
            [
             0.8888888888888888,
             "#fdca26"
            ],
            [
             1.0,
             "#f0f921"
            ]
           ],
           "sequentialminus": [
            [
             0.0,
             "#0d0887"
            ],
            [
             0.1111111111111111,
             "#46039f"
            ],
            [
             0.2222222222222222,
             "#7201a8"
            ],
            [
             0.3333333333333333,
             "#9c179e"
            ],
            [
             0.4444444444444444,
             "#bd3786"
            ],
            [
             0.5555555555555556,
             "#d8576b"
            ],
            [
             0.6666666666666666,
             "#ed7953"
            ],
            [
             0.7777777777777778,
             "#fb9f3a"
            ],
            [
             0.8888888888888888,
             "#fdca26"
            ],
            [
             1.0,
             "#f0f921"
            ]
           ],
           "diverging": [
            [
             0,
             "#8e0152"
            ],
            [
             0.1,
             "#c51b7d"
            ],
            [
             0.2,
             "#de77ae"
            ],
            [
             0.3,
             "#f1b6da"
            ],
            [
             0.4,
             "#fde0ef"
            ],
            [
             0.5,
             "#f7f7f7"
            ],
            [
             0.6,
             "#e6f5d0"
            ],
            [
             0.7,
             "#b8e186"
            ],
            [
             0.8,
             "#7fbc41"
            ],
            [
             0.9,
             "#4d9221"
            ],
            [
             1,
             "#276419"
            ]
           ]
          },
          "xaxis": {
           "gridcolor": "#283442",
           "linecolor": "#506784",
           "ticks": "",
           "title": {
            "standoff": 15
           },
           "zerolinecolor": "#283442",
           "automargin": true,
           "zerolinewidth": 2
          },
          "yaxis": {
           "gridcolor": "#283442",
           "linecolor": "#506784",
           "ticks": "",
           "title": {
            "standoff": 15
           },
           "zerolinecolor": "#283442",
           "automargin": true,
           "zerolinewidth": 2
          },
          "scene": {
           "xaxis": {
            "backgroundcolor": "rgb(17,17,17)",
            "gridcolor": "#506784",
            "linecolor": "#506784",
            "showbackground": true,
            "ticks": "",
            "zerolinecolor": "#C8D4E3",
            "gridwidth": 2
           },
           "yaxis": {
            "backgroundcolor": "rgb(17,17,17)",
            "gridcolor": "#506784",
            "linecolor": "#506784",
            "showbackground": true,
            "ticks": "",
            "zerolinecolor": "#C8D4E3",
            "gridwidth": 2
           },
           "zaxis": {
            "backgroundcolor": "rgb(17,17,17)",
            "gridcolor": "#506784",
            "linecolor": "#506784",
            "showbackground": true,
            "ticks": "",
            "zerolinecolor": "#C8D4E3",
            "gridwidth": 2
           }
          },
          "shapedefaults": {
           "line": {
            "color": "#f2f5fa"
           }
          },
          "annotationdefaults": {
           "arrowcolor": "#f2f5fa",
           "arrowhead": 0,
           "arrowwidth": 1
          },
          "geo": {
           "bgcolor": "rgb(17,17,17)",
           "landcolor": "rgb(17,17,17)",
           "subunitcolor": "#506784",
           "showland": true,
           "showlakes": true,
           "lakecolor": "rgb(17,17,17)"
          },
          "title": {
           "x": 0.05
          },
          "updatemenudefaults": {
           "bgcolor": "#506784",
           "borderwidth": 0
          },
          "sliderdefaults": {
           "bgcolor": "#C8D4E3",
           "borderwidth": 1,
           "bordercolor": "rgb(17,17,17)",
           "tickwidth": 0
          },
          "mapbox": {
           "style": "dark"
          }
         }
        },
        "barmode": "group",
        "title": {
         "text": "Region Distribution"
        },
        "yaxis": {
         "title": {
          "text": "Count"
         }
        },
        "xaxis": {
         "title": {
          "text": "Region"
         }
        }
       },
       "config": {
        "plotlyServerURL": "https://plot.ly"
       }
      }
     },
     "metadata": {},
     "output_type": "display_data"
    },
    {
     "data": {
      "application/vnd.plotly.v1+json": {
       "data": [
        {
         "name": "Browser 13",
         "x": [
          "Aug",
          "Dec",
          "Feb",
          "Jul",
          "June",
          "Mar",
          "May",
          "Nov",
          "Oct",
          "Sep"
         ],
         "y": {
          "dtype": "f8",
          "bdata": "AAAAAAAA+H/nfYpLhmDtPwAAAAAAAPh/AAAAAAAA+H872rxPccmQPwAAAAAAAPh/AAAAAAAA+H872rxPccmwPwAAAAAAAPh/AAAAAAAA+H8="
         },
         "type": "bar"
        },
        {
         "name": "Other browsers",
         "x": [
          "Aug",
          "Dec",
          "Feb",
          "Jul",
          "June",
          "Mar",
          "May",
          "Nov",
          "Oct",
          "Sep"
         ],
         "y": {
          "dtype": "f8",
          "bdata": "jfhYuNERoj+oPJmQ5m7BP0ct3gjTto4/+Dse0yIHoj/K1rL5JfSXPxKzImU15cM/Q8P6hkeM0T+SYjw6XTzPPzVs9pYR6aY/TQXKJhGyoj8="
         },
         "type": "bar"
        }
       ],
       "layout": {
        "template": {
         "data": {
          "histogram2dcontour": [
           {
            "type": "histogram2dcontour",
            "colorbar": {
             "outlinewidth": 0,
             "ticks": ""
            },
            "colorscale": [
             [
              0.0,
              "#0d0887"
             ],
             [
              0.1111111111111111,
              "#46039f"
             ],
             [
              0.2222222222222222,
              "#7201a8"
             ],
             [
              0.3333333333333333,
              "#9c179e"
             ],
             [
              0.4444444444444444,
              "#bd3786"
             ],
             [
              0.5555555555555556,
              "#d8576b"
             ],
             [
              0.6666666666666666,
              "#ed7953"
             ],
             [
              0.7777777777777778,
              "#fb9f3a"
             ],
             [
              0.8888888888888888,
              "#fdca26"
             ],
             [
              1.0,
              "#f0f921"
             ]
            ]
           }
          ],
          "choropleth": [
           {
            "type": "choropleth",
            "colorbar": {
             "outlinewidth": 0,
             "ticks": ""
            }
           }
          ],
          "histogram2d": [
           {
            "type": "histogram2d",
            "colorbar": {
             "outlinewidth": 0,
             "ticks": ""
            },
            "colorscale": [
             [
              0.0,
              "#0d0887"
             ],
             [
              0.1111111111111111,
              "#46039f"
             ],
             [
              0.2222222222222222,
              "#7201a8"
             ],
             [
              0.3333333333333333,
              "#9c179e"
             ],
             [
              0.4444444444444444,
              "#bd3786"
             ],
             [
              0.5555555555555556,
              "#d8576b"
             ],
             [
              0.6666666666666666,
              "#ed7953"
             ],
             [
              0.7777777777777778,
              "#fb9f3a"
             ],
             [
              0.8888888888888888,
              "#fdca26"
             ],
             [
              1.0,
              "#f0f921"
             ]
            ]
           }
          ],
          "heatmap": [
           {
            "type": "heatmap",
            "colorbar": {
             "outlinewidth": 0,
             "ticks": ""
            },
            "colorscale": [
             [
              0.0,
              "#0d0887"
             ],
             [
              0.1111111111111111,
              "#46039f"
             ],
             [
              0.2222222222222222,
              "#7201a8"
             ],
             [
              0.3333333333333333,
              "#9c179e"
             ],
             [
              0.4444444444444444,
              "#bd3786"
             ],
             [
              0.5555555555555556,
              "#d8576b"
             ],
             [
              0.6666666666666666,
              "#ed7953"
             ],
             [
              0.7777777777777778,
              "#fb9f3a"
             ],
             [
              0.8888888888888888,
              "#fdca26"
             ],
             [
              1.0,
              "#f0f921"
             ]
            ]
           }
          ],
          "contourcarpet": [
           {
            "type": "contourcarpet",
            "colorbar": {
             "outlinewidth": 0,
             "ticks": ""
            }
           }
          ],
          "contour": [
           {
            "type": "contour",
            "colorbar": {
             "outlinewidth": 0,
             "ticks": ""
            },
            "colorscale": [
             [
              0.0,
              "#0d0887"
             ],
             [
              0.1111111111111111,
              "#46039f"
             ],
             [
              0.2222222222222222,
              "#7201a8"
             ],
             [
              0.3333333333333333,
              "#9c179e"
             ],
             [
              0.4444444444444444,
              "#bd3786"
             ],
             [
              0.5555555555555556,
              "#d8576b"
             ],
             [
              0.6666666666666666,
              "#ed7953"
             ],
             [
              0.7777777777777778,
              "#fb9f3a"
             ],
             [
              0.8888888888888888,
              "#fdca26"
             ],
             [
              1.0,
              "#f0f921"
             ]
            ]
           }
          ],
          "surface": [
           {
            "type": "surface",
            "colorbar": {
             "outlinewidth": 0,
             "ticks": ""
            },
            "colorscale": [
             [
              0.0,
              "#0d0887"
             ],
             [
              0.1111111111111111,
              "#46039f"
             ],
             [
              0.2222222222222222,
              "#7201a8"
             ],
             [
              0.3333333333333333,
              "#9c179e"
             ],
             [
              0.4444444444444444,
              "#bd3786"
             ],
             [
              0.5555555555555556,
              "#d8576b"
             ],
             [
              0.6666666666666666,
              "#ed7953"
             ],
             [
              0.7777777777777778,
              "#fb9f3a"
             ],
             [
              0.8888888888888888,
              "#fdca26"
             ],
             [
              1.0,
              "#f0f921"
             ]
            ]
           }
          ],
          "mesh3d": [
           {
            "type": "mesh3d",
            "colorbar": {
             "outlinewidth": 0,
             "ticks": ""
            }
           }
          ],
          "scatter": [
           {
            "marker": {
             "line": {
              "color": "#283442"
             }
            },
            "type": "scatter"
           }
          ],
          "parcoords": [
           {
            "type": "parcoords",
            "line": {
             "colorbar": {
              "outlinewidth": 0,
              "ticks": ""
             }
            }
           }
          ],
          "scatterpolargl": [
           {
            "type": "scatterpolargl",
            "marker": {
             "colorbar": {
              "outlinewidth": 0,
              "ticks": ""
             }
            }
           }
          ],
          "bar": [
           {
            "error_x": {
             "color": "#f2f5fa"
            },
            "error_y": {
             "color": "#f2f5fa"
            },
            "marker": {
             "line": {
              "color": "rgb(17,17,17)",
              "width": 0.5
             },
             "pattern": {
              "fillmode": "overlay",
              "size": 10,
              "solidity": 0.2
             }
            },
            "type": "bar"
           }
          ],
          "scattergeo": [
           {
            "type": "scattergeo",
            "marker": {
             "colorbar": {
              "outlinewidth": 0,
              "ticks": ""
             }
            }
           }
          ],
          "scatterpolar": [
           {
            "type": "scatterpolar",
            "marker": {
             "colorbar": {
              "outlinewidth": 0,
              "ticks": ""
             }
            }
           }
          ],
          "histogram": [
           {
            "marker": {
             "pattern": {
              "fillmode": "overlay",
              "size": 10,
              "solidity": 0.2
             }
            },
            "type": "histogram"
           }
          ],
          "scattergl": [
           {
            "marker": {
             "line": {
              "color": "#283442"
             }
            },
            "type": "scattergl"
           }
          ],
          "scatter3d": [
           {
            "type": "scatter3d",
            "line": {
             "colorbar": {
              "outlinewidth": 0,
              "ticks": ""
             }
            },
            "marker": {
             "colorbar": {
              "outlinewidth": 0,
              "ticks": ""
             }
            }
           }
          ],
          "scattermap": [
           {
            "type": "scattermap",
            "marker": {
             "colorbar": {
              "outlinewidth": 0,
              "ticks": ""
             }
            }
           }
          ],
          "scattermapbox": [
           {
            "type": "scattermapbox",
            "marker": {
             "colorbar": {
              "outlinewidth": 0,
              "ticks": ""
             }
            }
           }
          ],
          "scatterternary": [
           {
            "type": "scatterternary",
            "marker": {
             "colorbar": {
              "outlinewidth": 0,
              "ticks": ""
             }
            }
           }
          ],
          "scattercarpet": [
           {
            "type": "scattercarpet",
            "marker": {
             "colorbar": {
              "outlinewidth": 0,
              "ticks": ""
             }
            }
           }
          ],
          "carpet": [
           {
            "aaxis": {
             "endlinecolor": "#A2B1C6",
             "gridcolor": "#506784",
             "linecolor": "#506784",
             "minorgridcolor": "#506784",
             "startlinecolor": "#A2B1C6"
            },
            "baxis": {
             "endlinecolor": "#A2B1C6",
             "gridcolor": "#506784",
             "linecolor": "#506784",
             "minorgridcolor": "#506784",
             "startlinecolor": "#A2B1C6"
            },
            "type": "carpet"
           }
          ],
          "table": [
           {
            "cells": {
             "fill": {
              "color": "#506784"
             },
             "line": {
              "color": "rgb(17,17,17)"
             }
            },
            "header": {
             "fill": {
              "color": "#2a3f5f"
             },
             "line": {
              "color": "rgb(17,17,17)"
             }
            },
            "type": "table"
           }
          ],
          "barpolar": [
           {
            "marker": {
             "line": {
              "color": "rgb(17,17,17)",
              "width": 0.5
             },
             "pattern": {
              "fillmode": "overlay",
              "size": 10,
              "solidity": 0.2
             }
            },
            "type": "barpolar"
           }
          ],
          "pie": [
           {
            "automargin": true,
            "type": "pie"
           }
          ]
         },
         "layout": {
          "autotypenumbers": "strict",
          "colorway": [
           "#636efa",
           "#EF553B",
           "#00cc96",
           "#ab63fa",
           "#FFA15A",
           "#19d3f3",
           "#FF6692",
           "#B6E880",
           "#FF97FF",
           "#FECB52"
          ],
          "font": {
           "color": "#f2f5fa"
          },
          "hovermode": "closest",
          "hoverlabel": {
           "align": "left"
          },
          "paper_bgcolor": "rgb(17,17,17)",
          "plot_bgcolor": "rgb(17,17,17)",
          "polar": {
           "bgcolor": "rgb(17,17,17)",
           "angularaxis": {
            "gridcolor": "#506784",
            "linecolor": "#506784",
            "ticks": ""
           },
           "radialaxis": {
            "gridcolor": "#506784",
            "linecolor": "#506784",
            "ticks": ""
           }
          },
          "ternary": {
           "bgcolor": "rgb(17,17,17)",
           "aaxis": {
            "gridcolor": "#506784",
            "linecolor": "#506784",
            "ticks": ""
           },
           "baxis": {
            "gridcolor": "#506784",
            "linecolor": "#506784",
            "ticks": ""
           },
           "caxis": {
            "gridcolor": "#506784",
            "linecolor": "#506784",
            "ticks": ""
           }
          },
          "coloraxis": {
           "colorbar": {
            "outlinewidth": 0,
            "ticks": ""
           }
          },
          "colorscale": {
           "sequential": [
            [
             0.0,
             "#0d0887"
            ],
            [
             0.1111111111111111,
             "#46039f"
            ],
            [
             0.2222222222222222,
             "#7201a8"
            ],
            [
             0.3333333333333333,
             "#9c179e"
            ],
            [
             0.4444444444444444,
             "#bd3786"
            ],
            [
             0.5555555555555556,
             "#d8576b"
            ],
            [
             0.6666666666666666,
             "#ed7953"
            ],
            [
             0.7777777777777778,
             "#fb9f3a"
            ],
            [
             0.8888888888888888,
             "#fdca26"
            ],
            [
             1.0,
             "#f0f921"
            ]
           ],
           "sequentialminus": [
            [
             0.0,
             "#0d0887"
            ],
            [
             0.1111111111111111,
             "#46039f"
            ],
            [
             0.2222222222222222,
             "#7201a8"
            ],
            [
             0.3333333333333333,
             "#9c179e"
            ],
            [
             0.4444444444444444,
             "#bd3786"
            ],
            [
             0.5555555555555556,
             "#d8576b"
            ],
            [
             0.6666666666666666,
             "#ed7953"
            ],
            [
             0.7777777777777778,
             "#fb9f3a"
            ],
            [
             0.8888888888888888,
             "#fdca26"
            ],
            [
             1.0,
             "#f0f921"
            ]
           ],
           "diverging": [
            [
             0,
             "#8e0152"
            ],
            [
             0.1,
             "#c51b7d"
            ],
            [
             0.2,
             "#de77ae"
            ],
            [
             0.3,
             "#f1b6da"
            ],
            [
             0.4,
             "#fde0ef"
            ],
            [
             0.5,
             "#f7f7f7"
            ],
            [
             0.6,
             "#e6f5d0"
            ],
            [
             0.7,
             "#b8e186"
            ],
            [
             0.8,
             "#7fbc41"
            ],
            [
             0.9,
             "#4d9221"
            ],
            [
             1,
             "#276419"
            ]
           ]
          },
          "xaxis": {
           "gridcolor": "#283442",
           "linecolor": "#506784",
           "ticks": "",
           "title": {
            "standoff": 15
           },
           "zerolinecolor": "#283442",
           "automargin": true,
           "zerolinewidth": 2
          },
          "yaxis": {
           "gridcolor": "#283442",
           "linecolor": "#506784",
           "ticks": "",
           "title": {
            "standoff": 15
           },
           "zerolinecolor": "#283442",
           "automargin": true,
           "zerolinewidth": 2
          },
          "scene": {
           "xaxis": {
            "backgroundcolor": "rgb(17,17,17)",
            "gridcolor": "#506784",
            "linecolor": "#506784",
            "showbackground": true,
            "ticks": "",
            "zerolinecolor": "#C8D4E3",
            "gridwidth": 2
           },
           "yaxis": {
            "backgroundcolor": "rgb(17,17,17)",
            "gridcolor": "#506784",
            "linecolor": "#506784",
            "showbackground": true,
            "ticks": "",
            "zerolinecolor": "#C8D4E3",
            "gridwidth": 2
           },
           "zaxis": {
            "backgroundcolor": "rgb(17,17,17)",
            "gridcolor": "#506784",
            "linecolor": "#506784",
            "showbackground": true,
            "ticks": "",
            "zerolinecolor": "#C8D4E3",
            "gridwidth": 2
           }
          },
          "shapedefaults": {
           "line": {
            "color": "#f2f5fa"
           }
          },
          "annotationdefaults": {
           "arrowcolor": "#f2f5fa",
           "arrowhead": 0,
           "arrowwidth": 1
          },
          "geo": {
           "bgcolor": "rgb(17,17,17)",
           "landcolor": "rgb(17,17,17)",
           "subunitcolor": "#506784",
           "showland": true,
           "showlakes": true,
           "lakecolor": "rgb(17,17,17)"
          },
          "title": {
           "x": 0.05
          },
          "updatemenudefaults": {
           "bgcolor": "#506784",
           "borderwidth": 0
          },
          "sliderdefaults": {
           "bgcolor": "#C8D4E3",
           "borderwidth": 1,
           "bordercolor": "rgb(17,17,17)",
           "tickwidth": 0
          },
          "mapbox": {
           "style": "dark"
          }
         }
        },
        "barmode": "group",
        "title": {
         "text": "Month Distribution"
        },
        "yaxis": {
         "title": {
          "text": "Count"
         }
        },
        "xaxis": {
         "title": {
          "text": "Month"
         }
        }
       },
       "config": {
        "plotlyServerURL": "https://plot.ly"
       }
      }
     },
     "metadata": {},
     "output_type": "display_data"
    }
   ],
   "execution_count": 61
  },
  {
   "cell_type": "markdown",
   "id": "e1d6f54fce662810",
   "metadata": {},
   "source": [
    "Task 2"
   ]
  },
  {
   "cell_type": "code",
   "id": "b3be118550c59a04",
   "metadata": {
    "ExecuteTime": {
     "end_time": "2025-09-24T14:48:08.796097Z",
     "start_time": "2025-09-24T14:48:08.719676Z"
    }
   },
   "source": [
    "#Prepositioning op basis van algoritmes in task 3\n",
    "# Preprocess by changing all string types to an integer\n",
    "def to_num(x):\n",
    "    data = {\n",
    "        \"Jan\": 1, \"Feb\": 2, \"Mar\": 3, \"Apr\": 4,\n",
    "        \"May\": 5, \"June\": 6, \"Jul\": 7, \"Aug\": 8,\n",
    "        \"Sep\": 9, \"Oct\": 10, \"Nov\": 11, \"Dec\": 12, \n",
    "        \"Returning_Visitor\": 1, \"Old_Visitor\": 2, \"New_Visitor\": 3, \"Other\": 4, \n",
    "        True: 1, False: 0\n",
    "    }\n",
    "    if x not in data:\n",
    "        raise ValueError(f\"Invalid month string: {x}\")\n",
    "    return data[x]\n",
    "\n",
    "preprocessed = (frame.copy().dropna()) # dropna() is added here for a case where the dataset would include missing values, but does nothing with the original dataset as it does not contain any\n",
    "# converts strings and booleans to numbers\n",
    "columns = ['Month', 'VisitorType', 'Weekend', 'Revenue']\n",
    "for column in columns:\n",
    "    addlist = []\n",
    "    for i, j in enumerate(preprocessed[column]):\n",
    "        addlist.append(to_num(j))\n",
    "    preprocessed[column] = addlist\n",
    "\n",
    "preprocessed = (preprocessed-preprocessed.min())/(preprocessed.max()-preprocessed.min()) # Normalization\n",
    "print(preprocessed)\n"
   ],
   "outputs": [
    {
     "name": "stdout",
     "output_type": "stream",
     "text": [
      "       Administrative  Administrative_Duration  Informational  \\\n",
      "0            0.000000                 0.000000            0.0   \n",
      "1            0.000000                 0.000000            0.0   \n",
      "2            0.000000                 0.000000            0.0   \n",
      "3            0.000000                 0.000000            0.0   \n",
      "4            0.000000                 0.000000            0.0   \n",
      "...               ...                      ...            ...   \n",
      "12325        0.111111                 0.042663            0.0   \n",
      "12326        0.000000                 0.000000            0.0   \n",
      "12327        0.000000                 0.000000            0.0   \n",
      "12328        0.148148                 0.022067            0.0   \n",
      "12329        0.000000                 0.000000            0.0   \n",
      "\n",
      "       Informational_Duration  ProductRelated  ProductRelated_Duration  \\\n",
      "0                         0.0        0.001418                 0.000000   \n",
      "1                         0.0        0.002837                 0.001000   \n",
      "2                         0.0        0.001418                 0.000000   \n",
      "3                         0.0        0.002837                 0.000042   \n",
      "4                         0.0        0.014184                 0.009809   \n",
      "...                       ...             ...                      ...   \n",
      "12325                     0.0        0.075177                 0.027883   \n",
      "12326                     0.0        0.007092                 0.007280   \n",
      "12327                     0.0        0.008511                 0.002880   \n",
      "12328                     0.0        0.021277                 0.005408   \n",
      "12329                     0.0        0.004255                 0.000332   \n",
      "\n",
      "       BounceRates  ExitRates  PageValues  SpecialDay     Month  \\\n",
      "0         1.000000   1.000000    0.000000         0.0 -2.000000   \n",
      "1         0.000000   0.500000    0.000000         0.0 -2.000000   \n",
      "2         1.000000   1.000000    0.000000         0.0 -2.000000   \n",
      "3         0.250000   0.700000    0.000000         0.0 -2.000000   \n",
      "4         0.100000   0.250000    0.000000         0.0 -2.000000   \n",
      "...            ...        ...         ...         ...       ...   \n",
      "12325     0.035714   0.145153    0.033839         0.0 -1.166667   \n",
      "12326     0.000000   0.106667    0.000000         0.0 -1.250000   \n",
      "12327     0.416667   0.433333    0.000000         0.0 -1.250000   \n",
      "12328     0.000000   0.105263    0.000000         0.0 -1.250000   \n",
      "12329     0.000000   0.333333    0.000000         0.0 -1.250000   \n",
      "\n",
      "       OperatingSystems   Browser    Region  TrafficType  VisitorType  \\\n",
      "0                -1.000 -1.000000 -1.000000        -1.00         -1.0   \n",
      "1                -0.875 -0.923077 -1.000000        -0.95         -1.0   \n",
      "2                -0.625 -1.000000 -0.111111        -0.90         -1.0   \n",
      "3                -0.750 -0.923077 -0.888889        -0.85         -1.0   \n",
      "4                -0.750 -0.846154 -1.000000        -0.85         -1.0   \n",
      "...                 ...       ...       ...          ...          ...   \n",
      "12325            -0.625 -0.615385 -1.000000        -1.00         -1.0   \n",
      "12326            -0.750 -0.923077 -1.000000        -0.65         -1.0   \n",
      "12327            -0.750 -0.923077 -1.000000        -0.40         -1.0   \n",
      "12328            -0.875 -0.923077 -0.777778        -0.50         -1.0   \n",
      "12329            -0.750 -0.923077 -1.000000        -0.95         -0.5   \n",
      "\n",
      "       Weekend  Revenue  \n",
      "0          0.0      0.0  \n",
      "1          0.0      0.0  \n",
      "2          0.0      0.0  \n",
      "3          0.0      0.0  \n",
      "4          1.0      0.0  \n",
      "...        ...      ...  \n",
      "12325      1.0      0.0  \n",
      "12326      1.0      0.0  \n",
      "12327      1.0      0.0  \n",
      "12328      0.0      0.0  \n",
      "12329      1.0      0.0  \n",
      "\n",
      "[12330 rows x 18 columns]\n"
     ]
    }
   ],
   "execution_count": 62
  },
  {
   "cell_type": "markdown",
   "id": "ca05fe789cf17ab3",
   "metadata": {},
   "source": [
    "Task 3"
   ]
  },
  {
   "cell_type": "code",
   "id": "a64c29fcca7de65f",
   "metadata": {
    "ExecuteTime": {
     "end_time": "2025-09-24T14:51:32.138425Z",
     "start_time": "2025-09-24T14:51:30.600599Z"
    }
   },
   "source": [
    "# affinity propagation clustering - based on documentation - VERY SLOW FOR WHOLE DATASET\n",
    "from sklearn.cluster import AffinityPropagation, DBSCAN, Birch\n",
    "import plotly.express as px\n",
    "Data = preprocessed.copy()\n",
    "# By sampling it goes faster\n",
    "Sample = Data.sample(n=1000)\n",
    "clustering = AffinityPropagation(random_state=2).fit(Sample)\n",
    "AffinityPropagation(random_state=2)\n",
    "\n",
    "labels = clustering.labels_\n",
    "cluster_centers = clustering.cluster_centers_\n",
    "\n",
    "\n",
    "# DBSCAN clustering\n",
    "# It works, but a lot of datapoints get labeled -1, meaning there is a lot of noise\n",
    "# It has less clusters compared to the other methods\n",
    "clustering2 = DBSCAN().fit(Data)\n",
    "labels2 = clustering2.labels_\n",
    "\n",
    "# Birch clustering\n",
    "clustering3 = Birch(n_clusters=None).fit(Data)\n",
    "labels3 = clustering3.labels_\n",
    "\n",
    "fig = px.scatter(Sample, labels)\n",
    "fig.update_layout(title='Affinity Propagation')\n",
    "fig.update_xaxes(title='Clusters')\n",
    "fig.show()\n",
    "fig = px.scatter(Data, labels2)\n",
    "fig.update_layout(title='DBSCAN')\n",
    "fig.update_xaxes(title='Clusters')\n",
    "fig.show()\n",
    "fig = px.scatter(Data, labels3)\n",
    "fig.update_layout(title='Birch')\n",
    "fig.update_xaxes(title='Clusters')\n",
    "fig.show()\n"
   ],
   "outputs": [
    {
     "data": {
      "application/vnd.plotly.v1+json": {
       "data": [
        {
         "hovertemplate": "x=%{x}<br>index=%{y}<extra></extra>",
         "legendgroup": "",
         "marker": {
          "color": "#636efa",
          "symbol": "circle"
         },
         "mode": "markers",
         "name": "",
         "orientation": "h",
         "showlegend": false,
         "x": {
          "dtype": "i1",
          "bdata": "IA4lJCAdCwkrFC0ULyIhDSMUHRggByAiEhQiGwglMgsHHS4lIh0hEywoKBIiJQccFAUNFCkaCB0lERIeMjAHIQgHHgAiAQ8SLTAHBy8LEwIsLCQiAxshAyAOLiIKMiUaLAgtDCMLDyEaGg0nLCsvAyEcFyMlFxMdIiouMhQCDgcHMCUGDSUyGCwFDiQdLC8UBC8nLBQGIhAICSACLw4dEgUJBhQUIgsDGhQiIhIuACMuCAghLiQxJA4LCCUkMS4lBQcTESEUCyAgJQgiLQ4nKxElFx0uBwguEi0CBiQPEgkRICghBh0THCUyJwouIhQkMAIfAhQlJTIGIQssLQgBCQcwHS0aBiAAKBMyIioLHTAhBhQrFBMZADEuKA0SCyUAFC8uByQhEiIuMgYFDCIiLi8FACQTDSwCHRgLICMuIggOLSchEiMKGhIUCB0eDiQoAQYuGwcSExQPJR0iIiUvLjADFSUdHisQLgMrLCwaLy8GESIhCA8TBhQyJActKwcDDR0jACEDLhMJEyIlHScFEiEUKwsSEgYNESQlFyIxFBMIBSIvLzIOBy4SCywYGisdER0CICQiFC4mBQkUAAYbDhMsJQgHEx4TIi4uLTEUDyIuGyUPBg0AFBQlFTAsGBESAiotEy0iJS0pDwUSHA0cIgoeExYGDiEjBjAuICoLDycFLx4UEwchIxclBxgjDi0CHS4ZLAoLGhIuKSIkMBMyGC4UDxEaBy4xEywvGggHLBsKHQIgIg8wFBwdHSABMB4DHxoOLhgYFg0tCCUfAQ4sMCIgGBEHHCAqLB0FDyAuLgEwCyIFCyUtIR0gEwkHBy8iISIsIw8GBwEDJCQuJAIULxopCS8PFCwkABQSBxoRJQclLy8lJRkTJSIlIQgdKAIvBxkLDSEwFjAeGA8dMgceLggTFBQHAi4OKykMCyUOMiIiIhQkLQcmLBowKCwBIS8HJy4ABi4aLQgvIgAlASUdIiMTICMiIi8SJhEHITINIiADAiUnAB0gGBIwLCUlGxIoLCUlLCEyJxUpFBglJRMkIB0UKSkqJAYBKDEGLgsvHS0vAQEIAxYsLQsGDiIUMRIiBiUuISUUBwUvBiItEiwoLhArHS4dIRQoCScAHwIPEAoBLB0xLAYUMAclISEhBywwLh0nMSEFLg8uLiQSGhESCyUQBw0WBRoABQonAwkYEhAWLC4xISMaLR8PCwETMC8ALiAHFg4PLjIkLRMkLgYfExMYJBUpEyIlJQ0RLwAgDS4NDiIhBiIQLh8oJQEsLiQRLyARGC4OMR4YLQoiIAkvEjAdDR0FLiETISUlExgOMSAiMi0HHiUQHQ=="
         },
         "xaxis": "x",
         "y": {
          "dtype": "i2",
          "bdata": "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"
         },
         "yaxis": "y",
         "type": "scatter"
        }
       ],
       "layout": {
        "template": {
         "data": {
          "histogram2dcontour": [
           {
            "type": "histogram2dcontour",
            "colorbar": {
             "outlinewidth": 0,
             "ticks": ""
            },
            "colorscale": [
             [
              0.0,
              "#0d0887"
             ],
             [
              0.1111111111111111,
              "#46039f"
             ],
             [
              0.2222222222222222,
              "#7201a8"
             ],
             [
              0.3333333333333333,
              "#9c179e"
             ],
             [
              0.4444444444444444,
              "#bd3786"
             ],
             [
              0.5555555555555556,
              "#d8576b"
             ],
             [
              0.6666666666666666,
              "#ed7953"
             ],
             [
              0.7777777777777778,
              "#fb9f3a"
             ],
             [
              0.8888888888888888,
              "#fdca26"
             ],
             [
              1.0,
              "#f0f921"
             ]
            ]
           }
          ],
          "choropleth": [
           {
            "type": "choropleth",
            "colorbar": {
             "outlinewidth": 0,
             "ticks": ""
            }
           }
          ],
          "histogram2d": [
           {
            "type": "histogram2d",
            "colorbar": {
             "outlinewidth": 0,
             "ticks": ""
            },
            "colorscale": [
             [
              0.0,
              "#0d0887"
             ],
             [
              0.1111111111111111,
              "#46039f"
             ],
             [
              0.2222222222222222,
              "#7201a8"
             ],
             [
              0.3333333333333333,
              "#9c179e"
             ],
             [
              0.4444444444444444,
              "#bd3786"
             ],
             [
              0.5555555555555556,
              "#d8576b"
             ],
             [
              0.6666666666666666,
              "#ed7953"
             ],
             [
              0.7777777777777778,
              "#fb9f3a"
             ],
             [
              0.8888888888888888,
              "#fdca26"
             ],
             [
              1.0,
              "#f0f921"
             ]
            ]
           }
          ],
          "heatmap": [
           {
            "type": "heatmap",
            "colorbar": {
             "outlinewidth": 0,
             "ticks": ""
            },
            "colorscale": [
             [
              0.0,
              "#0d0887"
             ],
             [
              0.1111111111111111,
              "#46039f"
             ],
             [
              0.2222222222222222,
              "#7201a8"
             ],
             [
              0.3333333333333333,
              "#9c179e"
             ],
             [
              0.4444444444444444,
              "#bd3786"
             ],
             [
              0.5555555555555556,
              "#d8576b"
             ],
             [
              0.6666666666666666,
              "#ed7953"
             ],
             [
              0.7777777777777778,
              "#fb9f3a"
             ],
             [
              0.8888888888888888,
              "#fdca26"
             ],
             [
              1.0,
              "#f0f921"
             ]
            ]
           }
          ],
          "contourcarpet": [
           {
            "type": "contourcarpet",
            "colorbar": {
             "outlinewidth": 0,
             "ticks": ""
            }
           }
          ],
          "contour": [
           {
            "type": "contour",
            "colorbar": {
             "outlinewidth": 0,
             "ticks": ""
            },
            "colorscale": [
             [
              0.0,
              "#0d0887"
             ],
             [
              0.1111111111111111,
              "#46039f"
             ],
             [
              0.2222222222222222,
              "#7201a8"
             ],
             [
              0.3333333333333333,
              "#9c179e"
             ],
             [
              0.4444444444444444,
              "#bd3786"
             ],
             [
              0.5555555555555556,
              "#d8576b"
             ],
             [
              0.6666666666666666,
              "#ed7953"
             ],
             [
              0.7777777777777778,
              "#fb9f3a"
             ],
             [
              0.8888888888888888,
              "#fdca26"
             ],
             [
              1.0,
              "#f0f921"
             ]
            ]
           }
          ],
          "surface": [
           {
            "type": "surface",
            "colorbar": {
             "outlinewidth": 0,
             "ticks": ""
            },
            "colorscale": [
             [
              0.0,
              "#0d0887"
             ],
             [
              0.1111111111111111,
              "#46039f"
             ],
             [
              0.2222222222222222,
              "#7201a8"
             ],
             [
              0.3333333333333333,
              "#9c179e"
             ],
             [
              0.4444444444444444,
              "#bd3786"
             ],
             [
              0.5555555555555556,
              "#d8576b"
             ],
             [
              0.6666666666666666,
              "#ed7953"
             ],
             [
              0.7777777777777778,
              "#fb9f3a"
             ],
             [
              0.8888888888888888,
              "#fdca26"
             ],
             [
              1.0,
              "#f0f921"
             ]
            ]
           }
          ],
          "mesh3d": [
           {
            "type": "mesh3d",
            "colorbar": {
             "outlinewidth": 0,
             "ticks": ""
            }
           }
          ],
          "scatter": [
           {
            "marker": {
             "line": {
              "color": "#283442"
             }
            },
            "type": "scatter"
           }
          ],
          "parcoords": [
           {
            "type": "parcoords",
            "line": {
             "colorbar": {
              "outlinewidth": 0,
              "ticks": ""
             }
            }
           }
          ],
          "scatterpolargl": [
           {
            "type": "scatterpolargl",
            "marker": {
             "colorbar": {
              "outlinewidth": 0,
              "ticks": ""
             }
            }
           }
          ],
          "bar": [
           {
            "error_x": {
             "color": "#f2f5fa"
            },
            "error_y": {
             "color": "#f2f5fa"
            },
            "marker": {
             "line": {
              "color": "rgb(17,17,17)",
              "width": 0.5
             },
             "pattern": {
              "fillmode": "overlay",
              "size": 10,
              "solidity": 0.2
             }
            },
            "type": "bar"
           }
          ],
          "scattergeo": [
           {
            "type": "scattergeo",
            "marker": {
             "colorbar": {
              "outlinewidth": 0,
              "ticks": ""
             }
            }
           }
          ],
          "scatterpolar": [
           {
            "type": "scatterpolar",
            "marker": {
             "colorbar": {
              "outlinewidth": 0,
              "ticks": ""
             }
            }
           }
          ],
          "histogram": [
           {
            "marker": {
             "pattern": {
              "fillmode": "overlay",
              "size": 10,
              "solidity": 0.2
             }
            },
            "type": "histogram"
           }
          ],
          "scattergl": [
           {
            "marker": {
             "line": {
              "color": "#283442"
             }
            },
            "type": "scattergl"
           }
          ],
          "scatter3d": [
           {
            "type": "scatter3d",
            "line": {
             "colorbar": {
              "outlinewidth": 0,
              "ticks": ""
             }
            },
            "marker": {
             "colorbar": {
              "outlinewidth": 0,
              "ticks": ""
             }
            }
           }
          ],
          "scattermap": [
           {
            "type": "scattermap",
            "marker": {
             "colorbar": {
              "outlinewidth": 0,
              "ticks": ""
             }
            }
           }
          ],
          "scattermapbox": [
           {
            "type": "scattermapbox",
            "marker": {
             "colorbar": {
              "outlinewidth": 0,
              "ticks": ""
             }
            }
           }
          ],
          "scatterternary": [
           {
            "type": "scatterternary",
            "marker": {
             "colorbar": {
              "outlinewidth": 0,
              "ticks": ""
             }
            }
           }
          ],
          "scattercarpet": [
           {
            "type": "scattercarpet",
            "marker": {
             "colorbar": {
              "outlinewidth": 0,
              "ticks": ""
             }
            }
           }
          ],
          "carpet": [
           {
            "aaxis": {
             "endlinecolor": "#A2B1C6",
             "gridcolor": "#506784",
             "linecolor": "#506784",
             "minorgridcolor": "#506784",
             "startlinecolor": "#A2B1C6"
            },
            "baxis": {
             "endlinecolor": "#A2B1C6",
             "gridcolor": "#506784",
             "linecolor": "#506784",
             "minorgridcolor": "#506784",
             "startlinecolor": "#A2B1C6"
            },
            "type": "carpet"
           }
          ],
          "table": [
           {
            "cells": {
             "fill": {
              "color": "#506784"
             },
             "line": {
              "color": "rgb(17,17,17)"
             }
            },
            "header": {
             "fill": {
              "color": "#2a3f5f"
             },
             "line": {
              "color": "rgb(17,17,17)"
             }
            },
            "type": "table"
           }
          ],
          "barpolar": [
           {
            "marker": {
             "line": {
              "color": "rgb(17,17,17)",
              "width": 0.5
             },
             "pattern": {
              "fillmode": "overlay",
              "size": 10,
              "solidity": 0.2
             }
            },
            "type": "barpolar"
           }
          ],
          "pie": [
           {
            "automargin": true,
            "type": "pie"
           }
          ]
         },
         "layout": {
          "autotypenumbers": "strict",
          "colorway": [
           "#636efa",
           "#EF553B",
           "#00cc96",
           "#ab63fa",
           "#FFA15A",
           "#19d3f3",
           "#FF6692",
           "#B6E880",
           "#FF97FF",
           "#FECB52"
          ],
          "font": {
           "color": "#f2f5fa"
          },
          "hovermode": "closest",
          "hoverlabel": {
           "align": "left"
          },
          "paper_bgcolor": "rgb(17,17,17)",
          "plot_bgcolor": "rgb(17,17,17)",
          "polar": {
           "bgcolor": "rgb(17,17,17)",
           "angularaxis": {
            "gridcolor": "#506784",
            "linecolor": "#506784",
            "ticks": ""
           },
           "radialaxis": {
            "gridcolor": "#506784",
            "linecolor": "#506784",
            "ticks": ""
           }
          },
          "ternary": {
           "bgcolor": "rgb(17,17,17)",
           "aaxis": {
            "gridcolor": "#506784",
            "linecolor": "#506784",
            "ticks": ""
           },
           "baxis": {
            "gridcolor": "#506784",
            "linecolor": "#506784",
            "ticks": ""
           },
           "caxis": {
            "gridcolor": "#506784",
            "linecolor": "#506784",
            "ticks": ""
           }
          },
          "coloraxis": {
           "colorbar": {
            "outlinewidth": 0,
            "ticks": ""
           }
          },
          "colorscale": {
           "sequential": [
            [
             0.0,
             "#0d0887"
            ],
            [
             0.1111111111111111,
             "#46039f"
            ],
            [
             0.2222222222222222,
             "#7201a8"
            ],
            [
             0.3333333333333333,
             "#9c179e"
            ],
            [
             0.4444444444444444,
             "#bd3786"
            ],
            [
             0.5555555555555556,
             "#d8576b"
            ],
            [
             0.6666666666666666,
             "#ed7953"
            ],
            [
             0.7777777777777778,
             "#fb9f3a"
            ],
            [
             0.8888888888888888,
             "#fdca26"
            ],
            [
             1.0,
             "#f0f921"
            ]
           ],
           "sequentialminus": [
            [
             0.0,
             "#0d0887"
            ],
            [
             0.1111111111111111,
             "#46039f"
            ],
            [
             0.2222222222222222,
             "#7201a8"
            ],
            [
             0.3333333333333333,
             "#9c179e"
            ],
            [
             0.4444444444444444,
             "#bd3786"
            ],
            [
             0.5555555555555556,
             "#d8576b"
            ],
            [
             0.6666666666666666,
             "#ed7953"
            ],
            [
             0.7777777777777778,
             "#fb9f3a"
            ],
            [
             0.8888888888888888,
             "#fdca26"
            ],
            [
             1.0,
             "#f0f921"
            ]
           ],
           "diverging": [
            [
             0,
             "#8e0152"
            ],
            [
             0.1,
             "#c51b7d"
            ],
            [
             0.2,
             "#de77ae"
            ],
            [
             0.3,
             "#f1b6da"
            ],
            [
             0.4,
             "#fde0ef"
            ],
            [
             0.5,
             "#f7f7f7"
            ],
            [
             0.6,
             "#e6f5d0"
            ],
            [
             0.7,
             "#b8e186"
            ],
            [
             0.8,
             "#7fbc41"
            ],
            [
             0.9,
             "#4d9221"
            ],
            [
             1,
             "#276419"
            ]
           ]
          },
          "xaxis": {
           "gridcolor": "#283442",
           "linecolor": "#506784",
           "ticks": "",
           "title": {
            "standoff": 15
           },
           "zerolinecolor": "#283442",
           "automargin": true,
           "zerolinewidth": 2
          },
          "yaxis": {
           "gridcolor": "#283442",
           "linecolor": "#506784",
           "ticks": "",
           "title": {
            "standoff": 15
           },
           "zerolinecolor": "#283442",
           "automargin": true,
           "zerolinewidth": 2
          },
          "scene": {
           "xaxis": {
            "backgroundcolor": "rgb(17,17,17)",
            "gridcolor": "#506784",
            "linecolor": "#506784",
            "showbackground": true,
            "ticks": "",
            "zerolinecolor": "#C8D4E3",
            "gridwidth": 2
           },
           "yaxis": {
            "backgroundcolor": "rgb(17,17,17)",
            "gridcolor": "#506784",
            "linecolor": "#506784",
            "showbackground": true,
            "ticks": "",
            "zerolinecolor": "#C8D4E3",
            "gridwidth": 2
           },
           "zaxis": {
            "backgroundcolor": "rgb(17,17,17)",
            "gridcolor": "#506784",
            "linecolor": "#506784",
            "showbackground": true,
            "ticks": "",
            "zerolinecolor": "#C8D4E3",
            "gridwidth": 2
           }
          },
          "shapedefaults": {
           "line": {
            "color": "#f2f5fa"
           }
          },
          "annotationdefaults": {
           "arrowcolor": "#f2f5fa",
           "arrowhead": 0,
           "arrowwidth": 1
          },
          "geo": {
           "bgcolor": "rgb(17,17,17)",
           "landcolor": "rgb(17,17,17)",
           "subunitcolor": "#506784",
           "showland": true,
           "showlakes": true,
           "lakecolor": "rgb(17,17,17)"
          },
          "title": {
           "x": 0.05
          },
          "updatemenudefaults": {
           "bgcolor": "#506784",
           "borderwidth": 0
          },
          "sliderdefaults": {
           "bgcolor": "#C8D4E3",
           "borderwidth": 1,
           "bordercolor": "rgb(17,17,17)",
           "tickwidth": 0
          },
          "mapbox": {
           "style": "dark"
          }
         }
        },
        "xaxis": {
         "anchor": "y",
         "domain": [
          0.0,
          1.0
         ],
         "title": {
          "text": "Clusters"
         }
        },
        "yaxis": {
         "anchor": "x",
         "domain": [
          0.0,
          1.0
         ],
         "title": {
          "text": "index"
         }
        },
        "legend": {
         "tracegroupgap": 0
        },
        "margin": {
         "t": 60
        },
        "title": {
         "text": "Affinity Propagation"
        }
       },
       "config": {
        "plotlyServerURL": "https://plot.ly"
       }
      }
     },
     "metadata": {},
     "output_type": "display_data"
    },
    {
     "data": {
      "application/vnd.plotly.v1+json": {
       "data": [
        {
         "hovertemplate": "x=%{x}<br>index=%{y}<extra></extra>",
         "legendgroup": "",
         "marker": {
          "color": "#636efa",
          "symbol": "circle"
         },
         "mode": "markers",
         "name": "",
         "showlegend": false,
         "x": {
          "dtype": "i1",
          "bdata": "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"
         },
         "xaxis": "x",
         "y": {
          "dtype": "i2",
          "bdata": "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"
         },
         "yaxis": "y",
         "type": "scattergl"
        }
       ],
       "layout": {
        "template": {
         "data": {
          "histogram2dcontour": [
           {
            "type": "histogram2dcontour",
            "colorbar": {
             "outlinewidth": 0,
             "ticks": ""
            },
            "colorscale": [
             [
              0.0,
              "#0d0887"
             ],
             [
              0.1111111111111111,
              "#46039f"
             ],
             [
              0.2222222222222222,
              "#7201a8"
             ],
             [
              0.3333333333333333,
              "#9c179e"
             ],
             [
              0.4444444444444444,
              "#bd3786"
             ],
             [
              0.5555555555555556,
              "#d8576b"
             ],
             [
              0.6666666666666666,
              "#ed7953"
             ],
             [
              0.7777777777777778,
              "#fb9f3a"
             ],
             [
              0.8888888888888888,
              "#fdca26"
             ],
             [
              1.0,
              "#f0f921"
             ]
            ]
           }
          ],
          "choropleth": [
           {
            "type": "choropleth",
            "colorbar": {
             "outlinewidth": 0,
             "ticks": ""
            }
           }
          ],
          "histogram2d": [
           {
            "type": "histogram2d",
            "colorbar": {
             "outlinewidth": 0,
             "ticks": ""
            },
            "colorscale": [
             [
              0.0,
              "#0d0887"
             ],
             [
              0.1111111111111111,
              "#46039f"
             ],
             [
              0.2222222222222222,
              "#7201a8"
             ],
             [
              0.3333333333333333,
              "#9c179e"
             ],
             [
              0.4444444444444444,
              "#bd3786"
             ],
             [
              0.5555555555555556,
              "#d8576b"
             ],
             [
              0.6666666666666666,
              "#ed7953"
             ],
             [
              0.7777777777777778,
              "#fb9f3a"
             ],
             [
              0.8888888888888888,
              "#fdca26"
             ],
             [
              1.0,
              "#f0f921"
             ]
            ]
           }
          ],
          "heatmap": [
           {
            "type": "heatmap",
            "colorbar": {
             "outlinewidth": 0,
             "ticks": ""
            },
            "colorscale": [
             [
              0.0,
              "#0d0887"
             ],
             [
              0.1111111111111111,
              "#46039f"
             ],
             [
              0.2222222222222222,
              "#7201a8"
             ],
             [
              0.3333333333333333,
              "#9c179e"
             ],
             [
              0.4444444444444444,
              "#bd3786"
             ],
             [
              0.5555555555555556,
              "#d8576b"
             ],
             [
              0.6666666666666666,
              "#ed7953"
             ],
             [
              0.7777777777777778,
              "#fb9f3a"
             ],
             [
              0.8888888888888888,
              "#fdca26"
             ],
             [
              1.0,
              "#f0f921"
             ]
            ]
           }
          ],
          "contourcarpet": [
           {
            "type": "contourcarpet",
            "colorbar": {
             "outlinewidth": 0,
             "ticks": ""
            }
           }
          ],
          "contour": [
           {
            "type": "contour",
            "colorbar": {
             "outlinewidth": 0,
             "ticks": ""
            },
            "colorscale": [
             [
              0.0,
              "#0d0887"
             ],
             [
              0.1111111111111111,
              "#46039f"
             ],
             [
              0.2222222222222222,
              "#7201a8"
             ],
             [
              0.3333333333333333,
              "#9c179e"
             ],
             [
              0.4444444444444444,
              "#bd3786"
             ],
             [
              0.5555555555555556,
              "#d8576b"
             ],
             [
              0.6666666666666666,
              "#ed7953"
             ],
             [
              0.7777777777777778,
              "#fb9f3a"
             ],
             [
              0.8888888888888888,
              "#fdca26"
             ],
             [
              1.0,
              "#f0f921"
             ]
            ]
           }
          ],
          "surface": [
           {
            "type": "surface",
            "colorbar": {
             "outlinewidth": 0,
             "ticks": ""
            },
            "colorscale": [
             [
              0.0,
              "#0d0887"
             ],
             [
              0.1111111111111111,
              "#46039f"
             ],
             [
              0.2222222222222222,
              "#7201a8"
             ],
             [
              0.3333333333333333,
              "#9c179e"
             ],
             [
              0.4444444444444444,
              "#bd3786"
             ],
             [
              0.5555555555555556,
              "#d8576b"
             ],
             [
              0.6666666666666666,
              "#ed7953"
             ],
             [
              0.7777777777777778,
              "#fb9f3a"
             ],
             [
              0.8888888888888888,
              "#fdca26"
             ],
             [
              1.0,
              "#f0f921"
             ]
            ]
           }
          ],
          "mesh3d": [
           {
            "type": "mesh3d",
            "colorbar": {
             "outlinewidth": 0,
             "ticks": ""
            }
           }
          ],
          "scatter": [
           {
            "marker": {
             "line": {
              "color": "#283442"
             }
            },
            "type": "scatter"
           }
          ],
          "parcoords": [
           {
            "type": "parcoords",
            "line": {
             "colorbar": {
              "outlinewidth": 0,
              "ticks": ""
             }
            }
           }
          ],
          "scatterpolargl": [
           {
            "type": "scatterpolargl",
            "marker": {
             "colorbar": {
              "outlinewidth": 0,
              "ticks": ""
             }
            }
           }
          ],
          "bar": [
           {
            "error_x": {
             "color": "#f2f5fa"
            },
            "error_y": {
             "color": "#f2f5fa"
            },
            "marker": {
             "line": {
              "color": "rgb(17,17,17)",
              "width": 0.5
             },
             "pattern": {
              "fillmode": "overlay",
              "size": 10,
              "solidity": 0.2
             }
            },
            "type": "bar"
           }
          ],
          "scattergeo": [
           {
            "type": "scattergeo",
            "marker": {
             "colorbar": {
              "outlinewidth": 0,
              "ticks": ""
             }
            }
           }
          ],
          "scatterpolar": [
           {
            "type": "scatterpolar",
            "marker": {
             "colorbar": {
              "outlinewidth": 0,
              "ticks": ""
             }
            }
           }
          ],
          "histogram": [
           {
            "marker": {
             "pattern": {
              "fillmode": "overlay",
              "size": 10,
              "solidity": 0.2
             }
            },
            "type": "histogram"
           }
          ],
          "scattergl": [
           {
            "marker": {
             "line": {
              "color": "#283442"
             }
            },
            "type": "scattergl"
           }
          ],
          "scatter3d": [
           {
            "type": "scatter3d",
            "line": {
             "colorbar": {
              "outlinewidth": 0,
              "ticks": ""
             }
            },
            "marker": {
             "colorbar": {
              "outlinewidth": 0,
              "ticks": ""
             }
            }
           }
          ],
          "scattermap": [
           {
            "type": "scattermap",
            "marker": {
             "colorbar": {
              "outlinewidth": 0,
              "ticks": ""
             }
            }
           }
          ],
          "scattermapbox": [
           {
            "type": "scattermapbox",
            "marker": {
             "colorbar": {
              "outlinewidth": 0,
              "ticks": ""
             }
            }
           }
          ],
          "scatterternary": [
           {
            "type": "scatterternary",
            "marker": {
             "colorbar": {
              "outlinewidth": 0,
              "ticks": ""
             }
            }
           }
          ],
          "scattercarpet": [
           {
            "type": "scattercarpet",
            "marker": {
             "colorbar": {
              "outlinewidth": 0,
              "ticks": ""
             }
            }
           }
          ],
          "carpet": [
           {
            "aaxis": {
             "endlinecolor": "#A2B1C6",
             "gridcolor": "#506784",
             "linecolor": "#506784",
             "minorgridcolor": "#506784",
             "startlinecolor": "#A2B1C6"
            },
            "baxis": {
             "endlinecolor": "#A2B1C6",
             "gridcolor": "#506784",
             "linecolor": "#506784",
             "minorgridcolor": "#506784",
             "startlinecolor": "#A2B1C6"
            },
            "type": "carpet"
           }
          ],
          "table": [
           {
            "cells": {
             "fill": {
              "color": "#506784"
             },
             "line": {
              "color": "rgb(17,17,17)"
             }
            },
            "header": {
             "fill": {
              "color": "#2a3f5f"
             },
             "line": {
              "color": "rgb(17,17,17)"
             }
            },
            "type": "table"
           }
          ],
          "barpolar": [
           {
            "marker": {
             "line": {
              "color": "rgb(17,17,17)",
              "width": 0.5
             },
             "pattern": {
              "fillmode": "overlay",
              "size": 10,
              "solidity": 0.2
             }
            },
            "type": "barpolar"
           }
          ],
          "pie": [
           {
            "automargin": true,
            "type": "pie"
           }
          ]
         },
         "layout": {
          "autotypenumbers": "strict",
          "colorway": [
           "#636efa",
           "#EF553B",
           "#00cc96",
           "#ab63fa",
           "#FFA15A",
           "#19d3f3",
           "#FF6692",
           "#B6E880",
           "#FF97FF",
           "#FECB52"
          ],
          "font": {
           "color": "#f2f5fa"
          },
          "hovermode": "closest",
          "hoverlabel": {
           "align": "left"
          },
          "paper_bgcolor": "rgb(17,17,17)",
          "plot_bgcolor": "rgb(17,17,17)",
          "polar": {
           "bgcolor": "rgb(17,17,17)",
           "angularaxis": {
            "gridcolor": "#506784",
            "linecolor": "#506784",
            "ticks": ""
           },
           "radialaxis": {
            "gridcolor": "#506784",
            "linecolor": "#506784",
            "ticks": ""
           }
          },
          "ternary": {
           "bgcolor": "rgb(17,17,17)",
           "aaxis": {
            "gridcolor": "#506784",
            "linecolor": "#506784",
            "ticks": ""
           },
           "baxis": {
            "gridcolor": "#506784",
            "linecolor": "#506784",
            "ticks": ""
           },
           "caxis": {
            "gridcolor": "#506784",
            "linecolor": "#506784",
            "ticks": ""
           }
          },
          "coloraxis": {
           "colorbar": {
            "outlinewidth": 0,
            "ticks": ""
           }
          },
          "colorscale": {
           "sequential": [
            [
             0.0,
             "#0d0887"
            ],
            [
             0.1111111111111111,
             "#46039f"
            ],
            [
             0.2222222222222222,
             "#7201a8"
            ],
            [
             0.3333333333333333,
             "#9c179e"
            ],
            [
             0.4444444444444444,
             "#bd3786"
            ],
            [
             0.5555555555555556,
             "#d8576b"
            ],
            [
             0.6666666666666666,
             "#ed7953"
            ],
            [
             0.7777777777777778,
             "#fb9f3a"
            ],
            [
             0.8888888888888888,
             "#fdca26"
            ],
            [
             1.0,
             "#f0f921"
            ]
           ],
           "sequentialminus": [
            [
             0.0,
             "#0d0887"
            ],
            [
             0.1111111111111111,
             "#46039f"
            ],
            [
             0.2222222222222222,
             "#7201a8"
            ],
            [
             0.3333333333333333,
             "#9c179e"
            ],
            [
             0.4444444444444444,
             "#bd3786"
            ],
            [
             0.5555555555555556,
             "#d8576b"
            ],
            [
             0.6666666666666666,
             "#ed7953"
            ],
            [
             0.7777777777777778,
             "#fb9f3a"
            ],
            [
             0.8888888888888888,
             "#fdca26"
            ],
            [
             1.0,
             "#f0f921"
            ]
           ],
           "diverging": [
            [
             0,
             "#8e0152"
            ],
            [
             0.1,
             "#c51b7d"
            ],
            [
             0.2,
             "#de77ae"
            ],
            [
             0.3,
             "#f1b6da"
            ],
            [
             0.4,
             "#fde0ef"
            ],
            [
             0.5,
             "#f7f7f7"
            ],
            [
             0.6,
             "#e6f5d0"
            ],
            [
             0.7,
             "#b8e186"
            ],
            [
             0.8,
             "#7fbc41"
            ],
            [
             0.9,
             "#4d9221"
            ],
            [
             1,
             "#276419"
            ]
           ]
          },
          "xaxis": {
           "gridcolor": "#283442",
           "linecolor": "#506784",
           "ticks": "",
           "title": {
            "standoff": 15
           },
           "zerolinecolor": "#283442",
           "automargin": true,
           "zerolinewidth": 2
          },
          "yaxis": {
           "gridcolor": "#283442",
           "linecolor": "#506784",
           "ticks": "",
           "title": {
            "standoff": 15
           },
           "zerolinecolor": "#283442",
           "automargin": true,
           "zerolinewidth": 2
          },
          "scene": {
           "xaxis": {
            "backgroundcolor": "rgb(17,17,17)",
            "gridcolor": "#506784",
            "linecolor": "#506784",
            "showbackground": true,
            "ticks": "",
            "zerolinecolor": "#C8D4E3",
            "gridwidth": 2
           },
           "yaxis": {
            "backgroundcolor": "rgb(17,17,17)",
            "gridcolor": "#506784",
            "linecolor": "#506784",
            "showbackground": true,
            "ticks": "",
            "zerolinecolor": "#C8D4E3",
            "gridwidth": 2
           },
           "zaxis": {
            "backgroundcolor": "rgb(17,17,17)",
            "gridcolor": "#506784",
            "linecolor": "#506784",
            "showbackground": true,
            "ticks": "",
            "zerolinecolor": "#C8D4E3",
            "gridwidth": 2
           }
          },
          "shapedefaults": {
           "line": {
            "color": "#f2f5fa"
           }
          },
          "annotationdefaults": {
           "arrowcolor": "#f2f5fa",
           "arrowhead": 0,
           "arrowwidth": 1
          },
          "geo": {
           "bgcolor": "rgb(17,17,17)",
           "landcolor": "rgb(17,17,17)",
           "subunitcolor": "#506784",
           "showland": true,
           "showlakes": true,
           "lakecolor": "rgb(17,17,17)"
          },
          "title": {
           "x": 0.05
          },
          "updatemenudefaults": {
           "bgcolor": "#506784",
           "borderwidth": 0
          },
          "sliderdefaults": {
           "bgcolor": "#C8D4E3",
           "borderwidth": 1,
           "bordercolor": "rgb(17,17,17)",
           "tickwidth": 0
          },
          "mapbox": {
           "style": "dark"
          }
         }
        },
        "xaxis": {
         "anchor": "y",
         "domain": [
          0.0,
          1.0
         ],
         "title": {
          "text": "Clusters"
         }
        },
        "yaxis": {
         "anchor": "x",
         "domain": [
          0.0,
          1.0
         ],
         "title": {
          "text": "index"
         }
        },
        "legend": {
         "tracegroupgap": 0
        },
        "margin": {
         "t": 60
        },
        "title": {
         "text": "DBSCAN"
        }
       },
       "config": {
        "plotlyServerURL": "https://plot.ly"
       }
      }
     },
     "metadata": {},
     "output_type": "display_data"
    },
    {
     "data": {
      "application/vnd.plotly.v1+json": {
       "data": [
        {
         "hovertemplate": "x=%{x}<br>index=%{y}<extra></extra>",
         "legendgroup": "",
         "marker": {
          "color": "#636efa",
          "symbol": "circle"
         },
         "mode": "markers",
         "name": "",
         "showlegend": false,
         "x": {
          "dtype": "i4",
          "bdata": "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"
         },
         "xaxis": "x",
         "y": {
          "dtype": "i2",
          "bdata": "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"
         },
         "yaxis": "y",
         "type": "scattergl"
        }
       ],
       "layout": {
        "template": {
         "data": {
          "histogram2dcontour": [
           {
            "type": "histogram2dcontour",
            "colorbar": {
             "outlinewidth": 0,
             "ticks": ""
            },
            "colorscale": [
             [
              0.0,
              "#0d0887"
             ],
             [
              0.1111111111111111,
              "#46039f"
             ],
             [
              0.2222222222222222,
              "#7201a8"
             ],
             [
              0.3333333333333333,
              "#9c179e"
             ],
             [
              0.4444444444444444,
              "#bd3786"
             ],
             [
              0.5555555555555556,
              "#d8576b"
             ],
             [
              0.6666666666666666,
              "#ed7953"
             ],
             [
              0.7777777777777778,
              "#fb9f3a"
             ],
             [
              0.8888888888888888,
              "#fdca26"
             ],
             [
              1.0,
              "#f0f921"
             ]
            ]
           }
          ],
          "choropleth": [
           {
            "type": "choropleth",
            "colorbar": {
             "outlinewidth": 0,
             "ticks": ""
            }
           }
          ],
          "histogram2d": [
           {
            "type": "histogram2d",
            "colorbar": {
             "outlinewidth": 0,
             "ticks": ""
            },
            "colorscale": [
             [
              0.0,
              "#0d0887"
             ],
             [
              0.1111111111111111,
              "#46039f"
             ],
             [
              0.2222222222222222,
              "#7201a8"
             ],
             [
              0.3333333333333333,
              "#9c179e"
             ],
             [
              0.4444444444444444,
              "#bd3786"
             ],
             [
              0.5555555555555556,
              "#d8576b"
             ],
             [
              0.6666666666666666,
              "#ed7953"
             ],
             [
              0.7777777777777778,
              "#fb9f3a"
             ],
             [
              0.8888888888888888,
              "#fdca26"
             ],
             [
              1.0,
              "#f0f921"
             ]
            ]
           }
          ],
          "heatmap": [
           {
            "type": "heatmap",
            "colorbar": {
             "outlinewidth": 0,
             "ticks": ""
            },
            "colorscale": [
             [
              0.0,
              "#0d0887"
             ],
             [
              0.1111111111111111,
              "#46039f"
             ],
             [
              0.2222222222222222,
              "#7201a8"
             ],
             [
              0.3333333333333333,
              "#9c179e"
             ],
             [
              0.4444444444444444,
              "#bd3786"
             ],
             [
              0.5555555555555556,
              "#d8576b"
             ],
             [
              0.6666666666666666,
              "#ed7953"
             ],
             [
              0.7777777777777778,
              "#fb9f3a"
             ],
             [
              0.8888888888888888,
              "#fdca26"
             ],
             [
              1.0,
              "#f0f921"
             ]
            ]
           }
          ],
          "contourcarpet": [
           {
            "type": "contourcarpet",
            "colorbar": {
             "outlinewidth": 0,
             "ticks": ""
            }
           }
          ],
          "contour": [
           {
            "type": "contour",
            "colorbar": {
             "outlinewidth": 0,
             "ticks": ""
            },
            "colorscale": [
             [
              0.0,
              "#0d0887"
             ],
             [
              0.1111111111111111,
              "#46039f"
             ],
             [
              0.2222222222222222,
              "#7201a8"
             ],
             [
              0.3333333333333333,
              "#9c179e"
             ],
             [
              0.4444444444444444,
              "#bd3786"
             ],
             [
              0.5555555555555556,
              "#d8576b"
             ],
             [
              0.6666666666666666,
              "#ed7953"
             ],
             [
              0.7777777777777778,
              "#fb9f3a"
             ],
             [
              0.8888888888888888,
              "#fdca26"
             ],
             [
              1.0,
              "#f0f921"
             ]
            ]
           }
          ],
          "surface": [
           {
            "type": "surface",
            "colorbar": {
             "outlinewidth": 0,
             "ticks": ""
            },
            "colorscale": [
             [
              0.0,
              "#0d0887"
             ],
             [
              0.1111111111111111,
              "#46039f"
             ],
             [
              0.2222222222222222,
              "#7201a8"
             ],
             [
              0.3333333333333333,
              "#9c179e"
             ],
             [
              0.4444444444444444,
              "#bd3786"
             ],
             [
              0.5555555555555556,
              "#d8576b"
             ],
             [
              0.6666666666666666,
              "#ed7953"
             ],
             [
              0.7777777777777778,
              "#fb9f3a"
             ],
             [
              0.8888888888888888,
              "#fdca26"
             ],
             [
              1.0,
              "#f0f921"
             ]
            ]
           }
          ],
          "mesh3d": [
           {
            "type": "mesh3d",
            "colorbar": {
             "outlinewidth": 0,
             "ticks": ""
            }
           }
          ],
          "scatter": [
           {
            "marker": {
             "line": {
              "color": "#283442"
             }
            },
            "type": "scatter"
           }
          ],
          "parcoords": [
           {
            "type": "parcoords",
            "line": {
             "colorbar": {
              "outlinewidth": 0,
              "ticks": ""
             }
            }
           }
          ],
          "scatterpolargl": [
           {
            "type": "scatterpolargl",
            "marker": {
             "colorbar": {
              "outlinewidth": 0,
              "ticks": ""
             }
            }
           }
          ],
          "bar": [
           {
            "error_x": {
             "color": "#f2f5fa"
            },
            "error_y": {
             "color": "#f2f5fa"
            },
            "marker": {
             "line": {
              "color": "rgb(17,17,17)",
              "width": 0.5
             },
             "pattern": {
              "fillmode": "overlay",
              "size": 10,
              "solidity": 0.2
             }
            },
            "type": "bar"
           }
          ],
          "scattergeo": [
           {
            "type": "scattergeo",
            "marker": {
             "colorbar": {
              "outlinewidth": 0,
              "ticks": ""
             }
            }
           }
          ],
          "scatterpolar": [
           {
            "type": "scatterpolar",
            "marker": {
             "colorbar": {
              "outlinewidth": 0,
              "ticks": ""
             }
            }
           }
          ],
          "histogram": [
           {
            "marker": {
             "pattern": {
              "fillmode": "overlay",
              "size": 10,
              "solidity": 0.2
             }
            },
            "type": "histogram"
           }
          ],
          "scattergl": [
           {
            "marker": {
             "line": {
              "color": "#283442"
             }
            },
            "type": "scattergl"
           }
          ],
          "scatter3d": [
           {
            "type": "scatter3d",
            "line": {
             "colorbar": {
              "outlinewidth": 0,
              "ticks": ""
             }
            },
            "marker": {
             "colorbar": {
              "outlinewidth": 0,
              "ticks": ""
             }
            }
           }
          ],
          "scattermap": [
           {
            "type": "scattermap",
            "marker": {
             "colorbar": {
              "outlinewidth": 0,
              "ticks": ""
             }
            }
           }
          ],
          "scattermapbox": [
           {
            "type": "scattermapbox",
            "marker": {
             "colorbar": {
              "outlinewidth": 0,
              "ticks": ""
             }
            }
           }
          ],
          "scatterternary": [
           {
            "type": "scatterternary",
            "marker": {
             "colorbar": {
              "outlinewidth": 0,
              "ticks": ""
             }
            }
           }
          ],
          "scattercarpet": [
           {
            "type": "scattercarpet",
            "marker": {
             "colorbar": {
              "outlinewidth": 0,
              "ticks": ""
             }
            }
           }
          ],
          "carpet": [
           {
            "aaxis": {
             "endlinecolor": "#A2B1C6",
             "gridcolor": "#506784",
             "linecolor": "#506784",
             "minorgridcolor": "#506784",
             "startlinecolor": "#A2B1C6"
            },
            "baxis": {
             "endlinecolor": "#A2B1C6",
             "gridcolor": "#506784",
             "linecolor": "#506784",
             "minorgridcolor": "#506784",
             "startlinecolor": "#A2B1C6"
            },
            "type": "carpet"
           }
          ],
          "table": [
           {
            "cells": {
             "fill": {
              "color": "#506784"
             },
             "line": {
              "color": "rgb(17,17,17)"
             }
            },
            "header": {
             "fill": {
              "color": "#2a3f5f"
             },
             "line": {
              "color": "rgb(17,17,17)"
             }
            },
            "type": "table"
           }
          ],
          "barpolar": [
           {
            "marker": {
             "line": {
              "color": "rgb(17,17,17)",
              "width": 0.5
             },
             "pattern": {
              "fillmode": "overlay",
              "size": 10,
              "solidity": 0.2
             }
            },
            "type": "barpolar"
           }
          ],
          "pie": [
           {
            "automargin": true,
            "type": "pie"
           }
          ]
         },
         "layout": {
          "autotypenumbers": "strict",
          "colorway": [
           "#636efa",
           "#EF553B",
           "#00cc96",
           "#ab63fa",
           "#FFA15A",
           "#19d3f3",
           "#FF6692",
           "#B6E880",
           "#FF97FF",
           "#FECB52"
          ],
          "font": {
           "color": "#f2f5fa"
          },
          "hovermode": "closest",
          "hoverlabel": {
           "align": "left"
          },
          "paper_bgcolor": "rgb(17,17,17)",
          "plot_bgcolor": "rgb(17,17,17)",
          "polar": {
           "bgcolor": "rgb(17,17,17)",
           "angularaxis": {
            "gridcolor": "#506784",
            "linecolor": "#506784",
            "ticks": ""
           },
           "radialaxis": {
            "gridcolor": "#506784",
            "linecolor": "#506784",
            "ticks": ""
           }
          },
          "ternary": {
           "bgcolor": "rgb(17,17,17)",
           "aaxis": {
            "gridcolor": "#506784",
            "linecolor": "#506784",
            "ticks": ""
           },
           "baxis": {
            "gridcolor": "#506784",
            "linecolor": "#506784",
            "ticks": ""
           },
           "caxis": {
            "gridcolor": "#506784",
            "linecolor": "#506784",
            "ticks": ""
           }
          },
          "coloraxis": {
           "colorbar": {
            "outlinewidth": 0,
            "ticks": ""
           }
          },
          "colorscale": {
           "sequential": [
            [
             0.0,
             "#0d0887"
            ],
            [
             0.1111111111111111,
             "#46039f"
            ],
            [
             0.2222222222222222,
             "#7201a8"
            ],
            [
             0.3333333333333333,
             "#9c179e"
            ],
            [
             0.4444444444444444,
             "#bd3786"
            ],
            [
             0.5555555555555556,
             "#d8576b"
            ],
            [
             0.6666666666666666,
             "#ed7953"
            ],
            [
             0.7777777777777778,
             "#fb9f3a"
            ],
            [
             0.8888888888888888,
             "#fdca26"
            ],
            [
             1.0,
             "#f0f921"
            ]
           ],
           "sequentialminus": [
            [
             0.0,
             "#0d0887"
            ],
            [
             0.1111111111111111,
             "#46039f"
            ],
            [
             0.2222222222222222,
             "#7201a8"
            ],
            [
             0.3333333333333333,
             "#9c179e"
            ],
            [
             0.4444444444444444,
             "#bd3786"
            ],
            [
             0.5555555555555556,
             "#d8576b"
            ],
            [
             0.6666666666666666,
             "#ed7953"
            ],
            [
             0.7777777777777778,
             "#fb9f3a"
            ],
            [
             0.8888888888888888,
             "#fdca26"
            ],
            [
             1.0,
             "#f0f921"
            ]
           ],
           "diverging": [
            [
             0,
             "#8e0152"
            ],
            [
             0.1,
             "#c51b7d"
            ],
            [
             0.2,
             "#de77ae"
            ],
            [
             0.3,
             "#f1b6da"
            ],
            [
             0.4,
             "#fde0ef"
            ],
            [
             0.5,
             "#f7f7f7"
            ],
            [
             0.6,
             "#e6f5d0"
            ],
            [
             0.7,
             "#b8e186"
            ],
            [
             0.8,
             "#7fbc41"
            ],
            [
             0.9,
             "#4d9221"
            ],
            [
             1,
             "#276419"
            ]
           ]
          },
          "xaxis": {
           "gridcolor": "#283442",
           "linecolor": "#506784",
           "ticks": "",
           "title": {
            "standoff": 15
           },
           "zerolinecolor": "#283442",
           "automargin": true,
           "zerolinewidth": 2
          },
          "yaxis": {
           "gridcolor": "#283442",
           "linecolor": "#506784",
           "ticks": "",
           "title": {
            "standoff": 15
           },
           "zerolinecolor": "#283442",
           "automargin": true,
           "zerolinewidth": 2
          },
          "scene": {
           "xaxis": {
            "backgroundcolor": "rgb(17,17,17)",
            "gridcolor": "#506784",
            "linecolor": "#506784",
            "showbackground": true,
            "ticks": "",
            "zerolinecolor": "#C8D4E3",
            "gridwidth": 2
           },
           "yaxis": {
            "backgroundcolor": "rgb(17,17,17)",
            "gridcolor": "#506784",
            "linecolor": "#506784",
            "showbackground": true,
            "ticks": "",
            "zerolinecolor": "#C8D4E3",
            "gridwidth": 2
           },
           "zaxis": {
            "backgroundcolor": "rgb(17,17,17)",
            "gridcolor": "#506784",
            "linecolor": "#506784",
            "showbackground": true,
            "ticks": "",
            "zerolinecolor": "#C8D4E3",
            "gridwidth": 2
           }
          },
          "shapedefaults": {
           "line": {
            "color": "#f2f5fa"
           }
          },
          "annotationdefaults": {
           "arrowcolor": "#f2f5fa",
           "arrowhead": 0,
           "arrowwidth": 1
          },
          "geo": {
           "bgcolor": "rgb(17,17,17)",
           "landcolor": "rgb(17,17,17)",
           "subunitcolor": "#506784",
           "showland": true,
           "showlakes": true,
           "lakecolor": "rgb(17,17,17)"
          },
          "title": {
           "x": 0.05
          },
          "updatemenudefaults": {
           "bgcolor": "#506784",
           "borderwidth": 0
          },
          "sliderdefaults": {
           "bgcolor": "#C8D4E3",
           "borderwidth": 1,
           "bordercolor": "rgb(17,17,17)",
           "tickwidth": 0
          },
          "mapbox": {
           "style": "dark"
          }
         }
        },
        "xaxis": {
         "anchor": "y",
         "domain": [
          0.0,
          1.0
         ],
         "title": {
          "text": "Clusters"
         }
        },
        "yaxis": {
         "anchor": "x",
         "domain": [
          0.0,
          1.0
         ],
         "title": {
          "text": "index"
         }
        },
        "legend": {
         "tracegroupgap": 0
        },
        "margin": {
         "t": 60
        },
        "title": {
         "text": "Birch"
        }
       },
       "config": {
        "plotlyServerURL": "https://plot.ly"
       }
      }
     },
     "metadata": {},
     "output_type": "display_data"
    }
   ],
   "execution_count": 68
  },
  {
   "metadata": {
    "ExecuteTime": {
     "end_time": "2025-09-24T14:48:10.772677Z",
     "start_time": "2025-09-24T14:48:10.550925Z"
    }
   },
   "cell_type": "code",
   "source": [
    "# Visualisations of task 3\n",
    "\n",
    "fig = px.scatter(Sample, labels)\n",
    "fig.update_layout(title='Affinity Propagation')\n",
    "fig.update_xaxes(title='Clusters')\n",
    "fig.show()\n",
    "\n",
    "fig = px.scatter(Data, labels2)\n",
    "fig.update_layout(title='DBSCAN')\n",
    "fig.update_xaxes(title='Clusters')\n",
    "fig.show()\n",
    "\n",
    "fig = px.scatter(Data, labels3)\n",
    "fig.update_layout(title='Birch')\n",
    "fig.update_xaxes(title='Clusters')\n",
    "fig.show() "
   ],
   "id": "7505cad42ca4aa05",
   "outputs": [
    {
     "data": {
      "application/vnd.plotly.v1+json": {
       "data": [
        {
         "hovertemplate": "x=%{x}<br>index=%{y}<extra></extra>",
         "legendgroup": "",
         "marker": {
          "color": "#636efa",
          "symbol": "circle"
         },
         "mode": "markers",
         "name": "",
         "orientation": "h",
         "showlegend": false,
         "x": {
          "dtype": "i1",
          "bdata": "JRMGICsoHyAAAAEDLwILKxMRLwMrHh8aEwwwHwkTEA0DFRMGLy4TEAwTBBUgKwUFEBMfKSksMQUNEBMuDCcRECwMGx0QGwkPDDEJKxMsMQsQMAsPKCsGLhoGEiseGiwpCisTMBMoJgYqLxAwJgsVEBMMKh4PCCwDCR8EEgoWAC8cFhoGKxAxDwUrDy8LCSATEAIwCh8aDh0rDCUABwgRCSYpEwwgIBMbLiwGKCcaICkxLBofBRARCR8SMB8oEw8FKCAbEBIsFxAMLhMtKAUGCAUxLgYvGA4FExMYJQQHByAGDxolFAgJHx8NBwYQEAMQEw8sChMBEgUsKBcUEwMQLQUTEjEFDBArBw4PDikaFxcGICUILBErLhAFKg4fEyglJQYkBSwsLDAxHxMQEi0FFhIUDyklEwYwKzEPBTElCA8SKysfKCATKw8uBiwKKxMPKwkQDxUrHxofDx8rCg4GCSwQLh8THxMTKxclLBAkBSoWLhESBhIIMRwSEBcmLikXFgoLGBAPFhMpDiwaGB8lJwYYEywdCxoFKwYXCh8ADBMfFhILMBMTJhINLBcWLBMxLA4sHxAQLSASDxMUMCgfBQ0rDxovHh8NFwwQKxYQBxoQLAUFEgkpBAUrExMTBSkrDikKMAcgHx4RAwADEwQTHyYQKTANEAcFEy8HDCgbDC0fEg8TEw4SLCkpCRILKxAWLgoTBg8GFAUaBgYFLCksFxMrCgYPHxMNKgYVEBYtFiUBHyAmLBosEAYwKRcmKRoxLisSFhoQFxgTIAsTLA8bBBMfJSoVBhQfDSksAxMRBSAZBiwPExoQFxANKRIJBCUvBhMTEwctMAcULgYrDysJLQcfBQkrCxMTDi8TGyopEywDHAstHAUtCwofHg0DBR0xEysTJx4SKxEfLAkkHwYIIBMKBissDSwTEwsHKBoAHxEfGCciEwkGGxEKKCYJBRITLA8TEywsKSgFFSkoEyYGKBogGwwoDyMsLR8rHxAsJQ8IERYaGh8uHB0hKwUrDB4UKCwdEyIHHQkmDAYRLw4JGxAGDioqFiMUMSYlExUoJDAtMCklLAUTECUpBQwXFSUcLCwNECYTAhAeDRImBiwQBQ8sDg4rChIuIAwGHygGEyUvEA0nFhktCS0DEh8sBhAXEA4OEhoHJhwbJxoTAiwcBSgXBSwsBR8XESwAKy4fIAwmIA8LKRMDECUGDCoGDQkfBioHGBEVCy4QLC0KKzExKxAQJSUMLikQDx8uFC8XICwTLRMcEwYTExMfFAYGCRERKA0QBikiLhMTLTEGDTETHx8vMS8QBgcrBRcXMCswAAMGDA8xIBIrKA=="
         },
         "xaxis": "x",
         "y": {
          "dtype": "i2",
          "bdata": "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"
         },
         "yaxis": "y",
         "type": "scatter"
        }
       ],
       "layout": {
        "template": {
         "data": {
          "histogram2dcontour": [
           {
            "type": "histogram2dcontour",
            "colorbar": {
             "outlinewidth": 0,
             "ticks": ""
            },
            "colorscale": [
             [
              0.0,
              "#0d0887"
             ],
             [
              0.1111111111111111,
              "#46039f"
             ],
             [
              0.2222222222222222,
              "#7201a8"
             ],
             [
              0.3333333333333333,
              "#9c179e"
             ],
             [
              0.4444444444444444,
              "#bd3786"
             ],
             [
              0.5555555555555556,
              "#d8576b"
             ],
             [
              0.6666666666666666,
              "#ed7953"
             ],
             [
              0.7777777777777778,
              "#fb9f3a"
             ],
             [
              0.8888888888888888,
              "#fdca26"
             ],
             [
              1.0,
              "#f0f921"
             ]
            ]
           }
          ],
          "choropleth": [
           {
            "type": "choropleth",
            "colorbar": {
             "outlinewidth": 0,
             "ticks": ""
            }
           }
          ],
          "histogram2d": [
           {
            "type": "histogram2d",
            "colorbar": {
             "outlinewidth": 0,
             "ticks": ""
            },
            "colorscale": [
             [
              0.0,
              "#0d0887"
             ],
             [
              0.1111111111111111,
              "#46039f"
             ],
             [
              0.2222222222222222,
              "#7201a8"
             ],
             [
              0.3333333333333333,
              "#9c179e"
             ],
             [
              0.4444444444444444,
              "#bd3786"
             ],
             [
              0.5555555555555556,
              "#d8576b"
             ],
             [
              0.6666666666666666,
              "#ed7953"
             ],
             [
              0.7777777777777778,
              "#fb9f3a"
             ],
             [
              0.8888888888888888,
              "#fdca26"
             ],
             [
              1.0,
              "#f0f921"
             ]
            ]
           }
          ],
          "heatmap": [
           {
            "type": "heatmap",
            "colorbar": {
             "outlinewidth": 0,
             "ticks": ""
            },
            "colorscale": [
             [
              0.0,
              "#0d0887"
             ],
             [
              0.1111111111111111,
              "#46039f"
             ],
             [
              0.2222222222222222,
              "#7201a8"
             ],
             [
              0.3333333333333333,
              "#9c179e"
             ],
             [
              0.4444444444444444,
              "#bd3786"
             ],
             [
              0.5555555555555556,
              "#d8576b"
             ],
             [
              0.6666666666666666,
              "#ed7953"
             ],
             [
              0.7777777777777778,
              "#fb9f3a"
             ],
             [
              0.8888888888888888,
              "#fdca26"
             ],
             [
              1.0,
              "#f0f921"
             ]
            ]
           }
          ],
          "contourcarpet": [
           {
            "type": "contourcarpet",
            "colorbar": {
             "outlinewidth": 0,
             "ticks": ""
            }
           }
          ],
          "contour": [
           {
            "type": "contour",
            "colorbar": {
             "outlinewidth": 0,
             "ticks": ""
            },
            "colorscale": [
             [
              0.0,
              "#0d0887"
             ],
             [
              0.1111111111111111,
              "#46039f"
             ],
             [
              0.2222222222222222,
              "#7201a8"
             ],
             [
              0.3333333333333333,
              "#9c179e"
             ],
             [
              0.4444444444444444,
              "#bd3786"
             ],
             [
              0.5555555555555556,
              "#d8576b"
             ],
             [
              0.6666666666666666,
              "#ed7953"
             ],
             [
              0.7777777777777778,
              "#fb9f3a"
             ],
             [
              0.8888888888888888,
              "#fdca26"
             ],
             [
              1.0,
              "#f0f921"
             ]
            ]
           }
          ],
          "surface": [
           {
            "type": "surface",
            "colorbar": {
             "outlinewidth": 0,
             "ticks": ""
            },
            "colorscale": [
             [
              0.0,
              "#0d0887"
             ],
             [
              0.1111111111111111,
              "#46039f"
             ],
             [
              0.2222222222222222,
              "#7201a8"
             ],
             [
              0.3333333333333333,
              "#9c179e"
             ],
             [
              0.4444444444444444,
              "#bd3786"
             ],
             [
              0.5555555555555556,
              "#d8576b"
             ],
             [
              0.6666666666666666,
              "#ed7953"
             ],
             [
              0.7777777777777778,
              "#fb9f3a"
             ],
             [
              0.8888888888888888,
              "#fdca26"
             ],
             [
              1.0,
              "#f0f921"
             ]
            ]
           }
          ],
          "mesh3d": [
           {
            "type": "mesh3d",
            "colorbar": {
             "outlinewidth": 0,
             "ticks": ""
            }
           }
          ],
          "scatter": [
           {
            "marker": {
             "line": {
              "color": "#283442"
             }
            },
            "type": "scatter"
           }
          ],
          "parcoords": [
           {
            "type": "parcoords",
            "line": {
             "colorbar": {
              "outlinewidth": 0,
              "ticks": ""
             }
            }
           }
          ],
          "scatterpolargl": [
           {
            "type": "scatterpolargl",
            "marker": {
             "colorbar": {
              "outlinewidth": 0,
              "ticks": ""
             }
            }
           }
          ],
          "bar": [
           {
            "error_x": {
             "color": "#f2f5fa"
            },
            "error_y": {
             "color": "#f2f5fa"
            },
            "marker": {
             "line": {
              "color": "rgb(17,17,17)",
              "width": 0.5
             },
             "pattern": {
              "fillmode": "overlay",
              "size": 10,
              "solidity": 0.2
             }
            },
            "type": "bar"
           }
          ],
          "scattergeo": [
           {
            "type": "scattergeo",
            "marker": {
             "colorbar": {
              "outlinewidth": 0,
              "ticks": ""
             }
            }
           }
          ],
          "scatterpolar": [
           {
            "type": "scatterpolar",
            "marker": {
             "colorbar": {
              "outlinewidth": 0,
              "ticks": ""
             }
            }
           }
          ],
          "histogram": [
           {
            "marker": {
             "pattern": {
              "fillmode": "overlay",
              "size": 10,
              "solidity": 0.2
             }
            },
            "type": "histogram"
           }
          ],
          "scattergl": [
           {
            "marker": {
             "line": {
              "color": "#283442"
             }
            },
            "type": "scattergl"
           }
          ],
          "scatter3d": [
           {
            "type": "scatter3d",
            "line": {
             "colorbar": {
              "outlinewidth": 0,
              "ticks": ""
             }
            },
            "marker": {
             "colorbar": {
              "outlinewidth": 0,
              "ticks": ""
             }
            }
           }
          ],
          "scattermap": [
           {
            "type": "scattermap",
            "marker": {
             "colorbar": {
              "outlinewidth": 0,
              "ticks": ""
             }
            }
           }
          ],
          "scattermapbox": [
           {
            "type": "scattermapbox",
            "marker": {
             "colorbar": {
              "outlinewidth": 0,
              "ticks": ""
             }
            }
           }
          ],
          "scatterternary": [
           {
            "type": "scatterternary",
            "marker": {
             "colorbar": {
              "outlinewidth": 0,
              "ticks": ""
             }
            }
           }
          ],
          "scattercarpet": [
           {
            "type": "scattercarpet",
            "marker": {
             "colorbar": {
              "outlinewidth": 0,
              "ticks": ""
             }
            }
           }
          ],
          "carpet": [
           {
            "aaxis": {
             "endlinecolor": "#A2B1C6",
             "gridcolor": "#506784",
             "linecolor": "#506784",
             "minorgridcolor": "#506784",
             "startlinecolor": "#A2B1C6"
            },
            "baxis": {
             "endlinecolor": "#A2B1C6",
             "gridcolor": "#506784",
             "linecolor": "#506784",
             "minorgridcolor": "#506784",
             "startlinecolor": "#A2B1C6"
            },
            "type": "carpet"
           }
          ],
          "table": [
           {
            "cells": {
             "fill": {
              "color": "#506784"
             },
             "line": {
              "color": "rgb(17,17,17)"
             }
            },
            "header": {
             "fill": {
              "color": "#2a3f5f"
             },
             "line": {
              "color": "rgb(17,17,17)"
             }
            },
            "type": "table"
           }
          ],
          "barpolar": [
           {
            "marker": {
             "line": {
              "color": "rgb(17,17,17)",
              "width": 0.5
             },
             "pattern": {
              "fillmode": "overlay",
              "size": 10,
              "solidity": 0.2
             }
            },
            "type": "barpolar"
           }
          ],
          "pie": [
           {
            "automargin": true,
            "type": "pie"
           }
          ]
         },
         "layout": {
          "autotypenumbers": "strict",
          "colorway": [
           "#636efa",
           "#EF553B",
           "#00cc96",
           "#ab63fa",
           "#FFA15A",
           "#19d3f3",
           "#FF6692",
           "#B6E880",
           "#FF97FF",
           "#FECB52"
          ],
          "font": {
           "color": "#f2f5fa"
          },
          "hovermode": "closest",
          "hoverlabel": {
           "align": "left"
          },
          "paper_bgcolor": "rgb(17,17,17)",
          "plot_bgcolor": "rgb(17,17,17)",
          "polar": {
           "bgcolor": "rgb(17,17,17)",
           "angularaxis": {
            "gridcolor": "#506784",
            "linecolor": "#506784",
            "ticks": ""
           },
           "radialaxis": {
            "gridcolor": "#506784",
            "linecolor": "#506784",
            "ticks": ""
           }
          },
          "ternary": {
           "bgcolor": "rgb(17,17,17)",
           "aaxis": {
            "gridcolor": "#506784",
            "linecolor": "#506784",
            "ticks": ""
           },
           "baxis": {
            "gridcolor": "#506784",
            "linecolor": "#506784",
            "ticks": ""
           },
           "caxis": {
            "gridcolor": "#506784",
            "linecolor": "#506784",
            "ticks": ""
           }
          },
          "coloraxis": {
           "colorbar": {
            "outlinewidth": 0,
            "ticks": ""
           }
          },
          "colorscale": {
           "sequential": [
            [
             0.0,
             "#0d0887"
            ],
            [
             0.1111111111111111,
             "#46039f"
            ],
            [
             0.2222222222222222,
             "#7201a8"
            ],
            [
             0.3333333333333333,
             "#9c179e"
            ],
            [
             0.4444444444444444,
             "#bd3786"
            ],
            [
             0.5555555555555556,
             "#d8576b"
            ],
            [
             0.6666666666666666,
             "#ed7953"
            ],
            [
             0.7777777777777778,
             "#fb9f3a"
            ],
            [
             0.8888888888888888,
             "#fdca26"
            ],
            [
             1.0,
             "#f0f921"
            ]
           ],
           "sequentialminus": [
            [
             0.0,
             "#0d0887"
            ],
            [
             0.1111111111111111,
             "#46039f"
            ],
            [
             0.2222222222222222,
             "#7201a8"
            ],
            [
             0.3333333333333333,
             "#9c179e"
            ],
            [
             0.4444444444444444,
             "#bd3786"
            ],
            [
             0.5555555555555556,
             "#d8576b"
            ],
            [
             0.6666666666666666,
             "#ed7953"
            ],
            [
             0.7777777777777778,
             "#fb9f3a"
            ],
            [
             0.8888888888888888,
             "#fdca26"
            ],
            [
             1.0,
             "#f0f921"
            ]
           ],
           "diverging": [
            [
             0,
             "#8e0152"
            ],
            [
             0.1,
             "#c51b7d"
            ],
            [
             0.2,
             "#de77ae"
            ],
            [
             0.3,
             "#f1b6da"
            ],
            [
             0.4,
             "#fde0ef"
            ],
            [
             0.5,
             "#f7f7f7"
            ],
            [
             0.6,
             "#e6f5d0"
            ],
            [
             0.7,
             "#b8e186"
            ],
            [
             0.8,
             "#7fbc41"
            ],
            [
             0.9,
             "#4d9221"
            ],
            [
             1,
             "#276419"
            ]
           ]
          },
          "xaxis": {
           "gridcolor": "#283442",
           "linecolor": "#506784",
           "ticks": "",
           "title": {
            "standoff": 15
           },
           "zerolinecolor": "#283442",
           "automargin": true,
           "zerolinewidth": 2
          },
          "yaxis": {
           "gridcolor": "#283442",
           "linecolor": "#506784",
           "ticks": "",
           "title": {
            "standoff": 15
           },
           "zerolinecolor": "#283442",
           "automargin": true,
           "zerolinewidth": 2
          },
          "scene": {
           "xaxis": {
            "backgroundcolor": "rgb(17,17,17)",
            "gridcolor": "#506784",
            "linecolor": "#506784",
            "showbackground": true,
            "ticks": "",
            "zerolinecolor": "#C8D4E3",
            "gridwidth": 2
           },
           "yaxis": {
            "backgroundcolor": "rgb(17,17,17)",
            "gridcolor": "#506784",
            "linecolor": "#506784",
            "showbackground": true,
            "ticks": "",
            "zerolinecolor": "#C8D4E3",
            "gridwidth": 2
           },
           "zaxis": {
            "backgroundcolor": "rgb(17,17,17)",
            "gridcolor": "#506784",
            "linecolor": "#506784",
            "showbackground": true,
            "ticks": "",
            "zerolinecolor": "#C8D4E3",
            "gridwidth": 2
           }
          },
          "shapedefaults": {
           "line": {
            "color": "#f2f5fa"
           }
          },
          "annotationdefaults": {
           "arrowcolor": "#f2f5fa",
           "arrowhead": 0,
           "arrowwidth": 1
          },
          "geo": {
           "bgcolor": "rgb(17,17,17)",
           "landcolor": "rgb(17,17,17)",
           "subunitcolor": "#506784",
           "showland": true,
           "showlakes": true,
           "lakecolor": "rgb(17,17,17)"
          },
          "title": {
           "x": 0.05
          },
          "updatemenudefaults": {
           "bgcolor": "#506784",
           "borderwidth": 0
          },
          "sliderdefaults": {
           "bgcolor": "#C8D4E3",
           "borderwidth": 1,
           "bordercolor": "rgb(17,17,17)",
           "tickwidth": 0
          },
          "mapbox": {
           "style": "dark"
          }
         }
        },
        "xaxis": {
         "anchor": "y",
         "domain": [
          0.0,
          1.0
         ],
         "title": {
          "text": "Clusters"
         }
        },
        "yaxis": {
         "anchor": "x",
         "domain": [
          0.0,
          1.0
         ],
         "title": {
          "text": "index"
         }
        },
        "legend": {
         "tracegroupgap": 0
        },
        "margin": {
         "t": 60
        },
        "title": {
         "text": "Affinity Propagation"
        }
       },
       "config": {
        "plotlyServerURL": "https://plot.ly"
       }
      }
     },
     "metadata": {},
     "output_type": "display_data"
    },
    {
     "data": {
      "application/vnd.plotly.v1+json": {
       "data": [
        {
         "hovertemplate": "x=%{x}<br>index=%{y}<extra></extra>",
         "legendgroup": "",
         "marker": {
          "color": "#636efa",
          "symbol": "circle"
         },
         "mode": "markers",
         "name": "",
         "showlegend": false,
         "x": {
          "dtype": "i1",
          "bdata": "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"
         },
         "xaxis": "x",
         "y": {
          "dtype": "i2",
          "bdata": "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"
         },
         "yaxis": "y",
         "type": "scattergl"
        }
       ],
       "layout": {
        "template": {
         "data": {
          "histogram2dcontour": [
           {
            "type": "histogram2dcontour",
            "colorbar": {
             "outlinewidth": 0,
             "ticks": ""
            },
            "colorscale": [
             [
              0.0,
              "#0d0887"
             ],
             [
              0.1111111111111111,
              "#46039f"
             ],
             [
              0.2222222222222222,
              "#7201a8"
             ],
             [
              0.3333333333333333,
              "#9c179e"
             ],
             [
              0.4444444444444444,
              "#bd3786"
             ],
             [
              0.5555555555555556,
              "#d8576b"
             ],
             [
              0.6666666666666666,
              "#ed7953"
             ],
             [
              0.7777777777777778,
              "#fb9f3a"
             ],
             [
              0.8888888888888888,
              "#fdca26"
             ],
             [
              1.0,
              "#f0f921"
             ]
            ]
           }
          ],
          "choropleth": [
           {
            "type": "choropleth",
            "colorbar": {
             "outlinewidth": 0,
             "ticks": ""
            }
           }
          ],
          "histogram2d": [
           {
            "type": "histogram2d",
            "colorbar": {
             "outlinewidth": 0,
             "ticks": ""
            },
            "colorscale": [
             [
              0.0,
              "#0d0887"
             ],
             [
              0.1111111111111111,
              "#46039f"
             ],
             [
              0.2222222222222222,
              "#7201a8"
             ],
             [
              0.3333333333333333,
              "#9c179e"
             ],
             [
              0.4444444444444444,
              "#bd3786"
             ],
             [
              0.5555555555555556,
              "#d8576b"
             ],
             [
              0.6666666666666666,
              "#ed7953"
             ],
             [
              0.7777777777777778,
              "#fb9f3a"
             ],
             [
              0.8888888888888888,
              "#fdca26"
             ],
             [
              1.0,
              "#f0f921"
             ]
            ]
           }
          ],
          "heatmap": [
           {
            "type": "heatmap",
            "colorbar": {
             "outlinewidth": 0,
             "ticks": ""
            },
            "colorscale": [
             [
              0.0,
              "#0d0887"
             ],
             [
              0.1111111111111111,
              "#46039f"
             ],
             [
              0.2222222222222222,
              "#7201a8"
             ],
             [
              0.3333333333333333,
              "#9c179e"
             ],
             [
              0.4444444444444444,
              "#bd3786"
             ],
             [
              0.5555555555555556,
              "#d8576b"
             ],
             [
              0.6666666666666666,
              "#ed7953"
             ],
             [
              0.7777777777777778,
              "#fb9f3a"
             ],
             [
              0.8888888888888888,
              "#fdca26"
             ],
             [
              1.0,
              "#f0f921"
             ]
            ]
           }
          ],
          "contourcarpet": [
           {
            "type": "contourcarpet",
            "colorbar": {
             "outlinewidth": 0,
             "ticks": ""
            }
           }
          ],
          "contour": [
           {
            "type": "contour",
            "colorbar": {
             "outlinewidth": 0,
             "ticks": ""
            },
            "colorscale": [
             [
              0.0,
              "#0d0887"
             ],
             [
              0.1111111111111111,
              "#46039f"
             ],
             [
              0.2222222222222222,
              "#7201a8"
             ],
             [
              0.3333333333333333,
              "#9c179e"
             ],
             [
              0.4444444444444444,
              "#bd3786"
             ],
             [
              0.5555555555555556,
              "#d8576b"
             ],
             [
              0.6666666666666666,
              "#ed7953"
             ],
             [
              0.7777777777777778,
              "#fb9f3a"
             ],
             [
              0.8888888888888888,
              "#fdca26"
             ],
             [
              1.0,
              "#f0f921"
             ]
            ]
           }
          ],
          "surface": [
           {
            "type": "surface",
            "colorbar": {
             "outlinewidth": 0,
             "ticks": ""
            },
            "colorscale": [
             [
              0.0,
              "#0d0887"
             ],
             [
              0.1111111111111111,
              "#46039f"
             ],
             [
              0.2222222222222222,
              "#7201a8"
             ],
             [
              0.3333333333333333,
              "#9c179e"
             ],
             [
              0.4444444444444444,
              "#bd3786"
             ],
             [
              0.5555555555555556,
              "#d8576b"
             ],
             [
              0.6666666666666666,
              "#ed7953"
             ],
             [
              0.7777777777777778,
              "#fb9f3a"
             ],
             [
              0.8888888888888888,
              "#fdca26"
             ],
             [
              1.0,
              "#f0f921"
             ]
            ]
           }
          ],
          "mesh3d": [
           {
            "type": "mesh3d",
            "colorbar": {
             "outlinewidth": 0,
             "ticks": ""
            }
           }
          ],
          "scatter": [
           {
            "marker": {
             "line": {
              "color": "#283442"
             }
            },
            "type": "scatter"
           }
          ],
          "parcoords": [
           {
            "type": "parcoords",
            "line": {
             "colorbar": {
              "outlinewidth": 0,
              "ticks": ""
             }
            }
           }
          ],
          "scatterpolargl": [
           {
            "type": "scatterpolargl",
            "marker": {
             "colorbar": {
              "outlinewidth": 0,
              "ticks": ""
             }
            }
           }
          ],
          "bar": [
           {
            "error_x": {
             "color": "#f2f5fa"
            },
            "error_y": {
             "color": "#f2f5fa"
            },
            "marker": {
             "line": {
              "color": "rgb(17,17,17)",
              "width": 0.5
             },
             "pattern": {
              "fillmode": "overlay",
              "size": 10,
              "solidity": 0.2
             }
            },
            "type": "bar"
           }
          ],
          "scattergeo": [
           {
            "type": "scattergeo",
            "marker": {
             "colorbar": {
              "outlinewidth": 0,
              "ticks": ""
             }
            }
           }
          ],
          "scatterpolar": [
           {
            "type": "scatterpolar",
            "marker": {
             "colorbar": {
              "outlinewidth": 0,
              "ticks": ""
             }
            }
           }
          ],
          "histogram": [
           {
            "marker": {
             "pattern": {
              "fillmode": "overlay",
              "size": 10,
              "solidity": 0.2
             }
            },
            "type": "histogram"
           }
          ],
          "scattergl": [
           {
            "marker": {
             "line": {
              "color": "#283442"
             }
            },
            "type": "scattergl"
           }
          ],
          "scatter3d": [
           {
            "type": "scatter3d",
            "line": {
             "colorbar": {
              "outlinewidth": 0,
              "ticks": ""
             }
            },
            "marker": {
             "colorbar": {
              "outlinewidth": 0,
              "ticks": ""
             }
            }
           }
          ],
          "scattermap": [
           {
            "type": "scattermap",
            "marker": {
             "colorbar": {
              "outlinewidth": 0,
              "ticks": ""
             }
            }
           }
          ],
          "scattermapbox": [
           {
            "type": "scattermapbox",
            "marker": {
             "colorbar": {
              "outlinewidth": 0,
              "ticks": ""
             }
            }
           }
          ],
          "scatterternary": [
           {
            "type": "scatterternary",
            "marker": {
             "colorbar": {
              "outlinewidth": 0,
              "ticks": ""
             }
            }
           }
          ],
          "scattercarpet": [
           {
            "type": "scattercarpet",
            "marker": {
             "colorbar": {
              "outlinewidth": 0,
              "ticks": ""
             }
            }
           }
          ],
          "carpet": [
           {
            "aaxis": {
             "endlinecolor": "#A2B1C6",
             "gridcolor": "#506784",
             "linecolor": "#506784",
             "minorgridcolor": "#506784",
             "startlinecolor": "#A2B1C6"
            },
            "baxis": {
             "endlinecolor": "#A2B1C6",
             "gridcolor": "#506784",
             "linecolor": "#506784",
             "minorgridcolor": "#506784",
             "startlinecolor": "#A2B1C6"
            },
            "type": "carpet"
           }
          ],
          "table": [
           {
            "cells": {
             "fill": {
              "color": "#506784"
             },
             "line": {
              "color": "rgb(17,17,17)"
             }
            },
            "header": {
             "fill": {
              "color": "#2a3f5f"
             },
             "line": {
              "color": "rgb(17,17,17)"
             }
            },
            "type": "table"
           }
          ],
          "barpolar": [
           {
            "marker": {
             "line": {
              "color": "rgb(17,17,17)",
              "width": 0.5
             },
             "pattern": {
              "fillmode": "overlay",
              "size": 10,
              "solidity": 0.2
             }
            },
            "type": "barpolar"
           }
          ],
          "pie": [
           {
            "automargin": true,
            "type": "pie"
           }
          ]
         },
         "layout": {
          "autotypenumbers": "strict",
          "colorway": [
           "#636efa",
           "#EF553B",
           "#00cc96",
           "#ab63fa",
           "#FFA15A",
           "#19d3f3",
           "#FF6692",
           "#B6E880",
           "#FF97FF",
           "#FECB52"
          ],
          "font": {
           "color": "#f2f5fa"
          },
          "hovermode": "closest",
          "hoverlabel": {
           "align": "left"
          },
          "paper_bgcolor": "rgb(17,17,17)",
          "plot_bgcolor": "rgb(17,17,17)",
          "polar": {
           "bgcolor": "rgb(17,17,17)",
           "angularaxis": {
            "gridcolor": "#506784",
            "linecolor": "#506784",
            "ticks": ""
           },
           "radialaxis": {
            "gridcolor": "#506784",
            "linecolor": "#506784",
            "ticks": ""
           }
          },
          "ternary": {
           "bgcolor": "rgb(17,17,17)",
           "aaxis": {
            "gridcolor": "#506784",
            "linecolor": "#506784",
            "ticks": ""
           },
           "baxis": {
            "gridcolor": "#506784",
            "linecolor": "#506784",
            "ticks": ""
           },
           "caxis": {
            "gridcolor": "#506784",
            "linecolor": "#506784",
            "ticks": ""
           }
          },
          "coloraxis": {
           "colorbar": {
            "outlinewidth": 0,
            "ticks": ""
           }
          },
          "colorscale": {
           "sequential": [
            [
             0.0,
             "#0d0887"
            ],
            [
             0.1111111111111111,
             "#46039f"
            ],
            [
             0.2222222222222222,
             "#7201a8"
            ],
            [
             0.3333333333333333,
             "#9c179e"
            ],
            [
             0.4444444444444444,
             "#bd3786"
            ],
            [
             0.5555555555555556,
             "#d8576b"
            ],
            [
             0.6666666666666666,
             "#ed7953"
            ],
            [
             0.7777777777777778,
             "#fb9f3a"
            ],
            [
             0.8888888888888888,
             "#fdca26"
            ],
            [
             1.0,
             "#f0f921"
            ]
           ],
           "sequentialminus": [
            [
             0.0,
             "#0d0887"
            ],
            [
             0.1111111111111111,
             "#46039f"
            ],
            [
             0.2222222222222222,
             "#7201a8"
            ],
            [
             0.3333333333333333,
             "#9c179e"
            ],
            [
             0.4444444444444444,
             "#bd3786"
            ],
            [
             0.5555555555555556,
             "#d8576b"
            ],
            [
             0.6666666666666666,
             "#ed7953"
            ],
            [
             0.7777777777777778,
             "#fb9f3a"
            ],
            [
             0.8888888888888888,
             "#fdca26"
            ],
            [
             1.0,
             "#f0f921"
            ]
           ],
           "diverging": [
            [
             0,
             "#8e0152"
            ],
            [
             0.1,
             "#c51b7d"
            ],
            [
             0.2,
             "#de77ae"
            ],
            [
             0.3,
             "#f1b6da"
            ],
            [
             0.4,
             "#fde0ef"
            ],
            [
             0.5,
             "#f7f7f7"
            ],
            [
             0.6,
             "#e6f5d0"
            ],
            [
             0.7,
             "#b8e186"
            ],
            [
             0.8,
             "#7fbc41"
            ],
            [
             0.9,
             "#4d9221"
            ],
            [
             1,
             "#276419"
            ]
           ]
          },
          "xaxis": {
           "gridcolor": "#283442",
           "linecolor": "#506784",
           "ticks": "",
           "title": {
            "standoff": 15
           },
           "zerolinecolor": "#283442",
           "automargin": true,
           "zerolinewidth": 2
          },
          "yaxis": {
           "gridcolor": "#283442",
           "linecolor": "#506784",
           "ticks": "",
           "title": {
            "standoff": 15
           },
           "zerolinecolor": "#283442",
           "automargin": true,
           "zerolinewidth": 2
          },
          "scene": {
           "xaxis": {
            "backgroundcolor": "rgb(17,17,17)",
            "gridcolor": "#506784",
            "linecolor": "#506784",
            "showbackground": true,
            "ticks": "",
            "zerolinecolor": "#C8D4E3",
            "gridwidth": 2
           },
           "yaxis": {
            "backgroundcolor": "rgb(17,17,17)",
            "gridcolor": "#506784",
            "linecolor": "#506784",
            "showbackground": true,
            "ticks": "",
            "zerolinecolor": "#C8D4E3",
            "gridwidth": 2
           },
           "zaxis": {
            "backgroundcolor": "rgb(17,17,17)",
            "gridcolor": "#506784",
            "linecolor": "#506784",
            "showbackground": true,
            "ticks": "",
            "zerolinecolor": "#C8D4E3",
            "gridwidth": 2
           }
          },
          "shapedefaults": {
           "line": {
            "color": "#f2f5fa"
           }
          },
          "annotationdefaults": {
           "arrowcolor": "#f2f5fa",
           "arrowhead": 0,
           "arrowwidth": 1
          },
          "geo": {
           "bgcolor": "rgb(17,17,17)",
           "landcolor": "rgb(17,17,17)",
           "subunitcolor": "#506784",
           "showland": true,
           "showlakes": true,
           "lakecolor": "rgb(17,17,17)"
          },
          "title": {
           "x": 0.05
          },
          "updatemenudefaults": {
           "bgcolor": "#506784",
           "borderwidth": 0
          },
          "sliderdefaults": {
           "bgcolor": "#C8D4E3",
           "borderwidth": 1,
           "bordercolor": "rgb(17,17,17)",
           "tickwidth": 0
          },
          "mapbox": {
           "style": "dark"
          }
         }
        },
        "xaxis": {
         "anchor": "y",
         "domain": [
          0.0,
          1.0
         ],
         "title": {
          "text": "Clusters"
         }
        },
        "yaxis": {
         "anchor": "x",
         "domain": [
          0.0,
          1.0
         ],
         "title": {
          "text": "index"
         }
        },
        "legend": {
         "tracegroupgap": 0
        },
        "margin": {
         "t": 60
        },
        "title": {
         "text": "DBSCAN"
        }
       },
       "config": {
        "plotlyServerURL": "https://plot.ly"
       }
      }
     },
     "metadata": {},
     "output_type": "display_data"
    },
    {
     "data": {
      "application/vnd.plotly.v1+json": {
       "data": [
        {
         "hovertemplate": "x=%{x}<br>index=%{y}<extra></extra>",
         "legendgroup": "",
         "marker": {
          "color": "#636efa",
          "symbol": "circle"
         },
         "mode": "markers",
         "name": "",
         "showlegend": false,
         "x": {
          "dtype": "i4",
          "bdata": "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"
         },
         "xaxis": "x",
         "y": {
          "dtype": "i2",
          "bdata": "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"
         },
         "yaxis": "y",
         "type": "scattergl"
        }
       ],
       "layout": {
        "template": {
         "data": {
          "histogram2dcontour": [
           {
            "type": "histogram2dcontour",
            "colorbar": {
             "outlinewidth": 0,
             "ticks": ""
            },
            "colorscale": [
             [
              0.0,
              "#0d0887"
             ],
             [
              0.1111111111111111,
              "#46039f"
             ],
             [
              0.2222222222222222,
              "#7201a8"
             ],
             [
              0.3333333333333333,
              "#9c179e"
             ],
             [
              0.4444444444444444,
              "#bd3786"
             ],
             [
              0.5555555555555556,
              "#d8576b"
             ],
             [
              0.6666666666666666,
              "#ed7953"
             ],
             [
              0.7777777777777778,
              "#fb9f3a"
             ],
             [
              0.8888888888888888,
              "#fdca26"
             ],
             [
              1.0,
              "#f0f921"
             ]
            ]
           }
          ],
          "choropleth": [
           {
            "type": "choropleth",
            "colorbar": {
             "outlinewidth": 0,
             "ticks": ""
            }
           }
          ],
          "histogram2d": [
           {
            "type": "histogram2d",
            "colorbar": {
             "outlinewidth": 0,
             "ticks": ""
            },
            "colorscale": [
             [
              0.0,
              "#0d0887"
             ],
             [
              0.1111111111111111,
              "#46039f"
             ],
             [
              0.2222222222222222,
              "#7201a8"
             ],
             [
              0.3333333333333333,
              "#9c179e"
             ],
             [
              0.4444444444444444,
              "#bd3786"
             ],
             [
              0.5555555555555556,
              "#d8576b"
             ],
             [
              0.6666666666666666,
              "#ed7953"
             ],
             [
              0.7777777777777778,
              "#fb9f3a"
             ],
             [
              0.8888888888888888,
              "#fdca26"
             ],
             [
              1.0,
              "#f0f921"
             ]
            ]
           }
          ],
          "heatmap": [
           {
            "type": "heatmap",
            "colorbar": {
             "outlinewidth": 0,
             "ticks": ""
            },
            "colorscale": [
             [
              0.0,
              "#0d0887"
             ],
             [
              0.1111111111111111,
              "#46039f"
             ],
             [
              0.2222222222222222,
              "#7201a8"
             ],
             [
              0.3333333333333333,
              "#9c179e"
             ],
             [
              0.4444444444444444,
              "#bd3786"
             ],
             [
              0.5555555555555556,
              "#d8576b"
             ],
             [
              0.6666666666666666,
              "#ed7953"
             ],
             [
              0.7777777777777778,
              "#fb9f3a"
             ],
             [
              0.8888888888888888,
              "#fdca26"
             ],
             [
              1.0,
              "#f0f921"
             ]
            ]
           }
          ],
          "contourcarpet": [
           {
            "type": "contourcarpet",
            "colorbar": {
             "outlinewidth": 0,
             "ticks": ""
            }
           }
          ],
          "contour": [
           {
            "type": "contour",
            "colorbar": {
             "outlinewidth": 0,
             "ticks": ""
            },
            "colorscale": [
             [
              0.0,
              "#0d0887"
             ],
             [
              0.1111111111111111,
              "#46039f"
             ],
             [
              0.2222222222222222,
              "#7201a8"
             ],
             [
              0.3333333333333333,
              "#9c179e"
             ],
             [
              0.4444444444444444,
              "#bd3786"
             ],
             [
              0.5555555555555556,
              "#d8576b"
             ],
             [
              0.6666666666666666,
              "#ed7953"
             ],
             [
              0.7777777777777778,
              "#fb9f3a"
             ],
             [
              0.8888888888888888,
              "#fdca26"
             ],
             [
              1.0,
              "#f0f921"
             ]
            ]
           }
          ],
          "surface": [
           {
            "type": "surface",
            "colorbar": {
             "outlinewidth": 0,
             "ticks": ""
            },
            "colorscale": [
             [
              0.0,
              "#0d0887"
             ],
             [
              0.1111111111111111,
              "#46039f"
             ],
             [
              0.2222222222222222,
              "#7201a8"
             ],
             [
              0.3333333333333333,
              "#9c179e"
             ],
             [
              0.4444444444444444,
              "#bd3786"
             ],
             [
              0.5555555555555556,
              "#d8576b"
             ],
             [
              0.6666666666666666,
              "#ed7953"
             ],
             [
              0.7777777777777778,
              "#fb9f3a"
             ],
             [
              0.8888888888888888,
              "#fdca26"
             ],
             [
              1.0,
              "#f0f921"
             ]
            ]
           }
          ],
          "mesh3d": [
           {
            "type": "mesh3d",
            "colorbar": {
             "outlinewidth": 0,
             "ticks": ""
            }
           }
          ],
          "scatter": [
           {
            "marker": {
             "line": {
              "color": "#283442"
             }
            },
            "type": "scatter"
           }
          ],
          "parcoords": [
           {
            "type": "parcoords",
            "line": {
             "colorbar": {
              "outlinewidth": 0,
              "ticks": ""
             }
            }
           }
          ],
          "scatterpolargl": [
           {
            "type": "scatterpolargl",
            "marker": {
             "colorbar": {
              "outlinewidth": 0,
              "ticks": ""
             }
            }
           }
          ],
          "bar": [
           {
            "error_x": {
             "color": "#f2f5fa"
            },
            "error_y": {
             "color": "#f2f5fa"
            },
            "marker": {
             "line": {
              "color": "rgb(17,17,17)",
              "width": 0.5
             },
             "pattern": {
              "fillmode": "overlay",
              "size": 10,
              "solidity": 0.2
             }
            },
            "type": "bar"
           }
          ],
          "scattergeo": [
           {
            "type": "scattergeo",
            "marker": {
             "colorbar": {
              "outlinewidth": 0,
              "ticks": ""
             }
            }
           }
          ],
          "scatterpolar": [
           {
            "type": "scatterpolar",
            "marker": {
             "colorbar": {
              "outlinewidth": 0,
              "ticks": ""
             }
            }
           }
          ],
          "histogram": [
           {
            "marker": {
             "pattern": {
              "fillmode": "overlay",
              "size": 10,
              "solidity": 0.2
             }
            },
            "type": "histogram"
           }
          ],
          "scattergl": [
           {
            "marker": {
             "line": {
              "color": "#283442"
             }
            },
            "type": "scattergl"
           }
          ],
          "scatter3d": [
           {
            "type": "scatter3d",
            "line": {
             "colorbar": {
              "outlinewidth": 0,
              "ticks": ""
             }
            },
            "marker": {
             "colorbar": {
              "outlinewidth": 0,
              "ticks": ""
             }
            }
           }
          ],
          "scattermap": [
           {
            "type": "scattermap",
            "marker": {
             "colorbar": {
              "outlinewidth": 0,
              "ticks": ""
             }
            }
           }
          ],
          "scattermapbox": [
           {
            "type": "scattermapbox",
            "marker": {
             "colorbar": {
              "outlinewidth": 0,
              "ticks": ""
             }
            }
           }
          ],
          "scatterternary": [
           {
            "type": "scatterternary",
            "marker": {
             "colorbar": {
              "outlinewidth": 0,
              "ticks": ""
             }
            }
           }
          ],
          "scattercarpet": [
           {
            "type": "scattercarpet",
            "marker": {
             "colorbar": {
              "outlinewidth": 0,
              "ticks": ""
             }
            }
           }
          ],
          "carpet": [
           {
            "aaxis": {
             "endlinecolor": "#A2B1C6",
             "gridcolor": "#506784",
             "linecolor": "#506784",
             "minorgridcolor": "#506784",
             "startlinecolor": "#A2B1C6"
            },
            "baxis": {
             "endlinecolor": "#A2B1C6",
             "gridcolor": "#506784",
             "linecolor": "#506784",
             "minorgridcolor": "#506784",
             "startlinecolor": "#A2B1C6"
            },
            "type": "carpet"
           }
          ],
          "table": [
           {
            "cells": {
             "fill": {
              "color": "#506784"
             },
             "line": {
              "color": "rgb(17,17,17)"
             }
            },
            "header": {
             "fill": {
              "color": "#2a3f5f"
             },
             "line": {
              "color": "rgb(17,17,17)"
             }
            },
            "type": "table"
           }
          ],
          "barpolar": [
           {
            "marker": {
             "line": {
              "color": "rgb(17,17,17)",
              "width": 0.5
             },
             "pattern": {
              "fillmode": "overlay",
              "size": 10,
              "solidity": 0.2
             }
            },
            "type": "barpolar"
           }
          ],
          "pie": [
           {
            "automargin": true,
            "type": "pie"
           }
          ]
         },
         "layout": {
          "autotypenumbers": "strict",
          "colorway": [
           "#636efa",
           "#EF553B",
           "#00cc96",
           "#ab63fa",
           "#FFA15A",
           "#19d3f3",
           "#FF6692",
           "#B6E880",
           "#FF97FF",
           "#FECB52"
          ],
          "font": {
           "color": "#f2f5fa"
          },
          "hovermode": "closest",
          "hoverlabel": {
           "align": "left"
          },
          "paper_bgcolor": "rgb(17,17,17)",
          "plot_bgcolor": "rgb(17,17,17)",
          "polar": {
           "bgcolor": "rgb(17,17,17)",
           "angularaxis": {
            "gridcolor": "#506784",
            "linecolor": "#506784",
            "ticks": ""
           },
           "radialaxis": {
            "gridcolor": "#506784",
            "linecolor": "#506784",
            "ticks": ""
           }
          },
          "ternary": {
           "bgcolor": "rgb(17,17,17)",
           "aaxis": {
            "gridcolor": "#506784",
            "linecolor": "#506784",
            "ticks": ""
           },
           "baxis": {
            "gridcolor": "#506784",
            "linecolor": "#506784",
            "ticks": ""
           },
           "caxis": {
            "gridcolor": "#506784",
            "linecolor": "#506784",
            "ticks": ""
           }
          },
          "coloraxis": {
           "colorbar": {
            "outlinewidth": 0,
            "ticks": ""
           }
          },
          "colorscale": {
           "sequential": [
            [
             0.0,
             "#0d0887"
            ],
            [
             0.1111111111111111,
             "#46039f"
            ],
            [
             0.2222222222222222,
             "#7201a8"
            ],
            [
             0.3333333333333333,
             "#9c179e"
            ],
            [
             0.4444444444444444,
             "#bd3786"
            ],
            [
             0.5555555555555556,
             "#d8576b"
            ],
            [
             0.6666666666666666,
             "#ed7953"
            ],
            [
             0.7777777777777778,
             "#fb9f3a"
            ],
            [
             0.8888888888888888,
             "#fdca26"
            ],
            [
             1.0,
             "#f0f921"
            ]
           ],
           "sequentialminus": [
            [
             0.0,
             "#0d0887"
            ],
            [
             0.1111111111111111,
             "#46039f"
            ],
            [
             0.2222222222222222,
             "#7201a8"
            ],
            [
             0.3333333333333333,
             "#9c179e"
            ],
            [
             0.4444444444444444,
             "#bd3786"
            ],
            [
             0.5555555555555556,
             "#d8576b"
            ],
            [
             0.6666666666666666,
             "#ed7953"
            ],
            [
             0.7777777777777778,
             "#fb9f3a"
            ],
            [
             0.8888888888888888,
             "#fdca26"
            ],
            [
             1.0,
             "#f0f921"
            ]
           ],
           "diverging": [
            [
             0,
             "#8e0152"
            ],
            [
             0.1,
             "#c51b7d"
            ],
            [
             0.2,
             "#de77ae"
            ],
            [
             0.3,
             "#f1b6da"
            ],
            [
             0.4,
             "#fde0ef"
            ],
            [
             0.5,
             "#f7f7f7"
            ],
            [
             0.6,
             "#e6f5d0"
            ],
            [
             0.7,
             "#b8e186"
            ],
            [
             0.8,
             "#7fbc41"
            ],
            [
             0.9,
             "#4d9221"
            ],
            [
             1,
             "#276419"
            ]
           ]
          },
          "xaxis": {
           "gridcolor": "#283442",
           "linecolor": "#506784",
           "ticks": "",
           "title": {
            "standoff": 15
           },
           "zerolinecolor": "#283442",
           "automargin": true,
           "zerolinewidth": 2
          },
          "yaxis": {
           "gridcolor": "#283442",
           "linecolor": "#506784",
           "ticks": "",
           "title": {
            "standoff": 15
           },
           "zerolinecolor": "#283442",
           "automargin": true,
           "zerolinewidth": 2
          },
          "scene": {
           "xaxis": {
            "backgroundcolor": "rgb(17,17,17)",
            "gridcolor": "#506784",
            "linecolor": "#506784",
            "showbackground": true,
            "ticks": "",
            "zerolinecolor": "#C8D4E3",
            "gridwidth": 2
           },
           "yaxis": {
            "backgroundcolor": "rgb(17,17,17)",
            "gridcolor": "#506784",
            "linecolor": "#506784",
            "showbackground": true,
            "ticks": "",
            "zerolinecolor": "#C8D4E3",
            "gridwidth": 2
           },
           "zaxis": {
            "backgroundcolor": "rgb(17,17,17)",
            "gridcolor": "#506784",
            "linecolor": "#506784",
            "showbackground": true,
            "ticks": "",
            "zerolinecolor": "#C8D4E3",
            "gridwidth": 2
           }
          },
          "shapedefaults": {
           "line": {
            "color": "#f2f5fa"
           }
          },
          "annotationdefaults": {
           "arrowcolor": "#f2f5fa",
           "arrowhead": 0,
           "arrowwidth": 1
          },
          "geo": {
           "bgcolor": "rgb(17,17,17)",
           "landcolor": "rgb(17,17,17)",
           "subunitcolor": "#506784",
           "showland": true,
           "showlakes": true,
           "lakecolor": "rgb(17,17,17)"
          },
          "title": {
           "x": 0.05
          },
          "updatemenudefaults": {
           "bgcolor": "#506784",
           "borderwidth": 0
          },
          "sliderdefaults": {
           "bgcolor": "#C8D4E3",
           "borderwidth": 1,
           "bordercolor": "rgb(17,17,17)",
           "tickwidth": 0
          },
          "mapbox": {
           "style": "dark"
          }
         }
        },
        "xaxis": {
         "anchor": "y",
         "domain": [
          0.0,
          1.0
         ],
         "title": {
          "text": "Clusters"
         }
        },
        "yaxis": {
         "anchor": "x",
         "domain": [
          0.0,
          1.0
         ],
         "title": {
          "text": "index"
         }
        },
        "legend": {
         "tracegroupgap": 0
        },
        "margin": {
         "t": 60
        },
        "title": {
         "text": "Birch"
        }
       },
       "config": {
        "plotlyServerURL": "https://plot.ly"
       }
      }
     },
     "metadata": {},
     "output_type": "display_data"
    }
   ],
   "execution_count": 64
  },
  {
   "cell_type": "markdown",
   "id": "2d8d2baa9a81b136",
   "metadata": {},
   "source": [
    "Task 4"
   ]
  },
  {
   "cell_type": "code",
   "id": "878a2061917b83d8",
   "metadata": {
    "ExecuteTime": {
     "end_time": "2025-09-24T14:51:03.442004Z",
     "start_time": "2025-09-24T14:48:10.775701Z"
    }
   },
   "source": [
    "import numpy as np\n",
    "\n",
    "\n",
    "def Silhouette_score(point, labelSELF, labels, Data):\n",
    "    clusterSELF = Data[labels == labelSELF].to_numpy()\n",
    "    clusters = Data[labels != labelSELF].to_numpy()\n",
    "    afstand = 0\n",
    "\n",
    "    for points in clusterSELF:\n",
    "        if set(points) == set(point):\n",
    "            continue\n",
    "        afstand += np.linalg.norm(point-points)\n",
    "    a = afstand/len(clusterSELF)\n",
    "\n",
    "    lowest = 999999999\n",
    "    for clust in clusters:\n",
    "        afstand_nearest = 0\n",
    "        for points in clust:\n",
    "            afstand_nearest += np.linalg.norm(point-points)\n",
    "        dis = afstand_nearest/len(clust)\n",
    "        if dis < lowest:\n",
    "            lowest = dis\n",
    "    b = lowest\n",
    "    return (b-a)/(max(b,a))\n",
    "\n",
    "def Silhouette_scores(x, labels):\n",
    "    n = len(x)\n",
    "    sil_values = []\n",
    "    for i in range(n):\n",
    "        sil_values.append(Silhouette_score(point=x.iloc[i].to_numpy(), labelSELF = labels[i], labels = labels, Data= x))\n",
    "    return(sil_values)\n",
    "\n",
    "def score_visualizer(labels, silhouette_values):\n",
    "    fig = go.Figure()\n",
    "\n",
    "    y_lower = 0\n",
    "    for cluster in np.unique(labels):\n",
    "        colors = px.colors.qualitative.Set2\n",
    "\n",
    "        color = colors[cluster % len(colors)]  # cycle through palette\n",
    "        cluster_sil = []\n",
    "        for i in range(len(labels)):\n",
    "            if labels[i] == cluster:\n",
    "                cluster_sil.append(silhouette_values[i])\n",
    "        cluster_sil.sort()\n",
    "        cluster_size = len(cluster_sil)\n",
    "\n",
    "        # Add horizontal bar segment for this cluster\n",
    "        fig.add_trace(go.Bar(\n",
    "            x=cluster_sil,\n",
    "            y=list(range(y_lower, y_lower + cluster_size)),\n",
    "            orientation='h',\n",
    "            marker_color=color,\n",
    "            showlegend=False\n",
    "\n",
    "        ))\n",
    "\n",
    "        y_lower += cluster_size\n",
    "\n",
    "    # Add vertical line for average silhouette\n",
    "    fig.add_vline(x=np.mean(silhouette_values), line_dash=\"dash\", line_color=\"red\")\n",
    "\n",
    "    # Layout\n",
    "    fig.update_layout(\n",
    "        title=\"Silhouette Plot per Cluster\",\n",
    "        xaxis_title=\"Silhouette coefficient values\",\n",
    "        yaxis_title=\"Clustered samples\",\n",
    "        bargap=0.01,\n",
    "        height=600,\n",
    "        plot_bgcolor=\"black\",\n",
    "        paper_bgcolor=\"black\"\n",
    "    )\n",
    "\n",
    "    fig.show()\n",
    "\n",
    "values1 = Silhouette_scores(Sample, labels)\n",
    "print(\"33%\")\n",
    "values2 = Silhouette_scores(Data[:1000], labels2[:1000])\n",
    "print(\"66%\")\n",
    "values3 = Silhouette_scores(Data[:1000], labels3[:1000])\n",
    "print(\"100%\")\n",
    "print()\n",
    "print(\"in graph:\")\n",
    "\n",
    "score_visualizer(labels, values1)\n",
    "score_visualizer(labels2[:1000], values2)\n",
    "score_visualizer(labels3[:1000], values3)\n",
    "\n",
    "# Davies Buildin Score\n",
    "from sklearn.metrics import davies_bouldin_score\n",
    "print(\"Davies Bouldin score:\")\n",
    "print(f\"Affinity propogation: {davies_bouldin_score(Sample, labels)}\")\n",
    "print(f\"DBSCAN: {davies_bouldin_score(Data, labels2)}\")\n",
    "print(f\"Birch Clustering: {davies_bouldin_score(Data, labels3)}\")\n",
    "print()\n",
    "# calinski-harabasz index\n",
    "from sklearn.metrics import calinski_harabasz_score\n",
    "print(\"Calinski Harabasz score:\")\n",
    "print(f\"Affinity propogation: {calinski_harabasz_score(Sample, labels)}\")\n",
    "print(f\"DBSCAN: {calinski_harabasz_score(Data, labels2)}\")\n",
    "print(f\"Birch Clustering: {calinski_harabasz_score(Data, labels3)}\")"
   ],
   "outputs": [
    {
     "name": "stdout",
     "output_type": "stream",
     "text": [
      "33%\n",
      "66%\n",
      "100%\n",
      "\n",
      "in graph:\n"
     ]
    },
    {
     "data": {
      "application/vnd.plotly.v1+json": {
       "data": [
        {
         "marker": {
          "color": "rgb(102,194,165)"
         },
         "orientation": "h",
         "showlegend": false,
         "x": [
          0.7845144285385248,
          0.8098201629404943,
          0.8288467533221757,
          0.8379437486582089,
          0.8437861634917685,
          0.848268108128395,
          0.854400589623165,
          0.8640766218454136,
          0.8735165794689397
         ],
         "y": [
          0,
          1,
          2,
          3,
          4,
          5,
          6,
          7,
          8
         ],
         "type": "bar"
        },
        {
         "marker": {
          "color": "rgb(252,141,98)"
         },
         "orientation": "h",
         "showlegend": false,
         "x": [
          0.6503226963111516,
          0.7700262467688422,
          0.7926342478623967
         ],
         "y": [
          9,
          10,
          11
         ],
         "type": "bar"
        },
        {
         "marker": {
          "color": "rgb(141,160,203)"
         },
         "orientation": "h",
         "showlegend": false,
         "x": [
          0.8475688172051654,
          0.8710241321675446,
          0.8958273244840146,
          0.8972140356445678
         ],
         "y": [
          12,
          13,
          14,
          15
         ],
         "type": "bar"
        },
        {
         "marker": {
          "color": "rgb(231,138,195)"
         },
         "orientation": "h",
         "showlegend": false,
         "x": [
          0.7431968493195474,
          0.7640759423011212,
          0.7806273608379194,
          0.7844925738468184,
          0.8171076236359414,
          0.8452829581527117,
          0.8505748642075178,
          0.8523899526853785,
          0.8561805270682179,
          0.8569870962099871,
          0.8572116055671012,
          0.8615619567930917,
          0.873891147453836,
          0.8778580738421258
         ],
         "y": [
          16,
          17,
          18,
          19,
          20,
          21,
          22,
          23,
          24,
          25,
          26,
          27,
          28,
          29
         ],
         "type": "bar"
        },
        {
         "marker": {
          "color": "rgb(166,216,84)"
         },
         "orientation": "h",
         "showlegend": false,
         "x": [
          0.7300991847377323,
          0.8131057621001453,
          0.8216194767673433,
          0.8260889957897254,
          0.8369775618465577,
          0.8531531413390667,
          0.8588261404634046
         ],
         "y": [
          30,
          31,
          32,
          33,
          34,
          35,
          36
         ],
         "type": "bar"
        },
        {
         "marker": {
          "color": "rgb(255,217,47)"
         },
         "orientation": "h",
         "showlegend": false,
         "x": [
          0.8090816125583518,
          0.813976699585511,
          0.8179477339631456,
          0.8361817386832121,
          0.8407431171616111,
          0.8462136756639124,
          0.8487420601907337,
          0.8491024823310819,
          0.849927261134025,
          0.8512198984094451,
          0.8513338322697426,
          0.8513423527604272,
          0.853574285469187,
          0.85568007201289,
          0.856874553412446,
          0.8581266350613257,
          0.8589759750365021,
          0.8590354467673629,
          0.8596090334606775,
          0.8606087393358797,
          0.8627458574449879,
          0.866265024289034,
          0.868769540111031,
          0.869331809479831,
          0.8700644414644965,
          0.8731642519993827,
          0.8735733289382055,
          0.87377789607966,
          0.8757436810306025,
          0.8758910778613654,
          0.8798421059571094,
          0.880347131830591,
          0.8824088663359195,
          0.8825034527059742,
          0.8835669145363177,
          0.8844026793210727,
          0.884583595890729,
          0.8868061478310078,
          0.8873616444031779,
          0.8886766350218234
         ],
         "y": [
          37,
          38,
          39,
          40,
          41,
          42,
          43,
          44,
          45,
          46,
          47,
          48,
          49,
          50,
          51,
          52,
          53,
          54,
          55,
          56,
          57,
          58,
          59,
          60,
          61,
          62,
          63,
          64,
          65,
          66,
          67,
          68,
          69,
          70,
          71,
          72,
          73,
          74,
          75,
          76
         ],
         "type": "bar"
        },
        {
         "marker": {
          "color": "rgb(229,196,148)"
         },
         "orientation": "h",
         "showlegend": false,
         "x": [
          0.7587371976287055,
          0.8352881267940404,
          0.8423790483327677,
          0.8448706675612425,
          0.8456370987427738,
          0.846676188740831,
          0.8481470892752545,
          0.8494495971013455,
          0.856082053609048,
          0.8642873800974772,
          0.867703656545416,
          0.8695096920024545,
          0.8695159994523474,
          0.8709456043682123,
          0.8719486602555522,
          0.8741360536545688,
          0.8749840571750338,
          0.8755390081790324,
          0.8756545132686469,
          0.8759534820894164,
          0.8761407108916506,
          0.8764425473283277,
          0.8773586833153812,
          0.8784293708746502,
          0.8823495254023023,
          0.8825412628463335,
          0.8836669655617827,
          0.8839129244698442,
          0.8839278230214197,
          0.885589990518695,
          0.8856070348040711,
          0.8872925433208553,
          0.8873759361791028,
          0.8895717760932832,
          0.8901641621806927,
          0.891461973681043,
          0.8915064494747249,
          0.8918697792448981,
          0.8935417994453836,
          0.894175831795126,
          0.8952447093120818,
          0.895254049104359,
          0.896084688487925,
          0.8971845133071371,
          0.8988085107937247,
          0.8989148976277798,
          0.8992281854015033,
          0.9017160271835236,
          0.9055568724098232,
          0.9075808511418733
         ],
         "y": [
          77,
          78,
          79,
          80,
          81,
          82,
          83,
          84,
          85,
          86,
          87,
          88,
          89,
          90,
          91,
          92,
          93,
          94,
          95,
          96,
          97,
          98,
          99,
          100,
          101,
          102,
          103,
          104,
          105,
          106,
          107,
          108,
          109,
          110,
          111,
          112,
          113,
          114,
          115,
          116,
          117,
          118,
          119,
          120,
          121,
          122,
          123,
          124,
          125,
          126
         ],
         "type": "bar"
        },
        {
         "marker": {
          "color": "rgb(179,179,179)"
         },
         "orientation": "h",
         "showlegend": false,
         "x": [
          0.7238043511463718,
          0.8194770893695124,
          0.8549142373917165,
          0.863726821372052,
          0.8707739772355172,
          0.8779209972381815,
          0.8823831644893346,
          0.8849933255929839,
          0.8861596821599851,
          0.8990314580304674,
          0.9002878012950247,
          0.9003591243316057,
          0.9063824099787242,
          0.9063824099787242,
          0.9063824099787242,
          0.912865043965593,
          0.912865043965593
         ],
         "y": [
          127,
          128,
          129,
          130,
          131,
          132,
          133,
          134,
          135,
          136,
          137,
          138,
          139,
          140,
          141,
          142,
          143
         ],
         "type": "bar"
        },
        {
         "marker": {
          "color": "rgb(102,194,165)"
         },
         "orientation": "h",
         "showlegend": false,
         "x": [
          0.7795934556187676,
          0.8575751302915117,
          0.8589375409235798,
          0.8614820855823421,
          0.878498248820668,
          0.8796422560156412,
          0.8815485515997772,
          0.8897395854659437,
          0.8926385989684172
         ],
         "y": [
          144,
          145,
          146,
          147,
          148,
          149,
          150,
          151,
          152
         ],
         "type": "bar"
        },
        {
         "marker": {
          "color": "rgb(252,141,98)"
         },
         "orientation": "h",
         "showlegend": false,
         "x": [
          0.7395902718348397,
          0.7580788617364425,
          0.7706749429128624,
          0.8248893570283182,
          0.8270077795334457,
          0.8336790824536228,
          0.8345408675277635,
          0.8409913740446939,
          0.8471380387869234,
          0.8588470429649473,
          0.8613980195527823,
          0.8615964395337073,
          0.8620805011253851,
          0.8628113472648858,
          0.8639950642248296,
          0.8656818252171073,
          0.8658699572144629,
          0.8669628766277909,
          0.8678329379431539,
          0.8679650432843724,
          0.8684379707016442,
          0.8716738322888394,
          0.8866182827815584
         ],
         "y": [
          153,
          154,
          155,
          156,
          157,
          158,
          159,
          160,
          161,
          162,
          163,
          164,
          165,
          166,
          167,
          168,
          169,
          170,
          171,
          172,
          173,
          174,
          175
         ],
         "type": "bar"
        },
        {
         "marker": {
          "color": "rgb(141,160,203)"
         },
         "orientation": "h",
         "showlegend": false,
         "x": [
          0.7745052103645104,
          0.7862118573571935,
          0.7898162863556053,
          0.825518827209921,
          0.8267242147059731,
          0.8335789717910862,
          0.8413679581778654,
          0.8454999576070903,
          0.8456845011315548,
          0.8517829292549275,
          0.860084063476132,
          0.8606970068441179,
          0.869424257906164,
          0.8727252105790049,
          0.8791349716441763,
          0.8803837306687782
         ],
         "y": [
          176,
          177,
          178,
          179,
          180,
          181,
          182,
          183,
          184,
          185,
          186,
          187,
          188,
          189,
          190,
          191
         ],
         "type": "bar"
        },
        {
         "marker": {
          "color": "rgb(231,138,195)"
         },
         "orientation": "h",
         "showlegend": false,
         "x": [
          0.7510685236631486,
          0.7646939959520849,
          0.7761231936674998,
          0.779182260337763,
          0.8207305842471052,
          0.8230219183812699,
          0.8320910797363221,
          0.8366946922174129,
          0.8429927411636055,
          0.8477724128452329,
          0.8514423131057914,
          0.8515624748593834,
          0.8633532265406725,
          0.8676354409914546,
          0.8698938040053488,
          0.8727196891337414
         ],
         "y": [
          192,
          193,
          194,
          195,
          196,
          197,
          198,
          199,
          200,
          201,
          202,
          203,
          204,
          205,
          206,
          207
         ],
         "type": "bar"
        },
        {
         "marker": {
          "color": "rgb(166,216,84)"
         },
         "orientation": "h",
         "showlegend": false,
         "x": [
          0.8094785627367148,
          0.8103351482013743,
          0.8144225629350936,
          0.8224768315209092,
          0.8361018792143023,
          0.8487707453506607,
          0.8560126859840894,
          0.8574086468802076,
          0.8596249793527223,
          0.8603783399381618,
          0.8640363809315046,
          0.8655673972757947,
          0.8688832422177473,
          0.8696190888301397,
          0.8710380307547525,
          0.8772560006968245,
          0.8808793404384803,
          0.8811388617655301,
          0.881926275578087,
          0.8846311155751578,
          0.8862408046261987,
          0.8879132455460272,
          0.8959924437871147
         ],
         "y": [
          208,
          209,
          210,
          211,
          212,
          213,
          214,
          215,
          216,
          217,
          218,
          219,
          220,
          221,
          222,
          223,
          224,
          225,
          226,
          227,
          228,
          229,
          230
         ],
         "type": "bar"
        },
        {
         "marker": {
          "color": "rgb(255,217,47)"
         },
         "orientation": "h",
         "showlegend": false,
         "x": [
          0.7320045795296568,
          0.7848479333102705,
          0.8088047545589595,
          0.811932761579645,
          0.8177917538945296,
          0.8199659466105998,
          0.8205720462938745,
          0.8230031522088452,
          0.8256863118549611,
          0.8287040344411778,
          0.8327868991975397,
          0.8342252675936939,
          0.8436082006545447,
          0.849634493964881,
          0.8504883411254862,
          0.8522276104083907,
          0.8530977427718311,
          0.867003074990115
         ],
         "y": [
          231,
          232,
          233,
          234,
          235,
          236,
          237,
          238,
          239,
          240,
          241,
          242,
          243,
          244,
          245,
          246,
          247,
          248
         ],
         "type": "bar"
        },
        {
         "marker": {
          "color": "rgb(229,196,148)"
         },
         "orientation": "h",
         "showlegend": false,
         "x": [
          0.7531891774411882,
          0.7590365795727346,
          0.7801782913818917,
          0.7976678458628157,
          0.8029379579037871,
          0.8063009570015497,
          0.8085484824523553,
          0.812758806834538,
          0.8293920876686387,
          0.8305710899038645,
          0.8331853832518414,
          0.8477881806633445,
          0.8507242240183747,
          0.8512781125811094,
          0.8591900745599108,
          0.8629285370257591,
          0.8636413590545621
         ],
         "y": [
          249,
          250,
          251,
          252,
          253,
          254,
          255,
          256,
          257,
          258,
          259,
          260,
          261,
          262,
          263,
          264,
          265
         ],
         "type": "bar"
        },
        {
         "marker": {
          "color": "rgb(179,179,179)"
         },
         "orientation": "h",
         "showlegend": false,
         "x": [
          0.6992997366188493,
          0.7608223382544635,
          0.7958462107221955,
          0.7960218959333214,
          0.801656555162027,
          0.8121375102190926,
          0.8146022692096421,
          0.8231448295254973,
          0.8384164867328395,
          0.8413761299061258,
          0.8425180196800979,
          0.8472316666769474,
          0.8485530969949824,
          0.8499882624956631,
          0.849992031811734,
          0.8504928130789352,
          0.8564416332262217,
          0.8601314324621303,
          0.8618262484975044,
          0.8619523336955585,
          0.8625197284239069,
          0.8634252733843624,
          0.8638158612493959,
          0.8646778145695975,
          0.8687916783836832,
          0.8699437201458874,
          0.8699733035595326,
          0.8729133569530753,
          0.8767172452347329,
          0.8788397842812576,
          0.8796063139455743,
          0.880499787239203
         ],
         "y": [
          266,
          267,
          268,
          269,
          270,
          271,
          272,
          273,
          274,
          275,
          276,
          277,
          278,
          279,
          280,
          281,
          282,
          283,
          284,
          285,
          286,
          287,
          288,
          289,
          290,
          291,
          292,
          293,
          294,
          295,
          296,
          297
         ],
         "type": "bar"
        },
        {
         "marker": {
          "color": "rgb(102,194,165)"
         },
         "orientation": "h",
         "showlegend": false,
         "x": [
          0.7123312844657457,
          0.7163809766317522,
          0.8225343698634252,
          0.826081857106714,
          0.8367508618776023,
          0.8432050150925029,
          0.8433449271194031,
          0.8452710626286586,
          0.8457989602649371,
          0.8603053317811675,
          0.861563294784266,
          0.8619481153497177,
          0.8633732954579056,
          0.8637961402664753,
          0.8649328914960924,
          0.8675614456012833,
          0.8680972657304171,
          0.8698111805794273,
          0.8710149087019878,
          0.8710889101636096,
          0.8730143594474098,
          0.873149123483123,
          0.873167529556739,
          0.8737195827083596,
          0.873864639769052,
          0.8761190309244615,
          0.876677954437277,
          0.877092135345433,
          0.878136153664836,
          0.8782163981665119,
          0.8787946167319072,
          0.8789908529993758,
          0.8807886172896486,
          0.8836256941075575,
          0.8852350456191809,
          0.8858076782657023,
          0.8869085234208501,
          0.8893789988456972,
          0.8913432305935423,
          0.89438265857804,
          0.8951717481971653,
          0.8958223243338687,
          0.8960804508141865,
          0.8961985286569256,
          0.8987673544075748,
          0.898808940059861,
          0.8992167565669292,
          0.900191239079879,
          0.9001941076493215,
          0.9017532766608438,
          0.9021905161732114,
          0.903557286152674,
          0.9047514242340864,
          0.9054477315880957,
          0.9057307300716569
         ],
         "y": [
          298,
          299,
          300,
          301,
          302,
          303,
          304,
          305,
          306,
          307,
          308,
          309,
          310,
          311,
          312,
          313,
          314,
          315,
          316,
          317,
          318,
          319,
          320,
          321,
          322,
          323,
          324,
          325,
          326,
          327,
          328,
          329,
          330,
          331,
          332,
          333,
          334,
          335,
          336,
          337,
          338,
          339,
          340,
          341,
          342,
          343,
          344,
          345,
          346,
          347,
          348,
          349,
          350,
          351,
          352
         ],
         "type": "bar"
        },
        {
         "marker": {
          "color": "rgb(252,141,98)"
         },
         "orientation": "h",
         "showlegend": false,
         "x": [
          0.7578190248353475,
          0.7696149873943734,
          0.7914345170167351,
          0.8150676590504953,
          0.8291794178583171,
          0.8309154220637412,
          0.8352839143973522,
          0.8489196933872795,
          0.8521813964359708,
          0.8525599980314421,
          0.8550258147141323,
          0.8581802068039461,
          0.8582032641193572,
          0.8594338609462863,
          0.8640437941549879,
          0.8668076880181761,
          0.8807980169729852
         ],
         "y": [
          353,
          354,
          355,
          356,
          357,
          358,
          359,
          360,
          361,
          362,
          363,
          364,
          365,
          366,
          367,
          368,
          369
         ],
         "type": "bar"
        },
        {
         "marker": {
          "color": "rgb(141,160,203)"
         },
         "orientation": "h",
         "showlegend": false,
         "x": [
          0.711302581331757,
          0.7348321571910167,
          0.7864263458836426,
          0.7911654046885497,
          0.7990327521270673,
          0.8034604450993883,
          0.8265303190381558,
          0.8278376996902833,
          0.8305522358520564,
          0.8392654492780973,
          0.8432131589392212,
          0.8468084846109163,
          0.8482653857107865,
          0.8523922735833864,
          0.8535532610987301,
          0.8561491755026445,
          0.8569509896595014,
          0.8581706834823124,
          0.8651315512531861,
          0.8697991792528528,
          0.8703800814344722,
          0.8711639717631579,
          0.8723723407350006,
          0.8728588497361203,
          0.8740354449489195,
          0.8747011460154653,
          0.8801758840644333,
          0.8806919621509033
         ],
         "y": [
          370,
          371,
          372,
          373,
          374,
          375,
          376,
          377,
          378,
          379,
          380,
          381,
          382,
          383,
          384,
          385,
          386,
          387,
          388,
          389,
          390,
          391,
          392,
          393,
          394,
          395,
          396,
          397
         ],
         "type": "bar"
        },
        {
         "marker": {
          "color": "rgb(231,138,195)"
         },
         "orientation": "h",
         "showlegend": false,
         "x": [
          0.7668600808592874,
          0.7843872606794131,
          0.8107622198387809,
          0.8128620539553917,
          0.8158586263474658,
          0.817118340943379,
          0.8212311698451225,
          0.821377165413041,
          0.8252027805922867,
          0.8419395367410717,
          0.8442495340545553,
          0.844626787710709,
          0.8451334955488242,
          0.8459528610242855,
          0.8461729968676794,
          0.8472267679824107,
          0.8477168861696041,
          0.8478991106327581,
          0.8508154344528398,
          0.8518808323241082,
          0.8522552999643537,
          0.8524316700795258,
          0.8530027307326391,
          0.853126959923025,
          0.8549005675778483,
          0.8553490246066542,
          0.8562798298442058,
          0.8574807220090523,
          0.858841386514689,
          0.8594715649533563,
          0.8596611605017618,
          0.859725488089138,
          0.859853090913945,
          0.8606461292868224,
          0.8609952673623346,
          0.8613223228839736,
          0.8619010645143711,
          0.8620977687239008,
          0.8645936495370011,
          0.8646511416529301,
          0.865606337494751,
          0.8667450375446175,
          0.8689514931335464,
          0.870296154648455,
          0.8706555680766369,
          0.8708879394348303,
          0.8714908521397817,
          0.8715885281154281,
          0.8723638495416568,
          0.8729471303456839,
          0.873285017296073,
          0.8737185916247828,
          0.8750447807686912,
          0.8751378281094423,
          0.8754711475087054,
          0.8770582811281161,
          0.8777307200113108,
          0.8780187980651859,
          0.8784808265721089,
          0.8789037980092184,
          0.8793137483007961,
          0.8805276983429887,
          0.8806136464243616,
          0.8811869706625267,
          0.8814348009429338,
          0.882064400598208,
          0.8822742510677981,
          0.8823851137360106,
          0.8824448604873769,
          0.8828214471402334,
          0.8829188409495377,
          0.8831977615737817,
          0.8847531557610269,
          0.8856383936569232,
          0.8865394882304926,
          0.8874776738175838,
          0.8875954722142935,
          0.8877304622837178,
          0.8884012711514199,
          0.8889396042956524,
          0.8891048257734382,
          0.8907073633003297,
          0.8940336349046567,
          0.8942091218793647,
          0.8942133655589335,
          0.894383662555245,
          0.8958684923189472,
          0.8975441586104433
         ],
         "y": [
          398,
          399,
          400,
          401,
          402,
          403,
          404,
          405,
          406,
          407,
          408,
          409,
          410,
          411,
          412,
          413,
          414,
          415,
          416,
          417,
          418,
          419,
          420,
          421,
          422,
          423,
          424,
          425,
          426,
          427,
          428,
          429,
          430,
          431,
          432,
          433,
          434,
          435,
          436,
          437,
          438,
          439,
          440,
          441,
          442,
          443,
          444,
          445,
          446,
          447,
          448,
          449,
          450,
          451,
          452,
          453,
          454,
          455,
          456,
          457,
          458,
          459,
          460,
          461,
          462,
          463,
          464,
          465,
          466,
          467,
          468,
          469,
          470,
          471,
          472,
          473,
          474,
          475,
          476,
          477,
          478,
          479,
          480,
          481,
          482,
          483,
          484,
          485
         ],
         "type": "bar"
        },
        {
         "marker": {
          "color": "rgb(166,216,84)"
         },
         "orientation": "h",
         "showlegend": false,
         "x": [
          0.6750618805289804,
          0.7563293108028964,
          0.7589268633460017,
          0.8064131067611299,
          0.8135203401121928,
          0.8324575644522317,
          0.8332018720617402,
          0.8383053512938372,
          0.8406498666602715,
          0.8455723171747123,
          0.8494819653008245
         ],
         "y": [
          486,
          487,
          488,
          489,
          490,
          491,
          492,
          493,
          494,
          495,
          496
         ],
         "type": "bar"
        },
        {
         "marker": {
          "color": "rgb(255,217,47)"
         },
         "orientation": "h",
         "showlegend": false,
         "x": [
          0.7851609767863985,
          0.8369133034940612,
          0.8389543539709963,
          0.8432383813600796,
          0.8526742015351504,
          0.8543532318310068,
          0.8671613109133945,
          0.8695750265364481,
          0.8731626363932287,
          0.8759922981302772
         ],
         "y": [
          497,
          498,
          499,
          500,
          501,
          502,
          503,
          504,
          505,
          506
         ],
         "type": "bar"
        },
        {
         "marker": {
          "color": "rgb(229,196,148)"
         },
         "orientation": "h",
         "showlegend": false,
         "x": [
          0.7311488961063407,
          0.7669757373008216,
          0.7692865100335268,
          0.7708446406099406,
          0.7887713019271364,
          0.7986396444228523,
          0.8286075931283712,
          0.8299935257908151,
          0.8308475990283781,
          0.8345223588560032,
          0.8352431248895231,
          0.8412991392086514,
          0.8455315889806674,
          0.8497789078854919,
          0.855921141007641,
          0.8600740922064564
         ],
         "y": [
          507,
          508,
          509,
          510,
          511,
          512,
          513,
          514,
          515,
          516,
          517,
          518,
          519,
          520,
          521,
          522
         ],
         "type": "bar"
        },
        {
         "marker": {
          "color": "rgb(179,179,179)"
         },
         "orientation": "h",
         "showlegend": false,
         "x": [
          0.7621052204600096,
          0.7748989359835965,
          0.7809682312859245,
          0.7826580192636987,
          0.7937262820876413,
          0.7947456515705208,
          0.7947556624217897,
          0.7996305121911264,
          0.8043681323979366,
          0.8116119963275273,
          0.825513237804434,
          0.8342028431720533,
          0.8414076703476836,
          0.8605152463557423,
          0.8628156016276101,
          0.8637450288040581,
          0.8638526696620882,
          0.8641640616419635,
          0.8715206678762611,
          0.8715206678762611,
          0.8742754747071834
         ],
         "y": [
          523,
          524,
          525,
          526,
          527,
          528,
          529,
          530,
          531,
          532,
          533,
          534,
          535,
          536,
          537,
          538,
          539,
          540,
          541,
          542,
          543
         ],
         "type": "bar"
        },
        {
         "marker": {
          "color": "rgb(102,194,165)"
         },
         "orientation": "h",
         "showlegend": false,
         "x": [
          0.8097126512515437,
          0.8260075702368223,
          0.8522297105221985,
          0.8598892905923576,
          0.8598903509903775,
          0.8652018067113393,
          0.8811375510809998,
          0.8814730608737622
         ],
         "y": [
          544,
          545,
          546,
          547,
          548,
          549,
          550,
          551
         ],
         "type": "bar"
        },
        {
         "marker": {
          "color": "rgb(252,141,98)"
         },
         "orientation": "h",
         "showlegend": false,
         "x": [
          0.9413623862567219,
          0.9437824738343092
         ],
         "y": [
          552,
          553
         ],
         "type": "bar"
        },
        {
         "marker": {
          "color": "rgb(141,160,203)"
         },
         "orientation": "h",
         "showlegend": false,
         "x": [
          0.817715395533216,
          0.83410542129324,
          0.8427141767756736,
          0.8481845689836762,
          0.853825054617372,
          0.8554453094740269,
          0.8589459794299648,
          0.8593016817629497,
          0.8603026221069479,
          0.8603250617406272,
          0.861802178097724,
          0.8620919057229364,
          0.8630467315792631,
          0.8640476965207442,
          0.8642008308840162,
          0.8656746743494009,
          0.8686630556855792,
          0.8699524346196815,
          0.8713244048880959,
          0.8758582895391515,
          0.8810150517875928,
          0.8811802269844851,
          0.882958553736948,
          0.8896458884923151,
          0.8966828781128736
         ],
         "y": [
          554,
          555,
          556,
          557,
          558,
          559,
          560,
          561,
          562,
          563,
          564,
          565,
          566,
          567,
          568,
          569,
          570,
          571,
          572,
          573,
          574,
          575,
          576,
          577,
          578
         ],
         "type": "bar"
        },
        {
         "marker": {
          "color": "rgb(231,138,195)"
         },
         "orientation": "h",
         "showlegend": false,
         "x": [
          0.720324813672036,
          0.7509646928637582,
          0.769210944850711,
          0.7943571049032921,
          0.7983632356979525,
          0.8027483311864917,
          0.8230025292328877,
          0.8252792386760668,
          0.8303342927398506,
          0.8347960425304994,
          0.8454299822614539
         ],
         "y": [
          579,
          580,
          581,
          582,
          583,
          584,
          585,
          586,
          587,
          588,
          589
         ],
         "type": "bar"
        },
        {
         "marker": {
          "color": "rgb(166,216,84)"
         },
         "orientation": "h",
         "showlegend": false,
         "x": [
          0.7707124383009853,
          0.7918949021695613,
          0.8001696487035174,
          0.8211034710611566,
          0.8225933820140132,
          0.8319574780124664,
          0.8321311192819297,
          0.840988603488876,
          0.8549756257807676
         ],
         "y": [
          590,
          591,
          592,
          593,
          594,
          595,
          596,
          597,
          598
         ],
         "type": "bar"
        },
        {
         "marker": {
          "color": "rgb(255,217,47)"
         },
         "orientation": "h",
         "showlegend": false,
         "x": [
          0.6596879432901771,
          0.8362062093773677,
          0.8381100377863482,
          0.8415195208989941,
          0.8474357185060433,
          0.8532785750232634,
          0.8551408759554125
         ],
         "y": [
          599,
          600,
          601,
          602,
          603,
          604,
          605
         ],
         "type": "bar"
        },
        {
         "marker": {
          "color": "rgb(229,196,148)"
         },
         "orientation": "h",
         "showlegend": false,
         "x": [
          0.7445042997590253,
          0.8463063479304794,
          0.8526435788527462,
          0.8674499501464793,
          0.8674965830894422,
          0.8699764613770152,
          0.8733758665943806,
          0.8828742780703935,
          0.8896534079443597
         ],
         "y": [
          606,
          607,
          608,
          609,
          610,
          611,
          612,
          613,
          614
         ],
         "type": "bar"
        },
        {
         "marker": {
          "color": "rgb(179,179,179)"
         },
         "orientation": "h",
         "showlegend": false,
         "x": [
          0.7422827375818825,
          0.7466940988538776,
          0.7961377746636646,
          0.8111728779311825,
          0.8144310131004827,
          0.8161488669120248,
          0.8175273276534508,
          0.8319993522651662,
          0.8403890453850974,
          0.840423042763316,
          0.8418304768321965,
          0.8446475411045017,
          0.845610628529434,
          0.8472522964484669,
          0.8518365596471223,
          0.8537530441483305,
          0.8542572796781204,
          0.856826591627255,
          0.858028006991367,
          0.8583539236808477,
          0.8598957734571508,
          0.8634172403852176,
          0.8645717959044305,
          0.8664160401860049,
          0.8670321145142975,
          0.8678981414997364,
          0.8680325569326216,
          0.8687297229412518,
          0.8696749518401193,
          0.8700710109474615,
          0.870340999182371,
          0.8714181845371428,
          0.8717417082640779,
          0.8722576552819168,
          0.8732969350279509,
          0.8734221595877902,
          0.8752243222698357,
          0.8766663350297463,
          0.8767050124758202,
          0.8778199630917112,
          0.8784515976645542,
          0.8793443618312405,
          0.8794889302106484,
          0.8808534796922897,
          0.8809872522313563,
          0.8852047562430496,
          0.8868489785800214,
          0.8868619986046946,
          0.8875680308017553,
          0.8945788281713931
         ],
         "y": [
          615,
          616,
          617,
          618,
          619,
          620,
          621,
          622,
          623,
          624,
          625,
          626,
          627,
          628,
          629,
          630,
          631,
          632,
          633,
          634,
          635,
          636,
          637,
          638,
          639,
          640,
          641,
          642,
          643,
          644,
          645,
          646,
          647,
          648,
          649,
          650,
          651,
          652,
          653,
          654,
          655,
          656,
          657,
          658,
          659,
          660,
          661,
          662,
          663,
          664
         ],
         "type": "bar"
        },
        {
         "marker": {
          "color": "rgb(102,194,165)"
         },
         "orientation": "h",
         "showlegend": false,
         "x": [
          0.79829053138423,
          0.815220996833661,
          0.8174982645067475,
          0.8183563679193923,
          0.828145373108239,
          0.8354626131554821,
          0.8393971245641121,
          0.8456336089996299,
          0.8489630420342945,
          0.8500364630303513,
          0.8543723725878469,
          0.8576251473569055,
          0.8582019904248669,
          0.8590957801445827,
          0.860215251264854,
          0.8603851283466709,
          0.8622713539970145,
          0.8642754163547848,
          0.86999657795398,
          0.8733099445985444,
          0.8735756796679066,
          0.8739930607549521,
          0.8742329421416608
         ],
         "y": [
          665,
          666,
          667,
          668,
          669,
          670,
          671,
          672,
          673,
          674,
          675,
          676,
          677,
          678,
          679,
          680,
          681,
          682,
          683,
          684,
          685,
          686,
          687
         ],
         "type": "bar"
        },
        {
         "marker": {
          "color": "rgb(252,141,98)"
         },
         "orientation": "h",
         "showlegend": false,
         "x": [
          1.0
         ],
         "y": [
          688
         ],
         "type": "bar"
        },
        {
         "marker": {
          "color": "rgb(141,160,203)"
         },
         "orientation": "h",
         "showlegend": false,
         "x": [
          0.7784986691566367,
          0.830711621036279,
          0.8610086380371422
         ],
         "y": [
          689,
          690,
          691
         ],
         "type": "bar"
        },
        {
         "marker": {
          "color": "rgb(231,138,195)"
         },
         "orientation": "h",
         "showlegend": false,
         "x": [
          0.8549832400248241,
          0.8577850655525664
         ],
         "y": [
          692,
          693
         ],
         "type": "bar"
        },
        {
         "marker": {
          "color": "rgb(166,216,84)"
         },
         "orientation": "h",
         "showlegend": false,
         "x": [
          0.7701121549016638,
          0.8001861950319709,
          0.8273485427096131,
          0.8357894008523675
         ],
         "y": [
          694,
          695,
          696,
          697
         ],
         "type": "bar"
        },
        {
         "marker": {
          "color": "rgb(255,217,47)"
         },
         "orientation": "h",
         "showlegend": false,
         "x": [
          0.7018129230520693,
          0.7872686279568031,
          0.8004304164967084,
          0.8019347944684198,
          0.8148752877761002,
          0.8163020638914418,
          0.8209997181162112,
          0.8215815189241312,
          0.8236769425226015,
          0.8301196006621614,
          0.8345431633417575,
          0.8387369871730248,
          0.840764364317605,
          0.8423826603503347,
          0.8466005188576126,
          0.8485993424933636,
          0.8500157773519494,
          0.851417968481994,
          0.8519745630616213,
          0.8537390097493418,
          0.8562051863500024,
          0.8658788013588431,
          0.8764440019298027
         ],
         "y": [
          698,
          699,
          700,
          701,
          702,
          703,
          704,
          705,
          706,
          707,
          708,
          709,
          710,
          711,
          712,
          713,
          714,
          715,
          716,
          717,
          718,
          719,
          720
         ],
         "type": "bar"
        },
        {
         "marker": {
          "color": "rgb(229,196,148)"
         },
         "orientation": "h",
         "showlegend": false,
         "x": [
          0.8517972884712254,
          0.8525323234849845,
          0.8621726876381333,
          0.8633697985232828,
          0.8643868349574401,
          0.8690091107783786,
          0.8715870879846499,
          0.8759519755609937,
          0.8766209566464299,
          0.8806214092224587,
          0.8819237601191052,
          0.8829402652201068,
          0.8849260512438999,
          0.8855200402069248,
          0.8879123844305293,
          0.8958825800041968
         ],
         "y": [
          721,
          722,
          723,
          724,
          725,
          726,
          727,
          728,
          729,
          730,
          731,
          732,
          733,
          734,
          735,
          736
         ],
         "type": "bar"
        },
        {
         "marker": {
          "color": "rgb(179,179,179)"
         },
         "orientation": "h",
         "showlegend": false,
         "x": [
          0.7640867621694881,
          0.7647664568472969,
          0.811988316565539,
          0.8481538012556785,
          0.8486852295297038,
          0.8515198535734111,
          0.8622353471793274
         ],
         "y": [
          737,
          738,
          739,
          740,
          741,
          742,
          743
         ],
         "type": "bar"
        },
        {
         "marker": {
          "color": "rgb(102,194,165)"
         },
         "orientation": "h",
         "showlegend": false,
         "x": [
          0.744655650847259,
          0.7571039469278877,
          0.8009358931229456,
          0.8087900486269409,
          0.8133844551466749,
          0.8184635100908523,
          0.825712831225141,
          0.8289944905452549,
          0.8327030361624455,
          0.8338174469418975,
          0.8348313636874344,
          0.8413507732947605,
          0.8462430743392149,
          0.8477645617982236,
          0.8511480452516135,
          0.8516989487417156,
          0.8546498847093246,
          0.8600594025825407,
          0.8631706717239301,
          0.8651098911636517,
          0.8674282297618422,
          0.8675567566539687,
          0.8745899113222286,
          0.8751816065424588
         ],
         "y": [
          744,
          745,
          746,
          747,
          748,
          749,
          750,
          751,
          752,
          753,
          754,
          755,
          756,
          757,
          758,
          759,
          760,
          761,
          762,
          763,
          764,
          765,
          766,
          767
         ],
         "type": "bar"
        },
        {
         "marker": {
          "color": "rgb(252,141,98)"
         },
         "orientation": "h",
         "showlegend": false,
         "x": [
          0.7491588814550406,
          0.7679862224147243,
          0.7777180651046519,
          0.7814673420795277,
          0.7818038675045994,
          0.7844226114843355,
          0.8016264540434562,
          0.8266080461610323,
          0.8340977645822839,
          0.8347990823286974,
          0.8355204143837754,
          0.8366464392614855,
          0.8437085415303301,
          0.8438107854015415,
          0.8443151322195674,
          0.8473549481425069,
          0.8476183223843036,
          0.8483462377134354,
          0.8513197348012405,
          0.8516216012700287,
          0.8532896164736856,
          0.8543556020250975,
          0.8543898920579933,
          0.8584622844163609,
          0.8597783064815466,
          0.8598974404672074,
          0.863278764282645,
          0.8669861218839102
         ],
         "y": [
          768,
          769,
          770,
          771,
          772,
          773,
          774,
          775,
          776,
          777,
          778,
          779,
          780,
          781,
          782,
          783,
          784,
          785,
          786,
          787,
          788,
          789,
          790,
          791,
          792,
          793,
          794,
          795
         ],
         "type": "bar"
        },
        {
         "marker": {
          "color": "rgb(141,160,203)"
         },
         "orientation": "h",
         "showlegend": false,
         "x": [
          0.7090481686584915,
          0.7570913902013962,
          0.7622395012668696,
          0.81930628617933,
          0.834634887588489,
          0.8386263610602885,
          0.8415350941308329,
          0.8484978268070195,
          0.8518491598309837,
          0.8584384623904485,
          0.8596689959420393
         ],
         "y": [
          796,
          797,
          798,
          799,
          800,
          801,
          802,
          803,
          804,
          805,
          806
         ],
         "type": "bar"
        },
        {
         "marker": {
          "color": "rgb(231,138,195)"
         },
         "orientation": "h",
         "showlegend": false,
         "x": [
          0.7595204372797643,
          0.8029541491506861,
          0.8276330880250936,
          0.8294711386674049,
          0.8360394876736488,
          0.848024840303004,
          0.8491392241824754,
          0.8537497141019837,
          0.8562639864821597,
          0.8564894157411335,
          0.864745765338155,
          0.8725170162732109,
          0.8729838217522088,
          0.8736371649354743,
          0.8748602322538213,
          0.8749855465586384,
          0.8781434208894227,
          0.8794664137844753,
          0.8798474859221386,
          0.8806478168384039,
          0.8810856170963227,
          0.8811680026735603,
          0.8822725254440358,
          0.8824705593621388,
          0.884244195106585,
          0.8859796567698633,
          0.8867500436310436,
          0.8881474429625593,
          0.8889354279256381,
          0.8889549584441097,
          0.8898358164422213,
          0.8907812957665127,
          0.8907996686444982,
          0.8912956313470674,
          0.8924576996785946,
          0.8926351197499102,
          0.8933898322163936,
          0.894074054492633,
          0.8943095259349166,
          0.894993062693769,
          0.8965196806210739,
          0.8977532055117946,
          0.8997166843972771,
          0.9007014922224874,
          0.9011676714431183,
          0.9023629634682756
         ],
         "y": [
          807,
          808,
          809,
          810,
          811,
          812,
          813,
          814,
          815,
          816,
          817,
          818,
          819,
          820,
          821,
          822,
          823,
          824,
          825,
          826,
          827,
          828,
          829,
          830,
          831,
          832,
          833,
          834,
          835,
          836,
          837,
          838,
          839,
          840,
          841,
          842,
          843,
          844,
          845,
          846,
          847,
          848,
          849,
          850,
          851,
          852
         ],
         "type": "bar"
        },
        {
         "marker": {
          "color": "rgb(166,216,84)"
         },
         "orientation": "h",
         "showlegend": false,
         "x": [
          0.7433779740726578,
          0.7592052582207495,
          0.7640674326568606,
          0.7858386308490688,
          0.8017783014239364,
          0.8050627110389765,
          0.8053347232081595,
          0.8123588359392997,
          0.8133841314725655,
          0.8197735137237463,
          0.8211143432166019,
          0.8259571702622893,
          0.8274474296151993,
          0.8286984550854459,
          0.8296037963168998,
          0.831974255017163,
          0.833493276969178,
          0.8346888285163051,
          0.8356324015394382,
          0.8375465275848533,
          0.8404071407499345,
          0.8408474495078809,
          0.8416571344783292,
          0.8436731476935231,
          0.8445542319003538,
          0.8451259710470163,
          0.8471420775075782,
          0.8472156881244844,
          0.8472196584068034,
          0.8472868459669162,
          0.8489781499905961,
          0.849150616382119,
          0.8494495487014204,
          0.8497220090567007,
          0.8515304279130955,
          0.8516891242835164,
          0.8521796227474772,
          0.856379186868845,
          0.8570594555685594,
          0.8589169924753498,
          0.8594324408909692,
          0.8600745771534273,
          0.8602519855986945,
          0.8605920894041718,
          0.8616378779492178,
          0.8616461812352965,
          0.8636160881139829,
          0.8646216451993313,
          0.8652720316995898,
          0.8667042860636994,
          0.8703720111442652,
          0.8721821052047061,
          0.8798050515294231,
          0.8810864126889731
         ],
         "y": [
          853,
          854,
          855,
          856,
          857,
          858,
          859,
          860,
          861,
          862,
          863,
          864,
          865,
          866,
          867,
          868,
          869,
          870,
          871,
          872,
          873,
          874,
          875,
          876,
          877,
          878,
          879,
          880,
          881,
          882,
          883,
          884,
          885,
          886,
          887,
          888,
          889,
          890,
          891,
          892,
          893,
          894,
          895,
          896,
          897,
          898,
          899,
          900,
          901,
          902,
          903,
          904,
          905,
          906
         ],
         "type": "bar"
        },
        {
         "marker": {
          "color": "rgb(255,217,47)"
         },
         "orientation": "h",
         "showlegend": false,
         "x": [
          0.7330990246618516,
          0.7620546064332555,
          0.7704839050940034,
          0.7781369191258922,
          0.8043507708634318,
          0.8126709785151849,
          0.8128274695052005,
          0.8202204364679644,
          0.8244636089821571,
          0.8247428597495322,
          0.8304404219269881,
          0.8364312982599015,
          0.8385493665839027,
          0.8434828997197257,
          0.8503317645547028,
          0.8553349533045091,
          0.86233492590053
         ],
         "y": [
          907,
          908,
          909,
          910,
          911,
          912,
          913,
          914,
          915,
          916,
          917,
          918,
          919,
          920,
          921,
          922,
          923
         ],
         "type": "bar"
        },
        {
         "marker": {
          "color": "rgb(229,196,148)"
         },
         "orientation": "h",
         "showlegend": false,
         "x": [
          0.7715259803054062,
          0.7850859357864034,
          0.8205280598290163,
          0.8264664026235132,
          0.8516012481872525,
          0.8587675576071699,
          0.8594209710856815,
          0.8602306484463775,
          0.8626235777718032,
          0.8638296383278936,
          0.864488110795982,
          0.8646302897204595,
          0.8662036471818884,
          0.8702755938387727,
          0.8720342539403252,
          0.8766557679510361,
          0.8819714142379077,
          0.8831153446820429,
          0.8836069700920908,
          0.8974573635556828,
          0.8974710951788816
         ],
         "y": [
          924,
          925,
          926,
          927,
          928,
          929,
          930,
          931,
          932,
          933,
          934,
          935,
          936,
          937,
          938,
          939,
          940,
          941,
          942,
          943,
          944
         ],
         "type": "bar"
        },
        {
         "marker": {
          "color": "rgb(179,179,179)"
         },
         "orientation": "h",
         "showlegend": false,
         "x": [
          0.6918450120593355,
          0.7784577034142979,
          0.8144782563661298,
          0.8161257093092941,
          0.8221391367789622,
          0.8308613030766104,
          0.8526879205494969,
          0.8575514170990901,
          0.8585620469946501,
          0.8635991297426283,
          0.8659726976897922,
          0.8678172260547509,
          0.8712877863337816,
          0.8744767795274078,
          0.8754579867377518,
          0.8758009855104046
         ],
         "y": [
          945,
          946,
          947,
          948,
          949,
          950,
          951,
          952,
          953,
          954,
          955,
          956,
          957,
          958,
          959,
          960
         ],
         "type": "bar"
        },
        {
         "marker": {
          "color": "rgb(102,194,165)"
         },
         "orientation": "h",
         "showlegend": false,
         "x": [
          0.7225067022759909,
          0.7524906201437382,
          0.7998240293667296,
          0.8028675817004314,
          0.815652666865594,
          0.8273865078970429,
          0.8350993239210655,
          0.8367682056370741,
          0.8393523788636935,
          0.8437321982570485,
          0.8467966675401538,
          0.8483601991470398,
          0.8504182616113617,
          0.8531763824035014,
          0.8541669106196035,
          0.8635825091206067,
          0.8652846329905939,
          0.8747748513293601
         ],
         "y": [
          961,
          962,
          963,
          964,
          965,
          966,
          967,
          968,
          969,
          970,
          971,
          972,
          973,
          974,
          975,
          976,
          977,
          978
         ],
         "type": "bar"
        },
        {
         "marker": {
          "color": "rgb(252,141,98)"
         },
         "orientation": "h",
         "showlegend": false,
         "x": [
          0.7574344789006431,
          0.8335074894345038,
          0.8380087064830762,
          0.8391997736299877,
          0.8458905623676864,
          0.8508208469326369,
          0.8546485829571365,
          0.856004997143463,
          0.8603913476401528,
          0.8656000217483705,
          0.8699904426978432,
          0.8752405956571812,
          0.8772897241194662,
          0.8776968198696562,
          0.8777544538337385,
          0.8788813291806308,
          0.8832434032840933,
          0.8834713672659933,
          0.8859568386673443,
          0.8931006842735214,
          0.8967593992818398
         ],
         "y": [
          979,
          980,
          981,
          982,
          983,
          984,
          985,
          986,
          987,
          988,
          989,
          990,
          991,
          992,
          993,
          994,
          995,
          996,
          997,
          998,
          999
         ],
         "type": "bar"
        }
       ],
       "layout": {
        "template": {
         "data": {
          "histogram2dcontour": [
           {
            "type": "histogram2dcontour",
            "colorbar": {
             "outlinewidth": 0,
             "ticks": ""
            },
            "colorscale": [
             [
              0.0,
              "#0d0887"
             ],
             [
              0.1111111111111111,
              "#46039f"
             ],
             [
              0.2222222222222222,
              "#7201a8"
             ],
             [
              0.3333333333333333,
              "#9c179e"
             ],
             [
              0.4444444444444444,
              "#bd3786"
             ],
             [
              0.5555555555555556,
              "#d8576b"
             ],
             [
              0.6666666666666666,
              "#ed7953"
             ],
             [
              0.7777777777777778,
              "#fb9f3a"
             ],
             [
              0.8888888888888888,
              "#fdca26"
             ],
             [
              1.0,
              "#f0f921"
             ]
            ]
           }
          ],
          "choropleth": [
           {
            "type": "choropleth",
            "colorbar": {
             "outlinewidth": 0,
             "ticks": ""
            }
           }
          ],
          "histogram2d": [
           {
            "type": "histogram2d",
            "colorbar": {
             "outlinewidth": 0,
             "ticks": ""
            },
            "colorscale": [
             [
              0.0,
              "#0d0887"
             ],
             [
              0.1111111111111111,
              "#46039f"
             ],
             [
              0.2222222222222222,
              "#7201a8"
             ],
             [
              0.3333333333333333,
              "#9c179e"
             ],
             [
              0.4444444444444444,
              "#bd3786"
             ],
             [
              0.5555555555555556,
              "#d8576b"
             ],
             [
              0.6666666666666666,
              "#ed7953"
             ],
             [
              0.7777777777777778,
              "#fb9f3a"
             ],
             [
              0.8888888888888888,
              "#fdca26"
             ],
             [
              1.0,
              "#f0f921"
             ]
            ]
           }
          ],
          "heatmap": [
           {
            "type": "heatmap",
            "colorbar": {
             "outlinewidth": 0,
             "ticks": ""
            },
            "colorscale": [
             [
              0.0,
              "#0d0887"
             ],
             [
              0.1111111111111111,
              "#46039f"
             ],
             [
              0.2222222222222222,
              "#7201a8"
             ],
             [
              0.3333333333333333,
              "#9c179e"
             ],
             [
              0.4444444444444444,
              "#bd3786"
             ],
             [
              0.5555555555555556,
              "#d8576b"
             ],
             [
              0.6666666666666666,
              "#ed7953"
             ],
             [
              0.7777777777777778,
              "#fb9f3a"
             ],
             [
              0.8888888888888888,
              "#fdca26"
             ],
             [
              1.0,
              "#f0f921"
             ]
            ]
           }
          ],
          "contourcarpet": [
           {
            "type": "contourcarpet",
            "colorbar": {
             "outlinewidth": 0,
             "ticks": ""
            }
           }
          ],
          "contour": [
           {
            "type": "contour",
            "colorbar": {
             "outlinewidth": 0,
             "ticks": ""
            },
            "colorscale": [
             [
              0.0,
              "#0d0887"
             ],
             [
              0.1111111111111111,
              "#46039f"
             ],
             [
              0.2222222222222222,
              "#7201a8"
             ],
             [
              0.3333333333333333,
              "#9c179e"
             ],
             [
              0.4444444444444444,
              "#bd3786"
             ],
             [
              0.5555555555555556,
              "#d8576b"
             ],
             [
              0.6666666666666666,
              "#ed7953"
             ],
             [
              0.7777777777777778,
              "#fb9f3a"
             ],
             [
              0.8888888888888888,
              "#fdca26"
             ],
             [
              1.0,
              "#f0f921"
             ]
            ]
           }
          ],
          "surface": [
           {
            "type": "surface",
            "colorbar": {
             "outlinewidth": 0,
             "ticks": ""
            },
            "colorscale": [
             [
              0.0,
              "#0d0887"
             ],
             [
              0.1111111111111111,
              "#46039f"
             ],
             [
              0.2222222222222222,
              "#7201a8"
             ],
             [
              0.3333333333333333,
              "#9c179e"
             ],
             [
              0.4444444444444444,
              "#bd3786"
             ],
             [
              0.5555555555555556,
              "#d8576b"
             ],
             [
              0.6666666666666666,
              "#ed7953"
             ],
             [
              0.7777777777777778,
              "#fb9f3a"
             ],
             [
              0.8888888888888888,
              "#fdca26"
             ],
             [
              1.0,
              "#f0f921"
             ]
            ]
           }
          ],
          "mesh3d": [
           {
            "type": "mesh3d",
            "colorbar": {
             "outlinewidth": 0,
             "ticks": ""
            }
           }
          ],
          "scatter": [
           {
            "marker": {
             "line": {
              "color": "#283442"
             }
            },
            "type": "scatter"
           }
          ],
          "parcoords": [
           {
            "type": "parcoords",
            "line": {
             "colorbar": {
              "outlinewidth": 0,
              "ticks": ""
             }
            }
           }
          ],
          "scatterpolargl": [
           {
            "type": "scatterpolargl",
            "marker": {
             "colorbar": {
              "outlinewidth": 0,
              "ticks": ""
             }
            }
           }
          ],
          "bar": [
           {
            "error_x": {
             "color": "#f2f5fa"
            },
            "error_y": {
             "color": "#f2f5fa"
            },
            "marker": {
             "line": {
              "color": "rgb(17,17,17)",
              "width": 0.5
             },
             "pattern": {
              "fillmode": "overlay",
              "size": 10,
              "solidity": 0.2
             }
            },
            "type": "bar"
           }
          ],
          "scattergeo": [
           {
            "type": "scattergeo",
            "marker": {
             "colorbar": {
              "outlinewidth": 0,
              "ticks": ""
             }
            }
           }
          ],
          "scatterpolar": [
           {
            "type": "scatterpolar",
            "marker": {
             "colorbar": {
              "outlinewidth": 0,
              "ticks": ""
             }
            }
           }
          ],
          "histogram": [
           {
            "marker": {
             "pattern": {
              "fillmode": "overlay",
              "size": 10,
              "solidity": 0.2
             }
            },
            "type": "histogram"
           }
          ],
          "scattergl": [
           {
            "marker": {
             "line": {
              "color": "#283442"
             }
            },
            "type": "scattergl"
           }
          ],
          "scatter3d": [
           {
            "type": "scatter3d",
            "line": {
             "colorbar": {
              "outlinewidth": 0,
              "ticks": ""
             }
            },
            "marker": {
             "colorbar": {
              "outlinewidth": 0,
              "ticks": ""
             }
            }
           }
          ],
          "scattermap": [
           {
            "type": "scattermap",
            "marker": {
             "colorbar": {
              "outlinewidth": 0,
              "ticks": ""
             }
            }
           }
          ],
          "scattermapbox": [
           {
            "type": "scattermapbox",
            "marker": {
             "colorbar": {
              "outlinewidth": 0,
              "ticks": ""
             }
            }
           }
          ],
          "scatterternary": [
           {
            "type": "scatterternary",
            "marker": {
             "colorbar": {
              "outlinewidth": 0,
              "ticks": ""
             }
            }
           }
          ],
          "scattercarpet": [
           {
            "type": "scattercarpet",
            "marker": {
             "colorbar": {
              "outlinewidth": 0,
              "ticks": ""
             }
            }
           }
          ],
          "carpet": [
           {
            "aaxis": {
             "endlinecolor": "#A2B1C6",
             "gridcolor": "#506784",
             "linecolor": "#506784",
             "minorgridcolor": "#506784",
             "startlinecolor": "#A2B1C6"
            },
            "baxis": {
             "endlinecolor": "#A2B1C6",
             "gridcolor": "#506784",
             "linecolor": "#506784",
             "minorgridcolor": "#506784",
             "startlinecolor": "#A2B1C6"
            },
            "type": "carpet"
           }
          ],
          "table": [
           {
            "cells": {
             "fill": {
              "color": "#506784"
             },
             "line": {
              "color": "rgb(17,17,17)"
             }
            },
            "header": {
             "fill": {
              "color": "#2a3f5f"
             },
             "line": {
              "color": "rgb(17,17,17)"
             }
            },
            "type": "table"
           }
          ],
          "barpolar": [
           {
            "marker": {
             "line": {
              "color": "rgb(17,17,17)",
              "width": 0.5
             },
             "pattern": {
              "fillmode": "overlay",
              "size": 10,
              "solidity": 0.2
             }
            },
            "type": "barpolar"
           }
          ],
          "pie": [
           {
            "automargin": true,
            "type": "pie"
           }
          ]
         },
         "layout": {
          "autotypenumbers": "strict",
          "colorway": [
           "#636efa",
           "#EF553B",
           "#00cc96",
           "#ab63fa",
           "#FFA15A",
           "#19d3f3",
           "#FF6692",
           "#B6E880",
           "#FF97FF",
           "#FECB52"
          ],
          "font": {
           "color": "#f2f5fa"
          },
          "hovermode": "closest",
          "hoverlabel": {
           "align": "left"
          },
          "paper_bgcolor": "rgb(17,17,17)",
          "plot_bgcolor": "rgb(17,17,17)",
          "polar": {
           "bgcolor": "rgb(17,17,17)",
           "angularaxis": {
            "gridcolor": "#506784",
            "linecolor": "#506784",
            "ticks": ""
           },
           "radialaxis": {
            "gridcolor": "#506784",
            "linecolor": "#506784",
            "ticks": ""
           }
          },
          "ternary": {
           "bgcolor": "rgb(17,17,17)",
           "aaxis": {
            "gridcolor": "#506784",
            "linecolor": "#506784",
            "ticks": ""
           },
           "baxis": {
            "gridcolor": "#506784",
            "linecolor": "#506784",
            "ticks": ""
           },
           "caxis": {
            "gridcolor": "#506784",
            "linecolor": "#506784",
            "ticks": ""
           }
          },
          "coloraxis": {
           "colorbar": {
            "outlinewidth": 0,
            "ticks": ""
           }
          },
          "colorscale": {
           "sequential": [
            [
             0.0,
             "#0d0887"
            ],
            [
             0.1111111111111111,
             "#46039f"
            ],
            [
             0.2222222222222222,
             "#7201a8"
            ],
            [
             0.3333333333333333,
             "#9c179e"
            ],
            [
             0.4444444444444444,
             "#bd3786"
            ],
            [
             0.5555555555555556,
             "#d8576b"
            ],
            [
             0.6666666666666666,
             "#ed7953"
            ],
            [
             0.7777777777777778,
             "#fb9f3a"
            ],
            [
             0.8888888888888888,
             "#fdca26"
            ],
            [
             1.0,
             "#f0f921"
            ]
           ],
           "sequentialminus": [
            [
             0.0,
             "#0d0887"
            ],
            [
             0.1111111111111111,
             "#46039f"
            ],
            [
             0.2222222222222222,
             "#7201a8"
            ],
            [
             0.3333333333333333,
             "#9c179e"
            ],
            [
             0.4444444444444444,
             "#bd3786"
            ],
            [
             0.5555555555555556,
             "#d8576b"
            ],
            [
             0.6666666666666666,
             "#ed7953"
            ],
            [
             0.7777777777777778,
             "#fb9f3a"
            ],
            [
             0.8888888888888888,
             "#fdca26"
            ],
            [
             1.0,
             "#f0f921"
            ]
           ],
           "diverging": [
            [
             0,
             "#8e0152"
            ],
            [
             0.1,
             "#c51b7d"
            ],
            [
             0.2,
             "#de77ae"
            ],
            [
             0.3,
             "#f1b6da"
            ],
            [
             0.4,
             "#fde0ef"
            ],
            [
             0.5,
             "#f7f7f7"
            ],
            [
             0.6,
             "#e6f5d0"
            ],
            [
             0.7,
             "#b8e186"
            ],
            [
             0.8,
             "#7fbc41"
            ],
            [
             0.9,
             "#4d9221"
            ],
            [
             1,
             "#276419"
            ]
           ]
          },
          "xaxis": {
           "gridcolor": "#283442",
           "linecolor": "#506784",
           "ticks": "",
           "title": {
            "standoff": 15
           },
           "zerolinecolor": "#283442",
           "automargin": true,
           "zerolinewidth": 2
          },
          "yaxis": {
           "gridcolor": "#283442",
           "linecolor": "#506784",
           "ticks": "",
           "title": {
            "standoff": 15
           },
           "zerolinecolor": "#283442",
           "automargin": true,
           "zerolinewidth": 2
          },
          "scene": {
           "xaxis": {
            "backgroundcolor": "rgb(17,17,17)",
            "gridcolor": "#506784",
            "linecolor": "#506784",
            "showbackground": true,
            "ticks": "",
            "zerolinecolor": "#C8D4E3",
            "gridwidth": 2
           },
           "yaxis": {
            "backgroundcolor": "rgb(17,17,17)",
            "gridcolor": "#506784",
            "linecolor": "#506784",
            "showbackground": true,
            "ticks": "",
            "zerolinecolor": "#C8D4E3",
            "gridwidth": 2
           },
           "zaxis": {
            "backgroundcolor": "rgb(17,17,17)",
            "gridcolor": "#506784",
            "linecolor": "#506784",
            "showbackground": true,
            "ticks": "",
            "zerolinecolor": "#C8D4E3",
            "gridwidth": 2
           }
          },
          "shapedefaults": {
           "line": {
            "color": "#f2f5fa"
           }
          },
          "annotationdefaults": {
           "arrowcolor": "#f2f5fa",
           "arrowhead": 0,
           "arrowwidth": 1
          },
          "geo": {
           "bgcolor": "rgb(17,17,17)",
           "landcolor": "rgb(17,17,17)",
           "subunitcolor": "#506784",
           "showland": true,
           "showlakes": true,
           "lakecolor": "rgb(17,17,17)"
          },
          "title": {
           "x": 0.05
          },
          "updatemenudefaults": {
           "bgcolor": "#506784",
           "borderwidth": 0
          },
          "sliderdefaults": {
           "bgcolor": "#C8D4E3",
           "borderwidth": 1,
           "bordercolor": "rgb(17,17,17)",
           "tickwidth": 0
          },
          "mapbox": {
           "style": "dark"
          }
         }
        },
        "shapes": [
         {
          "line": {
           "color": "red",
           "dash": "dash"
          },
          "type": "line",
          "x0": 0.8483779582294649,
          "x1": 0.8483779582294649,
          "xref": "x",
          "y0": 0,
          "y1": 1,
          "yref": "y domain"
         }
        ],
        "title": {
         "text": "Silhouette Plot per Cluster"
        },
        "xaxis": {
         "title": {
          "text": "Silhouette coefficient values"
         }
        },
        "yaxis": {
         "title": {
          "text": "Clustered samples"
         }
        },
        "bargap": 0.01,
        "height": 600,
        "plot_bgcolor": "black",
        "paper_bgcolor": "black"
       },
       "config": {
        "plotlyServerURL": "https://plot.ly"
       }
      }
     },
     "metadata": {},
     "output_type": "display_data"
    },
    {
     "data": {
      "application/vnd.plotly.v1+json": {
       "data": [
        {
         "marker": {
          "color": "rgb(179,179,179)"
         },
         "orientation": "h",
         "showlegend": false,
         "x": [
          0.6734241222611808,
          0.7355187662412707
         ],
         "y": [
          0,
          1
         ],
         "type": "bar"
        },
        {
         "marker": {
          "color": "rgb(102,194,165)"
         },
         "orientation": "h",
         "showlegend": false,
         "x": [
          0.5895673682108215,
          0.5918758282349881,
          0.6035419580326992,
          0.6145474108324454,
          0.6146798270336424,
          0.6164780814776235,
          0.6230199776516323,
          0.6240004140043984,
          0.6245375927230766,
          0.624895150044095,
          0.6257591285399936,
          0.6296396749068364,
          0.6297847069864486,
          0.6301618086084121,
          0.6309218523154541,
          0.6339927504870767,
          0.6340780404775177,
          0.6343586944945551,
          0.6345892637257552,
          0.6390694384830503,
          0.6427169428851911,
          0.6457503122346572,
          0.6469119336916368,
          0.6492388693306773,
          0.6496703935989719,
          0.6496858228262108,
          0.6496858228262108,
          0.6502425417199241,
          0.6510156240540559,
          0.6530748237365267,
          0.653611626886303,
          0.6545104980177511,
          0.6546977215908052,
          0.6551059952028734,
          0.6551059952028734,
          0.6551286649092315,
          0.6553630736560387,
          0.6554683967810383,
          0.6559907505229389,
          0.6565632585457887,
          0.6565632585457887,
          0.6565632585457887,
          0.6565632585457887,
          0.656573362160737,
          0.656573362160737,
          0.656573362160737,
          0.6565762852739014,
          0.6566000401341068,
          0.6571825598552319,
          0.6575392807245527,
          0.6575392807245527,
          0.6581551859456098,
          0.658463215516709,
          0.6588335515811256,
          0.6588479031108225,
          0.6589167184506066,
          0.6589216104519799,
          0.6589216104519799,
          0.6589216104519799,
          0.6592643610219021,
          0.6593769281284558,
          0.6596653053812142,
          0.6596653053812142,
          0.6598271917346602,
          0.6599001302346167,
          0.6599001302346167,
          0.6599001302346167,
          0.6599001302346167,
          0.6599001302346167,
          0.6599001302346167,
          0.6600785950702606,
          0.6604865273342965,
          0.6609209749741065,
          0.6619992326629405,
          0.6619992326629405,
          0.6621236258838373,
          0.6623315957355275,
          0.6623315957355275,
          0.6632333042420231,
          0.663478695838627,
          0.6640805058843544,
          0.6714601235892244,
          0.6731248362279088,
          0.6839674311005904,
          0.6904840481667844,
          0.6913464619593841,
          0.6989072996154453,
          0.6997688560264845,
          0.7002548979127837,
          0.7005230670072079,
          0.7008218856981847,
          0.700920537291772,
          0.7015418519221318,
          0.7018184342357042,
          0.7027617723135257,
          0.704160507627033,
          0.7064489574049266,
          0.7070408710062169,
          0.7073824734881986,
          0.707559900592295,
          0.7082770029252403,
          0.7082885905397635,
          0.7085747636559158,
          0.709087594442422,
          0.7101452378730307,
          0.710936900472862,
          0.711332285706981,
          0.7129344276498664,
          0.7140695500230811,
          0.714118937657967,
          0.7142856494200704,
          0.7144711012652657,
          0.7147409374985229,
          0.7150937719383443,
          0.7154062413604089,
          0.7168331030747109,
          0.7189260462737023,
          0.7205191396441286,
          0.7207508765793241,
          0.7215400223656541,
          0.7217268650988492,
          0.722015521728545,
          0.7220891755082796,
          0.7245474618584133,
          0.7247335459632086,
          0.7266425219824282,
          0.728358757264777,
          0.7304119586169382,
          0.7308908881106634,
          0.7308968963303574,
          0.7312058697702438,
          0.7315323276537714,
          0.7321831039518988,
          0.7332767451734509,
          0.7338500268716931,
          0.7340308374082464,
          0.7341309995748148,
          0.7343263450334444,
          0.735599711649588,
          0.735609367378248,
          0.7359387716581399,
          0.7372643920928119,
          0.737440189695392,
          0.7390961588462966,
          0.7396788099568831,
          0.740221204551484,
          0.7405993668153373,
          0.7408987447445416,
          0.7415134449655051,
          0.741835448258897,
          0.7419205959024577,
          0.7427858339926572,
          0.744344383818942,
          0.7444180011251391,
          0.7444390398658594,
          0.7448685743191867,
          0.7449303456782285,
          0.745011839525724,
          0.7451802877781877,
          0.745780710913753,
          0.7465503874354031,
          0.7467018112932584,
          0.7471180004337086,
          0.7472880236874454,
          0.7473868057937674,
          0.7473868108552318,
          0.7478538808809989,
          0.7482481795911717,
          0.748359304583132,
          0.748448313932847,
          0.74959351676438,
          0.7499794761695203,
          0.7502777967093784,
          0.7506136648686741,
          0.7506625320536037,
          0.7514505043411107,
          0.7520099971032596,
          0.752120034359855,
          0.7527572513739406,
          0.7528114439099803,
          0.7529516368617039,
          0.7531431633652413,
          0.7537996335027264,
          0.7541746032758141,
          0.7543036635256528,
          0.7546310974044388,
          0.7547125191555811,
          0.754713269072323,
          0.7547622950178375,
          0.7551442983607188,
          0.7557953166359276,
          0.7569783146388871,
          0.7570041782826684,
          0.7571187122111314,
          0.7581993321214644,
          0.7591464129988185,
          0.7598252882483563,
          0.76048676350281,
          0.7610349389564207,
          0.761456467319146,
          0.7615021264044631,
          0.7615480047986517,
          0.7620398446200176,
          0.7620780444222869,
          0.7626190502672049,
          0.7626531044385024,
          0.7644758656014125,
          0.7644817460210912,
          0.7653429508968044,
          0.7661055309783857,
          0.7663540794682205,
          0.7664415874393528,
          0.7664590255881198,
          0.7669644236869215,
          0.767244291858716,
          0.7677495824153217,
          0.7678032570117788,
          0.767900310707514,
          0.7683637884145502,
          0.7685223051193496,
          0.7686032070783956,
          0.7692417848395766,
          0.7694948744750586,
          0.7698911645821445,
          0.7700120724707131,
          0.7703970472956255,
          0.7706634969786669,
          0.7710685587039245,
          0.7711366808692619,
          0.7711592535174189,
          0.7712880522952836,
          0.7718410951324691,
          0.7720948395495112,
          0.7722967729418858,
          0.7724244504358744,
          0.7724425775062209,
          0.772748959563932,
          0.7730226961904468,
          0.7734443898281087,
          0.773711157286975,
          0.773842162048082,
          0.774066420947265,
          0.7740909173199747,
          0.7741078815512168,
          0.7741285674701264,
          0.7746893407592856,
          0.7746940710770176,
          0.7752241818129412,
          0.7754478764474209,
          0.7754994042605008,
          0.7756580275726597,
          0.7757056962608717,
          0.7763990958947334,
          0.7764522500473923,
          0.7765148290382621,
          0.7767690127401834,
          0.7771351618165833,
          0.7775339852369236,
          0.7775433216182892,
          0.7776839451780553,
          0.7778611143709591,
          0.7780624375760478,
          0.7784576296124907,
          0.7784911425385014,
          0.778624847776511,
          0.7786753739672323,
          0.7787142265238588,
          0.7792397556485868,
          0.7804948119608482,
          0.7806630715108899,
          0.7808305195645691,
          0.781232423021563,
          0.7816963564408185,
          0.7818657548436322,
          0.7821278116473912,
          0.7821286886824999,
          0.7821645247767249,
          0.7826611235664769,
          0.7834227701993294,
          0.7835374909305229,
          0.7837098019713192,
          0.7839510082064217,
          0.7843707664174465,
          0.784430086805429,
          0.7844349837942477,
          0.7844590594720035,
          0.7844688258133726,
          0.7845452082594456,
          0.7845587885354872,
          0.784628169630068,
          0.7847920408220547,
          0.7851776001396817,
          0.7852329419535395,
          0.7853401308853424,
          0.7853838587529838,
          0.7853975630023401,
          0.786226927850229,
          0.7864267474546727,
          0.7866799226985806,
          0.7872609590658615,
          0.7881202838682605,
          0.7882071235979125,
          0.7884189026909171,
          0.7885107056076047,
          0.7885186409279192,
          0.7888088411021664,
          0.7888725457417528,
          0.7889514595153683,
          0.7890232312239976,
          0.7890716071758337,
          0.7893217019149672,
          0.7893916542806142,
          0.7894338565158572,
          0.7894767074617475,
          0.789501545169712,
          0.7895614788426706,
          0.7899705448340173,
          0.7900629428743612,
          0.7900944178492773,
          0.7902136520020717,
          0.7906361358484013,
          0.7907878521748808,
          0.791321382397571,
          0.7913783596741801,
          0.7915782357816279,
          0.7917890086677521,
          0.7918091712796791,
          0.7921091789514398,
          0.7921569785269935,
          0.7922901234386065,
          0.7923203240679506,
          0.7924771505658754,
          0.7925748090136624,
          0.7930048300075333,
          0.793216104550617,
          0.7937890657451478,
          0.7940149146436438,
          0.7941564287481633,
          0.7942541950049271,
          0.7942675207052173,
          0.7943022930024108,
          0.794503219737147,
          0.794705117891522,
          0.7947239601269713,
          0.7950052068980852,
          0.7951094981482675,
          0.7955589838505993,
          0.7955636821597332,
          0.7956112011987324,
          0.7959036118858188,
          0.7964680479084186,
          0.7965005744648317,
          0.7968374089619958,
          0.7969708726578729,
          0.796982183805999,
          0.797277923500135,
          0.7978932135276546,
          0.7979658731592267,
          0.7979859349707992,
          0.7981421801444476,
          0.7985465729704704,
          0.7988518726128562,
          0.7997210599546215,
          0.7997475819073935,
          0.8002346901062423,
          0.8002583749774409,
          0.8006328731696074,
          0.8007553510736592,
          0.8010609909876066,
          0.8012446156047366,
          0.8012712296154524,
          0.8012858640897076,
          0.80132852949757,
          0.8013678874150519,
          0.8014010702636306,
          0.8014864148278484,
          0.8015243753376828,
          0.8019376750946625,
          0.8019577065378647,
          0.8021390091476817,
          0.8021794605586274,
          0.8028894733105335,
          0.8029149435762256,
          0.8032248134223336,
          0.8032771803250285,
          0.8033015644665693,
          0.8033362642393029,
          0.8033635594788662,
          0.8036715720956541,
          0.8037231749292383,
          0.8039877705841647,
          0.8039997991189699,
          0.8040536794179024,
          0.8044647595520797,
          0.8044840391538315,
          0.8044943445769598,
          0.8045555884188892,
          0.8045666078994014,
          0.8046859409271685,
          0.8048607500029171,
          0.8049466387791243,
          0.8053669396494751,
          0.8054103657382818,
          0.8054119168812993,
          0.8055417467173116,
          0.8055706211247196,
          0.805810006229869,
          0.8058386416927535,
          0.8058500280964866,
          0.8058549302035273,
          0.8058978136396941,
          0.8059691339718837,
          0.8060142223733473,
          0.8061880020761532,
          0.8064826182025007,
          0.8065228533454518,
          0.8066340865335974,
          0.8066531978947786,
          0.8069213760809757,
          0.8070793078128785,
          0.8072276753669443,
          0.8073184531018012,
          0.8074160479470077,
          0.8074920784757276,
          0.8076982871356844,
          0.8081191042342334,
          0.8081273546019065,
          0.8081665034931858,
          0.8082856052300079,
          0.8083776376925917,
          0.8083795176913737,
          0.8085203763035989,
          0.80862869601401,
          0.8087070763736045,
          0.8087597232747064,
          0.808922272646923,
          0.8096025070182389,
          0.8096479120508873,
          0.8099964380900225,
          0.8100163158670287,
          0.8100293098549005,
          0.8105001909388975,
          0.8105238157843854,
          0.8106565452196843,
          0.8107868853255121,
          0.8108050846551835,
          0.8110498053702188,
          0.8110630970626448,
          0.8111006334779743,
          0.8112001286908154,
          0.811279203207397,
          0.8113934165662812,
          0.8116630814135701,
          0.8118960995250044,
          0.811926544852816,
          0.8120910069181879,
          0.8121042546241298,
          0.8121510687955121,
          0.8122088131915521,
          0.8122332165823315,
          0.8124604163240327,
          0.8125168838520048,
          0.8126444815113885,
          0.8127024293957679,
          0.8128370379382336,
          0.8133551738663336,
          0.8134958906042568,
          0.813510382970149,
          0.8136437680518152,
          0.8138640785458442,
          0.8139487168929861,
          0.8139678324154975,
          0.8140393644350951,
          0.8140782090691534,
          0.8144522610909963,
          0.814465651278117,
          0.8144789210924085,
          0.8146047310159662,
          0.8147830211204873,
          0.8148504516674973,
          0.8149363913740291,
          0.8149827645953183,
          0.8150050002856571,
          0.8150516331594356,
          0.8150737063519369,
          0.815159913950769,
          0.8153193770753648,
          0.8154901492414092,
          0.8155592399950432,
          0.815569403307048,
          0.8155895001531303,
          0.8156043536690487,
          0.8156516303332322,
          0.8156830265623577,
          0.8158576664487808,
          0.8158655180029443,
          0.8160221016510522,
          0.8162240801542464,
          0.8162682069998504,
          0.816284340079154,
          0.8163215707339836,
          0.8164864297182016,
          0.8165882336578919,
          0.8166176356402555,
          0.8167504823107521,
          0.8168140425609283,
          0.8168251372120413,
          0.8168279285375526,
          0.8169544691335119,
          0.8169690917424739,
          0.8171313183310632,
          0.8172473348230807,
          0.8175887351582245,
          0.8176802919244317,
          0.8177207327586076,
          0.8177445086696102,
          0.8177929872003465,
          0.8178301425526998,
          0.8179217029387968,
          0.8179638533795418,
          0.81822230719441,
          0.8183039443054623,
          0.8185996025913398,
          0.8186487588727891,
          0.8186853636166196,
          0.8186886092371677,
          0.8187439106310802,
          0.8188095845752638,
          0.8188528225923073,
          0.8189150315854179,
          0.8190060634669016,
          0.8191772909425237,
          0.8192428903144874,
          0.8192837402589144,
          0.8192844790869743,
          0.8193098728910995,
          0.8194334386511359,
          0.8194411962128664,
          0.819673772489429,
          0.819766154117062,
          0.8198101113544944,
          0.819917943550395,
          0.819923934517554,
          0.8199499932300264,
          0.8201026955827676,
          0.8202096843448539,
          0.8202292521504002,
          0.8202659242304409,
          0.820322375729393,
          0.8203859809830892,
          0.8203987822936627,
          0.8204233796576226,
          0.8205838141133581,
          0.8205853391783183,
          0.8206011543944762,
          0.8206086068578183,
          0.8206354051260399,
          0.8206983390732873,
          0.8209157823552269,
          0.8209471626571562,
          0.8209508680642269,
          0.8209655535592845,
          0.8210482604683517,
          0.8212371316110706,
          0.8212377187406649,
          0.8212481179895774,
          0.8212889309502909,
          0.8212896783020751,
          0.8213453320435652,
          0.8213883220120538,
          0.8214424914042012,
          0.8215327243293816,
          0.8215740782874976,
          0.8217031397912841,
          0.8218335460500409,
          0.8218833353526667,
          0.8220336019114217,
          0.8220602586906648,
          0.8221502218557551,
          0.8221563757212081,
          0.8222837980106276,
          0.8224755080429599,
          0.8224823129498514,
          0.8225274667516758,
          0.8227183883179905,
          0.8228743739794089,
          0.8230530368026644,
          0.8231281867603456,
          0.8232123715569594,
          0.8232505220409959,
          0.8232860079846505,
          0.8233020110643204,
          0.8233706668962458,
          0.8234638223275172,
          0.8234764086677206,
          0.8235229627992999,
          0.8235775344486598,
          0.823677734712385,
          0.8236937402449279,
          0.8238554571108162,
          0.8240604132348275,
          0.8240638639200959,
          0.8241882632371944,
          0.8243289916704585,
          0.8244196162098745,
          0.8245467383715014,
          0.8247715912440055,
          0.8248210639643331,
          0.824974569657921,
          0.8249915009013408,
          0.8250553189586698,
          0.8251830965729453,
          0.8252514390345239,
          0.825288538174514,
          0.8253126341598384,
          0.8254200606157911,
          0.8254446788089701,
          0.8255307432215019,
          0.8256347222512798,
          0.8256617297800716,
          0.8258088284258389,
          0.826030754447763,
          0.8262585179909854,
          0.8263806522753803,
          0.8264178112510202,
          0.8264231582196382,
          0.826832377087204,
          0.8270412037294559,
          0.8271072522849239,
          0.8272435323410151,
          0.8273047228018651,
          0.8273513998294919,
          0.827376171177352,
          0.8275060536093883,
          0.8276625382177613,
          0.8277898422309709,
          0.8280527197230039,
          0.8281847495652637,
          0.8282751368979429,
          0.8283659577072773,
          0.8287137162671032,
          0.8287638923209304,
          0.8288534799699373,
          0.8290745737312678,
          0.8291060261704368,
          0.8294723375452256,
          0.8296354001113363,
          0.8298554664801809,
          0.8308243740917479,
          0.8308794860607064,
          0.8313253905776987,
          0.8316228343812799,
          0.8322096916888636,
          0.832503500823459,
          0.8325832223478281,
          0.833972157419253,
          0.8340262910219806,
          0.8341735376926078,
          0.834524121198541
         ],
         "y": [
          2,
          3,
          4,
          5,
          6,
          7,
          8,
          9,
          10,
          11,
          12,
          13,
          14,
          15,
          16,
          17,
          18,
          19,
          20,
          21,
          22,
          23,
          24,
          25,
          26,
          27,
          28,
          29,
          30,
          31,
          32,
          33,
          34,
          35,
          36,
          37,
          38,
          39,
          40,
          41,
          42,
          43,
          44,
          45,
          46,
          47,
          48,
          49,
          50,
          51,
          52,
          53,
          54,
          55,
          56,
          57,
          58,
          59,
          60,
          61,
          62,
          63,
          64,
          65,
          66,
          67,
          68,
          69,
          70,
          71,
          72,
          73,
          74,
          75,
          76,
          77,
          78,
          79,
          80,
          81,
          82,
          83,
          84,
          85,
          86,
          87,
          88,
          89,
          90,
          91,
          92,
          93,
          94,
          95,
          96,
          97,
          98,
          99,
          100,
          101,
          102,
          103,
          104,
          105,
          106,
          107,
          108,
          109,
          110,
          111,
          112,
          113,
          114,
          115,
          116,
          117,
          118,
          119,
          120,
          121,
          122,
          123,
          124,
          125,
          126,
          127,
          128,
          129,
          130,
          131,
          132,
          133,
          134,
          135,
          136,
          137,
          138,
          139,
          140,
          141,
          142,
          143,
          144,
          145,
          146,
          147,
          148,
          149,
          150,
          151,
          152,
          153,
          154,
          155,
          156,
          157,
          158,
          159,
          160,
          161,
          162,
          163,
          164,
          165,
          166,
          167,
          168,
          169,
          170,
          171,
          172,
          173,
          174,
          175,
          176,
          177,
          178,
          179,
          180,
          181,
          182,
          183,
          184,
          185,
          186,
          187,
          188,
          189,
          190,
          191,
          192,
          193,
          194,
          195,
          196,
          197,
          198,
          199,
          200,
          201,
          202,
          203,
          204,
          205,
          206,
          207,
          208,
          209,
          210,
          211,
          212,
          213,
          214,
          215,
          216,
          217,
          218,
          219,
          220,
          221,
          222,
          223,
          224,
          225,
          226,
          227,
          228,
          229,
          230,
          231,
          232,
          233,
          234,
          235,
          236,
          237,
          238,
          239,
          240,
          241,
          242,
          243,
          244,
          245,
          246,
          247,
          248,
          249,
          250,
          251,
          252,
          253,
          254,
          255,
          256,
          257,
          258,
          259,
          260,
          261,
          262,
          263,
          264,
          265,
          266,
          267,
          268,
          269,
          270,
          271,
          272,
          273,
          274,
          275,
          276,
          277,
          278,
          279,
          280,
          281,
          282,
          283,
          284,
          285,
          286,
          287,
          288,
          289,
          290,
          291,
          292,
          293,
          294,
          295,
          296,
          297,
          298,
          299,
          300,
          301,
          302,
          303,
          304,
          305,
          306,
          307,
          308,
          309,
          310,
          311,
          312,
          313,
          314,
          315,
          316,
          317,
          318,
          319,
          320,
          321,
          322,
          323,
          324,
          325,
          326,
          327,
          328,
          329,
          330,
          331,
          332,
          333,
          334,
          335,
          336,
          337,
          338,
          339,
          340,
          341,
          342,
          343,
          344,
          345,
          346,
          347,
          348,
          349,
          350,
          351,
          352,
          353,
          354,
          355,
          356,
          357,
          358,
          359,
          360,
          361,
          362,
          363,
          364,
          365,
          366,
          367,
          368,
          369,
          370,
          371,
          372,
          373,
          374,
          375,
          376,
          377,
          378,
          379,
          380,
          381,
          382,
          383,
          384,
          385,
          386,
          387,
          388,
          389,
          390,
          391,
          392,
          393,
          394,
          395,
          396,
          397,
          398,
          399,
          400,
          401,
          402,
          403,
          404,
          405,
          406,
          407,
          408,
          409,
          410,
          411,
          412,
          413,
          414,
          415,
          416,
          417,
          418,
          419,
          420,
          421,
          422,
          423,
          424,
          425,
          426,
          427,
          428,
          429,
          430,
          431,
          432,
          433,
          434,
          435,
          436,
          437,
          438,
          439,
          440,
          441,
          442,
          443,
          444,
          445,
          446,
          447,
          448,
          449,
          450,
          451,
          452,
          453,
          454,
          455,
          456,
          457,
          458,
          459,
          460,
          461,
          462,
          463,
          464,
          465,
          466,
          467,
          468,
          469,
          470,
          471,
          472,
          473,
          474,
          475,
          476,
          477,
          478,
          479,
          480,
          481,
          482,
          483,
          484,
          485,
          486,
          487,
          488,
          489,
          490,
          491,
          492,
          493,
          494,
          495,
          496,
          497,
          498,
          499,
          500,
          501,
          502,
          503,
          504,
          505,
          506,
          507,
          508,
          509,
          510,
          511,
          512,
          513,
          514,
          515,
          516,
          517,
          518,
          519,
          520,
          521,
          522,
          523,
          524,
          525,
          526,
          527,
          528,
          529,
          530,
          531,
          532,
          533,
          534,
          535,
          536,
          537,
          538,
          539,
          540,
          541,
          542,
          543,
          544,
          545,
          546,
          547,
          548,
          549,
          550,
          551,
          552,
          553,
          554,
          555,
          556,
          557,
          558,
          559,
          560,
          561,
          562,
          563,
          564,
          565,
          566,
          567,
          568,
          569,
          570,
          571,
          572,
          573,
          574,
          575,
          576,
          577,
          578,
          579,
          580,
          581,
          582,
          583,
          584,
          585,
          586,
          587,
          588,
          589,
          590,
          591,
          592,
          593,
          594,
          595,
          596,
          597,
          598,
          599,
          600,
          601,
          602,
          603,
          604,
          605,
          606,
          607,
          608,
          609,
          610,
          611,
          612,
          613,
          614,
          615,
          616,
          617,
          618,
          619,
          620,
          621,
          622,
          623,
          624,
          625,
          626,
          627,
          628,
          629,
          630,
          631,
          632,
          633,
          634,
          635,
          636,
          637,
          638,
          639,
          640,
          641,
          642,
          643,
          644,
          645,
          646,
          647,
          648,
          649,
          650,
          651,
          652,
          653,
          654,
          655,
          656,
          657,
          658,
          659,
          660
         ],
         "type": "bar"
        },
        {
         "marker": {
          "color": "rgb(252,141,98)"
         },
         "orientation": "h",
         "showlegend": false,
         "x": [
          0.6346931194543235,
          0.6398317487209962,
          0.6439626832333998,
          0.6455446413782266,
          0.6555271772831323,
          0.6589919859008997,
          0.660867531157563,
          0.6609456926781768,
          0.6621798034003208,
          0.6621798034003208,
          0.6623542983931633,
          0.6644627641038899,
          0.6652899286280881,
          0.6992724954721781,
          0.7339077521602834,
          0.7339702880683329,
          0.7362952203504479,
          0.7457623830504854,
          0.7465041120544313,
          0.7496904839111909,
          0.7581777552421911,
          0.7591078865965538,
          0.769320845374417,
          0.7702672681743952,
          0.7738232726324966,
          0.7745025635374403,
          0.7747448864442821,
          0.779206652900006,
          0.783797865657968,
          0.7895953231647636,
          0.7936427652171034,
          0.7950921822396603,
          0.7959487627323344,
          0.7963046379598377,
          0.7966064960374089,
          0.796664067814866,
          0.7975662130848361,
          0.7979459702390886,
          0.7980284494014983,
          0.7994971115059454,
          0.8005771603631809,
          0.8028456218465092,
          0.8028460842076421,
          0.8055177264622546,
          0.8063637064118516,
          0.8082158351242543,
          0.8085023998291375,
          0.81079716118872,
          0.812594331065552,
          0.8127597085106852,
          0.813754590562526,
          0.8148504767526688,
          0.8150837310433189,
          0.8160356378289699,
          0.8162170835569935,
          0.8166514053995266,
          0.816657242937168,
          0.8168700490262333,
          0.8177808268979301,
          0.8190976474099549,
          0.8191923709389265,
          0.8206115956900892,
          0.8218268070854543,
          0.8229697304781419,
          0.8239037291976666,
          0.8239737142810297,
          0.8253196803608887,
          0.82551107226729,
          0.8264401625433574,
          0.8267567018692721,
          0.826846817372217,
          0.828268089508292,
          0.8283470152195836,
          0.8287410002348387,
          0.8299551683427296,
          0.8301602271543714,
          0.8308725153331452,
          0.8318707859363522,
          0.8320392480213316,
          0.832968048399678,
          0.8330491996162683,
          0.8333319292442736,
          0.8333456675501398,
          0.8333570712922893,
          0.833619902170583,
          0.8340143659186273,
          0.8349866175135866,
          0.8362286891321759,
          0.8373162275594576,
          0.8379338218962242,
          0.8380770940428424,
          0.8385607341165973,
          0.8397773302364647,
          0.8406813719798393,
          0.841152616239157,
          0.841331949049956,
          0.8415460122643008,
          0.8416549902353875,
          0.8422506073245354,
          0.8433420846390447,
          0.8434539170678839,
          0.8435284645225377,
          0.8441574161756894,
          0.8444214485797034,
          0.8445797213456862,
          0.844763870277973,
          0.8450791276539521,
          0.8453969405496756,
          0.8455156631000565,
          0.845737049023427,
          0.8457750200077937,
          0.8458553025668457,
          0.846178342297591,
          0.8463250749547487,
          0.8464034894139916,
          0.8464246734884182,
          0.846697420037923,
          0.8468348038931954,
          0.847046537840145,
          0.8476254740001073,
          0.8485428849264106,
          0.848634663230807,
          0.8488163037063855,
          0.8488744651804854,
          0.8491154033585334,
          0.8491885773026318,
          0.8493630351185468,
          0.8495656877202877,
          0.849605378164734,
          0.8496587585290521,
          0.8497732973042396,
          0.8498628902947406,
          0.8500584554177241,
          0.8501484298541168,
          0.8502112833652425,
          0.850553409210132,
          0.8510552266993255,
          0.8511134213151687,
          0.8511167653298757,
          0.851733747115133,
          0.8519403901170193,
          0.8522813333788074,
          0.8528739222800185,
          0.8529858740451616,
          0.8532807360349569,
          0.8534271192832298,
          0.853920133688502,
          0.8539516758921143,
          0.8542049179939732,
          0.8545761298975927,
          0.8553218064162409,
          0.8554288341611423,
          0.855907715108803,
          0.8559467877395031,
          0.855977094966923,
          0.8562880519251002,
          0.8568426539332182,
          0.8573918467297992,
          0.8574780966880509,
          0.8577636614772023,
          0.8583740643508546,
          0.8585916359064837,
          0.8590888393707162,
          0.8591406904839111,
          0.8592345381220908,
          0.8592763277086518,
          0.8605988403931941,
          0.8620590345014612,
          0.865167325836194,
          0.8664717460567734,
          0.8685426083329085
         ],
         "y": [
          661,
          662,
          663,
          664,
          665,
          666,
          667,
          668,
          669,
          670,
          671,
          672,
          673,
          674,
          675,
          676,
          677,
          678,
          679,
          680,
          681,
          682,
          683,
          684,
          685,
          686,
          687,
          688,
          689,
          690,
          691,
          692,
          693,
          694,
          695,
          696,
          697,
          698,
          699,
          700,
          701,
          702,
          703,
          704,
          705,
          706,
          707,
          708,
          709,
          710,
          711,
          712,
          713,
          714,
          715,
          716,
          717,
          718,
          719,
          720,
          721,
          722,
          723,
          724,
          725,
          726,
          727,
          728,
          729,
          730,
          731,
          732,
          733,
          734,
          735,
          736,
          737,
          738,
          739,
          740,
          741,
          742,
          743,
          744,
          745,
          746,
          747,
          748,
          749,
          750,
          751,
          752,
          753,
          754,
          755,
          756,
          757,
          758,
          759,
          760,
          761,
          762,
          763,
          764,
          765,
          766,
          767,
          768,
          769,
          770,
          771,
          772,
          773,
          774,
          775,
          776,
          777,
          778,
          779,
          780,
          781,
          782,
          783,
          784,
          785,
          786,
          787,
          788,
          789,
          790,
          791,
          792,
          793,
          794,
          795,
          796,
          797,
          798,
          799,
          800,
          801,
          802,
          803,
          804,
          805,
          806,
          807,
          808,
          809,
          810,
          811,
          812,
          813,
          814,
          815,
          816,
          817,
          818,
          819,
          820,
          821,
          822,
          823,
          824,
          825,
          826,
          827,
          828,
          829,
          830,
          831
         ],
         "type": "bar"
        },
        {
         "marker": {
          "color": "rgb(141,160,203)"
         },
         "orientation": "h",
         "showlegend": false,
         "x": [
          0.8431619167526937,
          0.8578597599297931,
          0.8587145584445044,
          0.8699695701224096,
          0.8756193797558427,
          0.8855138702960385,
          0.8887129887814487
         ],
         "y": [
          832,
          833,
          834,
          835,
          836,
          837,
          838
         ],
         "type": "bar"
        },
        {
         "marker": {
          "color": "rgb(231,138,195)"
         },
         "orientation": "h",
         "showlegend": false,
         "x": [
          0.7197739301964341,
          0.7484112210988476,
          0.791693600715146,
          0.8044758451758268,
          0.808931053130025,
          0.8103333885428256,
          0.8131564659434032,
          0.8185536940956576,
          0.8212187992303644,
          0.8213243143015623,
          0.8220685480300489,
          0.8267510040535888,
          0.8291549425655181,
          0.8342563091490485,
          0.8361256231859228,
          0.8387355219820177,
          0.8408256667550925,
          0.8488784820434189,
          0.8489469711936534,
          0.8534800424932564,
          0.8545829225508785,
          0.8573694132877029,
          0.8577313036362181,
          0.8585707512806664,
          0.8613275661038704,
          0.862639817272177,
          0.8638474864369065,
          0.8641512886818095,
          0.8650611302023278,
          0.8650617316506654,
          0.8685029601601602,
          0.8688412810908962,
          0.8692362515108565,
          0.8746388291235444,
          0.8747105287944203,
          0.8749750625705283,
          0.8768262895275952,
          0.8779679364203954,
          0.8800338897238699,
          0.8819274290805389
         ],
         "y": [
          839,
          840,
          841,
          842,
          843,
          844,
          845,
          846,
          847,
          848,
          849,
          850,
          851,
          852,
          853,
          854,
          855,
          856,
          857,
          858,
          859,
          860,
          861,
          862,
          863,
          864,
          865,
          866,
          867,
          868,
          869,
          870,
          871,
          872,
          873,
          874,
          875,
          876,
          877,
          878
         ],
         "type": "bar"
        },
        {
         "marker": {
          "color": "rgb(166,216,84)"
         },
         "orientation": "h",
         "showlegend": false,
         "x": [
          0.9586393061108163,
          0.9588950300951432,
          0.966486763349231
         ],
         "y": [
          879,
          880,
          881
         ],
         "type": "bar"
        },
        {
         "marker": {
          "color": "rgb(255,217,47)"
         },
         "orientation": "h",
         "showlegend": false,
         "x": [
          0.7438461212154279,
          0.7518649098906974,
          0.7584577643332732,
          0.7590833128435839,
          0.7656552757161407,
          0.7675719862509571,
          0.7765152707607345,
          0.7806125981042359,
          0.7822159628337967,
          0.7989516202006465,
          0.8009777406255069,
          0.8017992273239806,
          0.8078609140961799,
          0.8243974785807873,
          0.8294361505661906,
          0.8345532249476427,
          0.8375104816773049,
          0.8375923053873158,
          0.838758030775109,
          0.8402985703817086,
          0.8408378052453557,
          0.8417591365907903,
          0.8463500146615517,
          0.8464152765000177,
          0.8478964999330173,
          0.8487086891429529,
          0.8513591899176705,
          0.8521164104931189,
          0.8544225708745359,
          0.855046571424235,
          0.855182527940835,
          0.8563431097844278,
          0.8571524384437671,
          0.8575055479321658,
          0.8586877074151187,
          0.8597587734291051,
          0.8598296021843825,
          0.8599629960186888,
          0.8612622204849337,
          0.8615427122850319,
          0.861669561899919,
          0.8622695440786446,
          0.8633411430601298,
          0.8635796711417736,
          0.8636282470080994,
          0.8644336565388763,
          0.864934780485449,
          0.8663149781648086,
          0.8684501071838152,
          0.868853168132709,
          0.8689899823151359,
          0.8693105905794914,
          0.8756800262469249
         ],
         "y": [
          882,
          883,
          884,
          885,
          886,
          887,
          888,
          889,
          890,
          891,
          892,
          893,
          894,
          895,
          896,
          897,
          898,
          899,
          900,
          901,
          902,
          903,
          904,
          905,
          906,
          907,
          908,
          909,
          910,
          911,
          912,
          913,
          914,
          915,
          916,
          917,
          918,
          919,
          920,
          921,
          922,
          923,
          924,
          925,
          926,
          927,
          928,
          929,
          930,
          931,
          932,
          933,
          934
         ],
         "type": "bar"
        },
        {
         "marker": {
          "color": "rgb(229,196,148)"
         },
         "orientation": "h",
         "showlegend": false,
         "x": [
          0.7758359224780077,
          0.7802210473984494,
          0.8572992707339292,
          0.8617679421634304,
          0.8692915998949534,
          0.8731166714355655,
          0.8739229912040986,
          0.8754689115963753,
          0.8827221853292738
         ],
         "y": [
          935,
          936,
          937,
          938,
          939,
          940,
          941,
          942,
          943
         ],
         "type": "bar"
        },
        {
         "marker": {
          "color": "rgb(179,179,179)"
         },
         "orientation": "h",
         "showlegend": false,
         "x": [
          0.8291914891486579,
          0.8898332345875783,
          0.9001612764449655,
          0.9059678686626331,
          0.9139452627276382
         ],
         "y": [
          944,
          945,
          946,
          947,
          948
         ],
         "type": "bar"
        },
        {
         "marker": {
          "color": "rgb(102,194,165)"
         },
         "orientation": "h",
         "showlegend": false,
         "x": [
          0.801315300813882,
          0.8276531434380007,
          0.8301081838154978,
          0.8420739150236953,
          0.8483298734678949,
          0.8581891980085042,
          0.8694733833626949,
          0.875058432189409,
          0.8779022047288879,
          0.8802211713638534,
          0.8825593729077822,
          0.8826879423896467,
          0.8827743641804113,
          0.8867232137983984,
          0.8875187338037519,
          0.8888333442456994,
          0.8904753642348988,
          0.8919543159735522,
          0.8934715216376437,
          0.8945759991879049,
          0.9007602728225593
         ],
         "y": [
          949,
          950,
          951,
          952,
          953,
          954,
          955,
          956,
          957,
          958,
          959,
          960,
          961,
          962,
          963,
          964,
          965,
          966,
          967,
          968,
          969
         ],
         "type": "bar"
        },
        {
         "marker": {
          "color": "rgb(252,141,98)"
         },
         "orientation": "h",
         "showlegend": false,
         "x": [
          0.7633698892378503,
          0.7695180012613951,
          0.7696168337955621,
          0.7718775593599735,
          0.7938657451790191,
          0.7965795813924486,
          0.822189604583469,
          0.8235938815425484,
          0.8381657538025188,
          0.8389212048160894,
          0.8409285815065931,
          0.8417962462017516,
          0.8520720538512916,
          0.857441339696976,
          0.8582110733728795,
          0.8587445223401031,
          0.8603590027870563,
          0.8625716558322928,
          0.8682974116448011,
          0.8683964704761643,
          0.8698831129845733,
          0.8705924818342706,
          0.8719673838940414,
          0.872906712478604,
          0.8736629422789385,
          0.874856829928069,
          0.8795149186223369,
          0.880811303869512,
          0.8851209780841929,
          0.8858012154067172
         ],
         "y": [
          970,
          971,
          972,
          973,
          974,
          975,
          976,
          977,
          978,
          979,
          980,
          981,
          982,
          983,
          984,
          985,
          986,
          987,
          988,
          989,
          990,
          991,
          992,
          993,
          994,
          995,
          996,
          997,
          998,
          999
         ],
         "type": "bar"
        }
       ],
       "layout": {
        "template": {
         "data": {
          "histogram2dcontour": [
           {
            "type": "histogram2dcontour",
            "colorbar": {
             "outlinewidth": 0,
             "ticks": ""
            },
            "colorscale": [
             [
              0.0,
              "#0d0887"
             ],
             [
              0.1111111111111111,
              "#46039f"
             ],
             [
              0.2222222222222222,
              "#7201a8"
             ],
             [
              0.3333333333333333,
              "#9c179e"
             ],
             [
              0.4444444444444444,
              "#bd3786"
             ],
             [
              0.5555555555555556,
              "#d8576b"
             ],
             [
              0.6666666666666666,
              "#ed7953"
             ],
             [
              0.7777777777777778,
              "#fb9f3a"
             ],
             [
              0.8888888888888888,
              "#fdca26"
             ],
             [
              1.0,
              "#f0f921"
             ]
            ]
           }
          ],
          "choropleth": [
           {
            "type": "choropleth",
            "colorbar": {
             "outlinewidth": 0,
             "ticks": ""
            }
           }
          ],
          "histogram2d": [
           {
            "type": "histogram2d",
            "colorbar": {
             "outlinewidth": 0,
             "ticks": ""
            },
            "colorscale": [
             [
              0.0,
              "#0d0887"
             ],
             [
              0.1111111111111111,
              "#46039f"
             ],
             [
              0.2222222222222222,
              "#7201a8"
             ],
             [
              0.3333333333333333,
              "#9c179e"
             ],
             [
              0.4444444444444444,
              "#bd3786"
             ],
             [
              0.5555555555555556,
              "#d8576b"
             ],
             [
              0.6666666666666666,
              "#ed7953"
             ],
             [
              0.7777777777777778,
              "#fb9f3a"
             ],
             [
              0.8888888888888888,
              "#fdca26"
             ],
             [
              1.0,
              "#f0f921"
             ]
            ]
           }
          ],
          "heatmap": [
           {
            "type": "heatmap",
            "colorbar": {
             "outlinewidth": 0,
             "ticks": ""
            },
            "colorscale": [
             [
              0.0,
              "#0d0887"
             ],
             [
              0.1111111111111111,
              "#46039f"
             ],
             [
              0.2222222222222222,
              "#7201a8"
             ],
             [
              0.3333333333333333,
              "#9c179e"
             ],
             [
              0.4444444444444444,
              "#bd3786"
             ],
             [
              0.5555555555555556,
              "#d8576b"
             ],
             [
              0.6666666666666666,
              "#ed7953"
             ],
             [
              0.7777777777777778,
              "#fb9f3a"
             ],
             [
              0.8888888888888888,
              "#fdca26"
             ],
             [
              1.0,
              "#f0f921"
             ]
            ]
           }
          ],
          "contourcarpet": [
           {
            "type": "contourcarpet",
            "colorbar": {
             "outlinewidth": 0,
             "ticks": ""
            }
           }
          ],
          "contour": [
           {
            "type": "contour",
            "colorbar": {
             "outlinewidth": 0,
             "ticks": ""
            },
            "colorscale": [
             [
              0.0,
              "#0d0887"
             ],
             [
              0.1111111111111111,
              "#46039f"
             ],
             [
              0.2222222222222222,
              "#7201a8"
             ],
             [
              0.3333333333333333,
              "#9c179e"
             ],
             [
              0.4444444444444444,
              "#bd3786"
             ],
             [
              0.5555555555555556,
              "#d8576b"
             ],
             [
              0.6666666666666666,
              "#ed7953"
             ],
             [
              0.7777777777777778,
              "#fb9f3a"
             ],
             [
              0.8888888888888888,
              "#fdca26"
             ],
             [
              1.0,
              "#f0f921"
             ]
            ]
           }
          ],
          "surface": [
           {
            "type": "surface",
            "colorbar": {
             "outlinewidth": 0,
             "ticks": ""
            },
            "colorscale": [
             [
              0.0,
              "#0d0887"
             ],
             [
              0.1111111111111111,
              "#46039f"
             ],
             [
              0.2222222222222222,
              "#7201a8"
             ],
             [
              0.3333333333333333,
              "#9c179e"
             ],
             [
              0.4444444444444444,
              "#bd3786"
             ],
             [
              0.5555555555555556,
              "#d8576b"
             ],
             [
              0.6666666666666666,
              "#ed7953"
             ],
             [
              0.7777777777777778,
              "#fb9f3a"
             ],
             [
              0.8888888888888888,
              "#fdca26"
             ],
             [
              1.0,
              "#f0f921"
             ]
            ]
           }
          ],
          "mesh3d": [
           {
            "type": "mesh3d",
            "colorbar": {
             "outlinewidth": 0,
             "ticks": ""
            }
           }
          ],
          "scatter": [
           {
            "marker": {
             "line": {
              "color": "#283442"
             }
            },
            "type": "scatter"
           }
          ],
          "parcoords": [
           {
            "type": "parcoords",
            "line": {
             "colorbar": {
              "outlinewidth": 0,
              "ticks": ""
             }
            }
           }
          ],
          "scatterpolargl": [
           {
            "type": "scatterpolargl",
            "marker": {
             "colorbar": {
              "outlinewidth": 0,
              "ticks": ""
             }
            }
           }
          ],
          "bar": [
           {
            "error_x": {
             "color": "#f2f5fa"
            },
            "error_y": {
             "color": "#f2f5fa"
            },
            "marker": {
             "line": {
              "color": "rgb(17,17,17)",
              "width": 0.5
             },
             "pattern": {
              "fillmode": "overlay",
              "size": 10,
              "solidity": 0.2
             }
            },
            "type": "bar"
           }
          ],
          "scattergeo": [
           {
            "type": "scattergeo",
            "marker": {
             "colorbar": {
              "outlinewidth": 0,
              "ticks": ""
             }
            }
           }
          ],
          "scatterpolar": [
           {
            "type": "scatterpolar",
            "marker": {
             "colorbar": {
              "outlinewidth": 0,
              "ticks": ""
             }
            }
           }
          ],
          "histogram": [
           {
            "marker": {
             "pattern": {
              "fillmode": "overlay",
              "size": 10,
              "solidity": 0.2
             }
            },
            "type": "histogram"
           }
          ],
          "scattergl": [
           {
            "marker": {
             "line": {
              "color": "#283442"
             }
            },
            "type": "scattergl"
           }
          ],
          "scatter3d": [
           {
            "type": "scatter3d",
            "line": {
             "colorbar": {
              "outlinewidth": 0,
              "ticks": ""
             }
            },
            "marker": {
             "colorbar": {
              "outlinewidth": 0,
              "ticks": ""
             }
            }
           }
          ],
          "scattermap": [
           {
            "type": "scattermap",
            "marker": {
             "colorbar": {
              "outlinewidth": 0,
              "ticks": ""
             }
            }
           }
          ],
          "scattermapbox": [
           {
            "type": "scattermapbox",
            "marker": {
             "colorbar": {
              "outlinewidth": 0,
              "ticks": ""
             }
            }
           }
          ],
          "scatterternary": [
           {
            "type": "scatterternary",
            "marker": {
             "colorbar": {
              "outlinewidth": 0,
              "ticks": ""
             }
            }
           }
          ],
          "scattercarpet": [
           {
            "type": "scattercarpet",
            "marker": {
             "colorbar": {
              "outlinewidth": 0,
              "ticks": ""
             }
            }
           }
          ],
          "carpet": [
           {
            "aaxis": {
             "endlinecolor": "#A2B1C6",
             "gridcolor": "#506784",
             "linecolor": "#506784",
             "minorgridcolor": "#506784",
             "startlinecolor": "#A2B1C6"
            },
            "baxis": {
             "endlinecolor": "#A2B1C6",
             "gridcolor": "#506784",
             "linecolor": "#506784",
             "minorgridcolor": "#506784",
             "startlinecolor": "#A2B1C6"
            },
            "type": "carpet"
           }
          ],
          "table": [
           {
            "cells": {
             "fill": {
              "color": "#506784"
             },
             "line": {
              "color": "rgb(17,17,17)"
             }
            },
            "header": {
             "fill": {
              "color": "#2a3f5f"
             },
             "line": {
              "color": "rgb(17,17,17)"
             }
            },
            "type": "table"
           }
          ],
          "barpolar": [
           {
            "marker": {
             "line": {
              "color": "rgb(17,17,17)",
              "width": 0.5
             },
             "pattern": {
              "fillmode": "overlay",
              "size": 10,
              "solidity": 0.2
             }
            },
            "type": "barpolar"
           }
          ],
          "pie": [
           {
            "automargin": true,
            "type": "pie"
           }
          ]
         },
         "layout": {
          "autotypenumbers": "strict",
          "colorway": [
           "#636efa",
           "#EF553B",
           "#00cc96",
           "#ab63fa",
           "#FFA15A",
           "#19d3f3",
           "#FF6692",
           "#B6E880",
           "#FF97FF",
           "#FECB52"
          ],
          "font": {
           "color": "#f2f5fa"
          },
          "hovermode": "closest",
          "hoverlabel": {
           "align": "left"
          },
          "paper_bgcolor": "rgb(17,17,17)",
          "plot_bgcolor": "rgb(17,17,17)",
          "polar": {
           "bgcolor": "rgb(17,17,17)",
           "angularaxis": {
            "gridcolor": "#506784",
            "linecolor": "#506784",
            "ticks": ""
           },
           "radialaxis": {
            "gridcolor": "#506784",
            "linecolor": "#506784",
            "ticks": ""
           }
          },
          "ternary": {
           "bgcolor": "rgb(17,17,17)",
           "aaxis": {
            "gridcolor": "#506784",
            "linecolor": "#506784",
            "ticks": ""
           },
           "baxis": {
            "gridcolor": "#506784",
            "linecolor": "#506784",
            "ticks": ""
           },
           "caxis": {
            "gridcolor": "#506784",
            "linecolor": "#506784",
            "ticks": ""
           }
          },
          "coloraxis": {
           "colorbar": {
            "outlinewidth": 0,
            "ticks": ""
           }
          },
          "colorscale": {
           "sequential": [
            [
             0.0,
             "#0d0887"
            ],
            [
             0.1111111111111111,
             "#46039f"
            ],
            [
             0.2222222222222222,
             "#7201a8"
            ],
            [
             0.3333333333333333,
             "#9c179e"
            ],
            [
             0.4444444444444444,
             "#bd3786"
            ],
            [
             0.5555555555555556,
             "#d8576b"
            ],
            [
             0.6666666666666666,
             "#ed7953"
            ],
            [
             0.7777777777777778,
             "#fb9f3a"
            ],
            [
             0.8888888888888888,
             "#fdca26"
            ],
            [
             1.0,
             "#f0f921"
            ]
           ],
           "sequentialminus": [
            [
             0.0,
             "#0d0887"
            ],
            [
             0.1111111111111111,
             "#46039f"
            ],
            [
             0.2222222222222222,
             "#7201a8"
            ],
            [
             0.3333333333333333,
             "#9c179e"
            ],
            [
             0.4444444444444444,
             "#bd3786"
            ],
            [
             0.5555555555555556,
             "#d8576b"
            ],
            [
             0.6666666666666666,
             "#ed7953"
            ],
            [
             0.7777777777777778,
             "#fb9f3a"
            ],
            [
             0.8888888888888888,
             "#fdca26"
            ],
            [
             1.0,
             "#f0f921"
            ]
           ],
           "diverging": [
            [
             0,
             "#8e0152"
            ],
            [
             0.1,
             "#c51b7d"
            ],
            [
             0.2,
             "#de77ae"
            ],
            [
             0.3,
             "#f1b6da"
            ],
            [
             0.4,
             "#fde0ef"
            ],
            [
             0.5,
             "#f7f7f7"
            ],
            [
             0.6,
             "#e6f5d0"
            ],
            [
             0.7,
             "#b8e186"
            ],
            [
             0.8,
             "#7fbc41"
            ],
            [
             0.9,
             "#4d9221"
            ],
            [
             1,
             "#276419"
            ]
           ]
          },
          "xaxis": {
           "gridcolor": "#283442",
           "linecolor": "#506784",
           "ticks": "",
           "title": {
            "standoff": 15
           },
           "zerolinecolor": "#283442",
           "automargin": true,
           "zerolinewidth": 2
          },
          "yaxis": {
           "gridcolor": "#283442",
           "linecolor": "#506784",
           "ticks": "",
           "title": {
            "standoff": 15
           },
           "zerolinecolor": "#283442",
           "automargin": true,
           "zerolinewidth": 2
          },
          "scene": {
           "xaxis": {
            "backgroundcolor": "rgb(17,17,17)",
            "gridcolor": "#506784",
            "linecolor": "#506784",
            "showbackground": true,
            "ticks": "",
            "zerolinecolor": "#C8D4E3",
            "gridwidth": 2
           },
           "yaxis": {
            "backgroundcolor": "rgb(17,17,17)",
            "gridcolor": "#506784",
            "linecolor": "#506784",
            "showbackground": true,
            "ticks": "",
            "zerolinecolor": "#C8D4E3",
            "gridwidth": 2
           },
           "zaxis": {
            "backgroundcolor": "rgb(17,17,17)",
            "gridcolor": "#506784",
            "linecolor": "#506784",
            "showbackground": true,
            "ticks": "",
            "zerolinecolor": "#C8D4E3",
            "gridwidth": 2
           }
          },
          "shapedefaults": {
           "line": {
            "color": "#f2f5fa"
           }
          },
          "annotationdefaults": {
           "arrowcolor": "#f2f5fa",
           "arrowhead": 0,
           "arrowwidth": 1
          },
          "geo": {
           "bgcolor": "rgb(17,17,17)",
           "landcolor": "rgb(17,17,17)",
           "subunitcolor": "#506784",
           "showland": true,
           "showlakes": true,
           "lakecolor": "rgb(17,17,17)"
          },
          "title": {
           "x": 0.05
          },
          "updatemenudefaults": {
           "bgcolor": "#506784",
           "borderwidth": 0
          },
          "sliderdefaults": {
           "bgcolor": "#C8D4E3",
           "borderwidth": 1,
           "bordercolor": "rgb(17,17,17)",
           "tickwidth": 0
          },
          "mapbox": {
           "style": "dark"
          }
         }
        },
        "shapes": [
         {
          "line": {
           "color": "red",
           "dash": "dash"
          },
          "type": "line",
          "x0": 0.7921924513258569,
          "x1": 0.7921924513258569,
          "xref": "x",
          "y0": 0,
          "y1": 1,
          "yref": "y domain"
         }
        ],
        "title": {
         "text": "Silhouette Plot per Cluster"
        },
        "xaxis": {
         "title": {
          "text": "Silhouette coefficient values"
         }
        },
        "yaxis": {
         "title": {
          "text": "Clustered samples"
         }
        },
        "bargap": 0.01,
        "height": 600,
        "plot_bgcolor": "black",
        "paper_bgcolor": "black"
       },
       "config": {
        "plotlyServerURL": "https://plot.ly"
       }
      }
     },
     "metadata": {},
     "output_type": "display_data"
    },
    {
     "data": {
      "application/vnd.plotly.v1+json": {
       "data": [
        {
         "marker": {
          "color": "rgb(102,194,165)"
         },
         "orientation": "h",
         "showlegend": false,
         "x": [
          0.7482403963347061,
          0.7674747403772867,
          0.7685384991806719,
          0.7708511376411732,
          0.7850245823205648,
          0.7878040679582498,
          0.7912956130234668,
          0.792962732777772,
          0.7963758009334112,
          0.8011487240273063,
          0.804046127058206,
          0.8075238082998711,
          0.8082550775875927,
          0.8087255742455789,
          0.8298651862018295,
          0.8335696590326359,
          0.8340569742938819,
          0.8355616367635235,
          0.8355825108083923,
          0.8407665132515455,
          0.8454482964015816,
          0.8459442327117396,
          0.8488674551774412,
          0.8504402353635576,
          0.8510519739314999,
          0.8520082274631395,
          0.853554931542005,
          0.8544757266795066,
          0.8545964787443446,
          0.8614398145148833,
          0.8659062552044658,
          0.872989420885803,
          0.8767243400601247,
          0.8783874906393574,
          0.8783953044703092,
          0.8783953044703092,
          0.8855151705831851,
          0.8862922067410368,
          0.887553883602596,
          0.8877231322576914,
          0.8881203828458838,
          0.8881867442374095,
          0.8881867442374095,
          0.8882013848880457,
          0.8882041355375623,
          0.8882988978063684,
          0.8883914729374117,
          0.8885355528747577,
          0.8895829929982703,
          0.8904817056848625,
          0.8942316783542371,
          0.894878391505849,
          0.8951519805406154,
          0.8951519805406154,
          0.8953925443165635,
          0.8953925443165635,
          0.8957388180125382,
          0.8958595291109508,
          0.8958756790237712,
          0.8958756790237712,
          0.8958756790237712,
          0.8959699227525281,
          0.8970754492990094,
          0.8978764609090965,
          0.8978764609090965,
          0.8978764609090965,
          0.8978764609090965,
          0.8978764609090965,
          0.8978764609090965,
          0.898865696943115,
          0.898865696943115,
          0.8994345080606493,
          0.8994345080606493,
          0.8994345080606493,
          0.899553060905311,
          0.8995652033498762,
          0.8995652033498762,
          0.8995652033498762,
          0.8995652033498762,
          0.8996144219882235,
          0.8996144219882235,
          0.9052811834030895,
          0.9053616051902369,
          0.9058466788510358
         ],
         "y": [
          0,
          1,
          2,
          3,
          4,
          5,
          6,
          7,
          8,
          9,
          10,
          11,
          12,
          13,
          14,
          15,
          16,
          17,
          18,
          19,
          20,
          21,
          22,
          23,
          24,
          25,
          26,
          27,
          28,
          29,
          30,
          31,
          32,
          33,
          34,
          35,
          36,
          37,
          38,
          39,
          40,
          41,
          42,
          43,
          44,
          45,
          46,
          47,
          48,
          49,
          50,
          51,
          52,
          53,
          54,
          55,
          56,
          57,
          58,
          59,
          60,
          61,
          62,
          63,
          64,
          65,
          66,
          67,
          68,
          69,
          70,
          71,
          72,
          73,
          74,
          75,
          76,
          77,
          78,
          79,
          80,
          81,
          82,
          83
         ],
         "type": "bar"
        },
        {
         "marker": {
          "color": "rgb(252,141,98)"
         },
         "orientation": "h",
         "showlegend": false,
         "x": [
          0.6863753226683497,
          0.7050095716835912,
          0.7131530803490391,
          0.7144150082809166,
          0.7446701266503095,
          0.7486325922450572,
          0.749706033498319,
          0.7502091827858706,
          0.7531378145874221,
          0.7566799038561768,
          0.7578863327340483,
          0.7596402409320692,
          0.7637170198801405,
          0.7647252771381424,
          0.766119873666991,
          0.7686672353408281,
          0.7695412050182674,
          0.7725742391227512,
          0.7731737592185816,
          0.7734888944328457,
          0.7735810985251207,
          0.773623978684611,
          0.7751321628799948,
          0.7766786526410493,
          0.7767747864024257,
          0.7768574169493835,
          0.7773307190174809,
          0.7779608643325304,
          0.7785436416136788,
          0.7787070318160173,
          0.7790978101534631,
          0.7800277525161393,
          0.7801831346569874,
          0.7823560656257667,
          0.7830366134933661,
          0.7843165368400598,
          0.7843265981747019,
          0.7848234972003526,
          0.7849082606023742,
          0.7858685174574678,
          0.7863201547991744,
          0.787428771070535,
          0.7880628345504526,
          0.7886992555104001,
          0.7887551147518264,
          0.7920246874341283,
          0.7924869263186232,
          0.7926426980778136,
          0.7939020036059503,
          0.7940574091968312,
          0.7943261170954632,
          0.794990529265103,
          0.795363556681233,
          0.7956354585371039,
          0.7961295522919947,
          0.7966119762868961,
          0.7973720673141662,
          0.7982685471611574,
          0.7983436015309311,
          0.7989001341600499,
          0.7993158947862186,
          0.7993208503011683,
          0.7995104316703521,
          0.7996320294371582,
          0.7999171361953141,
          0.8002361129788162,
          0.8004542635061472,
          0.8007928493366598,
          0.8012362721625281,
          0.8017894352280367,
          0.8021315749597064,
          0.802575998707506,
          0.802950480488833,
          0.803631388934908,
          0.8057167880918628,
          0.8058200467224926,
          0.8059537541983924,
          0.8060251569461115,
          0.806047740528542,
          0.8060746864110815,
          0.8062586803808185,
          0.8086601029735387,
          0.8096786121227589,
          0.810570464661793,
          0.810573825531356,
          0.8124734296231322,
          0.8127820550997252,
          0.8130335807526364,
          0.8136523349629529,
          0.8139118785278903,
          0.8141770501299191,
          0.8146156440463642,
          0.8148492243784974,
          0.8148667406328888,
          0.8160212891029301,
          0.8161046734727009,
          0.816737793014052,
          0.8171101375722489,
          0.817439848072564,
          0.8180250280226943,
          0.81809213479027,
          0.8184443881783597,
          0.8187599921729434,
          0.818851191995964,
          0.8191262553213344,
          0.8191568373211169,
          0.8200033399421931,
          0.8200463980441262,
          0.8208746337118319,
          0.8209225310491455,
          0.8217568913123663,
          0.8228441624471484,
          0.8233888983743789,
          0.8237722954867275,
          0.8245873513275475,
          0.824981271238737,
          0.8250907701758434,
          0.8256792473576224,
          0.8256918346627877,
          0.8258339545657092,
          0.8263331346479027,
          0.8264216944431766,
          0.8264990061989689,
          0.8267533559682351,
          0.8272678925460969,
          0.8274131936155381,
          0.8281476561848787,
          0.828414266697954,
          0.8286689527325787,
          0.8295003630107443,
          0.8298873104033343,
          0.83012112791162,
          0.8303922819224223,
          0.8305289342278502,
          0.8305321448532739,
          0.8313254963472949,
          0.8314905862733329,
          0.83150548632467,
          0.8315275758294971,
          0.8315360306549638,
          0.8325631293381442,
          0.8326518959770495,
          0.8327317651471887,
          0.8329376565884834,
          0.833097125709877,
          0.8358849509710625,
          0.8364209063758684,
          0.8364535822511745,
          0.8366879521915304,
          0.8371569074848072,
          0.8374031297044681,
          0.8376420491389919,
          0.837731323471827,
          0.8381745500607133,
          0.8393134004625761,
          0.8394903776280963,
          0.8395474441579089,
          0.839614306492487,
          0.8397129146079304,
          0.8398375201542474,
          0.8400232867743506,
          0.8400619643346182,
          0.8402643979224443,
          0.8403539756228199,
          0.8408271990170129,
          0.8412454472441098,
          0.8413883237197545,
          0.8418455240969132,
          0.8422488770749017,
          0.8425908198761887,
          0.8432475067375386,
          0.8438110635101879,
          0.8440810197460091,
          0.8442134300865957,
          0.8449124428277748,
          0.8452777530253928,
          0.8453148212139481,
          0.8460304965172982,
          0.8462291679716053,
          0.8462334901318868,
          0.8469455330893928,
          0.8470095285625894,
          0.8472262081943487,
          0.84731429733564,
          0.8474089758211629,
          0.8476032162253295,
          0.8478109842341784,
          0.8478169545525224,
          0.8479799123956996,
          0.8482927891805995,
          0.8483145308581873,
          0.848523733331596,
          0.8486169230825777,
          0.8488397315082652,
          0.8489193800224416,
          0.849167576885111,
          0.8493310172372832,
          0.8497505210260773,
          0.8500163619049915,
          0.8502483540154638,
          0.8507594806842788,
          0.8510291267115467,
          0.8511128650115837,
          0.8513614069199573,
          0.8514130962937787,
          0.8514281454858464,
          0.8514913679928152,
          0.851540084828729,
          0.8516158892904161,
          0.8518042622654208,
          0.8518167112044385,
          0.8519903235716644,
          0.85199526883741,
          0.8521304706080698,
          0.8527445887420075,
          0.852838824235555,
          0.8530944179825427,
          0.8533005783192271,
          0.8538772966675325,
          0.85397862280718,
          0.8542617104320271,
          0.854418863986949,
          0.8544467149405007,
          0.8545516723674136,
          0.8549104389786946,
          0.8549811328268908,
          0.8552064907555426,
          0.8555242626904718,
          0.8556346196166306,
          0.8563734745712719,
          0.8563772964524596,
          0.8565020229243566,
          0.8567090647152704,
          0.8570782676465876,
          0.8571017224983296,
          0.8572509548966477,
          0.8573487195362008,
          0.8574234603955787,
          0.8576433614772668,
          0.8578455822179555,
          0.8579089038879664,
          0.8579133590740995,
          0.8582905934122105,
          0.8585383432497505,
          0.8586548748574475,
          0.8589737417917991,
          0.8594298254615936,
          0.8596662738507073,
          0.859866393172602,
          0.8599694480186989,
          0.860236878567066,
          0.8603292714953035,
          0.8605690243827789,
          0.8607206026325364,
          0.8607953858103139,
          0.8608900285440778,
          0.8609544631916901,
          0.8611518649278405,
          0.8612004632567982,
          0.861249383236714,
          0.861290820278551,
          0.8614134606289269,
          0.8616311048425674,
          0.8620784699103154,
          0.8621347911689681,
          0.8628927654453202,
          0.8630300546168839,
          0.8631387948836732,
          0.8632123562307937,
          0.8632354036695282,
          0.8632893907169358,
          0.8634168884602631,
          0.8636766222743366,
          0.8638246578518013,
          0.8638298327271446,
          0.864168065208102,
          0.8642370767852892,
          0.8642481616601155,
          0.8643699221146758,
          0.8644887563135545,
          0.8645651198627554,
          0.8645904156263343,
          0.864761598439667,
          0.8648551627720877,
          0.8649199350190997,
          0.8649673417284183,
          0.8650087549838018,
          0.8650106921749018,
          0.8652047508021786,
          0.8652657836968489,
          0.8654785794897297,
          0.8654929619350898,
          0.86557738061651,
          0.8656776413936063,
          0.8657065400786128,
          0.8658558042335658,
          0.8659207873119017,
          0.8662867629180065,
          0.8663056595714168,
          0.8663370575434918,
          0.8666516744299138,
          0.8666792810944332,
          0.8667461077363809,
          0.8669942804216816,
          0.8671814226513755,
          0.8674081989456266,
          0.8674820114192524,
          0.8675390468230552,
          0.8682486953468863,
          0.8685799626122184,
          0.8685943334965137,
          0.8686341572701427,
          0.8687466311205275,
          0.8688519737062486,
          0.8690562751439783,
          0.8696960385113296,
          0.8698208561795081,
          0.8698711626404506,
          0.8699547728421175,
          0.8701165365723016,
          0.8702872196811825,
          0.8703216565673952,
          0.8703496471379826,
          0.8704060913426845,
          0.870406916815789,
          0.8704652888728213,
          0.8706642324583903,
          0.8706709985795966,
          0.870671786010167,
          0.8707731846567524,
          0.8707992487478627,
          0.8710213098565678,
          0.8710725765677766,
          0.8710783009888575,
          0.8711771372000473,
          0.8711939719776832,
          0.871208731980296,
          0.8714228747474898,
          0.871427044450362,
          0.8718891484325341,
          0.8719548759911853,
          0.872017608829981,
          0.8721069811317557,
          0.8721529789145617,
          0.8721667313713318,
          0.8721749507367784,
          0.8722292112395446,
          0.8722638625634231,
          0.8722674527572394,
          0.8722806156884179,
          0.8724095723715993,
          0.8724160345888532,
          0.8726056112299845,
          0.8726530565940417,
          0.8728604458787863,
          0.8729214628312046,
          0.8730920475023802,
          0.8731383409763368,
          0.8732623958998608,
          0.8733844436407978,
          0.873410125673623,
          0.8735281222978559,
          0.8736172650028569,
          0.873758515240567,
          0.8738292536716947,
          0.8739593247292955,
          0.8740301942232589,
          0.874173846348402,
          0.8741961922862459,
          0.874296010188006,
          0.8745085245126507,
          0.8746686040003605,
          0.8747625215868409,
          0.8747905124292165,
          0.8748579649779231,
          0.8749062475055903,
          0.8750294984019075,
          0.8752247627806747,
          0.8755403475137855,
          0.8755802035428621,
          0.8756080252707403,
          0.8757039429282931,
          0.8757201497444744,
          0.8757688323181114,
          0.8758459364919986,
          0.8758648241127904,
          0.8758763360396644,
          0.8758836400783901,
          0.8758843968313478,
          0.8759164555886575,
          0.876121532861346,
          0.8761802087842587,
          0.8763151771176835,
          0.876352280059672,
          0.8764078181897836,
          0.8767364566106759,
          0.8772922500797768,
          0.8775276962395094,
          0.8775485737978871,
          0.8782494474387412,
          0.8782763315189702,
          0.8782997174216672,
          0.8784301045492021,
          0.8786635146346023,
          0.8787041279941442,
          0.8787241373694918,
          0.8789847279382818,
          0.8791406645755745,
          0.8791586417633708,
          0.8792953419698881,
          0.8793901080237699,
          0.8794426525879284,
          0.8794598278492459,
          0.879486955981885,
          0.8798997221151865,
          0.8799259308750531,
          0.8799375928749539,
          0.8799571741697202,
          0.879969226393128,
          0.8801583235192729,
          0.8801797449653352,
          0.8802600189102567,
          0.880295030392721,
          0.8803070149080545,
          0.8803909287400867,
          0.8804656225243458,
          0.8806250644291829,
          0.8807602702035131,
          0.8808796505140416,
          0.8808859288910594,
          0.881129135525673,
          0.8812565553118362,
          0.8814309547418736,
          0.8816274139773488,
          0.8816946536524933,
          0.8817981924114793,
          0.881861198113048,
          0.8820295268289724,
          0.882224386705689,
          0.8822467460669549,
          0.882285235606595,
          0.8824149138478787,
          0.8824190178222467,
          0.8827810928251238,
          0.882818651211495,
          0.8829760074454879,
          0.8830079025015758,
          0.8831196811833438,
          0.8832056438778705,
          0.8833376344148182,
          0.8834220037849531,
          0.8835264868358168,
          0.8836313189306334,
          0.8836717061663281,
          0.8837193050831802,
          0.8837314801629931,
          0.8837726185002891,
          0.8840197401850288,
          0.8840904792157975,
          0.8844896280059298,
          0.8846685158976817,
          0.8851827969318605,
          0.8852047319070753,
          0.8853345299087857,
          0.8854426443975293,
          0.8866580745797777,
          0.8869813793903083,
          0.887002749740725,
          0.8870407410107357,
          0.8871118746927156,
          0.8883443768544819,
          0.888613527847748,
          0.8901163469187112
         ],
         "y": [
          84,
          85,
          86,
          87,
          88,
          89,
          90,
          91,
          92,
          93,
          94,
          95,
          96,
          97,
          98,
          99,
          100,
          101,
          102,
          103,
          104,
          105,
          106,
          107,
          108,
          109,
          110,
          111,
          112,
          113,
          114,
          115,
          116,
          117,
          118,
          119,
          120,
          121,
          122,
          123,
          124,
          125,
          126,
          127,
          128,
          129,
          130,
          131,
          132,
          133,
          134,
          135,
          136,
          137,
          138,
          139,
          140,
          141,
          142,
          143,
          144,
          145,
          146,
          147,
          148,
          149,
          150,
          151,
          152,
          153,
          154,
          155,
          156,
          157,
          158,
          159,
          160,
          161,
          162,
          163,
          164,
          165,
          166,
          167,
          168,
          169,
          170,
          171,
          172,
          173,
          174,
          175,
          176,
          177,
          178,
          179,
          180,
          181,
          182,
          183,
          184,
          185,
          186,
          187,
          188,
          189,
          190,
          191,
          192,
          193,
          194,
          195,
          196,
          197,
          198,
          199,
          200,
          201,
          202,
          203,
          204,
          205,
          206,
          207,
          208,
          209,
          210,
          211,
          212,
          213,
          214,
          215,
          216,
          217,
          218,
          219,
          220,
          221,
          222,
          223,
          224,
          225,
          226,
          227,
          228,
          229,
          230,
          231,
          232,
          233,
          234,
          235,
          236,
          237,
          238,
          239,
          240,
          241,
          242,
          243,
          244,
          245,
          246,
          247,
          248,
          249,
          250,
          251,
          252,
          253,
          254,
          255,
          256,
          257,
          258,
          259,
          260,
          261,
          262,
          263,
          264,
          265,
          266,
          267,
          268,
          269,
          270,
          271,
          272,
          273,
          274,
          275,
          276,
          277,
          278,
          279,
          280,
          281,
          282,
          283,
          284,
          285,
          286,
          287,
          288,
          289,
          290,
          291,
          292,
          293,
          294,
          295,
          296,
          297,
          298,
          299,
          300,
          301,
          302,
          303,
          304,
          305,
          306,
          307,
          308,
          309,
          310,
          311,
          312,
          313,
          314,
          315,
          316,
          317,
          318,
          319,
          320,
          321,
          322,
          323,
          324,
          325,
          326,
          327,
          328,
          329,
          330,
          331,
          332,
          333,
          334,
          335,
          336,
          337,
          338,
          339,
          340,
          341,
          342,
          343,
          344,
          345,
          346,
          347,
          348,
          349,
          350,
          351,
          352,
          353,
          354,
          355,
          356,
          357,
          358,
          359,
          360,
          361,
          362,
          363,
          364,
          365,
          366,
          367,
          368,
          369,
          370,
          371,
          372,
          373,
          374,
          375,
          376,
          377,
          378,
          379,
          380,
          381,
          382,
          383,
          384,
          385,
          386,
          387,
          388,
          389,
          390,
          391,
          392,
          393,
          394,
          395,
          396,
          397,
          398,
          399,
          400,
          401,
          402,
          403,
          404,
          405,
          406,
          407,
          408,
          409,
          410,
          411,
          412,
          413,
          414,
          415,
          416,
          417,
          418,
          419,
          420,
          421,
          422,
          423,
          424,
          425,
          426,
          427,
          428,
          429,
          430,
          431,
          432,
          433,
          434,
          435,
          436,
          437,
          438,
          439,
          440,
          441,
          442,
          443,
          444,
          445,
          446,
          447,
          448,
          449,
          450,
          451,
          452,
          453,
          454,
          455,
          456,
          457,
          458,
          459,
          460,
          461,
          462,
          463,
          464,
          465,
          466,
          467,
          468,
          469,
          470,
          471,
          472,
          473,
          474,
          475,
          476,
          477,
          478,
          479,
          480,
          481,
          482,
          483,
          484,
          485,
          486,
          487,
          488,
          489,
          490,
          491,
          492,
          493,
          494,
          495,
          496,
          497,
          498,
          499,
          500,
          501,
          502,
          503,
          504,
          505,
          506,
          507,
          508,
          509,
          510,
          511,
          512,
          513,
          514,
          515,
          516,
          517,
          518,
          519,
          520,
          521,
          522,
          523,
          524,
          525,
          526,
          527,
          528,
          529,
          530,
          531,
          532,
          533,
          534,
          535,
          536,
          537,
          538,
          539,
          540,
          541,
          542,
          543,
          544,
          545,
          546,
          547,
          548,
          549,
          550,
          551,
          552,
          553,
          554,
          555,
          556
         ],
         "type": "bar"
        },
        {
         "marker": {
          "color": "rgb(141,160,203)"
         },
         "orientation": "h",
         "showlegend": false,
         "x": [
          0.7122928293342549,
          0.7131683356119117,
          0.7147682783621332,
          0.7157496006234897,
          0.726591796318793,
          0.7356424634587827,
          0.7399737192544812,
          0.7450265643261986,
          0.7454931831240514,
          0.7475172422366373,
          0.7531729513989643,
          0.7536888916447488,
          0.7567601782157566,
          0.7580841598628435,
          0.7604492413058905,
          0.7656524497058037,
          0.7660072776531498,
          0.7754595200516926,
          0.7761839153358023,
          0.7767813922890499,
          0.7773335671770445,
          0.7788376380030937,
          0.7819102213183824,
          0.7824596794069768,
          0.7825840169030782,
          0.784428091663966,
          0.7850483223274688,
          0.7871360728694813,
          0.7890703971032765,
          0.7892235602188286,
          0.7907728147489156,
          0.7909209078059464,
          0.7918977202971441,
          0.7991027932340228,
          0.799654226820213,
          0.800635737395401,
          0.8020871620168442,
          0.8024315518381876,
          0.8043082149465661,
          0.8048021023955689,
          0.8051320198756273,
          0.8051411538186887,
          0.8055228059308335,
          0.8059505157513348,
          0.8060664689878517,
          0.8062874211088159,
          0.8063982622427099,
          0.8064797544750655,
          0.8066988049786428,
          0.8067762766521644,
          0.8074432114161357,
          0.8078379862678499,
          0.8082213886812323,
          0.8097606453918073,
          0.8100704547756167,
          0.8104908253069697,
          0.8106207080979482,
          0.811321693681643,
          0.8127929894614887,
          0.812825595839919,
          0.8141432625560219,
          0.8142286191056766,
          0.8171117673648476,
          0.8174447192430772,
          0.8175693664912168,
          0.8186509521756349,
          0.8240054825399689,
          0.8242597840239025,
          0.8245881518858299,
          0.8247516542878851,
          0.8248066116708769,
          0.8252649063631549,
          0.826272064729656,
          0.8263773345435665,
          0.8266461388126469,
          0.8267159033511388,
          0.8279230716399115,
          0.8279644251331522,
          0.8284803327741764,
          0.8286185515029056,
          0.8301639104294467,
          0.8302364087030835,
          0.8313386509428152,
          0.8314580172635053,
          0.8318837008443241,
          0.833489303677694,
          0.8336395924138644,
          0.8354446545703806,
          0.8371954583731286,
          0.8376310798086984,
          0.8389672873401464,
          0.8395131614886504,
          0.8396623595033641,
          0.8408731888013165,
          0.8412025208087975,
          0.8425125858111311,
          0.8427885501031419,
          0.8433516267571749,
          0.8435306313172097,
          0.844061042782982,
          0.844266467515484,
          0.845000865434143,
          0.8452093229712062,
          0.8453894393418301,
          0.8461709198429765,
          0.84640126333558,
          0.8465069737119035,
          0.8467074784059827,
          0.8468572349160134,
          0.847927708825203,
          0.8483781449538199,
          0.8484833810412606,
          0.8494777233637151,
          0.8503874672786977,
          0.8509239830415508,
          0.8512027376282131,
          0.8513395226972523,
          0.851737099684743,
          0.8519493796266409,
          0.8527223885750908,
          0.8531683942672569,
          0.8532477969381543,
          0.8539990185966515,
          0.8542237686690299,
          0.8542395631571114,
          0.8543425763246518,
          0.8543708556724544,
          0.8544529291766991,
          0.854989521560706,
          0.8550663695103244,
          0.8552374243003036,
          0.8556008776247671,
          0.8559059571099888,
          0.8561870329731817,
          0.8564863117629111,
          0.8565476511006755,
          0.8566533709634776,
          0.8572340458094796,
          0.857406206280145,
          0.8575185480377386,
          0.8577918477445376,
          0.8578320226452423,
          0.8581224585131649,
          0.8581624573605361,
          0.8583758186511143,
          0.8585037021126287,
          0.858795154839606,
          0.858890752151539,
          0.8590302132325826,
          0.8591575259746222,
          0.8591963195807378,
          0.8593446419127063,
          0.8593596043530867,
          0.8596212791776132,
          0.8596624360714257,
          0.8597978415272971,
          0.8598466910901653,
          0.8598960024957796,
          0.8601759862187863,
          0.8605640729349264,
          0.860893907856591,
          0.861155193520366,
          0.8623843956628979,
          0.8626365766520654,
          0.862919176273345,
          0.8632367466318033,
          0.863262676401893,
          0.863277355601278,
          0.8635664439478545,
          0.8636517321198539,
          0.8640534748043404,
          0.8648197976232711,
          0.8653190287325483,
          0.8662083658933327,
          0.8663373809654228,
          0.8665922944422745,
          0.8671070434263317,
          0.8673896458443029,
          0.8675494058163891,
          0.8679936609958899,
          0.8680358805880316,
          0.8681887900467898,
          0.8683375732984516,
          0.8688018437160817,
          0.8717256688125642,
          0.8748312563973288,
          0.8753902171208129,
          0.8755977544436019
         ],
         "y": [
          557,
          558,
          559,
          560,
          561,
          562,
          563,
          564,
          565,
          566,
          567,
          568,
          569,
          570,
          571,
          572,
          573,
          574,
          575,
          576,
          577,
          578,
          579,
          580,
          581,
          582,
          583,
          584,
          585,
          586,
          587,
          588,
          589,
          590,
          591,
          592,
          593,
          594,
          595,
          596,
          597,
          598,
          599,
          600,
          601,
          602,
          603,
          604,
          605,
          606,
          607,
          608,
          609,
          610,
          611,
          612,
          613,
          614,
          615,
          616,
          617,
          618,
          619,
          620,
          621,
          622,
          623,
          624,
          625,
          626,
          627,
          628,
          629,
          630,
          631,
          632,
          633,
          634,
          635,
          636,
          637,
          638,
          639,
          640,
          641,
          642,
          643,
          644,
          645,
          646,
          647,
          648,
          649,
          650,
          651,
          652,
          653,
          654,
          655,
          656,
          657,
          658,
          659,
          660,
          661,
          662,
          663,
          664,
          665,
          666,
          667,
          668,
          669,
          670,
          671,
          672,
          673,
          674,
          675,
          676,
          677,
          678,
          679,
          680,
          681,
          682,
          683,
          684,
          685,
          686,
          687,
          688,
          689,
          690,
          691,
          692,
          693,
          694,
          695,
          696,
          697,
          698,
          699,
          700,
          701,
          702,
          703,
          704,
          705,
          706,
          707,
          708,
          709,
          710,
          711,
          712,
          713,
          714,
          715,
          716,
          717,
          718,
          719,
          720,
          721,
          722,
          723,
          724,
          725,
          726,
          727,
          728,
          729,
          730,
          731,
          732,
          733,
          734,
          735,
          736,
          737,
          738,
          739,
          740,
          741,
          742,
          743,
          744
         ],
         "type": "bar"
        },
        {
         "marker": {
          "color": "rgb(231,138,195)"
         },
         "orientation": "h",
         "showlegend": false,
         "x": [
          0.8674605610932092,
          0.8861842911900996,
          0.8886045120551895,
          0.9103997699908127,
          0.9144028955557977,
          0.9149484521113264,
          0.9205285633098799,
          0.9237717389366289,
          0.9237717389366289,
          0.9250897975936261,
          0.9255679561761393,
          0.9269465656978195
         ],
         "y": [
          745,
          746,
          747,
          748,
          749,
          750,
          751,
          752,
          753,
          754,
          755,
          756
         ],
         "type": "bar"
        },
        {
         "marker": {
          "color": "rgb(166,216,84)"
         },
         "orientation": "h",
         "showlegend": false,
         "x": [
          0.8431619167526937,
          0.8578597599297931,
          0.8587145584445044,
          0.8699695701224096,
          0.8756193797558427,
          0.8855138702960385,
          0.8887129887814487
         ],
         "y": [
          757,
          758,
          759,
          760,
          761,
          762,
          763
         ],
         "type": "bar"
        },
        {
         "marker": {
          "color": "rgb(255,217,47)"
         },
         "orientation": "h",
         "showlegend": false,
         "x": [
          1.0
         ],
         "y": [
          764
         ],
         "type": "bar"
        },
        {
         "marker": {
          "color": "rgb(229,196,148)"
         },
         "orientation": "h",
         "showlegend": false,
         "x": [
          0.7761766946706312,
          0.791291065197229,
          0.8126749037233404,
          0.8130731140713546,
          0.816233109033235,
          0.8218934016176885,
          0.8270640160192794,
          0.8284409383458272,
          0.829877516341749,
          0.8396238074690797,
          0.8464661529729278,
          0.8561003509732668,
          0.8619527173353945,
          0.8628885206903457,
          0.86658087453319,
          0.867638193480263,
          0.8684213345159635,
          0.8702237749017243,
          0.8718505824476709,
          0.8747694241573993,
          0.875186471818478,
          0.8767319120261161,
          0.8785798620912715,
          0.8793798672859316,
          0.8800343297355306,
          0.8845913399542331
         ],
         "y": [
          765,
          766,
          767,
          768,
          769,
          770,
          771,
          772,
          773,
          774,
          775,
          776,
          777,
          778,
          779,
          780,
          781,
          782,
          783,
          784,
          785,
          786,
          787,
          788,
          789,
          790
         ],
         "type": "bar"
        },
        {
         "marker": {
          "color": "rgb(179,179,179)"
         },
         "orientation": "h",
         "showlegend": false,
         "x": [
          0.7452439516355615,
          0.780755054909118,
          0.792984765369948,
          0.7948443673198473,
          0.7951029970074729,
          0.7955482223590757,
          0.8014742020451211,
          0.8015591681386343,
          0.8044903961577691,
          0.8065338826043968,
          0.8092029342017547,
          0.8094290667306943,
          0.8111346406948012,
          0.8137980278247734,
          0.8174291497969143,
          0.8190044660633733,
          0.8202490912694251,
          0.8253733256353064,
          0.826306092308172,
          0.8301981630052233,
          0.8321933388412468,
          0.8336078145362027,
          0.8367501039997388,
          0.843234922052616,
          0.8457679271637663,
          0.8465352412780747,
          0.8502045055167786,
          0.8553456825390252,
          0.8563640565461406,
          0.8567061190431424,
          0.8577627649343188,
          0.8578911705482484,
          0.8589238656519318,
          0.8604748308344573,
          0.8622597592760478,
          0.8631372271199661,
          0.864191892270744,
          0.8653739174808344,
          0.8661360799011476,
          0.8688331877740658,
          0.8699139029422486,
          0.8700278675634924,
          0.8702602040489109,
          0.8703541659623114,
          0.8748240294580787,
          0.8758928897059631
         ],
         "y": [
          791,
          792,
          793,
          794,
          795,
          796,
          797,
          798,
          799,
          800,
          801,
          802,
          803,
          804,
          805,
          806,
          807,
          808,
          809,
          810,
          811,
          812,
          813,
          814,
          815,
          816,
          817,
          818,
          819,
          820,
          821,
          822,
          823,
          824,
          825,
          826,
          827,
          828,
          829,
          830,
          831,
          832,
          833,
          834,
          835,
          836
         ],
         "type": "bar"
        },
        {
         "marker": {
          "color": "rgb(102,194,165)"
         },
         "orientation": "h",
         "showlegend": false,
         "x": [
          0.769231101410198,
          0.7702479867622397,
          0.7732194150519508,
          0.7752059769073868,
          0.7778693098815285,
          0.7843032075973219,
          0.789691196943757,
          0.7972159051313856,
          0.7988034794110179,
          0.7990699783802201,
          0.8004294018060791,
          0.8013276256366575,
          0.8017685216814459,
          0.8031940322989204,
          0.8075303392559863,
          0.8080660107071647,
          0.8091409618670821,
          0.8124447031715426,
          0.8166081074501043,
          0.8182292544961773,
          0.8196608904695043,
          0.8225917535750509,
          0.822635209622821,
          0.8230123535295373,
          0.8244992933712533,
          0.8254452565897786,
          0.8303045048041122,
          0.8311502219844042,
          0.8319865211596955,
          0.8352877083249344,
          0.8380028564290221,
          0.8390952045774135,
          0.8403397818690436,
          0.8446160422207976,
          0.844971590235139,
          0.8485667462702936,
          0.8488469051839864,
          0.8504947266405105,
          0.8516993343522908,
          0.8518208903170569,
          0.8520287140083059,
          0.8537746206354653,
          0.8538814548375759,
          0.8556492328338818,
          0.8559397140459187,
          0.8582583396766139,
          0.8610023765459998,
          0.8612698054938883,
          0.8619398301828473,
          0.8633182389009533,
          0.8633855714632986,
          0.8645046832716495,
          0.8652514437965352,
          0.8659072243554234,
          0.8659789723748741,
          0.8662206126673617,
          0.8670949293600317,
          0.8672069624396975,
          0.8677953411924562,
          0.8688530180688604,
          0.8699330943982085,
          0.8701633692253115,
          0.8705497443333657,
          0.8706991110090575,
          0.8707805691114088,
          0.8711162672030336,
          0.8722363047016525,
          0.8726396324302537,
          0.8728025593720553,
          0.873342894540911,
          0.874129819230386,
          0.8742934352220053,
          0.8751654721780883,
          0.8757516447867192,
          0.8760792173377658,
          0.8773534349837169,
          0.877807062275657,
          0.8780473831757908,
          0.8781660694739734,
          0.8785686964742031,
          0.8787918161510366,
          0.8792987840086609,
          0.8808360958244125,
          0.8811375214992984,
          0.8814187286359256,
          0.881535424483954,
          0.8818632135579485,
          0.8820804708603462,
          0.8838531561599765,
          0.883995920695014,
          0.8844726196376606,
          0.8849064284734373,
          0.8849238612178648,
          0.8849849982581812,
          0.8850876269857595,
          0.8855263090236728,
          0.8863888946392056,
          0.8864505256685223,
          0.8868992972680234,
          0.888061946166237,
          0.8888583634441197,
          0.8896760989748129,
          0.8896778645821736,
          0.8900666078145419,
          0.890375832468082,
          0.891000179610071,
          0.8927708656270644
         ],
         "y": [
          837,
          838,
          839,
          840,
          841,
          842,
          843,
          844,
          845,
          846,
          847,
          848,
          849,
          850,
          851,
          852,
          853,
          854,
          855,
          856,
          857,
          858,
          859,
          860,
          861,
          862,
          863,
          864,
          865,
          866,
          867,
          868,
          869,
          870,
          871,
          872,
          873,
          874,
          875,
          876,
          877,
          878,
          879,
          880,
          881,
          882,
          883,
          884,
          885,
          886,
          887,
          888,
          889,
          890,
          891,
          892,
          893,
          894,
          895,
          896,
          897,
          898,
          899,
          900,
          901,
          902,
          903,
          904,
          905,
          906,
          907,
          908,
          909,
          910,
          911,
          912,
          913,
          914,
          915,
          916,
          917,
          918,
          919,
          920,
          921,
          922,
          923,
          924,
          925,
          926,
          927,
          928,
          929,
          930,
          931,
          932,
          933,
          934,
          935,
          936,
          937,
          938,
          939,
          940,
          941,
          942,
          943
         ],
         "type": "bar"
        },
        {
         "marker": {
          "color": "rgb(252,141,98)"
         },
         "orientation": "h",
         "showlegend": false,
         "x": [
          1.0
         ],
         "y": [
          944
         ],
         "type": "bar"
        },
        {
         "marker": {
          "color": "rgb(141,160,203)"
         },
         "orientation": "h",
         "showlegend": false,
         "x": [
          1.0
         ],
         "y": [
          945
         ],
         "type": "bar"
        },
        {
         "marker": {
          "color": "rgb(231,138,195)"
         },
         "orientation": "h",
         "showlegend": false,
         "x": [
          0.7799416484172469,
          0.8887813132705625,
          0.8894779617011206,
          0.892492920369586,
          0.9133143460882548,
          0.9158881945081759
         ],
         "y": [
          946,
          947,
          948,
          949,
          950,
          951
         ],
         "type": "bar"
        },
        {
         "marker": {
          "color": "rgb(166,216,84)"
         },
         "orientation": "h",
         "showlegend": false,
         "x": [
          0.8455670361138334,
          0.8467005061203705,
          0.8489039498071789,
          0.8493321440888127,
          0.8548108877305421,
          0.8548313965724958,
          0.8548426380622188,
          0.859882682455209,
          0.8602221329596547,
          0.8614268023963226,
          0.8618895733139945,
          0.8619311517840132,
          0.8621689824004196,
          0.863112053129549,
          0.8660911812272352,
          0.8690588542597452,
          0.8692573403608357,
          0.8721941508814752,
          0.8722987954641283,
          0.8723922203269293,
          0.8727132227903408,
          0.8747315862274251,
          0.8761031727764061,
          0.8770239081855604,
          0.8770494931982851,
          0.8807724014674607,
          0.882656105930186,
          0.8835386217344116,
          0.8855246509484302,
          0.8871677030594687,
          0.8887627889520534,
          0.8899030560982011,
          0.8903441623156803,
          0.8904331028711193,
          0.8926189883770995,
          0.894140741216256,
          0.8988328099924174
         ],
         "y": [
          952,
          953,
          954,
          955,
          956,
          957,
          958,
          959,
          960,
          961,
          962,
          963,
          964,
          965,
          966,
          967,
          968,
          969,
          970,
          971,
          972,
          973,
          974,
          975,
          976,
          977,
          978,
          979,
          980,
          981,
          982,
          983,
          984,
          985,
          986,
          987,
          988
         ],
         "type": "bar"
        },
        {
         "marker": {
          "color": "rgb(255,217,47)"
         },
         "orientation": "h",
         "showlegend": false,
         "x": [
          0.862418387853537,
          0.888408472000641,
          0.8924911374919521,
          0.8937987908099241,
          0.8941701346255636
         ],
         "y": [
          989,
          990,
          991,
          992,
          993
         ],
         "type": "bar"
        },
        {
         "marker": {
          "color": "rgb(229,196,148)"
         },
         "orientation": "h",
         "showlegend": false,
         "x": [
          0.8276767611034654,
          0.8716633498037003,
          0.8799728461577595
         ],
         "y": [
          994,
          995,
          996
         ],
         "type": "bar"
        },
        {
         "marker": {
          "color": "rgb(252,141,98)"
         },
         "orientation": "h",
         "showlegend": false,
         "x": [
          0.9586393061108163,
          0.9588950300951432,
          0.966486763349231
         ],
         "y": [
          997,
          998,
          999
         ],
         "type": "bar"
        }
       ],
       "layout": {
        "template": {
         "data": {
          "histogram2dcontour": [
           {
            "type": "histogram2dcontour",
            "colorbar": {
             "outlinewidth": 0,
             "ticks": ""
            },
            "colorscale": [
             [
              0.0,
              "#0d0887"
             ],
             [
              0.1111111111111111,
              "#46039f"
             ],
             [
              0.2222222222222222,
              "#7201a8"
             ],
             [
              0.3333333333333333,
              "#9c179e"
             ],
             [
              0.4444444444444444,
              "#bd3786"
             ],
             [
              0.5555555555555556,
              "#d8576b"
             ],
             [
              0.6666666666666666,
              "#ed7953"
             ],
             [
              0.7777777777777778,
              "#fb9f3a"
             ],
             [
              0.8888888888888888,
              "#fdca26"
             ],
             [
              1.0,
              "#f0f921"
             ]
            ]
           }
          ],
          "choropleth": [
           {
            "type": "choropleth",
            "colorbar": {
             "outlinewidth": 0,
             "ticks": ""
            }
           }
          ],
          "histogram2d": [
           {
            "type": "histogram2d",
            "colorbar": {
             "outlinewidth": 0,
             "ticks": ""
            },
            "colorscale": [
             [
              0.0,
              "#0d0887"
             ],
             [
              0.1111111111111111,
              "#46039f"
             ],
             [
              0.2222222222222222,
              "#7201a8"
             ],
             [
              0.3333333333333333,
              "#9c179e"
             ],
             [
              0.4444444444444444,
              "#bd3786"
             ],
             [
              0.5555555555555556,
              "#d8576b"
             ],
             [
              0.6666666666666666,
              "#ed7953"
             ],
             [
              0.7777777777777778,
              "#fb9f3a"
             ],
             [
              0.8888888888888888,
              "#fdca26"
             ],
             [
              1.0,
              "#f0f921"
             ]
            ]
           }
          ],
          "heatmap": [
           {
            "type": "heatmap",
            "colorbar": {
             "outlinewidth": 0,
             "ticks": ""
            },
            "colorscale": [
             [
              0.0,
              "#0d0887"
             ],
             [
              0.1111111111111111,
              "#46039f"
             ],
             [
              0.2222222222222222,
              "#7201a8"
             ],
             [
              0.3333333333333333,
              "#9c179e"
             ],
             [
              0.4444444444444444,
              "#bd3786"
             ],
             [
              0.5555555555555556,
              "#d8576b"
             ],
             [
              0.6666666666666666,
              "#ed7953"
             ],
             [
              0.7777777777777778,
              "#fb9f3a"
             ],
             [
              0.8888888888888888,
              "#fdca26"
             ],
             [
              1.0,
              "#f0f921"
             ]
            ]
           }
          ],
          "contourcarpet": [
           {
            "type": "contourcarpet",
            "colorbar": {
             "outlinewidth": 0,
             "ticks": ""
            }
           }
          ],
          "contour": [
           {
            "type": "contour",
            "colorbar": {
             "outlinewidth": 0,
             "ticks": ""
            },
            "colorscale": [
             [
              0.0,
              "#0d0887"
             ],
             [
              0.1111111111111111,
              "#46039f"
             ],
             [
              0.2222222222222222,
              "#7201a8"
             ],
             [
              0.3333333333333333,
              "#9c179e"
             ],
             [
              0.4444444444444444,
              "#bd3786"
             ],
             [
              0.5555555555555556,
              "#d8576b"
             ],
             [
              0.6666666666666666,
              "#ed7953"
             ],
             [
              0.7777777777777778,
              "#fb9f3a"
             ],
             [
              0.8888888888888888,
              "#fdca26"
             ],
             [
              1.0,
              "#f0f921"
             ]
            ]
           }
          ],
          "surface": [
           {
            "type": "surface",
            "colorbar": {
             "outlinewidth": 0,
             "ticks": ""
            },
            "colorscale": [
             [
              0.0,
              "#0d0887"
             ],
             [
              0.1111111111111111,
              "#46039f"
             ],
             [
              0.2222222222222222,
              "#7201a8"
             ],
             [
              0.3333333333333333,
              "#9c179e"
             ],
             [
              0.4444444444444444,
              "#bd3786"
             ],
             [
              0.5555555555555556,
              "#d8576b"
             ],
             [
              0.6666666666666666,
              "#ed7953"
             ],
             [
              0.7777777777777778,
              "#fb9f3a"
             ],
             [
              0.8888888888888888,
              "#fdca26"
             ],
             [
              1.0,
              "#f0f921"
             ]
            ]
           }
          ],
          "mesh3d": [
           {
            "type": "mesh3d",
            "colorbar": {
             "outlinewidth": 0,
             "ticks": ""
            }
           }
          ],
          "scatter": [
           {
            "marker": {
             "line": {
              "color": "#283442"
             }
            },
            "type": "scatter"
           }
          ],
          "parcoords": [
           {
            "type": "parcoords",
            "line": {
             "colorbar": {
              "outlinewidth": 0,
              "ticks": ""
             }
            }
           }
          ],
          "scatterpolargl": [
           {
            "type": "scatterpolargl",
            "marker": {
             "colorbar": {
              "outlinewidth": 0,
              "ticks": ""
             }
            }
           }
          ],
          "bar": [
           {
            "error_x": {
             "color": "#f2f5fa"
            },
            "error_y": {
             "color": "#f2f5fa"
            },
            "marker": {
             "line": {
              "color": "rgb(17,17,17)",
              "width": 0.5
             },
             "pattern": {
              "fillmode": "overlay",
              "size": 10,
              "solidity": 0.2
             }
            },
            "type": "bar"
           }
          ],
          "scattergeo": [
           {
            "type": "scattergeo",
            "marker": {
             "colorbar": {
              "outlinewidth": 0,
              "ticks": ""
             }
            }
           }
          ],
          "scatterpolar": [
           {
            "type": "scatterpolar",
            "marker": {
             "colorbar": {
              "outlinewidth": 0,
              "ticks": ""
             }
            }
           }
          ],
          "histogram": [
           {
            "marker": {
             "pattern": {
              "fillmode": "overlay",
              "size": 10,
              "solidity": 0.2
             }
            },
            "type": "histogram"
           }
          ],
          "scattergl": [
           {
            "marker": {
             "line": {
              "color": "#283442"
             }
            },
            "type": "scattergl"
           }
          ],
          "scatter3d": [
           {
            "type": "scatter3d",
            "line": {
             "colorbar": {
              "outlinewidth": 0,
              "ticks": ""
             }
            },
            "marker": {
             "colorbar": {
              "outlinewidth": 0,
              "ticks": ""
             }
            }
           }
          ],
          "scattermap": [
           {
            "type": "scattermap",
            "marker": {
             "colorbar": {
              "outlinewidth": 0,
              "ticks": ""
             }
            }
           }
          ],
          "scattermapbox": [
           {
            "type": "scattermapbox",
            "marker": {
             "colorbar": {
              "outlinewidth": 0,
              "ticks": ""
             }
            }
           }
          ],
          "scatterternary": [
           {
            "type": "scatterternary",
            "marker": {
             "colorbar": {
              "outlinewidth": 0,
              "ticks": ""
             }
            }
           }
          ],
          "scattercarpet": [
           {
            "type": "scattercarpet",
            "marker": {
             "colorbar": {
              "outlinewidth": 0,
              "ticks": ""
             }
            }
           }
          ],
          "carpet": [
           {
            "aaxis": {
             "endlinecolor": "#A2B1C6",
             "gridcolor": "#506784",
             "linecolor": "#506784",
             "minorgridcolor": "#506784",
             "startlinecolor": "#A2B1C6"
            },
            "baxis": {
             "endlinecolor": "#A2B1C6",
             "gridcolor": "#506784",
             "linecolor": "#506784",
             "minorgridcolor": "#506784",
             "startlinecolor": "#A2B1C6"
            },
            "type": "carpet"
           }
          ],
          "table": [
           {
            "cells": {
             "fill": {
              "color": "#506784"
             },
             "line": {
              "color": "rgb(17,17,17)"
             }
            },
            "header": {
             "fill": {
              "color": "#2a3f5f"
             },
             "line": {
              "color": "rgb(17,17,17)"
             }
            },
            "type": "table"
           }
          ],
          "barpolar": [
           {
            "marker": {
             "line": {
              "color": "rgb(17,17,17)",
              "width": 0.5
             },
             "pattern": {
              "fillmode": "overlay",
              "size": 10,
              "solidity": 0.2
             }
            },
            "type": "barpolar"
           }
          ],
          "pie": [
           {
            "automargin": true,
            "type": "pie"
           }
          ]
         },
         "layout": {
          "autotypenumbers": "strict",
          "colorway": [
           "#636efa",
           "#EF553B",
           "#00cc96",
           "#ab63fa",
           "#FFA15A",
           "#19d3f3",
           "#FF6692",
           "#B6E880",
           "#FF97FF",
           "#FECB52"
          ],
          "font": {
           "color": "#f2f5fa"
          },
          "hovermode": "closest",
          "hoverlabel": {
           "align": "left"
          },
          "paper_bgcolor": "rgb(17,17,17)",
          "plot_bgcolor": "rgb(17,17,17)",
          "polar": {
           "bgcolor": "rgb(17,17,17)",
           "angularaxis": {
            "gridcolor": "#506784",
            "linecolor": "#506784",
            "ticks": ""
           },
           "radialaxis": {
            "gridcolor": "#506784",
            "linecolor": "#506784",
            "ticks": ""
           }
          },
          "ternary": {
           "bgcolor": "rgb(17,17,17)",
           "aaxis": {
            "gridcolor": "#506784",
            "linecolor": "#506784",
            "ticks": ""
           },
           "baxis": {
            "gridcolor": "#506784",
            "linecolor": "#506784",
            "ticks": ""
           },
           "caxis": {
            "gridcolor": "#506784",
            "linecolor": "#506784",
            "ticks": ""
           }
          },
          "coloraxis": {
           "colorbar": {
            "outlinewidth": 0,
            "ticks": ""
           }
          },
          "colorscale": {
           "sequential": [
            [
             0.0,
             "#0d0887"
            ],
            [
             0.1111111111111111,
             "#46039f"
            ],
            [
             0.2222222222222222,
             "#7201a8"
            ],
            [
             0.3333333333333333,
             "#9c179e"
            ],
            [
             0.4444444444444444,
             "#bd3786"
            ],
            [
             0.5555555555555556,
             "#d8576b"
            ],
            [
             0.6666666666666666,
             "#ed7953"
            ],
            [
             0.7777777777777778,
             "#fb9f3a"
            ],
            [
             0.8888888888888888,
             "#fdca26"
            ],
            [
             1.0,
             "#f0f921"
            ]
           ],
           "sequentialminus": [
            [
             0.0,
             "#0d0887"
            ],
            [
             0.1111111111111111,
             "#46039f"
            ],
            [
             0.2222222222222222,
             "#7201a8"
            ],
            [
             0.3333333333333333,
             "#9c179e"
            ],
            [
             0.4444444444444444,
             "#bd3786"
            ],
            [
             0.5555555555555556,
             "#d8576b"
            ],
            [
             0.6666666666666666,
             "#ed7953"
            ],
            [
             0.7777777777777778,
             "#fb9f3a"
            ],
            [
             0.8888888888888888,
             "#fdca26"
            ],
            [
             1.0,
             "#f0f921"
            ]
           ],
           "diverging": [
            [
             0,
             "#8e0152"
            ],
            [
             0.1,
             "#c51b7d"
            ],
            [
             0.2,
             "#de77ae"
            ],
            [
             0.3,
             "#f1b6da"
            ],
            [
             0.4,
             "#fde0ef"
            ],
            [
             0.5,
             "#f7f7f7"
            ],
            [
             0.6,
             "#e6f5d0"
            ],
            [
             0.7,
             "#b8e186"
            ],
            [
             0.8,
             "#7fbc41"
            ],
            [
             0.9,
             "#4d9221"
            ],
            [
             1,
             "#276419"
            ]
           ]
          },
          "xaxis": {
           "gridcolor": "#283442",
           "linecolor": "#506784",
           "ticks": "",
           "title": {
            "standoff": 15
           },
           "zerolinecolor": "#283442",
           "automargin": true,
           "zerolinewidth": 2
          },
          "yaxis": {
           "gridcolor": "#283442",
           "linecolor": "#506784",
           "ticks": "",
           "title": {
            "standoff": 15
           },
           "zerolinecolor": "#283442",
           "automargin": true,
           "zerolinewidth": 2
          },
          "scene": {
           "xaxis": {
            "backgroundcolor": "rgb(17,17,17)",
            "gridcolor": "#506784",
            "linecolor": "#506784",
            "showbackground": true,
            "ticks": "",
            "zerolinecolor": "#C8D4E3",
            "gridwidth": 2
           },
           "yaxis": {
            "backgroundcolor": "rgb(17,17,17)",
            "gridcolor": "#506784",
            "linecolor": "#506784",
            "showbackground": true,
            "ticks": "",
            "zerolinecolor": "#C8D4E3",
            "gridwidth": 2
           },
           "zaxis": {
            "backgroundcolor": "rgb(17,17,17)",
            "gridcolor": "#506784",
            "linecolor": "#506784",
            "showbackground": true,
            "ticks": "",
            "zerolinecolor": "#C8D4E3",
            "gridwidth": 2
           }
          },
          "shapedefaults": {
           "line": {
            "color": "#f2f5fa"
           }
          },
          "annotationdefaults": {
           "arrowcolor": "#f2f5fa",
           "arrowhead": 0,
           "arrowwidth": 1
          },
          "geo": {
           "bgcolor": "rgb(17,17,17)",
           "landcolor": "rgb(17,17,17)",
           "subunitcolor": "#506784",
           "showland": true,
           "showlakes": true,
           "lakecolor": "rgb(17,17,17)"
          },
          "title": {
           "x": 0.05
          },
          "updatemenudefaults": {
           "bgcolor": "#506784",
           "borderwidth": 0
          },
          "sliderdefaults": {
           "bgcolor": "#C8D4E3",
           "borderwidth": 1,
           "bordercolor": "rgb(17,17,17)",
           "tickwidth": 0
          },
          "mapbox": {
           "style": "dark"
          }
         }
        },
        "shapes": [
         {
          "line": {
           "color": "red",
           "dash": "dash"
          },
          "type": "line",
          "x0": 0.8475753099486747,
          "x1": 0.8475753099486747,
          "xref": "x",
          "y0": 0,
          "y1": 1,
          "yref": "y domain"
         }
        ],
        "title": {
         "text": "Silhouette Plot per Cluster"
        },
        "xaxis": {
         "title": {
          "text": "Silhouette coefficient values"
         }
        },
        "yaxis": {
         "title": {
          "text": "Clustered samples"
         }
        },
        "bargap": 0.01,
        "height": 600,
        "plot_bgcolor": "black",
        "paper_bgcolor": "black"
       },
       "config": {
        "plotlyServerURL": "https://plot.ly"
       }
      }
     },
     "metadata": {},
     "output_type": "display_data"
    },
    {
     "name": "stdout",
     "output_type": "stream",
     "text": [
      "Davies Bouldin score:\n",
      "Affinity propogation: 1.3829140533245634\n",
      "DBSCAN: 1.5539969551171195\n",
      "Birch Clustering: 1.2292758210083246\n",
      "\n",
      "Calinski Harabasz score:\n",
      "Affinity propogation: 112.87570114815355\n",
      "DBSCAN: 722.4646699140505\n",
      "Birch Clustering: 1044.782194159584\n"
     ]
    }
   ],
   "execution_count": 65
  },
  {
   "cell_type": "markdown",
   "id": "12deb65d3f7f63eb",
   "metadata": {},
   "source": "Task 5\n"
  },
  {
   "cell_type": "code",
   "id": "2a95a246f6bf2fa2",
   "metadata": {
    "ExecuteTime": {
     "end_time": "2025-09-24T14:52:40.735040Z",
     "start_time": "2025-09-24T14:52:12.451710Z"
    }
   },
   "source": [
    "# Euclidean distance\n",
    "def our_euclidean_distance(a, b):\n",
    "    distance = 0\n",
    "    for index, _ in enumerate(a):\n",
    "        distance += (a[index] - b[index]) ** 2\n",
    "    distance = distance**0.5\n",
    "    return distance\n",
    "# Manhattan distance\n",
    "def our_manhattan_distance(a, b):\n",
    "    distance = 0\n",
    "    for index, _ in enumerate(a):\n",
    "        distance += ((a[index] - b[index]) ** 2) ** 0.5\n",
    "    return distance    \n",
    "# Cosine similarity\n",
    "def our_cosine_distance(a, b):\n",
    "    numerator = 0\n",
    "    denominator_a = 0\n",
    "    denominator_b = 0\n",
    "    for index, _ in enumerate(a):\n",
    "        numerator += a[index] * b[index]\n",
    "        denominator_a += a[index] ** 2\n",
    "        denominator_b += b[index] ** 2\n",
    "    similarity = numerator / (denominator_a ** 0.5 * denominator_b ** 0.5)\n",
    "    return 1 - similarity\n",
    "\n",
    "# Effect of distances on dbscan\n",
    "clustering_c1 = DBSCAN(metric=our_euclidean_distance).fit(Data[:1000])\n",
    "label_c1 = clustering_c1.labels_\n",
    "\n",
    "clustering_c2 = DBSCAN(eps=0.8, metric=our_manhattan_distance).fit(Data[:1000])\n",
    "label_c2 = clustering_c2.labels_\n",
    "\n",
    "clustering_c3 = DBSCAN(eps=0.01, metric=our_cosine_distance).fit(Data[:1000])\n",
    "label_c3 = clustering_c3.labels_"
   ],
   "outputs": [],
   "execution_count": 69
  },
  {
   "metadata": {
    "ExecuteTime": {
     "end_time": "2025-09-24T14:51:30.588484Z",
     "start_time": "2025-09-24T14:51:30.448244Z"
    }
   },
   "cell_type": "code",
   "source": [
    "# Visualisation\n",
    "import plotly.express as px\n",
    "fig = px.scatter(Data[:1000], label_c1)\n",
    "fig.update_layout(title='Euclidean Distance (eps=0.5)')\n",
    "fig.update_xaxes(title='Clusters')\n",
    "fig.update_yaxes(title='Count')\n",
    "fig.show()\n",
    "fig = px.scatter(Data[:1000], label_c2)\n",
    "fig.update_layout(title='Manhattan Distance (eps=0.8)')\n",
    "fig.update_xaxes(title='Clusters')\n",
    "fig.update_yaxes(title='Count')\n",
    "fig.show()\n",
    "fig = px.scatter(Data[:1000], label_c3)\n",
    "fig.update_layout(title='Cosine Distance (eps=0.01)')\n",
    "fig.update_xaxes(title='Clusters')\n",
    "fig.update_yaxes(title='Count')\n",
    "fig.show()"
   ],
   "id": "f6e23856040adca3",
   "outputs": [
    {
     "data": {
      "application/vnd.plotly.v1+json": {
       "data": [
        {
         "hovertemplate": "x=%{x}<br>index=%{y}<extra></extra>",
         "legendgroup": "",
         "marker": {
          "color": "#636efa",
          "symbol": "circle"
         },
         "mode": "markers",
         "name": "",
         "orientation": "h",
         "showlegend": false,
         "x": {
          "dtype": "i1",
          "bdata": "AAAAAAEAAAIAAAAAAAAAAAABAAADAAAAAgAAAAAAAAEAAAAAAQAAAAAAAAAAAAAAAAACAAMAAAAAAAAAAAAAAQD/AAAAAAAAAAAAAAQA/wABAAAA/wAAAAAAAAIABQAAAAAAAAD/AAAAAAAAAAAAAAAAAAEAAAAAAAAAAAAAAAAAAAEAAAAAAAAAAAAAAAAAAAAAAAAAAAAAAAABAv8AAAABAQAAAAAAAAMDAAD/AwAAAAAAAQAA//8AAAEEAAAAAAABAAYA//8IAQUAAAUGBwUAAAAAAQAAAAAAAAQAAAUAAQAABAABAAEBAQABAQEAAAAAAQAAAAAEAQEAAAABAAAAAAX/AAgAAAgAAAABAQAFAAEACAAAAAEIAAAAAAAAAAAAAAACBAQAAAAAAQEAAAAAAQAAAQABAAAAAAAAAAAEAAAFAAAFAQAFAAUAAAAAAAAAAAAAAAAABQAABQEFAAEAAAQAAAAAAAEAAAH/AQAAAQAAB/8AAAABAAQAAAAAAAAAAAAABAABAAEABQAABAQABQAFAAUACAAAAQcBAQAIAQIAAQAAAQQBAgAAAAABAAcBBwAAAAABAAD/AAEABQABAAUAAQcBAP8AAAcAAQAAAQAAAAEAAAABAAcHAAAAAAAAAAUAAAABAAEBAAAHAQEBAQAAAAAEAAcAAAAA/wAAAQAAAAEAAQAAAQEAAAEAAAAAAAABAQAAAAAAAAAFAQAHAQUFAAAAAAAAAAUBAAAAAAAAAAEBAAABAQAAAQABAAIBBQABBQAAAAAEAAAAAAAFAAAAAAAAAQQACAAAAQABBggABAAIAAAAAAAABAAAAAEABQAAAAAACAAAAAQAAAEEAAAAAAAIBQABAAYBAAAAAAAAAQAHAAEEAAAHAAAAAAEAAAABBwAAAAgAAAEAAQAAAAABAAQIAQgABwAABAAEAAEABQAAAAAAAAAAAAAFAAAIAQAAAAABAAEAAQABBAAABQEAAQAAAAAAAAAACAAEAQcFAAAGAAQAAAAAAQAAAAABAQT/AAAAAQEEAAcFBAAAAAEBAAAAAQUAAQAAAP8FBQgAAAAAAAcFCAEBBAAFBwAAAAAAAAAAAAAAAQEAAAAHAQcBBAEAAQABAAAGAAEAAAAAAQQFAAABBgEFAAD/AAAHAAAFAgAAAQEAAQD/AAAAAP8AAAAHAAAAAAAAAQAIAAAAAAAA/wUIAAEBAAUBAAABAQABAAAAAAAHAAAAAAAAAAAFAAUBAAUABAAAAgAFAgUAAAcAAAAABAAAAQAAAQUBAAAAAAEBAAUAAAAAAAEAAAQAAAAEBwAHAQAAAQEAAgAAAAAAAA=="
         },
         "xaxis": "x",
         "y": {
          "dtype": "i2",
          "bdata": "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"
         },
         "yaxis": "y",
         "type": "scatter"
        }
       ],
       "layout": {
        "template": {
         "data": {
          "histogram2dcontour": [
           {
            "type": "histogram2dcontour",
            "colorbar": {
             "outlinewidth": 0,
             "ticks": ""
            },
            "colorscale": [
             [
              0.0,
              "#0d0887"
             ],
             [
              0.1111111111111111,
              "#46039f"
             ],
             [
              0.2222222222222222,
              "#7201a8"
             ],
             [
              0.3333333333333333,
              "#9c179e"
             ],
             [
              0.4444444444444444,
              "#bd3786"
             ],
             [
              0.5555555555555556,
              "#d8576b"
             ],
             [
              0.6666666666666666,
              "#ed7953"
             ],
             [
              0.7777777777777778,
              "#fb9f3a"
             ],
             [
              0.8888888888888888,
              "#fdca26"
             ],
             [
              1.0,
              "#f0f921"
             ]
            ]
           }
          ],
          "choropleth": [
           {
            "type": "choropleth",
            "colorbar": {
             "outlinewidth": 0,
             "ticks": ""
            }
           }
          ],
          "histogram2d": [
           {
            "type": "histogram2d",
            "colorbar": {
             "outlinewidth": 0,
             "ticks": ""
            },
            "colorscale": [
             [
              0.0,
              "#0d0887"
             ],
             [
              0.1111111111111111,
              "#46039f"
             ],
             [
              0.2222222222222222,
              "#7201a8"
             ],
             [
              0.3333333333333333,
              "#9c179e"
             ],
             [
              0.4444444444444444,
              "#bd3786"
             ],
             [
              0.5555555555555556,
              "#d8576b"
             ],
             [
              0.6666666666666666,
              "#ed7953"
             ],
             [
              0.7777777777777778,
              "#fb9f3a"
             ],
             [
              0.8888888888888888,
              "#fdca26"
             ],
             [
              1.0,
              "#f0f921"
             ]
            ]
           }
          ],
          "heatmap": [
           {
            "type": "heatmap",
            "colorbar": {
             "outlinewidth": 0,
             "ticks": ""
            },
            "colorscale": [
             [
              0.0,
              "#0d0887"
             ],
             [
              0.1111111111111111,
              "#46039f"
             ],
             [
              0.2222222222222222,
              "#7201a8"
             ],
             [
              0.3333333333333333,
              "#9c179e"
             ],
             [
              0.4444444444444444,
              "#bd3786"
             ],
             [
              0.5555555555555556,
              "#d8576b"
             ],
             [
              0.6666666666666666,
              "#ed7953"
             ],
             [
              0.7777777777777778,
              "#fb9f3a"
             ],
             [
              0.8888888888888888,
              "#fdca26"
             ],
             [
              1.0,
              "#f0f921"
             ]
            ]
           }
          ],
          "contourcarpet": [
           {
            "type": "contourcarpet",
            "colorbar": {
             "outlinewidth": 0,
             "ticks": ""
            }
           }
          ],
          "contour": [
           {
            "type": "contour",
            "colorbar": {
             "outlinewidth": 0,
             "ticks": ""
            },
            "colorscale": [
             [
              0.0,
              "#0d0887"
             ],
             [
              0.1111111111111111,
              "#46039f"
             ],
             [
              0.2222222222222222,
              "#7201a8"
             ],
             [
              0.3333333333333333,
              "#9c179e"
             ],
             [
              0.4444444444444444,
              "#bd3786"
             ],
             [
              0.5555555555555556,
              "#d8576b"
             ],
             [
              0.6666666666666666,
              "#ed7953"
             ],
             [
              0.7777777777777778,
              "#fb9f3a"
             ],
             [
              0.8888888888888888,
              "#fdca26"
             ],
             [
              1.0,
              "#f0f921"
             ]
            ]
           }
          ],
          "surface": [
           {
            "type": "surface",
            "colorbar": {
             "outlinewidth": 0,
             "ticks": ""
            },
            "colorscale": [
             [
              0.0,
              "#0d0887"
             ],
             [
              0.1111111111111111,
              "#46039f"
             ],
             [
              0.2222222222222222,
              "#7201a8"
             ],
             [
              0.3333333333333333,
              "#9c179e"
             ],
             [
              0.4444444444444444,
              "#bd3786"
             ],
             [
              0.5555555555555556,
              "#d8576b"
             ],
             [
              0.6666666666666666,
              "#ed7953"
             ],
             [
              0.7777777777777778,
              "#fb9f3a"
             ],
             [
              0.8888888888888888,
              "#fdca26"
             ],
             [
              1.0,
              "#f0f921"
             ]
            ]
           }
          ],
          "mesh3d": [
           {
            "type": "mesh3d",
            "colorbar": {
             "outlinewidth": 0,
             "ticks": ""
            }
           }
          ],
          "scatter": [
           {
            "marker": {
             "line": {
              "color": "#283442"
             }
            },
            "type": "scatter"
           }
          ],
          "parcoords": [
           {
            "type": "parcoords",
            "line": {
             "colorbar": {
              "outlinewidth": 0,
              "ticks": ""
             }
            }
           }
          ],
          "scatterpolargl": [
           {
            "type": "scatterpolargl",
            "marker": {
             "colorbar": {
              "outlinewidth": 0,
              "ticks": ""
             }
            }
           }
          ],
          "bar": [
           {
            "error_x": {
             "color": "#f2f5fa"
            },
            "error_y": {
             "color": "#f2f5fa"
            },
            "marker": {
             "line": {
              "color": "rgb(17,17,17)",
              "width": 0.5
             },
             "pattern": {
              "fillmode": "overlay",
              "size": 10,
              "solidity": 0.2
             }
            },
            "type": "bar"
           }
          ],
          "scattergeo": [
           {
            "type": "scattergeo",
            "marker": {
             "colorbar": {
              "outlinewidth": 0,
              "ticks": ""
             }
            }
           }
          ],
          "scatterpolar": [
           {
            "type": "scatterpolar",
            "marker": {
             "colorbar": {
              "outlinewidth": 0,
              "ticks": ""
             }
            }
           }
          ],
          "histogram": [
           {
            "marker": {
             "pattern": {
              "fillmode": "overlay",
              "size": 10,
              "solidity": 0.2
             }
            },
            "type": "histogram"
           }
          ],
          "scattergl": [
           {
            "marker": {
             "line": {
              "color": "#283442"
             }
            },
            "type": "scattergl"
           }
          ],
          "scatter3d": [
           {
            "type": "scatter3d",
            "line": {
             "colorbar": {
              "outlinewidth": 0,
              "ticks": ""
             }
            },
            "marker": {
             "colorbar": {
              "outlinewidth": 0,
              "ticks": ""
             }
            }
           }
          ],
          "scattermap": [
           {
            "type": "scattermap",
            "marker": {
             "colorbar": {
              "outlinewidth": 0,
              "ticks": ""
             }
            }
           }
          ],
          "scattermapbox": [
           {
            "type": "scattermapbox",
            "marker": {
             "colorbar": {
              "outlinewidth": 0,
              "ticks": ""
             }
            }
           }
          ],
          "scatterternary": [
           {
            "type": "scatterternary",
            "marker": {
             "colorbar": {
              "outlinewidth": 0,
              "ticks": ""
             }
            }
           }
          ],
          "scattercarpet": [
           {
            "type": "scattercarpet",
            "marker": {
             "colorbar": {
              "outlinewidth": 0,
              "ticks": ""
             }
            }
           }
          ],
          "carpet": [
           {
            "aaxis": {
             "endlinecolor": "#A2B1C6",
             "gridcolor": "#506784",
             "linecolor": "#506784",
             "minorgridcolor": "#506784",
             "startlinecolor": "#A2B1C6"
            },
            "baxis": {
             "endlinecolor": "#A2B1C6",
             "gridcolor": "#506784",
             "linecolor": "#506784",
             "minorgridcolor": "#506784",
             "startlinecolor": "#A2B1C6"
            },
            "type": "carpet"
           }
          ],
          "table": [
           {
            "cells": {
             "fill": {
              "color": "#506784"
             },
             "line": {
              "color": "rgb(17,17,17)"
             }
            },
            "header": {
             "fill": {
              "color": "#2a3f5f"
             },
             "line": {
              "color": "rgb(17,17,17)"
             }
            },
            "type": "table"
           }
          ],
          "barpolar": [
           {
            "marker": {
             "line": {
              "color": "rgb(17,17,17)",
              "width": 0.5
             },
             "pattern": {
              "fillmode": "overlay",
              "size": 10,
              "solidity": 0.2
             }
            },
            "type": "barpolar"
           }
          ],
          "pie": [
           {
            "automargin": true,
            "type": "pie"
           }
          ]
         },
         "layout": {
          "autotypenumbers": "strict",
          "colorway": [
           "#636efa",
           "#EF553B",
           "#00cc96",
           "#ab63fa",
           "#FFA15A",
           "#19d3f3",
           "#FF6692",
           "#B6E880",
           "#FF97FF",
           "#FECB52"
          ],
          "font": {
           "color": "#f2f5fa"
          },
          "hovermode": "closest",
          "hoverlabel": {
           "align": "left"
          },
          "paper_bgcolor": "rgb(17,17,17)",
          "plot_bgcolor": "rgb(17,17,17)",
          "polar": {
           "bgcolor": "rgb(17,17,17)",
           "angularaxis": {
            "gridcolor": "#506784",
            "linecolor": "#506784",
            "ticks": ""
           },
           "radialaxis": {
            "gridcolor": "#506784",
            "linecolor": "#506784",
            "ticks": ""
           }
          },
          "ternary": {
           "bgcolor": "rgb(17,17,17)",
           "aaxis": {
            "gridcolor": "#506784",
            "linecolor": "#506784",
            "ticks": ""
           },
           "baxis": {
            "gridcolor": "#506784",
            "linecolor": "#506784",
            "ticks": ""
           },
           "caxis": {
            "gridcolor": "#506784",
            "linecolor": "#506784",
            "ticks": ""
           }
          },
          "coloraxis": {
           "colorbar": {
            "outlinewidth": 0,
            "ticks": ""
           }
          },
          "colorscale": {
           "sequential": [
            [
             0.0,
             "#0d0887"
            ],
            [
             0.1111111111111111,
             "#46039f"
            ],
            [
             0.2222222222222222,
             "#7201a8"
            ],
            [
             0.3333333333333333,
             "#9c179e"
            ],
            [
             0.4444444444444444,
             "#bd3786"
            ],
            [
             0.5555555555555556,
             "#d8576b"
            ],
            [
             0.6666666666666666,
             "#ed7953"
            ],
            [
             0.7777777777777778,
             "#fb9f3a"
            ],
            [
             0.8888888888888888,
             "#fdca26"
            ],
            [
             1.0,
             "#f0f921"
            ]
           ],
           "sequentialminus": [
            [
             0.0,
             "#0d0887"
            ],
            [
             0.1111111111111111,
             "#46039f"
            ],
            [
             0.2222222222222222,
             "#7201a8"
            ],
            [
             0.3333333333333333,
             "#9c179e"
            ],
            [
             0.4444444444444444,
             "#bd3786"
            ],
            [
             0.5555555555555556,
             "#d8576b"
            ],
            [
             0.6666666666666666,
             "#ed7953"
            ],
            [
             0.7777777777777778,
             "#fb9f3a"
            ],
            [
             0.8888888888888888,
             "#fdca26"
            ],
            [
             1.0,
             "#f0f921"
            ]
           ],
           "diverging": [
            [
             0,
             "#8e0152"
            ],
            [
             0.1,
             "#c51b7d"
            ],
            [
             0.2,
             "#de77ae"
            ],
            [
             0.3,
             "#f1b6da"
            ],
            [
             0.4,
             "#fde0ef"
            ],
            [
             0.5,
             "#f7f7f7"
            ],
            [
             0.6,
             "#e6f5d0"
            ],
            [
             0.7,
             "#b8e186"
            ],
            [
             0.8,
             "#7fbc41"
            ],
            [
             0.9,
             "#4d9221"
            ],
            [
             1,
             "#276419"
            ]
           ]
          },
          "xaxis": {
           "gridcolor": "#283442",
           "linecolor": "#506784",
           "ticks": "",
           "title": {
            "standoff": 15
           },
           "zerolinecolor": "#283442",
           "automargin": true,
           "zerolinewidth": 2
          },
          "yaxis": {
           "gridcolor": "#283442",
           "linecolor": "#506784",
           "ticks": "",
           "title": {
            "standoff": 15
           },
           "zerolinecolor": "#283442",
           "automargin": true,
           "zerolinewidth": 2
          },
          "scene": {
           "xaxis": {
            "backgroundcolor": "rgb(17,17,17)",
            "gridcolor": "#506784",
            "linecolor": "#506784",
            "showbackground": true,
            "ticks": "",
            "zerolinecolor": "#C8D4E3",
            "gridwidth": 2
           },
           "yaxis": {
            "backgroundcolor": "rgb(17,17,17)",
            "gridcolor": "#506784",
            "linecolor": "#506784",
            "showbackground": true,
            "ticks": "",
            "zerolinecolor": "#C8D4E3",
            "gridwidth": 2
           },
           "zaxis": {
            "backgroundcolor": "rgb(17,17,17)",
            "gridcolor": "#506784",
            "linecolor": "#506784",
            "showbackground": true,
            "ticks": "",
            "zerolinecolor": "#C8D4E3",
            "gridwidth": 2
           }
          },
          "shapedefaults": {
           "line": {
            "color": "#f2f5fa"
           }
          },
          "annotationdefaults": {
           "arrowcolor": "#f2f5fa",
           "arrowhead": 0,
           "arrowwidth": 1
          },
          "geo": {
           "bgcolor": "rgb(17,17,17)",
           "landcolor": "rgb(17,17,17)",
           "subunitcolor": "#506784",
           "showland": true,
           "showlakes": true,
           "lakecolor": "rgb(17,17,17)"
          },
          "title": {
           "x": 0.05
          },
          "updatemenudefaults": {
           "bgcolor": "#506784",
           "borderwidth": 0
          },
          "sliderdefaults": {
           "bgcolor": "#C8D4E3",
           "borderwidth": 1,
           "bordercolor": "rgb(17,17,17)",
           "tickwidth": 0
          },
          "mapbox": {
           "style": "dark"
          }
         }
        },
        "xaxis": {
         "anchor": "y",
         "domain": [
          0.0,
          1.0
         ],
         "title": {
          "text": "Clusters"
         }
        },
        "yaxis": {
         "anchor": "x",
         "domain": [
          0.0,
          1.0
         ],
         "title": {
          "text": "Count"
         }
        },
        "legend": {
         "tracegroupgap": 0
        },
        "margin": {
         "t": 60
        },
        "title": {
         "text": "Euclidean Distance (eps=0.5)"
        }
       },
       "config": {
        "plotlyServerURL": "https://plot.ly"
       }
      }
     },
     "metadata": {},
     "output_type": "display_data"
    },
    {
     "data": {
      "application/vnd.plotly.v1+json": {
       "data": [
        {
         "hovertemplate": "x=%{x}<br>index=%{y}<extra></extra>",
         "legendgroup": "",
         "marker": {
          "color": "#636efa",
          "symbol": "circle"
         },
         "mode": "markers",
         "name": "",
         "orientation": "h",
         "showlegend": false,
         "x": {
          "dtype": "i1",
          "bdata": "AAAAAAEAAAIAAAAAAAAAAAABAAD/AAAAAgAAAAAAAAEAAAAAAQAAAAAAAAAAAAAAAAACAP8AAAAAAAAAAAAAAQD/AAAAAAAAAAAAAP8A/wABAAAA/wAAAAAAAAIAAAAAAAAAAAD/AAAAAAAAAAAAAAAAAAEAAAAAAAAAAAAAAAD/AAEAAAAAAAAAAAAAAAAAAAAAAAAAAAAAAAABAv8AAAABAQAAAAAAAP//AAAC/wAAAAAAAQAA//8AAAH/AAAAAAABAAMA/wT/AQAAAAADAQAAAAAAAQAAAAAAAAMAAAAAAQAAAwABAAEBAQABAQEAAAAAAQAAAAADAQEAAAABAAAAAAD/AAQAAAQAAAABAQAAAAEABAAAAAEEAAD/AAAAAAAAAAACAwMAAAAAAQEAAAAAAQAAAQABAAAAAAAAAAADAAAAAAAAAQAAAAAAAAAAAAAAAAAAAAAAAAAAAAEAAAEAAAMAAAAAAAEAAAH/AQAAAQAAAf8AAAABAAMAAAAAAAAAAAAAAwABAAEAAAAA/wMAAAAAAAAABAAAAQEBAQAEAQIAAQAAAQMBAgAAAAABAAEBAQAAAAABAAD/AAEAAAABAAAAAQEBAAQAAAEAAQAAAQAAAAEAAAABAAEBAAAAAAAAAAAAAAABAAEBAAABAf8BAQAAAP8DAAEAAAAA/wAAAQAAAAEAAQAAAQEAAAEAAAAAAAABAQAAAAAAAAAAAQABAQAAAAAAAAAAAAABAAAAAAAAAAEBAAABAQAAAQABAAIBAAABAAAAAAADAAAAAAAAAAAAAAAAAQMABAAAAQABA/8AAwAEAAAAAAAAAwAAAAEAAAAAAAAABAAAAAMAAAEDAAAAAAAEAAABAAMBAAAAAAAAAQABAAEDAAABAAAAAAEAAAABAQAAAAQAAAEAAQAAAAABAAMEAQQAAQAAAwADAAEAAAAAAAAAAAAAAAAAAAAEAQAAAAABAAEAAQABAwAAAAEAAQAAAAAAAAAABAADAQEAAAADAAMAAAAAAQAAAAABAQP/AAAA/wEDAAEAAwAAAAEBAAAAAQAAAQAAAP8AAAQAAAAAAAEABAEBAwAAAQAAAAAAAAAAAAAAAQEAAAABAf8BAwEAAQABAAADAAEAAAAAAQMAAAABAwEAAAD/AAABAAAAAgAAAQEAAQAEAAAAAAEAAAABAAAAAAAAAQD/AAAAAAAABAAEAAEBAAABAAABAQABAAAAAAABAAAAAAAAAAAAAAABAAAAAwAAAgAAAgAAAAEAAAAAAwAAAQAAAQABAAAAAAEBAAAAAAAAAAEAAAMAAAADAQABAQAAAQEAAgAAAAAAAA=="
         },
         "xaxis": "x",
         "y": {
          "dtype": "i2",
          "bdata": "AAABAAIAAwAEAAUABgAHAAgACQAKAAsADAANAA4ADwAQABEAEgATABQAFQAWABcAGAAZABoAGwAcAB0AHgAfACAAIQAiACMAJAAlACYAJwAoACkAKgArACwALQAuAC8AMAAxADIAMwA0ADUANgA3ADgAOQA6ADsAPAA9AD4APwBAAEEAQgBDAEQARQBGAEcASABJAEoASwBMAE0ATgBPAFAAUQBSAFMAVABVAFYAVwBYAFkAWgBbAFwAXQBeAF8AYABhAGIAYwBkAGUAZgBnAGgAaQBqAGsAbABtAG4AbwBwAHEAcgBzAHQAdQB2AHcAeAB5AHoAewB8AH0AfgB/AIAAgQCCAIMAhACFAIYAhwCIAIkAigCLAIwAjQCOAI8AkACRAJIAkwCUAJUAlgCXAJgAmQCaAJsAnACdAJ4AnwCgAKEAogCjAKQApQCmAKcAqACpAKoAqwCsAK0ArgCvALAAsQCyALMAtAC1ALYAtwC4ALkAugC7ALwAvQC+AL8AwADBAMIAwwDEAMUAxgDHAMgAyQDKAMsAzADNAM4AzwDQANEA0gDTANQA1QDWANcA2ADZANoA2wDcAN0A3gDfAOAA4QDiAOMA5ADlAOYA5wDoAOkA6gDrAOwA7QDuAO8A8ADxAPIA8wD0APUA9gD3APgA+QD6APsA/AD9AP4A/wAAAQEBAgEDAQQBBQEGAQcBCAEJAQoBCwEMAQ0BDgEPARABEQESARMBFAEVARYBFwEYARkBGgEbARwBHQEeAR8BIAEhASIBIwEkASUBJgEnASgBKQEqASsBLAEtAS4BLwEwATEBMgEzATQBNQE2ATcBOAE5AToBOwE8AT0BPgE/AUABQQFCAUMBRAFFAUYBRwFIAUkBSgFLAUwBTQFOAU8BUAFRAVIBUwFUAVUBVgFXAVgBWQFaAVsBXAFdAV4BXwFgAWEBYgFjAWQBZQFmAWcBaAFpAWoBawFsAW0BbgFvAXABcQFyAXMBdAF1AXYBdwF4AXkBegF7AXwBfQF+AX8BgAGBAYIBgwGEAYUBhgGHAYgBiQGKAYsBjAGNAY4BjwGQAZEBkgGTAZQBlQGWAZcBmAGZAZoBmwGcAZ0BngGfAaABoQGiAaMBpAGlAaYBpwGoAakBqgGrAawBrQGuAa8BsAGxAbIBswG0AbUBtgG3AbgBuQG6AbsBvAG9Ab4BvwHAAcEBwgHDAcQBxQHGAccByAHJAcoBywHMAc0BzgHPAdAB0QHSAdMB1AHVAdYB1wHYAdkB2gHbAdwB3QHeAd8B4AHhAeIB4wHkAeUB5gHnAegB6QHqAesB7AHtAe4B7wHwAfEB8gHzAfQB9QH2AfcB+AH5AfoB+wH8Af0B/gH/AQACAQICAgMCBAIFAgYCBwIIAgkCCgILAgwCDQIOAg8CEAIRAhICEwIUAhUCFgIXAhgCGQIaAhsCHAIdAh4CHwIgAiECIgIjAiQCJQImAicCKAIpAioCKwIsAi0CLgIvAjACMQIyAjMCNAI1AjYCNwI4AjkCOgI7AjwCPQI+Aj8CQAJBAkICQwJEAkUCRgJHAkgCSQJKAksCTAJNAk4CTwJQAlECUgJTAlQCVQJWAlcCWAJZAloCWwJcAl0CXgJfAmACYQJiAmMCZAJlAmYCZwJoAmkCagJrAmwCbQJuAm8CcAJxAnICcwJ0AnUCdgJ3AngCeQJ6AnsCfAJ9An4CfwKAAoECggKDAoQChQKGAocCiAKJAooCiwKMAo0CjgKPApACkQKSApMClAKVApYClwKYApkCmgKbApwCnQKeAp8CoAKhAqICowKkAqUCpgKnAqgCqQKqAqsCrAKtAq4CrwKwArECsgKzArQCtQK2ArcCuAK5AroCuwK8Ar0CvgK/AsACwQLCAsMCxALFAsYCxwLIAskCygLLAswCzQLOAs8C0ALRAtIC0wLUAtUC1gLXAtgC2QLaAtsC3ALdAt4C3wLgAuEC4gLjAuQC5QLmAucC6ALpAuoC6wLsAu0C7gLvAvAC8QLyAvMC9AL1AvYC9wL4AvkC+gL7AvwC/QL+Av8CAAMBAwIDAwMEAwUDBgMHAwgDCQMKAwsDDAMNAw4DDwMQAxEDEgMTAxQDFQMWAxcDGAMZAxoDGwMcAx0DHgMfAyADIQMiAyMDJAMlAyYDJwMoAykDKgMrAywDLQMuAy8DMAMxAzIDMwM0AzUDNgM3AzgDOQM6AzsDPAM9Az4DPwNAA0EDQgNDA0QDRQNGA0cDSANJA0oDSwNMA00DTgNPA1ADUQNSA1MDVANVA1YDVwNYA1kDWgNbA1wDXQNeA18DYANhA2IDYwNkA2UDZgNnA2gDaQNqA2sDbANtA24DbwNwA3EDcgNzA3QDdQN2A3cDeAN5A3oDewN8A30DfgN/A4ADgQOCA4MDhAOFA4YDhwOIA4kDigOLA4wDjQOOA48DkAORA5IDkwOUA5UDlgOXA5gDmQOaA5sDnAOdA54DnwOgA6EDogOjA6QDpQOmA6cDqAOpA6oDqwOsA60DrgOvA7ADsQOyA7MDtAO1A7YDtwO4A7kDugO7A7wDvQO+A78DwAPBA8IDwwPEA8UDxgPHA8gDyQPKA8sDzAPNA84DzwPQA9ED0gPTA9QD1QPWA9cD2APZA9oD2wPcA90D3gPfA+AD4QPiA+MD5APlA+YD5wM="
         },
         "yaxis": "y",
         "type": "scatter"
        }
       ],
       "layout": {
        "template": {
         "data": {
          "histogram2dcontour": [
           {
            "type": "histogram2dcontour",
            "colorbar": {
             "outlinewidth": 0,
             "ticks": ""
            },
            "colorscale": [
             [
              0.0,
              "#0d0887"
             ],
             [
              0.1111111111111111,
              "#46039f"
             ],
             [
              0.2222222222222222,
              "#7201a8"
             ],
             [
              0.3333333333333333,
              "#9c179e"
             ],
             [
              0.4444444444444444,
              "#bd3786"
             ],
             [
              0.5555555555555556,
              "#d8576b"
             ],
             [
              0.6666666666666666,
              "#ed7953"
             ],
             [
              0.7777777777777778,
              "#fb9f3a"
             ],
             [
              0.8888888888888888,
              "#fdca26"
             ],
             [
              1.0,
              "#f0f921"
             ]
            ]
           }
          ],
          "choropleth": [
           {
            "type": "choropleth",
            "colorbar": {
             "outlinewidth": 0,
             "ticks": ""
            }
           }
          ],
          "histogram2d": [
           {
            "type": "histogram2d",
            "colorbar": {
             "outlinewidth": 0,
             "ticks": ""
            },
            "colorscale": [
             [
              0.0,
              "#0d0887"
             ],
             [
              0.1111111111111111,
              "#46039f"
             ],
             [
              0.2222222222222222,
              "#7201a8"
             ],
             [
              0.3333333333333333,
              "#9c179e"
             ],
             [
              0.4444444444444444,
              "#bd3786"
             ],
             [
              0.5555555555555556,
              "#d8576b"
             ],
             [
              0.6666666666666666,
              "#ed7953"
             ],
             [
              0.7777777777777778,
              "#fb9f3a"
             ],
             [
              0.8888888888888888,
              "#fdca26"
             ],
             [
              1.0,
              "#f0f921"
             ]
            ]
           }
          ],
          "heatmap": [
           {
            "type": "heatmap",
            "colorbar": {
             "outlinewidth": 0,
             "ticks": ""
            },
            "colorscale": [
             [
              0.0,
              "#0d0887"
             ],
             [
              0.1111111111111111,
              "#46039f"
             ],
             [
              0.2222222222222222,
              "#7201a8"
             ],
             [
              0.3333333333333333,
              "#9c179e"
             ],
             [
              0.4444444444444444,
              "#bd3786"
             ],
             [
              0.5555555555555556,
              "#d8576b"
             ],
             [
              0.6666666666666666,
              "#ed7953"
             ],
             [
              0.7777777777777778,
              "#fb9f3a"
             ],
             [
              0.8888888888888888,
              "#fdca26"
             ],
             [
              1.0,
              "#f0f921"
             ]
            ]
           }
          ],
          "contourcarpet": [
           {
            "type": "contourcarpet",
            "colorbar": {
             "outlinewidth": 0,
             "ticks": ""
            }
           }
          ],
          "contour": [
           {
            "type": "contour",
            "colorbar": {
             "outlinewidth": 0,
             "ticks": ""
            },
            "colorscale": [
             [
              0.0,
              "#0d0887"
             ],
             [
              0.1111111111111111,
              "#46039f"
             ],
             [
              0.2222222222222222,
              "#7201a8"
             ],
             [
              0.3333333333333333,
              "#9c179e"
             ],
             [
              0.4444444444444444,
              "#bd3786"
             ],
             [
              0.5555555555555556,
              "#d8576b"
             ],
             [
              0.6666666666666666,
              "#ed7953"
             ],
             [
              0.7777777777777778,
              "#fb9f3a"
             ],
             [
              0.8888888888888888,
              "#fdca26"
             ],
             [
              1.0,
              "#f0f921"
             ]
            ]
           }
          ],
          "surface": [
           {
            "type": "surface",
            "colorbar": {
             "outlinewidth": 0,
             "ticks": ""
            },
            "colorscale": [
             [
              0.0,
              "#0d0887"
             ],
             [
              0.1111111111111111,
              "#46039f"
             ],
             [
              0.2222222222222222,
              "#7201a8"
             ],
             [
              0.3333333333333333,
              "#9c179e"
             ],
             [
              0.4444444444444444,
              "#bd3786"
             ],
             [
              0.5555555555555556,
              "#d8576b"
             ],
             [
              0.6666666666666666,
              "#ed7953"
             ],
             [
              0.7777777777777778,
              "#fb9f3a"
             ],
             [
              0.8888888888888888,
              "#fdca26"
             ],
             [
              1.0,
              "#f0f921"
             ]
            ]
           }
          ],
          "mesh3d": [
           {
            "type": "mesh3d",
            "colorbar": {
             "outlinewidth": 0,
             "ticks": ""
            }
           }
          ],
          "scatter": [
           {
            "marker": {
             "line": {
              "color": "#283442"
             }
            },
            "type": "scatter"
           }
          ],
          "parcoords": [
           {
            "type": "parcoords",
            "line": {
             "colorbar": {
              "outlinewidth": 0,
              "ticks": ""
             }
            }
           }
          ],
          "scatterpolargl": [
           {
            "type": "scatterpolargl",
            "marker": {
             "colorbar": {
              "outlinewidth": 0,
              "ticks": ""
             }
            }
           }
          ],
          "bar": [
           {
            "error_x": {
             "color": "#f2f5fa"
            },
            "error_y": {
             "color": "#f2f5fa"
            },
            "marker": {
             "line": {
              "color": "rgb(17,17,17)",
              "width": 0.5
             },
             "pattern": {
              "fillmode": "overlay",
              "size": 10,
              "solidity": 0.2
             }
            },
            "type": "bar"
           }
          ],
          "scattergeo": [
           {
            "type": "scattergeo",
            "marker": {
             "colorbar": {
              "outlinewidth": 0,
              "ticks": ""
             }
            }
           }
          ],
          "scatterpolar": [
           {
            "type": "scatterpolar",
            "marker": {
             "colorbar": {
              "outlinewidth": 0,
              "ticks": ""
             }
            }
           }
          ],
          "histogram": [
           {
            "marker": {
             "pattern": {
              "fillmode": "overlay",
              "size": 10,
              "solidity": 0.2
             }
            },
            "type": "histogram"
           }
          ],
          "scattergl": [
           {
            "marker": {
             "line": {
              "color": "#283442"
             }
            },
            "type": "scattergl"
           }
          ],
          "scatter3d": [
           {
            "type": "scatter3d",
            "line": {
             "colorbar": {
              "outlinewidth": 0,
              "ticks": ""
             }
            },
            "marker": {
             "colorbar": {
              "outlinewidth": 0,
              "ticks": ""
             }
            }
           }
          ],
          "scattermap": [
           {
            "type": "scattermap",
            "marker": {
             "colorbar": {
              "outlinewidth": 0,
              "ticks": ""
             }
            }
           }
          ],
          "scattermapbox": [
           {
            "type": "scattermapbox",
            "marker": {
             "colorbar": {
              "outlinewidth": 0,
              "ticks": ""
             }
            }
           }
          ],
          "scatterternary": [
           {
            "type": "scatterternary",
            "marker": {
             "colorbar": {
              "outlinewidth": 0,
              "ticks": ""
             }
            }
           }
          ],
          "scattercarpet": [
           {
            "type": "scattercarpet",
            "marker": {
             "colorbar": {
              "outlinewidth": 0,
              "ticks": ""
             }
            }
           }
          ],
          "carpet": [
           {
            "aaxis": {
             "endlinecolor": "#A2B1C6",
             "gridcolor": "#506784",
             "linecolor": "#506784",
             "minorgridcolor": "#506784",
             "startlinecolor": "#A2B1C6"
            },
            "baxis": {
             "endlinecolor": "#A2B1C6",
             "gridcolor": "#506784",
             "linecolor": "#506784",
             "minorgridcolor": "#506784",
             "startlinecolor": "#A2B1C6"
            },
            "type": "carpet"
           }
          ],
          "table": [
           {
            "cells": {
             "fill": {
              "color": "#506784"
             },
             "line": {
              "color": "rgb(17,17,17)"
             }
            },
            "header": {
             "fill": {
              "color": "#2a3f5f"
             },
             "line": {
              "color": "rgb(17,17,17)"
             }
            },
            "type": "table"
           }
          ],
          "barpolar": [
           {
            "marker": {
             "line": {
              "color": "rgb(17,17,17)",
              "width": 0.5
             },
             "pattern": {
              "fillmode": "overlay",
              "size": 10,
              "solidity": 0.2
             }
            },
            "type": "barpolar"
           }
          ],
          "pie": [
           {
            "automargin": true,
            "type": "pie"
           }
          ]
         },
         "layout": {
          "autotypenumbers": "strict",
          "colorway": [
           "#636efa",
           "#EF553B",
           "#00cc96",
           "#ab63fa",
           "#FFA15A",
           "#19d3f3",
           "#FF6692",
           "#B6E880",
           "#FF97FF",
           "#FECB52"
          ],
          "font": {
           "color": "#f2f5fa"
          },
          "hovermode": "closest",
          "hoverlabel": {
           "align": "left"
          },
          "paper_bgcolor": "rgb(17,17,17)",
          "plot_bgcolor": "rgb(17,17,17)",
          "polar": {
           "bgcolor": "rgb(17,17,17)",
           "angularaxis": {
            "gridcolor": "#506784",
            "linecolor": "#506784",
            "ticks": ""
           },
           "radialaxis": {
            "gridcolor": "#506784",
            "linecolor": "#506784",
            "ticks": ""
           }
          },
          "ternary": {
           "bgcolor": "rgb(17,17,17)",
           "aaxis": {
            "gridcolor": "#506784",
            "linecolor": "#506784",
            "ticks": ""
           },
           "baxis": {
            "gridcolor": "#506784",
            "linecolor": "#506784",
            "ticks": ""
           },
           "caxis": {
            "gridcolor": "#506784",
            "linecolor": "#506784",
            "ticks": ""
           }
          },
          "coloraxis": {
           "colorbar": {
            "outlinewidth": 0,
            "ticks": ""
           }
          },
          "colorscale": {
           "sequential": [
            [
             0.0,
             "#0d0887"
            ],
            [
             0.1111111111111111,
             "#46039f"
            ],
            [
             0.2222222222222222,
             "#7201a8"
            ],
            [
             0.3333333333333333,
             "#9c179e"
            ],
            [
             0.4444444444444444,
             "#bd3786"
            ],
            [
             0.5555555555555556,
             "#d8576b"
            ],
            [
             0.6666666666666666,
             "#ed7953"
            ],
            [
             0.7777777777777778,
             "#fb9f3a"
            ],
            [
             0.8888888888888888,
             "#fdca26"
            ],
            [
             1.0,
             "#f0f921"
            ]
           ],
           "sequentialminus": [
            [
             0.0,
             "#0d0887"
            ],
            [
             0.1111111111111111,
             "#46039f"
            ],
            [
             0.2222222222222222,
             "#7201a8"
            ],
            [
             0.3333333333333333,
             "#9c179e"
            ],
            [
             0.4444444444444444,
             "#bd3786"
            ],
            [
             0.5555555555555556,
             "#d8576b"
            ],
            [
             0.6666666666666666,
             "#ed7953"
            ],
            [
             0.7777777777777778,
             "#fb9f3a"
            ],
            [
             0.8888888888888888,
             "#fdca26"
            ],
            [
             1.0,
             "#f0f921"
            ]
           ],
           "diverging": [
            [
             0,
             "#8e0152"
            ],
            [
             0.1,
             "#c51b7d"
            ],
            [
             0.2,
             "#de77ae"
            ],
            [
             0.3,
             "#f1b6da"
            ],
            [
             0.4,
             "#fde0ef"
            ],
            [
             0.5,
             "#f7f7f7"
            ],
            [
             0.6,
             "#e6f5d0"
            ],
            [
             0.7,
             "#b8e186"
            ],
            [
             0.8,
             "#7fbc41"
            ],
            [
             0.9,
             "#4d9221"
            ],
            [
             1,
             "#276419"
            ]
           ]
          },
          "xaxis": {
           "gridcolor": "#283442",
           "linecolor": "#506784",
           "ticks": "",
           "title": {
            "standoff": 15
           },
           "zerolinecolor": "#283442",
           "automargin": true,
           "zerolinewidth": 2
          },
          "yaxis": {
           "gridcolor": "#283442",
           "linecolor": "#506784",
           "ticks": "",
           "title": {
            "standoff": 15
           },
           "zerolinecolor": "#283442",
           "automargin": true,
           "zerolinewidth": 2
          },
          "scene": {
           "xaxis": {
            "backgroundcolor": "rgb(17,17,17)",
            "gridcolor": "#506784",
            "linecolor": "#506784",
            "showbackground": true,
            "ticks": "",
            "zerolinecolor": "#C8D4E3",
            "gridwidth": 2
           },
           "yaxis": {
            "backgroundcolor": "rgb(17,17,17)",
            "gridcolor": "#506784",
            "linecolor": "#506784",
            "showbackground": true,
            "ticks": "",
            "zerolinecolor": "#C8D4E3",
            "gridwidth": 2
           },
           "zaxis": {
            "backgroundcolor": "rgb(17,17,17)",
            "gridcolor": "#506784",
            "linecolor": "#506784",
            "showbackground": true,
            "ticks": "",
            "zerolinecolor": "#C8D4E3",
            "gridwidth": 2
           }
          },
          "shapedefaults": {
           "line": {
            "color": "#f2f5fa"
           }
          },
          "annotationdefaults": {
           "arrowcolor": "#f2f5fa",
           "arrowhead": 0,
           "arrowwidth": 1
          },
          "geo": {
           "bgcolor": "rgb(17,17,17)",
           "landcolor": "rgb(17,17,17)",
           "subunitcolor": "#506784",
           "showland": true,
           "showlakes": true,
           "lakecolor": "rgb(17,17,17)"
          },
          "title": {
           "x": 0.05
          },
          "updatemenudefaults": {
           "bgcolor": "#506784",
           "borderwidth": 0
          },
          "sliderdefaults": {
           "bgcolor": "#C8D4E3",
           "borderwidth": 1,
           "bordercolor": "rgb(17,17,17)",
           "tickwidth": 0
          },
          "mapbox": {
           "style": "dark"
          }
         }
        },
        "xaxis": {
         "anchor": "y",
         "domain": [
          0.0,
          1.0
         ],
         "title": {
          "text": "Clusters"
         }
        },
        "yaxis": {
         "anchor": "x",
         "domain": [
          0.0,
          1.0
         ],
         "title": {
          "text": "Count"
         }
        },
        "legend": {
         "tracegroupgap": 0
        },
        "margin": {
         "t": 60
        },
        "title": {
         "text": "Manhattan Distance (eps=0.8)"
        }
       },
       "config": {
        "plotlyServerURL": "https://plot.ly"
       }
      }
     },
     "metadata": {},
     "output_type": "display_data"
    },
    {
     "data": {
      "application/vnd.plotly.v1+json": {
       "data": [
        {
         "hovertemplate": "x=%{x}<br>index=%{y}<extra></extra>",
         "legendgroup": "",
         "marker": {
          "color": "#636efa",
          "symbol": "circle"
         },
         "mode": "markers",
         "name": "",
         "orientation": "h",
         "showlegend": false,
         "x": {
          "dtype": "i1",
          "bdata": "AAAAAAEAAAIAAAAAAAAAAAABAAD/AAAAAgAAAAAAAAEAAAAAAQAAAAAAAAAAAAAAAAACAP8AAAAAAP8AAAAAAQD/AAAAAAAAAAAAAAQA/wABAAAA/wAAAAAAAAIAAwAAAAAAAAD/AAAAAAAAAAAAAAAAAAEAAAAAAAAAAAAAAAD/AAEAAAAAAAAAAAAAAAAAAAAAAAAAAAAAAAABAv8AAAABAQAAAAAAAP//AAD//wAAAAAAAQAA//8AAAEEAAAAAAABAAUA////AQMAAAMFBgMAAAAAAQAAAAAAAAQAAAMAAQAABAABAAEBAQABAQEAAAAAAQAAAAAEAQEAAAABAAD/AAP/AAcAAAcAAAABAQADAAEABwAAAAEHAAD/AAAAAAAAAAACBAQAAAAAAQEAAAAAAQAAAQABAAAAAAAAAAAEAAADAAADAQADAAMAAAAAAAAAAAAAAAAAAwAAAwEDAAEAAAQAAAAAAAEAAAH/AQAAAQAABv8AAAABAAQAAAAAAAAAAAAABAABAAEAAwAABAQAAwADAAMABwAAAQYBAQAHAQIAAQAAAQQBAgAAAAABAAYBBgAAAAABAAD/AAEAAwABAAMAAQYBAP8AAAYAAQAAAQAAAAEAAAABAAYGAAAAAAAAAAMAAAABAAEBAAAGAf8BAQAAAAAEAAYAAAAA/wAAAQAAAAEAAQAAAQEAAAEAAAAAAAABAQD/AAAAAAADAQAGAQMDAAAAAAAAAAMBAAAAAAAAAAEBAAABAQAAAQABAAIBAwABAwAAAAAEAAAAAAADAAAAAAAAAQQABwAAAQABBQcABAAHAAAAAAAABAAAAAEAAwAAAAAABwAAAAQAAAEEAAAAAAAHAwABAAUBAAAAAAAAAQAGAAEEAAAGAAAAAAEAAAABBgAAAAcAAAEAAQAAAAABAAQHAQcABgAABAAEAAEAAwAAAAAAAAAAAAADAAAHAQAAAAABAAEAAQABBAAAAwEAAQAAAAAAAAAA/wAEAQYDAAAFAAQAAAAAAQAAAAABAQT/AAAA/wEEAAYDBAAAAAEBAAAAAQMAAQAAAP8DAwcAAAAAAAYDBwEBBAADBgAAAAAAAAAAAAAAAQEAAAAGAf8BBAEAAQABAAAFAAEAAAAAAQQDAAABBQEDAAD/AAAGAAADAgAAAQEAAQD/AAAAAP8AAAAGAAAAAAAAAQD/AAAAAAAA/wMHAAEBAAMBAAABAQABAAAAAAAGAAAAAAAAAAADAAMBAAMABAAAAgADAgMAAAYAAAAABAAAAQAAAQMBAAAAAAEBAAMAAAAAAAEAAAQAAAAEBgAGAQAAAQEAAgAAAAAAAA=="
         },
         "xaxis": "x",
         "y": {
          "dtype": "i2",
          "bdata": "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"
         },
         "yaxis": "y",
         "type": "scatter"
        }
       ],
       "layout": {
        "template": {
         "data": {
          "histogram2dcontour": [
           {
            "type": "histogram2dcontour",
            "colorbar": {
             "outlinewidth": 0,
             "ticks": ""
            },
            "colorscale": [
             [
              0.0,
              "#0d0887"
             ],
             [
              0.1111111111111111,
              "#46039f"
             ],
             [
              0.2222222222222222,
              "#7201a8"
             ],
             [
              0.3333333333333333,
              "#9c179e"
             ],
             [
              0.4444444444444444,
              "#bd3786"
             ],
             [
              0.5555555555555556,
              "#d8576b"
             ],
             [
              0.6666666666666666,
              "#ed7953"
             ],
             [
              0.7777777777777778,
              "#fb9f3a"
             ],
             [
              0.8888888888888888,
              "#fdca26"
             ],
             [
              1.0,
              "#f0f921"
             ]
            ]
           }
          ],
          "choropleth": [
           {
            "type": "choropleth",
            "colorbar": {
             "outlinewidth": 0,
             "ticks": ""
            }
           }
          ],
          "histogram2d": [
           {
            "type": "histogram2d",
            "colorbar": {
             "outlinewidth": 0,
             "ticks": ""
            },
            "colorscale": [
             [
              0.0,
              "#0d0887"
             ],
             [
              0.1111111111111111,
              "#46039f"
             ],
             [
              0.2222222222222222,
              "#7201a8"
             ],
             [
              0.3333333333333333,
              "#9c179e"
             ],
             [
              0.4444444444444444,
              "#bd3786"
             ],
             [
              0.5555555555555556,
              "#d8576b"
             ],
             [
              0.6666666666666666,
              "#ed7953"
             ],
             [
              0.7777777777777778,
              "#fb9f3a"
             ],
             [
              0.8888888888888888,
              "#fdca26"
             ],
             [
              1.0,
              "#f0f921"
             ]
            ]
           }
          ],
          "heatmap": [
           {
            "type": "heatmap",
            "colorbar": {
             "outlinewidth": 0,
             "ticks": ""
            },
            "colorscale": [
             [
              0.0,
              "#0d0887"
             ],
             [
              0.1111111111111111,
              "#46039f"
             ],
             [
              0.2222222222222222,
              "#7201a8"
             ],
             [
              0.3333333333333333,
              "#9c179e"
             ],
             [
              0.4444444444444444,
              "#bd3786"
             ],
             [
              0.5555555555555556,
              "#d8576b"
             ],
             [
              0.6666666666666666,
              "#ed7953"
             ],
             [
              0.7777777777777778,
              "#fb9f3a"
             ],
             [
              0.8888888888888888,
              "#fdca26"
             ],
             [
              1.0,
              "#f0f921"
             ]
            ]
           }
          ],
          "contourcarpet": [
           {
            "type": "contourcarpet",
            "colorbar": {
             "outlinewidth": 0,
             "ticks": ""
            }
           }
          ],
          "contour": [
           {
            "type": "contour",
            "colorbar": {
             "outlinewidth": 0,
             "ticks": ""
            },
            "colorscale": [
             [
              0.0,
              "#0d0887"
             ],
             [
              0.1111111111111111,
              "#46039f"
             ],
             [
              0.2222222222222222,
              "#7201a8"
             ],
             [
              0.3333333333333333,
              "#9c179e"
             ],
             [
              0.4444444444444444,
              "#bd3786"
             ],
             [
              0.5555555555555556,
              "#d8576b"
             ],
             [
              0.6666666666666666,
              "#ed7953"
             ],
             [
              0.7777777777777778,
              "#fb9f3a"
             ],
             [
              0.8888888888888888,
              "#fdca26"
             ],
             [
              1.0,
              "#f0f921"
             ]
            ]
           }
          ],
          "surface": [
           {
            "type": "surface",
            "colorbar": {
             "outlinewidth": 0,
             "ticks": ""
            },
            "colorscale": [
             [
              0.0,
              "#0d0887"
             ],
             [
              0.1111111111111111,
              "#46039f"
             ],
             [
              0.2222222222222222,
              "#7201a8"
             ],
             [
              0.3333333333333333,
              "#9c179e"
             ],
             [
              0.4444444444444444,
              "#bd3786"
             ],
             [
              0.5555555555555556,
              "#d8576b"
             ],
             [
              0.6666666666666666,
              "#ed7953"
             ],
             [
              0.7777777777777778,
              "#fb9f3a"
             ],
             [
              0.8888888888888888,
              "#fdca26"
             ],
             [
              1.0,
              "#f0f921"
             ]
            ]
           }
          ],
          "mesh3d": [
           {
            "type": "mesh3d",
            "colorbar": {
             "outlinewidth": 0,
             "ticks": ""
            }
           }
          ],
          "scatter": [
           {
            "marker": {
             "line": {
              "color": "#283442"
             }
            },
            "type": "scatter"
           }
          ],
          "parcoords": [
           {
            "type": "parcoords",
            "line": {
             "colorbar": {
              "outlinewidth": 0,
              "ticks": ""
             }
            }
           }
          ],
          "scatterpolargl": [
           {
            "type": "scatterpolargl",
            "marker": {
             "colorbar": {
              "outlinewidth": 0,
              "ticks": ""
             }
            }
           }
          ],
          "bar": [
           {
            "error_x": {
             "color": "#f2f5fa"
            },
            "error_y": {
             "color": "#f2f5fa"
            },
            "marker": {
             "line": {
              "color": "rgb(17,17,17)",
              "width": 0.5
             },
             "pattern": {
              "fillmode": "overlay",
              "size": 10,
              "solidity": 0.2
             }
            },
            "type": "bar"
           }
          ],
          "scattergeo": [
           {
            "type": "scattergeo",
            "marker": {
             "colorbar": {
              "outlinewidth": 0,
              "ticks": ""
             }
            }
           }
          ],
          "scatterpolar": [
           {
            "type": "scatterpolar",
            "marker": {
             "colorbar": {
              "outlinewidth": 0,
              "ticks": ""
             }
            }
           }
          ],
          "histogram": [
           {
            "marker": {
             "pattern": {
              "fillmode": "overlay",
              "size": 10,
              "solidity": 0.2
             }
            },
            "type": "histogram"
           }
          ],
          "scattergl": [
           {
            "marker": {
             "line": {
              "color": "#283442"
             }
            },
            "type": "scattergl"
           }
          ],
          "scatter3d": [
           {
            "type": "scatter3d",
            "line": {
             "colorbar": {
              "outlinewidth": 0,
              "ticks": ""
             }
            },
            "marker": {
             "colorbar": {
              "outlinewidth": 0,
              "ticks": ""
             }
            }
           }
          ],
          "scattermap": [
           {
            "type": "scattermap",
            "marker": {
             "colorbar": {
              "outlinewidth": 0,
              "ticks": ""
             }
            }
           }
          ],
          "scattermapbox": [
           {
            "type": "scattermapbox",
            "marker": {
             "colorbar": {
              "outlinewidth": 0,
              "ticks": ""
             }
            }
           }
          ],
          "scatterternary": [
           {
            "type": "scatterternary",
            "marker": {
             "colorbar": {
              "outlinewidth": 0,
              "ticks": ""
             }
            }
           }
          ],
          "scattercarpet": [
           {
            "type": "scattercarpet",
            "marker": {
             "colorbar": {
              "outlinewidth": 0,
              "ticks": ""
             }
            }
           }
          ],
          "carpet": [
           {
            "aaxis": {
             "endlinecolor": "#A2B1C6",
             "gridcolor": "#506784",
             "linecolor": "#506784",
             "minorgridcolor": "#506784",
             "startlinecolor": "#A2B1C6"
            },
            "baxis": {
             "endlinecolor": "#A2B1C6",
             "gridcolor": "#506784",
             "linecolor": "#506784",
             "minorgridcolor": "#506784",
             "startlinecolor": "#A2B1C6"
            },
            "type": "carpet"
           }
          ],
          "table": [
           {
            "cells": {
             "fill": {
              "color": "#506784"
             },
             "line": {
              "color": "rgb(17,17,17)"
             }
            },
            "header": {
             "fill": {
              "color": "#2a3f5f"
             },
             "line": {
              "color": "rgb(17,17,17)"
             }
            },
            "type": "table"
           }
          ],
          "barpolar": [
           {
            "marker": {
             "line": {
              "color": "rgb(17,17,17)",
              "width": 0.5
             },
             "pattern": {
              "fillmode": "overlay",
              "size": 10,
              "solidity": 0.2
             }
            },
            "type": "barpolar"
           }
          ],
          "pie": [
           {
            "automargin": true,
            "type": "pie"
           }
          ]
         },
         "layout": {
          "autotypenumbers": "strict",
          "colorway": [
           "#636efa",
           "#EF553B",
           "#00cc96",
           "#ab63fa",
           "#FFA15A",
           "#19d3f3",
           "#FF6692",
           "#B6E880",
           "#FF97FF",
           "#FECB52"
          ],
          "font": {
           "color": "#f2f5fa"
          },
          "hovermode": "closest",
          "hoverlabel": {
           "align": "left"
          },
          "paper_bgcolor": "rgb(17,17,17)",
          "plot_bgcolor": "rgb(17,17,17)",
          "polar": {
           "bgcolor": "rgb(17,17,17)",
           "angularaxis": {
            "gridcolor": "#506784",
            "linecolor": "#506784",
            "ticks": ""
           },
           "radialaxis": {
            "gridcolor": "#506784",
            "linecolor": "#506784",
            "ticks": ""
           }
          },
          "ternary": {
           "bgcolor": "rgb(17,17,17)",
           "aaxis": {
            "gridcolor": "#506784",
            "linecolor": "#506784",
            "ticks": ""
           },
           "baxis": {
            "gridcolor": "#506784",
            "linecolor": "#506784",
            "ticks": ""
           },
           "caxis": {
            "gridcolor": "#506784",
            "linecolor": "#506784",
            "ticks": ""
           }
          },
          "coloraxis": {
           "colorbar": {
            "outlinewidth": 0,
            "ticks": ""
           }
          },
          "colorscale": {
           "sequential": [
            [
             0.0,
             "#0d0887"
            ],
            [
             0.1111111111111111,
             "#46039f"
            ],
            [
             0.2222222222222222,
             "#7201a8"
            ],
            [
             0.3333333333333333,
             "#9c179e"
            ],
            [
             0.4444444444444444,
             "#bd3786"
            ],
            [
             0.5555555555555556,
             "#d8576b"
            ],
            [
             0.6666666666666666,
             "#ed7953"
            ],
            [
             0.7777777777777778,
             "#fb9f3a"
            ],
            [
             0.8888888888888888,
             "#fdca26"
            ],
            [
             1.0,
             "#f0f921"
            ]
           ],
           "sequentialminus": [
            [
             0.0,
             "#0d0887"
            ],
            [
             0.1111111111111111,
             "#46039f"
            ],
            [
             0.2222222222222222,
             "#7201a8"
            ],
            [
             0.3333333333333333,
             "#9c179e"
            ],
            [
             0.4444444444444444,
             "#bd3786"
            ],
            [
             0.5555555555555556,
             "#d8576b"
            ],
            [
             0.6666666666666666,
             "#ed7953"
            ],
            [
             0.7777777777777778,
             "#fb9f3a"
            ],
            [
             0.8888888888888888,
             "#fdca26"
            ],
            [
             1.0,
             "#f0f921"
            ]
           ],
           "diverging": [
            [
             0,
             "#8e0152"
            ],
            [
             0.1,
             "#c51b7d"
            ],
            [
             0.2,
             "#de77ae"
            ],
            [
             0.3,
             "#f1b6da"
            ],
            [
             0.4,
             "#fde0ef"
            ],
            [
             0.5,
             "#f7f7f7"
            ],
            [
             0.6,
             "#e6f5d0"
            ],
            [
             0.7,
             "#b8e186"
            ],
            [
             0.8,
             "#7fbc41"
            ],
            [
             0.9,
             "#4d9221"
            ],
            [
             1,
             "#276419"
            ]
           ]
          },
          "xaxis": {
           "gridcolor": "#283442",
           "linecolor": "#506784",
           "ticks": "",
           "title": {
            "standoff": 15
           },
           "zerolinecolor": "#283442",
           "automargin": true,
           "zerolinewidth": 2
          },
          "yaxis": {
           "gridcolor": "#283442",
           "linecolor": "#506784",
           "ticks": "",
           "title": {
            "standoff": 15
           },
           "zerolinecolor": "#283442",
           "automargin": true,
           "zerolinewidth": 2
          },
          "scene": {
           "xaxis": {
            "backgroundcolor": "rgb(17,17,17)",
            "gridcolor": "#506784",
            "linecolor": "#506784",
            "showbackground": true,
            "ticks": "",
            "zerolinecolor": "#C8D4E3",
            "gridwidth": 2
           },
           "yaxis": {
            "backgroundcolor": "rgb(17,17,17)",
            "gridcolor": "#506784",
            "linecolor": "#506784",
            "showbackground": true,
            "ticks": "",
            "zerolinecolor": "#C8D4E3",
            "gridwidth": 2
           },
           "zaxis": {
            "backgroundcolor": "rgb(17,17,17)",
            "gridcolor": "#506784",
            "linecolor": "#506784",
            "showbackground": true,
            "ticks": "",
            "zerolinecolor": "#C8D4E3",
            "gridwidth": 2
           }
          },
          "shapedefaults": {
           "line": {
            "color": "#f2f5fa"
           }
          },
          "annotationdefaults": {
           "arrowcolor": "#f2f5fa",
           "arrowhead": 0,
           "arrowwidth": 1
          },
          "geo": {
           "bgcolor": "rgb(17,17,17)",
           "landcolor": "rgb(17,17,17)",
           "subunitcolor": "#506784",
           "showland": true,
           "showlakes": true,
           "lakecolor": "rgb(17,17,17)"
          },
          "title": {
           "x": 0.05
          },
          "updatemenudefaults": {
           "bgcolor": "#506784",
           "borderwidth": 0
          },
          "sliderdefaults": {
           "bgcolor": "#C8D4E3",
           "borderwidth": 1,
           "bordercolor": "rgb(17,17,17)",
           "tickwidth": 0
          },
          "mapbox": {
           "style": "dark"
          }
         }
        },
        "xaxis": {
         "anchor": "y",
         "domain": [
          0.0,
          1.0
         ],
         "title": {
          "text": "Clusters"
         }
        },
        "yaxis": {
         "anchor": "x",
         "domain": [
          0.0,
          1.0
         ],
         "title": {
          "text": "Count"
         }
        },
        "legend": {
         "tracegroupgap": 0
        },
        "margin": {
         "t": 60
        },
        "title": {
         "text": "Cosine Distance (eps=0.01)"
        }
       },
       "config": {
        "plotlyServerURL": "https://plot.ly"
       }
      }
     },
     "metadata": {},
     "output_type": "display_data"
    }
   ],
   "execution_count": 67
  },
  {
   "metadata": {
    "ExecuteTime": {
     "end_time": "2025-09-24T14:51:30.598566Z",
     "start_time": "2025-09-24T14:51:30.590146Z"
    }
   },
   "cell_type": "code",
   "source": "",
   "id": "581899b6b9dd9f0d",
   "outputs": [],
   "execution_count": 67
  }
 ],
 "metadata": {
  "kernelspec": {
   "display_name": "Python 3",
   "language": "python",
   "name": "python3"
  },
  "language_info": {
   "codemirror_mode": {
    "name": "ipython",
    "version": 3
   },
   "file_extension": ".py",
   "mimetype": "text/x-python",
   "name": "python",
   "nbconvert_exporter": "python",
   "pygments_lexer": "ipython3",
   "version": "3.13.7"
  }
 },
 "nbformat": 4,
 "nbformat_minor": 5
}
