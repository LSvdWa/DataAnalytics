{
 "cells": [
  {
   "cell_type": "code",
   "id": "6198313a0fd8ef21",
   "metadata": {
    "ExecuteTime": {
     "end_time": "2025-09-24T14:36:41.228253Z",
     "start_time": "2025-09-24T14:36:35.455369Z"
    }
   },
   "source": [
    "#from numpy.core.numeric import infty\n",
    "!pip install numpy\n",
    "!pip install pandas\n",
    "!pip install plotly\n",
    "\n",
    "!pip install scikit-learn # non-depreceated sklearn"
   ],
   "outputs": [
    {
     "name": "stdout",
     "output_type": "stream",
     "text": [
      "Requirement already satisfied: numpy in c:\\users\\friso\\appdata\\local\\programs\\python\\python38\\lib\\site-packages (1.24.4)\n"
     ]
    },
    {
     "name": "stderr",
     "output_type": "stream",
     "text": [
      "WARNING: You are using pip version 21.1.1; however, version 25.0.1 is available.\n",
      "You should consider upgrading via the 'c:\\users\\friso\\appdata\\local\\programs\\python\\python38\\python.exe -m pip install --upgrade pip' command.\n"
     ]
    },
    {
     "name": "stdout",
     "output_type": "stream",
     "text": [
      "Requirement already satisfied: pandas in c:\\users\\friso\\appdata\\local\\programs\\python\\python38\\lib\\site-packages (2.0.3)\n",
      "Requirement already satisfied: pytz>=2020.1 in c:\\users\\friso\\appdata\\local\\programs\\python\\python38\\lib\\site-packages (from pandas) (2025.2)\n",
      "Requirement already satisfied: python-dateutil>=2.8.2 in c:\\users\\friso\\appdata\\local\\programs\\python\\python38\\lib\\site-packages (from pandas) (2.9.0.post0)\n",
      "Requirement already satisfied: numpy>=1.20.3 in c:\\users\\friso\\appdata\\local\\programs\\python\\python38\\lib\\site-packages (from pandas) (1.24.4)\n",
      "Requirement already satisfied: tzdata>=2022.1 in c:\\users\\friso\\appdata\\local\\programs\\python\\python38\\lib\\site-packages (from pandas) (2025.2)\n",
      "Requirement already satisfied: six>=1.5 in c:\\users\\friso\\appdata\\local\\programs\\python\\python38\\lib\\site-packages (from python-dateutil>=2.8.2->pandas) (1.17.0)\n"
     ]
    },
    {
     "name": "stderr",
     "output_type": "stream",
     "text": [
      "WARNING: You are using pip version 21.1.1; however, version 25.0.1 is available.\n",
      "You should consider upgrading via the 'c:\\users\\friso\\appdata\\local\\programs\\python\\python38\\python.exe -m pip install --upgrade pip' command.\n"
     ]
    },
    {
     "name": "stdout",
     "output_type": "stream",
     "text": [
      "Requirement already satisfied: plotly in c:\\users\\friso\\appdata\\local\\programs\\python\\python38\\lib\\site-packages (6.3.0)\n",
      "Requirement already satisfied: packaging in c:\\users\\friso\\appdata\\local\\programs\\python\\python38\\lib\\site-packages (from plotly) (25.0)\n",
      "Requirement already satisfied: narwhals>=1.15.1 in c:\\users\\friso\\appdata\\local\\programs\\python\\python38\\lib\\site-packages (from plotly) (1.42.1)\n"
     ]
    },
    {
     "name": "stderr",
     "output_type": "stream",
     "text": [
      "WARNING: You are using pip version 21.1.1; however, version 25.0.1 is available.\n",
      "You should consider upgrading via the 'c:\\users\\friso\\appdata\\local\\programs\\python\\python38\\python.exe -m pip install --upgrade pip' command.\n",
      "ERROR: Invalid requirement: '#'\n",
      "WARNING: You are using pip version 21.1.1; however, version 25.0.1 is available.\n",
      "You should consider upgrading via the 'c:\\users\\friso\\appdata\\local\\programs\\python\\python38\\python.exe -m pip install --upgrade pip' command.\n"
     ]
    }
   ],
   "execution_count": 42
  },
  {
   "cell_type": "markdown",
   "id": "c04bec9720cf8181",
   "metadata": {},
   "source": [
    "Task 1"
   ]
  },
  {
   "cell_type": "code",
   "id": "569340ce255da6ee",
   "metadata": {
    "collapsed": true,
    "ExecuteTime": {
     "end_time": "2025-09-24T14:36:41.309641Z",
     "start_time": "2025-09-24T14:36:41.230260Z"
    }
   },
   "source": [
    "import pandas as pd\n",
    "# read the csv and make it a pandas.DataFrame\n",
    "frame = pd.DataFrame(pd.read_csv(\"./online_shoppers_intention.csv\"))\n",
    "frame.describe(include='all') # 18 columns, including 2 categorical: Month & VisitorType, and two boolean: Weekend & Revenue"
   ],
   "outputs": [
    {
     "data": {
      "text/plain": [
       "        Administrative  Administrative_Duration  Informational  \\\n",
       "count     12330.000000             12330.000000   12330.000000   \n",
       "unique             NaN                      NaN            NaN   \n",
       "top                NaN                      NaN            NaN   \n",
       "freq               NaN                      NaN            NaN   \n",
       "mean          2.315166                80.818611       0.503569   \n",
       "std           3.321784               176.779107       1.270156   \n",
       "min           0.000000                 0.000000       0.000000   \n",
       "25%           0.000000                 0.000000       0.000000   \n",
       "50%           1.000000                 7.500000       0.000000   \n",
       "75%           4.000000                93.256250       0.000000   \n",
       "max          27.000000              3398.750000      24.000000   \n",
       "\n",
       "        Informational_Duration  ProductRelated  ProductRelated_Duration  \\\n",
       "count             12330.000000    12330.000000             12330.000000   \n",
       "unique                     NaN             NaN                      NaN   \n",
       "top                        NaN             NaN                      NaN   \n",
       "freq                       NaN             NaN                      NaN   \n",
       "mean                 34.472398       31.731468              1194.746220   \n",
       "std                 140.749294       44.475503              1913.669288   \n",
       "min                   0.000000        0.000000                 0.000000   \n",
       "25%                   0.000000        7.000000               184.137500   \n",
       "50%                   0.000000       18.000000               598.936905   \n",
       "75%                   0.000000       38.000000              1464.157214   \n",
       "max                2549.375000      705.000000             63973.522230   \n",
       "\n",
       "         BounceRates     ExitRates    PageValues    SpecialDay  Month  \\\n",
       "count   12330.000000  12330.000000  12330.000000  12330.000000  12330   \n",
       "unique           NaN           NaN           NaN           NaN     10   \n",
       "top              NaN           NaN           NaN           NaN    May   \n",
       "freq             NaN           NaN           NaN           NaN   3364   \n",
       "mean        0.022191      0.043073      5.889258      0.061427    NaN   \n",
       "std         0.048488      0.048597     18.568437      0.198917    NaN   \n",
       "min         0.000000      0.000000      0.000000      0.000000    NaN   \n",
       "25%         0.000000      0.014286      0.000000      0.000000    NaN   \n",
       "50%         0.003112      0.025156      0.000000      0.000000    NaN   \n",
       "75%         0.016813      0.050000      0.000000      0.000000    NaN   \n",
       "max         0.200000      0.200000    361.763742      1.000000    NaN   \n",
       "\n",
       "        OperatingSystems       Browser        Region   TrafficType  \\\n",
       "count       12330.000000  12330.000000  12330.000000  12330.000000   \n",
       "unique               NaN           NaN           NaN           NaN   \n",
       "top                  NaN           NaN           NaN           NaN   \n",
       "freq                 NaN           NaN           NaN           NaN   \n",
       "mean            2.124006      2.357097      3.147364      4.069586   \n",
       "std             0.911325      1.717277      2.401591      4.025169   \n",
       "min             1.000000      1.000000      1.000000      1.000000   \n",
       "25%             2.000000      2.000000      1.000000      2.000000   \n",
       "50%             2.000000      2.000000      3.000000      2.000000   \n",
       "75%             3.000000      2.000000      4.000000      4.000000   \n",
       "max             8.000000     13.000000      9.000000     20.000000   \n",
       "\n",
       "              VisitorType Weekend Revenue  \n",
       "count               12330   12330   12330  \n",
       "unique                  3       2       2  \n",
       "top     Returning_Visitor   False   False  \n",
       "freq                10551    9462   10422  \n",
       "mean                  NaN     NaN     NaN  \n",
       "std                   NaN     NaN     NaN  \n",
       "min                   NaN     NaN     NaN  \n",
       "25%                   NaN     NaN     NaN  \n",
       "50%                   NaN     NaN     NaN  \n",
       "75%                   NaN     NaN     NaN  \n",
       "max                   NaN     NaN     NaN  "
      ],
      "text/html": [
       "<div>\n",
       "<style scoped>\n",
       "    .dataframe tbody tr th:only-of-type {\n",
       "        vertical-align: middle;\n",
       "    }\n",
       "\n",
       "    .dataframe tbody tr th {\n",
       "        vertical-align: top;\n",
       "    }\n",
       "\n",
       "    .dataframe thead th {\n",
       "        text-align: right;\n",
       "    }\n",
       "</style>\n",
       "<table border=\"1\" class=\"dataframe\">\n",
       "  <thead>\n",
       "    <tr style=\"text-align: right;\">\n",
       "      <th></th>\n",
       "      <th>Administrative</th>\n",
       "      <th>Administrative_Duration</th>\n",
       "      <th>Informational</th>\n",
       "      <th>Informational_Duration</th>\n",
       "      <th>ProductRelated</th>\n",
       "      <th>ProductRelated_Duration</th>\n",
       "      <th>BounceRates</th>\n",
       "      <th>ExitRates</th>\n",
       "      <th>PageValues</th>\n",
       "      <th>SpecialDay</th>\n",
       "      <th>Month</th>\n",
       "      <th>OperatingSystems</th>\n",
       "      <th>Browser</th>\n",
       "      <th>Region</th>\n",
       "      <th>TrafficType</th>\n",
       "      <th>VisitorType</th>\n",
       "      <th>Weekend</th>\n",
       "      <th>Revenue</th>\n",
       "    </tr>\n",
       "  </thead>\n",
       "  <tbody>\n",
       "    <tr>\n",
       "      <th>count</th>\n",
       "      <td>12330.000000</td>\n",
       "      <td>12330.000000</td>\n",
       "      <td>12330.000000</td>\n",
       "      <td>12330.000000</td>\n",
       "      <td>12330.000000</td>\n",
       "      <td>12330.000000</td>\n",
       "      <td>12330.000000</td>\n",
       "      <td>12330.000000</td>\n",
       "      <td>12330.000000</td>\n",
       "      <td>12330.000000</td>\n",
       "      <td>12330</td>\n",
       "      <td>12330.000000</td>\n",
       "      <td>12330.000000</td>\n",
       "      <td>12330.000000</td>\n",
       "      <td>12330.000000</td>\n",
       "      <td>12330</td>\n",
       "      <td>12330</td>\n",
       "      <td>12330</td>\n",
       "    </tr>\n",
       "    <tr>\n",
       "      <th>unique</th>\n",
       "      <td>NaN</td>\n",
       "      <td>NaN</td>\n",
       "      <td>NaN</td>\n",
       "      <td>NaN</td>\n",
       "      <td>NaN</td>\n",
       "      <td>NaN</td>\n",
       "      <td>NaN</td>\n",
       "      <td>NaN</td>\n",
       "      <td>NaN</td>\n",
       "      <td>NaN</td>\n",
       "      <td>10</td>\n",
       "      <td>NaN</td>\n",
       "      <td>NaN</td>\n",
       "      <td>NaN</td>\n",
       "      <td>NaN</td>\n",
       "      <td>3</td>\n",
       "      <td>2</td>\n",
       "      <td>2</td>\n",
       "    </tr>\n",
       "    <tr>\n",
       "      <th>top</th>\n",
       "      <td>NaN</td>\n",
       "      <td>NaN</td>\n",
       "      <td>NaN</td>\n",
       "      <td>NaN</td>\n",
       "      <td>NaN</td>\n",
       "      <td>NaN</td>\n",
       "      <td>NaN</td>\n",
       "      <td>NaN</td>\n",
       "      <td>NaN</td>\n",
       "      <td>NaN</td>\n",
       "      <td>May</td>\n",
       "      <td>NaN</td>\n",
       "      <td>NaN</td>\n",
       "      <td>NaN</td>\n",
       "      <td>NaN</td>\n",
       "      <td>Returning_Visitor</td>\n",
       "      <td>False</td>\n",
       "      <td>False</td>\n",
       "    </tr>\n",
       "    <tr>\n",
       "      <th>freq</th>\n",
       "      <td>NaN</td>\n",
       "      <td>NaN</td>\n",
       "      <td>NaN</td>\n",
       "      <td>NaN</td>\n",
       "      <td>NaN</td>\n",
       "      <td>NaN</td>\n",
       "      <td>NaN</td>\n",
       "      <td>NaN</td>\n",
       "      <td>NaN</td>\n",
       "      <td>NaN</td>\n",
       "      <td>3364</td>\n",
       "      <td>NaN</td>\n",
       "      <td>NaN</td>\n",
       "      <td>NaN</td>\n",
       "      <td>NaN</td>\n",
       "      <td>10551</td>\n",
       "      <td>9462</td>\n",
       "      <td>10422</td>\n",
       "    </tr>\n",
       "    <tr>\n",
       "      <th>mean</th>\n",
       "      <td>2.315166</td>\n",
       "      <td>80.818611</td>\n",
       "      <td>0.503569</td>\n",
       "      <td>34.472398</td>\n",
       "      <td>31.731468</td>\n",
       "      <td>1194.746220</td>\n",
       "      <td>0.022191</td>\n",
       "      <td>0.043073</td>\n",
       "      <td>5.889258</td>\n",
       "      <td>0.061427</td>\n",
       "      <td>NaN</td>\n",
       "      <td>2.124006</td>\n",
       "      <td>2.357097</td>\n",
       "      <td>3.147364</td>\n",
       "      <td>4.069586</td>\n",
       "      <td>NaN</td>\n",
       "      <td>NaN</td>\n",
       "      <td>NaN</td>\n",
       "    </tr>\n",
       "    <tr>\n",
       "      <th>std</th>\n",
       "      <td>3.321784</td>\n",
       "      <td>176.779107</td>\n",
       "      <td>1.270156</td>\n",
       "      <td>140.749294</td>\n",
       "      <td>44.475503</td>\n",
       "      <td>1913.669288</td>\n",
       "      <td>0.048488</td>\n",
       "      <td>0.048597</td>\n",
       "      <td>18.568437</td>\n",
       "      <td>0.198917</td>\n",
       "      <td>NaN</td>\n",
       "      <td>0.911325</td>\n",
       "      <td>1.717277</td>\n",
       "      <td>2.401591</td>\n",
       "      <td>4.025169</td>\n",
       "      <td>NaN</td>\n",
       "      <td>NaN</td>\n",
       "      <td>NaN</td>\n",
       "    </tr>\n",
       "    <tr>\n",
       "      <th>min</th>\n",
       "      <td>0.000000</td>\n",
       "      <td>0.000000</td>\n",
       "      <td>0.000000</td>\n",
       "      <td>0.000000</td>\n",
       "      <td>0.000000</td>\n",
       "      <td>0.000000</td>\n",
       "      <td>0.000000</td>\n",
       "      <td>0.000000</td>\n",
       "      <td>0.000000</td>\n",
       "      <td>0.000000</td>\n",
       "      <td>NaN</td>\n",
       "      <td>1.000000</td>\n",
       "      <td>1.000000</td>\n",
       "      <td>1.000000</td>\n",
       "      <td>1.000000</td>\n",
       "      <td>NaN</td>\n",
       "      <td>NaN</td>\n",
       "      <td>NaN</td>\n",
       "    </tr>\n",
       "    <tr>\n",
       "      <th>25%</th>\n",
       "      <td>0.000000</td>\n",
       "      <td>0.000000</td>\n",
       "      <td>0.000000</td>\n",
       "      <td>0.000000</td>\n",
       "      <td>7.000000</td>\n",
       "      <td>184.137500</td>\n",
       "      <td>0.000000</td>\n",
       "      <td>0.014286</td>\n",
       "      <td>0.000000</td>\n",
       "      <td>0.000000</td>\n",
       "      <td>NaN</td>\n",
       "      <td>2.000000</td>\n",
       "      <td>2.000000</td>\n",
       "      <td>1.000000</td>\n",
       "      <td>2.000000</td>\n",
       "      <td>NaN</td>\n",
       "      <td>NaN</td>\n",
       "      <td>NaN</td>\n",
       "    </tr>\n",
       "    <tr>\n",
       "      <th>50%</th>\n",
       "      <td>1.000000</td>\n",
       "      <td>7.500000</td>\n",
       "      <td>0.000000</td>\n",
       "      <td>0.000000</td>\n",
       "      <td>18.000000</td>\n",
       "      <td>598.936905</td>\n",
       "      <td>0.003112</td>\n",
       "      <td>0.025156</td>\n",
       "      <td>0.000000</td>\n",
       "      <td>0.000000</td>\n",
       "      <td>NaN</td>\n",
       "      <td>2.000000</td>\n",
       "      <td>2.000000</td>\n",
       "      <td>3.000000</td>\n",
       "      <td>2.000000</td>\n",
       "      <td>NaN</td>\n",
       "      <td>NaN</td>\n",
       "      <td>NaN</td>\n",
       "    </tr>\n",
       "    <tr>\n",
       "      <th>75%</th>\n",
       "      <td>4.000000</td>\n",
       "      <td>93.256250</td>\n",
       "      <td>0.000000</td>\n",
       "      <td>0.000000</td>\n",
       "      <td>38.000000</td>\n",
       "      <td>1464.157214</td>\n",
       "      <td>0.016813</td>\n",
       "      <td>0.050000</td>\n",
       "      <td>0.000000</td>\n",
       "      <td>0.000000</td>\n",
       "      <td>NaN</td>\n",
       "      <td>3.000000</td>\n",
       "      <td>2.000000</td>\n",
       "      <td>4.000000</td>\n",
       "      <td>4.000000</td>\n",
       "      <td>NaN</td>\n",
       "      <td>NaN</td>\n",
       "      <td>NaN</td>\n",
       "    </tr>\n",
       "    <tr>\n",
       "      <th>max</th>\n",
       "      <td>27.000000</td>\n",
       "      <td>3398.750000</td>\n",
       "      <td>24.000000</td>\n",
       "      <td>2549.375000</td>\n",
       "      <td>705.000000</td>\n",
       "      <td>63973.522230</td>\n",
       "      <td>0.200000</td>\n",
       "      <td>0.200000</td>\n",
       "      <td>361.763742</td>\n",
       "      <td>1.000000</td>\n",
       "      <td>NaN</td>\n",
       "      <td>8.000000</td>\n",
       "      <td>13.000000</td>\n",
       "      <td>9.000000</td>\n",
       "      <td>20.000000</td>\n",
       "      <td>NaN</td>\n",
       "      <td>NaN</td>\n",
       "      <td>NaN</td>\n",
       "    </tr>\n",
       "  </tbody>\n",
       "</table>\n",
       "</div>"
      ]
     },
     "execution_count": 43,
     "metadata": {},
     "output_type": "execute_result"
    }
   ],
   "execution_count": 43
  },
  {
   "cell_type": "code",
   "id": "619404bddacffcd3",
   "metadata": {
    "ExecuteTime": {
     "end_time": "2025-09-24T14:36:41.390591Z",
     "start_time": "2025-09-24T14:36:41.312304Z"
    }
   },
   "source": [
    "#visualisation\n",
    "# split the Browser 13 users from the rest\n",
    "frame13 = frame.loc[frame.Browser == 13]\n",
    "frameOther = frame.loc[frame.Browser != 13]\n",
    "\n",
    "import plotly.graph_objects as go\n",
    "# make a small dataframe with normalized data for plotting\n",
    "def create_distribution(frameColumn):\n",
    "    return pd.DataFrame({\n",
    "        'Browser 13': frame13[frameColumn].value_counts(normalize=True),\n",
    "        'Other browsers': frameOther[frameColumn].value_counts(normalize=True) \n",
    "    }).reset_index().rename(columns={'index': col}) \n",
    "# plot all these columns\n",
    "for col in ['VisitorType', 'Region', 'Month']:\n",
    "    distribution = create_distribution(col)\n",
    "    fig = go.Figure()\n",
    "    fig.add_trace(go.Bar(x=distribution[col], y=distribution['Browser 13'], name='Browser 13'))\n",
    "    fig.add_trace(go.Bar(x=distribution[col], y=distribution['Other browsers'], name='Other browsers'))\n",
    "    fig.update_layout(barmode='group', title=f'{col} Distribution')\n",
    "    fig.update_yaxes(title='Count')\n",
    "    fig.update_xaxes(title=f'{col}')\n",
    "    fig.show()"
   ],
   "outputs": [
    {
     "data": {
      "application/vnd.plotly.v1+json": {
       "data": [
        {
         "name": "Browser 13",
         "x": [
          "New_Visitor",
          "Other",
          "Returning_Visitor"
         ],
         "y": {
          "dtype": "f8",
          "bdata": "O9q8T3HJkD+f4pIhWEfrPzvavE9xycA/"
         },
         "type": "bar"
        },
        {
         "name": "Other browsers",
         "x": [
          "New_Visitor",
          "Other",
          "Returning_Visitor"
         ],
         "y": {
          "dtype": "f8",
          "bdata": "3UlcfaipwT/28yTJuAhmP5XI3yeNf+s/"
         },
         "type": "bar"
        }
       ],
       "layout": {
        "template": {
         "data": {
          "histogram2dcontour": [
           {
            "type": "histogram2dcontour",
            "colorbar": {
             "outlinewidth": 0,
             "ticks": ""
            },
            "colorscale": [
             [
              0.0,
              "#0d0887"
             ],
             [
              0.1111111111111111,
              "#46039f"
             ],
             [
              0.2222222222222222,
              "#7201a8"
             ],
             [
              0.3333333333333333,
              "#9c179e"
             ],
             [
              0.4444444444444444,
              "#bd3786"
             ],
             [
              0.5555555555555556,
              "#d8576b"
             ],
             [
              0.6666666666666666,
              "#ed7953"
             ],
             [
              0.7777777777777778,
              "#fb9f3a"
             ],
             [
              0.8888888888888888,
              "#fdca26"
             ],
             [
              1.0,
              "#f0f921"
             ]
            ]
           }
          ],
          "choropleth": [
           {
            "type": "choropleth",
            "colorbar": {
             "outlinewidth": 0,
             "ticks": ""
            }
           }
          ],
          "histogram2d": [
           {
            "type": "histogram2d",
            "colorbar": {
             "outlinewidth": 0,
             "ticks": ""
            },
            "colorscale": [
             [
              0.0,
              "#0d0887"
             ],
             [
              0.1111111111111111,
              "#46039f"
             ],
             [
              0.2222222222222222,
              "#7201a8"
             ],
             [
              0.3333333333333333,
              "#9c179e"
             ],
             [
              0.4444444444444444,
              "#bd3786"
             ],
             [
              0.5555555555555556,
              "#d8576b"
             ],
             [
              0.6666666666666666,
              "#ed7953"
             ],
             [
              0.7777777777777778,
              "#fb9f3a"
             ],
             [
              0.8888888888888888,
              "#fdca26"
             ],
             [
              1.0,
              "#f0f921"
             ]
            ]
           }
          ],
          "heatmap": [
           {
            "type": "heatmap",
            "colorbar": {
             "outlinewidth": 0,
             "ticks": ""
            },
            "colorscale": [
             [
              0.0,
              "#0d0887"
             ],
             [
              0.1111111111111111,
              "#46039f"
             ],
             [
              0.2222222222222222,
              "#7201a8"
             ],
             [
              0.3333333333333333,
              "#9c179e"
             ],
             [
              0.4444444444444444,
              "#bd3786"
             ],
             [
              0.5555555555555556,
              "#d8576b"
             ],
             [
              0.6666666666666666,
              "#ed7953"
             ],
             [
              0.7777777777777778,
              "#fb9f3a"
             ],
             [
              0.8888888888888888,
              "#fdca26"
             ],
             [
              1.0,
              "#f0f921"
             ]
            ]
           }
          ],
          "contourcarpet": [
           {
            "type": "contourcarpet",
            "colorbar": {
             "outlinewidth": 0,
             "ticks": ""
            }
           }
          ],
          "contour": [
           {
            "type": "contour",
            "colorbar": {
             "outlinewidth": 0,
             "ticks": ""
            },
            "colorscale": [
             [
              0.0,
              "#0d0887"
             ],
             [
              0.1111111111111111,
              "#46039f"
             ],
             [
              0.2222222222222222,
              "#7201a8"
             ],
             [
              0.3333333333333333,
              "#9c179e"
             ],
             [
              0.4444444444444444,
              "#bd3786"
             ],
             [
              0.5555555555555556,
              "#d8576b"
             ],
             [
              0.6666666666666666,
              "#ed7953"
             ],
             [
              0.7777777777777778,
              "#fb9f3a"
             ],
             [
              0.8888888888888888,
              "#fdca26"
             ],
             [
              1.0,
              "#f0f921"
             ]
            ]
           }
          ],
          "surface": [
           {
            "type": "surface",
            "colorbar": {
             "outlinewidth": 0,
             "ticks": ""
            },
            "colorscale": [
             [
              0.0,
              "#0d0887"
             ],
             [
              0.1111111111111111,
              "#46039f"
             ],
             [
              0.2222222222222222,
              "#7201a8"
             ],
             [
              0.3333333333333333,
              "#9c179e"
             ],
             [
              0.4444444444444444,
              "#bd3786"
             ],
             [
              0.5555555555555556,
              "#d8576b"
             ],
             [
              0.6666666666666666,
              "#ed7953"
             ],
             [
              0.7777777777777778,
              "#fb9f3a"
             ],
             [
              0.8888888888888888,
              "#fdca26"
             ],
             [
              1.0,
              "#f0f921"
             ]
            ]
           }
          ],
          "mesh3d": [
           {
            "type": "mesh3d",
            "colorbar": {
             "outlinewidth": 0,
             "ticks": ""
            }
           }
          ],
          "scatter": [
           {
            "marker": {
             "line": {
              "color": "#283442"
             }
            },
            "type": "scatter"
           }
          ],
          "parcoords": [
           {
            "type": "parcoords",
            "line": {
             "colorbar": {
              "outlinewidth": 0,
              "ticks": ""
             }
            }
           }
          ],
          "scatterpolargl": [
           {
            "type": "scatterpolargl",
            "marker": {
             "colorbar": {
              "outlinewidth": 0,
              "ticks": ""
             }
            }
           }
          ],
          "bar": [
           {
            "error_x": {
             "color": "#f2f5fa"
            },
            "error_y": {
             "color": "#f2f5fa"
            },
            "marker": {
             "line": {
              "color": "rgb(17,17,17)",
              "width": 0.5
             },
             "pattern": {
              "fillmode": "overlay",
              "size": 10,
              "solidity": 0.2
             }
            },
            "type": "bar"
           }
          ],
          "scattergeo": [
           {
            "type": "scattergeo",
            "marker": {
             "colorbar": {
              "outlinewidth": 0,
              "ticks": ""
             }
            }
           }
          ],
          "scatterpolar": [
           {
            "type": "scatterpolar",
            "marker": {
             "colorbar": {
              "outlinewidth": 0,
              "ticks": ""
             }
            }
           }
          ],
          "histogram": [
           {
            "marker": {
             "pattern": {
              "fillmode": "overlay",
              "size": 10,
              "solidity": 0.2
             }
            },
            "type": "histogram"
           }
          ],
          "scattergl": [
           {
            "marker": {
             "line": {
              "color": "#283442"
             }
            },
            "type": "scattergl"
           }
          ],
          "scatter3d": [
           {
            "type": "scatter3d",
            "line": {
             "colorbar": {
              "outlinewidth": 0,
              "ticks": ""
             }
            },
            "marker": {
             "colorbar": {
              "outlinewidth": 0,
              "ticks": ""
             }
            }
           }
          ],
          "scattermap": [
           {
            "type": "scattermap",
            "marker": {
             "colorbar": {
              "outlinewidth": 0,
              "ticks": ""
             }
            }
           }
          ],
          "scattermapbox": [
           {
            "type": "scattermapbox",
            "marker": {
             "colorbar": {
              "outlinewidth": 0,
              "ticks": ""
             }
            }
           }
          ],
          "scatterternary": [
           {
            "type": "scatterternary",
            "marker": {
             "colorbar": {
              "outlinewidth": 0,
              "ticks": ""
             }
            }
           }
          ],
          "scattercarpet": [
           {
            "type": "scattercarpet",
            "marker": {
             "colorbar": {
              "outlinewidth": 0,
              "ticks": ""
             }
            }
           }
          ],
          "carpet": [
           {
            "aaxis": {
             "endlinecolor": "#A2B1C6",
             "gridcolor": "#506784",
             "linecolor": "#506784",
             "minorgridcolor": "#506784",
             "startlinecolor": "#A2B1C6"
            },
            "baxis": {
             "endlinecolor": "#A2B1C6",
             "gridcolor": "#506784",
             "linecolor": "#506784",
             "minorgridcolor": "#506784",
             "startlinecolor": "#A2B1C6"
            },
            "type": "carpet"
           }
          ],
          "table": [
           {
            "cells": {
             "fill": {
              "color": "#506784"
             },
             "line": {
              "color": "rgb(17,17,17)"
             }
            },
            "header": {
             "fill": {
              "color": "#2a3f5f"
             },
             "line": {
              "color": "rgb(17,17,17)"
             }
            },
            "type": "table"
           }
          ],
          "barpolar": [
           {
            "marker": {
             "line": {
              "color": "rgb(17,17,17)",
              "width": 0.5
             },
             "pattern": {
              "fillmode": "overlay",
              "size": 10,
              "solidity": 0.2
             }
            },
            "type": "barpolar"
           }
          ],
          "pie": [
           {
            "automargin": true,
            "type": "pie"
           }
          ]
         },
         "layout": {
          "autotypenumbers": "strict",
          "colorway": [
           "#636efa",
           "#EF553B",
           "#00cc96",
           "#ab63fa",
           "#FFA15A",
           "#19d3f3",
           "#FF6692",
           "#B6E880",
           "#FF97FF",
           "#FECB52"
          ],
          "font": {
           "color": "#f2f5fa"
          },
          "hovermode": "closest",
          "hoverlabel": {
           "align": "left"
          },
          "paper_bgcolor": "rgb(17,17,17)",
          "plot_bgcolor": "rgb(17,17,17)",
          "polar": {
           "bgcolor": "rgb(17,17,17)",
           "angularaxis": {
            "gridcolor": "#506784",
            "linecolor": "#506784",
            "ticks": ""
           },
           "radialaxis": {
            "gridcolor": "#506784",
            "linecolor": "#506784",
            "ticks": ""
           }
          },
          "ternary": {
           "bgcolor": "rgb(17,17,17)",
           "aaxis": {
            "gridcolor": "#506784",
            "linecolor": "#506784",
            "ticks": ""
           },
           "baxis": {
            "gridcolor": "#506784",
            "linecolor": "#506784",
            "ticks": ""
           },
           "caxis": {
            "gridcolor": "#506784",
            "linecolor": "#506784",
            "ticks": ""
           }
          },
          "coloraxis": {
           "colorbar": {
            "outlinewidth": 0,
            "ticks": ""
           }
          },
          "colorscale": {
           "sequential": [
            [
             0.0,
             "#0d0887"
            ],
            [
             0.1111111111111111,
             "#46039f"
            ],
            [
             0.2222222222222222,
             "#7201a8"
            ],
            [
             0.3333333333333333,
             "#9c179e"
            ],
            [
             0.4444444444444444,
             "#bd3786"
            ],
            [
             0.5555555555555556,
             "#d8576b"
            ],
            [
             0.6666666666666666,
             "#ed7953"
            ],
            [
             0.7777777777777778,
             "#fb9f3a"
            ],
            [
             0.8888888888888888,
             "#fdca26"
            ],
            [
             1.0,
             "#f0f921"
            ]
           ],
           "sequentialminus": [
            [
             0.0,
             "#0d0887"
            ],
            [
             0.1111111111111111,
             "#46039f"
            ],
            [
             0.2222222222222222,
             "#7201a8"
            ],
            [
             0.3333333333333333,
             "#9c179e"
            ],
            [
             0.4444444444444444,
             "#bd3786"
            ],
            [
             0.5555555555555556,
             "#d8576b"
            ],
            [
             0.6666666666666666,
             "#ed7953"
            ],
            [
             0.7777777777777778,
             "#fb9f3a"
            ],
            [
             0.8888888888888888,
             "#fdca26"
            ],
            [
             1.0,
             "#f0f921"
            ]
           ],
           "diverging": [
            [
             0,
             "#8e0152"
            ],
            [
             0.1,
             "#c51b7d"
            ],
            [
             0.2,
             "#de77ae"
            ],
            [
             0.3,
             "#f1b6da"
            ],
            [
             0.4,
             "#fde0ef"
            ],
            [
             0.5,
             "#f7f7f7"
            ],
            [
             0.6,
             "#e6f5d0"
            ],
            [
             0.7,
             "#b8e186"
            ],
            [
             0.8,
             "#7fbc41"
            ],
            [
             0.9,
             "#4d9221"
            ],
            [
             1,
             "#276419"
            ]
           ]
          },
          "xaxis": {
           "gridcolor": "#283442",
           "linecolor": "#506784",
           "ticks": "",
           "title": {
            "standoff": 15
           },
           "zerolinecolor": "#283442",
           "automargin": true,
           "zerolinewidth": 2
          },
          "yaxis": {
           "gridcolor": "#283442",
           "linecolor": "#506784",
           "ticks": "",
           "title": {
            "standoff": 15
           },
           "zerolinecolor": "#283442",
           "automargin": true,
           "zerolinewidth": 2
          },
          "scene": {
           "xaxis": {
            "backgroundcolor": "rgb(17,17,17)",
            "gridcolor": "#506784",
            "linecolor": "#506784",
            "showbackground": true,
            "ticks": "",
            "zerolinecolor": "#C8D4E3",
            "gridwidth": 2
           },
           "yaxis": {
            "backgroundcolor": "rgb(17,17,17)",
            "gridcolor": "#506784",
            "linecolor": "#506784",
            "showbackground": true,
            "ticks": "",
            "zerolinecolor": "#C8D4E3",
            "gridwidth": 2
           },
           "zaxis": {
            "backgroundcolor": "rgb(17,17,17)",
            "gridcolor": "#506784",
            "linecolor": "#506784",
            "showbackground": true,
            "ticks": "",
            "zerolinecolor": "#C8D4E3",
            "gridwidth": 2
           }
          },
          "shapedefaults": {
           "line": {
            "color": "#f2f5fa"
           }
          },
          "annotationdefaults": {
           "arrowcolor": "#f2f5fa",
           "arrowhead": 0,
           "arrowwidth": 1
          },
          "geo": {
           "bgcolor": "rgb(17,17,17)",
           "landcolor": "rgb(17,17,17)",
           "subunitcolor": "#506784",
           "showland": true,
           "showlakes": true,
           "lakecolor": "rgb(17,17,17)"
          },
          "title": {
           "x": 0.05
          },
          "updatemenudefaults": {
           "bgcolor": "#506784",
           "borderwidth": 0
          },
          "sliderdefaults": {
           "bgcolor": "#C8D4E3",
           "borderwidth": 1,
           "bordercolor": "rgb(17,17,17)",
           "tickwidth": 0
          },
          "mapbox": {
           "style": "dark"
          }
         }
        },
        "barmode": "group",
        "title": {
         "text": "VisitorType Distribution"
        },
        "yaxis": {
         "title": {
          "text": "Count"
         }
        },
        "xaxis": {
         "title": {
          "text": "VisitorType"
         }
        }
       },
       "config": {
        "plotlyServerURL": "https://plot.ly"
       }
      }
     },
     "metadata": {},
     "output_type": "display_data"
    },
    {
     "data": {
      "application/vnd.plotly.v1+json": {
       "data": [
        {
         "name": "Browser 13",
         "x": {
          "dtype": "i1",
          "bdata": "AQIDBAUGBwgJ"
         },
         "y": {
          "dtype": "f8",
          "bdata": "AAAAAAAA+H8AAAAAAAD4fwAAAAAAAPh/AAAAAAAA+H8AAAAAAAD4fwAAAAAAAPh/AAAAAAAA+H8AAAAAAAD4fwAAAAAAAPA/"
         },
         "type": "bar"
        },
        {
         "name": "Other browsers",
         "x": {
          "dtype": "i1",
          "bdata": "AQIDBAUGBwgJ"
         },
         "y": {
          "dtype": "f8",
          "bdata": "fyaXBDTv2D9Ka1KaDLS3P2ULlm3sEck/tVyZMsOpuD/0gux9gYqaP8OA2Wj7y7A/3Jeaa+fBrz8itZOdgByiP3d+P/Fux6I/"
         },
         "type": "bar"
        }
       ],
       "layout": {
        "template": {
         "data": {
          "histogram2dcontour": [
           {
            "type": "histogram2dcontour",
            "colorbar": {
             "outlinewidth": 0,
             "ticks": ""
            },
            "colorscale": [
             [
              0.0,
              "#0d0887"
             ],
             [
              0.1111111111111111,
              "#46039f"
             ],
             [
              0.2222222222222222,
              "#7201a8"
             ],
             [
              0.3333333333333333,
              "#9c179e"
             ],
             [
              0.4444444444444444,
              "#bd3786"
             ],
             [
              0.5555555555555556,
              "#d8576b"
             ],
             [
              0.6666666666666666,
              "#ed7953"
             ],
             [
              0.7777777777777778,
              "#fb9f3a"
             ],
             [
              0.8888888888888888,
              "#fdca26"
             ],
             [
              1.0,
              "#f0f921"
             ]
            ]
           }
          ],
          "choropleth": [
           {
            "type": "choropleth",
            "colorbar": {
             "outlinewidth": 0,
             "ticks": ""
            }
           }
          ],
          "histogram2d": [
           {
            "type": "histogram2d",
            "colorbar": {
             "outlinewidth": 0,
             "ticks": ""
            },
            "colorscale": [
             [
              0.0,
              "#0d0887"
             ],
             [
              0.1111111111111111,
              "#46039f"
             ],
             [
              0.2222222222222222,
              "#7201a8"
             ],
             [
              0.3333333333333333,
              "#9c179e"
             ],
             [
              0.4444444444444444,
              "#bd3786"
             ],
             [
              0.5555555555555556,
              "#d8576b"
             ],
             [
              0.6666666666666666,
              "#ed7953"
             ],
             [
              0.7777777777777778,
              "#fb9f3a"
             ],
             [
              0.8888888888888888,
              "#fdca26"
             ],
             [
              1.0,
              "#f0f921"
             ]
            ]
           }
          ],
          "heatmap": [
           {
            "type": "heatmap",
            "colorbar": {
             "outlinewidth": 0,
             "ticks": ""
            },
            "colorscale": [
             [
              0.0,
              "#0d0887"
             ],
             [
              0.1111111111111111,
              "#46039f"
             ],
             [
              0.2222222222222222,
              "#7201a8"
             ],
             [
              0.3333333333333333,
              "#9c179e"
             ],
             [
              0.4444444444444444,
              "#bd3786"
             ],
             [
              0.5555555555555556,
              "#d8576b"
             ],
             [
              0.6666666666666666,
              "#ed7953"
             ],
             [
              0.7777777777777778,
              "#fb9f3a"
             ],
             [
              0.8888888888888888,
              "#fdca26"
             ],
             [
              1.0,
              "#f0f921"
             ]
            ]
           }
          ],
          "contourcarpet": [
           {
            "type": "contourcarpet",
            "colorbar": {
             "outlinewidth": 0,
             "ticks": ""
            }
           }
          ],
          "contour": [
           {
            "type": "contour",
            "colorbar": {
             "outlinewidth": 0,
             "ticks": ""
            },
            "colorscale": [
             [
              0.0,
              "#0d0887"
             ],
             [
              0.1111111111111111,
              "#46039f"
             ],
             [
              0.2222222222222222,
              "#7201a8"
             ],
             [
              0.3333333333333333,
              "#9c179e"
             ],
             [
              0.4444444444444444,
              "#bd3786"
             ],
             [
              0.5555555555555556,
              "#d8576b"
             ],
             [
              0.6666666666666666,
              "#ed7953"
             ],
             [
              0.7777777777777778,
              "#fb9f3a"
             ],
             [
              0.8888888888888888,
              "#fdca26"
             ],
             [
              1.0,
              "#f0f921"
             ]
            ]
           }
          ],
          "surface": [
           {
            "type": "surface",
            "colorbar": {
             "outlinewidth": 0,
             "ticks": ""
            },
            "colorscale": [
             [
              0.0,
              "#0d0887"
             ],
             [
              0.1111111111111111,
              "#46039f"
             ],
             [
              0.2222222222222222,
              "#7201a8"
             ],
             [
              0.3333333333333333,
              "#9c179e"
             ],
             [
              0.4444444444444444,
              "#bd3786"
             ],
             [
              0.5555555555555556,
              "#d8576b"
             ],
             [
              0.6666666666666666,
              "#ed7953"
             ],
             [
              0.7777777777777778,
              "#fb9f3a"
             ],
             [
              0.8888888888888888,
              "#fdca26"
             ],
             [
              1.0,
              "#f0f921"
             ]
            ]
           }
          ],
          "mesh3d": [
           {
            "type": "mesh3d",
            "colorbar": {
             "outlinewidth": 0,
             "ticks": ""
            }
           }
          ],
          "scatter": [
           {
            "marker": {
             "line": {
              "color": "#283442"
             }
            },
            "type": "scatter"
           }
          ],
          "parcoords": [
           {
            "type": "parcoords",
            "line": {
             "colorbar": {
              "outlinewidth": 0,
              "ticks": ""
             }
            }
           }
          ],
          "scatterpolargl": [
           {
            "type": "scatterpolargl",
            "marker": {
             "colorbar": {
              "outlinewidth": 0,
              "ticks": ""
             }
            }
           }
          ],
          "bar": [
           {
            "error_x": {
             "color": "#f2f5fa"
            },
            "error_y": {
             "color": "#f2f5fa"
            },
            "marker": {
             "line": {
              "color": "rgb(17,17,17)",
              "width": 0.5
             },
             "pattern": {
              "fillmode": "overlay",
              "size": 10,
              "solidity": 0.2
             }
            },
            "type": "bar"
           }
          ],
          "scattergeo": [
           {
            "type": "scattergeo",
            "marker": {
             "colorbar": {
              "outlinewidth": 0,
              "ticks": ""
             }
            }
           }
          ],
          "scatterpolar": [
           {
            "type": "scatterpolar",
            "marker": {
             "colorbar": {
              "outlinewidth": 0,
              "ticks": ""
             }
            }
           }
          ],
          "histogram": [
           {
            "marker": {
             "pattern": {
              "fillmode": "overlay",
              "size": 10,
              "solidity": 0.2
             }
            },
            "type": "histogram"
           }
          ],
          "scattergl": [
           {
            "marker": {
             "line": {
              "color": "#283442"
             }
            },
            "type": "scattergl"
           }
          ],
          "scatter3d": [
           {
            "type": "scatter3d",
            "line": {
             "colorbar": {
              "outlinewidth": 0,
              "ticks": ""
             }
            },
            "marker": {
             "colorbar": {
              "outlinewidth": 0,
              "ticks": ""
             }
            }
           }
          ],
          "scattermap": [
           {
            "type": "scattermap",
            "marker": {
             "colorbar": {
              "outlinewidth": 0,
              "ticks": ""
             }
            }
           }
          ],
          "scattermapbox": [
           {
            "type": "scattermapbox",
            "marker": {
             "colorbar": {
              "outlinewidth": 0,
              "ticks": ""
             }
            }
           }
          ],
          "scatterternary": [
           {
            "type": "scatterternary",
            "marker": {
             "colorbar": {
              "outlinewidth": 0,
              "ticks": ""
             }
            }
           }
          ],
          "scattercarpet": [
           {
            "type": "scattercarpet",
            "marker": {
             "colorbar": {
              "outlinewidth": 0,
              "ticks": ""
             }
            }
           }
          ],
          "carpet": [
           {
            "aaxis": {
             "endlinecolor": "#A2B1C6",
             "gridcolor": "#506784",
             "linecolor": "#506784",
             "minorgridcolor": "#506784",
             "startlinecolor": "#A2B1C6"
            },
            "baxis": {
             "endlinecolor": "#A2B1C6",
             "gridcolor": "#506784",
             "linecolor": "#506784",
             "minorgridcolor": "#506784",
             "startlinecolor": "#A2B1C6"
            },
            "type": "carpet"
           }
          ],
          "table": [
           {
            "cells": {
             "fill": {
              "color": "#506784"
             },
             "line": {
              "color": "rgb(17,17,17)"
             }
            },
            "header": {
             "fill": {
              "color": "#2a3f5f"
             },
             "line": {
              "color": "rgb(17,17,17)"
             }
            },
            "type": "table"
           }
          ],
          "barpolar": [
           {
            "marker": {
             "line": {
              "color": "rgb(17,17,17)",
              "width": 0.5
             },
             "pattern": {
              "fillmode": "overlay",
              "size": 10,
              "solidity": 0.2
             }
            },
            "type": "barpolar"
           }
          ],
          "pie": [
           {
            "automargin": true,
            "type": "pie"
           }
          ]
         },
         "layout": {
          "autotypenumbers": "strict",
          "colorway": [
           "#636efa",
           "#EF553B",
           "#00cc96",
           "#ab63fa",
           "#FFA15A",
           "#19d3f3",
           "#FF6692",
           "#B6E880",
           "#FF97FF",
           "#FECB52"
          ],
          "font": {
           "color": "#f2f5fa"
          },
          "hovermode": "closest",
          "hoverlabel": {
           "align": "left"
          },
          "paper_bgcolor": "rgb(17,17,17)",
          "plot_bgcolor": "rgb(17,17,17)",
          "polar": {
           "bgcolor": "rgb(17,17,17)",
           "angularaxis": {
            "gridcolor": "#506784",
            "linecolor": "#506784",
            "ticks": ""
           },
           "radialaxis": {
            "gridcolor": "#506784",
            "linecolor": "#506784",
            "ticks": ""
           }
          },
          "ternary": {
           "bgcolor": "rgb(17,17,17)",
           "aaxis": {
            "gridcolor": "#506784",
            "linecolor": "#506784",
            "ticks": ""
           },
           "baxis": {
            "gridcolor": "#506784",
            "linecolor": "#506784",
            "ticks": ""
           },
           "caxis": {
            "gridcolor": "#506784",
            "linecolor": "#506784",
            "ticks": ""
           }
          },
          "coloraxis": {
           "colorbar": {
            "outlinewidth": 0,
            "ticks": ""
           }
          },
          "colorscale": {
           "sequential": [
            [
             0.0,
             "#0d0887"
            ],
            [
             0.1111111111111111,
             "#46039f"
            ],
            [
             0.2222222222222222,
             "#7201a8"
            ],
            [
             0.3333333333333333,
             "#9c179e"
            ],
            [
             0.4444444444444444,
             "#bd3786"
            ],
            [
             0.5555555555555556,
             "#d8576b"
            ],
            [
             0.6666666666666666,
             "#ed7953"
            ],
            [
             0.7777777777777778,
             "#fb9f3a"
            ],
            [
             0.8888888888888888,
             "#fdca26"
            ],
            [
             1.0,
             "#f0f921"
            ]
           ],
           "sequentialminus": [
            [
             0.0,
             "#0d0887"
            ],
            [
             0.1111111111111111,
             "#46039f"
            ],
            [
             0.2222222222222222,
             "#7201a8"
            ],
            [
             0.3333333333333333,
             "#9c179e"
            ],
            [
             0.4444444444444444,
             "#bd3786"
            ],
            [
             0.5555555555555556,
             "#d8576b"
            ],
            [
             0.6666666666666666,
             "#ed7953"
            ],
            [
             0.7777777777777778,
             "#fb9f3a"
            ],
            [
             0.8888888888888888,
             "#fdca26"
            ],
            [
             1.0,
             "#f0f921"
            ]
           ],
           "diverging": [
            [
             0,
             "#8e0152"
            ],
            [
             0.1,
             "#c51b7d"
            ],
            [
             0.2,
             "#de77ae"
            ],
            [
             0.3,
             "#f1b6da"
            ],
            [
             0.4,
             "#fde0ef"
            ],
            [
             0.5,
             "#f7f7f7"
            ],
            [
             0.6,
             "#e6f5d0"
            ],
            [
             0.7,
             "#b8e186"
            ],
            [
             0.8,
             "#7fbc41"
            ],
            [
             0.9,
             "#4d9221"
            ],
            [
             1,
             "#276419"
            ]
           ]
          },
          "xaxis": {
           "gridcolor": "#283442",
           "linecolor": "#506784",
           "ticks": "",
           "title": {
            "standoff": 15
           },
           "zerolinecolor": "#283442",
           "automargin": true,
           "zerolinewidth": 2
          },
          "yaxis": {
           "gridcolor": "#283442",
           "linecolor": "#506784",
           "ticks": "",
           "title": {
            "standoff": 15
           },
           "zerolinecolor": "#283442",
           "automargin": true,
           "zerolinewidth": 2
          },
          "scene": {
           "xaxis": {
            "backgroundcolor": "rgb(17,17,17)",
            "gridcolor": "#506784",
            "linecolor": "#506784",
            "showbackground": true,
            "ticks": "",
            "zerolinecolor": "#C8D4E3",
            "gridwidth": 2
           },
           "yaxis": {
            "backgroundcolor": "rgb(17,17,17)",
            "gridcolor": "#506784",
            "linecolor": "#506784",
            "showbackground": true,
            "ticks": "",
            "zerolinecolor": "#C8D4E3",
            "gridwidth": 2
           },
           "zaxis": {
            "backgroundcolor": "rgb(17,17,17)",
            "gridcolor": "#506784",
            "linecolor": "#506784",
            "showbackground": true,
            "ticks": "",
            "zerolinecolor": "#C8D4E3",
            "gridwidth": 2
           }
          },
          "shapedefaults": {
           "line": {
            "color": "#f2f5fa"
           }
          },
          "annotationdefaults": {
           "arrowcolor": "#f2f5fa",
           "arrowhead": 0,
           "arrowwidth": 1
          },
          "geo": {
           "bgcolor": "rgb(17,17,17)",
           "landcolor": "rgb(17,17,17)",
           "subunitcolor": "#506784",
           "showland": true,
           "showlakes": true,
           "lakecolor": "rgb(17,17,17)"
          },
          "title": {
           "x": 0.05
          },
          "updatemenudefaults": {
           "bgcolor": "#506784",
           "borderwidth": 0
          },
          "sliderdefaults": {
           "bgcolor": "#C8D4E3",
           "borderwidth": 1,
           "bordercolor": "rgb(17,17,17)",
           "tickwidth": 0
          },
          "mapbox": {
           "style": "dark"
          }
         }
        },
        "barmode": "group",
        "title": {
         "text": "Region Distribution"
        },
        "yaxis": {
         "title": {
          "text": "Count"
         }
        },
        "xaxis": {
         "title": {
          "text": "Region"
         }
        }
       },
       "config": {
        "plotlyServerURL": "https://plot.ly"
       }
      }
     },
     "metadata": {},
     "output_type": "display_data"
    },
    {
     "data": {
      "application/vnd.plotly.v1+json": {
       "data": [
        {
         "name": "Browser 13",
         "x": [
          "Aug",
          "Dec",
          "Feb",
          "Jul",
          "June",
          "Mar",
          "May",
          "Nov",
          "Oct",
          "Sep"
         ],
         "y": {
          "dtype": "f8",
          "bdata": "AAAAAAAA+H/nfYpLhmDtPwAAAAAAAPh/AAAAAAAA+H872rxPccmQPwAAAAAAAPh/AAAAAAAA+H872rxPccmwPwAAAAAAAPh/AAAAAAAA+H8="
         },
         "type": "bar"
        },
        {
         "name": "Other browsers",
         "x": [
          "Aug",
          "Dec",
          "Feb",
          "Jul",
          "June",
          "Mar",
          "May",
          "Nov",
          "Oct",
          "Sep"
         ],
         "y": {
          "dtype": "f8",
          "bdata": "jfhYuNERoj+oPJmQ5m7BP0ct3gjTto4/+Dse0yIHoj/K1rL5JfSXPxKzImU15cM/Q8P6hkeM0T+SYjw6XTzPPzVs9pYR6aY/TQXKJhGyoj8="
         },
         "type": "bar"
        }
       ],
       "layout": {
        "template": {
         "data": {
          "histogram2dcontour": [
           {
            "type": "histogram2dcontour",
            "colorbar": {
             "outlinewidth": 0,
             "ticks": ""
            },
            "colorscale": [
             [
              0.0,
              "#0d0887"
             ],
             [
              0.1111111111111111,
              "#46039f"
             ],
             [
              0.2222222222222222,
              "#7201a8"
             ],
             [
              0.3333333333333333,
              "#9c179e"
             ],
             [
              0.4444444444444444,
              "#bd3786"
             ],
             [
              0.5555555555555556,
              "#d8576b"
             ],
             [
              0.6666666666666666,
              "#ed7953"
             ],
             [
              0.7777777777777778,
              "#fb9f3a"
             ],
             [
              0.8888888888888888,
              "#fdca26"
             ],
             [
              1.0,
              "#f0f921"
             ]
            ]
           }
          ],
          "choropleth": [
           {
            "type": "choropleth",
            "colorbar": {
             "outlinewidth": 0,
             "ticks": ""
            }
           }
          ],
          "histogram2d": [
           {
            "type": "histogram2d",
            "colorbar": {
             "outlinewidth": 0,
             "ticks": ""
            },
            "colorscale": [
             [
              0.0,
              "#0d0887"
             ],
             [
              0.1111111111111111,
              "#46039f"
             ],
             [
              0.2222222222222222,
              "#7201a8"
             ],
             [
              0.3333333333333333,
              "#9c179e"
             ],
             [
              0.4444444444444444,
              "#bd3786"
             ],
             [
              0.5555555555555556,
              "#d8576b"
             ],
             [
              0.6666666666666666,
              "#ed7953"
             ],
             [
              0.7777777777777778,
              "#fb9f3a"
             ],
             [
              0.8888888888888888,
              "#fdca26"
             ],
             [
              1.0,
              "#f0f921"
             ]
            ]
           }
          ],
          "heatmap": [
           {
            "type": "heatmap",
            "colorbar": {
             "outlinewidth": 0,
             "ticks": ""
            },
            "colorscale": [
             [
              0.0,
              "#0d0887"
             ],
             [
              0.1111111111111111,
              "#46039f"
             ],
             [
              0.2222222222222222,
              "#7201a8"
             ],
             [
              0.3333333333333333,
              "#9c179e"
             ],
             [
              0.4444444444444444,
              "#bd3786"
             ],
             [
              0.5555555555555556,
              "#d8576b"
             ],
             [
              0.6666666666666666,
              "#ed7953"
             ],
             [
              0.7777777777777778,
              "#fb9f3a"
             ],
             [
              0.8888888888888888,
              "#fdca26"
             ],
             [
              1.0,
              "#f0f921"
             ]
            ]
           }
          ],
          "contourcarpet": [
           {
            "type": "contourcarpet",
            "colorbar": {
             "outlinewidth": 0,
             "ticks": ""
            }
           }
          ],
          "contour": [
           {
            "type": "contour",
            "colorbar": {
             "outlinewidth": 0,
             "ticks": ""
            },
            "colorscale": [
             [
              0.0,
              "#0d0887"
             ],
             [
              0.1111111111111111,
              "#46039f"
             ],
             [
              0.2222222222222222,
              "#7201a8"
             ],
             [
              0.3333333333333333,
              "#9c179e"
             ],
             [
              0.4444444444444444,
              "#bd3786"
             ],
             [
              0.5555555555555556,
              "#d8576b"
             ],
             [
              0.6666666666666666,
              "#ed7953"
             ],
             [
              0.7777777777777778,
              "#fb9f3a"
             ],
             [
              0.8888888888888888,
              "#fdca26"
             ],
             [
              1.0,
              "#f0f921"
             ]
            ]
           }
          ],
          "surface": [
           {
            "type": "surface",
            "colorbar": {
             "outlinewidth": 0,
             "ticks": ""
            },
            "colorscale": [
             [
              0.0,
              "#0d0887"
             ],
             [
              0.1111111111111111,
              "#46039f"
             ],
             [
              0.2222222222222222,
              "#7201a8"
             ],
             [
              0.3333333333333333,
              "#9c179e"
             ],
             [
              0.4444444444444444,
              "#bd3786"
             ],
             [
              0.5555555555555556,
              "#d8576b"
             ],
             [
              0.6666666666666666,
              "#ed7953"
             ],
             [
              0.7777777777777778,
              "#fb9f3a"
             ],
             [
              0.8888888888888888,
              "#fdca26"
             ],
             [
              1.0,
              "#f0f921"
             ]
            ]
           }
          ],
          "mesh3d": [
           {
            "type": "mesh3d",
            "colorbar": {
             "outlinewidth": 0,
             "ticks": ""
            }
           }
          ],
          "scatter": [
           {
            "marker": {
             "line": {
              "color": "#283442"
             }
            },
            "type": "scatter"
           }
          ],
          "parcoords": [
           {
            "type": "parcoords",
            "line": {
             "colorbar": {
              "outlinewidth": 0,
              "ticks": ""
             }
            }
           }
          ],
          "scatterpolargl": [
           {
            "type": "scatterpolargl",
            "marker": {
             "colorbar": {
              "outlinewidth": 0,
              "ticks": ""
             }
            }
           }
          ],
          "bar": [
           {
            "error_x": {
             "color": "#f2f5fa"
            },
            "error_y": {
             "color": "#f2f5fa"
            },
            "marker": {
             "line": {
              "color": "rgb(17,17,17)",
              "width": 0.5
             },
             "pattern": {
              "fillmode": "overlay",
              "size": 10,
              "solidity": 0.2
             }
            },
            "type": "bar"
           }
          ],
          "scattergeo": [
           {
            "type": "scattergeo",
            "marker": {
             "colorbar": {
              "outlinewidth": 0,
              "ticks": ""
             }
            }
           }
          ],
          "scatterpolar": [
           {
            "type": "scatterpolar",
            "marker": {
             "colorbar": {
              "outlinewidth": 0,
              "ticks": ""
             }
            }
           }
          ],
          "histogram": [
           {
            "marker": {
             "pattern": {
              "fillmode": "overlay",
              "size": 10,
              "solidity": 0.2
             }
            },
            "type": "histogram"
           }
          ],
          "scattergl": [
           {
            "marker": {
             "line": {
              "color": "#283442"
             }
            },
            "type": "scattergl"
           }
          ],
          "scatter3d": [
           {
            "type": "scatter3d",
            "line": {
             "colorbar": {
              "outlinewidth": 0,
              "ticks": ""
             }
            },
            "marker": {
             "colorbar": {
              "outlinewidth": 0,
              "ticks": ""
             }
            }
           }
          ],
          "scattermap": [
           {
            "type": "scattermap",
            "marker": {
             "colorbar": {
              "outlinewidth": 0,
              "ticks": ""
             }
            }
           }
          ],
          "scattermapbox": [
           {
            "type": "scattermapbox",
            "marker": {
             "colorbar": {
              "outlinewidth": 0,
              "ticks": ""
             }
            }
           }
          ],
          "scatterternary": [
           {
            "type": "scatterternary",
            "marker": {
             "colorbar": {
              "outlinewidth": 0,
              "ticks": ""
             }
            }
           }
          ],
          "scattercarpet": [
           {
            "type": "scattercarpet",
            "marker": {
             "colorbar": {
              "outlinewidth": 0,
              "ticks": ""
             }
            }
           }
          ],
          "carpet": [
           {
            "aaxis": {
             "endlinecolor": "#A2B1C6",
             "gridcolor": "#506784",
             "linecolor": "#506784",
             "minorgridcolor": "#506784",
             "startlinecolor": "#A2B1C6"
            },
            "baxis": {
             "endlinecolor": "#A2B1C6",
             "gridcolor": "#506784",
             "linecolor": "#506784",
             "minorgridcolor": "#506784",
             "startlinecolor": "#A2B1C6"
            },
            "type": "carpet"
           }
          ],
          "table": [
           {
            "cells": {
             "fill": {
              "color": "#506784"
             },
             "line": {
              "color": "rgb(17,17,17)"
             }
            },
            "header": {
             "fill": {
              "color": "#2a3f5f"
             },
             "line": {
              "color": "rgb(17,17,17)"
             }
            },
            "type": "table"
           }
          ],
          "barpolar": [
           {
            "marker": {
             "line": {
              "color": "rgb(17,17,17)",
              "width": 0.5
             },
             "pattern": {
              "fillmode": "overlay",
              "size": 10,
              "solidity": 0.2
             }
            },
            "type": "barpolar"
           }
          ],
          "pie": [
           {
            "automargin": true,
            "type": "pie"
           }
          ]
         },
         "layout": {
          "autotypenumbers": "strict",
          "colorway": [
           "#636efa",
           "#EF553B",
           "#00cc96",
           "#ab63fa",
           "#FFA15A",
           "#19d3f3",
           "#FF6692",
           "#B6E880",
           "#FF97FF",
           "#FECB52"
          ],
          "font": {
           "color": "#f2f5fa"
          },
          "hovermode": "closest",
          "hoverlabel": {
           "align": "left"
          },
          "paper_bgcolor": "rgb(17,17,17)",
          "plot_bgcolor": "rgb(17,17,17)",
          "polar": {
           "bgcolor": "rgb(17,17,17)",
           "angularaxis": {
            "gridcolor": "#506784",
            "linecolor": "#506784",
            "ticks": ""
           },
           "radialaxis": {
            "gridcolor": "#506784",
            "linecolor": "#506784",
            "ticks": ""
           }
          },
          "ternary": {
           "bgcolor": "rgb(17,17,17)",
           "aaxis": {
            "gridcolor": "#506784",
            "linecolor": "#506784",
            "ticks": ""
           },
           "baxis": {
            "gridcolor": "#506784",
            "linecolor": "#506784",
            "ticks": ""
           },
           "caxis": {
            "gridcolor": "#506784",
            "linecolor": "#506784",
            "ticks": ""
           }
          },
          "coloraxis": {
           "colorbar": {
            "outlinewidth": 0,
            "ticks": ""
           }
          },
          "colorscale": {
           "sequential": [
            [
             0.0,
             "#0d0887"
            ],
            [
             0.1111111111111111,
             "#46039f"
            ],
            [
             0.2222222222222222,
             "#7201a8"
            ],
            [
             0.3333333333333333,
             "#9c179e"
            ],
            [
             0.4444444444444444,
             "#bd3786"
            ],
            [
             0.5555555555555556,
             "#d8576b"
            ],
            [
             0.6666666666666666,
             "#ed7953"
            ],
            [
             0.7777777777777778,
             "#fb9f3a"
            ],
            [
             0.8888888888888888,
             "#fdca26"
            ],
            [
             1.0,
             "#f0f921"
            ]
           ],
           "sequentialminus": [
            [
             0.0,
             "#0d0887"
            ],
            [
             0.1111111111111111,
             "#46039f"
            ],
            [
             0.2222222222222222,
             "#7201a8"
            ],
            [
             0.3333333333333333,
             "#9c179e"
            ],
            [
             0.4444444444444444,
             "#bd3786"
            ],
            [
             0.5555555555555556,
             "#d8576b"
            ],
            [
             0.6666666666666666,
             "#ed7953"
            ],
            [
             0.7777777777777778,
             "#fb9f3a"
            ],
            [
             0.8888888888888888,
             "#fdca26"
            ],
            [
             1.0,
             "#f0f921"
            ]
           ],
           "diverging": [
            [
             0,
             "#8e0152"
            ],
            [
             0.1,
             "#c51b7d"
            ],
            [
             0.2,
             "#de77ae"
            ],
            [
             0.3,
             "#f1b6da"
            ],
            [
             0.4,
             "#fde0ef"
            ],
            [
             0.5,
             "#f7f7f7"
            ],
            [
             0.6,
             "#e6f5d0"
            ],
            [
             0.7,
             "#b8e186"
            ],
            [
             0.8,
             "#7fbc41"
            ],
            [
             0.9,
             "#4d9221"
            ],
            [
             1,
             "#276419"
            ]
           ]
          },
          "xaxis": {
           "gridcolor": "#283442",
           "linecolor": "#506784",
           "ticks": "",
           "title": {
            "standoff": 15
           },
           "zerolinecolor": "#283442",
           "automargin": true,
           "zerolinewidth": 2
          },
          "yaxis": {
           "gridcolor": "#283442",
           "linecolor": "#506784",
           "ticks": "",
           "title": {
            "standoff": 15
           },
           "zerolinecolor": "#283442",
           "automargin": true,
           "zerolinewidth": 2
          },
          "scene": {
           "xaxis": {
            "backgroundcolor": "rgb(17,17,17)",
            "gridcolor": "#506784",
            "linecolor": "#506784",
            "showbackground": true,
            "ticks": "",
            "zerolinecolor": "#C8D4E3",
            "gridwidth": 2
           },
           "yaxis": {
            "backgroundcolor": "rgb(17,17,17)",
            "gridcolor": "#506784",
            "linecolor": "#506784",
            "showbackground": true,
            "ticks": "",
            "zerolinecolor": "#C8D4E3",
            "gridwidth": 2
           },
           "zaxis": {
            "backgroundcolor": "rgb(17,17,17)",
            "gridcolor": "#506784",
            "linecolor": "#506784",
            "showbackground": true,
            "ticks": "",
            "zerolinecolor": "#C8D4E3",
            "gridwidth": 2
           }
          },
          "shapedefaults": {
           "line": {
            "color": "#f2f5fa"
           }
          },
          "annotationdefaults": {
           "arrowcolor": "#f2f5fa",
           "arrowhead": 0,
           "arrowwidth": 1
          },
          "geo": {
           "bgcolor": "rgb(17,17,17)",
           "landcolor": "rgb(17,17,17)",
           "subunitcolor": "#506784",
           "showland": true,
           "showlakes": true,
           "lakecolor": "rgb(17,17,17)"
          },
          "title": {
           "x": 0.05
          },
          "updatemenudefaults": {
           "bgcolor": "#506784",
           "borderwidth": 0
          },
          "sliderdefaults": {
           "bgcolor": "#C8D4E3",
           "borderwidth": 1,
           "bordercolor": "rgb(17,17,17)",
           "tickwidth": 0
          },
          "mapbox": {
           "style": "dark"
          }
         }
        },
        "barmode": "group",
        "title": {
         "text": "Month Distribution"
        },
        "yaxis": {
         "title": {
          "text": "Count"
         }
        },
        "xaxis": {
         "title": {
          "text": "Month"
         }
        }
       },
       "config": {
        "plotlyServerURL": "https://plot.ly"
       }
      }
     },
     "metadata": {},
     "output_type": "display_data"
    }
   ],
   "execution_count": 44
  },
  {
   "cell_type": "markdown",
   "id": "e1d6f54fce662810",
   "metadata": {},
   "source": [
    "Task 2"
   ]
  },
  {
   "cell_type": "code",
   "id": "b3be118550c59a04",
   "metadata": {
    "ExecuteTime": {
     "end_time": "2025-09-24T14:36:41.483510Z",
     "start_time": "2025-09-24T14:36:41.393307Z"
    }
   },
   "source": [
    "#Prepositioning op basis van algoritmes in task 3\n",
    "# Preprocess by changing all string types to an integer\n",
    "def to_num(x):\n",
    "    data = {\n",
    "        \"Jan\": 1, \"Feb\": 2, \"Mar\": 3, \"Apr\": 4,\n",
    "        \"May\": 5, \"June\": 6, \"Jul\": 7, \"Aug\": 8,\n",
    "        \"Sep\": 9, \"Oct\": 10, \"Nov\": 11, \"Dec\": 12, \n",
    "        \"Returning_Visitor\": 1, \"Old_Visitor\": 2, \"New_Visitor\": 3, \"Other\": 4, \n",
    "        True: 1, False: 0\n",
    "    }\n",
    "    if x not in data:\n",
    "        raise ValueError(f\"Invalid month string: {x}\")\n",
    "    return data[x]\n",
    "\n",
    "preprocessed = (frame.copy().dropna()) # dropna() is added here for a case where the dataset would include missing values, but does nothing with the original dataset as it does not contain any\n",
    "# converts strings and booleans to numbers\n",
    "columns = ['Month', 'VisitorType', 'Weekend', 'Revenue']\n",
    "for column in columns:\n",
    "    addlist = []\n",
    "    for i, j in enumerate(preprocessed[column]):\n",
    "        addlist.append(to_num(j))\n",
    "    preprocessed[column] = addlist\n",
    "\n",
    "preprocessed = (preprocessed-preprocessed.min())/preprocessed.max()-preprocessed.min() # Normalization\n",
    "print(preprocessed)\n"
   ],
   "outputs": [
    {
     "name": "stdout",
     "output_type": "stream",
     "text": [
      "       Administrative  Administrative_Duration  Informational  \\\n",
      "0            0.000000                 0.000000            0.0   \n",
      "1            0.000000                 0.000000            0.0   \n",
      "2            0.000000                 0.000000            0.0   \n",
      "3            0.000000                 0.000000            0.0   \n",
      "4            0.000000                 0.000000            0.0   \n",
      "...               ...                      ...            ...   \n",
      "12325        0.111111                 0.042663            0.0   \n",
      "12326        0.000000                 0.000000            0.0   \n",
      "12327        0.000000                 0.000000            0.0   \n",
      "12328        0.148148                 0.022067            0.0   \n",
      "12329        0.000000                 0.000000            0.0   \n",
      "\n",
      "       Informational_Duration  ProductRelated  ProductRelated_Duration  \\\n",
      "0                         0.0        0.001418                 0.000000   \n",
      "1                         0.0        0.002837                 0.001000   \n",
      "2                         0.0        0.001418                 0.000000   \n",
      "3                         0.0        0.002837                 0.000042   \n",
      "4                         0.0        0.014184                 0.009809   \n",
      "...                       ...             ...                      ...   \n",
      "12325                     0.0        0.075177                 0.027883   \n",
      "12326                     0.0        0.007092                 0.007280   \n",
      "12327                     0.0        0.008511                 0.002880   \n",
      "12328                     0.0        0.021277                 0.005408   \n",
      "12329                     0.0        0.004255                 0.000332   \n",
      "\n",
      "       BounceRates  ExitRates  PageValues  SpecialDay     Month  \\\n",
      "0         1.000000   1.000000    0.000000         0.0 -2.000000   \n",
      "1         0.000000   0.500000    0.000000         0.0 -2.000000   \n",
      "2         1.000000   1.000000    0.000000         0.0 -2.000000   \n",
      "3         0.250000   0.700000    0.000000         0.0 -2.000000   \n",
      "4         0.100000   0.250000    0.000000         0.0 -2.000000   \n",
      "...            ...        ...         ...         ...       ...   \n",
      "12325     0.035714   0.145153    0.033839         0.0 -1.166667   \n",
      "12326     0.000000   0.106667    0.000000         0.0 -1.250000   \n",
      "12327     0.416667   0.433333    0.000000         0.0 -1.250000   \n",
      "12328     0.000000   0.105263    0.000000         0.0 -1.250000   \n",
      "12329     0.000000   0.333333    0.000000         0.0 -1.250000   \n",
      "\n",
      "       OperatingSystems   Browser    Region  TrafficType  VisitorType  \\\n",
      "0                -1.000 -1.000000 -1.000000        -1.00         -1.0   \n",
      "1                -0.875 -0.923077 -1.000000        -0.95         -1.0   \n",
      "2                -0.625 -1.000000 -0.111111        -0.90         -1.0   \n",
      "3                -0.750 -0.923077 -0.888889        -0.85         -1.0   \n",
      "4                -0.750 -0.846154 -1.000000        -0.85         -1.0   \n",
      "...                 ...       ...       ...          ...          ...   \n",
      "12325            -0.625 -0.615385 -1.000000        -1.00         -1.0   \n",
      "12326            -0.750 -0.923077 -1.000000        -0.65         -1.0   \n",
      "12327            -0.750 -0.923077 -1.000000        -0.40         -1.0   \n",
      "12328            -0.875 -0.923077 -0.777778        -0.50         -1.0   \n",
      "12329            -0.750 -0.923077 -1.000000        -0.95         -0.5   \n",
      "\n",
      "       Weekend  Revenue  \n",
      "0          0.0      0.0  \n",
      "1          0.0      0.0  \n",
      "2          0.0      0.0  \n",
      "3          0.0      0.0  \n",
      "4          1.0      0.0  \n",
      "...        ...      ...  \n",
      "12325      1.0      0.0  \n",
      "12326      1.0      0.0  \n",
      "12327      1.0      0.0  \n",
      "12328      0.0      0.0  \n",
      "12329      1.0      0.0  \n",
      "\n",
      "[12330 rows x 18 columns]\n"
     ]
    }
   ],
   "execution_count": 45
  },
  {
   "cell_type": "markdown",
   "id": "ca05fe789cf17ab3",
   "metadata": {},
   "source": [
    "Task 3"
   ]
  },
  {
   "cell_type": "code",
   "id": "a64c29fcca7de65f",
   "metadata": {
    "ExecuteTime": {
     "end_time": "2025-09-24T14:36:43.110851Z",
     "start_time": "2025-09-24T14:36:41.485209Z"
    }
   },
   "source": [
    "# affinity propagation clustering - based on documentation - VERY SLOW FOR WHOLE DATASET\n",
    "from sklearn.cluster import AffinityPropagation, DBSCAN, Birch\n",
    "import plotly.express as px\n",
    "Data = preprocessed.copy()\n",
    "# By sampling it goes faster\n",
    "Sample = Data.sample(n=1000)\n",
    "clustering = AffinityPropagation(random_state=2).fit(Sample)\n",
    "AffinityPropagation(random_state=2)\n",
    "\n",
    "labels = clustering.labels_\n",
    "cluster_centers = clustering.cluster_centers_\n",
    "print(\"Labels Affinity Propagation\", labels)\n",
    "print(\"Number of clusters Affinity Propagation:\", len(cluster_centers))\n",
    "\n",
    "\n",
    "# DBSCAN clustering\n",
    "# It works, but a lot of datapoints get labeled -1, meaning there is a lot of noise\n",
    "# It has less clusters compared to the other methods\n",
    "clustering2 = DBSCAN().fit(Data)\n",
    "labels2 = clustering2.labels_\n",
    "print(\"Labels DBSCAN\", labels2[:50])\n",
    "print(\"Number of clusters DBSCAN:\", len(set(labels2)))\n",
    "\n",
    "# Birch clustering\n",
    "clustering3 = Birch(n_clusters=None).fit(Data)\n",
    "labels3 = clustering3.labels_\n",
    "print(\"Labels Birch\", labels3[:50])   \n",
    "print(\"Number of clusters Birch:\", len(set(labels3)))\n",
    "\n",
    "fig = px.scatter(Sample, labels)\n",
    "fig.update_layout(title='Affinity Propagation')\n",
    "fig.update_xaxes(title='Clusters')\n",
    "fig.show()\n",
    "fig = px.scatter(Data, labels2)\n",
    "fig.update_layout(title='DBSCAN')\n",
    "fig.update_xaxes(title='Clusters')\n",
    "fig.show()\n",
    "fig = px.scatter(Data, labels3)\n",
    "fig.update_layout(title='Birch')\n",
    "fig.update_xaxes(title='Clusters')\n",
    "fig.show()\n"
   ],
   "outputs": [
    {
     "name": "stdout",
     "output_type": "stream",
     "text": [
      "Labels Affinity Propagation [ 3 22 40 29 26 33  2 50 31  2 43 37 29 43 11  0 11 26 32 45 44 32 43 23\n",
      " 28 19  2 50 51 14 43 50 51 27  1  0 10 43 36 48  2  8 51 11  3 19  9 20\n",
      " 36  2 31 20 19 43 31 11 46  8  9 13  2  9 27 33 51  1 24 48 34 34 48 46\n",
      " 44 20  5 31 25 23 31 39 12 41 23 11 38 11 19 27 27 29 46 16 50 26 23 20\n",
      " 44 44 28 36 31 44 33  6 20  2 43 33 35 43 51  8 19  2 41 26 51 33  9 28\n",
      " 27 26  1  8  3 23 26 46 26 26 44 48 35 31 50 29  1 44 25 13 23 31 35  2\n",
      " 16  5 41  4 32 26 28 15 35 44 51 33 24 51  2 44 23 35 50 35 16 32 28 30\n",
      " 26 11 24 10 22 22 44  2 51  0  2  2 10 50  0 31 43  5 41 35 24  6 31 49\n",
      " 50 35 20 19 27  2 19 44 50  7 50 35 31 30  9 50 11 24 32 23 24 15 26 19\n",
      " 28  8  0 50 50 32 24  8 16 26 35 51 31 31  6 14 43 51 50 33 14 10  9 50\n",
      " 26 26 39 28  2 28 10 11 26 43 41 27  2 11 32 43 50 30 43 29 17 44 36 31\n",
      " 50 50 43 13  0 23 23 23 12 26 40 44 23 27 17 43 43  2 15 26 34 19 26 43\n",
      " 26 16 10 40 34 11  6 26 14 27  1  2 33 50 26 51 50 50 31  5 20 44 44 12\n",
      " 43 44 41 41 46 20 33 24 35 13 43 31 12 10  7 43 50 26 17 46  1 51 13 40\n",
      " 34 23 43 50 23  9 26 11 41 14 44 34 13 51 50 45 26 33 31 22 31 51 27 31\n",
      " 19 15 30 33 26 39 26 48 33  9 38 51 43 16 24 44 11 40 43 14 31  7 26 30\n",
      "  9  8  6 16 46 20 32 14 26 20 46 49 17 44 43  2 44  0 26 27  8  2 50 13\n",
      " 27 51  4 46 26 26 46 11 19 36 11 11 31  9 50 35 10 28 26 51 26 33  0 48\n",
      " 26 26 19 10 11 14 28 19 43 26 51 27  2 38 17  2 24 23 18 11  2 35 50 16\n",
      " 23 31 26 22 19 50 26 44  9 31  8 27  2 38  9 29 26 13 26 51  2 34 23 44\n",
      " 10  9 48 26  0 37 20 51 10 43  2 20 11 33 35 50 35 48 32 12  2 43 10 41\n",
      " 51 50 41 43 21 24 23 32 26  8 25 27 22 22 27 13 10 14 44 26  6 39  0 30\n",
      " 23  2  2 50 29 19  2 43 24 11 34 26  6 23 25 19 31 43 49 31 25 12 28 26\n",
      " 46 48 23 43 27 33 49  9 26 28  9 50 50 41 26 36 20  5 33 31 24 14  9 50\n",
      " 26 36 34 17 26 24 51 20 38 29  1 28 40 28 32 12 24 33 50 50 19  6 26  9\n",
      " 44 40 11 11 16  6 15 41 10 26 23 33 27 38 17 26 19 46 50 23 50 49 50  9\n",
      " 30 44 31 28 19 51 51 26 44 24  2 35 27 12 19 23 32  2 33 35 44 23 38  9\n",
      " 11 51 32 19 46 19 31  2 46 28 44 43 35 10 46  8 33 26 29 23 48 29 34 32\n",
      " 43 46  2 50 29 31 38 50 24 33 25 51 26 14 26 40 28 26 36  3 33 49 16  6\n",
      " 23 49  0 32 36 24 31 43 51 44 51 50  2 34 17 24 34  0  2 15 28 38  2 26\n",
      " 20  9 24 29 16 33 28 23 50 50 26 24 25 29  5  9 28 26 23 35  8  9 46 33\n",
      " 22 27 34 23 36  3 31 26 51 35 26 37  2 33 34 32 38 21 26 44 32 29 20 44\n",
      " 29 24 43 43 44 26  2 10  5 50 24 49 33 22 31 44 15 26 38 33 50 15  2 26\n",
      " 11 39  8 13  9  2  0 25 30  5 41 25 28  4 16 39 50 38 24 16  2 50 29 24\n",
      " 51 32 15 28 43 40 29  8 29 37 13 23 43  4 28  9 33 26 41 26 31 44 29 42\n",
      "  2 30 39 13 51 17  8 46 41 51  4 43 11 19 45 51 19 43 32 50 46 27  2 51\n",
      " 50 32 50 36 33 28 44 33 10 33 43 44 24  2 13 24 41 14 35 16 50 17 26 33\n",
      " 34 19 15 45 29  0 33 43 26 41 12 26 40 50 24 14  1 13 31  8 32 44  1 23\n",
      "  2 51 49 33 26 43 22 33  1 28 44 46 47 38 26 48  2 48 20 34  9 50  9 38\n",
      " 48 44 22 24 49 39 26 12 50 26 16 28 51 19 23 32 28 20 50 45 28  3 30  2\n",
      "  0 43 26 51 50 15 26 43 32 14 22 35  8 39 13  4 10 20 50 44 35 38 44 31\n",
      " 31 43 14 26  9 21 40  0 13 38 11  8 39 10  8 36]\n",
      "Number of clusters Affinity Propagation: 52\n",
      "Labels DBSCAN [0 0 0 0 1 0 0 1 0 0 0 0 0 0 0 0 0 1 0 0 2 0 0 0 1 0 0 0 0 0 0 1 0 0 0 0 1\n",
      " 0 0 0 0 0 0 0 0 0 0 0 0 0]\n",
      "Number of clusters DBSCAN: 18\n",
      "Labels Birch [ 0  1  0  1  2  1  0  3 12 12  1 12  1  1  1  8  0  2  1  1  4  0  1 12\n",
      "  3  8  1  1  1 12  8  2  1  1  1  8  2 13 12  1  8 12  1 12  1  1  1  1\n",
      "  1 11]\n",
      "Number of clusters Birch: 41\n"
     ]
    },
    {
     "data": {
      "application/vnd.plotly.v1+json": {
       "data": [
        {
         "hovertemplate": "x=%{x}<br>index=%{y}<extra></extra>",
         "legendgroup": "",
         "marker": {
          "color": "#636efa",
          "symbol": "circle"
         },
         "mode": "markers",
         "name": "",
         "orientation": "h",
         "showlegend": false,
         "x": {
          "dtype": "i1",
          "bdata": "AxYoHRohAjIfAislHSsLAAsaIC0sICsXHBMCMjMOKzIzGwEACiskMAIIMwsDEwkUJAIfFBMrHwsuCAkNAgkbITMBGDAiIjAuLBQFHxkXHycMKRcLJgsTGxsdLhAyGhcULCwcJB8sIQYUAishIyszCBMCKRozIQkcGxoBCAMXGi4aGiwwIx8yHQEsGQ0XHyMCEAUpBCAaHA8jLDMhGDMCLBcjMiMQIBweGgsYChYWLAIzAAICCjIAHysFKSMYBh8xMiMUExsCEywyBzIjHx4JMgsYIBcYDxoTHAgAMjIgGAgQGiMzHx8GDiszMiEOCgkyGhonHAIcCgsaKykbAgsgKzIeKx0RLCQfMjIrDQAXFxcMGigsFxsRKysCDxoiExorGhAKKCILBhoOGwECITIaMzIyHwUULCwMKywpKS4UIRgjDSsfDAoHKzIaES4BMw0oIhcrMhcJGgspDiwiDTMyLRohHxYfMxsfEw8eIRonGjAhCSYzKxAYLAsoKw4fBxoeCQgGEC4UIA4aFC4xESwrAiwAGhsIAjINGzMELhoaLgsTJAsLHwkyIwocGjMaIQAwGhoTCgsOHBMrGjMbAiYRAhgXEgsCIzIQFx8aFhMyGiwJHwgbAiYJHRoNGjMCIhcsCgkwGgAlFDMKKwIUCyEjMiMwIAwCKwopMzIpKxUYFyAaCBkbFhYbDQoOLBoGJwAeFwICMh0TAisYCyIaBhcZEx8rMR8ZDBwaLjAXKxshMQkaHAkyMikaJBQFIR8YDgkyGiQiERoYMxQmHQEcKBwgDBghMjITBhoJLCgLCxAGDykKGhchGyYRGhMuMhcyMTIJHiwfHBMzMxosGAIjGwwTFyACISMsFyYJCzMgEy4THwIuHCwrIwouCCEaHRcwHSIgKy4CMh0fJjIYIRkzGg4aKBwaJAMhMRAGFzEAICQYHyszLDMyAiIRGCIAAg8cJgIaFAkYHRAhHBcyMhoYGR0FCRwaFyMICS4hFhsiFyQDHxozIxolAiEiICYVGiwgHRQsHRgrKywaAgoFMhgxIRYfLA8aJiEyDwIaCycIDQkCABkeBSkZHAQQJzImGBACMh0YMyAPHCsoHQgdJQ0XKwQcCSEaKRofLB0qAh4nDTMRCC4pMwQrCxMtMxMrIDIuGwIzMiAyJCEcLCEKISssGAINGCkOIxAyERohIhMPLR0AISsaKQwaKDIYDgENHwggLAEXAjMxIRorFiEBHCwuLyYaMAIwFCIJMgkmMCwWGDEnGgwyGhAcMxMXIBwUMi0cAx4CACsaMzIPGisgDhYjCCcNBAoUMiwjJiwfHysOGgkVKAANJgsIJwoIJA=="
         },
         "xaxis": "x",
         "y": {
          "dtype": "i2",
          "bdata": "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"
         },
         "yaxis": "y",
         "type": "scatter"
        }
       ],
       "layout": {
        "template": {
         "data": {
          "histogram2dcontour": [
           {
            "type": "histogram2dcontour",
            "colorbar": {
             "outlinewidth": 0,
             "ticks": ""
            },
            "colorscale": [
             [
              0.0,
              "#0d0887"
             ],
             [
              0.1111111111111111,
              "#46039f"
             ],
             [
              0.2222222222222222,
              "#7201a8"
             ],
             [
              0.3333333333333333,
              "#9c179e"
             ],
             [
              0.4444444444444444,
              "#bd3786"
             ],
             [
              0.5555555555555556,
              "#d8576b"
             ],
             [
              0.6666666666666666,
              "#ed7953"
             ],
             [
              0.7777777777777778,
              "#fb9f3a"
             ],
             [
              0.8888888888888888,
              "#fdca26"
             ],
             [
              1.0,
              "#f0f921"
             ]
            ]
           }
          ],
          "choropleth": [
           {
            "type": "choropleth",
            "colorbar": {
             "outlinewidth": 0,
             "ticks": ""
            }
           }
          ],
          "histogram2d": [
           {
            "type": "histogram2d",
            "colorbar": {
             "outlinewidth": 0,
             "ticks": ""
            },
            "colorscale": [
             [
              0.0,
              "#0d0887"
             ],
             [
              0.1111111111111111,
              "#46039f"
             ],
             [
              0.2222222222222222,
              "#7201a8"
             ],
             [
              0.3333333333333333,
              "#9c179e"
             ],
             [
              0.4444444444444444,
              "#bd3786"
             ],
             [
              0.5555555555555556,
              "#d8576b"
             ],
             [
              0.6666666666666666,
              "#ed7953"
             ],
             [
              0.7777777777777778,
              "#fb9f3a"
             ],
             [
              0.8888888888888888,
              "#fdca26"
             ],
             [
              1.0,
              "#f0f921"
             ]
            ]
           }
          ],
          "heatmap": [
           {
            "type": "heatmap",
            "colorbar": {
             "outlinewidth": 0,
             "ticks": ""
            },
            "colorscale": [
             [
              0.0,
              "#0d0887"
             ],
             [
              0.1111111111111111,
              "#46039f"
             ],
             [
              0.2222222222222222,
              "#7201a8"
             ],
             [
              0.3333333333333333,
              "#9c179e"
             ],
             [
              0.4444444444444444,
              "#bd3786"
             ],
             [
              0.5555555555555556,
              "#d8576b"
             ],
             [
              0.6666666666666666,
              "#ed7953"
             ],
             [
              0.7777777777777778,
              "#fb9f3a"
             ],
             [
              0.8888888888888888,
              "#fdca26"
             ],
             [
              1.0,
              "#f0f921"
             ]
            ]
           }
          ],
          "contourcarpet": [
           {
            "type": "contourcarpet",
            "colorbar": {
             "outlinewidth": 0,
             "ticks": ""
            }
           }
          ],
          "contour": [
           {
            "type": "contour",
            "colorbar": {
             "outlinewidth": 0,
             "ticks": ""
            },
            "colorscale": [
             [
              0.0,
              "#0d0887"
             ],
             [
              0.1111111111111111,
              "#46039f"
             ],
             [
              0.2222222222222222,
              "#7201a8"
             ],
             [
              0.3333333333333333,
              "#9c179e"
             ],
             [
              0.4444444444444444,
              "#bd3786"
             ],
             [
              0.5555555555555556,
              "#d8576b"
             ],
             [
              0.6666666666666666,
              "#ed7953"
             ],
             [
              0.7777777777777778,
              "#fb9f3a"
             ],
             [
              0.8888888888888888,
              "#fdca26"
             ],
             [
              1.0,
              "#f0f921"
             ]
            ]
           }
          ],
          "surface": [
           {
            "type": "surface",
            "colorbar": {
             "outlinewidth": 0,
             "ticks": ""
            },
            "colorscale": [
             [
              0.0,
              "#0d0887"
             ],
             [
              0.1111111111111111,
              "#46039f"
             ],
             [
              0.2222222222222222,
              "#7201a8"
             ],
             [
              0.3333333333333333,
              "#9c179e"
             ],
             [
              0.4444444444444444,
              "#bd3786"
             ],
             [
              0.5555555555555556,
              "#d8576b"
             ],
             [
              0.6666666666666666,
              "#ed7953"
             ],
             [
              0.7777777777777778,
              "#fb9f3a"
             ],
             [
              0.8888888888888888,
              "#fdca26"
             ],
             [
              1.0,
              "#f0f921"
             ]
            ]
           }
          ],
          "mesh3d": [
           {
            "type": "mesh3d",
            "colorbar": {
             "outlinewidth": 0,
             "ticks": ""
            }
           }
          ],
          "scatter": [
           {
            "marker": {
             "line": {
              "color": "#283442"
             }
            },
            "type": "scatter"
           }
          ],
          "parcoords": [
           {
            "type": "parcoords",
            "line": {
             "colorbar": {
              "outlinewidth": 0,
              "ticks": ""
             }
            }
           }
          ],
          "scatterpolargl": [
           {
            "type": "scatterpolargl",
            "marker": {
             "colorbar": {
              "outlinewidth": 0,
              "ticks": ""
             }
            }
           }
          ],
          "bar": [
           {
            "error_x": {
             "color": "#f2f5fa"
            },
            "error_y": {
             "color": "#f2f5fa"
            },
            "marker": {
             "line": {
              "color": "rgb(17,17,17)",
              "width": 0.5
             },
             "pattern": {
              "fillmode": "overlay",
              "size": 10,
              "solidity": 0.2
             }
            },
            "type": "bar"
           }
          ],
          "scattergeo": [
           {
            "type": "scattergeo",
            "marker": {
             "colorbar": {
              "outlinewidth": 0,
              "ticks": ""
             }
            }
           }
          ],
          "scatterpolar": [
           {
            "type": "scatterpolar",
            "marker": {
             "colorbar": {
              "outlinewidth": 0,
              "ticks": ""
             }
            }
           }
          ],
          "histogram": [
           {
            "marker": {
             "pattern": {
              "fillmode": "overlay",
              "size": 10,
              "solidity": 0.2
             }
            },
            "type": "histogram"
           }
          ],
          "scattergl": [
           {
            "marker": {
             "line": {
              "color": "#283442"
             }
            },
            "type": "scattergl"
           }
          ],
          "scatter3d": [
           {
            "type": "scatter3d",
            "line": {
             "colorbar": {
              "outlinewidth": 0,
              "ticks": ""
             }
            },
            "marker": {
             "colorbar": {
              "outlinewidth": 0,
              "ticks": ""
             }
            }
           }
          ],
          "scattermap": [
           {
            "type": "scattermap",
            "marker": {
             "colorbar": {
              "outlinewidth": 0,
              "ticks": ""
             }
            }
           }
          ],
          "scattermapbox": [
           {
            "type": "scattermapbox",
            "marker": {
             "colorbar": {
              "outlinewidth": 0,
              "ticks": ""
             }
            }
           }
          ],
          "scatterternary": [
           {
            "type": "scatterternary",
            "marker": {
             "colorbar": {
              "outlinewidth": 0,
              "ticks": ""
             }
            }
           }
          ],
          "scattercarpet": [
           {
            "type": "scattercarpet",
            "marker": {
             "colorbar": {
              "outlinewidth": 0,
              "ticks": ""
             }
            }
           }
          ],
          "carpet": [
           {
            "aaxis": {
             "endlinecolor": "#A2B1C6",
             "gridcolor": "#506784",
             "linecolor": "#506784",
             "minorgridcolor": "#506784",
             "startlinecolor": "#A2B1C6"
            },
            "baxis": {
             "endlinecolor": "#A2B1C6",
             "gridcolor": "#506784",
             "linecolor": "#506784",
             "minorgridcolor": "#506784",
             "startlinecolor": "#A2B1C6"
            },
            "type": "carpet"
           }
          ],
          "table": [
           {
            "cells": {
             "fill": {
              "color": "#506784"
             },
             "line": {
              "color": "rgb(17,17,17)"
             }
            },
            "header": {
             "fill": {
              "color": "#2a3f5f"
             },
             "line": {
              "color": "rgb(17,17,17)"
             }
            },
            "type": "table"
           }
          ],
          "barpolar": [
           {
            "marker": {
             "line": {
              "color": "rgb(17,17,17)",
              "width": 0.5
             },
             "pattern": {
              "fillmode": "overlay",
              "size": 10,
              "solidity": 0.2
             }
            },
            "type": "barpolar"
           }
          ],
          "pie": [
           {
            "automargin": true,
            "type": "pie"
           }
          ]
         },
         "layout": {
          "autotypenumbers": "strict",
          "colorway": [
           "#636efa",
           "#EF553B",
           "#00cc96",
           "#ab63fa",
           "#FFA15A",
           "#19d3f3",
           "#FF6692",
           "#B6E880",
           "#FF97FF",
           "#FECB52"
          ],
          "font": {
           "color": "#f2f5fa"
          },
          "hovermode": "closest",
          "hoverlabel": {
           "align": "left"
          },
          "paper_bgcolor": "rgb(17,17,17)",
          "plot_bgcolor": "rgb(17,17,17)",
          "polar": {
           "bgcolor": "rgb(17,17,17)",
           "angularaxis": {
            "gridcolor": "#506784",
            "linecolor": "#506784",
            "ticks": ""
           },
           "radialaxis": {
            "gridcolor": "#506784",
            "linecolor": "#506784",
            "ticks": ""
           }
          },
          "ternary": {
           "bgcolor": "rgb(17,17,17)",
           "aaxis": {
            "gridcolor": "#506784",
            "linecolor": "#506784",
            "ticks": ""
           },
           "baxis": {
            "gridcolor": "#506784",
            "linecolor": "#506784",
            "ticks": ""
           },
           "caxis": {
            "gridcolor": "#506784",
            "linecolor": "#506784",
            "ticks": ""
           }
          },
          "coloraxis": {
           "colorbar": {
            "outlinewidth": 0,
            "ticks": ""
           }
          },
          "colorscale": {
           "sequential": [
            [
             0.0,
             "#0d0887"
            ],
            [
             0.1111111111111111,
             "#46039f"
            ],
            [
             0.2222222222222222,
             "#7201a8"
            ],
            [
             0.3333333333333333,
             "#9c179e"
            ],
            [
             0.4444444444444444,
             "#bd3786"
            ],
            [
             0.5555555555555556,
             "#d8576b"
            ],
            [
             0.6666666666666666,
             "#ed7953"
            ],
            [
             0.7777777777777778,
             "#fb9f3a"
            ],
            [
             0.8888888888888888,
             "#fdca26"
            ],
            [
             1.0,
             "#f0f921"
            ]
           ],
           "sequentialminus": [
            [
             0.0,
             "#0d0887"
            ],
            [
             0.1111111111111111,
             "#46039f"
            ],
            [
             0.2222222222222222,
             "#7201a8"
            ],
            [
             0.3333333333333333,
             "#9c179e"
            ],
            [
             0.4444444444444444,
             "#bd3786"
            ],
            [
             0.5555555555555556,
             "#d8576b"
            ],
            [
             0.6666666666666666,
             "#ed7953"
            ],
            [
             0.7777777777777778,
             "#fb9f3a"
            ],
            [
             0.8888888888888888,
             "#fdca26"
            ],
            [
             1.0,
             "#f0f921"
            ]
           ],
           "diverging": [
            [
             0,
             "#8e0152"
            ],
            [
             0.1,
             "#c51b7d"
            ],
            [
             0.2,
             "#de77ae"
            ],
            [
             0.3,
             "#f1b6da"
            ],
            [
             0.4,
             "#fde0ef"
            ],
            [
             0.5,
             "#f7f7f7"
            ],
            [
             0.6,
             "#e6f5d0"
            ],
            [
             0.7,
             "#b8e186"
            ],
            [
             0.8,
             "#7fbc41"
            ],
            [
             0.9,
             "#4d9221"
            ],
            [
             1,
             "#276419"
            ]
           ]
          },
          "xaxis": {
           "gridcolor": "#283442",
           "linecolor": "#506784",
           "ticks": "",
           "title": {
            "standoff": 15
           },
           "zerolinecolor": "#283442",
           "automargin": true,
           "zerolinewidth": 2
          },
          "yaxis": {
           "gridcolor": "#283442",
           "linecolor": "#506784",
           "ticks": "",
           "title": {
            "standoff": 15
           },
           "zerolinecolor": "#283442",
           "automargin": true,
           "zerolinewidth": 2
          },
          "scene": {
           "xaxis": {
            "backgroundcolor": "rgb(17,17,17)",
            "gridcolor": "#506784",
            "linecolor": "#506784",
            "showbackground": true,
            "ticks": "",
            "zerolinecolor": "#C8D4E3",
            "gridwidth": 2
           },
           "yaxis": {
            "backgroundcolor": "rgb(17,17,17)",
            "gridcolor": "#506784",
            "linecolor": "#506784",
            "showbackground": true,
            "ticks": "",
            "zerolinecolor": "#C8D4E3",
            "gridwidth": 2
           },
           "zaxis": {
            "backgroundcolor": "rgb(17,17,17)",
            "gridcolor": "#506784",
            "linecolor": "#506784",
            "showbackground": true,
            "ticks": "",
            "zerolinecolor": "#C8D4E3",
            "gridwidth": 2
           }
          },
          "shapedefaults": {
           "line": {
            "color": "#f2f5fa"
           }
          },
          "annotationdefaults": {
           "arrowcolor": "#f2f5fa",
           "arrowhead": 0,
           "arrowwidth": 1
          },
          "geo": {
           "bgcolor": "rgb(17,17,17)",
           "landcolor": "rgb(17,17,17)",
           "subunitcolor": "#506784",
           "showland": true,
           "showlakes": true,
           "lakecolor": "rgb(17,17,17)"
          },
          "title": {
           "x": 0.05
          },
          "updatemenudefaults": {
           "bgcolor": "#506784",
           "borderwidth": 0
          },
          "sliderdefaults": {
           "bgcolor": "#C8D4E3",
           "borderwidth": 1,
           "bordercolor": "rgb(17,17,17)",
           "tickwidth": 0
          },
          "mapbox": {
           "style": "dark"
          }
         }
        },
        "xaxis": {
         "anchor": "y",
         "domain": [
          0.0,
          1.0
         ],
         "title": {
          "text": "Clusters"
         }
        },
        "yaxis": {
         "anchor": "x",
         "domain": [
          0.0,
          1.0
         ],
         "title": {
          "text": "index"
         }
        },
        "legend": {
         "tracegroupgap": 0
        },
        "margin": {
         "t": 60
        },
        "title": {
         "text": "Affinity Propagation"
        }
       },
       "config": {
        "plotlyServerURL": "https://plot.ly"
       }
      }
     },
     "metadata": {},
     "output_type": "display_data"
    },
    {
     "data": {
      "application/vnd.plotly.v1+json": {
       "data": [
        {
         "hovertemplate": "x=%{x}<br>index=%{y}<extra></extra>",
         "legendgroup": "",
         "marker": {
          "color": "#636efa",
          "symbol": "circle"
         },
         "mode": "markers",
         "name": "",
         "showlegend": false,
         "x": {
          "dtype": "i1",
          "bdata": "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"
         },
         "xaxis": "x",
         "y": {
          "dtype": "i2",
          "bdata": "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"
         },
         "yaxis": "y",
         "type": "scattergl"
        }
       ],
       "layout": {
        "template": {
         "data": {
          "histogram2dcontour": [
           {
            "type": "histogram2dcontour",
            "colorbar": {
             "outlinewidth": 0,
             "ticks": ""
            },
            "colorscale": [
             [
              0.0,
              "#0d0887"
             ],
             [
              0.1111111111111111,
              "#46039f"
             ],
             [
              0.2222222222222222,
              "#7201a8"
             ],
             [
              0.3333333333333333,
              "#9c179e"
             ],
             [
              0.4444444444444444,
              "#bd3786"
             ],
             [
              0.5555555555555556,
              "#d8576b"
             ],
             [
              0.6666666666666666,
              "#ed7953"
             ],
             [
              0.7777777777777778,
              "#fb9f3a"
             ],
             [
              0.8888888888888888,
              "#fdca26"
             ],
             [
              1.0,
              "#f0f921"
             ]
            ]
           }
          ],
          "choropleth": [
           {
            "type": "choropleth",
            "colorbar": {
             "outlinewidth": 0,
             "ticks": ""
            }
           }
          ],
          "histogram2d": [
           {
            "type": "histogram2d",
            "colorbar": {
             "outlinewidth": 0,
             "ticks": ""
            },
            "colorscale": [
             [
              0.0,
              "#0d0887"
             ],
             [
              0.1111111111111111,
              "#46039f"
             ],
             [
              0.2222222222222222,
              "#7201a8"
             ],
             [
              0.3333333333333333,
              "#9c179e"
             ],
             [
              0.4444444444444444,
              "#bd3786"
             ],
             [
              0.5555555555555556,
              "#d8576b"
             ],
             [
              0.6666666666666666,
              "#ed7953"
             ],
             [
              0.7777777777777778,
              "#fb9f3a"
             ],
             [
              0.8888888888888888,
              "#fdca26"
             ],
             [
              1.0,
              "#f0f921"
             ]
            ]
           }
          ],
          "heatmap": [
           {
            "type": "heatmap",
            "colorbar": {
             "outlinewidth": 0,
             "ticks": ""
            },
            "colorscale": [
             [
              0.0,
              "#0d0887"
             ],
             [
              0.1111111111111111,
              "#46039f"
             ],
             [
              0.2222222222222222,
              "#7201a8"
             ],
             [
              0.3333333333333333,
              "#9c179e"
             ],
             [
              0.4444444444444444,
              "#bd3786"
             ],
             [
              0.5555555555555556,
              "#d8576b"
             ],
             [
              0.6666666666666666,
              "#ed7953"
             ],
             [
              0.7777777777777778,
              "#fb9f3a"
             ],
             [
              0.8888888888888888,
              "#fdca26"
             ],
             [
              1.0,
              "#f0f921"
             ]
            ]
           }
          ],
          "contourcarpet": [
           {
            "type": "contourcarpet",
            "colorbar": {
             "outlinewidth": 0,
             "ticks": ""
            }
           }
          ],
          "contour": [
           {
            "type": "contour",
            "colorbar": {
             "outlinewidth": 0,
             "ticks": ""
            },
            "colorscale": [
             [
              0.0,
              "#0d0887"
             ],
             [
              0.1111111111111111,
              "#46039f"
             ],
             [
              0.2222222222222222,
              "#7201a8"
             ],
             [
              0.3333333333333333,
              "#9c179e"
             ],
             [
              0.4444444444444444,
              "#bd3786"
             ],
             [
              0.5555555555555556,
              "#d8576b"
             ],
             [
              0.6666666666666666,
              "#ed7953"
             ],
             [
              0.7777777777777778,
              "#fb9f3a"
             ],
             [
              0.8888888888888888,
              "#fdca26"
             ],
             [
              1.0,
              "#f0f921"
             ]
            ]
           }
          ],
          "surface": [
           {
            "type": "surface",
            "colorbar": {
             "outlinewidth": 0,
             "ticks": ""
            },
            "colorscale": [
             [
              0.0,
              "#0d0887"
             ],
             [
              0.1111111111111111,
              "#46039f"
             ],
             [
              0.2222222222222222,
              "#7201a8"
             ],
             [
              0.3333333333333333,
              "#9c179e"
             ],
             [
              0.4444444444444444,
              "#bd3786"
             ],
             [
              0.5555555555555556,
              "#d8576b"
             ],
             [
              0.6666666666666666,
              "#ed7953"
             ],
             [
              0.7777777777777778,
              "#fb9f3a"
             ],
             [
              0.8888888888888888,
              "#fdca26"
             ],
             [
              1.0,
              "#f0f921"
             ]
            ]
           }
          ],
          "mesh3d": [
           {
            "type": "mesh3d",
            "colorbar": {
             "outlinewidth": 0,
             "ticks": ""
            }
           }
          ],
          "scatter": [
           {
            "marker": {
             "line": {
              "color": "#283442"
             }
            },
            "type": "scatter"
           }
          ],
          "parcoords": [
           {
            "type": "parcoords",
            "line": {
             "colorbar": {
              "outlinewidth": 0,
              "ticks": ""
             }
            }
           }
          ],
          "scatterpolargl": [
           {
            "type": "scatterpolargl",
            "marker": {
             "colorbar": {
              "outlinewidth": 0,
              "ticks": ""
             }
            }
           }
          ],
          "bar": [
           {
            "error_x": {
             "color": "#f2f5fa"
            },
            "error_y": {
             "color": "#f2f5fa"
            },
            "marker": {
             "line": {
              "color": "rgb(17,17,17)",
              "width": 0.5
             },
             "pattern": {
              "fillmode": "overlay",
              "size": 10,
              "solidity": 0.2
             }
            },
            "type": "bar"
           }
          ],
          "scattergeo": [
           {
            "type": "scattergeo",
            "marker": {
             "colorbar": {
              "outlinewidth": 0,
              "ticks": ""
             }
            }
           }
          ],
          "scatterpolar": [
           {
            "type": "scatterpolar",
            "marker": {
             "colorbar": {
              "outlinewidth": 0,
              "ticks": ""
             }
            }
           }
          ],
          "histogram": [
           {
            "marker": {
             "pattern": {
              "fillmode": "overlay",
              "size": 10,
              "solidity": 0.2
             }
            },
            "type": "histogram"
           }
          ],
          "scattergl": [
           {
            "marker": {
             "line": {
              "color": "#283442"
             }
            },
            "type": "scattergl"
           }
          ],
          "scatter3d": [
           {
            "type": "scatter3d",
            "line": {
             "colorbar": {
              "outlinewidth": 0,
              "ticks": ""
             }
            },
            "marker": {
             "colorbar": {
              "outlinewidth": 0,
              "ticks": ""
             }
            }
           }
          ],
          "scattermap": [
           {
            "type": "scattermap",
            "marker": {
             "colorbar": {
              "outlinewidth": 0,
              "ticks": ""
             }
            }
           }
          ],
          "scattermapbox": [
           {
            "type": "scattermapbox",
            "marker": {
             "colorbar": {
              "outlinewidth": 0,
              "ticks": ""
             }
            }
           }
          ],
          "scatterternary": [
           {
            "type": "scatterternary",
            "marker": {
             "colorbar": {
              "outlinewidth": 0,
              "ticks": ""
             }
            }
           }
          ],
          "scattercarpet": [
           {
            "type": "scattercarpet",
            "marker": {
             "colorbar": {
              "outlinewidth": 0,
              "ticks": ""
             }
            }
           }
          ],
          "carpet": [
           {
            "aaxis": {
             "endlinecolor": "#A2B1C6",
             "gridcolor": "#506784",
             "linecolor": "#506784",
             "minorgridcolor": "#506784",
             "startlinecolor": "#A2B1C6"
            },
            "baxis": {
             "endlinecolor": "#A2B1C6",
             "gridcolor": "#506784",
             "linecolor": "#506784",
             "minorgridcolor": "#506784",
             "startlinecolor": "#A2B1C6"
            },
            "type": "carpet"
           }
          ],
          "table": [
           {
            "cells": {
             "fill": {
              "color": "#506784"
             },
             "line": {
              "color": "rgb(17,17,17)"
             }
            },
            "header": {
             "fill": {
              "color": "#2a3f5f"
             },
             "line": {
              "color": "rgb(17,17,17)"
             }
            },
            "type": "table"
           }
          ],
          "barpolar": [
           {
            "marker": {
             "line": {
              "color": "rgb(17,17,17)",
              "width": 0.5
             },
             "pattern": {
              "fillmode": "overlay",
              "size": 10,
              "solidity": 0.2
             }
            },
            "type": "barpolar"
           }
          ],
          "pie": [
           {
            "automargin": true,
            "type": "pie"
           }
          ]
         },
         "layout": {
          "autotypenumbers": "strict",
          "colorway": [
           "#636efa",
           "#EF553B",
           "#00cc96",
           "#ab63fa",
           "#FFA15A",
           "#19d3f3",
           "#FF6692",
           "#B6E880",
           "#FF97FF",
           "#FECB52"
          ],
          "font": {
           "color": "#f2f5fa"
          },
          "hovermode": "closest",
          "hoverlabel": {
           "align": "left"
          },
          "paper_bgcolor": "rgb(17,17,17)",
          "plot_bgcolor": "rgb(17,17,17)",
          "polar": {
           "bgcolor": "rgb(17,17,17)",
           "angularaxis": {
            "gridcolor": "#506784",
            "linecolor": "#506784",
            "ticks": ""
           },
           "radialaxis": {
            "gridcolor": "#506784",
            "linecolor": "#506784",
            "ticks": ""
           }
          },
          "ternary": {
           "bgcolor": "rgb(17,17,17)",
           "aaxis": {
            "gridcolor": "#506784",
            "linecolor": "#506784",
            "ticks": ""
           },
           "baxis": {
            "gridcolor": "#506784",
            "linecolor": "#506784",
            "ticks": ""
           },
           "caxis": {
            "gridcolor": "#506784",
            "linecolor": "#506784",
            "ticks": ""
           }
          },
          "coloraxis": {
           "colorbar": {
            "outlinewidth": 0,
            "ticks": ""
           }
          },
          "colorscale": {
           "sequential": [
            [
             0.0,
             "#0d0887"
            ],
            [
             0.1111111111111111,
             "#46039f"
            ],
            [
             0.2222222222222222,
             "#7201a8"
            ],
            [
             0.3333333333333333,
             "#9c179e"
            ],
            [
             0.4444444444444444,
             "#bd3786"
            ],
            [
             0.5555555555555556,
             "#d8576b"
            ],
            [
             0.6666666666666666,
             "#ed7953"
            ],
            [
             0.7777777777777778,
             "#fb9f3a"
            ],
            [
             0.8888888888888888,
             "#fdca26"
            ],
            [
             1.0,
             "#f0f921"
            ]
           ],
           "sequentialminus": [
            [
             0.0,
             "#0d0887"
            ],
            [
             0.1111111111111111,
             "#46039f"
            ],
            [
             0.2222222222222222,
             "#7201a8"
            ],
            [
             0.3333333333333333,
             "#9c179e"
            ],
            [
             0.4444444444444444,
             "#bd3786"
            ],
            [
             0.5555555555555556,
             "#d8576b"
            ],
            [
             0.6666666666666666,
             "#ed7953"
            ],
            [
             0.7777777777777778,
             "#fb9f3a"
            ],
            [
             0.8888888888888888,
             "#fdca26"
            ],
            [
             1.0,
             "#f0f921"
            ]
           ],
           "diverging": [
            [
             0,
             "#8e0152"
            ],
            [
             0.1,
             "#c51b7d"
            ],
            [
             0.2,
             "#de77ae"
            ],
            [
             0.3,
             "#f1b6da"
            ],
            [
             0.4,
             "#fde0ef"
            ],
            [
             0.5,
             "#f7f7f7"
            ],
            [
             0.6,
             "#e6f5d0"
            ],
            [
             0.7,
             "#b8e186"
            ],
            [
             0.8,
             "#7fbc41"
            ],
            [
             0.9,
             "#4d9221"
            ],
            [
             1,
             "#276419"
            ]
           ]
          },
          "xaxis": {
           "gridcolor": "#283442",
           "linecolor": "#506784",
           "ticks": "",
           "title": {
            "standoff": 15
           },
           "zerolinecolor": "#283442",
           "automargin": true,
           "zerolinewidth": 2
          },
          "yaxis": {
           "gridcolor": "#283442",
           "linecolor": "#506784",
           "ticks": "",
           "title": {
            "standoff": 15
           },
           "zerolinecolor": "#283442",
           "automargin": true,
           "zerolinewidth": 2
          },
          "scene": {
           "xaxis": {
            "backgroundcolor": "rgb(17,17,17)",
            "gridcolor": "#506784",
            "linecolor": "#506784",
            "showbackground": true,
            "ticks": "",
            "zerolinecolor": "#C8D4E3",
            "gridwidth": 2
           },
           "yaxis": {
            "backgroundcolor": "rgb(17,17,17)",
            "gridcolor": "#506784",
            "linecolor": "#506784",
            "showbackground": true,
            "ticks": "",
            "zerolinecolor": "#C8D4E3",
            "gridwidth": 2
           },
           "zaxis": {
            "backgroundcolor": "rgb(17,17,17)",
            "gridcolor": "#506784",
            "linecolor": "#506784",
            "showbackground": true,
            "ticks": "",
            "zerolinecolor": "#C8D4E3",
            "gridwidth": 2
           }
          },
          "shapedefaults": {
           "line": {
            "color": "#f2f5fa"
           }
          },
          "annotationdefaults": {
           "arrowcolor": "#f2f5fa",
           "arrowhead": 0,
           "arrowwidth": 1
          },
          "geo": {
           "bgcolor": "rgb(17,17,17)",
           "landcolor": "rgb(17,17,17)",
           "subunitcolor": "#506784",
           "showland": true,
           "showlakes": true,
           "lakecolor": "rgb(17,17,17)"
          },
          "title": {
           "x": 0.05
          },
          "updatemenudefaults": {
           "bgcolor": "#506784",
           "borderwidth": 0
          },
          "sliderdefaults": {
           "bgcolor": "#C8D4E3",
           "borderwidth": 1,
           "bordercolor": "rgb(17,17,17)",
           "tickwidth": 0
          },
          "mapbox": {
           "style": "dark"
          }
         }
        },
        "xaxis": {
         "anchor": "y",
         "domain": [
          0.0,
          1.0
         ],
         "title": {
          "text": "Clusters"
         }
        },
        "yaxis": {
         "anchor": "x",
         "domain": [
          0.0,
          1.0
         ],
         "title": {
          "text": "index"
         }
        },
        "legend": {
         "tracegroupgap": 0
        },
        "margin": {
         "t": 60
        },
        "title": {
         "text": "DBSCAN"
        }
       },
       "config": {
        "plotlyServerURL": "https://plot.ly"
       }
      }
     },
     "metadata": {},
     "output_type": "display_data"
    },
    {
     "data": {
      "application/vnd.plotly.v1+json": {
       "data": [
        {
         "hovertemplate": "x=%{x}<br>index=%{y}<extra></extra>",
         "legendgroup": "",
         "marker": {
          "color": "#636efa",
          "symbol": "circle"
         },
         "mode": "markers",
         "name": "",
         "showlegend": false,
         "x": {
          "dtype": "i4",
          "bdata": "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"
         },
         "xaxis": "x",
         "y": {
          "dtype": "i2",
          "bdata": "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"
         },
         "yaxis": "y",
         "type": "scattergl"
        }
       ],
       "layout": {
        "template": {
         "data": {
          "histogram2dcontour": [
           {
            "type": "histogram2dcontour",
            "colorbar": {
             "outlinewidth": 0,
             "ticks": ""
            },
            "colorscale": [
             [
              0.0,
              "#0d0887"
             ],
             [
              0.1111111111111111,
              "#46039f"
             ],
             [
              0.2222222222222222,
              "#7201a8"
             ],
             [
              0.3333333333333333,
              "#9c179e"
             ],
             [
              0.4444444444444444,
              "#bd3786"
             ],
             [
              0.5555555555555556,
              "#d8576b"
             ],
             [
              0.6666666666666666,
              "#ed7953"
             ],
             [
              0.7777777777777778,
              "#fb9f3a"
             ],
             [
              0.8888888888888888,
              "#fdca26"
             ],
             [
              1.0,
              "#f0f921"
             ]
            ]
           }
          ],
          "choropleth": [
           {
            "type": "choropleth",
            "colorbar": {
             "outlinewidth": 0,
             "ticks": ""
            }
           }
          ],
          "histogram2d": [
           {
            "type": "histogram2d",
            "colorbar": {
             "outlinewidth": 0,
             "ticks": ""
            },
            "colorscale": [
             [
              0.0,
              "#0d0887"
             ],
             [
              0.1111111111111111,
              "#46039f"
             ],
             [
              0.2222222222222222,
              "#7201a8"
             ],
             [
              0.3333333333333333,
              "#9c179e"
             ],
             [
              0.4444444444444444,
              "#bd3786"
             ],
             [
              0.5555555555555556,
              "#d8576b"
             ],
             [
              0.6666666666666666,
              "#ed7953"
             ],
             [
              0.7777777777777778,
              "#fb9f3a"
             ],
             [
              0.8888888888888888,
              "#fdca26"
             ],
             [
              1.0,
              "#f0f921"
             ]
            ]
           }
          ],
          "heatmap": [
           {
            "type": "heatmap",
            "colorbar": {
             "outlinewidth": 0,
             "ticks": ""
            },
            "colorscale": [
             [
              0.0,
              "#0d0887"
             ],
             [
              0.1111111111111111,
              "#46039f"
             ],
             [
              0.2222222222222222,
              "#7201a8"
             ],
             [
              0.3333333333333333,
              "#9c179e"
             ],
             [
              0.4444444444444444,
              "#bd3786"
             ],
             [
              0.5555555555555556,
              "#d8576b"
             ],
             [
              0.6666666666666666,
              "#ed7953"
             ],
             [
              0.7777777777777778,
              "#fb9f3a"
             ],
             [
              0.8888888888888888,
              "#fdca26"
             ],
             [
              1.0,
              "#f0f921"
             ]
            ]
           }
          ],
          "contourcarpet": [
           {
            "type": "contourcarpet",
            "colorbar": {
             "outlinewidth": 0,
             "ticks": ""
            }
           }
          ],
          "contour": [
           {
            "type": "contour",
            "colorbar": {
             "outlinewidth": 0,
             "ticks": ""
            },
            "colorscale": [
             [
              0.0,
              "#0d0887"
             ],
             [
              0.1111111111111111,
              "#46039f"
             ],
             [
              0.2222222222222222,
              "#7201a8"
             ],
             [
              0.3333333333333333,
              "#9c179e"
             ],
             [
              0.4444444444444444,
              "#bd3786"
             ],
             [
              0.5555555555555556,
              "#d8576b"
             ],
             [
              0.6666666666666666,
              "#ed7953"
             ],
             [
              0.7777777777777778,
              "#fb9f3a"
             ],
             [
              0.8888888888888888,
              "#fdca26"
             ],
             [
              1.0,
              "#f0f921"
             ]
            ]
           }
          ],
          "surface": [
           {
            "type": "surface",
            "colorbar": {
             "outlinewidth": 0,
             "ticks": ""
            },
            "colorscale": [
             [
              0.0,
              "#0d0887"
             ],
             [
              0.1111111111111111,
              "#46039f"
             ],
             [
              0.2222222222222222,
              "#7201a8"
             ],
             [
              0.3333333333333333,
              "#9c179e"
             ],
             [
              0.4444444444444444,
              "#bd3786"
             ],
             [
              0.5555555555555556,
              "#d8576b"
             ],
             [
              0.6666666666666666,
              "#ed7953"
             ],
             [
              0.7777777777777778,
              "#fb9f3a"
             ],
             [
              0.8888888888888888,
              "#fdca26"
             ],
             [
              1.0,
              "#f0f921"
             ]
            ]
           }
          ],
          "mesh3d": [
           {
            "type": "mesh3d",
            "colorbar": {
             "outlinewidth": 0,
             "ticks": ""
            }
           }
          ],
          "scatter": [
           {
            "marker": {
             "line": {
              "color": "#283442"
             }
            },
            "type": "scatter"
           }
          ],
          "parcoords": [
           {
            "type": "parcoords",
            "line": {
             "colorbar": {
              "outlinewidth": 0,
              "ticks": ""
             }
            }
           }
          ],
          "scatterpolargl": [
           {
            "type": "scatterpolargl",
            "marker": {
             "colorbar": {
              "outlinewidth": 0,
              "ticks": ""
             }
            }
           }
          ],
          "bar": [
           {
            "error_x": {
             "color": "#f2f5fa"
            },
            "error_y": {
             "color": "#f2f5fa"
            },
            "marker": {
             "line": {
              "color": "rgb(17,17,17)",
              "width": 0.5
             },
             "pattern": {
              "fillmode": "overlay",
              "size": 10,
              "solidity": 0.2
             }
            },
            "type": "bar"
           }
          ],
          "scattergeo": [
           {
            "type": "scattergeo",
            "marker": {
             "colorbar": {
              "outlinewidth": 0,
              "ticks": ""
             }
            }
           }
          ],
          "scatterpolar": [
           {
            "type": "scatterpolar",
            "marker": {
             "colorbar": {
              "outlinewidth": 0,
              "ticks": ""
             }
            }
           }
          ],
          "histogram": [
           {
            "marker": {
             "pattern": {
              "fillmode": "overlay",
              "size": 10,
              "solidity": 0.2
             }
            },
            "type": "histogram"
           }
          ],
          "scattergl": [
           {
            "marker": {
             "line": {
              "color": "#283442"
             }
            },
            "type": "scattergl"
           }
          ],
          "scatter3d": [
           {
            "type": "scatter3d",
            "line": {
             "colorbar": {
              "outlinewidth": 0,
              "ticks": ""
             }
            },
            "marker": {
             "colorbar": {
              "outlinewidth": 0,
              "ticks": ""
             }
            }
           }
          ],
          "scattermap": [
           {
            "type": "scattermap",
            "marker": {
             "colorbar": {
              "outlinewidth": 0,
              "ticks": ""
             }
            }
           }
          ],
          "scattermapbox": [
           {
            "type": "scattermapbox",
            "marker": {
             "colorbar": {
              "outlinewidth": 0,
              "ticks": ""
             }
            }
           }
          ],
          "scatterternary": [
           {
            "type": "scatterternary",
            "marker": {
             "colorbar": {
              "outlinewidth": 0,
              "ticks": ""
             }
            }
           }
          ],
          "scattercarpet": [
           {
            "type": "scattercarpet",
            "marker": {
             "colorbar": {
              "outlinewidth": 0,
              "ticks": ""
             }
            }
           }
          ],
          "carpet": [
           {
            "aaxis": {
             "endlinecolor": "#A2B1C6",
             "gridcolor": "#506784",
             "linecolor": "#506784",
             "minorgridcolor": "#506784",
             "startlinecolor": "#A2B1C6"
            },
            "baxis": {
             "endlinecolor": "#A2B1C6",
             "gridcolor": "#506784",
             "linecolor": "#506784",
             "minorgridcolor": "#506784",
             "startlinecolor": "#A2B1C6"
            },
            "type": "carpet"
           }
          ],
          "table": [
           {
            "cells": {
             "fill": {
              "color": "#506784"
             },
             "line": {
              "color": "rgb(17,17,17)"
             }
            },
            "header": {
             "fill": {
              "color": "#2a3f5f"
             },
             "line": {
              "color": "rgb(17,17,17)"
             }
            },
            "type": "table"
           }
          ],
          "barpolar": [
           {
            "marker": {
             "line": {
              "color": "rgb(17,17,17)",
              "width": 0.5
             },
             "pattern": {
              "fillmode": "overlay",
              "size": 10,
              "solidity": 0.2
             }
            },
            "type": "barpolar"
           }
          ],
          "pie": [
           {
            "automargin": true,
            "type": "pie"
           }
          ]
         },
         "layout": {
          "autotypenumbers": "strict",
          "colorway": [
           "#636efa",
           "#EF553B",
           "#00cc96",
           "#ab63fa",
           "#FFA15A",
           "#19d3f3",
           "#FF6692",
           "#B6E880",
           "#FF97FF",
           "#FECB52"
          ],
          "font": {
           "color": "#f2f5fa"
          },
          "hovermode": "closest",
          "hoverlabel": {
           "align": "left"
          },
          "paper_bgcolor": "rgb(17,17,17)",
          "plot_bgcolor": "rgb(17,17,17)",
          "polar": {
           "bgcolor": "rgb(17,17,17)",
           "angularaxis": {
            "gridcolor": "#506784",
            "linecolor": "#506784",
            "ticks": ""
           },
           "radialaxis": {
            "gridcolor": "#506784",
            "linecolor": "#506784",
            "ticks": ""
           }
          },
          "ternary": {
           "bgcolor": "rgb(17,17,17)",
           "aaxis": {
            "gridcolor": "#506784",
            "linecolor": "#506784",
            "ticks": ""
           },
           "baxis": {
            "gridcolor": "#506784",
            "linecolor": "#506784",
            "ticks": ""
           },
           "caxis": {
            "gridcolor": "#506784",
            "linecolor": "#506784",
            "ticks": ""
           }
          },
          "coloraxis": {
           "colorbar": {
            "outlinewidth": 0,
            "ticks": ""
           }
          },
          "colorscale": {
           "sequential": [
            [
             0.0,
             "#0d0887"
            ],
            [
             0.1111111111111111,
             "#46039f"
            ],
            [
             0.2222222222222222,
             "#7201a8"
            ],
            [
             0.3333333333333333,
             "#9c179e"
            ],
            [
             0.4444444444444444,
             "#bd3786"
            ],
            [
             0.5555555555555556,
             "#d8576b"
            ],
            [
             0.6666666666666666,
             "#ed7953"
            ],
            [
             0.7777777777777778,
             "#fb9f3a"
            ],
            [
             0.8888888888888888,
             "#fdca26"
            ],
            [
             1.0,
             "#f0f921"
            ]
           ],
           "sequentialminus": [
            [
             0.0,
             "#0d0887"
            ],
            [
             0.1111111111111111,
             "#46039f"
            ],
            [
             0.2222222222222222,
             "#7201a8"
            ],
            [
             0.3333333333333333,
             "#9c179e"
            ],
            [
             0.4444444444444444,
             "#bd3786"
            ],
            [
             0.5555555555555556,
             "#d8576b"
            ],
            [
             0.6666666666666666,
             "#ed7953"
            ],
            [
             0.7777777777777778,
             "#fb9f3a"
            ],
            [
             0.8888888888888888,
             "#fdca26"
            ],
            [
             1.0,
             "#f0f921"
            ]
           ],
           "diverging": [
            [
             0,
             "#8e0152"
            ],
            [
             0.1,
             "#c51b7d"
            ],
            [
             0.2,
             "#de77ae"
            ],
            [
             0.3,
             "#f1b6da"
            ],
            [
             0.4,
             "#fde0ef"
            ],
            [
             0.5,
             "#f7f7f7"
            ],
            [
             0.6,
             "#e6f5d0"
            ],
            [
             0.7,
             "#b8e186"
            ],
            [
             0.8,
             "#7fbc41"
            ],
            [
             0.9,
             "#4d9221"
            ],
            [
             1,
             "#276419"
            ]
           ]
          },
          "xaxis": {
           "gridcolor": "#283442",
           "linecolor": "#506784",
           "ticks": "",
           "title": {
            "standoff": 15
           },
           "zerolinecolor": "#283442",
           "automargin": true,
           "zerolinewidth": 2
          },
          "yaxis": {
           "gridcolor": "#283442",
           "linecolor": "#506784",
           "ticks": "",
           "title": {
            "standoff": 15
           },
           "zerolinecolor": "#283442",
           "automargin": true,
           "zerolinewidth": 2
          },
          "scene": {
           "xaxis": {
            "backgroundcolor": "rgb(17,17,17)",
            "gridcolor": "#506784",
            "linecolor": "#506784",
            "showbackground": true,
            "ticks": "",
            "zerolinecolor": "#C8D4E3",
            "gridwidth": 2
           },
           "yaxis": {
            "backgroundcolor": "rgb(17,17,17)",
            "gridcolor": "#506784",
            "linecolor": "#506784",
            "showbackground": true,
            "ticks": "",
            "zerolinecolor": "#C8D4E3",
            "gridwidth": 2
           },
           "zaxis": {
            "backgroundcolor": "rgb(17,17,17)",
            "gridcolor": "#506784",
            "linecolor": "#506784",
            "showbackground": true,
            "ticks": "",
            "zerolinecolor": "#C8D4E3",
            "gridwidth": 2
           }
          },
          "shapedefaults": {
           "line": {
            "color": "#f2f5fa"
           }
          },
          "annotationdefaults": {
           "arrowcolor": "#f2f5fa",
           "arrowhead": 0,
           "arrowwidth": 1
          },
          "geo": {
           "bgcolor": "rgb(17,17,17)",
           "landcolor": "rgb(17,17,17)",
           "subunitcolor": "#506784",
           "showland": true,
           "showlakes": true,
           "lakecolor": "rgb(17,17,17)"
          },
          "title": {
           "x": 0.05
          },
          "updatemenudefaults": {
           "bgcolor": "#506784",
           "borderwidth": 0
          },
          "sliderdefaults": {
           "bgcolor": "#C8D4E3",
           "borderwidth": 1,
           "bordercolor": "rgb(17,17,17)",
           "tickwidth": 0
          },
          "mapbox": {
           "style": "dark"
          }
         }
        },
        "xaxis": {
         "anchor": "y",
         "domain": [
          0.0,
          1.0
         ],
         "title": {
          "text": "Clusters"
         }
        },
        "yaxis": {
         "anchor": "x",
         "domain": [
          0.0,
          1.0
         ],
         "title": {
          "text": "index"
         }
        },
        "legend": {
         "tracegroupgap": 0
        },
        "margin": {
         "t": 60
        },
        "title": {
         "text": "Birch"
        }
       },
       "config": {
        "plotlyServerURL": "https://plot.ly"
       }
      }
     },
     "metadata": {},
     "output_type": "display_data"
    }
   ],
   "execution_count": 46
  },
  {
   "metadata": {
    "ExecuteTime": {
     "end_time": "2025-09-24T14:36:43.311270Z",
     "start_time": "2025-09-24T14:36:43.112858Z"
    }
   },
   "cell_type": "code",
   "source": [
    "# Visualisations of task 3\n",
    "\n",
    "fig = px.scatter(Sample, labels)\n",
    "fig.update_layout(title='Affinity Propagation')\n",
    "fig.update_xaxes(title='Clusters')\n",
    "fig.show()\n",
    "\n",
    "fig = px.scatter(Data, labels2)\n",
    "fig.update_layout(title='DBSCAN')\n",
    "fig.update_xaxes(title='Clusters')\n",
    "fig.show()\n",
    "\n",
    "fig = px.scatter(Data, labels3)\n",
    "fig.update_layout(title='Birch')\n",
    "fig.update_xaxes(title='Clusters')\n",
    "fig.show() "
   ],
   "id": "7505cad42ca4aa05",
   "outputs": [
    {
     "data": {
      "application/vnd.plotly.v1+json": {
       "data": [
        {
         "hovertemplate": "x=%{x}<br>index=%{y}<extra></extra>",
         "legendgroup": "",
         "marker": {
          "color": "#636efa",
          "symbol": "circle"
         },
         "mode": "markers",
         "name": "",
         "orientation": "h",
         "showlegend": false,
         "x": {
          "dtype": "i1",
          "bdata": "AxYoHRohAjIfAislHSsLAAsaIC0sICsXHBMCMjMOKzIzGwEACiskMAIIMwsDEwkUJAIfFBMrHwsuCAkNAgkbITMBGDAiIjAuLBQFHxkXHycMKRcLJgsTGxsdLhAyGhcULCwcJB8sIQYUAishIyszCBMCKRozIQkcGxoBCAMXGi4aGiwwIx8yHQEsGQ0XHyMCEAUpBCAaHA8jLDMhGDMCLBcjMiMQIBweGgsYChYWLAIzAAICCjIAHysFKSMYBh8xMiMUExsCEywyBzIjHx4JMgsYIBcYDxoTHAgAMjIgGAgQGiMzHx8GDiszMiEOCgkyGhonHAIcCgsaKykbAgsgKzIeKx0RLCQfMjIrDQAXFxcMGigsFxsRKysCDxoiExorGhAKKCILBhoOGwECITIaMzIyHwUULCwMKywpKS4UIRgjDSsfDAoHKzIaES4BMw0oIhcrMhcJGgspDiwiDTMyLRohHxYfMxsfEw8eIRonGjAhCSYzKxAYLAsoKw4fBxoeCQgGEC4UIA4aFC4xESwrAiwAGhsIAjINGzMELhoaLgsTJAsLHwkyIwocGjMaIQAwGhoTCgsOHBMrGjMbAiYRAhgXEgsCIzIQFx8aFhMyGiwJHwgbAiYJHRoNGjMCIhcsCgkwGgAlFDMKKwIUCyEjMiMwIAwCKwopMzIpKxUYFyAaCBkbFhYbDQoOLBoGJwAeFwICMh0TAisYCyIaBhcZEx8rMR8ZDBwaLjAXKxshMQkaHAkyMikaJBQFIR8YDgkyGiQiERoYMxQmHQEcKBwgDBghMjITBhoJLCgLCxAGDykKGhchGyYRGhMuMhcyMTIJHiwfHBMzMxosGAIjGwwTFyACISMsFyYJCzMgEy4THwIuHCwrIwouCCEaHRcwHSIgKy4CMh0fJjIYIRkzGg4aKBwaJAMhMRAGFzEAICQYHyszLDMyAiIRGCIAAg8cJgIaFAkYHRAhHBcyMhoYGR0FCRwaFyMICS4hFhsiFyQDHxozIxolAiEiICYVGiwgHRQsHRgrKywaAgoFMhgxIRYfLA8aJiEyDwIaCycIDQkCABkeBSkZHAQQJzImGBACMh0YMyAPHCsoHQgdJQ0XKwQcCSEaKRofLB0qAh4nDTMRCC4pMwQrCxMtMxMrIDIuGwIzMiAyJCEcLCEKISssGAINGCkOIxAyERohIhMPLR0AISsaKQwaKDIYDgENHwggLAEXAjMxIRorFiEBHCwuLyYaMAIwFCIJMgkmMCwWGDEnGgwyGhAcMxMXIBwUMi0cAx4CACsaMzIPGisgDhYjCCcNBAoUMiwjJiwfHysOGgkVKAANJgsIJwoIJA=="
         },
         "xaxis": "x",
         "y": {
          "dtype": "i2",
          "bdata": "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"
         },
         "yaxis": "y",
         "type": "scatter"
        }
       ],
       "layout": {
        "template": {
         "data": {
          "histogram2dcontour": [
           {
            "type": "histogram2dcontour",
            "colorbar": {
             "outlinewidth": 0,
             "ticks": ""
            },
            "colorscale": [
             [
              0.0,
              "#0d0887"
             ],
             [
              0.1111111111111111,
              "#46039f"
             ],
             [
              0.2222222222222222,
              "#7201a8"
             ],
             [
              0.3333333333333333,
              "#9c179e"
             ],
             [
              0.4444444444444444,
              "#bd3786"
             ],
             [
              0.5555555555555556,
              "#d8576b"
             ],
             [
              0.6666666666666666,
              "#ed7953"
             ],
             [
              0.7777777777777778,
              "#fb9f3a"
             ],
             [
              0.8888888888888888,
              "#fdca26"
             ],
             [
              1.0,
              "#f0f921"
             ]
            ]
           }
          ],
          "choropleth": [
           {
            "type": "choropleth",
            "colorbar": {
             "outlinewidth": 0,
             "ticks": ""
            }
           }
          ],
          "histogram2d": [
           {
            "type": "histogram2d",
            "colorbar": {
             "outlinewidth": 0,
             "ticks": ""
            },
            "colorscale": [
             [
              0.0,
              "#0d0887"
             ],
             [
              0.1111111111111111,
              "#46039f"
             ],
             [
              0.2222222222222222,
              "#7201a8"
             ],
             [
              0.3333333333333333,
              "#9c179e"
             ],
             [
              0.4444444444444444,
              "#bd3786"
             ],
             [
              0.5555555555555556,
              "#d8576b"
             ],
             [
              0.6666666666666666,
              "#ed7953"
             ],
             [
              0.7777777777777778,
              "#fb9f3a"
             ],
             [
              0.8888888888888888,
              "#fdca26"
             ],
             [
              1.0,
              "#f0f921"
             ]
            ]
           }
          ],
          "heatmap": [
           {
            "type": "heatmap",
            "colorbar": {
             "outlinewidth": 0,
             "ticks": ""
            },
            "colorscale": [
             [
              0.0,
              "#0d0887"
             ],
             [
              0.1111111111111111,
              "#46039f"
             ],
             [
              0.2222222222222222,
              "#7201a8"
             ],
             [
              0.3333333333333333,
              "#9c179e"
             ],
             [
              0.4444444444444444,
              "#bd3786"
             ],
             [
              0.5555555555555556,
              "#d8576b"
             ],
             [
              0.6666666666666666,
              "#ed7953"
             ],
             [
              0.7777777777777778,
              "#fb9f3a"
             ],
             [
              0.8888888888888888,
              "#fdca26"
             ],
             [
              1.0,
              "#f0f921"
             ]
            ]
           }
          ],
          "contourcarpet": [
           {
            "type": "contourcarpet",
            "colorbar": {
             "outlinewidth": 0,
             "ticks": ""
            }
           }
          ],
          "contour": [
           {
            "type": "contour",
            "colorbar": {
             "outlinewidth": 0,
             "ticks": ""
            },
            "colorscale": [
             [
              0.0,
              "#0d0887"
             ],
             [
              0.1111111111111111,
              "#46039f"
             ],
             [
              0.2222222222222222,
              "#7201a8"
             ],
             [
              0.3333333333333333,
              "#9c179e"
             ],
             [
              0.4444444444444444,
              "#bd3786"
             ],
             [
              0.5555555555555556,
              "#d8576b"
             ],
             [
              0.6666666666666666,
              "#ed7953"
             ],
             [
              0.7777777777777778,
              "#fb9f3a"
             ],
             [
              0.8888888888888888,
              "#fdca26"
             ],
             [
              1.0,
              "#f0f921"
             ]
            ]
           }
          ],
          "surface": [
           {
            "type": "surface",
            "colorbar": {
             "outlinewidth": 0,
             "ticks": ""
            },
            "colorscale": [
             [
              0.0,
              "#0d0887"
             ],
             [
              0.1111111111111111,
              "#46039f"
             ],
             [
              0.2222222222222222,
              "#7201a8"
             ],
             [
              0.3333333333333333,
              "#9c179e"
             ],
             [
              0.4444444444444444,
              "#bd3786"
             ],
             [
              0.5555555555555556,
              "#d8576b"
             ],
             [
              0.6666666666666666,
              "#ed7953"
             ],
             [
              0.7777777777777778,
              "#fb9f3a"
             ],
             [
              0.8888888888888888,
              "#fdca26"
             ],
             [
              1.0,
              "#f0f921"
             ]
            ]
           }
          ],
          "mesh3d": [
           {
            "type": "mesh3d",
            "colorbar": {
             "outlinewidth": 0,
             "ticks": ""
            }
           }
          ],
          "scatter": [
           {
            "marker": {
             "line": {
              "color": "#283442"
             }
            },
            "type": "scatter"
           }
          ],
          "parcoords": [
           {
            "type": "parcoords",
            "line": {
             "colorbar": {
              "outlinewidth": 0,
              "ticks": ""
             }
            }
           }
          ],
          "scatterpolargl": [
           {
            "type": "scatterpolargl",
            "marker": {
             "colorbar": {
              "outlinewidth": 0,
              "ticks": ""
             }
            }
           }
          ],
          "bar": [
           {
            "error_x": {
             "color": "#f2f5fa"
            },
            "error_y": {
             "color": "#f2f5fa"
            },
            "marker": {
             "line": {
              "color": "rgb(17,17,17)",
              "width": 0.5
             },
             "pattern": {
              "fillmode": "overlay",
              "size": 10,
              "solidity": 0.2
             }
            },
            "type": "bar"
           }
          ],
          "scattergeo": [
           {
            "type": "scattergeo",
            "marker": {
             "colorbar": {
              "outlinewidth": 0,
              "ticks": ""
             }
            }
           }
          ],
          "scatterpolar": [
           {
            "type": "scatterpolar",
            "marker": {
             "colorbar": {
              "outlinewidth": 0,
              "ticks": ""
             }
            }
           }
          ],
          "histogram": [
           {
            "marker": {
             "pattern": {
              "fillmode": "overlay",
              "size": 10,
              "solidity": 0.2
             }
            },
            "type": "histogram"
           }
          ],
          "scattergl": [
           {
            "marker": {
             "line": {
              "color": "#283442"
             }
            },
            "type": "scattergl"
           }
          ],
          "scatter3d": [
           {
            "type": "scatter3d",
            "line": {
             "colorbar": {
              "outlinewidth": 0,
              "ticks": ""
             }
            },
            "marker": {
             "colorbar": {
              "outlinewidth": 0,
              "ticks": ""
             }
            }
           }
          ],
          "scattermap": [
           {
            "type": "scattermap",
            "marker": {
             "colorbar": {
              "outlinewidth": 0,
              "ticks": ""
             }
            }
           }
          ],
          "scattermapbox": [
           {
            "type": "scattermapbox",
            "marker": {
             "colorbar": {
              "outlinewidth": 0,
              "ticks": ""
             }
            }
           }
          ],
          "scatterternary": [
           {
            "type": "scatterternary",
            "marker": {
             "colorbar": {
              "outlinewidth": 0,
              "ticks": ""
             }
            }
           }
          ],
          "scattercarpet": [
           {
            "type": "scattercarpet",
            "marker": {
             "colorbar": {
              "outlinewidth": 0,
              "ticks": ""
             }
            }
           }
          ],
          "carpet": [
           {
            "aaxis": {
             "endlinecolor": "#A2B1C6",
             "gridcolor": "#506784",
             "linecolor": "#506784",
             "minorgridcolor": "#506784",
             "startlinecolor": "#A2B1C6"
            },
            "baxis": {
             "endlinecolor": "#A2B1C6",
             "gridcolor": "#506784",
             "linecolor": "#506784",
             "minorgridcolor": "#506784",
             "startlinecolor": "#A2B1C6"
            },
            "type": "carpet"
           }
          ],
          "table": [
           {
            "cells": {
             "fill": {
              "color": "#506784"
             },
             "line": {
              "color": "rgb(17,17,17)"
             }
            },
            "header": {
             "fill": {
              "color": "#2a3f5f"
             },
             "line": {
              "color": "rgb(17,17,17)"
             }
            },
            "type": "table"
           }
          ],
          "barpolar": [
           {
            "marker": {
             "line": {
              "color": "rgb(17,17,17)",
              "width": 0.5
             },
             "pattern": {
              "fillmode": "overlay",
              "size": 10,
              "solidity": 0.2
             }
            },
            "type": "barpolar"
           }
          ],
          "pie": [
           {
            "automargin": true,
            "type": "pie"
           }
          ]
         },
         "layout": {
          "autotypenumbers": "strict",
          "colorway": [
           "#636efa",
           "#EF553B",
           "#00cc96",
           "#ab63fa",
           "#FFA15A",
           "#19d3f3",
           "#FF6692",
           "#B6E880",
           "#FF97FF",
           "#FECB52"
          ],
          "font": {
           "color": "#f2f5fa"
          },
          "hovermode": "closest",
          "hoverlabel": {
           "align": "left"
          },
          "paper_bgcolor": "rgb(17,17,17)",
          "plot_bgcolor": "rgb(17,17,17)",
          "polar": {
           "bgcolor": "rgb(17,17,17)",
           "angularaxis": {
            "gridcolor": "#506784",
            "linecolor": "#506784",
            "ticks": ""
           },
           "radialaxis": {
            "gridcolor": "#506784",
            "linecolor": "#506784",
            "ticks": ""
           }
          },
          "ternary": {
           "bgcolor": "rgb(17,17,17)",
           "aaxis": {
            "gridcolor": "#506784",
            "linecolor": "#506784",
            "ticks": ""
           },
           "baxis": {
            "gridcolor": "#506784",
            "linecolor": "#506784",
            "ticks": ""
           },
           "caxis": {
            "gridcolor": "#506784",
            "linecolor": "#506784",
            "ticks": ""
           }
          },
          "coloraxis": {
           "colorbar": {
            "outlinewidth": 0,
            "ticks": ""
           }
          },
          "colorscale": {
           "sequential": [
            [
             0.0,
             "#0d0887"
            ],
            [
             0.1111111111111111,
             "#46039f"
            ],
            [
             0.2222222222222222,
             "#7201a8"
            ],
            [
             0.3333333333333333,
             "#9c179e"
            ],
            [
             0.4444444444444444,
             "#bd3786"
            ],
            [
             0.5555555555555556,
             "#d8576b"
            ],
            [
             0.6666666666666666,
             "#ed7953"
            ],
            [
             0.7777777777777778,
             "#fb9f3a"
            ],
            [
             0.8888888888888888,
             "#fdca26"
            ],
            [
             1.0,
             "#f0f921"
            ]
           ],
           "sequentialminus": [
            [
             0.0,
             "#0d0887"
            ],
            [
             0.1111111111111111,
             "#46039f"
            ],
            [
             0.2222222222222222,
             "#7201a8"
            ],
            [
             0.3333333333333333,
             "#9c179e"
            ],
            [
             0.4444444444444444,
             "#bd3786"
            ],
            [
             0.5555555555555556,
             "#d8576b"
            ],
            [
             0.6666666666666666,
             "#ed7953"
            ],
            [
             0.7777777777777778,
             "#fb9f3a"
            ],
            [
             0.8888888888888888,
             "#fdca26"
            ],
            [
             1.0,
             "#f0f921"
            ]
           ],
           "diverging": [
            [
             0,
             "#8e0152"
            ],
            [
             0.1,
             "#c51b7d"
            ],
            [
             0.2,
             "#de77ae"
            ],
            [
             0.3,
             "#f1b6da"
            ],
            [
             0.4,
             "#fde0ef"
            ],
            [
             0.5,
             "#f7f7f7"
            ],
            [
             0.6,
             "#e6f5d0"
            ],
            [
             0.7,
             "#b8e186"
            ],
            [
             0.8,
             "#7fbc41"
            ],
            [
             0.9,
             "#4d9221"
            ],
            [
             1,
             "#276419"
            ]
           ]
          },
          "xaxis": {
           "gridcolor": "#283442",
           "linecolor": "#506784",
           "ticks": "",
           "title": {
            "standoff": 15
           },
           "zerolinecolor": "#283442",
           "automargin": true,
           "zerolinewidth": 2
          },
          "yaxis": {
           "gridcolor": "#283442",
           "linecolor": "#506784",
           "ticks": "",
           "title": {
            "standoff": 15
           },
           "zerolinecolor": "#283442",
           "automargin": true,
           "zerolinewidth": 2
          },
          "scene": {
           "xaxis": {
            "backgroundcolor": "rgb(17,17,17)",
            "gridcolor": "#506784",
            "linecolor": "#506784",
            "showbackground": true,
            "ticks": "",
            "zerolinecolor": "#C8D4E3",
            "gridwidth": 2
           },
           "yaxis": {
            "backgroundcolor": "rgb(17,17,17)",
            "gridcolor": "#506784",
            "linecolor": "#506784",
            "showbackground": true,
            "ticks": "",
            "zerolinecolor": "#C8D4E3",
            "gridwidth": 2
           },
           "zaxis": {
            "backgroundcolor": "rgb(17,17,17)",
            "gridcolor": "#506784",
            "linecolor": "#506784",
            "showbackground": true,
            "ticks": "",
            "zerolinecolor": "#C8D4E3",
            "gridwidth": 2
           }
          },
          "shapedefaults": {
           "line": {
            "color": "#f2f5fa"
           }
          },
          "annotationdefaults": {
           "arrowcolor": "#f2f5fa",
           "arrowhead": 0,
           "arrowwidth": 1
          },
          "geo": {
           "bgcolor": "rgb(17,17,17)",
           "landcolor": "rgb(17,17,17)",
           "subunitcolor": "#506784",
           "showland": true,
           "showlakes": true,
           "lakecolor": "rgb(17,17,17)"
          },
          "title": {
           "x": 0.05
          },
          "updatemenudefaults": {
           "bgcolor": "#506784",
           "borderwidth": 0
          },
          "sliderdefaults": {
           "bgcolor": "#C8D4E3",
           "borderwidth": 1,
           "bordercolor": "rgb(17,17,17)",
           "tickwidth": 0
          },
          "mapbox": {
           "style": "dark"
          }
         }
        },
        "xaxis": {
         "anchor": "y",
         "domain": [
          0.0,
          1.0
         ],
         "title": {
          "text": "Clusters"
         }
        },
        "yaxis": {
         "anchor": "x",
         "domain": [
          0.0,
          1.0
         ],
         "title": {
          "text": "index"
         }
        },
        "legend": {
         "tracegroupgap": 0
        },
        "margin": {
         "t": 60
        },
        "title": {
         "text": "Affinity Propagation"
        }
       },
       "config": {
        "plotlyServerURL": "https://plot.ly"
       }
      }
     },
     "metadata": {},
     "output_type": "display_data"
    },
    {
     "data": {
      "application/vnd.plotly.v1+json": {
       "data": [
        {
         "hovertemplate": "x=%{x}<br>index=%{y}<extra></extra>",
         "legendgroup": "",
         "marker": {
          "color": "#636efa",
          "symbol": "circle"
         },
         "mode": "markers",
         "name": "",
         "showlegend": false,
         "x": {
          "dtype": "i1",
          "bdata": "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"
         },
         "xaxis": "x",
         "y": {
          "dtype": "i2",
          "bdata": "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"
         },
         "yaxis": "y",
         "type": "scattergl"
        }
       ],
       "layout": {
        "template": {
         "data": {
          "histogram2dcontour": [
           {
            "type": "histogram2dcontour",
            "colorbar": {
             "outlinewidth": 0,
             "ticks": ""
            },
            "colorscale": [
             [
              0.0,
              "#0d0887"
             ],
             [
              0.1111111111111111,
              "#46039f"
             ],
             [
              0.2222222222222222,
              "#7201a8"
             ],
             [
              0.3333333333333333,
              "#9c179e"
             ],
             [
              0.4444444444444444,
              "#bd3786"
             ],
             [
              0.5555555555555556,
              "#d8576b"
             ],
             [
              0.6666666666666666,
              "#ed7953"
             ],
             [
              0.7777777777777778,
              "#fb9f3a"
             ],
             [
              0.8888888888888888,
              "#fdca26"
             ],
             [
              1.0,
              "#f0f921"
             ]
            ]
           }
          ],
          "choropleth": [
           {
            "type": "choropleth",
            "colorbar": {
             "outlinewidth": 0,
             "ticks": ""
            }
           }
          ],
          "histogram2d": [
           {
            "type": "histogram2d",
            "colorbar": {
             "outlinewidth": 0,
             "ticks": ""
            },
            "colorscale": [
             [
              0.0,
              "#0d0887"
             ],
             [
              0.1111111111111111,
              "#46039f"
             ],
             [
              0.2222222222222222,
              "#7201a8"
             ],
             [
              0.3333333333333333,
              "#9c179e"
             ],
             [
              0.4444444444444444,
              "#bd3786"
             ],
             [
              0.5555555555555556,
              "#d8576b"
             ],
             [
              0.6666666666666666,
              "#ed7953"
             ],
             [
              0.7777777777777778,
              "#fb9f3a"
             ],
             [
              0.8888888888888888,
              "#fdca26"
             ],
             [
              1.0,
              "#f0f921"
             ]
            ]
           }
          ],
          "heatmap": [
           {
            "type": "heatmap",
            "colorbar": {
             "outlinewidth": 0,
             "ticks": ""
            },
            "colorscale": [
             [
              0.0,
              "#0d0887"
             ],
             [
              0.1111111111111111,
              "#46039f"
             ],
             [
              0.2222222222222222,
              "#7201a8"
             ],
             [
              0.3333333333333333,
              "#9c179e"
             ],
             [
              0.4444444444444444,
              "#bd3786"
             ],
             [
              0.5555555555555556,
              "#d8576b"
             ],
             [
              0.6666666666666666,
              "#ed7953"
             ],
             [
              0.7777777777777778,
              "#fb9f3a"
             ],
             [
              0.8888888888888888,
              "#fdca26"
             ],
             [
              1.0,
              "#f0f921"
             ]
            ]
           }
          ],
          "contourcarpet": [
           {
            "type": "contourcarpet",
            "colorbar": {
             "outlinewidth": 0,
             "ticks": ""
            }
           }
          ],
          "contour": [
           {
            "type": "contour",
            "colorbar": {
             "outlinewidth": 0,
             "ticks": ""
            },
            "colorscale": [
             [
              0.0,
              "#0d0887"
             ],
             [
              0.1111111111111111,
              "#46039f"
             ],
             [
              0.2222222222222222,
              "#7201a8"
             ],
             [
              0.3333333333333333,
              "#9c179e"
             ],
             [
              0.4444444444444444,
              "#bd3786"
             ],
             [
              0.5555555555555556,
              "#d8576b"
             ],
             [
              0.6666666666666666,
              "#ed7953"
             ],
             [
              0.7777777777777778,
              "#fb9f3a"
             ],
             [
              0.8888888888888888,
              "#fdca26"
             ],
             [
              1.0,
              "#f0f921"
             ]
            ]
           }
          ],
          "surface": [
           {
            "type": "surface",
            "colorbar": {
             "outlinewidth": 0,
             "ticks": ""
            },
            "colorscale": [
             [
              0.0,
              "#0d0887"
             ],
             [
              0.1111111111111111,
              "#46039f"
             ],
             [
              0.2222222222222222,
              "#7201a8"
             ],
             [
              0.3333333333333333,
              "#9c179e"
             ],
             [
              0.4444444444444444,
              "#bd3786"
             ],
             [
              0.5555555555555556,
              "#d8576b"
             ],
             [
              0.6666666666666666,
              "#ed7953"
             ],
             [
              0.7777777777777778,
              "#fb9f3a"
             ],
             [
              0.8888888888888888,
              "#fdca26"
             ],
             [
              1.0,
              "#f0f921"
             ]
            ]
           }
          ],
          "mesh3d": [
           {
            "type": "mesh3d",
            "colorbar": {
             "outlinewidth": 0,
             "ticks": ""
            }
           }
          ],
          "scatter": [
           {
            "marker": {
             "line": {
              "color": "#283442"
             }
            },
            "type": "scatter"
           }
          ],
          "parcoords": [
           {
            "type": "parcoords",
            "line": {
             "colorbar": {
              "outlinewidth": 0,
              "ticks": ""
             }
            }
           }
          ],
          "scatterpolargl": [
           {
            "type": "scatterpolargl",
            "marker": {
             "colorbar": {
              "outlinewidth": 0,
              "ticks": ""
             }
            }
           }
          ],
          "bar": [
           {
            "error_x": {
             "color": "#f2f5fa"
            },
            "error_y": {
             "color": "#f2f5fa"
            },
            "marker": {
             "line": {
              "color": "rgb(17,17,17)",
              "width": 0.5
             },
             "pattern": {
              "fillmode": "overlay",
              "size": 10,
              "solidity": 0.2
             }
            },
            "type": "bar"
           }
          ],
          "scattergeo": [
           {
            "type": "scattergeo",
            "marker": {
             "colorbar": {
              "outlinewidth": 0,
              "ticks": ""
             }
            }
           }
          ],
          "scatterpolar": [
           {
            "type": "scatterpolar",
            "marker": {
             "colorbar": {
              "outlinewidth": 0,
              "ticks": ""
             }
            }
           }
          ],
          "histogram": [
           {
            "marker": {
             "pattern": {
              "fillmode": "overlay",
              "size": 10,
              "solidity": 0.2
             }
            },
            "type": "histogram"
           }
          ],
          "scattergl": [
           {
            "marker": {
             "line": {
              "color": "#283442"
             }
            },
            "type": "scattergl"
           }
          ],
          "scatter3d": [
           {
            "type": "scatter3d",
            "line": {
             "colorbar": {
              "outlinewidth": 0,
              "ticks": ""
             }
            },
            "marker": {
             "colorbar": {
              "outlinewidth": 0,
              "ticks": ""
             }
            }
           }
          ],
          "scattermap": [
           {
            "type": "scattermap",
            "marker": {
             "colorbar": {
              "outlinewidth": 0,
              "ticks": ""
             }
            }
           }
          ],
          "scattermapbox": [
           {
            "type": "scattermapbox",
            "marker": {
             "colorbar": {
              "outlinewidth": 0,
              "ticks": ""
             }
            }
           }
          ],
          "scatterternary": [
           {
            "type": "scatterternary",
            "marker": {
             "colorbar": {
              "outlinewidth": 0,
              "ticks": ""
             }
            }
           }
          ],
          "scattercarpet": [
           {
            "type": "scattercarpet",
            "marker": {
             "colorbar": {
              "outlinewidth": 0,
              "ticks": ""
             }
            }
           }
          ],
          "carpet": [
           {
            "aaxis": {
             "endlinecolor": "#A2B1C6",
             "gridcolor": "#506784",
             "linecolor": "#506784",
             "minorgridcolor": "#506784",
             "startlinecolor": "#A2B1C6"
            },
            "baxis": {
             "endlinecolor": "#A2B1C6",
             "gridcolor": "#506784",
             "linecolor": "#506784",
             "minorgridcolor": "#506784",
             "startlinecolor": "#A2B1C6"
            },
            "type": "carpet"
           }
          ],
          "table": [
           {
            "cells": {
             "fill": {
              "color": "#506784"
             },
             "line": {
              "color": "rgb(17,17,17)"
             }
            },
            "header": {
             "fill": {
              "color": "#2a3f5f"
             },
             "line": {
              "color": "rgb(17,17,17)"
             }
            },
            "type": "table"
           }
          ],
          "barpolar": [
           {
            "marker": {
             "line": {
              "color": "rgb(17,17,17)",
              "width": 0.5
             },
             "pattern": {
              "fillmode": "overlay",
              "size": 10,
              "solidity": 0.2
             }
            },
            "type": "barpolar"
           }
          ],
          "pie": [
           {
            "automargin": true,
            "type": "pie"
           }
          ]
         },
         "layout": {
          "autotypenumbers": "strict",
          "colorway": [
           "#636efa",
           "#EF553B",
           "#00cc96",
           "#ab63fa",
           "#FFA15A",
           "#19d3f3",
           "#FF6692",
           "#B6E880",
           "#FF97FF",
           "#FECB52"
          ],
          "font": {
           "color": "#f2f5fa"
          },
          "hovermode": "closest",
          "hoverlabel": {
           "align": "left"
          },
          "paper_bgcolor": "rgb(17,17,17)",
          "plot_bgcolor": "rgb(17,17,17)",
          "polar": {
           "bgcolor": "rgb(17,17,17)",
           "angularaxis": {
            "gridcolor": "#506784",
            "linecolor": "#506784",
            "ticks": ""
           },
           "radialaxis": {
            "gridcolor": "#506784",
            "linecolor": "#506784",
            "ticks": ""
           }
          },
          "ternary": {
           "bgcolor": "rgb(17,17,17)",
           "aaxis": {
            "gridcolor": "#506784",
            "linecolor": "#506784",
            "ticks": ""
           },
           "baxis": {
            "gridcolor": "#506784",
            "linecolor": "#506784",
            "ticks": ""
           },
           "caxis": {
            "gridcolor": "#506784",
            "linecolor": "#506784",
            "ticks": ""
           }
          },
          "coloraxis": {
           "colorbar": {
            "outlinewidth": 0,
            "ticks": ""
           }
          },
          "colorscale": {
           "sequential": [
            [
             0.0,
             "#0d0887"
            ],
            [
             0.1111111111111111,
             "#46039f"
            ],
            [
             0.2222222222222222,
             "#7201a8"
            ],
            [
             0.3333333333333333,
             "#9c179e"
            ],
            [
             0.4444444444444444,
             "#bd3786"
            ],
            [
             0.5555555555555556,
             "#d8576b"
            ],
            [
             0.6666666666666666,
             "#ed7953"
            ],
            [
             0.7777777777777778,
             "#fb9f3a"
            ],
            [
             0.8888888888888888,
             "#fdca26"
            ],
            [
             1.0,
             "#f0f921"
            ]
           ],
           "sequentialminus": [
            [
             0.0,
             "#0d0887"
            ],
            [
             0.1111111111111111,
             "#46039f"
            ],
            [
             0.2222222222222222,
             "#7201a8"
            ],
            [
             0.3333333333333333,
             "#9c179e"
            ],
            [
             0.4444444444444444,
             "#bd3786"
            ],
            [
             0.5555555555555556,
             "#d8576b"
            ],
            [
             0.6666666666666666,
             "#ed7953"
            ],
            [
             0.7777777777777778,
             "#fb9f3a"
            ],
            [
             0.8888888888888888,
             "#fdca26"
            ],
            [
             1.0,
             "#f0f921"
            ]
           ],
           "diverging": [
            [
             0,
             "#8e0152"
            ],
            [
             0.1,
             "#c51b7d"
            ],
            [
             0.2,
             "#de77ae"
            ],
            [
             0.3,
             "#f1b6da"
            ],
            [
             0.4,
             "#fde0ef"
            ],
            [
             0.5,
             "#f7f7f7"
            ],
            [
             0.6,
             "#e6f5d0"
            ],
            [
             0.7,
             "#b8e186"
            ],
            [
             0.8,
             "#7fbc41"
            ],
            [
             0.9,
             "#4d9221"
            ],
            [
             1,
             "#276419"
            ]
           ]
          },
          "xaxis": {
           "gridcolor": "#283442",
           "linecolor": "#506784",
           "ticks": "",
           "title": {
            "standoff": 15
           },
           "zerolinecolor": "#283442",
           "automargin": true,
           "zerolinewidth": 2
          },
          "yaxis": {
           "gridcolor": "#283442",
           "linecolor": "#506784",
           "ticks": "",
           "title": {
            "standoff": 15
           },
           "zerolinecolor": "#283442",
           "automargin": true,
           "zerolinewidth": 2
          },
          "scene": {
           "xaxis": {
            "backgroundcolor": "rgb(17,17,17)",
            "gridcolor": "#506784",
            "linecolor": "#506784",
            "showbackground": true,
            "ticks": "",
            "zerolinecolor": "#C8D4E3",
            "gridwidth": 2
           },
           "yaxis": {
            "backgroundcolor": "rgb(17,17,17)",
            "gridcolor": "#506784",
            "linecolor": "#506784",
            "showbackground": true,
            "ticks": "",
            "zerolinecolor": "#C8D4E3",
            "gridwidth": 2
           },
           "zaxis": {
            "backgroundcolor": "rgb(17,17,17)",
            "gridcolor": "#506784",
            "linecolor": "#506784",
            "showbackground": true,
            "ticks": "",
            "zerolinecolor": "#C8D4E3",
            "gridwidth": 2
           }
          },
          "shapedefaults": {
           "line": {
            "color": "#f2f5fa"
           }
          },
          "annotationdefaults": {
           "arrowcolor": "#f2f5fa",
           "arrowhead": 0,
           "arrowwidth": 1
          },
          "geo": {
           "bgcolor": "rgb(17,17,17)",
           "landcolor": "rgb(17,17,17)",
           "subunitcolor": "#506784",
           "showland": true,
           "showlakes": true,
           "lakecolor": "rgb(17,17,17)"
          },
          "title": {
           "x": 0.05
          },
          "updatemenudefaults": {
           "bgcolor": "#506784",
           "borderwidth": 0
          },
          "sliderdefaults": {
           "bgcolor": "#C8D4E3",
           "borderwidth": 1,
           "bordercolor": "rgb(17,17,17)",
           "tickwidth": 0
          },
          "mapbox": {
           "style": "dark"
          }
         }
        },
        "xaxis": {
         "anchor": "y",
         "domain": [
          0.0,
          1.0
         ],
         "title": {
          "text": "Clusters"
         }
        },
        "yaxis": {
         "anchor": "x",
         "domain": [
          0.0,
          1.0
         ],
         "title": {
          "text": "index"
         }
        },
        "legend": {
         "tracegroupgap": 0
        },
        "margin": {
         "t": 60
        },
        "title": {
         "text": "DBSCAN"
        }
       },
       "config": {
        "plotlyServerURL": "https://plot.ly"
       }
      }
     },
     "metadata": {},
     "output_type": "display_data"
    },
    {
     "data": {
      "application/vnd.plotly.v1+json": {
       "data": [
        {
         "hovertemplate": "x=%{x}<br>index=%{y}<extra></extra>",
         "legendgroup": "",
         "marker": {
          "color": "#636efa",
          "symbol": "circle"
         },
         "mode": "markers",
         "name": "",
         "showlegend": false,
         "x": {
          "dtype": "i4",
          "bdata": "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"
         },
         "xaxis": "x",
         "y": {
          "dtype": "i2",
          "bdata": "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"
         },
         "yaxis": "y",
         "type": "scattergl"
        }
       ],
       "layout": {
        "template": {
         "data": {
          "histogram2dcontour": [
           {
            "type": "histogram2dcontour",
            "colorbar": {
             "outlinewidth": 0,
             "ticks": ""
            },
            "colorscale": [
             [
              0.0,
              "#0d0887"
             ],
             [
              0.1111111111111111,
              "#46039f"
             ],
             [
              0.2222222222222222,
              "#7201a8"
             ],
             [
              0.3333333333333333,
              "#9c179e"
             ],
             [
              0.4444444444444444,
              "#bd3786"
             ],
             [
              0.5555555555555556,
              "#d8576b"
             ],
             [
              0.6666666666666666,
              "#ed7953"
             ],
             [
              0.7777777777777778,
              "#fb9f3a"
             ],
             [
              0.8888888888888888,
              "#fdca26"
             ],
             [
              1.0,
              "#f0f921"
             ]
            ]
           }
          ],
          "choropleth": [
           {
            "type": "choropleth",
            "colorbar": {
             "outlinewidth": 0,
             "ticks": ""
            }
           }
          ],
          "histogram2d": [
           {
            "type": "histogram2d",
            "colorbar": {
             "outlinewidth": 0,
             "ticks": ""
            },
            "colorscale": [
             [
              0.0,
              "#0d0887"
             ],
             [
              0.1111111111111111,
              "#46039f"
             ],
             [
              0.2222222222222222,
              "#7201a8"
             ],
             [
              0.3333333333333333,
              "#9c179e"
             ],
             [
              0.4444444444444444,
              "#bd3786"
             ],
             [
              0.5555555555555556,
              "#d8576b"
             ],
             [
              0.6666666666666666,
              "#ed7953"
             ],
             [
              0.7777777777777778,
              "#fb9f3a"
             ],
             [
              0.8888888888888888,
              "#fdca26"
             ],
             [
              1.0,
              "#f0f921"
             ]
            ]
           }
          ],
          "heatmap": [
           {
            "type": "heatmap",
            "colorbar": {
             "outlinewidth": 0,
             "ticks": ""
            },
            "colorscale": [
             [
              0.0,
              "#0d0887"
             ],
             [
              0.1111111111111111,
              "#46039f"
             ],
             [
              0.2222222222222222,
              "#7201a8"
             ],
             [
              0.3333333333333333,
              "#9c179e"
             ],
             [
              0.4444444444444444,
              "#bd3786"
             ],
             [
              0.5555555555555556,
              "#d8576b"
             ],
             [
              0.6666666666666666,
              "#ed7953"
             ],
             [
              0.7777777777777778,
              "#fb9f3a"
             ],
             [
              0.8888888888888888,
              "#fdca26"
             ],
             [
              1.0,
              "#f0f921"
             ]
            ]
           }
          ],
          "contourcarpet": [
           {
            "type": "contourcarpet",
            "colorbar": {
             "outlinewidth": 0,
             "ticks": ""
            }
           }
          ],
          "contour": [
           {
            "type": "contour",
            "colorbar": {
             "outlinewidth": 0,
             "ticks": ""
            },
            "colorscale": [
             [
              0.0,
              "#0d0887"
             ],
             [
              0.1111111111111111,
              "#46039f"
             ],
             [
              0.2222222222222222,
              "#7201a8"
             ],
             [
              0.3333333333333333,
              "#9c179e"
             ],
             [
              0.4444444444444444,
              "#bd3786"
             ],
             [
              0.5555555555555556,
              "#d8576b"
             ],
             [
              0.6666666666666666,
              "#ed7953"
             ],
             [
              0.7777777777777778,
              "#fb9f3a"
             ],
             [
              0.8888888888888888,
              "#fdca26"
             ],
             [
              1.0,
              "#f0f921"
             ]
            ]
           }
          ],
          "surface": [
           {
            "type": "surface",
            "colorbar": {
             "outlinewidth": 0,
             "ticks": ""
            },
            "colorscale": [
             [
              0.0,
              "#0d0887"
             ],
             [
              0.1111111111111111,
              "#46039f"
             ],
             [
              0.2222222222222222,
              "#7201a8"
             ],
             [
              0.3333333333333333,
              "#9c179e"
             ],
             [
              0.4444444444444444,
              "#bd3786"
             ],
             [
              0.5555555555555556,
              "#d8576b"
             ],
             [
              0.6666666666666666,
              "#ed7953"
             ],
             [
              0.7777777777777778,
              "#fb9f3a"
             ],
             [
              0.8888888888888888,
              "#fdca26"
             ],
             [
              1.0,
              "#f0f921"
             ]
            ]
           }
          ],
          "mesh3d": [
           {
            "type": "mesh3d",
            "colorbar": {
             "outlinewidth": 0,
             "ticks": ""
            }
           }
          ],
          "scatter": [
           {
            "marker": {
             "line": {
              "color": "#283442"
             }
            },
            "type": "scatter"
           }
          ],
          "parcoords": [
           {
            "type": "parcoords",
            "line": {
             "colorbar": {
              "outlinewidth": 0,
              "ticks": ""
             }
            }
           }
          ],
          "scatterpolargl": [
           {
            "type": "scatterpolargl",
            "marker": {
             "colorbar": {
              "outlinewidth": 0,
              "ticks": ""
             }
            }
           }
          ],
          "bar": [
           {
            "error_x": {
             "color": "#f2f5fa"
            },
            "error_y": {
             "color": "#f2f5fa"
            },
            "marker": {
             "line": {
              "color": "rgb(17,17,17)",
              "width": 0.5
             },
             "pattern": {
              "fillmode": "overlay",
              "size": 10,
              "solidity": 0.2
             }
            },
            "type": "bar"
           }
          ],
          "scattergeo": [
           {
            "type": "scattergeo",
            "marker": {
             "colorbar": {
              "outlinewidth": 0,
              "ticks": ""
             }
            }
           }
          ],
          "scatterpolar": [
           {
            "type": "scatterpolar",
            "marker": {
             "colorbar": {
              "outlinewidth": 0,
              "ticks": ""
             }
            }
           }
          ],
          "histogram": [
           {
            "marker": {
             "pattern": {
              "fillmode": "overlay",
              "size": 10,
              "solidity": 0.2
             }
            },
            "type": "histogram"
           }
          ],
          "scattergl": [
           {
            "marker": {
             "line": {
              "color": "#283442"
             }
            },
            "type": "scattergl"
           }
          ],
          "scatter3d": [
           {
            "type": "scatter3d",
            "line": {
             "colorbar": {
              "outlinewidth": 0,
              "ticks": ""
             }
            },
            "marker": {
             "colorbar": {
              "outlinewidth": 0,
              "ticks": ""
             }
            }
           }
          ],
          "scattermap": [
           {
            "type": "scattermap",
            "marker": {
             "colorbar": {
              "outlinewidth": 0,
              "ticks": ""
             }
            }
           }
          ],
          "scattermapbox": [
           {
            "type": "scattermapbox",
            "marker": {
             "colorbar": {
              "outlinewidth": 0,
              "ticks": ""
             }
            }
           }
          ],
          "scatterternary": [
           {
            "type": "scatterternary",
            "marker": {
             "colorbar": {
              "outlinewidth": 0,
              "ticks": ""
             }
            }
           }
          ],
          "scattercarpet": [
           {
            "type": "scattercarpet",
            "marker": {
             "colorbar": {
              "outlinewidth": 0,
              "ticks": ""
             }
            }
           }
          ],
          "carpet": [
           {
            "aaxis": {
             "endlinecolor": "#A2B1C6",
             "gridcolor": "#506784",
             "linecolor": "#506784",
             "minorgridcolor": "#506784",
             "startlinecolor": "#A2B1C6"
            },
            "baxis": {
             "endlinecolor": "#A2B1C6",
             "gridcolor": "#506784",
             "linecolor": "#506784",
             "minorgridcolor": "#506784",
             "startlinecolor": "#A2B1C6"
            },
            "type": "carpet"
           }
          ],
          "table": [
           {
            "cells": {
             "fill": {
              "color": "#506784"
             },
             "line": {
              "color": "rgb(17,17,17)"
             }
            },
            "header": {
             "fill": {
              "color": "#2a3f5f"
             },
             "line": {
              "color": "rgb(17,17,17)"
             }
            },
            "type": "table"
           }
          ],
          "barpolar": [
           {
            "marker": {
             "line": {
              "color": "rgb(17,17,17)",
              "width": 0.5
             },
             "pattern": {
              "fillmode": "overlay",
              "size": 10,
              "solidity": 0.2
             }
            },
            "type": "barpolar"
           }
          ],
          "pie": [
           {
            "automargin": true,
            "type": "pie"
           }
          ]
         },
         "layout": {
          "autotypenumbers": "strict",
          "colorway": [
           "#636efa",
           "#EF553B",
           "#00cc96",
           "#ab63fa",
           "#FFA15A",
           "#19d3f3",
           "#FF6692",
           "#B6E880",
           "#FF97FF",
           "#FECB52"
          ],
          "font": {
           "color": "#f2f5fa"
          },
          "hovermode": "closest",
          "hoverlabel": {
           "align": "left"
          },
          "paper_bgcolor": "rgb(17,17,17)",
          "plot_bgcolor": "rgb(17,17,17)",
          "polar": {
           "bgcolor": "rgb(17,17,17)",
           "angularaxis": {
            "gridcolor": "#506784",
            "linecolor": "#506784",
            "ticks": ""
           },
           "radialaxis": {
            "gridcolor": "#506784",
            "linecolor": "#506784",
            "ticks": ""
           }
          },
          "ternary": {
           "bgcolor": "rgb(17,17,17)",
           "aaxis": {
            "gridcolor": "#506784",
            "linecolor": "#506784",
            "ticks": ""
           },
           "baxis": {
            "gridcolor": "#506784",
            "linecolor": "#506784",
            "ticks": ""
           },
           "caxis": {
            "gridcolor": "#506784",
            "linecolor": "#506784",
            "ticks": ""
           }
          },
          "coloraxis": {
           "colorbar": {
            "outlinewidth": 0,
            "ticks": ""
           }
          },
          "colorscale": {
           "sequential": [
            [
             0.0,
             "#0d0887"
            ],
            [
             0.1111111111111111,
             "#46039f"
            ],
            [
             0.2222222222222222,
             "#7201a8"
            ],
            [
             0.3333333333333333,
             "#9c179e"
            ],
            [
             0.4444444444444444,
             "#bd3786"
            ],
            [
             0.5555555555555556,
             "#d8576b"
            ],
            [
             0.6666666666666666,
             "#ed7953"
            ],
            [
             0.7777777777777778,
             "#fb9f3a"
            ],
            [
             0.8888888888888888,
             "#fdca26"
            ],
            [
             1.0,
             "#f0f921"
            ]
           ],
           "sequentialminus": [
            [
             0.0,
             "#0d0887"
            ],
            [
             0.1111111111111111,
             "#46039f"
            ],
            [
             0.2222222222222222,
             "#7201a8"
            ],
            [
             0.3333333333333333,
             "#9c179e"
            ],
            [
             0.4444444444444444,
             "#bd3786"
            ],
            [
             0.5555555555555556,
             "#d8576b"
            ],
            [
             0.6666666666666666,
             "#ed7953"
            ],
            [
             0.7777777777777778,
             "#fb9f3a"
            ],
            [
             0.8888888888888888,
             "#fdca26"
            ],
            [
             1.0,
             "#f0f921"
            ]
           ],
           "diverging": [
            [
             0,
             "#8e0152"
            ],
            [
             0.1,
             "#c51b7d"
            ],
            [
             0.2,
             "#de77ae"
            ],
            [
             0.3,
             "#f1b6da"
            ],
            [
             0.4,
             "#fde0ef"
            ],
            [
             0.5,
             "#f7f7f7"
            ],
            [
             0.6,
             "#e6f5d0"
            ],
            [
             0.7,
             "#b8e186"
            ],
            [
             0.8,
             "#7fbc41"
            ],
            [
             0.9,
             "#4d9221"
            ],
            [
             1,
             "#276419"
            ]
           ]
          },
          "xaxis": {
           "gridcolor": "#283442",
           "linecolor": "#506784",
           "ticks": "",
           "title": {
            "standoff": 15
           },
           "zerolinecolor": "#283442",
           "automargin": true,
           "zerolinewidth": 2
          },
          "yaxis": {
           "gridcolor": "#283442",
           "linecolor": "#506784",
           "ticks": "",
           "title": {
            "standoff": 15
           },
           "zerolinecolor": "#283442",
           "automargin": true,
           "zerolinewidth": 2
          },
          "scene": {
           "xaxis": {
            "backgroundcolor": "rgb(17,17,17)",
            "gridcolor": "#506784",
            "linecolor": "#506784",
            "showbackground": true,
            "ticks": "",
            "zerolinecolor": "#C8D4E3",
            "gridwidth": 2
           },
           "yaxis": {
            "backgroundcolor": "rgb(17,17,17)",
            "gridcolor": "#506784",
            "linecolor": "#506784",
            "showbackground": true,
            "ticks": "",
            "zerolinecolor": "#C8D4E3",
            "gridwidth": 2
           },
           "zaxis": {
            "backgroundcolor": "rgb(17,17,17)",
            "gridcolor": "#506784",
            "linecolor": "#506784",
            "showbackground": true,
            "ticks": "",
            "zerolinecolor": "#C8D4E3",
            "gridwidth": 2
           }
          },
          "shapedefaults": {
           "line": {
            "color": "#f2f5fa"
           }
          },
          "annotationdefaults": {
           "arrowcolor": "#f2f5fa",
           "arrowhead": 0,
           "arrowwidth": 1
          },
          "geo": {
           "bgcolor": "rgb(17,17,17)",
           "landcolor": "rgb(17,17,17)",
           "subunitcolor": "#506784",
           "showland": true,
           "showlakes": true,
           "lakecolor": "rgb(17,17,17)"
          },
          "title": {
           "x": 0.05
          },
          "updatemenudefaults": {
           "bgcolor": "#506784",
           "borderwidth": 0
          },
          "sliderdefaults": {
           "bgcolor": "#C8D4E3",
           "borderwidth": 1,
           "bordercolor": "rgb(17,17,17)",
           "tickwidth": 0
          },
          "mapbox": {
           "style": "dark"
          }
         }
        },
        "xaxis": {
         "anchor": "y",
         "domain": [
          0.0,
          1.0
         ],
         "title": {
          "text": "Clusters"
         }
        },
        "yaxis": {
         "anchor": "x",
         "domain": [
          0.0,
          1.0
         ],
         "title": {
          "text": "index"
         }
        },
        "legend": {
         "tracegroupgap": 0
        },
        "margin": {
         "t": 60
        },
        "title": {
         "text": "Birch"
        }
       },
       "config": {
        "plotlyServerURL": "https://plot.ly"
       }
      }
     },
     "metadata": {},
     "output_type": "display_data"
    }
   ],
   "execution_count": 47
  },
  {
   "cell_type": "markdown",
   "id": "2d8d2baa9a81b136",
   "metadata": {},
   "source": [
    "Task 4"
   ]
  },
  {
   "cell_type": "code",
   "id": "878a2061917b83d8",
   "metadata": {
    "ExecuteTime": {
     "end_time": "2025-09-24T14:36:54.274584Z",
     "start_time": "2025-09-24T14:36:43.312283Z"
    }
   },
   "source": [
    "import numpy as np\n",
    "\n",
    "\n",
    "def Silhouette_score(point, labelSELF, labels, Data):\n",
    "    clusterSELF = Data[labels == labelSELF].to_numpy()\n",
    "    clusters = Data[labels != labelSELF].to_numpy()\n",
    "    afstand = 0\n",
    "\n",
    "    for points in clusterSELF:\n",
    "        if set(points) == set(point):\n",
    "            continue\n",
    "        afstand += np.linalg.norm(point-points)\n",
    "    a = afstand/len(clusterSELF)\n",
    "\n",
    "    lowest = 999999999\n",
    "    for clust in clusters:\n",
    "        afstand_nearest = 0\n",
    "        for points in clust:\n",
    "            afstand_nearest += np.linalg.norm(point-points)\n",
    "        dis = afstand_nearest/len(clust)\n",
    "        if dis < lowest:\n",
    "            lowest = dis\n",
    "    b = lowest\n",
    "    return (b-a)/(max(b,a))\n",
    "\n",
    "def Silhouette_scores(x, labels):\n",
    "    n = len(x)\n",
    "    sil_values = []\n",
    "    for i in range(n):\n",
    "        sil_values.append(Silhouette_score(point=x.iloc[i].to_numpy(), labelSELF = labels[i], labels = labels, Data= x))\n",
    "    return(sil_values)\n",
    "\n",
    "def score_visualizer(labels, silhouette_values):\n",
    "    fig = go.Figure()\n",
    "\n",
    "    y_lower = 0\n",
    "    for cluster in np.unique(labels):\n",
    "        colors = px.colors.qualitative.Set2\n",
    "\n",
    "        color = colors[cluster % len(colors)]  # cycle through palette\n",
    "        cluster_sil = []\n",
    "        for i in range(len(labels)):\n",
    "            if labels[i] == cluster:\n",
    "                cluster_sil.append(silhouette_values[i])\n",
    "        cluster_sil.sort()\n",
    "        cluster_size = len(cluster_sil)\n",
    "\n",
    "        # Add horizontal bar segment for this cluster\n",
    "        fig.add_trace(go.Bar(\n",
    "            x=cluster_sil,\n",
    "            y=list(range(y_lower, y_lower + cluster_size)),\n",
    "            orientation='h',\n",
    "            marker_color=color,\n",
    "            showlegend=False\n",
    "\n",
    "        ))\n",
    "\n",
    "        y_lower += cluster_size\n",
    "\n",
    "    # Add vertical line for average silhouette\n",
    "    fig.add_vline(x=np.mean(silhouette_values), line_dash=\"dash\", line_color=\"red\")\n",
    "\n",
    "    # Layout\n",
    "    fig.update_layout(\n",
    "        title=\"Silhouette Plot per Cluster\",\n",
    "        xaxis_title=\"Silhouette coefficient values\",\n",
    "        yaxis_title=\"Clustered samples\",\n",
    "        bargap=0.01,\n",
    "        height=600,\n",
    "        plot_bgcolor=\"black\",\n",
    "        paper_bgcolor=\"black\"\n",
    "    )\n",
    "\n",
    "    fig.show()\n",
    "\n",
    "values1 = Silhouette_scores(Sample, labels)\n",
    "print(\"33%\")\n",
    "values2 = Silhouette_scores(Data[:1000], labels2[:1000])\n",
    "print(\"66%\")\n",
    "values3 = Silhouette_scores(Data[:1000], labels3[:1000])\n",
    "print(\"100%\")\n",
    "print()\n",
    "print(\"in graph:\")\n",
    "\n",
    "score_visualizer(labels, values1)\n",
    "score_visualizer(labels2[:1000], values2)\n",
    "score_visualizer(labels3[:1000], values3)\n",
    "\n",
    "# Davies Buildin Score\n",
    "from sklearn.metrics import davies_bouldin_score\n",
    "print(\"Davies Bouldin score:\")\n",
    "print(f\"Affinity propogation: {davies_bouldin_score(Sample, labels)}\")\n",
    "print(f\"DBSCAN: {davies_bouldin_score(Data, labels2)}\")\n",
    "print(f\"Birch Clustering: {davies_bouldin_score(Data, labels3)}\")\n",
    "print()\n",
    "# calinski-harabasz index\n",
    "from sklearn.metrics import calinski_harabasz_score\n",
    "print(\"Calinski Harabasz score:\")\n",
    "print(f\"Affinity propogation: {calinski_harabasz_score(Sample, labels)}\")\n",
    "print(f\"DBSCAN: {calinski_harabasz_score(Data, labels2)}\")\n",
    "print(f\"Birch Clustering: {calinski_harabasz_score(Data, labels3)}\")"
   ],
   "outputs": [
    {
     "ename": "KeyboardInterrupt",
     "evalue": "",
     "output_type": "error",
     "traceback": [
      "\u001B[1;31m---------------------------------------------------------------------------\u001B[0m",
      "\u001B[1;31mKeyboardInterrupt\u001B[0m                         Traceback (most recent call last)",
      "Cell \u001B[1;32mIn[48], line 71\u001B[0m\n\u001B[0;32m     61\u001B[0m     fig\u001B[38;5;241m.\u001B[39mupdate_layout(\n\u001B[0;32m     62\u001B[0m         title\u001B[38;5;241m=\u001B[39m\u001B[38;5;124m\"\u001B[39m\u001B[38;5;124mSilhouette Plot per Cluster\u001B[39m\u001B[38;5;124m\"\u001B[39m,\n\u001B[0;32m     63\u001B[0m         xaxis_title\u001B[38;5;241m=\u001B[39m\u001B[38;5;124m\"\u001B[39m\u001B[38;5;124mSilhouette coefficient values\u001B[39m\u001B[38;5;124m\"\u001B[39m,\n\u001B[1;32m   (...)\u001B[0m\n\u001B[0;32m     66\u001B[0m         height\u001B[38;5;241m=\u001B[39m\u001B[38;5;241m600\u001B[39m\n\u001B[0;32m     67\u001B[0m     )\n\u001B[0;32m     69\u001B[0m     fig\u001B[38;5;241m.\u001B[39mshow()\n\u001B[1;32m---> 71\u001B[0m values1 \u001B[38;5;241m=\u001B[39m \u001B[43mSilhouette_scores\u001B[49m\u001B[43m(\u001B[49m\u001B[43mSample\u001B[49m\u001B[43m,\u001B[49m\u001B[43m \u001B[49m\u001B[43mlabels\u001B[49m\u001B[43m)\u001B[49m\n\u001B[0;32m     72\u001B[0m \u001B[38;5;28mprint\u001B[39m(\u001B[38;5;124m\"\u001B[39m\u001B[38;5;124m33\u001B[39m\u001B[38;5;124m%\u001B[39m\u001B[38;5;124m\"\u001B[39m)\n\u001B[0;32m     73\u001B[0m values2 \u001B[38;5;241m=\u001B[39m Silhouette_scores(Data[:\u001B[38;5;241m1000\u001B[39m], labels2[:\u001B[38;5;241m1000\u001B[39m])\n",
      "Cell \u001B[1;32mIn[48], line 31\u001B[0m, in \u001B[0;36mSilhouette_scores\u001B[1;34m(x, labels)\u001B[0m\n\u001B[0;32m     29\u001B[0m sil_values \u001B[38;5;241m=\u001B[39m []\n\u001B[0;32m     30\u001B[0m \u001B[38;5;28;01mfor\u001B[39;00m i \u001B[38;5;129;01min\u001B[39;00m \u001B[38;5;28mrange\u001B[39m(n):\n\u001B[1;32m---> 31\u001B[0m     sil_values\u001B[38;5;241m.\u001B[39mappend(\u001B[43mSilhouette_score\u001B[49m\u001B[43m(\u001B[49m\u001B[43mpoint\u001B[49m\u001B[38;5;241;43m=\u001B[39;49m\u001B[43mx\u001B[49m\u001B[38;5;241;43m.\u001B[39;49m\u001B[43miloc\u001B[49m\u001B[43m[\u001B[49m\u001B[43mi\u001B[49m\u001B[43m]\u001B[49m\u001B[38;5;241;43m.\u001B[39;49m\u001B[43mto_numpy\u001B[49m\u001B[43m(\u001B[49m\u001B[43m)\u001B[49m\u001B[43m,\u001B[49m\u001B[43m \u001B[49m\u001B[43mlabelSELF\u001B[49m\u001B[43m \u001B[49m\u001B[38;5;241;43m=\u001B[39;49m\u001B[43m \u001B[49m\u001B[43mlabels\u001B[49m\u001B[43m[\u001B[49m\u001B[43mi\u001B[49m\u001B[43m]\u001B[49m\u001B[43m,\u001B[49m\u001B[43m \u001B[49m\u001B[43mlabels\u001B[49m\u001B[43m \u001B[49m\u001B[38;5;241;43m=\u001B[39;49m\u001B[43m \u001B[49m\u001B[43mlabels\u001B[49m\u001B[43m,\u001B[49m\u001B[43m \u001B[49m\u001B[43mData\u001B[49m\u001B[38;5;241;43m=\u001B[39;49m\u001B[43m \u001B[49m\u001B[43mx\u001B[49m\u001B[43m)\u001B[49m)\n\u001B[0;32m     32\u001B[0m \u001B[38;5;28;01mreturn\u001B[39;00m(sil_values)\n",
      "Cell \u001B[1;32mIn[48], line 20\u001B[0m, in \u001B[0;36mSilhouette_score\u001B[1;34m(point, labelSELF, labels, Data)\u001B[0m\n\u001B[0;32m     18\u001B[0m afstand_nearest \u001B[38;5;241m=\u001B[39m \u001B[38;5;241m0\u001B[39m\n\u001B[0;32m     19\u001B[0m \u001B[38;5;28;01mfor\u001B[39;00m points \u001B[38;5;129;01min\u001B[39;00m clust:\n\u001B[1;32m---> 20\u001B[0m     afstand_nearest \u001B[38;5;241m+\u001B[39m\u001B[38;5;241m=\u001B[39m \u001B[43mnp\u001B[49m\u001B[38;5;241;43m.\u001B[39;49m\u001B[43mlinalg\u001B[49m\u001B[38;5;241;43m.\u001B[39;49m\u001B[43mnorm\u001B[49m\u001B[43m(\u001B[49m\u001B[43mpoint\u001B[49m\u001B[38;5;241;43m-\u001B[39;49m\u001B[43mpoints\u001B[49m\u001B[43m)\u001B[49m\n\u001B[0;32m     21\u001B[0m dis \u001B[38;5;241m=\u001B[39m afstand_nearest\u001B[38;5;241m/\u001B[39m\u001B[38;5;28mlen\u001B[39m(clust)\n\u001B[0;32m     22\u001B[0m \u001B[38;5;28;01mif\u001B[39;00m dis \u001B[38;5;241m<\u001B[39m lowest:\n",
      "File \u001B[1;32m<__array_function__ internals>:200\u001B[0m, in \u001B[0;36mnorm\u001B[1;34m(*args, **kwargs)\u001B[0m\n",
      "File \u001B[1;32mc:\\users\\friso\\appdata\\local\\programs\\python\\python38\\lib\\site-packages\\numpy\\linalg\\linalg.py:2511\u001B[0m, in \u001B[0;36mnorm\u001B[1;34m(x, ord, axis, keepdims)\u001B[0m\n\u001B[0;32m   2509\u001B[0m     sqnorm \u001B[38;5;241m=\u001B[39m x_real\u001B[38;5;241m.\u001B[39mdot(x_real) \u001B[38;5;241m+\u001B[39m x_imag\u001B[38;5;241m.\u001B[39mdot(x_imag)\n\u001B[0;32m   2510\u001B[0m \u001B[38;5;28;01melse\u001B[39;00m:\n\u001B[1;32m-> 2511\u001B[0m     sqnorm \u001B[38;5;241m=\u001B[39m \u001B[43mx\u001B[49m\u001B[38;5;241;43m.\u001B[39;49m\u001B[43mdot\u001B[49m\u001B[43m(\u001B[49m\u001B[43mx\u001B[49m\u001B[43m)\u001B[49m\n\u001B[0;32m   2512\u001B[0m ret \u001B[38;5;241m=\u001B[39m sqrt(sqnorm)\n\u001B[0;32m   2513\u001B[0m \u001B[38;5;28;01mif\u001B[39;00m keepdims:\n",
      "\u001B[1;31mKeyboardInterrupt\u001B[0m: "
     ]
    }
   ],
   "execution_count": 48
  },
  {
   "cell_type": "markdown",
   "id": "12deb65d3f7f63eb",
   "metadata": {},
   "source": "Task 5\n"
  },
  {
   "cell_type": "code",
   "id": "2a95a246f6bf2fa2",
   "metadata": {
    "ExecuteTime": {
     "end_time": "2025-09-24T14:46:31.210105Z",
     "start_time": "2025-09-24T14:46:04.165431Z"
    }
   },
   "source": [
    "# Euclidean distance\n",
    "def our_euclidean_distance(a, b):\n",
    "    distance = 0\n",
    "    for index, _ in enumerate(a):\n",
    "        distance += (a[index] - b[index]) ** 2\n",
    "    distance = distance**0.5\n",
    "    return distance\n",
    "# Manhattan distance\n",
    "def our_manhattan_distance(a, b):\n",
    "    distance = 0\n",
    "    for index, _ in enumerate(a):\n",
    "        distance += ((a[index] - b[index]) ** 2) ** 0.5\n",
    "    return distance    \n",
    "# Cosine similarity\n",
    "def our_cosine_distance(a, b):\n",
    "    numerator = 0\n",
    "    denominator_a = 0\n",
    "    denominator_b = 0\n",
    "    for index, _ in enumerate(a):\n",
    "        numerator += a[index] * b[index]\n",
    "        denominator_a += a[index] ** 2\n",
    "        denominator_b += b[index] ** 2\n",
    "    similarity = numerator / (denominator_a ** 0.5 * denominator_b ** 0.5)\n",
    "    return 1 - similarity\n",
    "\n",
    "# Effect of distances on dbscan\n",
    "clustering_c1 = DBSCAN(metric=our_euclidean_distance).fit(Data[:1000])\n",
    "label_c1 = clustering_c1.labels_\n",
    "print(\"Labels DBSCAN\", label_c1)   \n",
    "\n",
    "clustering_c2 = DBSCAN(eps=0.8, metric=our_manhattan_distance).fit(Data[:1000])\n",
    "label_c2 = clustering_c2.labels_\n",
    "print(\"Labels DBSCAN\", label_c2)   \n",
    "\n",
    "clustering_c3 = DBSCAN(eps=0.01, metric=our_cosine_distance).fit(Data[:1000])\n",
    "label_c3 = clustering_c3.labels_\n",
    "print(\"Labels DBSCAN\", label_c3)   \n",
    "\n"
   ],
   "outputs": [
    {
     "name": "stdout",
     "output_type": "stream",
     "text": [
      "Labels DBSCAN [ 0  0  0  0  1  0  0  2  0  0  0  0  0  0  0  0  0  1  0  0  3  0  0  0\n",
      "  2  0  0  0  0  0  0  1  0  0  0  0  1  0  0  0  0  0  0  0  0  0  0  0\n",
      "  0  0  2  0  3  0  0  0  0  0  0  0  0  0  0  1  0 -1  0  0  0  0  0  0\n",
      "  0  0  0  0  4  0 -1  0  1  0  0  0 -1  0  0  0  0  0  0  2  0  5  0  0\n",
      "  0  0  0  0  0 -1  0  0  0  0  0  0  0  0  0  0  0  0  0  1  0  0  0  0\n",
      "  0  0  0  0  0  0  0  0  0  0  1  0  0  0  0  0  0  0  0  0  0  0  0  0\n",
      "  0  0  0  0  0  0  0  0  0  0  0  1  2 -1  0  0  0  1  1  0  0  0  0  0\n",
      "  0  3  3  0  0 -1  3  0  0  0  0  0  1  0  0 -1 -1  0  0  1  4  0  0  0\n",
      "  0  0  1  0  6  0 -1 -1  8  1  5  0  0  5  6  7  5  0  0  0  0  1  0  0\n",
      "  0  0  0  0  4  0  0  5  0  1  0  0  4  0  1  0  1  1  1  0  1  1  1  0\n",
      "  0  0  0  1  0  0  0  0  4  1  1  0  0  0  1  0  0  0  0  5 -1  0  8  0\n",
      "  0  8  0  0  0  1  1  0  5  0  1  0  8  0  0  0  1  8  0  0  0  0  0  0\n",
      "  0  0  0  0  0  2  4  4  0  0  0  0  1  1  0  0  0  0  1  0  0  1  0  1\n",
      "  0  0  0  0  0  0  0  0  4  0  0  5  0  0  5  1  0  5  0  5  0  0  0  0\n",
      "  0  0  0  0  0  0  0  0  0  5  0  0  5  1  5  0  1  0  0  4  0  0  0  0\n",
      "  0  1  0  0  1 -1  1  0  0  1  0  0  7 -1  0  0  0  1  0  4  0  0  0  0\n",
      "  0  0  0  0  0  0  4  0  1  0  1  0  5  0  0  4  4  0  5  0  5  0  5  0\n",
      "  8  0  0  1  7  1  1  0  8  1  2  0  1  0  0  1  4  1  2  0  0  0  0  1\n",
      "  0  7  1  7  0  0  0  0  1  0  0 -1  0  1  0  5  0  1  0  5  0  1  7  1\n",
      "  0 -1  0  0  7  0  1  0  0  1  0  0  0  1  0  0  0  1  0  7  7  0  0  0\n",
      "  0  0  0  0  5  0  0  0  1  0  1  1  0  0  7  1  1  1  1  0  0  0  0  4\n",
      "  0  7  0  0  0  0 -1  0  0  1  0  0  0  1  0  1  0  0  1  1  0  0  1  0\n",
      "  0  0  0  0  0  1  1  0  0  0  0  0  0  0  5  1  0  7  1  5  5  0  0  0\n",
      "  0  0  0  0  5  1  0  0  0  0  0  0  0  1  1  0  0  1  1  0  0  1  0  1\n",
      "  0  2  1  5  0  1  5  0  0  0  0  4  0  0  0  0  0  5  0  0  0  0  0  0\n",
      "  1  4  0  8  0  0  1  0  1  6  8  0  4  0  8  0  0  0  0  0  0  4  0  0\n",
      "  0  1  0  5  0  0  0  0  0  8  0  0  0  4  0  0  1  4  0  0  0  0  0  8\n",
      "  5  0  1  0  6  1  0  0  0  0  0  0  1  0  7  0  1  4  0  0  7  0  0  0\n",
      "  0  1  0  0  0  1  7  0  0  0  8  0  0  1  0  1  0  0  0  0  1  0  4  8\n",
      "  1  8  0  7  0  0  4  0  4  0  1  0  5  0  0  0  0  0  0  0  0  0  0  5\n",
      "  0  0  8  1  0  0  0  0  1  0  1  0  1  0  1  4  0  0  5  1  0  1  0  0\n",
      "  0  0  0  0  0  0  8  0  4  1  7  5  0  0  6  0  4  0  0  0  0  1  0  0\n",
      "  0  0  1  1  4 -1  0  0  0  1  1  4  0  7  5  4  0  0  0  1  1  0  0  0\n",
      "  1  5  0  1  0  0  0 -1  5  5  8  0  0  0  0  0  7  5  8  1  1  4  0  5\n",
      "  7  0  0  0  0  0  0  0  0  0  0  0  1  1  0  0  0  7  1  7  1  4  1  0\n",
      "  1  0  1  0  0  6  0  1  0  0  0  0  1  4  5  0  0  1  6  1  5  0  0 -1\n",
      "  0  0  7  0  0  5  2  0  0  1  1  0  1  0 -1  0  0  0  0 -1  0  0  0  7\n",
      "  0  0  0  0  0  0  1  0  8  0  0  0  0  0  0 -1  5  8  0  1  1  0  5  1\n",
      "  0  0  1  1  0  1  0  0  0  0  0  7  0  0  0  0  0  0  0  0  5  0  5  1\n",
      "  0  5  0  4  0  0  2  0  5  2  5  0  0  7  0  0  0  0  4  0  0  1  0  0\n",
      "  1  5  1  0  0  0  0  1  1  0  5  0  0  0  0  0  1  0  0  4  0  0  0  4\n",
      "  7  0  7  1  0  0  1  1  0  2  0  0  0  0  0  0]\n",
      "Labels DBSCAN [ 0  0  0  0  1  0  0  2  0  0  0  0  0  0  0  0  0  1  0  0 -1  0  0  0\n",
      "  2  0  0  0  0  0  0  1  0  0  0  0  1  0  0  0  0  0  0  0  0  0  0  0\n",
      "  0  0  2  0 -1  0  0  0  0  0  0  0  0  0  0  1  0 -1  0  0  0  0  0  0\n",
      "  0  0  0  0 -1  0 -1  0  1  0  0  0 -1  0  0  0  0  0  0  2  0  0  0  0\n",
      "  0  0  0  0  0 -1  0  0  0  0  0  0  0  0  0  0  0  0  0  1  0  0  0  0\n",
      "  0  0  0  0  0  0  0  0 -1  0  1  0  0  0  0  0  0  0  0  0  0  0  0  0\n",
      "  0  0  0  0  0  0  0  0  0  0  0  1  2 -1  0  0  0  1  1  0  0  0  0  0\n",
      "  0 -1 -1  0  0  2 -1  0  0  0  0  0  1  0  0 -1 -1  0  0  1 -1  0  0  0\n",
      "  0  0  1  0  3  0 -1  4 -1  1  0  0  0  0  3  1  0  0  0  0  0  1  0  0\n",
      "  0  0  0  0  3  0  0  0  0  1  0  0  3  0  1  0  1  1  1  0  1  1  1  0\n",
      "  0  0  0  1  0  0  0  0  3  1  1  0  0  0  1  0  0  0  0  0 -1  0  4  0\n",
      "  0  4  0  0  0  1  1  0  0  0  1  0  4  0  0  0  1  4  0  0 -1  0  0  0\n",
      "  0  0  0  0  0  2  3  3  0  0  0  0  1  1  0  0  0  0  1  0  0  1  0  1\n",
      "  0  0  0  0  0  0  0  0  3  0  0  0  0  0  0  1  0  0  0  0  0  0  0  0\n",
      "  0  0  0  0  0  0  0  0  0  0  0  0  0  1  0  0  1  0  0  3  0  0  0  0\n",
      "  0  1  0  0  1 -1  1  0  0  1  0  0  1 -1  0  0  0  1  0  3  0  0  0  0\n",
      "  0  0  0  0  0  0  3  0  1  0  1  0  0  0  0 -1  3  0  0  0  0  0  0  0\n",
      "  4  0  0  1  1  1  1  0  4  1  2  0  1  0  0  1  3  1  2  0  0  0  0  1\n",
      "  0  1  1  1  0  0  0  0  1  0  0 -1  0  1  0  0  0  1  0  0  0  1  1  1\n",
      "  0  4  0  0  1  0  1  0  0  1  0  0  0  1  0  0  0  1  0  1  1  0  0  0\n",
      "  0  0  0  0  0  0  0  0  1  0  1  1  0  0  1  1 -1  1  1  0  0  0 -1  3\n",
      "  0  1  0  0  0  0 -1  0  0  1  0  0  0  1  0  1  0  0  1  1  0  0  1  0\n",
      "  0  0  0  0  0  1  1  0  0  0  0  0  0  0  0  1  0  1  1  0  0  0  0  0\n",
      "  0  0  0  0  0  1  0  0  0  0  0  0  0  1  1  0  0  1  1  0  0  1  0  1\n",
      "  0  2  1  0  0  1  0  0  0  0  0  3  0  0  0  0  0  0  0  0  0  0  0  0\n",
      "  1  3  0  4  0  0  1  0  1  3 -1  0  3  0  4  0  0  0  0  0  0  3  0  0\n",
      "  0  1  0  0  0  0  0  0  0  4  0  0  0  3  0  0  1  3  0  0  0  0  0  4\n",
      "  0  0  1  0  3  1  0  0  0  0  0  0  1  0  1  0  1  3  0  0  1  0  0  0\n",
      "  0  1  0  0  0  1  1  0  0  0  4  0  0  1  0  1  0  0  0  0  1  0  3  4\n",
      "  1  4  0  1  0  0  3  0  3  0  1  0  0  0  0  0  0  0  0  0  0  0  0  0\n",
      "  0  0  4  1  0  0  0  0  1  0  1  0  1  0  1  3  0  0  0  1  0  1  0  0\n",
      "  0  0  0  0  0  0  4  0  3  1  1  0  0  0  3  0  3  0  0  0  0  1  0  0\n",
      "  0  0  1  1  3 -1  0  0  0 -1  1  3  0  1  0  3  0  0  0  1  1  0  0  0\n",
      "  1  0  0  1  0  0  0 -1  0  0  4  0  0  0  0  0  1  0  4  1  1  3  0  0\n",
      "  1  0  0  0  0  0  0  0  0  0  0  0  1  1  0  0  0  1  1 -1  1  3  1  0\n",
      "  1  0  1  0  0  3  0  1  0  0  0  0  1  3  0  0  0  1  3  1  0  0  0 -1\n",
      "  0  0  1  0  0  0  2  0  0  1  1  0  1  0  4  0  0  0  0  1  0  0  0  1\n",
      "  0  0  0  0  0  0  1  0 -1  0  0  0  0  0  0  4  0  4  0  1  1  0  0  1\n",
      "  0  0  1  1  0  1  0  0  0  0  0  1  0  0  0  0  0  0  0  0  0  0  0  1\n",
      "  0  0  0  3  0  0  2  0  0  2  0  0  0  1  0  0  0  0  3  0  0  1  0  0\n",
      "  1  0  1  0  0  0  0  1  1  0  0  0  0  0  0  0  1  0  0  3  0  0  0  3\n",
      "  1  0  1  1  0  0  1  1  0  2  0  0  0  0  0  0]\n",
      "Labels DBSCAN [ 0  0  0  0  1  0  0  2  0  0  0  0  0  0  0  0  0  1  0  0 -1  0  0  0\n",
      "  2  0  0  0  0  0  0  1  0  0  0  0  1  0  0  0  0  0  0  0  0  0  0  0\n",
      "  0  0  2  0 -1  0  0  0  0  0 -1  0  0  0  0  1  0 -1  0  0  0  0  0  0\n",
      "  0  0  0  0  4  0 -1  0  1  0  0  0 -1  0  0  0  0  0  0  2  0  3  0  0\n",
      "  0  0  0  0  0 -1  0  0  0  0  0  0  0  0  0  0  0  0  0  1  0  0  0  0\n",
      "  0  0  0  0  0  0  0  0 -1  0  1  0  0  0  0  0  0  0  0  0  0  0  0  0\n",
      "  0  0  0  0  0  0  0  0  0  0  0  1  2 -1  0  0  0  1  1  0  0  0  0  0\n",
      "  0 -1 -1  0  0 -1 -1  0  0  0  0  0  1  0  0 -1 -1  0  0  1  4  0  0  0\n",
      "  0  0  1  0  5  0 -1 -1 -1  1  3  0  0  3  5  6  3  0  0  0  0  1  0  0\n",
      "  0  0  0  0  4  0  0  3  0  1  0  0  4  0  1  0  1  1  1  0  1  1  1  0\n",
      "  0  0  0  1  0  0  0  0  4  1  1  0  0  0  1  0  0 -1  0  3 -1  0  7  0\n",
      "  0  7  0  0  0  1  1  0  3  0  1  0  7  0  0  0  1  7  0  0 -1  0  0  0\n",
      "  0  0  0  0  0  2  4  4  0  0  0  0  1  1  0  0  0  0  1  0  0  1  0  1\n",
      "  0  0  0  0  0  0  0  0  4  0  0  3  0  0  3  1  0  3  0  3  0  0  0  0\n",
      "  0  0  0  0  0  0  0  0  0  3  0  0  3  1  3  0  1  0  0  4  0  0  0  0\n",
      "  0  1  0  0  1 -1  1  0  0  1  0  0  6 -1  0  0  0  1  0  4  0  0  0  0\n",
      "  0  0  0  0  0  0  4  0  1  0  1  0  3  0  0  4  4  0  3  0  3  0  3  0\n",
      "  7  0  0  1  6  1  1  0  7  1  2  0  1  0  0  1  4  1  2  0  0  0  0  1\n",
      "  0  6  1  6  0  0  0  0  1  0  0 -1  0  1  0  3  0  1  0  3  0  1  6  1\n",
      "  0 -1  0  0  6  0  1  0  0  1  0  0  0  1  0  0  0  1  0  6  6  0  0  0\n",
      "  0  0  0  0  3  0  0  0  1  0  1  1  0  0  6  1 -1  1  1  0  0  0  0  4\n",
      "  0  6  0  0  0  0 -1  0  0  1  0  0  0  1  0  1  0  0  1  1  0  0  1  0\n",
      "  0  0  0  0  0  1  1  0 -1  0  0  0  0  0  3  1  0  6  1  3  3  0  0  0\n",
      "  0  0  0  0  3  1  0  0  0  0  0  0  0  1  1  0  0  1  1  0  0  1  0  1\n",
      "  0  2  1  3  0  1  3  0  0  0  0  4  0  0  0  0  0  3  0  0  0  0  0  0\n",
      "  1  4  0  7  0  0  1  0  1  5  7  0  4  0  7  0  0  0  0  0  0  4  0  0\n",
      "  0  1  0  3  0  0  0  0  0  7  0  0  0  4  0  0  1  4  0  0  0  0  0  7\n",
      "  3  0  1  0  5  1  0  0  0  0  0  0  1  0  6  0  1  4  0  0  6  0  0  0\n",
      "  0  1  0  0  0  1  6  0  0  0  7  0  0  1  0  1  0  0  0  0  1  0  4  7\n",
      "  1  7  0  6  0  0  4  0  4  0  1  0  3  0  0  0  0  0  0  0  0  0  0  3\n",
      "  0  0  7  1  0  0  0  0  1  0  1  0  1  0  1  4  0  0  3  1  0  1  0  0\n",
      "  0  0  0  0  0  0 -1  0  4  1  6  3  0  0  5  0  4  0  0  0  0  1  0  0\n",
      "  0  0  1  1  4 -1  0  0  0 -1  1  4  0  6  3  4  0  0  0  1  1  0  0  0\n",
      "  1  3  0  1  0  0  0 -1  3  3  7  0  0  0  0  0  6  3  7  1  1  4  0  3\n",
      "  6  0  0  0  0  0  0  0  0  0  0  0  1  1  0  0  0  6  1 -1  1  4  1  0\n",
      "  1  0  1  0  0  5  0  1  0  0  0  0  1  4  3  0  0  1  5  1  3  0  0 -1\n",
      "  0  0  6  0  0  3  2  0  0  1  1  0  1  0 -1  0  0  0  0 -1  0  0  0  6\n",
      "  0  0  0  0  0  0  1  0 -1  0  0  0  0  0  0 -1  3  7  0  1  1  0  3  1\n",
      "  0  0  1  1  0  1  0  0  0  0  0  6  0  0  0  0  0  0  0  0  3  0  3  1\n",
      "  0  3  0  4  0  0  2  0  3  2  3  0  0  6  0  0  0  0  4  0  0  1  0  0\n",
      "  1  3  1  0  0  0  0  1  1  0  3  0  0  0  0  0  1  0  0  4  0  0  0  4\n",
      "  6  0  6  1  0  0  1  1  0  2  0  0  0  0  0  0]\n"
     ]
    }
   ],
   "execution_count": 57
  },
  {
   "metadata": {
    "ExecuteTime": {
     "end_time": "2025-09-24T14:46:31.436033Z",
     "start_time": "2025-09-24T14:46:31.211653Z"
    }
   },
   "cell_type": "code",
   "source": [
    "# Visualisation\n",
    "import plotly.express as px\n",
    "fig = px.scatter(Data[:1000], label_c1)\n",
    "fig.update_layout(title='Euclidean Distance (eps=0.5)')\n",
    "fig.update_xaxes(title='Clusters')\n",
    "fig.update_yaxes(title='Count')\n",
    "fig.show()\n",
    "fig = px.scatter(Data[:1000], label_c2)\n",
    "fig.update_layout(title='Manhattan Distance (eps=0.8)')\n",
    "fig.update_xaxes(title='Clusters')\n",
    "fig.update_yaxes(title='Count')\n",
    "fig.show()\n",
    "fig = px.scatter(Data[:1000], label_c3)\n",
    "fig.update_layout(title='Cosine Distance (eps=0.01)')\n",
    "fig.update_xaxes(title='Clusters')\n",
    "fig.update_yaxes(title='Count')\n",
    "fig.show()"
   ],
   "id": "f6e23856040adca3",
   "outputs": [
    {
     "data": {
      "application/vnd.plotly.v1+json": {
       "data": [
        {
         "hovertemplate": "x=%{x}<br>index=%{y}<extra></extra>",
         "legendgroup": "",
         "marker": {
          "color": "#636efa",
          "symbol": "circle"
         },
         "mode": "markers",
         "name": "",
         "orientation": "h",
         "showlegend": false,
         "x": {
          "dtype": "i1",
          "bdata": "AAAAAAEAAAIAAAAAAAAAAAABAAADAAAAAgAAAAAAAAEAAAAAAQAAAAAAAAAAAAAAAAACAAMAAAAAAAAAAAAAAQD/AAAAAAAAAAAAAAQA/wABAAAA/wAAAAAAAAIABQAAAAAAAAD/AAAAAAAAAAAAAAAAAAEAAAAAAAAAAAAAAAAAAAEAAAAAAAAAAAAAAAAAAAAAAAAAAAAAAAABAv8AAAABAQAAAAAAAAMDAAD/AwAAAAAAAQAA//8AAAEEAAAAAAABAAYA//8IAQUAAAUGBwUAAAAAAQAAAAAAAAQAAAUAAQAABAABAAEBAQABAQEAAAAAAQAAAAAEAQEAAAABAAAAAAX/AAgAAAgAAAABAQAFAAEACAAAAAEIAAAAAAAAAAAAAAACBAQAAAAAAQEAAAAAAQAAAQABAAAAAAAAAAAEAAAFAAAFAQAFAAUAAAAAAAAAAAAAAAAABQAABQEFAAEAAAQAAAAAAAEAAAH/AQAAAQAAB/8AAAABAAQAAAAAAAAAAAAABAABAAEABQAABAQABQAFAAUACAAAAQcBAQAIAQIAAQAAAQQBAgAAAAABAAcBBwAAAAABAAD/AAEABQABAAUAAQcBAP8AAAcAAQAAAQAAAAEAAAABAAcHAAAAAAAAAAUAAAABAAEBAAAHAQEBAQAAAAAEAAcAAAAA/wAAAQAAAAEAAQAAAQEAAAEAAAAAAAABAQAAAAAAAAAFAQAHAQUFAAAAAAAAAAUBAAAAAAAAAAEBAAABAQAAAQABAAIBBQABBQAAAAAEAAAAAAAFAAAAAAAAAQQACAAAAQABBggABAAIAAAAAAAABAAAAAEABQAAAAAACAAAAAQAAAEEAAAAAAAIBQABAAYBAAAAAAAAAQAHAAEEAAAHAAAAAAEAAAABBwAAAAgAAAEAAQAAAAABAAQIAQgABwAABAAEAAEABQAAAAAAAAAAAAAFAAAIAQAAAAABAAEAAQABBAAABQEAAQAAAAAAAAAACAAEAQcFAAAGAAQAAAAAAQAAAAABAQT/AAAAAQEEAAcFBAAAAAEBAAAAAQUAAQAAAP8FBQgAAAAAAAcFCAEBBAAFBwAAAAAAAAAAAAAAAQEAAAAHAQcBBAEAAQABAAAGAAEAAAAAAQQFAAABBgEFAAD/AAAHAAAFAgAAAQEAAQD/AAAAAP8AAAAHAAAAAAAAAQAIAAAAAAAA/wUIAAEBAAUBAAABAQABAAAAAAAHAAAAAAAAAAAFAAUBAAUABAAAAgAFAgUAAAcAAAAABAAAAQAAAQUBAAAAAAEBAAUAAAAAAAEAAAQAAAAEBwAHAQAAAQEAAgAAAAAAAA=="
         },
         "xaxis": "x",
         "y": {
          "dtype": "i2",
          "bdata": "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"
         },
         "yaxis": "y",
         "type": "scatter"
        }
       ],
       "layout": {
        "template": {
         "data": {
          "histogram2dcontour": [
           {
            "type": "histogram2dcontour",
            "colorbar": {
             "outlinewidth": 0,
             "ticks": ""
            },
            "colorscale": [
             [
              0.0,
              "#0d0887"
             ],
             [
              0.1111111111111111,
              "#46039f"
             ],
             [
              0.2222222222222222,
              "#7201a8"
             ],
             [
              0.3333333333333333,
              "#9c179e"
             ],
             [
              0.4444444444444444,
              "#bd3786"
             ],
             [
              0.5555555555555556,
              "#d8576b"
             ],
             [
              0.6666666666666666,
              "#ed7953"
             ],
             [
              0.7777777777777778,
              "#fb9f3a"
             ],
             [
              0.8888888888888888,
              "#fdca26"
             ],
             [
              1.0,
              "#f0f921"
             ]
            ]
           }
          ],
          "choropleth": [
           {
            "type": "choropleth",
            "colorbar": {
             "outlinewidth": 0,
             "ticks": ""
            }
           }
          ],
          "histogram2d": [
           {
            "type": "histogram2d",
            "colorbar": {
             "outlinewidth": 0,
             "ticks": ""
            },
            "colorscale": [
             [
              0.0,
              "#0d0887"
             ],
             [
              0.1111111111111111,
              "#46039f"
             ],
             [
              0.2222222222222222,
              "#7201a8"
             ],
             [
              0.3333333333333333,
              "#9c179e"
             ],
             [
              0.4444444444444444,
              "#bd3786"
             ],
             [
              0.5555555555555556,
              "#d8576b"
             ],
             [
              0.6666666666666666,
              "#ed7953"
             ],
             [
              0.7777777777777778,
              "#fb9f3a"
             ],
             [
              0.8888888888888888,
              "#fdca26"
             ],
             [
              1.0,
              "#f0f921"
             ]
            ]
           }
          ],
          "heatmap": [
           {
            "type": "heatmap",
            "colorbar": {
             "outlinewidth": 0,
             "ticks": ""
            },
            "colorscale": [
             [
              0.0,
              "#0d0887"
             ],
             [
              0.1111111111111111,
              "#46039f"
             ],
             [
              0.2222222222222222,
              "#7201a8"
             ],
             [
              0.3333333333333333,
              "#9c179e"
             ],
             [
              0.4444444444444444,
              "#bd3786"
             ],
             [
              0.5555555555555556,
              "#d8576b"
             ],
             [
              0.6666666666666666,
              "#ed7953"
             ],
             [
              0.7777777777777778,
              "#fb9f3a"
             ],
             [
              0.8888888888888888,
              "#fdca26"
             ],
             [
              1.0,
              "#f0f921"
             ]
            ]
           }
          ],
          "contourcarpet": [
           {
            "type": "contourcarpet",
            "colorbar": {
             "outlinewidth": 0,
             "ticks": ""
            }
           }
          ],
          "contour": [
           {
            "type": "contour",
            "colorbar": {
             "outlinewidth": 0,
             "ticks": ""
            },
            "colorscale": [
             [
              0.0,
              "#0d0887"
             ],
             [
              0.1111111111111111,
              "#46039f"
             ],
             [
              0.2222222222222222,
              "#7201a8"
             ],
             [
              0.3333333333333333,
              "#9c179e"
             ],
             [
              0.4444444444444444,
              "#bd3786"
             ],
             [
              0.5555555555555556,
              "#d8576b"
             ],
             [
              0.6666666666666666,
              "#ed7953"
             ],
             [
              0.7777777777777778,
              "#fb9f3a"
             ],
             [
              0.8888888888888888,
              "#fdca26"
             ],
             [
              1.0,
              "#f0f921"
             ]
            ]
           }
          ],
          "surface": [
           {
            "type": "surface",
            "colorbar": {
             "outlinewidth": 0,
             "ticks": ""
            },
            "colorscale": [
             [
              0.0,
              "#0d0887"
             ],
             [
              0.1111111111111111,
              "#46039f"
             ],
             [
              0.2222222222222222,
              "#7201a8"
             ],
             [
              0.3333333333333333,
              "#9c179e"
             ],
             [
              0.4444444444444444,
              "#bd3786"
             ],
             [
              0.5555555555555556,
              "#d8576b"
             ],
             [
              0.6666666666666666,
              "#ed7953"
             ],
             [
              0.7777777777777778,
              "#fb9f3a"
             ],
             [
              0.8888888888888888,
              "#fdca26"
             ],
             [
              1.0,
              "#f0f921"
             ]
            ]
           }
          ],
          "mesh3d": [
           {
            "type": "mesh3d",
            "colorbar": {
             "outlinewidth": 0,
             "ticks": ""
            }
           }
          ],
          "scatter": [
           {
            "marker": {
             "line": {
              "color": "#283442"
             }
            },
            "type": "scatter"
           }
          ],
          "parcoords": [
           {
            "type": "parcoords",
            "line": {
             "colorbar": {
              "outlinewidth": 0,
              "ticks": ""
             }
            }
           }
          ],
          "scatterpolargl": [
           {
            "type": "scatterpolargl",
            "marker": {
             "colorbar": {
              "outlinewidth": 0,
              "ticks": ""
             }
            }
           }
          ],
          "bar": [
           {
            "error_x": {
             "color": "#f2f5fa"
            },
            "error_y": {
             "color": "#f2f5fa"
            },
            "marker": {
             "line": {
              "color": "rgb(17,17,17)",
              "width": 0.5
             },
             "pattern": {
              "fillmode": "overlay",
              "size": 10,
              "solidity": 0.2
             }
            },
            "type": "bar"
           }
          ],
          "scattergeo": [
           {
            "type": "scattergeo",
            "marker": {
             "colorbar": {
              "outlinewidth": 0,
              "ticks": ""
             }
            }
           }
          ],
          "scatterpolar": [
           {
            "type": "scatterpolar",
            "marker": {
             "colorbar": {
              "outlinewidth": 0,
              "ticks": ""
             }
            }
           }
          ],
          "histogram": [
           {
            "marker": {
             "pattern": {
              "fillmode": "overlay",
              "size": 10,
              "solidity": 0.2
             }
            },
            "type": "histogram"
           }
          ],
          "scattergl": [
           {
            "marker": {
             "line": {
              "color": "#283442"
             }
            },
            "type": "scattergl"
           }
          ],
          "scatter3d": [
           {
            "type": "scatter3d",
            "line": {
             "colorbar": {
              "outlinewidth": 0,
              "ticks": ""
             }
            },
            "marker": {
             "colorbar": {
              "outlinewidth": 0,
              "ticks": ""
             }
            }
           }
          ],
          "scattermap": [
           {
            "type": "scattermap",
            "marker": {
             "colorbar": {
              "outlinewidth": 0,
              "ticks": ""
             }
            }
           }
          ],
          "scattermapbox": [
           {
            "type": "scattermapbox",
            "marker": {
             "colorbar": {
              "outlinewidth": 0,
              "ticks": ""
             }
            }
           }
          ],
          "scatterternary": [
           {
            "type": "scatterternary",
            "marker": {
             "colorbar": {
              "outlinewidth": 0,
              "ticks": ""
             }
            }
           }
          ],
          "scattercarpet": [
           {
            "type": "scattercarpet",
            "marker": {
             "colorbar": {
              "outlinewidth": 0,
              "ticks": ""
             }
            }
           }
          ],
          "carpet": [
           {
            "aaxis": {
             "endlinecolor": "#A2B1C6",
             "gridcolor": "#506784",
             "linecolor": "#506784",
             "minorgridcolor": "#506784",
             "startlinecolor": "#A2B1C6"
            },
            "baxis": {
             "endlinecolor": "#A2B1C6",
             "gridcolor": "#506784",
             "linecolor": "#506784",
             "minorgridcolor": "#506784",
             "startlinecolor": "#A2B1C6"
            },
            "type": "carpet"
           }
          ],
          "table": [
           {
            "cells": {
             "fill": {
              "color": "#506784"
             },
             "line": {
              "color": "rgb(17,17,17)"
             }
            },
            "header": {
             "fill": {
              "color": "#2a3f5f"
             },
             "line": {
              "color": "rgb(17,17,17)"
             }
            },
            "type": "table"
           }
          ],
          "barpolar": [
           {
            "marker": {
             "line": {
              "color": "rgb(17,17,17)",
              "width": 0.5
             },
             "pattern": {
              "fillmode": "overlay",
              "size": 10,
              "solidity": 0.2
             }
            },
            "type": "barpolar"
           }
          ],
          "pie": [
           {
            "automargin": true,
            "type": "pie"
           }
          ]
         },
         "layout": {
          "autotypenumbers": "strict",
          "colorway": [
           "#636efa",
           "#EF553B",
           "#00cc96",
           "#ab63fa",
           "#FFA15A",
           "#19d3f3",
           "#FF6692",
           "#B6E880",
           "#FF97FF",
           "#FECB52"
          ],
          "font": {
           "color": "#f2f5fa"
          },
          "hovermode": "closest",
          "hoverlabel": {
           "align": "left"
          },
          "paper_bgcolor": "rgb(17,17,17)",
          "plot_bgcolor": "rgb(17,17,17)",
          "polar": {
           "bgcolor": "rgb(17,17,17)",
           "angularaxis": {
            "gridcolor": "#506784",
            "linecolor": "#506784",
            "ticks": ""
           },
           "radialaxis": {
            "gridcolor": "#506784",
            "linecolor": "#506784",
            "ticks": ""
           }
          },
          "ternary": {
           "bgcolor": "rgb(17,17,17)",
           "aaxis": {
            "gridcolor": "#506784",
            "linecolor": "#506784",
            "ticks": ""
           },
           "baxis": {
            "gridcolor": "#506784",
            "linecolor": "#506784",
            "ticks": ""
           },
           "caxis": {
            "gridcolor": "#506784",
            "linecolor": "#506784",
            "ticks": ""
           }
          },
          "coloraxis": {
           "colorbar": {
            "outlinewidth": 0,
            "ticks": ""
           }
          },
          "colorscale": {
           "sequential": [
            [
             0.0,
             "#0d0887"
            ],
            [
             0.1111111111111111,
             "#46039f"
            ],
            [
             0.2222222222222222,
             "#7201a8"
            ],
            [
             0.3333333333333333,
             "#9c179e"
            ],
            [
             0.4444444444444444,
             "#bd3786"
            ],
            [
             0.5555555555555556,
             "#d8576b"
            ],
            [
             0.6666666666666666,
             "#ed7953"
            ],
            [
             0.7777777777777778,
             "#fb9f3a"
            ],
            [
             0.8888888888888888,
             "#fdca26"
            ],
            [
             1.0,
             "#f0f921"
            ]
           ],
           "sequentialminus": [
            [
             0.0,
             "#0d0887"
            ],
            [
             0.1111111111111111,
             "#46039f"
            ],
            [
             0.2222222222222222,
             "#7201a8"
            ],
            [
             0.3333333333333333,
             "#9c179e"
            ],
            [
             0.4444444444444444,
             "#bd3786"
            ],
            [
             0.5555555555555556,
             "#d8576b"
            ],
            [
             0.6666666666666666,
             "#ed7953"
            ],
            [
             0.7777777777777778,
             "#fb9f3a"
            ],
            [
             0.8888888888888888,
             "#fdca26"
            ],
            [
             1.0,
             "#f0f921"
            ]
           ],
           "diverging": [
            [
             0,
             "#8e0152"
            ],
            [
             0.1,
             "#c51b7d"
            ],
            [
             0.2,
             "#de77ae"
            ],
            [
             0.3,
             "#f1b6da"
            ],
            [
             0.4,
             "#fde0ef"
            ],
            [
             0.5,
             "#f7f7f7"
            ],
            [
             0.6,
             "#e6f5d0"
            ],
            [
             0.7,
             "#b8e186"
            ],
            [
             0.8,
             "#7fbc41"
            ],
            [
             0.9,
             "#4d9221"
            ],
            [
             1,
             "#276419"
            ]
           ]
          },
          "xaxis": {
           "gridcolor": "#283442",
           "linecolor": "#506784",
           "ticks": "",
           "title": {
            "standoff": 15
           },
           "zerolinecolor": "#283442",
           "automargin": true,
           "zerolinewidth": 2
          },
          "yaxis": {
           "gridcolor": "#283442",
           "linecolor": "#506784",
           "ticks": "",
           "title": {
            "standoff": 15
           },
           "zerolinecolor": "#283442",
           "automargin": true,
           "zerolinewidth": 2
          },
          "scene": {
           "xaxis": {
            "backgroundcolor": "rgb(17,17,17)",
            "gridcolor": "#506784",
            "linecolor": "#506784",
            "showbackground": true,
            "ticks": "",
            "zerolinecolor": "#C8D4E3",
            "gridwidth": 2
           },
           "yaxis": {
            "backgroundcolor": "rgb(17,17,17)",
            "gridcolor": "#506784",
            "linecolor": "#506784",
            "showbackground": true,
            "ticks": "",
            "zerolinecolor": "#C8D4E3",
            "gridwidth": 2
           },
           "zaxis": {
            "backgroundcolor": "rgb(17,17,17)",
            "gridcolor": "#506784",
            "linecolor": "#506784",
            "showbackground": true,
            "ticks": "",
            "zerolinecolor": "#C8D4E3",
            "gridwidth": 2
           }
          },
          "shapedefaults": {
           "line": {
            "color": "#f2f5fa"
           }
          },
          "annotationdefaults": {
           "arrowcolor": "#f2f5fa",
           "arrowhead": 0,
           "arrowwidth": 1
          },
          "geo": {
           "bgcolor": "rgb(17,17,17)",
           "landcolor": "rgb(17,17,17)",
           "subunitcolor": "#506784",
           "showland": true,
           "showlakes": true,
           "lakecolor": "rgb(17,17,17)"
          },
          "title": {
           "x": 0.05
          },
          "updatemenudefaults": {
           "bgcolor": "#506784",
           "borderwidth": 0
          },
          "sliderdefaults": {
           "bgcolor": "#C8D4E3",
           "borderwidth": 1,
           "bordercolor": "rgb(17,17,17)",
           "tickwidth": 0
          },
          "mapbox": {
           "style": "dark"
          }
         }
        },
        "xaxis": {
         "anchor": "y",
         "domain": [
          0.0,
          1.0
         ],
         "title": {
          "text": "Clusters"
         }
        },
        "yaxis": {
         "anchor": "x",
         "domain": [
          0.0,
          1.0
         ],
         "title": {
          "text": "Count"
         }
        },
        "legend": {
         "tracegroupgap": 0
        },
        "margin": {
         "t": 60
        },
        "title": {
         "text": "Euclidean Distance (eps=0.5)"
        }
       },
       "config": {
        "plotlyServerURL": "https://plot.ly"
       }
      }
     },
     "metadata": {},
     "output_type": "display_data"
    },
    {
     "data": {
      "application/vnd.plotly.v1+json": {
       "data": [
        {
         "hovertemplate": "x=%{x}<br>index=%{y}<extra></extra>",
         "legendgroup": "",
         "marker": {
          "color": "#636efa",
          "symbol": "circle"
         },
         "mode": "markers",
         "name": "",
         "orientation": "h",
         "showlegend": false,
         "x": {
          "dtype": "i1",
          "bdata": "AAAAAAEAAAIAAAAAAAAAAAABAAD/AAAAAgAAAAAAAAEAAAAAAQAAAAAAAAAAAAAAAAACAP8AAAAAAAAAAAAAAQD/AAAAAAAAAAAAAP8A/wABAAAA/wAAAAAAAAIAAAAAAAAAAAD/AAAAAAAAAAAAAAAAAAEAAAAAAAAAAAAAAAD/AAEAAAAAAAAAAAAAAAAAAAAAAAAAAAAAAAABAv8AAAABAQAAAAAAAP//AAAC/wAAAAAAAQAA//8AAAH/AAAAAAABAAMA/wT/AQAAAAADAQAAAAAAAQAAAAAAAAMAAAAAAQAAAwABAAEBAQABAQEAAAAAAQAAAAADAQEAAAABAAAAAAD/AAQAAAQAAAABAQAAAAEABAAAAAEEAAD/AAAAAAAAAAACAwMAAAAAAQEAAAAAAQAAAQABAAAAAAAAAAADAAAAAAAAAQAAAAAAAAAAAAAAAAAAAAAAAAAAAAEAAAEAAAMAAAAAAAEAAAH/AQAAAQAAAf8AAAABAAMAAAAAAAAAAAAAAwABAAEAAAAA/wMAAAAAAAAABAAAAQEBAQAEAQIAAQAAAQMBAgAAAAABAAEBAQAAAAABAAD/AAEAAAABAAAAAQEBAAQAAAEAAQAAAQAAAAEAAAABAAEBAAAAAAAAAAAAAAABAAEBAAABAf8BAQAAAP8DAAEAAAAA/wAAAQAAAAEAAQAAAQEAAAEAAAAAAAABAQAAAAAAAAAAAQABAQAAAAAAAAAAAAABAAAAAAAAAAEBAAABAQAAAQABAAIBAAABAAAAAAADAAAAAAAAAAAAAAAAAQMABAAAAQABA/8AAwAEAAAAAAAAAwAAAAEAAAAAAAAABAAAAAMAAAEDAAAAAAAEAAABAAMBAAAAAAAAAQABAAEDAAABAAAAAAEAAAABAQAAAAQAAAEAAQAAAAABAAMEAQQAAQAAAwADAAEAAAAAAAAAAAAAAAAAAAAEAQAAAAABAAEAAQABAwAAAAEAAQAAAAAAAAAABAADAQEAAAADAAMAAAAAAQAAAAABAQP/AAAA/wEDAAEAAwAAAAEBAAAAAQAAAQAAAP8AAAQAAAAAAAEABAEBAwAAAQAAAAAAAAAAAAAAAQEAAAABAf8BAwEAAQABAAADAAEAAAAAAQMAAAABAwEAAAD/AAABAAAAAgAAAQEAAQAEAAAAAAEAAAABAAAAAAAAAQD/AAAAAAAABAAEAAEBAAABAAABAQABAAAAAAABAAAAAAAAAAAAAAABAAAAAwAAAgAAAgAAAAEAAAAAAwAAAQAAAQABAAAAAAEBAAAAAAAAAAEAAAMAAAADAQABAQAAAQEAAgAAAAAAAA=="
         },
         "xaxis": "x",
         "y": {
          "dtype": "i2",
          "bdata": "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"
         },
         "yaxis": "y",
         "type": "scatter"
        }
       ],
       "layout": {
        "template": {
         "data": {
          "histogram2dcontour": [
           {
            "type": "histogram2dcontour",
            "colorbar": {
             "outlinewidth": 0,
             "ticks": ""
            },
            "colorscale": [
             [
              0.0,
              "#0d0887"
             ],
             [
              0.1111111111111111,
              "#46039f"
             ],
             [
              0.2222222222222222,
              "#7201a8"
             ],
             [
              0.3333333333333333,
              "#9c179e"
             ],
             [
              0.4444444444444444,
              "#bd3786"
             ],
             [
              0.5555555555555556,
              "#d8576b"
             ],
             [
              0.6666666666666666,
              "#ed7953"
             ],
             [
              0.7777777777777778,
              "#fb9f3a"
             ],
             [
              0.8888888888888888,
              "#fdca26"
             ],
             [
              1.0,
              "#f0f921"
             ]
            ]
           }
          ],
          "choropleth": [
           {
            "type": "choropleth",
            "colorbar": {
             "outlinewidth": 0,
             "ticks": ""
            }
           }
          ],
          "histogram2d": [
           {
            "type": "histogram2d",
            "colorbar": {
             "outlinewidth": 0,
             "ticks": ""
            },
            "colorscale": [
             [
              0.0,
              "#0d0887"
             ],
             [
              0.1111111111111111,
              "#46039f"
             ],
             [
              0.2222222222222222,
              "#7201a8"
             ],
             [
              0.3333333333333333,
              "#9c179e"
             ],
             [
              0.4444444444444444,
              "#bd3786"
             ],
             [
              0.5555555555555556,
              "#d8576b"
             ],
             [
              0.6666666666666666,
              "#ed7953"
             ],
             [
              0.7777777777777778,
              "#fb9f3a"
             ],
             [
              0.8888888888888888,
              "#fdca26"
             ],
             [
              1.0,
              "#f0f921"
             ]
            ]
           }
          ],
          "heatmap": [
           {
            "type": "heatmap",
            "colorbar": {
             "outlinewidth": 0,
             "ticks": ""
            },
            "colorscale": [
             [
              0.0,
              "#0d0887"
             ],
             [
              0.1111111111111111,
              "#46039f"
             ],
             [
              0.2222222222222222,
              "#7201a8"
             ],
             [
              0.3333333333333333,
              "#9c179e"
             ],
             [
              0.4444444444444444,
              "#bd3786"
             ],
             [
              0.5555555555555556,
              "#d8576b"
             ],
             [
              0.6666666666666666,
              "#ed7953"
             ],
             [
              0.7777777777777778,
              "#fb9f3a"
             ],
             [
              0.8888888888888888,
              "#fdca26"
             ],
             [
              1.0,
              "#f0f921"
             ]
            ]
           }
          ],
          "contourcarpet": [
           {
            "type": "contourcarpet",
            "colorbar": {
             "outlinewidth": 0,
             "ticks": ""
            }
           }
          ],
          "contour": [
           {
            "type": "contour",
            "colorbar": {
             "outlinewidth": 0,
             "ticks": ""
            },
            "colorscale": [
             [
              0.0,
              "#0d0887"
             ],
             [
              0.1111111111111111,
              "#46039f"
             ],
             [
              0.2222222222222222,
              "#7201a8"
             ],
             [
              0.3333333333333333,
              "#9c179e"
             ],
             [
              0.4444444444444444,
              "#bd3786"
             ],
             [
              0.5555555555555556,
              "#d8576b"
             ],
             [
              0.6666666666666666,
              "#ed7953"
             ],
             [
              0.7777777777777778,
              "#fb9f3a"
             ],
             [
              0.8888888888888888,
              "#fdca26"
             ],
             [
              1.0,
              "#f0f921"
             ]
            ]
           }
          ],
          "surface": [
           {
            "type": "surface",
            "colorbar": {
             "outlinewidth": 0,
             "ticks": ""
            },
            "colorscale": [
             [
              0.0,
              "#0d0887"
             ],
             [
              0.1111111111111111,
              "#46039f"
             ],
             [
              0.2222222222222222,
              "#7201a8"
             ],
             [
              0.3333333333333333,
              "#9c179e"
             ],
             [
              0.4444444444444444,
              "#bd3786"
             ],
             [
              0.5555555555555556,
              "#d8576b"
             ],
             [
              0.6666666666666666,
              "#ed7953"
             ],
             [
              0.7777777777777778,
              "#fb9f3a"
             ],
             [
              0.8888888888888888,
              "#fdca26"
             ],
             [
              1.0,
              "#f0f921"
             ]
            ]
           }
          ],
          "mesh3d": [
           {
            "type": "mesh3d",
            "colorbar": {
             "outlinewidth": 0,
             "ticks": ""
            }
           }
          ],
          "scatter": [
           {
            "marker": {
             "line": {
              "color": "#283442"
             }
            },
            "type": "scatter"
           }
          ],
          "parcoords": [
           {
            "type": "parcoords",
            "line": {
             "colorbar": {
              "outlinewidth": 0,
              "ticks": ""
             }
            }
           }
          ],
          "scatterpolargl": [
           {
            "type": "scatterpolargl",
            "marker": {
             "colorbar": {
              "outlinewidth": 0,
              "ticks": ""
             }
            }
           }
          ],
          "bar": [
           {
            "error_x": {
             "color": "#f2f5fa"
            },
            "error_y": {
             "color": "#f2f5fa"
            },
            "marker": {
             "line": {
              "color": "rgb(17,17,17)",
              "width": 0.5
             },
             "pattern": {
              "fillmode": "overlay",
              "size": 10,
              "solidity": 0.2
             }
            },
            "type": "bar"
           }
          ],
          "scattergeo": [
           {
            "type": "scattergeo",
            "marker": {
             "colorbar": {
              "outlinewidth": 0,
              "ticks": ""
             }
            }
           }
          ],
          "scatterpolar": [
           {
            "type": "scatterpolar",
            "marker": {
             "colorbar": {
              "outlinewidth": 0,
              "ticks": ""
             }
            }
           }
          ],
          "histogram": [
           {
            "marker": {
             "pattern": {
              "fillmode": "overlay",
              "size": 10,
              "solidity": 0.2
             }
            },
            "type": "histogram"
           }
          ],
          "scattergl": [
           {
            "marker": {
             "line": {
              "color": "#283442"
             }
            },
            "type": "scattergl"
           }
          ],
          "scatter3d": [
           {
            "type": "scatter3d",
            "line": {
             "colorbar": {
              "outlinewidth": 0,
              "ticks": ""
             }
            },
            "marker": {
             "colorbar": {
              "outlinewidth": 0,
              "ticks": ""
             }
            }
           }
          ],
          "scattermap": [
           {
            "type": "scattermap",
            "marker": {
             "colorbar": {
              "outlinewidth": 0,
              "ticks": ""
             }
            }
           }
          ],
          "scattermapbox": [
           {
            "type": "scattermapbox",
            "marker": {
             "colorbar": {
              "outlinewidth": 0,
              "ticks": ""
             }
            }
           }
          ],
          "scatterternary": [
           {
            "type": "scatterternary",
            "marker": {
             "colorbar": {
              "outlinewidth": 0,
              "ticks": ""
             }
            }
           }
          ],
          "scattercarpet": [
           {
            "type": "scattercarpet",
            "marker": {
             "colorbar": {
              "outlinewidth": 0,
              "ticks": ""
             }
            }
           }
          ],
          "carpet": [
           {
            "aaxis": {
             "endlinecolor": "#A2B1C6",
             "gridcolor": "#506784",
             "linecolor": "#506784",
             "minorgridcolor": "#506784",
             "startlinecolor": "#A2B1C6"
            },
            "baxis": {
             "endlinecolor": "#A2B1C6",
             "gridcolor": "#506784",
             "linecolor": "#506784",
             "minorgridcolor": "#506784",
             "startlinecolor": "#A2B1C6"
            },
            "type": "carpet"
           }
          ],
          "table": [
           {
            "cells": {
             "fill": {
              "color": "#506784"
             },
             "line": {
              "color": "rgb(17,17,17)"
             }
            },
            "header": {
             "fill": {
              "color": "#2a3f5f"
             },
             "line": {
              "color": "rgb(17,17,17)"
             }
            },
            "type": "table"
           }
          ],
          "barpolar": [
           {
            "marker": {
             "line": {
              "color": "rgb(17,17,17)",
              "width": 0.5
             },
             "pattern": {
              "fillmode": "overlay",
              "size": 10,
              "solidity": 0.2
             }
            },
            "type": "barpolar"
           }
          ],
          "pie": [
           {
            "automargin": true,
            "type": "pie"
           }
          ]
         },
         "layout": {
          "autotypenumbers": "strict",
          "colorway": [
           "#636efa",
           "#EF553B",
           "#00cc96",
           "#ab63fa",
           "#FFA15A",
           "#19d3f3",
           "#FF6692",
           "#B6E880",
           "#FF97FF",
           "#FECB52"
          ],
          "font": {
           "color": "#f2f5fa"
          },
          "hovermode": "closest",
          "hoverlabel": {
           "align": "left"
          },
          "paper_bgcolor": "rgb(17,17,17)",
          "plot_bgcolor": "rgb(17,17,17)",
          "polar": {
           "bgcolor": "rgb(17,17,17)",
           "angularaxis": {
            "gridcolor": "#506784",
            "linecolor": "#506784",
            "ticks": ""
           },
           "radialaxis": {
            "gridcolor": "#506784",
            "linecolor": "#506784",
            "ticks": ""
           }
          },
          "ternary": {
           "bgcolor": "rgb(17,17,17)",
           "aaxis": {
            "gridcolor": "#506784",
            "linecolor": "#506784",
            "ticks": ""
           },
           "baxis": {
            "gridcolor": "#506784",
            "linecolor": "#506784",
            "ticks": ""
           },
           "caxis": {
            "gridcolor": "#506784",
            "linecolor": "#506784",
            "ticks": ""
           }
          },
          "coloraxis": {
           "colorbar": {
            "outlinewidth": 0,
            "ticks": ""
           }
          },
          "colorscale": {
           "sequential": [
            [
             0.0,
             "#0d0887"
            ],
            [
             0.1111111111111111,
             "#46039f"
            ],
            [
             0.2222222222222222,
             "#7201a8"
            ],
            [
             0.3333333333333333,
             "#9c179e"
            ],
            [
             0.4444444444444444,
             "#bd3786"
            ],
            [
             0.5555555555555556,
             "#d8576b"
            ],
            [
             0.6666666666666666,
             "#ed7953"
            ],
            [
             0.7777777777777778,
             "#fb9f3a"
            ],
            [
             0.8888888888888888,
             "#fdca26"
            ],
            [
             1.0,
             "#f0f921"
            ]
           ],
           "sequentialminus": [
            [
             0.0,
             "#0d0887"
            ],
            [
             0.1111111111111111,
             "#46039f"
            ],
            [
             0.2222222222222222,
             "#7201a8"
            ],
            [
             0.3333333333333333,
             "#9c179e"
            ],
            [
             0.4444444444444444,
             "#bd3786"
            ],
            [
             0.5555555555555556,
             "#d8576b"
            ],
            [
             0.6666666666666666,
             "#ed7953"
            ],
            [
             0.7777777777777778,
             "#fb9f3a"
            ],
            [
             0.8888888888888888,
             "#fdca26"
            ],
            [
             1.0,
             "#f0f921"
            ]
           ],
           "diverging": [
            [
             0,
             "#8e0152"
            ],
            [
             0.1,
             "#c51b7d"
            ],
            [
             0.2,
             "#de77ae"
            ],
            [
             0.3,
             "#f1b6da"
            ],
            [
             0.4,
             "#fde0ef"
            ],
            [
             0.5,
             "#f7f7f7"
            ],
            [
             0.6,
             "#e6f5d0"
            ],
            [
             0.7,
             "#b8e186"
            ],
            [
             0.8,
             "#7fbc41"
            ],
            [
             0.9,
             "#4d9221"
            ],
            [
             1,
             "#276419"
            ]
           ]
          },
          "xaxis": {
           "gridcolor": "#283442",
           "linecolor": "#506784",
           "ticks": "",
           "title": {
            "standoff": 15
           },
           "zerolinecolor": "#283442",
           "automargin": true,
           "zerolinewidth": 2
          },
          "yaxis": {
           "gridcolor": "#283442",
           "linecolor": "#506784",
           "ticks": "",
           "title": {
            "standoff": 15
           },
           "zerolinecolor": "#283442",
           "automargin": true,
           "zerolinewidth": 2
          },
          "scene": {
           "xaxis": {
            "backgroundcolor": "rgb(17,17,17)",
            "gridcolor": "#506784",
            "linecolor": "#506784",
            "showbackground": true,
            "ticks": "",
            "zerolinecolor": "#C8D4E3",
            "gridwidth": 2
           },
           "yaxis": {
            "backgroundcolor": "rgb(17,17,17)",
            "gridcolor": "#506784",
            "linecolor": "#506784",
            "showbackground": true,
            "ticks": "",
            "zerolinecolor": "#C8D4E3",
            "gridwidth": 2
           },
           "zaxis": {
            "backgroundcolor": "rgb(17,17,17)",
            "gridcolor": "#506784",
            "linecolor": "#506784",
            "showbackground": true,
            "ticks": "",
            "zerolinecolor": "#C8D4E3",
            "gridwidth": 2
           }
          },
          "shapedefaults": {
           "line": {
            "color": "#f2f5fa"
           }
          },
          "annotationdefaults": {
           "arrowcolor": "#f2f5fa",
           "arrowhead": 0,
           "arrowwidth": 1
          },
          "geo": {
           "bgcolor": "rgb(17,17,17)",
           "landcolor": "rgb(17,17,17)",
           "subunitcolor": "#506784",
           "showland": true,
           "showlakes": true,
           "lakecolor": "rgb(17,17,17)"
          },
          "title": {
           "x": 0.05
          },
          "updatemenudefaults": {
           "bgcolor": "#506784",
           "borderwidth": 0
          },
          "sliderdefaults": {
           "bgcolor": "#C8D4E3",
           "borderwidth": 1,
           "bordercolor": "rgb(17,17,17)",
           "tickwidth": 0
          },
          "mapbox": {
           "style": "dark"
          }
         }
        },
        "xaxis": {
         "anchor": "y",
         "domain": [
          0.0,
          1.0
         ],
         "title": {
          "text": "Clusters"
         }
        },
        "yaxis": {
         "anchor": "x",
         "domain": [
          0.0,
          1.0
         ],
         "title": {
          "text": "Count"
         }
        },
        "legend": {
         "tracegroupgap": 0
        },
        "margin": {
         "t": 60
        },
        "title": {
         "text": "Manhattan Distance (eps=0.8)"
        }
       },
       "config": {
        "plotlyServerURL": "https://plot.ly"
       }
      }
     },
     "metadata": {},
     "output_type": "display_data"
    },
    {
     "data": {
      "application/vnd.plotly.v1+json": {
       "data": [
        {
         "hovertemplate": "x=%{x}<br>index=%{y}<extra></extra>",
         "legendgroup": "",
         "marker": {
          "color": "#636efa",
          "symbol": "circle"
         },
         "mode": "markers",
         "name": "",
         "orientation": "h",
         "showlegend": false,
         "x": {
          "dtype": "i1",
          "bdata": "AAAAAAEAAAIAAAAAAAAAAAABAAD/AAAAAgAAAAAAAAEAAAAAAQAAAAAAAAAAAAAAAAACAP8AAAAAAP8AAAAAAQD/AAAAAAAAAAAAAAQA/wABAAAA/wAAAAAAAAIAAwAAAAAAAAD/AAAAAAAAAAAAAAAAAAEAAAAAAAAAAAAAAAD/AAEAAAAAAAAAAAAAAAAAAAAAAAAAAAAAAAABAv8AAAABAQAAAAAAAP//AAD//wAAAAAAAQAA//8AAAEEAAAAAAABAAUA////AQMAAAMFBgMAAAAAAQAAAAAAAAQAAAMAAQAABAABAAEBAQABAQEAAAAAAQAAAAAEAQEAAAABAAD/AAP/AAcAAAcAAAABAQADAAEABwAAAAEHAAD/AAAAAAAAAAACBAQAAAAAAQEAAAAAAQAAAQABAAAAAAAAAAAEAAADAAADAQADAAMAAAAAAAAAAAAAAAAAAwAAAwEDAAEAAAQAAAAAAAEAAAH/AQAAAQAABv8AAAABAAQAAAAAAAAAAAAABAABAAEAAwAABAQAAwADAAMABwAAAQYBAQAHAQIAAQAAAQQBAgAAAAABAAYBBgAAAAABAAD/AAEAAwABAAMAAQYBAP8AAAYAAQAAAQAAAAEAAAABAAYGAAAAAAAAAAMAAAABAAEBAAAGAf8BAQAAAAAEAAYAAAAA/wAAAQAAAAEAAQAAAQEAAAEAAAAAAAABAQD/AAAAAAADAQAGAQMDAAAAAAAAAAMBAAAAAAAAAAEBAAABAQAAAQABAAIBAwABAwAAAAAEAAAAAAADAAAAAAAAAQQABwAAAQABBQcABAAHAAAAAAAABAAAAAEAAwAAAAAABwAAAAQAAAEEAAAAAAAHAwABAAUBAAAAAAAAAQAGAAEEAAAGAAAAAAEAAAABBgAAAAcAAAEAAQAAAAABAAQHAQcABgAABAAEAAEAAwAAAAAAAAAAAAADAAAHAQAAAAABAAEAAQABBAAAAwEAAQAAAAAAAAAA/wAEAQYDAAAFAAQAAAAAAQAAAAABAQT/AAAA/wEEAAYDBAAAAAEBAAAAAQMAAQAAAP8DAwcAAAAAAAYDBwEBBAADBgAAAAAAAAAAAAAAAQEAAAAGAf8BBAEAAQABAAAFAAEAAAAAAQQDAAABBQEDAAD/AAAGAAADAgAAAQEAAQD/AAAAAP8AAAAGAAAAAAAAAQD/AAAAAAAA/wMHAAEBAAMBAAABAQABAAAAAAAGAAAAAAAAAAADAAMBAAMABAAAAgADAgMAAAYAAAAABAAAAQAAAQMBAAAAAAEBAAMAAAAAAAEAAAQAAAAEBgAGAQAAAQEAAgAAAAAAAA=="
         },
         "xaxis": "x",
         "y": {
          "dtype": "i2",
          "bdata": "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"
         },
         "yaxis": "y",
         "type": "scatter"
        }
       ],
       "layout": {
        "template": {
         "data": {
          "histogram2dcontour": [
           {
            "type": "histogram2dcontour",
            "colorbar": {
             "outlinewidth": 0,
             "ticks": ""
            },
            "colorscale": [
             [
              0.0,
              "#0d0887"
             ],
             [
              0.1111111111111111,
              "#46039f"
             ],
             [
              0.2222222222222222,
              "#7201a8"
             ],
             [
              0.3333333333333333,
              "#9c179e"
             ],
             [
              0.4444444444444444,
              "#bd3786"
             ],
             [
              0.5555555555555556,
              "#d8576b"
             ],
             [
              0.6666666666666666,
              "#ed7953"
             ],
             [
              0.7777777777777778,
              "#fb9f3a"
             ],
             [
              0.8888888888888888,
              "#fdca26"
             ],
             [
              1.0,
              "#f0f921"
             ]
            ]
           }
          ],
          "choropleth": [
           {
            "type": "choropleth",
            "colorbar": {
             "outlinewidth": 0,
             "ticks": ""
            }
           }
          ],
          "histogram2d": [
           {
            "type": "histogram2d",
            "colorbar": {
             "outlinewidth": 0,
             "ticks": ""
            },
            "colorscale": [
             [
              0.0,
              "#0d0887"
             ],
             [
              0.1111111111111111,
              "#46039f"
             ],
             [
              0.2222222222222222,
              "#7201a8"
             ],
             [
              0.3333333333333333,
              "#9c179e"
             ],
             [
              0.4444444444444444,
              "#bd3786"
             ],
             [
              0.5555555555555556,
              "#d8576b"
             ],
             [
              0.6666666666666666,
              "#ed7953"
             ],
             [
              0.7777777777777778,
              "#fb9f3a"
             ],
             [
              0.8888888888888888,
              "#fdca26"
             ],
             [
              1.0,
              "#f0f921"
             ]
            ]
           }
          ],
          "heatmap": [
           {
            "type": "heatmap",
            "colorbar": {
             "outlinewidth": 0,
             "ticks": ""
            },
            "colorscale": [
             [
              0.0,
              "#0d0887"
             ],
             [
              0.1111111111111111,
              "#46039f"
             ],
             [
              0.2222222222222222,
              "#7201a8"
             ],
             [
              0.3333333333333333,
              "#9c179e"
             ],
             [
              0.4444444444444444,
              "#bd3786"
             ],
             [
              0.5555555555555556,
              "#d8576b"
             ],
             [
              0.6666666666666666,
              "#ed7953"
             ],
             [
              0.7777777777777778,
              "#fb9f3a"
             ],
             [
              0.8888888888888888,
              "#fdca26"
             ],
             [
              1.0,
              "#f0f921"
             ]
            ]
           }
          ],
          "contourcarpet": [
           {
            "type": "contourcarpet",
            "colorbar": {
             "outlinewidth": 0,
             "ticks": ""
            }
           }
          ],
          "contour": [
           {
            "type": "contour",
            "colorbar": {
             "outlinewidth": 0,
             "ticks": ""
            },
            "colorscale": [
             [
              0.0,
              "#0d0887"
             ],
             [
              0.1111111111111111,
              "#46039f"
             ],
             [
              0.2222222222222222,
              "#7201a8"
             ],
             [
              0.3333333333333333,
              "#9c179e"
             ],
             [
              0.4444444444444444,
              "#bd3786"
             ],
             [
              0.5555555555555556,
              "#d8576b"
             ],
             [
              0.6666666666666666,
              "#ed7953"
             ],
             [
              0.7777777777777778,
              "#fb9f3a"
             ],
             [
              0.8888888888888888,
              "#fdca26"
             ],
             [
              1.0,
              "#f0f921"
             ]
            ]
           }
          ],
          "surface": [
           {
            "type": "surface",
            "colorbar": {
             "outlinewidth": 0,
             "ticks": ""
            },
            "colorscale": [
             [
              0.0,
              "#0d0887"
             ],
             [
              0.1111111111111111,
              "#46039f"
             ],
             [
              0.2222222222222222,
              "#7201a8"
             ],
             [
              0.3333333333333333,
              "#9c179e"
             ],
             [
              0.4444444444444444,
              "#bd3786"
             ],
             [
              0.5555555555555556,
              "#d8576b"
             ],
             [
              0.6666666666666666,
              "#ed7953"
             ],
             [
              0.7777777777777778,
              "#fb9f3a"
             ],
             [
              0.8888888888888888,
              "#fdca26"
             ],
             [
              1.0,
              "#f0f921"
             ]
            ]
           }
          ],
          "mesh3d": [
           {
            "type": "mesh3d",
            "colorbar": {
             "outlinewidth": 0,
             "ticks": ""
            }
           }
          ],
          "scatter": [
           {
            "marker": {
             "line": {
              "color": "#283442"
             }
            },
            "type": "scatter"
           }
          ],
          "parcoords": [
           {
            "type": "parcoords",
            "line": {
             "colorbar": {
              "outlinewidth": 0,
              "ticks": ""
             }
            }
           }
          ],
          "scatterpolargl": [
           {
            "type": "scatterpolargl",
            "marker": {
             "colorbar": {
              "outlinewidth": 0,
              "ticks": ""
             }
            }
           }
          ],
          "bar": [
           {
            "error_x": {
             "color": "#f2f5fa"
            },
            "error_y": {
             "color": "#f2f5fa"
            },
            "marker": {
             "line": {
              "color": "rgb(17,17,17)",
              "width": 0.5
             },
             "pattern": {
              "fillmode": "overlay",
              "size": 10,
              "solidity": 0.2
             }
            },
            "type": "bar"
           }
          ],
          "scattergeo": [
           {
            "type": "scattergeo",
            "marker": {
             "colorbar": {
              "outlinewidth": 0,
              "ticks": ""
             }
            }
           }
          ],
          "scatterpolar": [
           {
            "type": "scatterpolar",
            "marker": {
             "colorbar": {
              "outlinewidth": 0,
              "ticks": ""
             }
            }
           }
          ],
          "histogram": [
           {
            "marker": {
             "pattern": {
              "fillmode": "overlay",
              "size": 10,
              "solidity": 0.2
             }
            },
            "type": "histogram"
           }
          ],
          "scattergl": [
           {
            "marker": {
             "line": {
              "color": "#283442"
             }
            },
            "type": "scattergl"
           }
          ],
          "scatter3d": [
           {
            "type": "scatter3d",
            "line": {
             "colorbar": {
              "outlinewidth": 0,
              "ticks": ""
             }
            },
            "marker": {
             "colorbar": {
              "outlinewidth": 0,
              "ticks": ""
             }
            }
           }
          ],
          "scattermap": [
           {
            "type": "scattermap",
            "marker": {
             "colorbar": {
              "outlinewidth": 0,
              "ticks": ""
             }
            }
           }
          ],
          "scattermapbox": [
           {
            "type": "scattermapbox",
            "marker": {
             "colorbar": {
              "outlinewidth": 0,
              "ticks": ""
             }
            }
           }
          ],
          "scatterternary": [
           {
            "type": "scatterternary",
            "marker": {
             "colorbar": {
              "outlinewidth": 0,
              "ticks": ""
             }
            }
           }
          ],
          "scattercarpet": [
           {
            "type": "scattercarpet",
            "marker": {
             "colorbar": {
              "outlinewidth": 0,
              "ticks": ""
             }
            }
           }
          ],
          "carpet": [
           {
            "aaxis": {
             "endlinecolor": "#A2B1C6",
             "gridcolor": "#506784",
             "linecolor": "#506784",
             "minorgridcolor": "#506784",
             "startlinecolor": "#A2B1C6"
            },
            "baxis": {
             "endlinecolor": "#A2B1C6",
             "gridcolor": "#506784",
             "linecolor": "#506784",
             "minorgridcolor": "#506784",
             "startlinecolor": "#A2B1C6"
            },
            "type": "carpet"
           }
          ],
          "table": [
           {
            "cells": {
             "fill": {
              "color": "#506784"
             },
             "line": {
              "color": "rgb(17,17,17)"
             }
            },
            "header": {
             "fill": {
              "color": "#2a3f5f"
             },
             "line": {
              "color": "rgb(17,17,17)"
             }
            },
            "type": "table"
           }
          ],
          "barpolar": [
           {
            "marker": {
             "line": {
              "color": "rgb(17,17,17)",
              "width": 0.5
             },
             "pattern": {
              "fillmode": "overlay",
              "size": 10,
              "solidity": 0.2
             }
            },
            "type": "barpolar"
           }
          ],
          "pie": [
           {
            "automargin": true,
            "type": "pie"
           }
          ]
         },
         "layout": {
          "autotypenumbers": "strict",
          "colorway": [
           "#636efa",
           "#EF553B",
           "#00cc96",
           "#ab63fa",
           "#FFA15A",
           "#19d3f3",
           "#FF6692",
           "#B6E880",
           "#FF97FF",
           "#FECB52"
          ],
          "font": {
           "color": "#f2f5fa"
          },
          "hovermode": "closest",
          "hoverlabel": {
           "align": "left"
          },
          "paper_bgcolor": "rgb(17,17,17)",
          "plot_bgcolor": "rgb(17,17,17)",
          "polar": {
           "bgcolor": "rgb(17,17,17)",
           "angularaxis": {
            "gridcolor": "#506784",
            "linecolor": "#506784",
            "ticks": ""
           },
           "radialaxis": {
            "gridcolor": "#506784",
            "linecolor": "#506784",
            "ticks": ""
           }
          },
          "ternary": {
           "bgcolor": "rgb(17,17,17)",
           "aaxis": {
            "gridcolor": "#506784",
            "linecolor": "#506784",
            "ticks": ""
           },
           "baxis": {
            "gridcolor": "#506784",
            "linecolor": "#506784",
            "ticks": ""
           },
           "caxis": {
            "gridcolor": "#506784",
            "linecolor": "#506784",
            "ticks": ""
           }
          },
          "coloraxis": {
           "colorbar": {
            "outlinewidth": 0,
            "ticks": ""
           }
          },
          "colorscale": {
           "sequential": [
            [
             0.0,
             "#0d0887"
            ],
            [
             0.1111111111111111,
             "#46039f"
            ],
            [
             0.2222222222222222,
             "#7201a8"
            ],
            [
             0.3333333333333333,
             "#9c179e"
            ],
            [
             0.4444444444444444,
             "#bd3786"
            ],
            [
             0.5555555555555556,
             "#d8576b"
            ],
            [
             0.6666666666666666,
             "#ed7953"
            ],
            [
             0.7777777777777778,
             "#fb9f3a"
            ],
            [
             0.8888888888888888,
             "#fdca26"
            ],
            [
             1.0,
             "#f0f921"
            ]
           ],
           "sequentialminus": [
            [
             0.0,
             "#0d0887"
            ],
            [
             0.1111111111111111,
             "#46039f"
            ],
            [
             0.2222222222222222,
             "#7201a8"
            ],
            [
             0.3333333333333333,
             "#9c179e"
            ],
            [
             0.4444444444444444,
             "#bd3786"
            ],
            [
             0.5555555555555556,
             "#d8576b"
            ],
            [
             0.6666666666666666,
             "#ed7953"
            ],
            [
             0.7777777777777778,
             "#fb9f3a"
            ],
            [
             0.8888888888888888,
             "#fdca26"
            ],
            [
             1.0,
             "#f0f921"
            ]
           ],
           "diverging": [
            [
             0,
             "#8e0152"
            ],
            [
             0.1,
             "#c51b7d"
            ],
            [
             0.2,
             "#de77ae"
            ],
            [
             0.3,
             "#f1b6da"
            ],
            [
             0.4,
             "#fde0ef"
            ],
            [
             0.5,
             "#f7f7f7"
            ],
            [
             0.6,
             "#e6f5d0"
            ],
            [
             0.7,
             "#b8e186"
            ],
            [
             0.8,
             "#7fbc41"
            ],
            [
             0.9,
             "#4d9221"
            ],
            [
             1,
             "#276419"
            ]
           ]
          },
          "xaxis": {
           "gridcolor": "#283442",
           "linecolor": "#506784",
           "ticks": "",
           "title": {
            "standoff": 15
           },
           "zerolinecolor": "#283442",
           "automargin": true,
           "zerolinewidth": 2
          },
          "yaxis": {
           "gridcolor": "#283442",
           "linecolor": "#506784",
           "ticks": "",
           "title": {
            "standoff": 15
           },
           "zerolinecolor": "#283442",
           "automargin": true,
           "zerolinewidth": 2
          },
          "scene": {
           "xaxis": {
            "backgroundcolor": "rgb(17,17,17)",
            "gridcolor": "#506784",
            "linecolor": "#506784",
            "showbackground": true,
            "ticks": "",
            "zerolinecolor": "#C8D4E3",
            "gridwidth": 2
           },
           "yaxis": {
            "backgroundcolor": "rgb(17,17,17)",
            "gridcolor": "#506784",
            "linecolor": "#506784",
            "showbackground": true,
            "ticks": "",
            "zerolinecolor": "#C8D4E3",
            "gridwidth": 2
           },
           "zaxis": {
            "backgroundcolor": "rgb(17,17,17)",
            "gridcolor": "#506784",
            "linecolor": "#506784",
            "showbackground": true,
            "ticks": "",
            "zerolinecolor": "#C8D4E3",
            "gridwidth": 2
           }
          },
          "shapedefaults": {
           "line": {
            "color": "#f2f5fa"
           }
          },
          "annotationdefaults": {
           "arrowcolor": "#f2f5fa",
           "arrowhead": 0,
           "arrowwidth": 1
          },
          "geo": {
           "bgcolor": "rgb(17,17,17)",
           "landcolor": "rgb(17,17,17)",
           "subunitcolor": "#506784",
           "showland": true,
           "showlakes": true,
           "lakecolor": "rgb(17,17,17)"
          },
          "title": {
           "x": 0.05
          },
          "updatemenudefaults": {
           "bgcolor": "#506784",
           "borderwidth": 0
          },
          "sliderdefaults": {
           "bgcolor": "#C8D4E3",
           "borderwidth": 1,
           "bordercolor": "rgb(17,17,17)",
           "tickwidth": 0
          },
          "mapbox": {
           "style": "dark"
          }
         }
        },
        "xaxis": {
         "anchor": "y",
         "domain": [
          0.0,
          1.0
         ],
         "title": {
          "text": "Clusters"
         }
        },
        "yaxis": {
         "anchor": "x",
         "domain": [
          0.0,
          1.0
         ],
         "title": {
          "text": "Count"
         }
        },
        "legend": {
         "tracegroupgap": 0
        },
        "margin": {
         "t": 60
        },
        "title": {
         "text": "Cosine Distance (eps=0.01)"
        }
       },
       "config": {
        "plotlyServerURL": "https://plot.ly"
       }
      }
     },
     "metadata": {},
     "output_type": "display_data"
    }
   ],
   "execution_count": 58
  },
  {
   "metadata": {},
   "cell_type": "code",
   "outputs": [],
   "execution_count": null,
   "source": "",
   "id": "581899b6b9dd9f0d"
  }
 ],
 "metadata": {
  "kernelspec": {
   "display_name": "Python 3",
   "language": "python",
   "name": "python3"
  },
  "language_info": {
   "codemirror_mode": {
    "name": "ipython",
    "version": 3
   },
   "file_extension": ".py",
   "mimetype": "text/x-python",
   "name": "python",
   "nbconvert_exporter": "python",
   "pygments_lexer": "ipython3",
   "version": "3.13.7"
  }
 },
 "nbformat": 4,
 "nbformat_minor": 5
}
