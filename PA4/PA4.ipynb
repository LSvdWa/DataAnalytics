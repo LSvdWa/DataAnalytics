{
 "cells": [
  {
   "cell_type": "code",
   "execution_count": null,
   "id": "initial_id",
   "metadata": {
    "collapsed": true
   },
   "outputs": [],
   "source": [
    "import pandas\n",
    "#from numpy.core.numeric import infty\n",
    "!pip install numpy\n",
    "!pip install pandas\n",
    "!pip install plotly\n",
    "!pip install scikit-learn \n",
    "# scikit-learn = non-depreceated sklearn"
   ]
  },
  {
   "metadata": {},
   "cell_type": "markdown",
   "source": "Importing the data",
   "id": "234f587b33e8a85"
  },
  {
   "metadata": {},
   "cell_type": "code",
   "outputs": [],
   "execution_count": null,
   "source": [
    "import pandas as pd\n",
    "# read the csv and make it a pandas.DataFrame\n",
    "frame = pd.DataFrame(pd.read_csv(\"./airlinedelaycauses_DelayedFlights.csv\"))\n",
    "frame.describe(include='all') # 5 columns, 4 numerical, class is nominal (1 or 0)"
   ],
   "id": "158d37a5e6c469a2"
  },
  {
   "metadata": {},
   "cell_type": "markdown",
   "source": "Task 1",
   "id": "2f65d8ae0ea453ab"
  },
  {
   "metadata": {},
   "cell_type": "code",
   "outputs": [],
   "execution_count": null,
   "source": "",
   "id": "f44719074510c8cb"
  }
 ],
 "metadata": {
  "kernelspec": {
   "display_name": "Python 3",
   "language": "python",
   "name": "python3"
  },
  "language_info": {
   "codemirror_mode": {
    "name": "ipython",
    "version": 2
   },
   "file_extension": ".py",
   "mimetype": "text/x-python",
   "name": "python",
   "nbconvert_exporter": "python",
   "pygments_lexer": "ipython2",
   "version": "2.7.6"
  }
 },
 "nbformat": 4,
 "nbformat_minor": 5
}
