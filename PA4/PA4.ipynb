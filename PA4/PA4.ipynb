{
 "cells": [
  {
   "cell_type": "code",
   "id": "initial_id",
   "metadata": {
    "collapsed": true
   },
   "source": [
    "import pandas\n",
    "#from numpy.core.numeric import infty\n",
    "!pip install numpy\n",
    "!pip install pandas\n",
    "!pip install plotly\n",
    "!pip install scikit-learn \n",
    "# scikit-learn = non-depreceated sklearn"
   ],
   "outputs": [],
   "execution_count": null
  },
  {
   "metadata": {},
   "cell_type": "markdown",
   "source": "Importing the data",
   "id": "234f587b33e8a85"
  },
  {
   "metadata": {},
   "cell_type": "code",
   "source": [
    "import pandas as pd\n",
    "# read the csv and make it a pandas.DataFrame\n",
    "frame = pd.DataFrame(pd.read_csv(\"./airlinedelaycauses_DelayedFlights.zip\"))\n",
    "frame.describe(include='all') \n",
    "# 30 columns, 11 rows\n",
    "# 5 object columns: UniqueCarrier, TailNum, Origin, Dest, CancellationCode\n",
    "# 25 numeric columns"
   ],
   "id": "158d37a5e6c469a2",
   "outputs": [],
   "execution_count": null
  },
  {
   "metadata": {},
   "cell_type": "markdown",
   "source": "Task 1",
   "id": "2f65d8ae0ea453ab"
  },
  {
   "metadata": {},
   "cell_type": "code",
   "source": [
    "objects = ['UniqueCarrier', 'TailNum', 'Origin', 'Dest', 'CancellationCode']\n",
    "numerics = ['Unnamed: 0', 'Year', 'Month', 'DayOfMonth', 'DayOfWeek', 'DepTime', 'CRSDepTime', 'ArrTime', 'CRSArrTime', 'FlightNum', 'ActualElapsedTime', 'CRSElapsedTime', 'AirTime', 'ArrDelay', 'DepDelay', 'Distance', 'TaxiIn', 'TaxiOut', 'Cancelled', 'Diverted', 'CarrierDelay', 'WeatherDelay', 'NASDelay', 'SecurityDelay', 'LateAircraftDelay']\n",
    "\n",
    "# werkt nog niet\n",
    "import plotly.express as px\n",
    "for i in range(len(numerics)):\n",
    "    for j in range(len(numerics)-i):\n",
    "        fig = px.scatter(frame, x=frame[f\"{numerics[i]}\"], y=frame.numerics[i+j])\n",
    "        fig.update_layout(title_text=f\"{numerics[i]} & {numerics[i+j]}\", title_x=numerics[i], title_y=numerics[i+j])\n",
    "        fig.show()"
   ],
   "id": "f44719074510c8cb",
   "outputs": [],
   "execution_count": null
  }
 ],
 "metadata": {
  "kernelspec": {
   "display_name": "Python 3",
   "language": "python",
   "name": "python3"
  },
  "language_info": {
   "codemirror_mode": {
    "name": "ipython",
    "version": 2
   },
   "file_extension": ".py",
   "mimetype": "text/x-python",
   "name": "python",
   "nbconvert_exporter": "python",
   "pygments_lexer": "ipython2",
   "version": "2.7.6"
  }
 },
 "nbformat": 4,
 "nbformat_minor": 5
}
