{
 "cells": [
  {
   "cell_type": "markdown",
   "id": "8e4c6c48ff1109e",
   "metadata": {},
   "source": [
    "Task0"
   ]
  },
  {
   "cell_type": "code",
   "id": "initial_id",
   "metadata": {
    "collapsed": true
   },
   "source": [
    "from jedi.api.refactoring import inline\n",
    "!pip install pandas\n",
    "!pip install plotly\n",
    "\n",
    "!pip install scikit-learn # non-depreaceated sklearn"
   ],
   "outputs": [],
   "execution_count": null
  },
  {
   "cell_type": "markdown",
   "id": "b674e2064ea448b",
   "metadata": {},
   "source": [
    "Task1"
   ]
  },
  {
   "cell_type": "code",
   "id": "79a392246f80ba78",
   "metadata": {},
   "source": [
    "import pandas as pd\n",
    "# read the csv and make it a pandas.DataFrame\n",
    "frame = pd.DataFrame(pd.read_csv(\"./mammographic_masses_data.csv\"))\n",
    "print(frame)"
   ],
   "outputs": [],
   "execution_count": null
  },
  {
   "cell_type": "code",
   "id": "248db9dc389ec477",
   "metadata": {},
   "source": [
    "import plotly.express as px\n",
    "\n",
    "# 2.1\n",
    "# Main functionality of pandas is reading csv files using (pd.read_csv()) \n",
    "# and converting them to a dataframe(pd.DataFrame()). to Further manipulate and visualize the data using pandas or other libraries like plotly.\n",
    "# For a general look at what is inside the dataframe, pandas.DataFrame.info() works well, but for summary statistics one should use pandas.DataFrame.describe().\n",
    "print(frame.describe())\n",
    "\n",
    "# 2.2\n",
    "# Makes a histogram of the Margin values of the rows in the database where Severity = 1\n",
    "fig = px.histogram(frame.loc[frame.Severity == 1].Margin, x=\"Margin\", title=\"Histogram of Margin with Severity = 1\")\n",
    "fig.show()\n",
    "\n",
    "#2.3\n",
    "# A pie-chart showing how many cases of severity = 1 were found per shape category\n",
    "fig = px.pie(frame, values='Severity', names='Shape', title='Severity per Shape')\n",
    "fig.show()\n",
    "\n",
    "# A 2D heatmap with shape and severity on the axis, and the warmth depending on the frequency, accompanied by two individual histograms of the axes\n",
    "fig = px.density_heatmap(frame, x=\"Shape\", y=\"Severity\", marginal_x=\"histogram\", marginal_y=\"histogram\", title=\"Density Heatmap of Shape and Severity\")\n",
    "fig.show()\n",
    "\n",
    "# A scatter plot with on the axes the BA and Age values, and the color depending on the severity\n",
    "fig = px.scatter(frame, x=\"BA\", y=\"Age\", color=\"Severity\", title=\"Scatter Plot of BA and Age\")\n",
    "fig.show()"
   ],
   "outputs": [],
   "execution_count": null
  },
  {
   "cell_type": "markdown",
   "id": "301b053d67c9f13",
   "metadata": {},
   "source": "Task3"
  },
  {
   "metadata": {},
   "cell_type": "code",
   "source": [
    "cleaned_df = frame.copy()\n",
    "\n",
    "# 3.1\n",
    "# clean the set by removing the rows containing missing data\n",
    "cleaned_df = cleaned_df.dropna()\n",
    "\n",
    "# making an histogram of both before and after removing incomplete rows\n",
    "import plotly.graph_objects as go\n",
    "\n",
    "fig = go.Figure()\n",
    "fig = fig.add_trace(go.Histogram(x = frame.loc[frame.Severity == 1].Margin, name = \"Original Set\"))\n",
    "fig = fig.add_trace(go.Histogram(x = cleaned_df.loc[cleaned_df.Severity == 1].Margin, name = \"Cleaned Set\"))\n",
    "fig.update_layout(legend_title_text = \"Dataset\", title = \"Histogram of Margin with Severity = 1\")\n",
    "fig.update_xaxes(title_text=\"Margin\")\n",
    "fig.update_yaxes(title_text=\"Count\")\n",
    "fig.show()\n",
    "\n",
    "# 3.2\n",
    "max =  -100000000000\n",
    "min = 1000000000\n",
    "normalized = frame.copy()\n",
    "\n",
    "for i in frame.Age:\n",
    "    if i > max:\n",
    "        max = i\n",
    "    if i < min:\n",
    "        min = i\n",
    "\n",
    "for i,j in enumerate(normalized.Age):\n",
    "    normalized.loc[i, \"Age\"] = j-min/(max-min)\n",
    "\n",
    "print(normalized)"
   ],
   "id": "c19b70ca94bf92a7",
   "outputs": [],
   "execution_count": null
  },
  {
   "cell_type": "markdown",
   "id": "efd73b5dbe45f43e",
   "metadata": {},
   "source": "Task4"
  },
  {
   "cell_type": "code",
   "id": "ee36047eab36fcf1",
   "metadata": {},
   "source": [
    "from sklearn.feature_selection import SelectFromModel\n",
    "from sklearn.linear_model import LogisticRegression\n",
    "# 4.1\n",
    "# split copy to input=everything but severity and output=severity\n",
    "copy_41 = cleaned_df.copy()\n",
    "output = copy_41[\"Severity\"]\n",
    "input = copy_41.drop(\"Severity\", axis=1)\n",
    "\n",
    "# selectfrommodel part\n",
    "model = SelectFromModel(estimator=LogisticRegression()) \n",
    "model.fit_transform(input, output)\n",
    "selected_features = input.columns[model.get_support()]\n",
    "print(\"Selected features:\", selected_features.tolist())\n",
    "feature_importances = pd.DataFrame(model.estimator_.coef_, columns=model.feature_names_in_.tolist()).transpose()\n",
    "print(feature_importances)\n",
    "lr_set = copy_41[selected_features.tolist() + [\"Severity\"]]\n",
    "features = model.feature_names_in_\n",
    "# Plot histograms\n",
    "fig = px.bar(feature_importances, title='Feature Importance')\n",
    "fig.update_layout(showlegend=False)\n",
    "fig.show()\n",
    "\n",
    "# 4.2 \n",
    "from sklearn.decomposition import PCA\n",
    "\n",
    "pca = PCA(n_components=2)\n",
    "components = pca.fit_transform(input)\n",
    "print(components)\n",
    "df_pca = pd.DataFrame(components, columns=[\"PC1\", \"PC2\"])\n",
    "df_pca[\"target\"] = output\n",
    "\n",
    "fig1 = px.scatter(\n",
    "    df_pca, x=\"PC1\", y=\"PC2\", color=\"target\",\n",
    "    title=\"Data Projected onto First 2 PCs\"\n",
    ")\n",
    "fig1.show()\n",
    "\n",
    "# 4.3 \n",
    "from sklearn.decomposition import TruncatedSVD\n",
    "X = input.copy()\n",
    "svd = TruncatedSVD(n_components=2, n_iter=9, random_state=20)\n",
    "reduced = svd.fit_transform(X)\n",
    "\n",
    "df_trunc = pd.DataFrame(reduced, columns=[\"Component 1\", \"Component 2\"])\n",
    "df_trunc[\"target\"] = output\n",
    "\n",
    "fig1 = px.scatter(\n",
    "    df_trunc, x=\"Component 1\", y=\"Component 2\", color=df_trunc[\"target\"],\n",
    "    title=\"Data Projected onto First 2 Components\"\n",
    ")\n",
    "fig1.show()"
   ],
   "outputs": [],
   "execution_count": null
  }
 ],
 "metadata": {
  "kernelspec": {
   "display_name": "Python 3",
   "language": "python",
   "name": "python3"
  },
  "language_info": {
   "codemirror_mode": {
    "name": "ipython",
    "version": 3
   },
   "file_extension": ".py",
   "mimetype": "text/x-python",
   "name": "python",
   "nbconvert_exporter": "python",
   "pygments_lexer": "ipython3",
   "version": "3.13.7"
  }
 },
 "nbformat": 4,
 "nbformat_minor": 5
}
