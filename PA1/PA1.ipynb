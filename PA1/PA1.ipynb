{
 "cells": [
  {
   "cell_type": "markdown",
   "id": "8e4c6c48ff1109e",
   "metadata": {},
   "source": [
    "Task0"
   ]
  },
  {
   "cell_type": "code",
   "id": "initial_id",
   "metadata": {
    "collapsed": true,
    "ExecuteTime": {
     "end_time": "2025-09-12T15:13:30.166757Z",
     "start_time": "2025-09-12T15:13:23.782057Z"
    }
   },
   "source": [
    "from jedi.api.refactoring import inline\n",
    "!pip install pandas\n",
    "!pip install plotly\n",
    "\n",
    "!pip install scikit-learn # non-depreaceated sklearn"
   ],
   "outputs": [
    {
     "name": "stdout",
     "output_type": "stream",
     "text": [
      "Requirement already satisfied: pandas in c:\\users\\friso\\appdata\\local\\programs\\python\\python38\\lib\\site-packages (2.0.3)\n",
      "Requirement already satisfied: tzdata>=2022.1 in c:\\users\\friso\\appdata\\local\\programs\\python\\python38\\lib\\site-packages (from pandas) (2025.2)\n",
      "Requirement already satisfied: numpy>=1.20.3 in c:\\users\\friso\\appdata\\local\\programs\\python\\python38\\lib\\site-packages (from pandas) (1.24.4)\n",
      "Requirement already satisfied: python-dateutil>=2.8.2 in c:\\users\\friso\\appdata\\local\\programs\\python\\python38\\lib\\site-packages (from pandas) (2.9.0.post0)\n",
      "Requirement already satisfied: pytz>=2020.1 in c:\\users\\friso\\appdata\\local\\programs\\python\\python38\\lib\\site-packages (from pandas) (2025.2)\n",
      "Requirement already satisfied: six>=1.5 in c:\\users\\friso\\appdata\\local\\programs\\python\\python38\\lib\\site-packages (from python-dateutil>=2.8.2->pandas) (1.17.0)\n"
     ]
    },
    {
     "name": "stderr",
     "output_type": "stream",
     "text": [
      "WARNING: You are using pip version 21.1.1; however, version 25.0.1 is available.\n",
      "You should consider upgrading via the 'c:\\users\\friso\\appdata\\local\\programs\\python\\python38\\python.exe -m pip install --upgrade pip' command.\n"
     ]
    },
    {
     "name": "stdout",
     "output_type": "stream",
     "text": [
      "Requirement already satisfied: plotly in c:\\users\\friso\\appdata\\local\\programs\\python\\python38\\lib\\site-packages (6.3.0)\n",
      "Requirement already satisfied: packaging in c:\\users\\friso\\appdata\\local\\programs\\python\\python38\\lib\\site-packages (from plotly) (25.0)\n",
      "Requirement already satisfied: narwhals>=1.15.1 in c:\\users\\friso\\appdata\\local\\programs\\python\\python38\\lib\\site-packages (from plotly) (1.42.1)\n"
     ]
    },
    {
     "name": "stderr",
     "output_type": "stream",
     "text": [
      "WARNING: You are using pip version 21.1.1; however, version 25.0.1 is available.\n",
      "You should consider upgrading via the 'c:\\users\\friso\\appdata\\local\\programs\\python\\python38\\python.exe -m pip install --upgrade pip' command.\n",
      "ERROR: Invalid requirement: '#'\n",
      "WARNING: You are using pip version 21.1.1; however, version 25.0.1 is available.\n",
      "You should consider upgrading via the 'c:\\users\\friso\\appdata\\local\\programs\\python\\python38\\python.exe -m pip install --upgrade pip' command.\n"
     ]
    }
   ],
   "execution_count": 1
  },
  {
   "cell_type": "markdown",
   "id": "b674e2064ea448b",
   "metadata": {},
   "source": [
    "Task1"
   ]
  },
  {
   "cell_type": "code",
   "id": "79a392246f80ba78",
   "metadata": {
    "ExecuteTime": {
     "end_time": "2025-09-12T15:13:33.647036Z",
     "start_time": "2025-09-12T15:13:30.170471Z"
    }
   },
   "source": [
    "import pandas as pd\n",
    "# read the csv and make it a pandas.DataFrame\n",
    "frame = pd.DataFrame(pd.read_csv(\"./mammographic_masses_data.csv\"))\n",
    "print(frame)"
   ],
   "outputs": [
    {
     "name": "stdout",
     "output_type": "stream",
     "text": [
      "      BA   Age  Shape  Margin  Density  Severity\n",
      "0    5.0  67.0    3.0     5.0      3.0         1\n",
      "1    4.0  43.0    1.0     1.0      NaN         1\n",
      "2    5.0  58.0    4.0     5.0      3.0         1\n",
      "3    4.0  28.0    1.0     1.0      3.0         0\n",
      "4    5.0  74.0    1.0     5.0      NaN         1\n",
      "..   ...   ...    ...     ...      ...       ...\n",
      "956  4.0  47.0    2.0     1.0      3.0         0\n",
      "957  4.0  56.0    4.0     5.0      3.0         1\n",
      "958  4.0  64.0    4.0     5.0      3.0         0\n",
      "959  5.0  66.0    4.0     5.0      3.0         1\n",
      "960  4.0  62.0    3.0     3.0      3.0         0\n",
      "\n",
      "[961 rows x 6 columns]\n"
     ]
    }
   ],
   "execution_count": 2
  },
  {
   "cell_type": "code",
   "id": "248db9dc389ec477",
   "metadata": {
    "ExecuteTime": {
     "end_time": "2025-09-12T16:52:40.049908Z",
     "start_time": "2025-09-12T16:52:39.093671Z"
    }
   },
   "source": [
    "import plotly.express as px\n",
    "\n",
    "# 2.1\n",
    "# Main functionality of pandas is reading csv files using (pd.read_csv()) \n",
    "# and converting them to a dataframe(pd.DataFrame()). to Further manipulate and visualize the data using pandas or other libraries like plotly.\n",
    "# For a general look at what is inside the dataframe, pandas.DataFrame.info() works well, but for summary statistics one should use pandas.DataFrame.describe().\n",
    "print(frame.describe())\n",
    "\n",
    "# 2.2\n",
    "# Makes a histogram of the Margin values of the rows in the database where Severity = 1\n",
    "fig = px.histogram(frame.loc[frame.Severity == 1].Margin, x=\"Margin\", title=\"Histogram of Margin with Severity = 1\")\n",
    "fig.show()\n",
    "\n",
    "#2.3\n",
    "# A pie-chart showing how many cases of severity = 1 were found per shape category\n",
    "fig = px.pie(frame, values='Severity', names='Shape', title='Severity per Shape')\n",
    "fig.show()\n",
    "fig = px.histogram(frame, x='Shape', color='Severity', title='Severity per Shape')\n",
    "fig.show()\n",
    "# A 2D heatmap with shape and severity on the axis, and the warmth depending on the frequency, accompanied by two individual histograms of the axes\n",
    "fig = px.density_heatmap(frame, x=\"Shape\", y=\"Severity\", marginal_x=\"histogram\", marginal_y=\"histogram\", title=\"Density Heatmap of Shape and Severity\")\n",
    "fig.show()\n",
    "\n",
    "# A scatter plot with on the axes the BA and Age values, and the color depending on the severity\n",
    "fig = px.scatter(frame, x=\"BA\", y=\"Age\", color=\"Severity\", title=\"Scatter Plot of BA and Age\")\n",
    "fig.show()"
   ],
   "outputs": [
    {
     "name": "stdout",
     "output_type": "stream",
     "text": [
      "               BA         Age       Shape      Margin     Density    Severity\n",
      "count  959.000000  956.000000  930.000000  913.000000  885.000000  961.000000\n",
      "mean     4.300313   55.487448    2.721505    2.796276    2.910734    0.463059\n",
      "std      0.683469   14.480131    1.242792    1.566546    0.380444    0.498893\n",
      "min      0.000000   18.000000    1.000000    1.000000    1.000000    0.000000\n",
      "25%      4.000000   45.000000    2.000000    1.000000    3.000000    0.000000\n",
      "50%      4.000000   57.000000    3.000000    3.000000    3.000000    0.000000\n",
      "75%      5.000000   66.000000    4.000000    4.000000    3.000000    1.000000\n",
      "max      6.000000   96.000000    4.000000    5.000000    4.000000    1.000000\n"
     ]
    },
    {
     "data": {
      "application/vnd.plotly.v1+json": {
       "data": [
        {
         "bingroup": "x",
         "hovertemplate": "Margin=%{x}<br>count=%{y}<extra></extra>",
         "legendgroup": "",
         "marker": {
          "color": "#636efa",
          "pattern": {
           "shape": ""
          }
         },
         "name": "",
         "orientation": "v",
         "showlegend": false,
         "x": {
          "dtype": "f8",
          "bdata": "AAAAAAAAFEAAAAAAAADwPwAAAAAAABRAAAAAAAAAFEAAAAAAAAAUQAAAAAAAABRAAAAAAAAAEEAAAAAAAADwPwAAAAAAAPA/AAAAAAAA8D8AAAAAAAD4fwAAAAAAAAhAAAAAAAAAEEAAAAAAAAAQQAAAAAAAABRAAAAAAAAAFEAAAAAAAAAQQAAAAAAAABBAAAAAAAAAEEAAAAAAAAAUQAAAAAAAABRAAAAAAAAAEEAAAAAAAAAUQAAAAAAAABRAAAAAAAAAFEAAAAAAAAAUQAAAAAAAAPh/AAAAAAAACEAAAAAAAAAIQAAAAAAAABBAAAAAAAAACEAAAAAAAAAIQAAAAAAAABBAAAAAAAAAEEAAAAAAAADwPwAAAAAAAAhAAAAAAAAAEEAAAAAAAADwPwAAAAAAAPh/AAAAAAAAEEAAAAAAAAAUQAAAAAAAABBAAAAAAAAAEEAAAAAAAADwPwAAAAAAABBAAAAAAAAA8D8AAAAAAAAQQAAAAAAAABBAAAAAAAAAEEAAAAAAAAAQQAAAAAAAABRAAAAAAAAAEEAAAAAAAAAIQAAAAAAAABBAAAAAAAAAFEAAAAAAAAAQQAAAAAAAABBAAAAAAAAAFEAAAAAAAAAUQAAAAAAAABRAAAAAAAAAEEAAAAAAAAD4fwAAAAAAABBAAAAAAAAAEEAAAAAAAAAQQAAAAAAAAPh/AAAAAAAA+H8AAAAAAAAQQAAAAAAAABRAAAAAAAAA8D8AAAAAAAAUQAAAAAAAABRAAAAAAAAAFEAAAAAAAAAQQAAAAAAAAAhAAAAAAAAAFEAAAAAAAAAQQAAAAAAAABBAAAAAAAAAEEAAAAAAAAAIQAAAAAAAAPA/AAAAAAAAEEAAAAAAAAAQQAAAAAAAABRAAAAAAAAAFEAAAAAAAAAIQAAAAAAAAPA/AAAAAAAA8D8AAAAAAAAUQAAAAAAAABRAAAAAAAAAEEAAAAAAAADwPwAAAAAAABBAAAAAAAAACEAAAAAAAAAIQAAAAAAAABRAAAAAAAAAEEAAAAAAAAAQQAAAAAAAABBAAAAAAAAAFEAAAAAAAAAQQAAAAAAAABBAAAAAAAAAAEAAAAAAAAAQQAAAAAAAABRAAAAAAAAAEEAAAAAAAAAIQAAAAAAAABBAAAAAAAAAAEAAAAAAAAAUQAAAAAAAABBAAAAAAAAAFEAAAAAAAAAQQAAAAAAAAABAAAAAAAAAEEAAAAAAAAAQQAAAAAAAABRAAAAAAAAA+H8AAAAAAAAQQAAAAAAAAPA/AAAAAAAACEAAAAAAAAAQQAAAAAAAABRAAAAAAAAAEEAAAAAAAAAUQAAAAAAAABBAAAAAAAAAEEAAAAAAAAAUQAAAAAAAABBAAAAAAAAAFEAAAAAAAAAUQAAAAAAAABBAAAAAAAAA8D8AAAAAAAAQQAAAAAAAAPh/AAAAAAAAEEAAAAAAAAAAQAAAAAAAAAhAAAAAAAAAFEAAAAAAAAAQQAAAAAAAABRAAAAAAAAAFEAAAAAAAAAUQAAAAAAAAAhAAAAAAAAAFEAAAAAAAAAIQAAAAAAAABBAAAAAAAAAEEAAAAAAAAAIQAAAAAAAAPA/AAAAAAAAFEAAAAAAAAAQQAAAAAAAAPA/AAAAAAAACEAAAAAAAAAQQAAAAAAAAPA/AAAAAAAAEEAAAAAAAAAQQAAAAAAAABBAAAAAAAAAEEAAAAAAAAAQQAAAAAAAABBAAAAAAAAAFEAAAAAAAAAQQAAAAAAAABBAAAAAAAAAEEAAAAAAAAAIQAAAAAAAABBAAAAAAAAACEAAAAAAAAAUQAAAAAAAABBAAAAAAAAAEEAAAAAAAAAQQAAAAAAAAAhAAAAAAAAACEAAAAAAAAAQQAAAAAAAABBAAAAAAAAAEEAAAAAAAAAIQAAAAAAAABBAAAAAAAAAFEAAAAAAAAAQQAAAAAAAAABAAAAAAAAAEEAAAAAAAAAIQAAAAAAAABBAAAAAAAAAEEAAAAAAAAAAQAAAAAAAABBAAAAAAAAA8D8AAAAAAAAIQAAAAAAAAPA/AAAAAAAAFEAAAAAAAAAQQAAAAAAAAAhAAAAAAAAAEEAAAAAAAAAQQAAAAAAAABRAAAAAAAAAEEAAAAAAAAAQQAAAAAAAAAhAAAAAAAAAEEAAAAAAAAAIQAAAAAAAABRAAAAAAAAAFEAAAAAAAAAQQAAAAAAAABRAAAAAAAAAEEAAAAAAAAAIQAAAAAAAABBAAAAAAAAAFEAAAAAAAAAUQAAAAAAAABRAAAAAAAAAFEAAAAAAAAAUQAAAAAAAAAhAAAAAAAAAEEAAAAAAAAAUQAAAAAAAABBAAAAAAAAACEAAAAAAAADwPwAAAAAAABRAAAAAAAAAFEAAAAAAAAAUQAAAAAAAAPA/AAAAAAAACEAAAAAAAAAQQAAAAAAAABBAAAAAAAAAFEAAAAAAAAAUQAAAAAAAABBAAAAAAAAAEEAAAAAAAAAQQAAAAAAAABRAAAAAAAAAFEAAAAAAAAAUQAAAAAAAABBAAAAAAAAAFEAAAAAAAAAUQAAAAAAAAPh/AAAAAAAA+H8AAAAAAAAUQAAAAAAAABRAAAAAAAAAEEAAAAAAAAAQQAAAAAAAABBAAAAAAAAAFEAAAAAAAAAQQAAAAAAAAPA/AAAAAAAA8D8AAAAAAAAUQAAAAAAAABRAAAAAAAAAEEAAAAAAAAAQQAAAAAAAABRAAAAAAAAAFEAAAAAAAAAUQAAAAAAAABRAAAAAAAAAEEAAAAAAAAAQQAAAAAAAABBAAAAAAAAAEEAAAAAAAAAUQAAAAAAAAABAAAAAAAAAAEAAAAAAAAAQQAAAAAAAABBAAAAAAAAAEEAAAAAAAAAQQAAAAAAAAAhAAAAAAAAAFEAAAAAAAAAIQAAAAAAAABRAAAAAAAAAEEAAAAAAAADwPwAAAAAAABBAAAAAAAAAFEAAAAAAAAAQQAAAAAAAABRAAAAAAAAAFEAAAAAAAAAIQAAAAAAAABRAAAAAAAAAFEAAAAAAAAAUQAAAAAAAABRAAAAAAAAACEAAAAAAAAAQQAAAAAAAABRAAAAAAAAAFEAAAAAAAAAUQAAAAAAAABBAAAAAAAAAFEAAAAAAAAAUQAAAAAAAABBAAAAAAAAAEEAAAAAAAADwPwAAAAAAABBAAAAAAAAAEEAAAAAAAAAQQAAAAAAAABBAAAAAAAAA+H8AAAAAAAAIQAAAAAAAABRAAAAAAAAAFEAAAAAAAAAQQAAAAAAAAAhAAAAAAAAACEAAAAAAAAAAQAAAAAAAAAhAAAAAAAAACEAAAAAAAAAAQAAAAAAAABBAAAAAAAAA8D8AAAAAAAAIQAAAAAAAAAhAAAAAAAAA8D8AAAAAAAAQQAAAAAAAABBAAAAAAAAACEAAAAAAAAAQQAAAAAAAABBAAAAAAAAAEEAAAAAAAADwPwAAAAAAABBAAAAAAAAACEAAAAAAAADwPwAAAAAAABBAAAAAAAAACEAAAAAAAADwPwAAAAAAABBAAAAAAAAAFEAAAAAAAAAQQAAAAAAAAAhAAAAAAAAAEEAAAAAAAAAQQAAAAAAAABBAAAAAAAAAEEAAAAAAAADwPwAAAAAAABBAAAAAAAAAEEAAAAAAAAAQQAAAAAAAAAhAAAAAAAAAEEAAAAAAAAAQQAAAAAAAABBAAAAAAAAAEEAAAAAAAAAUQAAAAAAAAAhAAAAAAAAACEAAAAAAAAAIQAAAAAAAAAhAAAAAAAAACEAAAAAAAAAIQAAAAAAAABBAAAAAAAAACEAAAAAAAAAQQAAAAAAAABRAAAAAAAAA8D8AAAAAAADwPwAAAAAAAAhAAAAAAAAAEEAAAAAAAADwPwAAAAAAAAhAAAAAAAAAEEAAAAAAAAAQQAAAAAAAABBAAAAAAAAACEAAAAAAAAAIQAAAAAAAABBAAAAAAAAAEEAAAAAAAAAQQAAAAAAAABBAAAAAAAAAFEAAAAAAAAAQQAAAAAAAAABAAAAAAAAAEEAAAAAAAAAIQAAAAAAAAPA/AAAAAAAACEAAAAAAAAAQQAAAAAAAAAhAAAAAAAAAFEAAAAAAAAAQQAAAAAAAAAhAAAAAAAAAEEAAAAAAAAAUQAAAAAAAABBAAAAAAAAAEEAAAAAAAADwPwAAAAAAAPA/AAAAAAAAEEAAAAAAAAAQQAAAAAAAABBAAAAAAAAAFEAAAAAAAAAUQAAAAAAAABBAAAAAAAAACEAAAAAAAAAAQAAAAAAAABBAAAAAAAAAEEAAAAAAAAAUQAAAAAAAABBAAAAAAAAAFEAAAAAAAAAAQAAAAAAAABRAAAAAAAAAEEAAAAAAAAAQQAAAAAAAABBAAAAAAAAAEEAAAAAAAAAUQAAAAAAAAAhAAAAAAAAACEAAAAAAAAAAQAAAAAAAAPA/AAAAAAAAEEAAAAAAAAAIQAAAAAAAAAhAAAAAAAAAEEAAAAAAAAAQQAAAAAAAABBAAAAAAAAAEEAAAAAAAAAUQAAAAAAAAAhAAAAAAAAAFEAAAAAAAAAUQAAAAAAAABRAAAAAAAAA8D8AAAAAAAAQQAAAAAAAABBAAAAAAAAACEAAAAAAAAAQQAAAAAAAAABAAAAAAAAACEAAAAAAAAAIQAAAAAAAAPA/AAAAAAAAEEAAAAAAAAAQQAAAAAAAABBAAAAAAAAAEEAAAAAAAAAQQAAAAAAAABRAAAAAAAAAEEAAAAAAAAAQQAAAAAAAABRAAAAAAAAAFEA="
         },
         "xaxis": "x",
         "yaxis": "y",
         "type": "histogram"
        }
       ],
       "layout": {
        "template": {
         "data": {
          "histogram2dcontour": [
           {
            "type": "histogram2dcontour",
            "colorbar": {
             "outlinewidth": 0,
             "ticks": ""
            },
            "colorscale": [
             [
              0.0,
              "#0d0887"
             ],
             [
              0.1111111111111111,
              "#46039f"
             ],
             [
              0.2222222222222222,
              "#7201a8"
             ],
             [
              0.3333333333333333,
              "#9c179e"
             ],
             [
              0.4444444444444444,
              "#bd3786"
             ],
             [
              0.5555555555555556,
              "#d8576b"
             ],
             [
              0.6666666666666666,
              "#ed7953"
             ],
             [
              0.7777777777777778,
              "#fb9f3a"
             ],
             [
              0.8888888888888888,
              "#fdca26"
             ],
             [
              1.0,
              "#f0f921"
             ]
            ]
           }
          ],
          "choropleth": [
           {
            "type": "choropleth",
            "colorbar": {
             "outlinewidth": 0,
             "ticks": ""
            }
           }
          ],
          "histogram2d": [
           {
            "type": "histogram2d",
            "colorbar": {
             "outlinewidth": 0,
             "ticks": ""
            },
            "colorscale": [
             [
              0.0,
              "#0d0887"
             ],
             [
              0.1111111111111111,
              "#46039f"
             ],
             [
              0.2222222222222222,
              "#7201a8"
             ],
             [
              0.3333333333333333,
              "#9c179e"
             ],
             [
              0.4444444444444444,
              "#bd3786"
             ],
             [
              0.5555555555555556,
              "#d8576b"
             ],
             [
              0.6666666666666666,
              "#ed7953"
             ],
             [
              0.7777777777777778,
              "#fb9f3a"
             ],
             [
              0.8888888888888888,
              "#fdca26"
             ],
             [
              1.0,
              "#f0f921"
             ]
            ]
           }
          ],
          "heatmap": [
           {
            "type": "heatmap",
            "colorbar": {
             "outlinewidth": 0,
             "ticks": ""
            },
            "colorscale": [
             [
              0.0,
              "#0d0887"
             ],
             [
              0.1111111111111111,
              "#46039f"
             ],
             [
              0.2222222222222222,
              "#7201a8"
             ],
             [
              0.3333333333333333,
              "#9c179e"
             ],
             [
              0.4444444444444444,
              "#bd3786"
             ],
             [
              0.5555555555555556,
              "#d8576b"
             ],
             [
              0.6666666666666666,
              "#ed7953"
             ],
             [
              0.7777777777777778,
              "#fb9f3a"
             ],
             [
              0.8888888888888888,
              "#fdca26"
             ],
             [
              1.0,
              "#f0f921"
             ]
            ]
           }
          ],
          "contourcarpet": [
           {
            "type": "contourcarpet",
            "colorbar": {
             "outlinewidth": 0,
             "ticks": ""
            }
           }
          ],
          "contour": [
           {
            "type": "contour",
            "colorbar": {
             "outlinewidth": 0,
             "ticks": ""
            },
            "colorscale": [
             [
              0.0,
              "#0d0887"
             ],
             [
              0.1111111111111111,
              "#46039f"
             ],
             [
              0.2222222222222222,
              "#7201a8"
             ],
             [
              0.3333333333333333,
              "#9c179e"
             ],
             [
              0.4444444444444444,
              "#bd3786"
             ],
             [
              0.5555555555555556,
              "#d8576b"
             ],
             [
              0.6666666666666666,
              "#ed7953"
             ],
             [
              0.7777777777777778,
              "#fb9f3a"
             ],
             [
              0.8888888888888888,
              "#fdca26"
             ],
             [
              1.0,
              "#f0f921"
             ]
            ]
           }
          ],
          "surface": [
           {
            "type": "surface",
            "colorbar": {
             "outlinewidth": 0,
             "ticks": ""
            },
            "colorscale": [
             [
              0.0,
              "#0d0887"
             ],
             [
              0.1111111111111111,
              "#46039f"
             ],
             [
              0.2222222222222222,
              "#7201a8"
             ],
             [
              0.3333333333333333,
              "#9c179e"
             ],
             [
              0.4444444444444444,
              "#bd3786"
             ],
             [
              0.5555555555555556,
              "#d8576b"
             ],
             [
              0.6666666666666666,
              "#ed7953"
             ],
             [
              0.7777777777777778,
              "#fb9f3a"
             ],
             [
              0.8888888888888888,
              "#fdca26"
             ],
             [
              1.0,
              "#f0f921"
             ]
            ]
           }
          ],
          "mesh3d": [
           {
            "type": "mesh3d",
            "colorbar": {
             "outlinewidth": 0,
             "ticks": ""
            }
           }
          ],
          "scatter": [
           {
            "marker": {
             "line": {
              "color": "#283442"
             }
            },
            "type": "scatter"
           }
          ],
          "parcoords": [
           {
            "type": "parcoords",
            "line": {
             "colorbar": {
              "outlinewidth": 0,
              "ticks": ""
             }
            }
           }
          ],
          "scatterpolargl": [
           {
            "type": "scatterpolargl",
            "marker": {
             "colorbar": {
              "outlinewidth": 0,
              "ticks": ""
             }
            }
           }
          ],
          "bar": [
           {
            "error_x": {
             "color": "#f2f5fa"
            },
            "error_y": {
             "color": "#f2f5fa"
            },
            "marker": {
             "line": {
              "color": "rgb(17,17,17)",
              "width": 0.5
             },
             "pattern": {
              "fillmode": "overlay",
              "size": 10,
              "solidity": 0.2
             }
            },
            "type": "bar"
           }
          ],
          "scattergeo": [
           {
            "type": "scattergeo",
            "marker": {
             "colorbar": {
              "outlinewidth": 0,
              "ticks": ""
             }
            }
           }
          ],
          "scatterpolar": [
           {
            "type": "scatterpolar",
            "marker": {
             "colorbar": {
              "outlinewidth": 0,
              "ticks": ""
             }
            }
           }
          ],
          "histogram": [
           {
            "marker": {
             "pattern": {
              "fillmode": "overlay",
              "size": 10,
              "solidity": 0.2
             }
            },
            "type": "histogram"
           }
          ],
          "scattergl": [
           {
            "marker": {
             "line": {
              "color": "#283442"
             }
            },
            "type": "scattergl"
           }
          ],
          "scatter3d": [
           {
            "type": "scatter3d",
            "line": {
             "colorbar": {
              "outlinewidth": 0,
              "ticks": ""
             }
            },
            "marker": {
             "colorbar": {
              "outlinewidth": 0,
              "ticks": ""
             }
            }
           }
          ],
          "scattermap": [
           {
            "type": "scattermap",
            "marker": {
             "colorbar": {
              "outlinewidth": 0,
              "ticks": ""
             }
            }
           }
          ],
          "scattermapbox": [
           {
            "type": "scattermapbox",
            "marker": {
             "colorbar": {
              "outlinewidth": 0,
              "ticks": ""
             }
            }
           }
          ],
          "scatterternary": [
           {
            "type": "scatterternary",
            "marker": {
             "colorbar": {
              "outlinewidth": 0,
              "ticks": ""
             }
            }
           }
          ],
          "scattercarpet": [
           {
            "type": "scattercarpet",
            "marker": {
             "colorbar": {
              "outlinewidth": 0,
              "ticks": ""
             }
            }
           }
          ],
          "carpet": [
           {
            "aaxis": {
             "endlinecolor": "#A2B1C6",
             "gridcolor": "#506784",
             "linecolor": "#506784",
             "minorgridcolor": "#506784",
             "startlinecolor": "#A2B1C6"
            },
            "baxis": {
             "endlinecolor": "#A2B1C6",
             "gridcolor": "#506784",
             "linecolor": "#506784",
             "minorgridcolor": "#506784",
             "startlinecolor": "#A2B1C6"
            },
            "type": "carpet"
           }
          ],
          "table": [
           {
            "cells": {
             "fill": {
              "color": "#506784"
             },
             "line": {
              "color": "rgb(17,17,17)"
             }
            },
            "header": {
             "fill": {
              "color": "#2a3f5f"
             },
             "line": {
              "color": "rgb(17,17,17)"
             }
            },
            "type": "table"
           }
          ],
          "barpolar": [
           {
            "marker": {
             "line": {
              "color": "rgb(17,17,17)",
              "width": 0.5
             },
             "pattern": {
              "fillmode": "overlay",
              "size": 10,
              "solidity": 0.2
             }
            },
            "type": "barpolar"
           }
          ],
          "pie": [
           {
            "automargin": true,
            "type": "pie"
           }
          ]
         },
         "layout": {
          "autotypenumbers": "strict",
          "colorway": [
           "#636efa",
           "#EF553B",
           "#00cc96",
           "#ab63fa",
           "#FFA15A",
           "#19d3f3",
           "#FF6692",
           "#B6E880",
           "#FF97FF",
           "#FECB52"
          ],
          "font": {
           "color": "#f2f5fa"
          },
          "hovermode": "closest",
          "hoverlabel": {
           "align": "left"
          },
          "paper_bgcolor": "rgb(17,17,17)",
          "plot_bgcolor": "rgb(17,17,17)",
          "polar": {
           "bgcolor": "rgb(17,17,17)",
           "angularaxis": {
            "gridcolor": "#506784",
            "linecolor": "#506784",
            "ticks": ""
           },
           "radialaxis": {
            "gridcolor": "#506784",
            "linecolor": "#506784",
            "ticks": ""
           }
          },
          "ternary": {
           "bgcolor": "rgb(17,17,17)",
           "aaxis": {
            "gridcolor": "#506784",
            "linecolor": "#506784",
            "ticks": ""
           },
           "baxis": {
            "gridcolor": "#506784",
            "linecolor": "#506784",
            "ticks": ""
           },
           "caxis": {
            "gridcolor": "#506784",
            "linecolor": "#506784",
            "ticks": ""
           }
          },
          "coloraxis": {
           "colorbar": {
            "outlinewidth": 0,
            "ticks": ""
           }
          },
          "colorscale": {
           "sequential": [
            [
             0.0,
             "#0d0887"
            ],
            [
             0.1111111111111111,
             "#46039f"
            ],
            [
             0.2222222222222222,
             "#7201a8"
            ],
            [
             0.3333333333333333,
             "#9c179e"
            ],
            [
             0.4444444444444444,
             "#bd3786"
            ],
            [
             0.5555555555555556,
             "#d8576b"
            ],
            [
             0.6666666666666666,
             "#ed7953"
            ],
            [
             0.7777777777777778,
             "#fb9f3a"
            ],
            [
             0.8888888888888888,
             "#fdca26"
            ],
            [
             1.0,
             "#f0f921"
            ]
           ],
           "sequentialminus": [
            [
             0.0,
             "#0d0887"
            ],
            [
             0.1111111111111111,
             "#46039f"
            ],
            [
             0.2222222222222222,
             "#7201a8"
            ],
            [
             0.3333333333333333,
             "#9c179e"
            ],
            [
             0.4444444444444444,
             "#bd3786"
            ],
            [
             0.5555555555555556,
             "#d8576b"
            ],
            [
             0.6666666666666666,
             "#ed7953"
            ],
            [
             0.7777777777777778,
             "#fb9f3a"
            ],
            [
             0.8888888888888888,
             "#fdca26"
            ],
            [
             1.0,
             "#f0f921"
            ]
           ],
           "diverging": [
            [
             0,
             "#8e0152"
            ],
            [
             0.1,
             "#c51b7d"
            ],
            [
             0.2,
             "#de77ae"
            ],
            [
             0.3,
             "#f1b6da"
            ],
            [
             0.4,
             "#fde0ef"
            ],
            [
             0.5,
             "#f7f7f7"
            ],
            [
             0.6,
             "#e6f5d0"
            ],
            [
             0.7,
             "#b8e186"
            ],
            [
             0.8,
             "#7fbc41"
            ],
            [
             0.9,
             "#4d9221"
            ],
            [
             1,
             "#276419"
            ]
           ]
          },
          "xaxis": {
           "gridcolor": "#283442",
           "linecolor": "#506784",
           "ticks": "",
           "title": {
            "standoff": 15
           },
           "zerolinecolor": "#283442",
           "automargin": true,
           "zerolinewidth": 2
          },
          "yaxis": {
           "gridcolor": "#283442",
           "linecolor": "#506784",
           "ticks": "",
           "title": {
            "standoff": 15
           },
           "zerolinecolor": "#283442",
           "automargin": true,
           "zerolinewidth": 2
          },
          "scene": {
           "xaxis": {
            "backgroundcolor": "rgb(17,17,17)",
            "gridcolor": "#506784",
            "linecolor": "#506784",
            "showbackground": true,
            "ticks": "",
            "zerolinecolor": "#C8D4E3",
            "gridwidth": 2
           },
           "yaxis": {
            "backgroundcolor": "rgb(17,17,17)",
            "gridcolor": "#506784",
            "linecolor": "#506784",
            "showbackground": true,
            "ticks": "",
            "zerolinecolor": "#C8D4E3",
            "gridwidth": 2
           },
           "zaxis": {
            "backgroundcolor": "rgb(17,17,17)",
            "gridcolor": "#506784",
            "linecolor": "#506784",
            "showbackground": true,
            "ticks": "",
            "zerolinecolor": "#C8D4E3",
            "gridwidth": 2
           }
          },
          "shapedefaults": {
           "line": {
            "color": "#f2f5fa"
           }
          },
          "annotationdefaults": {
           "arrowcolor": "#f2f5fa",
           "arrowhead": 0,
           "arrowwidth": 1
          },
          "geo": {
           "bgcolor": "rgb(17,17,17)",
           "landcolor": "rgb(17,17,17)",
           "subunitcolor": "#506784",
           "showland": true,
           "showlakes": true,
           "lakecolor": "rgb(17,17,17)"
          },
          "title": {
           "x": 0.05
          },
          "updatemenudefaults": {
           "bgcolor": "#506784",
           "borderwidth": 0
          },
          "sliderdefaults": {
           "bgcolor": "#C8D4E3",
           "borderwidth": 1,
           "bordercolor": "rgb(17,17,17)",
           "tickwidth": 0
          },
          "mapbox": {
           "style": "dark"
          }
         }
        },
        "xaxis": {
         "anchor": "y",
         "domain": [
          0.0,
          1.0
         ],
         "title": {
          "text": "Margin"
         }
        },
        "yaxis": {
         "anchor": "x",
         "domain": [
          0.0,
          1.0
         ],
         "title": {
          "text": "count"
         }
        },
        "legend": {
         "tracegroupgap": 0
        },
        "title": {
         "text": "Histogram of Margin with Severity = 1"
        },
        "barmode": "relative"
       },
       "config": {
        "plotlyServerURL": "https://plot.ly"
       }
      }
     },
     "metadata": {},
     "output_type": "display_data"
    },
    {
     "data": {
      "application/vnd.plotly.v1+json": {
       "data": [
        {
         "domain": {
          "x": [
           0.0,
           1.0
          ],
          "y": [
           0.0,
           1.0
          ]
         },
         "hovertemplate": "Shape=%{label}<br>Severity=%{value}<extra></extra>",
         "labels": {
          "dtype": "f8",
          "bdata": "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"
         },
         "legendgroup": "",
         "name": "",
         "showlegend": true,
         "values": {
          "dtype": "i1",
          "bdata": "AQEBAAEAAAABAQEBAAAAAAABAQABAQABAQEAAAEAAAEBAAAAAAEBAAAAAAABAQEAAAEAAQAAAQAAAAABAQEAAAEAAAEAAAABAAEBAAEAAQAAAQEAAQABAAABAQEAAQABAAAAAAAAAAAAAAEAAAEAAQAAAAAAAAEAAQAAAAAAAAAAAQEBAAABAQEBAAEBAAAAAAEBAQEAAQEAAAAAAQAAAQEAAAAAAQEAAQEAAAAAAAEAAAABAAAAAAEBAQABAQABAAEAAQABAAAAAAEAAAEAAQAAAAABAQEAAAAAAAAAAQEBAAEAAAAAAQEAAQAAAAEAAQAAAAEAAAEAAAABAAEBAAEBAQEBAAAAAQABAAEBAQEBAAEAAQABAAEAAAEBAQAAAQABAAEBAAEAAQABAQAAAAAAAAAAAAEBAQEAAQAAAAEBAQABAAAAAAEBAQABAQABAQEBAAEBAAAAAQABAAABAQAAAQAAAQEAAQEAAQAAAAEBAQEAAAABAQABAAEAAQEAAAEAAAAAAQEAAAABAQAAAQABAAEBAQEAAAEAAQABAQEAAQEBAQAAAAEAAQABAQABAAEBAQEBAAEBAQABAQEAAAEBAQAAAQAAAQEBAAAAAQAAAAEBAAEAAQAAAAAAAAEAAQAAAAAAAAEBAAEBAQEBAQEAAAEAAQAAAAABAQEBAAABAQEAAAEAAAEBAQAAAQEBAAEAAAAAAAEAAQEAAAAAAQEAAAEBAQEAAAABAAABAAEBAAAAAQEAAAABAAAAAAABAAABAAAAAAEAAAAAAQEAAQEAAAABAAEBAAEBAQABAQAAAQEBAAEBAAEAAQAAAAABAQABAAAAAAAAAQABAAAAAQEAAQAAAAEAAAEAAQABAAEBAAABAQABAQEAAAABAAEBAQEBAQEBAQAAAAABAQEBAQEBAAABAQAAAAEAAQEBAAEAAQAAAQAAAAEBAAAAAQEAAAABAAEAAQEAAAEBAAAAAAABAAAAAAAAAAABAAEAAAABAQAAAQEBAQABAQEAAQEAAAEAAAEAAQAAAAAAAAABAQABAAEBAAABAQAAAQEBAAEBAQAAAAEBAAEAAQEBAAEAAAAAAAEAAAEBAAEBAAEBAAEBAAEAAQAAAAABAAAAAAABAAABAAABAAEAAQEBAQEBAQABAAAAAQABAQAAAAABAAEBAAEBAQABAQEBAQEAAAEAAQABAQEAAQEAAAEBAAEAAQABAAABAAAAAQABAQABAAEAAAEAAAABAAAAAAEAAQABAAAAAQABAQEAAAEAAQABAA=="
         },
         "type": "pie"
        }
       ],
       "layout": {
        "template": {
         "data": {
          "histogram2dcontour": [
           {
            "type": "histogram2dcontour",
            "colorbar": {
             "outlinewidth": 0,
             "ticks": ""
            },
            "colorscale": [
             [
              0.0,
              "#0d0887"
             ],
             [
              0.1111111111111111,
              "#46039f"
             ],
             [
              0.2222222222222222,
              "#7201a8"
             ],
             [
              0.3333333333333333,
              "#9c179e"
             ],
             [
              0.4444444444444444,
              "#bd3786"
             ],
             [
              0.5555555555555556,
              "#d8576b"
             ],
             [
              0.6666666666666666,
              "#ed7953"
             ],
             [
              0.7777777777777778,
              "#fb9f3a"
             ],
             [
              0.8888888888888888,
              "#fdca26"
             ],
             [
              1.0,
              "#f0f921"
             ]
            ]
           }
          ],
          "choropleth": [
           {
            "type": "choropleth",
            "colorbar": {
             "outlinewidth": 0,
             "ticks": ""
            }
           }
          ],
          "histogram2d": [
           {
            "type": "histogram2d",
            "colorbar": {
             "outlinewidth": 0,
             "ticks": ""
            },
            "colorscale": [
             [
              0.0,
              "#0d0887"
             ],
             [
              0.1111111111111111,
              "#46039f"
             ],
             [
              0.2222222222222222,
              "#7201a8"
             ],
             [
              0.3333333333333333,
              "#9c179e"
             ],
             [
              0.4444444444444444,
              "#bd3786"
             ],
             [
              0.5555555555555556,
              "#d8576b"
             ],
             [
              0.6666666666666666,
              "#ed7953"
             ],
             [
              0.7777777777777778,
              "#fb9f3a"
             ],
             [
              0.8888888888888888,
              "#fdca26"
             ],
             [
              1.0,
              "#f0f921"
             ]
            ]
           }
          ],
          "heatmap": [
           {
            "type": "heatmap",
            "colorbar": {
             "outlinewidth": 0,
             "ticks": ""
            },
            "colorscale": [
             [
              0.0,
              "#0d0887"
             ],
             [
              0.1111111111111111,
              "#46039f"
             ],
             [
              0.2222222222222222,
              "#7201a8"
             ],
             [
              0.3333333333333333,
              "#9c179e"
             ],
             [
              0.4444444444444444,
              "#bd3786"
             ],
             [
              0.5555555555555556,
              "#d8576b"
             ],
             [
              0.6666666666666666,
              "#ed7953"
             ],
             [
              0.7777777777777778,
              "#fb9f3a"
             ],
             [
              0.8888888888888888,
              "#fdca26"
             ],
             [
              1.0,
              "#f0f921"
             ]
            ]
           }
          ],
          "contourcarpet": [
           {
            "type": "contourcarpet",
            "colorbar": {
             "outlinewidth": 0,
             "ticks": ""
            }
           }
          ],
          "contour": [
           {
            "type": "contour",
            "colorbar": {
             "outlinewidth": 0,
             "ticks": ""
            },
            "colorscale": [
             [
              0.0,
              "#0d0887"
             ],
             [
              0.1111111111111111,
              "#46039f"
             ],
             [
              0.2222222222222222,
              "#7201a8"
             ],
             [
              0.3333333333333333,
              "#9c179e"
             ],
             [
              0.4444444444444444,
              "#bd3786"
             ],
             [
              0.5555555555555556,
              "#d8576b"
             ],
             [
              0.6666666666666666,
              "#ed7953"
             ],
             [
              0.7777777777777778,
              "#fb9f3a"
             ],
             [
              0.8888888888888888,
              "#fdca26"
             ],
             [
              1.0,
              "#f0f921"
             ]
            ]
           }
          ],
          "surface": [
           {
            "type": "surface",
            "colorbar": {
             "outlinewidth": 0,
             "ticks": ""
            },
            "colorscale": [
             [
              0.0,
              "#0d0887"
             ],
             [
              0.1111111111111111,
              "#46039f"
             ],
             [
              0.2222222222222222,
              "#7201a8"
             ],
             [
              0.3333333333333333,
              "#9c179e"
             ],
             [
              0.4444444444444444,
              "#bd3786"
             ],
             [
              0.5555555555555556,
              "#d8576b"
             ],
             [
              0.6666666666666666,
              "#ed7953"
             ],
             [
              0.7777777777777778,
              "#fb9f3a"
             ],
             [
              0.8888888888888888,
              "#fdca26"
             ],
             [
              1.0,
              "#f0f921"
             ]
            ]
           }
          ],
          "mesh3d": [
           {
            "type": "mesh3d",
            "colorbar": {
             "outlinewidth": 0,
             "ticks": ""
            }
           }
          ],
          "scatter": [
           {
            "marker": {
             "line": {
              "color": "#283442"
             }
            },
            "type": "scatter"
           }
          ],
          "parcoords": [
           {
            "type": "parcoords",
            "line": {
             "colorbar": {
              "outlinewidth": 0,
              "ticks": ""
             }
            }
           }
          ],
          "scatterpolargl": [
           {
            "type": "scatterpolargl",
            "marker": {
             "colorbar": {
              "outlinewidth": 0,
              "ticks": ""
             }
            }
           }
          ],
          "bar": [
           {
            "error_x": {
             "color": "#f2f5fa"
            },
            "error_y": {
             "color": "#f2f5fa"
            },
            "marker": {
             "line": {
              "color": "rgb(17,17,17)",
              "width": 0.5
             },
             "pattern": {
              "fillmode": "overlay",
              "size": 10,
              "solidity": 0.2
             }
            },
            "type": "bar"
           }
          ],
          "scattergeo": [
           {
            "type": "scattergeo",
            "marker": {
             "colorbar": {
              "outlinewidth": 0,
              "ticks": ""
             }
            }
           }
          ],
          "scatterpolar": [
           {
            "type": "scatterpolar",
            "marker": {
             "colorbar": {
              "outlinewidth": 0,
              "ticks": ""
             }
            }
           }
          ],
          "histogram": [
           {
            "marker": {
             "pattern": {
              "fillmode": "overlay",
              "size": 10,
              "solidity": 0.2
             }
            },
            "type": "histogram"
           }
          ],
          "scattergl": [
           {
            "marker": {
             "line": {
              "color": "#283442"
             }
            },
            "type": "scattergl"
           }
          ],
          "scatter3d": [
           {
            "type": "scatter3d",
            "line": {
             "colorbar": {
              "outlinewidth": 0,
              "ticks": ""
             }
            },
            "marker": {
             "colorbar": {
              "outlinewidth": 0,
              "ticks": ""
             }
            }
           }
          ],
          "scattermap": [
           {
            "type": "scattermap",
            "marker": {
             "colorbar": {
              "outlinewidth": 0,
              "ticks": ""
             }
            }
           }
          ],
          "scattermapbox": [
           {
            "type": "scattermapbox",
            "marker": {
             "colorbar": {
              "outlinewidth": 0,
              "ticks": ""
             }
            }
           }
          ],
          "scatterternary": [
           {
            "type": "scatterternary",
            "marker": {
             "colorbar": {
              "outlinewidth": 0,
              "ticks": ""
             }
            }
           }
          ],
          "scattercarpet": [
           {
            "type": "scattercarpet",
            "marker": {
             "colorbar": {
              "outlinewidth": 0,
              "ticks": ""
             }
            }
           }
          ],
          "carpet": [
           {
            "aaxis": {
             "endlinecolor": "#A2B1C6",
             "gridcolor": "#506784",
             "linecolor": "#506784",
             "minorgridcolor": "#506784",
             "startlinecolor": "#A2B1C6"
            },
            "baxis": {
             "endlinecolor": "#A2B1C6",
             "gridcolor": "#506784",
             "linecolor": "#506784",
             "minorgridcolor": "#506784",
             "startlinecolor": "#A2B1C6"
            },
            "type": "carpet"
           }
          ],
          "table": [
           {
            "cells": {
             "fill": {
              "color": "#506784"
             },
             "line": {
              "color": "rgb(17,17,17)"
             }
            },
            "header": {
             "fill": {
              "color": "#2a3f5f"
             },
             "line": {
              "color": "rgb(17,17,17)"
             }
            },
            "type": "table"
           }
          ],
          "barpolar": [
           {
            "marker": {
             "line": {
              "color": "rgb(17,17,17)",
              "width": 0.5
             },
             "pattern": {
              "fillmode": "overlay",
              "size": 10,
              "solidity": 0.2
             }
            },
            "type": "barpolar"
           }
          ],
          "pie": [
           {
            "automargin": true,
            "type": "pie"
           }
          ]
         },
         "layout": {
          "autotypenumbers": "strict",
          "colorway": [
           "#636efa",
           "#EF553B",
           "#00cc96",
           "#ab63fa",
           "#FFA15A",
           "#19d3f3",
           "#FF6692",
           "#B6E880",
           "#FF97FF",
           "#FECB52"
          ],
          "font": {
           "color": "#f2f5fa"
          },
          "hovermode": "closest",
          "hoverlabel": {
           "align": "left"
          },
          "paper_bgcolor": "rgb(17,17,17)",
          "plot_bgcolor": "rgb(17,17,17)",
          "polar": {
           "bgcolor": "rgb(17,17,17)",
           "angularaxis": {
            "gridcolor": "#506784",
            "linecolor": "#506784",
            "ticks": ""
           },
           "radialaxis": {
            "gridcolor": "#506784",
            "linecolor": "#506784",
            "ticks": ""
           }
          },
          "ternary": {
           "bgcolor": "rgb(17,17,17)",
           "aaxis": {
            "gridcolor": "#506784",
            "linecolor": "#506784",
            "ticks": ""
           },
           "baxis": {
            "gridcolor": "#506784",
            "linecolor": "#506784",
            "ticks": ""
           },
           "caxis": {
            "gridcolor": "#506784",
            "linecolor": "#506784",
            "ticks": ""
           }
          },
          "coloraxis": {
           "colorbar": {
            "outlinewidth": 0,
            "ticks": ""
           }
          },
          "colorscale": {
           "sequential": [
            [
             0.0,
             "#0d0887"
            ],
            [
             0.1111111111111111,
             "#46039f"
            ],
            [
             0.2222222222222222,
             "#7201a8"
            ],
            [
             0.3333333333333333,
             "#9c179e"
            ],
            [
             0.4444444444444444,
             "#bd3786"
            ],
            [
             0.5555555555555556,
             "#d8576b"
            ],
            [
             0.6666666666666666,
             "#ed7953"
            ],
            [
             0.7777777777777778,
             "#fb9f3a"
            ],
            [
             0.8888888888888888,
             "#fdca26"
            ],
            [
             1.0,
             "#f0f921"
            ]
           ],
           "sequentialminus": [
            [
             0.0,
             "#0d0887"
            ],
            [
             0.1111111111111111,
             "#46039f"
            ],
            [
             0.2222222222222222,
             "#7201a8"
            ],
            [
             0.3333333333333333,
             "#9c179e"
            ],
            [
             0.4444444444444444,
             "#bd3786"
            ],
            [
             0.5555555555555556,
             "#d8576b"
            ],
            [
             0.6666666666666666,
             "#ed7953"
            ],
            [
             0.7777777777777778,
             "#fb9f3a"
            ],
            [
             0.8888888888888888,
             "#fdca26"
            ],
            [
             1.0,
             "#f0f921"
            ]
           ],
           "diverging": [
            [
             0,
             "#8e0152"
            ],
            [
             0.1,
             "#c51b7d"
            ],
            [
             0.2,
             "#de77ae"
            ],
            [
             0.3,
             "#f1b6da"
            ],
            [
             0.4,
             "#fde0ef"
            ],
            [
             0.5,
             "#f7f7f7"
            ],
            [
             0.6,
             "#e6f5d0"
            ],
            [
             0.7,
             "#b8e186"
            ],
            [
             0.8,
             "#7fbc41"
            ],
            [
             0.9,
             "#4d9221"
            ],
            [
             1,
             "#276419"
            ]
           ]
          },
          "xaxis": {
           "gridcolor": "#283442",
           "linecolor": "#506784",
           "ticks": "",
           "title": {
            "standoff": 15
           },
           "zerolinecolor": "#283442",
           "automargin": true,
           "zerolinewidth": 2
          },
          "yaxis": {
           "gridcolor": "#283442",
           "linecolor": "#506784",
           "ticks": "",
           "title": {
            "standoff": 15
           },
           "zerolinecolor": "#283442",
           "automargin": true,
           "zerolinewidth": 2
          },
          "scene": {
           "xaxis": {
            "backgroundcolor": "rgb(17,17,17)",
            "gridcolor": "#506784",
            "linecolor": "#506784",
            "showbackground": true,
            "ticks": "",
            "zerolinecolor": "#C8D4E3",
            "gridwidth": 2
           },
           "yaxis": {
            "backgroundcolor": "rgb(17,17,17)",
            "gridcolor": "#506784",
            "linecolor": "#506784",
            "showbackground": true,
            "ticks": "",
            "zerolinecolor": "#C8D4E3",
            "gridwidth": 2
           },
           "zaxis": {
            "backgroundcolor": "rgb(17,17,17)",
            "gridcolor": "#506784",
            "linecolor": "#506784",
            "showbackground": true,
            "ticks": "",
            "zerolinecolor": "#C8D4E3",
            "gridwidth": 2
           }
          },
          "shapedefaults": {
           "line": {
            "color": "#f2f5fa"
           }
          },
          "annotationdefaults": {
           "arrowcolor": "#f2f5fa",
           "arrowhead": 0,
           "arrowwidth": 1
          },
          "geo": {
           "bgcolor": "rgb(17,17,17)",
           "landcolor": "rgb(17,17,17)",
           "subunitcolor": "#506784",
           "showland": true,
           "showlakes": true,
           "lakecolor": "rgb(17,17,17)"
          },
          "title": {
           "x": 0.05
          },
          "updatemenudefaults": {
           "bgcolor": "#506784",
           "borderwidth": 0
          },
          "sliderdefaults": {
           "bgcolor": "#C8D4E3",
           "borderwidth": 1,
           "bordercolor": "rgb(17,17,17)",
           "tickwidth": 0
          },
          "mapbox": {
           "style": "dark"
          }
         }
        },
        "legend": {
         "tracegroupgap": 0
        },
        "title": {
         "text": "Severity per Shape"
        }
       },
       "config": {
        "plotlyServerURL": "https://plot.ly"
       }
      }
     },
     "metadata": {},
     "output_type": "display_data"
    },
    {
     "data": {
      "application/vnd.plotly.v1+json": {
       "data": [
        {
         "bingroup": "x",
         "hovertemplate": "Severity=1<br>Shape=%{x}<br>count=%{y}<extra></extra>",
         "legendgroup": "1",
         "marker": {
          "color": "#636efa",
          "pattern": {
           "shape": ""
          }
         },
         "name": "1",
         "orientation": "v",
         "showlegend": true,
         "x": {
          "dtype": "f8",
          "bdata": "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"
         },
         "xaxis": "x",
         "yaxis": "y",
         "type": "histogram"
        },
        {
         "bingroup": "x",
         "hovertemplate": "Severity=0<br>Shape=%{x}<br>count=%{y}<extra></extra>",
         "legendgroup": "0",
         "marker": {
          "color": "#EF553B",
          "pattern": {
           "shape": ""
          }
         },
         "name": "0",
         "orientation": "v",
         "showlegend": true,
         "x": {
          "dtype": "f8",
          "bdata": "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"
         },
         "xaxis": "x",
         "yaxis": "y",
         "type": "histogram"
        }
       ],
       "layout": {
        "template": {
         "data": {
          "histogram2dcontour": [
           {
            "type": "histogram2dcontour",
            "colorbar": {
             "outlinewidth": 0,
             "ticks": ""
            },
            "colorscale": [
             [
              0.0,
              "#0d0887"
             ],
             [
              0.1111111111111111,
              "#46039f"
             ],
             [
              0.2222222222222222,
              "#7201a8"
             ],
             [
              0.3333333333333333,
              "#9c179e"
             ],
             [
              0.4444444444444444,
              "#bd3786"
             ],
             [
              0.5555555555555556,
              "#d8576b"
             ],
             [
              0.6666666666666666,
              "#ed7953"
             ],
             [
              0.7777777777777778,
              "#fb9f3a"
             ],
             [
              0.8888888888888888,
              "#fdca26"
             ],
             [
              1.0,
              "#f0f921"
             ]
            ]
           }
          ],
          "choropleth": [
           {
            "type": "choropleth",
            "colorbar": {
             "outlinewidth": 0,
             "ticks": ""
            }
           }
          ],
          "histogram2d": [
           {
            "type": "histogram2d",
            "colorbar": {
             "outlinewidth": 0,
             "ticks": ""
            },
            "colorscale": [
             [
              0.0,
              "#0d0887"
             ],
             [
              0.1111111111111111,
              "#46039f"
             ],
             [
              0.2222222222222222,
              "#7201a8"
             ],
             [
              0.3333333333333333,
              "#9c179e"
             ],
             [
              0.4444444444444444,
              "#bd3786"
             ],
             [
              0.5555555555555556,
              "#d8576b"
             ],
             [
              0.6666666666666666,
              "#ed7953"
             ],
             [
              0.7777777777777778,
              "#fb9f3a"
             ],
             [
              0.8888888888888888,
              "#fdca26"
             ],
             [
              1.0,
              "#f0f921"
             ]
            ]
           }
          ],
          "heatmap": [
           {
            "type": "heatmap",
            "colorbar": {
             "outlinewidth": 0,
             "ticks": ""
            },
            "colorscale": [
             [
              0.0,
              "#0d0887"
             ],
             [
              0.1111111111111111,
              "#46039f"
             ],
             [
              0.2222222222222222,
              "#7201a8"
             ],
             [
              0.3333333333333333,
              "#9c179e"
             ],
             [
              0.4444444444444444,
              "#bd3786"
             ],
             [
              0.5555555555555556,
              "#d8576b"
             ],
             [
              0.6666666666666666,
              "#ed7953"
             ],
             [
              0.7777777777777778,
              "#fb9f3a"
             ],
             [
              0.8888888888888888,
              "#fdca26"
             ],
             [
              1.0,
              "#f0f921"
             ]
            ]
           }
          ],
          "contourcarpet": [
           {
            "type": "contourcarpet",
            "colorbar": {
             "outlinewidth": 0,
             "ticks": ""
            }
           }
          ],
          "contour": [
           {
            "type": "contour",
            "colorbar": {
             "outlinewidth": 0,
             "ticks": ""
            },
            "colorscale": [
             [
              0.0,
              "#0d0887"
             ],
             [
              0.1111111111111111,
              "#46039f"
             ],
             [
              0.2222222222222222,
              "#7201a8"
             ],
             [
              0.3333333333333333,
              "#9c179e"
             ],
             [
              0.4444444444444444,
              "#bd3786"
             ],
             [
              0.5555555555555556,
              "#d8576b"
             ],
             [
              0.6666666666666666,
              "#ed7953"
             ],
             [
              0.7777777777777778,
              "#fb9f3a"
             ],
             [
              0.8888888888888888,
              "#fdca26"
             ],
             [
              1.0,
              "#f0f921"
             ]
            ]
           }
          ],
          "surface": [
           {
            "type": "surface",
            "colorbar": {
             "outlinewidth": 0,
             "ticks": ""
            },
            "colorscale": [
             [
              0.0,
              "#0d0887"
             ],
             [
              0.1111111111111111,
              "#46039f"
             ],
             [
              0.2222222222222222,
              "#7201a8"
             ],
             [
              0.3333333333333333,
              "#9c179e"
             ],
             [
              0.4444444444444444,
              "#bd3786"
             ],
             [
              0.5555555555555556,
              "#d8576b"
             ],
             [
              0.6666666666666666,
              "#ed7953"
             ],
             [
              0.7777777777777778,
              "#fb9f3a"
             ],
             [
              0.8888888888888888,
              "#fdca26"
             ],
             [
              1.0,
              "#f0f921"
             ]
            ]
           }
          ],
          "mesh3d": [
           {
            "type": "mesh3d",
            "colorbar": {
             "outlinewidth": 0,
             "ticks": ""
            }
           }
          ],
          "scatter": [
           {
            "marker": {
             "line": {
              "color": "#283442"
             }
            },
            "type": "scatter"
           }
          ],
          "parcoords": [
           {
            "type": "parcoords",
            "line": {
             "colorbar": {
              "outlinewidth": 0,
              "ticks": ""
             }
            }
           }
          ],
          "scatterpolargl": [
           {
            "type": "scatterpolargl",
            "marker": {
             "colorbar": {
              "outlinewidth": 0,
              "ticks": ""
             }
            }
           }
          ],
          "bar": [
           {
            "error_x": {
             "color": "#f2f5fa"
            },
            "error_y": {
             "color": "#f2f5fa"
            },
            "marker": {
             "line": {
              "color": "rgb(17,17,17)",
              "width": 0.5
             },
             "pattern": {
              "fillmode": "overlay",
              "size": 10,
              "solidity": 0.2
             }
            },
            "type": "bar"
           }
          ],
          "scattergeo": [
           {
            "type": "scattergeo",
            "marker": {
             "colorbar": {
              "outlinewidth": 0,
              "ticks": ""
             }
            }
           }
          ],
          "scatterpolar": [
           {
            "type": "scatterpolar",
            "marker": {
             "colorbar": {
              "outlinewidth": 0,
              "ticks": ""
             }
            }
           }
          ],
          "histogram": [
           {
            "marker": {
             "pattern": {
              "fillmode": "overlay",
              "size": 10,
              "solidity": 0.2
             }
            },
            "type": "histogram"
           }
          ],
          "scattergl": [
           {
            "marker": {
             "line": {
              "color": "#283442"
             }
            },
            "type": "scattergl"
           }
          ],
          "scatter3d": [
           {
            "type": "scatter3d",
            "line": {
             "colorbar": {
              "outlinewidth": 0,
              "ticks": ""
             }
            },
            "marker": {
             "colorbar": {
              "outlinewidth": 0,
              "ticks": ""
             }
            }
           }
          ],
          "scattermap": [
           {
            "type": "scattermap",
            "marker": {
             "colorbar": {
              "outlinewidth": 0,
              "ticks": ""
             }
            }
           }
          ],
          "scattermapbox": [
           {
            "type": "scattermapbox",
            "marker": {
             "colorbar": {
              "outlinewidth": 0,
              "ticks": ""
             }
            }
           }
          ],
          "scatterternary": [
           {
            "type": "scatterternary",
            "marker": {
             "colorbar": {
              "outlinewidth": 0,
              "ticks": ""
             }
            }
           }
          ],
          "scattercarpet": [
           {
            "type": "scattercarpet",
            "marker": {
             "colorbar": {
              "outlinewidth": 0,
              "ticks": ""
             }
            }
           }
          ],
          "carpet": [
           {
            "aaxis": {
             "endlinecolor": "#A2B1C6",
             "gridcolor": "#506784",
             "linecolor": "#506784",
             "minorgridcolor": "#506784",
             "startlinecolor": "#A2B1C6"
            },
            "baxis": {
             "endlinecolor": "#A2B1C6",
             "gridcolor": "#506784",
             "linecolor": "#506784",
             "minorgridcolor": "#506784",
             "startlinecolor": "#A2B1C6"
            },
            "type": "carpet"
           }
          ],
          "table": [
           {
            "cells": {
             "fill": {
              "color": "#506784"
             },
             "line": {
              "color": "rgb(17,17,17)"
             }
            },
            "header": {
             "fill": {
              "color": "#2a3f5f"
             },
             "line": {
              "color": "rgb(17,17,17)"
             }
            },
            "type": "table"
           }
          ],
          "barpolar": [
           {
            "marker": {
             "line": {
              "color": "rgb(17,17,17)",
              "width": 0.5
             },
             "pattern": {
              "fillmode": "overlay",
              "size": 10,
              "solidity": 0.2
             }
            },
            "type": "barpolar"
           }
          ],
          "pie": [
           {
            "automargin": true,
            "type": "pie"
           }
          ]
         },
         "layout": {
          "autotypenumbers": "strict",
          "colorway": [
           "#636efa",
           "#EF553B",
           "#00cc96",
           "#ab63fa",
           "#FFA15A",
           "#19d3f3",
           "#FF6692",
           "#B6E880",
           "#FF97FF",
           "#FECB52"
          ],
          "font": {
           "color": "#f2f5fa"
          },
          "hovermode": "closest",
          "hoverlabel": {
           "align": "left"
          },
          "paper_bgcolor": "rgb(17,17,17)",
          "plot_bgcolor": "rgb(17,17,17)",
          "polar": {
           "bgcolor": "rgb(17,17,17)",
           "angularaxis": {
            "gridcolor": "#506784",
            "linecolor": "#506784",
            "ticks": ""
           },
           "radialaxis": {
            "gridcolor": "#506784",
            "linecolor": "#506784",
            "ticks": ""
           }
          },
          "ternary": {
           "bgcolor": "rgb(17,17,17)",
           "aaxis": {
            "gridcolor": "#506784",
            "linecolor": "#506784",
            "ticks": ""
           },
           "baxis": {
            "gridcolor": "#506784",
            "linecolor": "#506784",
            "ticks": ""
           },
           "caxis": {
            "gridcolor": "#506784",
            "linecolor": "#506784",
            "ticks": ""
           }
          },
          "coloraxis": {
           "colorbar": {
            "outlinewidth": 0,
            "ticks": ""
           }
          },
          "colorscale": {
           "sequential": [
            [
             0.0,
             "#0d0887"
            ],
            [
             0.1111111111111111,
             "#46039f"
            ],
            [
             0.2222222222222222,
             "#7201a8"
            ],
            [
             0.3333333333333333,
             "#9c179e"
            ],
            [
             0.4444444444444444,
             "#bd3786"
            ],
            [
             0.5555555555555556,
             "#d8576b"
            ],
            [
             0.6666666666666666,
             "#ed7953"
            ],
            [
             0.7777777777777778,
             "#fb9f3a"
            ],
            [
             0.8888888888888888,
             "#fdca26"
            ],
            [
             1.0,
             "#f0f921"
            ]
           ],
           "sequentialminus": [
            [
             0.0,
             "#0d0887"
            ],
            [
             0.1111111111111111,
             "#46039f"
            ],
            [
             0.2222222222222222,
             "#7201a8"
            ],
            [
             0.3333333333333333,
             "#9c179e"
            ],
            [
             0.4444444444444444,
             "#bd3786"
            ],
            [
             0.5555555555555556,
             "#d8576b"
            ],
            [
             0.6666666666666666,
             "#ed7953"
            ],
            [
             0.7777777777777778,
             "#fb9f3a"
            ],
            [
             0.8888888888888888,
             "#fdca26"
            ],
            [
             1.0,
             "#f0f921"
            ]
           ],
           "diverging": [
            [
             0,
             "#8e0152"
            ],
            [
             0.1,
             "#c51b7d"
            ],
            [
             0.2,
             "#de77ae"
            ],
            [
             0.3,
             "#f1b6da"
            ],
            [
             0.4,
             "#fde0ef"
            ],
            [
             0.5,
             "#f7f7f7"
            ],
            [
             0.6,
             "#e6f5d0"
            ],
            [
             0.7,
             "#b8e186"
            ],
            [
             0.8,
             "#7fbc41"
            ],
            [
             0.9,
             "#4d9221"
            ],
            [
             1,
             "#276419"
            ]
           ]
          },
          "xaxis": {
           "gridcolor": "#283442",
           "linecolor": "#506784",
           "ticks": "",
           "title": {
            "standoff": 15
           },
           "zerolinecolor": "#283442",
           "automargin": true,
           "zerolinewidth": 2
          },
          "yaxis": {
           "gridcolor": "#283442",
           "linecolor": "#506784",
           "ticks": "",
           "title": {
            "standoff": 15
           },
           "zerolinecolor": "#283442",
           "automargin": true,
           "zerolinewidth": 2
          },
          "scene": {
           "xaxis": {
            "backgroundcolor": "rgb(17,17,17)",
            "gridcolor": "#506784",
            "linecolor": "#506784",
            "showbackground": true,
            "ticks": "",
            "zerolinecolor": "#C8D4E3",
            "gridwidth": 2
           },
           "yaxis": {
            "backgroundcolor": "rgb(17,17,17)",
            "gridcolor": "#506784",
            "linecolor": "#506784",
            "showbackground": true,
            "ticks": "",
            "zerolinecolor": "#C8D4E3",
            "gridwidth": 2
           },
           "zaxis": {
            "backgroundcolor": "rgb(17,17,17)",
            "gridcolor": "#506784",
            "linecolor": "#506784",
            "showbackground": true,
            "ticks": "",
            "zerolinecolor": "#C8D4E3",
            "gridwidth": 2
           }
          },
          "shapedefaults": {
           "line": {
            "color": "#f2f5fa"
           }
          },
          "annotationdefaults": {
           "arrowcolor": "#f2f5fa",
           "arrowhead": 0,
           "arrowwidth": 1
          },
          "geo": {
           "bgcolor": "rgb(17,17,17)",
           "landcolor": "rgb(17,17,17)",
           "subunitcolor": "#506784",
           "showland": true,
           "showlakes": true,
           "lakecolor": "rgb(17,17,17)"
          },
          "title": {
           "x": 0.05
          },
          "updatemenudefaults": {
           "bgcolor": "#506784",
           "borderwidth": 0
          },
          "sliderdefaults": {
           "bgcolor": "#C8D4E3",
           "borderwidth": 1,
           "bordercolor": "rgb(17,17,17)",
           "tickwidth": 0
          },
          "mapbox": {
           "style": "dark"
          }
         }
        },
        "xaxis": {
         "anchor": "y",
         "domain": [
          0.0,
          1.0
         ],
         "title": {
          "text": "Shape"
         }
        },
        "yaxis": {
         "anchor": "x",
         "domain": [
          0.0,
          1.0
         ],
         "title": {
          "text": "count"
         }
        },
        "legend": {
         "title": {
          "text": "Severity"
         },
         "tracegroupgap": 0
        },
        "title": {
         "text": "Shape per Severity"
        },
        "barmode": "relative"
       },
       "config": {
        "plotlyServerURL": "https://plot.ly"
       }
      }
     },
     "metadata": {},
     "output_type": "display_data"
    },
    {
     "data": {
      "application/vnd.plotly.v1+json": {
       "data": [
        {
         "coloraxis": "coloraxis",
         "hovertemplate": "Shape=%{x}<br>Severity=%{y}<br>count=%{z}<extra></extra>",
         "name": "",
         "x": {
          "dtype": "f8",
          "bdata": "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"
         },
         "xaxis": "x",
         "xbingroup": "x",
         "y": {
          "dtype": "i1",
          "bdata": "AQEBAAEAAAABAQEBAAAAAAABAQABAQABAQEAAAEAAAEBAAAAAAEBAAAAAAABAQEAAAEAAQAAAQAAAAABAQEAAAEAAAEAAAABAAEBAAEAAQAAAQEAAQABAAABAQEAAQABAAAAAAAAAAAAAAEAAAEAAQAAAAAAAAEAAQAAAAAAAAAAAQEBAAABAQEBAAEBAAAAAAEBAQEAAQEAAAAAAQAAAQEAAAAAAQEAAQEAAAAAAAEAAAABAAAAAAEBAQABAQABAAEAAQABAAAAAAEAAAEAAQAAAAABAQEAAAAAAAAAAQEBAAEAAAAAAQEAAQAAAAEAAQAAAAEAAAEAAAABAAEBAAEBAQEBAAAAAQABAAEBAQEBAAEAAQABAAEAAAEBAQAAAQABAAEBAAEAAQABAQAAAAAAAAAAAAEBAQEAAQAAAAEBAQABAAAAAAEBAQABAQABAQEBAAEBAAAAAQABAAABAQAAAQAAAQEAAQEAAQAAAAEBAQEAAAABAQABAAEAAQEAAAEAAAAAAQEAAAABAQAAAQABAAEBAQEAAAEAAQABAQEAAQEBAQAAAAEAAQABAQABAAEBAQEBAAEBAQABAQEAAAEBAQAAAQAAAQEBAAAAAQAAAAEBAAEAAQAAAAAAAAEAAQAAAAAAAAEBAAEBAQEBAQEAAAEAAQAAAAABAQEBAAABAQEAAAEAAAEBAQAAAQEBAAEAAAAAAAEAAQEAAAAAAQEAAAEBAQEAAAABAAABAAEBAAAAAQEAAAABAAAAAAABAAABAAAAAAEAAAAAAQEAAQEAAAABAAEBAAEBAQABAQAAAQEBAAEBAAEAAQAAAAABAQABAAAAAAAAAQABAAAAAQEAAQAAAAEAAAEAAQABAAEBAAABAQABAQEAAAABAAEBAQEBAQEBAQAAAAABAQEBAQEBAAABAQAAAAEAAQEBAAEAAQAAAQAAAAEBAAAAAQEAAAABAAEAAQEAAAEBAAAAAAABAAAAAAAAAAABAAEAAAABAQAAAQEBAQABAQEAAQEAAAEAAAEAAQAAAAAAAAABAQABAAEBAAABAQAAAQEBAAEBAQAAAAEBAAEAAQEBAAEAAAAAAAEAAAEBAAEBAAEBAAEBAAEAAQAAAAABAAAAAAABAAABAAABAAEAAQEBAQEBAQABAAAAAQABAQAAAAABAAEBAAEBAQABAQEBAQEAAAEAAQABAQEAAQEAAAEBAAEAAQABAAABAAAAAQABAQABAAEAAAEAAAABAAAAAAEAAQABAAAAAQABAQEAAAEAAQABAA=="
         },
         "yaxis": "y",
         "ybingroup": "y",
         "type": "histogram2d"
        },
        {
         "bingroup": "x",
         "hovertemplate": "Shape=%{x}<br>count=%{y}<extra></extra>",
         "legendgroup": "",
         "marker": {
          "color": "#0d0887"
         },
         "name": "",
         "opacity": 0.5,
         "showlegend": false,
         "x": {
          "dtype": "f8",
          "bdata": "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"
         },
         "xaxis": "x3",
         "yaxis": "y3",
         "type": "histogram"
        },
        {
         "bingroup": "y",
         "hovertemplate": "Severity=%{y}<br>count=%{x}<extra></extra>",
         "legendgroup": "",
         "marker": {
          "color": "#0d0887"
         },
         "name": "",
         "opacity": 0.5,
         "showlegend": false,
         "xaxis": "x2",
         "y": {
          "dtype": "i1",
          "bdata": "AQEBAAEAAAABAQEBAAAAAAABAQABAQABAQEAAAEAAAEBAAAAAAEBAAAAAAABAQEAAAEAAQAAAQAAAAABAQEAAAEAAAEAAAABAAEBAAEAAQAAAQEAAQABAAABAQEAAQABAAAAAAAAAAAAAAEAAAEAAQAAAAAAAAEAAQAAAAAAAAAAAQEBAAABAQEBAAEBAAAAAAEBAQEAAQEAAAAAAQAAAQEAAAAAAQEAAQEAAAAAAAEAAAABAAAAAAEBAQABAQABAAEAAQABAAAAAAEAAAEAAQAAAAABAQEAAAAAAAAAAQEBAAEAAAAAAQEAAQAAAAEAAQAAAAEAAAEAAAABAAEBAAEBAQEBAAAAAQABAAEBAQEBAAEAAQABAAEAAAEBAQAAAQABAAEBAAEAAQABAQAAAAAAAAAAAAEBAQEAAQAAAAEBAQABAAAAAAEBAQABAQABAQEBAAEBAAAAAQABAAABAQAAAQAAAQEAAQEAAQAAAAEBAQEAAAABAQABAAEAAQEAAAEAAAAAAQEAAAABAQAAAQABAAEBAQEAAAEAAQABAQEAAQEBAQAAAAEAAQABAQABAAEBAQEBAAEBAQABAQEAAAEBAQAAAQAAAQEBAAAAAQAAAAEBAAEAAQAAAAAAAAEAAQAAAAAAAAEBAAEBAQEBAQEAAAEAAQAAAAABAQEBAAABAQEAAAEAAAEBAQAAAQEBAAEAAAAAAAEAAQEAAAAAAQEAAAEBAQEAAAABAAABAAEBAAAAAQEAAAABAAAAAAABAAABAAAAAAEAAAAAAQEAAQEAAAABAAEBAAEBAQABAQAAAQEBAAEBAAEAAQAAAAABAQABAAAAAAAAAQABAAAAAQEAAQAAAAEAAAEAAQABAAEBAAABAQABAQEAAAABAAEBAQEBAQEBAQAAAAABAQEBAQEBAAABAQAAAAEAAQEBAAEAAQAAAQAAAAEBAAAAAQEAAAABAAEAAQEAAAEBAAAAAAABAAAAAAAAAAABAAEAAAABAQAAAQEBAQABAQEAAQEAAAEAAAEAAQAAAAAAAAABAQABAAEBAAABAQAAAQEBAAEBAQAAAAEBAAEAAQEBAAEAAAAAAAEAAAEBAAEBAAEBAAEBAAEAAQAAAAABAAAAAAABAAABAAABAAEAAQEBAQEBAQABAAAAAQABAQAAAAABAAEBAAEBAQABAQEBAQEAAAEAAQABAQEAAQEAAAEBAAEAAQABAAABAAAAAQABAQABAAEAAAEAAAABAAAAAAEAAQABAAAAAQABAQEAAAEAAQABAA=="
         },
         "yaxis": "y2",
         "type": "histogram"
        }
       ],
       "layout": {
        "template": {
         "data": {
          "histogram2dcontour": [
           {
            "type": "histogram2dcontour",
            "colorbar": {
             "outlinewidth": 0,
             "ticks": ""
            },
            "colorscale": [
             [
              0.0,
              "#0d0887"
             ],
             [
              0.1111111111111111,
              "#46039f"
             ],
             [
              0.2222222222222222,
              "#7201a8"
             ],
             [
              0.3333333333333333,
              "#9c179e"
             ],
             [
              0.4444444444444444,
              "#bd3786"
             ],
             [
              0.5555555555555556,
              "#d8576b"
             ],
             [
              0.6666666666666666,
              "#ed7953"
             ],
             [
              0.7777777777777778,
              "#fb9f3a"
             ],
             [
              0.8888888888888888,
              "#fdca26"
             ],
             [
              1.0,
              "#f0f921"
             ]
            ]
           }
          ],
          "choropleth": [
           {
            "type": "choropleth",
            "colorbar": {
             "outlinewidth": 0,
             "ticks": ""
            }
           }
          ],
          "histogram2d": [
           {
            "type": "histogram2d",
            "colorbar": {
             "outlinewidth": 0,
             "ticks": ""
            },
            "colorscale": [
             [
              0.0,
              "#0d0887"
             ],
             [
              0.1111111111111111,
              "#46039f"
             ],
             [
              0.2222222222222222,
              "#7201a8"
             ],
             [
              0.3333333333333333,
              "#9c179e"
             ],
             [
              0.4444444444444444,
              "#bd3786"
             ],
             [
              0.5555555555555556,
              "#d8576b"
             ],
             [
              0.6666666666666666,
              "#ed7953"
             ],
             [
              0.7777777777777778,
              "#fb9f3a"
             ],
             [
              0.8888888888888888,
              "#fdca26"
             ],
             [
              1.0,
              "#f0f921"
             ]
            ]
           }
          ],
          "heatmap": [
           {
            "type": "heatmap",
            "colorbar": {
             "outlinewidth": 0,
             "ticks": ""
            },
            "colorscale": [
             [
              0.0,
              "#0d0887"
             ],
             [
              0.1111111111111111,
              "#46039f"
             ],
             [
              0.2222222222222222,
              "#7201a8"
             ],
             [
              0.3333333333333333,
              "#9c179e"
             ],
             [
              0.4444444444444444,
              "#bd3786"
             ],
             [
              0.5555555555555556,
              "#d8576b"
             ],
             [
              0.6666666666666666,
              "#ed7953"
             ],
             [
              0.7777777777777778,
              "#fb9f3a"
             ],
             [
              0.8888888888888888,
              "#fdca26"
             ],
             [
              1.0,
              "#f0f921"
             ]
            ]
           }
          ],
          "contourcarpet": [
           {
            "type": "contourcarpet",
            "colorbar": {
             "outlinewidth": 0,
             "ticks": ""
            }
           }
          ],
          "contour": [
           {
            "type": "contour",
            "colorbar": {
             "outlinewidth": 0,
             "ticks": ""
            },
            "colorscale": [
             [
              0.0,
              "#0d0887"
             ],
             [
              0.1111111111111111,
              "#46039f"
             ],
             [
              0.2222222222222222,
              "#7201a8"
             ],
             [
              0.3333333333333333,
              "#9c179e"
             ],
             [
              0.4444444444444444,
              "#bd3786"
             ],
             [
              0.5555555555555556,
              "#d8576b"
             ],
             [
              0.6666666666666666,
              "#ed7953"
             ],
             [
              0.7777777777777778,
              "#fb9f3a"
             ],
             [
              0.8888888888888888,
              "#fdca26"
             ],
             [
              1.0,
              "#f0f921"
             ]
            ]
           }
          ],
          "surface": [
           {
            "type": "surface",
            "colorbar": {
             "outlinewidth": 0,
             "ticks": ""
            },
            "colorscale": [
             [
              0.0,
              "#0d0887"
             ],
             [
              0.1111111111111111,
              "#46039f"
             ],
             [
              0.2222222222222222,
              "#7201a8"
             ],
             [
              0.3333333333333333,
              "#9c179e"
             ],
             [
              0.4444444444444444,
              "#bd3786"
             ],
             [
              0.5555555555555556,
              "#d8576b"
             ],
             [
              0.6666666666666666,
              "#ed7953"
             ],
             [
              0.7777777777777778,
              "#fb9f3a"
             ],
             [
              0.8888888888888888,
              "#fdca26"
             ],
             [
              1.0,
              "#f0f921"
             ]
            ]
           }
          ],
          "mesh3d": [
           {
            "type": "mesh3d",
            "colorbar": {
             "outlinewidth": 0,
             "ticks": ""
            }
           }
          ],
          "scatter": [
           {
            "marker": {
             "line": {
              "color": "#283442"
             }
            },
            "type": "scatter"
           }
          ],
          "parcoords": [
           {
            "type": "parcoords",
            "line": {
             "colorbar": {
              "outlinewidth": 0,
              "ticks": ""
             }
            }
           }
          ],
          "scatterpolargl": [
           {
            "type": "scatterpolargl",
            "marker": {
             "colorbar": {
              "outlinewidth": 0,
              "ticks": ""
             }
            }
           }
          ],
          "bar": [
           {
            "error_x": {
             "color": "#f2f5fa"
            },
            "error_y": {
             "color": "#f2f5fa"
            },
            "marker": {
             "line": {
              "color": "rgb(17,17,17)",
              "width": 0.5
             },
             "pattern": {
              "fillmode": "overlay",
              "size": 10,
              "solidity": 0.2
             }
            },
            "type": "bar"
           }
          ],
          "scattergeo": [
           {
            "type": "scattergeo",
            "marker": {
             "colorbar": {
              "outlinewidth": 0,
              "ticks": ""
             }
            }
           }
          ],
          "scatterpolar": [
           {
            "type": "scatterpolar",
            "marker": {
             "colorbar": {
              "outlinewidth": 0,
              "ticks": ""
             }
            }
           }
          ],
          "histogram": [
           {
            "marker": {
             "pattern": {
              "fillmode": "overlay",
              "size": 10,
              "solidity": 0.2
             }
            },
            "type": "histogram"
           }
          ],
          "scattergl": [
           {
            "marker": {
             "line": {
              "color": "#283442"
             }
            },
            "type": "scattergl"
           }
          ],
          "scatter3d": [
           {
            "type": "scatter3d",
            "line": {
             "colorbar": {
              "outlinewidth": 0,
              "ticks": ""
             }
            },
            "marker": {
             "colorbar": {
              "outlinewidth": 0,
              "ticks": ""
             }
            }
           }
          ],
          "scattermap": [
           {
            "type": "scattermap",
            "marker": {
             "colorbar": {
              "outlinewidth": 0,
              "ticks": ""
             }
            }
           }
          ],
          "scattermapbox": [
           {
            "type": "scattermapbox",
            "marker": {
             "colorbar": {
              "outlinewidth": 0,
              "ticks": ""
             }
            }
           }
          ],
          "scatterternary": [
           {
            "type": "scatterternary",
            "marker": {
             "colorbar": {
              "outlinewidth": 0,
              "ticks": ""
             }
            }
           }
          ],
          "scattercarpet": [
           {
            "type": "scattercarpet",
            "marker": {
             "colorbar": {
              "outlinewidth": 0,
              "ticks": ""
             }
            }
           }
          ],
          "carpet": [
           {
            "aaxis": {
             "endlinecolor": "#A2B1C6",
             "gridcolor": "#506784",
             "linecolor": "#506784",
             "minorgridcolor": "#506784",
             "startlinecolor": "#A2B1C6"
            },
            "baxis": {
             "endlinecolor": "#A2B1C6",
             "gridcolor": "#506784",
             "linecolor": "#506784",
             "minorgridcolor": "#506784",
             "startlinecolor": "#A2B1C6"
            },
            "type": "carpet"
           }
          ],
          "table": [
           {
            "cells": {
             "fill": {
              "color": "#506784"
             },
             "line": {
              "color": "rgb(17,17,17)"
             }
            },
            "header": {
             "fill": {
              "color": "#2a3f5f"
             },
             "line": {
              "color": "rgb(17,17,17)"
             }
            },
            "type": "table"
           }
          ],
          "barpolar": [
           {
            "marker": {
             "line": {
              "color": "rgb(17,17,17)",
              "width": 0.5
             },
             "pattern": {
              "fillmode": "overlay",
              "size": 10,
              "solidity": 0.2
             }
            },
            "type": "barpolar"
           }
          ],
          "pie": [
           {
            "automargin": true,
            "type": "pie"
           }
          ]
         },
         "layout": {
          "autotypenumbers": "strict",
          "colorway": [
           "#636efa",
           "#EF553B",
           "#00cc96",
           "#ab63fa",
           "#FFA15A",
           "#19d3f3",
           "#FF6692",
           "#B6E880",
           "#FF97FF",
           "#FECB52"
          ],
          "font": {
           "color": "#f2f5fa"
          },
          "hovermode": "closest",
          "hoverlabel": {
           "align": "left"
          },
          "paper_bgcolor": "rgb(17,17,17)",
          "plot_bgcolor": "rgb(17,17,17)",
          "polar": {
           "bgcolor": "rgb(17,17,17)",
           "angularaxis": {
            "gridcolor": "#506784",
            "linecolor": "#506784",
            "ticks": ""
           },
           "radialaxis": {
            "gridcolor": "#506784",
            "linecolor": "#506784",
            "ticks": ""
           }
          },
          "ternary": {
           "bgcolor": "rgb(17,17,17)",
           "aaxis": {
            "gridcolor": "#506784",
            "linecolor": "#506784",
            "ticks": ""
           },
           "baxis": {
            "gridcolor": "#506784",
            "linecolor": "#506784",
            "ticks": ""
           },
           "caxis": {
            "gridcolor": "#506784",
            "linecolor": "#506784",
            "ticks": ""
           }
          },
          "coloraxis": {
           "colorbar": {
            "outlinewidth": 0,
            "ticks": ""
           }
          },
          "colorscale": {
           "sequential": [
            [
             0.0,
             "#0d0887"
            ],
            [
             0.1111111111111111,
             "#46039f"
            ],
            [
             0.2222222222222222,
             "#7201a8"
            ],
            [
             0.3333333333333333,
             "#9c179e"
            ],
            [
             0.4444444444444444,
             "#bd3786"
            ],
            [
             0.5555555555555556,
             "#d8576b"
            ],
            [
             0.6666666666666666,
             "#ed7953"
            ],
            [
             0.7777777777777778,
             "#fb9f3a"
            ],
            [
             0.8888888888888888,
             "#fdca26"
            ],
            [
             1.0,
             "#f0f921"
            ]
           ],
           "sequentialminus": [
            [
             0.0,
             "#0d0887"
            ],
            [
             0.1111111111111111,
             "#46039f"
            ],
            [
             0.2222222222222222,
             "#7201a8"
            ],
            [
             0.3333333333333333,
             "#9c179e"
            ],
            [
             0.4444444444444444,
             "#bd3786"
            ],
            [
             0.5555555555555556,
             "#d8576b"
            ],
            [
             0.6666666666666666,
             "#ed7953"
            ],
            [
             0.7777777777777778,
             "#fb9f3a"
            ],
            [
             0.8888888888888888,
             "#fdca26"
            ],
            [
             1.0,
             "#f0f921"
            ]
           ],
           "diverging": [
            [
             0,
             "#8e0152"
            ],
            [
             0.1,
             "#c51b7d"
            ],
            [
             0.2,
             "#de77ae"
            ],
            [
             0.3,
             "#f1b6da"
            ],
            [
             0.4,
             "#fde0ef"
            ],
            [
             0.5,
             "#f7f7f7"
            ],
            [
             0.6,
             "#e6f5d0"
            ],
            [
             0.7,
             "#b8e186"
            ],
            [
             0.8,
             "#7fbc41"
            ],
            [
             0.9,
             "#4d9221"
            ],
            [
             1,
             "#276419"
            ]
           ]
          },
          "xaxis": {
           "gridcolor": "#283442",
           "linecolor": "#506784",
           "ticks": "",
           "title": {
            "standoff": 15
           },
           "zerolinecolor": "#283442",
           "automargin": true,
           "zerolinewidth": 2
          },
          "yaxis": {
           "gridcolor": "#283442",
           "linecolor": "#506784",
           "ticks": "",
           "title": {
            "standoff": 15
           },
           "zerolinecolor": "#283442",
           "automargin": true,
           "zerolinewidth": 2
          },
          "scene": {
           "xaxis": {
            "backgroundcolor": "rgb(17,17,17)",
            "gridcolor": "#506784",
            "linecolor": "#506784",
            "showbackground": true,
            "ticks": "",
            "zerolinecolor": "#C8D4E3",
            "gridwidth": 2
           },
           "yaxis": {
            "backgroundcolor": "rgb(17,17,17)",
            "gridcolor": "#506784",
            "linecolor": "#506784",
            "showbackground": true,
            "ticks": "",
            "zerolinecolor": "#C8D4E3",
            "gridwidth": 2
           },
           "zaxis": {
            "backgroundcolor": "rgb(17,17,17)",
            "gridcolor": "#506784",
            "linecolor": "#506784",
            "showbackground": true,
            "ticks": "",
            "zerolinecolor": "#C8D4E3",
            "gridwidth": 2
           }
          },
          "shapedefaults": {
           "line": {
            "color": "#f2f5fa"
           }
          },
          "annotationdefaults": {
           "arrowcolor": "#f2f5fa",
           "arrowhead": 0,
           "arrowwidth": 1
          },
          "geo": {
           "bgcolor": "rgb(17,17,17)",
           "landcolor": "rgb(17,17,17)",
           "subunitcolor": "#506784",
           "showland": true,
           "showlakes": true,
           "lakecolor": "rgb(17,17,17)"
          },
          "title": {
           "x": 0.05
          },
          "updatemenudefaults": {
           "bgcolor": "#506784",
           "borderwidth": 0
          },
          "sliderdefaults": {
           "bgcolor": "#C8D4E3",
           "borderwidth": 1,
           "bordercolor": "rgb(17,17,17)",
           "tickwidth": 0
          },
          "mapbox": {
           "style": "dark"
          }
         }
        },
        "xaxis": {
         "anchor": "y",
         "domain": [
          0.0,
          0.7363
         ],
         "title": {
          "text": "Shape"
         }
        },
        "yaxis": {
         "anchor": "x",
         "domain": [
          0.0,
          0.7326
         ],
         "title": {
          "text": "Severity"
         }
        },
        "xaxis2": {
         "anchor": "y2",
         "domain": [
          0.7413,
          1.0
         ],
         "matches": "x2",
         "showticklabels": false,
         "showline": false,
         "ticks": "",
         "showgrid": true
        },
        "yaxis2": {
         "anchor": "x2",
         "domain": [
          0.0,
          0.7326
         ],
         "matches": "y",
         "showticklabels": false,
         "showgrid": true
        },
        "xaxis3": {
         "anchor": "y3",
         "domain": [
          0.0,
          0.7363
         ],
         "matches": "x",
         "showticklabels": false,
         "showgrid": true
        },
        "yaxis3": {
         "anchor": "x3",
         "domain": [
          0.7426,
          1.0
         ],
         "matches": "y3",
         "showticklabels": false,
         "showline": false,
         "ticks": "",
         "showgrid": true
        },
        "xaxis4": {
         "anchor": "y4",
         "domain": [
          0.7413,
          1.0
         ],
         "matches": "x2",
         "showticklabels": false,
         "showgrid": true,
         "showline": false,
         "ticks": ""
        },
        "yaxis4": {
         "anchor": "x4",
         "domain": [
          0.7426,
          1.0
         ],
         "matches": "y3",
         "showticklabels": false,
         "showline": false,
         "ticks": "",
         "showgrid": true
        },
        "coloraxis": {
         "colorbar": {
          "title": {
           "text": "count"
          }
         },
         "colorscale": [
          [
           0.0,
           "#0d0887"
          ],
          [
           0.1111111111111111,
           "#46039f"
          ],
          [
           0.2222222222222222,
           "#7201a8"
          ],
          [
           0.3333333333333333,
           "#9c179e"
          ],
          [
           0.4444444444444444,
           "#bd3786"
          ],
          [
           0.5555555555555556,
           "#d8576b"
          ],
          [
           0.6666666666666666,
           "#ed7953"
          ],
          [
           0.7777777777777778,
           "#fb9f3a"
          ],
          [
           0.8888888888888888,
           "#fdca26"
          ],
          [
           1.0,
           "#f0f921"
          ]
         ]
        },
        "legend": {
         "tracegroupgap": 0
        },
        "title": {
         "text": "Density Heatmap of Shape and Severity"
        },
        "barmode": "overlay"
       },
       "config": {
        "plotlyServerURL": "https://plot.ly"
       }
      }
     },
     "metadata": {},
     "output_type": "display_data"
    },
    {
     "data": {
      "application/vnd.plotly.v1+json": {
       "data": [
        {
         "hovertemplate": "BA=%{x}<br>Age=%{y}<br>Severity=%{marker.color}<extra></extra>",
         "legendgroup": "",
         "marker": {
          "color": {
           "dtype": "i1",
           "bdata": "AQEBAAEAAAABAQEBAAAAAAABAQABAQABAQEAAAEAAAEBAAAAAAEBAAAAAAABAQEAAAEAAQAAAQAAAAABAQEAAAEAAAEAAAABAAEBAAEAAQAAAQEAAQABAAABAQEAAQABAAAAAAAAAAAAAAEAAAEAAQAAAAAAAAEAAQAAAAAAAAAAAQEBAAABAQEBAAEBAAAAAAEBAQEAAQEAAAAAAQAAAQEAAAAAAQEAAQEAAAAAAAEAAAABAAAAAAEBAQABAQABAAEAAQABAAAAAAEAAAEAAQAAAAABAQEAAAAAAAAAAQEBAAEAAAAAAQEAAQAAAAEAAQAAAAEAAAEAAAABAAEBAAEBAQEBAAAAAQABAAEBAQEBAAEAAQABAAEAAAEBAQAAAQABAAEBAAEAAQABAQAAAAAAAAAAAAEBAQEAAQAAAAEBAQABAAAAAAEBAQABAQABAQEBAAEBAAAAAQABAAABAQAAAQAAAQEAAQEAAQAAAAEBAQEAAAABAQABAAEAAQEAAAEAAAAAAQEAAAABAQAAAQABAAEBAQEAAAEAAQABAQEAAQEBAQAAAAEAAQABAQABAAEBAQEBAAEBAQABAQEAAAEBAQAAAQAAAQEBAAAAAQAAAAEBAAEAAQAAAAAAAAEAAQAAAAAAAAEBAAEBAQEBAQEAAAEAAQAAAAABAQEBAAABAQEAAAEAAAEBAQAAAQEBAAEAAAAAAAEAAQEAAAAAAQEAAAEBAQEAAAABAAABAAEBAAAAAQEAAAABAAAAAAABAAABAAAAAAEAAAAAAQEAAQEAAAABAAEBAAEBAQABAQAAAQEBAAEBAAEAAQAAAAABAQABAAAAAAAAAQABAAAAAQEAAQAAAAEAAAEAAQABAAEBAAABAQABAQEAAAABAAEBAQEBAQEBAQAAAAABAQEBAQEBAAABAQAAAAEAAQEBAAEAAQAAAQAAAAEBAAAAAQEAAAABAAEAAQEAAAEBAAAAAAABAAAAAAAAAAABAAEAAAABAQAAAQEBAQABAQEAAQEAAAEAAAEAAQAAAAAAAAABAQABAAEBAAABAQAAAQEBAAEBAQAAAAEBAAEAAQEBAAEAAAAAAAEAAAEBAAEBAAEBAAEBAAEAAQAAAAABAAAAAAABAAABAAABAAEAAQEBAQEBAQABAAAAAQABAQAAAAABAAEBAAEBAQABAQEBAQEAAAEAAQABAQEAAQEAAAEBAAEAAQABAAABAAAAAQABAQABAAEAAAEAAAABAAAAAAEAAQABAAAAAQABAQEAAAEAAQABAA=="
          },
          "coloraxis": "coloraxis",
          "symbol": "circle"
         },
         "mode": "markers",
         "name": "",
         "orientation": "v",
         "showlegend": false,
         "x": {
          "dtype": "f8",
          "bdata": "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"
         },
         "xaxis": "x",
         "y": {
          "dtype": "f8",
          "bdata": "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"
         },
         "yaxis": "y",
         "type": "scatter"
        }
       ],
       "layout": {
        "template": {
         "data": {
          "histogram2dcontour": [
           {
            "type": "histogram2dcontour",
            "colorbar": {
             "outlinewidth": 0,
             "ticks": ""
            },
            "colorscale": [
             [
              0.0,
              "#0d0887"
             ],
             [
              0.1111111111111111,
              "#46039f"
             ],
             [
              0.2222222222222222,
              "#7201a8"
             ],
             [
              0.3333333333333333,
              "#9c179e"
             ],
             [
              0.4444444444444444,
              "#bd3786"
             ],
             [
              0.5555555555555556,
              "#d8576b"
             ],
             [
              0.6666666666666666,
              "#ed7953"
             ],
             [
              0.7777777777777778,
              "#fb9f3a"
             ],
             [
              0.8888888888888888,
              "#fdca26"
             ],
             [
              1.0,
              "#f0f921"
             ]
            ]
           }
          ],
          "choropleth": [
           {
            "type": "choropleth",
            "colorbar": {
             "outlinewidth": 0,
             "ticks": ""
            }
           }
          ],
          "histogram2d": [
           {
            "type": "histogram2d",
            "colorbar": {
             "outlinewidth": 0,
             "ticks": ""
            },
            "colorscale": [
             [
              0.0,
              "#0d0887"
             ],
             [
              0.1111111111111111,
              "#46039f"
             ],
             [
              0.2222222222222222,
              "#7201a8"
             ],
             [
              0.3333333333333333,
              "#9c179e"
             ],
             [
              0.4444444444444444,
              "#bd3786"
             ],
             [
              0.5555555555555556,
              "#d8576b"
             ],
             [
              0.6666666666666666,
              "#ed7953"
             ],
             [
              0.7777777777777778,
              "#fb9f3a"
             ],
             [
              0.8888888888888888,
              "#fdca26"
             ],
             [
              1.0,
              "#f0f921"
             ]
            ]
           }
          ],
          "heatmap": [
           {
            "type": "heatmap",
            "colorbar": {
             "outlinewidth": 0,
             "ticks": ""
            },
            "colorscale": [
             [
              0.0,
              "#0d0887"
             ],
             [
              0.1111111111111111,
              "#46039f"
             ],
             [
              0.2222222222222222,
              "#7201a8"
             ],
             [
              0.3333333333333333,
              "#9c179e"
             ],
             [
              0.4444444444444444,
              "#bd3786"
             ],
             [
              0.5555555555555556,
              "#d8576b"
             ],
             [
              0.6666666666666666,
              "#ed7953"
             ],
             [
              0.7777777777777778,
              "#fb9f3a"
             ],
             [
              0.8888888888888888,
              "#fdca26"
             ],
             [
              1.0,
              "#f0f921"
             ]
            ]
           }
          ],
          "contourcarpet": [
           {
            "type": "contourcarpet",
            "colorbar": {
             "outlinewidth": 0,
             "ticks": ""
            }
           }
          ],
          "contour": [
           {
            "type": "contour",
            "colorbar": {
             "outlinewidth": 0,
             "ticks": ""
            },
            "colorscale": [
             [
              0.0,
              "#0d0887"
             ],
             [
              0.1111111111111111,
              "#46039f"
             ],
             [
              0.2222222222222222,
              "#7201a8"
             ],
             [
              0.3333333333333333,
              "#9c179e"
             ],
             [
              0.4444444444444444,
              "#bd3786"
             ],
             [
              0.5555555555555556,
              "#d8576b"
             ],
             [
              0.6666666666666666,
              "#ed7953"
             ],
             [
              0.7777777777777778,
              "#fb9f3a"
             ],
             [
              0.8888888888888888,
              "#fdca26"
             ],
             [
              1.0,
              "#f0f921"
             ]
            ]
           }
          ],
          "surface": [
           {
            "type": "surface",
            "colorbar": {
             "outlinewidth": 0,
             "ticks": ""
            },
            "colorscale": [
             [
              0.0,
              "#0d0887"
             ],
             [
              0.1111111111111111,
              "#46039f"
             ],
             [
              0.2222222222222222,
              "#7201a8"
             ],
             [
              0.3333333333333333,
              "#9c179e"
             ],
             [
              0.4444444444444444,
              "#bd3786"
             ],
             [
              0.5555555555555556,
              "#d8576b"
             ],
             [
              0.6666666666666666,
              "#ed7953"
             ],
             [
              0.7777777777777778,
              "#fb9f3a"
             ],
             [
              0.8888888888888888,
              "#fdca26"
             ],
             [
              1.0,
              "#f0f921"
             ]
            ]
           }
          ],
          "mesh3d": [
           {
            "type": "mesh3d",
            "colorbar": {
             "outlinewidth": 0,
             "ticks": ""
            }
           }
          ],
          "scatter": [
           {
            "marker": {
             "line": {
              "color": "#283442"
             }
            },
            "type": "scatter"
           }
          ],
          "parcoords": [
           {
            "type": "parcoords",
            "line": {
             "colorbar": {
              "outlinewidth": 0,
              "ticks": ""
             }
            }
           }
          ],
          "scatterpolargl": [
           {
            "type": "scatterpolargl",
            "marker": {
             "colorbar": {
              "outlinewidth": 0,
              "ticks": ""
             }
            }
           }
          ],
          "bar": [
           {
            "error_x": {
             "color": "#f2f5fa"
            },
            "error_y": {
             "color": "#f2f5fa"
            },
            "marker": {
             "line": {
              "color": "rgb(17,17,17)",
              "width": 0.5
             },
             "pattern": {
              "fillmode": "overlay",
              "size": 10,
              "solidity": 0.2
             }
            },
            "type": "bar"
           }
          ],
          "scattergeo": [
           {
            "type": "scattergeo",
            "marker": {
             "colorbar": {
              "outlinewidth": 0,
              "ticks": ""
             }
            }
           }
          ],
          "scatterpolar": [
           {
            "type": "scatterpolar",
            "marker": {
             "colorbar": {
              "outlinewidth": 0,
              "ticks": ""
             }
            }
           }
          ],
          "histogram": [
           {
            "marker": {
             "pattern": {
              "fillmode": "overlay",
              "size": 10,
              "solidity": 0.2
             }
            },
            "type": "histogram"
           }
          ],
          "scattergl": [
           {
            "marker": {
             "line": {
              "color": "#283442"
             }
            },
            "type": "scattergl"
           }
          ],
          "scatter3d": [
           {
            "type": "scatter3d",
            "line": {
             "colorbar": {
              "outlinewidth": 0,
              "ticks": ""
             }
            },
            "marker": {
             "colorbar": {
              "outlinewidth": 0,
              "ticks": ""
             }
            }
           }
          ],
          "scattermap": [
           {
            "type": "scattermap",
            "marker": {
             "colorbar": {
              "outlinewidth": 0,
              "ticks": ""
             }
            }
           }
          ],
          "scattermapbox": [
           {
            "type": "scattermapbox",
            "marker": {
             "colorbar": {
              "outlinewidth": 0,
              "ticks": ""
             }
            }
           }
          ],
          "scatterternary": [
           {
            "type": "scatterternary",
            "marker": {
             "colorbar": {
              "outlinewidth": 0,
              "ticks": ""
             }
            }
           }
          ],
          "scattercarpet": [
           {
            "type": "scattercarpet",
            "marker": {
             "colorbar": {
              "outlinewidth": 0,
              "ticks": ""
             }
            }
           }
          ],
          "carpet": [
           {
            "aaxis": {
             "endlinecolor": "#A2B1C6",
             "gridcolor": "#506784",
             "linecolor": "#506784",
             "minorgridcolor": "#506784",
             "startlinecolor": "#A2B1C6"
            },
            "baxis": {
             "endlinecolor": "#A2B1C6",
             "gridcolor": "#506784",
             "linecolor": "#506784",
             "minorgridcolor": "#506784",
             "startlinecolor": "#A2B1C6"
            },
            "type": "carpet"
           }
          ],
          "table": [
           {
            "cells": {
             "fill": {
              "color": "#506784"
             },
             "line": {
              "color": "rgb(17,17,17)"
             }
            },
            "header": {
             "fill": {
              "color": "#2a3f5f"
             },
             "line": {
              "color": "rgb(17,17,17)"
             }
            },
            "type": "table"
           }
          ],
          "barpolar": [
           {
            "marker": {
             "line": {
              "color": "rgb(17,17,17)",
              "width": 0.5
             },
             "pattern": {
              "fillmode": "overlay",
              "size": 10,
              "solidity": 0.2
             }
            },
            "type": "barpolar"
           }
          ],
          "pie": [
           {
            "automargin": true,
            "type": "pie"
           }
          ]
         },
         "layout": {
          "autotypenumbers": "strict",
          "colorway": [
           "#636efa",
           "#EF553B",
           "#00cc96",
           "#ab63fa",
           "#FFA15A",
           "#19d3f3",
           "#FF6692",
           "#B6E880",
           "#FF97FF",
           "#FECB52"
          ],
          "font": {
           "color": "#f2f5fa"
          },
          "hovermode": "closest",
          "hoverlabel": {
           "align": "left"
          },
          "paper_bgcolor": "rgb(17,17,17)",
          "plot_bgcolor": "rgb(17,17,17)",
          "polar": {
           "bgcolor": "rgb(17,17,17)",
           "angularaxis": {
            "gridcolor": "#506784",
            "linecolor": "#506784",
            "ticks": ""
           },
           "radialaxis": {
            "gridcolor": "#506784",
            "linecolor": "#506784",
            "ticks": ""
           }
          },
          "ternary": {
           "bgcolor": "rgb(17,17,17)",
           "aaxis": {
            "gridcolor": "#506784",
            "linecolor": "#506784",
            "ticks": ""
           },
           "baxis": {
            "gridcolor": "#506784",
            "linecolor": "#506784",
            "ticks": ""
           },
           "caxis": {
            "gridcolor": "#506784",
            "linecolor": "#506784",
            "ticks": ""
           }
          },
          "coloraxis": {
           "colorbar": {
            "outlinewidth": 0,
            "ticks": ""
           }
          },
          "colorscale": {
           "sequential": [
            [
             0.0,
             "#0d0887"
            ],
            [
             0.1111111111111111,
             "#46039f"
            ],
            [
             0.2222222222222222,
             "#7201a8"
            ],
            [
             0.3333333333333333,
             "#9c179e"
            ],
            [
             0.4444444444444444,
             "#bd3786"
            ],
            [
             0.5555555555555556,
             "#d8576b"
            ],
            [
             0.6666666666666666,
             "#ed7953"
            ],
            [
             0.7777777777777778,
             "#fb9f3a"
            ],
            [
             0.8888888888888888,
             "#fdca26"
            ],
            [
             1.0,
             "#f0f921"
            ]
           ],
           "sequentialminus": [
            [
             0.0,
             "#0d0887"
            ],
            [
             0.1111111111111111,
             "#46039f"
            ],
            [
             0.2222222222222222,
             "#7201a8"
            ],
            [
             0.3333333333333333,
             "#9c179e"
            ],
            [
             0.4444444444444444,
             "#bd3786"
            ],
            [
             0.5555555555555556,
             "#d8576b"
            ],
            [
             0.6666666666666666,
             "#ed7953"
            ],
            [
             0.7777777777777778,
             "#fb9f3a"
            ],
            [
             0.8888888888888888,
             "#fdca26"
            ],
            [
             1.0,
             "#f0f921"
            ]
           ],
           "diverging": [
            [
             0,
             "#8e0152"
            ],
            [
             0.1,
             "#c51b7d"
            ],
            [
             0.2,
             "#de77ae"
            ],
            [
             0.3,
             "#f1b6da"
            ],
            [
             0.4,
             "#fde0ef"
            ],
            [
             0.5,
             "#f7f7f7"
            ],
            [
             0.6,
             "#e6f5d0"
            ],
            [
             0.7,
             "#b8e186"
            ],
            [
             0.8,
             "#7fbc41"
            ],
            [
             0.9,
             "#4d9221"
            ],
            [
             1,
             "#276419"
            ]
           ]
          },
          "xaxis": {
           "gridcolor": "#283442",
           "linecolor": "#506784",
           "ticks": "",
           "title": {
            "standoff": 15
           },
           "zerolinecolor": "#283442",
           "automargin": true,
           "zerolinewidth": 2
          },
          "yaxis": {
           "gridcolor": "#283442",
           "linecolor": "#506784",
           "ticks": "",
           "title": {
            "standoff": 15
           },
           "zerolinecolor": "#283442",
           "automargin": true,
           "zerolinewidth": 2
          },
          "scene": {
           "xaxis": {
            "backgroundcolor": "rgb(17,17,17)",
            "gridcolor": "#506784",
            "linecolor": "#506784",
            "showbackground": true,
            "ticks": "",
            "zerolinecolor": "#C8D4E3",
            "gridwidth": 2
           },
           "yaxis": {
            "backgroundcolor": "rgb(17,17,17)",
            "gridcolor": "#506784",
            "linecolor": "#506784",
            "showbackground": true,
            "ticks": "",
            "zerolinecolor": "#C8D4E3",
            "gridwidth": 2
           },
           "zaxis": {
            "backgroundcolor": "rgb(17,17,17)",
            "gridcolor": "#506784",
            "linecolor": "#506784",
            "showbackground": true,
            "ticks": "",
            "zerolinecolor": "#C8D4E3",
            "gridwidth": 2
           }
          },
          "shapedefaults": {
           "line": {
            "color": "#f2f5fa"
           }
          },
          "annotationdefaults": {
           "arrowcolor": "#f2f5fa",
           "arrowhead": 0,
           "arrowwidth": 1
          },
          "geo": {
           "bgcolor": "rgb(17,17,17)",
           "landcolor": "rgb(17,17,17)",
           "subunitcolor": "#506784",
           "showland": true,
           "showlakes": true,
           "lakecolor": "rgb(17,17,17)"
          },
          "title": {
           "x": 0.05
          },
          "updatemenudefaults": {
           "bgcolor": "#506784",
           "borderwidth": 0
          },
          "sliderdefaults": {
           "bgcolor": "#C8D4E3",
           "borderwidth": 1,
           "bordercolor": "rgb(17,17,17)",
           "tickwidth": 0
          },
          "mapbox": {
           "style": "dark"
          }
         }
        },
        "xaxis": {
         "anchor": "y",
         "domain": [
          0.0,
          1.0
         ],
         "title": {
          "text": "BA"
         }
        },
        "yaxis": {
         "anchor": "x",
         "domain": [
          0.0,
          1.0
         ],
         "title": {
          "text": "Age"
         }
        },
        "coloraxis": {
         "colorbar": {
          "title": {
           "text": "Severity"
          }
         },
         "colorscale": [
          [
           0.0,
           "#0d0887"
          ],
          [
           0.1111111111111111,
           "#46039f"
          ],
          [
           0.2222222222222222,
           "#7201a8"
          ],
          [
           0.3333333333333333,
           "#9c179e"
          ],
          [
           0.4444444444444444,
           "#bd3786"
          ],
          [
           0.5555555555555556,
           "#d8576b"
          ],
          [
           0.6666666666666666,
           "#ed7953"
          ],
          [
           0.7777777777777778,
           "#fb9f3a"
          ],
          [
           0.8888888888888888,
           "#fdca26"
          ],
          [
           1.0,
           "#f0f921"
          ]
         ]
        },
        "legend": {
         "tracegroupgap": 0
        },
        "title": {
         "text": "Scatter Plot of BA and Age"
        }
       },
       "config": {
        "plotlyServerURL": "https://plot.ly"
       }
      }
     },
     "metadata": {},
     "output_type": "display_data"
    }
   ],
   "execution_count": 13
  },
  {
   "cell_type": "markdown",
   "id": "301b053d67c9f13",
   "metadata": {},
   "source": "Task3"
  },
  {
   "metadata": {
    "ExecuteTime": {
     "end_time": "2025-09-12T15:13:34.733610Z",
     "start_time": "2025-09-12T15:13:34.525470Z"
    }
   },
   "cell_type": "code",
   "source": [
    "cleaned_df = frame.copy()\n",
    "\n",
    "# 3.1\n",
    "# clean the set by removing the rows containing missing data\n",
    "cleaned_df = cleaned_df.dropna()\n",
    "\n",
    "# making an histogram of both before and after removing incomplete rows\n",
    "import plotly.graph_objects as go\n",
    "\n",
    "fig = go.Figure()\n",
    "fig = fig.add_trace(go.Histogram(x = frame.loc[frame.Severity == 1].Margin, name = \"Original Set\"))\n",
    "fig = fig.add_trace(go.Histogram(x = cleaned_df.loc[cleaned_df.Severity == 1].Margin, name = \"Cleaned Set\"))\n",
    "fig.update_layout(legend_title_text = \"Dataset\", title = \"Histogram of Margin with Severity = 1\")\n",
    "fig.update_xaxes(title_text=\"Margin\")\n",
    "fig.update_yaxes(title_text=\"Count\")\n",
    "fig.show()\n",
    "\n",
    "# 3.2\n",
    "max =  -100000000000\n",
    "min = 1000000000\n",
    "normalized = frame.copy()\n",
    "\n",
    "for i in frame.Age:\n",
    "    if i > max:\n",
    "        max = i\n",
    "    if i < min:\n",
    "        min = i\n",
    "\n",
    "for i,j in enumerate(normalized.Age):\n",
    "    normalized.loc[i, \"Age\"] = j-min/(max-min)\n",
    "\n",
    "print(normalized)"
   ],
   "id": "c19b70ca94bf92a7",
   "outputs": [
    {
     "data": {
      "application/vnd.plotly.v1+json": {
       "data": [
        {
         "name": "Original Set",
         "x": {
          "dtype": "f8",
          "bdata": "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"
         },
         "type": "histogram"
        },
        {
         "name": "Cleaned Set",
         "x": {
          "dtype": "f8",
          "bdata": "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"
         },
         "type": "histogram"
        }
       ],
       "layout": {
        "template": {
         "data": {
          "histogram2dcontour": [
           {
            "type": "histogram2dcontour",
            "colorbar": {
             "outlinewidth": 0,
             "ticks": ""
            },
            "colorscale": [
             [
              0.0,
              "#0d0887"
             ],
             [
              0.1111111111111111,
              "#46039f"
             ],
             [
              0.2222222222222222,
              "#7201a8"
             ],
             [
              0.3333333333333333,
              "#9c179e"
             ],
             [
              0.4444444444444444,
              "#bd3786"
             ],
             [
              0.5555555555555556,
              "#d8576b"
             ],
             [
              0.6666666666666666,
              "#ed7953"
             ],
             [
              0.7777777777777778,
              "#fb9f3a"
             ],
             [
              0.8888888888888888,
              "#fdca26"
             ],
             [
              1.0,
              "#f0f921"
             ]
            ]
           }
          ],
          "choropleth": [
           {
            "type": "choropleth",
            "colorbar": {
             "outlinewidth": 0,
             "ticks": ""
            }
           }
          ],
          "histogram2d": [
           {
            "type": "histogram2d",
            "colorbar": {
             "outlinewidth": 0,
             "ticks": ""
            },
            "colorscale": [
             [
              0.0,
              "#0d0887"
             ],
             [
              0.1111111111111111,
              "#46039f"
             ],
             [
              0.2222222222222222,
              "#7201a8"
             ],
             [
              0.3333333333333333,
              "#9c179e"
             ],
             [
              0.4444444444444444,
              "#bd3786"
             ],
             [
              0.5555555555555556,
              "#d8576b"
             ],
             [
              0.6666666666666666,
              "#ed7953"
             ],
             [
              0.7777777777777778,
              "#fb9f3a"
             ],
             [
              0.8888888888888888,
              "#fdca26"
             ],
             [
              1.0,
              "#f0f921"
             ]
            ]
           }
          ],
          "heatmap": [
           {
            "type": "heatmap",
            "colorbar": {
             "outlinewidth": 0,
             "ticks": ""
            },
            "colorscale": [
             [
              0.0,
              "#0d0887"
             ],
             [
              0.1111111111111111,
              "#46039f"
             ],
             [
              0.2222222222222222,
              "#7201a8"
             ],
             [
              0.3333333333333333,
              "#9c179e"
             ],
             [
              0.4444444444444444,
              "#bd3786"
             ],
             [
              0.5555555555555556,
              "#d8576b"
             ],
             [
              0.6666666666666666,
              "#ed7953"
             ],
             [
              0.7777777777777778,
              "#fb9f3a"
             ],
             [
              0.8888888888888888,
              "#fdca26"
             ],
             [
              1.0,
              "#f0f921"
             ]
            ]
           }
          ],
          "contourcarpet": [
           {
            "type": "contourcarpet",
            "colorbar": {
             "outlinewidth": 0,
             "ticks": ""
            }
           }
          ],
          "contour": [
           {
            "type": "contour",
            "colorbar": {
             "outlinewidth": 0,
             "ticks": ""
            },
            "colorscale": [
             [
              0.0,
              "#0d0887"
             ],
             [
              0.1111111111111111,
              "#46039f"
             ],
             [
              0.2222222222222222,
              "#7201a8"
             ],
             [
              0.3333333333333333,
              "#9c179e"
             ],
             [
              0.4444444444444444,
              "#bd3786"
             ],
             [
              0.5555555555555556,
              "#d8576b"
             ],
             [
              0.6666666666666666,
              "#ed7953"
             ],
             [
              0.7777777777777778,
              "#fb9f3a"
             ],
             [
              0.8888888888888888,
              "#fdca26"
             ],
             [
              1.0,
              "#f0f921"
             ]
            ]
           }
          ],
          "surface": [
           {
            "type": "surface",
            "colorbar": {
             "outlinewidth": 0,
             "ticks": ""
            },
            "colorscale": [
             [
              0.0,
              "#0d0887"
             ],
             [
              0.1111111111111111,
              "#46039f"
             ],
             [
              0.2222222222222222,
              "#7201a8"
             ],
             [
              0.3333333333333333,
              "#9c179e"
             ],
             [
              0.4444444444444444,
              "#bd3786"
             ],
             [
              0.5555555555555556,
              "#d8576b"
             ],
             [
              0.6666666666666666,
              "#ed7953"
             ],
             [
              0.7777777777777778,
              "#fb9f3a"
             ],
             [
              0.8888888888888888,
              "#fdca26"
             ],
             [
              1.0,
              "#f0f921"
             ]
            ]
           }
          ],
          "mesh3d": [
           {
            "type": "mesh3d",
            "colorbar": {
             "outlinewidth": 0,
             "ticks": ""
            }
           }
          ],
          "scatter": [
           {
            "marker": {
             "line": {
              "color": "#283442"
             }
            },
            "type": "scatter"
           }
          ],
          "parcoords": [
           {
            "type": "parcoords",
            "line": {
             "colorbar": {
              "outlinewidth": 0,
              "ticks": ""
             }
            }
           }
          ],
          "scatterpolargl": [
           {
            "type": "scatterpolargl",
            "marker": {
             "colorbar": {
              "outlinewidth": 0,
              "ticks": ""
             }
            }
           }
          ],
          "bar": [
           {
            "error_x": {
             "color": "#f2f5fa"
            },
            "error_y": {
             "color": "#f2f5fa"
            },
            "marker": {
             "line": {
              "color": "rgb(17,17,17)",
              "width": 0.5
             },
             "pattern": {
              "fillmode": "overlay",
              "size": 10,
              "solidity": 0.2
             }
            },
            "type": "bar"
           }
          ],
          "scattergeo": [
           {
            "type": "scattergeo",
            "marker": {
             "colorbar": {
              "outlinewidth": 0,
              "ticks": ""
             }
            }
           }
          ],
          "scatterpolar": [
           {
            "type": "scatterpolar",
            "marker": {
             "colorbar": {
              "outlinewidth": 0,
              "ticks": ""
             }
            }
           }
          ],
          "histogram": [
           {
            "marker": {
             "pattern": {
              "fillmode": "overlay",
              "size": 10,
              "solidity": 0.2
             }
            },
            "type": "histogram"
           }
          ],
          "scattergl": [
           {
            "marker": {
             "line": {
              "color": "#283442"
             }
            },
            "type": "scattergl"
           }
          ],
          "scatter3d": [
           {
            "type": "scatter3d",
            "line": {
             "colorbar": {
              "outlinewidth": 0,
              "ticks": ""
             }
            },
            "marker": {
             "colorbar": {
              "outlinewidth": 0,
              "ticks": ""
             }
            }
           }
          ],
          "scattermap": [
           {
            "type": "scattermap",
            "marker": {
             "colorbar": {
              "outlinewidth": 0,
              "ticks": ""
             }
            }
           }
          ],
          "scattermapbox": [
           {
            "type": "scattermapbox",
            "marker": {
             "colorbar": {
              "outlinewidth": 0,
              "ticks": ""
             }
            }
           }
          ],
          "scatterternary": [
           {
            "type": "scatterternary",
            "marker": {
             "colorbar": {
              "outlinewidth": 0,
              "ticks": ""
             }
            }
           }
          ],
          "scattercarpet": [
           {
            "type": "scattercarpet",
            "marker": {
             "colorbar": {
              "outlinewidth": 0,
              "ticks": ""
             }
            }
           }
          ],
          "carpet": [
           {
            "aaxis": {
             "endlinecolor": "#A2B1C6",
             "gridcolor": "#506784",
             "linecolor": "#506784",
             "minorgridcolor": "#506784",
             "startlinecolor": "#A2B1C6"
            },
            "baxis": {
             "endlinecolor": "#A2B1C6",
             "gridcolor": "#506784",
             "linecolor": "#506784",
             "minorgridcolor": "#506784",
             "startlinecolor": "#A2B1C6"
            },
            "type": "carpet"
           }
          ],
          "table": [
           {
            "cells": {
             "fill": {
              "color": "#506784"
             },
             "line": {
              "color": "rgb(17,17,17)"
             }
            },
            "header": {
             "fill": {
              "color": "#2a3f5f"
             },
             "line": {
              "color": "rgb(17,17,17)"
             }
            },
            "type": "table"
           }
          ],
          "barpolar": [
           {
            "marker": {
             "line": {
              "color": "rgb(17,17,17)",
              "width": 0.5
             },
             "pattern": {
              "fillmode": "overlay",
              "size": 10,
              "solidity": 0.2
             }
            },
            "type": "barpolar"
           }
          ],
          "pie": [
           {
            "automargin": true,
            "type": "pie"
           }
          ]
         },
         "layout": {
          "autotypenumbers": "strict",
          "colorway": [
           "#636efa",
           "#EF553B",
           "#00cc96",
           "#ab63fa",
           "#FFA15A",
           "#19d3f3",
           "#FF6692",
           "#B6E880",
           "#FF97FF",
           "#FECB52"
          ],
          "font": {
           "color": "#f2f5fa"
          },
          "hovermode": "closest",
          "hoverlabel": {
           "align": "left"
          },
          "paper_bgcolor": "rgb(17,17,17)",
          "plot_bgcolor": "rgb(17,17,17)",
          "polar": {
           "bgcolor": "rgb(17,17,17)",
           "angularaxis": {
            "gridcolor": "#506784",
            "linecolor": "#506784",
            "ticks": ""
           },
           "radialaxis": {
            "gridcolor": "#506784",
            "linecolor": "#506784",
            "ticks": ""
           }
          },
          "ternary": {
           "bgcolor": "rgb(17,17,17)",
           "aaxis": {
            "gridcolor": "#506784",
            "linecolor": "#506784",
            "ticks": ""
           },
           "baxis": {
            "gridcolor": "#506784",
            "linecolor": "#506784",
            "ticks": ""
           },
           "caxis": {
            "gridcolor": "#506784",
            "linecolor": "#506784",
            "ticks": ""
           }
          },
          "coloraxis": {
           "colorbar": {
            "outlinewidth": 0,
            "ticks": ""
           }
          },
          "colorscale": {
           "sequential": [
            [
             0.0,
             "#0d0887"
            ],
            [
             0.1111111111111111,
             "#46039f"
            ],
            [
             0.2222222222222222,
             "#7201a8"
            ],
            [
             0.3333333333333333,
             "#9c179e"
            ],
            [
             0.4444444444444444,
             "#bd3786"
            ],
            [
             0.5555555555555556,
             "#d8576b"
            ],
            [
             0.6666666666666666,
             "#ed7953"
            ],
            [
             0.7777777777777778,
             "#fb9f3a"
            ],
            [
             0.8888888888888888,
             "#fdca26"
            ],
            [
             1.0,
             "#f0f921"
            ]
           ],
           "sequentialminus": [
            [
             0.0,
             "#0d0887"
            ],
            [
             0.1111111111111111,
             "#46039f"
            ],
            [
             0.2222222222222222,
             "#7201a8"
            ],
            [
             0.3333333333333333,
             "#9c179e"
            ],
            [
             0.4444444444444444,
             "#bd3786"
            ],
            [
             0.5555555555555556,
             "#d8576b"
            ],
            [
             0.6666666666666666,
             "#ed7953"
            ],
            [
             0.7777777777777778,
             "#fb9f3a"
            ],
            [
             0.8888888888888888,
             "#fdca26"
            ],
            [
             1.0,
             "#f0f921"
            ]
           ],
           "diverging": [
            [
             0,
             "#8e0152"
            ],
            [
             0.1,
             "#c51b7d"
            ],
            [
             0.2,
             "#de77ae"
            ],
            [
             0.3,
             "#f1b6da"
            ],
            [
             0.4,
             "#fde0ef"
            ],
            [
             0.5,
             "#f7f7f7"
            ],
            [
             0.6,
             "#e6f5d0"
            ],
            [
             0.7,
             "#b8e186"
            ],
            [
             0.8,
             "#7fbc41"
            ],
            [
             0.9,
             "#4d9221"
            ],
            [
             1,
             "#276419"
            ]
           ]
          },
          "xaxis": {
           "gridcolor": "#283442",
           "linecolor": "#506784",
           "ticks": "",
           "title": {
            "standoff": 15
           },
           "zerolinecolor": "#283442",
           "automargin": true,
           "zerolinewidth": 2
          },
          "yaxis": {
           "gridcolor": "#283442",
           "linecolor": "#506784",
           "ticks": "",
           "title": {
            "standoff": 15
           },
           "zerolinecolor": "#283442",
           "automargin": true,
           "zerolinewidth": 2
          },
          "scene": {
           "xaxis": {
            "backgroundcolor": "rgb(17,17,17)",
            "gridcolor": "#506784",
            "linecolor": "#506784",
            "showbackground": true,
            "ticks": "",
            "zerolinecolor": "#C8D4E3",
            "gridwidth": 2
           },
           "yaxis": {
            "backgroundcolor": "rgb(17,17,17)",
            "gridcolor": "#506784",
            "linecolor": "#506784",
            "showbackground": true,
            "ticks": "",
            "zerolinecolor": "#C8D4E3",
            "gridwidth": 2
           },
           "zaxis": {
            "backgroundcolor": "rgb(17,17,17)",
            "gridcolor": "#506784",
            "linecolor": "#506784",
            "showbackground": true,
            "ticks": "",
            "zerolinecolor": "#C8D4E3",
            "gridwidth": 2
           }
          },
          "shapedefaults": {
           "line": {
            "color": "#f2f5fa"
           }
          },
          "annotationdefaults": {
           "arrowcolor": "#f2f5fa",
           "arrowhead": 0,
           "arrowwidth": 1
          },
          "geo": {
           "bgcolor": "rgb(17,17,17)",
           "landcolor": "rgb(17,17,17)",
           "subunitcolor": "#506784",
           "showland": true,
           "showlakes": true,
           "lakecolor": "rgb(17,17,17)"
          },
          "title": {
           "x": 0.05
          },
          "updatemenudefaults": {
           "bgcolor": "#506784",
           "borderwidth": 0
          },
          "sliderdefaults": {
           "bgcolor": "#C8D4E3",
           "borderwidth": 1,
           "bordercolor": "rgb(17,17,17)",
           "tickwidth": 0
          },
          "mapbox": {
           "style": "dark"
          }
         }
        },
        "legend": {
         "title": {
          "text": "Dataset"
         }
        },
        "title": {
         "text": "Histogram of Margin with Severity = 1"
        },
        "xaxis": {
         "title": {
          "text": "Margin"
         }
        },
        "yaxis": {
         "title": {
          "text": "Count"
         }
        }
       },
       "config": {
        "plotlyServerURL": "https://plot.ly"
       }
      }
     },
     "metadata": {},
     "output_type": "display_data"
    },
    {
     "name": "stdout",
     "output_type": "stream",
     "text": [
      "      BA        Age  Shape  Margin  Density  Severity\n",
      "0    5.0  66.769231    3.0     5.0      3.0         1\n",
      "1    4.0  42.769231    1.0     1.0      NaN         1\n",
      "2    5.0  57.769231    4.0     5.0      3.0         1\n",
      "3    4.0  27.769231    1.0     1.0      3.0         0\n",
      "4    5.0  73.769231    1.0     5.0      NaN         1\n",
      "..   ...        ...    ...     ...      ...       ...\n",
      "956  4.0  46.769231    2.0     1.0      3.0         0\n",
      "957  4.0  55.769231    4.0     5.0      3.0         1\n",
      "958  4.0  63.769231    4.0     5.0      3.0         0\n",
      "959  5.0  65.769231    4.0     5.0      3.0         1\n",
      "960  4.0  61.769231    3.0     3.0      3.0         0\n",
      "\n",
      "[961 rows x 6 columns]\n"
     ]
    }
   ],
   "execution_count": 4
  },
  {
   "cell_type": "markdown",
   "id": "efd73b5dbe45f43e",
   "metadata": {},
   "source": "Task4"
  },
  {
   "cell_type": "code",
   "id": "ee36047eab36fcf1",
   "metadata": {
    "ExecuteTime": {
     "end_time": "2025-09-12T15:13:37.387362Z",
     "start_time": "2025-09-12T15:13:34.736597Z"
    }
   },
   "source": [
    "from sklearn.feature_selection import SelectFromModel\n",
    "from sklearn.linear_model import LogisticRegression\n",
    "# 4.1\n",
    "# split copy to input=everything but severity and output=severity\n",
    "copy_41 = cleaned_df.copy()\n",
    "output = copy_41[\"Severity\"]\n",
    "input = copy_41.drop(\"Severity\", axis=1)\n",
    "\n",
    "# selectfrommodel part\n",
    "model = SelectFromModel(estimator=LogisticRegression()) \n",
    "model.fit_transform(input, output)\n",
    "selected_features = input.columns[model.get_support()]\n",
    "print(\"Selected features:\", selected_features.tolist())\n",
    "feature_importances = pd.DataFrame(model.estimator_.coef_, columns=model.feature_names_in_.tolist()).transpose()\n",
    "print(feature_importances)\n",
    "lr_set = copy_41[selected_features.tolist() + [\"Severity\"]]\n",
    "features = model.feature_names_in_\n",
    "# Plot histograms\n",
    "fig = px.bar(feature_importances, title='Feature Importance')\n",
    "fig.update_layout(showlegend=False)\n",
    "fig.show()\n",
    "\n",
    "# 4.2 \n",
    "from sklearn.decomposition import PCA\n",
    "\n",
    "pca = PCA(n_components=2)\n",
    "components = pca.fit_transform(input)\n",
    "print(components)\n",
    "df_pca = pd.DataFrame(components, columns=[\"PC1\", \"PC2\"])\n",
    "df_pca[\"target\"] = output\n",
    "\n",
    "fig1 = px.scatter(\n",
    "    df_pca, x=\"PC1\", y=\"PC2\", color=\"target\",\n",
    "    title=\"Data Projected onto First 2 PCs\"\n",
    ")\n",
    "fig1.show()\n",
    "\n",
    "# 4.3 \n",
    "from sklearn.decomposition import TruncatedSVD\n",
    "X = input.copy()\n",
    "svd = TruncatedSVD(n_components=2, n_iter=9, random_state=20)\n",
    "reduced = svd.fit_transform(X)\n",
    "\n",
    "df_trunc = pd.DataFrame(reduced, columns=[\"Component 1\", \"Component 2\"])\n",
    "df_trunc[\"target\"] = output\n",
    "\n",
    "fig1 = px.scatter(\n",
    "    df_trunc, x=\"Component 1\", y=\"Component 2\", color=df_trunc[\"target\"],\n",
    "    title=\"Data Projected onto First 2 Components\"\n",
    ")\n",
    "fig1.show()"
   ],
   "outputs": [
    {
     "name": "stdout",
     "output_type": "stream",
     "text": [
      "Selected features: ['BA']\n",
      "                0\n",
      "BA       1.563562\n",
      "Age      0.050652\n",
      "Shape    0.473188\n",
      "Margin   0.334709\n",
      "Density -0.042070\n"
     ]
    },
    {
     "data": {
      "application/vnd.plotly.v1+json": {
       "data": [
        {
         "hovertemplate": "variable=0<br>index=%{x}<br>value=%{y}<extra></extra>",
         "legendgroup": "0",
         "marker": {
          "color": "#636efa",
          "pattern": {
           "shape": ""
          }
         },
         "name": "0",
         "orientation": "v",
         "showlegend": true,
         "textposition": "auto",
         "x": [
          "BA",
          "Age",
          "Shape",
          "Margin",
          "Density"
         ],
         "xaxis": "x",
         "y": {
          "dtype": "f8",
          "bdata": "oQn5KVkE+T83P71/FO+pPz3pO2q4SN4/CHyW8t5r1T+iklA/Loqlvw=="
         },
         "yaxis": "y",
         "type": "bar"
        }
       ],
       "layout": {
        "template": {
         "data": {
          "histogram2dcontour": [
           {
            "type": "histogram2dcontour",
            "colorbar": {
             "outlinewidth": 0,
             "ticks": ""
            },
            "colorscale": [
             [
              0.0,
              "#0d0887"
             ],
             [
              0.1111111111111111,
              "#46039f"
             ],
             [
              0.2222222222222222,
              "#7201a8"
             ],
             [
              0.3333333333333333,
              "#9c179e"
             ],
             [
              0.4444444444444444,
              "#bd3786"
             ],
             [
              0.5555555555555556,
              "#d8576b"
             ],
             [
              0.6666666666666666,
              "#ed7953"
             ],
             [
              0.7777777777777778,
              "#fb9f3a"
             ],
             [
              0.8888888888888888,
              "#fdca26"
             ],
             [
              1.0,
              "#f0f921"
             ]
            ]
           }
          ],
          "choropleth": [
           {
            "type": "choropleth",
            "colorbar": {
             "outlinewidth": 0,
             "ticks": ""
            }
           }
          ],
          "histogram2d": [
           {
            "type": "histogram2d",
            "colorbar": {
             "outlinewidth": 0,
             "ticks": ""
            },
            "colorscale": [
             [
              0.0,
              "#0d0887"
             ],
             [
              0.1111111111111111,
              "#46039f"
             ],
             [
              0.2222222222222222,
              "#7201a8"
             ],
             [
              0.3333333333333333,
              "#9c179e"
             ],
             [
              0.4444444444444444,
              "#bd3786"
             ],
             [
              0.5555555555555556,
              "#d8576b"
             ],
             [
              0.6666666666666666,
              "#ed7953"
             ],
             [
              0.7777777777777778,
              "#fb9f3a"
             ],
             [
              0.8888888888888888,
              "#fdca26"
             ],
             [
              1.0,
              "#f0f921"
             ]
            ]
           }
          ],
          "heatmap": [
           {
            "type": "heatmap",
            "colorbar": {
             "outlinewidth": 0,
             "ticks": ""
            },
            "colorscale": [
             [
              0.0,
              "#0d0887"
             ],
             [
              0.1111111111111111,
              "#46039f"
             ],
             [
              0.2222222222222222,
              "#7201a8"
             ],
             [
              0.3333333333333333,
              "#9c179e"
             ],
             [
              0.4444444444444444,
              "#bd3786"
             ],
             [
              0.5555555555555556,
              "#d8576b"
             ],
             [
              0.6666666666666666,
              "#ed7953"
             ],
             [
              0.7777777777777778,
              "#fb9f3a"
             ],
             [
              0.8888888888888888,
              "#fdca26"
             ],
             [
              1.0,
              "#f0f921"
             ]
            ]
           }
          ],
          "contourcarpet": [
           {
            "type": "contourcarpet",
            "colorbar": {
             "outlinewidth": 0,
             "ticks": ""
            }
           }
          ],
          "contour": [
           {
            "type": "contour",
            "colorbar": {
             "outlinewidth": 0,
             "ticks": ""
            },
            "colorscale": [
             [
              0.0,
              "#0d0887"
             ],
             [
              0.1111111111111111,
              "#46039f"
             ],
             [
              0.2222222222222222,
              "#7201a8"
             ],
             [
              0.3333333333333333,
              "#9c179e"
             ],
             [
              0.4444444444444444,
              "#bd3786"
             ],
             [
              0.5555555555555556,
              "#d8576b"
             ],
             [
              0.6666666666666666,
              "#ed7953"
             ],
             [
              0.7777777777777778,
              "#fb9f3a"
             ],
             [
              0.8888888888888888,
              "#fdca26"
             ],
             [
              1.0,
              "#f0f921"
             ]
            ]
           }
          ],
          "surface": [
           {
            "type": "surface",
            "colorbar": {
             "outlinewidth": 0,
             "ticks": ""
            },
            "colorscale": [
             [
              0.0,
              "#0d0887"
             ],
             [
              0.1111111111111111,
              "#46039f"
             ],
             [
              0.2222222222222222,
              "#7201a8"
             ],
             [
              0.3333333333333333,
              "#9c179e"
             ],
             [
              0.4444444444444444,
              "#bd3786"
             ],
             [
              0.5555555555555556,
              "#d8576b"
             ],
             [
              0.6666666666666666,
              "#ed7953"
             ],
             [
              0.7777777777777778,
              "#fb9f3a"
             ],
             [
              0.8888888888888888,
              "#fdca26"
             ],
             [
              1.0,
              "#f0f921"
             ]
            ]
           }
          ],
          "mesh3d": [
           {
            "type": "mesh3d",
            "colorbar": {
             "outlinewidth": 0,
             "ticks": ""
            }
           }
          ],
          "scatter": [
           {
            "marker": {
             "line": {
              "color": "#283442"
             }
            },
            "type": "scatter"
           }
          ],
          "parcoords": [
           {
            "type": "parcoords",
            "line": {
             "colorbar": {
              "outlinewidth": 0,
              "ticks": ""
             }
            }
           }
          ],
          "scatterpolargl": [
           {
            "type": "scatterpolargl",
            "marker": {
             "colorbar": {
              "outlinewidth": 0,
              "ticks": ""
             }
            }
           }
          ],
          "bar": [
           {
            "error_x": {
             "color": "#f2f5fa"
            },
            "error_y": {
             "color": "#f2f5fa"
            },
            "marker": {
             "line": {
              "color": "rgb(17,17,17)",
              "width": 0.5
             },
             "pattern": {
              "fillmode": "overlay",
              "size": 10,
              "solidity": 0.2
             }
            },
            "type": "bar"
           }
          ],
          "scattergeo": [
           {
            "type": "scattergeo",
            "marker": {
             "colorbar": {
              "outlinewidth": 0,
              "ticks": ""
             }
            }
           }
          ],
          "scatterpolar": [
           {
            "type": "scatterpolar",
            "marker": {
             "colorbar": {
              "outlinewidth": 0,
              "ticks": ""
             }
            }
           }
          ],
          "histogram": [
           {
            "marker": {
             "pattern": {
              "fillmode": "overlay",
              "size": 10,
              "solidity": 0.2
             }
            },
            "type": "histogram"
           }
          ],
          "scattergl": [
           {
            "marker": {
             "line": {
              "color": "#283442"
             }
            },
            "type": "scattergl"
           }
          ],
          "scatter3d": [
           {
            "type": "scatter3d",
            "line": {
             "colorbar": {
              "outlinewidth": 0,
              "ticks": ""
             }
            },
            "marker": {
             "colorbar": {
              "outlinewidth": 0,
              "ticks": ""
             }
            }
           }
          ],
          "scattermap": [
           {
            "type": "scattermap",
            "marker": {
             "colorbar": {
              "outlinewidth": 0,
              "ticks": ""
             }
            }
           }
          ],
          "scattermapbox": [
           {
            "type": "scattermapbox",
            "marker": {
             "colorbar": {
              "outlinewidth": 0,
              "ticks": ""
             }
            }
           }
          ],
          "scatterternary": [
           {
            "type": "scatterternary",
            "marker": {
             "colorbar": {
              "outlinewidth": 0,
              "ticks": ""
             }
            }
           }
          ],
          "scattercarpet": [
           {
            "type": "scattercarpet",
            "marker": {
             "colorbar": {
              "outlinewidth": 0,
              "ticks": ""
             }
            }
           }
          ],
          "carpet": [
           {
            "aaxis": {
             "endlinecolor": "#A2B1C6",
             "gridcolor": "#506784",
             "linecolor": "#506784",
             "minorgridcolor": "#506784",
             "startlinecolor": "#A2B1C6"
            },
            "baxis": {
             "endlinecolor": "#A2B1C6",
             "gridcolor": "#506784",
             "linecolor": "#506784",
             "minorgridcolor": "#506784",
             "startlinecolor": "#A2B1C6"
            },
            "type": "carpet"
           }
          ],
          "table": [
           {
            "cells": {
             "fill": {
              "color": "#506784"
             },
             "line": {
              "color": "rgb(17,17,17)"
             }
            },
            "header": {
             "fill": {
              "color": "#2a3f5f"
             },
             "line": {
              "color": "rgb(17,17,17)"
             }
            },
            "type": "table"
           }
          ],
          "barpolar": [
           {
            "marker": {
             "line": {
              "color": "rgb(17,17,17)",
              "width": 0.5
             },
             "pattern": {
              "fillmode": "overlay",
              "size": 10,
              "solidity": 0.2
             }
            },
            "type": "barpolar"
           }
          ],
          "pie": [
           {
            "automargin": true,
            "type": "pie"
           }
          ]
         },
         "layout": {
          "autotypenumbers": "strict",
          "colorway": [
           "#636efa",
           "#EF553B",
           "#00cc96",
           "#ab63fa",
           "#FFA15A",
           "#19d3f3",
           "#FF6692",
           "#B6E880",
           "#FF97FF",
           "#FECB52"
          ],
          "font": {
           "color": "#f2f5fa"
          },
          "hovermode": "closest",
          "hoverlabel": {
           "align": "left"
          },
          "paper_bgcolor": "rgb(17,17,17)",
          "plot_bgcolor": "rgb(17,17,17)",
          "polar": {
           "bgcolor": "rgb(17,17,17)",
           "angularaxis": {
            "gridcolor": "#506784",
            "linecolor": "#506784",
            "ticks": ""
           },
           "radialaxis": {
            "gridcolor": "#506784",
            "linecolor": "#506784",
            "ticks": ""
           }
          },
          "ternary": {
           "bgcolor": "rgb(17,17,17)",
           "aaxis": {
            "gridcolor": "#506784",
            "linecolor": "#506784",
            "ticks": ""
           },
           "baxis": {
            "gridcolor": "#506784",
            "linecolor": "#506784",
            "ticks": ""
           },
           "caxis": {
            "gridcolor": "#506784",
            "linecolor": "#506784",
            "ticks": ""
           }
          },
          "coloraxis": {
           "colorbar": {
            "outlinewidth": 0,
            "ticks": ""
           }
          },
          "colorscale": {
           "sequential": [
            [
             0.0,
             "#0d0887"
            ],
            [
             0.1111111111111111,
             "#46039f"
            ],
            [
             0.2222222222222222,
             "#7201a8"
            ],
            [
             0.3333333333333333,
             "#9c179e"
            ],
            [
             0.4444444444444444,
             "#bd3786"
            ],
            [
             0.5555555555555556,
             "#d8576b"
            ],
            [
             0.6666666666666666,
             "#ed7953"
            ],
            [
             0.7777777777777778,
             "#fb9f3a"
            ],
            [
             0.8888888888888888,
             "#fdca26"
            ],
            [
             1.0,
             "#f0f921"
            ]
           ],
           "sequentialminus": [
            [
             0.0,
             "#0d0887"
            ],
            [
             0.1111111111111111,
             "#46039f"
            ],
            [
             0.2222222222222222,
             "#7201a8"
            ],
            [
             0.3333333333333333,
             "#9c179e"
            ],
            [
             0.4444444444444444,
             "#bd3786"
            ],
            [
             0.5555555555555556,
             "#d8576b"
            ],
            [
             0.6666666666666666,
             "#ed7953"
            ],
            [
             0.7777777777777778,
             "#fb9f3a"
            ],
            [
             0.8888888888888888,
             "#fdca26"
            ],
            [
             1.0,
             "#f0f921"
            ]
           ],
           "diverging": [
            [
             0,
             "#8e0152"
            ],
            [
             0.1,
             "#c51b7d"
            ],
            [
             0.2,
             "#de77ae"
            ],
            [
             0.3,
             "#f1b6da"
            ],
            [
             0.4,
             "#fde0ef"
            ],
            [
             0.5,
             "#f7f7f7"
            ],
            [
             0.6,
             "#e6f5d0"
            ],
            [
             0.7,
             "#b8e186"
            ],
            [
             0.8,
             "#7fbc41"
            ],
            [
             0.9,
             "#4d9221"
            ],
            [
             1,
             "#276419"
            ]
           ]
          },
          "xaxis": {
           "gridcolor": "#283442",
           "linecolor": "#506784",
           "ticks": "",
           "title": {
            "standoff": 15
           },
           "zerolinecolor": "#283442",
           "automargin": true,
           "zerolinewidth": 2
          },
          "yaxis": {
           "gridcolor": "#283442",
           "linecolor": "#506784",
           "ticks": "",
           "title": {
            "standoff": 15
           },
           "zerolinecolor": "#283442",
           "automargin": true,
           "zerolinewidth": 2
          },
          "scene": {
           "xaxis": {
            "backgroundcolor": "rgb(17,17,17)",
            "gridcolor": "#506784",
            "linecolor": "#506784",
            "showbackground": true,
            "ticks": "",
            "zerolinecolor": "#C8D4E3",
            "gridwidth": 2
           },
           "yaxis": {
            "backgroundcolor": "rgb(17,17,17)",
            "gridcolor": "#506784",
            "linecolor": "#506784",
            "showbackground": true,
            "ticks": "",
            "zerolinecolor": "#C8D4E3",
            "gridwidth": 2
           },
           "zaxis": {
            "backgroundcolor": "rgb(17,17,17)",
            "gridcolor": "#506784",
            "linecolor": "#506784",
            "showbackground": true,
            "ticks": "",
            "zerolinecolor": "#C8D4E3",
            "gridwidth": 2
           }
          },
          "shapedefaults": {
           "line": {
            "color": "#f2f5fa"
           }
          },
          "annotationdefaults": {
           "arrowcolor": "#f2f5fa",
           "arrowhead": 0,
           "arrowwidth": 1
          },
          "geo": {
           "bgcolor": "rgb(17,17,17)",
           "landcolor": "rgb(17,17,17)",
           "subunitcolor": "#506784",
           "showland": true,
           "showlakes": true,
           "lakecolor": "rgb(17,17,17)"
          },
          "title": {
           "x": 0.05
          },
          "updatemenudefaults": {
           "bgcolor": "#506784",
           "borderwidth": 0
          },
          "sliderdefaults": {
           "bgcolor": "#C8D4E3",
           "borderwidth": 1,
           "bordercolor": "rgb(17,17,17)",
           "tickwidth": 0
          },
          "mapbox": {
           "style": "dark"
          }
         }
        },
        "xaxis": {
         "anchor": "y",
         "domain": [
          0.0,
          1.0
         ],
         "title": {
          "text": "index"
         }
        },
        "yaxis": {
         "anchor": "x",
         "domain": [
          0.0,
          1.0
         ],
         "title": {
          "text": "value"
         }
        },
        "legend": {
         "title": {
          "text": "variable"
         },
         "tracegroupgap": 0
        },
        "title": {
         "text": "Feature Importance"
        },
        "barmode": "relative",
        "showlegend": false
       },
       "config": {
        "plotlyServerURL": "https://plot.ly"
       }
      }
     },
     "metadata": {},
     "output_type": "display_data"
    },
    {
     "name": "stdout",
     "output_type": "stream",
     "text": [
      "[[ 11.31599482  -1.32061038]\n",
      " [  2.36374711  -2.42483299]\n",
      " [-27.88074989   0.92984549]\n",
      " ...\n",
      " [  8.33834783  -1.9225588 ]\n",
      " [ 10.35026533  -1.96339801]\n",
      " [  6.21812803   0.13395917]]\n"
     ]
    },
    {
     "data": {
      "application/vnd.plotly.v1+json": {
       "data": [
        {
         "hovertemplate": "PC1=%{x}<br>PC2=%{y}<br>target=%{marker.color}<extra></extra>",
         "legendgroup": "",
         "marker": {
          "color": {
           "dtype": "f8",
           "bdata": "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"
          },
          "coloraxis": "coloraxis",
          "symbol": "circle"
         },
         "mode": "markers",
         "name": "",
         "orientation": "v",
         "showlegend": false,
         "x": {
          "dtype": "f8",
          "bdata": "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"
         },
         "xaxis": "x",
         "y": {
          "dtype": "f8",
          "bdata": "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"
         },
         "yaxis": "y",
         "type": "scatter"
        }
       ],
       "layout": {
        "template": {
         "data": {
          "histogram2dcontour": [
           {
            "type": "histogram2dcontour",
            "colorbar": {
             "outlinewidth": 0,
             "ticks": ""
            },
            "colorscale": [
             [
              0.0,
              "#0d0887"
             ],
             [
              0.1111111111111111,
              "#46039f"
             ],
             [
              0.2222222222222222,
              "#7201a8"
             ],
             [
              0.3333333333333333,
              "#9c179e"
             ],
             [
              0.4444444444444444,
              "#bd3786"
             ],
             [
              0.5555555555555556,
              "#d8576b"
             ],
             [
              0.6666666666666666,
              "#ed7953"
             ],
             [
              0.7777777777777778,
              "#fb9f3a"
             ],
             [
              0.8888888888888888,
              "#fdca26"
             ],
             [
              1.0,
              "#f0f921"
             ]
            ]
           }
          ],
          "choropleth": [
           {
            "type": "choropleth",
            "colorbar": {
             "outlinewidth": 0,
             "ticks": ""
            }
           }
          ],
          "histogram2d": [
           {
            "type": "histogram2d",
            "colorbar": {
             "outlinewidth": 0,
             "ticks": ""
            },
            "colorscale": [
             [
              0.0,
              "#0d0887"
             ],
             [
              0.1111111111111111,
              "#46039f"
             ],
             [
              0.2222222222222222,
              "#7201a8"
             ],
             [
              0.3333333333333333,
              "#9c179e"
             ],
             [
              0.4444444444444444,
              "#bd3786"
             ],
             [
              0.5555555555555556,
              "#d8576b"
             ],
             [
              0.6666666666666666,
              "#ed7953"
             ],
             [
              0.7777777777777778,
              "#fb9f3a"
             ],
             [
              0.8888888888888888,
              "#fdca26"
             ],
             [
              1.0,
              "#f0f921"
             ]
            ]
           }
          ],
          "heatmap": [
           {
            "type": "heatmap",
            "colorbar": {
             "outlinewidth": 0,
             "ticks": ""
            },
            "colorscale": [
             [
              0.0,
              "#0d0887"
             ],
             [
              0.1111111111111111,
              "#46039f"
             ],
             [
              0.2222222222222222,
              "#7201a8"
             ],
             [
              0.3333333333333333,
              "#9c179e"
             ],
             [
              0.4444444444444444,
              "#bd3786"
             ],
             [
              0.5555555555555556,
              "#d8576b"
             ],
             [
              0.6666666666666666,
              "#ed7953"
             ],
             [
              0.7777777777777778,
              "#fb9f3a"
             ],
             [
              0.8888888888888888,
              "#fdca26"
             ],
             [
              1.0,
              "#f0f921"
             ]
            ]
           }
          ],
          "contourcarpet": [
           {
            "type": "contourcarpet",
            "colorbar": {
             "outlinewidth": 0,
             "ticks": ""
            }
           }
          ],
          "contour": [
           {
            "type": "contour",
            "colorbar": {
             "outlinewidth": 0,
             "ticks": ""
            },
            "colorscale": [
             [
              0.0,
              "#0d0887"
             ],
             [
              0.1111111111111111,
              "#46039f"
             ],
             [
              0.2222222222222222,
              "#7201a8"
             ],
             [
              0.3333333333333333,
              "#9c179e"
             ],
             [
              0.4444444444444444,
              "#bd3786"
             ],
             [
              0.5555555555555556,
              "#d8576b"
             ],
             [
              0.6666666666666666,
              "#ed7953"
             ],
             [
              0.7777777777777778,
              "#fb9f3a"
             ],
             [
              0.8888888888888888,
              "#fdca26"
             ],
             [
              1.0,
              "#f0f921"
             ]
            ]
           }
          ],
          "surface": [
           {
            "type": "surface",
            "colorbar": {
             "outlinewidth": 0,
             "ticks": ""
            },
            "colorscale": [
             [
              0.0,
              "#0d0887"
             ],
             [
              0.1111111111111111,
              "#46039f"
             ],
             [
              0.2222222222222222,
              "#7201a8"
             ],
             [
              0.3333333333333333,
              "#9c179e"
             ],
             [
              0.4444444444444444,
              "#bd3786"
             ],
             [
              0.5555555555555556,
              "#d8576b"
             ],
             [
              0.6666666666666666,
              "#ed7953"
             ],
             [
              0.7777777777777778,
              "#fb9f3a"
             ],
             [
              0.8888888888888888,
              "#fdca26"
             ],
             [
              1.0,
              "#f0f921"
             ]
            ]
           }
          ],
          "mesh3d": [
           {
            "type": "mesh3d",
            "colorbar": {
             "outlinewidth": 0,
             "ticks": ""
            }
           }
          ],
          "scatter": [
           {
            "marker": {
             "line": {
              "color": "#283442"
             }
            },
            "type": "scatter"
           }
          ],
          "parcoords": [
           {
            "type": "parcoords",
            "line": {
             "colorbar": {
              "outlinewidth": 0,
              "ticks": ""
             }
            }
           }
          ],
          "scatterpolargl": [
           {
            "type": "scatterpolargl",
            "marker": {
             "colorbar": {
              "outlinewidth": 0,
              "ticks": ""
             }
            }
           }
          ],
          "bar": [
           {
            "error_x": {
             "color": "#f2f5fa"
            },
            "error_y": {
             "color": "#f2f5fa"
            },
            "marker": {
             "line": {
              "color": "rgb(17,17,17)",
              "width": 0.5
             },
             "pattern": {
              "fillmode": "overlay",
              "size": 10,
              "solidity": 0.2
             }
            },
            "type": "bar"
           }
          ],
          "scattergeo": [
           {
            "type": "scattergeo",
            "marker": {
             "colorbar": {
              "outlinewidth": 0,
              "ticks": ""
             }
            }
           }
          ],
          "scatterpolar": [
           {
            "type": "scatterpolar",
            "marker": {
             "colorbar": {
              "outlinewidth": 0,
              "ticks": ""
             }
            }
           }
          ],
          "histogram": [
           {
            "marker": {
             "pattern": {
              "fillmode": "overlay",
              "size": 10,
              "solidity": 0.2
             }
            },
            "type": "histogram"
           }
          ],
          "scattergl": [
           {
            "marker": {
             "line": {
              "color": "#283442"
             }
            },
            "type": "scattergl"
           }
          ],
          "scatter3d": [
           {
            "type": "scatter3d",
            "line": {
             "colorbar": {
              "outlinewidth": 0,
              "ticks": ""
             }
            },
            "marker": {
             "colorbar": {
              "outlinewidth": 0,
              "ticks": ""
             }
            }
           }
          ],
          "scattermap": [
           {
            "type": "scattermap",
            "marker": {
             "colorbar": {
              "outlinewidth": 0,
              "ticks": ""
             }
            }
           }
          ],
          "scattermapbox": [
           {
            "type": "scattermapbox",
            "marker": {
             "colorbar": {
              "outlinewidth": 0,
              "ticks": ""
             }
            }
           }
          ],
          "scatterternary": [
           {
            "type": "scatterternary",
            "marker": {
             "colorbar": {
              "outlinewidth": 0,
              "ticks": ""
             }
            }
           }
          ],
          "scattercarpet": [
           {
            "type": "scattercarpet",
            "marker": {
             "colorbar": {
              "outlinewidth": 0,
              "ticks": ""
             }
            }
           }
          ],
          "carpet": [
           {
            "aaxis": {
             "endlinecolor": "#A2B1C6",
             "gridcolor": "#506784",
             "linecolor": "#506784",
             "minorgridcolor": "#506784",
             "startlinecolor": "#A2B1C6"
            },
            "baxis": {
             "endlinecolor": "#A2B1C6",
             "gridcolor": "#506784",
             "linecolor": "#506784",
             "minorgridcolor": "#506784",
             "startlinecolor": "#A2B1C6"
            },
            "type": "carpet"
           }
          ],
          "table": [
           {
            "cells": {
             "fill": {
              "color": "#506784"
             },
             "line": {
              "color": "rgb(17,17,17)"
             }
            },
            "header": {
             "fill": {
              "color": "#2a3f5f"
             },
             "line": {
              "color": "rgb(17,17,17)"
             }
            },
            "type": "table"
           }
          ],
          "barpolar": [
           {
            "marker": {
             "line": {
              "color": "rgb(17,17,17)",
              "width": 0.5
             },
             "pattern": {
              "fillmode": "overlay",
              "size": 10,
              "solidity": 0.2
             }
            },
            "type": "barpolar"
           }
          ],
          "pie": [
           {
            "automargin": true,
            "type": "pie"
           }
          ]
         },
         "layout": {
          "autotypenumbers": "strict",
          "colorway": [
           "#636efa",
           "#EF553B",
           "#00cc96",
           "#ab63fa",
           "#FFA15A",
           "#19d3f3",
           "#FF6692",
           "#B6E880",
           "#FF97FF",
           "#FECB52"
          ],
          "font": {
           "color": "#f2f5fa"
          },
          "hovermode": "closest",
          "hoverlabel": {
           "align": "left"
          },
          "paper_bgcolor": "rgb(17,17,17)",
          "plot_bgcolor": "rgb(17,17,17)",
          "polar": {
           "bgcolor": "rgb(17,17,17)",
           "angularaxis": {
            "gridcolor": "#506784",
            "linecolor": "#506784",
            "ticks": ""
           },
           "radialaxis": {
            "gridcolor": "#506784",
            "linecolor": "#506784",
            "ticks": ""
           }
          },
          "ternary": {
           "bgcolor": "rgb(17,17,17)",
           "aaxis": {
            "gridcolor": "#506784",
            "linecolor": "#506784",
            "ticks": ""
           },
           "baxis": {
            "gridcolor": "#506784",
            "linecolor": "#506784",
            "ticks": ""
           },
           "caxis": {
            "gridcolor": "#506784",
            "linecolor": "#506784",
            "ticks": ""
           }
          },
          "coloraxis": {
           "colorbar": {
            "outlinewidth": 0,
            "ticks": ""
           }
          },
          "colorscale": {
           "sequential": [
            [
             0.0,
             "#0d0887"
            ],
            [
             0.1111111111111111,
             "#46039f"
            ],
            [
             0.2222222222222222,
             "#7201a8"
            ],
            [
             0.3333333333333333,
             "#9c179e"
            ],
            [
             0.4444444444444444,
             "#bd3786"
            ],
            [
             0.5555555555555556,
             "#d8576b"
            ],
            [
             0.6666666666666666,
             "#ed7953"
            ],
            [
             0.7777777777777778,
             "#fb9f3a"
            ],
            [
             0.8888888888888888,
             "#fdca26"
            ],
            [
             1.0,
             "#f0f921"
            ]
           ],
           "sequentialminus": [
            [
             0.0,
             "#0d0887"
            ],
            [
             0.1111111111111111,
             "#46039f"
            ],
            [
             0.2222222222222222,
             "#7201a8"
            ],
            [
             0.3333333333333333,
             "#9c179e"
            ],
            [
             0.4444444444444444,
             "#bd3786"
            ],
            [
             0.5555555555555556,
             "#d8576b"
            ],
            [
             0.6666666666666666,
             "#ed7953"
            ],
            [
             0.7777777777777778,
             "#fb9f3a"
            ],
            [
             0.8888888888888888,
             "#fdca26"
            ],
            [
             1.0,
             "#f0f921"
            ]
           ],
           "diverging": [
            [
             0,
             "#8e0152"
            ],
            [
             0.1,
             "#c51b7d"
            ],
            [
             0.2,
             "#de77ae"
            ],
            [
             0.3,
             "#f1b6da"
            ],
            [
             0.4,
             "#fde0ef"
            ],
            [
             0.5,
             "#f7f7f7"
            ],
            [
             0.6,
             "#e6f5d0"
            ],
            [
             0.7,
             "#b8e186"
            ],
            [
             0.8,
             "#7fbc41"
            ],
            [
             0.9,
             "#4d9221"
            ],
            [
             1,
             "#276419"
            ]
           ]
          },
          "xaxis": {
           "gridcolor": "#283442",
           "linecolor": "#506784",
           "ticks": "",
           "title": {
            "standoff": 15
           },
           "zerolinecolor": "#283442",
           "automargin": true,
           "zerolinewidth": 2
          },
          "yaxis": {
           "gridcolor": "#283442",
           "linecolor": "#506784",
           "ticks": "",
           "title": {
            "standoff": 15
           },
           "zerolinecolor": "#283442",
           "automargin": true,
           "zerolinewidth": 2
          },
          "scene": {
           "xaxis": {
            "backgroundcolor": "rgb(17,17,17)",
            "gridcolor": "#506784",
            "linecolor": "#506784",
            "showbackground": true,
            "ticks": "",
            "zerolinecolor": "#C8D4E3",
            "gridwidth": 2
           },
           "yaxis": {
            "backgroundcolor": "rgb(17,17,17)",
            "gridcolor": "#506784",
            "linecolor": "#506784",
            "showbackground": true,
            "ticks": "",
            "zerolinecolor": "#C8D4E3",
            "gridwidth": 2
           },
           "zaxis": {
            "backgroundcolor": "rgb(17,17,17)",
            "gridcolor": "#506784",
            "linecolor": "#506784",
            "showbackground": true,
            "ticks": "",
            "zerolinecolor": "#C8D4E3",
            "gridwidth": 2
           }
          },
          "shapedefaults": {
           "line": {
            "color": "#f2f5fa"
           }
          },
          "annotationdefaults": {
           "arrowcolor": "#f2f5fa",
           "arrowhead": 0,
           "arrowwidth": 1
          },
          "geo": {
           "bgcolor": "rgb(17,17,17)",
           "landcolor": "rgb(17,17,17)",
           "subunitcolor": "#506784",
           "showland": true,
           "showlakes": true,
           "lakecolor": "rgb(17,17,17)"
          },
          "title": {
           "x": 0.05
          },
          "updatemenudefaults": {
           "bgcolor": "#506784",
           "borderwidth": 0
          },
          "sliderdefaults": {
           "bgcolor": "#C8D4E3",
           "borderwidth": 1,
           "bordercolor": "rgb(17,17,17)",
           "tickwidth": 0
          },
          "mapbox": {
           "style": "dark"
          }
         }
        },
        "xaxis": {
         "anchor": "y",
         "domain": [
          0.0,
          1.0
         ],
         "title": {
          "text": "PC1"
         }
        },
        "yaxis": {
         "anchor": "x",
         "domain": [
          0.0,
          1.0
         ],
         "title": {
          "text": "PC2"
         }
        },
        "coloraxis": {
         "colorbar": {
          "title": {
           "text": "target"
          }
         },
         "colorscale": [
          [
           0.0,
           "#0d0887"
          ],
          [
           0.1111111111111111,
           "#46039f"
          ],
          [
           0.2222222222222222,
           "#7201a8"
          ],
          [
           0.3333333333333333,
           "#9c179e"
          ],
          [
           0.4444444444444444,
           "#bd3786"
          ],
          [
           0.5555555555555556,
           "#d8576b"
          ],
          [
           0.6666666666666666,
           "#ed7953"
          ],
          [
           0.7777777777777778,
           "#fb9f3a"
          ],
          [
           0.8888888888888888,
           "#fdca26"
          ],
          [
           1.0,
           "#f0f921"
          ]
         ]
        },
        "legend": {
         "tracegroupgap": 0
        },
        "title": {
         "text": "Data Projected onto First 2 PCs"
        }
       },
       "config": {
        "plotlyServerURL": "https://plot.ly"
       }
      }
     },
     "metadata": {},
     "output_type": "display_data"
    },
    {
     "data": {
      "application/vnd.plotly.v1+json": {
       "data": [
        {
         "hovertemplate": "Component 1=%{x}<br>Component 2=%{y}<br>color=%{marker.color}<extra></extra>",
         "legendgroup": "",
         "marker": {
          "color": {
           "dtype": "f8",
           "bdata": "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"
          },
          "coloraxis": "coloraxis",
          "symbol": "circle"
         },
         "mode": "markers",
         "name": "",
         "orientation": "v",
         "showlegend": false,
         "x": {
          "dtype": "f8",
          "bdata": "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"
         },
         "xaxis": "x",
         "y": {
          "dtype": "f8",
          "bdata": "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"
         },
         "yaxis": "y",
         "type": "scatter"
        }
       ],
       "layout": {
        "template": {
         "data": {
          "histogram2dcontour": [
           {
            "type": "histogram2dcontour",
            "colorbar": {
             "outlinewidth": 0,
             "ticks": ""
            },
            "colorscale": [
             [
              0.0,
              "#0d0887"
             ],
             [
              0.1111111111111111,
              "#46039f"
             ],
             [
              0.2222222222222222,
              "#7201a8"
             ],
             [
              0.3333333333333333,
              "#9c179e"
             ],
             [
              0.4444444444444444,
              "#bd3786"
             ],
             [
              0.5555555555555556,
              "#d8576b"
             ],
             [
              0.6666666666666666,
              "#ed7953"
             ],
             [
              0.7777777777777778,
              "#fb9f3a"
             ],
             [
              0.8888888888888888,
              "#fdca26"
             ],
             [
              1.0,
              "#f0f921"
             ]
            ]
           }
          ],
          "choropleth": [
           {
            "type": "choropleth",
            "colorbar": {
             "outlinewidth": 0,
             "ticks": ""
            }
           }
          ],
          "histogram2d": [
           {
            "type": "histogram2d",
            "colorbar": {
             "outlinewidth": 0,
             "ticks": ""
            },
            "colorscale": [
             [
              0.0,
              "#0d0887"
             ],
             [
              0.1111111111111111,
              "#46039f"
             ],
             [
              0.2222222222222222,
              "#7201a8"
             ],
             [
              0.3333333333333333,
              "#9c179e"
             ],
             [
              0.4444444444444444,
              "#bd3786"
             ],
             [
              0.5555555555555556,
              "#d8576b"
             ],
             [
              0.6666666666666666,
              "#ed7953"
             ],
             [
              0.7777777777777778,
              "#fb9f3a"
             ],
             [
              0.8888888888888888,
              "#fdca26"
             ],
             [
              1.0,
              "#f0f921"
             ]
            ]
           }
          ],
          "heatmap": [
           {
            "type": "heatmap",
            "colorbar": {
             "outlinewidth": 0,
             "ticks": ""
            },
            "colorscale": [
             [
              0.0,
              "#0d0887"
             ],
             [
              0.1111111111111111,
              "#46039f"
             ],
             [
              0.2222222222222222,
              "#7201a8"
             ],
             [
              0.3333333333333333,
              "#9c179e"
             ],
             [
              0.4444444444444444,
              "#bd3786"
             ],
             [
              0.5555555555555556,
              "#d8576b"
             ],
             [
              0.6666666666666666,
              "#ed7953"
             ],
             [
              0.7777777777777778,
              "#fb9f3a"
             ],
             [
              0.8888888888888888,
              "#fdca26"
             ],
             [
              1.0,
              "#f0f921"
             ]
            ]
           }
          ],
          "contourcarpet": [
           {
            "type": "contourcarpet",
            "colorbar": {
             "outlinewidth": 0,
             "ticks": ""
            }
           }
          ],
          "contour": [
           {
            "type": "contour",
            "colorbar": {
             "outlinewidth": 0,
             "ticks": ""
            },
            "colorscale": [
             [
              0.0,
              "#0d0887"
             ],
             [
              0.1111111111111111,
              "#46039f"
             ],
             [
              0.2222222222222222,
              "#7201a8"
             ],
             [
              0.3333333333333333,
              "#9c179e"
             ],
             [
              0.4444444444444444,
              "#bd3786"
             ],
             [
              0.5555555555555556,
              "#d8576b"
             ],
             [
              0.6666666666666666,
              "#ed7953"
             ],
             [
              0.7777777777777778,
              "#fb9f3a"
             ],
             [
              0.8888888888888888,
              "#fdca26"
             ],
             [
              1.0,
              "#f0f921"
             ]
            ]
           }
          ],
          "surface": [
           {
            "type": "surface",
            "colorbar": {
             "outlinewidth": 0,
             "ticks": ""
            },
            "colorscale": [
             [
              0.0,
              "#0d0887"
             ],
             [
              0.1111111111111111,
              "#46039f"
             ],
             [
              0.2222222222222222,
              "#7201a8"
             ],
             [
              0.3333333333333333,
              "#9c179e"
             ],
             [
              0.4444444444444444,
              "#bd3786"
             ],
             [
              0.5555555555555556,
              "#d8576b"
             ],
             [
              0.6666666666666666,
              "#ed7953"
             ],
             [
              0.7777777777777778,
              "#fb9f3a"
             ],
             [
              0.8888888888888888,
              "#fdca26"
             ],
             [
              1.0,
              "#f0f921"
             ]
            ]
           }
          ],
          "mesh3d": [
           {
            "type": "mesh3d",
            "colorbar": {
             "outlinewidth": 0,
             "ticks": ""
            }
           }
          ],
          "scatter": [
           {
            "marker": {
             "line": {
              "color": "#283442"
             }
            },
            "type": "scatter"
           }
          ],
          "parcoords": [
           {
            "type": "parcoords",
            "line": {
             "colorbar": {
              "outlinewidth": 0,
              "ticks": ""
             }
            }
           }
          ],
          "scatterpolargl": [
           {
            "type": "scatterpolargl",
            "marker": {
             "colorbar": {
              "outlinewidth": 0,
              "ticks": ""
             }
            }
           }
          ],
          "bar": [
           {
            "error_x": {
             "color": "#f2f5fa"
            },
            "error_y": {
             "color": "#f2f5fa"
            },
            "marker": {
             "line": {
              "color": "rgb(17,17,17)",
              "width": 0.5
             },
             "pattern": {
              "fillmode": "overlay",
              "size": 10,
              "solidity": 0.2
             }
            },
            "type": "bar"
           }
          ],
          "scattergeo": [
           {
            "type": "scattergeo",
            "marker": {
             "colorbar": {
              "outlinewidth": 0,
              "ticks": ""
             }
            }
           }
          ],
          "scatterpolar": [
           {
            "type": "scatterpolar",
            "marker": {
             "colorbar": {
              "outlinewidth": 0,
              "ticks": ""
             }
            }
           }
          ],
          "histogram": [
           {
            "marker": {
             "pattern": {
              "fillmode": "overlay",
              "size": 10,
              "solidity": 0.2
             }
            },
            "type": "histogram"
           }
          ],
          "scattergl": [
           {
            "marker": {
             "line": {
              "color": "#283442"
             }
            },
            "type": "scattergl"
           }
          ],
          "scatter3d": [
           {
            "type": "scatter3d",
            "line": {
             "colorbar": {
              "outlinewidth": 0,
              "ticks": ""
             }
            },
            "marker": {
             "colorbar": {
              "outlinewidth": 0,
              "ticks": ""
             }
            }
           }
          ],
          "scattermap": [
           {
            "type": "scattermap",
            "marker": {
             "colorbar": {
              "outlinewidth": 0,
              "ticks": ""
             }
            }
           }
          ],
          "scattermapbox": [
           {
            "type": "scattermapbox",
            "marker": {
             "colorbar": {
              "outlinewidth": 0,
              "ticks": ""
             }
            }
           }
          ],
          "scatterternary": [
           {
            "type": "scatterternary",
            "marker": {
             "colorbar": {
              "outlinewidth": 0,
              "ticks": ""
             }
            }
           }
          ],
          "scattercarpet": [
           {
            "type": "scattercarpet",
            "marker": {
             "colorbar": {
              "outlinewidth": 0,
              "ticks": ""
             }
            }
           }
          ],
          "carpet": [
           {
            "aaxis": {
             "endlinecolor": "#A2B1C6",
             "gridcolor": "#506784",
             "linecolor": "#506784",
             "minorgridcolor": "#506784",
             "startlinecolor": "#A2B1C6"
            },
            "baxis": {
             "endlinecolor": "#A2B1C6",
             "gridcolor": "#506784",
             "linecolor": "#506784",
             "minorgridcolor": "#506784",
             "startlinecolor": "#A2B1C6"
            },
            "type": "carpet"
           }
          ],
          "table": [
           {
            "cells": {
             "fill": {
              "color": "#506784"
             },
             "line": {
              "color": "rgb(17,17,17)"
             }
            },
            "header": {
             "fill": {
              "color": "#2a3f5f"
             },
             "line": {
              "color": "rgb(17,17,17)"
             }
            },
            "type": "table"
           }
          ],
          "barpolar": [
           {
            "marker": {
             "line": {
              "color": "rgb(17,17,17)",
              "width": 0.5
             },
             "pattern": {
              "fillmode": "overlay",
              "size": 10,
              "solidity": 0.2
             }
            },
            "type": "barpolar"
           }
          ],
          "pie": [
           {
            "automargin": true,
            "type": "pie"
           }
          ]
         },
         "layout": {
          "autotypenumbers": "strict",
          "colorway": [
           "#636efa",
           "#EF553B",
           "#00cc96",
           "#ab63fa",
           "#FFA15A",
           "#19d3f3",
           "#FF6692",
           "#B6E880",
           "#FF97FF",
           "#FECB52"
          ],
          "font": {
           "color": "#f2f5fa"
          },
          "hovermode": "closest",
          "hoverlabel": {
           "align": "left"
          },
          "paper_bgcolor": "rgb(17,17,17)",
          "plot_bgcolor": "rgb(17,17,17)",
          "polar": {
           "bgcolor": "rgb(17,17,17)",
           "angularaxis": {
            "gridcolor": "#506784",
            "linecolor": "#506784",
            "ticks": ""
           },
           "radialaxis": {
            "gridcolor": "#506784",
            "linecolor": "#506784",
            "ticks": ""
           }
          },
          "ternary": {
           "bgcolor": "rgb(17,17,17)",
           "aaxis": {
            "gridcolor": "#506784",
            "linecolor": "#506784",
            "ticks": ""
           },
           "baxis": {
            "gridcolor": "#506784",
            "linecolor": "#506784",
            "ticks": ""
           },
           "caxis": {
            "gridcolor": "#506784",
            "linecolor": "#506784",
            "ticks": ""
           }
          },
          "coloraxis": {
           "colorbar": {
            "outlinewidth": 0,
            "ticks": ""
           }
          },
          "colorscale": {
           "sequential": [
            [
             0.0,
             "#0d0887"
            ],
            [
             0.1111111111111111,
             "#46039f"
            ],
            [
             0.2222222222222222,
             "#7201a8"
            ],
            [
             0.3333333333333333,
             "#9c179e"
            ],
            [
             0.4444444444444444,
             "#bd3786"
            ],
            [
             0.5555555555555556,
             "#d8576b"
            ],
            [
             0.6666666666666666,
             "#ed7953"
            ],
            [
             0.7777777777777778,
             "#fb9f3a"
            ],
            [
             0.8888888888888888,
             "#fdca26"
            ],
            [
             1.0,
             "#f0f921"
            ]
           ],
           "sequentialminus": [
            [
             0.0,
             "#0d0887"
            ],
            [
             0.1111111111111111,
             "#46039f"
            ],
            [
             0.2222222222222222,
             "#7201a8"
            ],
            [
             0.3333333333333333,
             "#9c179e"
            ],
            [
             0.4444444444444444,
             "#bd3786"
            ],
            [
             0.5555555555555556,
             "#d8576b"
            ],
            [
             0.6666666666666666,
             "#ed7953"
            ],
            [
             0.7777777777777778,
             "#fb9f3a"
            ],
            [
             0.8888888888888888,
             "#fdca26"
            ],
            [
             1.0,
             "#f0f921"
            ]
           ],
           "diverging": [
            [
             0,
             "#8e0152"
            ],
            [
             0.1,
             "#c51b7d"
            ],
            [
             0.2,
             "#de77ae"
            ],
            [
             0.3,
             "#f1b6da"
            ],
            [
             0.4,
             "#fde0ef"
            ],
            [
             0.5,
             "#f7f7f7"
            ],
            [
             0.6,
             "#e6f5d0"
            ],
            [
             0.7,
             "#b8e186"
            ],
            [
             0.8,
             "#7fbc41"
            ],
            [
             0.9,
             "#4d9221"
            ],
            [
             1,
             "#276419"
            ]
           ]
          },
          "xaxis": {
           "gridcolor": "#283442",
           "linecolor": "#506784",
           "ticks": "",
           "title": {
            "standoff": 15
           },
           "zerolinecolor": "#283442",
           "automargin": true,
           "zerolinewidth": 2
          },
          "yaxis": {
           "gridcolor": "#283442",
           "linecolor": "#506784",
           "ticks": "",
           "title": {
            "standoff": 15
           },
           "zerolinecolor": "#283442",
           "automargin": true,
           "zerolinewidth": 2
          },
          "scene": {
           "xaxis": {
            "backgroundcolor": "rgb(17,17,17)",
            "gridcolor": "#506784",
            "linecolor": "#506784",
            "showbackground": true,
            "ticks": "",
            "zerolinecolor": "#C8D4E3",
            "gridwidth": 2
           },
           "yaxis": {
            "backgroundcolor": "rgb(17,17,17)",
            "gridcolor": "#506784",
            "linecolor": "#506784",
            "showbackground": true,
            "ticks": "",
            "zerolinecolor": "#C8D4E3",
            "gridwidth": 2
           },
           "zaxis": {
            "backgroundcolor": "rgb(17,17,17)",
            "gridcolor": "#506784",
            "linecolor": "#506784",
            "showbackground": true,
            "ticks": "",
            "zerolinecolor": "#C8D4E3",
            "gridwidth": 2
           }
          },
          "shapedefaults": {
           "line": {
            "color": "#f2f5fa"
           }
          },
          "annotationdefaults": {
           "arrowcolor": "#f2f5fa",
           "arrowhead": 0,
           "arrowwidth": 1
          },
          "geo": {
           "bgcolor": "rgb(17,17,17)",
           "landcolor": "rgb(17,17,17)",
           "subunitcolor": "#506784",
           "showland": true,
           "showlakes": true,
           "lakecolor": "rgb(17,17,17)"
          },
          "title": {
           "x": 0.05
          },
          "updatemenudefaults": {
           "bgcolor": "#506784",
           "borderwidth": 0
          },
          "sliderdefaults": {
           "bgcolor": "#C8D4E3",
           "borderwidth": 1,
           "bordercolor": "rgb(17,17,17)",
           "tickwidth": 0
          },
          "mapbox": {
           "style": "dark"
          }
         }
        },
        "xaxis": {
         "anchor": "y",
         "domain": [
          0.0,
          1.0
         ],
         "title": {
          "text": "Component 1"
         }
        },
        "yaxis": {
         "anchor": "x",
         "domain": [
          0.0,
          1.0
         ],
         "title": {
          "text": "Component 2"
         }
        },
        "coloraxis": {
         "colorbar": {
          "title": {
           "text": "color"
          }
         },
         "colorscale": [
          [
           0.0,
           "#0d0887"
          ],
          [
           0.1111111111111111,
           "#46039f"
          ],
          [
           0.2222222222222222,
           "#7201a8"
          ],
          [
           0.3333333333333333,
           "#9c179e"
          ],
          [
           0.4444444444444444,
           "#bd3786"
          ],
          [
           0.5555555555555556,
           "#d8576b"
          ],
          [
           0.6666666666666666,
           "#ed7953"
          ],
          [
           0.7777777777777778,
           "#fb9f3a"
          ],
          [
           0.8888888888888888,
           "#fdca26"
          ],
          [
           1.0,
           "#f0f921"
          ]
         ]
        },
        "legend": {
         "tracegroupgap": 0
        },
        "title": {
         "text": "Data Projected onto First 2 Components"
        }
       },
       "config": {
        "plotlyServerURL": "https://plot.ly"
       }
      }
     },
     "metadata": {},
     "output_type": "display_data"
    }
   ],
   "execution_count": 5
  }
 ],
 "metadata": {
  "kernelspec": {
   "display_name": "Python 3",
   "language": "python",
   "name": "python3"
  },
  "language_info": {
   "codemirror_mode": {
    "name": "ipython",
    "version": 3
   },
   "file_extension": ".py",
   "mimetype": "text/x-python",
   "name": "python",
   "nbconvert_exporter": "python",
   "pygments_lexer": "ipython3",
   "version": "3.13.7"
  }
 },
 "nbformat": 4,
 "nbformat_minor": 5
}
