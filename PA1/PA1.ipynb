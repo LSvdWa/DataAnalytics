{
 "cells": [
  {
   "cell_type": "markdown",
   "id": "8e4c6c48ff1109e",
   "metadata": {},
   "source": [
    "Task0"
   ]
  },
  {
   "cell_type": "code",
   "execution_count": 52,
   "id": "initial_id",
   "metadata": {
    "ExecuteTime": {
     "end_time": "2025-09-04T10:18:51.291374Z",
     "start_time": "2025-09-04T10:18:44.479757Z"
    },
    "collapsed": true
   },
   "outputs": [
    {
     "name": "stdout",
     "output_type": "stream",
     "text": [
      "Requirement already satisfied: pandas in /Users/school/Documents/GitHub/DataAnalytics/.venvPytorc/lib/python3.8/site-packages (2.0.3)\r\n",
      "Requirement already satisfied: python-dateutil>=2.8.2 in /Users/school/Documents/GitHub/DataAnalytics/.venvPytorc/lib/python3.8/site-packages (from pandas) (2.9.0.post0)\r\n",
      "Requirement already satisfied: pytz>=2020.1 in /Users/school/Documents/GitHub/DataAnalytics/.venvPytorc/lib/python3.8/site-packages (from pandas) (2025.2)\r\n",
      "Requirement already satisfied: tzdata>=2022.1 in /Users/school/Documents/GitHub/DataAnalytics/.venvPytorc/lib/python3.8/site-packages (from pandas) (2025.2)\r\n",
      "Requirement already satisfied: numpy>=1.20.3 in /Users/school/Documents/GitHub/DataAnalytics/.venvPytorc/lib/python3.8/site-packages (from pandas) (1.24.4)\r\n",
      "Requirement already satisfied: six>=1.5 in /Users/school/Documents/GitHub/DataAnalytics/.venvPytorc/lib/python3.8/site-packages (from python-dateutil>=2.8.2->pandas) (1.17.0)\r\n",
      "\r\n",
      "\u001b[1m[\u001b[0m\u001b[34;49mnotice\u001b[0m\u001b[1;39;49m]\u001b[0m\u001b[39;49m A new release of pip is available: \u001b[0m\u001b[31;49m24.3.1\u001b[0m\u001b[39;49m -> \u001b[0m\u001b[32;49m25.0.1\u001b[0m\r\n",
      "\u001b[1m[\u001b[0m\u001b[34;49mnotice\u001b[0m\u001b[1;39;49m]\u001b[0m\u001b[39;49m To update, run: \u001b[0m\u001b[32;49mpip install --upgrade pip\u001b[0m\r\n",
      "Requirement already satisfied: plotly in /Users/school/Documents/GitHub/DataAnalytics/.venvPytorc/lib/python3.8/site-packages (6.3.0)\r\n",
      "Requirement already satisfied: narwhals>=1.15.1 in /Users/school/Documents/GitHub/DataAnalytics/.venvPytorc/lib/python3.8/site-packages (from plotly) (1.42.1)\r\n",
      "Requirement already satisfied: packaging in /Users/school/Documents/GitHub/DataAnalytics/.venvPytorc/lib/python3.8/site-packages (from plotly) (25.0)\r\n",
      "\r\n",
      "\u001b[1m[\u001b[0m\u001b[34;49mnotice\u001b[0m\u001b[1;39;49m]\u001b[0m\u001b[39;49m A new release of pip is available: \u001b[0m\u001b[31;49m24.3.1\u001b[0m\u001b[39;49m -> \u001b[0m\u001b[32;49m25.0.1\u001b[0m\r\n",
      "\u001b[1m[\u001b[0m\u001b[34;49mnotice\u001b[0m\u001b[1;39;49m]\u001b[0m\u001b[39;49m To update, run: \u001b[0m\u001b[32;49mpip install --upgrade pip\u001b[0m\r\n",
      "Requirement already satisfied: scikit-learn in /Users/school/Documents/GitHub/DataAnalytics/.venvPytorc/lib/python3.8/site-packages (1.3.2)\r\n",
      "Requirement already satisfied: numpy<2.0,>=1.17.3 in /Users/school/Documents/GitHub/DataAnalytics/.venvPytorc/lib/python3.8/site-packages (from scikit-learn) (1.24.4)\r\n",
      "Requirement already satisfied: scipy>=1.5.0 in /Users/school/Documents/GitHub/DataAnalytics/.venvPytorc/lib/python3.8/site-packages (from scikit-learn) (1.10.1)\r\n",
      "Requirement already satisfied: joblib>=1.1.1 in /Users/school/Documents/GitHub/DataAnalytics/.venvPytorc/lib/python3.8/site-packages (from scikit-learn) (1.4.2)\r\n",
      "Requirement already satisfied: threadpoolctl>=2.0.0 in /Users/school/Documents/GitHub/DataAnalytics/.venvPytorc/lib/python3.8/site-packages (from scikit-learn) (3.5.0)\r\n",
      "\r\n",
      "\u001b[1m[\u001b[0m\u001b[34;49mnotice\u001b[0m\u001b[1;39;49m]\u001b[0m\u001b[39;49m A new release of pip is available: \u001b[0m\u001b[31;49m24.3.1\u001b[0m\u001b[39;49m -> \u001b[0m\u001b[32;49m25.0.1\u001b[0m\r\n",
      "\u001b[1m[\u001b[0m\u001b[34;49mnotice\u001b[0m\u001b[1;39;49m]\u001b[0m\u001b[39;49m To update, run: \u001b[0m\u001b[32;49mpip install --upgrade pip\u001b[0m\r\n"
     ]
    }
   ],
   "source": [
    "from jedi.api.refactoring import inline\n",
    "!pip install pandas\n",
    "!pip install plotly\n",
    "\n",
    "!pip install scikit-learn # non-depreaceated sklearn"
   ]
  },
  {
   "cell_type": "markdown",
   "id": "b674e2064ea448b",
   "metadata": {},
   "source": [
    "Task1"
   ]
  },
  {
   "cell_type": "code",
   "execution_count": 53,
   "id": "79a392246f80ba78",
   "metadata": {
    "ExecuteTime": {
     "end_time": "2025-09-04T10:18:51.357529Z",
     "start_time": "2025-09-04T10:18:51.312291Z"
    }
   },
   "outputs": [
    {
     "name": "stdout",
     "output_type": "stream",
     "text": [
      "      BA   Age  Shape  Margin  Density  Severity\n",
      "0    5.0  67.0    3.0     5.0      3.0         1\n",
      "1    4.0  43.0    1.0     1.0      NaN         1\n",
      "2    5.0  58.0    4.0     5.0      3.0         1\n",
      "3    4.0  28.0    1.0     1.0      3.0         0\n",
      "4    5.0  74.0    1.0     5.0      NaN         1\n",
      "..   ...   ...    ...     ...      ...       ...\n",
      "956  4.0  47.0    2.0     1.0      3.0         0\n",
      "957  4.0  56.0    4.0     5.0      3.0         1\n",
      "958  4.0  64.0    4.0     5.0      3.0         0\n",
      "959  5.0  66.0    4.0     5.0      3.0         1\n",
      "960  4.0  62.0    3.0     3.0      3.0         0\n",
      "\n",
      "[961 rows x 6 columns]\n"
     ]
    }
   ],
   "source": [
    "import pandas as pd\n",
    "frame = pd.DataFrame(pd.read_csv(\"./mammographic_masses_data.csv\"))\n",
    "print(frame)"
   ]
  },
  {
   "cell_type": "code",
   "execution_count": null,
   "id": "248db9dc389ec477",
   "metadata": {
    "ExecuteTime": {
     "end_time": "2025-09-04T10:18:51.834640Z",
     "start_time": "2025-09-04T10:18:51.367749Z"
    }
   },
   "outputs": [
    {
     "ename": "NameError",
     "evalue": "name 'frame' is not defined",
     "output_type": "error",
     "traceback": [
      "\u001b[31m---------------------------------------------------------------------------\u001b[39m",
      "\u001b[31mNameError\u001b[39m                                 Traceback (most recent call last)",
      "\u001b[36mCell\u001b[39m\u001b[36m \u001b[39m\u001b[32mIn[1]\u001b[39m\u001b[32m, line 6\u001b[39m\n\u001b[32m      1\u001b[39m \u001b[38;5;28;01mimport\u001b[39;00m\u001b[38;5;250m \u001b[39m\u001b[34;01mplotly\u001b[39;00m\u001b[34;01m.\u001b[39;00m\u001b[34;01mexpress\u001b[39;00m\u001b[38;5;250m \u001b[39m\u001b[38;5;28;01mas\u001b[39;00m\u001b[38;5;250m \u001b[39m\u001b[34;01mpx\u001b[39;00m\n\u001b[32m      3\u001b[39m \u001b[38;5;66;03m#TODO 2.1: Is de basic funtie van summary in dataframe\u001b[39;00m\n\u001b[32m      4\u001b[39m \u001b[38;5;66;03m# One important function of pandas is to fill in missing values.\u001b[39;00m\n\u001b[32m      5\u001b[39m \u001b[38;5;66;03m#\u001b[39;00m\n\u001b[32m----> \u001b[39m\u001b[32m6\u001b[39m \u001b[38;5;28mprint\u001b[39m(\u001b[43mframe\u001b[49m.info())\n\u001b[32m      8\u001b[39m \u001b[38;5;66;03m#2.2\u001b[39;00m\n\u001b[32m      9\u001b[39m \u001b[38;5;66;03m# Makes a histogram of the Margin values of the rows in the database where Severity = 1\u001b[39;00m\n\u001b[32m     10\u001b[39m fig = px.histogram(frame.loc[frame.Severity == \u001b[32m1\u001b[39m].Margin, x=\u001b[33m\"\u001b[39m\u001b[33mMargin\u001b[39m\u001b[33m\"\u001b[39m)\n",
      "\u001b[31mNameError\u001b[39m: name 'frame' is not defined"
     ]
    }
   ],
   "source": [
    "import plotly.express as px\n",
    "\n",
    "#TODO 2.1: Is de basic funtie van summary in dataframe\n",
    "# One important function of pandas is to fill in missing values.\n",
    "# df.fillna(0) will replace all NaN values with 0.\n",
    "print(frame.info())\n",
    "\n",
    "#2.2\n",
    "# Makes a histogram of the Margin values of the rows in the database where Severity = 1\n",
    "fig = px.histogram(frame.loc[frame.Severity == 1].Margin, x=\"Margin\")\n",
    "fig.show()\n",
    "\n",
    "#2.3\n",
    "fig = px.bar(frame, x=\"Age\", y=\"Severity\", color=\"Severity\", title=\"Long-Form Input\")\n",
    "fig.show()\n",
    "\n",
    "fig = px.density_heatmap(frame, x=\"Shape\", y=\"Severity\", marginal_x=\"histogram\", marginal_y=\"histogram\")\n",
    "fig.show()\n",
    "\n",
    "fig = px.scatter(frame, x=\"BA\", y=\"Age\", color=\"Severity\")\n",
    "fig.show()"
   ]
  },
  {
   "cell_type": "markdown",
   "id": "301b053d67c9f13",
   "metadata": {},
   "source": [
    "Task3 - NOT FINISHED"
   ]
  },
  {
   "cell_type": "code",
   "execution_count": 55,
   "id": "d5126d5b8d6704f7",
   "metadata": {
    "ExecuteTime": {
     "end_time": "2025-09-04T10:18:51.953620Z",
     "start_time": "2025-09-04T10:18:51.878344Z"
    }
   },
   "outputs": [
    {
     "data": {
      "application/vnd.plotly.v1+json": {
       "config": {
        "plotlyServerURL": "https://plot.ly"
       },
       "data": [
        {
         "bingroup": "x",
         "hovertemplate": "Margin=%{x}<br>count=%{y}<extra></extra>",
         "legendgroup": "",
         "marker": {
          "color": "#636efa",
          "pattern": {
           "shape": ""
          }
         },
         "name": "",
         "orientation": "v",
         "showlegend": false,
         "type": "histogram",
         "x": {
          "bdata": "AAAAAAAAFEAAAAAAAAAUQAAAAAAAABRAAAAAAAAAEEAAAAAAAADwPwAAAAAAAPA/AAAAAAAA8D8AAAAAAAAIQAAAAAAAABBAAAAAAAAAEEAAAAAAAAAUQAAAAAAAABRAAAAAAAAAEEAAAAAAAAAQQAAAAAAAABBAAAAAAAAAFEAAAAAAAAAUQAAAAAAAABRAAAAAAAAAFEAAAAAAAAAIQAAAAAAAAAhAAAAAAAAAEEAAAAAAAAAIQAAAAAAAABBAAAAAAAAA8D8AAAAAAAAIQAAAAAAAABBAAAAAAAAA8D8AAAAAAAAQQAAAAAAAABRAAAAAAAAAEEAAAAAAAAAQQAAAAAAAAPA/AAAAAAAAEEAAAAAAAAAQQAAAAAAAABBAAAAAAAAAEEAAAAAAAAAUQAAAAAAAABBAAAAAAAAACEAAAAAAAAAQQAAAAAAAABRAAAAAAAAAEEAAAAAAAAAQQAAAAAAAABRAAAAAAAAAFEAAAAAAAAAUQAAAAAAAABBAAAAAAAAAEEAAAAAAAAAQQAAAAAAAABBAAAAAAAAAEEAAAAAAAAAUQAAAAAAAAPA/AAAAAAAAFEAAAAAAAAAUQAAAAAAAABRAAAAAAAAAEEAAAAAAAAAUQAAAAAAAABBAAAAAAAAAEEAAAAAAAAAQQAAAAAAAAAhAAAAAAAAA8D8AAAAAAAAQQAAAAAAAABBAAAAAAAAAFEAAAAAAAAAUQAAAAAAAAAhAAAAAAAAA8D8AAAAAAAAUQAAAAAAAABRAAAAAAAAAEEAAAAAAAADwPwAAAAAAABBAAAAAAAAACEAAAAAAAAAIQAAAAAAAABRAAAAAAAAAEEAAAAAAAAAQQAAAAAAAABBAAAAAAAAAFEAAAAAAAAAQQAAAAAAAABBAAAAAAAAAAEAAAAAAAAAQQAAAAAAAABRAAAAAAAAAEEAAAAAAAAAIQAAAAAAAABBAAAAAAAAAAEAAAAAAAAAUQAAAAAAAABBAAAAAAAAAFEAAAAAAAAAQQAAAAAAAAABAAAAAAAAAEEAAAAAAAAAQQAAAAAAAABRAAAAAAAAAEEAAAAAAAADwPwAAAAAAAAhAAAAAAAAAFEAAAAAAAAAQQAAAAAAAABRAAAAAAAAAEEAAAAAAAAAQQAAAAAAAABRAAAAAAAAAEEAAAAAAAAAUQAAAAAAAABRAAAAAAAAAEEAAAAAAAADwPwAAAAAAABBAAAAAAAAAEEAAAAAAAAAAQAAAAAAAAAhAAAAAAAAAFEAAAAAAAAAQQAAAAAAAABRAAAAAAAAAFEAAAAAAAAAUQAAAAAAAAAhAAAAAAAAAFEAAAAAAAAAIQAAAAAAAABBAAAAAAAAAEEAAAAAAAAAIQAAAAAAAAPA/AAAAAAAAFEAAAAAAAAAQQAAAAAAAAPA/AAAAAAAAEEAAAAAAAADwPwAAAAAAABBAAAAAAAAAEEAAAAAAAAAQQAAAAAAAABBAAAAAAAAAEEAAAAAAAAAQQAAAAAAAABRAAAAAAAAAEEAAAAAAAAAQQAAAAAAAAAhAAAAAAAAAEEAAAAAAAAAIQAAAAAAAABRAAAAAAAAAEEAAAAAAAAAQQAAAAAAAABBAAAAAAAAACEAAAAAAAAAIQAAAAAAAABBAAAAAAAAAEEAAAAAAAAAQQAAAAAAAAAhAAAAAAAAAEEAAAAAAAAAUQAAAAAAAABBAAAAAAAAAAEAAAAAAAAAQQAAAAAAAAAhAAAAAAAAAEEAAAAAAAAAQQAAAAAAAAABAAAAAAAAAEEAAAAAAAADwPwAAAAAAAAhAAAAAAAAA8D8AAAAAAAAUQAAAAAAAABBAAAAAAAAACEAAAAAAAAAQQAAAAAAAABBAAAAAAAAAFEAAAAAAAAAQQAAAAAAAABBAAAAAAAAACEAAAAAAAAAQQAAAAAAAAAhAAAAAAAAAFEAAAAAAAAAQQAAAAAAAABRAAAAAAAAAEEAAAAAAAAAIQAAAAAAAABRAAAAAAAAAFEAAAAAAAAAUQAAAAAAAABRAAAAAAAAAFEAAAAAAAAAIQAAAAAAAABBAAAAAAAAAFEAAAAAAAAAQQAAAAAAAAAhAAAAAAAAA8D8AAAAAAAAUQAAAAAAAABRAAAAAAAAAFEAAAAAAAADwPwAAAAAAAAhAAAAAAAAAEEAAAAAAAAAUQAAAAAAAABBAAAAAAAAAEEAAAAAAAAAUQAAAAAAAABRAAAAAAAAAFEAAAAAAAAAQQAAAAAAAABRAAAAAAAAAFEAAAAAAAAAUQAAAAAAAABRAAAAAAAAAEEAAAAAAAAAQQAAAAAAAABBAAAAAAAAAFEAAAAAAAADwPwAAAAAAAPA/AAAAAAAAFEAAAAAAAAAUQAAAAAAAABBAAAAAAAAAEEAAAAAAAAAUQAAAAAAAABRAAAAAAAAAFEAAAAAAAAAQQAAAAAAAABBAAAAAAAAAEEAAAAAAAAAUQAAAAAAAAABAAAAAAAAAAEAAAAAAAAAQQAAAAAAAABBAAAAAAAAAEEAAAAAAAAAQQAAAAAAAAAhAAAAAAAAAFEAAAAAAAAAIQAAAAAAAABRAAAAAAAAAEEAAAAAAAADwPwAAAAAAABBAAAAAAAAAFEAAAAAAAAAQQAAAAAAAABRAAAAAAAAAFEAAAAAAAAAIQAAAAAAAABRAAAAAAAAAFEAAAAAAAAAUQAAAAAAAAAhAAAAAAAAAEEAAAAAAAAAUQAAAAAAAABRAAAAAAAAAFEAAAAAAAAAQQAAAAAAAABRAAAAAAAAAFEAAAAAAAAAQQAAAAAAAABBAAAAAAAAA8D8AAAAAAAAQQAAAAAAAABBAAAAAAAAAEEAAAAAAAAAIQAAAAAAAABRAAAAAAAAAFEAAAAAAAAAQQAAAAAAAAAhAAAAAAAAACEAAAAAAAAAAQAAAAAAAAAhAAAAAAAAACEAAAAAAAAAAQAAAAAAAAPA/AAAAAAAACEAAAAAAAADwPwAAAAAAABBAAAAAAAAAEEAAAAAAAAAIQAAAAAAAABBAAAAAAAAAEEAAAAAAAAAQQAAAAAAAAPA/AAAAAAAAEEAAAAAAAAAIQAAAAAAAAPA/AAAAAAAAEEAAAAAAAAAIQAAAAAAAAPA/AAAAAAAAEEAAAAAAAAAUQAAAAAAAABBAAAAAAAAACEAAAAAAAAAQQAAAAAAAABBAAAAAAAAAEEAAAAAAAAAQQAAAAAAAAPA/AAAAAAAAEEAAAAAAAAAQQAAAAAAAABBAAAAAAAAACEAAAAAAAAAQQAAAAAAAABBAAAAAAAAAEEAAAAAAAAAUQAAAAAAAAAhAAAAAAAAACEAAAAAAAAAIQAAAAAAAAAhAAAAAAAAACEAAAAAAAAAIQAAAAAAAABBAAAAAAAAACEAAAAAAAAAQQAAAAAAAABRAAAAAAAAA8D8AAAAAAADwPwAAAAAAAAhAAAAAAAAAEEAAAAAAAADwPwAAAAAAAAhAAAAAAAAAEEAAAAAAAAAQQAAAAAAAABBAAAAAAAAACEAAAAAAAAAIQAAAAAAAABBAAAAAAAAAEEAAAAAAAAAQQAAAAAAAABBAAAAAAAAAFEAAAAAAAAAQQAAAAAAAAABAAAAAAAAAEEAAAAAAAAAIQAAAAAAAAPA/AAAAAAAAEEAAAAAAAAAIQAAAAAAAABRAAAAAAAAAEEAAAAAAAAAIQAAAAAAAABBAAAAAAAAAFEAAAAAAAAAQQAAAAAAAABBAAAAAAAAA8D8AAAAAAADwPwAAAAAAABBAAAAAAAAAEEAAAAAAAAAQQAAAAAAAABRAAAAAAAAAFEAAAAAAAAAQQAAAAAAAAAhAAAAAAAAAAEAAAAAAAAAQQAAAAAAAABBAAAAAAAAAFEAAAAAAAAAQQAAAAAAAABRAAAAAAAAAAEAAAAAAAAAUQAAAAAAAABBAAAAAAAAAEEAAAAAAAAAQQAAAAAAAABRAAAAAAAAACEAAAAAAAAAIQAAAAAAAAABAAAAAAAAA8D8AAAAAAAAQQAAAAAAAAAhAAAAAAAAACEAAAAAAAAAQQAAAAAAAABBAAAAAAAAAEEAAAAAAAAAQQAAAAAAAABRAAAAAAAAACEAAAAAAAAAUQAAAAAAAABRAAAAAAAAAFEAAAAAAAADwPwAAAAAAABBAAAAAAAAAEEAAAAAAAAAQQAAAAAAAAABAAAAAAAAACEAAAAAAAAAIQAAAAAAAAPA/AAAAAAAAEEAAAAAAAAAQQAAAAAAAABBAAAAAAAAAEEAAAAAAAAAQQAAAAAAAABRAAAAAAAAAEEAAAAAAAAAQQAAAAAAAABRAAAAAAAAAFEA=",
          "dtype": "f8"
         },
         "xaxis": "x",
         "yaxis": "y"
        }
       ],
       "layout": {
        "barmode": "relative",
        "legend": {
         "tracegroupgap": 0
        },
        "margin": {
         "t": 60
        },
        "template": {
         "data": {
          "bar": [
           {
            "error_x": {
             "color": "#f2f5fa"
            },
            "error_y": {
             "color": "#f2f5fa"
            },
            "marker": {
             "line": {
              "color": "rgb(17,17,17)",
              "width": 0.5
             },
             "pattern": {
              "fillmode": "overlay",
              "size": 10,
              "solidity": 0.2
             }
            },
            "type": "bar"
           }
          ],
          "barpolar": [
           {
            "marker": {
             "line": {
              "color": "rgb(17,17,17)",
              "width": 0.5
             },
             "pattern": {
              "fillmode": "overlay",
              "size": 10,
              "solidity": 0.2
             }
            },
            "type": "barpolar"
           }
          ],
          "carpet": [
           {
            "aaxis": {
             "endlinecolor": "#A2B1C6",
             "gridcolor": "#506784",
             "linecolor": "#506784",
             "minorgridcolor": "#506784",
             "startlinecolor": "#A2B1C6"
            },
            "baxis": {
             "endlinecolor": "#A2B1C6",
             "gridcolor": "#506784",
             "linecolor": "#506784",
             "minorgridcolor": "#506784",
             "startlinecolor": "#A2B1C6"
            },
            "type": "carpet"
           }
          ],
          "choropleth": [
           {
            "colorbar": {
             "outlinewidth": 0,
             "ticks": ""
            },
            "type": "choropleth"
           }
          ],
          "contour": [
           {
            "colorbar": {
             "outlinewidth": 0,
             "ticks": ""
            },
            "colorscale": [
             [
              0,
              "#0d0887"
             ],
             [
              0.1111111111111111,
              "#46039f"
             ],
             [
              0.2222222222222222,
              "#7201a8"
             ],
             [
              0.3333333333333333,
              "#9c179e"
             ],
             [
              0.4444444444444444,
              "#bd3786"
             ],
             [
              0.5555555555555556,
              "#d8576b"
             ],
             [
              0.6666666666666666,
              "#ed7953"
             ],
             [
              0.7777777777777778,
              "#fb9f3a"
             ],
             [
              0.8888888888888888,
              "#fdca26"
             ],
             [
              1,
              "#f0f921"
             ]
            ],
            "type": "contour"
           }
          ],
          "contourcarpet": [
           {
            "colorbar": {
             "outlinewidth": 0,
             "ticks": ""
            },
            "type": "contourcarpet"
           }
          ],
          "heatmap": [
           {
            "colorbar": {
             "outlinewidth": 0,
             "ticks": ""
            },
            "colorscale": [
             [
              0,
              "#0d0887"
             ],
             [
              0.1111111111111111,
              "#46039f"
             ],
             [
              0.2222222222222222,
              "#7201a8"
             ],
             [
              0.3333333333333333,
              "#9c179e"
             ],
             [
              0.4444444444444444,
              "#bd3786"
             ],
             [
              0.5555555555555556,
              "#d8576b"
             ],
             [
              0.6666666666666666,
              "#ed7953"
             ],
             [
              0.7777777777777778,
              "#fb9f3a"
             ],
             [
              0.8888888888888888,
              "#fdca26"
             ],
             [
              1,
              "#f0f921"
             ]
            ],
            "type": "heatmap"
           }
          ],
          "histogram": [
           {
            "marker": {
             "pattern": {
              "fillmode": "overlay",
              "size": 10,
              "solidity": 0.2
             }
            },
            "type": "histogram"
           }
          ],
          "histogram2d": [
           {
            "colorbar": {
             "outlinewidth": 0,
             "ticks": ""
            },
            "colorscale": [
             [
              0,
              "#0d0887"
             ],
             [
              0.1111111111111111,
              "#46039f"
             ],
             [
              0.2222222222222222,
              "#7201a8"
             ],
             [
              0.3333333333333333,
              "#9c179e"
             ],
             [
              0.4444444444444444,
              "#bd3786"
             ],
             [
              0.5555555555555556,
              "#d8576b"
             ],
             [
              0.6666666666666666,
              "#ed7953"
             ],
             [
              0.7777777777777778,
              "#fb9f3a"
             ],
             [
              0.8888888888888888,
              "#fdca26"
             ],
             [
              1,
              "#f0f921"
             ]
            ],
            "type": "histogram2d"
           }
          ],
          "histogram2dcontour": [
           {
            "colorbar": {
             "outlinewidth": 0,
             "ticks": ""
            },
            "colorscale": [
             [
              0,
              "#0d0887"
             ],
             [
              0.1111111111111111,
              "#46039f"
             ],
             [
              0.2222222222222222,
              "#7201a8"
             ],
             [
              0.3333333333333333,
              "#9c179e"
             ],
             [
              0.4444444444444444,
              "#bd3786"
             ],
             [
              0.5555555555555556,
              "#d8576b"
             ],
             [
              0.6666666666666666,
              "#ed7953"
             ],
             [
              0.7777777777777778,
              "#fb9f3a"
             ],
             [
              0.8888888888888888,
              "#fdca26"
             ],
             [
              1,
              "#f0f921"
             ]
            ],
            "type": "histogram2dcontour"
           }
          ],
          "mesh3d": [
           {
            "colorbar": {
             "outlinewidth": 0,
             "ticks": ""
            },
            "type": "mesh3d"
           }
          ],
          "parcoords": [
           {
            "line": {
             "colorbar": {
              "outlinewidth": 0,
              "ticks": ""
             }
            },
            "type": "parcoords"
           }
          ],
          "pie": [
           {
            "automargin": true,
            "type": "pie"
           }
          ],
          "scatter": [
           {
            "marker": {
             "line": {
              "color": "#283442"
             }
            },
            "type": "scatter"
           }
          ],
          "scatter3d": [
           {
            "line": {
             "colorbar": {
              "outlinewidth": 0,
              "ticks": ""
             }
            },
            "marker": {
             "colorbar": {
              "outlinewidth": 0,
              "ticks": ""
             }
            },
            "type": "scatter3d"
           }
          ],
          "scattercarpet": [
           {
            "marker": {
             "colorbar": {
              "outlinewidth": 0,
              "ticks": ""
             }
            },
            "type": "scattercarpet"
           }
          ],
          "scattergeo": [
           {
            "marker": {
             "colorbar": {
              "outlinewidth": 0,
              "ticks": ""
             }
            },
            "type": "scattergeo"
           }
          ],
          "scattergl": [
           {
            "marker": {
             "line": {
              "color": "#283442"
             }
            },
            "type": "scattergl"
           }
          ],
          "scattermap": [
           {
            "marker": {
             "colorbar": {
              "outlinewidth": 0,
              "ticks": ""
             }
            },
            "type": "scattermap"
           }
          ],
          "scattermapbox": [
           {
            "marker": {
             "colorbar": {
              "outlinewidth": 0,
              "ticks": ""
             }
            },
            "type": "scattermapbox"
           }
          ],
          "scatterpolar": [
           {
            "marker": {
             "colorbar": {
              "outlinewidth": 0,
              "ticks": ""
             }
            },
            "type": "scatterpolar"
           }
          ],
          "scatterpolargl": [
           {
            "marker": {
             "colorbar": {
              "outlinewidth": 0,
              "ticks": ""
             }
            },
            "type": "scatterpolargl"
           }
          ],
          "scatterternary": [
           {
            "marker": {
             "colorbar": {
              "outlinewidth": 0,
              "ticks": ""
             }
            },
            "type": "scatterternary"
           }
          ],
          "surface": [
           {
            "colorbar": {
             "outlinewidth": 0,
             "ticks": ""
            },
            "colorscale": [
             [
              0,
              "#0d0887"
             ],
             [
              0.1111111111111111,
              "#46039f"
             ],
             [
              0.2222222222222222,
              "#7201a8"
             ],
             [
              0.3333333333333333,
              "#9c179e"
             ],
             [
              0.4444444444444444,
              "#bd3786"
             ],
             [
              0.5555555555555556,
              "#d8576b"
             ],
             [
              0.6666666666666666,
              "#ed7953"
             ],
             [
              0.7777777777777778,
              "#fb9f3a"
             ],
             [
              0.8888888888888888,
              "#fdca26"
             ],
             [
              1,
              "#f0f921"
             ]
            ],
            "type": "surface"
           }
          ],
          "table": [
           {
            "cells": {
             "fill": {
              "color": "#506784"
             },
             "line": {
              "color": "rgb(17,17,17)"
             }
            },
            "header": {
             "fill": {
              "color": "#2a3f5f"
             },
             "line": {
              "color": "rgb(17,17,17)"
             }
            },
            "type": "table"
           }
          ]
         },
         "layout": {
          "annotationdefaults": {
           "arrowcolor": "#f2f5fa",
           "arrowhead": 0,
           "arrowwidth": 1
          },
          "autotypenumbers": "strict",
          "coloraxis": {
           "colorbar": {
            "outlinewidth": 0,
            "ticks": ""
           }
          },
          "colorscale": {
           "diverging": [
            [
             0,
             "#8e0152"
            ],
            [
             0.1,
             "#c51b7d"
            ],
            [
             0.2,
             "#de77ae"
            ],
            [
             0.3,
             "#f1b6da"
            ],
            [
             0.4,
             "#fde0ef"
            ],
            [
             0.5,
             "#f7f7f7"
            ],
            [
             0.6,
             "#e6f5d0"
            ],
            [
             0.7,
             "#b8e186"
            ],
            [
             0.8,
             "#7fbc41"
            ],
            [
             0.9,
             "#4d9221"
            ],
            [
             1,
             "#276419"
            ]
           ],
           "sequential": [
            [
             0,
             "#0d0887"
            ],
            [
             0.1111111111111111,
             "#46039f"
            ],
            [
             0.2222222222222222,
             "#7201a8"
            ],
            [
             0.3333333333333333,
             "#9c179e"
            ],
            [
             0.4444444444444444,
             "#bd3786"
            ],
            [
             0.5555555555555556,
             "#d8576b"
            ],
            [
             0.6666666666666666,
             "#ed7953"
            ],
            [
             0.7777777777777778,
             "#fb9f3a"
            ],
            [
             0.8888888888888888,
             "#fdca26"
            ],
            [
             1,
             "#f0f921"
            ]
           ],
           "sequentialminus": [
            [
             0,
             "#0d0887"
            ],
            [
             0.1111111111111111,
             "#46039f"
            ],
            [
             0.2222222222222222,
             "#7201a8"
            ],
            [
             0.3333333333333333,
             "#9c179e"
            ],
            [
             0.4444444444444444,
             "#bd3786"
            ],
            [
             0.5555555555555556,
             "#d8576b"
            ],
            [
             0.6666666666666666,
             "#ed7953"
            ],
            [
             0.7777777777777778,
             "#fb9f3a"
            ],
            [
             0.8888888888888888,
             "#fdca26"
            ],
            [
             1,
             "#f0f921"
            ]
           ]
          },
          "colorway": [
           "#636efa",
           "#EF553B",
           "#00cc96",
           "#ab63fa",
           "#FFA15A",
           "#19d3f3",
           "#FF6692",
           "#B6E880",
           "#FF97FF",
           "#FECB52"
          ],
          "font": {
           "color": "#f2f5fa"
          },
          "geo": {
           "bgcolor": "rgb(17,17,17)",
           "lakecolor": "rgb(17,17,17)",
           "landcolor": "rgb(17,17,17)",
           "showlakes": true,
           "showland": true,
           "subunitcolor": "#506784"
          },
          "hoverlabel": {
           "align": "left"
          },
          "hovermode": "closest",
          "mapbox": {
           "style": "dark"
          },
          "paper_bgcolor": "rgb(17,17,17)",
          "plot_bgcolor": "rgb(17,17,17)",
          "polar": {
           "angularaxis": {
            "gridcolor": "#506784",
            "linecolor": "#506784",
            "ticks": ""
           },
           "bgcolor": "rgb(17,17,17)",
           "radialaxis": {
            "gridcolor": "#506784",
            "linecolor": "#506784",
            "ticks": ""
           }
          },
          "scene": {
           "xaxis": {
            "backgroundcolor": "rgb(17,17,17)",
            "gridcolor": "#506784",
            "gridwidth": 2,
            "linecolor": "#506784",
            "showbackground": true,
            "ticks": "",
            "zerolinecolor": "#C8D4E3"
           },
           "yaxis": {
            "backgroundcolor": "rgb(17,17,17)",
            "gridcolor": "#506784",
            "gridwidth": 2,
            "linecolor": "#506784",
            "showbackground": true,
            "ticks": "",
            "zerolinecolor": "#C8D4E3"
           },
           "zaxis": {
            "backgroundcolor": "rgb(17,17,17)",
            "gridcolor": "#506784",
            "gridwidth": 2,
            "linecolor": "#506784",
            "showbackground": true,
            "ticks": "",
            "zerolinecolor": "#C8D4E3"
           }
          },
          "shapedefaults": {
           "line": {
            "color": "#f2f5fa"
           }
          },
          "sliderdefaults": {
           "bgcolor": "#C8D4E3",
           "bordercolor": "rgb(17,17,17)",
           "borderwidth": 1,
           "tickwidth": 0
          },
          "ternary": {
           "aaxis": {
            "gridcolor": "#506784",
            "linecolor": "#506784",
            "ticks": ""
           },
           "baxis": {
            "gridcolor": "#506784",
            "linecolor": "#506784",
            "ticks": ""
           },
           "bgcolor": "rgb(17,17,17)",
           "caxis": {
            "gridcolor": "#506784",
            "linecolor": "#506784",
            "ticks": ""
           }
          },
          "title": {
           "x": 0.05
          },
          "updatemenudefaults": {
           "bgcolor": "#506784",
           "borderwidth": 0
          },
          "xaxis": {
           "automargin": true,
           "gridcolor": "#283442",
           "linecolor": "#506784",
           "ticks": "",
           "title": {
            "standoff": 15
           },
           "zerolinecolor": "#283442",
           "zerolinewidth": 2
          },
          "yaxis": {
           "automargin": true,
           "gridcolor": "#283442",
           "linecolor": "#506784",
           "ticks": "",
           "title": {
            "standoff": 15
           },
           "zerolinecolor": "#283442",
           "zerolinewidth": 2
          }
         }
        },
        "xaxis": {
         "anchor": "y",
         "domain": [
          0,
          1
         ],
         "title": {
          "text": "Margin"
         }
        },
        "yaxis": {
         "anchor": "x",
         "domain": [
          0,
          1
         ],
         "title": {
          "text": "count"
         }
        }
       }
      }
     },
     "metadata": {},
     "output_type": "display_data"
    }
   ],
   "source": [
    "copy = frame.copy()\n",
    "\n",
    "# 3.1\n",
    "copy = copy.dropna()\n",
    "\n",
    "fig = px.histogram(copy.loc[copy.Severity == 1].Margin, x=\"Margin\")\n",
    "fig.show()\n",
    "\n",
    "# 3.2\n"
   ]
  },
  {
   "cell_type": "markdown",
   "id": "efd73b5dbe45f43e",
   "metadata": {},
   "source": [
    "Task4 - NOT FINISHED"
   ]
  },
  {
   "cell_type": "code",
   "execution_count": 64,
   "id": "ee36047eab36fcf1",
   "metadata": {
    "ExecuteTime": {
     "end_time": "2025-09-04T10:28:14.440961Z",
     "start_time": "2025-09-04T10:28:14.007188Z"
    }
   },
   "outputs": [
    {
     "data": {
      "application/vnd.plotly.v1+json": {
       "config": {
        "plotlyServerURL": "https://plot.ly"
       },
       "data": [
        {
         "bingroup": "x",
         "hovertemplate": "Margin=%{x}<br>count=%{y}<extra></extra>",
         "legendgroup": "",
         "marker": {
          "color": "#636efa",
          "pattern": {
           "shape": ""
          }
         },
         "name": "",
         "orientation": "v",
         "showlegend": false,
         "type": "histogram",
         "x": {
          "bdata": "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",
          "dtype": "f8"
         },
         "xaxis": "x",
         "yaxis": "y"
        }
       ],
       "layout": {
        "barmode": "relative",
        "legend": {
         "tracegroupgap": 0
        },
        "margin": {
         "t": 60
        },
        "template": {
         "data": {
          "bar": [
           {
            "error_x": {
             "color": "#f2f5fa"
            },
            "error_y": {
             "color": "#f2f5fa"
            },
            "marker": {
             "line": {
              "color": "rgb(17,17,17)",
              "width": 0.5
             },
             "pattern": {
              "fillmode": "overlay",
              "size": 10,
              "solidity": 0.2
             }
            },
            "type": "bar"
           }
          ],
          "barpolar": [
           {
            "marker": {
             "line": {
              "color": "rgb(17,17,17)",
              "width": 0.5
             },
             "pattern": {
              "fillmode": "overlay",
              "size": 10,
              "solidity": 0.2
             }
            },
            "type": "barpolar"
           }
          ],
          "carpet": [
           {
            "aaxis": {
             "endlinecolor": "#A2B1C6",
             "gridcolor": "#506784",
             "linecolor": "#506784",
             "minorgridcolor": "#506784",
             "startlinecolor": "#A2B1C6"
            },
            "baxis": {
             "endlinecolor": "#A2B1C6",
             "gridcolor": "#506784",
             "linecolor": "#506784",
             "minorgridcolor": "#506784",
             "startlinecolor": "#A2B1C6"
            },
            "type": "carpet"
           }
          ],
          "choropleth": [
           {
            "colorbar": {
             "outlinewidth": 0,
             "ticks": ""
            },
            "type": "choropleth"
           }
          ],
          "contour": [
           {
            "colorbar": {
             "outlinewidth": 0,
             "ticks": ""
            },
            "colorscale": [
             [
              0,
              "#0d0887"
             ],
             [
              0.1111111111111111,
              "#46039f"
             ],
             [
              0.2222222222222222,
              "#7201a8"
             ],
             [
              0.3333333333333333,
              "#9c179e"
             ],
             [
              0.4444444444444444,
              "#bd3786"
             ],
             [
              0.5555555555555556,
              "#d8576b"
             ],
             [
              0.6666666666666666,
              "#ed7953"
             ],
             [
              0.7777777777777778,
              "#fb9f3a"
             ],
             [
              0.8888888888888888,
              "#fdca26"
             ],
             [
              1,
              "#f0f921"
             ]
            ],
            "type": "contour"
           }
          ],
          "contourcarpet": [
           {
            "colorbar": {
             "outlinewidth": 0,
             "ticks": ""
            },
            "type": "contourcarpet"
           }
          ],
          "heatmap": [
           {
            "colorbar": {
             "outlinewidth": 0,
             "ticks": ""
            },
            "colorscale": [
             [
              0,
              "#0d0887"
             ],
             [
              0.1111111111111111,
              "#46039f"
             ],
             [
              0.2222222222222222,
              "#7201a8"
             ],
             [
              0.3333333333333333,
              "#9c179e"
             ],
             [
              0.4444444444444444,
              "#bd3786"
             ],
             [
              0.5555555555555556,
              "#d8576b"
             ],
             [
              0.6666666666666666,
              "#ed7953"
             ],
             [
              0.7777777777777778,
              "#fb9f3a"
             ],
             [
              0.8888888888888888,
              "#fdca26"
             ],
             [
              1,
              "#f0f921"
             ]
            ],
            "type": "heatmap"
           }
          ],
          "histogram": [
           {
            "marker": {
             "pattern": {
              "fillmode": "overlay",
              "size": 10,
              "solidity": 0.2
             }
            },
            "type": "histogram"
           }
          ],
          "histogram2d": [
           {
            "colorbar": {
             "outlinewidth": 0,
             "ticks": ""
            },
            "colorscale": [
             [
              0,
              "#0d0887"
             ],
             [
              0.1111111111111111,
              "#46039f"
             ],
             [
              0.2222222222222222,
              "#7201a8"
             ],
             [
              0.3333333333333333,
              "#9c179e"
             ],
             [
              0.4444444444444444,
              "#bd3786"
             ],
             [
              0.5555555555555556,
              "#d8576b"
             ],
             [
              0.6666666666666666,
              "#ed7953"
             ],
             [
              0.7777777777777778,
              "#fb9f3a"
             ],
             [
              0.8888888888888888,
              "#fdca26"
             ],
             [
              1,
              "#f0f921"
             ]
            ],
            "type": "histogram2d"
           }
          ],
          "histogram2dcontour": [
           {
            "colorbar": {
             "outlinewidth": 0,
             "ticks": ""
            },
            "colorscale": [
             [
              0,
              "#0d0887"
             ],
             [
              0.1111111111111111,
              "#46039f"
             ],
             [
              0.2222222222222222,
              "#7201a8"
             ],
             [
              0.3333333333333333,
              "#9c179e"
             ],
             [
              0.4444444444444444,
              "#bd3786"
             ],
             [
              0.5555555555555556,
              "#d8576b"
             ],
             [
              0.6666666666666666,
              "#ed7953"
             ],
             [
              0.7777777777777778,
              "#fb9f3a"
             ],
             [
              0.8888888888888888,
              "#fdca26"
             ],
             [
              1,
              "#f0f921"
             ]
            ],
            "type": "histogram2dcontour"
           }
          ],
          "mesh3d": [
           {
            "colorbar": {
             "outlinewidth": 0,
             "ticks": ""
            },
            "type": "mesh3d"
           }
          ],
          "parcoords": [
           {
            "line": {
             "colorbar": {
              "outlinewidth": 0,
              "ticks": ""
             }
            },
            "type": "parcoords"
           }
          ],
          "pie": [
           {
            "automargin": true,
            "type": "pie"
           }
          ],
          "scatter": [
           {
            "marker": {
             "line": {
              "color": "#283442"
             }
            },
            "type": "scatter"
           }
          ],
          "scatter3d": [
           {
            "line": {
             "colorbar": {
              "outlinewidth": 0,
              "ticks": ""
             }
            },
            "marker": {
             "colorbar": {
              "outlinewidth": 0,
              "ticks": ""
             }
            },
            "type": "scatter3d"
           }
          ],
          "scattercarpet": [
           {
            "marker": {
             "colorbar": {
              "outlinewidth": 0,
              "ticks": ""
             }
            },
            "type": "scattercarpet"
           }
          ],
          "scattergeo": [
           {
            "marker": {
             "colorbar": {
              "outlinewidth": 0,
              "ticks": ""
             }
            },
            "type": "scattergeo"
           }
          ],
          "scattergl": [
           {
            "marker": {
             "line": {
              "color": "#283442"
             }
            },
            "type": "scattergl"
           }
          ],
          "scattermap": [
           {
            "marker": {
             "colorbar": {
              "outlinewidth": 0,
              "ticks": ""
             }
            },
            "type": "scattermap"
           }
          ],
          "scattermapbox": [
           {
            "marker": {
             "colorbar": {
              "outlinewidth": 0,
              "ticks": ""
             }
            },
            "type": "scattermapbox"
           }
          ],
          "scatterpolar": [
           {
            "marker": {
             "colorbar": {
              "outlinewidth": 0,
              "ticks": ""
             }
            },
            "type": "scatterpolar"
           }
          ],
          "scatterpolargl": [
           {
            "marker": {
             "colorbar": {
              "outlinewidth": 0,
              "ticks": ""
             }
            },
            "type": "scatterpolargl"
           }
          ],
          "scatterternary": [
           {
            "marker": {
             "colorbar": {
              "outlinewidth": 0,
              "ticks": ""
             }
            },
            "type": "scatterternary"
           }
          ],
          "surface": [
           {
            "colorbar": {
             "outlinewidth": 0,
             "ticks": ""
            },
            "colorscale": [
             [
              0,
              "#0d0887"
             ],
             [
              0.1111111111111111,
              "#46039f"
             ],
             [
              0.2222222222222222,
              "#7201a8"
             ],
             [
              0.3333333333333333,
              "#9c179e"
             ],
             [
              0.4444444444444444,
              "#bd3786"
             ],
             [
              0.5555555555555556,
              "#d8576b"
             ],
             [
              0.6666666666666666,
              "#ed7953"
             ],
             [
              0.7777777777777778,
              "#fb9f3a"
             ],
             [
              0.8888888888888888,
              "#fdca26"
             ],
             [
              1,
              "#f0f921"
             ]
            ],
            "type": "surface"
           }
          ],
          "table": [
           {
            "cells": {
             "fill": {
              "color": "#506784"
             },
             "line": {
              "color": "rgb(17,17,17)"
             }
            },
            "header": {
             "fill": {
              "color": "#2a3f5f"
             },
             "line": {
              "color": "rgb(17,17,17)"
             }
            },
            "type": "table"
           }
          ]
         },
         "layout": {
          "annotationdefaults": {
           "arrowcolor": "#f2f5fa",
           "arrowhead": 0,
           "arrowwidth": 1
          },
          "autotypenumbers": "strict",
          "coloraxis": {
           "colorbar": {
            "outlinewidth": 0,
            "ticks": ""
           }
          },
          "colorscale": {
           "diverging": [
            [
             0,
             "#8e0152"
            ],
            [
             0.1,
             "#c51b7d"
            ],
            [
             0.2,
             "#de77ae"
            ],
            [
             0.3,
             "#f1b6da"
            ],
            [
             0.4,
             "#fde0ef"
            ],
            [
             0.5,
             "#f7f7f7"
            ],
            [
             0.6,
             "#e6f5d0"
            ],
            [
             0.7,
             "#b8e186"
            ],
            [
             0.8,
             "#7fbc41"
            ],
            [
             0.9,
             "#4d9221"
            ],
            [
             1,
             "#276419"
            ]
           ],
           "sequential": [
            [
             0,
             "#0d0887"
            ],
            [
             0.1111111111111111,
             "#46039f"
            ],
            [
             0.2222222222222222,
             "#7201a8"
            ],
            [
             0.3333333333333333,
             "#9c179e"
            ],
            [
             0.4444444444444444,
             "#bd3786"
            ],
            [
             0.5555555555555556,
             "#d8576b"
            ],
            [
             0.6666666666666666,
             "#ed7953"
            ],
            [
             0.7777777777777778,
             "#fb9f3a"
            ],
            [
             0.8888888888888888,
             "#fdca26"
            ],
            [
             1,
             "#f0f921"
            ]
           ],
           "sequentialminus": [
            [
             0,
             "#0d0887"
            ],
            [
             0.1111111111111111,
             "#46039f"
            ],
            [
             0.2222222222222222,
             "#7201a8"
            ],
            [
             0.3333333333333333,
             "#9c179e"
            ],
            [
             0.4444444444444444,
             "#bd3786"
            ],
            [
             0.5555555555555556,
             "#d8576b"
            ],
            [
             0.6666666666666666,
             "#ed7953"
            ],
            [
             0.7777777777777778,
             "#fb9f3a"
            ],
            [
             0.8888888888888888,
             "#fdca26"
            ],
            [
             1,
             "#f0f921"
            ]
           ]
          },
          "colorway": [
           "#636efa",
           "#EF553B",
           "#00cc96",
           "#ab63fa",
           "#FFA15A",
           "#19d3f3",
           "#FF6692",
           "#B6E880",
           "#FF97FF",
           "#FECB52"
          ],
          "font": {
           "color": "#f2f5fa"
          },
          "geo": {
           "bgcolor": "rgb(17,17,17)",
           "lakecolor": "rgb(17,17,17)",
           "landcolor": "rgb(17,17,17)",
           "showlakes": true,
           "showland": true,
           "subunitcolor": "#506784"
          },
          "hoverlabel": {
           "align": "left"
          },
          "hovermode": "closest",
          "mapbox": {
           "style": "dark"
          },
          "paper_bgcolor": "rgb(17,17,17)",
          "plot_bgcolor": "rgb(17,17,17)",
          "polar": {
           "angularaxis": {
            "gridcolor": "#506784",
            "linecolor": "#506784",
            "ticks": ""
           },
           "bgcolor": "rgb(17,17,17)",
           "radialaxis": {
            "gridcolor": "#506784",
            "linecolor": "#506784",
            "ticks": ""
           }
          },
          "scene": {
           "xaxis": {
            "backgroundcolor": "rgb(17,17,17)",
            "gridcolor": "#506784",
            "gridwidth": 2,
            "linecolor": "#506784",
            "showbackground": true,
            "ticks": "",
            "zerolinecolor": "#C8D4E3"
           },
           "yaxis": {
            "backgroundcolor": "rgb(17,17,17)",
            "gridcolor": "#506784",
            "gridwidth": 2,
            "linecolor": "#506784",
            "showbackground": true,
            "ticks": "",
            "zerolinecolor": "#C8D4E3"
           },
           "zaxis": {
            "backgroundcolor": "rgb(17,17,17)",
            "gridcolor": "#506784",
            "gridwidth": 2,
            "linecolor": "#506784",
            "showbackground": true,
            "ticks": "",
            "zerolinecolor": "#C8D4E3"
           }
          },
          "shapedefaults": {
           "line": {
            "color": "#f2f5fa"
           }
          },
          "sliderdefaults": {
           "bgcolor": "#C8D4E3",
           "bordercolor": "rgb(17,17,17)",
           "borderwidth": 1,
           "tickwidth": 0
          },
          "ternary": {
           "aaxis": {
            "gridcolor": "#506784",
            "linecolor": "#506784",
            "ticks": ""
           },
           "baxis": {
            "gridcolor": "#506784",
            "linecolor": "#506784",
            "ticks": ""
           },
           "bgcolor": "rgb(17,17,17)",
           "caxis": {
            "gridcolor": "#506784",
            "linecolor": "#506784",
            "ticks": ""
           }
          },
          "title": {
           "x": 0.05
          },
          "updatemenudefaults": {
           "bgcolor": "#506784",
           "borderwidth": 0
          },
          "xaxis": {
           "automargin": true,
           "gridcolor": "#283442",
           "linecolor": "#506784",
           "ticks": "",
           "title": {
            "standoff": 15
           },
           "zerolinecolor": "#283442",
           "zerolinewidth": 2
          },
          "yaxis": {
           "automargin": true,
           "gridcolor": "#283442",
           "linecolor": "#506784",
           "ticks": "",
           "title": {
            "standoff": 15
           },
           "zerolinecolor": "#283442",
           "zerolinewidth": 2
          }
         }
        },
        "xaxis": {
         "anchor": "y",
         "domain": [
          0,
          1
         ],
         "title": {
          "text": "Margin"
         }
        },
        "yaxis": {
         "anchor": "x",
         "domain": [
          0,
          1
         ],
         "title": {
          "text": "count"
         }
        }
       }
      }
     },
     "metadata": {},
     "output_type": "display_data"
    },
    {
     "data": {
      "application/vnd.plotly.v1+json": {
       "config": {
        "plotlyServerURL": "https://plot.ly"
       },
       "data": [
        {
         "hovertemplate": "0=%{x}<br>1=%{y}<br>color=%{marker.color}<extra></extra>",
         "legendgroup": "",
         "marker": {
          "color": {
           "bdata": "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",
           "dtype": "f8"
          },
          "coloraxis": "coloraxis",
          "symbol": "circle"
         },
         "mode": "markers",
         "name": "",
         "orientation": "v",
         "showlegend": false,
         "type": "scatter",
         "x": {
          "bdata": "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",
          "dtype": "f8"
         },
         "xaxis": "x",
         "y": {
          "bdata": "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",
          "dtype": "f8"
         },
         "yaxis": "y"
        }
       ],
       "layout": {
        "coloraxis": {
         "colorbar": {
          "title": {
           "text": "color"
          }
         },
         "colorscale": [
          [
           0,
           "#0d0887"
          ],
          [
           0.1111111111111111,
           "#46039f"
          ],
          [
           0.2222222222222222,
           "#7201a8"
          ],
          [
           0.3333333333333333,
           "#9c179e"
          ],
          [
           0.4444444444444444,
           "#bd3786"
          ],
          [
           0.5555555555555556,
           "#d8576b"
          ],
          [
           0.6666666666666666,
           "#ed7953"
          ],
          [
           0.7777777777777778,
           "#fb9f3a"
          ],
          [
           0.8888888888888888,
           "#fdca26"
          ],
          [
           1,
           "#f0f921"
          ]
         ]
        },
        "legend": {
         "tracegroupgap": 0
        },
        "margin": {
         "t": 60
        },
        "template": {
         "data": {
          "bar": [
           {
            "error_x": {
             "color": "#f2f5fa"
            },
            "error_y": {
             "color": "#f2f5fa"
            },
            "marker": {
             "line": {
              "color": "rgb(17,17,17)",
              "width": 0.5
             },
             "pattern": {
              "fillmode": "overlay",
              "size": 10,
              "solidity": 0.2
             }
            },
            "type": "bar"
           }
          ],
          "barpolar": [
           {
            "marker": {
             "line": {
              "color": "rgb(17,17,17)",
              "width": 0.5
             },
             "pattern": {
              "fillmode": "overlay",
              "size": 10,
              "solidity": 0.2
             }
            },
            "type": "barpolar"
           }
          ],
          "carpet": [
           {
            "aaxis": {
             "endlinecolor": "#A2B1C6",
             "gridcolor": "#506784",
             "linecolor": "#506784",
             "minorgridcolor": "#506784",
             "startlinecolor": "#A2B1C6"
            },
            "baxis": {
             "endlinecolor": "#A2B1C6",
             "gridcolor": "#506784",
             "linecolor": "#506784",
             "minorgridcolor": "#506784",
             "startlinecolor": "#A2B1C6"
            },
            "type": "carpet"
           }
          ],
          "choropleth": [
           {
            "colorbar": {
             "outlinewidth": 0,
             "ticks": ""
            },
            "type": "choropleth"
           }
          ],
          "contour": [
           {
            "colorbar": {
             "outlinewidth": 0,
             "ticks": ""
            },
            "colorscale": [
             [
              0,
              "#0d0887"
             ],
             [
              0.1111111111111111,
              "#46039f"
             ],
             [
              0.2222222222222222,
              "#7201a8"
             ],
             [
              0.3333333333333333,
              "#9c179e"
             ],
             [
              0.4444444444444444,
              "#bd3786"
             ],
             [
              0.5555555555555556,
              "#d8576b"
             ],
             [
              0.6666666666666666,
              "#ed7953"
             ],
             [
              0.7777777777777778,
              "#fb9f3a"
             ],
             [
              0.8888888888888888,
              "#fdca26"
             ],
             [
              1,
              "#f0f921"
             ]
            ],
            "type": "contour"
           }
          ],
          "contourcarpet": [
           {
            "colorbar": {
             "outlinewidth": 0,
             "ticks": ""
            },
            "type": "contourcarpet"
           }
          ],
          "heatmap": [
           {
            "colorbar": {
             "outlinewidth": 0,
             "ticks": ""
            },
            "colorscale": [
             [
              0,
              "#0d0887"
             ],
             [
              0.1111111111111111,
              "#46039f"
             ],
             [
              0.2222222222222222,
              "#7201a8"
             ],
             [
              0.3333333333333333,
              "#9c179e"
             ],
             [
              0.4444444444444444,
              "#bd3786"
             ],
             [
              0.5555555555555556,
              "#d8576b"
             ],
             [
              0.6666666666666666,
              "#ed7953"
             ],
             [
              0.7777777777777778,
              "#fb9f3a"
             ],
             [
              0.8888888888888888,
              "#fdca26"
             ],
             [
              1,
              "#f0f921"
             ]
            ],
            "type": "heatmap"
           }
          ],
          "histogram": [
           {
            "marker": {
             "pattern": {
              "fillmode": "overlay",
              "size": 10,
              "solidity": 0.2
             }
            },
            "type": "histogram"
           }
          ],
          "histogram2d": [
           {
            "colorbar": {
             "outlinewidth": 0,
             "ticks": ""
            },
            "colorscale": [
             [
              0,
              "#0d0887"
             ],
             [
              0.1111111111111111,
              "#46039f"
             ],
             [
              0.2222222222222222,
              "#7201a8"
             ],
             [
              0.3333333333333333,
              "#9c179e"
             ],
             [
              0.4444444444444444,
              "#bd3786"
             ],
             [
              0.5555555555555556,
              "#d8576b"
             ],
             [
              0.6666666666666666,
              "#ed7953"
             ],
             [
              0.7777777777777778,
              "#fb9f3a"
             ],
             [
              0.8888888888888888,
              "#fdca26"
             ],
             [
              1,
              "#f0f921"
             ]
            ],
            "type": "histogram2d"
           }
          ],
          "histogram2dcontour": [
           {
            "colorbar": {
             "outlinewidth": 0,
             "ticks": ""
            },
            "colorscale": [
             [
              0,
              "#0d0887"
             ],
             [
              0.1111111111111111,
              "#46039f"
             ],
             [
              0.2222222222222222,
              "#7201a8"
             ],
             [
              0.3333333333333333,
              "#9c179e"
             ],
             [
              0.4444444444444444,
              "#bd3786"
             ],
             [
              0.5555555555555556,
              "#d8576b"
             ],
             [
              0.6666666666666666,
              "#ed7953"
             ],
             [
              0.7777777777777778,
              "#fb9f3a"
             ],
             [
              0.8888888888888888,
              "#fdca26"
             ],
             [
              1,
              "#f0f921"
             ]
            ],
            "type": "histogram2dcontour"
           }
          ],
          "mesh3d": [
           {
            "colorbar": {
             "outlinewidth": 0,
             "ticks": ""
            },
            "type": "mesh3d"
           }
          ],
          "parcoords": [
           {
            "line": {
             "colorbar": {
              "outlinewidth": 0,
              "ticks": ""
             }
            },
            "type": "parcoords"
           }
          ],
          "pie": [
           {
            "automargin": true,
            "type": "pie"
           }
          ],
          "scatter": [
           {
            "marker": {
             "line": {
              "color": "#283442"
             }
            },
            "type": "scatter"
           }
          ],
          "scatter3d": [
           {
            "line": {
             "colorbar": {
              "outlinewidth": 0,
              "ticks": ""
             }
            },
            "marker": {
             "colorbar": {
              "outlinewidth": 0,
              "ticks": ""
             }
            },
            "type": "scatter3d"
           }
          ],
          "scattercarpet": [
           {
            "marker": {
             "colorbar": {
              "outlinewidth": 0,
              "ticks": ""
             }
            },
            "type": "scattercarpet"
           }
          ],
          "scattergeo": [
           {
            "marker": {
             "colorbar": {
              "outlinewidth": 0,
              "ticks": ""
             }
            },
            "type": "scattergeo"
           }
          ],
          "scattergl": [
           {
            "marker": {
             "line": {
              "color": "#283442"
             }
            },
            "type": "scattergl"
           }
          ],
          "scattermap": [
           {
            "marker": {
             "colorbar": {
              "outlinewidth": 0,
              "ticks": ""
             }
            },
            "type": "scattermap"
           }
          ],
          "scattermapbox": [
           {
            "marker": {
             "colorbar": {
              "outlinewidth": 0,
              "ticks": ""
             }
            },
            "type": "scattermapbox"
           }
          ],
          "scatterpolar": [
           {
            "marker": {
             "colorbar": {
              "outlinewidth": 0,
              "ticks": ""
             }
            },
            "type": "scatterpolar"
           }
          ],
          "scatterpolargl": [
           {
            "marker": {
             "colorbar": {
              "outlinewidth": 0,
              "ticks": ""
             }
            },
            "type": "scatterpolargl"
           }
          ],
          "scatterternary": [
           {
            "marker": {
             "colorbar": {
              "outlinewidth": 0,
              "ticks": ""
             }
            },
            "type": "scatterternary"
           }
          ],
          "surface": [
           {
            "colorbar": {
             "outlinewidth": 0,
             "ticks": ""
            },
            "colorscale": [
             [
              0,
              "#0d0887"
             ],
             [
              0.1111111111111111,
              "#46039f"
             ],
             [
              0.2222222222222222,
              "#7201a8"
             ],
             [
              0.3333333333333333,
              "#9c179e"
             ],
             [
              0.4444444444444444,
              "#bd3786"
             ],
             [
              0.5555555555555556,
              "#d8576b"
             ],
             [
              0.6666666666666666,
              "#ed7953"
             ],
             [
              0.7777777777777778,
              "#fb9f3a"
             ],
             [
              0.8888888888888888,
              "#fdca26"
             ],
             [
              1,
              "#f0f921"
             ]
            ],
            "type": "surface"
           }
          ],
          "table": [
           {
            "cells": {
             "fill": {
              "color": "#506784"
             },
             "line": {
              "color": "rgb(17,17,17)"
             }
            },
            "header": {
             "fill": {
              "color": "#2a3f5f"
             },
             "line": {
              "color": "rgb(17,17,17)"
             }
            },
            "type": "table"
           }
          ]
         },
         "layout": {
          "annotationdefaults": {
           "arrowcolor": "#f2f5fa",
           "arrowhead": 0,
           "arrowwidth": 1
          },
          "autotypenumbers": "strict",
          "coloraxis": {
           "colorbar": {
            "outlinewidth": 0,
            "ticks": ""
           }
          },
          "colorscale": {
           "diverging": [
            [
             0,
             "#8e0152"
            ],
            [
             0.1,
             "#c51b7d"
            ],
            [
             0.2,
             "#de77ae"
            ],
            [
             0.3,
             "#f1b6da"
            ],
            [
             0.4,
             "#fde0ef"
            ],
            [
             0.5,
             "#f7f7f7"
            ],
            [
             0.6,
             "#e6f5d0"
            ],
            [
             0.7,
             "#b8e186"
            ],
            [
             0.8,
             "#7fbc41"
            ],
            [
             0.9,
             "#4d9221"
            ],
            [
             1,
             "#276419"
            ]
           ],
           "sequential": [
            [
             0,
             "#0d0887"
            ],
            [
             0.1111111111111111,
             "#46039f"
            ],
            [
             0.2222222222222222,
             "#7201a8"
            ],
            [
             0.3333333333333333,
             "#9c179e"
            ],
            [
             0.4444444444444444,
             "#bd3786"
            ],
            [
             0.5555555555555556,
             "#d8576b"
            ],
            [
             0.6666666666666666,
             "#ed7953"
            ],
            [
             0.7777777777777778,
             "#fb9f3a"
            ],
            [
             0.8888888888888888,
             "#fdca26"
            ],
            [
             1,
             "#f0f921"
            ]
           ],
           "sequentialminus": [
            [
             0,
             "#0d0887"
            ],
            [
             0.1111111111111111,
             "#46039f"
            ],
            [
             0.2222222222222222,
             "#7201a8"
            ],
            [
             0.3333333333333333,
             "#9c179e"
            ],
            [
             0.4444444444444444,
             "#bd3786"
            ],
            [
             0.5555555555555556,
             "#d8576b"
            ],
            [
             0.6666666666666666,
             "#ed7953"
            ],
            [
             0.7777777777777778,
             "#fb9f3a"
            ],
            [
             0.8888888888888888,
             "#fdca26"
            ],
            [
             1,
             "#f0f921"
            ]
           ]
          },
          "colorway": [
           "#636efa",
           "#EF553B",
           "#00cc96",
           "#ab63fa",
           "#FFA15A",
           "#19d3f3",
           "#FF6692",
           "#B6E880",
           "#FF97FF",
           "#FECB52"
          ],
          "font": {
           "color": "#f2f5fa"
          },
          "geo": {
           "bgcolor": "rgb(17,17,17)",
           "lakecolor": "rgb(17,17,17)",
           "landcolor": "rgb(17,17,17)",
           "showlakes": true,
           "showland": true,
           "subunitcolor": "#506784"
          },
          "hoverlabel": {
           "align": "left"
          },
          "hovermode": "closest",
          "mapbox": {
           "style": "dark"
          },
          "paper_bgcolor": "rgb(17,17,17)",
          "plot_bgcolor": "rgb(17,17,17)",
          "polar": {
           "angularaxis": {
            "gridcolor": "#506784",
            "linecolor": "#506784",
            "ticks": ""
           },
           "bgcolor": "rgb(17,17,17)",
           "radialaxis": {
            "gridcolor": "#506784",
            "linecolor": "#506784",
            "ticks": ""
           }
          },
          "scene": {
           "xaxis": {
            "backgroundcolor": "rgb(17,17,17)",
            "gridcolor": "#506784",
            "gridwidth": 2,
            "linecolor": "#506784",
            "showbackground": true,
            "ticks": "",
            "zerolinecolor": "#C8D4E3"
           },
           "yaxis": {
            "backgroundcolor": "rgb(17,17,17)",
            "gridcolor": "#506784",
            "gridwidth": 2,
            "linecolor": "#506784",
            "showbackground": true,
            "ticks": "",
            "zerolinecolor": "#C8D4E3"
           },
           "zaxis": {
            "backgroundcolor": "rgb(17,17,17)",
            "gridcolor": "#506784",
            "gridwidth": 2,
            "linecolor": "#506784",
            "showbackground": true,
            "ticks": "",
            "zerolinecolor": "#C8D4E3"
           }
          },
          "shapedefaults": {
           "line": {
            "color": "#f2f5fa"
           }
          },
          "sliderdefaults": {
           "bgcolor": "#C8D4E3",
           "bordercolor": "rgb(17,17,17)",
           "borderwidth": 1,
           "tickwidth": 0
          },
          "ternary": {
           "aaxis": {
            "gridcolor": "#506784",
            "linecolor": "#506784",
            "ticks": ""
           },
           "baxis": {
            "gridcolor": "#506784",
            "linecolor": "#506784",
            "ticks": ""
           },
           "bgcolor": "rgb(17,17,17)",
           "caxis": {
            "gridcolor": "#506784",
            "linecolor": "#506784",
            "ticks": ""
           }
          },
          "title": {
           "x": 0.05
          },
          "updatemenudefaults": {
           "bgcolor": "#506784",
           "borderwidth": 0
          },
          "xaxis": {
           "automargin": true,
           "gridcolor": "#283442",
           "linecolor": "#506784",
           "ticks": "",
           "title": {
            "standoff": 15
           },
           "zerolinecolor": "#283442",
           "zerolinewidth": 2
          },
          "yaxis": {
           "automargin": true,
           "gridcolor": "#283442",
           "linecolor": "#506784",
           "ticks": "",
           "title": {
            "standoff": 15
           },
           "zerolinecolor": "#283442",
           "zerolinewidth": 2
          }
         }
        },
        "xaxis": {
         "anchor": "y",
         "domain": [
          0,
          1
         ],
         "title": {
          "text": "0"
         }
        },
        "yaxis": {
         "anchor": "x",
         "domain": [
          0,
          1
         ],
         "title": {
          "text": "1"
         }
        }
       }
      }
     },
     "metadata": {},
     "output_type": "display_data"
    }
   ],
   "source": [
    "from sklearn.feature_selection import VarianceThreshold\n",
    "\n",
    "# 4.1\n",
    "X = frame.copy()\n",
    "sel = VarianceThreshold(threshold=(.5 * (1 - .5))) # betere threshold kiezen & kijken hoe je iets anders dan 0 en 1 verwijderd\n",
    "sel.fit_transform(X)\n",
    "\n",
    "fig = px.histogram(X.loc[frame.Severity == 1].Margin, x=\"Margin\")\n",
    "fig.show()\n",
    "\n",
    "# 4.2 - volgensmij af? We moeten alleen nog even kijken of het klopt\n",
    "from sklearn.decomposition import PCA\n",
    "\n",
    "pca = PCA(n_components=5)\n",
    "components = pca.fit_transform(copy)\n",
    "\n",
    "fig = px.scatter(components, x=0, y=1, color=copy['Margin'])\n",
    "fig.show()"
   ]
  }
 ],
 "metadata": {
  "kernelspec": {
   "display_name": "Python 3",
   "language": "python",
   "name": "python3"
  },
  "language_info": {
   "codemirror_mode": {
    "name": "ipython",
    "version": 3
   },
   "file_extension": ".py",
   "mimetype": "text/x-python",
   "name": "python",
   "nbconvert_exporter": "python",
   "pygments_lexer": "ipython3",
   "version": "3.13.7"
  }
 },
 "nbformat": 4,
 "nbformat_minor": 5
}
