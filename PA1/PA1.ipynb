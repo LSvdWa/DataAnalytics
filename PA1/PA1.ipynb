{
 "cells": [
  {
   "cell_type": "code",
   "id": "initial_id",
   "metadata": {
    "collapsed": true,
    "ExecuteTime": {
     "end_time": "2025-09-03T07:25:02.811633Z",
     "start_time": "2025-09-03T07:25:02.665204Z"
    }
   },
   "source": "!install pandas",
   "outputs": [
    {
     "name": "stdout",
     "output_type": "stream",
     "text": [
      "usage: install [-bCcpSsUv] [-f flags] [-g group] [-m mode] [-o owner]\r\n",
      "               [-M log] [-D dest] [-h hash] [-T tags]\r\n",
      "               [-B suffix] [-l linkflags] [-N dbdir]\r\n",
      "               file1 file2\r\n",
      "       install [-bCcpSsUv] [-f flags] [-g group] [-m mode] [-o owner]\r\n",
      "               [-M log] [-D dest] [-h hash] [-T tags]\r\n",
      "               [-B suffix] [-l linkflags] [-N dbdir]\r\n",
      "               file1 ... fileN directory\r\n",
      "       install -dU [-vU] [-g group] [-m mode] [-N dbdir] [-o owner]\r\n",
      "               [-M log] [-D dest] [-h hash] [-T tags]\r\n",
      "               directory ...\r\n"
     ]
    }
   ],
   "execution_count": 1
  },
  {
   "metadata": {
    "ExecuteTime": {
     "end_time": "2025-09-03T07:25:27.138889Z",
     "start_time": "2025-09-03T07:25:27.135734Z"
    }
   },
   "cell_type": "code",
   "source": "import pandas as pd\n",
   "id": "79a392246f80ba78",
   "outputs": [],
   "execution_count": 2
  }
 ],
 "metadata": {
  "kernelspec": {
   "display_name": "Python 3",
   "language": "python",
   "name": "python3"
  },
  "language_info": {
   "codemirror_mode": {
    "name": "ipython",
    "version": 2
   },
   "file_extension": ".py",
   "mimetype": "text/x-python",
   "name": "python",
   "nbconvert_exporter": "python",
   "pygments_lexer": "ipython2",
   "version": "2.7.6"
  }
 },
 "nbformat": 4,
 "nbformat_minor": 5
}
