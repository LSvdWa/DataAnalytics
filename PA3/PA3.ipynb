{
 "cells": [
  {
   "cell_type": "code",
   "id": "9f9cc532a184920b",
   "metadata": {
    "ExecuteTime": {
     "end_time": "2025-10-09T08:56:53.250493Z",
     "start_time": "2025-10-09T08:56:44.804020Z"
    }
   },
   "source": [
    "import pandas\n",
    "#from numpy.core.numeric import infty\n",
    "!pip install numpy\n",
    "!pip install pandas\n",
    "!pip install plotly\n",
    "!pip install scikit-learn \n",
    "# scikit-learn = non-depreceated sklearn"
   ],
   "outputs": [
    {
     "name": "stdout",
     "output_type": "stream",
     "text": [
      "Requirement already satisfied: numpy in c:\\users\\friso\\appdata\\local\\programs\\python\\python38\\lib\\site-packages (1.24.4)\n",
      "Requirement already satisfied: pandas in c:\\users\\friso\\appdata\\local\\programs\\python\\python38\\lib\\site-packages (2.0.3)\n",
      "Requirement already satisfied: python-dateutil>=2.8.2 in c:\\users\\friso\\appdata\\local\\programs\\python\\python38\\lib\\site-packages (from pandas) (2.9.0.post0)\n",
      "Requirement already satisfied: pytz>=2020.1 in c:\\users\\friso\\appdata\\local\\programs\\python\\python38\\lib\\site-packages (from pandas) (2025.2)\n",
      "Requirement already satisfied: tzdata>=2022.1 in c:\\users\\friso\\appdata\\local\\programs\\python\\python38\\lib\\site-packages (from pandas) (2025.2)\n",
      "Requirement already satisfied: numpy>=1.20.3 in c:\\users\\friso\\appdata\\local\\programs\\python\\python38\\lib\\site-packages (from pandas) (1.24.4)\n",
      "Requirement already satisfied: six>=1.5 in c:\\users\\friso\\appdata\\local\\programs\\python\\python38\\lib\\site-packages (from python-dateutil>=2.8.2->pandas) (1.17.0)\n",
      "Requirement already satisfied: plotly in c:\\users\\friso\\appdata\\local\\programs\\python\\python38\\lib\\site-packages (6.3.0)\n",
      "Requirement already satisfied: narwhals>=1.15.1 in c:\\users\\friso\\appdata\\local\\programs\\python\\python38\\lib\\site-packages (from plotly) (1.42.1)\n",
      "Requirement already satisfied: packaging in c:\\users\\friso\\appdata\\local\\programs\\python\\python38\\lib\\site-packages (from plotly) (25.0)\n",
      "Requirement already satisfied: scikit-learn in c:\\users\\friso\\appdata\\local\\programs\\python\\python38\\lib\\site-packages (1.3.2)\n",
      "Requirement already satisfied: numpy<2.0,>=1.17.3 in c:\\users\\friso\\appdata\\local\\programs\\python\\python38\\lib\\site-packages (from scikit-learn) (1.24.4)\n",
      "Requirement already satisfied: scipy>=1.5.0 in c:\\users\\friso\\appdata\\local\\programs\\python\\python38\\lib\\site-packages (from scikit-learn) (1.10.1)\n",
      "Requirement already satisfied: joblib>=1.1.1 in c:\\users\\friso\\appdata\\local\\programs\\python\\python38\\lib\\site-packages (from scikit-learn) (1.4.2)\n",
      "Requirement already satisfied: threadpoolctl>=2.0.0 in c:\\users\\friso\\appdata\\local\\programs\\python\\python38\\lib\\site-packages (from scikit-learn) (3.5.0)\n"
     ]
    }
   ],
   "execution_count": 2
  },
  {
   "cell_type": "markdown",
   "id": "2c742fe5da58a325",
   "metadata": {},
   "source": [
    "TASK 1"
   ]
  },
  {
   "cell_type": "code",
   "id": "initial_id",
   "metadata": {
    "collapsed": true,
    "ExecuteTime": {
     "end_time": "2025-10-09T08:56:53.310778Z",
     "start_time": "2025-10-09T08:56:53.252807Z"
    }
   },
   "source": [
    "import pandas as pd\n",
    "# read the csv and make it a pandas.DataFrame\n",
    "frame = pd.DataFrame(pd.read_csv(\"./blood_transfusion.csv\"))\n",
    "frame.describe(include='all') # 5 columns, 4 numerical, class is nominal (1 or 0)"
   ],
   "outputs": [
    {
     "data": {
      "text/plain": [
       "       months_since_last_donation  total_number_of_donations  \\\n",
       "count                  748.000000                 748.000000   \n",
       "mean                     9.506684                   5.514706   \n",
       "std                      8.095396                   5.839307   \n",
       "min                      0.000000                   1.000000   \n",
       "25%                      2.750000                   2.000000   \n",
       "50%                      7.000000                   4.000000   \n",
       "75%                     14.000000                   7.000000   \n",
       "max                     74.000000                  50.000000   \n",
       "\n",
       "       total_blood_donated  months_since_first_donation       class  \n",
       "count           748.000000                   748.000000  748.000000  \n",
       "mean           1378.676471                    34.282086    0.237968  \n",
       "std            1459.826781                    24.376714    0.426124  \n",
       "min             250.000000                     2.000000    0.000000  \n",
       "25%             500.000000                    16.000000    0.000000  \n",
       "50%            1000.000000                    28.000000    0.000000  \n",
       "75%            1750.000000                    50.000000    0.000000  \n",
       "max           12500.000000                    98.000000    1.000000  "
      ],
      "text/html": [
       "<div>\n",
       "<style scoped>\n",
       "    .dataframe tbody tr th:only-of-type {\n",
       "        vertical-align: middle;\n",
       "    }\n",
       "\n",
       "    .dataframe tbody tr th {\n",
       "        vertical-align: top;\n",
       "    }\n",
       "\n",
       "    .dataframe thead th {\n",
       "        text-align: right;\n",
       "    }\n",
       "</style>\n",
       "<table border=\"1\" class=\"dataframe\">\n",
       "  <thead>\n",
       "    <tr style=\"text-align: right;\">\n",
       "      <th></th>\n",
       "      <th>months_since_last_donation</th>\n",
       "      <th>total_number_of_donations</th>\n",
       "      <th>total_blood_donated</th>\n",
       "      <th>months_since_first_donation</th>\n",
       "      <th>class</th>\n",
       "    </tr>\n",
       "  </thead>\n",
       "  <tbody>\n",
       "    <tr>\n",
       "      <th>count</th>\n",
       "      <td>748.000000</td>\n",
       "      <td>748.000000</td>\n",
       "      <td>748.000000</td>\n",
       "      <td>748.000000</td>\n",
       "      <td>748.000000</td>\n",
       "    </tr>\n",
       "    <tr>\n",
       "      <th>mean</th>\n",
       "      <td>9.506684</td>\n",
       "      <td>5.514706</td>\n",
       "      <td>1378.676471</td>\n",
       "      <td>34.282086</td>\n",
       "      <td>0.237968</td>\n",
       "    </tr>\n",
       "    <tr>\n",
       "      <th>std</th>\n",
       "      <td>8.095396</td>\n",
       "      <td>5.839307</td>\n",
       "      <td>1459.826781</td>\n",
       "      <td>24.376714</td>\n",
       "      <td>0.426124</td>\n",
       "    </tr>\n",
       "    <tr>\n",
       "      <th>min</th>\n",
       "      <td>0.000000</td>\n",
       "      <td>1.000000</td>\n",
       "      <td>250.000000</td>\n",
       "      <td>2.000000</td>\n",
       "      <td>0.000000</td>\n",
       "    </tr>\n",
       "    <tr>\n",
       "      <th>25%</th>\n",
       "      <td>2.750000</td>\n",
       "      <td>2.000000</td>\n",
       "      <td>500.000000</td>\n",
       "      <td>16.000000</td>\n",
       "      <td>0.000000</td>\n",
       "    </tr>\n",
       "    <tr>\n",
       "      <th>50%</th>\n",
       "      <td>7.000000</td>\n",
       "      <td>4.000000</td>\n",
       "      <td>1000.000000</td>\n",
       "      <td>28.000000</td>\n",
       "      <td>0.000000</td>\n",
       "    </tr>\n",
       "    <tr>\n",
       "      <th>75%</th>\n",
       "      <td>14.000000</td>\n",
       "      <td>7.000000</td>\n",
       "      <td>1750.000000</td>\n",
       "      <td>50.000000</td>\n",
       "      <td>0.000000</td>\n",
       "    </tr>\n",
       "    <tr>\n",
       "      <th>max</th>\n",
       "      <td>74.000000</td>\n",
       "      <td>50.000000</td>\n",
       "      <td>12500.000000</td>\n",
       "      <td>98.000000</td>\n",
       "      <td>1.000000</td>\n",
       "    </tr>\n",
       "  </tbody>\n",
       "</table>\n",
       "</div>"
      ]
     },
     "execution_count": 3,
     "metadata": {},
     "output_type": "execute_result"
    }
   ],
   "execution_count": 3
  },
  {
   "cell_type": "code",
   "id": "8112ffb8932f23c8",
   "metadata": {
    "ExecuteTime": {
     "end_time": "2025-10-09T08:56:55.214072Z",
     "start_time": "2025-10-09T08:56:53.312789Z"
    }
   },
   "source": [
    "import plotly.express as px\n",
    "\n",
    "\"\"\"fig = px.histogram(frame.loc[frame['class'] == 1].Margin, x=\"Margin\", title=\"Histogram of Margin with Severity = 1\")\n",
    "fig.show()\"\"\"\n",
    "\n",
    "#2.3\n",
    "# A pie-chart showing how many cases of each class exist\n",
    "fig = px.pie(frame, values='months_since_last_donation', names='class', title='% of classes')\n",
    "fig.show()\n",
    "# Duidelijk verschil tussen het percentage 0 en 1 wanneer mensen een kortere periode hebben sinds laatste donatie\n",
    "fig = px.histogram(frame, x='months_since_last_donation',  color='class', title='')\n",
    "fig.show()\n",
    "# percentage redelijk gelijk over alle data\n",
    "fig = px.histogram(frame, x='months_since_first_donation',  color='class', title='')\n",
    "fig.show()\n",
    "# Meer donations is gelijk aan hoger percentage class 1\n",
    "fig = px.histogram(frame, x='total_number_of_donations',  color='class', title='')\n",
    "fig = px.scatter(frame, x='months_since_last_donation', y=\"total_number_of_donations\", color='class', title='')\n",
    "fig.show()\n",
    "fig = px.scatter(frame, x='months_since_last_donation', y=\"total_number_of_donations\", color='class', title='')\n",
    "fig.show()\n",
    "fig = px.histogram(frame, x='total_blood_donated',  color='class', title='')\n",
    "fig.show()\n",
    "fig = px.scatter(frame, x='months_since_last_donation', y=\"months_since_first_donation\", color='class', title='')\n",
    "fig.show()\n",
    "\n",
    "# total blood donated is linear with number of donations: dus wss niet nodig om beide te hebben in een vergelijking\n",
    "fig = px.scatter(frame, x='total_blood_donated', y=\"total_number_of_donations\", color='class', title='')\n",
    "fig.show()\n",
    "fig = px.scatter_3d(frame, x=\"months_since_last_donation\", y=\"total_blood_donated\", z='total_number_of_donations', color=\"class\", title=\"3d scatter\")\n",
    "fig.show()\n",
    "\n",
    "# Months since last donation is belangrijkst, spreid het meeste data, gevolgd door total blood donated. Miss een importance checker hier\n",
    "fig = px.scatter_3d(frame, x=\"months_since_last_donation\", y=\"total_blood_donated\", z='months_since_first_donation', color=\"class\", title=\"3d scatter\")\n",
    "fig.show()\n",
    "\n",
    "fig = px.scatter(frame, x='months_since_last_donation', y='months_since_first_donation', color='class', title=\"scatter\")\n",
    "fig.show()\n",
    "\n",
    "fig = px.scatter(frame, x='months_since_first_donation', y='months_since_last_donation', color='class', title=\"scatter\")\n",
    "fig.show()\n",
    "fig = px.histogram(frame, x='months_since_last_donation', color='class', title='')\n",
    "fig.show()"
   ],
   "outputs": [
    {
     "data": {
      "application/vnd.plotly.v1+json": {
       "data": [
        {
         "domain": {
          "x": [
           0.0,
           1.0
          ],
          "y": [
           0.0,
           1.0
          ]
         },
         "hovertemplate": "class=%{label}<br>months_since_last_donation=%{value}<extra></extra>",
         "labels": {
          "dtype": "i1",
          "bdata": "AQEBAQAAAQABAQAAAQABAQEBAQEBAAEBAAAAAQEAAAEBAQABAQEBAQEAAQABAQAAAAAAAQAAAQEBAQAAAAEAAQEAAQAAAAAAAQABAQEAAAABAAAAAQAAAAABAQAAAAAAAAEBAQEBAAAAAAAAAAABAAABAAABAAABAQEBAQAAAQABAQAAAAAAAAAAAAAAAAAAAQEAAAEAAQAAAQAAAAAAAAAAAAEBAQAAAAAAAAAAAAABAQEAAQAAAAAAAAAAAQAAAAAAAQEAAAAAAAEAAAAAAAAAAAAAAAABAAAAAAABAQABAQAAAAAAAQAAAAAAAAAAAQABAQAAAAAAAAAAAQEAAAAAAAAAAQABAAEAAAAAAAAAAAAAAAAAAAABAAAAAAABAQEBAAAAAAAAAAAAAAAAAAABAAAAAAAAAAAAAAAAAQAAAQABAAAAAAEAAAABAQABAAABAAAAAAAAAAAAAAAAAAAAAAAAAAAAAAAAAAABAAAAAQEAAAAAAQAAAAAAAAAAAAAAAAAAAAAAAAAAAQAAAQAAAAAAAAAAAAAAAAAAAAAAAAAAAAAAAAAAAAAAAAAAAQAAAAAAAAAAAAAAAAAAAAAAAAAAAAAAAAAAAAAAAQAAAAAAAQAAAAAAAAEAAAAAAAAAAAAAAAAAAAAAAAAAAAAAAAABAQEAAQEBAAEBAQAAAAEAAQEBAQEBAQEAAAEAAAEBAQAAAAEBAQEBAQABAQABAAABAQABAQAAAAAAAAABAAEAAAAAAAEAAAABAAEBAQAAAAABAAAAAAEAAAAAAAABAAABAAAAAAAAAAAAAAAAAAAAAQAAAAAAAQAAAAEAAQAAAAAAAAAAAAAAAAAAAQEAAAABAAAAAAAAAAAAAAAAAAAAAAAAAAAAAAEAAQAAAAAAAAAAAAABAAAAAAAAAAAAAAAAAAABAAAAAAAAAAAAAAAAAQAAAAEAAAAAAAAAAAAAAAAAAAAAAAAAAQAAAAAAAAAAAAAAAAAAAA=="
         },
         "legendgroup": "",
         "name": "",
         "showlegend": true,
         "values": {
          "dtype": "f8",
          "bdata": "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"
         },
         "type": "pie"
        }
       ],
       "layout": {
        "template": {
         "data": {
          "histogram2dcontour": [
           {
            "type": "histogram2dcontour",
            "colorbar": {
             "outlinewidth": 0,
             "ticks": ""
            },
            "colorscale": [
             [
              0.0,
              "#0d0887"
             ],
             [
              0.1111111111111111,
              "#46039f"
             ],
             [
              0.2222222222222222,
              "#7201a8"
             ],
             [
              0.3333333333333333,
              "#9c179e"
             ],
             [
              0.4444444444444444,
              "#bd3786"
             ],
             [
              0.5555555555555556,
              "#d8576b"
             ],
             [
              0.6666666666666666,
              "#ed7953"
             ],
             [
              0.7777777777777778,
              "#fb9f3a"
             ],
             [
              0.8888888888888888,
              "#fdca26"
             ],
             [
              1.0,
              "#f0f921"
             ]
            ]
           }
          ],
          "choropleth": [
           {
            "type": "choropleth",
            "colorbar": {
             "outlinewidth": 0,
             "ticks": ""
            }
           }
          ],
          "histogram2d": [
           {
            "type": "histogram2d",
            "colorbar": {
             "outlinewidth": 0,
             "ticks": ""
            },
            "colorscale": [
             [
              0.0,
              "#0d0887"
             ],
             [
              0.1111111111111111,
              "#46039f"
             ],
             [
              0.2222222222222222,
              "#7201a8"
             ],
             [
              0.3333333333333333,
              "#9c179e"
             ],
             [
              0.4444444444444444,
              "#bd3786"
             ],
             [
              0.5555555555555556,
              "#d8576b"
             ],
             [
              0.6666666666666666,
              "#ed7953"
             ],
             [
              0.7777777777777778,
              "#fb9f3a"
             ],
             [
              0.8888888888888888,
              "#fdca26"
             ],
             [
              1.0,
              "#f0f921"
             ]
            ]
           }
          ],
          "heatmap": [
           {
            "type": "heatmap",
            "colorbar": {
             "outlinewidth": 0,
             "ticks": ""
            },
            "colorscale": [
             [
              0.0,
              "#0d0887"
             ],
             [
              0.1111111111111111,
              "#46039f"
             ],
             [
              0.2222222222222222,
              "#7201a8"
             ],
             [
              0.3333333333333333,
              "#9c179e"
             ],
             [
              0.4444444444444444,
              "#bd3786"
             ],
             [
              0.5555555555555556,
              "#d8576b"
             ],
             [
              0.6666666666666666,
              "#ed7953"
             ],
             [
              0.7777777777777778,
              "#fb9f3a"
             ],
             [
              0.8888888888888888,
              "#fdca26"
             ],
             [
              1.0,
              "#f0f921"
             ]
            ]
           }
          ],
          "contourcarpet": [
           {
            "type": "contourcarpet",
            "colorbar": {
             "outlinewidth": 0,
             "ticks": ""
            }
           }
          ],
          "contour": [
           {
            "type": "contour",
            "colorbar": {
             "outlinewidth": 0,
             "ticks": ""
            },
            "colorscale": [
             [
              0.0,
              "#0d0887"
             ],
             [
              0.1111111111111111,
              "#46039f"
             ],
             [
              0.2222222222222222,
              "#7201a8"
             ],
             [
              0.3333333333333333,
              "#9c179e"
             ],
             [
              0.4444444444444444,
              "#bd3786"
             ],
             [
              0.5555555555555556,
              "#d8576b"
             ],
             [
              0.6666666666666666,
              "#ed7953"
             ],
             [
              0.7777777777777778,
              "#fb9f3a"
             ],
             [
              0.8888888888888888,
              "#fdca26"
             ],
             [
              1.0,
              "#f0f921"
             ]
            ]
           }
          ],
          "surface": [
           {
            "type": "surface",
            "colorbar": {
             "outlinewidth": 0,
             "ticks": ""
            },
            "colorscale": [
             [
              0.0,
              "#0d0887"
             ],
             [
              0.1111111111111111,
              "#46039f"
             ],
             [
              0.2222222222222222,
              "#7201a8"
             ],
             [
              0.3333333333333333,
              "#9c179e"
             ],
             [
              0.4444444444444444,
              "#bd3786"
             ],
             [
              0.5555555555555556,
              "#d8576b"
             ],
             [
              0.6666666666666666,
              "#ed7953"
             ],
             [
              0.7777777777777778,
              "#fb9f3a"
             ],
             [
              0.8888888888888888,
              "#fdca26"
             ],
             [
              1.0,
              "#f0f921"
             ]
            ]
           }
          ],
          "mesh3d": [
           {
            "type": "mesh3d",
            "colorbar": {
             "outlinewidth": 0,
             "ticks": ""
            }
           }
          ],
          "scatter": [
           {
            "marker": {
             "line": {
              "color": "#283442"
             }
            },
            "type": "scatter"
           }
          ],
          "parcoords": [
           {
            "type": "parcoords",
            "line": {
             "colorbar": {
              "outlinewidth": 0,
              "ticks": ""
             }
            }
           }
          ],
          "scatterpolargl": [
           {
            "type": "scatterpolargl",
            "marker": {
             "colorbar": {
              "outlinewidth": 0,
              "ticks": ""
             }
            }
           }
          ],
          "bar": [
           {
            "error_x": {
             "color": "#f2f5fa"
            },
            "error_y": {
             "color": "#f2f5fa"
            },
            "marker": {
             "line": {
              "color": "rgb(17,17,17)",
              "width": 0.5
             },
             "pattern": {
              "fillmode": "overlay",
              "size": 10,
              "solidity": 0.2
             }
            },
            "type": "bar"
           }
          ],
          "scattergeo": [
           {
            "type": "scattergeo",
            "marker": {
             "colorbar": {
              "outlinewidth": 0,
              "ticks": ""
             }
            }
           }
          ],
          "scatterpolar": [
           {
            "type": "scatterpolar",
            "marker": {
             "colorbar": {
              "outlinewidth": 0,
              "ticks": ""
             }
            }
           }
          ],
          "histogram": [
           {
            "marker": {
             "pattern": {
              "fillmode": "overlay",
              "size": 10,
              "solidity": 0.2
             }
            },
            "type": "histogram"
           }
          ],
          "scattergl": [
           {
            "marker": {
             "line": {
              "color": "#283442"
             }
            },
            "type": "scattergl"
           }
          ],
          "scatter3d": [
           {
            "type": "scatter3d",
            "line": {
             "colorbar": {
              "outlinewidth": 0,
              "ticks": ""
             }
            },
            "marker": {
             "colorbar": {
              "outlinewidth": 0,
              "ticks": ""
             }
            }
           }
          ],
          "scattermap": [
           {
            "type": "scattermap",
            "marker": {
             "colorbar": {
              "outlinewidth": 0,
              "ticks": ""
             }
            }
           }
          ],
          "scattermapbox": [
           {
            "type": "scattermapbox",
            "marker": {
             "colorbar": {
              "outlinewidth": 0,
              "ticks": ""
             }
            }
           }
          ],
          "scatterternary": [
           {
            "type": "scatterternary",
            "marker": {
             "colorbar": {
              "outlinewidth": 0,
              "ticks": ""
             }
            }
           }
          ],
          "scattercarpet": [
           {
            "type": "scattercarpet",
            "marker": {
             "colorbar": {
              "outlinewidth": 0,
              "ticks": ""
             }
            }
           }
          ],
          "carpet": [
           {
            "aaxis": {
             "endlinecolor": "#A2B1C6",
             "gridcolor": "#506784",
             "linecolor": "#506784",
             "minorgridcolor": "#506784",
             "startlinecolor": "#A2B1C6"
            },
            "baxis": {
             "endlinecolor": "#A2B1C6",
             "gridcolor": "#506784",
             "linecolor": "#506784",
             "minorgridcolor": "#506784",
             "startlinecolor": "#A2B1C6"
            },
            "type": "carpet"
           }
          ],
          "table": [
           {
            "cells": {
             "fill": {
              "color": "#506784"
             },
             "line": {
              "color": "rgb(17,17,17)"
             }
            },
            "header": {
             "fill": {
              "color": "#2a3f5f"
             },
             "line": {
              "color": "rgb(17,17,17)"
             }
            },
            "type": "table"
           }
          ],
          "barpolar": [
           {
            "marker": {
             "line": {
              "color": "rgb(17,17,17)",
              "width": 0.5
             },
             "pattern": {
              "fillmode": "overlay",
              "size": 10,
              "solidity": 0.2
             }
            },
            "type": "barpolar"
           }
          ],
          "pie": [
           {
            "automargin": true,
            "type": "pie"
           }
          ]
         },
         "layout": {
          "autotypenumbers": "strict",
          "colorway": [
           "#636efa",
           "#EF553B",
           "#00cc96",
           "#ab63fa",
           "#FFA15A",
           "#19d3f3",
           "#FF6692",
           "#B6E880",
           "#FF97FF",
           "#FECB52"
          ],
          "font": {
           "color": "#f2f5fa"
          },
          "hovermode": "closest",
          "hoverlabel": {
           "align": "left"
          },
          "paper_bgcolor": "rgb(17,17,17)",
          "plot_bgcolor": "rgb(17,17,17)",
          "polar": {
           "bgcolor": "rgb(17,17,17)",
           "angularaxis": {
            "gridcolor": "#506784",
            "linecolor": "#506784",
            "ticks": ""
           },
           "radialaxis": {
            "gridcolor": "#506784",
            "linecolor": "#506784",
            "ticks": ""
           }
          },
          "ternary": {
           "bgcolor": "rgb(17,17,17)",
           "aaxis": {
            "gridcolor": "#506784",
            "linecolor": "#506784",
            "ticks": ""
           },
           "baxis": {
            "gridcolor": "#506784",
            "linecolor": "#506784",
            "ticks": ""
           },
           "caxis": {
            "gridcolor": "#506784",
            "linecolor": "#506784",
            "ticks": ""
           }
          },
          "coloraxis": {
           "colorbar": {
            "outlinewidth": 0,
            "ticks": ""
           }
          },
          "colorscale": {
           "sequential": [
            [
             0.0,
             "#0d0887"
            ],
            [
             0.1111111111111111,
             "#46039f"
            ],
            [
             0.2222222222222222,
             "#7201a8"
            ],
            [
             0.3333333333333333,
             "#9c179e"
            ],
            [
             0.4444444444444444,
             "#bd3786"
            ],
            [
             0.5555555555555556,
             "#d8576b"
            ],
            [
             0.6666666666666666,
             "#ed7953"
            ],
            [
             0.7777777777777778,
             "#fb9f3a"
            ],
            [
             0.8888888888888888,
             "#fdca26"
            ],
            [
             1.0,
             "#f0f921"
            ]
           ],
           "sequentialminus": [
            [
             0.0,
             "#0d0887"
            ],
            [
             0.1111111111111111,
             "#46039f"
            ],
            [
             0.2222222222222222,
             "#7201a8"
            ],
            [
             0.3333333333333333,
             "#9c179e"
            ],
            [
             0.4444444444444444,
             "#bd3786"
            ],
            [
             0.5555555555555556,
             "#d8576b"
            ],
            [
             0.6666666666666666,
             "#ed7953"
            ],
            [
             0.7777777777777778,
             "#fb9f3a"
            ],
            [
             0.8888888888888888,
             "#fdca26"
            ],
            [
             1.0,
             "#f0f921"
            ]
           ],
           "diverging": [
            [
             0,
             "#8e0152"
            ],
            [
             0.1,
             "#c51b7d"
            ],
            [
             0.2,
             "#de77ae"
            ],
            [
             0.3,
             "#f1b6da"
            ],
            [
             0.4,
             "#fde0ef"
            ],
            [
             0.5,
             "#f7f7f7"
            ],
            [
             0.6,
             "#e6f5d0"
            ],
            [
             0.7,
             "#b8e186"
            ],
            [
             0.8,
             "#7fbc41"
            ],
            [
             0.9,
             "#4d9221"
            ],
            [
             1,
             "#276419"
            ]
           ]
          },
          "xaxis": {
           "gridcolor": "#283442",
           "linecolor": "#506784",
           "ticks": "",
           "title": {
            "standoff": 15
           },
           "zerolinecolor": "#283442",
           "automargin": true,
           "zerolinewidth": 2
          },
          "yaxis": {
           "gridcolor": "#283442",
           "linecolor": "#506784",
           "ticks": "",
           "title": {
            "standoff": 15
           },
           "zerolinecolor": "#283442",
           "automargin": true,
           "zerolinewidth": 2
          },
          "scene": {
           "xaxis": {
            "backgroundcolor": "rgb(17,17,17)",
            "gridcolor": "#506784",
            "linecolor": "#506784",
            "showbackground": true,
            "ticks": "",
            "zerolinecolor": "#C8D4E3",
            "gridwidth": 2
           },
           "yaxis": {
            "backgroundcolor": "rgb(17,17,17)",
            "gridcolor": "#506784",
            "linecolor": "#506784",
            "showbackground": true,
            "ticks": "",
            "zerolinecolor": "#C8D4E3",
            "gridwidth": 2
           },
           "zaxis": {
            "backgroundcolor": "rgb(17,17,17)",
            "gridcolor": "#506784",
            "linecolor": "#506784",
            "showbackground": true,
            "ticks": "",
            "zerolinecolor": "#C8D4E3",
            "gridwidth": 2
           }
          },
          "shapedefaults": {
           "line": {
            "color": "#f2f5fa"
           }
          },
          "annotationdefaults": {
           "arrowcolor": "#f2f5fa",
           "arrowhead": 0,
           "arrowwidth": 1
          },
          "geo": {
           "bgcolor": "rgb(17,17,17)",
           "landcolor": "rgb(17,17,17)",
           "subunitcolor": "#506784",
           "showland": true,
           "showlakes": true,
           "lakecolor": "rgb(17,17,17)"
          },
          "title": {
           "x": 0.05
          },
          "updatemenudefaults": {
           "bgcolor": "#506784",
           "borderwidth": 0
          },
          "sliderdefaults": {
           "bgcolor": "#C8D4E3",
           "borderwidth": 1,
           "bordercolor": "rgb(17,17,17)",
           "tickwidth": 0
          },
          "mapbox": {
           "style": "dark"
          }
         }
        },
        "legend": {
         "tracegroupgap": 0
        },
        "title": {
         "text": "% of classes"
        }
       },
       "config": {
        "plotlyServerURL": "https://plot.ly"
       }
      }
     },
     "metadata": {},
     "output_type": "display_data"
    },
    {
     "data": {
      "application/vnd.plotly.v1+json": {
       "data": [
        {
         "bingroup": "x",
         "hovertemplate": "class=1<br>months_since_last_donation=%{x}<br>count=%{y}<extra></extra>",
         "legendgroup": "1",
         "marker": {
          "color": "#636efa",
          "pattern": {
           "shape": ""
          }
         },
         "name": "1",
         "orientation": "v",
         "showlegend": true,
         "x": {
          "dtype": "f8",
          "bdata": "AAAAAAAAAEAAAAAAAAAAAAAAAAAAAPA/AAAAAAAAAEAAAAAAAAAAQAAAAAAAAABAAAAAAAAAFEAAAAAAAAAAQAAAAAAAAABAAAAAAAAAAEAAAAAAAAAAQAAAAAAAAABAAAAAAAAAAEAAAAAAAAAAQAAAAAAAAABAAAAAAAAAAEAAAAAAAAAAQAAAAAAAABBAAAAAAAAAEEAAAAAAAAAQQAAAAAAAABBAAAAAAAAAEEAAAAAAAAAAQAAAAAAAAABAAAAAAAAAEEAAAAAAAAAAQAAAAAAAABBAAAAAAAAAAEAAAAAAAAAAQAAAAAAAABBAAAAAAAAAEEAAAAAAAAAAQAAAAAAAABBAAAAAAAAAEEAAAAAAAAAQQAAAAAAAAABAAAAAAAAAAEAAAAAAAAAQQAAAAAAAAABAAAAAAAAAAEAAAAAAAAAQQAAAAAAAAABAAAAAAAAAAEAAAAAAAAAAQAAAAAAAABBAAAAAAAAAAEAAAAAAAAAAQAAAAAAAABBAAAAAAAAAEEAAAAAAAAAQQAAAAAAAABRAAAAAAAAAEEAAAAAAAAAAQAAAAAAAABBAAAAAAAAAEEAAAAAAAAAAQAAAAAAAAABAAAAAAAAAAEAAAAAAAAAQQAAAAAAAAABAAAAAAAAAAEAAAAAAAAAQQAAAAAAAABBAAAAAAAAAAEAAAAAAAAAQQAAAAAAAABBAAAAAAAAAAEAAAAAAAAAAQAAAAAAAAABAAAAAAAAAAEAAAAAAAAAAQAAAAAAAAABAAAAAAAAAJkAAAAAAAAAQQAAAAAAAABBAAAAAAAAAEEAAAAAAAAAQQAAAAAAAAABAAAAAAAAAIkAAAAAAAAAYQAAAAAAAABBAAAAAAAAAEEAAAAAAAAAQQAAAAAAAABBAAAAAAAAAEEAAAAAAAAAQQAAAAAAAACBAAAAAAAAAEEAAAAAAAAAmQAAAAAAAACZAAAAAAAAAJkAAAAAAAAAmQAAAAAAAAABAAAAAAAAAEEAAAAAAAAAsQAAAAAAAACJAAAAAAAAALEAAAAAAAAAsQAAAAAAAACxAAAAAAAAAJkAAAAAAAAAmQAAAAAAAACJAAAAAAAAALEAAAAAAAAAsQAAAAAAAADBAAAAAAAAAJkAAAAAAAAAwQAAAAAAAACZAAAAAAAAALEAAAAAAAAAwQAAAAAAAABBAAAAAAAAAJkAAAAAAAAA1QAAAAAAAADVAAAAAAAAAMEAAAAAAAAA1QAAAAAAAADZAAAAAAAAAOkAAAAAAAAAAQAAAAAAAABhAAAAAAAAAAEAAAAAAAAAAAAAAAAAAAABAAAAAAAAACEAAAAAAAAAAQAAAAAAAAABAAAAAAAAAEEAAAAAAAAAQQAAAAAAAAAhAAAAAAAAAEEAAAAAAAAAIQAAAAAAAABBAAAAAAAAAAEAAAAAAAAAAQAAAAAAAABBAAAAAAAAA8D8AAAAAAAAAQAAAAAAAAABAAAAAAAAAEEAAAAAAAAAAQAAAAAAAABBAAAAAAAAAAEAAAAAAAAAAQAAAAAAAAABAAAAAAAAAAEAAAAAAAAAAQAAAAAAAABBAAAAAAAAAEEAAAAAAAAAQQAAAAAAAAABAAAAAAAAAEEAAAAAAAAAAQAAAAAAAABBAAAAAAAAAEEAAAAAAAAAQQAAAAAAAABBAAAAAAAAAAEAAAAAAAAAAQAAAAAAAABBAAAAAAAAACEAAAAAAAAAAQAAAAAAAAABAAAAAAAAAIkAAAAAAAAAIQAAAAAAAABBAAAAAAAAAEEAAAAAAAAAQQAAAAAAAACpAAAAAAAAAHEAAAAAAAAAmQAAAAAAAACxAAAAAAAAAJkAAAAAAAAAAQAAAAAAAADRAAAAAAAAAMUAAAAAAAAAmQAAAAAAAACxAAAAAAAAAN0A="
         },
         "xaxis": "x",
         "yaxis": "y",
         "type": "histogram"
        },
        {
         "bingroup": "x",
         "hovertemplate": "class=0<br>months_since_last_donation=%{x}<br>count=%{y}<extra></extra>",
         "legendgroup": "0",
         "marker": {
          "color": "#EF553B",
          "pattern": {
           "shape": ""
          }
         },
         "name": "0",
         "orientation": "v",
         "showlegend": true,
         "x": {
          "dtype": "f8",
          "bdata": "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"
         },
         "xaxis": "x",
         "yaxis": "y",
         "type": "histogram"
        }
       ],
       "layout": {
        "template": {
         "data": {
          "histogram2dcontour": [
           {
            "type": "histogram2dcontour",
            "colorbar": {
             "outlinewidth": 0,
             "ticks": ""
            },
            "colorscale": [
             [
              0.0,
              "#0d0887"
             ],
             [
              0.1111111111111111,
              "#46039f"
             ],
             [
              0.2222222222222222,
              "#7201a8"
             ],
             [
              0.3333333333333333,
              "#9c179e"
             ],
             [
              0.4444444444444444,
              "#bd3786"
             ],
             [
              0.5555555555555556,
              "#d8576b"
             ],
             [
              0.6666666666666666,
              "#ed7953"
             ],
             [
              0.7777777777777778,
              "#fb9f3a"
             ],
             [
              0.8888888888888888,
              "#fdca26"
             ],
             [
              1.0,
              "#f0f921"
             ]
            ]
           }
          ],
          "choropleth": [
           {
            "type": "choropleth",
            "colorbar": {
             "outlinewidth": 0,
             "ticks": ""
            }
           }
          ],
          "histogram2d": [
           {
            "type": "histogram2d",
            "colorbar": {
             "outlinewidth": 0,
             "ticks": ""
            },
            "colorscale": [
             [
              0.0,
              "#0d0887"
             ],
             [
              0.1111111111111111,
              "#46039f"
             ],
             [
              0.2222222222222222,
              "#7201a8"
             ],
             [
              0.3333333333333333,
              "#9c179e"
             ],
             [
              0.4444444444444444,
              "#bd3786"
             ],
             [
              0.5555555555555556,
              "#d8576b"
             ],
             [
              0.6666666666666666,
              "#ed7953"
             ],
             [
              0.7777777777777778,
              "#fb9f3a"
             ],
             [
              0.8888888888888888,
              "#fdca26"
             ],
             [
              1.0,
              "#f0f921"
             ]
            ]
           }
          ],
          "heatmap": [
           {
            "type": "heatmap",
            "colorbar": {
             "outlinewidth": 0,
             "ticks": ""
            },
            "colorscale": [
             [
              0.0,
              "#0d0887"
             ],
             [
              0.1111111111111111,
              "#46039f"
             ],
             [
              0.2222222222222222,
              "#7201a8"
             ],
             [
              0.3333333333333333,
              "#9c179e"
             ],
             [
              0.4444444444444444,
              "#bd3786"
             ],
             [
              0.5555555555555556,
              "#d8576b"
             ],
             [
              0.6666666666666666,
              "#ed7953"
             ],
             [
              0.7777777777777778,
              "#fb9f3a"
             ],
             [
              0.8888888888888888,
              "#fdca26"
             ],
             [
              1.0,
              "#f0f921"
             ]
            ]
           }
          ],
          "contourcarpet": [
           {
            "type": "contourcarpet",
            "colorbar": {
             "outlinewidth": 0,
             "ticks": ""
            }
           }
          ],
          "contour": [
           {
            "type": "contour",
            "colorbar": {
             "outlinewidth": 0,
             "ticks": ""
            },
            "colorscale": [
             [
              0.0,
              "#0d0887"
             ],
             [
              0.1111111111111111,
              "#46039f"
             ],
             [
              0.2222222222222222,
              "#7201a8"
             ],
             [
              0.3333333333333333,
              "#9c179e"
             ],
             [
              0.4444444444444444,
              "#bd3786"
             ],
             [
              0.5555555555555556,
              "#d8576b"
             ],
             [
              0.6666666666666666,
              "#ed7953"
             ],
             [
              0.7777777777777778,
              "#fb9f3a"
             ],
             [
              0.8888888888888888,
              "#fdca26"
             ],
             [
              1.0,
              "#f0f921"
             ]
            ]
           }
          ],
          "surface": [
           {
            "type": "surface",
            "colorbar": {
             "outlinewidth": 0,
             "ticks": ""
            },
            "colorscale": [
             [
              0.0,
              "#0d0887"
             ],
             [
              0.1111111111111111,
              "#46039f"
             ],
             [
              0.2222222222222222,
              "#7201a8"
             ],
             [
              0.3333333333333333,
              "#9c179e"
             ],
             [
              0.4444444444444444,
              "#bd3786"
             ],
             [
              0.5555555555555556,
              "#d8576b"
             ],
             [
              0.6666666666666666,
              "#ed7953"
             ],
             [
              0.7777777777777778,
              "#fb9f3a"
             ],
             [
              0.8888888888888888,
              "#fdca26"
             ],
             [
              1.0,
              "#f0f921"
             ]
            ]
           }
          ],
          "mesh3d": [
           {
            "type": "mesh3d",
            "colorbar": {
             "outlinewidth": 0,
             "ticks": ""
            }
           }
          ],
          "scatter": [
           {
            "marker": {
             "line": {
              "color": "#283442"
             }
            },
            "type": "scatter"
           }
          ],
          "parcoords": [
           {
            "type": "parcoords",
            "line": {
             "colorbar": {
              "outlinewidth": 0,
              "ticks": ""
             }
            }
           }
          ],
          "scatterpolargl": [
           {
            "type": "scatterpolargl",
            "marker": {
             "colorbar": {
              "outlinewidth": 0,
              "ticks": ""
             }
            }
           }
          ],
          "bar": [
           {
            "error_x": {
             "color": "#f2f5fa"
            },
            "error_y": {
             "color": "#f2f5fa"
            },
            "marker": {
             "line": {
              "color": "rgb(17,17,17)",
              "width": 0.5
             },
             "pattern": {
              "fillmode": "overlay",
              "size": 10,
              "solidity": 0.2
             }
            },
            "type": "bar"
           }
          ],
          "scattergeo": [
           {
            "type": "scattergeo",
            "marker": {
             "colorbar": {
              "outlinewidth": 0,
              "ticks": ""
             }
            }
           }
          ],
          "scatterpolar": [
           {
            "type": "scatterpolar",
            "marker": {
             "colorbar": {
              "outlinewidth": 0,
              "ticks": ""
             }
            }
           }
          ],
          "histogram": [
           {
            "marker": {
             "pattern": {
              "fillmode": "overlay",
              "size": 10,
              "solidity": 0.2
             }
            },
            "type": "histogram"
           }
          ],
          "scattergl": [
           {
            "marker": {
             "line": {
              "color": "#283442"
             }
            },
            "type": "scattergl"
           }
          ],
          "scatter3d": [
           {
            "type": "scatter3d",
            "line": {
             "colorbar": {
              "outlinewidth": 0,
              "ticks": ""
             }
            },
            "marker": {
             "colorbar": {
              "outlinewidth": 0,
              "ticks": ""
             }
            }
           }
          ],
          "scattermap": [
           {
            "type": "scattermap",
            "marker": {
             "colorbar": {
              "outlinewidth": 0,
              "ticks": ""
             }
            }
           }
          ],
          "scattermapbox": [
           {
            "type": "scattermapbox",
            "marker": {
             "colorbar": {
              "outlinewidth": 0,
              "ticks": ""
             }
            }
           }
          ],
          "scatterternary": [
           {
            "type": "scatterternary",
            "marker": {
             "colorbar": {
              "outlinewidth": 0,
              "ticks": ""
             }
            }
           }
          ],
          "scattercarpet": [
           {
            "type": "scattercarpet",
            "marker": {
             "colorbar": {
              "outlinewidth": 0,
              "ticks": ""
             }
            }
           }
          ],
          "carpet": [
           {
            "aaxis": {
             "endlinecolor": "#A2B1C6",
             "gridcolor": "#506784",
             "linecolor": "#506784",
             "minorgridcolor": "#506784",
             "startlinecolor": "#A2B1C6"
            },
            "baxis": {
             "endlinecolor": "#A2B1C6",
             "gridcolor": "#506784",
             "linecolor": "#506784",
             "minorgridcolor": "#506784",
             "startlinecolor": "#A2B1C6"
            },
            "type": "carpet"
           }
          ],
          "table": [
           {
            "cells": {
             "fill": {
              "color": "#506784"
             },
             "line": {
              "color": "rgb(17,17,17)"
             }
            },
            "header": {
             "fill": {
              "color": "#2a3f5f"
             },
             "line": {
              "color": "rgb(17,17,17)"
             }
            },
            "type": "table"
           }
          ],
          "barpolar": [
           {
            "marker": {
             "line": {
              "color": "rgb(17,17,17)",
              "width": 0.5
             },
             "pattern": {
              "fillmode": "overlay",
              "size": 10,
              "solidity": 0.2
             }
            },
            "type": "barpolar"
           }
          ],
          "pie": [
           {
            "automargin": true,
            "type": "pie"
           }
          ]
         },
         "layout": {
          "autotypenumbers": "strict",
          "colorway": [
           "#636efa",
           "#EF553B",
           "#00cc96",
           "#ab63fa",
           "#FFA15A",
           "#19d3f3",
           "#FF6692",
           "#B6E880",
           "#FF97FF",
           "#FECB52"
          ],
          "font": {
           "color": "#f2f5fa"
          },
          "hovermode": "closest",
          "hoverlabel": {
           "align": "left"
          },
          "paper_bgcolor": "rgb(17,17,17)",
          "plot_bgcolor": "rgb(17,17,17)",
          "polar": {
           "bgcolor": "rgb(17,17,17)",
           "angularaxis": {
            "gridcolor": "#506784",
            "linecolor": "#506784",
            "ticks": ""
           },
           "radialaxis": {
            "gridcolor": "#506784",
            "linecolor": "#506784",
            "ticks": ""
           }
          },
          "ternary": {
           "bgcolor": "rgb(17,17,17)",
           "aaxis": {
            "gridcolor": "#506784",
            "linecolor": "#506784",
            "ticks": ""
           },
           "baxis": {
            "gridcolor": "#506784",
            "linecolor": "#506784",
            "ticks": ""
           },
           "caxis": {
            "gridcolor": "#506784",
            "linecolor": "#506784",
            "ticks": ""
           }
          },
          "coloraxis": {
           "colorbar": {
            "outlinewidth": 0,
            "ticks": ""
           }
          },
          "colorscale": {
           "sequential": [
            [
             0.0,
             "#0d0887"
            ],
            [
             0.1111111111111111,
             "#46039f"
            ],
            [
             0.2222222222222222,
             "#7201a8"
            ],
            [
             0.3333333333333333,
             "#9c179e"
            ],
            [
             0.4444444444444444,
             "#bd3786"
            ],
            [
             0.5555555555555556,
             "#d8576b"
            ],
            [
             0.6666666666666666,
             "#ed7953"
            ],
            [
             0.7777777777777778,
             "#fb9f3a"
            ],
            [
             0.8888888888888888,
             "#fdca26"
            ],
            [
             1.0,
             "#f0f921"
            ]
           ],
           "sequentialminus": [
            [
             0.0,
             "#0d0887"
            ],
            [
             0.1111111111111111,
             "#46039f"
            ],
            [
             0.2222222222222222,
             "#7201a8"
            ],
            [
             0.3333333333333333,
             "#9c179e"
            ],
            [
             0.4444444444444444,
             "#bd3786"
            ],
            [
             0.5555555555555556,
             "#d8576b"
            ],
            [
             0.6666666666666666,
             "#ed7953"
            ],
            [
             0.7777777777777778,
             "#fb9f3a"
            ],
            [
             0.8888888888888888,
             "#fdca26"
            ],
            [
             1.0,
             "#f0f921"
            ]
           ],
           "diverging": [
            [
             0,
             "#8e0152"
            ],
            [
             0.1,
             "#c51b7d"
            ],
            [
             0.2,
             "#de77ae"
            ],
            [
             0.3,
             "#f1b6da"
            ],
            [
             0.4,
             "#fde0ef"
            ],
            [
             0.5,
             "#f7f7f7"
            ],
            [
             0.6,
             "#e6f5d0"
            ],
            [
             0.7,
             "#b8e186"
            ],
            [
             0.8,
             "#7fbc41"
            ],
            [
             0.9,
             "#4d9221"
            ],
            [
             1,
             "#276419"
            ]
           ]
          },
          "xaxis": {
           "gridcolor": "#283442",
           "linecolor": "#506784",
           "ticks": "",
           "title": {
            "standoff": 15
           },
           "zerolinecolor": "#283442",
           "automargin": true,
           "zerolinewidth": 2
          },
          "yaxis": {
           "gridcolor": "#283442",
           "linecolor": "#506784",
           "ticks": "",
           "title": {
            "standoff": 15
           },
           "zerolinecolor": "#283442",
           "automargin": true,
           "zerolinewidth": 2
          },
          "scene": {
           "xaxis": {
            "backgroundcolor": "rgb(17,17,17)",
            "gridcolor": "#506784",
            "linecolor": "#506784",
            "showbackground": true,
            "ticks": "",
            "zerolinecolor": "#C8D4E3",
            "gridwidth": 2
           },
           "yaxis": {
            "backgroundcolor": "rgb(17,17,17)",
            "gridcolor": "#506784",
            "linecolor": "#506784",
            "showbackground": true,
            "ticks": "",
            "zerolinecolor": "#C8D4E3",
            "gridwidth": 2
           },
           "zaxis": {
            "backgroundcolor": "rgb(17,17,17)",
            "gridcolor": "#506784",
            "linecolor": "#506784",
            "showbackground": true,
            "ticks": "",
            "zerolinecolor": "#C8D4E3",
            "gridwidth": 2
           }
          },
          "shapedefaults": {
           "line": {
            "color": "#f2f5fa"
           }
          },
          "annotationdefaults": {
           "arrowcolor": "#f2f5fa",
           "arrowhead": 0,
           "arrowwidth": 1
          },
          "geo": {
           "bgcolor": "rgb(17,17,17)",
           "landcolor": "rgb(17,17,17)",
           "subunitcolor": "#506784",
           "showland": true,
           "showlakes": true,
           "lakecolor": "rgb(17,17,17)"
          },
          "title": {
           "x": 0.05
          },
          "updatemenudefaults": {
           "bgcolor": "#506784",
           "borderwidth": 0
          },
          "sliderdefaults": {
           "bgcolor": "#C8D4E3",
           "borderwidth": 1,
           "bordercolor": "rgb(17,17,17)",
           "tickwidth": 0
          },
          "mapbox": {
           "style": "dark"
          }
         }
        },
        "xaxis": {
         "anchor": "y",
         "domain": [
          0.0,
          1.0
         ],
         "title": {
          "text": "months_since_last_donation"
         }
        },
        "yaxis": {
         "anchor": "x",
         "domain": [
          0.0,
          1.0
         ],
         "title": {
          "text": "count"
         }
        },
        "legend": {
         "title": {
          "text": "class"
         },
         "tracegroupgap": 0
        },
        "margin": {
         "t": 60
        },
        "barmode": "relative"
       },
       "config": {
        "plotlyServerURL": "https://plot.ly"
       }
      }
     },
     "metadata": {},
     "output_type": "display_data"
    },
    {
     "data": {
      "application/vnd.plotly.v1+json": {
       "data": [
        {
         "bingroup": "x",
         "hovertemplate": "class=1<br>months_since_first_donation=%{x}<br>count=%{y}<extra></extra>",
         "legendgroup": "1",
         "marker": {
          "color": "#636efa",
          "pattern": {
           "shape": ""
          }
         },
         "name": "1",
         "orientation": "v",
         "showlegend": true,
         "x": {
          "dtype": "f8",
          "bdata": "AAAAAACAWEAAAAAAAAA8QAAAAAAAgEFAAAAAAACARkAAAAAAAAAsQAAAAAAAADZAAAAAAACAWEAAAAAAAAA8QAAAAAAAAC5AAAAAAAAAJkAAAAAAAABIQAAAAAAAgEhAAAAAAAAALkAAAAAAAAAQQAAAAAAAABBAAAAAAAAAMEAAAAAAAAAwQAAAAAAAAEFAAAAAAAAAJkAAAAAAAAA8QAAAAAAAADxAAAAAAAAAOkAAAAAAAAA8QAAAAAAAgEdAAAAAAAAAMEAAAAAAAIBMQAAAAAAAADZAAAAAAACASkAAAAAAAAAwQAAAAAAAQFFAAAAAAAAAPEAAAAAAAABHQAAAAAAAACxAAAAAAABAUUAAAAAAAAA6QAAAAAAAADxAAAAAAACAQUAAAAAAAAAwQAAAAAAAACJAAAAAAAAALEAAAAAAAMBRQAAAAAAAABBAAAAAAAAAEEAAAAAAAAAwQAAAAAAAADdAAAAAAAAAPEAAAAAAAIBBQAAAAAAAABBAAAAAAAAAQ0AAAAAAAAAsQAAAAAAAADpAAAAAAAAAQUAAAAAAAABTQAAAAAAAADdAAAAAAAAAREAAAAAAAABHQAAAAAAAwFNAAAAAAAAAMEAAAAAAAAA6QAAAAAAAgERAAAAAAACAQEAAAAAAAABHQAAAAAAAAEhAAAAAAAAAJEAAAAAAAAAiQAAAAAAAADBAAAAAAAAAJkAAAAAAAABNQAAAAAAAAABAAAAAAAAAAEAAAAAAAAAAQAAAAAAAAABAAAAAAAAAMEAAAAAAAIBAQAAAAAAAgERAAAAAAAAAOkAAAAAAAIBBQAAAAAAAgEdAAAAAAAAAQ0AAAAAAAAAmQAAAAAAAABBAAAAAAAAAEEAAAAAAAAAQQAAAAAAAABBAAAAAAAAAEEAAAAAAAAAQQAAAAAAAAEpAAAAAAAAAOUAAAAAAAMBTQAAAAAAAgERAAAAAAAAAMEAAAAAAAEBSQAAAAAAAAENAAAAAAACARUAAAAAAAAA2QAAAAAAAADBAAAAAAAAAPEAAAAAAAAAzQAAAAAAAADdAAAAAAACAQkAAAAAAAABSQAAAAAAAgElAAAAAAAAASUAAAAAAAAA8QAAAAAAAgEFAAAAAAAAAT0AAAAAAAAA1QAAAAAAAACZAAAAAAAAANUAAAAAAAABEQAAAAAAAgElAAAAAAAAAREAAAAAAAAA1QAAAAAAAADpAAAAAAADAVUAAAAAAAAA1QAAAAAAAADZAAAAAAACASEAAAAAAAIBVQAAAAAAAADxAAAAAAABAU0AAAAAAAABTQAAAAAAAgFhAAAAAAAAARUAAAAAAAABKQAAAAAAAAEBAAAAAAAAAEEAAAAAAAABDQAAAAAAAAChAAAAAAACAWEAAAAAAAIBAQAAAAAAAADxAAAAAAAAAREAAAAAAAIBEQAAAAAAAgENAAAAAAACARUAAAAAAAAAwQAAAAAAAADZAAAAAAAAAMEAAAAAAAAAsQAAAAAAAADBAAAAAAAAAQEAAAAAAAAA6QAAAAAAAAENAAAAAAAAAEEAAAAAAAAA8QAAAAAAAgFFAAAAAAAAAEEAAAAAAAAAQQAAAAAAAgFFAAAAAAAAAQEAAAAAAAIBBQAAAAAAAADxAAAAAAAAAUEAAAAAAAIBYQAAAAAAAgEFAAAAAAAAAJkAAAAAAAAAmQAAAAAAAAENAAAAAAAAAPUAAAAAAAAAAQAAAAAAAAABAAAAAAACASEAAAAAAAAAIQAAAAAAAABBAAAAAAAAAEEAAAAAAAABBQAAAAAAAACxAAAAAAABAVkAAAAAAAABKQAAAAAAAACxAAAAAAAAAJkAAAAAAAMBSQAAAAAAAQFFAAAAAAAAATUAAAAAAAABDQAAAAAAAgEFAAAAAAAAAN0A="
         },
         "xaxis": "x",
         "yaxis": "y",
         "type": "histogram"
        },
        {
         "bingroup": "x",
         "hovertemplate": "class=0<br>months_since_first_donation=%{x}<br>count=%{y}<extra></extra>",
         "legendgroup": "0",
         "marker": {
          "color": "#EF553B",
          "pattern": {
           "shape": ""
          }
         },
         "name": "0",
         "orientation": "v",
         "showlegend": true,
         "x": {
          "dtype": "f8",
          "bdata": "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"
         },
         "xaxis": "x",
         "yaxis": "y",
         "type": "histogram"
        }
       ],
       "layout": {
        "template": {
         "data": {
          "histogram2dcontour": [
           {
            "type": "histogram2dcontour",
            "colorbar": {
             "outlinewidth": 0,
             "ticks": ""
            },
            "colorscale": [
             [
              0.0,
              "#0d0887"
             ],
             [
              0.1111111111111111,
              "#46039f"
             ],
             [
              0.2222222222222222,
              "#7201a8"
             ],
             [
              0.3333333333333333,
              "#9c179e"
             ],
             [
              0.4444444444444444,
              "#bd3786"
             ],
             [
              0.5555555555555556,
              "#d8576b"
             ],
             [
              0.6666666666666666,
              "#ed7953"
             ],
             [
              0.7777777777777778,
              "#fb9f3a"
             ],
             [
              0.8888888888888888,
              "#fdca26"
             ],
             [
              1.0,
              "#f0f921"
             ]
            ]
           }
          ],
          "choropleth": [
           {
            "type": "choropleth",
            "colorbar": {
             "outlinewidth": 0,
             "ticks": ""
            }
           }
          ],
          "histogram2d": [
           {
            "type": "histogram2d",
            "colorbar": {
             "outlinewidth": 0,
             "ticks": ""
            },
            "colorscale": [
             [
              0.0,
              "#0d0887"
             ],
             [
              0.1111111111111111,
              "#46039f"
             ],
             [
              0.2222222222222222,
              "#7201a8"
             ],
             [
              0.3333333333333333,
              "#9c179e"
             ],
             [
              0.4444444444444444,
              "#bd3786"
             ],
             [
              0.5555555555555556,
              "#d8576b"
             ],
             [
              0.6666666666666666,
              "#ed7953"
             ],
             [
              0.7777777777777778,
              "#fb9f3a"
             ],
             [
              0.8888888888888888,
              "#fdca26"
             ],
             [
              1.0,
              "#f0f921"
             ]
            ]
           }
          ],
          "heatmap": [
           {
            "type": "heatmap",
            "colorbar": {
             "outlinewidth": 0,
             "ticks": ""
            },
            "colorscale": [
             [
              0.0,
              "#0d0887"
             ],
             [
              0.1111111111111111,
              "#46039f"
             ],
             [
              0.2222222222222222,
              "#7201a8"
             ],
             [
              0.3333333333333333,
              "#9c179e"
             ],
             [
              0.4444444444444444,
              "#bd3786"
             ],
             [
              0.5555555555555556,
              "#d8576b"
             ],
             [
              0.6666666666666666,
              "#ed7953"
             ],
             [
              0.7777777777777778,
              "#fb9f3a"
             ],
             [
              0.8888888888888888,
              "#fdca26"
             ],
             [
              1.0,
              "#f0f921"
             ]
            ]
           }
          ],
          "contourcarpet": [
           {
            "type": "contourcarpet",
            "colorbar": {
             "outlinewidth": 0,
             "ticks": ""
            }
           }
          ],
          "contour": [
           {
            "type": "contour",
            "colorbar": {
             "outlinewidth": 0,
             "ticks": ""
            },
            "colorscale": [
             [
              0.0,
              "#0d0887"
             ],
             [
              0.1111111111111111,
              "#46039f"
             ],
             [
              0.2222222222222222,
              "#7201a8"
             ],
             [
              0.3333333333333333,
              "#9c179e"
             ],
             [
              0.4444444444444444,
              "#bd3786"
             ],
             [
              0.5555555555555556,
              "#d8576b"
             ],
             [
              0.6666666666666666,
              "#ed7953"
             ],
             [
              0.7777777777777778,
              "#fb9f3a"
             ],
             [
              0.8888888888888888,
              "#fdca26"
             ],
             [
              1.0,
              "#f0f921"
             ]
            ]
           }
          ],
          "surface": [
           {
            "type": "surface",
            "colorbar": {
             "outlinewidth": 0,
             "ticks": ""
            },
            "colorscale": [
             [
              0.0,
              "#0d0887"
             ],
             [
              0.1111111111111111,
              "#46039f"
             ],
             [
              0.2222222222222222,
              "#7201a8"
             ],
             [
              0.3333333333333333,
              "#9c179e"
             ],
             [
              0.4444444444444444,
              "#bd3786"
             ],
             [
              0.5555555555555556,
              "#d8576b"
             ],
             [
              0.6666666666666666,
              "#ed7953"
             ],
             [
              0.7777777777777778,
              "#fb9f3a"
             ],
             [
              0.8888888888888888,
              "#fdca26"
             ],
             [
              1.0,
              "#f0f921"
             ]
            ]
           }
          ],
          "mesh3d": [
           {
            "type": "mesh3d",
            "colorbar": {
             "outlinewidth": 0,
             "ticks": ""
            }
           }
          ],
          "scatter": [
           {
            "marker": {
             "line": {
              "color": "#283442"
             }
            },
            "type": "scatter"
           }
          ],
          "parcoords": [
           {
            "type": "parcoords",
            "line": {
             "colorbar": {
              "outlinewidth": 0,
              "ticks": ""
             }
            }
           }
          ],
          "scatterpolargl": [
           {
            "type": "scatterpolargl",
            "marker": {
             "colorbar": {
              "outlinewidth": 0,
              "ticks": ""
             }
            }
           }
          ],
          "bar": [
           {
            "error_x": {
             "color": "#f2f5fa"
            },
            "error_y": {
             "color": "#f2f5fa"
            },
            "marker": {
             "line": {
              "color": "rgb(17,17,17)",
              "width": 0.5
             },
             "pattern": {
              "fillmode": "overlay",
              "size": 10,
              "solidity": 0.2
             }
            },
            "type": "bar"
           }
          ],
          "scattergeo": [
           {
            "type": "scattergeo",
            "marker": {
             "colorbar": {
              "outlinewidth": 0,
              "ticks": ""
             }
            }
           }
          ],
          "scatterpolar": [
           {
            "type": "scatterpolar",
            "marker": {
             "colorbar": {
              "outlinewidth": 0,
              "ticks": ""
             }
            }
           }
          ],
          "histogram": [
           {
            "marker": {
             "pattern": {
              "fillmode": "overlay",
              "size": 10,
              "solidity": 0.2
             }
            },
            "type": "histogram"
           }
          ],
          "scattergl": [
           {
            "marker": {
             "line": {
              "color": "#283442"
             }
            },
            "type": "scattergl"
           }
          ],
          "scatter3d": [
           {
            "type": "scatter3d",
            "line": {
             "colorbar": {
              "outlinewidth": 0,
              "ticks": ""
             }
            },
            "marker": {
             "colorbar": {
              "outlinewidth": 0,
              "ticks": ""
             }
            }
           }
          ],
          "scattermap": [
           {
            "type": "scattermap",
            "marker": {
             "colorbar": {
              "outlinewidth": 0,
              "ticks": ""
             }
            }
           }
          ],
          "scattermapbox": [
           {
            "type": "scattermapbox",
            "marker": {
             "colorbar": {
              "outlinewidth": 0,
              "ticks": ""
             }
            }
           }
          ],
          "scatterternary": [
           {
            "type": "scatterternary",
            "marker": {
             "colorbar": {
              "outlinewidth": 0,
              "ticks": ""
             }
            }
           }
          ],
          "scattercarpet": [
           {
            "type": "scattercarpet",
            "marker": {
             "colorbar": {
              "outlinewidth": 0,
              "ticks": ""
             }
            }
           }
          ],
          "carpet": [
           {
            "aaxis": {
             "endlinecolor": "#A2B1C6",
             "gridcolor": "#506784",
             "linecolor": "#506784",
             "minorgridcolor": "#506784",
             "startlinecolor": "#A2B1C6"
            },
            "baxis": {
             "endlinecolor": "#A2B1C6",
             "gridcolor": "#506784",
             "linecolor": "#506784",
             "minorgridcolor": "#506784",
             "startlinecolor": "#A2B1C6"
            },
            "type": "carpet"
           }
          ],
          "table": [
           {
            "cells": {
             "fill": {
              "color": "#506784"
             },
             "line": {
              "color": "rgb(17,17,17)"
             }
            },
            "header": {
             "fill": {
              "color": "#2a3f5f"
             },
             "line": {
              "color": "rgb(17,17,17)"
             }
            },
            "type": "table"
           }
          ],
          "barpolar": [
           {
            "marker": {
             "line": {
              "color": "rgb(17,17,17)",
              "width": 0.5
             },
             "pattern": {
              "fillmode": "overlay",
              "size": 10,
              "solidity": 0.2
             }
            },
            "type": "barpolar"
           }
          ],
          "pie": [
           {
            "automargin": true,
            "type": "pie"
           }
          ]
         },
         "layout": {
          "autotypenumbers": "strict",
          "colorway": [
           "#636efa",
           "#EF553B",
           "#00cc96",
           "#ab63fa",
           "#FFA15A",
           "#19d3f3",
           "#FF6692",
           "#B6E880",
           "#FF97FF",
           "#FECB52"
          ],
          "font": {
           "color": "#f2f5fa"
          },
          "hovermode": "closest",
          "hoverlabel": {
           "align": "left"
          },
          "paper_bgcolor": "rgb(17,17,17)",
          "plot_bgcolor": "rgb(17,17,17)",
          "polar": {
           "bgcolor": "rgb(17,17,17)",
           "angularaxis": {
            "gridcolor": "#506784",
            "linecolor": "#506784",
            "ticks": ""
           },
           "radialaxis": {
            "gridcolor": "#506784",
            "linecolor": "#506784",
            "ticks": ""
           }
          },
          "ternary": {
           "bgcolor": "rgb(17,17,17)",
           "aaxis": {
            "gridcolor": "#506784",
            "linecolor": "#506784",
            "ticks": ""
           },
           "baxis": {
            "gridcolor": "#506784",
            "linecolor": "#506784",
            "ticks": ""
           },
           "caxis": {
            "gridcolor": "#506784",
            "linecolor": "#506784",
            "ticks": ""
           }
          },
          "coloraxis": {
           "colorbar": {
            "outlinewidth": 0,
            "ticks": ""
           }
          },
          "colorscale": {
           "sequential": [
            [
             0.0,
             "#0d0887"
            ],
            [
             0.1111111111111111,
             "#46039f"
            ],
            [
             0.2222222222222222,
             "#7201a8"
            ],
            [
             0.3333333333333333,
             "#9c179e"
            ],
            [
             0.4444444444444444,
             "#bd3786"
            ],
            [
             0.5555555555555556,
             "#d8576b"
            ],
            [
             0.6666666666666666,
             "#ed7953"
            ],
            [
             0.7777777777777778,
             "#fb9f3a"
            ],
            [
             0.8888888888888888,
             "#fdca26"
            ],
            [
             1.0,
             "#f0f921"
            ]
           ],
           "sequentialminus": [
            [
             0.0,
             "#0d0887"
            ],
            [
             0.1111111111111111,
             "#46039f"
            ],
            [
             0.2222222222222222,
             "#7201a8"
            ],
            [
             0.3333333333333333,
             "#9c179e"
            ],
            [
             0.4444444444444444,
             "#bd3786"
            ],
            [
             0.5555555555555556,
             "#d8576b"
            ],
            [
             0.6666666666666666,
             "#ed7953"
            ],
            [
             0.7777777777777778,
             "#fb9f3a"
            ],
            [
             0.8888888888888888,
             "#fdca26"
            ],
            [
             1.0,
             "#f0f921"
            ]
           ],
           "diverging": [
            [
             0,
             "#8e0152"
            ],
            [
             0.1,
             "#c51b7d"
            ],
            [
             0.2,
             "#de77ae"
            ],
            [
             0.3,
             "#f1b6da"
            ],
            [
             0.4,
             "#fde0ef"
            ],
            [
             0.5,
             "#f7f7f7"
            ],
            [
             0.6,
             "#e6f5d0"
            ],
            [
             0.7,
             "#b8e186"
            ],
            [
             0.8,
             "#7fbc41"
            ],
            [
             0.9,
             "#4d9221"
            ],
            [
             1,
             "#276419"
            ]
           ]
          },
          "xaxis": {
           "gridcolor": "#283442",
           "linecolor": "#506784",
           "ticks": "",
           "title": {
            "standoff": 15
           },
           "zerolinecolor": "#283442",
           "automargin": true,
           "zerolinewidth": 2
          },
          "yaxis": {
           "gridcolor": "#283442",
           "linecolor": "#506784",
           "ticks": "",
           "title": {
            "standoff": 15
           },
           "zerolinecolor": "#283442",
           "automargin": true,
           "zerolinewidth": 2
          },
          "scene": {
           "xaxis": {
            "backgroundcolor": "rgb(17,17,17)",
            "gridcolor": "#506784",
            "linecolor": "#506784",
            "showbackground": true,
            "ticks": "",
            "zerolinecolor": "#C8D4E3",
            "gridwidth": 2
           },
           "yaxis": {
            "backgroundcolor": "rgb(17,17,17)",
            "gridcolor": "#506784",
            "linecolor": "#506784",
            "showbackground": true,
            "ticks": "",
            "zerolinecolor": "#C8D4E3",
            "gridwidth": 2
           },
           "zaxis": {
            "backgroundcolor": "rgb(17,17,17)",
            "gridcolor": "#506784",
            "linecolor": "#506784",
            "showbackground": true,
            "ticks": "",
            "zerolinecolor": "#C8D4E3",
            "gridwidth": 2
           }
          },
          "shapedefaults": {
           "line": {
            "color": "#f2f5fa"
           }
          },
          "annotationdefaults": {
           "arrowcolor": "#f2f5fa",
           "arrowhead": 0,
           "arrowwidth": 1
          },
          "geo": {
           "bgcolor": "rgb(17,17,17)",
           "landcolor": "rgb(17,17,17)",
           "subunitcolor": "#506784",
           "showland": true,
           "showlakes": true,
           "lakecolor": "rgb(17,17,17)"
          },
          "title": {
           "x": 0.05
          },
          "updatemenudefaults": {
           "bgcolor": "#506784",
           "borderwidth": 0
          },
          "sliderdefaults": {
           "bgcolor": "#C8D4E3",
           "borderwidth": 1,
           "bordercolor": "rgb(17,17,17)",
           "tickwidth": 0
          },
          "mapbox": {
           "style": "dark"
          }
         }
        },
        "xaxis": {
         "anchor": "y",
         "domain": [
          0.0,
          1.0
         ],
         "title": {
          "text": "months_since_first_donation"
         }
        },
        "yaxis": {
         "anchor": "x",
         "domain": [
          0.0,
          1.0
         ],
         "title": {
          "text": "count"
         }
        },
        "legend": {
         "title": {
          "text": "class"
         },
         "tracegroupgap": 0
        },
        "margin": {
         "t": 60
        },
        "barmode": "relative"
       },
       "config": {
        "plotlyServerURL": "https://plot.ly"
       }
      }
     },
     "metadata": {},
     "output_type": "display_data"
    },
    {
     "data": {
      "application/vnd.plotly.v1+json": {
       "data": [
        {
         "hovertemplate": "months_since_last_donation=%{x}<br>total_number_of_donations=%{y}<br>class=%{marker.color}<extra></extra>",
         "legendgroup": "",
         "marker": {
          "color": {
           "dtype": "i1",
           "bdata": "AQEBAQAAAQABAQAAAQABAQEBAQEBAAEBAAAAAQEAAAEBAQABAQEBAQEAAQABAQAAAAAAAQAAAQEBAQAAAAEAAQEAAQAAAAAAAQABAQEAAAABAAAAAQAAAAABAQAAAAAAAAEBAQEBAAAAAAAAAAABAAABAAABAAABAQEBAQAAAQABAQAAAAAAAAAAAAAAAAAAAQEAAAEAAQAAAQAAAAAAAAAAAAEBAQAAAAAAAAAAAAABAQEAAQAAAAAAAAAAAQAAAAAAAQEAAAAAAAEAAAAAAAAAAAAAAAABAAAAAAABAQABAQAAAAAAAQAAAAAAAAAAAQABAQAAAAAAAAAAAQEAAAAAAAAAAQABAAEAAAAAAAAAAAAAAAAAAAABAAAAAAABAQEBAAAAAAAAAAAAAAAAAAABAAAAAAAAAAAAAAAAAQAAAQABAAAAAAEAAAABAQABAAABAAAAAAAAAAAAAAAAAAAAAAAAAAAAAAAAAAABAAAAAQEAAAAAAQAAAAAAAAAAAAAAAAAAAAAAAAAAAQAAAQAAAAAAAAAAAAAAAAAAAAAAAAAAAAAAAAAAAAAAAAAAAQAAAAAAAAAAAAAAAAAAAAAAAAAAAAAAAAAAAAAAAQAAAAAAAQAAAAAAAAEAAAAAAAAAAAAAAAAAAAAAAAAAAAAAAAABAQEAAQEBAAEBAQAAAAEAAQEBAQEBAQEAAAEAAAEBAQAAAAEBAQEBAQABAQABAAABAQABAQAAAAAAAAABAAEAAAAAAAEAAAABAAEBAQAAAAABAAAAAAEAAAAAAAABAAABAAAAAAAAAAAAAAAAAAAAAQAAAAAAAQAAAAEAAQAAAAAAAAAAAAAAAAAAAQEAAAABAAAAAAAAAAAAAAAAAAAAAAAAAAAAAAEAAQAAAAAAAAAAAAABAAAAAAAAAAAAAAAAAAABAAAAAAAAAAAAAAAAAQAAAAEAAAAAAAAAAAAAAAAAAAAAAAAAAQAAAAAAAAAAAAAAAAAAAA=="
          },
          "coloraxis": "coloraxis",
          "symbol": "circle"
         },
         "mode": "markers",
         "name": "",
         "orientation": "v",
         "showlegend": false,
         "x": {
          "dtype": "f8",
          "bdata": "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"
         },
         "xaxis": "x",
         "y": {
          "dtype": "f8",
          "bdata": "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"
         },
         "yaxis": "y",
         "type": "scatter"
        }
       ],
       "layout": {
        "template": {
         "data": {
          "histogram2dcontour": [
           {
            "type": "histogram2dcontour",
            "colorbar": {
             "outlinewidth": 0,
             "ticks": ""
            },
            "colorscale": [
             [
              0.0,
              "#0d0887"
             ],
             [
              0.1111111111111111,
              "#46039f"
             ],
             [
              0.2222222222222222,
              "#7201a8"
             ],
             [
              0.3333333333333333,
              "#9c179e"
             ],
             [
              0.4444444444444444,
              "#bd3786"
             ],
             [
              0.5555555555555556,
              "#d8576b"
             ],
             [
              0.6666666666666666,
              "#ed7953"
             ],
             [
              0.7777777777777778,
              "#fb9f3a"
             ],
             [
              0.8888888888888888,
              "#fdca26"
             ],
             [
              1.0,
              "#f0f921"
             ]
            ]
           }
          ],
          "choropleth": [
           {
            "type": "choropleth",
            "colorbar": {
             "outlinewidth": 0,
             "ticks": ""
            }
           }
          ],
          "histogram2d": [
           {
            "type": "histogram2d",
            "colorbar": {
             "outlinewidth": 0,
             "ticks": ""
            },
            "colorscale": [
             [
              0.0,
              "#0d0887"
             ],
             [
              0.1111111111111111,
              "#46039f"
             ],
             [
              0.2222222222222222,
              "#7201a8"
             ],
             [
              0.3333333333333333,
              "#9c179e"
             ],
             [
              0.4444444444444444,
              "#bd3786"
             ],
             [
              0.5555555555555556,
              "#d8576b"
             ],
             [
              0.6666666666666666,
              "#ed7953"
             ],
             [
              0.7777777777777778,
              "#fb9f3a"
             ],
             [
              0.8888888888888888,
              "#fdca26"
             ],
             [
              1.0,
              "#f0f921"
             ]
            ]
           }
          ],
          "heatmap": [
           {
            "type": "heatmap",
            "colorbar": {
             "outlinewidth": 0,
             "ticks": ""
            },
            "colorscale": [
             [
              0.0,
              "#0d0887"
             ],
             [
              0.1111111111111111,
              "#46039f"
             ],
             [
              0.2222222222222222,
              "#7201a8"
             ],
             [
              0.3333333333333333,
              "#9c179e"
             ],
             [
              0.4444444444444444,
              "#bd3786"
             ],
             [
              0.5555555555555556,
              "#d8576b"
             ],
             [
              0.6666666666666666,
              "#ed7953"
             ],
             [
              0.7777777777777778,
              "#fb9f3a"
             ],
             [
              0.8888888888888888,
              "#fdca26"
             ],
             [
              1.0,
              "#f0f921"
             ]
            ]
           }
          ],
          "contourcarpet": [
           {
            "type": "contourcarpet",
            "colorbar": {
             "outlinewidth": 0,
             "ticks": ""
            }
           }
          ],
          "contour": [
           {
            "type": "contour",
            "colorbar": {
             "outlinewidth": 0,
             "ticks": ""
            },
            "colorscale": [
             [
              0.0,
              "#0d0887"
             ],
             [
              0.1111111111111111,
              "#46039f"
             ],
             [
              0.2222222222222222,
              "#7201a8"
             ],
             [
              0.3333333333333333,
              "#9c179e"
             ],
             [
              0.4444444444444444,
              "#bd3786"
             ],
             [
              0.5555555555555556,
              "#d8576b"
             ],
             [
              0.6666666666666666,
              "#ed7953"
             ],
             [
              0.7777777777777778,
              "#fb9f3a"
             ],
             [
              0.8888888888888888,
              "#fdca26"
             ],
             [
              1.0,
              "#f0f921"
             ]
            ]
           }
          ],
          "surface": [
           {
            "type": "surface",
            "colorbar": {
             "outlinewidth": 0,
             "ticks": ""
            },
            "colorscale": [
             [
              0.0,
              "#0d0887"
             ],
             [
              0.1111111111111111,
              "#46039f"
             ],
             [
              0.2222222222222222,
              "#7201a8"
             ],
             [
              0.3333333333333333,
              "#9c179e"
             ],
             [
              0.4444444444444444,
              "#bd3786"
             ],
             [
              0.5555555555555556,
              "#d8576b"
             ],
             [
              0.6666666666666666,
              "#ed7953"
             ],
             [
              0.7777777777777778,
              "#fb9f3a"
             ],
             [
              0.8888888888888888,
              "#fdca26"
             ],
             [
              1.0,
              "#f0f921"
             ]
            ]
           }
          ],
          "mesh3d": [
           {
            "type": "mesh3d",
            "colorbar": {
             "outlinewidth": 0,
             "ticks": ""
            }
           }
          ],
          "scatter": [
           {
            "marker": {
             "line": {
              "color": "#283442"
             }
            },
            "type": "scatter"
           }
          ],
          "parcoords": [
           {
            "type": "parcoords",
            "line": {
             "colorbar": {
              "outlinewidth": 0,
              "ticks": ""
             }
            }
           }
          ],
          "scatterpolargl": [
           {
            "type": "scatterpolargl",
            "marker": {
             "colorbar": {
              "outlinewidth": 0,
              "ticks": ""
             }
            }
           }
          ],
          "bar": [
           {
            "error_x": {
             "color": "#f2f5fa"
            },
            "error_y": {
             "color": "#f2f5fa"
            },
            "marker": {
             "line": {
              "color": "rgb(17,17,17)",
              "width": 0.5
             },
             "pattern": {
              "fillmode": "overlay",
              "size": 10,
              "solidity": 0.2
             }
            },
            "type": "bar"
           }
          ],
          "scattergeo": [
           {
            "type": "scattergeo",
            "marker": {
             "colorbar": {
              "outlinewidth": 0,
              "ticks": ""
             }
            }
           }
          ],
          "scatterpolar": [
           {
            "type": "scatterpolar",
            "marker": {
             "colorbar": {
              "outlinewidth": 0,
              "ticks": ""
             }
            }
           }
          ],
          "histogram": [
           {
            "marker": {
             "pattern": {
              "fillmode": "overlay",
              "size": 10,
              "solidity": 0.2
             }
            },
            "type": "histogram"
           }
          ],
          "scattergl": [
           {
            "marker": {
             "line": {
              "color": "#283442"
             }
            },
            "type": "scattergl"
           }
          ],
          "scatter3d": [
           {
            "type": "scatter3d",
            "line": {
             "colorbar": {
              "outlinewidth": 0,
              "ticks": ""
             }
            },
            "marker": {
             "colorbar": {
              "outlinewidth": 0,
              "ticks": ""
             }
            }
           }
          ],
          "scattermap": [
           {
            "type": "scattermap",
            "marker": {
             "colorbar": {
              "outlinewidth": 0,
              "ticks": ""
             }
            }
           }
          ],
          "scattermapbox": [
           {
            "type": "scattermapbox",
            "marker": {
             "colorbar": {
              "outlinewidth": 0,
              "ticks": ""
             }
            }
           }
          ],
          "scatterternary": [
           {
            "type": "scatterternary",
            "marker": {
             "colorbar": {
              "outlinewidth": 0,
              "ticks": ""
             }
            }
           }
          ],
          "scattercarpet": [
           {
            "type": "scattercarpet",
            "marker": {
             "colorbar": {
              "outlinewidth": 0,
              "ticks": ""
             }
            }
           }
          ],
          "carpet": [
           {
            "aaxis": {
             "endlinecolor": "#A2B1C6",
             "gridcolor": "#506784",
             "linecolor": "#506784",
             "minorgridcolor": "#506784",
             "startlinecolor": "#A2B1C6"
            },
            "baxis": {
             "endlinecolor": "#A2B1C6",
             "gridcolor": "#506784",
             "linecolor": "#506784",
             "minorgridcolor": "#506784",
             "startlinecolor": "#A2B1C6"
            },
            "type": "carpet"
           }
          ],
          "table": [
           {
            "cells": {
             "fill": {
              "color": "#506784"
             },
             "line": {
              "color": "rgb(17,17,17)"
             }
            },
            "header": {
             "fill": {
              "color": "#2a3f5f"
             },
             "line": {
              "color": "rgb(17,17,17)"
             }
            },
            "type": "table"
           }
          ],
          "barpolar": [
           {
            "marker": {
             "line": {
              "color": "rgb(17,17,17)",
              "width": 0.5
             },
             "pattern": {
              "fillmode": "overlay",
              "size": 10,
              "solidity": 0.2
             }
            },
            "type": "barpolar"
           }
          ],
          "pie": [
           {
            "automargin": true,
            "type": "pie"
           }
          ]
         },
         "layout": {
          "autotypenumbers": "strict",
          "colorway": [
           "#636efa",
           "#EF553B",
           "#00cc96",
           "#ab63fa",
           "#FFA15A",
           "#19d3f3",
           "#FF6692",
           "#B6E880",
           "#FF97FF",
           "#FECB52"
          ],
          "font": {
           "color": "#f2f5fa"
          },
          "hovermode": "closest",
          "hoverlabel": {
           "align": "left"
          },
          "paper_bgcolor": "rgb(17,17,17)",
          "plot_bgcolor": "rgb(17,17,17)",
          "polar": {
           "bgcolor": "rgb(17,17,17)",
           "angularaxis": {
            "gridcolor": "#506784",
            "linecolor": "#506784",
            "ticks": ""
           },
           "radialaxis": {
            "gridcolor": "#506784",
            "linecolor": "#506784",
            "ticks": ""
           }
          },
          "ternary": {
           "bgcolor": "rgb(17,17,17)",
           "aaxis": {
            "gridcolor": "#506784",
            "linecolor": "#506784",
            "ticks": ""
           },
           "baxis": {
            "gridcolor": "#506784",
            "linecolor": "#506784",
            "ticks": ""
           },
           "caxis": {
            "gridcolor": "#506784",
            "linecolor": "#506784",
            "ticks": ""
           }
          },
          "coloraxis": {
           "colorbar": {
            "outlinewidth": 0,
            "ticks": ""
           }
          },
          "colorscale": {
           "sequential": [
            [
             0.0,
             "#0d0887"
            ],
            [
             0.1111111111111111,
             "#46039f"
            ],
            [
             0.2222222222222222,
             "#7201a8"
            ],
            [
             0.3333333333333333,
             "#9c179e"
            ],
            [
             0.4444444444444444,
             "#bd3786"
            ],
            [
             0.5555555555555556,
             "#d8576b"
            ],
            [
             0.6666666666666666,
             "#ed7953"
            ],
            [
             0.7777777777777778,
             "#fb9f3a"
            ],
            [
             0.8888888888888888,
             "#fdca26"
            ],
            [
             1.0,
             "#f0f921"
            ]
           ],
           "sequentialminus": [
            [
             0.0,
             "#0d0887"
            ],
            [
             0.1111111111111111,
             "#46039f"
            ],
            [
             0.2222222222222222,
             "#7201a8"
            ],
            [
             0.3333333333333333,
             "#9c179e"
            ],
            [
             0.4444444444444444,
             "#bd3786"
            ],
            [
             0.5555555555555556,
             "#d8576b"
            ],
            [
             0.6666666666666666,
             "#ed7953"
            ],
            [
             0.7777777777777778,
             "#fb9f3a"
            ],
            [
             0.8888888888888888,
             "#fdca26"
            ],
            [
             1.0,
             "#f0f921"
            ]
           ],
           "diverging": [
            [
             0,
             "#8e0152"
            ],
            [
             0.1,
             "#c51b7d"
            ],
            [
             0.2,
             "#de77ae"
            ],
            [
             0.3,
             "#f1b6da"
            ],
            [
             0.4,
             "#fde0ef"
            ],
            [
             0.5,
             "#f7f7f7"
            ],
            [
             0.6,
             "#e6f5d0"
            ],
            [
             0.7,
             "#b8e186"
            ],
            [
             0.8,
             "#7fbc41"
            ],
            [
             0.9,
             "#4d9221"
            ],
            [
             1,
             "#276419"
            ]
           ]
          },
          "xaxis": {
           "gridcolor": "#283442",
           "linecolor": "#506784",
           "ticks": "",
           "title": {
            "standoff": 15
           },
           "zerolinecolor": "#283442",
           "automargin": true,
           "zerolinewidth": 2
          },
          "yaxis": {
           "gridcolor": "#283442",
           "linecolor": "#506784",
           "ticks": "",
           "title": {
            "standoff": 15
           },
           "zerolinecolor": "#283442",
           "automargin": true,
           "zerolinewidth": 2
          },
          "scene": {
           "xaxis": {
            "backgroundcolor": "rgb(17,17,17)",
            "gridcolor": "#506784",
            "linecolor": "#506784",
            "showbackground": true,
            "ticks": "",
            "zerolinecolor": "#C8D4E3",
            "gridwidth": 2
           },
           "yaxis": {
            "backgroundcolor": "rgb(17,17,17)",
            "gridcolor": "#506784",
            "linecolor": "#506784",
            "showbackground": true,
            "ticks": "",
            "zerolinecolor": "#C8D4E3",
            "gridwidth": 2
           },
           "zaxis": {
            "backgroundcolor": "rgb(17,17,17)",
            "gridcolor": "#506784",
            "linecolor": "#506784",
            "showbackground": true,
            "ticks": "",
            "zerolinecolor": "#C8D4E3",
            "gridwidth": 2
           }
          },
          "shapedefaults": {
           "line": {
            "color": "#f2f5fa"
           }
          },
          "annotationdefaults": {
           "arrowcolor": "#f2f5fa",
           "arrowhead": 0,
           "arrowwidth": 1
          },
          "geo": {
           "bgcolor": "rgb(17,17,17)",
           "landcolor": "rgb(17,17,17)",
           "subunitcolor": "#506784",
           "showland": true,
           "showlakes": true,
           "lakecolor": "rgb(17,17,17)"
          },
          "title": {
           "x": 0.05
          },
          "updatemenudefaults": {
           "bgcolor": "#506784",
           "borderwidth": 0
          },
          "sliderdefaults": {
           "bgcolor": "#C8D4E3",
           "borderwidth": 1,
           "bordercolor": "rgb(17,17,17)",
           "tickwidth": 0
          },
          "mapbox": {
           "style": "dark"
          }
         }
        },
        "xaxis": {
         "anchor": "y",
         "domain": [
          0.0,
          1.0
         ],
         "title": {
          "text": "months_since_last_donation"
         }
        },
        "yaxis": {
         "anchor": "x",
         "domain": [
          0.0,
          1.0
         ],
         "title": {
          "text": "total_number_of_donations"
         }
        },
        "coloraxis": {
         "colorbar": {
          "title": {
           "text": "class"
          }
         },
         "colorscale": [
          [
           0.0,
           "#0d0887"
          ],
          [
           0.1111111111111111,
           "#46039f"
          ],
          [
           0.2222222222222222,
           "#7201a8"
          ],
          [
           0.3333333333333333,
           "#9c179e"
          ],
          [
           0.4444444444444444,
           "#bd3786"
          ],
          [
           0.5555555555555556,
           "#d8576b"
          ],
          [
           0.6666666666666666,
           "#ed7953"
          ],
          [
           0.7777777777777778,
           "#fb9f3a"
          ],
          [
           0.8888888888888888,
           "#fdca26"
          ],
          [
           1.0,
           "#f0f921"
          ]
         ]
        },
        "legend": {
         "tracegroupgap": 0
        },
        "margin": {
         "t": 60
        }
       },
       "config": {
        "plotlyServerURL": "https://plot.ly"
       }
      }
     },
     "metadata": {},
     "output_type": "display_data"
    },
    {
     "data": {
      "application/vnd.plotly.v1+json": {
       "data": [
        {
         "hovertemplate": "months_since_last_donation=%{x}<br>total_number_of_donations=%{y}<br>class=%{marker.color}<extra></extra>",
         "legendgroup": "",
         "marker": {
          "color": {
           "dtype": "i1",
           "bdata": "AQEBAQAAAQABAQAAAQABAQEBAQEBAAEBAAAAAQEAAAEBAQABAQEBAQEAAQABAQAAAAAAAQAAAQEBAQAAAAEAAQEAAQAAAAAAAQABAQEAAAABAAAAAQAAAAABAQAAAAAAAAEBAQEBAAAAAAAAAAABAAABAAABAAABAQEBAQAAAQABAQAAAAAAAAAAAAAAAAAAAQEAAAEAAQAAAQAAAAAAAAAAAAEBAQAAAAAAAAAAAAABAQEAAQAAAAAAAAAAAQAAAAAAAQEAAAAAAAEAAAAAAAAAAAAAAAABAAAAAAABAQABAQAAAAAAAQAAAAAAAAAAAQABAQAAAAAAAAAAAQEAAAAAAAAAAQABAAEAAAAAAAAAAAAAAAAAAAABAAAAAAABAQEBAAAAAAAAAAAAAAAAAAABAAAAAAAAAAAAAAAAAQAAAQABAAAAAAEAAAABAQABAAABAAAAAAAAAAAAAAAAAAAAAAAAAAAAAAAAAAABAAAAAQEAAAAAAQAAAAAAAAAAAAAAAAAAAAAAAAAAAQAAAQAAAAAAAAAAAAAAAAAAAAAAAAAAAAAAAAAAAAAAAAAAAQAAAAAAAAAAAAAAAAAAAAAAAAAAAAAAAAAAAAAAAQAAAAAAAQAAAAAAAAEAAAAAAAAAAAAAAAAAAAAAAAAAAAAAAAABAQEAAQEBAAEBAQAAAAEAAQEBAQEBAQEAAAEAAAEBAQAAAAEBAQEBAQABAQABAAABAQABAQAAAAAAAAABAAEAAAAAAAEAAAABAAEBAQAAAAABAAAAAAEAAAAAAAABAAABAAAAAAAAAAAAAAAAAAAAAQAAAAAAAQAAAAEAAQAAAAAAAAAAAAAAAAAAAQEAAAABAAAAAAAAAAAAAAAAAAAAAAAAAAAAAAEAAQAAAAAAAAAAAAABAAAAAAAAAAAAAAAAAAABAAAAAAAAAAAAAAAAAQAAAAEAAAAAAAAAAAAAAAAAAAAAAAAAAQAAAAAAAAAAAAAAAAAAAA=="
          },
          "coloraxis": "coloraxis",
          "symbol": "circle"
         },
         "mode": "markers",
         "name": "",
         "orientation": "v",
         "showlegend": false,
         "x": {
          "dtype": "f8",
          "bdata": "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"
         },
         "xaxis": "x",
         "y": {
          "dtype": "f8",
          "bdata": "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"
         },
         "yaxis": "y",
         "type": "scatter"
        }
       ],
       "layout": {
        "template": {
         "data": {
          "histogram2dcontour": [
           {
            "type": "histogram2dcontour",
            "colorbar": {
             "outlinewidth": 0,
             "ticks": ""
            },
            "colorscale": [
             [
              0.0,
              "#0d0887"
             ],
             [
              0.1111111111111111,
              "#46039f"
             ],
             [
              0.2222222222222222,
              "#7201a8"
             ],
             [
              0.3333333333333333,
              "#9c179e"
             ],
             [
              0.4444444444444444,
              "#bd3786"
             ],
             [
              0.5555555555555556,
              "#d8576b"
             ],
             [
              0.6666666666666666,
              "#ed7953"
             ],
             [
              0.7777777777777778,
              "#fb9f3a"
             ],
             [
              0.8888888888888888,
              "#fdca26"
             ],
             [
              1.0,
              "#f0f921"
             ]
            ]
           }
          ],
          "choropleth": [
           {
            "type": "choropleth",
            "colorbar": {
             "outlinewidth": 0,
             "ticks": ""
            }
           }
          ],
          "histogram2d": [
           {
            "type": "histogram2d",
            "colorbar": {
             "outlinewidth": 0,
             "ticks": ""
            },
            "colorscale": [
             [
              0.0,
              "#0d0887"
             ],
             [
              0.1111111111111111,
              "#46039f"
             ],
             [
              0.2222222222222222,
              "#7201a8"
             ],
             [
              0.3333333333333333,
              "#9c179e"
             ],
             [
              0.4444444444444444,
              "#bd3786"
             ],
             [
              0.5555555555555556,
              "#d8576b"
             ],
             [
              0.6666666666666666,
              "#ed7953"
             ],
             [
              0.7777777777777778,
              "#fb9f3a"
             ],
             [
              0.8888888888888888,
              "#fdca26"
             ],
             [
              1.0,
              "#f0f921"
             ]
            ]
           }
          ],
          "heatmap": [
           {
            "type": "heatmap",
            "colorbar": {
             "outlinewidth": 0,
             "ticks": ""
            },
            "colorscale": [
             [
              0.0,
              "#0d0887"
             ],
             [
              0.1111111111111111,
              "#46039f"
             ],
             [
              0.2222222222222222,
              "#7201a8"
             ],
             [
              0.3333333333333333,
              "#9c179e"
             ],
             [
              0.4444444444444444,
              "#bd3786"
             ],
             [
              0.5555555555555556,
              "#d8576b"
             ],
             [
              0.6666666666666666,
              "#ed7953"
             ],
             [
              0.7777777777777778,
              "#fb9f3a"
             ],
             [
              0.8888888888888888,
              "#fdca26"
             ],
             [
              1.0,
              "#f0f921"
             ]
            ]
           }
          ],
          "contourcarpet": [
           {
            "type": "contourcarpet",
            "colorbar": {
             "outlinewidth": 0,
             "ticks": ""
            }
           }
          ],
          "contour": [
           {
            "type": "contour",
            "colorbar": {
             "outlinewidth": 0,
             "ticks": ""
            },
            "colorscale": [
             [
              0.0,
              "#0d0887"
             ],
             [
              0.1111111111111111,
              "#46039f"
             ],
             [
              0.2222222222222222,
              "#7201a8"
             ],
             [
              0.3333333333333333,
              "#9c179e"
             ],
             [
              0.4444444444444444,
              "#bd3786"
             ],
             [
              0.5555555555555556,
              "#d8576b"
             ],
             [
              0.6666666666666666,
              "#ed7953"
             ],
             [
              0.7777777777777778,
              "#fb9f3a"
             ],
             [
              0.8888888888888888,
              "#fdca26"
             ],
             [
              1.0,
              "#f0f921"
             ]
            ]
           }
          ],
          "surface": [
           {
            "type": "surface",
            "colorbar": {
             "outlinewidth": 0,
             "ticks": ""
            },
            "colorscale": [
             [
              0.0,
              "#0d0887"
             ],
             [
              0.1111111111111111,
              "#46039f"
             ],
             [
              0.2222222222222222,
              "#7201a8"
             ],
             [
              0.3333333333333333,
              "#9c179e"
             ],
             [
              0.4444444444444444,
              "#bd3786"
             ],
             [
              0.5555555555555556,
              "#d8576b"
             ],
             [
              0.6666666666666666,
              "#ed7953"
             ],
             [
              0.7777777777777778,
              "#fb9f3a"
             ],
             [
              0.8888888888888888,
              "#fdca26"
             ],
             [
              1.0,
              "#f0f921"
             ]
            ]
           }
          ],
          "mesh3d": [
           {
            "type": "mesh3d",
            "colorbar": {
             "outlinewidth": 0,
             "ticks": ""
            }
           }
          ],
          "scatter": [
           {
            "marker": {
             "line": {
              "color": "#283442"
             }
            },
            "type": "scatter"
           }
          ],
          "parcoords": [
           {
            "type": "parcoords",
            "line": {
             "colorbar": {
              "outlinewidth": 0,
              "ticks": ""
             }
            }
           }
          ],
          "scatterpolargl": [
           {
            "type": "scatterpolargl",
            "marker": {
             "colorbar": {
              "outlinewidth": 0,
              "ticks": ""
             }
            }
           }
          ],
          "bar": [
           {
            "error_x": {
             "color": "#f2f5fa"
            },
            "error_y": {
             "color": "#f2f5fa"
            },
            "marker": {
             "line": {
              "color": "rgb(17,17,17)",
              "width": 0.5
             },
             "pattern": {
              "fillmode": "overlay",
              "size": 10,
              "solidity": 0.2
             }
            },
            "type": "bar"
           }
          ],
          "scattergeo": [
           {
            "type": "scattergeo",
            "marker": {
             "colorbar": {
              "outlinewidth": 0,
              "ticks": ""
             }
            }
           }
          ],
          "scatterpolar": [
           {
            "type": "scatterpolar",
            "marker": {
             "colorbar": {
              "outlinewidth": 0,
              "ticks": ""
             }
            }
           }
          ],
          "histogram": [
           {
            "marker": {
             "pattern": {
              "fillmode": "overlay",
              "size": 10,
              "solidity": 0.2
             }
            },
            "type": "histogram"
           }
          ],
          "scattergl": [
           {
            "marker": {
             "line": {
              "color": "#283442"
             }
            },
            "type": "scattergl"
           }
          ],
          "scatter3d": [
           {
            "type": "scatter3d",
            "line": {
             "colorbar": {
              "outlinewidth": 0,
              "ticks": ""
             }
            },
            "marker": {
             "colorbar": {
              "outlinewidth": 0,
              "ticks": ""
             }
            }
           }
          ],
          "scattermap": [
           {
            "type": "scattermap",
            "marker": {
             "colorbar": {
              "outlinewidth": 0,
              "ticks": ""
             }
            }
           }
          ],
          "scattermapbox": [
           {
            "type": "scattermapbox",
            "marker": {
             "colorbar": {
              "outlinewidth": 0,
              "ticks": ""
             }
            }
           }
          ],
          "scatterternary": [
           {
            "type": "scatterternary",
            "marker": {
             "colorbar": {
              "outlinewidth": 0,
              "ticks": ""
             }
            }
           }
          ],
          "scattercarpet": [
           {
            "type": "scattercarpet",
            "marker": {
             "colorbar": {
              "outlinewidth": 0,
              "ticks": ""
             }
            }
           }
          ],
          "carpet": [
           {
            "aaxis": {
             "endlinecolor": "#A2B1C6",
             "gridcolor": "#506784",
             "linecolor": "#506784",
             "minorgridcolor": "#506784",
             "startlinecolor": "#A2B1C6"
            },
            "baxis": {
             "endlinecolor": "#A2B1C6",
             "gridcolor": "#506784",
             "linecolor": "#506784",
             "minorgridcolor": "#506784",
             "startlinecolor": "#A2B1C6"
            },
            "type": "carpet"
           }
          ],
          "table": [
           {
            "cells": {
             "fill": {
              "color": "#506784"
             },
             "line": {
              "color": "rgb(17,17,17)"
             }
            },
            "header": {
             "fill": {
              "color": "#2a3f5f"
             },
             "line": {
              "color": "rgb(17,17,17)"
             }
            },
            "type": "table"
           }
          ],
          "barpolar": [
           {
            "marker": {
             "line": {
              "color": "rgb(17,17,17)",
              "width": 0.5
             },
             "pattern": {
              "fillmode": "overlay",
              "size": 10,
              "solidity": 0.2
             }
            },
            "type": "barpolar"
           }
          ],
          "pie": [
           {
            "automargin": true,
            "type": "pie"
           }
          ]
         },
         "layout": {
          "autotypenumbers": "strict",
          "colorway": [
           "#636efa",
           "#EF553B",
           "#00cc96",
           "#ab63fa",
           "#FFA15A",
           "#19d3f3",
           "#FF6692",
           "#B6E880",
           "#FF97FF",
           "#FECB52"
          ],
          "font": {
           "color": "#f2f5fa"
          },
          "hovermode": "closest",
          "hoverlabel": {
           "align": "left"
          },
          "paper_bgcolor": "rgb(17,17,17)",
          "plot_bgcolor": "rgb(17,17,17)",
          "polar": {
           "bgcolor": "rgb(17,17,17)",
           "angularaxis": {
            "gridcolor": "#506784",
            "linecolor": "#506784",
            "ticks": ""
           },
           "radialaxis": {
            "gridcolor": "#506784",
            "linecolor": "#506784",
            "ticks": ""
           }
          },
          "ternary": {
           "bgcolor": "rgb(17,17,17)",
           "aaxis": {
            "gridcolor": "#506784",
            "linecolor": "#506784",
            "ticks": ""
           },
           "baxis": {
            "gridcolor": "#506784",
            "linecolor": "#506784",
            "ticks": ""
           },
           "caxis": {
            "gridcolor": "#506784",
            "linecolor": "#506784",
            "ticks": ""
           }
          },
          "coloraxis": {
           "colorbar": {
            "outlinewidth": 0,
            "ticks": ""
           }
          },
          "colorscale": {
           "sequential": [
            [
             0.0,
             "#0d0887"
            ],
            [
             0.1111111111111111,
             "#46039f"
            ],
            [
             0.2222222222222222,
             "#7201a8"
            ],
            [
             0.3333333333333333,
             "#9c179e"
            ],
            [
             0.4444444444444444,
             "#bd3786"
            ],
            [
             0.5555555555555556,
             "#d8576b"
            ],
            [
             0.6666666666666666,
             "#ed7953"
            ],
            [
             0.7777777777777778,
             "#fb9f3a"
            ],
            [
             0.8888888888888888,
             "#fdca26"
            ],
            [
             1.0,
             "#f0f921"
            ]
           ],
           "sequentialminus": [
            [
             0.0,
             "#0d0887"
            ],
            [
             0.1111111111111111,
             "#46039f"
            ],
            [
             0.2222222222222222,
             "#7201a8"
            ],
            [
             0.3333333333333333,
             "#9c179e"
            ],
            [
             0.4444444444444444,
             "#bd3786"
            ],
            [
             0.5555555555555556,
             "#d8576b"
            ],
            [
             0.6666666666666666,
             "#ed7953"
            ],
            [
             0.7777777777777778,
             "#fb9f3a"
            ],
            [
             0.8888888888888888,
             "#fdca26"
            ],
            [
             1.0,
             "#f0f921"
            ]
           ],
           "diverging": [
            [
             0,
             "#8e0152"
            ],
            [
             0.1,
             "#c51b7d"
            ],
            [
             0.2,
             "#de77ae"
            ],
            [
             0.3,
             "#f1b6da"
            ],
            [
             0.4,
             "#fde0ef"
            ],
            [
             0.5,
             "#f7f7f7"
            ],
            [
             0.6,
             "#e6f5d0"
            ],
            [
             0.7,
             "#b8e186"
            ],
            [
             0.8,
             "#7fbc41"
            ],
            [
             0.9,
             "#4d9221"
            ],
            [
             1,
             "#276419"
            ]
           ]
          },
          "xaxis": {
           "gridcolor": "#283442",
           "linecolor": "#506784",
           "ticks": "",
           "title": {
            "standoff": 15
           },
           "zerolinecolor": "#283442",
           "automargin": true,
           "zerolinewidth": 2
          },
          "yaxis": {
           "gridcolor": "#283442",
           "linecolor": "#506784",
           "ticks": "",
           "title": {
            "standoff": 15
           },
           "zerolinecolor": "#283442",
           "automargin": true,
           "zerolinewidth": 2
          },
          "scene": {
           "xaxis": {
            "backgroundcolor": "rgb(17,17,17)",
            "gridcolor": "#506784",
            "linecolor": "#506784",
            "showbackground": true,
            "ticks": "",
            "zerolinecolor": "#C8D4E3",
            "gridwidth": 2
           },
           "yaxis": {
            "backgroundcolor": "rgb(17,17,17)",
            "gridcolor": "#506784",
            "linecolor": "#506784",
            "showbackground": true,
            "ticks": "",
            "zerolinecolor": "#C8D4E3",
            "gridwidth": 2
           },
           "zaxis": {
            "backgroundcolor": "rgb(17,17,17)",
            "gridcolor": "#506784",
            "linecolor": "#506784",
            "showbackground": true,
            "ticks": "",
            "zerolinecolor": "#C8D4E3",
            "gridwidth": 2
           }
          },
          "shapedefaults": {
           "line": {
            "color": "#f2f5fa"
           }
          },
          "annotationdefaults": {
           "arrowcolor": "#f2f5fa",
           "arrowhead": 0,
           "arrowwidth": 1
          },
          "geo": {
           "bgcolor": "rgb(17,17,17)",
           "landcolor": "rgb(17,17,17)",
           "subunitcolor": "#506784",
           "showland": true,
           "showlakes": true,
           "lakecolor": "rgb(17,17,17)"
          },
          "title": {
           "x": 0.05
          },
          "updatemenudefaults": {
           "bgcolor": "#506784",
           "borderwidth": 0
          },
          "sliderdefaults": {
           "bgcolor": "#C8D4E3",
           "borderwidth": 1,
           "bordercolor": "rgb(17,17,17)",
           "tickwidth": 0
          },
          "mapbox": {
           "style": "dark"
          }
         }
        },
        "xaxis": {
         "anchor": "y",
         "domain": [
          0.0,
          1.0
         ],
         "title": {
          "text": "months_since_last_donation"
         }
        },
        "yaxis": {
         "anchor": "x",
         "domain": [
          0.0,
          1.0
         ],
         "title": {
          "text": "total_number_of_donations"
         }
        },
        "coloraxis": {
         "colorbar": {
          "title": {
           "text": "class"
          }
         },
         "colorscale": [
          [
           0.0,
           "#0d0887"
          ],
          [
           0.1111111111111111,
           "#46039f"
          ],
          [
           0.2222222222222222,
           "#7201a8"
          ],
          [
           0.3333333333333333,
           "#9c179e"
          ],
          [
           0.4444444444444444,
           "#bd3786"
          ],
          [
           0.5555555555555556,
           "#d8576b"
          ],
          [
           0.6666666666666666,
           "#ed7953"
          ],
          [
           0.7777777777777778,
           "#fb9f3a"
          ],
          [
           0.8888888888888888,
           "#fdca26"
          ],
          [
           1.0,
           "#f0f921"
          ]
         ]
        },
        "legend": {
         "tracegroupgap": 0
        },
        "margin": {
         "t": 60
        }
       },
       "config": {
        "plotlyServerURL": "https://plot.ly"
       }
      }
     },
     "metadata": {},
     "output_type": "display_data"
    },
    {
     "data": {
      "application/vnd.plotly.v1+json": {
       "data": [
        {
         "bingroup": "x",
         "hovertemplate": "class=1<br>total_blood_donated=%{x}<br>count=%{y}<extra></extra>",
         "legendgroup": "1",
         "marker": {
          "color": "#636efa",
          "pattern": {
           "shape": ""
          }
         },
         "name": "1",
         "orientation": "v",
         "showlegend": true,
         "x": {
          "dtype": "f8",
          "bdata": "AAAAAABqyEAAAAAAAGSpQAAAAAAAQK9AAAAAAACIs0AAAAAAAFibQAAAAAAAlKFAAAAAAAB2xkAAAAAAAIijQAAAAAAAcJdAAAAAAACIk0AAAAAAAFirQAAAAAAATK1AAAAAAABwl0AAAAAAAHCHQAAAAAAAcIdAAAAAAABwl0AAAAAAAHCXQAAAAAAAcKdAAAAAAACIk0AAAAAAAIijQAAAAAAAiKNAAAAAAACUoUAAAAAAAECfQAAAAAAAcKdAAAAAAABwl0AAAAAAAFirQAAAAAAAWJtAAAAAAABkqUAAAAAAAIiTQAAAAAAAiLNAAAAAAACUoUAAAAAAAHylQAAAAAAAiJNAAAAAAACOskAAAAAAAECfQAAAAAAAWJtAAAAAAABAn0AAAAAAAIiTQAAAAAAAcIdAAAAAAABAj0AAAAAAAJqwQAAAAAAAQH9AAAAAAABAf0AAAAAAAECPQAAAAAAAcJdAAAAAAABwl0AAAAAAAFibQAAAAAAAQH9AAAAAAACUoUAAAAAAAECPQAAAAAAAWJtAAAAAAABAn0AAAAAAAGSpQAAAAAAAiJNAAAAAAABAn0AAAAAAAFibQAAAAAAAfKVAAAAAAABwh0AAAAAAAIiTQAAAAAAAcJdAAAAAAACIk0AAAAAAAECfQAAAAAAAQJ9AAAAAAABAf0AAAAAAAEB/QAAAAAAAcIdAAAAAAABAf0AAAAAAAFibQAAAAAAAQG9AAAAAAABAb0AAAAAAAEBvQAAAAAAAQG9AAAAAAABAj0AAAAAAAIiTQAAAAAAAcJdAAAAAAABAj0AAAAAAAIiTQAAAAAAAiJNAAAAAAABAn0AAAAAAAEB/QAAAAAAAQG9AAAAAAABAb0AAAAAAAEBvQAAAAAAAQG9AAAAAAABAb0AAAAAAAEBvQAAAAAAAQJ9AAAAAAABwh0AAAAAAAJqwQAAAAAAAQJ9AAAAAAABwh0AAAAAAAFirQAAAAAAAcIdAAAAAAABAj0AAAAAAAECPQAAAAAAAQH9AAAAAAACIk0AAAAAAAHCHQAAAAAAAQI9AAAAAAACIk0AAAAAAAJShQAAAAAAAiJNAAAAAAABAn0AAAAAAAECPQAAAAAAAcJdAAAAAAABYm0AAAAAAAHCHQAAAAAAAQG9AAAAAAABAf0AAAAAAAIiTQAAAAAAAQH9AAAAAAABwh0AAAAAAAEB/QAAAAAAAcIdAAAAAAABYm0AAAAAAAEBvQAAAAAAAQG9AAAAAAACIk0AAAAAAAP/EQAAAAAAAfLVAAAAAAACawEAAAAAAAGS5QAAAAAAABcRAAAAAAACCtEAAAAAAAIK0QAAAAAAAZKlAAAAAAABAj0AAAAAAAECvQAAAAAAAiJNAAAAAAAAdwEAAAAAAAIijQAAAAAAAiKNAAAAAAAB8pUAAAAAAAHylQAAAAAAAZKlAAAAAAACIo0AAAAAAAIiTQAAAAAAAcJdAAAAAAACIk0AAAAAAAECPQAAAAAAAiJNAAAAAAABYm0AAAAAAAHCXQAAAAAAAQJ9AAAAAAABAf0AAAAAAAHCXQAAAAAAAQK9AAAAAAABAf0AAAAAAAEB/QAAAAAAAcKdAAAAAAABYm0AAAAAAAHCXQAAAAAAAcJdAAAAAAAB8pUAAAAAAAECvQAAAAAAAcJdAAAAAAABAf0AAAAAAAEB/QAAAAAAAcJdAAAAAAABAj0AAAAAAAEBvQAAAAAAAQG9AAAAAAAB8pUAAAAAAAEBvQAAAAAAAQG9AAAAAAABAb0AAAAAAAECPQAAAAAAAcIdAAAAAAACUoUAAAAAAAECfQAAAAAAAQH9AAAAAAABAb0AAAAAAAHCHQAAAAAAAWKtAAAAAAABYm0AAAAAAAEB/QAAAAAAAQH9AAAAAAABAb0A="
         },
         "xaxis": "x",
         "yaxis": "y",
         "type": "histogram"
        },
        {
         "bingroup": "x",
         "hovertemplate": "class=0<br>total_blood_donated=%{x}<br>count=%{y}<extra></extra>",
         "legendgroup": "0",
         "marker": {
          "color": "#EF553B",
          "pattern": {
           "shape": ""
          }
         },
         "name": "0",
         "orientation": "v",
         "showlegend": true,
         "x": {
          "dtype": "f8",
          "bdata": "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"
         },
         "xaxis": "x",
         "yaxis": "y",
         "type": "histogram"
        }
       ],
       "layout": {
        "template": {
         "data": {
          "histogram2dcontour": [
           {
            "type": "histogram2dcontour",
            "colorbar": {
             "outlinewidth": 0,
             "ticks": ""
            },
            "colorscale": [
             [
              0.0,
              "#0d0887"
             ],
             [
              0.1111111111111111,
              "#46039f"
             ],
             [
              0.2222222222222222,
              "#7201a8"
             ],
             [
              0.3333333333333333,
              "#9c179e"
             ],
             [
              0.4444444444444444,
              "#bd3786"
             ],
             [
              0.5555555555555556,
              "#d8576b"
             ],
             [
              0.6666666666666666,
              "#ed7953"
             ],
             [
              0.7777777777777778,
              "#fb9f3a"
             ],
             [
              0.8888888888888888,
              "#fdca26"
             ],
             [
              1.0,
              "#f0f921"
             ]
            ]
           }
          ],
          "choropleth": [
           {
            "type": "choropleth",
            "colorbar": {
             "outlinewidth": 0,
             "ticks": ""
            }
           }
          ],
          "histogram2d": [
           {
            "type": "histogram2d",
            "colorbar": {
             "outlinewidth": 0,
             "ticks": ""
            },
            "colorscale": [
             [
              0.0,
              "#0d0887"
             ],
             [
              0.1111111111111111,
              "#46039f"
             ],
             [
              0.2222222222222222,
              "#7201a8"
             ],
             [
              0.3333333333333333,
              "#9c179e"
             ],
             [
              0.4444444444444444,
              "#bd3786"
             ],
             [
              0.5555555555555556,
              "#d8576b"
             ],
             [
              0.6666666666666666,
              "#ed7953"
             ],
             [
              0.7777777777777778,
              "#fb9f3a"
             ],
             [
              0.8888888888888888,
              "#fdca26"
             ],
             [
              1.0,
              "#f0f921"
             ]
            ]
           }
          ],
          "heatmap": [
           {
            "type": "heatmap",
            "colorbar": {
             "outlinewidth": 0,
             "ticks": ""
            },
            "colorscale": [
             [
              0.0,
              "#0d0887"
             ],
             [
              0.1111111111111111,
              "#46039f"
             ],
             [
              0.2222222222222222,
              "#7201a8"
             ],
             [
              0.3333333333333333,
              "#9c179e"
             ],
             [
              0.4444444444444444,
              "#bd3786"
             ],
             [
              0.5555555555555556,
              "#d8576b"
             ],
             [
              0.6666666666666666,
              "#ed7953"
             ],
             [
              0.7777777777777778,
              "#fb9f3a"
             ],
             [
              0.8888888888888888,
              "#fdca26"
             ],
             [
              1.0,
              "#f0f921"
             ]
            ]
           }
          ],
          "contourcarpet": [
           {
            "type": "contourcarpet",
            "colorbar": {
             "outlinewidth": 0,
             "ticks": ""
            }
           }
          ],
          "contour": [
           {
            "type": "contour",
            "colorbar": {
             "outlinewidth": 0,
             "ticks": ""
            },
            "colorscale": [
             [
              0.0,
              "#0d0887"
             ],
             [
              0.1111111111111111,
              "#46039f"
             ],
             [
              0.2222222222222222,
              "#7201a8"
             ],
             [
              0.3333333333333333,
              "#9c179e"
             ],
             [
              0.4444444444444444,
              "#bd3786"
             ],
             [
              0.5555555555555556,
              "#d8576b"
             ],
             [
              0.6666666666666666,
              "#ed7953"
             ],
             [
              0.7777777777777778,
              "#fb9f3a"
             ],
             [
              0.8888888888888888,
              "#fdca26"
             ],
             [
              1.0,
              "#f0f921"
             ]
            ]
           }
          ],
          "surface": [
           {
            "type": "surface",
            "colorbar": {
             "outlinewidth": 0,
             "ticks": ""
            },
            "colorscale": [
             [
              0.0,
              "#0d0887"
             ],
             [
              0.1111111111111111,
              "#46039f"
             ],
             [
              0.2222222222222222,
              "#7201a8"
             ],
             [
              0.3333333333333333,
              "#9c179e"
             ],
             [
              0.4444444444444444,
              "#bd3786"
             ],
             [
              0.5555555555555556,
              "#d8576b"
             ],
             [
              0.6666666666666666,
              "#ed7953"
             ],
             [
              0.7777777777777778,
              "#fb9f3a"
             ],
             [
              0.8888888888888888,
              "#fdca26"
             ],
             [
              1.0,
              "#f0f921"
             ]
            ]
           }
          ],
          "mesh3d": [
           {
            "type": "mesh3d",
            "colorbar": {
             "outlinewidth": 0,
             "ticks": ""
            }
           }
          ],
          "scatter": [
           {
            "marker": {
             "line": {
              "color": "#283442"
             }
            },
            "type": "scatter"
           }
          ],
          "parcoords": [
           {
            "type": "parcoords",
            "line": {
             "colorbar": {
              "outlinewidth": 0,
              "ticks": ""
             }
            }
           }
          ],
          "scatterpolargl": [
           {
            "type": "scatterpolargl",
            "marker": {
             "colorbar": {
              "outlinewidth": 0,
              "ticks": ""
             }
            }
           }
          ],
          "bar": [
           {
            "error_x": {
             "color": "#f2f5fa"
            },
            "error_y": {
             "color": "#f2f5fa"
            },
            "marker": {
             "line": {
              "color": "rgb(17,17,17)",
              "width": 0.5
             },
             "pattern": {
              "fillmode": "overlay",
              "size": 10,
              "solidity": 0.2
             }
            },
            "type": "bar"
           }
          ],
          "scattergeo": [
           {
            "type": "scattergeo",
            "marker": {
             "colorbar": {
              "outlinewidth": 0,
              "ticks": ""
             }
            }
           }
          ],
          "scatterpolar": [
           {
            "type": "scatterpolar",
            "marker": {
             "colorbar": {
              "outlinewidth": 0,
              "ticks": ""
             }
            }
           }
          ],
          "histogram": [
           {
            "marker": {
             "pattern": {
              "fillmode": "overlay",
              "size": 10,
              "solidity": 0.2
             }
            },
            "type": "histogram"
           }
          ],
          "scattergl": [
           {
            "marker": {
             "line": {
              "color": "#283442"
             }
            },
            "type": "scattergl"
           }
          ],
          "scatter3d": [
           {
            "type": "scatter3d",
            "line": {
             "colorbar": {
              "outlinewidth": 0,
              "ticks": ""
             }
            },
            "marker": {
             "colorbar": {
              "outlinewidth": 0,
              "ticks": ""
             }
            }
           }
          ],
          "scattermap": [
           {
            "type": "scattermap",
            "marker": {
             "colorbar": {
              "outlinewidth": 0,
              "ticks": ""
             }
            }
           }
          ],
          "scattermapbox": [
           {
            "type": "scattermapbox",
            "marker": {
             "colorbar": {
              "outlinewidth": 0,
              "ticks": ""
             }
            }
           }
          ],
          "scatterternary": [
           {
            "type": "scatterternary",
            "marker": {
             "colorbar": {
              "outlinewidth": 0,
              "ticks": ""
             }
            }
           }
          ],
          "scattercarpet": [
           {
            "type": "scattercarpet",
            "marker": {
             "colorbar": {
              "outlinewidth": 0,
              "ticks": ""
             }
            }
           }
          ],
          "carpet": [
           {
            "aaxis": {
             "endlinecolor": "#A2B1C6",
             "gridcolor": "#506784",
             "linecolor": "#506784",
             "minorgridcolor": "#506784",
             "startlinecolor": "#A2B1C6"
            },
            "baxis": {
             "endlinecolor": "#A2B1C6",
             "gridcolor": "#506784",
             "linecolor": "#506784",
             "minorgridcolor": "#506784",
             "startlinecolor": "#A2B1C6"
            },
            "type": "carpet"
           }
          ],
          "table": [
           {
            "cells": {
             "fill": {
              "color": "#506784"
             },
             "line": {
              "color": "rgb(17,17,17)"
             }
            },
            "header": {
             "fill": {
              "color": "#2a3f5f"
             },
             "line": {
              "color": "rgb(17,17,17)"
             }
            },
            "type": "table"
           }
          ],
          "barpolar": [
           {
            "marker": {
             "line": {
              "color": "rgb(17,17,17)",
              "width": 0.5
             },
             "pattern": {
              "fillmode": "overlay",
              "size": 10,
              "solidity": 0.2
             }
            },
            "type": "barpolar"
           }
          ],
          "pie": [
           {
            "automargin": true,
            "type": "pie"
           }
          ]
         },
         "layout": {
          "autotypenumbers": "strict",
          "colorway": [
           "#636efa",
           "#EF553B",
           "#00cc96",
           "#ab63fa",
           "#FFA15A",
           "#19d3f3",
           "#FF6692",
           "#B6E880",
           "#FF97FF",
           "#FECB52"
          ],
          "font": {
           "color": "#f2f5fa"
          },
          "hovermode": "closest",
          "hoverlabel": {
           "align": "left"
          },
          "paper_bgcolor": "rgb(17,17,17)",
          "plot_bgcolor": "rgb(17,17,17)",
          "polar": {
           "bgcolor": "rgb(17,17,17)",
           "angularaxis": {
            "gridcolor": "#506784",
            "linecolor": "#506784",
            "ticks": ""
           },
           "radialaxis": {
            "gridcolor": "#506784",
            "linecolor": "#506784",
            "ticks": ""
           }
          },
          "ternary": {
           "bgcolor": "rgb(17,17,17)",
           "aaxis": {
            "gridcolor": "#506784",
            "linecolor": "#506784",
            "ticks": ""
           },
           "baxis": {
            "gridcolor": "#506784",
            "linecolor": "#506784",
            "ticks": ""
           },
           "caxis": {
            "gridcolor": "#506784",
            "linecolor": "#506784",
            "ticks": ""
           }
          },
          "coloraxis": {
           "colorbar": {
            "outlinewidth": 0,
            "ticks": ""
           }
          },
          "colorscale": {
           "sequential": [
            [
             0.0,
             "#0d0887"
            ],
            [
             0.1111111111111111,
             "#46039f"
            ],
            [
             0.2222222222222222,
             "#7201a8"
            ],
            [
             0.3333333333333333,
             "#9c179e"
            ],
            [
             0.4444444444444444,
             "#bd3786"
            ],
            [
             0.5555555555555556,
             "#d8576b"
            ],
            [
             0.6666666666666666,
             "#ed7953"
            ],
            [
             0.7777777777777778,
             "#fb9f3a"
            ],
            [
             0.8888888888888888,
             "#fdca26"
            ],
            [
             1.0,
             "#f0f921"
            ]
           ],
           "sequentialminus": [
            [
             0.0,
             "#0d0887"
            ],
            [
             0.1111111111111111,
             "#46039f"
            ],
            [
             0.2222222222222222,
             "#7201a8"
            ],
            [
             0.3333333333333333,
             "#9c179e"
            ],
            [
             0.4444444444444444,
             "#bd3786"
            ],
            [
             0.5555555555555556,
             "#d8576b"
            ],
            [
             0.6666666666666666,
             "#ed7953"
            ],
            [
             0.7777777777777778,
             "#fb9f3a"
            ],
            [
             0.8888888888888888,
             "#fdca26"
            ],
            [
             1.0,
             "#f0f921"
            ]
           ],
           "diverging": [
            [
             0,
             "#8e0152"
            ],
            [
             0.1,
             "#c51b7d"
            ],
            [
             0.2,
             "#de77ae"
            ],
            [
             0.3,
             "#f1b6da"
            ],
            [
             0.4,
             "#fde0ef"
            ],
            [
             0.5,
             "#f7f7f7"
            ],
            [
             0.6,
             "#e6f5d0"
            ],
            [
             0.7,
             "#b8e186"
            ],
            [
             0.8,
             "#7fbc41"
            ],
            [
             0.9,
             "#4d9221"
            ],
            [
             1,
             "#276419"
            ]
           ]
          },
          "xaxis": {
           "gridcolor": "#283442",
           "linecolor": "#506784",
           "ticks": "",
           "title": {
            "standoff": 15
           },
           "zerolinecolor": "#283442",
           "automargin": true,
           "zerolinewidth": 2
          },
          "yaxis": {
           "gridcolor": "#283442",
           "linecolor": "#506784",
           "ticks": "",
           "title": {
            "standoff": 15
           },
           "zerolinecolor": "#283442",
           "automargin": true,
           "zerolinewidth": 2
          },
          "scene": {
           "xaxis": {
            "backgroundcolor": "rgb(17,17,17)",
            "gridcolor": "#506784",
            "linecolor": "#506784",
            "showbackground": true,
            "ticks": "",
            "zerolinecolor": "#C8D4E3",
            "gridwidth": 2
           },
           "yaxis": {
            "backgroundcolor": "rgb(17,17,17)",
            "gridcolor": "#506784",
            "linecolor": "#506784",
            "showbackground": true,
            "ticks": "",
            "zerolinecolor": "#C8D4E3",
            "gridwidth": 2
           },
           "zaxis": {
            "backgroundcolor": "rgb(17,17,17)",
            "gridcolor": "#506784",
            "linecolor": "#506784",
            "showbackground": true,
            "ticks": "",
            "zerolinecolor": "#C8D4E3",
            "gridwidth": 2
           }
          },
          "shapedefaults": {
           "line": {
            "color": "#f2f5fa"
           }
          },
          "annotationdefaults": {
           "arrowcolor": "#f2f5fa",
           "arrowhead": 0,
           "arrowwidth": 1
          },
          "geo": {
           "bgcolor": "rgb(17,17,17)",
           "landcolor": "rgb(17,17,17)",
           "subunitcolor": "#506784",
           "showland": true,
           "showlakes": true,
           "lakecolor": "rgb(17,17,17)"
          },
          "title": {
           "x": 0.05
          },
          "updatemenudefaults": {
           "bgcolor": "#506784",
           "borderwidth": 0
          },
          "sliderdefaults": {
           "bgcolor": "#C8D4E3",
           "borderwidth": 1,
           "bordercolor": "rgb(17,17,17)",
           "tickwidth": 0
          },
          "mapbox": {
           "style": "dark"
          }
         }
        },
        "xaxis": {
         "anchor": "y",
         "domain": [
          0.0,
          1.0
         ],
         "title": {
          "text": "total_blood_donated"
         }
        },
        "yaxis": {
         "anchor": "x",
         "domain": [
          0.0,
          1.0
         ],
         "title": {
          "text": "count"
         }
        },
        "legend": {
         "title": {
          "text": "class"
         },
         "tracegroupgap": 0
        },
        "margin": {
         "t": 60
        },
        "barmode": "relative"
       },
       "config": {
        "plotlyServerURL": "https://plot.ly"
       }
      }
     },
     "metadata": {},
     "output_type": "display_data"
    },
    {
     "data": {
      "application/vnd.plotly.v1+json": {
       "data": [
        {
         "hovertemplate": "months_since_last_donation=%{x}<br>months_since_first_donation=%{y}<br>class=%{marker.color}<extra></extra>",
         "legendgroup": "",
         "marker": {
          "color": {
           "dtype": "i1",
           "bdata": "AQEBAQAAAQABAQAAAQABAQEBAQEBAAEBAAAAAQEAAAEBAQABAQEBAQEAAQABAQAAAAAAAQAAAQEBAQAAAAEAAQEAAQAAAAAAAQABAQEAAAABAAAAAQAAAAABAQAAAAAAAAEBAQEBAAAAAAAAAAABAAABAAABAAABAQEBAQAAAQABAQAAAAAAAAAAAAAAAAAAAQEAAAEAAQAAAQAAAAAAAAAAAAEBAQAAAAAAAAAAAAABAQEAAQAAAAAAAAAAAQAAAAAAAQEAAAAAAAEAAAAAAAAAAAAAAAABAAAAAAABAQABAQAAAAAAAQAAAAAAAAAAAQABAQAAAAAAAAAAAQEAAAAAAAAAAQABAAEAAAAAAAAAAAAAAAAAAAABAAAAAAABAQEBAAAAAAAAAAAAAAAAAAABAAAAAAAAAAAAAAAAAQAAAQABAAAAAAEAAAABAQABAAABAAAAAAAAAAAAAAAAAAAAAAAAAAAAAAAAAAABAAAAAQEAAAAAAQAAAAAAAAAAAAAAAAAAAAAAAAAAAQAAAQAAAAAAAAAAAAAAAAAAAAAAAAAAAAAAAAAAAAAAAAAAAQAAAAAAAAAAAAAAAAAAAAAAAAAAAAAAAAAAAAAAAQAAAAAAAQAAAAAAAAEAAAAAAAAAAAAAAAAAAAAAAAAAAAAAAAABAQEAAQEBAAEBAQAAAAEAAQEBAQEBAQEAAAEAAAEBAQAAAAEBAQEBAQABAQABAAABAQABAQAAAAAAAAABAAEAAAAAAAEAAAABAAEBAQAAAAABAAAAAAEAAAAAAAABAAABAAAAAAAAAAAAAAAAAAAAAQAAAAAAAQAAAAEAAQAAAAAAAAAAAAAAAAAAAQEAAAABAAAAAAAAAAAAAAAAAAAAAAAAAAAAAAEAAQAAAAAAAAAAAAABAAAAAAAAAAAAAAAAAAABAAAAAAAAAAAAAAAAAQAAAAEAAAAAAAAAAAAAAAAAAAAAAAAAAQAAAAAAAAAAAAAAAAAAAA=="
          },
          "coloraxis": "coloraxis",
          "symbol": "circle"
         },
         "mode": "markers",
         "name": "",
         "orientation": "v",
         "showlegend": false,
         "x": {
          "dtype": "f8",
          "bdata": "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"
         },
         "xaxis": "x",
         "y": {
          "dtype": "f8",
          "bdata": "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"
         },
         "yaxis": "y",
         "type": "scatter"
        }
       ],
       "layout": {
        "template": {
         "data": {
          "histogram2dcontour": [
           {
            "type": "histogram2dcontour",
            "colorbar": {
             "outlinewidth": 0,
             "ticks": ""
            },
            "colorscale": [
             [
              0.0,
              "#0d0887"
             ],
             [
              0.1111111111111111,
              "#46039f"
             ],
             [
              0.2222222222222222,
              "#7201a8"
             ],
             [
              0.3333333333333333,
              "#9c179e"
             ],
             [
              0.4444444444444444,
              "#bd3786"
             ],
             [
              0.5555555555555556,
              "#d8576b"
             ],
             [
              0.6666666666666666,
              "#ed7953"
             ],
             [
              0.7777777777777778,
              "#fb9f3a"
             ],
             [
              0.8888888888888888,
              "#fdca26"
             ],
             [
              1.0,
              "#f0f921"
             ]
            ]
           }
          ],
          "choropleth": [
           {
            "type": "choropleth",
            "colorbar": {
             "outlinewidth": 0,
             "ticks": ""
            }
           }
          ],
          "histogram2d": [
           {
            "type": "histogram2d",
            "colorbar": {
             "outlinewidth": 0,
             "ticks": ""
            },
            "colorscale": [
             [
              0.0,
              "#0d0887"
             ],
             [
              0.1111111111111111,
              "#46039f"
             ],
             [
              0.2222222222222222,
              "#7201a8"
             ],
             [
              0.3333333333333333,
              "#9c179e"
             ],
             [
              0.4444444444444444,
              "#bd3786"
             ],
             [
              0.5555555555555556,
              "#d8576b"
             ],
             [
              0.6666666666666666,
              "#ed7953"
             ],
             [
              0.7777777777777778,
              "#fb9f3a"
             ],
             [
              0.8888888888888888,
              "#fdca26"
             ],
             [
              1.0,
              "#f0f921"
             ]
            ]
           }
          ],
          "heatmap": [
           {
            "type": "heatmap",
            "colorbar": {
             "outlinewidth": 0,
             "ticks": ""
            },
            "colorscale": [
             [
              0.0,
              "#0d0887"
             ],
             [
              0.1111111111111111,
              "#46039f"
             ],
             [
              0.2222222222222222,
              "#7201a8"
             ],
             [
              0.3333333333333333,
              "#9c179e"
             ],
             [
              0.4444444444444444,
              "#bd3786"
             ],
             [
              0.5555555555555556,
              "#d8576b"
             ],
             [
              0.6666666666666666,
              "#ed7953"
             ],
             [
              0.7777777777777778,
              "#fb9f3a"
             ],
             [
              0.8888888888888888,
              "#fdca26"
             ],
             [
              1.0,
              "#f0f921"
             ]
            ]
           }
          ],
          "contourcarpet": [
           {
            "type": "contourcarpet",
            "colorbar": {
             "outlinewidth": 0,
             "ticks": ""
            }
           }
          ],
          "contour": [
           {
            "type": "contour",
            "colorbar": {
             "outlinewidth": 0,
             "ticks": ""
            },
            "colorscale": [
             [
              0.0,
              "#0d0887"
             ],
             [
              0.1111111111111111,
              "#46039f"
             ],
             [
              0.2222222222222222,
              "#7201a8"
             ],
             [
              0.3333333333333333,
              "#9c179e"
             ],
             [
              0.4444444444444444,
              "#bd3786"
             ],
             [
              0.5555555555555556,
              "#d8576b"
             ],
             [
              0.6666666666666666,
              "#ed7953"
             ],
             [
              0.7777777777777778,
              "#fb9f3a"
             ],
             [
              0.8888888888888888,
              "#fdca26"
             ],
             [
              1.0,
              "#f0f921"
             ]
            ]
           }
          ],
          "surface": [
           {
            "type": "surface",
            "colorbar": {
             "outlinewidth": 0,
             "ticks": ""
            },
            "colorscale": [
             [
              0.0,
              "#0d0887"
             ],
             [
              0.1111111111111111,
              "#46039f"
             ],
             [
              0.2222222222222222,
              "#7201a8"
             ],
             [
              0.3333333333333333,
              "#9c179e"
             ],
             [
              0.4444444444444444,
              "#bd3786"
             ],
             [
              0.5555555555555556,
              "#d8576b"
             ],
             [
              0.6666666666666666,
              "#ed7953"
             ],
             [
              0.7777777777777778,
              "#fb9f3a"
             ],
             [
              0.8888888888888888,
              "#fdca26"
             ],
             [
              1.0,
              "#f0f921"
             ]
            ]
           }
          ],
          "mesh3d": [
           {
            "type": "mesh3d",
            "colorbar": {
             "outlinewidth": 0,
             "ticks": ""
            }
           }
          ],
          "scatter": [
           {
            "marker": {
             "line": {
              "color": "#283442"
             }
            },
            "type": "scatter"
           }
          ],
          "parcoords": [
           {
            "type": "parcoords",
            "line": {
             "colorbar": {
              "outlinewidth": 0,
              "ticks": ""
             }
            }
           }
          ],
          "scatterpolargl": [
           {
            "type": "scatterpolargl",
            "marker": {
             "colorbar": {
              "outlinewidth": 0,
              "ticks": ""
             }
            }
           }
          ],
          "bar": [
           {
            "error_x": {
             "color": "#f2f5fa"
            },
            "error_y": {
             "color": "#f2f5fa"
            },
            "marker": {
             "line": {
              "color": "rgb(17,17,17)",
              "width": 0.5
             },
             "pattern": {
              "fillmode": "overlay",
              "size": 10,
              "solidity": 0.2
             }
            },
            "type": "bar"
           }
          ],
          "scattergeo": [
           {
            "type": "scattergeo",
            "marker": {
             "colorbar": {
              "outlinewidth": 0,
              "ticks": ""
             }
            }
           }
          ],
          "scatterpolar": [
           {
            "type": "scatterpolar",
            "marker": {
             "colorbar": {
              "outlinewidth": 0,
              "ticks": ""
             }
            }
           }
          ],
          "histogram": [
           {
            "marker": {
             "pattern": {
              "fillmode": "overlay",
              "size": 10,
              "solidity": 0.2
             }
            },
            "type": "histogram"
           }
          ],
          "scattergl": [
           {
            "marker": {
             "line": {
              "color": "#283442"
             }
            },
            "type": "scattergl"
           }
          ],
          "scatter3d": [
           {
            "type": "scatter3d",
            "line": {
             "colorbar": {
              "outlinewidth": 0,
              "ticks": ""
             }
            },
            "marker": {
             "colorbar": {
              "outlinewidth": 0,
              "ticks": ""
             }
            }
           }
          ],
          "scattermap": [
           {
            "type": "scattermap",
            "marker": {
             "colorbar": {
              "outlinewidth": 0,
              "ticks": ""
             }
            }
           }
          ],
          "scattermapbox": [
           {
            "type": "scattermapbox",
            "marker": {
             "colorbar": {
              "outlinewidth": 0,
              "ticks": ""
             }
            }
           }
          ],
          "scatterternary": [
           {
            "type": "scatterternary",
            "marker": {
             "colorbar": {
              "outlinewidth": 0,
              "ticks": ""
             }
            }
           }
          ],
          "scattercarpet": [
           {
            "type": "scattercarpet",
            "marker": {
             "colorbar": {
              "outlinewidth": 0,
              "ticks": ""
             }
            }
           }
          ],
          "carpet": [
           {
            "aaxis": {
             "endlinecolor": "#A2B1C6",
             "gridcolor": "#506784",
             "linecolor": "#506784",
             "minorgridcolor": "#506784",
             "startlinecolor": "#A2B1C6"
            },
            "baxis": {
             "endlinecolor": "#A2B1C6",
             "gridcolor": "#506784",
             "linecolor": "#506784",
             "minorgridcolor": "#506784",
             "startlinecolor": "#A2B1C6"
            },
            "type": "carpet"
           }
          ],
          "table": [
           {
            "cells": {
             "fill": {
              "color": "#506784"
             },
             "line": {
              "color": "rgb(17,17,17)"
             }
            },
            "header": {
             "fill": {
              "color": "#2a3f5f"
             },
             "line": {
              "color": "rgb(17,17,17)"
             }
            },
            "type": "table"
           }
          ],
          "barpolar": [
           {
            "marker": {
             "line": {
              "color": "rgb(17,17,17)",
              "width": 0.5
             },
             "pattern": {
              "fillmode": "overlay",
              "size": 10,
              "solidity": 0.2
             }
            },
            "type": "barpolar"
           }
          ],
          "pie": [
           {
            "automargin": true,
            "type": "pie"
           }
          ]
         },
         "layout": {
          "autotypenumbers": "strict",
          "colorway": [
           "#636efa",
           "#EF553B",
           "#00cc96",
           "#ab63fa",
           "#FFA15A",
           "#19d3f3",
           "#FF6692",
           "#B6E880",
           "#FF97FF",
           "#FECB52"
          ],
          "font": {
           "color": "#f2f5fa"
          },
          "hovermode": "closest",
          "hoverlabel": {
           "align": "left"
          },
          "paper_bgcolor": "rgb(17,17,17)",
          "plot_bgcolor": "rgb(17,17,17)",
          "polar": {
           "bgcolor": "rgb(17,17,17)",
           "angularaxis": {
            "gridcolor": "#506784",
            "linecolor": "#506784",
            "ticks": ""
           },
           "radialaxis": {
            "gridcolor": "#506784",
            "linecolor": "#506784",
            "ticks": ""
           }
          },
          "ternary": {
           "bgcolor": "rgb(17,17,17)",
           "aaxis": {
            "gridcolor": "#506784",
            "linecolor": "#506784",
            "ticks": ""
           },
           "baxis": {
            "gridcolor": "#506784",
            "linecolor": "#506784",
            "ticks": ""
           },
           "caxis": {
            "gridcolor": "#506784",
            "linecolor": "#506784",
            "ticks": ""
           }
          },
          "coloraxis": {
           "colorbar": {
            "outlinewidth": 0,
            "ticks": ""
           }
          },
          "colorscale": {
           "sequential": [
            [
             0.0,
             "#0d0887"
            ],
            [
             0.1111111111111111,
             "#46039f"
            ],
            [
             0.2222222222222222,
             "#7201a8"
            ],
            [
             0.3333333333333333,
             "#9c179e"
            ],
            [
             0.4444444444444444,
             "#bd3786"
            ],
            [
             0.5555555555555556,
             "#d8576b"
            ],
            [
             0.6666666666666666,
             "#ed7953"
            ],
            [
             0.7777777777777778,
             "#fb9f3a"
            ],
            [
             0.8888888888888888,
             "#fdca26"
            ],
            [
             1.0,
             "#f0f921"
            ]
           ],
           "sequentialminus": [
            [
             0.0,
             "#0d0887"
            ],
            [
             0.1111111111111111,
             "#46039f"
            ],
            [
             0.2222222222222222,
             "#7201a8"
            ],
            [
             0.3333333333333333,
             "#9c179e"
            ],
            [
             0.4444444444444444,
             "#bd3786"
            ],
            [
             0.5555555555555556,
             "#d8576b"
            ],
            [
             0.6666666666666666,
             "#ed7953"
            ],
            [
             0.7777777777777778,
             "#fb9f3a"
            ],
            [
             0.8888888888888888,
             "#fdca26"
            ],
            [
             1.0,
             "#f0f921"
            ]
           ],
           "diverging": [
            [
             0,
             "#8e0152"
            ],
            [
             0.1,
             "#c51b7d"
            ],
            [
             0.2,
             "#de77ae"
            ],
            [
             0.3,
             "#f1b6da"
            ],
            [
             0.4,
             "#fde0ef"
            ],
            [
             0.5,
             "#f7f7f7"
            ],
            [
             0.6,
             "#e6f5d0"
            ],
            [
             0.7,
             "#b8e186"
            ],
            [
             0.8,
             "#7fbc41"
            ],
            [
             0.9,
             "#4d9221"
            ],
            [
             1,
             "#276419"
            ]
           ]
          },
          "xaxis": {
           "gridcolor": "#283442",
           "linecolor": "#506784",
           "ticks": "",
           "title": {
            "standoff": 15
           },
           "zerolinecolor": "#283442",
           "automargin": true,
           "zerolinewidth": 2
          },
          "yaxis": {
           "gridcolor": "#283442",
           "linecolor": "#506784",
           "ticks": "",
           "title": {
            "standoff": 15
           },
           "zerolinecolor": "#283442",
           "automargin": true,
           "zerolinewidth": 2
          },
          "scene": {
           "xaxis": {
            "backgroundcolor": "rgb(17,17,17)",
            "gridcolor": "#506784",
            "linecolor": "#506784",
            "showbackground": true,
            "ticks": "",
            "zerolinecolor": "#C8D4E3",
            "gridwidth": 2
           },
           "yaxis": {
            "backgroundcolor": "rgb(17,17,17)",
            "gridcolor": "#506784",
            "linecolor": "#506784",
            "showbackground": true,
            "ticks": "",
            "zerolinecolor": "#C8D4E3",
            "gridwidth": 2
           },
           "zaxis": {
            "backgroundcolor": "rgb(17,17,17)",
            "gridcolor": "#506784",
            "linecolor": "#506784",
            "showbackground": true,
            "ticks": "",
            "zerolinecolor": "#C8D4E3",
            "gridwidth": 2
           }
          },
          "shapedefaults": {
           "line": {
            "color": "#f2f5fa"
           }
          },
          "annotationdefaults": {
           "arrowcolor": "#f2f5fa",
           "arrowhead": 0,
           "arrowwidth": 1
          },
          "geo": {
           "bgcolor": "rgb(17,17,17)",
           "landcolor": "rgb(17,17,17)",
           "subunitcolor": "#506784",
           "showland": true,
           "showlakes": true,
           "lakecolor": "rgb(17,17,17)"
          },
          "title": {
           "x": 0.05
          },
          "updatemenudefaults": {
           "bgcolor": "#506784",
           "borderwidth": 0
          },
          "sliderdefaults": {
           "bgcolor": "#C8D4E3",
           "borderwidth": 1,
           "bordercolor": "rgb(17,17,17)",
           "tickwidth": 0
          },
          "mapbox": {
           "style": "dark"
          }
         }
        },
        "xaxis": {
         "anchor": "y",
         "domain": [
          0.0,
          1.0
         ],
         "title": {
          "text": "months_since_last_donation"
         }
        },
        "yaxis": {
         "anchor": "x",
         "domain": [
          0.0,
          1.0
         ],
         "title": {
          "text": "months_since_first_donation"
         }
        },
        "coloraxis": {
         "colorbar": {
          "title": {
           "text": "class"
          }
         },
         "colorscale": [
          [
           0.0,
           "#0d0887"
          ],
          [
           0.1111111111111111,
           "#46039f"
          ],
          [
           0.2222222222222222,
           "#7201a8"
          ],
          [
           0.3333333333333333,
           "#9c179e"
          ],
          [
           0.4444444444444444,
           "#bd3786"
          ],
          [
           0.5555555555555556,
           "#d8576b"
          ],
          [
           0.6666666666666666,
           "#ed7953"
          ],
          [
           0.7777777777777778,
           "#fb9f3a"
          ],
          [
           0.8888888888888888,
           "#fdca26"
          ],
          [
           1.0,
           "#f0f921"
          ]
         ]
        },
        "legend": {
         "tracegroupgap": 0
        },
        "margin": {
         "t": 60
        }
       },
       "config": {
        "plotlyServerURL": "https://plot.ly"
       }
      }
     },
     "metadata": {},
     "output_type": "display_data"
    },
    {
     "data": {
      "application/vnd.plotly.v1+json": {
       "data": [
        {
         "hovertemplate": "total_blood_donated=%{x}<br>total_number_of_donations=%{y}<br>class=%{marker.color}<extra></extra>",
         "legendgroup": "",
         "marker": {
          "color": {
           "dtype": "i1",
           "bdata": "AQEBAQAAAQABAQAAAQABAQEBAQEBAAEBAAAAAQEAAAEBAQABAQEBAQEAAQABAQAAAAAAAQAAAQEBAQAAAAEAAQEAAQAAAAAAAQABAQEAAAABAAAAAQAAAAABAQAAAAAAAAEBAQEBAAAAAAAAAAABAAABAAABAAABAQEBAQAAAQABAQAAAAAAAAAAAAAAAAAAAQEAAAEAAQAAAQAAAAAAAAAAAAEBAQAAAAAAAAAAAAABAQEAAQAAAAAAAAAAAQAAAAAAAQEAAAAAAAEAAAAAAAAAAAAAAAABAAAAAAABAQABAQAAAAAAAQAAAAAAAAAAAQABAQAAAAAAAAAAAQEAAAAAAAAAAQABAAEAAAAAAAAAAAAAAAAAAAABAAAAAAABAQEBAAAAAAAAAAAAAAAAAAABAAAAAAAAAAAAAAAAAQAAAQABAAAAAAEAAAABAQABAAABAAAAAAAAAAAAAAAAAAAAAAAAAAAAAAAAAAABAAAAAQEAAAAAAQAAAAAAAAAAAAAAAAAAAAAAAAAAAQAAAQAAAAAAAAAAAAAAAAAAAAAAAAAAAAAAAAAAAAAAAAAAAQAAAAAAAAAAAAAAAAAAAAAAAAAAAAAAAAAAAAAAAQAAAAAAAQAAAAAAAAEAAAAAAAAAAAAAAAAAAAAAAAAAAAAAAAABAQEAAQEBAAEBAQAAAAEAAQEBAQEBAQEAAAEAAAEBAQAAAAEBAQEBAQABAQABAAABAQABAQAAAAAAAAABAAEAAAAAAAEAAAABAAEBAQAAAAABAAAAAAEAAAAAAAABAAABAAAAAAAAAAAAAAAAAAAAAQAAAAAAAQAAAAEAAQAAAAAAAAAAAAAAAAAAAQEAAAABAAAAAAAAAAAAAAAAAAAAAAAAAAAAAAEAAQAAAAAAAAAAAAABAAAAAAAAAAAAAAAAAAABAAAAAAAAAAAAAAAAAQAAAAEAAAAAAAAAAAAAAAAAAAAAAAAAAQAAAAAAAAAAAAAAAAAAAA=="
          },
          "coloraxis": "coloraxis",
          "symbol": "circle"
         },
         "mode": "markers",
         "name": "",
         "orientation": "v",
         "showlegend": false,
         "x": {
          "dtype": "f8",
          "bdata": "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"
         },
         "xaxis": "x",
         "y": {
          "dtype": "f8",
          "bdata": "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"
         },
         "yaxis": "y",
         "type": "scatter"
        }
       ],
       "layout": {
        "template": {
         "data": {
          "histogram2dcontour": [
           {
            "type": "histogram2dcontour",
            "colorbar": {
             "outlinewidth": 0,
             "ticks": ""
            },
            "colorscale": [
             [
              0.0,
              "#0d0887"
             ],
             [
              0.1111111111111111,
              "#46039f"
             ],
             [
              0.2222222222222222,
              "#7201a8"
             ],
             [
              0.3333333333333333,
              "#9c179e"
             ],
             [
              0.4444444444444444,
              "#bd3786"
             ],
             [
              0.5555555555555556,
              "#d8576b"
             ],
             [
              0.6666666666666666,
              "#ed7953"
             ],
             [
              0.7777777777777778,
              "#fb9f3a"
             ],
             [
              0.8888888888888888,
              "#fdca26"
             ],
             [
              1.0,
              "#f0f921"
             ]
            ]
           }
          ],
          "choropleth": [
           {
            "type": "choropleth",
            "colorbar": {
             "outlinewidth": 0,
             "ticks": ""
            }
           }
          ],
          "histogram2d": [
           {
            "type": "histogram2d",
            "colorbar": {
             "outlinewidth": 0,
             "ticks": ""
            },
            "colorscale": [
             [
              0.0,
              "#0d0887"
             ],
             [
              0.1111111111111111,
              "#46039f"
             ],
             [
              0.2222222222222222,
              "#7201a8"
             ],
             [
              0.3333333333333333,
              "#9c179e"
             ],
             [
              0.4444444444444444,
              "#bd3786"
             ],
             [
              0.5555555555555556,
              "#d8576b"
             ],
             [
              0.6666666666666666,
              "#ed7953"
             ],
             [
              0.7777777777777778,
              "#fb9f3a"
             ],
             [
              0.8888888888888888,
              "#fdca26"
             ],
             [
              1.0,
              "#f0f921"
             ]
            ]
           }
          ],
          "heatmap": [
           {
            "type": "heatmap",
            "colorbar": {
             "outlinewidth": 0,
             "ticks": ""
            },
            "colorscale": [
             [
              0.0,
              "#0d0887"
             ],
             [
              0.1111111111111111,
              "#46039f"
             ],
             [
              0.2222222222222222,
              "#7201a8"
             ],
             [
              0.3333333333333333,
              "#9c179e"
             ],
             [
              0.4444444444444444,
              "#bd3786"
             ],
             [
              0.5555555555555556,
              "#d8576b"
             ],
             [
              0.6666666666666666,
              "#ed7953"
             ],
             [
              0.7777777777777778,
              "#fb9f3a"
             ],
             [
              0.8888888888888888,
              "#fdca26"
             ],
             [
              1.0,
              "#f0f921"
             ]
            ]
           }
          ],
          "contourcarpet": [
           {
            "type": "contourcarpet",
            "colorbar": {
             "outlinewidth": 0,
             "ticks": ""
            }
           }
          ],
          "contour": [
           {
            "type": "contour",
            "colorbar": {
             "outlinewidth": 0,
             "ticks": ""
            },
            "colorscale": [
             [
              0.0,
              "#0d0887"
             ],
             [
              0.1111111111111111,
              "#46039f"
             ],
             [
              0.2222222222222222,
              "#7201a8"
             ],
             [
              0.3333333333333333,
              "#9c179e"
             ],
             [
              0.4444444444444444,
              "#bd3786"
             ],
             [
              0.5555555555555556,
              "#d8576b"
             ],
             [
              0.6666666666666666,
              "#ed7953"
             ],
             [
              0.7777777777777778,
              "#fb9f3a"
             ],
             [
              0.8888888888888888,
              "#fdca26"
             ],
             [
              1.0,
              "#f0f921"
             ]
            ]
           }
          ],
          "surface": [
           {
            "type": "surface",
            "colorbar": {
             "outlinewidth": 0,
             "ticks": ""
            },
            "colorscale": [
             [
              0.0,
              "#0d0887"
             ],
             [
              0.1111111111111111,
              "#46039f"
             ],
             [
              0.2222222222222222,
              "#7201a8"
             ],
             [
              0.3333333333333333,
              "#9c179e"
             ],
             [
              0.4444444444444444,
              "#bd3786"
             ],
             [
              0.5555555555555556,
              "#d8576b"
             ],
             [
              0.6666666666666666,
              "#ed7953"
             ],
             [
              0.7777777777777778,
              "#fb9f3a"
             ],
             [
              0.8888888888888888,
              "#fdca26"
             ],
             [
              1.0,
              "#f0f921"
             ]
            ]
           }
          ],
          "mesh3d": [
           {
            "type": "mesh3d",
            "colorbar": {
             "outlinewidth": 0,
             "ticks": ""
            }
           }
          ],
          "scatter": [
           {
            "marker": {
             "line": {
              "color": "#283442"
             }
            },
            "type": "scatter"
           }
          ],
          "parcoords": [
           {
            "type": "parcoords",
            "line": {
             "colorbar": {
              "outlinewidth": 0,
              "ticks": ""
             }
            }
           }
          ],
          "scatterpolargl": [
           {
            "type": "scatterpolargl",
            "marker": {
             "colorbar": {
              "outlinewidth": 0,
              "ticks": ""
             }
            }
           }
          ],
          "bar": [
           {
            "error_x": {
             "color": "#f2f5fa"
            },
            "error_y": {
             "color": "#f2f5fa"
            },
            "marker": {
             "line": {
              "color": "rgb(17,17,17)",
              "width": 0.5
             },
             "pattern": {
              "fillmode": "overlay",
              "size": 10,
              "solidity": 0.2
             }
            },
            "type": "bar"
           }
          ],
          "scattergeo": [
           {
            "type": "scattergeo",
            "marker": {
             "colorbar": {
              "outlinewidth": 0,
              "ticks": ""
             }
            }
           }
          ],
          "scatterpolar": [
           {
            "type": "scatterpolar",
            "marker": {
             "colorbar": {
              "outlinewidth": 0,
              "ticks": ""
             }
            }
           }
          ],
          "histogram": [
           {
            "marker": {
             "pattern": {
              "fillmode": "overlay",
              "size": 10,
              "solidity": 0.2
             }
            },
            "type": "histogram"
           }
          ],
          "scattergl": [
           {
            "marker": {
             "line": {
              "color": "#283442"
             }
            },
            "type": "scattergl"
           }
          ],
          "scatter3d": [
           {
            "type": "scatter3d",
            "line": {
             "colorbar": {
              "outlinewidth": 0,
              "ticks": ""
             }
            },
            "marker": {
             "colorbar": {
              "outlinewidth": 0,
              "ticks": ""
             }
            }
           }
          ],
          "scattermap": [
           {
            "type": "scattermap",
            "marker": {
             "colorbar": {
              "outlinewidth": 0,
              "ticks": ""
             }
            }
           }
          ],
          "scattermapbox": [
           {
            "type": "scattermapbox",
            "marker": {
             "colorbar": {
              "outlinewidth": 0,
              "ticks": ""
             }
            }
           }
          ],
          "scatterternary": [
           {
            "type": "scatterternary",
            "marker": {
             "colorbar": {
              "outlinewidth": 0,
              "ticks": ""
             }
            }
           }
          ],
          "scattercarpet": [
           {
            "type": "scattercarpet",
            "marker": {
             "colorbar": {
              "outlinewidth": 0,
              "ticks": ""
             }
            }
           }
          ],
          "carpet": [
           {
            "aaxis": {
             "endlinecolor": "#A2B1C6",
             "gridcolor": "#506784",
             "linecolor": "#506784",
             "minorgridcolor": "#506784",
             "startlinecolor": "#A2B1C6"
            },
            "baxis": {
             "endlinecolor": "#A2B1C6",
             "gridcolor": "#506784",
             "linecolor": "#506784",
             "minorgridcolor": "#506784",
             "startlinecolor": "#A2B1C6"
            },
            "type": "carpet"
           }
          ],
          "table": [
           {
            "cells": {
             "fill": {
              "color": "#506784"
             },
             "line": {
              "color": "rgb(17,17,17)"
             }
            },
            "header": {
             "fill": {
              "color": "#2a3f5f"
             },
             "line": {
              "color": "rgb(17,17,17)"
             }
            },
            "type": "table"
           }
          ],
          "barpolar": [
           {
            "marker": {
             "line": {
              "color": "rgb(17,17,17)",
              "width": 0.5
             },
             "pattern": {
              "fillmode": "overlay",
              "size": 10,
              "solidity": 0.2
             }
            },
            "type": "barpolar"
           }
          ],
          "pie": [
           {
            "automargin": true,
            "type": "pie"
           }
          ]
         },
         "layout": {
          "autotypenumbers": "strict",
          "colorway": [
           "#636efa",
           "#EF553B",
           "#00cc96",
           "#ab63fa",
           "#FFA15A",
           "#19d3f3",
           "#FF6692",
           "#B6E880",
           "#FF97FF",
           "#FECB52"
          ],
          "font": {
           "color": "#f2f5fa"
          },
          "hovermode": "closest",
          "hoverlabel": {
           "align": "left"
          },
          "paper_bgcolor": "rgb(17,17,17)",
          "plot_bgcolor": "rgb(17,17,17)",
          "polar": {
           "bgcolor": "rgb(17,17,17)",
           "angularaxis": {
            "gridcolor": "#506784",
            "linecolor": "#506784",
            "ticks": ""
           },
           "radialaxis": {
            "gridcolor": "#506784",
            "linecolor": "#506784",
            "ticks": ""
           }
          },
          "ternary": {
           "bgcolor": "rgb(17,17,17)",
           "aaxis": {
            "gridcolor": "#506784",
            "linecolor": "#506784",
            "ticks": ""
           },
           "baxis": {
            "gridcolor": "#506784",
            "linecolor": "#506784",
            "ticks": ""
           },
           "caxis": {
            "gridcolor": "#506784",
            "linecolor": "#506784",
            "ticks": ""
           }
          },
          "coloraxis": {
           "colorbar": {
            "outlinewidth": 0,
            "ticks": ""
           }
          },
          "colorscale": {
           "sequential": [
            [
             0.0,
             "#0d0887"
            ],
            [
             0.1111111111111111,
             "#46039f"
            ],
            [
             0.2222222222222222,
             "#7201a8"
            ],
            [
             0.3333333333333333,
             "#9c179e"
            ],
            [
             0.4444444444444444,
             "#bd3786"
            ],
            [
             0.5555555555555556,
             "#d8576b"
            ],
            [
             0.6666666666666666,
             "#ed7953"
            ],
            [
             0.7777777777777778,
             "#fb9f3a"
            ],
            [
             0.8888888888888888,
             "#fdca26"
            ],
            [
             1.0,
             "#f0f921"
            ]
           ],
           "sequentialminus": [
            [
             0.0,
             "#0d0887"
            ],
            [
             0.1111111111111111,
             "#46039f"
            ],
            [
             0.2222222222222222,
             "#7201a8"
            ],
            [
             0.3333333333333333,
             "#9c179e"
            ],
            [
             0.4444444444444444,
             "#bd3786"
            ],
            [
             0.5555555555555556,
             "#d8576b"
            ],
            [
             0.6666666666666666,
             "#ed7953"
            ],
            [
             0.7777777777777778,
             "#fb9f3a"
            ],
            [
             0.8888888888888888,
             "#fdca26"
            ],
            [
             1.0,
             "#f0f921"
            ]
           ],
           "diverging": [
            [
             0,
             "#8e0152"
            ],
            [
             0.1,
             "#c51b7d"
            ],
            [
             0.2,
             "#de77ae"
            ],
            [
             0.3,
             "#f1b6da"
            ],
            [
             0.4,
             "#fde0ef"
            ],
            [
             0.5,
             "#f7f7f7"
            ],
            [
             0.6,
             "#e6f5d0"
            ],
            [
             0.7,
             "#b8e186"
            ],
            [
             0.8,
             "#7fbc41"
            ],
            [
             0.9,
             "#4d9221"
            ],
            [
             1,
             "#276419"
            ]
           ]
          },
          "xaxis": {
           "gridcolor": "#283442",
           "linecolor": "#506784",
           "ticks": "",
           "title": {
            "standoff": 15
           },
           "zerolinecolor": "#283442",
           "automargin": true,
           "zerolinewidth": 2
          },
          "yaxis": {
           "gridcolor": "#283442",
           "linecolor": "#506784",
           "ticks": "",
           "title": {
            "standoff": 15
           },
           "zerolinecolor": "#283442",
           "automargin": true,
           "zerolinewidth": 2
          },
          "scene": {
           "xaxis": {
            "backgroundcolor": "rgb(17,17,17)",
            "gridcolor": "#506784",
            "linecolor": "#506784",
            "showbackground": true,
            "ticks": "",
            "zerolinecolor": "#C8D4E3",
            "gridwidth": 2
           },
           "yaxis": {
            "backgroundcolor": "rgb(17,17,17)",
            "gridcolor": "#506784",
            "linecolor": "#506784",
            "showbackground": true,
            "ticks": "",
            "zerolinecolor": "#C8D4E3",
            "gridwidth": 2
           },
           "zaxis": {
            "backgroundcolor": "rgb(17,17,17)",
            "gridcolor": "#506784",
            "linecolor": "#506784",
            "showbackground": true,
            "ticks": "",
            "zerolinecolor": "#C8D4E3",
            "gridwidth": 2
           }
          },
          "shapedefaults": {
           "line": {
            "color": "#f2f5fa"
           }
          },
          "annotationdefaults": {
           "arrowcolor": "#f2f5fa",
           "arrowhead": 0,
           "arrowwidth": 1
          },
          "geo": {
           "bgcolor": "rgb(17,17,17)",
           "landcolor": "rgb(17,17,17)",
           "subunitcolor": "#506784",
           "showland": true,
           "showlakes": true,
           "lakecolor": "rgb(17,17,17)"
          },
          "title": {
           "x": 0.05
          },
          "updatemenudefaults": {
           "bgcolor": "#506784",
           "borderwidth": 0
          },
          "sliderdefaults": {
           "bgcolor": "#C8D4E3",
           "borderwidth": 1,
           "bordercolor": "rgb(17,17,17)",
           "tickwidth": 0
          },
          "mapbox": {
           "style": "dark"
          }
         }
        },
        "xaxis": {
         "anchor": "y",
         "domain": [
          0.0,
          1.0
         ],
         "title": {
          "text": "total_blood_donated"
         }
        },
        "yaxis": {
         "anchor": "x",
         "domain": [
          0.0,
          1.0
         ],
         "title": {
          "text": "total_number_of_donations"
         }
        },
        "coloraxis": {
         "colorbar": {
          "title": {
           "text": "class"
          }
         },
         "colorscale": [
          [
           0.0,
           "#0d0887"
          ],
          [
           0.1111111111111111,
           "#46039f"
          ],
          [
           0.2222222222222222,
           "#7201a8"
          ],
          [
           0.3333333333333333,
           "#9c179e"
          ],
          [
           0.4444444444444444,
           "#bd3786"
          ],
          [
           0.5555555555555556,
           "#d8576b"
          ],
          [
           0.6666666666666666,
           "#ed7953"
          ],
          [
           0.7777777777777778,
           "#fb9f3a"
          ],
          [
           0.8888888888888888,
           "#fdca26"
          ],
          [
           1.0,
           "#f0f921"
          ]
         ]
        },
        "legend": {
         "tracegroupgap": 0
        },
        "margin": {
         "t": 60
        }
       },
       "config": {
        "plotlyServerURL": "https://plot.ly"
       }
      }
     },
     "metadata": {},
     "output_type": "display_data"
    },
    {
     "data": {
      "application/vnd.plotly.v1+json": {
       "data": [
        {
         "hovertemplate": "months_since_last_donation=%{x}<br>total_blood_donated=%{y}<br>total_number_of_donations=%{z}<br>class=%{marker.color}<extra></extra>",
         "legendgroup": "",
         "marker": {
          "color": {
           "dtype": "i1",
           "bdata": "AQEBAQAAAQABAQAAAQABAQEBAQEBAAEBAAAAAQEAAAEBAQABAQEBAQEAAQABAQAAAAAAAQAAAQEBAQAAAAEAAQEAAQAAAAAAAQABAQEAAAABAAAAAQAAAAABAQAAAAAAAAEBAQEBAAAAAAAAAAABAAABAAABAAABAQEBAQAAAQABAQAAAAAAAAAAAAAAAAAAAQEAAAEAAQAAAQAAAAAAAAAAAAEBAQAAAAAAAAAAAAABAQEAAQAAAAAAAAAAAQAAAAAAAQEAAAAAAAEAAAAAAAAAAAAAAAABAAAAAAABAQABAQAAAAAAAQAAAAAAAAAAAQABAQAAAAAAAAAAAQEAAAAAAAAAAQABAAEAAAAAAAAAAAAAAAAAAAABAAAAAAABAQEBAAAAAAAAAAAAAAAAAAABAAAAAAAAAAAAAAAAAQAAAQABAAAAAAEAAAABAQABAAABAAAAAAAAAAAAAAAAAAAAAAAAAAAAAAAAAAABAAAAAQEAAAAAAQAAAAAAAAAAAAAAAAAAAAAAAAAAAQAAAQAAAAAAAAAAAAAAAAAAAAAAAAAAAAAAAAAAAAAAAAAAAQAAAAAAAAAAAAAAAAAAAAAAAAAAAAAAAAAAAAAAAQAAAAAAAQAAAAAAAAEAAAAAAAAAAAAAAAAAAAAAAAAAAAAAAAABAQEAAQEBAAEBAQAAAAEAAQEBAQEBAQEAAAEAAAEBAQAAAAEBAQEBAQABAQABAAABAQABAQAAAAAAAAABAAEAAAAAAAEAAAABAAEBAQAAAAABAAAAAAEAAAAAAAABAAABAAAAAAAAAAAAAAAAAAAAAQAAAAAAAQAAAAEAAQAAAAAAAAAAAAAAAAAAAQEAAAABAAAAAAAAAAAAAAAAAAAAAAAAAAAAAAEAAQAAAAAAAAAAAAABAAAAAAAAAAAAAAAAAAABAAAAAAAAAAAAAAAAAQAAAAEAAAAAAAAAAAAAAAAAAAAAAAAAAQAAAAAAAAAAAAAAAAAAAA=="
          },
          "coloraxis": "coloraxis",
          "symbol": "circle"
         },
         "mode": "markers",
         "name": "",
         "scene": "scene",
         "showlegend": false,
         "x": {
          "dtype": "f8",
          "bdata": "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"
         },
         "y": {
          "dtype": "f8",
          "bdata": "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"
         },
         "z": {
          "dtype": "f8",
          "bdata": "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"
         },
         "type": "scatter3d"
        }
       ],
       "layout": {
        "template": {
         "data": {
          "histogram2dcontour": [
           {
            "type": "histogram2dcontour",
            "colorbar": {
             "outlinewidth": 0,
             "ticks": ""
            },
            "colorscale": [
             [
              0.0,
              "#0d0887"
             ],
             [
              0.1111111111111111,
              "#46039f"
             ],
             [
              0.2222222222222222,
              "#7201a8"
             ],
             [
              0.3333333333333333,
              "#9c179e"
             ],
             [
              0.4444444444444444,
              "#bd3786"
             ],
             [
              0.5555555555555556,
              "#d8576b"
             ],
             [
              0.6666666666666666,
              "#ed7953"
             ],
             [
              0.7777777777777778,
              "#fb9f3a"
             ],
             [
              0.8888888888888888,
              "#fdca26"
             ],
             [
              1.0,
              "#f0f921"
             ]
            ]
           }
          ],
          "choropleth": [
           {
            "type": "choropleth",
            "colorbar": {
             "outlinewidth": 0,
             "ticks": ""
            }
           }
          ],
          "histogram2d": [
           {
            "type": "histogram2d",
            "colorbar": {
             "outlinewidth": 0,
             "ticks": ""
            },
            "colorscale": [
             [
              0.0,
              "#0d0887"
             ],
             [
              0.1111111111111111,
              "#46039f"
             ],
             [
              0.2222222222222222,
              "#7201a8"
             ],
             [
              0.3333333333333333,
              "#9c179e"
             ],
             [
              0.4444444444444444,
              "#bd3786"
             ],
             [
              0.5555555555555556,
              "#d8576b"
             ],
             [
              0.6666666666666666,
              "#ed7953"
             ],
             [
              0.7777777777777778,
              "#fb9f3a"
             ],
             [
              0.8888888888888888,
              "#fdca26"
             ],
             [
              1.0,
              "#f0f921"
             ]
            ]
           }
          ],
          "heatmap": [
           {
            "type": "heatmap",
            "colorbar": {
             "outlinewidth": 0,
             "ticks": ""
            },
            "colorscale": [
             [
              0.0,
              "#0d0887"
             ],
             [
              0.1111111111111111,
              "#46039f"
             ],
             [
              0.2222222222222222,
              "#7201a8"
             ],
             [
              0.3333333333333333,
              "#9c179e"
             ],
             [
              0.4444444444444444,
              "#bd3786"
             ],
             [
              0.5555555555555556,
              "#d8576b"
             ],
             [
              0.6666666666666666,
              "#ed7953"
             ],
             [
              0.7777777777777778,
              "#fb9f3a"
             ],
             [
              0.8888888888888888,
              "#fdca26"
             ],
             [
              1.0,
              "#f0f921"
             ]
            ]
           }
          ],
          "contourcarpet": [
           {
            "type": "contourcarpet",
            "colorbar": {
             "outlinewidth": 0,
             "ticks": ""
            }
           }
          ],
          "contour": [
           {
            "type": "contour",
            "colorbar": {
             "outlinewidth": 0,
             "ticks": ""
            },
            "colorscale": [
             [
              0.0,
              "#0d0887"
             ],
             [
              0.1111111111111111,
              "#46039f"
             ],
             [
              0.2222222222222222,
              "#7201a8"
             ],
             [
              0.3333333333333333,
              "#9c179e"
             ],
             [
              0.4444444444444444,
              "#bd3786"
             ],
             [
              0.5555555555555556,
              "#d8576b"
             ],
             [
              0.6666666666666666,
              "#ed7953"
             ],
             [
              0.7777777777777778,
              "#fb9f3a"
             ],
             [
              0.8888888888888888,
              "#fdca26"
             ],
             [
              1.0,
              "#f0f921"
             ]
            ]
           }
          ],
          "surface": [
           {
            "type": "surface",
            "colorbar": {
             "outlinewidth": 0,
             "ticks": ""
            },
            "colorscale": [
             [
              0.0,
              "#0d0887"
             ],
             [
              0.1111111111111111,
              "#46039f"
             ],
             [
              0.2222222222222222,
              "#7201a8"
             ],
             [
              0.3333333333333333,
              "#9c179e"
             ],
             [
              0.4444444444444444,
              "#bd3786"
             ],
             [
              0.5555555555555556,
              "#d8576b"
             ],
             [
              0.6666666666666666,
              "#ed7953"
             ],
             [
              0.7777777777777778,
              "#fb9f3a"
             ],
             [
              0.8888888888888888,
              "#fdca26"
             ],
             [
              1.0,
              "#f0f921"
             ]
            ]
           }
          ],
          "mesh3d": [
           {
            "type": "mesh3d",
            "colorbar": {
             "outlinewidth": 0,
             "ticks": ""
            }
           }
          ],
          "scatter": [
           {
            "marker": {
             "line": {
              "color": "#283442"
             }
            },
            "type": "scatter"
           }
          ],
          "parcoords": [
           {
            "type": "parcoords",
            "line": {
             "colorbar": {
              "outlinewidth": 0,
              "ticks": ""
             }
            }
           }
          ],
          "scatterpolargl": [
           {
            "type": "scatterpolargl",
            "marker": {
             "colorbar": {
              "outlinewidth": 0,
              "ticks": ""
             }
            }
           }
          ],
          "bar": [
           {
            "error_x": {
             "color": "#f2f5fa"
            },
            "error_y": {
             "color": "#f2f5fa"
            },
            "marker": {
             "line": {
              "color": "rgb(17,17,17)",
              "width": 0.5
             },
             "pattern": {
              "fillmode": "overlay",
              "size": 10,
              "solidity": 0.2
             }
            },
            "type": "bar"
           }
          ],
          "scattergeo": [
           {
            "type": "scattergeo",
            "marker": {
             "colorbar": {
              "outlinewidth": 0,
              "ticks": ""
             }
            }
           }
          ],
          "scatterpolar": [
           {
            "type": "scatterpolar",
            "marker": {
             "colorbar": {
              "outlinewidth": 0,
              "ticks": ""
             }
            }
           }
          ],
          "histogram": [
           {
            "marker": {
             "pattern": {
              "fillmode": "overlay",
              "size": 10,
              "solidity": 0.2
             }
            },
            "type": "histogram"
           }
          ],
          "scattergl": [
           {
            "marker": {
             "line": {
              "color": "#283442"
             }
            },
            "type": "scattergl"
           }
          ],
          "scatter3d": [
           {
            "type": "scatter3d",
            "line": {
             "colorbar": {
              "outlinewidth": 0,
              "ticks": ""
             }
            },
            "marker": {
             "colorbar": {
              "outlinewidth": 0,
              "ticks": ""
             }
            }
           }
          ],
          "scattermap": [
           {
            "type": "scattermap",
            "marker": {
             "colorbar": {
              "outlinewidth": 0,
              "ticks": ""
             }
            }
           }
          ],
          "scattermapbox": [
           {
            "type": "scattermapbox",
            "marker": {
             "colorbar": {
              "outlinewidth": 0,
              "ticks": ""
             }
            }
           }
          ],
          "scatterternary": [
           {
            "type": "scatterternary",
            "marker": {
             "colorbar": {
              "outlinewidth": 0,
              "ticks": ""
             }
            }
           }
          ],
          "scattercarpet": [
           {
            "type": "scattercarpet",
            "marker": {
             "colorbar": {
              "outlinewidth": 0,
              "ticks": ""
             }
            }
           }
          ],
          "carpet": [
           {
            "aaxis": {
             "endlinecolor": "#A2B1C6",
             "gridcolor": "#506784",
             "linecolor": "#506784",
             "minorgridcolor": "#506784",
             "startlinecolor": "#A2B1C6"
            },
            "baxis": {
             "endlinecolor": "#A2B1C6",
             "gridcolor": "#506784",
             "linecolor": "#506784",
             "minorgridcolor": "#506784",
             "startlinecolor": "#A2B1C6"
            },
            "type": "carpet"
           }
          ],
          "table": [
           {
            "cells": {
             "fill": {
              "color": "#506784"
             },
             "line": {
              "color": "rgb(17,17,17)"
             }
            },
            "header": {
             "fill": {
              "color": "#2a3f5f"
             },
             "line": {
              "color": "rgb(17,17,17)"
             }
            },
            "type": "table"
           }
          ],
          "barpolar": [
           {
            "marker": {
             "line": {
              "color": "rgb(17,17,17)",
              "width": 0.5
             },
             "pattern": {
              "fillmode": "overlay",
              "size": 10,
              "solidity": 0.2
             }
            },
            "type": "barpolar"
           }
          ],
          "pie": [
           {
            "automargin": true,
            "type": "pie"
           }
          ]
         },
         "layout": {
          "autotypenumbers": "strict",
          "colorway": [
           "#636efa",
           "#EF553B",
           "#00cc96",
           "#ab63fa",
           "#FFA15A",
           "#19d3f3",
           "#FF6692",
           "#B6E880",
           "#FF97FF",
           "#FECB52"
          ],
          "font": {
           "color": "#f2f5fa"
          },
          "hovermode": "closest",
          "hoverlabel": {
           "align": "left"
          },
          "paper_bgcolor": "rgb(17,17,17)",
          "plot_bgcolor": "rgb(17,17,17)",
          "polar": {
           "bgcolor": "rgb(17,17,17)",
           "angularaxis": {
            "gridcolor": "#506784",
            "linecolor": "#506784",
            "ticks": ""
           },
           "radialaxis": {
            "gridcolor": "#506784",
            "linecolor": "#506784",
            "ticks": ""
           }
          },
          "ternary": {
           "bgcolor": "rgb(17,17,17)",
           "aaxis": {
            "gridcolor": "#506784",
            "linecolor": "#506784",
            "ticks": ""
           },
           "baxis": {
            "gridcolor": "#506784",
            "linecolor": "#506784",
            "ticks": ""
           },
           "caxis": {
            "gridcolor": "#506784",
            "linecolor": "#506784",
            "ticks": ""
           }
          },
          "coloraxis": {
           "colorbar": {
            "outlinewidth": 0,
            "ticks": ""
           }
          },
          "colorscale": {
           "sequential": [
            [
             0.0,
             "#0d0887"
            ],
            [
             0.1111111111111111,
             "#46039f"
            ],
            [
             0.2222222222222222,
             "#7201a8"
            ],
            [
             0.3333333333333333,
             "#9c179e"
            ],
            [
             0.4444444444444444,
             "#bd3786"
            ],
            [
             0.5555555555555556,
             "#d8576b"
            ],
            [
             0.6666666666666666,
             "#ed7953"
            ],
            [
             0.7777777777777778,
             "#fb9f3a"
            ],
            [
             0.8888888888888888,
             "#fdca26"
            ],
            [
             1.0,
             "#f0f921"
            ]
           ],
           "sequentialminus": [
            [
             0.0,
             "#0d0887"
            ],
            [
             0.1111111111111111,
             "#46039f"
            ],
            [
             0.2222222222222222,
             "#7201a8"
            ],
            [
             0.3333333333333333,
             "#9c179e"
            ],
            [
             0.4444444444444444,
             "#bd3786"
            ],
            [
             0.5555555555555556,
             "#d8576b"
            ],
            [
             0.6666666666666666,
             "#ed7953"
            ],
            [
             0.7777777777777778,
             "#fb9f3a"
            ],
            [
             0.8888888888888888,
             "#fdca26"
            ],
            [
             1.0,
             "#f0f921"
            ]
           ],
           "diverging": [
            [
             0,
             "#8e0152"
            ],
            [
             0.1,
             "#c51b7d"
            ],
            [
             0.2,
             "#de77ae"
            ],
            [
             0.3,
             "#f1b6da"
            ],
            [
             0.4,
             "#fde0ef"
            ],
            [
             0.5,
             "#f7f7f7"
            ],
            [
             0.6,
             "#e6f5d0"
            ],
            [
             0.7,
             "#b8e186"
            ],
            [
             0.8,
             "#7fbc41"
            ],
            [
             0.9,
             "#4d9221"
            ],
            [
             1,
             "#276419"
            ]
           ]
          },
          "xaxis": {
           "gridcolor": "#283442",
           "linecolor": "#506784",
           "ticks": "",
           "title": {
            "standoff": 15
           },
           "zerolinecolor": "#283442",
           "automargin": true,
           "zerolinewidth": 2
          },
          "yaxis": {
           "gridcolor": "#283442",
           "linecolor": "#506784",
           "ticks": "",
           "title": {
            "standoff": 15
           },
           "zerolinecolor": "#283442",
           "automargin": true,
           "zerolinewidth": 2
          },
          "scene": {
           "xaxis": {
            "backgroundcolor": "rgb(17,17,17)",
            "gridcolor": "#506784",
            "linecolor": "#506784",
            "showbackground": true,
            "ticks": "",
            "zerolinecolor": "#C8D4E3",
            "gridwidth": 2
           },
           "yaxis": {
            "backgroundcolor": "rgb(17,17,17)",
            "gridcolor": "#506784",
            "linecolor": "#506784",
            "showbackground": true,
            "ticks": "",
            "zerolinecolor": "#C8D4E3",
            "gridwidth": 2
           },
           "zaxis": {
            "backgroundcolor": "rgb(17,17,17)",
            "gridcolor": "#506784",
            "linecolor": "#506784",
            "showbackground": true,
            "ticks": "",
            "zerolinecolor": "#C8D4E3",
            "gridwidth": 2
           }
          },
          "shapedefaults": {
           "line": {
            "color": "#f2f5fa"
           }
          },
          "annotationdefaults": {
           "arrowcolor": "#f2f5fa",
           "arrowhead": 0,
           "arrowwidth": 1
          },
          "geo": {
           "bgcolor": "rgb(17,17,17)",
           "landcolor": "rgb(17,17,17)",
           "subunitcolor": "#506784",
           "showland": true,
           "showlakes": true,
           "lakecolor": "rgb(17,17,17)"
          },
          "title": {
           "x": 0.05
          },
          "updatemenudefaults": {
           "bgcolor": "#506784",
           "borderwidth": 0
          },
          "sliderdefaults": {
           "bgcolor": "#C8D4E3",
           "borderwidth": 1,
           "bordercolor": "rgb(17,17,17)",
           "tickwidth": 0
          },
          "mapbox": {
           "style": "dark"
          }
         }
        },
        "scene": {
         "domain": {
          "x": [
           0.0,
           1.0
          ],
          "y": [
           0.0,
           1.0
          ]
         },
         "xaxis": {
          "title": {
           "text": "months_since_last_donation"
          }
         },
         "yaxis": {
          "title": {
           "text": "total_blood_donated"
          }
         },
         "zaxis": {
          "title": {
           "text": "total_number_of_donations"
          }
         }
        },
        "coloraxis": {
         "colorbar": {
          "title": {
           "text": "class"
          }
         },
         "colorscale": [
          [
           0.0,
           "#0d0887"
          ],
          [
           0.1111111111111111,
           "#46039f"
          ],
          [
           0.2222222222222222,
           "#7201a8"
          ],
          [
           0.3333333333333333,
           "#9c179e"
          ],
          [
           0.4444444444444444,
           "#bd3786"
          ],
          [
           0.5555555555555556,
           "#d8576b"
          ],
          [
           0.6666666666666666,
           "#ed7953"
          ],
          [
           0.7777777777777778,
           "#fb9f3a"
          ],
          [
           0.8888888888888888,
           "#fdca26"
          ],
          [
           1.0,
           "#f0f921"
          ]
         ]
        },
        "legend": {
         "tracegroupgap": 0
        },
        "title": {
         "text": "3d scatter"
        }
       },
       "config": {
        "plotlyServerURL": "https://plot.ly"
       }
      }
     },
     "metadata": {},
     "output_type": "display_data"
    },
    {
     "data": {
      "application/vnd.plotly.v1+json": {
       "data": [
        {
         "hovertemplate": "months_since_last_donation=%{x}<br>total_blood_donated=%{y}<br>months_since_first_donation=%{z}<br>class=%{marker.color}<extra></extra>",
         "legendgroup": "",
         "marker": {
          "color": {
           "dtype": "i1",
           "bdata": "AQEBAQAAAQABAQAAAQABAQEBAQEBAAEBAAAAAQEAAAEBAQABAQEBAQEAAQABAQAAAAAAAQAAAQEBAQAAAAEAAQEAAQAAAAAAAQABAQEAAAABAAAAAQAAAAABAQAAAAAAAAEBAQEBAAAAAAAAAAABAAABAAABAAABAQEBAQAAAQABAQAAAAAAAAAAAAAAAAAAAQEAAAEAAQAAAQAAAAAAAAAAAAEBAQAAAAAAAAAAAAABAQEAAQAAAAAAAAAAAQAAAAAAAQEAAAAAAAEAAAAAAAAAAAAAAAABAAAAAAABAQABAQAAAAAAAQAAAAAAAAAAAQABAQAAAAAAAAAAAQEAAAAAAAAAAQABAAEAAAAAAAAAAAAAAAAAAAABAAAAAAABAQEBAAAAAAAAAAAAAAAAAAABAAAAAAAAAAAAAAAAAQAAAQABAAAAAAEAAAABAQABAAABAAAAAAAAAAAAAAAAAAAAAAAAAAAAAAAAAAABAAAAAQEAAAAAAQAAAAAAAAAAAAAAAAAAAAAAAAAAAQAAAQAAAAAAAAAAAAAAAAAAAAAAAAAAAAAAAAAAAAAAAAAAAQAAAAAAAAAAAAAAAAAAAAAAAAAAAAAAAAAAAAAAAQAAAAAAAQAAAAAAAAEAAAAAAAAAAAAAAAAAAAAAAAAAAAAAAAABAQEAAQEBAAEBAQAAAAEAAQEBAQEBAQEAAAEAAAEBAQAAAAEBAQEBAQABAQABAAABAQABAQAAAAAAAAABAAEAAAAAAAEAAAABAAEBAQAAAAABAAAAAAEAAAAAAAABAAABAAAAAAAAAAAAAAAAAAAAAQAAAAAAAQAAAAEAAQAAAAAAAAAAAAAAAAAAAQEAAAABAAAAAAAAAAAAAAAAAAAAAAAAAAAAAAEAAQAAAAAAAAAAAAABAAAAAAAAAAAAAAAAAAABAAAAAAAAAAAAAAAAAQAAAAEAAAAAAAAAAAAAAAAAAAAAAAAAAQAAAAAAAAAAAAAAAAAAAA=="
          },
          "coloraxis": "coloraxis",
          "symbol": "circle"
         },
         "mode": "markers",
         "name": "",
         "scene": "scene",
         "showlegend": false,
         "x": {
          "dtype": "f8",
          "bdata": "AAAAAAAAAEAAAAAAAAAAAAAAAAAAAPA/AAAAAAAAAEAAAAAAAADwPwAAAAAAABBAAAAAAAAAAEAAAAAAAADwPwAAAAAAAABAAAAAAAAAFEAAAAAAAAAQQAAAAAAAAAAAAAAAAAAAAEAAAAAAAADwPwAAAAAAAABAAAAAAAAAAEAAAAAAAAAAQAAAAAAAAABAAAAAAAAAAEAAAAAAAAAAQAAAAAAAAABAAAAAAAAAEEAAAAAAAAAAQAAAAAAAAABAAAAAAAAAIkAAAAAAAAAQQAAAAAAAABBAAAAAAAAAEEAAAAAAAAAQQAAAAAAAABBAAAAAAAAA8D8AAAAAAAAQQAAAAAAAABBAAAAAAAAAEEAAAAAAAAAAQAAAAAAAAABAAAAAAAAAAEAAAAAAAAAQQAAAAAAAAABAAAAAAAAAEEAAAAAAAAAAQAAAAAAAAABAAAAAAAAAAEAAAAAAAAAAQAAAAAAAABBAAAAAAAAAEEAAAAAAAAAAQAAAAAAAAABAAAAAAAAAAEAAAAAAAAAAQAAAAAAAAABAAAAAAAAAAEAAAAAAAAAAQAAAAAAAAABAAAAAAAAAEEAAAAAAAAAQQAAAAAAAABBAAAAAAAAAAEAAAAAAAAAAQAAAAAAAAAhAAAAAAAAAAEAAAAAAAAAAQAAAAAAAAABAAAAAAAAAEEAAAAAAAAAAQAAAAAAAAAhAAAAAAAAAAEAAAAAAAAAAAAAAAAAAABBAAAAAAAAA8D8AAAAAAAAAQAAAAAAAAABAAAAAAAAAEEAAAAAAAAAAQAAAAAAAAABAAAAAAAAAAEAAAAAAAAAAQAAAAAAAAABAAAAAAAAAAEAAAAAAAAAAQAAAAAAAABBAAAAAAAAAAEAAAAAAAAAAQAAAAAAAAABAAAAAAAAAAEAAAAAAAAAAQAAAAAAAABBAAAAAAAAAEEAAAAAAAAAQQAAAAAAAAABAAAAAAAAAEEAAAAAAAAAQQAAAAAAAABBAAAAAAAAAEEAAAAAAAAAoQAAAAAAAABBAAAAAAAAACEAAAAAAAAAQQAAAAAAAABBAAAAAAAAAFEAAAAAAAAAQQAAAAAAAAABAAAAAAAAAEEAAAAAAAAAAQAAAAAAAAABAAAAAAAAAGEAAAAAAAAAAAAAAAAAAAAhAAAAAAAAAAEAAAAAAAAAAQAAAAAAAABBAAAAAAAAAEEAAAAAAAAAQQAAAAAAAABBAAAAAAAAAAEAAAAAAAAAmQAAAAAAAAABAAAAAAAAAEEAAAAAAAADwPwAAAAAAAABAAAAAAAAAAEAAAAAAAAAQQAAAAAAAAABAAAAAAAAAAEAAAAAAAAAAQAAAAAAAAABAAAAAAAAAEEAAAAAAAAAAQAAAAAAAABBAAAAAAAAAAEAAAAAAAAAQQAAAAAAAAABAAAAAAAAAAEAAAAAAAAAQQAAAAAAAAABAAAAAAAAAAEAAAAAAAAAAQAAAAAAAAABAAAAAAAAAIkAAAAAAAAAAQAAAAAAAAABAAAAAAAAAFEAAAAAAAAAQQAAAAAAAABBAAAAAAAAAEEAAAAAAAAAQQAAAAAAAABhAAAAAAAAAAEAAAAAAAAAAQAAAAAAAAABAAAAAAAAAAEAAAAAAAAAQQAAAAAAAABBAAAAAAAAAAEAAAAAAAAAAQAAAAAAAAABAAAAAAAAAAEAAAAAAAAAAQAAAAAAAAABAAAAAAAAAAEAAAAAAAAAAQAAAAAAAAABAAAAAAAAAAEAAAAAAAAAAQAAAAAAAAABAAAAAAAAAAEAAAAAAAAAAQAAAAAAAAABAAAAAAAAAAEAAAAAAAAAAQAAAAAAAAABAAAAAAAAAAEAAAAAAAAAAQAAAAAAAAABAAAAAAAAAAEAAAAAAAAAmQAAAAAAAACZAAAAAAAAAEEAAAAAAAAAQQAAAAAAAAABAAAAAAAAAEEAAAAAAAAAkQAAAAAAAAABAAAAAAAAAEEAAAAAAAAAqQAAAAAAAACZAAAAAAAAAEEAAAAAAAAAQQAAAAAAAACBAAAAAAAAAEEAAAAAAAAAQQAAAAAAAABBAAAAAAAAAAEAAAAAAAAAmQAAAAAAAAABAAAAAAAAAAEAAAAAAAAAiQAAAAAAAABBAAAAAAAAAJkAAAAAAAAAiQAAAAAAAABBAAAAAAAAAEEAAAAAAAAAYQAAAAAAAABBAAAAAAAAAJkAAAAAAAAAmQAAAAAAAAABAAAAAAAAAAEAAAAAAAAAmQAAAAAAAACZAAAAAAAAAEEAAAAAAAAAQQAAAAAAAABBAAAAAAAAAEEAAAAAAAAAQQAAAAAAAABBAAAAAAAAAEEAAAAAAAAAQQAAAAAAAABBAAAAAAAAAEEAAAAAAAAAQQAAAAAAAABBAAAAAAAAAEEAAAAAAAAAQQAAAAAAAABBAAAAAAAAAEEAAAAAAAAAQQAAAAAAAABBAAAAAAAAAEEAAAAAAAAAQQAAAAAAAABBAAAAAAAAAEEAAAAAAAAAQQAAAAAAAACRAAAAAAAAALEAAAAAAAAAgQAAAAAAAACZAAAAAAAAAEEAAAAAAAAAAQAAAAAAAACBAAAAAAAAAIEAAAAAAAAAmQAAAAAAAABBAAAAAAAAAJkAAAAAAAAAiQAAAAAAAABBAAAAAAAAAJkAAAAAAAAAcQAAAAAAAACZAAAAAAAAAJkAAAAAAAAAmQAAAAAAAAABAAAAAAAAAJkAAAAAAAAAmQAAAAAAAAChAAAAAAAAAAEAAAAAAAAAwQAAAAAAAACZAAAAAAAAAEEAAAAAAAAAoQAAAAAAAABBAAAAAAAAAJkAAAAAAAAAAQAAAAAAAAABAAAAAAAAAEEAAAAAAAAAQQAAAAAAAAAhAAAAAAAAAJkAAAAAAAAAQQAAAAAAAACpAAAAAAAAAMEAAAAAAAAAwQAAAAAAAABxAAAAAAAAAEEAAAAAAAAAQQAAAAAAAABBAAAAAAAAALEAAAAAAAAAQQAAAAAAAACxAAAAAAAAAJkAAAAAAAAAsQAAAAAAAACxAAAAAAAAALEAAAAAAAAAgQAAAAAAAACZAAAAAAAAAJkAAAAAAAAAQQAAAAAAAACJAAAAAAAAALEAAAAAAAAAsQAAAAAAAACxAAAAAAAAAMEAAAAAAAAAmQAAAAAAAACZAAAAAAAAAJkAAAAAAAAAAQAAAAAAAACxAAAAAAAAALEAAAAAAAAAsQAAAAAAAACxAAAAAAAAALEAAAAAAAAAsQAAAAAAAACxAAAAAAAAAAEAAAAAAAAAsQAAAAAAAACZAAAAAAAAAEEAAAAAAAAAmQAAAAAAAADBAAAAAAAAAMEAAAAAAAAAmQAAAAAAAACZAAAAAAAAAKEAAAAAAAAAiQAAAAAAAACJAAAAAAAAAEEAAAAAAAAAmQAAAAAAAACxAAAAAAAAAJkAAAAAAAAAmQAAAAAAAAC5AAAAAAAAAIkAAAAAAAAAmQAAAAAAAACxAAAAAAAAAMEAAAAAAAAAsQAAAAAAAAABAAAAAAAAALEAAAAAAAAAsQAAAAAAAADBAAAAAAAAALEAAAAAAAAAwQAAAAAAAADBAAAAAAAAAJkAAAAAAAAAwQAAAAAAAADBAAAAAAAAAJkAAAAAAAAAmQAAAAAAAACZAAAAAAAAAIkAAAAAAAAAsQAAAAAAAADdAAAAAAAAAJkAAAAAAAAAmQAAAAAAAACZAAAAAAAAAJkAAAAAAAAAmQAAAAAAAACZAAAAAAAAAJkAAAAAAAAAmQAAAAAAAACZAAAAAAAAAJkAAAAAAAAAmQAAAAAAAACZAAAAAAAAAMEAAAAAAAAAQQAAAAAAAADBAAAAAAAAALEAAAAAAAAAiQAAAAAAAADVAAAAAAAAALEAAAAAAAAAmQAAAAAAAABBAAAAAAAAANUAAAAAAAAAmQAAAAAAAACxAAAAAAAAAN0AAAAAAAAAsQAAAAAAAACZAAAAAAAAAMEAAAAAAAAAQQAAAAAAAACxAAAAAAAAAEEAAAAAAAAAiQAAAAAAAACxAAAAAAAAAJkAAAAAAAAAsQAAAAAAAACxAAAAAAAAALEAAAAAAAAAsQAAAAAAAACxAAAAAAAAALEAAAAAAAAAsQAAAAAAAACxAAAAAAAAALEAAAAAAAAAsQAAAAAAAACxAAAAAAAAALEAAAAAAAAAiQAAAAAAAACxAAAAAAAAAJkAAAAAAAAAmQAAAAAAAABBAAAAAAAAAJkAAAAAAAAAwQAAAAAAAADBAAAAAAAAANUAAAAAAAAA1QAAAAAAAADBAAAAAAAAANUAAAAAAAAAyQAAAAAAAADdAAAAAAAAAN0AAAAAAAAAwQAAAAAAAACxAAAAAAAAALEAAAAAAAAAwQAAAAAAAADBAAAAAAAAAMEAAAAAAAAAwQAAAAAAAADBAAAAAAAAAMEAAAAAAAAAwQAAAAAAAADBAAAAAAAAAMEAAAAAAAAAwQAAAAAAAADBAAAAAAAAAMEAAAAAAAAAwQAAAAAAAADBAAAAAAAAANUAAAAAAAAAwQAAAAAAAADVAAAAAAAAANUAAAAAAAAAsQAAAAAAAADBAAAAAAAAAN0AAAAAAAAAsQAAAAAAAADdAAAAAAAAAMEAAAAAAAAAiQAAAAAAAACJAAAAAAAAAMEAAAAAAAAAsQAAAAAAAACxAAAAAAAAAMEAAAAAAAAA1QAAAAAAAACxAAAAAAAAAN0AAAAAAAAAyQAAAAAAAADBAAAAAAAAAJkAAAAAAAAAmQAAAAAAAACZAAAAAAAAAN0AAAAAAAAA1QAAAAAAAADdAAAAAAAAAN0AAAAAAAAA3QAAAAAAAADBAAAAAAAAAN0AAAAAAAAA1QAAAAAAAADdAAAAAAAAANUAAAAAAAAA1QAAAAAAAADVAAAAAAAAANUAAAAAAAAA1QAAAAAAAADVAAAAAAAAANUAAAAAAAAA1QAAAAAAAADVAAAAAAAAANUAAAAAAAAA1QAAAAAAAADVAAAAAAAAANUAAAAAAAAA3QAAAAAAAADVAAAAAAAAANkAAAAAAAAAmQAAAAAAAADdAAAAAAAAAN0AAAAAAAAA3QAAAAAAAACxAAAAAAAAANUAAAAAAAAA6QAAAAAAAADdAAAAAAAAAN0AAAAAAAAA3QAAAAAAAADdAAAAAAAAAN0AAAAAAAAA3QAAAAAAAADdAAAAAAAAAN0AAAAAAAAA3QAAAAAAAADdAAAAAAAAANUAAAAAAAAA3QAAAAAAAADVAAAAAAAAANUAAAAAAAAAwQAAAAAAAADVAAAAAAAAAN0AAAAAAAAA3QAAAAAAAADdAAAAAAACAQUAAAAAAAABDQAAAAAAAAENAAAAAAAAAREAAAAAAAIBSQAAAAAAAAABAAAAAAAAAGEAAAAAAAAAAQAAAAAAAAABAAAAAAAAAAAAAAAAAAAAAQAAAAAAAAAhAAAAAAAAAAEAAAAAAAAAAQAAAAAAAAABAAAAAAAAAEEAAAAAAAAAAQAAAAAAAAABAAAAAAAAACEAAAAAAAAAQQAAAAAAAABBAAAAAAAAACEAAAAAAAAAQQAAAAAAAAAhAAAAAAAAAEEAAAAAAAAAAQAAAAAAAAABAAAAAAAAAEEAAAAAAAADwPwAAAAAAABBAAAAAAAAAAEAAAAAAAAAAQAAAAAAAAABAAAAAAAAAFEAAAAAAAAAAQAAAAAAAABBAAAAAAAAAAEAAAAAAAAAQQAAAAAAAAABAAAAAAAAAAEAAAAAAAAAQQAAAAAAAAABAAAAAAAAAAEAAAAAAAAAAQAAAAAAAAABAAAAAAAAAAEAAAAAAAAAAQAAAAAAAABBAAAAAAAAAEEAAAAAAAADwPwAAAAAAABBAAAAAAAAAHEAAAAAAAAAAQAAAAAAAAABAAAAAAAAAEEAAAAAAAAAQQAAAAAAAAABAAAAAAAAAEEAAAAAAAAAAQAAAAAAAAABAAAAAAAAAEEAAAAAAAAAUQAAAAAAAABBAAAAAAAAALEAAAAAAAAAIQAAAAAAAABBAAAAAAAAAEEAAAAAAAAAQQAAAAAAAABxAAAAAAAAAEEAAAAAAAAAAQAAAAAAAABBAAAAAAAAAEEAAAAAAAAAQQAAAAAAAAABAAAAAAAAAAEAAAAAAAAAQQAAAAAAAAABAAAAAAAAAAEAAAAAAAAAAQAAAAAAAABBAAAAAAAAACEAAAAAAAAAiQAAAAAAAACZAAAAAAAAAAEAAAAAAAAAAQAAAAAAAAABAAAAAAAAAAEAAAAAAAAAAQAAAAAAAAABAAAAAAAAAAEAAAAAAAAAAQAAAAAAAAABAAAAAAAAAAEAAAAAAAAAAQAAAAAAAAABAAAAAAAAAJkAAAAAAAAAAQAAAAAAAACJAAAAAAAAAFEAAAAAAAAAIQAAAAAAAAAhAAAAAAAAAEEAAAAAAAAAAQAAAAAAAAChAAAAAAAAAAEAAAAAAAAAQQAAAAAAAACJAAAAAAAAALEAAAAAAAAAQQAAAAAAAABBAAAAAAAAAAEAAAAAAAAAAQAAAAAAAABBAAAAAAAAAEEAAAAAAAAAQQAAAAAAAABBAAAAAAAAAEEAAAAAAAAAQQAAAAAAAABBAAAAAAAAAEEAAAAAAAAAQQAAAAAAAABBAAAAAAAAAEEAAAAAAAAAQQAAAAAAAABBAAAAAAAAAEEAAAAAAAAAQQAAAAAAAACZAAAAAAAAAKkAAAAAAAAAcQAAAAAAAACJAAAAAAAAAJkAAAAAAAAAAQAAAAAAAABxAAAAAAAAAIEAAAAAAAAAAQAAAAAAAABhAAAAAAAAAKEAAAAAAAAAqQAAAAAAAACZAAAAAAAAAEEAAAAAAAAAsQAAAAAAAACZAAAAAAAAAHEAAAAAAAAAmQAAAAAAAABxAAAAAAAAAJkAAAAAAAAAkQAAAAAAAACxAAAAAAAAALEAAAAAAAAAsQAAAAAAAAABAAAAAAAAAJkAAAAAAAAAsQAAAAAAAACJAAAAAAAAAMEAAAAAAAAAsQAAAAAAAABBAAAAAAAAALEAAAAAAAAAwQAAAAAAAABBAAAAAAAAALEAAAAAAAAAmQAAAAAAAACxAAAAAAAAALkAAAAAAAAAwQAAAAAAAADBAAAAAAAAAJkAAAAAAAAAmQAAAAAAAACZAAAAAAAAAJkAAAAAAAAAmQAAAAAAAACZAAAAAAAAAAEAAAAAAAAAAQAAAAAAAADBAAAAAAAAAMEAAAAAAAAAwQAAAAAAAADBAAAAAAAAAMEAAAAAAAAAsQAAAAAAAADdAAAAAAAAAJkAAAAAAAAAsQAAAAAAAADRAAAAAAAAAEEAAAAAAAAAmQAAAAAAAACZAAAAAAAAAMEAAAAAAAAA1QAAAAAAAACpAAAAAAAAAMEAAAAAAAAAsQAAAAAAAACxAAAAAAAAALEAAAAAAAAAsQAAAAAAAACxAAAAAAAAALEAAAAAAAAAsQAAAAAAAADFAAAAAAAAALEAAAAAAAAAsQAAAAAAAADBAAAAAAAAANUAAAAAAAAAwQAAAAAAAADBAAAAAAAAAMEAAAAAAAAAwQAAAAAAAADBAAAAAAAAAMEAAAAAAAAAsQAAAAAAAACZAAAAAAAAAJkAAAAAAAAA1QAAAAAAAADdAAAAAAAAAN0AAAAAAAAAsQAAAAAAAADBAAAAAAAAAMEAAAAAAAAAwQAAAAAAAADVAAAAAAAAANUAAAAAAAAA1QAAAAAAAADdAAAAAAAAANUAAAAAAAAA3QAAAAAAAADVAAAAAAAAAN0AAAAAAAAA1QAAAAAAAADVAAAAAAAAAOUAAAAAAAAA1QAAAAAAAADVAAAAAAAAAN0AAAAAAAAA1QAAAAAAAACxAAAAAAAAAN0AAAAAAAAA3QAAAAAAAADdAAAAAAAAAN0AAAAAAAAA3QAAAAAAAADdAAAAAAAAAN0AAAAAAAAA3QAAAAAAAADdAAAAAAAAAN0AAAAAAAAAwQAAAAAAAADdAAAAAAAAANUAAAAAAAAA3QAAAAAAAgENAAAAAAAAAUkA="
         },
         "y": {
          "dtype": "f8",
          "bdata": "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"
         },
         "z": {
          "dtype": "f8",
          "bdata": "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"
         },
         "type": "scatter3d"
        }
       ],
       "layout": {
        "template": {
         "data": {
          "histogram2dcontour": [
           {
            "type": "histogram2dcontour",
            "colorbar": {
             "outlinewidth": 0,
             "ticks": ""
            },
            "colorscale": [
             [
              0.0,
              "#0d0887"
             ],
             [
              0.1111111111111111,
              "#46039f"
             ],
             [
              0.2222222222222222,
              "#7201a8"
             ],
             [
              0.3333333333333333,
              "#9c179e"
             ],
             [
              0.4444444444444444,
              "#bd3786"
             ],
             [
              0.5555555555555556,
              "#d8576b"
             ],
             [
              0.6666666666666666,
              "#ed7953"
             ],
             [
              0.7777777777777778,
              "#fb9f3a"
             ],
             [
              0.8888888888888888,
              "#fdca26"
             ],
             [
              1.0,
              "#f0f921"
             ]
            ]
           }
          ],
          "choropleth": [
           {
            "type": "choropleth",
            "colorbar": {
             "outlinewidth": 0,
             "ticks": ""
            }
           }
          ],
          "histogram2d": [
           {
            "type": "histogram2d",
            "colorbar": {
             "outlinewidth": 0,
             "ticks": ""
            },
            "colorscale": [
             [
              0.0,
              "#0d0887"
             ],
             [
              0.1111111111111111,
              "#46039f"
             ],
             [
              0.2222222222222222,
              "#7201a8"
             ],
             [
              0.3333333333333333,
              "#9c179e"
             ],
             [
              0.4444444444444444,
              "#bd3786"
             ],
             [
              0.5555555555555556,
              "#d8576b"
             ],
             [
              0.6666666666666666,
              "#ed7953"
             ],
             [
              0.7777777777777778,
              "#fb9f3a"
             ],
             [
              0.8888888888888888,
              "#fdca26"
             ],
             [
              1.0,
              "#f0f921"
             ]
            ]
           }
          ],
          "heatmap": [
           {
            "type": "heatmap",
            "colorbar": {
             "outlinewidth": 0,
             "ticks": ""
            },
            "colorscale": [
             [
              0.0,
              "#0d0887"
             ],
             [
              0.1111111111111111,
              "#46039f"
             ],
             [
              0.2222222222222222,
              "#7201a8"
             ],
             [
              0.3333333333333333,
              "#9c179e"
             ],
             [
              0.4444444444444444,
              "#bd3786"
             ],
             [
              0.5555555555555556,
              "#d8576b"
             ],
             [
              0.6666666666666666,
              "#ed7953"
             ],
             [
              0.7777777777777778,
              "#fb9f3a"
             ],
             [
              0.8888888888888888,
              "#fdca26"
             ],
             [
              1.0,
              "#f0f921"
             ]
            ]
           }
          ],
          "contourcarpet": [
           {
            "type": "contourcarpet",
            "colorbar": {
             "outlinewidth": 0,
             "ticks": ""
            }
           }
          ],
          "contour": [
           {
            "type": "contour",
            "colorbar": {
             "outlinewidth": 0,
             "ticks": ""
            },
            "colorscale": [
             [
              0.0,
              "#0d0887"
             ],
             [
              0.1111111111111111,
              "#46039f"
             ],
             [
              0.2222222222222222,
              "#7201a8"
             ],
             [
              0.3333333333333333,
              "#9c179e"
             ],
             [
              0.4444444444444444,
              "#bd3786"
             ],
             [
              0.5555555555555556,
              "#d8576b"
             ],
             [
              0.6666666666666666,
              "#ed7953"
             ],
             [
              0.7777777777777778,
              "#fb9f3a"
             ],
             [
              0.8888888888888888,
              "#fdca26"
             ],
             [
              1.0,
              "#f0f921"
             ]
            ]
           }
          ],
          "surface": [
           {
            "type": "surface",
            "colorbar": {
             "outlinewidth": 0,
             "ticks": ""
            },
            "colorscale": [
             [
              0.0,
              "#0d0887"
             ],
             [
              0.1111111111111111,
              "#46039f"
             ],
             [
              0.2222222222222222,
              "#7201a8"
             ],
             [
              0.3333333333333333,
              "#9c179e"
             ],
             [
              0.4444444444444444,
              "#bd3786"
             ],
             [
              0.5555555555555556,
              "#d8576b"
             ],
             [
              0.6666666666666666,
              "#ed7953"
             ],
             [
              0.7777777777777778,
              "#fb9f3a"
             ],
             [
              0.8888888888888888,
              "#fdca26"
             ],
             [
              1.0,
              "#f0f921"
             ]
            ]
           }
          ],
          "mesh3d": [
           {
            "type": "mesh3d",
            "colorbar": {
             "outlinewidth": 0,
             "ticks": ""
            }
           }
          ],
          "scatter": [
           {
            "marker": {
             "line": {
              "color": "#283442"
             }
            },
            "type": "scatter"
           }
          ],
          "parcoords": [
           {
            "type": "parcoords",
            "line": {
             "colorbar": {
              "outlinewidth": 0,
              "ticks": ""
             }
            }
           }
          ],
          "scatterpolargl": [
           {
            "type": "scatterpolargl",
            "marker": {
             "colorbar": {
              "outlinewidth": 0,
              "ticks": ""
             }
            }
           }
          ],
          "bar": [
           {
            "error_x": {
             "color": "#f2f5fa"
            },
            "error_y": {
             "color": "#f2f5fa"
            },
            "marker": {
             "line": {
              "color": "rgb(17,17,17)",
              "width": 0.5
             },
             "pattern": {
              "fillmode": "overlay",
              "size": 10,
              "solidity": 0.2
             }
            },
            "type": "bar"
           }
          ],
          "scattergeo": [
           {
            "type": "scattergeo",
            "marker": {
             "colorbar": {
              "outlinewidth": 0,
              "ticks": ""
             }
            }
           }
          ],
          "scatterpolar": [
           {
            "type": "scatterpolar",
            "marker": {
             "colorbar": {
              "outlinewidth": 0,
              "ticks": ""
             }
            }
           }
          ],
          "histogram": [
           {
            "marker": {
             "pattern": {
              "fillmode": "overlay",
              "size": 10,
              "solidity": 0.2
             }
            },
            "type": "histogram"
           }
          ],
          "scattergl": [
           {
            "marker": {
             "line": {
              "color": "#283442"
             }
            },
            "type": "scattergl"
           }
          ],
          "scatter3d": [
           {
            "type": "scatter3d",
            "line": {
             "colorbar": {
              "outlinewidth": 0,
              "ticks": ""
             }
            },
            "marker": {
             "colorbar": {
              "outlinewidth": 0,
              "ticks": ""
             }
            }
           }
          ],
          "scattermap": [
           {
            "type": "scattermap",
            "marker": {
             "colorbar": {
              "outlinewidth": 0,
              "ticks": ""
             }
            }
           }
          ],
          "scattermapbox": [
           {
            "type": "scattermapbox",
            "marker": {
             "colorbar": {
              "outlinewidth": 0,
              "ticks": ""
             }
            }
           }
          ],
          "scatterternary": [
           {
            "type": "scatterternary",
            "marker": {
             "colorbar": {
              "outlinewidth": 0,
              "ticks": ""
             }
            }
           }
          ],
          "scattercarpet": [
           {
            "type": "scattercarpet",
            "marker": {
             "colorbar": {
              "outlinewidth": 0,
              "ticks": ""
             }
            }
           }
          ],
          "carpet": [
           {
            "aaxis": {
             "endlinecolor": "#A2B1C6",
             "gridcolor": "#506784",
             "linecolor": "#506784",
             "minorgridcolor": "#506784",
             "startlinecolor": "#A2B1C6"
            },
            "baxis": {
             "endlinecolor": "#A2B1C6",
             "gridcolor": "#506784",
             "linecolor": "#506784",
             "minorgridcolor": "#506784",
             "startlinecolor": "#A2B1C6"
            },
            "type": "carpet"
           }
          ],
          "table": [
           {
            "cells": {
             "fill": {
              "color": "#506784"
             },
             "line": {
              "color": "rgb(17,17,17)"
             }
            },
            "header": {
             "fill": {
              "color": "#2a3f5f"
             },
             "line": {
              "color": "rgb(17,17,17)"
             }
            },
            "type": "table"
           }
          ],
          "barpolar": [
           {
            "marker": {
             "line": {
              "color": "rgb(17,17,17)",
              "width": 0.5
             },
             "pattern": {
              "fillmode": "overlay",
              "size": 10,
              "solidity": 0.2
             }
            },
            "type": "barpolar"
           }
          ],
          "pie": [
           {
            "automargin": true,
            "type": "pie"
           }
          ]
         },
         "layout": {
          "autotypenumbers": "strict",
          "colorway": [
           "#636efa",
           "#EF553B",
           "#00cc96",
           "#ab63fa",
           "#FFA15A",
           "#19d3f3",
           "#FF6692",
           "#B6E880",
           "#FF97FF",
           "#FECB52"
          ],
          "font": {
           "color": "#f2f5fa"
          },
          "hovermode": "closest",
          "hoverlabel": {
           "align": "left"
          },
          "paper_bgcolor": "rgb(17,17,17)",
          "plot_bgcolor": "rgb(17,17,17)",
          "polar": {
           "bgcolor": "rgb(17,17,17)",
           "angularaxis": {
            "gridcolor": "#506784",
            "linecolor": "#506784",
            "ticks": ""
           },
           "radialaxis": {
            "gridcolor": "#506784",
            "linecolor": "#506784",
            "ticks": ""
           }
          },
          "ternary": {
           "bgcolor": "rgb(17,17,17)",
           "aaxis": {
            "gridcolor": "#506784",
            "linecolor": "#506784",
            "ticks": ""
           },
           "baxis": {
            "gridcolor": "#506784",
            "linecolor": "#506784",
            "ticks": ""
           },
           "caxis": {
            "gridcolor": "#506784",
            "linecolor": "#506784",
            "ticks": ""
           }
          },
          "coloraxis": {
           "colorbar": {
            "outlinewidth": 0,
            "ticks": ""
           }
          },
          "colorscale": {
           "sequential": [
            [
             0.0,
             "#0d0887"
            ],
            [
             0.1111111111111111,
             "#46039f"
            ],
            [
             0.2222222222222222,
             "#7201a8"
            ],
            [
             0.3333333333333333,
             "#9c179e"
            ],
            [
             0.4444444444444444,
             "#bd3786"
            ],
            [
             0.5555555555555556,
             "#d8576b"
            ],
            [
             0.6666666666666666,
             "#ed7953"
            ],
            [
             0.7777777777777778,
             "#fb9f3a"
            ],
            [
             0.8888888888888888,
             "#fdca26"
            ],
            [
             1.0,
             "#f0f921"
            ]
           ],
           "sequentialminus": [
            [
             0.0,
             "#0d0887"
            ],
            [
             0.1111111111111111,
             "#46039f"
            ],
            [
             0.2222222222222222,
             "#7201a8"
            ],
            [
             0.3333333333333333,
             "#9c179e"
            ],
            [
             0.4444444444444444,
             "#bd3786"
            ],
            [
             0.5555555555555556,
             "#d8576b"
            ],
            [
             0.6666666666666666,
             "#ed7953"
            ],
            [
             0.7777777777777778,
             "#fb9f3a"
            ],
            [
             0.8888888888888888,
             "#fdca26"
            ],
            [
             1.0,
             "#f0f921"
            ]
           ],
           "diverging": [
            [
             0,
             "#8e0152"
            ],
            [
             0.1,
             "#c51b7d"
            ],
            [
             0.2,
             "#de77ae"
            ],
            [
             0.3,
             "#f1b6da"
            ],
            [
             0.4,
             "#fde0ef"
            ],
            [
             0.5,
             "#f7f7f7"
            ],
            [
             0.6,
             "#e6f5d0"
            ],
            [
             0.7,
             "#b8e186"
            ],
            [
             0.8,
             "#7fbc41"
            ],
            [
             0.9,
             "#4d9221"
            ],
            [
             1,
             "#276419"
            ]
           ]
          },
          "xaxis": {
           "gridcolor": "#283442",
           "linecolor": "#506784",
           "ticks": "",
           "title": {
            "standoff": 15
           },
           "zerolinecolor": "#283442",
           "automargin": true,
           "zerolinewidth": 2
          },
          "yaxis": {
           "gridcolor": "#283442",
           "linecolor": "#506784",
           "ticks": "",
           "title": {
            "standoff": 15
           },
           "zerolinecolor": "#283442",
           "automargin": true,
           "zerolinewidth": 2
          },
          "scene": {
           "xaxis": {
            "backgroundcolor": "rgb(17,17,17)",
            "gridcolor": "#506784",
            "linecolor": "#506784",
            "showbackground": true,
            "ticks": "",
            "zerolinecolor": "#C8D4E3",
            "gridwidth": 2
           },
           "yaxis": {
            "backgroundcolor": "rgb(17,17,17)",
            "gridcolor": "#506784",
            "linecolor": "#506784",
            "showbackground": true,
            "ticks": "",
            "zerolinecolor": "#C8D4E3",
            "gridwidth": 2
           },
           "zaxis": {
            "backgroundcolor": "rgb(17,17,17)",
            "gridcolor": "#506784",
            "linecolor": "#506784",
            "showbackground": true,
            "ticks": "",
            "zerolinecolor": "#C8D4E3",
            "gridwidth": 2
           }
          },
          "shapedefaults": {
           "line": {
            "color": "#f2f5fa"
           }
          },
          "annotationdefaults": {
           "arrowcolor": "#f2f5fa",
           "arrowhead": 0,
           "arrowwidth": 1
          },
          "geo": {
           "bgcolor": "rgb(17,17,17)",
           "landcolor": "rgb(17,17,17)",
           "subunitcolor": "#506784",
           "showland": true,
           "showlakes": true,
           "lakecolor": "rgb(17,17,17)"
          },
          "title": {
           "x": 0.05
          },
          "updatemenudefaults": {
           "bgcolor": "#506784",
           "borderwidth": 0
          },
          "sliderdefaults": {
           "bgcolor": "#C8D4E3",
           "borderwidth": 1,
           "bordercolor": "rgb(17,17,17)",
           "tickwidth": 0
          },
          "mapbox": {
           "style": "dark"
          }
         }
        },
        "scene": {
         "domain": {
          "x": [
           0.0,
           1.0
          ],
          "y": [
           0.0,
           1.0
          ]
         },
         "xaxis": {
          "title": {
           "text": "months_since_last_donation"
          }
         },
         "yaxis": {
          "title": {
           "text": "total_blood_donated"
          }
         },
         "zaxis": {
          "title": {
           "text": "months_since_first_donation"
          }
         }
        },
        "coloraxis": {
         "colorbar": {
          "title": {
           "text": "class"
          }
         },
         "colorscale": [
          [
           0.0,
           "#0d0887"
          ],
          [
           0.1111111111111111,
           "#46039f"
          ],
          [
           0.2222222222222222,
           "#7201a8"
          ],
          [
           0.3333333333333333,
           "#9c179e"
          ],
          [
           0.4444444444444444,
           "#bd3786"
          ],
          [
           0.5555555555555556,
           "#d8576b"
          ],
          [
           0.6666666666666666,
           "#ed7953"
          ],
          [
           0.7777777777777778,
           "#fb9f3a"
          ],
          [
           0.8888888888888888,
           "#fdca26"
          ],
          [
           1.0,
           "#f0f921"
          ]
         ]
        },
        "legend": {
         "tracegroupgap": 0
        },
        "title": {
         "text": "3d scatter"
        }
       },
       "config": {
        "plotlyServerURL": "https://plot.ly"
       }
      }
     },
     "metadata": {},
     "output_type": "display_data"
    },
    {
     "data": {
      "application/vnd.plotly.v1+json": {
       "data": [
        {
         "hovertemplate": "months_since_last_donation=%{x}<br>months_since_first_donation=%{y}<br>class=%{marker.color}<extra></extra>",
         "legendgroup": "",
         "marker": {
          "color": {
           "dtype": "i1",
           "bdata": "AQEBAQAAAQABAQAAAQABAQEBAQEBAAEBAAAAAQEAAAEBAQABAQEBAQEAAQABAQAAAAAAAQAAAQEBAQAAAAEAAQEAAQAAAAAAAQABAQEAAAABAAAAAQAAAAABAQAAAAAAAAEBAQEBAAAAAAAAAAABAAABAAABAAABAQEBAQAAAQABAQAAAAAAAAAAAAAAAAAAAQEAAAEAAQAAAQAAAAAAAAAAAAEBAQAAAAAAAAAAAAABAQEAAQAAAAAAAAAAAQAAAAAAAQEAAAAAAAEAAAAAAAAAAAAAAAABAAAAAAABAQABAQAAAAAAAQAAAAAAAAAAAQABAQAAAAAAAAAAAQEAAAAAAAAAAQABAAEAAAAAAAAAAAAAAAAAAAABAAAAAAABAQEBAAAAAAAAAAAAAAAAAAABAAAAAAAAAAAAAAAAAQAAAQABAAAAAAEAAAABAQABAAABAAAAAAAAAAAAAAAAAAAAAAAAAAAAAAAAAAABAAAAAQEAAAAAAQAAAAAAAAAAAAAAAAAAAAAAAAAAAQAAAQAAAAAAAAAAAAAAAAAAAAAAAAAAAAAAAAAAAAAAAAAAAQAAAAAAAAAAAAAAAAAAAAAAAAAAAAAAAAAAAAAAAQAAAAAAAQAAAAAAAAEAAAAAAAAAAAAAAAAAAAAAAAAAAAAAAAABAQEAAQEBAAEBAQAAAAEAAQEBAQEBAQEAAAEAAAEBAQAAAAEBAQEBAQABAQABAAABAQABAQAAAAAAAAABAAEAAAAAAAEAAAABAAEBAQAAAAABAAAAAAEAAAAAAAABAAABAAAAAAAAAAAAAAAAAAAAAQAAAAAAAQAAAAEAAQAAAAAAAAAAAAAAAAAAAQEAAAABAAAAAAAAAAAAAAAAAAAAAAAAAAAAAAEAAQAAAAAAAAAAAAABAAAAAAAAAAAAAAAAAAABAAAAAAAAAAAAAAAAAQAAAAEAAAAAAAAAAAAAAAAAAAAAAAAAAQAAAAAAAAAAAAAAAAAAAA=="
          },
          "coloraxis": "coloraxis",
          "symbol": "circle"
         },
         "mode": "markers",
         "name": "",
         "orientation": "v",
         "showlegend": false,
         "x": {
          "dtype": "f8",
          "bdata": "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"
         },
         "xaxis": "x",
         "y": {
          "dtype": "f8",
          "bdata": "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"
         },
         "yaxis": "y",
         "type": "scatter"
        }
       ],
       "layout": {
        "template": {
         "data": {
          "histogram2dcontour": [
           {
            "type": "histogram2dcontour",
            "colorbar": {
             "outlinewidth": 0,
             "ticks": ""
            },
            "colorscale": [
             [
              0.0,
              "#0d0887"
             ],
             [
              0.1111111111111111,
              "#46039f"
             ],
             [
              0.2222222222222222,
              "#7201a8"
             ],
             [
              0.3333333333333333,
              "#9c179e"
             ],
             [
              0.4444444444444444,
              "#bd3786"
             ],
             [
              0.5555555555555556,
              "#d8576b"
             ],
             [
              0.6666666666666666,
              "#ed7953"
             ],
             [
              0.7777777777777778,
              "#fb9f3a"
             ],
             [
              0.8888888888888888,
              "#fdca26"
             ],
             [
              1.0,
              "#f0f921"
             ]
            ]
           }
          ],
          "choropleth": [
           {
            "type": "choropleth",
            "colorbar": {
             "outlinewidth": 0,
             "ticks": ""
            }
           }
          ],
          "histogram2d": [
           {
            "type": "histogram2d",
            "colorbar": {
             "outlinewidth": 0,
             "ticks": ""
            },
            "colorscale": [
             [
              0.0,
              "#0d0887"
             ],
             [
              0.1111111111111111,
              "#46039f"
             ],
             [
              0.2222222222222222,
              "#7201a8"
             ],
             [
              0.3333333333333333,
              "#9c179e"
             ],
             [
              0.4444444444444444,
              "#bd3786"
             ],
             [
              0.5555555555555556,
              "#d8576b"
             ],
             [
              0.6666666666666666,
              "#ed7953"
             ],
             [
              0.7777777777777778,
              "#fb9f3a"
             ],
             [
              0.8888888888888888,
              "#fdca26"
             ],
             [
              1.0,
              "#f0f921"
             ]
            ]
           }
          ],
          "heatmap": [
           {
            "type": "heatmap",
            "colorbar": {
             "outlinewidth": 0,
             "ticks": ""
            },
            "colorscale": [
             [
              0.0,
              "#0d0887"
             ],
             [
              0.1111111111111111,
              "#46039f"
             ],
             [
              0.2222222222222222,
              "#7201a8"
             ],
             [
              0.3333333333333333,
              "#9c179e"
             ],
             [
              0.4444444444444444,
              "#bd3786"
             ],
             [
              0.5555555555555556,
              "#d8576b"
             ],
             [
              0.6666666666666666,
              "#ed7953"
             ],
             [
              0.7777777777777778,
              "#fb9f3a"
             ],
             [
              0.8888888888888888,
              "#fdca26"
             ],
             [
              1.0,
              "#f0f921"
             ]
            ]
           }
          ],
          "contourcarpet": [
           {
            "type": "contourcarpet",
            "colorbar": {
             "outlinewidth": 0,
             "ticks": ""
            }
           }
          ],
          "contour": [
           {
            "type": "contour",
            "colorbar": {
             "outlinewidth": 0,
             "ticks": ""
            },
            "colorscale": [
             [
              0.0,
              "#0d0887"
             ],
             [
              0.1111111111111111,
              "#46039f"
             ],
             [
              0.2222222222222222,
              "#7201a8"
             ],
             [
              0.3333333333333333,
              "#9c179e"
             ],
             [
              0.4444444444444444,
              "#bd3786"
             ],
             [
              0.5555555555555556,
              "#d8576b"
             ],
             [
              0.6666666666666666,
              "#ed7953"
             ],
             [
              0.7777777777777778,
              "#fb9f3a"
             ],
             [
              0.8888888888888888,
              "#fdca26"
             ],
             [
              1.0,
              "#f0f921"
             ]
            ]
           }
          ],
          "surface": [
           {
            "type": "surface",
            "colorbar": {
             "outlinewidth": 0,
             "ticks": ""
            },
            "colorscale": [
             [
              0.0,
              "#0d0887"
             ],
             [
              0.1111111111111111,
              "#46039f"
             ],
             [
              0.2222222222222222,
              "#7201a8"
             ],
             [
              0.3333333333333333,
              "#9c179e"
             ],
             [
              0.4444444444444444,
              "#bd3786"
             ],
             [
              0.5555555555555556,
              "#d8576b"
             ],
             [
              0.6666666666666666,
              "#ed7953"
             ],
             [
              0.7777777777777778,
              "#fb9f3a"
             ],
             [
              0.8888888888888888,
              "#fdca26"
             ],
             [
              1.0,
              "#f0f921"
             ]
            ]
           }
          ],
          "mesh3d": [
           {
            "type": "mesh3d",
            "colorbar": {
             "outlinewidth": 0,
             "ticks": ""
            }
           }
          ],
          "scatter": [
           {
            "marker": {
             "line": {
              "color": "#283442"
             }
            },
            "type": "scatter"
           }
          ],
          "parcoords": [
           {
            "type": "parcoords",
            "line": {
             "colorbar": {
              "outlinewidth": 0,
              "ticks": ""
             }
            }
           }
          ],
          "scatterpolargl": [
           {
            "type": "scatterpolargl",
            "marker": {
             "colorbar": {
              "outlinewidth": 0,
              "ticks": ""
             }
            }
           }
          ],
          "bar": [
           {
            "error_x": {
             "color": "#f2f5fa"
            },
            "error_y": {
             "color": "#f2f5fa"
            },
            "marker": {
             "line": {
              "color": "rgb(17,17,17)",
              "width": 0.5
             },
             "pattern": {
              "fillmode": "overlay",
              "size": 10,
              "solidity": 0.2
             }
            },
            "type": "bar"
           }
          ],
          "scattergeo": [
           {
            "type": "scattergeo",
            "marker": {
             "colorbar": {
              "outlinewidth": 0,
              "ticks": ""
             }
            }
           }
          ],
          "scatterpolar": [
           {
            "type": "scatterpolar",
            "marker": {
             "colorbar": {
              "outlinewidth": 0,
              "ticks": ""
             }
            }
           }
          ],
          "histogram": [
           {
            "marker": {
             "pattern": {
              "fillmode": "overlay",
              "size": 10,
              "solidity": 0.2
             }
            },
            "type": "histogram"
           }
          ],
          "scattergl": [
           {
            "marker": {
             "line": {
              "color": "#283442"
             }
            },
            "type": "scattergl"
           }
          ],
          "scatter3d": [
           {
            "type": "scatter3d",
            "line": {
             "colorbar": {
              "outlinewidth": 0,
              "ticks": ""
             }
            },
            "marker": {
             "colorbar": {
              "outlinewidth": 0,
              "ticks": ""
             }
            }
           }
          ],
          "scattermap": [
           {
            "type": "scattermap",
            "marker": {
             "colorbar": {
              "outlinewidth": 0,
              "ticks": ""
             }
            }
           }
          ],
          "scattermapbox": [
           {
            "type": "scattermapbox",
            "marker": {
             "colorbar": {
              "outlinewidth": 0,
              "ticks": ""
             }
            }
           }
          ],
          "scatterternary": [
           {
            "type": "scatterternary",
            "marker": {
             "colorbar": {
              "outlinewidth": 0,
              "ticks": ""
             }
            }
           }
          ],
          "scattercarpet": [
           {
            "type": "scattercarpet",
            "marker": {
             "colorbar": {
              "outlinewidth": 0,
              "ticks": ""
             }
            }
           }
          ],
          "carpet": [
           {
            "aaxis": {
             "endlinecolor": "#A2B1C6",
             "gridcolor": "#506784",
             "linecolor": "#506784",
             "minorgridcolor": "#506784",
             "startlinecolor": "#A2B1C6"
            },
            "baxis": {
             "endlinecolor": "#A2B1C6",
             "gridcolor": "#506784",
             "linecolor": "#506784",
             "minorgridcolor": "#506784",
             "startlinecolor": "#A2B1C6"
            },
            "type": "carpet"
           }
          ],
          "table": [
           {
            "cells": {
             "fill": {
              "color": "#506784"
             },
             "line": {
              "color": "rgb(17,17,17)"
             }
            },
            "header": {
             "fill": {
              "color": "#2a3f5f"
             },
             "line": {
              "color": "rgb(17,17,17)"
             }
            },
            "type": "table"
           }
          ],
          "barpolar": [
           {
            "marker": {
             "line": {
              "color": "rgb(17,17,17)",
              "width": 0.5
             },
             "pattern": {
              "fillmode": "overlay",
              "size": 10,
              "solidity": 0.2
             }
            },
            "type": "barpolar"
           }
          ],
          "pie": [
           {
            "automargin": true,
            "type": "pie"
           }
          ]
         },
         "layout": {
          "autotypenumbers": "strict",
          "colorway": [
           "#636efa",
           "#EF553B",
           "#00cc96",
           "#ab63fa",
           "#FFA15A",
           "#19d3f3",
           "#FF6692",
           "#B6E880",
           "#FF97FF",
           "#FECB52"
          ],
          "font": {
           "color": "#f2f5fa"
          },
          "hovermode": "closest",
          "hoverlabel": {
           "align": "left"
          },
          "paper_bgcolor": "rgb(17,17,17)",
          "plot_bgcolor": "rgb(17,17,17)",
          "polar": {
           "bgcolor": "rgb(17,17,17)",
           "angularaxis": {
            "gridcolor": "#506784",
            "linecolor": "#506784",
            "ticks": ""
           },
           "radialaxis": {
            "gridcolor": "#506784",
            "linecolor": "#506784",
            "ticks": ""
           }
          },
          "ternary": {
           "bgcolor": "rgb(17,17,17)",
           "aaxis": {
            "gridcolor": "#506784",
            "linecolor": "#506784",
            "ticks": ""
           },
           "baxis": {
            "gridcolor": "#506784",
            "linecolor": "#506784",
            "ticks": ""
           },
           "caxis": {
            "gridcolor": "#506784",
            "linecolor": "#506784",
            "ticks": ""
           }
          },
          "coloraxis": {
           "colorbar": {
            "outlinewidth": 0,
            "ticks": ""
           }
          },
          "colorscale": {
           "sequential": [
            [
             0.0,
             "#0d0887"
            ],
            [
             0.1111111111111111,
             "#46039f"
            ],
            [
             0.2222222222222222,
             "#7201a8"
            ],
            [
             0.3333333333333333,
             "#9c179e"
            ],
            [
             0.4444444444444444,
             "#bd3786"
            ],
            [
             0.5555555555555556,
             "#d8576b"
            ],
            [
             0.6666666666666666,
             "#ed7953"
            ],
            [
             0.7777777777777778,
             "#fb9f3a"
            ],
            [
             0.8888888888888888,
             "#fdca26"
            ],
            [
             1.0,
             "#f0f921"
            ]
           ],
           "sequentialminus": [
            [
             0.0,
             "#0d0887"
            ],
            [
             0.1111111111111111,
             "#46039f"
            ],
            [
             0.2222222222222222,
             "#7201a8"
            ],
            [
             0.3333333333333333,
             "#9c179e"
            ],
            [
             0.4444444444444444,
             "#bd3786"
            ],
            [
             0.5555555555555556,
             "#d8576b"
            ],
            [
             0.6666666666666666,
             "#ed7953"
            ],
            [
             0.7777777777777778,
             "#fb9f3a"
            ],
            [
             0.8888888888888888,
             "#fdca26"
            ],
            [
             1.0,
             "#f0f921"
            ]
           ],
           "diverging": [
            [
             0,
             "#8e0152"
            ],
            [
             0.1,
             "#c51b7d"
            ],
            [
             0.2,
             "#de77ae"
            ],
            [
             0.3,
             "#f1b6da"
            ],
            [
             0.4,
             "#fde0ef"
            ],
            [
             0.5,
             "#f7f7f7"
            ],
            [
             0.6,
             "#e6f5d0"
            ],
            [
             0.7,
             "#b8e186"
            ],
            [
             0.8,
             "#7fbc41"
            ],
            [
             0.9,
             "#4d9221"
            ],
            [
             1,
             "#276419"
            ]
           ]
          },
          "xaxis": {
           "gridcolor": "#283442",
           "linecolor": "#506784",
           "ticks": "",
           "title": {
            "standoff": 15
           },
           "zerolinecolor": "#283442",
           "automargin": true,
           "zerolinewidth": 2
          },
          "yaxis": {
           "gridcolor": "#283442",
           "linecolor": "#506784",
           "ticks": "",
           "title": {
            "standoff": 15
           },
           "zerolinecolor": "#283442",
           "automargin": true,
           "zerolinewidth": 2
          },
          "scene": {
           "xaxis": {
            "backgroundcolor": "rgb(17,17,17)",
            "gridcolor": "#506784",
            "linecolor": "#506784",
            "showbackground": true,
            "ticks": "",
            "zerolinecolor": "#C8D4E3",
            "gridwidth": 2
           },
           "yaxis": {
            "backgroundcolor": "rgb(17,17,17)",
            "gridcolor": "#506784",
            "linecolor": "#506784",
            "showbackground": true,
            "ticks": "",
            "zerolinecolor": "#C8D4E3",
            "gridwidth": 2
           },
           "zaxis": {
            "backgroundcolor": "rgb(17,17,17)",
            "gridcolor": "#506784",
            "linecolor": "#506784",
            "showbackground": true,
            "ticks": "",
            "zerolinecolor": "#C8D4E3",
            "gridwidth": 2
           }
          },
          "shapedefaults": {
           "line": {
            "color": "#f2f5fa"
           }
          },
          "annotationdefaults": {
           "arrowcolor": "#f2f5fa",
           "arrowhead": 0,
           "arrowwidth": 1
          },
          "geo": {
           "bgcolor": "rgb(17,17,17)",
           "landcolor": "rgb(17,17,17)",
           "subunitcolor": "#506784",
           "showland": true,
           "showlakes": true,
           "lakecolor": "rgb(17,17,17)"
          },
          "title": {
           "x": 0.05
          },
          "updatemenudefaults": {
           "bgcolor": "#506784",
           "borderwidth": 0
          },
          "sliderdefaults": {
           "bgcolor": "#C8D4E3",
           "borderwidth": 1,
           "bordercolor": "rgb(17,17,17)",
           "tickwidth": 0
          },
          "mapbox": {
           "style": "dark"
          }
         }
        },
        "xaxis": {
         "anchor": "y",
         "domain": [
          0.0,
          1.0
         ],
         "title": {
          "text": "months_since_last_donation"
         }
        },
        "yaxis": {
         "anchor": "x",
         "domain": [
          0.0,
          1.0
         ],
         "title": {
          "text": "months_since_first_donation"
         }
        },
        "coloraxis": {
         "colorbar": {
          "title": {
           "text": "class"
          }
         },
         "colorscale": [
          [
           0.0,
           "#0d0887"
          ],
          [
           0.1111111111111111,
           "#46039f"
          ],
          [
           0.2222222222222222,
           "#7201a8"
          ],
          [
           0.3333333333333333,
           "#9c179e"
          ],
          [
           0.4444444444444444,
           "#bd3786"
          ],
          [
           0.5555555555555556,
           "#d8576b"
          ],
          [
           0.6666666666666666,
           "#ed7953"
          ],
          [
           0.7777777777777778,
           "#fb9f3a"
          ],
          [
           0.8888888888888888,
           "#fdca26"
          ],
          [
           1.0,
           "#f0f921"
          ]
         ]
        },
        "legend": {
         "tracegroupgap": 0
        },
        "title": {
         "text": "scatter"
        }
       },
       "config": {
        "plotlyServerURL": "https://plot.ly"
       }
      }
     },
     "metadata": {},
     "output_type": "display_data"
    },
    {
     "data": {
      "application/vnd.plotly.v1+json": {
       "data": [
        {
         "hovertemplate": "months_since_first_donation=%{x}<br>months_since_last_donation=%{y}<br>class=%{marker.color}<extra></extra>",
         "legendgroup": "",
         "marker": {
          "color": {
           "dtype": "i1",
           "bdata": "AQEBAQAAAQABAQAAAQABAQEBAQEBAAEBAAAAAQEAAAEBAQABAQEBAQEAAQABAQAAAAAAAQAAAQEBAQAAAAEAAQEAAQAAAAAAAQABAQEAAAABAAAAAQAAAAABAQAAAAAAAAEBAQEBAAAAAAAAAAABAAABAAABAAABAQEBAQAAAQABAQAAAAAAAAAAAAAAAAAAAQEAAAEAAQAAAQAAAAAAAAAAAAEBAQAAAAAAAAAAAAABAQEAAQAAAAAAAAAAAQAAAAAAAQEAAAAAAAEAAAAAAAAAAAAAAAABAAAAAAABAQABAQAAAAAAAQAAAAAAAAAAAQABAQAAAAAAAAAAAQEAAAAAAAAAAQABAAEAAAAAAAAAAAAAAAAAAAABAAAAAAABAQEBAAAAAAAAAAAAAAAAAAABAAAAAAAAAAAAAAAAAQAAAQABAAAAAAEAAAABAQABAAABAAAAAAAAAAAAAAAAAAAAAAAAAAAAAAAAAAABAAAAAQEAAAAAAQAAAAAAAAAAAAAAAAAAAAAAAAAAAQAAAQAAAAAAAAAAAAAAAAAAAAAAAAAAAAAAAAAAAAAAAAAAAQAAAAAAAAAAAAAAAAAAAAAAAAAAAAAAAAAAAAAAAQAAAAAAAQAAAAAAAAEAAAAAAAAAAAAAAAAAAAAAAAAAAAAAAAABAQEAAQEBAAEBAQAAAAEAAQEBAQEBAQEAAAEAAAEBAQAAAAEBAQEBAQABAQABAAABAQABAQAAAAAAAAABAAEAAAAAAAEAAAABAAEBAQAAAAABAAAAAAEAAAAAAAABAAABAAAAAAAAAAAAAAAAAAAAAQAAAAAAAQAAAAEAAQAAAAAAAAAAAAAAAAAAAQEAAAABAAAAAAAAAAAAAAAAAAAAAAAAAAAAAAEAAQAAAAAAAAAAAAABAAAAAAAAAAAAAAAAAAABAAAAAAAAAAAAAAAAAQAAAAEAAAAAAAAAAAAAAAAAAAAAAAAAAQAAAAAAAAAAAAAAAAAAAA=="
          },
          "coloraxis": "coloraxis",
          "symbol": "circle"
         },
         "mode": "markers",
         "name": "",
         "orientation": "v",
         "showlegend": false,
         "x": {
          "dtype": "f8",
          "bdata": "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"
         },
         "xaxis": "x",
         "y": {
          "dtype": "f8",
          "bdata": "AAAAAAAAAEAAAAAAAAAAAAAAAAAAAPA/AAAAAAAAAEAAAAAAAADwPwAAAAAAABBAAAAAAAAAAEAAAAAAAADwPwAAAAAAAABAAAAAAAAAFEAAAAAAAAAQQAAAAAAAAAAAAAAAAAAAAEAAAAAAAADwPwAAAAAAAABAAAAAAAAAAEAAAAAAAAAAQAAAAAAAAABAAAAAAAAAAEAAAAAAAAAAQAAAAAAAAABAAAAAAAAAEEAAAAAAAAAAQAAAAAAAAABAAAAAAAAAIkAAAAAAAAAQQAAAAAAAABBAAAAAAAAAEEAAAAAAAAAQQAAAAAAAABBAAAAAAAAA8D8AAAAAAAAQQAAAAAAAABBAAAAAAAAAEEAAAAAAAAAAQAAAAAAAAABAAAAAAAAAAEAAAAAAAAAQQAAAAAAAAABAAAAAAAAAEEAAAAAAAAAAQAAAAAAAAABAAAAAAAAAAEAAAAAAAAAAQAAAAAAAABBAAAAAAAAAEEAAAAAAAAAAQAAAAAAAAABAAAAAAAAAAEAAAAAAAAAAQAAAAAAAAABAAAAAAAAAAEAAAAAAAAAAQAAAAAAAAABAAAAAAAAAEEAAAAAAAAAQQAAAAAAAABBAAAAAAAAAAEAAAAAAAAAAQAAAAAAAAAhAAAAAAAAAAEAAAAAAAAAAQAAAAAAAAABAAAAAAAAAEEAAAAAAAAAAQAAAAAAAAAhAAAAAAAAAAEAAAAAAAAAAAAAAAAAAABBAAAAAAAAA8D8AAAAAAAAAQAAAAAAAAABAAAAAAAAAEEAAAAAAAAAAQAAAAAAAAABAAAAAAAAAAEAAAAAAAAAAQAAAAAAAAABAAAAAAAAAAEAAAAAAAAAAQAAAAAAAABBAAAAAAAAAAEAAAAAAAAAAQAAAAAAAAABAAAAAAAAAAEAAAAAAAAAAQAAAAAAAABBAAAAAAAAAEEAAAAAAAAAQQAAAAAAAAABAAAAAAAAAEEAAAAAAAAAQQAAAAAAAABBAAAAAAAAAEEAAAAAAAAAoQAAAAAAAABBAAAAAAAAACEAAAAAAAAAQQAAAAAAAABBAAAAAAAAAFEAAAAAAAAAQQAAAAAAAAABAAAAAAAAAEEAAAAAAAAAAQAAAAAAAAABAAAAAAAAAGEAAAAAAAAAAAAAAAAAAAAhAAAAAAAAAAEAAAAAAAAAAQAAAAAAAABBAAAAAAAAAEEAAAAAAAAAQQAAAAAAAABBAAAAAAAAAAEAAAAAAAAAmQAAAAAAAAABAAAAAAAAAEEAAAAAAAADwPwAAAAAAAABAAAAAAAAAAEAAAAAAAAAQQAAAAAAAAABAAAAAAAAAAEAAAAAAAAAAQAAAAAAAAABAAAAAAAAAEEAAAAAAAAAAQAAAAAAAABBAAAAAAAAAAEAAAAAAAAAQQAAAAAAAAABAAAAAAAAAAEAAAAAAAAAQQAAAAAAAAABAAAAAAAAAAEAAAAAAAAAAQAAAAAAAAABAAAAAAAAAIkAAAAAAAAAAQAAAAAAAAABAAAAAAAAAFEAAAAAAAAAQQAAAAAAAABBAAAAAAAAAEEAAAAAAAAAQQAAAAAAAABhAAAAAAAAAAEAAAAAAAAAAQAAAAAAAAABAAAAAAAAAAEAAAAAAAAAQQAAAAAAAABBAAAAAAAAAAEAAAAAAAAAAQAAAAAAAAABAAAAAAAAAAEAAAAAAAAAAQAAAAAAAAABAAAAAAAAAAEAAAAAAAAAAQAAAAAAAAABAAAAAAAAAAEAAAAAAAAAAQAAAAAAAAABAAAAAAAAAAEAAAAAAAAAAQAAAAAAAAABAAAAAAAAAAEAAAAAAAAAAQAAAAAAAAABAAAAAAAAAAEAAAAAAAAAAQAAAAAAAAABAAAAAAAAAAEAAAAAAAAAmQAAAAAAAACZAAAAAAAAAEEAAAAAAAAAQQAAAAAAAAABAAAAAAAAAEEAAAAAAAAAkQAAAAAAAAABAAAAAAAAAEEAAAAAAAAAqQAAAAAAAACZAAAAAAAAAEEAAAAAAAAAQQAAAAAAAACBAAAAAAAAAEEAAAAAAAAAQQAAAAAAAABBAAAAAAAAAAEAAAAAAAAAmQAAAAAAAAABAAAAAAAAAAEAAAAAAAAAiQAAAAAAAABBAAAAAAAAAJkAAAAAAAAAiQAAAAAAAABBAAAAAAAAAEEAAAAAAAAAYQAAAAAAAABBAAAAAAAAAJkAAAAAAAAAmQAAAAAAAAABAAAAAAAAAAEAAAAAAAAAmQAAAAAAAACZAAAAAAAAAEEAAAAAAAAAQQAAAAAAAABBAAAAAAAAAEEAAAAAAAAAQQAAAAAAAABBAAAAAAAAAEEAAAAAAAAAQQAAAAAAAABBAAAAAAAAAEEAAAAAAAAAQQAAAAAAAABBAAAAAAAAAEEAAAAAAAAAQQAAAAAAAABBAAAAAAAAAEEAAAAAAAAAQQAAAAAAAABBAAAAAAAAAEEAAAAAAAAAQQAAAAAAAABBAAAAAAAAAEEAAAAAAAAAQQAAAAAAAACRAAAAAAAAALEAAAAAAAAAgQAAAAAAAACZAAAAAAAAAEEAAAAAAAAAAQAAAAAAAACBAAAAAAAAAIEAAAAAAAAAmQAAAAAAAABBAAAAAAAAAJkAAAAAAAAAiQAAAAAAAABBAAAAAAAAAJkAAAAAAAAAcQAAAAAAAACZAAAAAAAAAJkAAAAAAAAAmQAAAAAAAAABAAAAAAAAAJkAAAAAAAAAmQAAAAAAAAChAAAAAAAAAAEAAAAAAAAAwQAAAAAAAACZAAAAAAAAAEEAAAAAAAAAoQAAAAAAAABBAAAAAAAAAJkAAAAAAAAAAQAAAAAAAAABAAAAAAAAAEEAAAAAAAAAQQAAAAAAAAAhAAAAAAAAAJkAAAAAAAAAQQAAAAAAAACpAAAAAAAAAMEAAAAAAAAAwQAAAAAAAABxAAAAAAAAAEEAAAAAAAAAQQAAAAAAAABBAAAAAAAAALEAAAAAAAAAQQAAAAAAAACxAAAAAAAAAJkAAAAAAAAAsQAAAAAAAACxAAAAAAAAALEAAAAAAAAAgQAAAAAAAACZAAAAAAAAAJkAAAAAAAAAQQAAAAAAAACJAAAAAAAAALEAAAAAAAAAsQAAAAAAAACxAAAAAAAAAMEAAAAAAAAAmQAAAAAAAACZAAAAAAAAAJkAAAAAAAAAAQAAAAAAAACxAAAAAAAAALEAAAAAAAAAsQAAAAAAAACxAAAAAAAAALEAAAAAAAAAsQAAAAAAAACxAAAAAAAAAAEAAAAAAAAAsQAAAAAAAACZAAAAAAAAAEEAAAAAAAAAmQAAAAAAAADBAAAAAAAAAMEAAAAAAAAAmQAAAAAAAACZAAAAAAAAAKEAAAAAAAAAiQAAAAAAAACJAAAAAAAAAEEAAAAAAAAAmQAAAAAAAACxAAAAAAAAAJkAAAAAAAAAmQAAAAAAAAC5AAAAAAAAAIkAAAAAAAAAmQAAAAAAAACxAAAAAAAAAMEAAAAAAAAAsQAAAAAAAAABAAAAAAAAALEAAAAAAAAAsQAAAAAAAADBAAAAAAAAALEAAAAAAAAAwQAAAAAAAADBAAAAAAAAAJkAAAAAAAAAwQAAAAAAAADBAAAAAAAAAJkAAAAAAAAAmQAAAAAAAACZAAAAAAAAAIkAAAAAAAAAsQAAAAAAAADdAAAAAAAAAJkAAAAAAAAAmQAAAAAAAACZAAAAAAAAAJkAAAAAAAAAmQAAAAAAAACZAAAAAAAAAJkAAAAAAAAAmQAAAAAAAACZAAAAAAAAAJkAAAAAAAAAmQAAAAAAAACZAAAAAAAAAMEAAAAAAAAAQQAAAAAAAADBAAAAAAAAALEAAAAAAAAAiQAAAAAAAADVAAAAAAAAALEAAAAAAAAAmQAAAAAAAABBAAAAAAAAANUAAAAAAAAAmQAAAAAAAACxAAAAAAAAAN0AAAAAAAAAsQAAAAAAAACZAAAAAAAAAMEAAAAAAAAAQQAAAAAAAACxAAAAAAAAAEEAAAAAAAAAiQAAAAAAAACxAAAAAAAAAJkAAAAAAAAAsQAAAAAAAACxAAAAAAAAALEAAAAAAAAAsQAAAAAAAACxAAAAAAAAALEAAAAAAAAAsQAAAAAAAACxAAAAAAAAALEAAAAAAAAAsQAAAAAAAACxAAAAAAAAALEAAAAAAAAAiQAAAAAAAACxAAAAAAAAAJkAAAAAAAAAmQAAAAAAAABBAAAAAAAAAJkAAAAAAAAAwQAAAAAAAADBAAAAAAAAANUAAAAAAAAA1QAAAAAAAADBAAAAAAAAANUAAAAAAAAAyQAAAAAAAADdAAAAAAAAAN0AAAAAAAAAwQAAAAAAAACxAAAAAAAAALEAAAAAAAAAwQAAAAAAAADBAAAAAAAAAMEAAAAAAAAAwQAAAAAAAADBAAAAAAAAAMEAAAAAAAAAwQAAAAAAAADBAAAAAAAAAMEAAAAAAAAAwQAAAAAAAADBAAAAAAAAAMEAAAAAAAAAwQAAAAAAAADBAAAAAAAAANUAAAAAAAAAwQAAAAAAAADVAAAAAAAAANUAAAAAAAAAsQAAAAAAAADBAAAAAAAAAN0AAAAAAAAAsQAAAAAAAADdAAAAAAAAAMEAAAAAAAAAiQAAAAAAAACJAAAAAAAAAMEAAAAAAAAAsQAAAAAAAACxAAAAAAAAAMEAAAAAAAAA1QAAAAAAAACxAAAAAAAAAN0AAAAAAAAAyQAAAAAAAADBAAAAAAAAAJkAAAAAAAAAmQAAAAAAAACZAAAAAAAAAN0AAAAAAAAA1QAAAAAAAADdAAAAAAAAAN0AAAAAAAAA3QAAAAAAAADBAAAAAAAAAN0AAAAAAAAA1QAAAAAAAADdAAAAAAAAANUAAAAAAAAA1QAAAAAAAADVAAAAAAAAANUAAAAAAAAA1QAAAAAAAADVAAAAAAAAANUAAAAAAAAA1QAAAAAAAADVAAAAAAAAANUAAAAAAAAA1QAAAAAAAADVAAAAAAAAANUAAAAAAAAA3QAAAAAAAADVAAAAAAAAANkAAAAAAAAAmQAAAAAAAADdAAAAAAAAAN0AAAAAAAAA3QAAAAAAAACxAAAAAAAAANUAAAAAAAAA6QAAAAAAAADdAAAAAAAAAN0AAAAAAAAA3QAAAAAAAADdAAAAAAAAAN0AAAAAAAAA3QAAAAAAAADdAAAAAAAAAN0AAAAAAAAA3QAAAAAAAADdAAAAAAAAANUAAAAAAAAA3QAAAAAAAADVAAAAAAAAANUAAAAAAAAAwQAAAAAAAADVAAAAAAAAAN0AAAAAAAAA3QAAAAAAAADdAAAAAAACAQUAAAAAAAABDQAAAAAAAAENAAAAAAAAAREAAAAAAAIBSQAAAAAAAAABAAAAAAAAAGEAAAAAAAAAAQAAAAAAAAABAAAAAAAAAAAAAAAAAAAAAQAAAAAAAAAhAAAAAAAAAAEAAAAAAAAAAQAAAAAAAAABAAAAAAAAAEEAAAAAAAAAAQAAAAAAAAABAAAAAAAAACEAAAAAAAAAQQAAAAAAAABBAAAAAAAAACEAAAAAAAAAQQAAAAAAAAAhAAAAAAAAAEEAAAAAAAAAAQAAAAAAAAABAAAAAAAAAEEAAAAAAAADwPwAAAAAAABBAAAAAAAAAAEAAAAAAAAAAQAAAAAAAAABAAAAAAAAAFEAAAAAAAAAAQAAAAAAAABBAAAAAAAAAAEAAAAAAAAAQQAAAAAAAAABAAAAAAAAAAEAAAAAAAAAQQAAAAAAAAABAAAAAAAAAAEAAAAAAAAAAQAAAAAAAAABAAAAAAAAAAEAAAAAAAAAAQAAAAAAAABBAAAAAAAAAEEAAAAAAAADwPwAAAAAAABBAAAAAAAAAHEAAAAAAAAAAQAAAAAAAAABAAAAAAAAAEEAAAAAAAAAQQAAAAAAAAABAAAAAAAAAEEAAAAAAAAAAQAAAAAAAAABAAAAAAAAAEEAAAAAAAAAUQAAAAAAAABBAAAAAAAAALEAAAAAAAAAIQAAAAAAAABBAAAAAAAAAEEAAAAAAAAAQQAAAAAAAABxAAAAAAAAAEEAAAAAAAAAAQAAAAAAAABBAAAAAAAAAEEAAAAAAAAAQQAAAAAAAAABAAAAAAAAAAEAAAAAAAAAQQAAAAAAAAABAAAAAAAAAAEAAAAAAAAAAQAAAAAAAABBAAAAAAAAACEAAAAAAAAAiQAAAAAAAACZAAAAAAAAAAEAAAAAAAAAAQAAAAAAAAABAAAAAAAAAAEAAAAAAAAAAQAAAAAAAAABAAAAAAAAAAEAAAAAAAAAAQAAAAAAAAABAAAAAAAAAAEAAAAAAAAAAQAAAAAAAAABAAAAAAAAAJkAAAAAAAAAAQAAAAAAAACJAAAAAAAAAFEAAAAAAAAAIQAAAAAAAAAhAAAAAAAAAEEAAAAAAAAAAQAAAAAAAAChAAAAAAAAAAEAAAAAAAAAQQAAAAAAAACJAAAAAAAAALEAAAAAAAAAQQAAAAAAAABBAAAAAAAAAAEAAAAAAAAAAQAAAAAAAABBAAAAAAAAAEEAAAAAAAAAQQAAAAAAAABBAAAAAAAAAEEAAAAAAAAAQQAAAAAAAABBAAAAAAAAAEEAAAAAAAAAQQAAAAAAAABBAAAAAAAAAEEAAAAAAAAAQQAAAAAAAABBAAAAAAAAAEEAAAAAAAAAQQAAAAAAAACZAAAAAAAAAKkAAAAAAAAAcQAAAAAAAACJAAAAAAAAAJkAAAAAAAAAAQAAAAAAAABxAAAAAAAAAIEAAAAAAAAAAQAAAAAAAABhAAAAAAAAAKEAAAAAAAAAqQAAAAAAAACZAAAAAAAAAEEAAAAAAAAAsQAAAAAAAACZAAAAAAAAAHEAAAAAAAAAmQAAAAAAAABxAAAAAAAAAJkAAAAAAAAAkQAAAAAAAACxAAAAAAAAALEAAAAAAAAAsQAAAAAAAAABAAAAAAAAAJkAAAAAAAAAsQAAAAAAAACJAAAAAAAAAMEAAAAAAAAAsQAAAAAAAABBAAAAAAAAALEAAAAAAAAAwQAAAAAAAABBAAAAAAAAALEAAAAAAAAAmQAAAAAAAACxAAAAAAAAALkAAAAAAAAAwQAAAAAAAADBAAAAAAAAAJkAAAAAAAAAmQAAAAAAAACZAAAAAAAAAJkAAAAAAAAAmQAAAAAAAACZAAAAAAAAAAEAAAAAAAAAAQAAAAAAAADBAAAAAAAAAMEAAAAAAAAAwQAAAAAAAADBAAAAAAAAAMEAAAAAAAAAsQAAAAAAAADdAAAAAAAAAJkAAAAAAAAAsQAAAAAAAADRAAAAAAAAAEEAAAAAAAAAmQAAAAAAAACZAAAAAAAAAMEAAAAAAAAA1QAAAAAAAACpAAAAAAAAAMEAAAAAAAAAsQAAAAAAAACxAAAAAAAAALEAAAAAAAAAsQAAAAAAAACxAAAAAAAAALEAAAAAAAAAsQAAAAAAAADFAAAAAAAAALEAAAAAAAAAsQAAAAAAAADBAAAAAAAAANUAAAAAAAAAwQAAAAAAAADBAAAAAAAAAMEAAAAAAAAAwQAAAAAAAADBAAAAAAAAAMEAAAAAAAAAsQAAAAAAAACZAAAAAAAAAJkAAAAAAAAA1QAAAAAAAADdAAAAAAAAAN0AAAAAAAAAsQAAAAAAAADBAAAAAAAAAMEAAAAAAAAAwQAAAAAAAADVAAAAAAAAANUAAAAAAAAA1QAAAAAAAADdAAAAAAAAANUAAAAAAAAA3QAAAAAAAADVAAAAAAAAAN0AAAAAAAAA1QAAAAAAAADVAAAAAAAAAOUAAAAAAAAA1QAAAAAAAADVAAAAAAAAAN0AAAAAAAAA1QAAAAAAAACxAAAAAAAAAN0AAAAAAAAA3QAAAAAAAADdAAAAAAAAAN0AAAAAAAAA3QAAAAAAAADdAAAAAAAAAN0AAAAAAAAA3QAAAAAAAADdAAAAAAAAAN0AAAAAAAAAwQAAAAAAAADdAAAAAAAAANUAAAAAAAAA3QAAAAAAAgENAAAAAAAAAUkA="
         },
         "yaxis": "y",
         "type": "scatter"
        }
       ],
       "layout": {
        "template": {
         "data": {
          "histogram2dcontour": [
           {
            "type": "histogram2dcontour",
            "colorbar": {
             "outlinewidth": 0,
             "ticks": ""
            },
            "colorscale": [
             [
              0.0,
              "#0d0887"
             ],
             [
              0.1111111111111111,
              "#46039f"
             ],
             [
              0.2222222222222222,
              "#7201a8"
             ],
             [
              0.3333333333333333,
              "#9c179e"
             ],
             [
              0.4444444444444444,
              "#bd3786"
             ],
             [
              0.5555555555555556,
              "#d8576b"
             ],
             [
              0.6666666666666666,
              "#ed7953"
             ],
             [
              0.7777777777777778,
              "#fb9f3a"
             ],
             [
              0.8888888888888888,
              "#fdca26"
             ],
             [
              1.0,
              "#f0f921"
             ]
            ]
           }
          ],
          "choropleth": [
           {
            "type": "choropleth",
            "colorbar": {
             "outlinewidth": 0,
             "ticks": ""
            }
           }
          ],
          "histogram2d": [
           {
            "type": "histogram2d",
            "colorbar": {
             "outlinewidth": 0,
             "ticks": ""
            },
            "colorscale": [
             [
              0.0,
              "#0d0887"
             ],
             [
              0.1111111111111111,
              "#46039f"
             ],
             [
              0.2222222222222222,
              "#7201a8"
             ],
             [
              0.3333333333333333,
              "#9c179e"
             ],
             [
              0.4444444444444444,
              "#bd3786"
             ],
             [
              0.5555555555555556,
              "#d8576b"
             ],
             [
              0.6666666666666666,
              "#ed7953"
             ],
             [
              0.7777777777777778,
              "#fb9f3a"
             ],
             [
              0.8888888888888888,
              "#fdca26"
             ],
             [
              1.0,
              "#f0f921"
             ]
            ]
           }
          ],
          "heatmap": [
           {
            "type": "heatmap",
            "colorbar": {
             "outlinewidth": 0,
             "ticks": ""
            },
            "colorscale": [
             [
              0.0,
              "#0d0887"
             ],
             [
              0.1111111111111111,
              "#46039f"
             ],
             [
              0.2222222222222222,
              "#7201a8"
             ],
             [
              0.3333333333333333,
              "#9c179e"
             ],
             [
              0.4444444444444444,
              "#bd3786"
             ],
             [
              0.5555555555555556,
              "#d8576b"
             ],
             [
              0.6666666666666666,
              "#ed7953"
             ],
             [
              0.7777777777777778,
              "#fb9f3a"
             ],
             [
              0.8888888888888888,
              "#fdca26"
             ],
             [
              1.0,
              "#f0f921"
             ]
            ]
           }
          ],
          "contourcarpet": [
           {
            "type": "contourcarpet",
            "colorbar": {
             "outlinewidth": 0,
             "ticks": ""
            }
           }
          ],
          "contour": [
           {
            "type": "contour",
            "colorbar": {
             "outlinewidth": 0,
             "ticks": ""
            },
            "colorscale": [
             [
              0.0,
              "#0d0887"
             ],
             [
              0.1111111111111111,
              "#46039f"
             ],
             [
              0.2222222222222222,
              "#7201a8"
             ],
             [
              0.3333333333333333,
              "#9c179e"
             ],
             [
              0.4444444444444444,
              "#bd3786"
             ],
             [
              0.5555555555555556,
              "#d8576b"
             ],
             [
              0.6666666666666666,
              "#ed7953"
             ],
             [
              0.7777777777777778,
              "#fb9f3a"
             ],
             [
              0.8888888888888888,
              "#fdca26"
             ],
             [
              1.0,
              "#f0f921"
             ]
            ]
           }
          ],
          "surface": [
           {
            "type": "surface",
            "colorbar": {
             "outlinewidth": 0,
             "ticks": ""
            },
            "colorscale": [
             [
              0.0,
              "#0d0887"
             ],
             [
              0.1111111111111111,
              "#46039f"
             ],
             [
              0.2222222222222222,
              "#7201a8"
             ],
             [
              0.3333333333333333,
              "#9c179e"
             ],
             [
              0.4444444444444444,
              "#bd3786"
             ],
             [
              0.5555555555555556,
              "#d8576b"
             ],
             [
              0.6666666666666666,
              "#ed7953"
             ],
             [
              0.7777777777777778,
              "#fb9f3a"
             ],
             [
              0.8888888888888888,
              "#fdca26"
             ],
             [
              1.0,
              "#f0f921"
             ]
            ]
           }
          ],
          "mesh3d": [
           {
            "type": "mesh3d",
            "colorbar": {
             "outlinewidth": 0,
             "ticks": ""
            }
           }
          ],
          "scatter": [
           {
            "marker": {
             "line": {
              "color": "#283442"
             }
            },
            "type": "scatter"
           }
          ],
          "parcoords": [
           {
            "type": "parcoords",
            "line": {
             "colorbar": {
              "outlinewidth": 0,
              "ticks": ""
             }
            }
           }
          ],
          "scatterpolargl": [
           {
            "type": "scatterpolargl",
            "marker": {
             "colorbar": {
              "outlinewidth": 0,
              "ticks": ""
             }
            }
           }
          ],
          "bar": [
           {
            "error_x": {
             "color": "#f2f5fa"
            },
            "error_y": {
             "color": "#f2f5fa"
            },
            "marker": {
             "line": {
              "color": "rgb(17,17,17)",
              "width": 0.5
             },
             "pattern": {
              "fillmode": "overlay",
              "size": 10,
              "solidity": 0.2
             }
            },
            "type": "bar"
           }
          ],
          "scattergeo": [
           {
            "type": "scattergeo",
            "marker": {
             "colorbar": {
              "outlinewidth": 0,
              "ticks": ""
             }
            }
           }
          ],
          "scatterpolar": [
           {
            "type": "scatterpolar",
            "marker": {
             "colorbar": {
              "outlinewidth": 0,
              "ticks": ""
             }
            }
           }
          ],
          "histogram": [
           {
            "marker": {
             "pattern": {
              "fillmode": "overlay",
              "size": 10,
              "solidity": 0.2
             }
            },
            "type": "histogram"
           }
          ],
          "scattergl": [
           {
            "marker": {
             "line": {
              "color": "#283442"
             }
            },
            "type": "scattergl"
           }
          ],
          "scatter3d": [
           {
            "type": "scatter3d",
            "line": {
             "colorbar": {
              "outlinewidth": 0,
              "ticks": ""
             }
            },
            "marker": {
             "colorbar": {
              "outlinewidth": 0,
              "ticks": ""
             }
            }
           }
          ],
          "scattermap": [
           {
            "type": "scattermap",
            "marker": {
             "colorbar": {
              "outlinewidth": 0,
              "ticks": ""
             }
            }
           }
          ],
          "scattermapbox": [
           {
            "type": "scattermapbox",
            "marker": {
             "colorbar": {
              "outlinewidth": 0,
              "ticks": ""
             }
            }
           }
          ],
          "scatterternary": [
           {
            "type": "scatterternary",
            "marker": {
             "colorbar": {
              "outlinewidth": 0,
              "ticks": ""
             }
            }
           }
          ],
          "scattercarpet": [
           {
            "type": "scattercarpet",
            "marker": {
             "colorbar": {
              "outlinewidth": 0,
              "ticks": ""
             }
            }
           }
          ],
          "carpet": [
           {
            "aaxis": {
             "endlinecolor": "#A2B1C6",
             "gridcolor": "#506784",
             "linecolor": "#506784",
             "minorgridcolor": "#506784",
             "startlinecolor": "#A2B1C6"
            },
            "baxis": {
             "endlinecolor": "#A2B1C6",
             "gridcolor": "#506784",
             "linecolor": "#506784",
             "minorgridcolor": "#506784",
             "startlinecolor": "#A2B1C6"
            },
            "type": "carpet"
           }
          ],
          "table": [
           {
            "cells": {
             "fill": {
              "color": "#506784"
             },
             "line": {
              "color": "rgb(17,17,17)"
             }
            },
            "header": {
             "fill": {
              "color": "#2a3f5f"
             },
             "line": {
              "color": "rgb(17,17,17)"
             }
            },
            "type": "table"
           }
          ],
          "barpolar": [
           {
            "marker": {
             "line": {
              "color": "rgb(17,17,17)",
              "width": 0.5
             },
             "pattern": {
              "fillmode": "overlay",
              "size": 10,
              "solidity": 0.2
             }
            },
            "type": "barpolar"
           }
          ],
          "pie": [
           {
            "automargin": true,
            "type": "pie"
           }
          ]
         },
         "layout": {
          "autotypenumbers": "strict",
          "colorway": [
           "#636efa",
           "#EF553B",
           "#00cc96",
           "#ab63fa",
           "#FFA15A",
           "#19d3f3",
           "#FF6692",
           "#B6E880",
           "#FF97FF",
           "#FECB52"
          ],
          "font": {
           "color": "#f2f5fa"
          },
          "hovermode": "closest",
          "hoverlabel": {
           "align": "left"
          },
          "paper_bgcolor": "rgb(17,17,17)",
          "plot_bgcolor": "rgb(17,17,17)",
          "polar": {
           "bgcolor": "rgb(17,17,17)",
           "angularaxis": {
            "gridcolor": "#506784",
            "linecolor": "#506784",
            "ticks": ""
           },
           "radialaxis": {
            "gridcolor": "#506784",
            "linecolor": "#506784",
            "ticks": ""
           }
          },
          "ternary": {
           "bgcolor": "rgb(17,17,17)",
           "aaxis": {
            "gridcolor": "#506784",
            "linecolor": "#506784",
            "ticks": ""
           },
           "baxis": {
            "gridcolor": "#506784",
            "linecolor": "#506784",
            "ticks": ""
           },
           "caxis": {
            "gridcolor": "#506784",
            "linecolor": "#506784",
            "ticks": ""
           }
          },
          "coloraxis": {
           "colorbar": {
            "outlinewidth": 0,
            "ticks": ""
           }
          },
          "colorscale": {
           "sequential": [
            [
             0.0,
             "#0d0887"
            ],
            [
             0.1111111111111111,
             "#46039f"
            ],
            [
             0.2222222222222222,
             "#7201a8"
            ],
            [
             0.3333333333333333,
             "#9c179e"
            ],
            [
             0.4444444444444444,
             "#bd3786"
            ],
            [
             0.5555555555555556,
             "#d8576b"
            ],
            [
             0.6666666666666666,
             "#ed7953"
            ],
            [
             0.7777777777777778,
             "#fb9f3a"
            ],
            [
             0.8888888888888888,
             "#fdca26"
            ],
            [
             1.0,
             "#f0f921"
            ]
           ],
           "sequentialminus": [
            [
             0.0,
             "#0d0887"
            ],
            [
             0.1111111111111111,
             "#46039f"
            ],
            [
             0.2222222222222222,
             "#7201a8"
            ],
            [
             0.3333333333333333,
             "#9c179e"
            ],
            [
             0.4444444444444444,
             "#bd3786"
            ],
            [
             0.5555555555555556,
             "#d8576b"
            ],
            [
             0.6666666666666666,
             "#ed7953"
            ],
            [
             0.7777777777777778,
             "#fb9f3a"
            ],
            [
             0.8888888888888888,
             "#fdca26"
            ],
            [
             1.0,
             "#f0f921"
            ]
           ],
           "diverging": [
            [
             0,
             "#8e0152"
            ],
            [
             0.1,
             "#c51b7d"
            ],
            [
             0.2,
             "#de77ae"
            ],
            [
             0.3,
             "#f1b6da"
            ],
            [
             0.4,
             "#fde0ef"
            ],
            [
             0.5,
             "#f7f7f7"
            ],
            [
             0.6,
             "#e6f5d0"
            ],
            [
             0.7,
             "#b8e186"
            ],
            [
             0.8,
             "#7fbc41"
            ],
            [
             0.9,
             "#4d9221"
            ],
            [
             1,
             "#276419"
            ]
           ]
          },
          "xaxis": {
           "gridcolor": "#283442",
           "linecolor": "#506784",
           "ticks": "",
           "title": {
            "standoff": 15
           },
           "zerolinecolor": "#283442",
           "automargin": true,
           "zerolinewidth": 2
          },
          "yaxis": {
           "gridcolor": "#283442",
           "linecolor": "#506784",
           "ticks": "",
           "title": {
            "standoff": 15
           },
           "zerolinecolor": "#283442",
           "automargin": true,
           "zerolinewidth": 2
          },
          "scene": {
           "xaxis": {
            "backgroundcolor": "rgb(17,17,17)",
            "gridcolor": "#506784",
            "linecolor": "#506784",
            "showbackground": true,
            "ticks": "",
            "zerolinecolor": "#C8D4E3",
            "gridwidth": 2
           },
           "yaxis": {
            "backgroundcolor": "rgb(17,17,17)",
            "gridcolor": "#506784",
            "linecolor": "#506784",
            "showbackground": true,
            "ticks": "",
            "zerolinecolor": "#C8D4E3",
            "gridwidth": 2
           },
           "zaxis": {
            "backgroundcolor": "rgb(17,17,17)",
            "gridcolor": "#506784",
            "linecolor": "#506784",
            "showbackground": true,
            "ticks": "",
            "zerolinecolor": "#C8D4E3",
            "gridwidth": 2
           }
          },
          "shapedefaults": {
           "line": {
            "color": "#f2f5fa"
           }
          },
          "annotationdefaults": {
           "arrowcolor": "#f2f5fa",
           "arrowhead": 0,
           "arrowwidth": 1
          },
          "geo": {
           "bgcolor": "rgb(17,17,17)",
           "landcolor": "rgb(17,17,17)",
           "subunitcolor": "#506784",
           "showland": true,
           "showlakes": true,
           "lakecolor": "rgb(17,17,17)"
          },
          "title": {
           "x": 0.05
          },
          "updatemenudefaults": {
           "bgcolor": "#506784",
           "borderwidth": 0
          },
          "sliderdefaults": {
           "bgcolor": "#C8D4E3",
           "borderwidth": 1,
           "bordercolor": "rgb(17,17,17)",
           "tickwidth": 0
          },
          "mapbox": {
           "style": "dark"
          }
         }
        },
        "xaxis": {
         "anchor": "y",
         "domain": [
          0.0,
          1.0
         ],
         "title": {
          "text": "months_since_first_donation"
         }
        },
        "yaxis": {
         "anchor": "x",
         "domain": [
          0.0,
          1.0
         ],
         "title": {
          "text": "months_since_last_donation"
         }
        },
        "coloraxis": {
         "colorbar": {
          "title": {
           "text": "class"
          }
         },
         "colorscale": [
          [
           0.0,
           "#0d0887"
          ],
          [
           0.1111111111111111,
           "#46039f"
          ],
          [
           0.2222222222222222,
           "#7201a8"
          ],
          [
           0.3333333333333333,
           "#9c179e"
          ],
          [
           0.4444444444444444,
           "#bd3786"
          ],
          [
           0.5555555555555556,
           "#d8576b"
          ],
          [
           0.6666666666666666,
           "#ed7953"
          ],
          [
           0.7777777777777778,
           "#fb9f3a"
          ],
          [
           0.8888888888888888,
           "#fdca26"
          ],
          [
           1.0,
           "#f0f921"
          ]
         ]
        },
        "legend": {
         "tracegroupgap": 0
        },
        "title": {
         "text": "scatter"
        }
       },
       "config": {
        "plotlyServerURL": "https://plot.ly"
       }
      }
     },
     "metadata": {},
     "output_type": "display_data"
    },
    {
     "data": {
      "application/vnd.plotly.v1+json": {
       "data": [
        {
         "bingroup": "x",
         "hovertemplate": "class=1<br>months_since_last_donation=%{x}<br>count=%{y}<extra></extra>",
         "legendgroup": "1",
         "marker": {
          "color": "#636efa",
          "pattern": {
           "shape": ""
          }
         },
         "name": "1",
         "orientation": "v",
         "showlegend": true,
         "x": {
          "dtype": "f8",
          "bdata": "AAAAAAAAAEAAAAAAAAAAAAAAAAAAAPA/AAAAAAAAAEAAAAAAAAAAQAAAAAAAAABAAAAAAAAAFEAAAAAAAAAAQAAAAAAAAABAAAAAAAAAAEAAAAAAAAAAQAAAAAAAAABAAAAAAAAAAEAAAAAAAAAAQAAAAAAAAABAAAAAAAAAAEAAAAAAAAAAQAAAAAAAABBAAAAAAAAAEEAAAAAAAAAQQAAAAAAAABBAAAAAAAAAEEAAAAAAAAAAQAAAAAAAAABAAAAAAAAAEEAAAAAAAAAAQAAAAAAAABBAAAAAAAAAAEAAAAAAAAAAQAAAAAAAABBAAAAAAAAAEEAAAAAAAAAAQAAAAAAAABBAAAAAAAAAEEAAAAAAAAAQQAAAAAAAAABAAAAAAAAAAEAAAAAAAAAQQAAAAAAAAABAAAAAAAAAAEAAAAAAAAAQQAAAAAAAAABAAAAAAAAAAEAAAAAAAAAAQAAAAAAAABBAAAAAAAAAAEAAAAAAAAAAQAAAAAAAABBAAAAAAAAAEEAAAAAAAAAQQAAAAAAAABRAAAAAAAAAEEAAAAAAAAAAQAAAAAAAABBAAAAAAAAAEEAAAAAAAAAAQAAAAAAAAABAAAAAAAAAAEAAAAAAAAAQQAAAAAAAAABAAAAAAAAAAEAAAAAAAAAQQAAAAAAAABBAAAAAAAAAAEAAAAAAAAAQQAAAAAAAABBAAAAAAAAAAEAAAAAAAAAAQAAAAAAAAABAAAAAAAAAAEAAAAAAAAAAQAAAAAAAAABAAAAAAAAAJkAAAAAAAAAQQAAAAAAAABBAAAAAAAAAEEAAAAAAAAAQQAAAAAAAAABAAAAAAAAAIkAAAAAAAAAYQAAAAAAAABBAAAAAAAAAEEAAAAAAAAAQQAAAAAAAABBAAAAAAAAAEEAAAAAAAAAQQAAAAAAAACBAAAAAAAAAEEAAAAAAAAAmQAAAAAAAACZAAAAAAAAAJkAAAAAAAAAmQAAAAAAAAABAAAAAAAAAEEAAAAAAAAAsQAAAAAAAACJAAAAAAAAALEAAAAAAAAAsQAAAAAAAACxAAAAAAAAAJkAAAAAAAAAmQAAAAAAAACJAAAAAAAAALEAAAAAAAAAsQAAAAAAAADBAAAAAAAAAJkAAAAAAAAAwQAAAAAAAACZAAAAAAAAALEAAAAAAAAAwQAAAAAAAABBAAAAAAAAAJkAAAAAAAAA1QAAAAAAAADVAAAAAAAAAMEAAAAAAAAA1QAAAAAAAADZAAAAAAAAAOkAAAAAAAAAAQAAAAAAAABhAAAAAAAAAAEAAAAAAAAAAAAAAAAAAAABAAAAAAAAACEAAAAAAAAAAQAAAAAAAAABAAAAAAAAAEEAAAAAAAAAQQAAAAAAAAAhAAAAAAAAAEEAAAAAAAAAIQAAAAAAAABBAAAAAAAAAAEAAAAAAAAAAQAAAAAAAABBAAAAAAAAA8D8AAAAAAAAAQAAAAAAAAABAAAAAAAAAEEAAAAAAAAAAQAAAAAAAABBAAAAAAAAAAEAAAAAAAAAAQAAAAAAAAABAAAAAAAAAAEAAAAAAAAAAQAAAAAAAABBAAAAAAAAAEEAAAAAAAAAQQAAAAAAAAABAAAAAAAAAEEAAAAAAAAAAQAAAAAAAABBAAAAAAAAAEEAAAAAAAAAQQAAAAAAAABBAAAAAAAAAAEAAAAAAAAAAQAAAAAAAABBAAAAAAAAACEAAAAAAAAAAQAAAAAAAAABAAAAAAAAAIkAAAAAAAAAIQAAAAAAAABBAAAAAAAAAEEAAAAAAAAAQQAAAAAAAACpAAAAAAAAAHEAAAAAAAAAmQAAAAAAAACxAAAAAAAAAJkAAAAAAAAAAQAAAAAAAADRAAAAAAAAAMUAAAAAAAAAmQAAAAAAAACxAAAAAAAAAN0A="
         },
         "xaxis": "x",
         "yaxis": "y",
         "type": "histogram"
        },
        {
         "bingroup": "x",
         "hovertemplate": "class=0<br>months_since_last_donation=%{x}<br>count=%{y}<extra></extra>",
         "legendgroup": "0",
         "marker": {
          "color": "#EF553B",
          "pattern": {
           "shape": ""
          }
         },
         "name": "0",
         "orientation": "v",
         "showlegend": true,
         "x": {
          "dtype": "f8",
          "bdata": "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"
         },
         "xaxis": "x",
         "yaxis": "y",
         "type": "histogram"
        }
       ],
       "layout": {
        "template": {
         "data": {
          "histogram2dcontour": [
           {
            "type": "histogram2dcontour",
            "colorbar": {
             "outlinewidth": 0,
             "ticks": ""
            },
            "colorscale": [
             [
              0.0,
              "#0d0887"
             ],
             [
              0.1111111111111111,
              "#46039f"
             ],
             [
              0.2222222222222222,
              "#7201a8"
             ],
             [
              0.3333333333333333,
              "#9c179e"
             ],
             [
              0.4444444444444444,
              "#bd3786"
             ],
             [
              0.5555555555555556,
              "#d8576b"
             ],
             [
              0.6666666666666666,
              "#ed7953"
             ],
             [
              0.7777777777777778,
              "#fb9f3a"
             ],
             [
              0.8888888888888888,
              "#fdca26"
             ],
             [
              1.0,
              "#f0f921"
             ]
            ]
           }
          ],
          "choropleth": [
           {
            "type": "choropleth",
            "colorbar": {
             "outlinewidth": 0,
             "ticks": ""
            }
           }
          ],
          "histogram2d": [
           {
            "type": "histogram2d",
            "colorbar": {
             "outlinewidth": 0,
             "ticks": ""
            },
            "colorscale": [
             [
              0.0,
              "#0d0887"
             ],
             [
              0.1111111111111111,
              "#46039f"
             ],
             [
              0.2222222222222222,
              "#7201a8"
             ],
             [
              0.3333333333333333,
              "#9c179e"
             ],
             [
              0.4444444444444444,
              "#bd3786"
             ],
             [
              0.5555555555555556,
              "#d8576b"
             ],
             [
              0.6666666666666666,
              "#ed7953"
             ],
             [
              0.7777777777777778,
              "#fb9f3a"
             ],
             [
              0.8888888888888888,
              "#fdca26"
             ],
             [
              1.0,
              "#f0f921"
             ]
            ]
           }
          ],
          "heatmap": [
           {
            "type": "heatmap",
            "colorbar": {
             "outlinewidth": 0,
             "ticks": ""
            },
            "colorscale": [
             [
              0.0,
              "#0d0887"
             ],
             [
              0.1111111111111111,
              "#46039f"
             ],
             [
              0.2222222222222222,
              "#7201a8"
             ],
             [
              0.3333333333333333,
              "#9c179e"
             ],
             [
              0.4444444444444444,
              "#bd3786"
             ],
             [
              0.5555555555555556,
              "#d8576b"
             ],
             [
              0.6666666666666666,
              "#ed7953"
             ],
             [
              0.7777777777777778,
              "#fb9f3a"
             ],
             [
              0.8888888888888888,
              "#fdca26"
             ],
             [
              1.0,
              "#f0f921"
             ]
            ]
           }
          ],
          "contourcarpet": [
           {
            "type": "contourcarpet",
            "colorbar": {
             "outlinewidth": 0,
             "ticks": ""
            }
           }
          ],
          "contour": [
           {
            "type": "contour",
            "colorbar": {
             "outlinewidth": 0,
             "ticks": ""
            },
            "colorscale": [
             [
              0.0,
              "#0d0887"
             ],
             [
              0.1111111111111111,
              "#46039f"
             ],
             [
              0.2222222222222222,
              "#7201a8"
             ],
             [
              0.3333333333333333,
              "#9c179e"
             ],
             [
              0.4444444444444444,
              "#bd3786"
             ],
             [
              0.5555555555555556,
              "#d8576b"
             ],
             [
              0.6666666666666666,
              "#ed7953"
             ],
             [
              0.7777777777777778,
              "#fb9f3a"
             ],
             [
              0.8888888888888888,
              "#fdca26"
             ],
             [
              1.0,
              "#f0f921"
             ]
            ]
           }
          ],
          "surface": [
           {
            "type": "surface",
            "colorbar": {
             "outlinewidth": 0,
             "ticks": ""
            },
            "colorscale": [
             [
              0.0,
              "#0d0887"
             ],
             [
              0.1111111111111111,
              "#46039f"
             ],
             [
              0.2222222222222222,
              "#7201a8"
             ],
             [
              0.3333333333333333,
              "#9c179e"
             ],
             [
              0.4444444444444444,
              "#bd3786"
             ],
             [
              0.5555555555555556,
              "#d8576b"
             ],
             [
              0.6666666666666666,
              "#ed7953"
             ],
             [
              0.7777777777777778,
              "#fb9f3a"
             ],
             [
              0.8888888888888888,
              "#fdca26"
             ],
             [
              1.0,
              "#f0f921"
             ]
            ]
           }
          ],
          "mesh3d": [
           {
            "type": "mesh3d",
            "colorbar": {
             "outlinewidth": 0,
             "ticks": ""
            }
           }
          ],
          "scatter": [
           {
            "marker": {
             "line": {
              "color": "#283442"
             }
            },
            "type": "scatter"
           }
          ],
          "parcoords": [
           {
            "type": "parcoords",
            "line": {
             "colorbar": {
              "outlinewidth": 0,
              "ticks": ""
             }
            }
           }
          ],
          "scatterpolargl": [
           {
            "type": "scatterpolargl",
            "marker": {
             "colorbar": {
              "outlinewidth": 0,
              "ticks": ""
             }
            }
           }
          ],
          "bar": [
           {
            "error_x": {
             "color": "#f2f5fa"
            },
            "error_y": {
             "color": "#f2f5fa"
            },
            "marker": {
             "line": {
              "color": "rgb(17,17,17)",
              "width": 0.5
             },
             "pattern": {
              "fillmode": "overlay",
              "size": 10,
              "solidity": 0.2
             }
            },
            "type": "bar"
           }
          ],
          "scattergeo": [
           {
            "type": "scattergeo",
            "marker": {
             "colorbar": {
              "outlinewidth": 0,
              "ticks": ""
             }
            }
           }
          ],
          "scatterpolar": [
           {
            "type": "scatterpolar",
            "marker": {
             "colorbar": {
              "outlinewidth": 0,
              "ticks": ""
             }
            }
           }
          ],
          "histogram": [
           {
            "marker": {
             "pattern": {
              "fillmode": "overlay",
              "size": 10,
              "solidity": 0.2
             }
            },
            "type": "histogram"
           }
          ],
          "scattergl": [
           {
            "marker": {
             "line": {
              "color": "#283442"
             }
            },
            "type": "scattergl"
           }
          ],
          "scatter3d": [
           {
            "type": "scatter3d",
            "line": {
             "colorbar": {
              "outlinewidth": 0,
              "ticks": ""
             }
            },
            "marker": {
             "colorbar": {
              "outlinewidth": 0,
              "ticks": ""
             }
            }
           }
          ],
          "scattermap": [
           {
            "type": "scattermap",
            "marker": {
             "colorbar": {
              "outlinewidth": 0,
              "ticks": ""
             }
            }
           }
          ],
          "scattermapbox": [
           {
            "type": "scattermapbox",
            "marker": {
             "colorbar": {
              "outlinewidth": 0,
              "ticks": ""
             }
            }
           }
          ],
          "scatterternary": [
           {
            "type": "scatterternary",
            "marker": {
             "colorbar": {
              "outlinewidth": 0,
              "ticks": ""
             }
            }
           }
          ],
          "scattercarpet": [
           {
            "type": "scattercarpet",
            "marker": {
             "colorbar": {
              "outlinewidth": 0,
              "ticks": ""
             }
            }
           }
          ],
          "carpet": [
           {
            "aaxis": {
             "endlinecolor": "#A2B1C6",
             "gridcolor": "#506784",
             "linecolor": "#506784",
             "minorgridcolor": "#506784",
             "startlinecolor": "#A2B1C6"
            },
            "baxis": {
             "endlinecolor": "#A2B1C6",
             "gridcolor": "#506784",
             "linecolor": "#506784",
             "minorgridcolor": "#506784",
             "startlinecolor": "#A2B1C6"
            },
            "type": "carpet"
           }
          ],
          "table": [
           {
            "cells": {
             "fill": {
              "color": "#506784"
             },
             "line": {
              "color": "rgb(17,17,17)"
             }
            },
            "header": {
             "fill": {
              "color": "#2a3f5f"
             },
             "line": {
              "color": "rgb(17,17,17)"
             }
            },
            "type": "table"
           }
          ],
          "barpolar": [
           {
            "marker": {
             "line": {
              "color": "rgb(17,17,17)",
              "width": 0.5
             },
             "pattern": {
              "fillmode": "overlay",
              "size": 10,
              "solidity": 0.2
             }
            },
            "type": "barpolar"
           }
          ],
          "pie": [
           {
            "automargin": true,
            "type": "pie"
           }
          ]
         },
         "layout": {
          "autotypenumbers": "strict",
          "colorway": [
           "#636efa",
           "#EF553B",
           "#00cc96",
           "#ab63fa",
           "#FFA15A",
           "#19d3f3",
           "#FF6692",
           "#B6E880",
           "#FF97FF",
           "#FECB52"
          ],
          "font": {
           "color": "#f2f5fa"
          },
          "hovermode": "closest",
          "hoverlabel": {
           "align": "left"
          },
          "paper_bgcolor": "rgb(17,17,17)",
          "plot_bgcolor": "rgb(17,17,17)",
          "polar": {
           "bgcolor": "rgb(17,17,17)",
           "angularaxis": {
            "gridcolor": "#506784",
            "linecolor": "#506784",
            "ticks": ""
           },
           "radialaxis": {
            "gridcolor": "#506784",
            "linecolor": "#506784",
            "ticks": ""
           }
          },
          "ternary": {
           "bgcolor": "rgb(17,17,17)",
           "aaxis": {
            "gridcolor": "#506784",
            "linecolor": "#506784",
            "ticks": ""
           },
           "baxis": {
            "gridcolor": "#506784",
            "linecolor": "#506784",
            "ticks": ""
           },
           "caxis": {
            "gridcolor": "#506784",
            "linecolor": "#506784",
            "ticks": ""
           }
          },
          "coloraxis": {
           "colorbar": {
            "outlinewidth": 0,
            "ticks": ""
           }
          },
          "colorscale": {
           "sequential": [
            [
             0.0,
             "#0d0887"
            ],
            [
             0.1111111111111111,
             "#46039f"
            ],
            [
             0.2222222222222222,
             "#7201a8"
            ],
            [
             0.3333333333333333,
             "#9c179e"
            ],
            [
             0.4444444444444444,
             "#bd3786"
            ],
            [
             0.5555555555555556,
             "#d8576b"
            ],
            [
             0.6666666666666666,
             "#ed7953"
            ],
            [
             0.7777777777777778,
             "#fb9f3a"
            ],
            [
             0.8888888888888888,
             "#fdca26"
            ],
            [
             1.0,
             "#f0f921"
            ]
           ],
           "sequentialminus": [
            [
             0.0,
             "#0d0887"
            ],
            [
             0.1111111111111111,
             "#46039f"
            ],
            [
             0.2222222222222222,
             "#7201a8"
            ],
            [
             0.3333333333333333,
             "#9c179e"
            ],
            [
             0.4444444444444444,
             "#bd3786"
            ],
            [
             0.5555555555555556,
             "#d8576b"
            ],
            [
             0.6666666666666666,
             "#ed7953"
            ],
            [
             0.7777777777777778,
             "#fb9f3a"
            ],
            [
             0.8888888888888888,
             "#fdca26"
            ],
            [
             1.0,
             "#f0f921"
            ]
           ],
           "diverging": [
            [
             0,
             "#8e0152"
            ],
            [
             0.1,
             "#c51b7d"
            ],
            [
             0.2,
             "#de77ae"
            ],
            [
             0.3,
             "#f1b6da"
            ],
            [
             0.4,
             "#fde0ef"
            ],
            [
             0.5,
             "#f7f7f7"
            ],
            [
             0.6,
             "#e6f5d0"
            ],
            [
             0.7,
             "#b8e186"
            ],
            [
             0.8,
             "#7fbc41"
            ],
            [
             0.9,
             "#4d9221"
            ],
            [
             1,
             "#276419"
            ]
           ]
          },
          "xaxis": {
           "gridcolor": "#283442",
           "linecolor": "#506784",
           "ticks": "",
           "title": {
            "standoff": 15
           },
           "zerolinecolor": "#283442",
           "automargin": true,
           "zerolinewidth": 2
          },
          "yaxis": {
           "gridcolor": "#283442",
           "linecolor": "#506784",
           "ticks": "",
           "title": {
            "standoff": 15
           },
           "zerolinecolor": "#283442",
           "automargin": true,
           "zerolinewidth": 2
          },
          "scene": {
           "xaxis": {
            "backgroundcolor": "rgb(17,17,17)",
            "gridcolor": "#506784",
            "linecolor": "#506784",
            "showbackground": true,
            "ticks": "",
            "zerolinecolor": "#C8D4E3",
            "gridwidth": 2
           },
           "yaxis": {
            "backgroundcolor": "rgb(17,17,17)",
            "gridcolor": "#506784",
            "linecolor": "#506784",
            "showbackground": true,
            "ticks": "",
            "zerolinecolor": "#C8D4E3",
            "gridwidth": 2
           },
           "zaxis": {
            "backgroundcolor": "rgb(17,17,17)",
            "gridcolor": "#506784",
            "linecolor": "#506784",
            "showbackground": true,
            "ticks": "",
            "zerolinecolor": "#C8D4E3",
            "gridwidth": 2
           }
          },
          "shapedefaults": {
           "line": {
            "color": "#f2f5fa"
           }
          },
          "annotationdefaults": {
           "arrowcolor": "#f2f5fa",
           "arrowhead": 0,
           "arrowwidth": 1
          },
          "geo": {
           "bgcolor": "rgb(17,17,17)",
           "landcolor": "rgb(17,17,17)",
           "subunitcolor": "#506784",
           "showland": true,
           "showlakes": true,
           "lakecolor": "rgb(17,17,17)"
          },
          "title": {
           "x": 0.05
          },
          "updatemenudefaults": {
           "bgcolor": "#506784",
           "borderwidth": 0
          },
          "sliderdefaults": {
           "bgcolor": "#C8D4E3",
           "borderwidth": 1,
           "bordercolor": "rgb(17,17,17)",
           "tickwidth": 0
          },
          "mapbox": {
           "style": "dark"
          }
         }
        },
        "xaxis": {
         "anchor": "y",
         "domain": [
          0.0,
          1.0
         ],
         "title": {
          "text": "months_since_last_donation"
         }
        },
        "yaxis": {
         "anchor": "x",
         "domain": [
          0.0,
          1.0
         ],
         "title": {
          "text": "count"
         }
        },
        "legend": {
         "title": {
          "text": "class"
         },
         "tracegroupgap": 0
        },
        "margin": {
         "t": 60
        },
        "barmode": "relative"
       },
       "config": {
        "plotlyServerURL": "https://plot.ly"
       }
      }
     },
     "metadata": {},
     "output_type": "display_data"
    }
   ],
   "execution_count": 4
  },
  {
   "cell_type": "markdown",
   "id": "f3ad8613b85917f6",
   "metadata": {},
   "source": [
    "TASK 2"
   ]
  },
  {
   "cell_type": "code",
   "id": "7a917225e85e418c",
   "metadata": {
    "ExecuteTime": {
     "end_time": "2025-10-09T08:56:55.250743Z",
     "start_time": "2025-10-09T08:56:55.218836Z"
    }
   },
   "source": [
    "preprocessed = frame.copy() \n",
    "preprocessed = (preprocessed-preprocessed.min())/(preprocessed.max()-preprocessed.min()) # Normalization\n",
    "# It also normalizes the class, but because class is either 1 or 0, the formula does not change the class \n",
    "preprocessed.describe()"
   ],
   "outputs": [
    {
     "data": {
      "text/plain": [
       "       months_since_last_donation  total_number_of_donations  \\\n",
       "count                  748.000000                 748.000000   \n",
       "mean                     0.128469                   0.092137   \n",
       "std                      0.109397                   0.119170   \n",
       "min                      0.000000                   0.000000   \n",
       "25%                      0.037162                   0.020408   \n",
       "50%                      0.094595                   0.061224   \n",
       "75%                      0.189189                   0.122449   \n",
       "max                      1.000000                   1.000000   \n",
       "\n",
       "       total_blood_donated  months_since_first_donation       class  \n",
       "count           748.000000                   748.000000  748.000000  \n",
       "mean              0.092137                     0.336272    0.237968  \n",
       "std               0.119170                     0.253924    0.426124  \n",
       "min               0.000000                     0.000000    0.000000  \n",
       "25%               0.020408                     0.145833    0.000000  \n",
       "50%               0.061224                     0.270833    0.000000  \n",
       "75%               0.122449                     0.500000    0.000000  \n",
       "max               1.000000                     1.000000    1.000000  "
      ],
      "text/html": [
       "<div>\n",
       "<style scoped>\n",
       "    .dataframe tbody tr th:only-of-type {\n",
       "        vertical-align: middle;\n",
       "    }\n",
       "\n",
       "    .dataframe tbody tr th {\n",
       "        vertical-align: top;\n",
       "    }\n",
       "\n",
       "    .dataframe thead th {\n",
       "        text-align: right;\n",
       "    }\n",
       "</style>\n",
       "<table border=\"1\" class=\"dataframe\">\n",
       "  <thead>\n",
       "    <tr style=\"text-align: right;\">\n",
       "      <th></th>\n",
       "      <th>months_since_last_donation</th>\n",
       "      <th>total_number_of_donations</th>\n",
       "      <th>total_blood_donated</th>\n",
       "      <th>months_since_first_donation</th>\n",
       "      <th>class</th>\n",
       "    </tr>\n",
       "  </thead>\n",
       "  <tbody>\n",
       "    <tr>\n",
       "      <th>count</th>\n",
       "      <td>748.000000</td>\n",
       "      <td>748.000000</td>\n",
       "      <td>748.000000</td>\n",
       "      <td>748.000000</td>\n",
       "      <td>748.000000</td>\n",
       "    </tr>\n",
       "    <tr>\n",
       "      <th>mean</th>\n",
       "      <td>0.128469</td>\n",
       "      <td>0.092137</td>\n",
       "      <td>0.092137</td>\n",
       "      <td>0.336272</td>\n",
       "      <td>0.237968</td>\n",
       "    </tr>\n",
       "    <tr>\n",
       "      <th>std</th>\n",
       "      <td>0.109397</td>\n",
       "      <td>0.119170</td>\n",
       "      <td>0.119170</td>\n",
       "      <td>0.253924</td>\n",
       "      <td>0.426124</td>\n",
       "    </tr>\n",
       "    <tr>\n",
       "      <th>min</th>\n",
       "      <td>0.000000</td>\n",
       "      <td>0.000000</td>\n",
       "      <td>0.000000</td>\n",
       "      <td>0.000000</td>\n",
       "      <td>0.000000</td>\n",
       "    </tr>\n",
       "    <tr>\n",
       "      <th>25%</th>\n",
       "      <td>0.037162</td>\n",
       "      <td>0.020408</td>\n",
       "      <td>0.020408</td>\n",
       "      <td>0.145833</td>\n",
       "      <td>0.000000</td>\n",
       "    </tr>\n",
       "    <tr>\n",
       "      <th>50%</th>\n",
       "      <td>0.094595</td>\n",
       "      <td>0.061224</td>\n",
       "      <td>0.061224</td>\n",
       "      <td>0.270833</td>\n",
       "      <td>0.000000</td>\n",
       "    </tr>\n",
       "    <tr>\n",
       "      <th>75%</th>\n",
       "      <td>0.189189</td>\n",
       "      <td>0.122449</td>\n",
       "      <td>0.122449</td>\n",
       "      <td>0.500000</td>\n",
       "      <td>0.000000</td>\n",
       "    </tr>\n",
       "    <tr>\n",
       "      <th>max</th>\n",
       "      <td>1.000000</td>\n",
       "      <td>1.000000</td>\n",
       "      <td>1.000000</td>\n",
       "      <td>1.000000</td>\n",
       "      <td>1.000000</td>\n",
       "    </tr>\n",
       "  </tbody>\n",
       "</table>\n",
       "</div>"
      ]
     },
     "execution_count": 5,
     "metadata": {},
     "output_type": "execute_result"
    }
   ],
   "execution_count": 5
  },
  {
   "cell_type": "markdown",
   "id": "41518569b23bfe5f",
   "metadata": {},
   "source": [
    "TASK 3"
   ]
  },
  {
   "cell_type": "code",
   "id": "5efca73ed556e355",
   "metadata": {
    "ExecuteTime": {
     "end_time": "2025-10-09T08:57:03.050702Z",
     "start_time": "2025-10-09T08:56:55.250743Z"
    }
   },
   "source": [
    "from sklearn.model_selection import train_test_split\n",
    "X_train_s, X_test_s, Y_train_s, Y_test_s = train_test_split(\n",
    "    preprocessed.drop('class', axis=1), preprocessed['class'], train_size=0.33, test_size=0.33, random_state=1) # small train_size\n",
    "X_train_l, X_test_l, Y_train_l, Y_test_l = train_test_split(\n",
    "    preprocessed.drop('class', axis=1), preprocessed['class'], train_size=0.66, test_size=0.33, random_state=1) # large train_size\n",
    "# random state for reproducibility"
   ],
   "outputs": [],
   "execution_count": 6
  },
  {
   "cell_type": "code",
   "id": "2b167550ba199f9c",
   "metadata": {
    "ExecuteTime": {
     "end_time": "2025-10-09T08:57:05.579215Z",
     "start_time": "2025-10-09T08:57:03.050702Z"
    }
   },
   "source": [
    "\"\"\"\"NIET MET DE OPDRACHT TE MAKEN, FEATURE IMPORTANCE VOOR DE PRESENTATIE\"\"\"\n",
    "\n",
    "import pandas as pd\n",
    "\n",
    "from sklearn.ensemble import RandomForestClassifier\n",
    "names = (list(X_train_s))\n",
    "feature_names = [f\"feature {names[i]}\" for i in range(X_train_s.shape[1])]\n",
    "forest = RandomForestClassifier(random_state=0)\n",
    "forest.fit(X_train_s, Y_train_s)\n",
    "import time\n",
    "import matplotlib.pyplot as plt\n",
    "import numpy as np\n",
    "\n",
    "start_time = time.time()\n",
    "importances = forest.feature_importances_\n",
    "std = np.std([tree.feature_importances_ for tree in forest.estimators_], axis=0)\n",
    "elapsed_time = time.time() - start_time\n",
    "\n",
    "print(f\"Elapsed time to compute the importances: {elapsed_time:.3f} seconds\")\n",
    "forest_importances = pd.Series(importances, index=feature_names)\n",
    "\n",
    "fig, ax = plt.subplots()\n",
    "forest_importances.plot.bar(yerr=std, ax=ax)\n",
    "ax.set_title(\"Feature importances using MDI\")\n",
    "ax.set_ylabel(\"Mean decrease in impurity\")\n",
    "fig.tight_layout()"
   ],
   "outputs": [
    {
     "name": "stdout",
     "output_type": "stream",
     "text": [
      "Elapsed time to compute the importances: 0.010 seconds\n"
     ]
    },
    {
     "data": {
      "text/plain": [
       "<Figure size 640x480 with 1 Axes>"
      ],
      "image/png": "[encoded data removed]"
     },
     "metadata": {},
     "output_type": "display_data"
    }
   ],
   "execution_count": 7
  },
  {
   "cell_type": "markdown",
   "id": "25d2e5f6c9684691",
   "metadata": {},
   "source": [
    "TASK 4 & 5"
   ]
  },
  {
   "cell_type": "code",
   "id": "5fd32bd75029c3fc",
   "metadata": {
    "ExecuteTime": {
     "end_time": "2025-10-09T08:57:13.867917Z",
     "start_time": "2025-10-09T08:57:05.581223Z"
    }
   },
   "source": [
    "from sklearn.metrics import classification_report\n",
    "from sklearn.metrics import fbeta_score\n",
    "\n",
    "#5.1 Confusion matrix\n",
    "def confusionmatrix(predicted_y, real_y): # it works, im confused :) \\j\n",
    "    \"\"\"\n",
    "    This function calculates and prints the confusion matrix.\n",
    "    :param predicted_y: list: predicted classes for the test data \n",
    "    :param real_y: list: real classes of the test data\n",
    "    :return: prints the normalized confusion matrix, returns nothing\n",
    "    \"\"\"\n",
    "    tp, fp, tn, fn = 0, 0, 0, 0\n",
    "    for index,_ in enumerate(predicted_y):\n",
    "        if predicted_y[index][0] == 1: \n",
    "            if predicted_y[index] == real_y[index]: \n",
    "                tp += 1\n",
    "            else:\n",
    "                fp += 1\n",
    "        elif predicted_y[index][0] == 0:\n",
    "            if predicted_y[index] == real_y[index]: \n",
    "                tn += 1\n",
    "            else:\n",
    "                fn += 1\n",
    "        #normalize\n",
    "    tp = tp / len(predicted_y) * 100\n",
    "    fp = fp / len(predicted_y) * 100\n",
    "    tn = tn / len(predicted_y) * 100\n",
    "    fn = fn / len(predicted_y) * 100\n",
    "    print(f\"\\t P \\t\\t N \\n T \\t {tp:.2f} \\t\\t {tn:.2f} \\n F \\t {fp:.2f} \\t\\t {fn:.2f} \\n\")\n",
    "\n",
    "def accuracy_checker(X_test, y_test, pred, mode=\"basic\"):\n",
    "    \"\"\"\n",
    "    This function checks the accuracy of the predicted classes against the real classes.\n",
    "    :param X_test: pandas.DataFrame: the test data to be classified\n",
    "    :param y_test: pandas.Series: the real classes of the test data\n",
    "    :param pred: predictor class: the method used to classify the test data\n",
    "    :param mode: string: way to evaluate the results\n",
    "    :return: prints the results, returns nothing\n",
    "    \"\"\"\n",
    "    num, total = 0, 0\n",
    "    predicted, true = [], []\n",
    "    for index, row in X_test.iterrows():\n",
    "        p = pred.predict(X_test.loc[[index]])\n",
    "        q = list(y_test.loc[[index]])\n",
    "        if p == q:\n",
    "            num += 1\n",
    "        total += 1\n",
    "        predicted.append(p)\n",
    "        true.append(q)\n",
    "    if mode == \"basic\":\n",
    "        print(f\"Accuracy: {num/total*100:.2f}%\")\n",
    "    elif mode == \"classification_report\":\n",
    "        print(classification_report(true, predicted))\n",
    "    elif mode == \"confusion_matrix\":\n",
    "        confusionmatrix(predicted, true)\n",
    "    elif mode == \"fbeta\":\n",
    "        print(\"average=macro:\", fbeta_score(true, predicted, average='macro', beta=0.5))\n",
    "        print(\"average=weighted:\", fbeta_score(true, predicted, average='weighted', beta=0.5))\n",
    "        print(\"average=None:\", fbeta_score(true, predicted, average=None, beta=0.5))\n",
    "    else:\n",
    "        return num/total*100\n",
    "\n",
    "# 4.1 KNN\n",
    "class KNN:    \n",
    "    def __init__(self, k=5):\n",
    "        \"\"\"\n",
    "        initializes an instance of the KNN class\n",
    "        :param k: int: number of neighbors\n",
    "        \"\"\"\n",
    "        self.k = k\n",
    "        self.X_train = None\n",
    "        self.y_train = None\n",
    "        \n",
    "    def fit(self, X, y):\n",
    "        \"\"\"\n",
    "        fits the KNN class\n",
    "        :param X: pandas.DataFrame: the train data\n",
    "        :param y: pandas.Series: the classes of the train data\n",
    "        :return: a fitted instance of the KNN class\n",
    "        \"\"\"\n",
    "        self.X_train = X\n",
    "        self.y_train = y\n",
    "        return self\n",
    "    \n",
    "    def euclidean_distance(self, a, b):\n",
    "        \"\"\"\n",
    "        This function calculates the euclidean distance between two datapoints.\n",
    "        :param a: list: the first datapoint\n",
    "        :param b: list: the second datapoint\n",
    "        :return: float: the euclidean distance between the datapoints\n",
    "        \"\"\"\n",
    "        distance = 0\n",
    "        for index, _ in enumerate(a):\n",
    "            distance += (a[index] - b[index]) ** 2\n",
    "        distance = distance**0.5\n",
    "        return distance    \n",
    "    \n",
    "    def predict(self, X_test):\n",
    "        \"\"\"\n",
    "        predicts the class of the test data\n",
    "        :param X_test: pandas.DataFrame: the test data\n",
    "        :return: list: the predicted classes\n",
    "        \"\"\"\n",
    "        test_y = list([0 for _ in range(X_test.shape[0])])\n",
    "        for index, (_,test_row) in enumerate(X_test.iterrows()):\n",
    "            distances = []\n",
    "            for _, train_row in self.X_train.iterrows():\n",
    "                test_values = list(test_row)  \n",
    "                train_values = list(train_row)\n",
    "                distance = self.euclidean_distance(test_values, train_values)\n",
    "                distances.append(distance)\n",
    "            nearest_neighbours = sorted(range(len(distances)), key=lambda i: distances[i])[:self.k]\n",
    "            neighbor_labels = self.y_train.iloc[nearest_neighbours]\n",
    "            predicted_label = round(neighbor_labels.mean())\n",
    "            test_y[index] = predicted_label\n",
    "        return test_y\n",
    "\n",
    "# from accuracy it appears that k=5 is best for small set and k=[2,4,9] are all best for large set, for 1<=k<=9\n",
    "knn_s = KNN(5)\n",
    "knn_s.fit(X_train_s, Y_train_s)\n",
    "knn_s_acc = accuracy_checker(X_test_s, Y_test_s, knn_s, \"return\")\n",
    "knn_l = KNN(5)\n",
    "knn_l.fit(X_train_l, Y_train_l)\n",
    "knn_l_acc = accuracy_checker(X_test_l, Y_test_l, knn_l, \"return\")\n",
    "\n",
    "# 4.2 nbc\n",
    "from sklearn.naive_bayes import GaussianNB\n",
    "nbc_s = GaussianNB()\n",
    "nbc_s.fit(X_train_s, Y_train_s)\n",
    "nbc_s_acc = accuracy_checker(X_test_s, Y_test_s, nbc_s, \"return\")\n",
    "nbc_l = GaussianNB()\n",
    "nbc_l.fit(X_train_l, Y_train_l)\n",
    "nbc_l_acc = accuracy_checker(X_test_l, Y_test_l, nbc_l, \"return\")\n",
    "\n",
    "# 4.3 svc\n",
    "from sklearn.svm import SVC\n",
    "from sklearn.preprocessing import StandardScaler\n",
    "from sklearn.pipeline import make_pipeline\n",
    "svc_s = make_pipeline(StandardScaler(), SVC(gamma='auto'))\n",
    "svc_s.fit(X_train_s, Y_train_s)\n",
    "svc_s_acc = accuracy_checker(X_test_s, Y_test_s, svc_s, \"return\")\n",
    "svc_l = make_pipeline(StandardScaler(), SVC(gamma='auto'))\n",
    "svc_l.fit(X_train_l, Y_train_l)\n",
    "svc_l_acc = accuracy_checker(X_test_l, Y_test_l, svc_l, \"return\")\n",
    "\n",
    "# 4.4 mlp\n",
    "from sklearn.neural_network import MLPClassifier\n",
    "mlp_s = MLPClassifier(random_state=1, max_iter=400).fit(X_train_s, Y_train_s)\n",
    "mlp_s_acc = accuracy_checker(X_test_s, Y_test_s, mlp_s, \"return\")\n",
    "mlp_l = MLPClassifier(random_state=1, max_iter=400).fit(X_train_l, Y_train_l)\n",
    "mlp_l_acc = accuracy_checker(X_test_l, Y_test_l, mlp_l, \"return\")\n",
    "\n",
    "classifiers_list = [\"knn_s\", \"knn_l\", \"nbc_s\", \"nbc_l\", \"svc_s\", \"svc_l\", \"mlp_s\", \"mlp_l\"]\n",
    "accuracy_list = [knn_s_acc, knn_l_acc, nbc_s_acc, nbc_l_acc, svc_s_acc, svc_l_acc, mlp_s_acc, mlp_l_acc]\n",
    "fig = px.histogram(x=classifiers_list, y=accuracy_list, barmode='group', height=500, title='Classifiers and accuracy', text_auto=True)\n",
    "fig.show()\n"
   ],
   "outputs": [
    {
     "data": {
      "application/vnd.plotly.v1+json": {
       "data": [
        {
         "alignmentgroup": "True",
         "bingroup": "x",
         "histfunc": "sum",
         "hovertemplate": "x=%{x}<br>sum of y=%{y}<extra></extra>",
         "legendgroup": "",
         "marker": {
          "color": "#636efa",
          "pattern": {
           "shape": ""
          }
         },
         "name": "",
         "offsetgroup": "",
         "orientation": "v",
         "showlegend": false,
         "texttemplate": "%{value}",
         "x": [
          "knn_s",
          "knn_l",
          "nbc_s",
          "nbc_l",
          "svc_s",
          "svc_l",
          "mlp_s",
          "mlp_l"
         ],
         "xaxis": "x",
         "y": {
          "dtype": "f8",
          "bdata": "EwJyfiohU0ArWl98uKJTQLyG8hrKa1JAmLtNs4W5UkA3zRbmbtNSQHTwqEtBB1NAdPCoS0EHU0B08KhLQQdTQA=="
         },
         "yaxis": "y",
         "type": "histogram"
        }
       ],
       "layout": {
        "template": {
         "data": {
          "histogram2dcontour": [
           {
            "type": "histogram2dcontour",
            "colorbar": {
             "outlinewidth": 0,
             "ticks": ""
            },
            "colorscale": [
             [
              0.0,
              "#0d0887"
             ],
             [
              0.1111111111111111,
              "#46039f"
             ],
             [
              0.2222222222222222,
              "#7201a8"
             ],
             [
              0.3333333333333333,
              "#9c179e"
             ],
             [
              0.4444444444444444,
              "#bd3786"
             ],
             [
              0.5555555555555556,
              "#d8576b"
             ],
             [
              0.6666666666666666,
              "#ed7953"
             ],
             [
              0.7777777777777778,
              "#fb9f3a"
             ],
             [
              0.8888888888888888,
              "#fdca26"
             ],
             [
              1.0,
              "#f0f921"
             ]
            ]
           }
          ],
          "choropleth": [
           {
            "type": "choropleth",
            "colorbar": {
             "outlinewidth": 0,
             "ticks": ""
            }
           }
          ],
          "histogram2d": [
           {
            "type": "histogram2d",
            "colorbar": {
             "outlinewidth": 0,
             "ticks": ""
            },
            "colorscale": [
             [
              0.0,
              "#0d0887"
             ],
             [
              0.1111111111111111,
              "#46039f"
             ],
             [
              0.2222222222222222,
              "#7201a8"
             ],
             [
              0.3333333333333333,
              "#9c179e"
             ],
             [
              0.4444444444444444,
              "#bd3786"
             ],
             [
              0.5555555555555556,
              "#d8576b"
             ],
             [
              0.6666666666666666,
              "#ed7953"
             ],
             [
              0.7777777777777778,
              "#fb9f3a"
             ],
             [
              0.8888888888888888,
              "#fdca26"
             ],
             [
              1.0,
              "#f0f921"
             ]
            ]
           }
          ],
          "heatmap": [
           {
            "type": "heatmap",
            "colorbar": {
             "outlinewidth": 0,
             "ticks": ""
            },
            "colorscale": [
             [
              0.0,
              "#0d0887"
             ],
             [
              0.1111111111111111,
              "#46039f"
             ],
             [
              0.2222222222222222,
              "#7201a8"
             ],
             [
              0.3333333333333333,
              "#9c179e"
             ],
             [
              0.4444444444444444,
              "#bd3786"
             ],
             [
              0.5555555555555556,
              "#d8576b"
             ],
             [
              0.6666666666666666,
              "#ed7953"
             ],
             [
              0.7777777777777778,
              "#fb9f3a"
             ],
             [
              0.8888888888888888,
              "#fdca26"
             ],
             [
              1.0,
              "#f0f921"
             ]
            ]
           }
          ],
          "contourcarpet": [
           {
            "type": "contourcarpet",
            "colorbar": {
             "outlinewidth": 0,
             "ticks": ""
            }
           }
          ],
          "contour": [
           {
            "type": "contour",
            "colorbar": {
             "outlinewidth": 0,
             "ticks": ""
            },
            "colorscale": [
             [
              0.0,
              "#0d0887"
             ],
             [
              0.1111111111111111,
              "#46039f"
             ],
             [
              0.2222222222222222,
              "#7201a8"
             ],
             [
              0.3333333333333333,
              "#9c179e"
             ],
             [
              0.4444444444444444,
              "#bd3786"
             ],
             [
              0.5555555555555556,
              "#d8576b"
             ],
             [
              0.6666666666666666,
              "#ed7953"
             ],
             [
              0.7777777777777778,
              "#fb9f3a"
             ],
             [
              0.8888888888888888,
              "#fdca26"
             ],
             [
              1.0,
              "#f0f921"
             ]
            ]
           }
          ],
          "surface": [
           {
            "type": "surface",
            "colorbar": {
             "outlinewidth": 0,
             "ticks": ""
            },
            "colorscale": [
             [
              0.0,
              "#0d0887"
             ],
             [
              0.1111111111111111,
              "#46039f"
             ],
             [
              0.2222222222222222,
              "#7201a8"
             ],
             [
              0.3333333333333333,
              "#9c179e"
             ],
             [
              0.4444444444444444,
              "#bd3786"
             ],
             [
              0.5555555555555556,
              "#d8576b"
             ],
             [
              0.6666666666666666,
              "#ed7953"
             ],
             [
              0.7777777777777778,
              "#fb9f3a"
             ],
             [
              0.8888888888888888,
              "#fdca26"
             ],
             [
              1.0,
              "#f0f921"
             ]
            ]
           }
          ],
          "mesh3d": [
           {
            "type": "mesh3d",
            "colorbar": {
             "outlinewidth": 0,
             "ticks": ""
            }
           }
          ],
          "scatter": [
           {
            "marker": {
             "line": {
              "color": "#283442"
             }
            },
            "type": "scatter"
           }
          ],
          "parcoords": [
           {
            "type": "parcoords",
            "line": {
             "colorbar": {
              "outlinewidth": 0,
              "ticks": ""
             }
            }
           }
          ],
          "scatterpolargl": [
           {
            "type": "scatterpolargl",
            "marker": {
             "colorbar": {
              "outlinewidth": 0,
              "ticks": ""
             }
            }
           }
          ],
          "bar": [
           {
            "error_x": {
             "color": "#f2f5fa"
            },
            "error_y": {
             "color": "#f2f5fa"
            },
            "marker": {
             "line": {
              "color": "rgb(17,17,17)",
              "width": 0.5
             },
             "pattern": {
              "fillmode": "overlay",
              "size": 10,
              "solidity": 0.2
             }
            },
            "type": "bar"
           }
          ],
          "scattergeo": [
           {
            "type": "scattergeo",
            "marker": {
             "colorbar": {
              "outlinewidth": 0,
              "ticks": ""
             }
            }
           }
          ],
          "scatterpolar": [
           {
            "type": "scatterpolar",
            "marker": {
             "colorbar": {
              "outlinewidth": 0,
              "ticks": ""
             }
            }
           }
          ],
          "histogram": [
           {
            "marker": {
             "pattern": {
              "fillmode": "overlay",
              "size": 10,
              "solidity": 0.2
             }
            },
            "type": "histogram"
           }
          ],
          "scattergl": [
           {
            "marker": {
             "line": {
              "color": "#283442"
             }
            },
            "type": "scattergl"
           }
          ],
          "scatter3d": [
           {
            "type": "scatter3d",
            "line": {
             "colorbar": {
              "outlinewidth": 0,
              "ticks": ""
             }
            },
            "marker": {
             "colorbar": {
              "outlinewidth": 0,
              "ticks": ""
             }
            }
           }
          ],
          "scattermap": [
           {
            "type": "scattermap",
            "marker": {
             "colorbar": {
              "outlinewidth": 0,
              "ticks": ""
             }
            }
           }
          ],
          "scattermapbox": [
           {
            "type": "scattermapbox",
            "marker": {
             "colorbar": {
              "outlinewidth": 0,
              "ticks": ""
             }
            }
           }
          ],
          "scatterternary": [
           {
            "type": "scatterternary",
            "marker": {
             "colorbar": {
              "outlinewidth": 0,
              "ticks": ""
             }
            }
           }
          ],
          "scattercarpet": [
           {
            "type": "scattercarpet",
            "marker": {
             "colorbar": {
              "outlinewidth": 0,
              "ticks": ""
             }
            }
           }
          ],
          "carpet": [
           {
            "aaxis": {
             "endlinecolor": "#A2B1C6",
             "gridcolor": "#506784",
             "linecolor": "#506784",
             "minorgridcolor": "#506784",
             "startlinecolor": "#A2B1C6"
            },
            "baxis": {
             "endlinecolor": "#A2B1C6",
             "gridcolor": "#506784",
             "linecolor": "#506784",
             "minorgridcolor": "#506784",
             "startlinecolor": "#A2B1C6"
            },
            "type": "carpet"
           }
          ],
          "table": [
           {
            "cells": {
             "fill": {
              "color": "#506784"
             },
             "line": {
              "color": "rgb(17,17,17)"
             }
            },
            "header": {
             "fill": {
              "color": "#2a3f5f"
             },
             "line": {
              "color": "rgb(17,17,17)"
             }
            },
            "type": "table"
           }
          ],
          "barpolar": [
           {
            "marker": {
             "line": {
              "color": "rgb(17,17,17)",
              "width": 0.5
             },
             "pattern": {
              "fillmode": "overlay",
              "size": 10,
              "solidity": 0.2
             }
            },
            "type": "barpolar"
           }
          ],
          "pie": [
           {
            "automargin": true,
            "type": "pie"
           }
          ]
         },
         "layout": {
          "autotypenumbers": "strict",
          "colorway": [
           "#636efa",
           "#EF553B",
           "#00cc96",
           "#ab63fa",
           "#FFA15A",
           "#19d3f3",
           "#FF6692",
           "#B6E880",
           "#FF97FF",
           "#FECB52"
          ],
          "font": {
           "color": "#f2f5fa"
          },
          "hovermode": "closest",
          "hoverlabel": {
           "align": "left"
          },
          "paper_bgcolor": "rgb(17,17,17)",
          "plot_bgcolor": "rgb(17,17,17)",
          "polar": {
           "bgcolor": "rgb(17,17,17)",
           "angularaxis": {
            "gridcolor": "#506784",
            "linecolor": "#506784",
            "ticks": ""
           },
           "radialaxis": {
            "gridcolor": "#506784",
            "linecolor": "#506784",
            "ticks": ""
           }
          },
          "ternary": {
           "bgcolor": "rgb(17,17,17)",
           "aaxis": {
            "gridcolor": "#506784",
            "linecolor": "#506784",
            "ticks": ""
           },
           "baxis": {
            "gridcolor": "#506784",
            "linecolor": "#506784",
            "ticks": ""
           },
           "caxis": {
            "gridcolor": "#506784",
            "linecolor": "#506784",
            "ticks": ""
           }
          },
          "coloraxis": {
           "colorbar": {
            "outlinewidth": 0,
            "ticks": ""
           }
          },
          "colorscale": {
           "sequential": [
            [
             0.0,
             "#0d0887"
            ],
            [
             0.1111111111111111,
             "#46039f"
            ],
            [
             0.2222222222222222,
             "#7201a8"
            ],
            [
             0.3333333333333333,
             "#9c179e"
            ],
            [
             0.4444444444444444,
             "#bd3786"
            ],
            [
             0.5555555555555556,
             "#d8576b"
            ],
            [
             0.6666666666666666,
             "#ed7953"
            ],
            [
             0.7777777777777778,
             "#fb9f3a"
            ],
            [
             0.8888888888888888,
             "#fdca26"
            ],
            [
             1.0,
             "#f0f921"
            ]
           ],
           "sequentialminus": [
            [
             0.0,
             "#0d0887"
            ],
            [
             0.1111111111111111,
             "#46039f"
            ],
            [
             0.2222222222222222,
             "#7201a8"
            ],
            [
             0.3333333333333333,
             "#9c179e"
            ],
            [
             0.4444444444444444,
             "#bd3786"
            ],
            [
             0.5555555555555556,
             "#d8576b"
            ],
            [
             0.6666666666666666,
             "#ed7953"
            ],
            [
             0.7777777777777778,
             "#fb9f3a"
            ],
            [
             0.8888888888888888,
             "#fdca26"
            ],
            [
             1.0,
             "#f0f921"
            ]
           ],
           "diverging": [
            [
             0,
             "#8e0152"
            ],
            [
             0.1,
             "#c51b7d"
            ],
            [
             0.2,
             "#de77ae"
            ],
            [
             0.3,
             "#f1b6da"
            ],
            [
             0.4,
             "#fde0ef"
            ],
            [
             0.5,
             "#f7f7f7"
            ],
            [
             0.6,
             "#e6f5d0"
            ],
            [
             0.7,
             "#b8e186"
            ],
            [
             0.8,
             "#7fbc41"
            ],
            [
             0.9,
             "#4d9221"
            ],
            [
             1,
             "#276419"
            ]
           ]
          },
          "xaxis": {
           "gridcolor": "#283442",
           "linecolor": "#506784",
           "ticks": "",
           "title": {
            "standoff": 15
           },
           "zerolinecolor": "#283442",
           "automargin": true,
           "zerolinewidth": 2
          },
          "yaxis": {
           "gridcolor": "#283442",
           "linecolor": "#506784",
           "ticks": "",
           "title": {
            "standoff": 15
           },
           "zerolinecolor": "#283442",
           "automargin": true,
           "zerolinewidth": 2
          },
          "scene": {
           "xaxis": {
            "backgroundcolor": "rgb(17,17,17)",
            "gridcolor": "#506784",
            "linecolor": "#506784",
            "showbackground": true,
            "ticks": "",
            "zerolinecolor": "#C8D4E3",
            "gridwidth": 2
           },
           "yaxis": {
            "backgroundcolor": "rgb(17,17,17)",
            "gridcolor": "#506784",
            "linecolor": "#506784",
            "showbackground": true,
            "ticks": "",
            "zerolinecolor": "#C8D4E3",
            "gridwidth": 2
           },
           "zaxis": {
            "backgroundcolor": "rgb(17,17,17)",
            "gridcolor": "#506784",
            "linecolor": "#506784",
            "showbackground": true,
            "ticks": "",
            "zerolinecolor": "#C8D4E3",
            "gridwidth": 2
           }
          },
          "shapedefaults": {
           "line": {
            "color": "#f2f5fa"
           }
          },
          "annotationdefaults": {
           "arrowcolor": "#f2f5fa",
           "arrowhead": 0,
           "arrowwidth": 1
          },
          "geo": {
           "bgcolor": "rgb(17,17,17)",
           "landcolor": "rgb(17,17,17)",
           "subunitcolor": "#506784",
           "showland": true,
           "showlakes": true,
           "lakecolor": "rgb(17,17,17)"
          },
          "title": {
           "x": 0.05
          },
          "updatemenudefaults": {
           "bgcolor": "#506784",
           "borderwidth": 0
          },
          "sliderdefaults": {
           "bgcolor": "#C8D4E3",
           "borderwidth": 1,
           "bordercolor": "rgb(17,17,17)",
           "tickwidth": 0
          },
          "mapbox": {
           "style": "dark"
          }
         }
        },
        "xaxis": {
         "anchor": "y",
         "domain": [
          0.0,
          1.0
         ],
         "title": {
          "text": "x"
         }
        },
        "yaxis": {
         "anchor": "x",
         "domain": [
          0.0,
          1.0
         ],
         "title": {
          "text": "sum of y"
         }
        },
        "legend": {
         "tracegroupgap": 0
        },
        "title": {
         "text": "Classifiers and accuracy"
        },
        "barmode": "group",
        "height": 500
       },
       "config": {
        "plotlyServerURL": "https://plot.ly"
       }
      }
     },
     "metadata": {},
     "output_type": "display_data"
    }
   ],
   "execution_count": 8
  },
  {
   "cell_type": "code",
   "id": "8aadb811fdda4bdb",
   "metadata": {
    "ExecuteTime": {
     "end_time": "2025-10-09T08:57:38.512435Z",
     "start_time": "2025-10-09T08:57:13.869122Z"
    }
   },
   "source": [
    "preds = [knn_s, knn_l, nbc_s, nbc_l, svc_s, svc_l, mlp_s, mlp_l]\n",
    "modes = [\"confusion_matrix\", \"classification_report\", \"fbeta\"]\n",
    "for mode in modes:\n",
    "    for pred in preds:\n",
    "        pred_string = \"\"\n",
    "        if pred == svc_s: pred_string = \"svc_s\"\n",
    "        elif pred == svc_l: pred_string = \"svc_l\"\n",
    "        elif pred == mlp_s: pred_string = \"mlp_s\"\n",
    "        elif pred == mlp_l: pred_string = \"mlp_l\"\n",
    "        elif pred == nbc_s: pred_string = \"nbc_s\"\n",
    "        elif pred == nbc_l: pred_string = \"nbc_l\"\n",
    "        elif pred == knn_s: pred_string = \"knn_s\"\n",
    "        elif pred == knn_l: pred_string = \"knn_l\"\n",
    "        if pred_string[4] == \"s\":\n",
    "            print(f\"{mode} for {pred_string}\")\n",
    "            accuracy_checker(X_test_s, Y_test_s, pred, mode=mode)    \n",
    "        elif pred_string[4] == \"l\":\n",
    "            print(f\"\\n{mode} for {pred_string}\")\n",
    "            accuracy_checker(X_test_l, Y_test_l, pred, mode=mode)\n",
    "        print(\"-----------------------------------------\")"
   ],
   "outputs": [
    {
     "name": "stdout",
     "output_type": "stream",
     "text": [
      "confusion_matrix for knn_s\n",
      "\t P \t\t N \n",
      " T \t 6.48 \t\t 70.04 \n",
      " F \t 4.45 \t\t 19.03 \n",
      "\n",
      "-----------------------------------------\n",
      "\n",
      "confusion_matrix for knn_l\n",
      "\t P \t\t N \n",
      " T \t 8.10 \t\t 70.45 \n",
      " F \t 4.05 \t\t 17.41 \n",
      "\n",
      "-----------------------------------------\n",
      "confusion_matrix for nbc_s\n",
      "\t P \t\t N \n",
      " T \t 4.05 \t\t 69.64 \n",
      " F \t 4.86 \t\t 21.46 \n",
      "\n",
      "-----------------------------------------\n",
      "\n",
      "confusion_matrix for nbc_l\n",
      "\t P \t\t N \n",
      " T \t 3.24 \t\t 71.66 \n",
      " F \t 2.83 \t\t 22.27 \n",
      "\n",
      "-----------------------------------------\n",
      "confusion_matrix for svc_s\n",
      "\t P \t\t N \n",
      " T \t 1.62 \t\t 73.68 \n",
      " F \t 0.81 \t\t 23.89 \n",
      "\n",
      "-----------------------------------------\n",
      "\n",
      "confusion_matrix for svc_l\n",
      "\t P \t\t N \n",
      " T \t 2.02 \t\t 74.09 \n",
      " F \t 0.40 \t\t 23.48 \n",
      "\n",
      "-----------------------------------------\n",
      "confusion_matrix for mlp_s\n",
      "\t P \t\t N \n",
      " T \t 2.83 \t\t 73.28 \n",
      " F \t 1.21 \t\t 22.67 \n",
      "\n",
      "-----------------------------------------\n",
      "\n",
      "confusion_matrix for mlp_l\n",
      "\t P \t\t N \n",
      " T \t 2.02 \t\t 74.09 \n",
      " F \t 0.40 \t\t 23.48 \n",
      "\n",
      "-----------------------------------------\n",
      "classification_report for knn_s\n",
      "              precision    recall  f1-score   support\n",
      "\n",
      "         0.0       0.79      0.94      0.86       184\n",
      "         1.0       0.59      0.25      0.36        63\n",
      "\n",
      "    accuracy                           0.77       247\n",
      "   macro avg       0.69      0.60      0.61       247\n",
      "weighted avg       0.74      0.77      0.73       247\n",
      "\n",
      "-----------------------------------------\n",
      "\n",
      "classification_report for knn_l\n",
      "              precision    recall  f1-score   support\n",
      "\n",
      "         0.0       0.80      0.95      0.87       184\n",
      "         1.0       0.67      0.32      0.43        63\n",
      "\n",
      "    accuracy                           0.79       247\n",
      "   macro avg       0.73      0.63      0.65       247\n",
      "weighted avg       0.77      0.79      0.76       247\n",
      "\n",
      "-----------------------------------------\n",
      "classification_report for nbc_s\n",
      "              precision    recall  f1-score   support\n",
      "\n",
      "         0.0       0.76      0.93      0.84       184\n",
      "         1.0       0.45      0.16      0.24        63\n",
      "\n",
      "    accuracy                           0.74       247\n",
      "   macro avg       0.61      0.55      0.54       247\n",
      "weighted avg       0.69      0.74      0.69       247\n",
      "\n",
      "-----------------------------------------\n",
      "\n",
      "classification_report for nbc_l\n",
      "              precision    recall  f1-score   support\n",
      "\n",
      "         0.0       0.76      0.96      0.85       184\n",
      "         1.0       0.53      0.13      0.21        63\n",
      "\n",
      "    accuracy                           0.75       247\n",
      "   macro avg       0.65      0.54      0.53       247\n",
      "weighted avg       0.70      0.75      0.69       247\n",
      "\n",
      "-----------------------------------------\n",
      "classification_report for svc_s\n",
      "              precision    recall  f1-score   support\n",
      "\n",
      "         0.0       0.76      0.99      0.86       184\n",
      "         1.0       0.67      0.06      0.12        63\n",
      "\n",
      "    accuracy                           0.75       247\n",
      "   macro avg       0.71      0.53      0.49       247\n",
      "weighted avg       0.73      0.75      0.67       247\n",
      "\n",
      "-----------------------------------------\n",
      "\n",
      "classification_report for svc_l\n",
      "              precision    recall  f1-score   support\n",
      "\n",
      "         0.0       0.76      0.99      0.86       184\n",
      "         1.0       0.83      0.08      0.14        63\n",
      "\n",
      "    accuracy                           0.76       247\n",
      "   macro avg       0.80      0.54      0.50       247\n",
      "weighted avg       0.78      0.76      0.68       247\n",
      "\n",
      "-----------------------------------------\n",
      "classification_report for mlp_s\n",
      "              precision    recall  f1-score   support\n",
      "\n",
      "         0.0       0.76      0.98      0.86       184\n",
      "         1.0       0.70      0.11      0.19        63\n",
      "\n",
      "    accuracy                           0.76       247\n",
      "   macro avg       0.73      0.55      0.53       247\n",
      "weighted avg       0.75      0.76      0.69       247\n",
      "\n",
      "-----------------------------------------\n",
      "\n",
      "classification_report for mlp_l\n",
      "              precision    recall  f1-score   support\n",
      "\n",
      "         0.0       0.76      0.99      0.86       184\n",
      "         1.0       0.83      0.08      0.14        63\n",
      "\n",
      "    accuracy                           0.76       247\n",
      "   macro avg       0.80      0.54      0.50       247\n",
      "weighted avg       0.78      0.76      0.68       247\n",
      "\n",
      "-----------------------------------------\n",
      "fbeta for knn_s\n",
      "average=macro: 0.6404030910609857\n",
      "average=weighted: 0.7249398800645337\n",
      "average=None: [0.81296992 0.46783626]\n",
      "-----------------------------------------\n",
      "\n",
      "fbeta for knn_l\n",
      "average=macro: 0.6867221425751626\n",
      "average=weighted: 0.7554393922608292\n",
      "average=None: [0.8269962  0.54644809]\n",
      "-----------------------------------------\n",
      "fbeta for nbc_s\n",
      "average=macro: 0.5622418806969527\n",
      "average=weighted: 0.6754606758336668\n",
      "average=None: [0.79335793 0.33112583]\n",
      "-----------------------------------------\n",
      "\n",
      "fbeta for nbc_l\n",
      "average=macro: 0.5605332806925193\n",
      "average=weighted: 0.6758164121413447\n",
      "average=None: [0.79586331 0.32520325]\n",
      "-----------------------------------------\n",
      "fbeta for svc_s\n",
      "average=macro: 0.5112839921502663\n",
      "average=weighted: 0.6491352921347167\n",
      "average=None: [0.79268293 0.22988506]\n",
      "-----------------------------------------\n",
      "\n",
      "fbeta for svc_l\n",
      "average=macro: 0.5421973246826064\n",
      "average=weighted: 0.6670384637274105\n",
      "average=None: [0.79703833 0.28735632]\n",
      "-----------------------------------------\n",
      "fbeta for mlp_s\n",
      "average=macro: 0.5696378949535147\n",
      "average=weighted: 0.6822276942855242\n",
      "average=None: [0.79946996 0.33980583]\n",
      "-----------------------------------------\n",
      "\n",
      "fbeta for mlp_l\n",
      "average=macro: 0.5421973246826064\n",
      "average=weighted: 0.6670384637274105\n",
      "average=None: [0.79703833 0.28735632]\n",
      "-----------------------------------------\n"
     ]
    }
   ],
   "execution_count": 9
  },
  {
   "metadata": {
    "ExecuteTime": {
     "end_time": "2025-10-09T09:10:11.714732Z",
     "start_time": "2025-10-09T09:10:11.374281Z"
    }
   },
   "cell_type": "code",
   "source": [
    "import plotly.graph_objects as go\n",
    "from plotly.colors import n_colors\n",
    "#visualize\n",
    "metrics_data = {\n",
    "    'Classifier': ['knn (s)', 'knn (l)', 'nbc (s)', 'nbc (l)', 'svc (s)', 'svc (l)', 'mlp (s)', 'mlp (l)'], \n",
    "    'Precision': [59, 67, 45, 53, 67, 83, 70, 83], \n",
    "    'Recall' : [25, 32, 16, 13, 6, 8, 11, 8],\n",
    "    'weighted_fbeta' : [0.72, 0.76, 0.68, 0.68, 0.65, 0.67, 0.68, 0.67],\n",
    "    'macro_fbeta' : [0.64, 0.69, 0.56, 0.56, 0.51, 0.54, 0.57, 0.54],\n",
    "    'fbeta_0' : [0.81, 0.83, 0.79, 0.80, 0.79, 0.80, 0.80, 0.80],\n",
    "    'fbeta_1' : [0.47, 0.55, 0.33, 0.33, 0.23, 0.29, 0.34, 0.29]}\n",
    "metrics = pd.DataFrame(metrics_data)\n",
    "\n",
    "# Confusion matrix\n",
    "fig = px.scatter(metrics, x='Precision', y='Recall', color='Classifier', title='Confusion matrix', range_x=[0,100], range_y=[0,100])\n",
    "fig.show()\n",
    "\n",
    "confusion = pandas.DataFrame({\n",
    "    'Classifier': ['knn (s)', 'knn (l)', 'nbc (s)', 'nbc (l)', 'svc (s)', 'svc (l)', 'mlp (s)', 'mlp (l)'],\n",
    "    'TP': [6.48, 8.1, 4.05, 3.24, 1.62, 2.02, 2.83, 2.02],\n",
    "    'TN': [70.04, 70.45, 69.64, 71.66, 73.68, 74.09, 73.28, 76.11],\n",
    "    'FP': [4.45, 4.04, 4.86, 2.83, 0.81, 0.4, 1.21, 0.4],\n",
    "    'FN': [19.03, 17.41, 21.46, 22.27, 23.89, 23.48, 22.67, 23.48]\n",
    "})\n",
    "confused = confusion.copy()\n",
    "confused.TP = confusion.TP.astype(int)\n",
    "confused.FP = confusion.FP.astype(int)\n",
    "confused.TN = confusion.TN.astype(int)\n",
    "confused.FN = confusion.FN.astype(int)\n",
    "colorsTP = n_colors('rgb(0, 0, 200)', 'rgb(200, 0, 0)', 10, colortype='rgb')\n",
    "colorsTN = n_colors('rgb(0, 0, 200)', 'rgb(200, 0, 0)', 80, colortype='rgb')\n",
    "colorsFP = n_colors('rgb(0, 0, 200)', 'rgb(200, 0, 0)', 10, colortype='rgb')\n",
    "colorsFN = n_colors('rgb(0, 0, 200)', 'rgb(200, 0, 0)', 30, colortype='rgb')\n",
    "fig = go.Figure(data=[go.Table(\n",
    "    header=dict(values=list(confusion.columns),\n",
    "    align='center'),\n",
    "    cells=dict(values=[confusion.Classifier, confusion.TP, confusion.TN, confusion.FP, confusion.FN],\n",
    "    line_color=['rgb(45, 45, 45)', np.array(colorsTP)[confused.TP], np.array(colorsTN)[confused.TN], np.array(colorsFP)[confused.FP], np.array(colorsFN)[confused.FN]],\n",
    "    fill_color=['rgb(45, 45, 45)',np.array(colorsTP)[confused.TP], np.array(colorsTN)[confused.TN], np.array(colorsFP)[confused.FP], np.array(colorsFN)[confused.FN]],\n",
    "    align='right'))\n",
    "])\n",
    "fig.show()\n",
    "\n",
    "# Fbeta scores\n",
    "fig = px.histogram(metrics, x='Classifier', y='weighted_fbeta', barmode='group', height=500, title='fbeta')\n",
    "fig.update_layout(title_text='Fbeta (weighted)')\n",
    "fig.update_yaxes(title_text='Fbeta score', range=[0, 1])\n",
    "fig.show()\n",
    "\n",
    "fig = px.histogram(metrics, x='Classifier', y='macro_fbeta', barmode='group', height=500, title='fbeta')\n",
    "fig.update_layout(title_text='Fbeta (macro)')\n",
    "fig.update_yaxes(title_text='Fbeta score', range=[0, 1])\n",
    "fig.show()\n",
    "\n",
    "fig = go.Figure()\n",
    "fig.add_trace(go.Scatter(x=metrics.Classifier, y=metrics.fbeta_0, name='Class 0'))\n",
    "fig.add_trace(go.Scatter(x=metrics.Classifier, y=metrics.fbeta_1, name='Class 1'))\n",
    "fig.update_layout(title_text='Fbeta (None)')\n",
    "fig.update_yaxes(title_text='Fbeta score', range=[0, 1])\n",
    "fig.show()\n",
    "\n",
    "colorsP = n_colors('rgb(0, 0, 200)', 'rgb(200, 0, 0)', 100, colortype='rgb')\n",
    "colorsR = n_colors('rgb(0, 0, 200)', 'rgb(200, 0, 0)', 40, colortype='rgb')\n",
    "fig = go.Figure(data=[go.Table(\n",
    "    header=dict(values=list(metrics.columns[0:3]),\n",
    "    align='center'),\n",
    "    cells=dict(values=[metrics.Classifier, metrics.Precision, metrics.Recall],\n",
    "    line_color=['rgb(45, 45, 45)',np.array(colorsP)[metrics.Precision], np.array(colorsR)[metrics.Recall]],\n",
    "    fill_color=['rgb(45, 45, 45)',np.array(colorsP)[metrics.Precision], np.array(colorsR)[metrics.Recall]],\n",
    "    align='right'))\n",
    "])\n",
    "fig.show()\n",
    "\n",
    "\n",
    "# Classification report\n"
   ],
   "id": "274b4055ca40a097",
   "outputs": [
    {
     "data": {
      "application/vnd.plotly.v1+json": {
       "data": [
        {
         "hovertemplate": "Classifier=knn (s)<br>Precision=%{x}<br>Recall=%{y}<extra></extra>",
         "legendgroup": "knn (s)",
         "marker": {
          "color": "#636efa",
          "symbol": "circle"
         },
         "mode": "markers",
         "name": "knn (s)",
         "orientation": "v",
         "showlegend": true,
         "x": {
          "dtype": "i1",
          "bdata": "Ow=="
         },
         "xaxis": "x",
         "y": {
          "dtype": "i1",
          "bdata": "GQ=="
         },
         "yaxis": "y",
         "type": "scatter"
        },
        {
         "hovertemplate": "Classifier=knn (l)<br>Precision=%{x}<br>Recall=%{y}<extra></extra>",
         "legendgroup": "knn (l)",
         "marker": {
          "color": "#EF553B",
          "symbol": "circle"
         },
         "mode": "markers",
         "name": "knn (l)",
         "orientation": "v",
         "showlegend": true,
         "x": {
          "dtype": "i1",
          "bdata": "Qw=="
         },
         "xaxis": "x",
         "y": {
          "dtype": "i1",
          "bdata": "IA=="
         },
         "yaxis": "y",
         "type": "scatter"
        },
        {
         "hovertemplate": "Classifier=nbc (s)<br>Precision=%{x}<br>Recall=%{y}<extra></extra>",
         "legendgroup": "nbc (s)",
         "marker": {
          "color": "#00cc96",
          "symbol": "circle"
         },
         "mode": "markers",
         "name": "nbc (s)",
         "orientation": "v",
         "showlegend": true,
         "x": {
          "dtype": "i1",
          "bdata": "LQ=="
         },
         "xaxis": "x",
         "y": {
          "dtype": "i1",
          "bdata": "EA=="
         },
         "yaxis": "y",
         "type": "scatter"
        },
        {
         "hovertemplate": "Classifier=nbc (l)<br>Precision=%{x}<br>Recall=%{y}<extra></extra>",
         "legendgroup": "nbc (l)",
         "marker": {
          "color": "#ab63fa",
          "symbol": "circle"
         },
         "mode": "markers",
         "name": "nbc (l)",
         "orientation": "v",
         "showlegend": true,
         "x": {
          "dtype": "i1",
          "bdata": "NQ=="
         },
         "xaxis": "x",
         "y": {
          "dtype": "i1",
          "bdata": "DQ=="
         },
         "yaxis": "y",
         "type": "scatter"
        },
        {
         "hovertemplate": "Classifier=svc (s)<br>Precision=%{x}<br>Recall=%{y}<extra></extra>",
         "legendgroup": "svc (s)",
         "marker": {
          "color": "#FFA15A",
          "symbol": "circle"
         },
         "mode": "markers",
         "name": "svc (s)",
         "orientation": "v",
         "showlegend": true,
         "x": {
          "dtype": "i1",
          "bdata": "Qw=="
         },
         "xaxis": "x",
         "y": {
          "dtype": "i1",
          "bdata": "Bg=="
         },
         "yaxis": "y",
         "type": "scatter"
        },
        {
         "hovertemplate": "Classifier=svc (l)<br>Precision=%{x}<br>Recall=%{y}<extra></extra>",
         "legendgroup": "svc (l)",
         "marker": {
          "color": "#19d3f3",
          "symbol": "circle"
         },
         "mode": "markers",
         "name": "svc (l)",
         "orientation": "v",
         "showlegend": true,
         "x": {
          "dtype": "i1",
          "bdata": "Uw=="
         },
         "xaxis": "x",
         "y": {
          "dtype": "i1",
          "bdata": "CA=="
         },
         "yaxis": "y",
         "type": "scatter"
        },
        {
         "hovertemplate": "Classifier=mlp (s)<br>Precision=%{x}<br>Recall=%{y}<extra></extra>",
         "legendgroup": "mlp (s)",
         "marker": {
          "color": "#FF6692",
          "symbol": "circle"
         },
         "mode": "markers",
         "name": "mlp (s)",
         "orientation": "v",
         "showlegend": true,
         "x": {
          "dtype": "i1",
          "bdata": "Rg=="
         },
         "xaxis": "x",
         "y": {
          "dtype": "i1",
          "bdata": "Cw=="
         },
         "yaxis": "y",
         "type": "scatter"
        },
        {
         "hovertemplate": "Classifier=mlp (l)<br>Precision=%{x}<br>Recall=%{y}<extra></extra>",
         "legendgroup": "mlp (l)",
         "marker": {
          "color": "#B6E880",
          "symbol": "circle"
         },
         "mode": "markers",
         "name": "mlp (l)",
         "orientation": "v",
         "showlegend": true,
         "x": {
          "dtype": "i1",
          "bdata": "Uw=="
         },
         "xaxis": "x",
         "y": {
          "dtype": "i1",
          "bdata": "CA=="
         },
         "yaxis": "y",
         "type": "scatter"
        }
       ],
       "layout": {
        "template": {
         "data": {
          "histogram2dcontour": [
           {
            "type": "histogram2dcontour",
            "colorbar": {
             "outlinewidth": 0,
             "ticks": ""
            },
            "colorscale": [
             [
              0.0,
              "#0d0887"
             ],
             [
              0.1111111111111111,
              "#46039f"
             ],
             [
              0.2222222222222222,
              "#7201a8"
             ],
             [
              0.3333333333333333,
              "#9c179e"
             ],
             [
              0.4444444444444444,
              "#bd3786"
             ],
             [
              0.5555555555555556,
              "#d8576b"
             ],
             [
              0.6666666666666666,
              "#ed7953"
             ],
             [
              0.7777777777777778,
              "#fb9f3a"
             ],
             [
              0.8888888888888888,
              "#fdca26"
             ],
             [
              1.0,
              "#f0f921"
             ]
            ]
           }
          ],
          "choropleth": [
           {
            "type": "choropleth",
            "colorbar": {
             "outlinewidth": 0,
             "ticks": ""
            }
           }
          ],
          "histogram2d": [
           {
            "type": "histogram2d",
            "colorbar": {
             "outlinewidth": 0,
             "ticks": ""
            },
            "colorscale": [
             [
              0.0,
              "#0d0887"
             ],
             [
              0.1111111111111111,
              "#46039f"
             ],
             [
              0.2222222222222222,
              "#7201a8"
             ],
             [
              0.3333333333333333,
              "#9c179e"
             ],
             [
              0.4444444444444444,
              "#bd3786"
             ],
             [
              0.5555555555555556,
              "#d8576b"
             ],
             [
              0.6666666666666666,
              "#ed7953"
             ],
             [
              0.7777777777777778,
              "#fb9f3a"
             ],
             [
              0.8888888888888888,
              "#fdca26"
             ],
             [
              1.0,
              "#f0f921"
             ]
            ]
           }
          ],
          "heatmap": [
           {
            "type": "heatmap",
            "colorbar": {
             "outlinewidth": 0,
             "ticks": ""
            },
            "colorscale": [
             [
              0.0,
              "#0d0887"
             ],
             [
              0.1111111111111111,
              "#46039f"
             ],
             [
              0.2222222222222222,
              "#7201a8"
             ],
             [
              0.3333333333333333,
              "#9c179e"
             ],
             [
              0.4444444444444444,
              "#bd3786"
             ],
             [
              0.5555555555555556,
              "#d8576b"
             ],
             [
              0.6666666666666666,
              "#ed7953"
             ],
             [
              0.7777777777777778,
              "#fb9f3a"
             ],
             [
              0.8888888888888888,
              "#fdca26"
             ],
             [
              1.0,
              "#f0f921"
             ]
            ]
           }
          ],
          "contourcarpet": [
           {
            "type": "contourcarpet",
            "colorbar": {
             "outlinewidth": 0,
             "ticks": ""
            }
           }
          ],
          "contour": [
           {
            "type": "contour",
            "colorbar": {
             "outlinewidth": 0,
             "ticks": ""
            },
            "colorscale": [
             [
              0.0,
              "#0d0887"
             ],
             [
              0.1111111111111111,
              "#46039f"
             ],
             [
              0.2222222222222222,
              "#7201a8"
             ],
             [
              0.3333333333333333,
              "#9c179e"
             ],
             [
              0.4444444444444444,
              "#bd3786"
             ],
             [
              0.5555555555555556,
              "#d8576b"
             ],
             [
              0.6666666666666666,
              "#ed7953"
             ],
             [
              0.7777777777777778,
              "#fb9f3a"
             ],
             [
              0.8888888888888888,
              "#fdca26"
             ],
             [
              1.0,
              "#f0f921"
             ]
            ]
           }
          ],
          "surface": [
           {
            "type": "surface",
            "colorbar": {
             "outlinewidth": 0,
             "ticks": ""
            },
            "colorscale": [
             [
              0.0,
              "#0d0887"
             ],
             [
              0.1111111111111111,
              "#46039f"
             ],
             [
              0.2222222222222222,
              "#7201a8"
             ],
             [
              0.3333333333333333,
              "#9c179e"
             ],
             [
              0.4444444444444444,
              "#bd3786"
             ],
             [
              0.5555555555555556,
              "#d8576b"
             ],
             [
              0.6666666666666666,
              "#ed7953"
             ],
             [
              0.7777777777777778,
              "#fb9f3a"
             ],
             [
              0.8888888888888888,
              "#fdca26"
             ],
             [
              1.0,
              "#f0f921"
             ]
            ]
           }
          ],
          "mesh3d": [
           {
            "type": "mesh3d",
            "colorbar": {
             "outlinewidth": 0,
             "ticks": ""
            }
           }
          ],
          "scatter": [
           {
            "marker": {
             "line": {
              "color": "#283442"
             }
            },
            "type": "scatter"
           }
          ],
          "parcoords": [
           {
            "type": "parcoords",
            "line": {
             "colorbar": {
              "outlinewidth": 0,
              "ticks": ""
             }
            }
           }
          ],
          "scatterpolargl": [
           {
            "type": "scatterpolargl",
            "marker": {
             "colorbar": {
              "outlinewidth": 0,
              "ticks": ""
             }
            }
           }
          ],
          "bar": [
           {
            "error_x": {
             "color": "#f2f5fa"
            },
            "error_y": {
             "color": "#f2f5fa"
            },
            "marker": {
             "line": {
              "color": "rgb(17,17,17)",
              "width": 0.5
             },
             "pattern": {
              "fillmode": "overlay",
              "size": 10,
              "solidity": 0.2
             }
            },
            "type": "bar"
           }
          ],
          "scattergeo": [
           {
            "type": "scattergeo",
            "marker": {
             "colorbar": {
              "outlinewidth": 0,
              "ticks": ""
             }
            }
           }
          ],
          "scatterpolar": [
           {
            "type": "scatterpolar",
            "marker": {
             "colorbar": {
              "outlinewidth": 0,
              "ticks": ""
             }
            }
           }
          ],
          "histogram": [
           {
            "marker": {
             "pattern": {
              "fillmode": "overlay",
              "size": 10,
              "solidity": 0.2
             }
            },
            "type": "histogram"
           }
          ],
          "scattergl": [
           {
            "marker": {
             "line": {
              "color": "#283442"
             }
            },
            "type": "scattergl"
           }
          ],
          "scatter3d": [
           {
            "type": "scatter3d",
            "line": {
             "colorbar": {
              "outlinewidth": 0,
              "ticks": ""
             }
            },
            "marker": {
             "colorbar": {
              "outlinewidth": 0,
              "ticks": ""
             }
            }
           }
          ],
          "scattermap": [
           {
            "type": "scattermap",
            "marker": {
             "colorbar": {
              "outlinewidth": 0,
              "ticks": ""
             }
            }
           }
          ],
          "scattermapbox": [
           {
            "type": "scattermapbox",
            "marker": {
             "colorbar": {
              "outlinewidth": 0,
              "ticks": ""
             }
            }
           }
          ],
          "scatterternary": [
           {
            "type": "scatterternary",
            "marker": {
             "colorbar": {
              "outlinewidth": 0,
              "ticks": ""
             }
            }
           }
          ],
          "scattercarpet": [
           {
            "type": "scattercarpet",
            "marker": {
             "colorbar": {
              "outlinewidth": 0,
              "ticks": ""
             }
            }
           }
          ],
          "carpet": [
           {
            "aaxis": {
             "endlinecolor": "#A2B1C6",
             "gridcolor": "#506784",
             "linecolor": "#506784",
             "minorgridcolor": "#506784",
             "startlinecolor": "#A2B1C6"
            },
            "baxis": {
             "endlinecolor": "#A2B1C6",
             "gridcolor": "#506784",
             "linecolor": "#506784",
             "minorgridcolor": "#506784",
             "startlinecolor": "#A2B1C6"
            },
            "type": "carpet"
           }
          ],
          "table": [
           {
            "cells": {
             "fill": {
              "color": "#506784"
             },
             "line": {
              "color": "rgb(17,17,17)"
             }
            },
            "header": {
             "fill": {
              "color": "#2a3f5f"
             },
             "line": {
              "color": "rgb(17,17,17)"
             }
            },
            "type": "table"
           }
          ],
          "barpolar": [
           {
            "marker": {
             "line": {
              "color": "rgb(17,17,17)",
              "width": 0.5
             },
             "pattern": {
              "fillmode": "overlay",
              "size": 10,
              "solidity": 0.2
             }
            },
            "type": "barpolar"
           }
          ],
          "pie": [
           {
            "automargin": true,
            "type": "pie"
           }
          ]
         },
         "layout": {
          "autotypenumbers": "strict",
          "colorway": [
           "#636efa",
           "#EF553B",
           "#00cc96",
           "#ab63fa",
           "#FFA15A",
           "#19d3f3",
           "#FF6692",
           "#B6E880",
           "#FF97FF",
           "#FECB52"
          ],
          "font": {
           "color": "#f2f5fa"
          },
          "hovermode": "closest",
          "hoverlabel": {
           "align": "left"
          },
          "paper_bgcolor": "rgb(17,17,17)",
          "plot_bgcolor": "rgb(17,17,17)",
          "polar": {
           "bgcolor": "rgb(17,17,17)",
           "angularaxis": {
            "gridcolor": "#506784",
            "linecolor": "#506784",
            "ticks": ""
           },
           "radialaxis": {
            "gridcolor": "#506784",
            "linecolor": "#506784",
            "ticks": ""
           }
          },
          "ternary": {
           "bgcolor": "rgb(17,17,17)",
           "aaxis": {
            "gridcolor": "#506784",
            "linecolor": "#506784",
            "ticks": ""
           },
           "baxis": {
            "gridcolor": "#506784",
            "linecolor": "#506784",
            "ticks": ""
           },
           "caxis": {
            "gridcolor": "#506784",
            "linecolor": "#506784",
            "ticks": ""
           }
          },
          "coloraxis": {
           "colorbar": {
            "outlinewidth": 0,
            "ticks": ""
           }
          },
          "colorscale": {
           "sequential": [
            [
             0.0,
             "#0d0887"
            ],
            [
             0.1111111111111111,
             "#46039f"
            ],
            [
             0.2222222222222222,
             "#7201a8"
            ],
            [
             0.3333333333333333,
             "#9c179e"
            ],
            [
             0.4444444444444444,
             "#bd3786"
            ],
            [
             0.5555555555555556,
             "#d8576b"
            ],
            [
             0.6666666666666666,
             "#ed7953"
            ],
            [
             0.7777777777777778,
             "#fb9f3a"
            ],
            [
             0.8888888888888888,
             "#fdca26"
            ],
            [
             1.0,
             "#f0f921"
            ]
           ],
           "sequentialminus": [
            [
             0.0,
             "#0d0887"
            ],
            [
             0.1111111111111111,
             "#46039f"
            ],
            [
             0.2222222222222222,
             "#7201a8"
            ],
            [
             0.3333333333333333,
             "#9c179e"
            ],
            [
             0.4444444444444444,
             "#bd3786"
            ],
            [
             0.5555555555555556,
             "#d8576b"
            ],
            [
             0.6666666666666666,
             "#ed7953"
            ],
            [
             0.7777777777777778,
             "#fb9f3a"
            ],
            [
             0.8888888888888888,
             "#fdca26"
            ],
            [
             1.0,
             "#f0f921"
            ]
           ],
           "diverging": [
            [
             0,
             "#8e0152"
            ],
            [
             0.1,
             "#c51b7d"
            ],
            [
             0.2,
             "#de77ae"
            ],
            [
             0.3,
             "#f1b6da"
            ],
            [
             0.4,
             "#fde0ef"
            ],
            [
             0.5,
             "#f7f7f7"
            ],
            [
             0.6,
             "#e6f5d0"
            ],
            [
             0.7,
             "#b8e186"
            ],
            [
             0.8,
             "#7fbc41"
            ],
            [
             0.9,
             "#4d9221"
            ],
            [
             1,
             "#276419"
            ]
           ]
          },
          "xaxis": {
           "gridcolor": "#283442",
           "linecolor": "#506784",
           "ticks": "",
           "title": {
            "standoff": 15
           },
           "zerolinecolor": "#283442",
           "automargin": true,
           "zerolinewidth": 2
          },
          "yaxis": {
           "gridcolor": "#283442",
           "linecolor": "#506784",
           "ticks": "",
           "title": {
            "standoff": 15
           },
           "zerolinecolor": "#283442",
           "automargin": true,
           "zerolinewidth": 2
          },
          "scene": {
           "xaxis": {
            "backgroundcolor": "rgb(17,17,17)",
            "gridcolor": "#506784",
            "linecolor": "#506784",
            "showbackground": true,
            "ticks": "",
            "zerolinecolor": "#C8D4E3",
            "gridwidth": 2
           },
           "yaxis": {
            "backgroundcolor": "rgb(17,17,17)",
            "gridcolor": "#506784",
            "linecolor": "#506784",
            "showbackground": true,
            "ticks": "",
            "zerolinecolor": "#C8D4E3",
            "gridwidth": 2
           },
           "zaxis": {
            "backgroundcolor": "rgb(17,17,17)",
            "gridcolor": "#506784",
            "linecolor": "#506784",
            "showbackground": true,
            "ticks": "",
            "zerolinecolor": "#C8D4E3",
            "gridwidth": 2
           }
          },
          "shapedefaults": {
           "line": {
            "color": "#f2f5fa"
           }
          },
          "annotationdefaults": {
           "arrowcolor": "#f2f5fa",
           "arrowhead": 0,
           "arrowwidth": 1
          },
          "geo": {
           "bgcolor": "rgb(17,17,17)",
           "landcolor": "rgb(17,17,17)",
           "subunitcolor": "#506784",
           "showland": true,
           "showlakes": true,
           "lakecolor": "rgb(17,17,17)"
          },
          "title": {
           "x": 0.05
          },
          "updatemenudefaults": {
           "bgcolor": "#506784",
           "borderwidth": 0
          },
          "sliderdefaults": {
           "bgcolor": "#C8D4E3",
           "borderwidth": 1,
           "bordercolor": "rgb(17,17,17)",
           "tickwidth": 0
          },
          "mapbox": {
           "style": "dark"
          }
         }
        },
        "xaxis": {
         "anchor": "y",
         "domain": [
          0.0,
          1.0
         ],
         "title": {
          "text": "Precision"
         },
         "range": [
          0,
          100
         ]
        },
        "yaxis": {
         "anchor": "x",
         "domain": [
          0.0,
          1.0
         ],
         "title": {
          "text": "Recall"
         },
         "range": [
          0,
          100
         ]
        },
        "legend": {
         "title": {
          "text": "Classifier"
         },
         "tracegroupgap": 0
        },
        "title": {
         "text": "Confusion matrix"
        }
       },
       "config": {
        "plotlyServerURL": "https://plot.ly"
       }
      }
     },
     "metadata": {},
     "output_type": "display_data"
    },
    {
     "data": {
      "application/vnd.plotly.v1+json": {
       "data": [
        {
         "cells": {
          "align": "right",
          "fill": {
           "color": [
            "rgb(45, 45, 45)",
            [
             "rgb(133.33333333333331, 0.0, 66.66666666666669)",
             "rgb(177.77777777777777, 0.0, 22.22222222222223)",
             "rgb(88.88888888888889, 0.0, 111.11111111111111)",
             "rgb(66.66666666666666, 0.0, 133.33333333333334)",
             "rgb(22.22222222222222, 0.0, 177.77777777777777)",
             "rgb(44.44444444444444, 0.0, 155.55555555555554)",
             "rgb(44.44444444444444, 0.0, 155.55555555555554)",
             "rgb(44.44444444444444, 0.0, 155.55555555555554)"
            ],
            [
             "rgb(177.21518987341773, 0.0, 22.784810126582272)",
             "rgb(177.21518987341773, 0.0, 22.784810126582272)",
             "rgb(174.68354430379748, 0.0, 25.316455696202524)",
             "rgb(179.74683544303798, 0.0, 20.25316455696202)",
             "rgb(184.81012658227849, 0.0, 15.189873417721515)",
             "rgb(187.34177215189874, 0.0, 12.658227848101262)",
             "rgb(184.81012658227849, 0.0, 15.189873417721515)",
             "rgb(192.40506329113924, 0.0, 7.594936708860757)"
            ],
            [
             "rgb(88.88888888888889, 0.0, 111.11111111111111)",
             "rgb(88.88888888888889, 0.0, 111.11111111111111)",
             "rgb(88.88888888888889, 0.0, 111.11111111111111)",
             "rgb(44.44444444444444, 0.0, 155.55555555555554)",
             "rgb(0.0, 0.0, 200.0)",
             "rgb(0.0, 0.0, 200.0)",
             "rgb(22.22222222222222, 0.0, 177.77777777777777)",
             "rgb(0.0, 0.0, 200.0)"
            ],
            [
             "rgb(131.03448275862067, 0.0, 68.96551724137933)",
             "rgb(117.24137931034483, 0.0, 82.75862068965517)",
             "rgb(144.82758620689654, 0.0, 55.17241379310346)",
             "rgb(151.72413793103448, 0.0, 48.27586206896552)",
             "rgb(158.6206896551724, 0.0, 41.37931034482759)",
             "rgb(158.6206896551724, 0.0, 41.37931034482759)",
             "rgb(151.72413793103448, 0.0, 48.27586206896552)",
             "rgb(158.6206896551724, 0.0, 41.37931034482759)"
            ]
           ]
          },
          "line": {
           "color": [
            "rgb(45, 45, 45)",
            [
             "rgb(133.33333333333331, 0.0, 66.66666666666669)",
             "rgb(177.77777777777777, 0.0, 22.22222222222223)",
             "rgb(88.88888888888889, 0.0, 111.11111111111111)",
             "rgb(66.66666666666666, 0.0, 133.33333333333334)",
             "rgb(22.22222222222222, 0.0, 177.77777777777777)",
             "rgb(44.44444444444444, 0.0, 155.55555555555554)",
             "rgb(44.44444444444444, 0.0, 155.55555555555554)",
             "rgb(44.44444444444444, 0.0, 155.55555555555554)"
            ],
            [
             "rgb(177.21518987341773, 0.0, 22.784810126582272)",
             "rgb(177.21518987341773, 0.0, 22.784810126582272)",
             "rgb(174.68354430379748, 0.0, 25.316455696202524)",
             "rgb(179.74683544303798, 0.0, 20.25316455696202)",
             "rgb(184.81012658227849, 0.0, 15.189873417721515)",
             "rgb(187.34177215189874, 0.0, 12.658227848101262)",
             "rgb(184.81012658227849, 0.0, 15.189873417721515)",
             "rgb(192.40506329113924, 0.0, 7.594936708860757)"
            ],
            [
             "rgb(88.88888888888889, 0.0, 111.11111111111111)",
             "rgb(88.88888888888889, 0.0, 111.11111111111111)",
             "rgb(88.88888888888889, 0.0, 111.11111111111111)",
             "rgb(44.44444444444444, 0.0, 155.55555555555554)",
             "rgb(0.0, 0.0, 200.0)",
             "rgb(0.0, 0.0, 200.0)",
             "rgb(22.22222222222222, 0.0, 177.77777777777777)",
             "rgb(0.0, 0.0, 200.0)"
            ],
            [
             "rgb(131.03448275862067, 0.0, 68.96551724137933)",
             "rgb(117.24137931034483, 0.0, 82.75862068965517)",
             "rgb(144.82758620689654, 0.0, 55.17241379310346)",
             "rgb(151.72413793103448, 0.0, 48.27586206896552)",
             "rgb(158.6206896551724, 0.0, 41.37931034482759)",
             "rgb(158.6206896551724, 0.0, 41.37931034482759)",
             "rgb(151.72413793103448, 0.0, 48.27586206896552)",
             "rgb(158.6206896551724, 0.0, 41.37931034482759)"
            ]
           ]
          },
          "values": [
           [
            "knn (s)",
            "knn (l)",
            "nbc (s)",
            "nbc (l)",
            "svc (s)",
            "svc (l)",
            "mlp (s)",
            "mlp (l)"
           ],
           [
            6.48,
            8.1,
            4.05,
            3.24,
            1.62,
            2.02,
            2.83,
            2.02
           ],
           [
            70.04,
            70.45,
            69.64,
            71.66,
            73.68,
            74.09,
            73.28,
            76.11
           ],
           [
            4.45,
            4.04,
            4.86,
            2.83,
            0.81,
            0.4,
            1.21,
            0.4
           ],
           [
            19.03,
            17.41,
            21.46,
            22.27,
            23.89,
            23.48,
            22.67,
            23.48
           ]
          ]
         },
         "header": {
          "align": "center",
          "values": [
           "Classifier",
           "TP",
           "TN",
           "FP",
           "FN"
          ]
         },
         "type": "table"
        }
       ],
       "layout": {
        "template": {
         "data": {
          "histogram2dcontour": [
           {
            "type": "histogram2dcontour",
            "colorbar": {
             "outlinewidth": 0,
             "ticks": ""
            },
            "colorscale": [
             [
              0.0,
              "#0d0887"
             ],
             [
              0.1111111111111111,
              "#46039f"
             ],
             [
              0.2222222222222222,
              "#7201a8"
             ],
             [
              0.3333333333333333,
              "#9c179e"
             ],
             [
              0.4444444444444444,
              "#bd3786"
             ],
             [
              0.5555555555555556,
              "#d8576b"
             ],
             [
              0.6666666666666666,
              "#ed7953"
             ],
             [
              0.7777777777777778,
              "#fb9f3a"
             ],
             [
              0.8888888888888888,
              "#fdca26"
             ],
             [
              1.0,
              "#f0f921"
             ]
            ]
           }
          ],
          "choropleth": [
           {
            "type": "choropleth",
            "colorbar": {
             "outlinewidth": 0,
             "ticks": ""
            }
           }
          ],
          "histogram2d": [
           {
            "type": "histogram2d",
            "colorbar": {
             "outlinewidth": 0,
             "ticks": ""
            },
            "colorscale": [
             [
              0.0,
              "#0d0887"
             ],
             [
              0.1111111111111111,
              "#46039f"
             ],
             [
              0.2222222222222222,
              "#7201a8"
             ],
             [
              0.3333333333333333,
              "#9c179e"
             ],
             [
              0.4444444444444444,
              "#bd3786"
             ],
             [
              0.5555555555555556,
              "#d8576b"
             ],
             [
              0.6666666666666666,
              "#ed7953"
             ],
             [
              0.7777777777777778,
              "#fb9f3a"
             ],
             [
              0.8888888888888888,
              "#fdca26"
             ],
             [
              1.0,
              "#f0f921"
             ]
            ]
           }
          ],
          "heatmap": [
           {
            "type": "heatmap",
            "colorbar": {
             "outlinewidth": 0,
             "ticks": ""
            },
            "colorscale": [
             [
              0.0,
              "#0d0887"
             ],
             [
              0.1111111111111111,
              "#46039f"
             ],
             [
              0.2222222222222222,
              "#7201a8"
             ],
             [
              0.3333333333333333,
              "#9c179e"
             ],
             [
              0.4444444444444444,
              "#bd3786"
             ],
             [
              0.5555555555555556,
              "#d8576b"
             ],
             [
              0.6666666666666666,
              "#ed7953"
             ],
             [
              0.7777777777777778,
              "#fb9f3a"
             ],
             [
              0.8888888888888888,
              "#fdca26"
             ],
             [
              1.0,
              "#f0f921"
             ]
            ]
           }
          ],
          "contourcarpet": [
           {
            "type": "contourcarpet",
            "colorbar": {
             "outlinewidth": 0,
             "ticks": ""
            }
           }
          ],
          "contour": [
           {
            "type": "contour",
            "colorbar": {
             "outlinewidth": 0,
             "ticks": ""
            },
            "colorscale": [
             [
              0.0,
              "#0d0887"
             ],
             [
              0.1111111111111111,
              "#46039f"
             ],
             [
              0.2222222222222222,
              "#7201a8"
             ],
             [
              0.3333333333333333,
              "#9c179e"
             ],
             [
              0.4444444444444444,
              "#bd3786"
             ],
             [
              0.5555555555555556,
              "#d8576b"
             ],
             [
              0.6666666666666666,
              "#ed7953"
             ],
             [
              0.7777777777777778,
              "#fb9f3a"
             ],
             [
              0.8888888888888888,
              "#fdca26"
             ],
             [
              1.0,
              "#f0f921"
             ]
            ]
           }
          ],
          "surface": [
           {
            "type": "surface",
            "colorbar": {
             "outlinewidth": 0,
             "ticks": ""
            },
            "colorscale": [
             [
              0.0,
              "#0d0887"
             ],
             [
              0.1111111111111111,
              "#46039f"
             ],
             [
              0.2222222222222222,
              "#7201a8"
             ],
             [
              0.3333333333333333,
              "#9c179e"
             ],
             [
              0.4444444444444444,
              "#bd3786"
             ],
             [
              0.5555555555555556,
              "#d8576b"
             ],
             [
              0.6666666666666666,
              "#ed7953"
             ],
             [
              0.7777777777777778,
              "#fb9f3a"
             ],
             [
              0.8888888888888888,
              "#fdca26"
             ],
             [
              1.0,
              "#f0f921"
             ]
            ]
           }
          ],
          "mesh3d": [
           {
            "type": "mesh3d",
            "colorbar": {
             "outlinewidth": 0,
             "ticks": ""
            }
           }
          ],
          "scatter": [
           {
            "marker": {
             "line": {
              "color": "#283442"
             }
            },
            "type": "scatter"
           }
          ],
          "parcoords": [
           {
            "type": "parcoords",
            "line": {
             "colorbar": {
              "outlinewidth": 0,
              "ticks": ""
             }
            }
           }
          ],
          "scatterpolargl": [
           {
            "type": "scatterpolargl",
            "marker": {
             "colorbar": {
              "outlinewidth": 0,
              "ticks": ""
             }
            }
           }
          ],
          "bar": [
           {
            "error_x": {
             "color": "#f2f5fa"
            },
            "error_y": {
             "color": "#f2f5fa"
            },
            "marker": {
             "line": {
              "color": "rgb(17,17,17)",
              "width": 0.5
             },
             "pattern": {
              "fillmode": "overlay",
              "size": 10,
              "solidity": 0.2
             }
            },
            "type": "bar"
           }
          ],
          "scattergeo": [
           {
            "type": "scattergeo",
            "marker": {
             "colorbar": {
              "outlinewidth": 0,
              "ticks": ""
             }
            }
           }
          ],
          "scatterpolar": [
           {
            "type": "scatterpolar",
            "marker": {
             "colorbar": {
              "outlinewidth": 0,
              "ticks": ""
             }
            }
           }
          ],
          "histogram": [
           {
            "marker": {
             "pattern": {
              "fillmode": "overlay",
              "size": 10,
              "solidity": 0.2
             }
            },
            "type": "histogram"
           }
          ],
          "scattergl": [
           {
            "marker": {
             "line": {
              "color": "#283442"
             }
            },
            "type": "scattergl"
           }
          ],
          "scatter3d": [
           {
            "type": "scatter3d",
            "line": {
             "colorbar": {
              "outlinewidth": 0,
              "ticks": ""
             }
            },
            "marker": {
             "colorbar": {
              "outlinewidth": 0,
              "ticks": ""
             }
            }
           }
          ],
          "scattermap": [
           {
            "type": "scattermap",
            "marker": {
             "colorbar": {
              "outlinewidth": 0,
              "ticks": ""
             }
            }
           }
          ],
          "scattermapbox": [
           {
            "type": "scattermapbox",
            "marker": {
             "colorbar": {
              "outlinewidth": 0,
              "ticks": ""
             }
            }
           }
          ],
          "scatterternary": [
           {
            "type": "scatterternary",
            "marker": {
             "colorbar": {
              "outlinewidth": 0,
              "ticks": ""
             }
            }
           }
          ],
          "scattercarpet": [
           {
            "type": "scattercarpet",
            "marker": {
             "colorbar": {
              "outlinewidth": 0,
              "ticks": ""
             }
            }
           }
          ],
          "carpet": [
           {
            "aaxis": {
             "endlinecolor": "#A2B1C6",
             "gridcolor": "#506784",
             "linecolor": "#506784",
             "minorgridcolor": "#506784",
             "startlinecolor": "#A2B1C6"
            },
            "baxis": {
             "endlinecolor": "#A2B1C6",
             "gridcolor": "#506784",
             "linecolor": "#506784",
             "minorgridcolor": "#506784",
             "startlinecolor": "#A2B1C6"
            },
            "type": "carpet"
           }
          ],
          "table": [
           {
            "cells": {
             "fill": {
              "color": "#506784"
             },
             "line": {
              "color": "rgb(17,17,17)"
             }
            },
            "header": {
             "fill": {
              "color": "#2a3f5f"
             },
             "line": {
              "color": "rgb(17,17,17)"
             }
            },
            "type": "table"
           }
          ],
          "barpolar": [
           {
            "marker": {
             "line": {
              "color": "rgb(17,17,17)",
              "width": 0.5
             },
             "pattern": {
              "fillmode": "overlay",
              "size": 10,
              "solidity": 0.2
             }
            },
            "type": "barpolar"
           }
          ],
          "pie": [
           {
            "automargin": true,
            "type": "pie"
           }
          ]
         },
         "layout": {
          "autotypenumbers": "strict",
          "colorway": [
           "#636efa",
           "#EF553B",
           "#00cc96",
           "#ab63fa",
           "#FFA15A",
           "#19d3f3",
           "#FF6692",
           "#B6E880",
           "#FF97FF",
           "#FECB52"
          ],
          "font": {
           "color": "#f2f5fa"
          },
          "hovermode": "closest",
          "hoverlabel": {
           "align": "left"
          },
          "paper_bgcolor": "rgb(17,17,17)",
          "plot_bgcolor": "rgb(17,17,17)",
          "polar": {
           "bgcolor": "rgb(17,17,17)",
           "angularaxis": {
            "gridcolor": "#506784",
            "linecolor": "#506784",
            "ticks": ""
           },
           "radialaxis": {
            "gridcolor": "#506784",
            "linecolor": "#506784",
            "ticks": ""
           }
          },
          "ternary": {
           "bgcolor": "rgb(17,17,17)",
           "aaxis": {
            "gridcolor": "#506784",
            "linecolor": "#506784",
            "ticks": ""
           },
           "baxis": {
            "gridcolor": "#506784",
            "linecolor": "#506784",
            "ticks": ""
           },
           "caxis": {
            "gridcolor": "#506784",
            "linecolor": "#506784",
            "ticks": ""
           }
          },
          "coloraxis": {
           "colorbar": {
            "outlinewidth": 0,
            "ticks": ""
           }
          },
          "colorscale": {
           "sequential": [
            [
             0.0,
             "#0d0887"
            ],
            [
             0.1111111111111111,
             "#46039f"
            ],
            [
             0.2222222222222222,
             "#7201a8"
            ],
            [
             0.3333333333333333,
             "#9c179e"
            ],
            [
             0.4444444444444444,
             "#bd3786"
            ],
            [
             0.5555555555555556,
             "#d8576b"
            ],
            [
             0.6666666666666666,
             "#ed7953"
            ],
            [
             0.7777777777777778,
             "#fb9f3a"
            ],
            [
             0.8888888888888888,
             "#fdca26"
            ],
            [
             1.0,
             "#f0f921"
            ]
           ],
           "sequentialminus": [
            [
             0.0,
             "#0d0887"
            ],
            [
             0.1111111111111111,
             "#46039f"
            ],
            [
             0.2222222222222222,
             "#7201a8"
            ],
            [
             0.3333333333333333,
             "#9c179e"
            ],
            [
             0.4444444444444444,
             "#bd3786"
            ],
            [
             0.5555555555555556,
             "#d8576b"
            ],
            [
             0.6666666666666666,
             "#ed7953"
            ],
            [
             0.7777777777777778,
             "#fb9f3a"
            ],
            [
             0.8888888888888888,
             "#fdca26"
            ],
            [
             1.0,
             "#f0f921"
            ]
           ],
           "diverging": [
            [
             0,
             "#8e0152"
            ],
            [
             0.1,
             "#c51b7d"
            ],
            [
             0.2,
             "#de77ae"
            ],
            [
             0.3,
             "#f1b6da"
            ],
            [
             0.4,
             "#fde0ef"
            ],
            [
             0.5,
             "#f7f7f7"
            ],
            [
             0.6,
             "#e6f5d0"
            ],
            [
             0.7,
             "#b8e186"
            ],
            [
             0.8,
             "#7fbc41"
            ],
            [
             0.9,
             "#4d9221"
            ],
            [
             1,
             "#276419"
            ]
           ]
          },
          "xaxis": {
           "gridcolor": "#283442",
           "linecolor": "#506784",
           "ticks": "",
           "title": {
            "standoff": 15
           },
           "zerolinecolor": "#283442",
           "automargin": true,
           "zerolinewidth": 2
          },
          "yaxis": {
           "gridcolor": "#283442",
           "linecolor": "#506784",
           "ticks": "",
           "title": {
            "standoff": 15
           },
           "zerolinecolor": "#283442",
           "automargin": true,
           "zerolinewidth": 2
          },
          "scene": {
           "xaxis": {
            "backgroundcolor": "rgb(17,17,17)",
            "gridcolor": "#506784",
            "linecolor": "#506784",
            "showbackground": true,
            "ticks": "",
            "zerolinecolor": "#C8D4E3",
            "gridwidth": 2
           },
           "yaxis": {
            "backgroundcolor": "rgb(17,17,17)",
            "gridcolor": "#506784",
            "linecolor": "#506784",
            "showbackground": true,
            "ticks": "",
            "zerolinecolor": "#C8D4E3",
            "gridwidth": 2
           },
           "zaxis": {
            "backgroundcolor": "rgb(17,17,17)",
            "gridcolor": "#506784",
            "linecolor": "#506784",
            "showbackground": true,
            "ticks": "",
            "zerolinecolor": "#C8D4E3",
            "gridwidth": 2
           }
          },
          "shapedefaults": {
           "line": {
            "color": "#f2f5fa"
           }
          },
          "annotationdefaults": {
           "arrowcolor": "#f2f5fa",
           "arrowhead": 0,
           "arrowwidth": 1
          },
          "geo": {
           "bgcolor": "rgb(17,17,17)",
           "landcolor": "rgb(17,17,17)",
           "subunitcolor": "#506784",
           "showland": true,
           "showlakes": true,
           "lakecolor": "rgb(17,17,17)"
          },
          "title": {
           "x": 0.05
          },
          "updatemenudefaults": {
           "bgcolor": "#506784",
           "borderwidth": 0
          },
          "sliderdefaults": {
           "bgcolor": "#C8D4E3",
           "borderwidth": 1,
           "bordercolor": "rgb(17,17,17)",
           "tickwidth": 0
          },
          "mapbox": {
           "style": "dark"
          }
         }
        }
       },
       "config": {
        "plotlyServerURL": "https://plot.ly"
       }
      }
     },
     "metadata": {},
     "output_type": "display_data"
    },
    {
     "data": {
      "application/vnd.plotly.v1+json": {
       "data": [
        {
         "alignmentgroup": "True",
         "bingroup": "x",
         "histfunc": "sum",
         "hovertemplate": "Classifier=%{x}<br>sum of weighted_fbeta=%{y}<extra></extra>",
         "legendgroup": "",
         "marker": {
          "color": "#636efa",
          "pattern": {
           "shape": ""
          }
         },
         "name": "",
         "offsetgroup": "",
         "orientation": "v",
         "showlegend": false,
         "x": [
          "knn (s)",
          "knn (l)",
          "nbc (s)",
          "nbc (l)",
          "svc (s)",
          "svc (l)",
          "mlp (s)",
          "mlp (l)"
         ],
         "xaxis": "x",
         "y": {
          "dtype": "f8",
          "bdata": "CtejcD0K5z9SuB6F61HoP8P1KFyPwuU/w/UoXI/C5T/NzMzMzMzkP3E9CtejcOU/w/UoXI/C5T9xPQrXo3DlPw=="
         },
         "yaxis": "y",
         "type": "histogram"
        }
       ],
       "layout": {
        "template": {
         "data": {
          "histogram2dcontour": [
           {
            "type": "histogram2dcontour",
            "colorbar": {
             "outlinewidth": 0,
             "ticks": ""
            },
            "colorscale": [
             [
              0.0,
              "#0d0887"
             ],
             [
              0.1111111111111111,
              "#46039f"
             ],
             [
              0.2222222222222222,
              "#7201a8"
             ],
             [
              0.3333333333333333,
              "#9c179e"
             ],
             [
              0.4444444444444444,
              "#bd3786"
             ],
             [
              0.5555555555555556,
              "#d8576b"
             ],
             [
              0.6666666666666666,
              "#ed7953"
             ],
             [
              0.7777777777777778,
              "#fb9f3a"
             ],
             [
              0.8888888888888888,
              "#fdca26"
             ],
             [
              1.0,
              "#f0f921"
             ]
            ]
           }
          ],
          "choropleth": [
           {
            "type": "choropleth",
            "colorbar": {
             "outlinewidth": 0,
             "ticks": ""
            }
           }
          ],
          "histogram2d": [
           {
            "type": "histogram2d",
            "colorbar": {
             "outlinewidth": 0,
             "ticks": ""
            },
            "colorscale": [
             [
              0.0,
              "#0d0887"
             ],
             [
              0.1111111111111111,
              "#46039f"
             ],
             [
              0.2222222222222222,
              "#7201a8"
             ],
             [
              0.3333333333333333,
              "#9c179e"
             ],
             [
              0.4444444444444444,
              "#bd3786"
             ],
             [
              0.5555555555555556,
              "#d8576b"
             ],
             [
              0.6666666666666666,
              "#ed7953"
             ],
             [
              0.7777777777777778,
              "#fb9f3a"
             ],
             [
              0.8888888888888888,
              "#fdca26"
             ],
             [
              1.0,
              "#f0f921"
             ]
            ]
           }
          ],
          "heatmap": [
           {
            "type": "heatmap",
            "colorbar": {
             "outlinewidth": 0,
             "ticks": ""
            },
            "colorscale": [
             [
              0.0,
              "#0d0887"
             ],
             [
              0.1111111111111111,
              "#46039f"
             ],
             [
              0.2222222222222222,
              "#7201a8"
             ],
             [
              0.3333333333333333,
              "#9c179e"
             ],
             [
              0.4444444444444444,
              "#bd3786"
             ],
             [
              0.5555555555555556,
              "#d8576b"
             ],
             [
              0.6666666666666666,
              "#ed7953"
             ],
             [
              0.7777777777777778,
              "#fb9f3a"
             ],
             [
              0.8888888888888888,
              "#fdca26"
             ],
             [
              1.0,
              "#f0f921"
             ]
            ]
           }
          ],
          "contourcarpet": [
           {
            "type": "contourcarpet",
            "colorbar": {
             "outlinewidth": 0,
             "ticks": ""
            }
           }
          ],
          "contour": [
           {
            "type": "contour",
            "colorbar": {
             "outlinewidth": 0,
             "ticks": ""
            },
            "colorscale": [
             [
              0.0,
              "#0d0887"
             ],
             [
              0.1111111111111111,
              "#46039f"
             ],
             [
              0.2222222222222222,
              "#7201a8"
             ],
             [
              0.3333333333333333,
              "#9c179e"
             ],
             [
              0.4444444444444444,
              "#bd3786"
             ],
             [
              0.5555555555555556,
              "#d8576b"
             ],
             [
              0.6666666666666666,
              "#ed7953"
             ],
             [
              0.7777777777777778,
              "#fb9f3a"
             ],
             [
              0.8888888888888888,
              "#fdca26"
             ],
             [
              1.0,
              "#f0f921"
             ]
            ]
           }
          ],
          "surface": [
           {
            "type": "surface",
            "colorbar": {
             "outlinewidth": 0,
             "ticks": ""
            },
            "colorscale": [
             [
              0.0,
              "#0d0887"
             ],
             [
              0.1111111111111111,
              "#46039f"
             ],
             [
              0.2222222222222222,
              "#7201a8"
             ],
             [
              0.3333333333333333,
              "#9c179e"
             ],
             [
              0.4444444444444444,
              "#bd3786"
             ],
             [
              0.5555555555555556,
              "#d8576b"
             ],
             [
              0.6666666666666666,
              "#ed7953"
             ],
             [
              0.7777777777777778,
              "#fb9f3a"
             ],
             [
              0.8888888888888888,
              "#fdca26"
             ],
             [
              1.0,
              "#f0f921"
             ]
            ]
           }
          ],
          "mesh3d": [
           {
            "type": "mesh3d",
            "colorbar": {
             "outlinewidth": 0,
             "ticks": ""
            }
           }
          ],
          "scatter": [
           {
            "marker": {
             "line": {
              "color": "#283442"
             }
            },
            "type": "scatter"
           }
          ],
          "parcoords": [
           {
            "type": "parcoords",
            "line": {
             "colorbar": {
              "outlinewidth": 0,
              "ticks": ""
             }
            }
           }
          ],
          "scatterpolargl": [
           {
            "type": "scatterpolargl",
            "marker": {
             "colorbar": {
              "outlinewidth": 0,
              "ticks": ""
             }
            }
           }
          ],
          "bar": [
           {
            "error_x": {
             "color": "#f2f5fa"
            },
            "error_y": {
             "color": "#f2f5fa"
            },
            "marker": {
             "line": {
              "color": "rgb(17,17,17)",
              "width": 0.5
             },
             "pattern": {
              "fillmode": "overlay",
              "size": 10,
              "solidity": 0.2
             }
            },
            "type": "bar"
           }
          ],
          "scattergeo": [
           {
            "type": "scattergeo",
            "marker": {
             "colorbar": {
              "outlinewidth": 0,
              "ticks": ""
             }
            }
           }
          ],
          "scatterpolar": [
           {
            "type": "scatterpolar",
            "marker": {
             "colorbar": {
              "outlinewidth": 0,
              "ticks": ""
             }
            }
           }
          ],
          "histogram": [
           {
            "marker": {
             "pattern": {
              "fillmode": "overlay",
              "size": 10,
              "solidity": 0.2
             }
            },
            "type": "histogram"
           }
          ],
          "scattergl": [
           {
            "marker": {
             "line": {
              "color": "#283442"
             }
            },
            "type": "scattergl"
           }
          ],
          "scatter3d": [
           {
            "type": "scatter3d",
            "line": {
             "colorbar": {
              "outlinewidth": 0,
              "ticks": ""
             }
            },
            "marker": {
             "colorbar": {
              "outlinewidth": 0,
              "ticks": ""
             }
            }
           }
          ],
          "scattermap": [
           {
            "type": "scattermap",
            "marker": {
             "colorbar": {
              "outlinewidth": 0,
              "ticks": ""
             }
            }
           }
          ],
          "scattermapbox": [
           {
            "type": "scattermapbox",
            "marker": {
             "colorbar": {
              "outlinewidth": 0,
              "ticks": ""
             }
            }
           }
          ],
          "scatterternary": [
           {
            "type": "scatterternary",
            "marker": {
             "colorbar": {
              "outlinewidth": 0,
              "ticks": ""
             }
            }
           }
          ],
          "scattercarpet": [
           {
            "type": "scattercarpet",
            "marker": {
             "colorbar": {
              "outlinewidth": 0,
              "ticks": ""
             }
            }
           }
          ],
          "carpet": [
           {
            "aaxis": {
             "endlinecolor": "#A2B1C6",
             "gridcolor": "#506784",
             "linecolor": "#506784",
             "minorgridcolor": "#506784",
             "startlinecolor": "#A2B1C6"
            },
            "baxis": {
             "endlinecolor": "#A2B1C6",
             "gridcolor": "#506784",
             "linecolor": "#506784",
             "minorgridcolor": "#506784",
             "startlinecolor": "#A2B1C6"
            },
            "type": "carpet"
           }
          ],
          "table": [
           {
            "cells": {
             "fill": {
              "color": "#506784"
             },
             "line": {
              "color": "rgb(17,17,17)"
             }
            },
            "header": {
             "fill": {
              "color": "#2a3f5f"
             },
             "line": {
              "color": "rgb(17,17,17)"
             }
            },
            "type": "table"
           }
          ],
          "barpolar": [
           {
            "marker": {
             "line": {
              "color": "rgb(17,17,17)",
              "width": 0.5
             },
             "pattern": {
              "fillmode": "overlay",
              "size": 10,
              "solidity": 0.2
             }
            },
            "type": "barpolar"
           }
          ],
          "pie": [
           {
            "automargin": true,
            "type": "pie"
           }
          ]
         },
         "layout": {
          "autotypenumbers": "strict",
          "colorway": [
           "#636efa",
           "#EF553B",
           "#00cc96",
           "#ab63fa",
           "#FFA15A",
           "#19d3f3",
           "#FF6692",
           "#B6E880",
           "#FF97FF",
           "#FECB52"
          ],
          "font": {
           "color": "#f2f5fa"
          },
          "hovermode": "closest",
          "hoverlabel": {
           "align": "left"
          },
          "paper_bgcolor": "rgb(17,17,17)",
          "plot_bgcolor": "rgb(17,17,17)",
          "polar": {
           "bgcolor": "rgb(17,17,17)",
           "angularaxis": {
            "gridcolor": "#506784",
            "linecolor": "#506784",
            "ticks": ""
           },
           "radialaxis": {
            "gridcolor": "#506784",
            "linecolor": "#506784",
            "ticks": ""
           }
          },
          "ternary": {
           "bgcolor": "rgb(17,17,17)",
           "aaxis": {
            "gridcolor": "#506784",
            "linecolor": "#506784",
            "ticks": ""
           },
           "baxis": {
            "gridcolor": "#506784",
            "linecolor": "#506784",
            "ticks": ""
           },
           "caxis": {
            "gridcolor": "#506784",
            "linecolor": "#506784",
            "ticks": ""
           }
          },
          "coloraxis": {
           "colorbar": {
            "outlinewidth": 0,
            "ticks": ""
           }
          },
          "colorscale": {
           "sequential": [
            [
             0.0,
             "#0d0887"
            ],
            [
             0.1111111111111111,
             "#46039f"
            ],
            [
             0.2222222222222222,
             "#7201a8"
            ],
            [
             0.3333333333333333,
             "#9c179e"
            ],
            [
             0.4444444444444444,
             "#bd3786"
            ],
            [
             0.5555555555555556,
             "#d8576b"
            ],
            [
             0.6666666666666666,
             "#ed7953"
            ],
            [
             0.7777777777777778,
             "#fb9f3a"
            ],
            [
             0.8888888888888888,
             "#fdca26"
            ],
            [
             1.0,
             "#f0f921"
            ]
           ],
           "sequentialminus": [
            [
             0.0,
             "#0d0887"
            ],
            [
             0.1111111111111111,
             "#46039f"
            ],
            [
             0.2222222222222222,
             "#7201a8"
            ],
            [
             0.3333333333333333,
             "#9c179e"
            ],
            [
             0.4444444444444444,
             "#bd3786"
            ],
            [
             0.5555555555555556,
             "#d8576b"
            ],
            [
             0.6666666666666666,
             "#ed7953"
            ],
            [
             0.7777777777777778,
             "#fb9f3a"
            ],
            [
             0.8888888888888888,
             "#fdca26"
            ],
            [
             1.0,
             "#f0f921"
            ]
           ],
           "diverging": [
            [
             0,
             "#8e0152"
            ],
            [
             0.1,
             "#c51b7d"
            ],
            [
             0.2,
             "#de77ae"
            ],
            [
             0.3,
             "#f1b6da"
            ],
            [
             0.4,
             "#fde0ef"
            ],
            [
             0.5,
             "#f7f7f7"
            ],
            [
             0.6,
             "#e6f5d0"
            ],
            [
             0.7,
             "#b8e186"
            ],
            [
             0.8,
             "#7fbc41"
            ],
            [
             0.9,
             "#4d9221"
            ],
            [
             1,
             "#276419"
            ]
           ]
          },
          "xaxis": {
           "gridcolor": "#283442",
           "linecolor": "#506784",
           "ticks": "",
           "title": {
            "standoff": 15
           },
           "zerolinecolor": "#283442",
           "automargin": true,
           "zerolinewidth": 2
          },
          "yaxis": {
           "gridcolor": "#283442",
           "linecolor": "#506784",
           "ticks": "",
           "title": {
            "standoff": 15
           },
           "zerolinecolor": "#283442",
           "automargin": true,
           "zerolinewidth": 2
          },
          "scene": {
           "xaxis": {
            "backgroundcolor": "rgb(17,17,17)",
            "gridcolor": "#506784",
            "linecolor": "#506784",
            "showbackground": true,
            "ticks": "",
            "zerolinecolor": "#C8D4E3",
            "gridwidth": 2
           },
           "yaxis": {
            "backgroundcolor": "rgb(17,17,17)",
            "gridcolor": "#506784",
            "linecolor": "#506784",
            "showbackground": true,
            "ticks": "",
            "zerolinecolor": "#C8D4E3",
            "gridwidth": 2
           },
           "zaxis": {
            "backgroundcolor": "rgb(17,17,17)",
            "gridcolor": "#506784",
            "linecolor": "#506784",
            "showbackground": true,
            "ticks": "",
            "zerolinecolor": "#C8D4E3",
            "gridwidth": 2
           }
          },
          "shapedefaults": {
           "line": {
            "color": "#f2f5fa"
           }
          },
          "annotationdefaults": {
           "arrowcolor": "#f2f5fa",
           "arrowhead": 0,
           "arrowwidth": 1
          },
          "geo": {
           "bgcolor": "rgb(17,17,17)",
           "landcolor": "rgb(17,17,17)",
           "subunitcolor": "#506784",
           "showland": true,
           "showlakes": true,
           "lakecolor": "rgb(17,17,17)"
          },
          "title": {
           "x": 0.05
          },
          "updatemenudefaults": {
           "bgcolor": "#506784",
           "borderwidth": 0
          },
          "sliderdefaults": {
           "bgcolor": "#C8D4E3",
           "borderwidth": 1,
           "bordercolor": "rgb(17,17,17)",
           "tickwidth": 0
          },
          "mapbox": {
           "style": "dark"
          }
         }
        },
        "xaxis": {
         "anchor": "y",
         "domain": [
          0.0,
          1.0
         ],
         "title": {
          "text": "Classifier"
         }
        },
        "yaxis": {
         "anchor": "x",
         "domain": [
          0.0,
          1.0
         ],
         "title": {
          "text": "Fbeta score"
         },
         "range": [
          0,
          1
         ]
        },
        "legend": {
         "tracegroupgap": 0
        },
        "title": {
         "text": "Fbeta (weighted)"
        },
        "barmode": "group",
        "height": 500
       },
       "config": {
        "plotlyServerURL": "https://plot.ly"
       }
      }
     },
     "metadata": {},
     "output_type": "display_data"
    },
    {
     "data": {
      "application/vnd.plotly.v1+json": {
       "data": [
        {
         "alignmentgroup": "True",
         "bingroup": "x",
         "histfunc": "sum",
         "hovertemplate": "Classifier=%{x}<br>sum of macro_fbeta=%{y}<extra></extra>",
         "legendgroup": "",
         "marker": {
          "color": "#636efa",
          "pattern": {
           "shape": ""
          }
         },
         "name": "",
         "offsetgroup": "",
         "orientation": "v",
         "showlegend": false,
         "x": [
          "knn (s)",
          "knn (l)",
          "nbc (s)",
          "nbc (l)",
          "svc (s)",
          "svc (l)",
          "mlp (s)",
          "mlp (l)"
         ],
         "xaxis": "x",
         "y": {
          "dtype": "f8",
          "bdata": "exSuR+F65D8UrkfhehTmP+xRuB6F6+E/7FG4HoXr4T9SuB6F61HgP0jhehSuR+E/PQrXo3A94j9I4XoUrkfhPw=="
         },
         "yaxis": "y",
         "type": "histogram"
        }
       ],
       "layout": {
        "template": {
         "data": {
          "histogram2dcontour": [
           {
            "type": "histogram2dcontour",
            "colorbar": {
             "outlinewidth": 0,
             "ticks": ""
            },
            "colorscale": [
             [
              0.0,
              "#0d0887"
             ],
             [
              0.1111111111111111,
              "#46039f"
             ],
             [
              0.2222222222222222,
              "#7201a8"
             ],
             [
              0.3333333333333333,
              "#9c179e"
             ],
             [
              0.4444444444444444,
              "#bd3786"
             ],
             [
              0.5555555555555556,
              "#d8576b"
             ],
             [
              0.6666666666666666,
              "#ed7953"
             ],
             [
              0.7777777777777778,
              "#fb9f3a"
             ],
             [
              0.8888888888888888,
              "#fdca26"
             ],
             [
              1.0,
              "#f0f921"
             ]
            ]
           }
          ],
          "choropleth": [
           {
            "type": "choropleth",
            "colorbar": {
             "outlinewidth": 0,
             "ticks": ""
            }
           }
          ],
          "histogram2d": [
           {
            "type": "histogram2d",
            "colorbar": {
             "outlinewidth": 0,
             "ticks": ""
            },
            "colorscale": [
             [
              0.0,
              "#0d0887"
             ],
             [
              0.1111111111111111,
              "#46039f"
             ],
             [
              0.2222222222222222,
              "#7201a8"
             ],
             [
              0.3333333333333333,
              "#9c179e"
             ],
             [
              0.4444444444444444,
              "#bd3786"
             ],
             [
              0.5555555555555556,
              "#d8576b"
             ],
             [
              0.6666666666666666,
              "#ed7953"
             ],
             [
              0.7777777777777778,
              "#fb9f3a"
             ],
             [
              0.8888888888888888,
              "#fdca26"
             ],
             [
              1.0,
              "#f0f921"
             ]
            ]
           }
          ],
          "heatmap": [
           {
            "type": "heatmap",
            "colorbar": {
             "outlinewidth": 0,
             "ticks": ""
            },
            "colorscale": [
             [
              0.0,
              "#0d0887"
             ],
             [
              0.1111111111111111,
              "#46039f"
             ],
             [
              0.2222222222222222,
              "#7201a8"
             ],
             [
              0.3333333333333333,
              "#9c179e"
             ],
             [
              0.4444444444444444,
              "#bd3786"
             ],
             [
              0.5555555555555556,
              "#d8576b"
             ],
             [
              0.6666666666666666,
              "#ed7953"
             ],
             [
              0.7777777777777778,
              "#fb9f3a"
             ],
             [
              0.8888888888888888,
              "#fdca26"
             ],
             [
              1.0,
              "#f0f921"
             ]
            ]
           }
          ],
          "contourcarpet": [
           {
            "type": "contourcarpet",
            "colorbar": {
             "outlinewidth": 0,
             "ticks": ""
            }
           }
          ],
          "contour": [
           {
            "type": "contour",
            "colorbar": {
             "outlinewidth": 0,
             "ticks": ""
            },
            "colorscale": [
             [
              0.0,
              "#0d0887"
             ],
             [
              0.1111111111111111,
              "#46039f"
             ],
             [
              0.2222222222222222,
              "#7201a8"
             ],
             [
              0.3333333333333333,
              "#9c179e"
             ],
             [
              0.4444444444444444,
              "#bd3786"
             ],
             [
              0.5555555555555556,
              "#d8576b"
             ],
             [
              0.6666666666666666,
              "#ed7953"
             ],
             [
              0.7777777777777778,
              "#fb9f3a"
             ],
             [
              0.8888888888888888,
              "#fdca26"
             ],
             [
              1.0,
              "#f0f921"
             ]
            ]
           }
          ],
          "surface": [
           {
            "type": "surface",
            "colorbar": {
             "outlinewidth": 0,
             "ticks": ""
            },
            "colorscale": [
             [
              0.0,
              "#0d0887"
             ],
             [
              0.1111111111111111,
              "#46039f"
             ],
             [
              0.2222222222222222,
              "#7201a8"
             ],
             [
              0.3333333333333333,
              "#9c179e"
             ],
             [
              0.4444444444444444,
              "#bd3786"
             ],
             [
              0.5555555555555556,
              "#d8576b"
             ],
             [
              0.6666666666666666,
              "#ed7953"
             ],
             [
              0.7777777777777778,
              "#fb9f3a"
             ],
             [
              0.8888888888888888,
              "#fdca26"
             ],
             [
              1.0,
              "#f0f921"
             ]
            ]
           }
          ],
          "mesh3d": [
           {
            "type": "mesh3d",
            "colorbar": {
             "outlinewidth": 0,
             "ticks": ""
            }
           }
          ],
          "scatter": [
           {
            "marker": {
             "line": {
              "color": "#283442"
             }
            },
            "type": "scatter"
           }
          ],
          "parcoords": [
           {
            "type": "parcoords",
            "line": {
             "colorbar": {
              "outlinewidth": 0,
              "ticks": ""
             }
            }
           }
          ],
          "scatterpolargl": [
           {
            "type": "scatterpolargl",
            "marker": {
             "colorbar": {
              "outlinewidth": 0,
              "ticks": ""
             }
            }
           }
          ],
          "bar": [
           {
            "error_x": {
             "color": "#f2f5fa"
            },
            "error_y": {
             "color": "#f2f5fa"
            },
            "marker": {
             "line": {
              "color": "rgb(17,17,17)",
              "width": 0.5
             },
             "pattern": {
              "fillmode": "overlay",
              "size": 10,
              "solidity": 0.2
             }
            },
            "type": "bar"
           }
          ],
          "scattergeo": [
           {
            "type": "scattergeo",
            "marker": {
             "colorbar": {
              "outlinewidth": 0,
              "ticks": ""
             }
            }
           }
          ],
          "scatterpolar": [
           {
            "type": "scatterpolar",
            "marker": {
             "colorbar": {
              "outlinewidth": 0,
              "ticks": ""
             }
            }
           }
          ],
          "histogram": [
           {
            "marker": {
             "pattern": {
              "fillmode": "overlay",
              "size": 10,
              "solidity": 0.2
             }
            },
            "type": "histogram"
           }
          ],
          "scattergl": [
           {
            "marker": {
             "line": {
              "color": "#283442"
             }
            },
            "type": "scattergl"
           }
          ],
          "scatter3d": [
           {
            "type": "scatter3d",
            "line": {
             "colorbar": {
              "outlinewidth": 0,
              "ticks": ""
             }
            },
            "marker": {
             "colorbar": {
              "outlinewidth": 0,
              "ticks": ""
             }
            }
           }
          ],
          "scattermap": [
           {
            "type": "scattermap",
            "marker": {
             "colorbar": {
              "outlinewidth": 0,
              "ticks": ""
             }
            }
           }
          ],
          "scattermapbox": [
           {
            "type": "scattermapbox",
            "marker": {
             "colorbar": {
              "outlinewidth": 0,
              "ticks": ""
             }
            }
           }
          ],
          "scatterternary": [
           {
            "type": "scatterternary",
            "marker": {
             "colorbar": {
              "outlinewidth": 0,
              "ticks": ""
             }
            }
           }
          ],
          "scattercarpet": [
           {
            "type": "scattercarpet",
            "marker": {
             "colorbar": {
              "outlinewidth": 0,
              "ticks": ""
             }
            }
           }
          ],
          "carpet": [
           {
            "aaxis": {
             "endlinecolor": "#A2B1C6",
             "gridcolor": "#506784",
             "linecolor": "#506784",
             "minorgridcolor": "#506784",
             "startlinecolor": "#A2B1C6"
            },
            "baxis": {
             "endlinecolor": "#A2B1C6",
             "gridcolor": "#506784",
             "linecolor": "#506784",
             "minorgridcolor": "#506784",
             "startlinecolor": "#A2B1C6"
            },
            "type": "carpet"
           }
          ],
          "table": [
           {
            "cells": {
             "fill": {
              "color": "#506784"
             },
             "line": {
              "color": "rgb(17,17,17)"
             }
            },
            "header": {
             "fill": {
              "color": "#2a3f5f"
             },
             "line": {
              "color": "rgb(17,17,17)"
             }
            },
            "type": "table"
           }
          ],
          "barpolar": [
           {
            "marker": {
             "line": {
              "color": "rgb(17,17,17)",
              "width": 0.5
             },
             "pattern": {
              "fillmode": "overlay",
              "size": 10,
              "solidity": 0.2
             }
            },
            "type": "barpolar"
           }
          ],
          "pie": [
           {
            "automargin": true,
            "type": "pie"
           }
          ]
         },
         "layout": {
          "autotypenumbers": "strict",
          "colorway": [
           "#636efa",
           "#EF553B",
           "#00cc96",
           "#ab63fa",
           "#FFA15A",
           "#19d3f3",
           "#FF6692",
           "#B6E880",
           "#FF97FF",
           "#FECB52"
          ],
          "font": {
           "color": "#f2f5fa"
          },
          "hovermode": "closest",
          "hoverlabel": {
           "align": "left"
          },
          "paper_bgcolor": "rgb(17,17,17)",
          "plot_bgcolor": "rgb(17,17,17)",
          "polar": {
           "bgcolor": "rgb(17,17,17)",
           "angularaxis": {
            "gridcolor": "#506784",
            "linecolor": "#506784",
            "ticks": ""
           },
           "radialaxis": {
            "gridcolor": "#506784",
            "linecolor": "#506784",
            "ticks": ""
           }
          },
          "ternary": {
           "bgcolor": "rgb(17,17,17)",
           "aaxis": {
            "gridcolor": "#506784",
            "linecolor": "#506784",
            "ticks": ""
           },
           "baxis": {
            "gridcolor": "#506784",
            "linecolor": "#506784",
            "ticks": ""
           },
           "caxis": {
            "gridcolor": "#506784",
            "linecolor": "#506784",
            "ticks": ""
           }
          },
          "coloraxis": {
           "colorbar": {
            "outlinewidth": 0,
            "ticks": ""
           }
          },
          "colorscale": {
           "sequential": [
            [
             0.0,
             "#0d0887"
            ],
            [
             0.1111111111111111,
             "#46039f"
            ],
            [
             0.2222222222222222,
             "#7201a8"
            ],
            [
             0.3333333333333333,
             "#9c179e"
            ],
            [
             0.4444444444444444,
             "#bd3786"
            ],
            [
             0.5555555555555556,
             "#d8576b"
            ],
            [
             0.6666666666666666,
             "#ed7953"
            ],
            [
             0.7777777777777778,
             "#fb9f3a"
            ],
            [
             0.8888888888888888,
             "#fdca26"
            ],
            [
             1.0,
             "#f0f921"
            ]
           ],
           "sequentialminus": [
            [
             0.0,
             "#0d0887"
            ],
            [
             0.1111111111111111,
             "#46039f"
            ],
            [
             0.2222222222222222,
             "#7201a8"
            ],
            [
             0.3333333333333333,
             "#9c179e"
            ],
            [
             0.4444444444444444,
             "#bd3786"
            ],
            [
             0.5555555555555556,
             "#d8576b"
            ],
            [
             0.6666666666666666,
             "#ed7953"
            ],
            [
             0.7777777777777778,
             "#fb9f3a"
            ],
            [
             0.8888888888888888,
             "#fdca26"
            ],
            [
             1.0,
             "#f0f921"
            ]
           ],
           "diverging": [
            [
             0,
             "#8e0152"
            ],
            [
             0.1,
             "#c51b7d"
            ],
            [
             0.2,
             "#de77ae"
            ],
            [
             0.3,
             "#f1b6da"
            ],
            [
             0.4,
             "#fde0ef"
            ],
            [
             0.5,
             "#f7f7f7"
            ],
            [
             0.6,
             "#e6f5d0"
            ],
            [
             0.7,
             "#b8e186"
            ],
            [
             0.8,
             "#7fbc41"
            ],
            [
             0.9,
             "#4d9221"
            ],
            [
             1,
             "#276419"
            ]
           ]
          },
          "xaxis": {
           "gridcolor": "#283442",
           "linecolor": "#506784",
           "ticks": "",
           "title": {
            "standoff": 15
           },
           "zerolinecolor": "#283442",
           "automargin": true,
           "zerolinewidth": 2
          },
          "yaxis": {
           "gridcolor": "#283442",
           "linecolor": "#506784",
           "ticks": "",
           "title": {
            "standoff": 15
           },
           "zerolinecolor": "#283442",
           "automargin": true,
           "zerolinewidth": 2
          },
          "scene": {
           "xaxis": {
            "backgroundcolor": "rgb(17,17,17)",
            "gridcolor": "#506784",
            "linecolor": "#506784",
            "showbackground": true,
            "ticks": "",
            "zerolinecolor": "#C8D4E3",
            "gridwidth": 2
           },
           "yaxis": {
            "backgroundcolor": "rgb(17,17,17)",
            "gridcolor": "#506784",
            "linecolor": "#506784",
            "showbackground": true,
            "ticks": "",
            "zerolinecolor": "#C8D4E3",
            "gridwidth": 2
           },
           "zaxis": {
            "backgroundcolor": "rgb(17,17,17)",
            "gridcolor": "#506784",
            "linecolor": "#506784",
            "showbackground": true,
            "ticks": "",
            "zerolinecolor": "#C8D4E3",
            "gridwidth": 2
           }
          },
          "shapedefaults": {
           "line": {
            "color": "#f2f5fa"
           }
          },
          "annotationdefaults": {
           "arrowcolor": "#f2f5fa",
           "arrowhead": 0,
           "arrowwidth": 1
          },
          "geo": {
           "bgcolor": "rgb(17,17,17)",
           "landcolor": "rgb(17,17,17)",
           "subunitcolor": "#506784",
           "showland": true,
           "showlakes": true,
           "lakecolor": "rgb(17,17,17)"
          },
          "title": {
           "x": 0.05
          },
          "updatemenudefaults": {
           "bgcolor": "#506784",
           "borderwidth": 0
          },
          "sliderdefaults": {
           "bgcolor": "#C8D4E3",
           "borderwidth": 1,
           "bordercolor": "rgb(17,17,17)",
           "tickwidth": 0
          },
          "mapbox": {
           "style": "dark"
          }
         }
        },
        "xaxis": {
         "anchor": "y",
         "domain": [
          0.0,
          1.0
         ],
         "title": {
          "text": "Classifier"
         }
        },
        "yaxis": {
         "anchor": "x",
         "domain": [
          0.0,
          1.0
         ],
         "title": {
          "text": "Fbeta score"
         },
         "range": [
          0,
          1
         ]
        },
        "legend": {
         "tracegroupgap": 0
        },
        "title": {
         "text": "Fbeta (macro)"
        },
        "barmode": "group",
        "height": 500
       },
       "config": {
        "plotlyServerURL": "https://plot.ly"
       }
      }
     },
     "metadata": {},
     "output_type": "display_data"
    },
    {
     "data": {
      "application/vnd.plotly.v1+json": {
       "data": [
        {
         "name": "Class 0",
         "x": [
          "knn (s)",
          "knn (l)",
          "nbc (s)",
          "nbc (l)",
          "svc (s)",
          "svc (l)",
          "mlp (s)",
          "mlp (l)"
         ],
         "y": {
          "dtype": "f8",
          "bdata": "7FG4HoXr6T+PwvUoXI/qP0jhehSuR+k/mpmZmZmZ6T9I4XoUrkfpP5qZmZmZmek/mpmZmZmZ6T+amZmZmZnpPw=="
         },
         "type": "scatter"
        },
        {
         "name": "Class 1",
         "x": [
          "knn (s)",
          "knn (l)",
          "nbc (s)",
          "nbc (l)",
          "svc (s)",
          "svc (l)",
          "mlp (s)",
          "mlp (l)"
         ],
         "y": {
          "dtype": "f8",
          "bdata": "FK5H4XoU3j+amZmZmZnhPx+F61G4HtU/H4XrUbge1T9xPQrXo3DNP4/C9Shcj9I/w/UoXI/C1T+PwvUoXI/SPw=="
         },
         "type": "scatter"
        }
       ],
       "layout": {
        "template": {
         "data": {
          "histogram2dcontour": [
           {
            "type": "histogram2dcontour",
            "colorbar": {
             "outlinewidth": 0,
             "ticks": ""
            },
            "colorscale": [
             [
              0.0,
              "#0d0887"
             ],
             [
              0.1111111111111111,
              "#46039f"
             ],
             [
              0.2222222222222222,
              "#7201a8"
             ],
             [
              0.3333333333333333,
              "#9c179e"
             ],
             [
              0.4444444444444444,
              "#bd3786"
             ],
             [
              0.5555555555555556,
              "#d8576b"
             ],
             [
              0.6666666666666666,
              "#ed7953"
             ],
             [
              0.7777777777777778,
              "#fb9f3a"
             ],
             [
              0.8888888888888888,
              "#fdca26"
             ],
             [
              1.0,
              "#f0f921"
             ]
            ]
           }
          ],
          "choropleth": [
           {
            "type": "choropleth",
            "colorbar": {
             "outlinewidth": 0,
             "ticks": ""
            }
           }
          ],
          "histogram2d": [
           {
            "type": "histogram2d",
            "colorbar": {
             "outlinewidth": 0,
             "ticks": ""
            },
            "colorscale": [
             [
              0.0,
              "#0d0887"
             ],
             [
              0.1111111111111111,
              "#46039f"
             ],
             [
              0.2222222222222222,
              "#7201a8"
             ],
             [
              0.3333333333333333,
              "#9c179e"
             ],
             [
              0.4444444444444444,
              "#bd3786"
             ],
             [
              0.5555555555555556,
              "#d8576b"
             ],
             [
              0.6666666666666666,
              "#ed7953"
             ],
             [
              0.7777777777777778,
              "#fb9f3a"
             ],
             [
              0.8888888888888888,
              "#fdca26"
             ],
             [
              1.0,
              "#f0f921"
             ]
            ]
           }
          ],
          "heatmap": [
           {
            "type": "heatmap",
            "colorbar": {
             "outlinewidth": 0,
             "ticks": ""
            },
            "colorscale": [
             [
              0.0,
              "#0d0887"
             ],
             [
              0.1111111111111111,
              "#46039f"
             ],
             [
              0.2222222222222222,
              "#7201a8"
             ],
             [
              0.3333333333333333,
              "#9c179e"
             ],
             [
              0.4444444444444444,
              "#bd3786"
             ],
             [
              0.5555555555555556,
              "#d8576b"
             ],
             [
              0.6666666666666666,
              "#ed7953"
             ],
             [
              0.7777777777777778,
              "#fb9f3a"
             ],
             [
              0.8888888888888888,
              "#fdca26"
             ],
             [
              1.0,
              "#f0f921"
             ]
            ]
           }
          ],
          "contourcarpet": [
           {
            "type": "contourcarpet",
            "colorbar": {
             "outlinewidth": 0,
             "ticks": ""
            }
           }
          ],
          "contour": [
           {
            "type": "contour",
            "colorbar": {
             "outlinewidth": 0,
             "ticks": ""
            },
            "colorscale": [
             [
              0.0,
              "#0d0887"
             ],
             [
              0.1111111111111111,
              "#46039f"
             ],
             [
              0.2222222222222222,
              "#7201a8"
             ],
             [
              0.3333333333333333,
              "#9c179e"
             ],
             [
              0.4444444444444444,
              "#bd3786"
             ],
             [
              0.5555555555555556,
              "#d8576b"
             ],
             [
              0.6666666666666666,
              "#ed7953"
             ],
             [
              0.7777777777777778,
              "#fb9f3a"
             ],
             [
              0.8888888888888888,
              "#fdca26"
             ],
             [
              1.0,
              "#f0f921"
             ]
            ]
           }
          ],
          "surface": [
           {
            "type": "surface",
            "colorbar": {
             "outlinewidth": 0,
             "ticks": ""
            },
            "colorscale": [
             [
              0.0,
              "#0d0887"
             ],
             [
              0.1111111111111111,
              "#46039f"
             ],
             [
              0.2222222222222222,
              "#7201a8"
             ],
             [
              0.3333333333333333,
              "#9c179e"
             ],
             [
              0.4444444444444444,
              "#bd3786"
             ],
             [
              0.5555555555555556,
              "#d8576b"
             ],
             [
              0.6666666666666666,
              "#ed7953"
             ],
             [
              0.7777777777777778,
              "#fb9f3a"
             ],
             [
              0.8888888888888888,
              "#fdca26"
             ],
             [
              1.0,
              "#f0f921"
             ]
            ]
           }
          ],
          "mesh3d": [
           {
            "type": "mesh3d",
            "colorbar": {
             "outlinewidth": 0,
             "ticks": ""
            }
           }
          ],
          "scatter": [
           {
            "marker": {
             "line": {
              "color": "#283442"
             }
            },
            "type": "scatter"
           }
          ],
          "parcoords": [
           {
            "type": "parcoords",
            "line": {
             "colorbar": {
              "outlinewidth": 0,
              "ticks": ""
             }
            }
           }
          ],
          "scatterpolargl": [
           {
            "type": "scatterpolargl",
            "marker": {
             "colorbar": {
              "outlinewidth": 0,
              "ticks": ""
             }
            }
           }
          ],
          "bar": [
           {
            "error_x": {
             "color": "#f2f5fa"
            },
            "error_y": {
             "color": "#f2f5fa"
            },
            "marker": {
             "line": {
              "color": "rgb(17,17,17)",
              "width": 0.5
             },
             "pattern": {
              "fillmode": "overlay",
              "size": 10,
              "solidity": 0.2
             }
            },
            "type": "bar"
           }
          ],
          "scattergeo": [
           {
            "type": "scattergeo",
            "marker": {
             "colorbar": {
              "outlinewidth": 0,
              "ticks": ""
             }
            }
           }
          ],
          "scatterpolar": [
           {
            "type": "scatterpolar",
            "marker": {
             "colorbar": {
              "outlinewidth": 0,
              "ticks": ""
             }
            }
           }
          ],
          "histogram": [
           {
            "marker": {
             "pattern": {
              "fillmode": "overlay",
              "size": 10,
              "solidity": 0.2
             }
            },
            "type": "histogram"
           }
          ],
          "scattergl": [
           {
            "marker": {
             "line": {
              "color": "#283442"
             }
            },
            "type": "scattergl"
           }
          ],
          "scatter3d": [
           {
            "type": "scatter3d",
            "line": {
             "colorbar": {
              "outlinewidth": 0,
              "ticks": ""
             }
            },
            "marker": {
             "colorbar": {
              "outlinewidth": 0,
              "ticks": ""
             }
            }
           }
          ],
          "scattermap": [
           {
            "type": "scattermap",
            "marker": {
             "colorbar": {
              "outlinewidth": 0,
              "ticks": ""
             }
            }
           }
          ],
          "scattermapbox": [
           {
            "type": "scattermapbox",
            "marker": {
             "colorbar": {
              "outlinewidth": 0,
              "ticks": ""
             }
            }
           }
          ],
          "scatterternary": [
           {
            "type": "scatterternary",
            "marker": {
             "colorbar": {
              "outlinewidth": 0,
              "ticks": ""
             }
            }
           }
          ],
          "scattercarpet": [
           {
            "type": "scattercarpet",
            "marker": {
             "colorbar": {
              "outlinewidth": 0,
              "ticks": ""
             }
            }
           }
          ],
          "carpet": [
           {
            "aaxis": {
             "endlinecolor": "#A2B1C6",
             "gridcolor": "#506784",
             "linecolor": "#506784",
             "minorgridcolor": "#506784",
             "startlinecolor": "#A2B1C6"
            },
            "baxis": {
             "endlinecolor": "#A2B1C6",
             "gridcolor": "#506784",
             "linecolor": "#506784",
             "minorgridcolor": "#506784",
             "startlinecolor": "#A2B1C6"
            },
            "type": "carpet"
           }
          ],
          "table": [
           {
            "cells": {
             "fill": {
              "color": "#506784"
             },
             "line": {
              "color": "rgb(17,17,17)"
             }
            },
            "header": {
             "fill": {
              "color": "#2a3f5f"
             },
             "line": {
              "color": "rgb(17,17,17)"
             }
            },
            "type": "table"
           }
          ],
          "barpolar": [
           {
            "marker": {
             "line": {
              "color": "rgb(17,17,17)",
              "width": 0.5
             },
             "pattern": {
              "fillmode": "overlay",
              "size": 10,
              "solidity": 0.2
             }
            },
            "type": "barpolar"
           }
          ],
          "pie": [
           {
            "automargin": true,
            "type": "pie"
           }
          ]
         },
         "layout": {
          "autotypenumbers": "strict",
          "colorway": [
           "#636efa",
           "#EF553B",
           "#00cc96",
           "#ab63fa",
           "#FFA15A",
           "#19d3f3",
           "#FF6692",
           "#B6E880",
           "#FF97FF",
           "#FECB52"
          ],
          "font": {
           "color": "#f2f5fa"
          },
          "hovermode": "closest",
          "hoverlabel": {
           "align": "left"
          },
          "paper_bgcolor": "rgb(17,17,17)",
          "plot_bgcolor": "rgb(17,17,17)",
          "polar": {
           "bgcolor": "rgb(17,17,17)",
           "angularaxis": {
            "gridcolor": "#506784",
            "linecolor": "#506784",
            "ticks": ""
           },
           "radialaxis": {
            "gridcolor": "#506784",
            "linecolor": "#506784",
            "ticks": ""
           }
          },
          "ternary": {
           "bgcolor": "rgb(17,17,17)",
           "aaxis": {
            "gridcolor": "#506784",
            "linecolor": "#506784",
            "ticks": ""
           },
           "baxis": {
            "gridcolor": "#506784",
            "linecolor": "#506784",
            "ticks": ""
           },
           "caxis": {
            "gridcolor": "#506784",
            "linecolor": "#506784",
            "ticks": ""
           }
          },
          "coloraxis": {
           "colorbar": {
            "outlinewidth": 0,
            "ticks": ""
           }
          },
          "colorscale": {
           "sequential": [
            [
             0.0,
             "#0d0887"
            ],
            [
             0.1111111111111111,
             "#46039f"
            ],
            [
             0.2222222222222222,
             "#7201a8"
            ],
            [
             0.3333333333333333,
             "#9c179e"
            ],
            [
             0.4444444444444444,
             "#bd3786"
            ],
            [
             0.5555555555555556,
             "#d8576b"
            ],
            [
             0.6666666666666666,
             "#ed7953"
            ],
            [
             0.7777777777777778,
             "#fb9f3a"
            ],
            [
             0.8888888888888888,
             "#fdca26"
            ],
            [
             1.0,
             "#f0f921"
            ]
           ],
           "sequentialminus": [
            [
             0.0,
             "#0d0887"
            ],
            [
             0.1111111111111111,
             "#46039f"
            ],
            [
             0.2222222222222222,
             "#7201a8"
            ],
            [
             0.3333333333333333,
             "#9c179e"
            ],
            [
             0.4444444444444444,
             "#bd3786"
            ],
            [
             0.5555555555555556,
             "#d8576b"
            ],
            [
             0.6666666666666666,
             "#ed7953"
            ],
            [
             0.7777777777777778,
             "#fb9f3a"
            ],
            [
             0.8888888888888888,
             "#fdca26"
            ],
            [
             1.0,
             "#f0f921"
            ]
           ],
           "diverging": [
            [
             0,
             "#8e0152"
            ],
            [
             0.1,
             "#c51b7d"
            ],
            [
             0.2,
             "#de77ae"
            ],
            [
             0.3,
             "#f1b6da"
            ],
            [
             0.4,
             "#fde0ef"
            ],
            [
             0.5,
             "#f7f7f7"
            ],
            [
             0.6,
             "#e6f5d0"
            ],
            [
             0.7,
             "#b8e186"
            ],
            [
             0.8,
             "#7fbc41"
            ],
            [
             0.9,
             "#4d9221"
            ],
            [
             1,
             "#276419"
            ]
           ]
          },
          "xaxis": {
           "gridcolor": "#283442",
           "linecolor": "#506784",
           "ticks": "",
           "title": {
            "standoff": 15
           },
           "zerolinecolor": "#283442",
           "automargin": true,
           "zerolinewidth": 2
          },
          "yaxis": {
           "gridcolor": "#283442",
           "linecolor": "#506784",
           "ticks": "",
           "title": {
            "standoff": 15
           },
           "zerolinecolor": "#283442",
           "automargin": true,
           "zerolinewidth": 2
          },
          "scene": {
           "xaxis": {
            "backgroundcolor": "rgb(17,17,17)",
            "gridcolor": "#506784",
            "linecolor": "#506784",
            "showbackground": true,
            "ticks": "",
            "zerolinecolor": "#C8D4E3",
            "gridwidth": 2
           },
           "yaxis": {
            "backgroundcolor": "rgb(17,17,17)",
            "gridcolor": "#506784",
            "linecolor": "#506784",
            "showbackground": true,
            "ticks": "",
            "zerolinecolor": "#C8D4E3",
            "gridwidth": 2
           },
           "zaxis": {
            "backgroundcolor": "rgb(17,17,17)",
            "gridcolor": "#506784",
            "linecolor": "#506784",
            "showbackground": true,
            "ticks": "",
            "zerolinecolor": "#C8D4E3",
            "gridwidth": 2
           }
          },
          "shapedefaults": {
           "line": {
            "color": "#f2f5fa"
           }
          },
          "annotationdefaults": {
           "arrowcolor": "#f2f5fa",
           "arrowhead": 0,
           "arrowwidth": 1
          },
          "geo": {
           "bgcolor": "rgb(17,17,17)",
           "landcolor": "rgb(17,17,17)",
           "subunitcolor": "#506784",
           "showland": true,
           "showlakes": true,
           "lakecolor": "rgb(17,17,17)"
          },
          "title": {
           "x": 0.05
          },
          "updatemenudefaults": {
           "bgcolor": "#506784",
           "borderwidth": 0
          },
          "sliderdefaults": {
           "bgcolor": "#C8D4E3",
           "borderwidth": 1,
           "bordercolor": "rgb(17,17,17)",
           "tickwidth": 0
          },
          "mapbox": {
           "style": "dark"
          }
         }
        },
        "title": {
         "text": "Fbeta (None)"
        },
        "yaxis": {
         "title": {
          "text": "Fbeta score"
         },
         "range": [
          0,
          1
         ]
        }
       },
       "config": {
        "plotlyServerURL": "https://plot.ly"
       }
      }
     },
     "metadata": {},
     "output_type": "display_data"
    },
    {
     "data": {
      "application/vnd.plotly.v1+json": {
       "data": [
        {
         "cells": {
          "align": "right",
          "fill": {
           "color": [
            "rgb(45, 45, 45)",
            [
             "rgb(119.1919191919192, 0.0, 80.8080808080808)",
             "rgb(135.35353535353536, 0.0, 64.64646464646464)",
             "rgb(90.90909090909092, 0.0, 109.09090909090908)",
             "rgb(107.07070707070707, 0.0, 92.92929292929293)",
             "rgb(135.35353535353536, 0.0, 64.64646464646464)",
             "rgb(167.6767676767677, 0.0, 32.323232323232304)",
             "rgb(141.41414141414143, 0.0, 58.585858585858574)",
             "rgb(167.6767676767677, 0.0, 32.323232323232304)"
            ],
            [
             "rgb(128.2051282051282, 0.0, 71.7948717948718)",
             "rgb(164.10256410256412, 0.0, 35.897435897435884)",
             "rgb(82.05128205128206, 0.0, 117.94871794871794)",
             "rgb(66.66666666666667, 0.0, 133.33333333333331)",
             "rgb(30.769230769230774, 0.0, 169.23076923076923)",
             "rgb(41.02564102564103, 0.0, 158.97435897435898)",
             "rgb(56.410256410256416, 0.0, 143.5897435897436)",
             "rgb(41.02564102564103, 0.0, 158.97435897435898)"
            ]
           ]
          },
          "line": {
           "color": [
            "rgb(45, 45, 45)",
            [
             "rgb(119.1919191919192, 0.0, 80.8080808080808)",
             "rgb(135.35353535353536, 0.0, 64.64646464646464)",
             "rgb(90.90909090909092, 0.0, 109.09090909090908)",
             "rgb(107.07070707070707, 0.0, 92.92929292929293)",
             "rgb(135.35353535353536, 0.0, 64.64646464646464)",
             "rgb(167.6767676767677, 0.0, 32.323232323232304)",
             "rgb(141.41414141414143, 0.0, 58.585858585858574)",
             "rgb(167.6767676767677, 0.0, 32.323232323232304)"
            ],
            [
             "rgb(128.2051282051282, 0.0, 71.7948717948718)",
             "rgb(164.10256410256412, 0.0, 35.897435897435884)",
             "rgb(82.05128205128206, 0.0, 117.94871794871794)",
             "rgb(66.66666666666667, 0.0, 133.33333333333331)",
             "rgb(30.769230769230774, 0.0, 169.23076923076923)",
             "rgb(41.02564102564103, 0.0, 158.97435897435898)",
             "rgb(56.410256410256416, 0.0, 143.5897435897436)",
             "rgb(41.02564102564103, 0.0, 158.97435897435898)"
            ]
           ]
          },
          "values": [
           [
            "knn (s)",
            "knn (l)",
            "nbc (s)",
            "nbc (l)",
            "svc (s)",
            "svc (l)",
            "mlp (s)",
            "mlp (l)"
           ],
           [
            59,
            67,
            45,
            53,
            67,
            83,
            70,
            83
           ],
           [
            25,
            32,
            16,
            13,
            6,
            8,
            11,
            8
           ]
          ]
         },
         "header": {
          "align": "center",
          "values": [
           "Classifier",
           "Precision",
           "Recall"
          ]
         },
         "type": "table"
        }
       ],
       "layout": {
        "template": {
         "data": {
          "histogram2dcontour": [
           {
            "type": "histogram2dcontour",
            "colorbar": {
             "outlinewidth": 0,
             "ticks": ""
            },
            "colorscale": [
             [
              0.0,
              "#0d0887"
             ],
             [
              0.1111111111111111,
              "#46039f"
             ],
             [
              0.2222222222222222,
              "#7201a8"
             ],
             [
              0.3333333333333333,
              "#9c179e"
             ],
             [
              0.4444444444444444,
              "#bd3786"
             ],
             [
              0.5555555555555556,
              "#d8576b"
             ],
             [
              0.6666666666666666,
              "#ed7953"
             ],
             [
              0.7777777777777778,
              "#fb9f3a"
             ],
             [
              0.8888888888888888,
              "#fdca26"
             ],
             [
              1.0,
              "#f0f921"
             ]
            ]
           }
          ],
          "choropleth": [
           {
            "type": "choropleth",
            "colorbar": {
             "outlinewidth": 0,
             "ticks": ""
            }
           }
          ],
          "histogram2d": [
           {
            "type": "histogram2d",
            "colorbar": {
             "outlinewidth": 0,
             "ticks": ""
            },
            "colorscale": [
             [
              0.0,
              "#0d0887"
             ],
             [
              0.1111111111111111,
              "#46039f"
             ],
             [
              0.2222222222222222,
              "#7201a8"
             ],
             [
              0.3333333333333333,
              "#9c179e"
             ],
             [
              0.4444444444444444,
              "#bd3786"
             ],
             [
              0.5555555555555556,
              "#d8576b"
             ],
             [
              0.6666666666666666,
              "#ed7953"
             ],
             [
              0.7777777777777778,
              "#fb9f3a"
             ],
             [
              0.8888888888888888,
              "#fdca26"
             ],
             [
              1.0,
              "#f0f921"
             ]
            ]
           }
          ],
          "heatmap": [
           {
            "type": "heatmap",
            "colorbar": {
             "outlinewidth": 0,
             "ticks": ""
            },
            "colorscale": [
             [
              0.0,
              "#0d0887"
             ],
             [
              0.1111111111111111,
              "#46039f"
             ],
             [
              0.2222222222222222,
              "#7201a8"
             ],
             [
              0.3333333333333333,
              "#9c179e"
             ],
             [
              0.4444444444444444,
              "#bd3786"
             ],
             [
              0.5555555555555556,
              "#d8576b"
             ],
             [
              0.6666666666666666,
              "#ed7953"
             ],
             [
              0.7777777777777778,
              "#fb9f3a"
             ],
             [
              0.8888888888888888,
              "#fdca26"
             ],
             [
              1.0,
              "#f0f921"
             ]
            ]
           }
          ],
          "contourcarpet": [
           {
            "type": "contourcarpet",
            "colorbar": {
             "outlinewidth": 0,
             "ticks": ""
            }
           }
          ],
          "contour": [
           {
            "type": "contour",
            "colorbar": {
             "outlinewidth": 0,
             "ticks": ""
            },
            "colorscale": [
             [
              0.0,
              "#0d0887"
             ],
             [
              0.1111111111111111,
              "#46039f"
             ],
             [
              0.2222222222222222,
              "#7201a8"
             ],
             [
              0.3333333333333333,
              "#9c179e"
             ],
             [
              0.4444444444444444,
              "#bd3786"
             ],
             [
              0.5555555555555556,
              "#d8576b"
             ],
             [
              0.6666666666666666,
              "#ed7953"
             ],
             [
              0.7777777777777778,
              "#fb9f3a"
             ],
             [
              0.8888888888888888,
              "#fdca26"
             ],
             [
              1.0,
              "#f0f921"
             ]
            ]
           }
          ],
          "surface": [
           {
            "type": "surface",
            "colorbar": {
             "outlinewidth": 0,
             "ticks": ""
            },
            "colorscale": [
             [
              0.0,
              "#0d0887"
             ],
             [
              0.1111111111111111,
              "#46039f"
             ],
             [
              0.2222222222222222,
              "#7201a8"
             ],
             [
              0.3333333333333333,
              "#9c179e"
             ],
             [
              0.4444444444444444,
              "#bd3786"
             ],
             [
              0.5555555555555556,
              "#d8576b"
             ],
             [
              0.6666666666666666,
              "#ed7953"
             ],
             [
              0.7777777777777778,
              "#fb9f3a"
             ],
             [
              0.8888888888888888,
              "#fdca26"
             ],
             [
              1.0,
              "#f0f921"
             ]
            ]
           }
          ],
          "mesh3d": [
           {
            "type": "mesh3d",
            "colorbar": {
             "outlinewidth": 0,
             "ticks": ""
            }
           }
          ],
          "scatter": [
           {
            "marker": {
             "line": {
              "color": "#283442"
             }
            },
            "type": "scatter"
           }
          ],
          "parcoords": [
           {
            "type": "parcoords",
            "line": {
             "colorbar": {
              "outlinewidth": 0,
              "ticks": ""
             }
            }
           }
          ],
          "scatterpolargl": [
           {
            "type": "scatterpolargl",
            "marker": {
             "colorbar": {
              "outlinewidth": 0,
              "ticks": ""
             }
            }
           }
          ],
          "bar": [
           {
            "error_x": {
             "color": "#f2f5fa"
            },
            "error_y": {
             "color": "#f2f5fa"
            },
            "marker": {
             "line": {
              "color": "rgb(17,17,17)",
              "width": 0.5
             },
             "pattern": {
              "fillmode": "overlay",
              "size": 10,
              "solidity": 0.2
             }
            },
            "type": "bar"
           }
          ],
          "scattergeo": [
           {
            "type": "scattergeo",
            "marker": {
             "colorbar": {
              "outlinewidth": 0,
              "ticks": ""
             }
            }
           }
          ],
          "scatterpolar": [
           {
            "type": "scatterpolar",
            "marker": {
             "colorbar": {
              "outlinewidth": 0,
              "ticks": ""
             }
            }
           }
          ],
          "histogram": [
           {
            "marker": {
             "pattern": {
              "fillmode": "overlay",
              "size": 10,
              "solidity": 0.2
             }
            },
            "type": "histogram"
           }
          ],
          "scattergl": [
           {
            "marker": {
             "line": {
              "color": "#283442"
             }
            },
            "type": "scattergl"
           }
          ],
          "scatter3d": [
           {
            "type": "scatter3d",
            "line": {
             "colorbar": {
              "outlinewidth": 0,
              "ticks": ""
             }
            },
            "marker": {
             "colorbar": {
              "outlinewidth": 0,
              "ticks": ""
             }
            }
           }
          ],
          "scattermap": [
           {
            "type": "scattermap",
            "marker": {
             "colorbar": {
              "outlinewidth": 0,
              "ticks": ""
             }
            }
           }
          ],
          "scattermapbox": [
           {
            "type": "scattermapbox",
            "marker": {
             "colorbar": {
              "outlinewidth": 0,
              "ticks": ""
             }
            }
           }
          ],
          "scatterternary": [
           {
            "type": "scatterternary",
            "marker": {
             "colorbar": {
              "outlinewidth": 0,
              "ticks": ""
             }
            }
           }
          ],
          "scattercarpet": [
           {
            "type": "scattercarpet",
            "marker": {
             "colorbar": {
              "outlinewidth": 0,
              "ticks": ""
             }
            }
           }
          ],
          "carpet": [
           {
            "aaxis": {
             "endlinecolor": "#A2B1C6",
             "gridcolor": "#506784",
             "linecolor": "#506784",
             "minorgridcolor": "#506784",
             "startlinecolor": "#A2B1C6"
            },
            "baxis": {
             "endlinecolor": "#A2B1C6",
             "gridcolor": "#506784",
             "linecolor": "#506784",
             "minorgridcolor": "#506784",
             "startlinecolor": "#A2B1C6"
            },
            "type": "carpet"
           }
          ],
          "table": [
           {
            "cells": {
             "fill": {
              "color": "#506784"
             },
             "line": {
              "color": "rgb(17,17,17)"
             }
            },
            "header": {
             "fill": {
              "color": "#2a3f5f"
             },
             "line": {
              "color": "rgb(17,17,17)"
             }
            },
            "type": "table"
           }
          ],
          "barpolar": [
           {
            "marker": {
             "line": {
              "color": "rgb(17,17,17)",
              "width": 0.5
             },
             "pattern": {
              "fillmode": "overlay",
              "size": 10,
              "solidity": 0.2
             }
            },
            "type": "barpolar"
           }
          ],
          "pie": [
           {
            "automargin": true,
            "type": "pie"
           }
          ]
         },
         "layout": {
          "autotypenumbers": "strict",
          "colorway": [
           "#636efa",
           "#EF553B",
           "#00cc96",
           "#ab63fa",
           "#FFA15A",
           "#19d3f3",
           "#FF6692",
           "#B6E880",
           "#FF97FF",
           "#FECB52"
          ],
          "font": {
           "color": "#f2f5fa"
          },
          "hovermode": "closest",
          "hoverlabel": {
           "align": "left"
          },
          "paper_bgcolor": "rgb(17,17,17)",
          "plot_bgcolor": "rgb(17,17,17)",
          "polar": {
           "bgcolor": "rgb(17,17,17)",
           "angularaxis": {
            "gridcolor": "#506784",
            "linecolor": "#506784",
            "ticks": ""
           },
           "radialaxis": {
            "gridcolor": "#506784",
            "linecolor": "#506784",
            "ticks": ""
           }
          },
          "ternary": {
           "bgcolor": "rgb(17,17,17)",
           "aaxis": {
            "gridcolor": "#506784",
            "linecolor": "#506784",
            "ticks": ""
           },
           "baxis": {
            "gridcolor": "#506784",
            "linecolor": "#506784",
            "ticks": ""
           },
           "caxis": {
            "gridcolor": "#506784",
            "linecolor": "#506784",
            "ticks": ""
           }
          },
          "coloraxis": {
           "colorbar": {
            "outlinewidth": 0,
            "ticks": ""
           }
          },
          "colorscale": {
           "sequential": [
            [
             0.0,
             "#0d0887"
            ],
            [
             0.1111111111111111,
             "#46039f"
            ],
            [
             0.2222222222222222,
             "#7201a8"
            ],
            [
             0.3333333333333333,
             "#9c179e"
            ],
            [
             0.4444444444444444,
             "#bd3786"
            ],
            [
             0.5555555555555556,
             "#d8576b"
            ],
            [
             0.6666666666666666,
             "#ed7953"
            ],
            [
             0.7777777777777778,
             "#fb9f3a"
            ],
            [
             0.8888888888888888,
             "#fdca26"
            ],
            [
             1.0,
             "#f0f921"
            ]
           ],
           "sequentialminus": [
            [
             0.0,
             "#0d0887"
            ],
            [
             0.1111111111111111,
             "#46039f"
            ],
            [
             0.2222222222222222,
             "#7201a8"
            ],
            [
             0.3333333333333333,
             "#9c179e"
            ],
            [
             0.4444444444444444,
             "#bd3786"
            ],
            [
             0.5555555555555556,
             "#d8576b"
            ],
            [
             0.6666666666666666,
             "#ed7953"
            ],
            [
             0.7777777777777778,
             "#fb9f3a"
            ],
            [
             0.8888888888888888,
             "#fdca26"
            ],
            [
             1.0,
             "#f0f921"
            ]
           ],
           "diverging": [
            [
             0,
             "#8e0152"
            ],
            [
             0.1,
             "#c51b7d"
            ],
            [
             0.2,
             "#de77ae"
            ],
            [
             0.3,
             "#f1b6da"
            ],
            [
             0.4,
             "#fde0ef"
            ],
            [
             0.5,
             "#f7f7f7"
            ],
            [
             0.6,
             "#e6f5d0"
            ],
            [
             0.7,
             "#b8e186"
            ],
            [
             0.8,
             "#7fbc41"
            ],
            [
             0.9,
             "#4d9221"
            ],
            [
             1,
             "#276419"
            ]
           ]
          },
          "xaxis": {
           "gridcolor": "#283442",
           "linecolor": "#506784",
           "ticks": "",
           "title": {
            "standoff": 15
           },
           "zerolinecolor": "#283442",
           "automargin": true,
           "zerolinewidth": 2
          },
          "yaxis": {
           "gridcolor": "#283442",
           "linecolor": "#506784",
           "ticks": "",
           "title": {
            "standoff": 15
           },
           "zerolinecolor": "#283442",
           "automargin": true,
           "zerolinewidth": 2
          },
          "scene": {
           "xaxis": {
            "backgroundcolor": "rgb(17,17,17)",
            "gridcolor": "#506784",
            "linecolor": "#506784",
            "showbackground": true,
            "ticks": "",
            "zerolinecolor": "#C8D4E3",
            "gridwidth": 2
           },
           "yaxis": {
            "backgroundcolor": "rgb(17,17,17)",
            "gridcolor": "#506784",
            "linecolor": "#506784",
            "showbackground": true,
            "ticks": "",
            "zerolinecolor": "#C8D4E3",
            "gridwidth": 2
           },
           "zaxis": {
            "backgroundcolor": "rgb(17,17,17)",
            "gridcolor": "#506784",
            "linecolor": "#506784",
            "showbackground": true,
            "ticks": "",
            "zerolinecolor": "#C8D4E3",
            "gridwidth": 2
           }
          },
          "shapedefaults": {
           "line": {
            "color": "#f2f5fa"
           }
          },
          "annotationdefaults": {
           "arrowcolor": "#f2f5fa",
           "arrowhead": 0,
           "arrowwidth": 1
          },
          "geo": {
           "bgcolor": "rgb(17,17,17)",
           "landcolor": "rgb(17,17,17)",
           "subunitcolor": "#506784",
           "showland": true,
           "showlakes": true,
           "lakecolor": "rgb(17,17,17)"
          },
          "title": {
           "x": 0.05
          },
          "updatemenudefaults": {
           "bgcolor": "#506784",
           "borderwidth": 0
          },
          "sliderdefaults": {
           "bgcolor": "#C8D4E3",
           "borderwidth": 1,
           "bordercolor": "rgb(17,17,17)",
           "tickwidth": 0
          },
          "mapbox": {
           "style": "dark"
          }
         }
        }
       },
       "config": {
        "plotlyServerURL": "https://plot.ly"
       }
      }
     },
     "metadata": {},
     "output_type": "display_data"
    }
   ],
   "execution_count": 30
  },
  {
   "cell_type": "markdown",
   "id": "656d5854",
   "metadata": {},
   "source": [
    "TASK 6"
   ]
  },
  {
   "cell_type": "code",
   "id": "ee48293a89ef8b5f",
   "metadata": {
    "ExecuteTime": {
     "end_time": "2025-10-09T08:59:11.721602Z",
     "start_time": "2025-10-09T08:57:38.749224Z"
    }
   },
   "source": [
    "\n",
    "from sklearn.model_selection import KFold\n",
    "import random\n",
    "X = preprocessed.copy()\n",
    "\n",
    "random_tester = []\n",
    "for b in range(0,8):\n",
    "    kf = KFold(n_splits=3, shuffle=True, random_state=random.randint(0,10000))\n",
    "    kf.get_n_splits()\n",
    "\n",
    "    print(kf)\n",
    "    folds = []\n",
    "    KFold(n_splits=3, random_state=None, shuffle=False)\n",
    "    for (train_index, test_index) in (kf.split(X)):\n",
    "        folds.append((train_index, test_index))\n",
    "\n",
    "    accuracy = []\n",
    "    parameters = [2,4,5,9]\n",
    "\n",
    "    for m, (i,j) in enumerate(folds):\n",
    "        temptrainx = X.iloc[list(i)].drop('class', axis=1)\n",
    "        temptrainy = X.iloc[list(i)]['class']\n",
    "        temptestx = X.iloc[list(j)].drop('class', axis=1)\n",
    "        temptesty = X.iloc[list(j)]['class']\n",
    "\n",
    "        knn_s = KNN(parameters[m])\n",
    "        knn_s.fit(temptrainx, temptrainy)\n",
    "        accuracy.append(accuracy_checker(temptestx, temptesty, knn_s,mode=\"basicRET\"))\n",
    "\n",
    "    print(max(accuracy), f\"Best number of neighbors is: {parameters[accuracy.index(max(accuracy))]}\")\n",
    "    random_tester.append(parameters[accuracy.index(max(accuracy))])\n",
    "print(random_tester)"
   ],
   "outputs": [
    {
     "name": "stdout",
     "output_type": "stream",
     "text": [
      "KFold(n_splits=3, random_state=8984, shuffle=True)\n",
      "77.91164658634538 Best number of neighbors is: 4\n",
      "KFold(n_splits=3, random_state=7301, shuffle=True)\n",
      "81.92771084337349 Best number of neighbors is: 4\n",
      "KFold(n_splits=3, random_state=9820, shuffle=True)\n",
      "78.714859437751 Best number of neighbors is: 4\n",
      "KFold(n_splits=3, random_state=87, shuffle=True)\n",
      "78.0 Best number of neighbors is: 2\n",
      "KFold(n_splits=3, random_state=8954, shuffle=True)\n",
      "75.6 Best number of neighbors is: 2\n",
      "KFold(n_splits=3, random_state=8318, shuffle=True)\n",
      "78.714859437751 Best number of neighbors is: 5\n",
      "KFold(n_splits=3, random_state=5209, shuffle=True)\n",
      "76.70682730923694 Best number of neighbors is: 4\n",
      "KFold(n_splits=3, random_state=7141, shuffle=True)\n",
      "77.10843373493977 Best number of neighbors is: 4\n",
      "[4, 4, 4, 2, 2, 5, 4, 4]\n"
     ]
    }
   ],
   "execution_count": 11
  },
  {
   "metadata": {
    "ExecuteTime": {
     "end_time": "2025-10-09T08:59:22.965378Z",
     "start_time": "2025-10-09T08:59:11.721602Z"
    }
   },
   "cell_type": "code",
   "source": [
    "\n",
    "# visualisation\n",
    "\n",
    "kf = KFold(n_splits=3, shuffle=False)\n",
    "kf.get_n_splits()\n",
    "\n",
    "print(kf)\n",
    "folds = []\n",
    "KFold(n_splits=3, random_state=None, shuffle=False)\n",
    "for (train_index, test_index) in (kf.split(X)):\n",
    "    folds.append((train_index, test_index))\n",
    "randomint = max(set(random_tester), key=random_tester.count)\n",
    "parameters =  [randomint for i in range(1,4)]\n",
    "accuracy = []\n",
    "\n",
    "for m, (i,j) in enumerate(folds):\n",
    "    temptrainx = X.iloc[list(i)].drop('class', axis=1)\n",
    "    temptrainy = X.iloc[list(i)]['class']\n",
    "    temptestx = X.iloc[list(j)].drop('class', axis=1)\n",
    "    temptesty = X.iloc[list(j)]['class']\n",
    "\n",
    "    knn_s = KNN(parameters[m])\n",
    "    knn_s.fit(temptrainx, temptrainy)\n",
    "    accuracy.append(accuracy_checker(temptestx, temptesty, knn_s, mode=\"return\"))\n",
    "print(max(accuracy), f\"Best number of neighbors is: {parameters[accuracy.index(max(accuracy))]}\")\n",
    "\n",
    "fig = px.bar(x=[x for x in range(1,len(folds)+1)], y= accuracy, title='Accuracy per fold', text_auto=True)\n",
    "fig.update_layout(yaxis_title=\"accuracy\", xaxis_title=\"\")\n",
    "fig.show()"
   ],
   "id": "ba0fdf75c909924f",
   "outputs": [
    {
     "name": "stdout",
     "output_type": "stream",
     "text": [
      "KFold(n_splits=3, random_state=None, shuffle=False)\n",
      "87.55020080321285 Best number of neighbors is: 4\n"
     ]
    },
    {
     "data": {
      "application/vnd.plotly.v1+json": {
       "data": [
        {
         "hovertemplate": "x=%{x}<br>y=%{y}<extra></extra>",
         "legendgroup": "",
         "marker": {
          "color": "#636efa",
          "pattern": {
           "shape": ""
          }
         },
         "name": "",
         "orientation": "v",
         "showlegend": false,
         "textposition": "auto",
         "texttemplate": "%{y}",
         "x": {
          "dtype": "i1",
          "bdata": "AQID"
         },
         "xaxis": "x",
         "y": {
          "dtype": "f8",
          "bdata": "mpmZmZmZT0AOAm59NuNVQOlFnKg8LVNA"
         },
         "yaxis": "y",
         "type": "bar"
        }
       ],
       "layout": {
        "template": {
         "data": {
          "histogram2dcontour": [
           {
            "type": "histogram2dcontour",
            "colorbar": {
             "outlinewidth": 0,
             "ticks": ""
            },
            "colorscale": [
             [
              0.0,
              "#0d0887"
             ],
             [
              0.1111111111111111,
              "#46039f"
             ],
             [
              0.2222222222222222,
              "#7201a8"
             ],
             [
              0.3333333333333333,
              "#9c179e"
             ],
             [
              0.4444444444444444,
              "#bd3786"
             ],
             [
              0.5555555555555556,
              "#d8576b"
             ],
             [
              0.6666666666666666,
              "#ed7953"
             ],
             [
              0.7777777777777778,
              "#fb9f3a"
             ],
             [
              0.8888888888888888,
              "#fdca26"
             ],
             [
              1.0,
              "#f0f921"
             ]
            ]
           }
          ],
          "choropleth": [
           {
            "type": "choropleth",
            "colorbar": {
             "outlinewidth": 0,
             "ticks": ""
            }
           }
          ],
          "histogram2d": [
           {
            "type": "histogram2d",
            "colorbar": {
             "outlinewidth": 0,
             "ticks": ""
            },
            "colorscale": [
             [
              0.0,
              "#0d0887"
             ],
             [
              0.1111111111111111,
              "#46039f"
             ],
             [
              0.2222222222222222,
              "#7201a8"
             ],
             [
              0.3333333333333333,
              "#9c179e"
             ],
             [
              0.4444444444444444,
              "#bd3786"
             ],
             [
              0.5555555555555556,
              "#d8576b"
             ],
             [
              0.6666666666666666,
              "#ed7953"
             ],
             [
              0.7777777777777778,
              "#fb9f3a"
             ],
             [
              0.8888888888888888,
              "#fdca26"
             ],
             [
              1.0,
              "#f0f921"
             ]
            ]
           }
          ],
          "heatmap": [
           {
            "type": "heatmap",
            "colorbar": {
             "outlinewidth": 0,
             "ticks": ""
            },
            "colorscale": [
             [
              0.0,
              "#0d0887"
             ],
             [
              0.1111111111111111,
              "#46039f"
             ],
             [
              0.2222222222222222,
              "#7201a8"
             ],
             [
              0.3333333333333333,
              "#9c179e"
             ],
             [
              0.4444444444444444,
              "#bd3786"
             ],
             [
              0.5555555555555556,
              "#d8576b"
             ],
             [
              0.6666666666666666,
              "#ed7953"
             ],
             [
              0.7777777777777778,
              "#fb9f3a"
             ],
             [
              0.8888888888888888,
              "#fdca26"
             ],
             [
              1.0,
              "#f0f921"
             ]
            ]
           }
          ],
          "contourcarpet": [
           {
            "type": "contourcarpet",
            "colorbar": {
             "outlinewidth": 0,
             "ticks": ""
            }
           }
          ],
          "contour": [
           {
            "type": "contour",
            "colorbar": {
             "outlinewidth": 0,
             "ticks": ""
            },
            "colorscale": [
             [
              0.0,
              "#0d0887"
             ],
             [
              0.1111111111111111,
              "#46039f"
             ],
             [
              0.2222222222222222,
              "#7201a8"
             ],
             [
              0.3333333333333333,
              "#9c179e"
             ],
             [
              0.4444444444444444,
              "#bd3786"
             ],
             [
              0.5555555555555556,
              "#d8576b"
             ],
             [
              0.6666666666666666,
              "#ed7953"
             ],
             [
              0.7777777777777778,
              "#fb9f3a"
             ],
             [
              0.8888888888888888,
              "#fdca26"
             ],
             [
              1.0,
              "#f0f921"
             ]
            ]
           }
          ],
          "surface": [
           {
            "type": "surface",
            "colorbar": {
             "outlinewidth": 0,
             "ticks": ""
            },
            "colorscale": [
             [
              0.0,
              "#0d0887"
             ],
             [
              0.1111111111111111,
              "#46039f"
             ],
             [
              0.2222222222222222,
              "#7201a8"
             ],
             [
              0.3333333333333333,
              "#9c179e"
             ],
             [
              0.4444444444444444,
              "#bd3786"
             ],
             [
              0.5555555555555556,
              "#d8576b"
             ],
             [
              0.6666666666666666,
              "#ed7953"
             ],
             [
              0.7777777777777778,
              "#fb9f3a"
             ],
             [
              0.8888888888888888,
              "#fdca26"
             ],
             [
              1.0,
              "#f0f921"
             ]
            ]
           }
          ],
          "mesh3d": [
           {
            "type": "mesh3d",
            "colorbar": {
             "outlinewidth": 0,
             "ticks": ""
            }
           }
          ],
          "scatter": [
           {
            "marker": {
             "line": {
              "color": "#283442"
             }
            },
            "type": "scatter"
           }
          ],
          "parcoords": [
           {
            "type": "parcoords",
            "line": {
             "colorbar": {
              "outlinewidth": 0,
              "ticks": ""
             }
            }
           }
          ],
          "scatterpolargl": [
           {
            "type": "scatterpolargl",
            "marker": {
             "colorbar": {
              "outlinewidth": 0,
              "ticks": ""
             }
            }
           }
          ],
          "bar": [
           {
            "error_x": {
             "color": "#f2f5fa"
            },
            "error_y": {
             "color": "#f2f5fa"
            },
            "marker": {
             "line": {
              "color": "rgb(17,17,17)",
              "width": 0.5
             },
             "pattern": {
              "fillmode": "overlay",
              "size": 10,
              "solidity": 0.2
             }
            },
            "type": "bar"
           }
          ],
          "scattergeo": [
           {
            "type": "scattergeo",
            "marker": {
             "colorbar": {
              "outlinewidth": 0,
              "ticks": ""
             }
            }
           }
          ],
          "scatterpolar": [
           {
            "type": "scatterpolar",
            "marker": {
             "colorbar": {
              "outlinewidth": 0,
              "ticks": ""
             }
            }
           }
          ],
          "histogram": [
           {
            "marker": {
             "pattern": {
              "fillmode": "overlay",
              "size": 10,
              "solidity": 0.2
             }
            },
            "type": "histogram"
           }
          ],
          "scattergl": [
           {
            "marker": {
             "line": {
              "color": "#283442"
             }
            },
            "type": "scattergl"
           }
          ],
          "scatter3d": [
           {
            "type": "scatter3d",
            "line": {
             "colorbar": {
              "outlinewidth": 0,
              "ticks": ""
             }
            },
            "marker": {
             "colorbar": {
              "outlinewidth": 0,
              "ticks": ""
             }
            }
           }
          ],
          "scattermap": [
           {
            "type": "scattermap",
            "marker": {
             "colorbar": {
              "outlinewidth": 0,
              "ticks": ""
             }
            }
           }
          ],
          "scattermapbox": [
           {
            "type": "scattermapbox",
            "marker": {
             "colorbar": {
              "outlinewidth": 0,
              "ticks": ""
             }
            }
           }
          ],
          "scatterternary": [
           {
            "type": "scatterternary",
            "marker": {
             "colorbar": {
              "outlinewidth": 0,
              "ticks": ""
             }
            }
           }
          ],
          "scattercarpet": [
           {
            "type": "scattercarpet",
            "marker": {
             "colorbar": {
              "outlinewidth": 0,
              "ticks": ""
             }
            }
           }
          ],
          "carpet": [
           {
            "aaxis": {
             "endlinecolor": "#A2B1C6",
             "gridcolor": "#506784",
             "linecolor": "#506784",
             "minorgridcolor": "#506784",
             "startlinecolor": "#A2B1C6"
            },
            "baxis": {
             "endlinecolor": "#A2B1C6",
             "gridcolor": "#506784",
             "linecolor": "#506784",
             "minorgridcolor": "#506784",
             "startlinecolor": "#A2B1C6"
            },
            "type": "carpet"
           }
          ],
          "table": [
           {
            "cells": {
             "fill": {
              "color": "#506784"
             },
             "line": {
              "color": "rgb(17,17,17)"
             }
            },
            "header": {
             "fill": {
              "color": "#2a3f5f"
             },
             "line": {
              "color": "rgb(17,17,17)"
             }
            },
            "type": "table"
           }
          ],
          "barpolar": [
           {
            "marker": {
             "line": {
              "color": "rgb(17,17,17)",
              "width": 0.5
             },
             "pattern": {
              "fillmode": "overlay",
              "size": 10,
              "solidity": 0.2
             }
            },
            "type": "barpolar"
           }
          ],
          "pie": [
           {
            "automargin": true,
            "type": "pie"
           }
          ]
         },
         "layout": {
          "autotypenumbers": "strict",
          "colorway": [
           "#636efa",
           "#EF553B",
           "#00cc96",
           "#ab63fa",
           "#FFA15A",
           "#19d3f3",
           "#FF6692",
           "#B6E880",
           "#FF97FF",
           "#FECB52"
          ],
          "font": {
           "color": "#f2f5fa"
          },
          "hovermode": "closest",
          "hoverlabel": {
           "align": "left"
          },
          "paper_bgcolor": "rgb(17,17,17)",
          "plot_bgcolor": "rgb(17,17,17)",
          "polar": {
           "bgcolor": "rgb(17,17,17)",
           "angularaxis": {
            "gridcolor": "#506784",
            "linecolor": "#506784",
            "ticks": ""
           },
           "radialaxis": {
            "gridcolor": "#506784",
            "linecolor": "#506784",
            "ticks": ""
           }
          },
          "ternary": {
           "bgcolor": "rgb(17,17,17)",
           "aaxis": {
            "gridcolor": "#506784",
            "linecolor": "#506784",
            "ticks": ""
           },
           "baxis": {
            "gridcolor": "#506784",
            "linecolor": "#506784",
            "ticks": ""
           },
           "caxis": {
            "gridcolor": "#506784",
            "linecolor": "#506784",
            "ticks": ""
           }
          },
          "coloraxis": {
           "colorbar": {
            "outlinewidth": 0,
            "ticks": ""
           }
          },
          "colorscale": {
           "sequential": [
            [
             0.0,
             "#0d0887"
            ],
            [
             0.1111111111111111,
             "#46039f"
            ],
            [
             0.2222222222222222,
             "#7201a8"
            ],
            [
             0.3333333333333333,
             "#9c179e"
            ],
            [
             0.4444444444444444,
             "#bd3786"
            ],
            [
             0.5555555555555556,
             "#d8576b"
            ],
            [
             0.6666666666666666,
             "#ed7953"
            ],
            [
             0.7777777777777778,
             "#fb9f3a"
            ],
            [
             0.8888888888888888,
             "#fdca26"
            ],
            [
             1.0,
             "#f0f921"
            ]
           ],
           "sequentialminus": [
            [
             0.0,
             "#0d0887"
            ],
            [
             0.1111111111111111,
             "#46039f"
            ],
            [
             0.2222222222222222,
             "#7201a8"
            ],
            [
             0.3333333333333333,
             "#9c179e"
            ],
            [
             0.4444444444444444,
             "#bd3786"
            ],
            [
             0.5555555555555556,
             "#d8576b"
            ],
            [
             0.6666666666666666,
             "#ed7953"
            ],
            [
             0.7777777777777778,
             "#fb9f3a"
            ],
            [
             0.8888888888888888,
             "#fdca26"
            ],
            [
             1.0,
             "#f0f921"
            ]
           ],
           "diverging": [
            [
             0,
             "#8e0152"
            ],
            [
             0.1,
             "#c51b7d"
            ],
            [
             0.2,
             "#de77ae"
            ],
            [
             0.3,
             "#f1b6da"
            ],
            [
             0.4,
             "#fde0ef"
            ],
            [
             0.5,
             "#f7f7f7"
            ],
            [
             0.6,
             "#e6f5d0"
            ],
            [
             0.7,
             "#b8e186"
            ],
            [
             0.8,
             "#7fbc41"
            ],
            [
             0.9,
             "#4d9221"
            ],
            [
             1,
             "#276419"
            ]
           ]
          },
          "xaxis": {
           "gridcolor": "#283442",
           "linecolor": "#506784",
           "ticks": "",
           "title": {
            "standoff": 15
           },
           "zerolinecolor": "#283442",
           "automargin": true,
           "zerolinewidth": 2
          },
          "yaxis": {
           "gridcolor": "#283442",
           "linecolor": "#506784",
           "ticks": "",
           "title": {
            "standoff": 15
           },
           "zerolinecolor": "#283442",
           "automargin": true,
           "zerolinewidth": 2
          },
          "scene": {
           "xaxis": {
            "backgroundcolor": "rgb(17,17,17)",
            "gridcolor": "#506784",
            "linecolor": "#506784",
            "showbackground": true,
            "ticks": "",
            "zerolinecolor": "#C8D4E3",
            "gridwidth": 2
           },
           "yaxis": {
            "backgroundcolor": "rgb(17,17,17)",
            "gridcolor": "#506784",
            "linecolor": "#506784",
            "showbackground": true,
            "ticks": "",
            "zerolinecolor": "#C8D4E3",
            "gridwidth": 2
           },
           "zaxis": {
            "backgroundcolor": "rgb(17,17,17)",
            "gridcolor": "#506784",
            "linecolor": "#506784",
            "showbackground": true,
            "ticks": "",
            "zerolinecolor": "#C8D4E3",
            "gridwidth": 2
           }
          },
          "shapedefaults": {
           "line": {
            "color": "#f2f5fa"
           }
          },
          "annotationdefaults": {
           "arrowcolor": "#f2f5fa",
           "arrowhead": 0,
           "arrowwidth": 1
          },
          "geo": {
           "bgcolor": "rgb(17,17,17)",
           "landcolor": "rgb(17,17,17)",
           "subunitcolor": "#506784",
           "showland": true,
           "showlakes": true,
           "lakecolor": "rgb(17,17,17)"
          },
          "title": {
           "x": 0.05
          },
          "updatemenudefaults": {
           "bgcolor": "#506784",
           "borderwidth": 0
          },
          "sliderdefaults": {
           "bgcolor": "#C8D4E3",
           "borderwidth": 1,
           "bordercolor": "rgb(17,17,17)",
           "tickwidth": 0
          },
          "mapbox": {
           "style": "dark"
          }
         }
        },
        "xaxis": {
         "anchor": "y",
         "domain": [
          0.0,
          1.0
         ],
         "title": {
          "text": ""
         }
        },
        "yaxis": {
         "anchor": "x",
         "domain": [
          0.0,
          1.0
         ],
         "title": {
          "text": "accuracy"
         }
        },
        "legend": {
         "tracegroupgap": 0
        },
        "title": {
         "text": "Accuracy per fold"
        },
        "barmode": "relative"
       },
       "config": {
        "plotlyServerURL": "https://plot.ly"
       }
      }
     },
     "metadata": {},
     "output_type": "display_data"
    }
   ],
   "execution_count": 12
  },
  {
   "metadata": {
    "ExecuteTime": {
     "end_time": "2025-10-09T08:59:22.978447Z",
     "start_time": "2025-10-09T08:59:22.967763Z"
    }
   },
   "cell_type": "code",
   "source": "",
   "id": "d7533a0943f1139a",
   "outputs": [],
   "execution_count": 12
  },
  {
   "metadata": {
    "ExecuteTime": {
     "end_time": "2025-10-09T08:59:22.989610Z",
     "start_time": "2025-10-09T08:59:22.980454Z"
    }
   },
   "cell_type": "code",
   "source": "",
   "id": "eec8cb73ceb99d78",
   "outputs": [],
   "execution_count": 12
  }
 ],
 "metadata": {
  "kernelspec": {
   "display_name": "Python 3",
   "language": "python",
   "name": "python3"
  },
  "language_info": {
   "codemirror_mode": {
    "name": "ipython",
    "version": 3
   },
   "file_extension": ".py",
   "mimetype": "text/x-python",
   "name": "python",
   "nbconvert_exporter": "python",
   "pygments_lexer": "ipython3",
   "version": "3.13.7"
  }
 },
 "nbformat": 4,
 "nbformat_minor": 5
}
