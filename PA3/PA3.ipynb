{
 "cells": [
  {
   "metadata": {
    "ExecuteTime": {
     "end_time": "2025-10-01T13:31:35.187028Z",
     "start_time": "2025-10-01T13:31:26.046688Z"
    }
   },
   "cell_type": "code",
   "source": [
    "#from numpy.core.numeric import infty\n",
    "!pip install numpy\n",
    "!pip install pandas\n",
    "!pip install plotly\n",
    "\n",
    "!pip install scikit-learn # non-depreceated sklearn"
   ],
   "id": "9f9cc532a184920b",
   "outputs": [
    {
     "name": "stdout",
     "output_type": "stream",
     "text": [
      "Requirement already satisfied: numpy in /Users/school/Documents/GitHub/DataAnalytics/.venvPytorc/lib/python3.8/site-packages (1.24.4)\r\n",
      "Requirement already satisfied: pandas in /Users/school/Documents/GitHub/DataAnalytics/.venvPytorc/lib/python3.8/site-packages (2.0.3)\r\n",
      "Requirement already satisfied: python-dateutil>=2.8.2 in /Users/school/Documents/GitHub/DataAnalytics/.venvPytorc/lib/python3.8/site-packages (from pandas) (2.9.0.post0)\r\n",
      "Requirement already satisfied: pytz>=2020.1 in /Users/school/Documents/GitHub/DataAnalytics/.venvPytorc/lib/python3.8/site-packages (from pandas) (2025.2)\r\n",
      "Requirement already satisfied: tzdata>=2022.1 in /Users/school/Documents/GitHub/DataAnalytics/.venvPytorc/lib/python3.8/site-packages (from pandas) (2025.2)\r\n",
      "Requirement already satisfied: numpy>=1.20.3 in /Users/school/Documents/GitHub/DataAnalytics/.venvPytorc/lib/python3.8/site-packages (from pandas) (1.24.4)\r\n",
      "Requirement already satisfied: six>=1.5 in /Users/school/Documents/GitHub/DataAnalytics/.venvPytorc/lib/python3.8/site-packages (from python-dateutil>=2.8.2->pandas) (1.17.0)\r\n",
      "Requirement already satisfied: plotly in /Users/school/Documents/GitHub/DataAnalytics/.venvPytorc/lib/python3.8/site-packages (6.3.0)\r\n",
      "Requirement already satisfied: narwhals>=1.15.1 in /Users/school/Documents/GitHub/DataAnalytics/.venvPytorc/lib/python3.8/site-packages (from plotly) (1.42.1)\r\n",
      "Requirement already satisfied: packaging in /Users/school/Documents/GitHub/DataAnalytics/.venvPytorc/lib/python3.8/site-packages (from plotly) (25.0)\r\n",
      "Requirement already satisfied: scikit-learn in /Users/school/Documents/GitHub/DataAnalytics/.venvPytorc/lib/python3.8/site-packages (1.3.2)\r\n",
      "Requirement already satisfied: numpy<2.0,>=1.17.3 in /Users/school/Documents/GitHub/DataAnalytics/.venvPytorc/lib/python3.8/site-packages (from scikit-learn) (1.24.4)\r\n",
      "Requirement already satisfied: scipy>=1.5.0 in /Users/school/Documents/GitHub/DataAnalytics/.venvPytorc/lib/python3.8/site-packages (from scikit-learn) (1.10.1)\r\n",
      "Requirement already satisfied: joblib>=1.1.1 in /Users/school/Documents/GitHub/DataAnalytics/.venvPytorc/lib/python3.8/site-packages (from scikit-learn) (1.4.2)\r\n",
      "Requirement already satisfied: threadpoolctl>=2.0.0 in /Users/school/Documents/GitHub/DataAnalytics/.venvPytorc/lib/python3.8/site-packages (from scikit-learn) (3.5.0)\r\n"
     ]
    }
   ],
   "execution_count": 2
  },
  {
   "metadata": {},
   "cell_type": "markdown",
   "source": "Task1",
   "id": "2c742fe5da58a325"
  },
  {
   "cell_type": "code",
   "id": "initial_id",
   "metadata": {
    "collapsed": true,
    "ExecuteTime": {
     "end_time": "2025-10-01T13:31:36.626290Z",
     "start_time": "2025-10-01T13:31:35.257128Z"
    }
   },
   "source": [
    "import pandas as pd\n",
    "# read the csv and make it a pandas.DataFrame\n",
    "frame = pd.DataFrame(pd.read_csv(\"./blood_transfusion.csv\"))\n",
    "frame.describe(include='all') # 18 columns, including 2 categorical: Month & VisitorType, and two boolean: Weekend & Revenue"
   ],
   "outputs": [
    {
     "data": {
      "text/plain": [
       "       months_since_last_donation  total_number_of_donations  \\\n",
       "count                  748.000000                 748.000000   \n",
       "mean                     9.506684                   5.514706   \n",
       "std                      8.095396                   5.839307   \n",
       "min                      0.000000                   1.000000   \n",
       "25%                      2.750000                   2.000000   \n",
       "50%                      7.000000                   4.000000   \n",
       "75%                     14.000000                   7.000000   \n",
       "max                     74.000000                  50.000000   \n",
       "\n",
       "       total_blood_donated  months_since_first_donation       class  \n",
       "count           748.000000                   748.000000  748.000000  \n",
       "mean           1378.676471                    34.282086    0.237968  \n",
       "std            1459.826781                    24.376714    0.426124  \n",
       "min             250.000000                     2.000000    0.000000  \n",
       "25%             500.000000                    16.000000    0.000000  \n",
       "50%            1000.000000                    28.000000    0.000000  \n",
       "75%            1750.000000                    50.000000    0.000000  \n",
       "max           12500.000000                    98.000000    1.000000  "
      ],
      "text/html": [
       "<div>\n",
       "<style scoped>\n",
       "    .dataframe tbody tr th:only-of-type {\n",
       "        vertical-align: middle;\n",
       "    }\n",
       "\n",
       "    .dataframe tbody tr th {\n",
       "        vertical-align: top;\n",
       "    }\n",
       "\n",
       "    .dataframe thead th {\n",
       "        text-align: right;\n",
       "    }\n",
       "</style>\n",
       "<table border=\"1\" class=\"dataframe\">\n",
       "  <thead>\n",
       "    <tr style=\"text-align: right;\">\n",
       "      <th></th>\n",
       "      <th>months_since_last_donation</th>\n",
       "      <th>total_number_of_donations</th>\n",
       "      <th>total_blood_donated</th>\n",
       "      <th>months_since_first_donation</th>\n",
       "      <th>class</th>\n",
       "    </tr>\n",
       "  </thead>\n",
       "  <tbody>\n",
       "    <tr>\n",
       "      <th>count</th>\n",
       "      <td>748.000000</td>\n",
       "      <td>748.000000</td>\n",
       "      <td>748.000000</td>\n",
       "      <td>748.000000</td>\n",
       "      <td>748.000000</td>\n",
       "    </tr>\n",
       "    <tr>\n",
       "      <th>mean</th>\n",
       "      <td>9.506684</td>\n",
       "      <td>5.514706</td>\n",
       "      <td>1378.676471</td>\n",
       "      <td>34.282086</td>\n",
       "      <td>0.237968</td>\n",
       "    </tr>\n",
       "    <tr>\n",
       "      <th>std</th>\n",
       "      <td>8.095396</td>\n",
       "      <td>5.839307</td>\n",
       "      <td>1459.826781</td>\n",
       "      <td>24.376714</td>\n",
       "      <td>0.426124</td>\n",
       "    </tr>\n",
       "    <tr>\n",
       "      <th>min</th>\n",
       "      <td>0.000000</td>\n",
       "      <td>1.000000</td>\n",
       "      <td>250.000000</td>\n",
       "      <td>2.000000</td>\n",
       "      <td>0.000000</td>\n",
       "    </tr>\n",
       "    <tr>\n",
       "      <th>25%</th>\n",
       "      <td>2.750000</td>\n",
       "      <td>2.000000</td>\n",
       "      <td>500.000000</td>\n",
       "      <td>16.000000</td>\n",
       "      <td>0.000000</td>\n",
       "    </tr>\n",
       "    <tr>\n",
       "      <th>50%</th>\n",
       "      <td>7.000000</td>\n",
       "      <td>4.000000</td>\n",
       "      <td>1000.000000</td>\n",
       "      <td>28.000000</td>\n",
       "      <td>0.000000</td>\n",
       "    </tr>\n",
       "    <tr>\n",
       "      <th>75%</th>\n",
       "      <td>14.000000</td>\n",
       "      <td>7.000000</td>\n",
       "      <td>1750.000000</td>\n",
       "      <td>50.000000</td>\n",
       "      <td>0.000000</td>\n",
       "    </tr>\n",
       "    <tr>\n",
       "      <th>max</th>\n",
       "      <td>74.000000</td>\n",
       "      <td>50.000000</td>\n",
       "      <td>12500.000000</td>\n",
       "      <td>98.000000</td>\n",
       "      <td>1.000000</td>\n",
       "    </tr>\n",
       "  </tbody>\n",
       "</table>\n",
       "</div>"
      ]
     },
     "execution_count": 3,
     "metadata": {},
     "output_type": "execute_result"
    }
   ],
   "execution_count": 3
  },
  {
   "metadata": {
    "ExecuteTime": {
     "end_time": "2025-10-01T13:31:37.138018Z",
     "start_time": "2025-10-01T13:31:37.128288Z"
    }
   },
   "cell_type": "code",
   "source": "# visualise, understand, story",
   "id": "1a108e72ae895ecd",
   "outputs": [],
   "execution_count": 4
  },
  {
   "metadata": {},
   "cell_type": "markdown",
   "source": "Task2",
   "id": "f3ad8613b85917f6"
  },
  {
   "metadata": {
    "ExecuteTime": {
     "end_time": "2025-10-01T13:31:37.690778Z",
     "start_time": "2025-10-01T13:31:37.638983Z"
    }
   },
   "cell_type": "code",
   "source": [
    "preprocessed = (frame.copy().dropna())\n",
    "preprocessed = (preprocessed-preprocessed.min())/(preprocessed.max()-preprocessed.min()) # Normalization\n",
    "print(preprocessed)"
   ],
   "id": "7a917225e85e418c",
   "outputs": [
    {
     "name": "stdout",
     "output_type": "stream",
     "text": [
      "     months_since_last_donation  total_number_of_donations  \\\n",
      "0                      0.027027                   1.000000   \n",
      "1                      0.000000                   0.244898   \n",
      "2                      0.013514                   0.306122   \n",
      "3                      0.027027                   0.387755   \n",
      "4                      0.013514                   0.469388   \n",
      "..                          ...                        ...   \n",
      "743                    0.310811                   0.020408   \n",
      "744                    0.283784                   0.020408   \n",
      "745                    0.310811                   0.040816   \n",
      "746                    0.527027                   0.000000   \n",
      "747                    0.972973                   0.000000   \n",
      "\n",
      "     total_blood_donated  months_since_first_donation  class  \n",
      "0               1.000000                     1.000000    1.0  \n",
      "1               0.244898                     0.270833    1.0  \n",
      "2               0.306122                     0.343750    1.0  \n",
      "3               0.387755                     0.447917    1.0  \n",
      "4               0.469388                     0.781250    0.0  \n",
      "..                   ...                          ...    ...  \n",
      "743             0.020408                     0.375000    0.0  \n",
      "744             0.020408                     0.520833    0.0  \n",
      "745             0.040816                     0.625000    0.0  \n",
      "746             0.000000                     0.385417    0.0  \n",
      "747             0.000000                     0.729167    0.0  \n",
      "\n",
      "[748 rows x 5 columns]\n"
     ]
    }
   ],
   "execution_count": 5
  },
  {
   "metadata": {},
   "cell_type": "markdown",
   "source": "TASK 3",
   "id": "41518569b23bfe5f"
  },
  {
   "metadata": {
    "ExecuteTime": {
     "end_time": "2025-10-01T13:31:41.236246Z",
     "start_time": "2025-10-01T13:31:38.127930Z"
    }
   },
   "cell_type": "code",
   "source": [
    "import numpy as np\n",
    "from sklearn.model_selection import train_test_split\n",
    "X_train_s, X_test_s, Y_train_s, Y_test_s = train_test_split(\n",
    "    preprocessed.drop('class', axis=1), preprocessed['class'], test_size=0.33)\n",
    "X_train_l, X_test_l, Y_train_l, Y_test_l = train_test_split(\n",
    "    preprocessed.drop('class', axis=1), preprocessed['class'], test_size=0.66)"
   ],
   "id": "5efca73ed556e355",
   "outputs": [],
   "execution_count": 6
  },
  {
   "metadata": {},
   "cell_type": "markdown",
   "source": "Task 4",
   "id": "25d2e5f6c9684691"
  },
  {
   "metadata": {
    "ExecuteTime": {
     "end_time": "2025-10-01T13:34:47.677095Z",
     "start_time": "2025-10-01T13:34:31.013073Z"
    }
   },
   "cell_type": "code",
   "source": [
    "from sklearn.metrics import classification_report\n",
    "from sklearn.metrics import fbeta_score\n",
    "def accuraccy_checker(X_test, y_test, pred, mode=\"basic\"):\n",
    "    num, total = 0, 0\n",
    "    predicted, true = [], []\n",
    "    for index, row in X_test.iterrows():\n",
    "        p = pred.predict(X_test.loc[[index]])\n",
    "        q = list(y_test.loc[[index]])\n",
    "        if p == q:\n",
    "            num += 1\n",
    "        total += 1\n",
    "        predicted.append(p)\n",
    "        true.append(q)\n",
    "\n",
    "    if mode == \"basic\":\n",
    "        print(f\"Accuracy: {num/total*100:.2f}%\")\n",
    "    if mode == \"classification_report\":\n",
    "        print(classification_report(true, predicted))\n",
    "    if mode == \"confusion_matrix\":\n",
    "        print(\"not yet\")\n",
    "    if mode == \"fbeta\":\n",
    "        print(fbeta_score(true, predicted, average='macro', beta=0.5))\n",
    "        print(fbeta_score(true, predicted, average='weighted', beta=0.5))\n",
    "        print(fbeta_score(true, predicted, average=None, beta=0.5))\n",
    "\n",
    "# 4.1\n",
    "#Task 4\n",
    "#KNN\n",
    "def knn_checker(test_y, y_test):\n",
    "    num, total = 0, 0\n",
    "    for index in range(len(test_y)):\n",
    "        if list(test_y.iloc[index]) == (y_test.iloc[index]): #dit werkt nog niet\n",
    "            num += 1\n",
    "        total += 1\n",
    "    print(f\"Accuracy: {num / total * 100:.2f}%\")\n",
    "    \n",
    "def manhattan_distance(a, b):\n",
    "    distance = 0\n",
    "    for index, _ in enumerate(a):\n",
    "        distance += ((a[index] - b[index]) ** 2) ** 0.5\n",
    "    return distance      \n",
    "\n",
    "def KNN_classifier(k, train_x, train_y, test_x):\n",
    "    test_y = [0 for _ in range(test_x.shape[0])]\n",
    "    test_y = pd.DataFrame(test_y)\n",
    "    for index, (_,testrow) in enumerate(test_x.iterrows()):\n",
    "        distances = []\n",
    "        for _, trainrow in train_x.iterrows():\n",
    "            testvalues = list(testrow)  \n",
    "            trainvalues = list(trainrow)\n",
    "            distance = manhattan_distance(testvalues, trainvalues)\n",
    "            distances.append(distance)\n",
    "        nearest_neighbours = sorted(range(len(distances)), key=lambda i: distances[i])[:k]\n",
    "        neighbor_labels = train_y.iloc[nearest_neighbours]\n",
    "        predicted_label = round(neighbor_labels.mean())\n",
    "        test_y.iloc[index] = predicted_label\n",
    "    return test_y\n",
    "\n",
    "test_y_predicted = KNN_classifier(5, X_train_s, Y_train_s, X_test_s)        \n",
    "knn_checker(test_y_predicted, Y_test_s)\n",
    "\n",
    "# 4.2\n",
    "from sklearn.naive_bayes import GaussianNB\n",
    "nbc = GaussianNB()\n",
    "nbc.fit(X_train_s, Y_train_s)\n",
    "accuraccy_checker(X_test_s, Y_test_s, nbc)\n",
    "\n",
    "# 4.3\n",
    "from sklearn.svm import SVC\n",
    "from sklearn.preprocessing import StandardScaler\n",
    "from sklearn.pipeline import make_pipeline\n",
    "svc = make_pipeline(StandardScaler(), SVC(gamma='auto'))\n",
    "svc.fit(X_train_s, Y_train_s)\n",
    "accuraccy_checker(X_test_s, Y_test_s, svc)\n",
    "\n",
    "# 4.4\n",
    "from sklearn.neural_network import MLPClassifier\n",
    "mlp = MLPClassifier(random_state=1, max_iter=250).fit(X_train_s, Y_train_s)\n",
    "accuraccy_checker(X_test_s, Y_test_s, mlp)\n",
    "\n",
    "\n",
    "\n",
    "\n",
    "\n"
   ],
   "id": "5fd32bd75029c3fc",
   "outputs": [
    {
     "name": "stdout",
     "output_type": "stream",
     "text": [
      "Accuracy: 70.45%\n",
      "Accuracy: 72.47%\n",
      "Accuracy: 74.90%\n",
      "Accuracy: 74.90%\n"
     ]
    }
   ],
   "execution_count": 12
  },
  {
   "metadata": {
    "ExecuteTime": {
     "end_time": "2025-10-01T13:34:55.580921Z",
     "start_time": "2025-10-01T13:34:49.450804Z"
    }
   },
   "cell_type": "code",
   "source": [
    "accuraccy_checker(X_test_s, Y_test_s, nbc, mode = \"classification_report\")\n",
    "\n",
    "accuraccy_checker(X_test_s, Y_test_s, svc,  mode = \"classification_report\")\n",
    "\n",
    "accuraccy_checker(X_test_s, Y_test_s, mlp,  mode = \"classification_report\")\n",
    "\n",
    "accuraccy_checker(X_test_s, Y_test_s, nbc, mode = \"fbeta\")\n",
    "\n",
    "accuraccy_checker(X_test_s, Y_test_s, svc,  mode = \"fbeta\")\n",
    "\n",
    "accuraccy_checker(X_test_s, Y_test_s, mlp,  mode = \"fbeta\")\n"
   ],
   "id": "8aadb811fdda4bdb",
   "outputs": [
    {
     "name": "stdout",
     "output_type": "stream",
     "text": [
      "              precision    recall  f1-score   support\n",
      "\n",
      "         0.0       0.77      0.90      0.83       184\n",
      "         1.0       0.42      0.22      0.29        63\n",
      "\n",
      "    accuracy                           0.72       247\n",
      "   macro avg       0.60      0.56      0.56       247\n",
      "weighted avg       0.68      0.72      0.69       247\n",
      "\n",
      "              precision    recall  f1-score   support\n",
      "\n",
      "         0.0       0.75      0.99      0.86       184\n",
      "         1.0       0.67      0.03      0.06        63\n",
      "\n",
      "    accuracy                           0.75       247\n",
      "   macro avg       0.71      0.51      0.46       247\n",
      "weighted avg       0.73      0.75      0.65       247\n",
      "\n",
      "              precision    recall  f1-score   support\n",
      "\n",
      "         0.0       0.76      0.97      0.85       184\n",
      "         1.0       0.55      0.10      0.16        63\n",
      "\n",
      "    accuracy                           0.75       247\n",
      "   macro avg       0.65      0.53      0.51       247\n",
      "weighted avg       0.70      0.75      0.68       247\n",
      "\n",
      "0.5761217948717949\n",
      "0.6824976642790409\n",
      "[0.79326923 0.35897436]\n",
      "0.4610632183908046\n",
      "0.6216110568197682\n",
      "[0.7887931  0.13333333]\n",
      "0.5369067740438789\n",
      "0.662576757908047\n",
      "[0.79343972 0.28037383]\n"
     ]
    }
   ],
   "execution_count": 13
  },
  {
   "metadata": {},
   "cell_type": "code",
   "outputs": [],
   "execution_count": null,
   "source": "",
   "id": "ee48293a89ef8b5f"
  }
 ],
 "metadata": {
  "kernelspec": {
   "display_name": "Python 3",
   "language": "python",
   "name": "python3"
  },
  "language_info": {
   "codemirror_mode": {
    "name": "ipython",
    "version": 2
   },
   "file_extension": ".py",
   "mimetype": "text/x-python",
   "name": "python",
   "nbconvert_exporter": "python",
   "pygments_lexer": "ipython2",
   "version": "2.7.6"
  }
 },
 "nbformat": 4,
 "nbformat_minor": 5
}
