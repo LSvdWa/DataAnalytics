{
 "cells": [
  {
   "metadata": {
    "ExecuteTime": {
     "end_time": "2025-10-02T09:07:22.038745Z",
     "start_time": "2025-10-02T09:07:12.950420Z"
    }
   },
   "cell_type": "code",
   "source": [
    "#from numpy.core.numeric import infty\n",
    "!pip install numpy\n",
    "!pip install pandas\n",
    "!pip install plotly\n",
    "\n",
    "!pip install scikit-learn # non-depreceated sklearn"
   ],
   "id": "9f9cc532a184920b",
   "outputs": [
    {
     "name": "stdout",
     "output_type": "stream",
     "text": [
      "Requirement already satisfied: numpy in /Users/school/Documents/GitHub/DataAnalytics/.venvPytorc/lib/python3.8/site-packages (1.24.4)\r\n",
      "Requirement already satisfied: pandas in /Users/school/Documents/GitHub/DataAnalytics/.venvPytorc/lib/python3.8/site-packages (2.0.3)\r\n",
      "Requirement already satisfied: python-dateutil>=2.8.2 in /Users/school/Documents/GitHub/DataAnalytics/.venvPytorc/lib/python3.8/site-packages (from pandas) (2.9.0.post0)\r\n",
      "Requirement already satisfied: pytz>=2020.1 in /Users/school/Documents/GitHub/DataAnalytics/.venvPytorc/lib/python3.8/site-packages (from pandas) (2025.2)\r\n",
      "Requirement already satisfied: tzdata>=2022.1 in /Users/school/Documents/GitHub/DataAnalytics/.venvPytorc/lib/python3.8/site-packages (from pandas) (2025.2)\r\n",
      "Requirement already satisfied: numpy>=1.20.3 in /Users/school/Documents/GitHub/DataAnalytics/.venvPytorc/lib/python3.8/site-packages (from pandas) (1.24.4)\r\n",
      "Requirement already satisfied: six>=1.5 in /Users/school/Documents/GitHub/DataAnalytics/.venvPytorc/lib/python3.8/site-packages (from python-dateutil>=2.8.2->pandas) (1.17.0)\r\n",
      "Requirement already satisfied: plotly in /Users/school/Documents/GitHub/DataAnalytics/.venvPytorc/lib/python3.8/site-packages (6.3.0)\r\n",
      "Requirement already satisfied: narwhals>=1.15.1 in /Users/school/Documents/GitHub/DataAnalytics/.venvPytorc/lib/python3.8/site-packages (from plotly) (1.42.1)\r\n",
      "Requirement already satisfied: packaging in /Users/school/Documents/GitHub/DataAnalytics/.venvPytorc/lib/python3.8/site-packages (from plotly) (25.0)\r\n",
      "Requirement already satisfied: scikit-learn in /Users/school/Documents/GitHub/DataAnalytics/.venvPytorc/lib/python3.8/site-packages (1.3.2)\r\n",
      "Requirement already satisfied: numpy<2.0,>=1.17.3 in /Users/school/Documents/GitHub/DataAnalytics/.venvPytorc/lib/python3.8/site-packages (from scikit-learn) (1.24.4)\r\n",
      "Requirement already satisfied: scipy>=1.5.0 in /Users/school/Documents/GitHub/DataAnalytics/.venvPytorc/lib/python3.8/site-packages (from scikit-learn) (1.10.1)\r\n",
      "Requirement already satisfied: joblib>=1.1.1 in /Users/school/Documents/GitHub/DataAnalytics/.venvPytorc/lib/python3.8/site-packages (from scikit-learn) (1.4.2)\r\n",
      "Requirement already satisfied: threadpoolctl>=2.0.0 in /Users/school/Documents/GitHub/DataAnalytics/.venvPytorc/lib/python3.8/site-packages (from scikit-learn) (3.5.0)\r\n"
     ]
    }
   ],
   "execution_count": 8
  },
  {
   "metadata": {},
   "cell_type": "markdown",
   "source": "TASK 1",
   "id": "2c742fe5da58a325"
  },
  {
   "cell_type": "code",
   "id": "initial_id",
   "metadata": {
    "collapsed": true,
    "ExecuteTime": {
     "end_time": "2025-10-02T09:07:22.141950Z",
     "start_time": "2025-10-02T09:07:22.063914Z"
    }
   },
   "source": [
    "import pandas as pd\n",
    "# read the csv and make it a pandas.DataFrame\n",
    "frame = pd.DataFrame(pd.read_csv(\"./blood_transfusion.csv\"))\n",
    "frame.describe(include='all') # 5 columns, 4 numerical, class is nominal (1 or 0)"
   ],
   "outputs": [
    {
     "data": {
      "text/plain": [
       "       months_since_last_donation  total_number_of_donations  \\\n",
       "count                  748.000000                 748.000000   \n",
       "mean                     9.506684                   5.514706   \n",
       "std                      8.095396                   5.839307   \n",
       "min                      0.000000                   1.000000   \n",
       "25%                      2.750000                   2.000000   \n",
       "50%                      7.000000                   4.000000   \n",
       "75%                     14.000000                   7.000000   \n",
       "max                     74.000000                  50.000000   \n",
       "\n",
       "       total_blood_donated  months_since_first_donation       class  \n",
       "count           748.000000                   748.000000  748.000000  \n",
       "mean           1378.676471                    34.282086    0.237968  \n",
       "std            1459.826781                    24.376714    0.426124  \n",
       "min             250.000000                     2.000000    0.000000  \n",
       "25%             500.000000                    16.000000    0.000000  \n",
       "50%            1000.000000                    28.000000    0.000000  \n",
       "75%            1750.000000                    50.000000    0.000000  \n",
       "max           12500.000000                    98.000000    1.000000  "
      ],
      "text/html": [
       "<div>\n",
       "<style scoped>\n",
       "    .dataframe tbody tr th:only-of-type {\n",
       "        vertical-align: middle;\n",
       "    }\n",
       "\n",
       "    .dataframe tbody tr th {\n",
       "        vertical-align: top;\n",
       "    }\n",
       "\n",
       "    .dataframe thead th {\n",
       "        text-align: right;\n",
       "    }\n",
       "</style>\n",
       "<table border=\"1\" class=\"dataframe\">\n",
       "  <thead>\n",
       "    <tr style=\"text-align: right;\">\n",
       "      <th></th>\n",
       "      <th>months_since_last_donation</th>\n",
       "      <th>total_number_of_donations</th>\n",
       "      <th>total_blood_donated</th>\n",
       "      <th>months_since_first_donation</th>\n",
       "      <th>class</th>\n",
       "    </tr>\n",
       "  </thead>\n",
       "  <tbody>\n",
       "    <tr>\n",
       "      <th>count</th>\n",
       "      <td>748.000000</td>\n",
       "      <td>748.000000</td>\n",
       "      <td>748.000000</td>\n",
       "      <td>748.000000</td>\n",
       "      <td>748.000000</td>\n",
       "    </tr>\n",
       "    <tr>\n",
       "      <th>mean</th>\n",
       "      <td>9.506684</td>\n",
       "      <td>5.514706</td>\n",
       "      <td>1378.676471</td>\n",
       "      <td>34.282086</td>\n",
       "      <td>0.237968</td>\n",
       "    </tr>\n",
       "    <tr>\n",
       "      <th>std</th>\n",
       "      <td>8.095396</td>\n",
       "      <td>5.839307</td>\n",
       "      <td>1459.826781</td>\n",
       "      <td>24.376714</td>\n",
       "      <td>0.426124</td>\n",
       "    </tr>\n",
       "    <tr>\n",
       "      <th>min</th>\n",
       "      <td>0.000000</td>\n",
       "      <td>1.000000</td>\n",
       "      <td>250.000000</td>\n",
       "      <td>2.000000</td>\n",
       "      <td>0.000000</td>\n",
       "    </tr>\n",
       "    <tr>\n",
       "      <th>25%</th>\n",
       "      <td>2.750000</td>\n",
       "      <td>2.000000</td>\n",
       "      <td>500.000000</td>\n",
       "      <td>16.000000</td>\n",
       "      <td>0.000000</td>\n",
       "    </tr>\n",
       "    <tr>\n",
       "      <th>50%</th>\n",
       "      <td>7.000000</td>\n",
       "      <td>4.000000</td>\n",
       "      <td>1000.000000</td>\n",
       "      <td>28.000000</td>\n",
       "      <td>0.000000</td>\n",
       "    </tr>\n",
       "    <tr>\n",
       "      <th>75%</th>\n",
       "      <td>14.000000</td>\n",
       "      <td>7.000000</td>\n",
       "      <td>1750.000000</td>\n",
       "      <td>50.000000</td>\n",
       "      <td>0.000000</td>\n",
       "    </tr>\n",
       "    <tr>\n",
       "      <th>max</th>\n",
       "      <td>74.000000</td>\n",
       "      <td>50.000000</td>\n",
       "      <td>12500.000000</td>\n",
       "      <td>98.000000</td>\n",
       "      <td>1.000000</td>\n",
       "    </tr>\n",
       "  </tbody>\n",
       "</table>\n",
       "</div>"
      ]
     },
     "execution_count": 9,
     "metadata": {},
     "output_type": "execute_result"
    }
   ],
   "execution_count": 9
  },
  {
   "metadata": {
    "ExecuteTime": {
     "end_time": "2025-10-02T10:01:23.522152Z",
     "start_time": "2025-10-02T10:01:21.672438Z"
    }
   },
   "cell_type": "code",
   "source": [
    "import plotly.express as px\n",
    "\n",
    "\"\"\"fig = px.histogram(frame.loc[frame['class'] == 1].Margin, x=\"Margin\", title=\"Histogram of Margin with Severity = 1\")\n",
    "fig.show()\"\"\"\n",
    "\n",
    "#2.3\n",
    "# A pie-chart showing how many cases of each class exist\n",
    "fig = px.pie(frame, values='months_since_last_donation', names='class', title='% of classes')\n",
    "fig.show()\n",
    "# Duidelijk verschil tussen het percentage 0 en 1 wanneer mensen een kortere periode hebben sinds laatste donatie\n",
    "fig = px.histogram(frame, x='months_since_last_donation',  color='class', title='')\n",
    "fig.show()\n",
    "# percentage redelijk gelijk over alle data\n",
    "fig = px.histogram(frame, x='months_since_first_donation',  color='class', title='')\n",
    "fig.show()\n",
    "# Meer donations is gelijk aan hoger percentage class 1\n",
    "fig = px.histogram(frame, x='total_number_of_donations',  color='class', title='')\n",
    "fig = px.scatter(frame, x='months_since_last_donation', y=\"total_number_of_donations\", color='class', title='')\n",
    "fig.show()\n",
    "fig.show()\n",
    "fig = px.histogram(frame, x='total_blood_donated',  color='class', title='')\n",
    "fig.show()\n",
    "fig = px.scatter(frame, x='months_since_last_donation', y=\"months_since_first_donation\", color='class', title='')\n",
    "fig.show()\n",
    "\n",
    "# total blood donated is linear with number of donations: dus wss niet nodig om beide te hebben in een vergelijking\n",
    "fig = px.scatter(frame, x='total_blood_donated', y=\"total_number_of_donations\", color='class', title='')\n",
    "fig.show()\n",
    "fig = px.scatter_3d(frame, x=\"months_since_last_donation\", y=\"total_blood_donated\", z='total_number_of_donations', color=\"class\", title=\"3d scatter\")\n",
    "fig.show()\n",
    "\n",
    "# Months since last donation is belangrijkst, spreid het meeste data, gevolgd door total blood donated. Miss een importance checker hier\n",
    "fig = px.scatter_3d(frame, x=\"months_since_last_donation\", y=\"total_blood_donated\", z='months_since_first_donation', color=\"class\", title=\"3d scatter\")\n",
    "fig.show()\n",
    "\n"
   ],
   "id": "8112ffb8932f23c8",
   "outputs": [
    {
     "data": {
      "application/vnd.plotly.v1+json": {
       "data": [
        {
         "domain": {
          "x": [
           0.0,
           1.0
          ],
          "y": [
           0.0,
           1.0
          ]
         },
         "hovertemplate": "class=%{label}<br>months_since_last_donation=%{value}<extra></extra>",
         "labels": {
          "dtype": "i1",
          "bdata": "AQEBAQAAAQABAQAAAQABAQEBAQEBAAEBAAAAAQEAAAEBAQABAQEBAQEAAQABAQAAAAAAAQAAAQEBAQAAAAEAAQEAAQAAAAAAAQABAQEAAAABAAAAAQAAAAABAQAAAAAAAAEBAQEBAAAAAAAAAAABAAABAAABAAABAQEBAQAAAQABAQAAAAAAAAAAAAAAAAAAAQEAAAEAAQAAAQAAAAAAAAAAAAEBAQAAAAAAAAAAAAABAQEAAQAAAAAAAAAAAQAAAAAAAQEAAAAAAAEAAAAAAAAAAAAAAAABAAAAAAABAQABAQAAAAAAAQAAAAAAAAAAAQABAQAAAAAAAAAAAQEAAAAAAAAAAQABAAEAAAAAAAAAAAAAAAAAAAABAAAAAAABAQEBAAAAAAAAAAAAAAAAAAABAAAAAAAAAAAAAAAAAQAAAQABAAAAAAEAAAABAQABAAABAAAAAAAAAAAAAAAAAAAAAAAAAAAAAAAAAAABAAAAAQEAAAAAAQAAAAAAAAAAAAAAAAAAAAAAAAAAAQAAAQAAAAAAAAAAAAAAAAAAAAAAAAAAAAAAAAAAAAAAAAAAAQAAAAAAAAAAAAAAAAAAAAAAAAAAAAAAAAAAAAAAAQAAAAAAAQAAAAAAAAEAAAAAAAAAAAAAAAAAAAAAAAAAAAAAAAABAQEAAQEBAAEBAQAAAAEAAQEBAQEBAQEAAAEAAAEBAQAAAAEBAQEBAQABAQABAAABAQABAQAAAAAAAAABAAEAAAAAAAEAAAABAAEBAQAAAAABAAAAAAEAAAAAAAABAAABAAAAAAAAAAAAAAAAAAAAAQAAAAAAAQAAAAEAAQAAAAAAAAAAAAAAAAAAAQEAAAABAAAAAAAAAAAAAAAAAAAAAAAAAAAAAAEAAQAAAAAAAAAAAAABAAAAAAAAAAAAAAAAAAABAAAAAAAAAAAAAAAAAQAAAAEAAAAAAAAAAAAAAAAAAAAAAAAAAQAAAAAAAAAAAAAAAAAAAA=="
         },
         "legendgroup": "",
         "name": "",
         "showlegend": true,
         "values": {
          "dtype": "f8",
          "bdata": "AAAAAAAAAEAAAAAAAAAAAAAAAAAAAPA/AAAAAAAAAEAAAAAAAADwPwAAAAAAABBAAAAAAAAAAEAAAAAAAADwPwAAAAAAAABAAAAAAAAAFEAAAAAAAAAQQAAAAAAAAAAAAAAAAAAAAEAAAAAAAADwPwAAAAAAAABAAAAAAAAAAEAAAAAAAAAAQAAAAAAAAABAAAAAAAAAAEAAAAAAAAAAQAAAAAAAAABAAAAAAAAAEEAAAAAAAAAAQAAAAAAAAABAAAAAAAAAIkAAAAAAAAAQQAAAAAAAABBAAAAAAAAAEEAAAAAAAAAQQAAAAAAAABBAAAAAAAAA8D8AAAAAAAAQQAAAAAAAABBAAAAAAAAAEEAAAAAAAAAAQAAAAAAAAABAAAAAAAAAAEAAAAAAAAAQQAAAAAAAAABAAAAAAAAAEEAAAAAAAAAAQAAAAAAAAABAAAAAAAAAAEAAAAAAAAAAQAAAAAAAABBAAAAAAAAAEEAAAAAAAAAAQAAAAAAAAABAAAAAAAAAAEAAAAAAAAAAQAAAAAAAAABAAAAAAAAAAEAAAAAAAAAAQAAAAAAAAABAAAAAAAAAEEAAAAAAAAAQQAAAAAAAABBAAAAAAAAAAEAAAAAAAAAAQAAAAAAAAAhAAAAAAAAAAEAAAAAAAAAAQAAAAAAAAABAAAAAAAAAEEAAAAAAAAAAQAAAAAAAAAhAAAAAAAAAAEAAAAAAAAAAAAAAAAAAABBAAAAAAAAA8D8AAAAAAAAAQAAAAAAAAABAAAAAAAAAEEAAAAAAAAAAQAAAAAAAAABAAAAAAAAAAEAAAAAAAAAAQAAAAAAAAABAAAAAAAAAAEAAAAAAAAAAQAAAAAAAABBAAAAAAAAAAEAAAAAAAAAAQAAAAAAAAABAAAAAAAAAAEAAAAAAAAAAQAAAAAAAABBAAAAAAAAAEEAAAAAAAAAQQAAAAAAAAABAAAAAAAAAEEAAAAAAAAAQQAAAAAAAABBAAAAAAAAAEEAAAAAAAAAoQAAAAAAAABBAAAAAAAAACEAAAAAAAAAQQAAAAAAAABBAAAAAAAAAFEAAAAAAAAAQQAAAAAAAAABAAAAAAAAAEEAAAAAAAAAAQAAAAAAAAABAAAAAAAAAGEAAAAAAAAAAAAAAAAAAAAhAAAAAAAAAAEAAAAAAAAAAQAAAAAAAABBAAAAAAAAAEEAAAAAAAAAQQAAAAAAAABBAAAAAAAAAAEAAAAAAAAAmQAAAAAAAAABAAAAAAAAAEEAAAAAAAADwPwAAAAAAAABAAAAAAAAAAEAAAAAAAAAQQAAAAAAAAABAAAAAAAAAAEAAAAAAAAAAQAAAAAAAAABAAAAAAAAAEEAAAAAAAAAAQAAAAAAAABBAAAAAAAAAAEAAAAAAAAAQQAAAAAAAAABAAAAAAAAAAEAAAAAAAAAQQAAAAAAAAABAAAAAAAAAAEAAAAAAAAAAQAAAAAAAAABAAAAAAAAAIkAAAAAAAAAAQAAAAAAAAABAAAAAAAAAFEAAAAAAAAAQQAAAAAAAABBAAAAAAAAAEEAAAAAAAAAQQAAAAAAAABhAAAAAAAAAAEAAAAAAAAAAQAAAAAAAAABAAAAAAAAAAEAAAAAAAAAQQAAAAAAAABBAAAAAAAAAAEAAAAAAAAAAQAAAAAAAAABAAAAAAAAAAEAAAAAAAAAAQAAAAAAAAABAAAAAAAAAAEAAAAAAAAAAQAAAAAAAAABAAAAAAAAAAEAAAAAAAAAAQAAAAAAAAABAAAAAAAAAAEAAAAAAAAAAQAAAAAAAAABAAAAAAAAAAEAAAAAAAAAAQAAAAAAAAABAAAAAAAAAAEAAAAAAAAAAQAAAAAAAAABAAAAAAAAAAEAAAAAAAAAmQAAAAAAAACZAAAAAAAAAEEAAAAAAAAAQQAAAAAAAAABAAAAAAAAAEEAAAAAAAAAkQAAAAAAAAABAAAAAAAAAEEAAAAAAAAAqQAAAAAAAACZAAAAAAAAAEEAAAAAAAAAQQAAAAAAAACBAAAAAAAAAEEAAAAAAAAAQQAAAAAAAABBAAAAAAAAAAEAAAAAAAAAmQAAAAAAAAABAAAAAAAAAAEAAAAAAAAAiQAAAAAAAABBAAAAAAAAAJkAAAAAAAAAiQAAAAAAAABBAAAAAAAAAEEAAAAAAAAAYQAAAAAAAABBAAAAAAAAAJkAAAAAAAAAmQAAAAAAAAABAAAAAAAAAAEAAAAAAAAAmQAAAAAAAACZAAAAAAAAAEEAAAAAAAAAQQAAAAAAAABBAAAAAAAAAEEAAAAAAAAAQQAAAAAAAABBAAAAAAAAAEEAAAAAAAAAQQAAAAAAAABBAAAAAAAAAEEAAAAAAAAAQQAAAAAAAABBAAAAAAAAAEEAAAAAAAAAQQAAAAAAAABBAAAAAAAAAEEAAAAAAAAAQQAAAAAAAABBAAAAAAAAAEEAAAAAAAAAQQAAAAAAAABBAAAAAAAAAEEAAAAAAAAAQQAAAAAAAACRAAAAAAAAALEAAAAAAAAAgQAAAAAAAACZAAAAAAAAAEEAAAAAAAAAAQAAAAAAAACBAAAAAAAAAIEAAAAAAAAAmQAAAAAAAABBAAAAAAAAAJkAAAAAAAAAiQAAAAAAAABBAAAAAAAAAJkAAAAAAAAAcQAAAAAAAACZAAAAAAAAAJkAAAAAAAAAmQAAAAAAAAABAAAAAAAAAJkAAAAAAAAAmQAAAAAAAAChAAAAAAAAAAEAAAAAAAAAwQAAAAAAAACZAAAAAAAAAEEAAAAAAAAAoQAAAAAAAABBAAAAAAAAAJkAAAAAAAAAAQAAAAAAAAABAAAAAAAAAEEAAAAAAAAAQQAAAAAAAAAhAAAAAAAAAJkAAAAAAAAAQQAAAAAAAACpAAAAAAAAAMEAAAAAAAAAwQAAAAAAAABxAAAAAAAAAEEAAAAAAAAAQQAAAAAAAABBAAAAAAAAALEAAAAAAAAAQQAAAAAAAACxAAAAAAAAAJkAAAAAAAAAsQAAAAAAAACxAAAAAAAAALEAAAAAAAAAgQAAAAAAAACZAAAAAAAAAJkAAAAAAAAAQQAAAAAAAACJAAAAAAAAALEAAAAAAAAAsQAAAAAAAACxAAAAAAAAAMEAAAAAAAAAmQAAAAAAAACZAAAAAAAAAJkAAAAAAAAAAQAAAAAAAACxAAAAAAAAALEAAAAAAAAAsQAAAAAAAACxAAAAAAAAALEAAAAAAAAAsQAAAAAAAACxAAAAAAAAAAEAAAAAAAAAsQAAAAAAAACZAAAAAAAAAEEAAAAAAAAAmQAAAAAAAADBAAAAAAAAAMEAAAAAAAAAmQAAAAAAAACZAAAAAAAAAKEAAAAAAAAAiQAAAAAAAACJAAAAAAAAAEEAAAAAAAAAmQAAAAAAAACxAAAAAAAAAJkAAAAAAAAAmQAAAAAAAAC5AAAAAAAAAIkAAAAAAAAAmQAAAAAAAACxAAAAAAAAAMEAAAAAAAAAsQAAAAAAAAABAAAAAAAAALEAAAAAAAAAsQAAAAAAAADBAAAAAAAAALEAAAAAAAAAwQAAAAAAAADBAAAAAAAAAJkAAAAAAAAAwQAAAAAAAADBAAAAAAAAAJkAAAAAAAAAmQAAAAAAAACZAAAAAAAAAIkAAAAAAAAAsQAAAAAAAADdAAAAAAAAAJkAAAAAAAAAmQAAAAAAAACZAAAAAAAAAJkAAAAAAAAAmQAAAAAAAACZAAAAAAAAAJkAAAAAAAAAmQAAAAAAAACZAAAAAAAAAJkAAAAAAAAAmQAAAAAAAACZAAAAAAAAAMEAAAAAAAAAQQAAAAAAAADBAAAAAAAAALEAAAAAAAAAiQAAAAAAAADVAAAAAAAAALEAAAAAAAAAmQAAAAAAAABBAAAAAAAAANUAAAAAAAAAmQAAAAAAAACxAAAAAAAAAN0AAAAAAAAAsQAAAAAAAACZAAAAAAAAAMEAAAAAAAAAQQAAAAAAAACxAAAAAAAAAEEAAAAAAAAAiQAAAAAAAACxAAAAAAAAAJkAAAAAAAAAsQAAAAAAAACxAAAAAAAAALEAAAAAAAAAsQAAAAAAAACxAAAAAAAAALEAAAAAAAAAsQAAAAAAAACxAAAAAAAAALEAAAAAAAAAsQAAAAAAAACxAAAAAAAAALEAAAAAAAAAiQAAAAAAAACxAAAAAAAAAJkAAAAAAAAAmQAAAAAAAABBAAAAAAAAAJkAAAAAAAAAwQAAAAAAAADBAAAAAAAAANUAAAAAAAAA1QAAAAAAAADBAAAAAAAAANUAAAAAAAAAyQAAAAAAAADdAAAAAAAAAN0AAAAAAAAAwQAAAAAAAACxAAAAAAAAALEAAAAAAAAAwQAAAAAAAADBAAAAAAAAAMEAAAAAAAAAwQAAAAAAAADBAAAAAAAAAMEAAAAAAAAAwQAAAAAAAADBAAAAAAAAAMEAAAAAAAAAwQAAAAAAAADBAAAAAAAAAMEAAAAAAAAAwQAAAAAAAADBAAAAAAAAANUAAAAAAAAAwQAAAAAAAADVAAAAAAAAANUAAAAAAAAAsQAAAAAAAADBAAAAAAAAAN0AAAAAAAAAsQAAAAAAAADdAAAAAAAAAMEAAAAAAAAAiQAAAAAAAACJAAAAAAAAAMEAAAAAAAAAsQAAAAAAAACxAAAAAAAAAMEAAAAAAAAA1QAAAAAAAACxAAAAAAAAAN0AAAAAAAAAyQAAAAAAAADBAAAAAAAAAJkAAAAAAAAAmQAAAAAAAACZAAAAAAAAAN0AAAAAAAAA1QAAAAAAAADdAAAAAAAAAN0AAAAAAAAA3QAAAAAAAADBAAAAAAAAAN0AAAAAAAAA1QAAAAAAAADdAAAAAAAAANUAAAAAAAAA1QAAAAAAAADVAAAAAAAAANUAAAAAAAAA1QAAAAAAAADVAAAAAAAAANUAAAAAAAAA1QAAAAAAAADVAAAAAAAAANUAAAAAAAAA1QAAAAAAAADVAAAAAAAAANUAAAAAAAAA3QAAAAAAAADVAAAAAAAAANkAAAAAAAAAmQAAAAAAAADdAAAAAAAAAN0AAAAAAAAA3QAAAAAAAACxAAAAAAAAANUAAAAAAAAA6QAAAAAAAADdAAAAAAAAAN0AAAAAAAAA3QAAAAAAAADdAAAAAAAAAN0AAAAAAAAA3QAAAAAAAADdAAAAAAAAAN0AAAAAAAAA3QAAAAAAAADdAAAAAAAAANUAAAAAAAAA3QAAAAAAAADVAAAAAAAAANUAAAAAAAAAwQAAAAAAAADVAAAAAAAAAN0AAAAAAAAA3QAAAAAAAADdAAAAAAACAQUAAAAAAAABDQAAAAAAAAENAAAAAAAAAREAAAAAAAIBSQAAAAAAAAABAAAAAAAAAGEAAAAAAAAAAQAAAAAAAAABAAAAAAAAAAAAAAAAAAAAAQAAAAAAAAAhAAAAAAAAAAEAAAAAAAAAAQAAAAAAAAABAAAAAAAAAEEAAAAAAAAAAQAAAAAAAAABAAAAAAAAACEAAAAAAAAAQQAAAAAAAABBAAAAAAAAACEAAAAAAAAAQQAAAAAAAAAhAAAAAAAAAEEAAAAAAAAAAQAAAAAAAAABAAAAAAAAAEEAAAAAAAADwPwAAAAAAABBAAAAAAAAAAEAAAAAAAAAAQAAAAAAAAABAAAAAAAAAFEAAAAAAAAAAQAAAAAAAABBAAAAAAAAAAEAAAAAAAAAQQAAAAAAAAABAAAAAAAAAAEAAAAAAAAAQQAAAAAAAAABAAAAAAAAAAEAAAAAAAAAAQAAAAAAAAABAAAAAAAAAAEAAAAAAAAAAQAAAAAAAABBAAAAAAAAAEEAAAAAAAADwPwAAAAAAABBAAAAAAAAAHEAAAAAAAAAAQAAAAAAAAABAAAAAAAAAEEAAAAAAAAAQQAAAAAAAAABAAAAAAAAAEEAAAAAAAAAAQAAAAAAAAABAAAAAAAAAEEAAAAAAAAAUQAAAAAAAABBAAAAAAAAALEAAAAAAAAAIQAAAAAAAABBAAAAAAAAAEEAAAAAAAAAQQAAAAAAAABxAAAAAAAAAEEAAAAAAAAAAQAAAAAAAABBAAAAAAAAAEEAAAAAAAAAQQAAAAAAAAABAAAAAAAAAAEAAAAAAAAAQQAAAAAAAAABAAAAAAAAAAEAAAAAAAAAAQAAAAAAAABBAAAAAAAAACEAAAAAAAAAiQAAAAAAAACZAAAAAAAAAAEAAAAAAAAAAQAAAAAAAAABAAAAAAAAAAEAAAAAAAAAAQAAAAAAAAABAAAAAAAAAAEAAAAAAAAAAQAAAAAAAAABAAAAAAAAAAEAAAAAAAAAAQAAAAAAAAABAAAAAAAAAJkAAAAAAAAAAQAAAAAAAACJAAAAAAAAAFEAAAAAAAAAIQAAAAAAAAAhAAAAAAAAAEEAAAAAAAAAAQAAAAAAAAChAAAAAAAAAAEAAAAAAAAAQQAAAAAAAACJAAAAAAAAALEAAAAAAAAAQQAAAAAAAABBAAAAAAAAAAEAAAAAAAAAAQAAAAAAAABBAAAAAAAAAEEAAAAAAAAAQQAAAAAAAABBAAAAAAAAAEEAAAAAAAAAQQAAAAAAAABBAAAAAAAAAEEAAAAAAAAAQQAAAAAAAABBAAAAAAAAAEEAAAAAAAAAQQAAAAAAAABBAAAAAAAAAEEAAAAAAAAAQQAAAAAAAACZAAAAAAAAAKkAAAAAAAAAcQAAAAAAAACJAAAAAAAAAJkAAAAAAAAAAQAAAAAAAABxAAAAAAAAAIEAAAAAAAAAAQAAAAAAAABhAAAAAAAAAKEAAAAAAAAAqQAAAAAAAACZAAAAAAAAAEEAAAAAAAAAsQAAAAAAAACZAAAAAAAAAHEAAAAAAAAAmQAAAAAAAABxAAAAAAAAAJkAAAAAAAAAkQAAAAAAAACxAAAAAAAAALEAAAAAAAAAsQAAAAAAAAABAAAAAAAAAJkAAAAAAAAAsQAAAAAAAACJAAAAAAAAAMEAAAAAAAAAsQAAAAAAAABBAAAAAAAAALEAAAAAAAAAwQAAAAAAAABBAAAAAAAAALEAAAAAAAAAmQAAAAAAAACxAAAAAAAAALkAAAAAAAAAwQAAAAAAAADBAAAAAAAAAJkAAAAAAAAAmQAAAAAAAACZAAAAAAAAAJkAAAAAAAAAmQAAAAAAAACZAAAAAAAAAAEAAAAAAAAAAQAAAAAAAADBAAAAAAAAAMEAAAAAAAAAwQAAAAAAAADBAAAAAAAAAMEAAAAAAAAAsQAAAAAAAADdAAAAAAAAAJkAAAAAAAAAsQAAAAAAAADRAAAAAAAAAEEAAAAAAAAAmQAAAAAAAACZAAAAAAAAAMEAAAAAAAAA1QAAAAAAAACpAAAAAAAAAMEAAAAAAAAAsQAAAAAAAACxAAAAAAAAALEAAAAAAAAAsQAAAAAAAACxAAAAAAAAALEAAAAAAAAAsQAAAAAAAADFAAAAAAAAALEAAAAAAAAAsQAAAAAAAADBAAAAAAAAANUAAAAAAAAAwQAAAAAAAADBAAAAAAAAAMEAAAAAAAAAwQAAAAAAAADBAAAAAAAAAMEAAAAAAAAAsQAAAAAAAACZAAAAAAAAAJkAAAAAAAAA1QAAAAAAAADdAAAAAAAAAN0AAAAAAAAAsQAAAAAAAADBAAAAAAAAAMEAAAAAAAAAwQAAAAAAAADVAAAAAAAAANUAAAAAAAAA1QAAAAAAAADdAAAAAAAAANUAAAAAAAAA3QAAAAAAAADVAAAAAAAAAN0AAAAAAAAA1QAAAAAAAADVAAAAAAAAAOUAAAAAAAAA1QAAAAAAAADVAAAAAAAAAN0AAAAAAAAA1QAAAAAAAACxAAAAAAAAAN0AAAAAAAAA3QAAAAAAAADdAAAAAAAAAN0AAAAAAAAA3QAAAAAAAADdAAAAAAAAAN0AAAAAAAAA3QAAAAAAAADdAAAAAAAAAN0AAAAAAAAAwQAAAAAAAADdAAAAAAAAANUAAAAAAAAA3QAAAAAAAgENAAAAAAAAAUkA="
         },
         "type": "pie"
        }
       ],
       "layout": {
        "template": {
         "data": {
          "histogram2dcontour": [
           {
            "type": "histogram2dcontour",
            "colorbar": {
             "outlinewidth": 0,
             "ticks": ""
            },
            "colorscale": [
             [
              0.0,
              "#0d0887"
             ],
             [
              0.1111111111111111,
              "#46039f"
             ],
             [
              0.2222222222222222,
              "#7201a8"
             ],
             [
              0.3333333333333333,
              "#9c179e"
             ],
             [
              0.4444444444444444,
              "#bd3786"
             ],
             [
              0.5555555555555556,
              "#d8576b"
             ],
             [
              0.6666666666666666,
              "#ed7953"
             ],
             [
              0.7777777777777778,
              "#fb9f3a"
             ],
             [
              0.8888888888888888,
              "#fdca26"
             ],
             [
              1.0,
              "#f0f921"
             ]
            ]
           }
          ],
          "choropleth": [
           {
            "type": "choropleth",
            "colorbar": {
             "outlinewidth": 0,
             "ticks": ""
            }
           }
          ],
          "histogram2d": [
           {
            "type": "histogram2d",
            "colorbar": {
             "outlinewidth": 0,
             "ticks": ""
            },
            "colorscale": [
             [
              0.0,
              "#0d0887"
             ],
             [
              0.1111111111111111,
              "#46039f"
             ],
             [
              0.2222222222222222,
              "#7201a8"
             ],
             [
              0.3333333333333333,
              "#9c179e"
             ],
             [
              0.4444444444444444,
              "#bd3786"
             ],
             [
              0.5555555555555556,
              "#d8576b"
             ],
             [
              0.6666666666666666,
              "#ed7953"
             ],
             [
              0.7777777777777778,
              "#fb9f3a"
             ],
             [
              0.8888888888888888,
              "#fdca26"
             ],
             [
              1.0,
              "#f0f921"
             ]
            ]
           }
          ],
          "heatmap": [
           {
            "type": "heatmap",
            "colorbar": {
             "outlinewidth": 0,
             "ticks": ""
            },
            "colorscale": [
             [
              0.0,
              "#0d0887"
             ],
             [
              0.1111111111111111,
              "#46039f"
             ],
             [
              0.2222222222222222,
              "#7201a8"
             ],
             [
              0.3333333333333333,
              "#9c179e"
             ],
             [
              0.4444444444444444,
              "#bd3786"
             ],
             [
              0.5555555555555556,
              "#d8576b"
             ],
             [
              0.6666666666666666,
              "#ed7953"
             ],
             [
              0.7777777777777778,
              "#fb9f3a"
             ],
             [
              0.8888888888888888,
              "#fdca26"
             ],
             [
              1.0,
              "#f0f921"
             ]
            ]
           }
          ],
          "contourcarpet": [
           {
            "type": "contourcarpet",
            "colorbar": {
             "outlinewidth": 0,
             "ticks": ""
            }
           }
          ],
          "contour": [
           {
            "type": "contour",
            "colorbar": {
             "outlinewidth": 0,
             "ticks": ""
            },
            "colorscale": [
             [
              0.0,
              "#0d0887"
             ],
             [
              0.1111111111111111,
              "#46039f"
             ],
             [
              0.2222222222222222,
              "#7201a8"
             ],
             [
              0.3333333333333333,
              "#9c179e"
             ],
             [
              0.4444444444444444,
              "#bd3786"
             ],
             [
              0.5555555555555556,
              "#d8576b"
             ],
             [
              0.6666666666666666,
              "#ed7953"
             ],
             [
              0.7777777777777778,
              "#fb9f3a"
             ],
             [
              0.8888888888888888,
              "#fdca26"
             ],
             [
              1.0,
              "#f0f921"
             ]
            ]
           }
          ],
          "surface": [
           {
            "type": "surface",
            "colorbar": {
             "outlinewidth": 0,
             "ticks": ""
            },
            "colorscale": [
             [
              0.0,
              "#0d0887"
             ],
             [
              0.1111111111111111,
              "#46039f"
             ],
             [
              0.2222222222222222,
              "#7201a8"
             ],
             [
              0.3333333333333333,
              "#9c179e"
             ],
             [
              0.4444444444444444,
              "#bd3786"
             ],
             [
              0.5555555555555556,
              "#d8576b"
             ],
             [
              0.6666666666666666,
              "#ed7953"
             ],
             [
              0.7777777777777778,
              "#fb9f3a"
             ],
             [
              0.8888888888888888,
              "#fdca26"
             ],
             [
              1.0,
              "#f0f921"
             ]
            ]
           }
          ],
          "mesh3d": [
           {
            "type": "mesh3d",
            "colorbar": {
             "outlinewidth": 0,
             "ticks": ""
            }
           }
          ],
          "scatter": [
           {
            "fillpattern": {
             "fillmode": "overlay",
             "size": 10,
             "solidity": 0.2
            },
            "type": "scatter"
           }
          ],
          "parcoords": [
           {
            "type": "parcoords",
            "line": {
             "colorbar": {
              "outlinewidth": 0,
              "ticks": ""
             }
            }
           }
          ],
          "scatterpolargl": [
           {
            "type": "scatterpolargl",
            "marker": {
             "colorbar": {
              "outlinewidth": 0,
              "ticks": ""
             }
            }
           }
          ],
          "bar": [
           {
            "error_x": {
             "color": "#2a3f5f"
            },
            "error_y": {
             "color": "#2a3f5f"
            },
            "marker": {
             "line": {
              "color": "#E5ECF6",
              "width": 0.5
             },
             "pattern": {
              "fillmode": "overlay",
              "size": 10,
              "solidity": 0.2
             }
            },
            "type": "bar"
           }
          ],
          "scattergeo": [
           {
            "type": "scattergeo",
            "marker": {
             "colorbar": {
              "outlinewidth": 0,
              "ticks": ""
             }
            }
           }
          ],
          "scatterpolar": [
           {
            "type": "scatterpolar",
            "marker": {
             "colorbar": {
              "outlinewidth": 0,
              "ticks": ""
             }
            }
           }
          ],
          "histogram": [
           {
            "marker": {
             "pattern": {
              "fillmode": "overlay",
              "size": 10,
              "solidity": 0.2
             }
            },
            "type": "histogram"
           }
          ],
          "scattergl": [
           {
            "type": "scattergl",
            "marker": {
             "colorbar": {
              "outlinewidth": 0,
              "ticks": ""
             }
            }
           }
          ],
          "scatter3d": [
           {
            "type": "scatter3d",
            "line": {
             "colorbar": {
              "outlinewidth": 0,
              "ticks": ""
             }
            },
            "marker": {
             "colorbar": {
              "outlinewidth": 0,
              "ticks": ""
             }
            }
           }
          ],
          "scattermap": [
           {
            "type": "scattermap",
            "marker": {
             "colorbar": {
              "outlinewidth": 0,
              "ticks": ""
             }
            }
           }
          ],
          "scattermapbox": [
           {
            "type": "scattermapbox",
            "marker": {
             "colorbar": {
              "outlinewidth": 0,
              "ticks": ""
             }
            }
           }
          ],
          "scatterternary": [
           {
            "type": "scatterternary",
            "marker": {
             "colorbar": {
              "outlinewidth": 0,
              "ticks": ""
             }
            }
           }
          ],
          "scattercarpet": [
           {
            "type": "scattercarpet",
            "marker": {
             "colorbar": {
              "outlinewidth": 0,
              "ticks": ""
             }
            }
           }
          ],
          "carpet": [
           {
            "aaxis": {
             "endlinecolor": "#2a3f5f",
             "gridcolor": "white",
             "linecolor": "white",
             "minorgridcolor": "white",
             "startlinecolor": "#2a3f5f"
            },
            "baxis": {
             "endlinecolor": "#2a3f5f",
             "gridcolor": "white",
             "linecolor": "white",
             "minorgridcolor": "white",
             "startlinecolor": "#2a3f5f"
            },
            "type": "carpet"
           }
          ],
          "table": [
           {
            "cells": {
             "fill": {
              "color": "#EBF0F8"
             },
             "line": {
              "color": "white"
             }
            },
            "header": {
             "fill": {
              "color": "#C8D4E3"
             },
             "line": {
              "color": "white"
             }
            },
            "type": "table"
           }
          ],
          "barpolar": [
           {
            "marker": {
             "line": {
              "color": "#E5ECF6",
              "width": 0.5
             },
             "pattern": {
              "fillmode": "overlay",
              "size": 10,
              "solidity": 0.2
             }
            },
            "type": "barpolar"
           }
          ],
          "pie": [
           {
            "automargin": true,
            "type": "pie"
           }
          ]
         },
         "layout": {
          "autotypenumbers": "strict",
          "colorway": [
           "#636efa",
           "#EF553B",
           "#00cc96",
           "#ab63fa",
           "#FFA15A",
           "#19d3f3",
           "#FF6692",
           "#B6E880",
           "#FF97FF",
           "#FECB52"
          ],
          "font": {
           "color": "#2a3f5f"
          },
          "hovermode": "closest",
          "hoverlabel": {
           "align": "left"
          },
          "paper_bgcolor": "white",
          "plot_bgcolor": "#E5ECF6",
          "polar": {
           "bgcolor": "#E5ECF6",
           "angularaxis": {
            "gridcolor": "white",
            "linecolor": "white",
            "ticks": ""
           },
           "radialaxis": {
            "gridcolor": "white",
            "linecolor": "white",
            "ticks": ""
           }
          },
          "ternary": {
           "bgcolor": "#E5ECF6",
           "aaxis": {
            "gridcolor": "white",
            "linecolor": "white",
            "ticks": ""
           },
           "baxis": {
            "gridcolor": "white",
            "linecolor": "white",
            "ticks": ""
           },
           "caxis": {
            "gridcolor": "white",
            "linecolor": "white",
            "ticks": ""
           }
          },
          "coloraxis": {
           "colorbar": {
            "outlinewidth": 0,
            "ticks": ""
           }
          },
          "colorscale": {
           "sequential": [
            [
             0.0,
             "#0d0887"
            ],
            [
             0.1111111111111111,
             "#46039f"
            ],
            [
             0.2222222222222222,
             "#7201a8"
            ],
            [
             0.3333333333333333,
             "#9c179e"
            ],
            [
             0.4444444444444444,
             "#bd3786"
            ],
            [
             0.5555555555555556,
             "#d8576b"
            ],
            [
             0.6666666666666666,
             "#ed7953"
            ],
            [
             0.7777777777777778,
             "#fb9f3a"
            ],
            [
             0.8888888888888888,
             "#fdca26"
            ],
            [
             1.0,
             "#f0f921"
            ]
           ],
           "sequentialminus": [
            [
             0.0,
             "#0d0887"
            ],
            [
             0.1111111111111111,
             "#46039f"
            ],
            [
             0.2222222222222222,
             "#7201a8"
            ],
            [
             0.3333333333333333,
             "#9c179e"
            ],
            [
             0.4444444444444444,
             "#bd3786"
            ],
            [
             0.5555555555555556,
             "#d8576b"
            ],
            [
             0.6666666666666666,
             "#ed7953"
            ],
            [
             0.7777777777777778,
             "#fb9f3a"
            ],
            [
             0.8888888888888888,
             "#fdca26"
            ],
            [
             1.0,
             "#f0f921"
            ]
           ],
           "diverging": [
            [
             0,
             "#8e0152"
            ],
            [
             0.1,
             "#c51b7d"
            ],
            [
             0.2,
             "#de77ae"
            ],
            [
             0.3,
             "#f1b6da"
            ],
            [
             0.4,
             "#fde0ef"
            ],
            [
             0.5,
             "#f7f7f7"
            ],
            [
             0.6,
             "#e6f5d0"
            ],
            [
             0.7,
             "#b8e186"
            ],
            [
             0.8,
             "#7fbc41"
            ],
            [
             0.9,
             "#4d9221"
            ],
            [
             1,
             "#276419"
            ]
           ]
          },
          "xaxis": {
           "gridcolor": "white",
           "linecolor": "white",
           "ticks": "",
           "title": {
            "standoff": 15
           },
           "zerolinecolor": "white",
           "automargin": true,
           "zerolinewidth": 2
          },
          "yaxis": {
           "gridcolor": "white",
           "linecolor": "white",
           "ticks": "",
           "title": {
            "standoff": 15
           },
           "zerolinecolor": "white",
           "automargin": true,
           "zerolinewidth": 2
          },
          "scene": {
           "xaxis": {
            "backgroundcolor": "#E5ECF6",
            "gridcolor": "white",
            "linecolor": "white",
            "showbackground": true,
            "ticks": "",
            "zerolinecolor": "white",
            "gridwidth": 2
           },
           "yaxis": {
            "backgroundcolor": "#E5ECF6",
            "gridcolor": "white",
            "linecolor": "white",
            "showbackground": true,
            "ticks": "",
            "zerolinecolor": "white",
            "gridwidth": 2
           },
           "zaxis": {
            "backgroundcolor": "#E5ECF6",
            "gridcolor": "white",
            "linecolor": "white",
            "showbackground": true,
            "ticks": "",
            "zerolinecolor": "white",
            "gridwidth": 2
           }
          },
          "shapedefaults": {
           "line": {
            "color": "#2a3f5f"
           }
          },
          "annotationdefaults": {
           "arrowcolor": "#2a3f5f",
           "arrowhead": 0,
           "arrowwidth": 1
          },
          "geo": {
           "bgcolor": "white",
           "landcolor": "#E5ECF6",
           "subunitcolor": "white",
           "showland": true,
           "showlakes": true,
           "lakecolor": "white"
          },
          "title": {
           "x": 0.05
          },
          "mapbox": {
           "style": "light"
          }
         }
        },
        "legend": {
         "tracegroupgap": 0
        },
        "title": {
         "text": "% of classes"
        }
       },
       "config": {
        "plotlyServerURL": "https://plot.ly"
       }
      }
     },
     "metadata": {},
     "output_type": "display_data",
     "jetTransient": {
      "display_id": null
     }
    },
    {
     "data": {
      "application/vnd.plotly.v1+json": {
       "data": [
        {
         "bingroup": "x",
         "hovertemplate": "class=1<br>months_since_last_donation=%{x}<br>count=%{y}<extra></extra>",
         "legendgroup": "1",
         "marker": {
          "color": "#636efa",
          "pattern": {
           "shape": ""
          }
         },
         "name": "1",
         "orientation": "v",
         "showlegend": true,
         "x": {
          "dtype": "f8",
          "bdata": "AAAAAAAAAEAAAAAAAAAAAAAAAAAAAPA/AAAAAAAAAEAAAAAAAAAAQAAAAAAAAABAAAAAAAAAFEAAAAAAAAAAQAAAAAAAAABAAAAAAAAAAEAAAAAAAAAAQAAAAAAAAABAAAAAAAAAAEAAAAAAAAAAQAAAAAAAAABAAAAAAAAAAEAAAAAAAAAAQAAAAAAAABBAAAAAAAAAEEAAAAAAAAAQQAAAAAAAABBAAAAAAAAAEEAAAAAAAAAAQAAAAAAAAABAAAAAAAAAEEAAAAAAAAAAQAAAAAAAABBAAAAAAAAAAEAAAAAAAAAAQAAAAAAAABBAAAAAAAAAEEAAAAAAAAAAQAAAAAAAABBAAAAAAAAAEEAAAAAAAAAQQAAAAAAAAABAAAAAAAAAAEAAAAAAAAAQQAAAAAAAAABAAAAAAAAAAEAAAAAAAAAQQAAAAAAAAABAAAAAAAAAAEAAAAAAAAAAQAAAAAAAABBAAAAAAAAAAEAAAAAAAAAAQAAAAAAAABBAAAAAAAAAEEAAAAAAAAAQQAAAAAAAABRAAAAAAAAAEEAAAAAAAAAAQAAAAAAAABBAAAAAAAAAEEAAAAAAAAAAQAAAAAAAAABAAAAAAAAAAEAAAAAAAAAQQAAAAAAAAABAAAAAAAAAAEAAAAAAAAAQQAAAAAAAABBAAAAAAAAAAEAAAAAAAAAQQAAAAAAAABBAAAAAAAAAAEAAAAAAAAAAQAAAAAAAAABAAAAAAAAAAEAAAAAAAAAAQAAAAAAAAABAAAAAAAAAJkAAAAAAAAAQQAAAAAAAABBAAAAAAAAAEEAAAAAAAAAQQAAAAAAAAABAAAAAAAAAIkAAAAAAAAAYQAAAAAAAABBAAAAAAAAAEEAAAAAAAAAQQAAAAAAAABBAAAAAAAAAEEAAAAAAAAAQQAAAAAAAACBAAAAAAAAAEEAAAAAAAAAmQAAAAAAAACZAAAAAAAAAJkAAAAAAAAAmQAAAAAAAAABAAAAAAAAAEEAAAAAAAAAsQAAAAAAAACJAAAAAAAAALEAAAAAAAAAsQAAAAAAAACxAAAAAAAAAJkAAAAAAAAAmQAAAAAAAACJAAAAAAAAALEAAAAAAAAAsQAAAAAAAADBAAAAAAAAAJkAAAAAAAAAwQAAAAAAAACZAAAAAAAAALEAAAAAAAAAwQAAAAAAAABBAAAAAAAAAJkAAAAAAAAA1QAAAAAAAADVAAAAAAAAAMEAAAAAAAAA1QAAAAAAAADZAAAAAAAAAOkAAAAAAAAAAQAAAAAAAABhAAAAAAAAAAEAAAAAAAAAAAAAAAAAAAABAAAAAAAAACEAAAAAAAAAAQAAAAAAAAABAAAAAAAAAEEAAAAAAAAAQQAAAAAAAAAhAAAAAAAAAEEAAAAAAAAAIQAAAAAAAABBAAAAAAAAAAEAAAAAAAAAAQAAAAAAAABBAAAAAAAAA8D8AAAAAAAAAQAAAAAAAAABAAAAAAAAAEEAAAAAAAAAAQAAAAAAAABBAAAAAAAAAAEAAAAAAAAAAQAAAAAAAAABAAAAAAAAAAEAAAAAAAAAAQAAAAAAAABBAAAAAAAAAEEAAAAAAAAAQQAAAAAAAAABAAAAAAAAAEEAAAAAAAAAAQAAAAAAAABBAAAAAAAAAEEAAAAAAAAAQQAAAAAAAABBAAAAAAAAAAEAAAAAAAAAAQAAAAAAAABBAAAAAAAAACEAAAAAAAAAAQAAAAAAAAABAAAAAAAAAIkAAAAAAAAAIQAAAAAAAABBAAAAAAAAAEEAAAAAAAAAQQAAAAAAAACpAAAAAAAAAHEAAAAAAAAAmQAAAAAAAACxAAAAAAAAAJkAAAAAAAAAAQAAAAAAAADRAAAAAAAAAMUAAAAAAAAAmQAAAAAAAACxAAAAAAAAAN0A="
         },
         "xaxis": "x",
         "yaxis": "y",
         "type": "histogram"
        },
        {
         "bingroup": "x",
         "hovertemplate": "class=0<br>months_since_last_donation=%{x}<br>count=%{y}<extra></extra>",
         "legendgroup": "0",
         "marker": {
          "color": "#EF553B",
          "pattern": {
           "shape": ""
          }
         },
         "name": "0",
         "orientation": "v",
         "showlegend": true,
         "x": {
          "dtype": "f8",
          "bdata": "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"
         },
         "xaxis": "x",
         "yaxis": "y",
         "type": "histogram"
        }
       ],
       "layout": {
        "template": {
         "data": {
          "histogram2dcontour": [
           {
            "type": "histogram2dcontour",
            "colorbar": {
             "outlinewidth": 0,
             "ticks": ""
            },
            "colorscale": [
             [
              0.0,
              "#0d0887"
             ],
             [
              0.1111111111111111,
              "#46039f"
             ],
             [
              0.2222222222222222,
              "#7201a8"
             ],
             [
              0.3333333333333333,
              "#9c179e"
             ],
             [
              0.4444444444444444,
              "#bd3786"
             ],
             [
              0.5555555555555556,
              "#d8576b"
             ],
             [
              0.6666666666666666,
              "#ed7953"
             ],
             [
              0.7777777777777778,
              "#fb9f3a"
             ],
             [
              0.8888888888888888,
              "#fdca26"
             ],
             [
              1.0,
              "#f0f921"
             ]
            ]
           }
          ],
          "choropleth": [
           {
            "type": "choropleth",
            "colorbar": {
             "outlinewidth": 0,
             "ticks": ""
            }
           }
          ],
          "histogram2d": [
           {
            "type": "histogram2d",
            "colorbar": {
             "outlinewidth": 0,
             "ticks": ""
            },
            "colorscale": [
             [
              0.0,
              "#0d0887"
             ],
             [
              0.1111111111111111,
              "#46039f"
             ],
             [
              0.2222222222222222,
              "#7201a8"
             ],
             [
              0.3333333333333333,
              "#9c179e"
             ],
             [
              0.4444444444444444,
              "#bd3786"
             ],
             [
              0.5555555555555556,
              "#d8576b"
             ],
             [
              0.6666666666666666,
              "#ed7953"
             ],
             [
              0.7777777777777778,
              "#fb9f3a"
             ],
             [
              0.8888888888888888,
              "#fdca26"
             ],
             [
              1.0,
              "#f0f921"
             ]
            ]
           }
          ],
          "heatmap": [
           {
            "type": "heatmap",
            "colorbar": {
             "outlinewidth": 0,
             "ticks": ""
            },
            "colorscale": [
             [
              0.0,
              "#0d0887"
             ],
             [
              0.1111111111111111,
              "#46039f"
             ],
             [
              0.2222222222222222,
              "#7201a8"
             ],
             [
              0.3333333333333333,
              "#9c179e"
             ],
             [
              0.4444444444444444,
              "#bd3786"
             ],
             [
              0.5555555555555556,
              "#d8576b"
             ],
             [
              0.6666666666666666,
              "#ed7953"
             ],
             [
              0.7777777777777778,
              "#fb9f3a"
             ],
             [
              0.8888888888888888,
              "#fdca26"
             ],
             [
              1.0,
              "#f0f921"
             ]
            ]
           }
          ],
          "contourcarpet": [
           {
            "type": "contourcarpet",
            "colorbar": {
             "outlinewidth": 0,
             "ticks": ""
            }
           }
          ],
          "contour": [
           {
            "type": "contour",
            "colorbar": {
             "outlinewidth": 0,
             "ticks": ""
            },
            "colorscale": [
             [
              0.0,
              "#0d0887"
             ],
             [
              0.1111111111111111,
              "#46039f"
             ],
             [
              0.2222222222222222,
              "#7201a8"
             ],
             [
              0.3333333333333333,
              "#9c179e"
             ],
             [
              0.4444444444444444,
              "#bd3786"
             ],
             [
              0.5555555555555556,
              "#d8576b"
             ],
             [
              0.6666666666666666,
              "#ed7953"
             ],
             [
              0.7777777777777778,
              "#fb9f3a"
             ],
             [
              0.8888888888888888,
              "#fdca26"
             ],
             [
              1.0,
              "#f0f921"
             ]
            ]
           }
          ],
          "surface": [
           {
            "type": "surface",
            "colorbar": {
             "outlinewidth": 0,
             "ticks": ""
            },
            "colorscale": [
             [
              0.0,
              "#0d0887"
             ],
             [
              0.1111111111111111,
              "#46039f"
             ],
             [
              0.2222222222222222,
              "#7201a8"
             ],
             [
              0.3333333333333333,
              "#9c179e"
             ],
             [
              0.4444444444444444,
              "#bd3786"
             ],
             [
              0.5555555555555556,
              "#d8576b"
             ],
             [
              0.6666666666666666,
              "#ed7953"
             ],
             [
              0.7777777777777778,
              "#fb9f3a"
             ],
             [
              0.8888888888888888,
              "#fdca26"
             ],
             [
              1.0,
              "#f0f921"
             ]
            ]
           }
          ],
          "mesh3d": [
           {
            "type": "mesh3d",
            "colorbar": {
             "outlinewidth": 0,
             "ticks": ""
            }
           }
          ],
          "scatter": [
           {
            "fillpattern": {
             "fillmode": "overlay",
             "size": 10,
             "solidity": 0.2
            },
            "type": "scatter"
           }
          ],
          "parcoords": [
           {
            "type": "parcoords",
            "line": {
             "colorbar": {
              "outlinewidth": 0,
              "ticks": ""
             }
            }
           }
          ],
          "scatterpolargl": [
           {
            "type": "scatterpolargl",
            "marker": {
             "colorbar": {
              "outlinewidth": 0,
              "ticks": ""
             }
            }
           }
          ],
          "bar": [
           {
            "error_x": {
             "color": "#2a3f5f"
            },
            "error_y": {
             "color": "#2a3f5f"
            },
            "marker": {
             "line": {
              "color": "#E5ECF6",
              "width": 0.5
             },
             "pattern": {
              "fillmode": "overlay",
              "size": 10,
              "solidity": 0.2
             }
            },
            "type": "bar"
           }
          ],
          "scattergeo": [
           {
            "type": "scattergeo",
            "marker": {
             "colorbar": {
              "outlinewidth": 0,
              "ticks": ""
             }
            }
           }
          ],
          "scatterpolar": [
           {
            "type": "scatterpolar",
            "marker": {
             "colorbar": {
              "outlinewidth": 0,
              "ticks": ""
             }
            }
           }
          ],
          "histogram": [
           {
            "marker": {
             "pattern": {
              "fillmode": "overlay",
              "size": 10,
              "solidity": 0.2
             }
            },
            "type": "histogram"
           }
          ],
          "scattergl": [
           {
            "type": "scattergl",
            "marker": {
             "colorbar": {
              "outlinewidth": 0,
              "ticks": ""
             }
            }
           }
          ],
          "scatter3d": [
           {
            "type": "scatter3d",
            "line": {
             "colorbar": {
              "outlinewidth": 0,
              "ticks": ""
             }
            },
            "marker": {
             "colorbar": {
              "outlinewidth": 0,
              "ticks": ""
             }
            }
           }
          ],
          "scattermap": [
           {
            "type": "scattermap",
            "marker": {
             "colorbar": {
              "outlinewidth": 0,
              "ticks": ""
             }
            }
           }
          ],
          "scattermapbox": [
           {
            "type": "scattermapbox",
            "marker": {
             "colorbar": {
              "outlinewidth": 0,
              "ticks": ""
             }
            }
           }
          ],
          "scatterternary": [
           {
            "type": "scatterternary",
            "marker": {
             "colorbar": {
              "outlinewidth": 0,
              "ticks": ""
             }
            }
           }
          ],
          "scattercarpet": [
           {
            "type": "scattercarpet",
            "marker": {
             "colorbar": {
              "outlinewidth": 0,
              "ticks": ""
             }
            }
           }
          ],
          "carpet": [
           {
            "aaxis": {
             "endlinecolor": "#2a3f5f",
             "gridcolor": "white",
             "linecolor": "white",
             "minorgridcolor": "white",
             "startlinecolor": "#2a3f5f"
            },
            "baxis": {
             "endlinecolor": "#2a3f5f",
             "gridcolor": "white",
             "linecolor": "white",
             "minorgridcolor": "white",
             "startlinecolor": "#2a3f5f"
            },
            "type": "carpet"
           }
          ],
          "table": [
           {
            "cells": {
             "fill": {
              "color": "#EBF0F8"
             },
             "line": {
              "color": "white"
             }
            },
            "header": {
             "fill": {
              "color": "#C8D4E3"
             },
             "line": {
              "color": "white"
             }
            },
            "type": "table"
           }
          ],
          "barpolar": [
           {
            "marker": {
             "line": {
              "color": "#E5ECF6",
              "width": 0.5
             },
             "pattern": {
              "fillmode": "overlay",
              "size": 10,
              "solidity": 0.2
             }
            },
            "type": "barpolar"
           }
          ],
          "pie": [
           {
            "automargin": true,
            "type": "pie"
           }
          ]
         },
         "layout": {
          "autotypenumbers": "strict",
          "colorway": [
           "#636efa",
           "#EF553B",
           "#00cc96",
           "#ab63fa",
           "#FFA15A",
           "#19d3f3",
           "#FF6692",
           "#B6E880",
           "#FF97FF",
           "#FECB52"
          ],
          "font": {
           "color": "#2a3f5f"
          },
          "hovermode": "closest",
          "hoverlabel": {
           "align": "left"
          },
          "paper_bgcolor": "white",
          "plot_bgcolor": "#E5ECF6",
          "polar": {
           "bgcolor": "#E5ECF6",
           "angularaxis": {
            "gridcolor": "white",
            "linecolor": "white",
            "ticks": ""
           },
           "radialaxis": {
            "gridcolor": "white",
            "linecolor": "white",
            "ticks": ""
           }
          },
          "ternary": {
           "bgcolor": "#E5ECF6",
           "aaxis": {
            "gridcolor": "white",
            "linecolor": "white",
            "ticks": ""
           },
           "baxis": {
            "gridcolor": "white",
            "linecolor": "white",
            "ticks": ""
           },
           "caxis": {
            "gridcolor": "white",
            "linecolor": "white",
            "ticks": ""
           }
          },
          "coloraxis": {
           "colorbar": {
            "outlinewidth": 0,
            "ticks": ""
           }
          },
          "colorscale": {
           "sequential": [
            [
             0.0,
             "#0d0887"
            ],
            [
             0.1111111111111111,
             "#46039f"
            ],
            [
             0.2222222222222222,
             "#7201a8"
            ],
            [
             0.3333333333333333,
             "#9c179e"
            ],
            [
             0.4444444444444444,
             "#bd3786"
            ],
            [
             0.5555555555555556,
             "#d8576b"
            ],
            [
             0.6666666666666666,
             "#ed7953"
            ],
            [
             0.7777777777777778,
             "#fb9f3a"
            ],
            [
             0.8888888888888888,
             "#fdca26"
            ],
            [
             1.0,
             "#f0f921"
            ]
           ],
           "sequentialminus": [
            [
             0.0,
             "#0d0887"
            ],
            [
             0.1111111111111111,
             "#46039f"
            ],
            [
             0.2222222222222222,
             "#7201a8"
            ],
            [
             0.3333333333333333,
             "#9c179e"
            ],
            [
             0.4444444444444444,
             "#bd3786"
            ],
            [
             0.5555555555555556,
             "#d8576b"
            ],
            [
             0.6666666666666666,
             "#ed7953"
            ],
            [
             0.7777777777777778,
             "#fb9f3a"
            ],
            [
             0.8888888888888888,
             "#fdca26"
            ],
            [
             1.0,
             "#f0f921"
            ]
           ],
           "diverging": [
            [
             0,
             "#8e0152"
            ],
            [
             0.1,
             "#c51b7d"
            ],
            [
             0.2,
             "#de77ae"
            ],
            [
             0.3,
             "#f1b6da"
            ],
            [
             0.4,
             "#fde0ef"
            ],
            [
             0.5,
             "#f7f7f7"
            ],
            [
             0.6,
             "#e6f5d0"
            ],
            [
             0.7,
             "#b8e186"
            ],
            [
             0.8,
             "#7fbc41"
            ],
            [
             0.9,
             "#4d9221"
            ],
            [
             1,
             "#276419"
            ]
           ]
          },
          "xaxis": {
           "gridcolor": "white",
           "linecolor": "white",
           "ticks": "",
           "title": {
            "standoff": 15
           },
           "zerolinecolor": "white",
           "automargin": true,
           "zerolinewidth": 2
          },
          "yaxis": {
           "gridcolor": "white",
           "linecolor": "white",
           "ticks": "",
           "title": {
            "standoff": 15
           },
           "zerolinecolor": "white",
           "automargin": true,
           "zerolinewidth": 2
          },
          "scene": {
           "xaxis": {
            "backgroundcolor": "#E5ECF6",
            "gridcolor": "white",
            "linecolor": "white",
            "showbackground": true,
            "ticks": "",
            "zerolinecolor": "white",
            "gridwidth": 2
           },
           "yaxis": {
            "backgroundcolor": "#E5ECF6",
            "gridcolor": "white",
            "linecolor": "white",
            "showbackground": true,
            "ticks": "",
            "zerolinecolor": "white",
            "gridwidth": 2
           },
           "zaxis": {
            "backgroundcolor": "#E5ECF6",
            "gridcolor": "white",
            "linecolor": "white",
            "showbackground": true,
            "ticks": "",
            "zerolinecolor": "white",
            "gridwidth": 2
           }
          },
          "shapedefaults": {
           "line": {
            "color": "#2a3f5f"
           }
          },
          "annotationdefaults": {
           "arrowcolor": "#2a3f5f",
           "arrowhead": 0,
           "arrowwidth": 1
          },
          "geo": {
           "bgcolor": "white",
           "landcolor": "#E5ECF6",
           "subunitcolor": "white",
           "showland": true,
           "showlakes": true,
           "lakecolor": "white"
          },
          "title": {
           "x": 0.05
          },
          "mapbox": {
           "style": "light"
          }
         }
        },
        "xaxis": {
         "anchor": "y",
         "domain": [
          0.0,
          1.0
         ],
         "title": {
          "text": "months_since_last_donation"
         }
        },
        "yaxis": {
         "anchor": "x",
         "domain": [
          0.0,
          1.0
         ],
         "title": {
          "text": "count"
         }
        },
        "legend": {
         "title": {
          "text": "class"
         },
         "tracegroupgap": 0
        },
        "margin": {
         "t": 60
        },
        "barmode": "relative"
       },
       "config": {
        "plotlyServerURL": "https://plot.ly"
       }
      }
     },
     "metadata": {},
     "output_type": "display_data",
     "jetTransient": {
      "display_id": null
     }
    },
    {
     "data": {
      "application/vnd.plotly.v1+json": {
       "data": [
        {
         "bingroup": "x",
         "hovertemplate": "class=1<br>months_since_first_donation=%{x}<br>count=%{y}<extra></extra>",
         "legendgroup": "1",
         "marker": {
          "color": "#636efa",
          "pattern": {
           "shape": ""
          }
         },
         "name": "1",
         "orientation": "v",
         "showlegend": true,
         "x": {
          "dtype": "f8",
          "bdata": "AAAAAACAWEAAAAAAAAA8QAAAAAAAgEFAAAAAAACARkAAAAAAAAAsQAAAAAAAADZAAAAAAACAWEAAAAAAAAA8QAAAAAAAAC5AAAAAAAAAJkAAAAAAAABIQAAAAAAAgEhAAAAAAAAALkAAAAAAAAAQQAAAAAAAABBAAAAAAAAAMEAAAAAAAAAwQAAAAAAAAEFAAAAAAAAAJkAAAAAAAAA8QAAAAAAAADxAAAAAAAAAOkAAAAAAAAA8QAAAAAAAgEdAAAAAAAAAMEAAAAAAAIBMQAAAAAAAADZAAAAAAACASkAAAAAAAAAwQAAAAAAAQFFAAAAAAAAAPEAAAAAAAABHQAAAAAAAACxAAAAAAABAUUAAAAAAAAA6QAAAAAAAADxAAAAAAACAQUAAAAAAAAAwQAAAAAAAACJAAAAAAAAALEAAAAAAAMBRQAAAAAAAABBAAAAAAAAAEEAAAAAAAAAwQAAAAAAAADdAAAAAAAAAPEAAAAAAAIBBQAAAAAAAABBAAAAAAAAAQ0AAAAAAAAAsQAAAAAAAADpAAAAAAAAAQUAAAAAAAABTQAAAAAAAADdAAAAAAAAAREAAAAAAAABHQAAAAAAAwFNAAAAAAAAAMEAAAAAAAAA6QAAAAAAAgERAAAAAAACAQEAAAAAAAABHQAAAAAAAAEhAAAAAAAAAJEAAAAAAAAAiQAAAAAAAADBAAAAAAAAAJkAAAAAAAABNQAAAAAAAAABAAAAAAAAAAEAAAAAAAAAAQAAAAAAAAABAAAAAAAAAMEAAAAAAAIBAQAAAAAAAgERAAAAAAAAAOkAAAAAAAIBBQAAAAAAAgEdAAAAAAAAAQ0AAAAAAAAAmQAAAAAAAABBAAAAAAAAAEEAAAAAAAAAQQAAAAAAAABBAAAAAAAAAEEAAAAAAAAAQQAAAAAAAAEpAAAAAAAAAOUAAAAAAAMBTQAAAAAAAgERAAAAAAAAAMEAAAAAAAEBSQAAAAAAAAENAAAAAAACARUAAAAAAAAA2QAAAAAAAADBAAAAAAAAAPEAAAAAAAAAzQAAAAAAAADdAAAAAAACAQkAAAAAAAABSQAAAAAAAgElAAAAAAAAASUAAAAAAAAA8QAAAAAAAgEFAAAAAAAAAT0AAAAAAAAA1QAAAAAAAACZAAAAAAAAANUAAAAAAAABEQAAAAAAAgElAAAAAAAAAREAAAAAAAAA1QAAAAAAAADpAAAAAAADAVUAAAAAAAAA1QAAAAAAAADZAAAAAAACASEAAAAAAAIBVQAAAAAAAADxAAAAAAABAU0AAAAAAAABTQAAAAAAAgFhAAAAAAAAARUAAAAAAAABKQAAAAAAAAEBAAAAAAAAAEEAAAAAAAABDQAAAAAAAAChAAAAAAACAWEAAAAAAAIBAQAAAAAAAADxAAAAAAAAAREAAAAAAAIBEQAAAAAAAgENAAAAAAACARUAAAAAAAAAwQAAAAAAAADZAAAAAAAAAMEAAAAAAAAAsQAAAAAAAADBAAAAAAAAAQEAAAAAAAAA6QAAAAAAAAENAAAAAAAAAEEAAAAAAAAA8QAAAAAAAgFFAAAAAAAAAEEAAAAAAAAAQQAAAAAAAgFFAAAAAAAAAQEAAAAAAAIBBQAAAAAAAADxAAAAAAAAAUEAAAAAAAIBYQAAAAAAAgEFAAAAAAAAAJkAAAAAAAAAmQAAAAAAAAENAAAAAAAAAPUAAAAAAAAAAQAAAAAAAAABAAAAAAACASEAAAAAAAAAIQAAAAAAAABBAAAAAAAAAEEAAAAAAAABBQAAAAAAAACxAAAAAAABAVkAAAAAAAABKQAAAAAAAACxAAAAAAAAAJkAAAAAAAMBSQAAAAAAAQFFAAAAAAAAATUAAAAAAAABDQAAAAAAAgEFAAAAAAAAAN0A="
         },
         "xaxis": "x",
         "yaxis": "y",
         "type": "histogram"
        },
        {
         "bingroup": "x",
         "hovertemplate": "class=0<br>months_since_first_donation=%{x}<br>count=%{y}<extra></extra>",
         "legendgroup": "0",
         "marker": {
          "color": "#EF553B",
          "pattern": {
           "shape": ""
          }
         },
         "name": "0",
         "orientation": "v",
         "showlegend": true,
         "x": {
          "dtype": "f8",
          "bdata": "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"
         },
         "xaxis": "x",
         "yaxis": "y",
         "type": "histogram"
        }
       ],
       "layout": {
        "template": {
         "data": {
          "histogram2dcontour": [
           {
            "type": "histogram2dcontour",
            "colorbar": {
             "outlinewidth": 0,
             "ticks": ""
            },
            "colorscale": [
             [
              0.0,
              "#0d0887"
             ],
             [
              0.1111111111111111,
              "#46039f"
             ],
             [
              0.2222222222222222,
              "#7201a8"
             ],
             [
              0.3333333333333333,
              "#9c179e"
             ],
             [
              0.4444444444444444,
              "#bd3786"
             ],
             [
              0.5555555555555556,
              "#d8576b"
             ],
             [
              0.6666666666666666,
              "#ed7953"
             ],
             [
              0.7777777777777778,
              "#fb9f3a"
             ],
             [
              0.8888888888888888,
              "#fdca26"
             ],
             [
              1.0,
              "#f0f921"
             ]
            ]
           }
          ],
          "choropleth": [
           {
            "type": "choropleth",
            "colorbar": {
             "outlinewidth": 0,
             "ticks": ""
            }
           }
          ],
          "histogram2d": [
           {
            "type": "histogram2d",
            "colorbar": {
             "outlinewidth": 0,
             "ticks": ""
            },
            "colorscale": [
             [
              0.0,
              "#0d0887"
             ],
             [
              0.1111111111111111,
              "#46039f"
             ],
             [
              0.2222222222222222,
              "#7201a8"
             ],
             [
              0.3333333333333333,
              "#9c179e"
             ],
             [
              0.4444444444444444,
              "#bd3786"
             ],
             [
              0.5555555555555556,
              "#d8576b"
             ],
             [
              0.6666666666666666,
              "#ed7953"
             ],
             [
              0.7777777777777778,
              "#fb9f3a"
             ],
             [
              0.8888888888888888,
              "#fdca26"
             ],
             [
              1.0,
              "#f0f921"
             ]
            ]
           }
          ],
          "heatmap": [
           {
            "type": "heatmap",
            "colorbar": {
             "outlinewidth": 0,
             "ticks": ""
            },
            "colorscale": [
             [
              0.0,
              "#0d0887"
             ],
             [
              0.1111111111111111,
              "#46039f"
             ],
             [
              0.2222222222222222,
              "#7201a8"
             ],
             [
              0.3333333333333333,
              "#9c179e"
             ],
             [
              0.4444444444444444,
              "#bd3786"
             ],
             [
              0.5555555555555556,
              "#d8576b"
             ],
             [
              0.6666666666666666,
              "#ed7953"
             ],
             [
              0.7777777777777778,
              "#fb9f3a"
             ],
             [
              0.8888888888888888,
              "#fdca26"
             ],
             [
              1.0,
              "#f0f921"
             ]
            ]
           }
          ],
          "contourcarpet": [
           {
            "type": "contourcarpet",
            "colorbar": {
             "outlinewidth": 0,
             "ticks": ""
            }
           }
          ],
          "contour": [
           {
            "type": "contour",
            "colorbar": {
             "outlinewidth": 0,
             "ticks": ""
            },
            "colorscale": [
             [
              0.0,
              "#0d0887"
             ],
             [
              0.1111111111111111,
              "#46039f"
             ],
             [
              0.2222222222222222,
              "#7201a8"
             ],
             [
              0.3333333333333333,
              "#9c179e"
             ],
             [
              0.4444444444444444,
              "#bd3786"
             ],
             [
              0.5555555555555556,
              "#d8576b"
             ],
             [
              0.6666666666666666,
              "#ed7953"
             ],
             [
              0.7777777777777778,
              "#fb9f3a"
             ],
             [
              0.8888888888888888,
              "#fdca26"
             ],
             [
              1.0,
              "#f0f921"
             ]
            ]
           }
          ],
          "surface": [
           {
            "type": "surface",
            "colorbar": {
             "outlinewidth": 0,
             "ticks": ""
            },
            "colorscale": [
             [
              0.0,
              "#0d0887"
             ],
             [
              0.1111111111111111,
              "#46039f"
             ],
             [
              0.2222222222222222,
              "#7201a8"
             ],
             [
              0.3333333333333333,
              "#9c179e"
             ],
             [
              0.4444444444444444,
              "#bd3786"
             ],
             [
              0.5555555555555556,
              "#d8576b"
             ],
             [
              0.6666666666666666,
              "#ed7953"
             ],
             [
              0.7777777777777778,
              "#fb9f3a"
             ],
             [
              0.8888888888888888,
              "#fdca26"
             ],
             [
              1.0,
              "#f0f921"
             ]
            ]
           }
          ],
          "mesh3d": [
           {
            "type": "mesh3d",
            "colorbar": {
             "outlinewidth": 0,
             "ticks": ""
            }
           }
          ],
          "scatter": [
           {
            "fillpattern": {
             "fillmode": "overlay",
             "size": 10,
             "solidity": 0.2
            },
            "type": "scatter"
           }
          ],
          "parcoords": [
           {
            "type": "parcoords",
            "line": {
             "colorbar": {
              "outlinewidth": 0,
              "ticks": ""
             }
            }
           }
          ],
          "scatterpolargl": [
           {
            "type": "scatterpolargl",
            "marker": {
             "colorbar": {
              "outlinewidth": 0,
              "ticks": ""
             }
            }
           }
          ],
          "bar": [
           {
            "error_x": {
             "color": "#2a3f5f"
            },
            "error_y": {
             "color": "#2a3f5f"
            },
            "marker": {
             "line": {
              "color": "#E5ECF6",
              "width": 0.5
             },
             "pattern": {
              "fillmode": "overlay",
              "size": 10,
              "solidity": 0.2
             }
            },
            "type": "bar"
           }
          ],
          "scattergeo": [
           {
            "type": "scattergeo",
            "marker": {
             "colorbar": {
              "outlinewidth": 0,
              "ticks": ""
             }
            }
           }
          ],
          "scatterpolar": [
           {
            "type": "scatterpolar",
            "marker": {
             "colorbar": {
              "outlinewidth": 0,
              "ticks": ""
             }
            }
           }
          ],
          "histogram": [
           {
            "marker": {
             "pattern": {
              "fillmode": "overlay",
              "size": 10,
              "solidity": 0.2
             }
            },
            "type": "histogram"
           }
          ],
          "scattergl": [
           {
            "type": "scattergl",
            "marker": {
             "colorbar": {
              "outlinewidth": 0,
              "ticks": ""
             }
            }
           }
          ],
          "scatter3d": [
           {
            "type": "scatter3d",
            "line": {
             "colorbar": {
              "outlinewidth": 0,
              "ticks": ""
             }
            },
            "marker": {
             "colorbar": {
              "outlinewidth": 0,
              "ticks": ""
             }
            }
           }
          ],
          "scattermap": [
           {
            "type": "scattermap",
            "marker": {
             "colorbar": {
              "outlinewidth": 0,
              "ticks": ""
             }
            }
           }
          ],
          "scattermapbox": [
           {
            "type": "scattermapbox",
            "marker": {
             "colorbar": {
              "outlinewidth": 0,
              "ticks": ""
             }
            }
           }
          ],
          "scatterternary": [
           {
            "type": "scatterternary",
            "marker": {
             "colorbar": {
              "outlinewidth": 0,
              "ticks": ""
             }
            }
           }
          ],
          "scattercarpet": [
           {
            "type": "scattercarpet",
            "marker": {
             "colorbar": {
              "outlinewidth": 0,
              "ticks": ""
             }
            }
           }
          ],
          "carpet": [
           {
            "aaxis": {
             "endlinecolor": "#2a3f5f",
             "gridcolor": "white",
             "linecolor": "white",
             "minorgridcolor": "white",
             "startlinecolor": "#2a3f5f"
            },
            "baxis": {
             "endlinecolor": "#2a3f5f",
             "gridcolor": "white",
             "linecolor": "white",
             "minorgridcolor": "white",
             "startlinecolor": "#2a3f5f"
            },
            "type": "carpet"
           }
          ],
          "table": [
           {
            "cells": {
             "fill": {
              "color": "#EBF0F8"
             },
             "line": {
              "color": "white"
             }
            },
            "header": {
             "fill": {
              "color": "#C8D4E3"
             },
             "line": {
              "color": "white"
             }
            },
            "type": "table"
           }
          ],
          "barpolar": [
           {
            "marker": {
             "line": {
              "color": "#E5ECF6",
              "width": 0.5
             },
             "pattern": {
              "fillmode": "overlay",
              "size": 10,
              "solidity": 0.2
             }
            },
            "type": "barpolar"
           }
          ],
          "pie": [
           {
            "automargin": true,
            "type": "pie"
           }
          ]
         },
         "layout": {
          "autotypenumbers": "strict",
          "colorway": [
           "#636efa",
           "#EF553B",
           "#00cc96",
           "#ab63fa",
           "#FFA15A",
           "#19d3f3",
           "#FF6692",
           "#B6E880",
           "#FF97FF",
           "#FECB52"
          ],
          "font": {
           "color": "#2a3f5f"
          },
          "hovermode": "closest",
          "hoverlabel": {
           "align": "left"
          },
          "paper_bgcolor": "white",
          "plot_bgcolor": "#E5ECF6",
          "polar": {
           "bgcolor": "#E5ECF6",
           "angularaxis": {
            "gridcolor": "white",
            "linecolor": "white",
            "ticks": ""
           },
           "radialaxis": {
            "gridcolor": "white",
            "linecolor": "white",
            "ticks": ""
           }
          },
          "ternary": {
           "bgcolor": "#E5ECF6",
           "aaxis": {
            "gridcolor": "white",
            "linecolor": "white",
            "ticks": ""
           },
           "baxis": {
            "gridcolor": "white",
            "linecolor": "white",
            "ticks": ""
           },
           "caxis": {
            "gridcolor": "white",
            "linecolor": "white",
            "ticks": ""
           }
          },
          "coloraxis": {
           "colorbar": {
            "outlinewidth": 0,
            "ticks": ""
           }
          },
          "colorscale": {
           "sequential": [
            [
             0.0,
             "#0d0887"
            ],
            [
             0.1111111111111111,
             "#46039f"
            ],
            [
             0.2222222222222222,
             "#7201a8"
            ],
            [
             0.3333333333333333,
             "#9c179e"
            ],
            [
             0.4444444444444444,
             "#bd3786"
            ],
            [
             0.5555555555555556,
             "#d8576b"
            ],
            [
             0.6666666666666666,
             "#ed7953"
            ],
            [
             0.7777777777777778,
             "#fb9f3a"
            ],
            [
             0.8888888888888888,
             "#fdca26"
            ],
            [
             1.0,
             "#f0f921"
            ]
           ],
           "sequentialminus": [
            [
             0.0,
             "#0d0887"
            ],
            [
             0.1111111111111111,
             "#46039f"
            ],
            [
             0.2222222222222222,
             "#7201a8"
            ],
            [
             0.3333333333333333,
             "#9c179e"
            ],
            [
             0.4444444444444444,
             "#bd3786"
            ],
            [
             0.5555555555555556,
             "#d8576b"
            ],
            [
             0.6666666666666666,
             "#ed7953"
            ],
            [
             0.7777777777777778,
             "#fb9f3a"
            ],
            [
             0.8888888888888888,
             "#fdca26"
            ],
            [
             1.0,
             "#f0f921"
            ]
           ],
           "diverging": [
            [
             0,
             "#8e0152"
            ],
            [
             0.1,
             "#c51b7d"
            ],
            [
             0.2,
             "#de77ae"
            ],
            [
             0.3,
             "#f1b6da"
            ],
            [
             0.4,
             "#fde0ef"
            ],
            [
             0.5,
             "#f7f7f7"
            ],
            [
             0.6,
             "#e6f5d0"
            ],
            [
             0.7,
             "#b8e186"
            ],
            [
             0.8,
             "#7fbc41"
            ],
            [
             0.9,
             "#4d9221"
            ],
            [
             1,
             "#276419"
            ]
           ]
          },
          "xaxis": {
           "gridcolor": "white",
           "linecolor": "white",
           "ticks": "",
           "title": {
            "standoff": 15
           },
           "zerolinecolor": "white",
           "automargin": true,
           "zerolinewidth": 2
          },
          "yaxis": {
           "gridcolor": "white",
           "linecolor": "white",
           "ticks": "",
           "title": {
            "standoff": 15
           },
           "zerolinecolor": "white",
           "automargin": true,
           "zerolinewidth": 2
          },
          "scene": {
           "xaxis": {
            "backgroundcolor": "#E5ECF6",
            "gridcolor": "white",
            "linecolor": "white",
            "showbackground": true,
            "ticks": "",
            "zerolinecolor": "white",
            "gridwidth": 2
           },
           "yaxis": {
            "backgroundcolor": "#E5ECF6",
            "gridcolor": "white",
            "linecolor": "white",
            "showbackground": true,
            "ticks": "",
            "zerolinecolor": "white",
            "gridwidth": 2
           },
           "zaxis": {
            "backgroundcolor": "#E5ECF6",
            "gridcolor": "white",
            "linecolor": "white",
            "showbackground": true,
            "ticks": "",
            "zerolinecolor": "white",
            "gridwidth": 2
           }
          },
          "shapedefaults": {
           "line": {
            "color": "#2a3f5f"
           }
          },
          "annotationdefaults": {
           "arrowcolor": "#2a3f5f",
           "arrowhead": 0,
           "arrowwidth": 1
          },
          "geo": {
           "bgcolor": "white",
           "landcolor": "#E5ECF6",
           "subunitcolor": "white",
           "showland": true,
           "showlakes": true,
           "lakecolor": "white"
          },
          "title": {
           "x": 0.05
          },
          "mapbox": {
           "style": "light"
          }
         }
        },
        "xaxis": {
         "anchor": "y",
         "domain": [
          0.0,
          1.0
         ],
         "title": {
          "text": "months_since_first_donation"
         }
        },
        "yaxis": {
         "anchor": "x",
         "domain": [
          0.0,
          1.0
         ],
         "title": {
          "text": "count"
         }
        },
        "legend": {
         "title": {
          "text": "class"
         },
         "tracegroupgap": 0
        },
        "margin": {
         "t": 60
        },
        "barmode": "relative"
       },
       "config": {
        "plotlyServerURL": "https://plot.ly"
       }
      }
     },
     "metadata": {},
     "output_type": "display_data",
     "jetTransient": {
      "display_id": null
     }
    },
    {
     "data": {
      "application/vnd.plotly.v1+json": {
       "data": [
        {
         "hovertemplate": "months_since_last_donation=%{x}<br>total_number_of_donations=%{y}<br>class=%{marker.color}<extra></extra>",
         "legendgroup": "",
         "marker": {
          "color": {
           "dtype": "i1",
           "bdata": "AQEBAQAAAQABAQAAAQABAQEBAQEBAAEBAAAAAQEAAAEBAQABAQEBAQEAAQABAQAAAAAAAQAAAQEBAQAAAAEAAQEAAQAAAAAAAQABAQEAAAABAAAAAQAAAAABAQAAAAAAAAEBAQEBAAAAAAAAAAABAAABAAABAAABAQEBAQAAAQABAQAAAAAAAAAAAAAAAAAAAQEAAAEAAQAAAQAAAAAAAAAAAAEBAQAAAAAAAAAAAAABAQEAAQAAAAAAAAAAAQAAAAAAAQEAAAAAAAEAAAAAAAAAAAAAAAABAAAAAAABAQABAQAAAAAAAQAAAAAAAAAAAQABAQAAAAAAAAAAAQEAAAAAAAAAAQABAAEAAAAAAAAAAAAAAAAAAAABAAAAAAABAQEBAAAAAAAAAAAAAAAAAAABAAAAAAAAAAAAAAAAAQAAAQABAAAAAAEAAAABAQABAAABAAAAAAAAAAAAAAAAAAAAAAAAAAAAAAAAAAABAAAAAQEAAAAAAQAAAAAAAAAAAAAAAAAAAAAAAAAAAQAAAQAAAAAAAAAAAAAAAAAAAAAAAAAAAAAAAAAAAAAAAAAAAQAAAAAAAAAAAAAAAAAAAAAAAAAAAAAAAAAAAAAAAQAAAAAAAQAAAAAAAAEAAAAAAAAAAAAAAAAAAAAAAAAAAAAAAAABAQEAAQEBAAEBAQAAAAEAAQEBAQEBAQEAAAEAAAEBAQAAAAEBAQEBAQABAQABAAABAQABAQAAAAAAAAABAAEAAAAAAAEAAAABAAEBAQAAAAABAAAAAAEAAAAAAAABAAABAAAAAAAAAAAAAAAAAAAAAQAAAAAAAQAAAAEAAQAAAAAAAAAAAAAAAAAAAQEAAAABAAAAAAAAAAAAAAAAAAAAAAAAAAAAAAEAAQAAAAAAAAAAAAABAAAAAAAAAAAAAAAAAAABAAAAAAAAAAAAAAAAAQAAAAEAAAAAAAAAAAAAAAAAAAAAAAAAAQAAAAAAAAAAAAAAAAAAAA=="
          },
          "coloraxis": "coloraxis",
          "symbol": "circle"
         },
         "mode": "markers",
         "name": "",
         "orientation": "v",
         "showlegend": false,
         "x": {
          "dtype": "f8",
          "bdata": "AAAAAAAAAEAAAAAAAAAAAAAAAAAAAPA/AAAAAAAAAEAAAAAAAADwPwAAAAAAABBAAAAAAAAAAEAAAAAAAADwPwAAAAAAAABAAAAAAAAAFEAAAAAAAAAQQAAAAAAAAAAAAAAAAAAAAEAAAAAAAADwPwAAAAAAAABAAAAAAAAAAEAAAAAAAAAAQAAAAAAAAABAAAAAAAAAAEAAAAAAAAAAQAAAAAAAAABAAAAAAAAAEEAAAAAAAAAAQAAAAAAAAABAAAAAAAAAIkAAAAAAAAAQQAAAAAAAABBAAAAAAAAAEEAAAAAAAAAQQAAAAAAAABBAAAAAAAAA8D8AAAAAAAAQQAAAAAAAABBAAAAAAAAAEEAAAAAAAAAAQAAAAAAAAABAAAAAAAAAAEAAAAAAAAAQQAAAAAAAAABAAAAAAAAAEEAAAAAAAAAAQAAAAAAAAABAAAAAAAAAAEAAAAAAAAAAQAAAAAAAABBAAAAAAAAAEEAAAAAAAAAAQAAAAAAAAABAAAAAAAAAAEAAAAAAAAAAQAAAAAAAAABAAAAAAAAAAEAAAAAAAAAAQAAAAAAAAABAAAAAAAAAEEAAAAAAAAAQQAAAAAAAABBAAAAAAAAAAEAAAAAAAAAAQAAAAAAAAAhAAAAAAAAAAEAAAAAAAAAAQAAAAAAAAABAAAAAAAAAEEAAAAAAAAAAQAAAAAAAAAhAAAAAAAAAAEAAAAAAAAAAAAAAAAAAABBAAAAAAAAA8D8AAAAAAAAAQAAAAAAAAABAAAAAAAAAEEAAAAAAAAAAQAAAAAAAAABAAAAAAAAAAEAAAAAAAAAAQAAAAAAAAABAAAAAAAAAAEAAAAAAAAAAQAAAAAAAABBAAAAAAAAAAEAAAAAAAAAAQAAAAAAAAABAAAAAAAAAAEAAAAAAAAAAQAAAAAAAABBAAAAAAAAAEEAAAAAAAAAQQAAAAAAAAABAAAAAAAAAEEAAAAAAAAAQQAAAAAAAABBAAAAAAAAAEEAAAAAAAAAoQAAAAAAAABBAAAAAAAAACEAAAAAAAAAQQAAAAAAAABBAAAAAAAAAFEAAAAAAAAAQQAAAAAAAAABAAAAAAAAAEEAAAAAAAAAAQAAAAAAAAABAAAAAAAAAGEAAAAAAAAAAAAAAAAAAAAhAAAAAAAAAAEAAAAAAAAAAQAAAAAAAABBAAAAAAAAAEEAAAAAAAAAQQAAAAAAAABBAAAAAAAAAAEAAAAAAAAAmQAAAAAAAAABAAAAAAAAAEEAAAAAAAADwPwAAAAAAAABAAAAAAAAAAEAAAAAAAAAQQAAAAAAAAABAAAAAAAAAAEAAAAAAAAAAQAAAAAAAAABAAAAAAAAAEEAAAAAAAAAAQAAAAAAAABBAAAAAAAAAAEAAAAAAAAAQQAAAAAAAAABAAAAAAAAAAEAAAAAAAAAQQAAAAAAAAABAAAAAAAAAAEAAAAAAAAAAQAAAAAAAAABAAAAAAAAAIkAAAAAAAAAAQAAAAAAAAABAAAAAAAAAFEAAAAAAAAAQQAAAAAAAABBAAAAAAAAAEEAAAAAAAAAQQAAAAAAAABhAAAAAAAAAAEAAAAAAAAAAQAAAAAAAAABAAAAAAAAAAEAAAAAAAAAQQAAAAAAAABBAAAAAAAAAAEAAAAAAAAAAQAAAAAAAAABAAAAAAAAAAEAAAAAAAAAAQAAAAAAAAABAAAAAAAAAAEAAAAAAAAAAQAAAAAAAAABAAAAAAAAAAEAAAAAAAAAAQAAAAAAAAABAAAAAAAAAAEAAAAAAAAAAQAAAAAAAAABAAAAAAAAAAEAAAAAAAAAAQAAAAAAAAABAAAAAAAAAAEAAAAAAAAAAQAAAAAAAAABAAAAAAAAAAEAAAAAAAAAmQAAAAAAAACZAAAAAAAAAEEAAAAAAAAAQQAAAAAAAAABAAAAAAAAAEEAAAAAAAAAkQAAAAAAAAABAAAAAAAAAEEAAAAAAAAAqQAAAAAAAACZAAAAAAAAAEEAAAAAAAAAQQAAAAAAAACBAAAAAAAAAEEAAAAAAAAAQQAAAAAAAABBAAAAAAAAAAEAAAAAAAAAmQAAAAAAAAABAAAAAAAAAAEAAAAAAAAAiQAAAAAAAABBAAAAAAAAAJkAAAAAAAAAiQAAAAAAAABBAAAAAAAAAEEAAAAAAAAAYQAAAAAAAABBAAAAAAAAAJkAAAAAAAAAmQAAAAAAAAABAAAAAAAAAAEAAAAAAAAAmQAAAAAAAACZAAAAAAAAAEEAAAAAAAAAQQAAAAAAAABBAAAAAAAAAEEAAAAAAAAAQQAAAAAAAABBAAAAAAAAAEEAAAAAAAAAQQAAAAAAAABBAAAAAAAAAEEAAAAAAAAAQQAAAAAAAABBAAAAAAAAAEEAAAAAAAAAQQAAAAAAAABBAAAAAAAAAEEAAAAAAAAAQQAAAAAAAABBAAAAAAAAAEEAAAAAAAAAQQAAAAAAAABBAAAAAAAAAEEAAAAAAAAAQQAAAAAAAACRAAAAAAAAALEAAAAAAAAAgQAAAAAAAACZAAAAAAAAAEEAAAAAAAAAAQAAAAAAAACBAAAAAAAAAIEAAAAAAAAAmQAAAAAAAABBAAAAAAAAAJkAAAAAAAAAiQAAAAAAAABBAAAAAAAAAJkAAAAAAAAAcQAAAAAAAACZAAAAAAAAAJkAAAAAAAAAmQAAAAAAAAABAAAAAAAAAJkAAAAAAAAAmQAAAAAAAAChAAAAAAAAAAEAAAAAAAAAwQAAAAAAAACZAAAAAAAAAEEAAAAAAAAAoQAAAAAAAABBAAAAAAAAAJkAAAAAAAAAAQAAAAAAAAABAAAAAAAAAEEAAAAAAAAAQQAAAAAAAAAhAAAAAAAAAJkAAAAAAAAAQQAAAAAAAACpAAAAAAAAAMEAAAAAAAAAwQAAAAAAAABxAAAAAAAAAEEAAAAAAAAAQQAAAAAAAABBAAAAAAAAALEAAAAAAAAAQQAAAAAAAACxAAAAAAAAAJkAAAAAAAAAsQAAAAAAAACxAAAAAAAAALEAAAAAAAAAgQAAAAAAAACZAAAAAAAAAJkAAAAAAAAAQQAAAAAAAACJAAAAAAAAALEAAAAAAAAAsQAAAAAAAACxAAAAAAAAAMEAAAAAAAAAmQAAAAAAAACZAAAAAAAAAJkAAAAAAAAAAQAAAAAAAACxAAAAAAAAALEAAAAAAAAAsQAAAAAAAACxAAAAAAAAALEAAAAAAAAAsQAAAAAAAACxAAAAAAAAAAEAAAAAAAAAsQAAAAAAAACZAAAAAAAAAEEAAAAAAAAAmQAAAAAAAADBAAAAAAAAAMEAAAAAAAAAmQAAAAAAAACZAAAAAAAAAKEAAAAAAAAAiQAAAAAAAACJAAAAAAAAAEEAAAAAAAAAmQAAAAAAAACxAAAAAAAAAJkAAAAAAAAAmQAAAAAAAAC5AAAAAAAAAIkAAAAAAAAAmQAAAAAAAACxAAAAAAAAAMEAAAAAAAAAsQAAAAAAAAABAAAAAAAAALEAAAAAAAAAsQAAAAAAAADBAAAAAAAAALEAAAAAAAAAwQAAAAAAAADBAAAAAAAAAJkAAAAAAAAAwQAAAAAAAADBAAAAAAAAAJkAAAAAAAAAmQAAAAAAAACZAAAAAAAAAIkAAAAAAAAAsQAAAAAAAADdAAAAAAAAAJkAAAAAAAAAmQAAAAAAAACZAAAAAAAAAJkAAAAAAAAAmQAAAAAAAACZAAAAAAAAAJkAAAAAAAAAmQAAAAAAAACZAAAAAAAAAJkAAAAAAAAAmQAAAAAAAACZAAAAAAAAAMEAAAAAAAAAQQAAAAAAAADBAAAAAAAAALEAAAAAAAAAiQAAAAAAAADVAAAAAAAAALEAAAAAAAAAmQAAAAAAAABBAAAAAAAAANUAAAAAAAAAmQAAAAAAAACxAAAAAAAAAN0AAAAAAAAAsQAAAAAAAACZAAAAAAAAAMEAAAAAAAAAQQAAAAAAAACxAAAAAAAAAEEAAAAAAAAAiQAAAAAAAACxAAAAAAAAAJkAAAAAAAAAsQAAAAAAAACxAAAAAAAAALEAAAAAAAAAsQAAAAAAAACxAAAAAAAAALEAAAAAAAAAsQAAAAAAAACxAAAAAAAAALEAAAAAAAAAsQAAAAAAAACxAAAAAAAAALEAAAAAAAAAiQAAAAAAAACxAAAAAAAAAJkAAAAAAAAAmQAAAAAAAABBAAAAAAAAAJkAAAAAAAAAwQAAAAAAAADBAAAAAAAAANUAAAAAAAAA1QAAAAAAAADBAAAAAAAAANUAAAAAAAAAyQAAAAAAAADdAAAAAAAAAN0AAAAAAAAAwQAAAAAAAACxAAAAAAAAALEAAAAAAAAAwQAAAAAAAADBAAAAAAAAAMEAAAAAAAAAwQAAAAAAAADBAAAAAAAAAMEAAAAAAAAAwQAAAAAAAADBAAAAAAAAAMEAAAAAAAAAwQAAAAAAAADBAAAAAAAAAMEAAAAAAAAAwQAAAAAAAADBAAAAAAAAANUAAAAAAAAAwQAAAAAAAADVAAAAAAAAANUAAAAAAAAAsQAAAAAAAADBAAAAAAAAAN0AAAAAAAAAsQAAAAAAAADdAAAAAAAAAMEAAAAAAAAAiQAAAAAAAACJAAAAAAAAAMEAAAAAAAAAsQAAAAAAAACxAAAAAAAAAMEAAAAAAAAA1QAAAAAAAACxAAAAAAAAAN0AAAAAAAAAyQAAAAAAAADBAAAAAAAAAJkAAAAAAAAAmQAAAAAAAACZAAAAAAAAAN0AAAAAAAAA1QAAAAAAAADdAAAAAAAAAN0AAAAAAAAA3QAAAAAAAADBAAAAAAAAAN0AAAAAAAAA1QAAAAAAAADdAAAAAAAAANUAAAAAAAAA1QAAAAAAAADVAAAAAAAAANUAAAAAAAAA1QAAAAAAAADVAAAAAAAAANUAAAAAAAAA1QAAAAAAAADVAAAAAAAAANUAAAAAAAAA1QAAAAAAAADVAAAAAAAAANUAAAAAAAAA3QAAAAAAAADVAAAAAAAAANkAAAAAAAAAmQAAAAAAAADdAAAAAAAAAN0AAAAAAAAA3QAAAAAAAACxAAAAAAAAANUAAAAAAAAA6QAAAAAAAADdAAAAAAAAAN0AAAAAAAAA3QAAAAAAAADdAAAAAAAAAN0AAAAAAAAA3QAAAAAAAADdAAAAAAAAAN0AAAAAAAAA3QAAAAAAAADdAAAAAAAAANUAAAAAAAAA3QAAAAAAAADVAAAAAAAAANUAAAAAAAAAwQAAAAAAAADVAAAAAAAAAN0AAAAAAAAA3QAAAAAAAADdAAAAAAACAQUAAAAAAAABDQAAAAAAAAENAAAAAAAAAREAAAAAAAIBSQAAAAAAAAABAAAAAAAAAGEAAAAAAAAAAQAAAAAAAAABAAAAAAAAAAAAAAAAAAAAAQAAAAAAAAAhAAAAAAAAAAEAAAAAAAAAAQAAAAAAAAABAAAAAAAAAEEAAAAAAAAAAQAAAAAAAAABAAAAAAAAACEAAAAAAAAAQQAAAAAAAABBAAAAAAAAACEAAAAAAAAAQQAAAAAAAAAhAAAAAAAAAEEAAAAAAAAAAQAAAAAAAAABAAAAAAAAAEEAAAAAAAADwPwAAAAAAABBAAAAAAAAAAEAAAAAAAAAAQAAAAAAAAABAAAAAAAAAFEAAAAAAAAAAQAAAAAAAABBAAAAAAAAAAEAAAAAAAAAQQAAAAAAAAABAAAAAAAAAAEAAAAAAAAAQQAAAAAAAAABAAAAAAAAAAEAAAAAAAAAAQAAAAAAAAABAAAAAAAAAAEAAAAAAAAAAQAAAAAAAABBAAAAAAAAAEEAAAAAAAADwPwAAAAAAABBAAAAAAAAAHEAAAAAAAAAAQAAAAAAAAABAAAAAAAAAEEAAAAAAAAAQQAAAAAAAAABAAAAAAAAAEEAAAAAAAAAAQAAAAAAAAABAAAAAAAAAEEAAAAAAAAAUQAAAAAAAABBAAAAAAAAALEAAAAAAAAAIQAAAAAAAABBAAAAAAAAAEEAAAAAAAAAQQAAAAAAAABxAAAAAAAAAEEAAAAAAAAAAQAAAAAAAABBAAAAAAAAAEEAAAAAAAAAQQAAAAAAAAABAAAAAAAAAAEAAAAAAAAAQQAAAAAAAAABAAAAAAAAAAEAAAAAAAAAAQAAAAAAAABBAAAAAAAAACEAAAAAAAAAiQAAAAAAAACZAAAAAAAAAAEAAAAAAAAAAQAAAAAAAAABAAAAAAAAAAEAAAAAAAAAAQAAAAAAAAABAAAAAAAAAAEAAAAAAAAAAQAAAAAAAAABAAAAAAAAAAEAAAAAAAAAAQAAAAAAAAABAAAAAAAAAJkAAAAAAAAAAQAAAAAAAACJAAAAAAAAAFEAAAAAAAAAIQAAAAAAAAAhAAAAAAAAAEEAAAAAAAAAAQAAAAAAAAChAAAAAAAAAAEAAAAAAAAAQQAAAAAAAACJAAAAAAAAALEAAAAAAAAAQQAAAAAAAABBAAAAAAAAAAEAAAAAAAAAAQAAAAAAAABBAAAAAAAAAEEAAAAAAAAAQQAAAAAAAABBAAAAAAAAAEEAAAAAAAAAQQAAAAAAAABBAAAAAAAAAEEAAAAAAAAAQQAAAAAAAABBAAAAAAAAAEEAAAAAAAAAQQAAAAAAAABBAAAAAAAAAEEAAAAAAAAAQQAAAAAAAACZAAAAAAAAAKkAAAAAAAAAcQAAAAAAAACJAAAAAAAAAJkAAAAAAAAAAQAAAAAAAABxAAAAAAAAAIEAAAAAAAAAAQAAAAAAAABhAAAAAAAAAKEAAAAAAAAAqQAAAAAAAACZAAAAAAAAAEEAAAAAAAAAsQAAAAAAAACZAAAAAAAAAHEAAAAAAAAAmQAAAAAAAABxAAAAAAAAAJkAAAAAAAAAkQAAAAAAAACxAAAAAAAAALEAAAAAAAAAsQAAAAAAAAABAAAAAAAAAJkAAAAAAAAAsQAAAAAAAACJAAAAAAAAAMEAAAAAAAAAsQAAAAAAAABBAAAAAAAAALEAAAAAAAAAwQAAAAAAAABBAAAAAAAAALEAAAAAAAAAmQAAAAAAAACxAAAAAAAAALkAAAAAAAAAwQAAAAAAAADBAAAAAAAAAJkAAAAAAAAAmQAAAAAAAACZAAAAAAAAAJkAAAAAAAAAmQAAAAAAAACZAAAAAAAAAAEAAAAAAAAAAQAAAAAAAADBAAAAAAAAAMEAAAAAAAAAwQAAAAAAAADBAAAAAAAAAMEAAAAAAAAAsQAAAAAAAADdAAAAAAAAAJkAAAAAAAAAsQAAAAAAAADRAAAAAAAAAEEAAAAAAAAAmQAAAAAAAACZAAAAAAAAAMEAAAAAAAAA1QAAAAAAAACpAAAAAAAAAMEAAAAAAAAAsQAAAAAAAACxAAAAAAAAALEAAAAAAAAAsQAAAAAAAACxAAAAAAAAALEAAAAAAAAAsQAAAAAAAADFAAAAAAAAALEAAAAAAAAAsQAAAAAAAADBAAAAAAAAANUAAAAAAAAAwQAAAAAAAADBAAAAAAAAAMEAAAAAAAAAwQAAAAAAAADBAAAAAAAAAMEAAAAAAAAAsQAAAAAAAACZAAAAAAAAAJkAAAAAAAAA1QAAAAAAAADdAAAAAAAAAN0AAAAAAAAAsQAAAAAAAADBAAAAAAAAAMEAAAAAAAAAwQAAAAAAAADVAAAAAAAAANUAAAAAAAAA1QAAAAAAAADdAAAAAAAAANUAAAAAAAAA3QAAAAAAAADVAAAAAAAAAN0AAAAAAAAA1QAAAAAAAADVAAAAAAAAAOUAAAAAAAAA1QAAAAAAAADVAAAAAAAAAN0AAAAAAAAA1QAAAAAAAACxAAAAAAAAAN0AAAAAAAAA3QAAAAAAAADdAAAAAAAAAN0AAAAAAAAA3QAAAAAAAADdAAAAAAAAAN0AAAAAAAAA3QAAAAAAAADdAAAAAAAAAN0AAAAAAAAAwQAAAAAAAADdAAAAAAAAANUAAAAAAAAA3QAAAAAAAgENAAAAAAAAAUkA="
         },
         "xaxis": "x",
         "y": {
          "dtype": "f8",
          "bdata": "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"
         },
         "yaxis": "y",
         "type": "scatter"
        }
       ],
       "layout": {
        "template": {
         "data": {
          "histogram2dcontour": [
           {
            "type": "histogram2dcontour",
            "colorbar": {
             "outlinewidth": 0,
             "ticks": ""
            },
            "colorscale": [
             [
              0.0,
              "#0d0887"
             ],
             [
              0.1111111111111111,
              "#46039f"
             ],
             [
              0.2222222222222222,
              "#7201a8"
             ],
             [
              0.3333333333333333,
              "#9c179e"
             ],
             [
              0.4444444444444444,
              "#bd3786"
             ],
             [
              0.5555555555555556,
              "#d8576b"
             ],
             [
              0.6666666666666666,
              "#ed7953"
             ],
             [
              0.7777777777777778,
              "#fb9f3a"
             ],
             [
              0.8888888888888888,
              "#fdca26"
             ],
             [
              1.0,
              "#f0f921"
             ]
            ]
           }
          ],
          "choropleth": [
           {
            "type": "choropleth",
            "colorbar": {
             "outlinewidth": 0,
             "ticks": ""
            }
           }
          ],
          "histogram2d": [
           {
            "type": "histogram2d",
            "colorbar": {
             "outlinewidth": 0,
             "ticks": ""
            },
            "colorscale": [
             [
              0.0,
              "#0d0887"
             ],
             [
              0.1111111111111111,
              "#46039f"
             ],
             [
              0.2222222222222222,
              "#7201a8"
             ],
             [
              0.3333333333333333,
              "#9c179e"
             ],
             [
              0.4444444444444444,
              "#bd3786"
             ],
             [
              0.5555555555555556,
              "#d8576b"
             ],
             [
              0.6666666666666666,
              "#ed7953"
             ],
             [
              0.7777777777777778,
              "#fb9f3a"
             ],
             [
              0.8888888888888888,
              "#fdca26"
             ],
             [
              1.0,
              "#f0f921"
             ]
            ]
           }
          ],
          "heatmap": [
           {
            "type": "heatmap",
            "colorbar": {
             "outlinewidth": 0,
             "ticks": ""
            },
            "colorscale": [
             [
              0.0,
              "#0d0887"
             ],
             [
              0.1111111111111111,
              "#46039f"
             ],
             [
              0.2222222222222222,
              "#7201a8"
             ],
             [
              0.3333333333333333,
              "#9c179e"
             ],
             [
              0.4444444444444444,
              "#bd3786"
             ],
             [
              0.5555555555555556,
              "#d8576b"
             ],
             [
              0.6666666666666666,
              "#ed7953"
             ],
             [
              0.7777777777777778,
              "#fb9f3a"
             ],
             [
              0.8888888888888888,
              "#fdca26"
             ],
             [
              1.0,
              "#f0f921"
             ]
            ]
           }
          ],
          "contourcarpet": [
           {
            "type": "contourcarpet",
            "colorbar": {
             "outlinewidth": 0,
             "ticks": ""
            }
           }
          ],
          "contour": [
           {
            "type": "contour",
            "colorbar": {
             "outlinewidth": 0,
             "ticks": ""
            },
            "colorscale": [
             [
              0.0,
              "#0d0887"
             ],
             [
              0.1111111111111111,
              "#46039f"
             ],
             [
              0.2222222222222222,
              "#7201a8"
             ],
             [
              0.3333333333333333,
              "#9c179e"
             ],
             [
              0.4444444444444444,
              "#bd3786"
             ],
             [
              0.5555555555555556,
              "#d8576b"
             ],
             [
              0.6666666666666666,
              "#ed7953"
             ],
             [
              0.7777777777777778,
              "#fb9f3a"
             ],
             [
              0.8888888888888888,
              "#fdca26"
             ],
             [
              1.0,
              "#f0f921"
             ]
            ]
           }
          ],
          "surface": [
           {
            "type": "surface",
            "colorbar": {
             "outlinewidth": 0,
             "ticks": ""
            },
            "colorscale": [
             [
              0.0,
              "#0d0887"
             ],
             [
              0.1111111111111111,
              "#46039f"
             ],
             [
              0.2222222222222222,
              "#7201a8"
             ],
             [
              0.3333333333333333,
              "#9c179e"
             ],
             [
              0.4444444444444444,
              "#bd3786"
             ],
             [
              0.5555555555555556,
              "#d8576b"
             ],
             [
              0.6666666666666666,
              "#ed7953"
             ],
             [
              0.7777777777777778,
              "#fb9f3a"
             ],
             [
              0.8888888888888888,
              "#fdca26"
             ],
             [
              1.0,
              "#f0f921"
             ]
            ]
           }
          ],
          "mesh3d": [
           {
            "type": "mesh3d",
            "colorbar": {
             "outlinewidth": 0,
             "ticks": ""
            }
           }
          ],
          "scatter": [
           {
            "fillpattern": {
             "fillmode": "overlay",
             "size": 10,
             "solidity": 0.2
            },
            "type": "scatter"
           }
          ],
          "parcoords": [
           {
            "type": "parcoords",
            "line": {
             "colorbar": {
              "outlinewidth": 0,
              "ticks": ""
             }
            }
           }
          ],
          "scatterpolargl": [
           {
            "type": "scatterpolargl",
            "marker": {
             "colorbar": {
              "outlinewidth": 0,
              "ticks": ""
             }
            }
           }
          ],
          "bar": [
           {
            "error_x": {
             "color": "#2a3f5f"
            },
            "error_y": {
             "color": "#2a3f5f"
            },
            "marker": {
             "line": {
              "color": "#E5ECF6",
              "width": 0.5
             },
             "pattern": {
              "fillmode": "overlay",
              "size": 10,
              "solidity": 0.2
             }
            },
            "type": "bar"
           }
          ],
          "scattergeo": [
           {
            "type": "scattergeo",
            "marker": {
             "colorbar": {
              "outlinewidth": 0,
              "ticks": ""
             }
            }
           }
          ],
          "scatterpolar": [
           {
            "type": "scatterpolar",
            "marker": {
             "colorbar": {
              "outlinewidth": 0,
              "ticks": ""
             }
            }
           }
          ],
          "histogram": [
           {
            "marker": {
             "pattern": {
              "fillmode": "overlay",
              "size": 10,
              "solidity": 0.2
             }
            },
            "type": "histogram"
           }
          ],
          "scattergl": [
           {
            "type": "scattergl",
            "marker": {
             "colorbar": {
              "outlinewidth": 0,
              "ticks": ""
             }
            }
           }
          ],
          "scatter3d": [
           {
            "type": "scatter3d",
            "line": {
             "colorbar": {
              "outlinewidth": 0,
              "ticks": ""
             }
            },
            "marker": {
             "colorbar": {
              "outlinewidth": 0,
              "ticks": ""
             }
            }
           }
          ],
          "scattermap": [
           {
            "type": "scattermap",
            "marker": {
             "colorbar": {
              "outlinewidth": 0,
              "ticks": ""
             }
            }
           }
          ],
          "scattermapbox": [
           {
            "type": "scattermapbox",
            "marker": {
             "colorbar": {
              "outlinewidth": 0,
              "ticks": ""
             }
            }
           }
          ],
          "scatterternary": [
           {
            "type": "scatterternary",
            "marker": {
             "colorbar": {
              "outlinewidth": 0,
              "ticks": ""
             }
            }
           }
          ],
          "scattercarpet": [
           {
            "type": "scattercarpet",
            "marker": {
             "colorbar": {
              "outlinewidth": 0,
              "ticks": ""
             }
            }
           }
          ],
          "carpet": [
           {
            "aaxis": {
             "endlinecolor": "#2a3f5f",
             "gridcolor": "white",
             "linecolor": "white",
             "minorgridcolor": "white",
             "startlinecolor": "#2a3f5f"
            },
            "baxis": {
             "endlinecolor": "#2a3f5f",
             "gridcolor": "white",
             "linecolor": "white",
             "minorgridcolor": "white",
             "startlinecolor": "#2a3f5f"
            },
            "type": "carpet"
           }
          ],
          "table": [
           {
            "cells": {
             "fill": {
              "color": "#EBF0F8"
             },
             "line": {
              "color": "white"
             }
            },
            "header": {
             "fill": {
              "color": "#C8D4E3"
             },
             "line": {
              "color": "white"
             }
            },
            "type": "table"
           }
          ],
          "barpolar": [
           {
            "marker": {
             "line": {
              "color": "#E5ECF6",
              "width": 0.5
             },
             "pattern": {
              "fillmode": "overlay",
              "size": 10,
              "solidity": 0.2
             }
            },
            "type": "barpolar"
           }
          ],
          "pie": [
           {
            "automargin": true,
            "type": "pie"
           }
          ]
         },
         "layout": {
          "autotypenumbers": "strict",
          "colorway": [
           "#636efa",
           "#EF553B",
           "#00cc96",
           "#ab63fa",
           "#FFA15A",
           "#19d3f3",
           "#FF6692",
           "#B6E880",
           "#FF97FF",
           "#FECB52"
          ],
          "font": {
           "color": "#2a3f5f"
          },
          "hovermode": "closest",
          "hoverlabel": {
           "align": "left"
          },
          "paper_bgcolor": "white",
          "plot_bgcolor": "#E5ECF6",
          "polar": {
           "bgcolor": "#E5ECF6",
           "angularaxis": {
            "gridcolor": "white",
            "linecolor": "white",
            "ticks": ""
           },
           "radialaxis": {
            "gridcolor": "white",
            "linecolor": "white",
            "ticks": ""
           }
          },
          "ternary": {
           "bgcolor": "#E5ECF6",
           "aaxis": {
            "gridcolor": "white",
            "linecolor": "white",
            "ticks": ""
           },
           "baxis": {
            "gridcolor": "white",
            "linecolor": "white",
            "ticks": ""
           },
           "caxis": {
            "gridcolor": "white",
            "linecolor": "white",
            "ticks": ""
           }
          },
          "coloraxis": {
           "colorbar": {
            "outlinewidth": 0,
            "ticks": ""
           }
          },
          "colorscale": {
           "sequential": [
            [
             0.0,
             "#0d0887"
            ],
            [
             0.1111111111111111,
             "#46039f"
            ],
            [
             0.2222222222222222,
             "#7201a8"
            ],
            [
             0.3333333333333333,
             "#9c179e"
            ],
            [
             0.4444444444444444,
             "#bd3786"
            ],
            [
             0.5555555555555556,
             "#d8576b"
            ],
            [
             0.6666666666666666,
             "#ed7953"
            ],
            [
             0.7777777777777778,
             "#fb9f3a"
            ],
            [
             0.8888888888888888,
             "#fdca26"
            ],
            [
             1.0,
             "#f0f921"
            ]
           ],
           "sequentialminus": [
            [
             0.0,
             "#0d0887"
            ],
            [
             0.1111111111111111,
             "#46039f"
            ],
            [
             0.2222222222222222,
             "#7201a8"
            ],
            [
             0.3333333333333333,
             "#9c179e"
            ],
            [
             0.4444444444444444,
             "#bd3786"
            ],
            [
             0.5555555555555556,
             "#d8576b"
            ],
            [
             0.6666666666666666,
             "#ed7953"
            ],
            [
             0.7777777777777778,
             "#fb9f3a"
            ],
            [
             0.8888888888888888,
             "#fdca26"
            ],
            [
             1.0,
             "#f0f921"
            ]
           ],
           "diverging": [
            [
             0,
             "#8e0152"
            ],
            [
             0.1,
             "#c51b7d"
            ],
            [
             0.2,
             "#de77ae"
            ],
            [
             0.3,
             "#f1b6da"
            ],
            [
             0.4,
             "#fde0ef"
            ],
            [
             0.5,
             "#f7f7f7"
            ],
            [
             0.6,
             "#e6f5d0"
            ],
            [
             0.7,
             "#b8e186"
            ],
            [
             0.8,
             "#7fbc41"
            ],
            [
             0.9,
             "#4d9221"
            ],
            [
             1,
             "#276419"
            ]
           ]
          },
          "xaxis": {
           "gridcolor": "white",
           "linecolor": "white",
           "ticks": "",
           "title": {
            "standoff": 15
           },
           "zerolinecolor": "white",
           "automargin": true,
           "zerolinewidth": 2
          },
          "yaxis": {
           "gridcolor": "white",
           "linecolor": "white",
           "ticks": "",
           "title": {
            "standoff": 15
           },
           "zerolinecolor": "white",
           "automargin": true,
           "zerolinewidth": 2
          },
          "scene": {
           "xaxis": {
            "backgroundcolor": "#E5ECF6",
            "gridcolor": "white",
            "linecolor": "white",
            "showbackground": true,
            "ticks": "",
            "zerolinecolor": "white",
            "gridwidth": 2
           },
           "yaxis": {
            "backgroundcolor": "#E5ECF6",
            "gridcolor": "white",
            "linecolor": "white",
            "showbackground": true,
            "ticks": "",
            "zerolinecolor": "white",
            "gridwidth": 2
           },
           "zaxis": {
            "backgroundcolor": "#E5ECF6",
            "gridcolor": "white",
            "linecolor": "white",
            "showbackground": true,
            "ticks": "",
            "zerolinecolor": "white",
            "gridwidth": 2
           }
          },
          "shapedefaults": {
           "line": {
            "color": "#2a3f5f"
           }
          },
          "annotationdefaults": {
           "arrowcolor": "#2a3f5f",
           "arrowhead": 0,
           "arrowwidth": 1
          },
          "geo": {
           "bgcolor": "white",
           "landcolor": "#E5ECF6",
           "subunitcolor": "white",
           "showland": true,
           "showlakes": true,
           "lakecolor": "white"
          },
          "title": {
           "x": 0.05
          },
          "mapbox": {
           "style": "light"
          }
         }
        },
        "xaxis": {
         "anchor": "y",
         "domain": [
          0.0,
          1.0
         ],
         "title": {
          "text": "months_since_last_donation"
         }
        },
        "yaxis": {
         "anchor": "x",
         "domain": [
          0.0,
          1.0
         ],
         "title": {
          "text": "total_number_of_donations"
         }
        },
        "coloraxis": {
         "colorbar": {
          "title": {
           "text": "class"
          }
         },
         "colorscale": [
          [
           0.0,
           "#0d0887"
          ],
          [
           0.1111111111111111,
           "#46039f"
          ],
          [
           0.2222222222222222,
           "#7201a8"
          ],
          [
           0.3333333333333333,
           "#9c179e"
          ],
          [
           0.4444444444444444,
           "#bd3786"
          ],
          [
           0.5555555555555556,
           "#d8576b"
          ],
          [
           0.6666666666666666,
           "#ed7953"
          ],
          [
           0.7777777777777778,
           "#fb9f3a"
          ],
          [
           0.8888888888888888,
           "#fdca26"
          ],
          [
           1.0,
           "#f0f921"
          ]
         ]
        },
        "legend": {
         "tracegroupgap": 0
        },
        "margin": {
         "t": 60
        }
       },
       "config": {
        "plotlyServerURL": "https://plot.ly"
       }
      }
     },
     "metadata": {},
     "output_type": "display_data",
     "jetTransient": {
      "display_id": null
     }
    },
    {
     "data": {
      "application/vnd.plotly.v1+json": {
       "data": [
        {
         "hovertemplate": "months_since_last_donation=%{x}<br>total_number_of_donations=%{y}<br>class=%{marker.color}<extra></extra>",
         "legendgroup": "",
         "marker": {
          "color": {
           "dtype": "i1",
           "bdata": "AQEBAQAAAQABAQAAAQABAQEBAQEBAAEBAAAAAQEAAAEBAQABAQEBAQEAAQABAQAAAAAAAQAAAQEBAQAAAAEAAQEAAQAAAAAAAQABAQEAAAABAAAAAQAAAAABAQAAAAAAAAEBAQEBAAAAAAAAAAABAAABAAABAAABAQEBAQAAAQABAQAAAAAAAAAAAAAAAAAAAQEAAAEAAQAAAQAAAAAAAAAAAAEBAQAAAAAAAAAAAAABAQEAAQAAAAAAAAAAAQAAAAAAAQEAAAAAAAEAAAAAAAAAAAAAAAABAAAAAAABAQABAQAAAAAAAQAAAAAAAAAAAQABAQAAAAAAAAAAAQEAAAAAAAAAAQABAAEAAAAAAAAAAAAAAAAAAAABAAAAAAABAQEBAAAAAAAAAAAAAAAAAAABAAAAAAAAAAAAAAAAAQAAAQABAAAAAAEAAAABAQABAAABAAAAAAAAAAAAAAAAAAAAAAAAAAAAAAAAAAABAAAAAQEAAAAAAQAAAAAAAAAAAAAAAAAAAAAAAAAAAQAAAQAAAAAAAAAAAAAAAAAAAAAAAAAAAAAAAAAAAAAAAAAAAQAAAAAAAAAAAAAAAAAAAAAAAAAAAAAAAAAAAAAAAQAAAAAAAQAAAAAAAAEAAAAAAAAAAAAAAAAAAAAAAAAAAAAAAAABAQEAAQEBAAEBAQAAAAEAAQEBAQEBAQEAAAEAAAEBAQAAAAEBAQEBAQABAQABAAABAQABAQAAAAAAAAABAAEAAAAAAAEAAAABAAEBAQAAAAABAAAAAAEAAAAAAAABAAABAAAAAAAAAAAAAAAAAAAAAQAAAAAAAQAAAAEAAQAAAAAAAAAAAAAAAAAAAQEAAAABAAAAAAAAAAAAAAAAAAAAAAAAAAAAAAEAAQAAAAAAAAAAAAABAAAAAAAAAAAAAAAAAAABAAAAAAAAAAAAAAAAAQAAAAEAAAAAAAAAAAAAAAAAAAAAAAAAAQAAAAAAAAAAAAAAAAAAAA=="
          },
          "coloraxis": "coloraxis",
          "symbol": "circle"
         },
         "mode": "markers",
         "name": "",
         "orientation": "v",
         "showlegend": false,
         "x": {
          "dtype": "f8",
          "bdata": "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"
         },
         "xaxis": "x",
         "y": {
          "dtype": "f8",
          "bdata": "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"
         },
         "yaxis": "y",
         "type": "scatter"
        }
       ],
       "layout": {
        "template": {
         "data": {
          "histogram2dcontour": [
           {
            "type": "histogram2dcontour",
            "colorbar": {
             "outlinewidth": 0,
             "ticks": ""
            },
            "colorscale": [
             [
              0.0,
              "#0d0887"
             ],
             [
              0.1111111111111111,
              "#46039f"
             ],
             [
              0.2222222222222222,
              "#7201a8"
             ],
             [
              0.3333333333333333,
              "#9c179e"
             ],
             [
              0.4444444444444444,
              "#bd3786"
             ],
             [
              0.5555555555555556,
              "#d8576b"
             ],
             [
              0.6666666666666666,
              "#ed7953"
             ],
             [
              0.7777777777777778,
              "#fb9f3a"
             ],
             [
              0.8888888888888888,
              "#fdca26"
             ],
             [
              1.0,
              "#f0f921"
             ]
            ]
           }
          ],
          "choropleth": [
           {
            "type": "choropleth",
            "colorbar": {
             "outlinewidth": 0,
             "ticks": ""
            }
           }
          ],
          "histogram2d": [
           {
            "type": "histogram2d",
            "colorbar": {
             "outlinewidth": 0,
             "ticks": ""
            },
            "colorscale": [
             [
              0.0,
              "#0d0887"
             ],
             [
              0.1111111111111111,
              "#46039f"
             ],
             [
              0.2222222222222222,
              "#7201a8"
             ],
             [
              0.3333333333333333,
              "#9c179e"
             ],
             [
              0.4444444444444444,
              "#bd3786"
             ],
             [
              0.5555555555555556,
              "#d8576b"
             ],
             [
              0.6666666666666666,
              "#ed7953"
             ],
             [
              0.7777777777777778,
              "#fb9f3a"
             ],
             [
              0.8888888888888888,
              "#fdca26"
             ],
             [
              1.0,
              "#f0f921"
             ]
            ]
           }
          ],
          "heatmap": [
           {
            "type": "heatmap",
            "colorbar": {
             "outlinewidth": 0,
             "ticks": ""
            },
            "colorscale": [
             [
              0.0,
              "#0d0887"
             ],
             [
              0.1111111111111111,
              "#46039f"
             ],
             [
              0.2222222222222222,
              "#7201a8"
             ],
             [
              0.3333333333333333,
              "#9c179e"
             ],
             [
              0.4444444444444444,
              "#bd3786"
             ],
             [
              0.5555555555555556,
              "#d8576b"
             ],
             [
              0.6666666666666666,
              "#ed7953"
             ],
             [
              0.7777777777777778,
              "#fb9f3a"
             ],
             [
              0.8888888888888888,
              "#fdca26"
             ],
             [
              1.0,
              "#f0f921"
             ]
            ]
           }
          ],
          "contourcarpet": [
           {
            "type": "contourcarpet",
            "colorbar": {
             "outlinewidth": 0,
             "ticks": ""
            }
           }
          ],
          "contour": [
           {
            "type": "contour",
            "colorbar": {
             "outlinewidth": 0,
             "ticks": ""
            },
            "colorscale": [
             [
              0.0,
              "#0d0887"
             ],
             [
              0.1111111111111111,
              "#46039f"
             ],
             [
              0.2222222222222222,
              "#7201a8"
             ],
             [
              0.3333333333333333,
              "#9c179e"
             ],
             [
              0.4444444444444444,
              "#bd3786"
             ],
             [
              0.5555555555555556,
              "#d8576b"
             ],
             [
              0.6666666666666666,
              "#ed7953"
             ],
             [
              0.7777777777777778,
              "#fb9f3a"
             ],
             [
              0.8888888888888888,
              "#fdca26"
             ],
             [
              1.0,
              "#f0f921"
             ]
            ]
           }
          ],
          "surface": [
           {
            "type": "surface",
            "colorbar": {
             "outlinewidth": 0,
             "ticks": ""
            },
            "colorscale": [
             [
              0.0,
              "#0d0887"
             ],
             [
              0.1111111111111111,
              "#46039f"
             ],
             [
              0.2222222222222222,
              "#7201a8"
             ],
             [
              0.3333333333333333,
              "#9c179e"
             ],
             [
              0.4444444444444444,
              "#bd3786"
             ],
             [
              0.5555555555555556,
              "#d8576b"
             ],
             [
              0.6666666666666666,
              "#ed7953"
             ],
             [
              0.7777777777777778,
              "#fb9f3a"
             ],
             [
              0.8888888888888888,
              "#fdca26"
             ],
             [
              1.0,
              "#f0f921"
             ]
            ]
           }
          ],
          "mesh3d": [
           {
            "type": "mesh3d",
            "colorbar": {
             "outlinewidth": 0,
             "ticks": ""
            }
           }
          ],
          "scatter": [
           {
            "fillpattern": {
             "fillmode": "overlay",
             "size": 10,
             "solidity": 0.2
            },
            "type": "scatter"
           }
          ],
          "parcoords": [
           {
            "type": "parcoords",
            "line": {
             "colorbar": {
              "outlinewidth": 0,
              "ticks": ""
             }
            }
           }
          ],
          "scatterpolargl": [
           {
            "type": "scatterpolargl",
            "marker": {
             "colorbar": {
              "outlinewidth": 0,
              "ticks": ""
             }
            }
           }
          ],
          "bar": [
           {
            "error_x": {
             "color": "#2a3f5f"
            },
            "error_y": {
             "color": "#2a3f5f"
            },
            "marker": {
             "line": {
              "color": "#E5ECF6",
              "width": 0.5
             },
             "pattern": {
              "fillmode": "overlay",
              "size": 10,
              "solidity": 0.2
             }
            },
            "type": "bar"
           }
          ],
          "scattergeo": [
           {
            "type": "scattergeo",
            "marker": {
             "colorbar": {
              "outlinewidth": 0,
              "ticks": ""
             }
            }
           }
          ],
          "scatterpolar": [
           {
            "type": "scatterpolar",
            "marker": {
             "colorbar": {
              "outlinewidth": 0,
              "ticks": ""
             }
            }
           }
          ],
          "histogram": [
           {
            "marker": {
             "pattern": {
              "fillmode": "overlay",
              "size": 10,
              "solidity": 0.2
             }
            },
            "type": "histogram"
           }
          ],
          "scattergl": [
           {
            "type": "scattergl",
            "marker": {
             "colorbar": {
              "outlinewidth": 0,
              "ticks": ""
             }
            }
           }
          ],
          "scatter3d": [
           {
            "type": "scatter3d",
            "line": {
             "colorbar": {
              "outlinewidth": 0,
              "ticks": ""
             }
            },
            "marker": {
             "colorbar": {
              "outlinewidth": 0,
              "ticks": ""
             }
            }
           }
          ],
          "scattermap": [
           {
            "type": "scattermap",
            "marker": {
             "colorbar": {
              "outlinewidth": 0,
              "ticks": ""
             }
            }
           }
          ],
          "scattermapbox": [
           {
            "type": "scattermapbox",
            "marker": {
             "colorbar": {
              "outlinewidth": 0,
              "ticks": ""
             }
            }
           }
          ],
          "scatterternary": [
           {
            "type": "scatterternary",
            "marker": {
             "colorbar": {
              "outlinewidth": 0,
              "ticks": ""
             }
            }
           }
          ],
          "scattercarpet": [
           {
            "type": "scattercarpet",
            "marker": {
             "colorbar": {
              "outlinewidth": 0,
              "ticks": ""
             }
            }
           }
          ],
          "carpet": [
           {
            "aaxis": {
             "endlinecolor": "#2a3f5f",
             "gridcolor": "white",
             "linecolor": "white",
             "minorgridcolor": "white",
             "startlinecolor": "#2a3f5f"
            },
            "baxis": {
             "endlinecolor": "#2a3f5f",
             "gridcolor": "white",
             "linecolor": "white",
             "minorgridcolor": "white",
             "startlinecolor": "#2a3f5f"
            },
            "type": "carpet"
           }
          ],
          "table": [
           {
            "cells": {
             "fill": {
              "color": "#EBF0F8"
             },
             "line": {
              "color": "white"
             }
            },
            "header": {
             "fill": {
              "color": "#C8D4E3"
             },
             "line": {
              "color": "white"
             }
            },
            "type": "table"
           }
          ],
          "barpolar": [
           {
            "marker": {
             "line": {
              "color": "#E5ECF6",
              "width": 0.5
             },
             "pattern": {
              "fillmode": "overlay",
              "size": 10,
              "solidity": 0.2
             }
            },
            "type": "barpolar"
           }
          ],
          "pie": [
           {
            "automargin": true,
            "type": "pie"
           }
          ]
         },
         "layout": {
          "autotypenumbers": "strict",
          "colorway": [
           "#636efa",
           "#EF553B",
           "#00cc96",
           "#ab63fa",
           "#FFA15A",
           "#19d3f3",
           "#FF6692",
           "#B6E880",
           "#FF97FF",
           "#FECB52"
          ],
          "font": {
           "color": "#2a3f5f"
          },
          "hovermode": "closest",
          "hoverlabel": {
           "align": "left"
          },
          "paper_bgcolor": "white",
          "plot_bgcolor": "#E5ECF6",
          "polar": {
           "bgcolor": "#E5ECF6",
           "angularaxis": {
            "gridcolor": "white",
            "linecolor": "white",
            "ticks": ""
           },
           "radialaxis": {
            "gridcolor": "white",
            "linecolor": "white",
            "ticks": ""
           }
          },
          "ternary": {
           "bgcolor": "#E5ECF6",
           "aaxis": {
            "gridcolor": "white",
            "linecolor": "white",
            "ticks": ""
           },
           "baxis": {
            "gridcolor": "white",
            "linecolor": "white",
            "ticks": ""
           },
           "caxis": {
            "gridcolor": "white",
            "linecolor": "white",
            "ticks": ""
           }
          },
          "coloraxis": {
           "colorbar": {
            "outlinewidth": 0,
            "ticks": ""
           }
          },
          "colorscale": {
           "sequential": [
            [
             0.0,
             "#0d0887"
            ],
            [
             0.1111111111111111,
             "#46039f"
            ],
            [
             0.2222222222222222,
             "#7201a8"
            ],
            [
             0.3333333333333333,
             "#9c179e"
            ],
            [
             0.4444444444444444,
             "#bd3786"
            ],
            [
             0.5555555555555556,
             "#d8576b"
            ],
            [
             0.6666666666666666,
             "#ed7953"
            ],
            [
             0.7777777777777778,
             "#fb9f3a"
            ],
            [
             0.8888888888888888,
             "#fdca26"
            ],
            [
             1.0,
             "#f0f921"
            ]
           ],
           "sequentialminus": [
            [
             0.0,
             "#0d0887"
            ],
            [
             0.1111111111111111,
             "#46039f"
            ],
            [
             0.2222222222222222,
             "#7201a8"
            ],
            [
             0.3333333333333333,
             "#9c179e"
            ],
            [
             0.4444444444444444,
             "#bd3786"
            ],
            [
             0.5555555555555556,
             "#d8576b"
            ],
            [
             0.6666666666666666,
             "#ed7953"
            ],
            [
             0.7777777777777778,
             "#fb9f3a"
            ],
            [
             0.8888888888888888,
             "#fdca26"
            ],
            [
             1.0,
             "#f0f921"
            ]
           ],
           "diverging": [
            [
             0,
             "#8e0152"
            ],
            [
             0.1,
             "#c51b7d"
            ],
            [
             0.2,
             "#de77ae"
            ],
            [
             0.3,
             "#f1b6da"
            ],
            [
             0.4,
             "#fde0ef"
            ],
            [
             0.5,
             "#f7f7f7"
            ],
            [
             0.6,
             "#e6f5d0"
            ],
            [
             0.7,
             "#b8e186"
            ],
            [
             0.8,
             "#7fbc41"
            ],
            [
             0.9,
             "#4d9221"
            ],
            [
             1,
             "#276419"
            ]
           ]
          },
          "xaxis": {
           "gridcolor": "white",
           "linecolor": "white",
           "ticks": "",
           "title": {
            "standoff": 15
           },
           "zerolinecolor": "white",
           "automargin": true,
           "zerolinewidth": 2
          },
          "yaxis": {
           "gridcolor": "white",
           "linecolor": "white",
           "ticks": "",
           "title": {
            "standoff": 15
           },
           "zerolinecolor": "white",
           "automargin": true,
           "zerolinewidth": 2
          },
          "scene": {
           "xaxis": {
            "backgroundcolor": "#E5ECF6",
            "gridcolor": "white",
            "linecolor": "white",
            "showbackground": true,
            "ticks": "",
            "zerolinecolor": "white",
            "gridwidth": 2
           },
           "yaxis": {
            "backgroundcolor": "#E5ECF6",
            "gridcolor": "white",
            "linecolor": "white",
            "showbackground": true,
            "ticks": "",
            "zerolinecolor": "white",
            "gridwidth": 2
           },
           "zaxis": {
            "backgroundcolor": "#E5ECF6",
            "gridcolor": "white",
            "linecolor": "white",
            "showbackground": true,
            "ticks": "",
            "zerolinecolor": "white",
            "gridwidth": 2
           }
          },
          "shapedefaults": {
           "line": {
            "color": "#2a3f5f"
           }
          },
          "annotationdefaults": {
           "arrowcolor": "#2a3f5f",
           "arrowhead": 0,
           "arrowwidth": 1
          },
          "geo": {
           "bgcolor": "white",
           "landcolor": "#E5ECF6",
           "subunitcolor": "white",
           "showland": true,
           "showlakes": true,
           "lakecolor": "white"
          },
          "title": {
           "x": 0.05
          },
          "mapbox": {
           "style": "light"
          }
         }
        },
        "xaxis": {
         "anchor": "y",
         "domain": [
          0.0,
          1.0
         ],
         "title": {
          "text": "months_since_last_donation"
         }
        },
        "yaxis": {
         "anchor": "x",
         "domain": [
          0.0,
          1.0
         ],
         "title": {
          "text": "total_number_of_donations"
         }
        },
        "coloraxis": {
         "colorbar": {
          "title": {
           "text": "class"
          }
         },
         "colorscale": [
          [
           0.0,
           "#0d0887"
          ],
          [
           0.1111111111111111,
           "#46039f"
          ],
          [
           0.2222222222222222,
           "#7201a8"
          ],
          [
           0.3333333333333333,
           "#9c179e"
          ],
          [
           0.4444444444444444,
           "#bd3786"
          ],
          [
           0.5555555555555556,
           "#d8576b"
          ],
          [
           0.6666666666666666,
           "#ed7953"
          ],
          [
           0.7777777777777778,
           "#fb9f3a"
          ],
          [
           0.8888888888888888,
           "#fdca26"
          ],
          [
           1.0,
           "#f0f921"
          ]
         ]
        },
        "legend": {
         "tracegroupgap": 0
        },
        "margin": {
         "t": 60
        }
       },
       "config": {
        "plotlyServerURL": "https://plot.ly"
       }
      }
     },
     "metadata": {},
     "output_type": "display_data",
     "jetTransient": {
      "display_id": null
     }
    },
    {
     "data": {
      "application/vnd.plotly.v1+json": {
       "data": [
        {
         "bingroup": "x",
         "hovertemplate": "class=1<br>total_blood_donated=%{x}<br>count=%{y}<extra></extra>",
         "legendgroup": "1",
         "marker": {
          "color": "#636efa",
          "pattern": {
           "shape": ""
          }
         },
         "name": "1",
         "orientation": "v",
         "showlegend": true,
         "x": {
          "dtype": "f8",
          "bdata": "AAAAAABqyEAAAAAAAGSpQAAAAAAAQK9AAAAAAACIs0AAAAAAAFibQAAAAAAAlKFAAAAAAAB2xkAAAAAAAIijQAAAAAAAcJdAAAAAAACIk0AAAAAAAFirQAAAAAAATK1AAAAAAABwl0AAAAAAAHCHQAAAAAAAcIdAAAAAAABwl0AAAAAAAHCXQAAAAAAAcKdAAAAAAACIk0AAAAAAAIijQAAAAAAAiKNAAAAAAACUoUAAAAAAAECfQAAAAAAAcKdAAAAAAABwl0AAAAAAAFirQAAAAAAAWJtAAAAAAABkqUAAAAAAAIiTQAAAAAAAiLNAAAAAAACUoUAAAAAAAHylQAAAAAAAiJNAAAAAAACOskAAAAAAAECfQAAAAAAAWJtAAAAAAABAn0AAAAAAAIiTQAAAAAAAcIdAAAAAAABAj0AAAAAAAJqwQAAAAAAAQH9AAAAAAABAf0AAAAAAAECPQAAAAAAAcJdAAAAAAABwl0AAAAAAAFibQAAAAAAAQH9AAAAAAACUoUAAAAAAAECPQAAAAAAAWJtAAAAAAABAn0AAAAAAAGSpQAAAAAAAiJNAAAAAAABAn0AAAAAAAFibQAAAAAAAfKVAAAAAAABwh0AAAAAAAIiTQAAAAAAAcJdAAAAAAACIk0AAAAAAAECfQAAAAAAAQJ9AAAAAAABAf0AAAAAAAEB/QAAAAAAAcIdAAAAAAABAf0AAAAAAAFibQAAAAAAAQG9AAAAAAABAb0AAAAAAAEBvQAAAAAAAQG9AAAAAAABAj0AAAAAAAIiTQAAAAAAAcJdAAAAAAABAj0AAAAAAAIiTQAAAAAAAiJNAAAAAAABAn0AAAAAAAEB/QAAAAAAAQG9AAAAAAABAb0AAAAAAAEBvQAAAAAAAQG9AAAAAAABAb0AAAAAAAEBvQAAAAAAAQJ9AAAAAAABwh0AAAAAAAJqwQAAAAAAAQJ9AAAAAAABwh0AAAAAAAFirQAAAAAAAcIdAAAAAAABAj0AAAAAAAECPQAAAAAAAQH9AAAAAAACIk0AAAAAAAHCHQAAAAAAAQI9AAAAAAACIk0AAAAAAAJShQAAAAAAAiJNAAAAAAABAn0AAAAAAAECPQAAAAAAAcJdAAAAAAABYm0AAAAAAAHCHQAAAAAAAQG9AAAAAAABAf0AAAAAAAIiTQAAAAAAAQH9AAAAAAABwh0AAAAAAAEB/QAAAAAAAcIdAAAAAAABYm0AAAAAAAEBvQAAAAAAAQG9AAAAAAACIk0AAAAAAAP/EQAAAAAAAfLVAAAAAAACawEAAAAAAAGS5QAAAAAAABcRAAAAAAACCtEAAAAAAAIK0QAAAAAAAZKlAAAAAAABAj0AAAAAAAECvQAAAAAAAiJNAAAAAAAAdwEAAAAAAAIijQAAAAAAAiKNAAAAAAAB8pUAAAAAAAHylQAAAAAAAZKlAAAAAAACIo0AAAAAAAIiTQAAAAAAAcJdAAAAAAACIk0AAAAAAAECPQAAAAAAAiJNAAAAAAABYm0AAAAAAAHCXQAAAAAAAQJ9AAAAAAABAf0AAAAAAAHCXQAAAAAAAQK9AAAAAAABAf0AAAAAAAEB/QAAAAAAAcKdAAAAAAABYm0AAAAAAAHCXQAAAAAAAcJdAAAAAAAB8pUAAAAAAAECvQAAAAAAAcJdAAAAAAABAf0AAAAAAAEB/QAAAAAAAcJdAAAAAAABAj0AAAAAAAEBvQAAAAAAAQG9AAAAAAAB8pUAAAAAAAEBvQAAAAAAAQG9AAAAAAABAb0AAAAAAAECPQAAAAAAAcIdAAAAAAACUoUAAAAAAAECfQAAAAAAAQH9AAAAAAABAb0AAAAAAAHCHQAAAAAAAWKtAAAAAAABYm0AAAAAAAEB/QAAAAAAAQH9AAAAAAABAb0A="
         },
         "xaxis": "x",
         "yaxis": "y",
         "type": "histogram"
        },
        {
         "bingroup": "x",
         "hovertemplate": "class=0<br>total_blood_donated=%{x}<br>count=%{y}<extra></extra>",
         "legendgroup": "0",
         "marker": {
          "color": "#EF553B",
          "pattern": {
           "shape": ""
          }
         },
         "name": "0",
         "orientation": "v",
         "showlegend": true,
         "x": {
          "dtype": "f8",
          "bdata": "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"
         },
         "xaxis": "x",
         "yaxis": "y",
         "type": "histogram"
        }
       ],
       "layout": {
        "template": {
         "data": {
          "histogram2dcontour": [
           {
            "type": "histogram2dcontour",
            "colorbar": {
             "outlinewidth": 0,
             "ticks": ""
            },
            "colorscale": [
             [
              0.0,
              "#0d0887"
             ],
             [
              0.1111111111111111,
              "#46039f"
             ],
             [
              0.2222222222222222,
              "#7201a8"
             ],
             [
              0.3333333333333333,
              "#9c179e"
             ],
             [
              0.4444444444444444,
              "#bd3786"
             ],
             [
              0.5555555555555556,
              "#d8576b"
             ],
             [
              0.6666666666666666,
              "#ed7953"
             ],
             [
              0.7777777777777778,
              "#fb9f3a"
             ],
             [
              0.8888888888888888,
              "#fdca26"
             ],
             [
              1.0,
              "#f0f921"
             ]
            ]
           }
          ],
          "choropleth": [
           {
            "type": "choropleth",
            "colorbar": {
             "outlinewidth": 0,
             "ticks": ""
            }
           }
          ],
          "histogram2d": [
           {
            "type": "histogram2d",
            "colorbar": {
             "outlinewidth": 0,
             "ticks": ""
            },
            "colorscale": [
             [
              0.0,
              "#0d0887"
             ],
             [
              0.1111111111111111,
              "#46039f"
             ],
             [
              0.2222222222222222,
              "#7201a8"
             ],
             [
              0.3333333333333333,
              "#9c179e"
             ],
             [
              0.4444444444444444,
              "#bd3786"
             ],
             [
              0.5555555555555556,
              "#d8576b"
             ],
             [
              0.6666666666666666,
              "#ed7953"
             ],
             [
              0.7777777777777778,
              "#fb9f3a"
             ],
             [
              0.8888888888888888,
              "#fdca26"
             ],
             [
              1.0,
              "#f0f921"
             ]
            ]
           }
          ],
          "heatmap": [
           {
            "type": "heatmap",
            "colorbar": {
             "outlinewidth": 0,
             "ticks": ""
            },
            "colorscale": [
             [
              0.0,
              "#0d0887"
             ],
             [
              0.1111111111111111,
              "#46039f"
             ],
             [
              0.2222222222222222,
              "#7201a8"
             ],
             [
              0.3333333333333333,
              "#9c179e"
             ],
             [
              0.4444444444444444,
              "#bd3786"
             ],
             [
              0.5555555555555556,
              "#d8576b"
             ],
             [
              0.6666666666666666,
              "#ed7953"
             ],
             [
              0.7777777777777778,
              "#fb9f3a"
             ],
             [
              0.8888888888888888,
              "#fdca26"
             ],
             [
              1.0,
              "#f0f921"
             ]
            ]
           }
          ],
          "contourcarpet": [
           {
            "type": "contourcarpet",
            "colorbar": {
             "outlinewidth": 0,
             "ticks": ""
            }
           }
          ],
          "contour": [
           {
            "type": "contour",
            "colorbar": {
             "outlinewidth": 0,
             "ticks": ""
            },
            "colorscale": [
             [
              0.0,
              "#0d0887"
             ],
             [
              0.1111111111111111,
              "#46039f"
             ],
             [
              0.2222222222222222,
              "#7201a8"
             ],
             [
              0.3333333333333333,
              "#9c179e"
             ],
             [
              0.4444444444444444,
              "#bd3786"
             ],
             [
              0.5555555555555556,
              "#d8576b"
             ],
             [
              0.6666666666666666,
              "#ed7953"
             ],
             [
              0.7777777777777778,
              "#fb9f3a"
             ],
             [
              0.8888888888888888,
              "#fdca26"
             ],
             [
              1.0,
              "#f0f921"
             ]
            ]
           }
          ],
          "surface": [
           {
            "type": "surface",
            "colorbar": {
             "outlinewidth": 0,
             "ticks": ""
            },
            "colorscale": [
             [
              0.0,
              "#0d0887"
             ],
             [
              0.1111111111111111,
              "#46039f"
             ],
             [
              0.2222222222222222,
              "#7201a8"
             ],
             [
              0.3333333333333333,
              "#9c179e"
             ],
             [
              0.4444444444444444,
              "#bd3786"
             ],
             [
              0.5555555555555556,
              "#d8576b"
             ],
             [
              0.6666666666666666,
              "#ed7953"
             ],
             [
              0.7777777777777778,
              "#fb9f3a"
             ],
             [
              0.8888888888888888,
              "#fdca26"
             ],
             [
              1.0,
              "#f0f921"
             ]
            ]
           }
          ],
          "mesh3d": [
           {
            "type": "mesh3d",
            "colorbar": {
             "outlinewidth": 0,
             "ticks": ""
            }
           }
          ],
          "scatter": [
           {
            "fillpattern": {
             "fillmode": "overlay",
             "size": 10,
             "solidity": 0.2
            },
            "type": "scatter"
           }
          ],
          "parcoords": [
           {
            "type": "parcoords",
            "line": {
             "colorbar": {
              "outlinewidth": 0,
              "ticks": ""
             }
            }
           }
          ],
          "scatterpolargl": [
           {
            "type": "scatterpolargl",
            "marker": {
             "colorbar": {
              "outlinewidth": 0,
              "ticks": ""
             }
            }
           }
          ],
          "bar": [
           {
            "error_x": {
             "color": "#2a3f5f"
            },
            "error_y": {
             "color": "#2a3f5f"
            },
            "marker": {
             "line": {
              "color": "#E5ECF6",
              "width": 0.5
             },
             "pattern": {
              "fillmode": "overlay",
              "size": 10,
              "solidity": 0.2
             }
            },
            "type": "bar"
           }
          ],
          "scattergeo": [
           {
            "type": "scattergeo",
            "marker": {
             "colorbar": {
              "outlinewidth": 0,
              "ticks": ""
             }
            }
           }
          ],
          "scatterpolar": [
           {
            "type": "scatterpolar",
            "marker": {
             "colorbar": {
              "outlinewidth": 0,
              "ticks": ""
             }
            }
           }
          ],
          "histogram": [
           {
            "marker": {
             "pattern": {
              "fillmode": "overlay",
              "size": 10,
              "solidity": 0.2
             }
            },
            "type": "histogram"
           }
          ],
          "scattergl": [
           {
            "type": "scattergl",
            "marker": {
             "colorbar": {
              "outlinewidth": 0,
              "ticks": ""
             }
            }
           }
          ],
          "scatter3d": [
           {
            "type": "scatter3d",
            "line": {
             "colorbar": {
              "outlinewidth": 0,
              "ticks": ""
             }
            },
            "marker": {
             "colorbar": {
              "outlinewidth": 0,
              "ticks": ""
             }
            }
           }
          ],
          "scattermap": [
           {
            "type": "scattermap",
            "marker": {
             "colorbar": {
              "outlinewidth": 0,
              "ticks": ""
             }
            }
           }
          ],
          "scattermapbox": [
           {
            "type": "scattermapbox",
            "marker": {
             "colorbar": {
              "outlinewidth": 0,
              "ticks": ""
             }
            }
           }
          ],
          "scatterternary": [
           {
            "type": "scatterternary",
            "marker": {
             "colorbar": {
              "outlinewidth": 0,
              "ticks": ""
             }
            }
           }
          ],
          "scattercarpet": [
           {
            "type": "scattercarpet",
            "marker": {
             "colorbar": {
              "outlinewidth": 0,
              "ticks": ""
             }
            }
           }
          ],
          "carpet": [
           {
            "aaxis": {
             "endlinecolor": "#2a3f5f",
             "gridcolor": "white",
             "linecolor": "white",
             "minorgridcolor": "white",
             "startlinecolor": "#2a3f5f"
            },
            "baxis": {
             "endlinecolor": "#2a3f5f",
             "gridcolor": "white",
             "linecolor": "white",
             "minorgridcolor": "white",
             "startlinecolor": "#2a3f5f"
            },
            "type": "carpet"
           }
          ],
          "table": [
           {
            "cells": {
             "fill": {
              "color": "#EBF0F8"
             },
             "line": {
              "color": "white"
             }
            },
            "header": {
             "fill": {
              "color": "#C8D4E3"
             },
             "line": {
              "color": "white"
             }
            },
            "type": "table"
           }
          ],
          "barpolar": [
           {
            "marker": {
             "line": {
              "color": "#E5ECF6",
              "width": 0.5
             },
             "pattern": {
              "fillmode": "overlay",
              "size": 10,
              "solidity": 0.2
             }
            },
            "type": "barpolar"
           }
          ],
          "pie": [
           {
            "automargin": true,
            "type": "pie"
           }
          ]
         },
         "layout": {
          "autotypenumbers": "strict",
          "colorway": [
           "#636efa",
           "#EF553B",
           "#00cc96",
           "#ab63fa",
           "#FFA15A",
           "#19d3f3",
           "#FF6692",
           "#B6E880",
           "#FF97FF",
           "#FECB52"
          ],
          "font": {
           "color": "#2a3f5f"
          },
          "hovermode": "closest",
          "hoverlabel": {
           "align": "left"
          },
          "paper_bgcolor": "white",
          "plot_bgcolor": "#E5ECF6",
          "polar": {
           "bgcolor": "#E5ECF6",
           "angularaxis": {
            "gridcolor": "white",
            "linecolor": "white",
            "ticks": ""
           },
           "radialaxis": {
            "gridcolor": "white",
            "linecolor": "white",
            "ticks": ""
           }
          },
          "ternary": {
           "bgcolor": "#E5ECF6",
           "aaxis": {
            "gridcolor": "white",
            "linecolor": "white",
            "ticks": ""
           },
           "baxis": {
            "gridcolor": "white",
            "linecolor": "white",
            "ticks": ""
           },
           "caxis": {
            "gridcolor": "white",
            "linecolor": "white",
            "ticks": ""
           }
          },
          "coloraxis": {
           "colorbar": {
            "outlinewidth": 0,
            "ticks": ""
           }
          },
          "colorscale": {
           "sequential": [
            [
             0.0,
             "#0d0887"
            ],
            [
             0.1111111111111111,
             "#46039f"
            ],
            [
             0.2222222222222222,
             "#7201a8"
            ],
            [
             0.3333333333333333,
             "#9c179e"
            ],
            [
             0.4444444444444444,
             "#bd3786"
            ],
            [
             0.5555555555555556,
             "#d8576b"
            ],
            [
             0.6666666666666666,
             "#ed7953"
            ],
            [
             0.7777777777777778,
             "#fb9f3a"
            ],
            [
             0.8888888888888888,
             "#fdca26"
            ],
            [
             1.0,
             "#f0f921"
            ]
           ],
           "sequentialminus": [
            [
             0.0,
             "#0d0887"
            ],
            [
             0.1111111111111111,
             "#46039f"
            ],
            [
             0.2222222222222222,
             "#7201a8"
            ],
            [
             0.3333333333333333,
             "#9c179e"
            ],
            [
             0.4444444444444444,
             "#bd3786"
            ],
            [
             0.5555555555555556,
             "#d8576b"
            ],
            [
             0.6666666666666666,
             "#ed7953"
            ],
            [
             0.7777777777777778,
             "#fb9f3a"
            ],
            [
             0.8888888888888888,
             "#fdca26"
            ],
            [
             1.0,
             "#f0f921"
            ]
           ],
           "diverging": [
            [
             0,
             "#8e0152"
            ],
            [
             0.1,
             "#c51b7d"
            ],
            [
             0.2,
             "#de77ae"
            ],
            [
             0.3,
             "#f1b6da"
            ],
            [
             0.4,
             "#fde0ef"
            ],
            [
             0.5,
             "#f7f7f7"
            ],
            [
             0.6,
             "#e6f5d0"
            ],
            [
             0.7,
             "#b8e186"
            ],
            [
             0.8,
             "#7fbc41"
            ],
            [
             0.9,
             "#4d9221"
            ],
            [
             1,
             "#276419"
            ]
           ]
          },
          "xaxis": {
           "gridcolor": "white",
           "linecolor": "white",
           "ticks": "",
           "title": {
            "standoff": 15
           },
           "zerolinecolor": "white",
           "automargin": true,
           "zerolinewidth": 2
          },
          "yaxis": {
           "gridcolor": "white",
           "linecolor": "white",
           "ticks": "",
           "title": {
            "standoff": 15
           },
           "zerolinecolor": "white",
           "automargin": true,
           "zerolinewidth": 2
          },
          "scene": {
           "xaxis": {
            "backgroundcolor": "#E5ECF6",
            "gridcolor": "white",
            "linecolor": "white",
            "showbackground": true,
            "ticks": "",
            "zerolinecolor": "white",
            "gridwidth": 2
           },
           "yaxis": {
            "backgroundcolor": "#E5ECF6",
            "gridcolor": "white",
            "linecolor": "white",
            "showbackground": true,
            "ticks": "",
            "zerolinecolor": "white",
            "gridwidth": 2
           },
           "zaxis": {
            "backgroundcolor": "#E5ECF6",
            "gridcolor": "white",
            "linecolor": "white",
            "showbackground": true,
            "ticks": "",
            "zerolinecolor": "white",
            "gridwidth": 2
           }
          },
          "shapedefaults": {
           "line": {
            "color": "#2a3f5f"
           }
          },
          "annotationdefaults": {
           "arrowcolor": "#2a3f5f",
           "arrowhead": 0,
           "arrowwidth": 1
          },
          "geo": {
           "bgcolor": "white",
           "landcolor": "#E5ECF6",
           "subunitcolor": "white",
           "showland": true,
           "showlakes": true,
           "lakecolor": "white"
          },
          "title": {
           "x": 0.05
          },
          "mapbox": {
           "style": "light"
          }
         }
        },
        "xaxis": {
         "anchor": "y",
         "domain": [
          0.0,
          1.0
         ],
         "title": {
          "text": "total_blood_donated"
         }
        },
        "yaxis": {
         "anchor": "x",
         "domain": [
          0.0,
          1.0
         ],
         "title": {
          "text": "count"
         }
        },
        "legend": {
         "title": {
          "text": "class"
         },
         "tracegroupgap": 0
        },
        "margin": {
         "t": 60
        },
        "barmode": "relative"
       },
       "config": {
        "plotlyServerURL": "https://plot.ly"
       }
      }
     },
     "metadata": {},
     "output_type": "display_data",
     "jetTransient": {
      "display_id": null
     }
    },
    {
     "data": {
      "application/vnd.plotly.v1+json": {
       "data": [
        {
         "hovertemplate": "months_since_last_donation=%{x}<br>months_since_first_donation=%{y}<br>class=%{marker.color}<extra></extra>",
         "legendgroup": "",
         "marker": {
          "color": {
           "dtype": "i1",
           "bdata": "AQEBAQAAAQABAQAAAQABAQEBAQEBAAEBAAAAAQEAAAEBAQABAQEBAQEAAQABAQAAAAAAAQAAAQEBAQAAAAEAAQEAAQAAAAAAAQABAQEAAAABAAAAAQAAAAABAQAAAAAAAAEBAQEBAAAAAAAAAAABAAABAAABAAABAQEBAQAAAQABAQAAAAAAAAAAAAAAAAAAAQEAAAEAAQAAAQAAAAAAAAAAAAEBAQAAAAAAAAAAAAABAQEAAQAAAAAAAAAAAQAAAAAAAQEAAAAAAAEAAAAAAAAAAAAAAAABAAAAAAABAQABAQAAAAAAAQAAAAAAAAAAAQABAQAAAAAAAAAAAQEAAAAAAAAAAQABAAEAAAAAAAAAAAAAAAAAAAABAAAAAAABAQEBAAAAAAAAAAAAAAAAAAABAAAAAAAAAAAAAAAAAQAAAQABAAAAAAEAAAABAQABAAABAAAAAAAAAAAAAAAAAAAAAAAAAAAAAAAAAAABAAAAAQEAAAAAAQAAAAAAAAAAAAAAAAAAAAAAAAAAAQAAAQAAAAAAAAAAAAAAAAAAAAAAAAAAAAAAAAAAAAAAAAAAAQAAAAAAAAAAAAAAAAAAAAAAAAAAAAAAAAAAAAAAAQAAAAAAAQAAAAAAAAEAAAAAAAAAAAAAAAAAAAAAAAAAAAAAAAABAQEAAQEBAAEBAQAAAAEAAQEBAQEBAQEAAAEAAAEBAQAAAAEBAQEBAQABAQABAAABAQABAQAAAAAAAAABAAEAAAAAAAEAAAABAAEBAQAAAAABAAAAAAEAAAAAAAABAAABAAAAAAAAAAAAAAAAAAAAAQAAAAAAAQAAAAEAAQAAAAAAAAAAAAAAAAAAAQEAAAABAAAAAAAAAAAAAAAAAAAAAAAAAAAAAAEAAQAAAAAAAAAAAAABAAAAAAAAAAAAAAAAAAABAAAAAAAAAAAAAAAAAQAAAAEAAAAAAAAAAAAAAAAAAAAAAAAAAQAAAAAAAAAAAAAAAAAAAA=="
          },
          "coloraxis": "coloraxis",
          "symbol": "circle"
         },
         "mode": "markers",
         "name": "",
         "orientation": "v",
         "showlegend": false,
         "x": {
          "dtype": "f8",
          "bdata": "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"
         },
         "xaxis": "x",
         "y": {
          "dtype": "f8",
          "bdata": "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"
         },
         "yaxis": "y",
         "type": "scatter"
        }
       ],
       "layout": {
        "template": {
         "data": {
          "histogram2dcontour": [
           {
            "type": "histogram2dcontour",
            "colorbar": {
             "outlinewidth": 0,
             "ticks": ""
            },
            "colorscale": [
             [
              0.0,
              "#0d0887"
             ],
             [
              0.1111111111111111,
              "#46039f"
             ],
             [
              0.2222222222222222,
              "#7201a8"
             ],
             [
              0.3333333333333333,
              "#9c179e"
             ],
             [
              0.4444444444444444,
              "#bd3786"
             ],
             [
              0.5555555555555556,
              "#d8576b"
             ],
             [
              0.6666666666666666,
              "#ed7953"
             ],
             [
              0.7777777777777778,
              "#fb9f3a"
             ],
             [
              0.8888888888888888,
              "#fdca26"
             ],
             [
              1.0,
              "#f0f921"
             ]
            ]
           }
          ],
          "choropleth": [
           {
            "type": "choropleth",
            "colorbar": {
             "outlinewidth": 0,
             "ticks": ""
            }
           }
          ],
          "histogram2d": [
           {
            "type": "histogram2d",
            "colorbar": {
             "outlinewidth": 0,
             "ticks": ""
            },
            "colorscale": [
             [
              0.0,
              "#0d0887"
             ],
             [
              0.1111111111111111,
              "#46039f"
             ],
             [
              0.2222222222222222,
              "#7201a8"
             ],
             [
              0.3333333333333333,
              "#9c179e"
             ],
             [
              0.4444444444444444,
              "#bd3786"
             ],
             [
              0.5555555555555556,
              "#d8576b"
             ],
             [
              0.6666666666666666,
              "#ed7953"
             ],
             [
              0.7777777777777778,
              "#fb9f3a"
             ],
             [
              0.8888888888888888,
              "#fdca26"
             ],
             [
              1.0,
              "#f0f921"
             ]
            ]
           }
          ],
          "heatmap": [
           {
            "type": "heatmap",
            "colorbar": {
             "outlinewidth": 0,
             "ticks": ""
            },
            "colorscale": [
             [
              0.0,
              "#0d0887"
             ],
             [
              0.1111111111111111,
              "#46039f"
             ],
             [
              0.2222222222222222,
              "#7201a8"
             ],
             [
              0.3333333333333333,
              "#9c179e"
             ],
             [
              0.4444444444444444,
              "#bd3786"
             ],
             [
              0.5555555555555556,
              "#d8576b"
             ],
             [
              0.6666666666666666,
              "#ed7953"
             ],
             [
              0.7777777777777778,
              "#fb9f3a"
             ],
             [
              0.8888888888888888,
              "#fdca26"
             ],
             [
              1.0,
              "#f0f921"
             ]
            ]
           }
          ],
          "contourcarpet": [
           {
            "type": "contourcarpet",
            "colorbar": {
             "outlinewidth": 0,
             "ticks": ""
            }
           }
          ],
          "contour": [
           {
            "type": "contour",
            "colorbar": {
             "outlinewidth": 0,
             "ticks": ""
            },
            "colorscale": [
             [
              0.0,
              "#0d0887"
             ],
             [
              0.1111111111111111,
              "#46039f"
             ],
             [
              0.2222222222222222,
              "#7201a8"
             ],
             [
              0.3333333333333333,
              "#9c179e"
             ],
             [
              0.4444444444444444,
              "#bd3786"
             ],
             [
              0.5555555555555556,
              "#d8576b"
             ],
             [
              0.6666666666666666,
              "#ed7953"
             ],
             [
              0.7777777777777778,
              "#fb9f3a"
             ],
             [
              0.8888888888888888,
              "#fdca26"
             ],
             [
              1.0,
              "#f0f921"
             ]
            ]
           }
          ],
          "surface": [
           {
            "type": "surface",
            "colorbar": {
             "outlinewidth": 0,
             "ticks": ""
            },
            "colorscale": [
             [
              0.0,
              "#0d0887"
             ],
             [
              0.1111111111111111,
              "#46039f"
             ],
             [
              0.2222222222222222,
              "#7201a8"
             ],
             [
              0.3333333333333333,
              "#9c179e"
             ],
             [
              0.4444444444444444,
              "#bd3786"
             ],
             [
              0.5555555555555556,
              "#d8576b"
             ],
             [
              0.6666666666666666,
              "#ed7953"
             ],
             [
              0.7777777777777778,
              "#fb9f3a"
             ],
             [
              0.8888888888888888,
              "#fdca26"
             ],
             [
              1.0,
              "#f0f921"
             ]
            ]
           }
          ],
          "mesh3d": [
           {
            "type": "mesh3d",
            "colorbar": {
             "outlinewidth": 0,
             "ticks": ""
            }
           }
          ],
          "scatter": [
           {
            "fillpattern": {
             "fillmode": "overlay",
             "size": 10,
             "solidity": 0.2
            },
            "type": "scatter"
           }
          ],
          "parcoords": [
           {
            "type": "parcoords",
            "line": {
             "colorbar": {
              "outlinewidth": 0,
              "ticks": ""
             }
            }
           }
          ],
          "scatterpolargl": [
           {
            "type": "scatterpolargl",
            "marker": {
             "colorbar": {
              "outlinewidth": 0,
              "ticks": ""
             }
            }
           }
          ],
          "bar": [
           {
            "error_x": {
             "color": "#2a3f5f"
            },
            "error_y": {
             "color": "#2a3f5f"
            },
            "marker": {
             "line": {
              "color": "#E5ECF6",
              "width": 0.5
             },
             "pattern": {
              "fillmode": "overlay",
              "size": 10,
              "solidity": 0.2
             }
            },
            "type": "bar"
           }
          ],
          "scattergeo": [
           {
            "type": "scattergeo",
            "marker": {
             "colorbar": {
              "outlinewidth": 0,
              "ticks": ""
             }
            }
           }
          ],
          "scatterpolar": [
           {
            "type": "scatterpolar",
            "marker": {
             "colorbar": {
              "outlinewidth": 0,
              "ticks": ""
             }
            }
           }
          ],
          "histogram": [
           {
            "marker": {
             "pattern": {
              "fillmode": "overlay",
              "size": 10,
              "solidity": 0.2
             }
            },
            "type": "histogram"
           }
          ],
          "scattergl": [
           {
            "type": "scattergl",
            "marker": {
             "colorbar": {
              "outlinewidth": 0,
              "ticks": ""
             }
            }
           }
          ],
          "scatter3d": [
           {
            "type": "scatter3d",
            "line": {
             "colorbar": {
              "outlinewidth": 0,
              "ticks": ""
             }
            },
            "marker": {
             "colorbar": {
              "outlinewidth": 0,
              "ticks": ""
             }
            }
           }
          ],
          "scattermap": [
           {
            "type": "scattermap",
            "marker": {
             "colorbar": {
              "outlinewidth": 0,
              "ticks": ""
             }
            }
           }
          ],
          "scattermapbox": [
           {
            "type": "scattermapbox",
            "marker": {
             "colorbar": {
              "outlinewidth": 0,
              "ticks": ""
             }
            }
           }
          ],
          "scatterternary": [
           {
            "type": "scatterternary",
            "marker": {
             "colorbar": {
              "outlinewidth": 0,
              "ticks": ""
             }
            }
           }
          ],
          "scattercarpet": [
           {
            "type": "scattercarpet",
            "marker": {
             "colorbar": {
              "outlinewidth": 0,
              "ticks": ""
             }
            }
           }
          ],
          "carpet": [
           {
            "aaxis": {
             "endlinecolor": "#2a3f5f",
             "gridcolor": "white",
             "linecolor": "white",
             "minorgridcolor": "white",
             "startlinecolor": "#2a3f5f"
            },
            "baxis": {
             "endlinecolor": "#2a3f5f",
             "gridcolor": "white",
             "linecolor": "white",
             "minorgridcolor": "white",
             "startlinecolor": "#2a3f5f"
            },
            "type": "carpet"
           }
          ],
          "table": [
           {
            "cells": {
             "fill": {
              "color": "#EBF0F8"
             },
             "line": {
              "color": "white"
             }
            },
            "header": {
             "fill": {
              "color": "#C8D4E3"
             },
             "line": {
              "color": "white"
             }
            },
            "type": "table"
           }
          ],
          "barpolar": [
           {
            "marker": {
             "line": {
              "color": "#E5ECF6",
              "width": 0.5
             },
             "pattern": {
              "fillmode": "overlay",
              "size": 10,
              "solidity": 0.2
             }
            },
            "type": "barpolar"
           }
          ],
          "pie": [
           {
            "automargin": true,
            "type": "pie"
           }
          ]
         },
         "layout": {
          "autotypenumbers": "strict",
          "colorway": [
           "#636efa",
           "#EF553B",
           "#00cc96",
           "#ab63fa",
           "#FFA15A",
           "#19d3f3",
           "#FF6692",
           "#B6E880",
           "#FF97FF",
           "#FECB52"
          ],
          "font": {
           "color": "#2a3f5f"
          },
          "hovermode": "closest",
          "hoverlabel": {
           "align": "left"
          },
          "paper_bgcolor": "white",
          "plot_bgcolor": "#E5ECF6",
          "polar": {
           "bgcolor": "#E5ECF6",
           "angularaxis": {
            "gridcolor": "white",
            "linecolor": "white",
            "ticks": ""
           },
           "radialaxis": {
            "gridcolor": "white",
            "linecolor": "white",
            "ticks": ""
           }
          },
          "ternary": {
           "bgcolor": "#E5ECF6",
           "aaxis": {
            "gridcolor": "white",
            "linecolor": "white",
            "ticks": ""
           },
           "baxis": {
            "gridcolor": "white",
            "linecolor": "white",
            "ticks": ""
           },
           "caxis": {
            "gridcolor": "white",
            "linecolor": "white",
            "ticks": ""
           }
          },
          "coloraxis": {
           "colorbar": {
            "outlinewidth": 0,
            "ticks": ""
           }
          },
          "colorscale": {
           "sequential": [
            [
             0.0,
             "#0d0887"
            ],
            [
             0.1111111111111111,
             "#46039f"
            ],
            [
             0.2222222222222222,
             "#7201a8"
            ],
            [
             0.3333333333333333,
             "#9c179e"
            ],
            [
             0.4444444444444444,
             "#bd3786"
            ],
            [
             0.5555555555555556,
             "#d8576b"
            ],
            [
             0.6666666666666666,
             "#ed7953"
            ],
            [
             0.7777777777777778,
             "#fb9f3a"
            ],
            [
             0.8888888888888888,
             "#fdca26"
            ],
            [
             1.0,
             "#f0f921"
            ]
           ],
           "sequentialminus": [
            [
             0.0,
             "#0d0887"
            ],
            [
             0.1111111111111111,
             "#46039f"
            ],
            [
             0.2222222222222222,
             "#7201a8"
            ],
            [
             0.3333333333333333,
             "#9c179e"
            ],
            [
             0.4444444444444444,
             "#bd3786"
            ],
            [
             0.5555555555555556,
             "#d8576b"
            ],
            [
             0.6666666666666666,
             "#ed7953"
            ],
            [
             0.7777777777777778,
             "#fb9f3a"
            ],
            [
             0.8888888888888888,
             "#fdca26"
            ],
            [
             1.0,
             "#f0f921"
            ]
           ],
           "diverging": [
            [
             0,
             "#8e0152"
            ],
            [
             0.1,
             "#c51b7d"
            ],
            [
             0.2,
             "#de77ae"
            ],
            [
             0.3,
             "#f1b6da"
            ],
            [
             0.4,
             "#fde0ef"
            ],
            [
             0.5,
             "#f7f7f7"
            ],
            [
             0.6,
             "#e6f5d0"
            ],
            [
             0.7,
             "#b8e186"
            ],
            [
             0.8,
             "#7fbc41"
            ],
            [
             0.9,
             "#4d9221"
            ],
            [
             1,
             "#276419"
            ]
           ]
          },
          "xaxis": {
           "gridcolor": "white",
           "linecolor": "white",
           "ticks": "",
           "title": {
            "standoff": 15
           },
           "zerolinecolor": "white",
           "automargin": true,
           "zerolinewidth": 2
          },
          "yaxis": {
           "gridcolor": "white",
           "linecolor": "white",
           "ticks": "",
           "title": {
            "standoff": 15
           },
           "zerolinecolor": "white",
           "automargin": true,
           "zerolinewidth": 2
          },
          "scene": {
           "xaxis": {
            "backgroundcolor": "#E5ECF6",
            "gridcolor": "white",
            "linecolor": "white",
            "showbackground": true,
            "ticks": "",
            "zerolinecolor": "white",
            "gridwidth": 2
           },
           "yaxis": {
            "backgroundcolor": "#E5ECF6",
            "gridcolor": "white",
            "linecolor": "white",
            "showbackground": true,
            "ticks": "",
            "zerolinecolor": "white",
            "gridwidth": 2
           },
           "zaxis": {
            "backgroundcolor": "#E5ECF6",
            "gridcolor": "white",
            "linecolor": "white",
            "showbackground": true,
            "ticks": "",
            "zerolinecolor": "white",
            "gridwidth": 2
           }
          },
          "shapedefaults": {
           "line": {
            "color": "#2a3f5f"
           }
          },
          "annotationdefaults": {
           "arrowcolor": "#2a3f5f",
           "arrowhead": 0,
           "arrowwidth": 1
          },
          "geo": {
           "bgcolor": "white",
           "landcolor": "#E5ECF6",
           "subunitcolor": "white",
           "showland": true,
           "showlakes": true,
           "lakecolor": "white"
          },
          "title": {
           "x": 0.05
          },
          "mapbox": {
           "style": "light"
          }
         }
        },
        "xaxis": {
         "anchor": "y",
         "domain": [
          0.0,
          1.0
         ],
         "title": {
          "text": "months_since_last_donation"
         }
        },
        "yaxis": {
         "anchor": "x",
         "domain": [
          0.0,
          1.0
         ],
         "title": {
          "text": "months_since_first_donation"
         }
        },
        "coloraxis": {
         "colorbar": {
          "title": {
           "text": "class"
          }
         },
         "colorscale": [
          [
           0.0,
           "#0d0887"
          ],
          [
           0.1111111111111111,
           "#46039f"
          ],
          [
           0.2222222222222222,
           "#7201a8"
          ],
          [
           0.3333333333333333,
           "#9c179e"
          ],
          [
           0.4444444444444444,
           "#bd3786"
          ],
          [
           0.5555555555555556,
           "#d8576b"
          ],
          [
           0.6666666666666666,
           "#ed7953"
          ],
          [
           0.7777777777777778,
           "#fb9f3a"
          ],
          [
           0.8888888888888888,
           "#fdca26"
          ],
          [
           1.0,
           "#f0f921"
          ]
         ]
        },
        "legend": {
         "tracegroupgap": 0
        },
        "margin": {
         "t": 60
        }
       },
       "config": {
        "plotlyServerURL": "https://plot.ly"
       }
      }
     },
     "metadata": {},
     "output_type": "display_data",
     "jetTransient": {
      "display_id": null
     }
    },
    {
     "data": {
      "application/vnd.plotly.v1+json": {
       "data": [
        {
         "hovertemplate": "total_blood_donated=%{x}<br>total_number_of_donations=%{y}<br>class=%{marker.color}<extra></extra>",
         "legendgroup": "",
         "marker": {
          "color": {
           "dtype": "i1",
           "bdata": "AQEBAQAAAQABAQAAAQABAQEBAQEBAAEBAAAAAQEAAAEBAQABAQEBAQEAAQABAQAAAAAAAQAAAQEBAQAAAAEAAQEAAQAAAAAAAQABAQEAAAABAAAAAQAAAAABAQAAAAAAAAEBAQEBAAAAAAAAAAABAAABAAABAAABAQEBAQAAAQABAQAAAAAAAAAAAAAAAAAAAQEAAAEAAQAAAQAAAAAAAAAAAAEBAQAAAAAAAAAAAAABAQEAAQAAAAAAAAAAAQAAAAAAAQEAAAAAAAEAAAAAAAAAAAAAAAABAAAAAAABAQABAQAAAAAAAQAAAAAAAAAAAQABAQAAAAAAAAAAAQEAAAAAAAAAAQABAAEAAAAAAAAAAAAAAAAAAAABAAAAAAABAQEBAAAAAAAAAAAAAAAAAAABAAAAAAAAAAAAAAAAAQAAAQABAAAAAAEAAAABAQABAAABAAAAAAAAAAAAAAAAAAAAAAAAAAAAAAAAAAABAAAAAQEAAAAAAQAAAAAAAAAAAAAAAAAAAAAAAAAAAQAAAQAAAAAAAAAAAAAAAAAAAAAAAAAAAAAAAAAAAAAAAAAAAQAAAAAAAAAAAAAAAAAAAAAAAAAAAAAAAAAAAAAAAQAAAAAAAQAAAAAAAAEAAAAAAAAAAAAAAAAAAAAAAAAAAAAAAAABAQEAAQEBAAEBAQAAAAEAAQEBAQEBAQEAAAEAAAEBAQAAAAEBAQEBAQABAQABAAABAQABAQAAAAAAAAABAAEAAAAAAAEAAAABAAEBAQAAAAABAAAAAAEAAAAAAAABAAABAAAAAAAAAAAAAAAAAAAAAQAAAAAAAQAAAAEAAQAAAAAAAAAAAAAAAAAAAQEAAAABAAAAAAAAAAAAAAAAAAAAAAAAAAAAAAEAAQAAAAAAAAAAAAABAAAAAAAAAAAAAAAAAAABAAAAAAAAAAAAAAAAAQAAAAEAAAAAAAAAAAAAAAAAAAAAAAAAAQAAAAAAAAAAAAAAAAAAAA=="
          },
          "coloraxis": "coloraxis",
          "symbol": "circle"
         },
         "mode": "markers",
         "name": "",
         "orientation": "v",
         "showlegend": false,
         "x": {
          "dtype": "f8",
          "bdata": "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"
         },
         "xaxis": "x",
         "y": {
          "dtype": "f8",
          "bdata": "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"
         },
         "yaxis": "y",
         "type": "scatter"
        }
       ],
       "layout": {
        "template": {
         "data": {
          "histogram2dcontour": [
           {
            "type": "histogram2dcontour",
            "colorbar": {
             "outlinewidth": 0,
             "ticks": ""
            },
            "colorscale": [
             [
              0.0,
              "#0d0887"
             ],
             [
              0.1111111111111111,
              "#46039f"
             ],
             [
              0.2222222222222222,
              "#7201a8"
             ],
             [
              0.3333333333333333,
              "#9c179e"
             ],
             [
              0.4444444444444444,
              "#bd3786"
             ],
             [
              0.5555555555555556,
              "#d8576b"
             ],
             [
              0.6666666666666666,
              "#ed7953"
             ],
             [
              0.7777777777777778,
              "#fb9f3a"
             ],
             [
              0.8888888888888888,
              "#fdca26"
             ],
             [
              1.0,
              "#f0f921"
             ]
            ]
           }
          ],
          "choropleth": [
           {
            "type": "choropleth",
            "colorbar": {
             "outlinewidth": 0,
             "ticks": ""
            }
           }
          ],
          "histogram2d": [
           {
            "type": "histogram2d",
            "colorbar": {
             "outlinewidth": 0,
             "ticks": ""
            },
            "colorscale": [
             [
              0.0,
              "#0d0887"
             ],
             [
              0.1111111111111111,
              "#46039f"
             ],
             [
              0.2222222222222222,
              "#7201a8"
             ],
             [
              0.3333333333333333,
              "#9c179e"
             ],
             [
              0.4444444444444444,
              "#bd3786"
             ],
             [
              0.5555555555555556,
              "#d8576b"
             ],
             [
              0.6666666666666666,
              "#ed7953"
             ],
             [
              0.7777777777777778,
              "#fb9f3a"
             ],
             [
              0.8888888888888888,
              "#fdca26"
             ],
             [
              1.0,
              "#f0f921"
             ]
            ]
           }
          ],
          "heatmap": [
           {
            "type": "heatmap",
            "colorbar": {
             "outlinewidth": 0,
             "ticks": ""
            },
            "colorscale": [
             [
              0.0,
              "#0d0887"
             ],
             [
              0.1111111111111111,
              "#46039f"
             ],
             [
              0.2222222222222222,
              "#7201a8"
             ],
             [
              0.3333333333333333,
              "#9c179e"
             ],
             [
              0.4444444444444444,
              "#bd3786"
             ],
             [
              0.5555555555555556,
              "#d8576b"
             ],
             [
              0.6666666666666666,
              "#ed7953"
             ],
             [
              0.7777777777777778,
              "#fb9f3a"
             ],
             [
              0.8888888888888888,
              "#fdca26"
             ],
             [
              1.0,
              "#f0f921"
             ]
            ]
           }
          ],
          "contourcarpet": [
           {
            "type": "contourcarpet",
            "colorbar": {
             "outlinewidth": 0,
             "ticks": ""
            }
           }
          ],
          "contour": [
           {
            "type": "contour",
            "colorbar": {
             "outlinewidth": 0,
             "ticks": ""
            },
            "colorscale": [
             [
              0.0,
              "#0d0887"
             ],
             [
              0.1111111111111111,
              "#46039f"
             ],
             [
              0.2222222222222222,
              "#7201a8"
             ],
             [
              0.3333333333333333,
              "#9c179e"
             ],
             [
              0.4444444444444444,
              "#bd3786"
             ],
             [
              0.5555555555555556,
              "#d8576b"
             ],
             [
              0.6666666666666666,
              "#ed7953"
             ],
             [
              0.7777777777777778,
              "#fb9f3a"
             ],
             [
              0.8888888888888888,
              "#fdca26"
             ],
             [
              1.0,
              "#f0f921"
             ]
            ]
           }
          ],
          "surface": [
           {
            "type": "surface",
            "colorbar": {
             "outlinewidth": 0,
             "ticks": ""
            },
            "colorscale": [
             [
              0.0,
              "#0d0887"
             ],
             [
              0.1111111111111111,
              "#46039f"
             ],
             [
              0.2222222222222222,
              "#7201a8"
             ],
             [
              0.3333333333333333,
              "#9c179e"
             ],
             [
              0.4444444444444444,
              "#bd3786"
             ],
             [
              0.5555555555555556,
              "#d8576b"
             ],
             [
              0.6666666666666666,
              "#ed7953"
             ],
             [
              0.7777777777777778,
              "#fb9f3a"
             ],
             [
              0.8888888888888888,
              "#fdca26"
             ],
             [
              1.0,
              "#f0f921"
             ]
            ]
           }
          ],
          "mesh3d": [
           {
            "type": "mesh3d",
            "colorbar": {
             "outlinewidth": 0,
             "ticks": ""
            }
           }
          ],
          "scatter": [
           {
            "fillpattern": {
             "fillmode": "overlay",
             "size": 10,
             "solidity": 0.2
            },
            "type": "scatter"
           }
          ],
          "parcoords": [
           {
            "type": "parcoords",
            "line": {
             "colorbar": {
              "outlinewidth": 0,
              "ticks": ""
             }
            }
           }
          ],
          "scatterpolargl": [
           {
            "type": "scatterpolargl",
            "marker": {
             "colorbar": {
              "outlinewidth": 0,
              "ticks": ""
             }
            }
           }
          ],
          "bar": [
           {
            "error_x": {
             "color": "#2a3f5f"
            },
            "error_y": {
             "color": "#2a3f5f"
            },
            "marker": {
             "line": {
              "color": "#E5ECF6",
              "width": 0.5
             },
             "pattern": {
              "fillmode": "overlay",
              "size": 10,
              "solidity": 0.2
             }
            },
            "type": "bar"
           }
          ],
          "scattergeo": [
           {
            "type": "scattergeo",
            "marker": {
             "colorbar": {
              "outlinewidth": 0,
              "ticks": ""
             }
            }
           }
          ],
          "scatterpolar": [
           {
            "type": "scatterpolar",
            "marker": {
             "colorbar": {
              "outlinewidth": 0,
              "ticks": ""
             }
            }
           }
          ],
          "histogram": [
           {
            "marker": {
             "pattern": {
              "fillmode": "overlay",
              "size": 10,
              "solidity": 0.2
             }
            },
            "type": "histogram"
           }
          ],
          "scattergl": [
           {
            "type": "scattergl",
            "marker": {
             "colorbar": {
              "outlinewidth": 0,
              "ticks": ""
             }
            }
           }
          ],
          "scatter3d": [
           {
            "type": "scatter3d",
            "line": {
             "colorbar": {
              "outlinewidth": 0,
              "ticks": ""
             }
            },
            "marker": {
             "colorbar": {
              "outlinewidth": 0,
              "ticks": ""
             }
            }
           }
          ],
          "scattermap": [
           {
            "type": "scattermap",
            "marker": {
             "colorbar": {
              "outlinewidth": 0,
              "ticks": ""
             }
            }
           }
          ],
          "scattermapbox": [
           {
            "type": "scattermapbox",
            "marker": {
             "colorbar": {
              "outlinewidth": 0,
              "ticks": ""
             }
            }
           }
          ],
          "scatterternary": [
           {
            "type": "scatterternary",
            "marker": {
             "colorbar": {
              "outlinewidth": 0,
              "ticks": ""
             }
            }
           }
          ],
          "scattercarpet": [
           {
            "type": "scattercarpet",
            "marker": {
             "colorbar": {
              "outlinewidth": 0,
              "ticks": ""
             }
            }
           }
          ],
          "carpet": [
           {
            "aaxis": {
             "endlinecolor": "#2a3f5f",
             "gridcolor": "white",
             "linecolor": "white",
             "minorgridcolor": "white",
             "startlinecolor": "#2a3f5f"
            },
            "baxis": {
             "endlinecolor": "#2a3f5f",
             "gridcolor": "white",
             "linecolor": "white",
             "minorgridcolor": "white",
             "startlinecolor": "#2a3f5f"
            },
            "type": "carpet"
           }
          ],
          "table": [
           {
            "cells": {
             "fill": {
              "color": "#EBF0F8"
             },
             "line": {
              "color": "white"
             }
            },
            "header": {
             "fill": {
              "color": "#C8D4E3"
             },
             "line": {
              "color": "white"
             }
            },
            "type": "table"
           }
          ],
          "barpolar": [
           {
            "marker": {
             "line": {
              "color": "#E5ECF6",
              "width": 0.5
             },
             "pattern": {
              "fillmode": "overlay",
              "size": 10,
              "solidity": 0.2
             }
            },
            "type": "barpolar"
           }
          ],
          "pie": [
           {
            "automargin": true,
            "type": "pie"
           }
          ]
         },
         "layout": {
          "autotypenumbers": "strict",
          "colorway": [
           "#636efa",
           "#EF553B",
           "#00cc96",
           "#ab63fa",
           "#FFA15A",
           "#19d3f3",
           "#FF6692",
           "#B6E880",
           "#FF97FF",
           "#FECB52"
          ],
          "font": {
           "color": "#2a3f5f"
          },
          "hovermode": "closest",
          "hoverlabel": {
           "align": "left"
          },
          "paper_bgcolor": "white",
          "plot_bgcolor": "#E5ECF6",
          "polar": {
           "bgcolor": "#E5ECF6",
           "angularaxis": {
            "gridcolor": "white",
            "linecolor": "white",
            "ticks": ""
           },
           "radialaxis": {
            "gridcolor": "white",
            "linecolor": "white",
            "ticks": ""
           }
          },
          "ternary": {
           "bgcolor": "#E5ECF6",
           "aaxis": {
            "gridcolor": "white",
            "linecolor": "white",
            "ticks": ""
           },
           "baxis": {
            "gridcolor": "white",
            "linecolor": "white",
            "ticks": ""
           },
           "caxis": {
            "gridcolor": "white",
            "linecolor": "white",
            "ticks": ""
           }
          },
          "coloraxis": {
           "colorbar": {
            "outlinewidth": 0,
            "ticks": ""
           }
          },
          "colorscale": {
           "sequential": [
            [
             0.0,
             "#0d0887"
            ],
            [
             0.1111111111111111,
             "#46039f"
            ],
            [
             0.2222222222222222,
             "#7201a8"
            ],
            [
             0.3333333333333333,
             "#9c179e"
            ],
            [
             0.4444444444444444,
             "#bd3786"
            ],
            [
             0.5555555555555556,
             "#d8576b"
            ],
            [
             0.6666666666666666,
             "#ed7953"
            ],
            [
             0.7777777777777778,
             "#fb9f3a"
            ],
            [
             0.8888888888888888,
             "#fdca26"
            ],
            [
             1.0,
             "#f0f921"
            ]
           ],
           "sequentialminus": [
            [
             0.0,
             "#0d0887"
            ],
            [
             0.1111111111111111,
             "#46039f"
            ],
            [
             0.2222222222222222,
             "#7201a8"
            ],
            [
             0.3333333333333333,
             "#9c179e"
            ],
            [
             0.4444444444444444,
             "#bd3786"
            ],
            [
             0.5555555555555556,
             "#d8576b"
            ],
            [
             0.6666666666666666,
             "#ed7953"
            ],
            [
             0.7777777777777778,
             "#fb9f3a"
            ],
            [
             0.8888888888888888,
             "#fdca26"
            ],
            [
             1.0,
             "#f0f921"
            ]
           ],
           "diverging": [
            [
             0,
             "#8e0152"
            ],
            [
             0.1,
             "#c51b7d"
            ],
            [
             0.2,
             "#de77ae"
            ],
            [
             0.3,
             "#f1b6da"
            ],
            [
             0.4,
             "#fde0ef"
            ],
            [
             0.5,
             "#f7f7f7"
            ],
            [
             0.6,
             "#e6f5d0"
            ],
            [
             0.7,
             "#b8e186"
            ],
            [
             0.8,
             "#7fbc41"
            ],
            [
             0.9,
             "#4d9221"
            ],
            [
             1,
             "#276419"
            ]
           ]
          },
          "xaxis": {
           "gridcolor": "white",
           "linecolor": "white",
           "ticks": "",
           "title": {
            "standoff": 15
           },
           "zerolinecolor": "white",
           "automargin": true,
           "zerolinewidth": 2
          },
          "yaxis": {
           "gridcolor": "white",
           "linecolor": "white",
           "ticks": "",
           "title": {
            "standoff": 15
           },
           "zerolinecolor": "white",
           "automargin": true,
           "zerolinewidth": 2
          },
          "scene": {
           "xaxis": {
            "backgroundcolor": "#E5ECF6",
            "gridcolor": "white",
            "linecolor": "white",
            "showbackground": true,
            "ticks": "",
            "zerolinecolor": "white",
            "gridwidth": 2
           },
           "yaxis": {
            "backgroundcolor": "#E5ECF6",
            "gridcolor": "white",
            "linecolor": "white",
            "showbackground": true,
            "ticks": "",
            "zerolinecolor": "white",
            "gridwidth": 2
           },
           "zaxis": {
            "backgroundcolor": "#E5ECF6",
            "gridcolor": "white",
            "linecolor": "white",
            "showbackground": true,
            "ticks": "",
            "zerolinecolor": "white",
            "gridwidth": 2
           }
          },
          "shapedefaults": {
           "line": {
            "color": "#2a3f5f"
           }
          },
          "annotationdefaults": {
           "arrowcolor": "#2a3f5f",
           "arrowhead": 0,
           "arrowwidth": 1
          },
          "geo": {
           "bgcolor": "white",
           "landcolor": "#E5ECF6",
           "subunitcolor": "white",
           "showland": true,
           "showlakes": true,
           "lakecolor": "white"
          },
          "title": {
           "x": 0.05
          },
          "mapbox": {
           "style": "light"
          }
         }
        },
        "xaxis": {
         "anchor": "y",
         "domain": [
          0.0,
          1.0
         ],
         "title": {
          "text": "total_blood_donated"
         }
        },
        "yaxis": {
         "anchor": "x",
         "domain": [
          0.0,
          1.0
         ],
         "title": {
          "text": "total_number_of_donations"
         }
        },
        "coloraxis": {
         "colorbar": {
          "title": {
           "text": "class"
          }
         },
         "colorscale": [
          [
           0.0,
           "#0d0887"
          ],
          [
           0.1111111111111111,
           "#46039f"
          ],
          [
           0.2222222222222222,
           "#7201a8"
          ],
          [
           0.3333333333333333,
           "#9c179e"
          ],
          [
           0.4444444444444444,
           "#bd3786"
          ],
          [
           0.5555555555555556,
           "#d8576b"
          ],
          [
           0.6666666666666666,
           "#ed7953"
          ],
          [
           0.7777777777777778,
           "#fb9f3a"
          ],
          [
           0.8888888888888888,
           "#fdca26"
          ],
          [
           1.0,
           "#f0f921"
          ]
         ]
        },
        "legend": {
         "tracegroupgap": 0
        },
        "margin": {
         "t": 60
        }
       },
       "config": {
        "plotlyServerURL": "https://plot.ly"
       }
      }
     },
     "metadata": {},
     "output_type": "display_data",
     "jetTransient": {
      "display_id": null
     }
    },
    {
     "data": {
      "application/vnd.plotly.v1+json": {
       "data": [
        {
         "hovertemplate": "months_since_last_donation=%{x}<br>total_blood_donated=%{y}<br>total_number_of_donations=%{z}<br>class=%{marker.color}<extra></extra>",
         "legendgroup": "",
         "marker": {
          "color": {
           "dtype": "i1",
           "bdata": "AQEBAQAAAQABAQAAAQABAQEBAQEBAAEBAAAAAQEAAAEBAQABAQEBAQEAAQABAQAAAAAAAQAAAQEBAQAAAAEAAQEAAQAAAAAAAQABAQEAAAABAAAAAQAAAAABAQAAAAAAAAEBAQEBAAAAAAAAAAABAAABAAABAAABAQEBAQAAAQABAQAAAAAAAAAAAAAAAAAAAQEAAAEAAQAAAQAAAAAAAAAAAAEBAQAAAAAAAAAAAAABAQEAAQAAAAAAAAAAAQAAAAAAAQEAAAAAAAEAAAAAAAAAAAAAAAABAAAAAAABAQABAQAAAAAAAQAAAAAAAAAAAQABAQAAAAAAAAAAAQEAAAAAAAAAAQABAAEAAAAAAAAAAAAAAAAAAAABAAAAAAABAQEBAAAAAAAAAAAAAAAAAAABAAAAAAAAAAAAAAAAAQAAAQABAAAAAAEAAAABAQABAAABAAAAAAAAAAAAAAAAAAAAAAAAAAAAAAAAAAABAAAAAQEAAAAAAQAAAAAAAAAAAAAAAAAAAAAAAAAAAQAAAQAAAAAAAAAAAAAAAAAAAAAAAAAAAAAAAAAAAAAAAAAAAQAAAAAAAAAAAAAAAAAAAAAAAAAAAAAAAAAAAAAAAQAAAAAAAQAAAAAAAAEAAAAAAAAAAAAAAAAAAAAAAAAAAAAAAAABAQEAAQEBAAEBAQAAAAEAAQEBAQEBAQEAAAEAAAEBAQAAAAEBAQEBAQABAQABAAABAQABAQAAAAAAAAABAAEAAAAAAAEAAAABAAEBAQAAAAABAAAAAAEAAAAAAAABAAABAAAAAAAAAAAAAAAAAAAAAQAAAAAAAQAAAAEAAQAAAAAAAAAAAAAAAAAAAQEAAAABAAAAAAAAAAAAAAAAAAAAAAAAAAAAAAEAAQAAAAAAAAAAAAABAAAAAAAAAAAAAAAAAAABAAAAAAAAAAAAAAAAAQAAAAEAAAAAAAAAAAAAAAAAAAAAAAAAAQAAAAAAAAAAAAAAAAAAAA=="
          },
          "coloraxis": "coloraxis",
          "symbol": "circle"
         },
         "mode": "markers",
         "name": "",
         "scene": "scene",
         "showlegend": false,
         "x": {
          "dtype": "f8",
          "bdata": "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"
         },
         "y": {
          "dtype": "f8",
          "bdata": "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"
         },
         "z": {
          "dtype": "f8",
          "bdata": "AAAAAAAASUAAAAAAAAAqQAAAAAAAADBAAAAAAAAANEAAAAAAAAA4QAAAAAAAABBAAAAAAAAAHEAAAAAAAAAoQAAAAAAAACJAAAAAAAAAR0AAAAAAAAA3QAAAAAAAAAhAAAAAAAAAJEAAAAAAAAAqQAAAAAAAABhAAAAAAAAAFEAAAAAAAAAsQAAAAAAAAC5AAAAAAAAAGEAAAAAAAAAIQAAAAAAAAAhAAAAAAAAAJkAAAAAAAAAYQAAAAAAAABhAAAAAAAAAIkAAAAAAAAAsQAAAAAAAABhAAAAAAAAAKEAAAAAAAAAUQAAAAAAAACBAAAAAAAAALEAAAAAAAAAkQAAAAAAAACRAAAAAAAAAIkAAAAAAAAAwQAAAAAAAACBAAAAAAAAAKEAAAAAAAAAYQAAAAAAAACxAAAAAAAAAHEAAAAAAAAAqQAAAAAAAABRAAAAAAAAAFEAAAAAAAAAUQAAAAAAAADRAAAAAAAAAIkAAAAAAAAAiQAAAAAAAAABAAAAAAAAAAEAAAAAAAAAAQAAAAAAAACZAAAAAAAAAJkAAAAAAAAAYQAAAAAAAAChAAAAAAAAAFEAAAAAAAAAzQAAAAAAAACBAAAAAAAAAHEAAAAAAAAAwQAAAAAAAABhAAAAAAAAAHEAAAAAAAAAgQAAAAAAAACRAAAAAAAAAFEAAAAAAAAAIQAAAAAAAADBAAAAAAAAAEEAAAAAAAAAAQAAAAAAAABxAAAAAAAAAIkAAAAAAAAAQQAAAAAAAABBAAAAAAAAAMUAAAAAAAAAAQAAAAAAAAABAAAAAAAAAAEAAAAAAAAAQQAAAAAAAAABAAAAAAAAAAEAAAAAAAAAAQAAAAAAAABhAAAAAAAAAEEAAAAAAAAAQQAAAAAAAABBAAAAAAAAAGEAAAAAAAAAYQAAAAAAAAABAAAAAAAAAAEAAAAAAAAAAQAAAAAAAABxAAAAAAAAAAEAAAAAAAAAAQAAAAAAAAABAAAAAAAAAAEAAAAAAAAAmQAAAAAAAABxAAAAAAAAAMUAAAAAAAAAiQAAAAAAAABBAAAAAAAAAHEAAAAAAAAAgQAAAAAAAACpAAAAAAAAAIkAAAAAAAAAUQAAAAAAAABRAAAAAAAAAMUAAAAAAAAAgQAAAAAAAABRAAAAAAAAACEAAAAAAAAAkQAAAAAAAABRAAAAAAAAAIkAAAAAAAAAUQAAAAAAAACBAAAAAAAAAKEAAAAAAAAA4QAAAAAAAABxAAAAAAAAAJkAAAAAAAAAcQAAAAAAAACZAAAAAAAAACEAAAAAAAAAUQAAAAAAAABhAAAAAAAAAFEAAAAAAAAAQQAAAAAAAABRAAAAAAAAAIEAAAAAAAAAQQAAAAAAAACBAAAAAAAAAAEAAAAAAAAAUQAAAAAAAAChAAAAAAAAAAEAAAAAAAAAYQAAAAAAAACZAAAAAAAAACEAAAAAAAAAUQAAAAAAAAChAAAAAAAAAFEAAAAAAAAAAQAAAAAAAACJAAAAAAAAALEAAAAAAAAAIQAAAAAAAAAhAAAAAAAAAAEAAAAAAAAAIQAAAAAAAAAhAAAAAAAAAAEAAAAAAAAAAQAAAAAAAAABAAAAAAAAAHEAAAAAAAAAYQAAAAAAAACZAAAAAAAAA8D8AAAAAAADwPwAAAAAAAPA/AAAAAAAA8D8AAAAAAADwPwAAAAAAAPA/AAAAAAAA8D8AAAAAAADwPwAAAAAAAPA/AAAAAAAA8D8AAAAAAADwPwAAAAAAAPA/AAAAAAAA8D8AAAAAAADwPwAAAAAAAPA/AAAAAAAA8D8AAAAAAADwPwAAAAAAAPA/AAAAAAAA8D8AAAAAAADwPwAAAAAAAPA/AAAAAAAA8D8AAAAAAAAkQAAAAAAAABBAAAAAAAAAFEAAAAAAAAAYQAAAAAAAAAhAAAAAAAAAEEAAAAAAAAAQQAAAAAAAABBAAAAAAAAAKEAAAAAAAAAgQAAAAAAAACJAAAAAAAAAFEAAAAAAAAAQQAAAAAAAAC5AAAAAAAAAFEAAAAAAAAAcQAAAAAAAABxAAAAAAAAAEEAAAAAAAAAmQAAAAAAAAABAAAAAAAAAFEAAAAAAAAAgQAAAAAAAABhAAAAAAAAAHEAAAAAAAAAiQAAAAAAAABhAAAAAAAAAHEAAAAAAAAAAQAAAAAAAABxAAAAAAAAAIkAAAAAAAAAYQAAAAAAAAABAAAAAAAAAHEAAAAAAAAAYQAAAAAAAAAhAAAAAAAAA8D8AAAAAAADwPwAAAAAAAPA/AAAAAAAA8D8AAAAAAADwPwAAAAAAAPA/AAAAAAAA8D8AAAAAAADwPwAAAAAAAPA/AAAAAAAA8D8AAAAAAADwPwAAAAAAAPA/AAAAAAAA8D8AAAAAAADwPwAAAAAAAPA/AAAAAAAA8D8AAAAAAADwPwAAAAAAAAhAAAAAAAAA8D8AAAAAAADwPwAAAAAAAPA/AAAAAAAA8D8AAAAAAADwPwAAAAAAACBAAAAAAAAAHEAAAAAAAAAkQAAAAAAAAAhAAAAAAAAAAEAAAAAAAAAQQAAAAAAAACJAAAAAAAAAIEAAAAAAAAA2QAAAAAAAAAhAAAAAAAAAMUAAAAAAAAAAQAAAAAAAABRAAAAAAAAAKEAAAAAAAAAoQAAAAAAAAABAAAAAAAAAAEAAAAAAAAAAQAAAAAAAABhAAAAAAAAAIEAAAAAAAAAIQAAAAAAAACpAAAAAAAAACEAAAAAAAAAgQAAAAAAAABxAAAAAAAAACEAAAAAAAAAoQAAAAAAAABBAAAAAAAAALEAAAAAAAAAAQAAAAAAAAAhAAAAAAAAAFEAAAAAAAAAQQAAAAAAAAABAAAAAAAAAIEAAAAAAAAAcQAAAAAAAABBAAAAAAAAAJkAAAAAAAAAcQAAAAAAAAABAAAAAAAAAFEAAAAAAAAAUQAAAAAAAABBAAAAAAAAAKkAAAAAAAAAIQAAAAAAAADJAAAAAAAAAIEAAAAAAAAAwQAAAAAAAABBAAAAAAAAAFEAAAAAAAAAAQAAAAAAAABRAAAAAAAAAAEAAAAAAAAAAQAAAAAAAAABAAAAAAAAAFEAAAAAAAAAIQAAAAAAAABBAAAAAAAAAKEAAAAAAAAAQQAAAAAAAABRAAAAAAAAAFEAAAAAAAAAQQAAAAAAAABRAAAAAAAAAAEAAAAAAAAAAQAAAAAAAAABAAAAAAAAAAEAAAAAAAAAAQAAAAAAAAABAAAAAAAAACEAAAAAAAAAYQAAAAAAAABRAAAAAAAAAFEAAAAAAAAAIQAAAAAAAABBAAAAAAAAACEAAAAAAAAAUQAAAAAAAAABAAAAAAAAAIkAAAAAAAADwPwAAAAAAAPA/AAAAAAAAAEAAAAAAAAAAQAAAAAAAABBAAAAAAAAAIkAAAAAAAAAUQAAAAAAAADBAAAAAAAAAFEAAAAAAAAAQQAAAAAAAACBAAAAAAAAAHEAAAAAAAAAAQAAAAAAAAABAAAAAAAAAMEAAAAAAAAAQQAAAAAAAABxAAAAAAAAAHEAAAAAAAAAYQAAAAAAAABhAAAAAAAAAHEAAAAAAAAAAQAAAAAAAAAhAAAAAAAAACEAAAAAAAAAcQAAAAAAAAPA/AAAAAAAACEAAAAAAAAAQQAAAAAAAAENAAAAAAAAAGEAAAAAAAADwPwAAAAAAAPA/AAAAAAAA8D8AAAAAAADwPwAAAAAAAPA/AAAAAAAA8D8AAAAAAADwPwAAAAAAAPA/AAAAAAAAAEAAAAAAAAAUQAAAAAAAAABAAAAAAAAAEEAAAAAAAAAAQAAAAAAAABhAAAAAAAAACEAAAAAAAAAAQAAAAAAAADBAAAAAAAAAGEAAAAAAAAAAQAAAAAAAAAhAAAAAAAAAKkAAAAAAAAAYQAAAAAAAAABAAAAAAAAALkAAAAAAAAAQQAAAAAAAAABAAAAAAAAAFEAAAAAAAAAAQAAAAAAAAAhAAAAAAAAAAEAAAAAAAAAQQAAAAAAAABBAAAAAAAAACEAAAAAAAAAUQAAAAAAAAPA/AAAAAAAA8D8AAAAAAADwPwAAAAAAAPA/AAAAAAAA8D8AAAAAAADwPwAAAAAAAPA/AAAAAAAA8D8AAAAAAAAcQAAAAAAAAPA/AAAAAAAA8D8AAAAAAAAIQAAAAAAAABxAAAAAAAAAEEAAAAAAAAAQQAAAAAAAAABAAAAAAAAAEEAAAAAAAAAQQAAAAAAAACRAAAAAAAAAAEAAAAAAAAAIQAAAAAAAACBAAAAAAAAACEAAAAAAAAAAQAAAAAAAABRAAAAAAAAAIEAAAAAAAAAIQAAAAAAAABRAAAAAAAAACEAAAAAAAADwPwAAAAAAAPA/AAAAAAAA8D8AAAAAAADwPwAAAAAAAPA/AAAAAAAA8D8AAAAAAADwPwAAAAAAABBAAAAAAAAA8D8AAAAAAADwPwAAAAAAAPA/AAAAAAAA8D8AAAAAAADwPwAAAAAAAABAAAAAAAAAAEAAAAAAAAAAQAAAAAAAAABAAAAAAAAAAEAAAAAAAAAQQAAAAAAAABRAAAAAAAAAAEAAAAAAAAAUQAAAAAAAAAhAAAAAAAAACEAAAAAAAAAAQAAAAAAAAABAAAAAAAAAHEAAAAAAAAAQQAAAAAAAAABAAAAAAAAAHEAAAAAAAAAAQAAAAAAAAAhAAAAAAAAALEAAAAAAAAAgQAAAAAAAAAhAAAAAAAAACEAAAAAAAAAAQAAAAAAAAAhAAAAAAAAAKEAAAAAAAAAIQAAAAAAAAABAAAAAAAAAAEAAAAAAAAAgQAAAAAAAAAhAAAAAAAAACEAAAAAAAAAIQAAAAAAAAABAAAAAAAAA8D8AAAAAAADwPwAAAAAAAPA/AAAAAAAA8D8AAAAAAADwPwAAAAAAAPA/AAAAAAAA8D8AAAAAAADwPwAAAAAAAPA/AAAAAAAA8D8AAAAAAADwPwAAAAAAAPA/AAAAAAAAFEAAAAAAAAAQQAAAAAAAABBAAAAAAAAA8D8AAAAAAAAAQAAAAAAAABRAAAAAAAAACEAAAAAAAAAIQAAAAAAAAAhAAAAAAAAAAEAAAAAAAAAUQAAAAAAAABhAAAAAAAAA8D8AAAAAAADwPwAAAAAAAPA/AAAAAAAA8D8AAAAAAADwPwAAAAAAAPA/AAAAAAAA8D8AAAAAAADwPwAAAAAAABBAAAAAAAAAGEAAAAAAAAAIQAAAAAAAAABAAAAAAAAACEAAAAAAAAAAQAAAAAAAAAhAAAAAAAAAEEAAAAAAAAAIQAAAAAAAAABAAAAAAAAACEAAAAAAAADwPwAAAAAAAPA/AAAAAAAA8D8AAAAAAADwPwAAAAAAgEVAAAAAAAAANkAAAAAAAABBQAAAAAAAAEZAAAAAAAAAOkAAAAAAAIBEQAAAAAAAADVAAAAAAAAAJkAAAAAAAAA1QAAAAAAAACpAAAAAAAAAEEAAAAAAAAAmQAAAAAAAACZAAAAAAAAALEAAAAAAAAAwQAAAAAAAABhAAAAAAAAAFEAAAAAAAIBAQAAAAAAAACRAAAAAAAAAJEAAAAAAAAAmQAAAAAAAACZAAAAAAAAAKkAAAAAAAAAkQAAAAAAAACJAAAAAAAAAEEAAAAAAAAAUQAAAAAAAAC5AAAAAAAAAOEAAAAAAAAAYQAAAAAAAABRAAAAAAAAAEEAAAAAAAAAgQAAAAAAAABBAAAAAAAAAGEAAAAAAAAAUQAAAAAAAABxAAAAAAAAAGEAAAAAAAAAgQAAAAAAAAABAAAAAAAAAGEAAAAAAAAAkQAAAAAAAADBAAAAAAAAAAEAAAAAAAAAsQAAAAAAAAABAAAAAAAAALEAAAAAAAAAIQAAAAAAAAChAAAAAAAAAHEAAAAAAAAAQQAAAAAAAABhAAAAAAAAAGEAAAAAAAAAIQAAAAAAAABBAAAAAAAAAEEAAAAAAAAAYQAAAAAAAABhAAAAAAAAAFEAAAAAAAAAgQAAAAAAAACZAAAAAAAAAIkAAAAAAAAAwQAAAAAAAACRAAAAAAAAALEAAAAAAAAAiQAAAAAAAABhAAAAAAAAAIkAAAAAAAAAYQAAAAAAAABhAAAAAAAAAGEAAAAAAAAAAQAAAAAAAAABAAAAAAAAAAEAAAAAAAAAAQAAAAAAAABhAAAAAAAAAEEAAAAAAAAAiQAAAAAAAABRAAAAAAAAACEAAAAAAAADwPwAAAAAAAPA/AAAAAAAA8D8AAAAAAADwPwAAAAAAAPA/AAAAAAAA8D8AAAAAAADwPwAAAAAAAPA/AAAAAAAA8D8AAAAAAADwPwAAAAAAAPA/AAAAAAAAJkAAAAAAAAAIQAAAAAAAACZAAAAAAAAAJkAAAAAAAAAUQAAAAAAAAPA/AAAAAAAAGEAAAAAAAAAIQAAAAAAAACZAAAAAAAAAAEAAAAAAAAAYQAAAAAAAAAhAAAAAAAAAIEAAAAAAAAAAQAAAAAAAACZAAAAAAAAAHEAAAAAAAAAcQAAAAAAAAPA/AAAAAAAA8D8AAAAAAADwPwAAAAAAAPA/AAAAAAAA8D8AAAAAAADwPwAAAAAAAPA/AAAAAAAA8D8AAAAAAADwPwAAAAAAAPA/AAAAAAAA8D8AAAAAAADwPwAAAAAAABxAAAAAAAAA8D8AAAAAAAAQQAAAAAAAABhAAAAAAAAACEAAAAAAAAAUQAAAAAAAACJAAAAAAAAAAEAAAAAAAAAUQAAAAAAAACZAAAAAAAAAIkAAAAAAAAAAQAAAAAAAAAhAAAAAAAAALkAAAAAAAAAIQAAAAAAAADBAAAAAAAAAFEAAAAAAAAAcQAAAAAAAABBAAAAAAAAAIkAAAAAAAAAgQAAAAAAAABRAAAAAAAAAGEAAAAAAAAAUQAAAAAAAAABAAAAAAAAAAEAAAAAAAAAAQAAAAAAAAABAAAAAAAAACEAAAAAAAAAgQAAAAAAAAPA/AAAAAAAAFEAAAAAAAAAQQAAAAAAAAABAAAAAAAAACEAAAAAAAAAwQAAAAAAAAABAAAAAAAAAIEAAAAAAAAAIQAAAAAAAABxAAAAAAAAAFEAAAAAAAAAAQAAAAAAAAAhAAAAAAAAAIEAAAAAAAADwPwAAAAAAAPA/AAAAAAAA8D8AAAAAAADwPwAAAAAAAPA/AAAAAAAACEAAAAAAAAAIQAAAAAAAABBAAAAAAAAALkAAAAAAAAAsQAAAAAAAACRAAAAAAAAACEAAAAAAAAAIQAAAAAAAADNAAAAAAAAAHEAAAAAAAAAIQAAAAAAAACxAAAAAAAAAAEAAAAAAAAAAQAAAAAAAAAhAAAAAAAAAEEAAAAAAAAAcQAAAAAAAABxAAAAAAAAAGEAAAAAAAAAIQAAAAAAAAPA/AAAAAAAA8D8AAAAAAADwPwAAAAAAAPA/AAAAAAAA8D8AAAAAAADwPwAAAAAAABxAAAAAAAAACEAAAAAAAAAIQAAAAAAAABxAAAAAAAAAAEAAAAAAAAAIQAAAAAAAAPA/AAAAAAAA8D8AAAAAAADwPwAAAAAAAPA/AAAAAAAA8D8AAAAAAAAAQAAAAAAAABBAAAAAAAAAAEAAAAAAAAAYQAAAAAAAAABAAAAAAAAAGEAAAAAAAAAAQAAAAAAAABhAAAAAAAAAEEAAAAAAAAAUQAAAAAAAAABAAAAAAAAACEAAAAAAAAAIQAAAAAAAACBAAAAAAAAACEAAAAAAAAAIQAAAAAAAAAhAAAAAAAAAAEAAAAAAAADwPwAAAAAAAPA/AAAAAAAAGEAAAAAAAADwPwAAAAAAAPA/AAAAAAAACEAAAAAAAAAAQAAAAAAAAAhAAAAAAAAA8D8AAAAAAADwPwAAAAAAAPA/AAAAAAAA8D8AAAAAAADwPwAAAAAAAPA/AAAAAAAA8D8AAAAAAAAQQAAAAAAAAPA/AAAAAAAAHEAAAAAAAAAIQAAAAAAAAABAAAAAAAAAAEAAAAAAAAAIQAAAAAAAAPA/AAAAAAAA8D8="
         },
         "type": "scatter3d"
        }
       ],
       "layout": {
        "template": {
         "data": {
          "histogram2dcontour": [
           {
            "type": "histogram2dcontour",
            "colorbar": {
             "outlinewidth": 0,
             "ticks": ""
            },
            "colorscale": [
             [
              0.0,
              "#0d0887"
             ],
             [
              0.1111111111111111,
              "#46039f"
             ],
             [
              0.2222222222222222,
              "#7201a8"
             ],
             [
              0.3333333333333333,
              "#9c179e"
             ],
             [
              0.4444444444444444,
              "#bd3786"
             ],
             [
              0.5555555555555556,
              "#d8576b"
             ],
             [
              0.6666666666666666,
              "#ed7953"
             ],
             [
              0.7777777777777778,
              "#fb9f3a"
             ],
             [
              0.8888888888888888,
              "#fdca26"
             ],
             [
              1.0,
              "#f0f921"
             ]
            ]
           }
          ],
          "choropleth": [
           {
            "type": "choropleth",
            "colorbar": {
             "outlinewidth": 0,
             "ticks": ""
            }
           }
          ],
          "histogram2d": [
           {
            "type": "histogram2d",
            "colorbar": {
             "outlinewidth": 0,
             "ticks": ""
            },
            "colorscale": [
             [
              0.0,
              "#0d0887"
             ],
             [
              0.1111111111111111,
              "#46039f"
             ],
             [
              0.2222222222222222,
              "#7201a8"
             ],
             [
              0.3333333333333333,
              "#9c179e"
             ],
             [
              0.4444444444444444,
              "#bd3786"
             ],
             [
              0.5555555555555556,
              "#d8576b"
             ],
             [
              0.6666666666666666,
              "#ed7953"
             ],
             [
              0.7777777777777778,
              "#fb9f3a"
             ],
             [
              0.8888888888888888,
              "#fdca26"
             ],
             [
              1.0,
              "#f0f921"
             ]
            ]
           }
          ],
          "heatmap": [
           {
            "type": "heatmap",
            "colorbar": {
             "outlinewidth": 0,
             "ticks": ""
            },
            "colorscale": [
             [
              0.0,
              "#0d0887"
             ],
             [
              0.1111111111111111,
              "#46039f"
             ],
             [
              0.2222222222222222,
              "#7201a8"
             ],
             [
              0.3333333333333333,
              "#9c179e"
             ],
             [
              0.4444444444444444,
              "#bd3786"
             ],
             [
              0.5555555555555556,
              "#d8576b"
             ],
             [
              0.6666666666666666,
              "#ed7953"
             ],
             [
              0.7777777777777778,
              "#fb9f3a"
             ],
             [
              0.8888888888888888,
              "#fdca26"
             ],
             [
              1.0,
              "#f0f921"
             ]
            ]
           }
          ],
          "contourcarpet": [
           {
            "type": "contourcarpet",
            "colorbar": {
             "outlinewidth": 0,
             "ticks": ""
            }
           }
          ],
          "contour": [
           {
            "type": "contour",
            "colorbar": {
             "outlinewidth": 0,
             "ticks": ""
            },
            "colorscale": [
             [
              0.0,
              "#0d0887"
             ],
             [
              0.1111111111111111,
              "#46039f"
             ],
             [
              0.2222222222222222,
              "#7201a8"
             ],
             [
              0.3333333333333333,
              "#9c179e"
             ],
             [
              0.4444444444444444,
              "#bd3786"
             ],
             [
              0.5555555555555556,
              "#d8576b"
             ],
             [
              0.6666666666666666,
              "#ed7953"
             ],
             [
              0.7777777777777778,
              "#fb9f3a"
             ],
             [
              0.8888888888888888,
              "#fdca26"
             ],
             [
              1.0,
              "#f0f921"
             ]
            ]
           }
          ],
          "surface": [
           {
            "type": "surface",
            "colorbar": {
             "outlinewidth": 0,
             "ticks": ""
            },
            "colorscale": [
             [
              0.0,
              "#0d0887"
             ],
             [
              0.1111111111111111,
              "#46039f"
             ],
             [
              0.2222222222222222,
              "#7201a8"
             ],
             [
              0.3333333333333333,
              "#9c179e"
             ],
             [
              0.4444444444444444,
              "#bd3786"
             ],
             [
              0.5555555555555556,
              "#d8576b"
             ],
             [
              0.6666666666666666,
              "#ed7953"
             ],
             [
              0.7777777777777778,
              "#fb9f3a"
             ],
             [
              0.8888888888888888,
              "#fdca26"
             ],
             [
              1.0,
              "#f0f921"
             ]
            ]
           }
          ],
          "mesh3d": [
           {
            "type": "mesh3d",
            "colorbar": {
             "outlinewidth": 0,
             "ticks": ""
            }
           }
          ],
          "scatter": [
           {
            "fillpattern": {
             "fillmode": "overlay",
             "size": 10,
             "solidity": 0.2
            },
            "type": "scatter"
           }
          ],
          "parcoords": [
           {
            "type": "parcoords",
            "line": {
             "colorbar": {
              "outlinewidth": 0,
              "ticks": ""
             }
            }
           }
          ],
          "scatterpolargl": [
           {
            "type": "scatterpolargl",
            "marker": {
             "colorbar": {
              "outlinewidth": 0,
              "ticks": ""
             }
            }
           }
          ],
          "bar": [
           {
            "error_x": {
             "color": "#2a3f5f"
            },
            "error_y": {
             "color": "#2a3f5f"
            },
            "marker": {
             "line": {
              "color": "#E5ECF6",
              "width": 0.5
             },
             "pattern": {
              "fillmode": "overlay",
              "size": 10,
              "solidity": 0.2
             }
            },
            "type": "bar"
           }
          ],
          "scattergeo": [
           {
            "type": "scattergeo",
            "marker": {
             "colorbar": {
              "outlinewidth": 0,
              "ticks": ""
             }
            }
           }
          ],
          "scatterpolar": [
           {
            "type": "scatterpolar",
            "marker": {
             "colorbar": {
              "outlinewidth": 0,
              "ticks": ""
             }
            }
           }
          ],
          "histogram": [
           {
            "marker": {
             "pattern": {
              "fillmode": "overlay",
              "size": 10,
              "solidity": 0.2
             }
            },
            "type": "histogram"
           }
          ],
          "scattergl": [
           {
            "type": "scattergl",
            "marker": {
             "colorbar": {
              "outlinewidth": 0,
              "ticks": ""
             }
            }
           }
          ],
          "scatter3d": [
           {
            "type": "scatter3d",
            "line": {
             "colorbar": {
              "outlinewidth": 0,
              "ticks": ""
             }
            },
            "marker": {
             "colorbar": {
              "outlinewidth": 0,
              "ticks": ""
             }
            }
           }
          ],
          "scattermap": [
           {
            "type": "scattermap",
            "marker": {
             "colorbar": {
              "outlinewidth": 0,
              "ticks": ""
             }
            }
           }
          ],
          "scattermapbox": [
           {
            "type": "scattermapbox",
            "marker": {
             "colorbar": {
              "outlinewidth": 0,
              "ticks": ""
             }
            }
           }
          ],
          "scatterternary": [
           {
            "type": "scatterternary",
            "marker": {
             "colorbar": {
              "outlinewidth": 0,
              "ticks": ""
             }
            }
           }
          ],
          "scattercarpet": [
           {
            "type": "scattercarpet",
            "marker": {
             "colorbar": {
              "outlinewidth": 0,
              "ticks": ""
             }
            }
           }
          ],
          "carpet": [
           {
            "aaxis": {
             "endlinecolor": "#2a3f5f",
             "gridcolor": "white",
             "linecolor": "white",
             "minorgridcolor": "white",
             "startlinecolor": "#2a3f5f"
            },
            "baxis": {
             "endlinecolor": "#2a3f5f",
             "gridcolor": "white",
             "linecolor": "white",
             "minorgridcolor": "white",
             "startlinecolor": "#2a3f5f"
            },
            "type": "carpet"
           }
          ],
          "table": [
           {
            "cells": {
             "fill": {
              "color": "#EBF0F8"
             },
             "line": {
              "color": "white"
             }
            },
            "header": {
             "fill": {
              "color": "#C8D4E3"
             },
             "line": {
              "color": "white"
             }
            },
            "type": "table"
           }
          ],
          "barpolar": [
           {
            "marker": {
             "line": {
              "color": "#E5ECF6",
              "width": 0.5
             },
             "pattern": {
              "fillmode": "overlay",
              "size": 10,
              "solidity": 0.2
             }
            },
            "type": "barpolar"
           }
          ],
          "pie": [
           {
            "automargin": true,
            "type": "pie"
           }
          ]
         },
         "layout": {
          "autotypenumbers": "strict",
          "colorway": [
           "#636efa",
           "#EF553B",
           "#00cc96",
           "#ab63fa",
           "#FFA15A",
           "#19d3f3",
           "#FF6692",
           "#B6E880",
           "#FF97FF",
           "#FECB52"
          ],
          "font": {
           "color": "#2a3f5f"
          },
          "hovermode": "closest",
          "hoverlabel": {
           "align": "left"
          },
          "paper_bgcolor": "white",
          "plot_bgcolor": "#E5ECF6",
          "polar": {
           "bgcolor": "#E5ECF6",
           "angularaxis": {
            "gridcolor": "white",
            "linecolor": "white",
            "ticks": ""
           },
           "radialaxis": {
            "gridcolor": "white",
            "linecolor": "white",
            "ticks": ""
           }
          },
          "ternary": {
           "bgcolor": "#E5ECF6",
           "aaxis": {
            "gridcolor": "white",
            "linecolor": "white",
            "ticks": ""
           },
           "baxis": {
            "gridcolor": "white",
            "linecolor": "white",
            "ticks": ""
           },
           "caxis": {
            "gridcolor": "white",
            "linecolor": "white",
            "ticks": ""
           }
          },
          "coloraxis": {
           "colorbar": {
            "outlinewidth": 0,
            "ticks": ""
           }
          },
          "colorscale": {
           "sequential": [
            [
             0.0,
             "#0d0887"
            ],
            [
             0.1111111111111111,
             "#46039f"
            ],
            [
             0.2222222222222222,
             "#7201a8"
            ],
            [
             0.3333333333333333,
             "#9c179e"
            ],
            [
             0.4444444444444444,
             "#bd3786"
            ],
            [
             0.5555555555555556,
             "#d8576b"
            ],
            [
             0.6666666666666666,
             "#ed7953"
            ],
            [
             0.7777777777777778,
             "#fb9f3a"
            ],
            [
             0.8888888888888888,
             "#fdca26"
            ],
            [
             1.0,
             "#f0f921"
            ]
           ],
           "sequentialminus": [
            [
             0.0,
             "#0d0887"
            ],
            [
             0.1111111111111111,
             "#46039f"
            ],
            [
             0.2222222222222222,
             "#7201a8"
            ],
            [
             0.3333333333333333,
             "#9c179e"
            ],
            [
             0.4444444444444444,
             "#bd3786"
            ],
            [
             0.5555555555555556,
             "#d8576b"
            ],
            [
             0.6666666666666666,
             "#ed7953"
            ],
            [
             0.7777777777777778,
             "#fb9f3a"
            ],
            [
             0.8888888888888888,
             "#fdca26"
            ],
            [
             1.0,
             "#f0f921"
            ]
           ],
           "diverging": [
            [
             0,
             "#8e0152"
            ],
            [
             0.1,
             "#c51b7d"
            ],
            [
             0.2,
             "#de77ae"
            ],
            [
             0.3,
             "#f1b6da"
            ],
            [
             0.4,
             "#fde0ef"
            ],
            [
             0.5,
             "#f7f7f7"
            ],
            [
             0.6,
             "#e6f5d0"
            ],
            [
             0.7,
             "#b8e186"
            ],
            [
             0.8,
             "#7fbc41"
            ],
            [
             0.9,
             "#4d9221"
            ],
            [
             1,
             "#276419"
            ]
           ]
          },
          "xaxis": {
           "gridcolor": "white",
           "linecolor": "white",
           "ticks": "",
           "title": {
            "standoff": 15
           },
           "zerolinecolor": "white",
           "automargin": true,
           "zerolinewidth": 2
          },
          "yaxis": {
           "gridcolor": "white",
           "linecolor": "white",
           "ticks": "",
           "title": {
            "standoff": 15
           },
           "zerolinecolor": "white",
           "automargin": true,
           "zerolinewidth": 2
          },
          "scene": {
           "xaxis": {
            "backgroundcolor": "#E5ECF6",
            "gridcolor": "white",
            "linecolor": "white",
            "showbackground": true,
            "ticks": "",
            "zerolinecolor": "white",
            "gridwidth": 2
           },
           "yaxis": {
            "backgroundcolor": "#E5ECF6",
            "gridcolor": "white",
            "linecolor": "white",
            "showbackground": true,
            "ticks": "",
            "zerolinecolor": "white",
            "gridwidth": 2
           },
           "zaxis": {
            "backgroundcolor": "#E5ECF6",
            "gridcolor": "white",
            "linecolor": "white",
            "showbackground": true,
            "ticks": "",
            "zerolinecolor": "white",
            "gridwidth": 2
           }
          },
          "shapedefaults": {
           "line": {
            "color": "#2a3f5f"
           }
          },
          "annotationdefaults": {
           "arrowcolor": "#2a3f5f",
           "arrowhead": 0,
           "arrowwidth": 1
          },
          "geo": {
           "bgcolor": "white",
           "landcolor": "#E5ECF6",
           "subunitcolor": "white",
           "showland": true,
           "showlakes": true,
           "lakecolor": "white"
          },
          "title": {
           "x": 0.05
          },
          "mapbox": {
           "style": "light"
          }
         }
        },
        "scene": {
         "domain": {
          "x": [
           0.0,
           1.0
          ],
          "y": [
           0.0,
           1.0
          ]
         },
         "xaxis": {
          "title": {
           "text": "months_since_last_donation"
          }
         },
         "yaxis": {
          "title": {
           "text": "total_blood_donated"
          }
         },
         "zaxis": {
          "title": {
           "text": "total_number_of_donations"
          }
         }
        },
        "coloraxis": {
         "colorbar": {
          "title": {
           "text": "class"
          }
         },
         "colorscale": [
          [
           0.0,
           "#0d0887"
          ],
          [
           0.1111111111111111,
           "#46039f"
          ],
          [
           0.2222222222222222,
           "#7201a8"
          ],
          [
           0.3333333333333333,
           "#9c179e"
          ],
          [
           0.4444444444444444,
           "#bd3786"
          ],
          [
           0.5555555555555556,
           "#d8576b"
          ],
          [
           0.6666666666666666,
           "#ed7953"
          ],
          [
           0.7777777777777778,
           "#fb9f3a"
          ],
          [
           0.8888888888888888,
           "#fdca26"
          ],
          [
           1.0,
           "#f0f921"
          ]
         ]
        },
        "legend": {
         "tracegroupgap": 0
        },
        "title": {
         "text": "3d scatter"
        }
       },
       "config": {
        "plotlyServerURL": "https://plot.ly"
       }
      }
     },
     "metadata": {},
     "output_type": "display_data",
     "jetTransient": {
      "display_id": null
     }
    },
    {
     "data": {
      "application/vnd.plotly.v1+json": {
       "data": [
        {
         "hovertemplate": "months_since_last_donation=%{x}<br>total_blood_donated=%{y}<br>months_since_first_donation=%{z}<br>class=%{marker.color}<extra></extra>",
         "legendgroup": "",
         "marker": {
          "color": {
           "dtype": "i1",
           "bdata": "AQEBAQAAAQABAQAAAQABAQEBAQEBAAEBAAAAAQEAAAEBAQABAQEBAQEAAQABAQAAAAAAAQAAAQEBAQAAAAEAAQEAAQAAAAAAAQABAQEAAAABAAAAAQAAAAABAQAAAAAAAAEBAQEBAAAAAAAAAAABAAABAAABAAABAQEBAQAAAQABAQAAAAAAAAAAAAAAAAAAAQEAAAEAAQAAAQAAAAAAAAAAAAEBAQAAAAAAAAAAAAABAQEAAQAAAAAAAAAAAQAAAAAAAQEAAAAAAAEAAAAAAAAAAAAAAAABAAAAAAABAQABAQAAAAAAAQAAAAAAAAAAAQABAQAAAAAAAAAAAQEAAAAAAAAAAQABAAEAAAAAAAAAAAAAAAAAAAABAAAAAAABAQEBAAAAAAAAAAAAAAAAAAABAAAAAAAAAAAAAAAAAQAAAQABAAAAAAEAAAABAQABAAABAAAAAAAAAAAAAAAAAAAAAAAAAAAAAAAAAAABAAAAAQEAAAAAAQAAAAAAAAAAAAAAAAAAAAAAAAAAAQAAAQAAAAAAAAAAAAAAAAAAAAAAAAAAAAAAAAAAAAAAAAAAAQAAAAAAAAAAAAAAAAAAAAAAAAAAAAAAAAAAAAAAAQAAAAAAAQAAAAAAAAEAAAAAAAAAAAAAAAAAAAAAAAAAAAAAAAABAQEAAQEBAAEBAQAAAAEAAQEBAQEBAQEAAAEAAAEBAQAAAAEBAQEBAQABAQABAAABAQABAQAAAAAAAAABAAEAAAAAAAEAAAABAAEBAQAAAAABAAAAAAEAAAAAAAABAAABAAAAAAAAAAAAAAAAAAAAAQAAAAAAAQAAAAEAAQAAAAAAAAAAAAAAAAAAAQEAAAABAAAAAAAAAAAAAAAAAAAAAAAAAAAAAAEAAQAAAAAAAAAAAAABAAAAAAAAAAAAAAAAAAABAAAAAAAAAAAAAAAAAQAAAAEAAAAAAAAAAAAAAAAAAAAAAAAAAQAAAAAAAAAAAAAAAAAAAA=="
          },
          "coloraxis": "coloraxis",
          "symbol": "circle"
         },
         "mode": "markers",
         "name": "",
         "scene": "scene",
         "showlegend": false,
         "x": {
          "dtype": "f8",
          "bdata": "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"
         },
         "y": {
          "dtype": "f8",
          "bdata": "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"
         },
         "z": {
          "dtype": "f8",
          "bdata": "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"
         },
         "type": "scatter3d"
        }
       ],
       "layout": {
        "template": {
         "data": {
          "histogram2dcontour": [
           {
            "type": "histogram2dcontour",
            "colorbar": {
             "outlinewidth": 0,
             "ticks": ""
            },
            "colorscale": [
             [
              0.0,
              "#0d0887"
             ],
             [
              0.1111111111111111,
              "#46039f"
             ],
             [
              0.2222222222222222,
              "#7201a8"
             ],
             [
              0.3333333333333333,
              "#9c179e"
             ],
             [
              0.4444444444444444,
              "#bd3786"
             ],
             [
              0.5555555555555556,
              "#d8576b"
             ],
             [
              0.6666666666666666,
              "#ed7953"
             ],
             [
              0.7777777777777778,
              "#fb9f3a"
             ],
             [
              0.8888888888888888,
              "#fdca26"
             ],
             [
              1.0,
              "#f0f921"
             ]
            ]
           }
          ],
          "choropleth": [
           {
            "type": "choropleth",
            "colorbar": {
             "outlinewidth": 0,
             "ticks": ""
            }
           }
          ],
          "histogram2d": [
           {
            "type": "histogram2d",
            "colorbar": {
             "outlinewidth": 0,
             "ticks": ""
            },
            "colorscale": [
             [
              0.0,
              "#0d0887"
             ],
             [
              0.1111111111111111,
              "#46039f"
             ],
             [
              0.2222222222222222,
              "#7201a8"
             ],
             [
              0.3333333333333333,
              "#9c179e"
             ],
             [
              0.4444444444444444,
              "#bd3786"
             ],
             [
              0.5555555555555556,
              "#d8576b"
             ],
             [
              0.6666666666666666,
              "#ed7953"
             ],
             [
              0.7777777777777778,
              "#fb9f3a"
             ],
             [
              0.8888888888888888,
              "#fdca26"
             ],
             [
              1.0,
              "#f0f921"
             ]
            ]
           }
          ],
          "heatmap": [
           {
            "type": "heatmap",
            "colorbar": {
             "outlinewidth": 0,
             "ticks": ""
            },
            "colorscale": [
             [
              0.0,
              "#0d0887"
             ],
             [
              0.1111111111111111,
              "#46039f"
             ],
             [
              0.2222222222222222,
              "#7201a8"
             ],
             [
              0.3333333333333333,
              "#9c179e"
             ],
             [
              0.4444444444444444,
              "#bd3786"
             ],
             [
              0.5555555555555556,
              "#d8576b"
             ],
             [
              0.6666666666666666,
              "#ed7953"
             ],
             [
              0.7777777777777778,
              "#fb9f3a"
             ],
             [
              0.8888888888888888,
              "#fdca26"
             ],
             [
              1.0,
              "#f0f921"
             ]
            ]
           }
          ],
          "contourcarpet": [
           {
            "type": "contourcarpet",
            "colorbar": {
             "outlinewidth": 0,
             "ticks": ""
            }
           }
          ],
          "contour": [
           {
            "type": "contour",
            "colorbar": {
             "outlinewidth": 0,
             "ticks": ""
            },
            "colorscale": [
             [
              0.0,
              "#0d0887"
             ],
             [
              0.1111111111111111,
              "#46039f"
             ],
             [
              0.2222222222222222,
              "#7201a8"
             ],
             [
              0.3333333333333333,
              "#9c179e"
             ],
             [
              0.4444444444444444,
              "#bd3786"
             ],
             [
              0.5555555555555556,
              "#d8576b"
             ],
             [
              0.6666666666666666,
              "#ed7953"
             ],
             [
              0.7777777777777778,
              "#fb9f3a"
             ],
             [
              0.8888888888888888,
              "#fdca26"
             ],
             [
              1.0,
              "#f0f921"
             ]
            ]
           }
          ],
          "surface": [
           {
            "type": "surface",
            "colorbar": {
             "outlinewidth": 0,
             "ticks": ""
            },
            "colorscale": [
             [
              0.0,
              "#0d0887"
             ],
             [
              0.1111111111111111,
              "#46039f"
             ],
             [
              0.2222222222222222,
              "#7201a8"
             ],
             [
              0.3333333333333333,
              "#9c179e"
             ],
             [
              0.4444444444444444,
              "#bd3786"
             ],
             [
              0.5555555555555556,
              "#d8576b"
             ],
             [
              0.6666666666666666,
              "#ed7953"
             ],
             [
              0.7777777777777778,
              "#fb9f3a"
             ],
             [
              0.8888888888888888,
              "#fdca26"
             ],
             [
              1.0,
              "#f0f921"
             ]
            ]
           }
          ],
          "mesh3d": [
           {
            "type": "mesh3d",
            "colorbar": {
             "outlinewidth": 0,
             "ticks": ""
            }
           }
          ],
          "scatter": [
           {
            "fillpattern": {
             "fillmode": "overlay",
             "size": 10,
             "solidity": 0.2
            },
            "type": "scatter"
           }
          ],
          "parcoords": [
           {
            "type": "parcoords",
            "line": {
             "colorbar": {
              "outlinewidth": 0,
              "ticks": ""
             }
            }
           }
          ],
          "scatterpolargl": [
           {
            "type": "scatterpolargl",
            "marker": {
             "colorbar": {
              "outlinewidth": 0,
              "ticks": ""
             }
            }
           }
          ],
          "bar": [
           {
            "error_x": {
             "color": "#2a3f5f"
            },
            "error_y": {
             "color": "#2a3f5f"
            },
            "marker": {
             "line": {
              "color": "#E5ECF6",
              "width": 0.5
             },
             "pattern": {
              "fillmode": "overlay",
              "size": 10,
              "solidity": 0.2
             }
            },
            "type": "bar"
           }
          ],
          "scattergeo": [
           {
            "type": "scattergeo",
            "marker": {
             "colorbar": {
              "outlinewidth": 0,
              "ticks": ""
             }
            }
           }
          ],
          "scatterpolar": [
           {
            "type": "scatterpolar",
            "marker": {
             "colorbar": {
              "outlinewidth": 0,
              "ticks": ""
             }
            }
           }
          ],
          "histogram": [
           {
            "marker": {
             "pattern": {
              "fillmode": "overlay",
              "size": 10,
              "solidity": 0.2
             }
            },
            "type": "histogram"
           }
          ],
          "scattergl": [
           {
            "type": "scattergl",
            "marker": {
             "colorbar": {
              "outlinewidth": 0,
              "ticks": ""
             }
            }
           }
          ],
          "scatter3d": [
           {
            "type": "scatter3d",
            "line": {
             "colorbar": {
              "outlinewidth": 0,
              "ticks": ""
             }
            },
            "marker": {
             "colorbar": {
              "outlinewidth": 0,
              "ticks": ""
             }
            }
           }
          ],
          "scattermap": [
           {
            "type": "scattermap",
            "marker": {
             "colorbar": {
              "outlinewidth": 0,
              "ticks": ""
             }
            }
           }
          ],
          "scattermapbox": [
           {
            "type": "scattermapbox",
            "marker": {
             "colorbar": {
              "outlinewidth": 0,
              "ticks": ""
             }
            }
           }
          ],
          "scatterternary": [
           {
            "type": "scatterternary",
            "marker": {
             "colorbar": {
              "outlinewidth": 0,
              "ticks": ""
             }
            }
           }
          ],
          "scattercarpet": [
           {
            "type": "scattercarpet",
            "marker": {
             "colorbar": {
              "outlinewidth": 0,
              "ticks": ""
             }
            }
           }
          ],
          "carpet": [
           {
            "aaxis": {
             "endlinecolor": "#2a3f5f",
             "gridcolor": "white",
             "linecolor": "white",
             "minorgridcolor": "white",
             "startlinecolor": "#2a3f5f"
            },
            "baxis": {
             "endlinecolor": "#2a3f5f",
             "gridcolor": "white",
             "linecolor": "white",
             "minorgridcolor": "white",
             "startlinecolor": "#2a3f5f"
            },
            "type": "carpet"
           }
          ],
          "table": [
           {
            "cells": {
             "fill": {
              "color": "#EBF0F8"
             },
             "line": {
              "color": "white"
             }
            },
            "header": {
             "fill": {
              "color": "#C8D4E3"
             },
             "line": {
              "color": "white"
             }
            },
            "type": "table"
           }
          ],
          "barpolar": [
           {
            "marker": {
             "line": {
              "color": "#E5ECF6",
              "width": 0.5
             },
             "pattern": {
              "fillmode": "overlay",
              "size": 10,
              "solidity": 0.2
             }
            },
            "type": "barpolar"
           }
          ],
          "pie": [
           {
            "automargin": true,
            "type": "pie"
           }
          ]
         },
         "layout": {
          "autotypenumbers": "strict",
          "colorway": [
           "#636efa",
           "#EF553B",
           "#00cc96",
           "#ab63fa",
           "#FFA15A",
           "#19d3f3",
           "#FF6692",
           "#B6E880",
           "#FF97FF",
           "#FECB52"
          ],
          "font": {
           "color": "#2a3f5f"
          },
          "hovermode": "closest",
          "hoverlabel": {
           "align": "left"
          },
          "paper_bgcolor": "white",
          "plot_bgcolor": "#E5ECF6",
          "polar": {
           "bgcolor": "#E5ECF6",
           "angularaxis": {
            "gridcolor": "white",
            "linecolor": "white",
            "ticks": ""
           },
           "radialaxis": {
            "gridcolor": "white",
            "linecolor": "white",
            "ticks": ""
           }
          },
          "ternary": {
           "bgcolor": "#E5ECF6",
           "aaxis": {
            "gridcolor": "white",
            "linecolor": "white",
            "ticks": ""
           },
           "baxis": {
            "gridcolor": "white",
            "linecolor": "white",
            "ticks": ""
           },
           "caxis": {
            "gridcolor": "white",
            "linecolor": "white",
            "ticks": ""
           }
          },
          "coloraxis": {
           "colorbar": {
            "outlinewidth": 0,
            "ticks": ""
           }
          },
          "colorscale": {
           "sequential": [
            [
             0.0,
             "#0d0887"
            ],
            [
             0.1111111111111111,
             "#46039f"
            ],
            [
             0.2222222222222222,
             "#7201a8"
            ],
            [
             0.3333333333333333,
             "#9c179e"
            ],
            [
             0.4444444444444444,
             "#bd3786"
            ],
            [
             0.5555555555555556,
             "#d8576b"
            ],
            [
             0.6666666666666666,
             "#ed7953"
            ],
            [
             0.7777777777777778,
             "#fb9f3a"
            ],
            [
             0.8888888888888888,
             "#fdca26"
            ],
            [
             1.0,
             "#f0f921"
            ]
           ],
           "sequentialminus": [
            [
             0.0,
             "#0d0887"
            ],
            [
             0.1111111111111111,
             "#46039f"
            ],
            [
             0.2222222222222222,
             "#7201a8"
            ],
            [
             0.3333333333333333,
             "#9c179e"
            ],
            [
             0.4444444444444444,
             "#bd3786"
            ],
            [
             0.5555555555555556,
             "#d8576b"
            ],
            [
             0.6666666666666666,
             "#ed7953"
            ],
            [
             0.7777777777777778,
             "#fb9f3a"
            ],
            [
             0.8888888888888888,
             "#fdca26"
            ],
            [
             1.0,
             "#f0f921"
            ]
           ],
           "diverging": [
            [
             0,
             "#8e0152"
            ],
            [
             0.1,
             "#c51b7d"
            ],
            [
             0.2,
             "#de77ae"
            ],
            [
             0.3,
             "#f1b6da"
            ],
            [
             0.4,
             "#fde0ef"
            ],
            [
             0.5,
             "#f7f7f7"
            ],
            [
             0.6,
             "#e6f5d0"
            ],
            [
             0.7,
             "#b8e186"
            ],
            [
             0.8,
             "#7fbc41"
            ],
            [
             0.9,
             "#4d9221"
            ],
            [
             1,
             "#276419"
            ]
           ]
          },
          "xaxis": {
           "gridcolor": "white",
           "linecolor": "white",
           "ticks": "",
           "title": {
            "standoff": 15
           },
           "zerolinecolor": "white",
           "automargin": true,
           "zerolinewidth": 2
          },
          "yaxis": {
           "gridcolor": "white",
           "linecolor": "white",
           "ticks": "",
           "title": {
            "standoff": 15
           },
           "zerolinecolor": "white",
           "automargin": true,
           "zerolinewidth": 2
          },
          "scene": {
           "xaxis": {
            "backgroundcolor": "#E5ECF6",
            "gridcolor": "white",
            "linecolor": "white",
            "showbackground": true,
            "ticks": "",
            "zerolinecolor": "white",
            "gridwidth": 2
           },
           "yaxis": {
            "backgroundcolor": "#E5ECF6",
            "gridcolor": "white",
            "linecolor": "white",
            "showbackground": true,
            "ticks": "",
            "zerolinecolor": "white",
            "gridwidth": 2
           },
           "zaxis": {
            "backgroundcolor": "#E5ECF6",
            "gridcolor": "white",
            "linecolor": "white",
            "showbackground": true,
            "ticks": "",
            "zerolinecolor": "white",
            "gridwidth": 2
           }
          },
          "shapedefaults": {
           "line": {
            "color": "#2a3f5f"
           }
          },
          "annotationdefaults": {
           "arrowcolor": "#2a3f5f",
           "arrowhead": 0,
           "arrowwidth": 1
          },
          "geo": {
           "bgcolor": "white",
           "landcolor": "#E5ECF6",
           "subunitcolor": "white",
           "showland": true,
           "showlakes": true,
           "lakecolor": "white"
          },
          "title": {
           "x": 0.05
          },
          "mapbox": {
           "style": "light"
          }
         }
        },
        "scene": {
         "domain": {
          "x": [
           0.0,
           1.0
          ],
          "y": [
           0.0,
           1.0
          ]
         },
         "xaxis": {
          "title": {
           "text": "months_since_last_donation"
          }
         },
         "yaxis": {
          "title": {
           "text": "total_blood_donated"
          }
         },
         "zaxis": {
          "title": {
           "text": "months_since_first_donation"
          }
         }
        },
        "coloraxis": {
         "colorbar": {
          "title": {
           "text": "class"
          }
         },
         "colorscale": [
          [
           0.0,
           "#0d0887"
          ],
          [
           0.1111111111111111,
           "#46039f"
          ],
          [
           0.2222222222222222,
           "#7201a8"
          ],
          [
           0.3333333333333333,
           "#9c179e"
          ],
          [
           0.4444444444444444,
           "#bd3786"
          ],
          [
           0.5555555555555556,
           "#d8576b"
          ],
          [
           0.6666666666666666,
           "#ed7953"
          ],
          [
           0.7777777777777778,
           "#fb9f3a"
          ],
          [
           0.8888888888888888,
           "#fdca26"
          ],
          [
           1.0,
           "#f0f921"
          ]
         ]
        },
        "legend": {
         "tracegroupgap": 0
        },
        "title": {
         "text": "3d scatter"
        }
       },
       "config": {
        "plotlyServerURL": "https://plot.ly"
       }
      }
     },
     "metadata": {},
     "output_type": "display_data",
     "jetTransient": {
      "display_id": null
     }
    }
   ],
   "execution_count": 34
  },
  {
   "metadata": {},
   "cell_type": "markdown",
   "source": "TASK 2",
   "id": "12da73391ef12f74"
  },
  {
   "metadata": {},
   "cell_type": "code",
   "outputs": [],
   "execution_count": null,
   "source": [
    "preprocessed = frame.copy() \n",
    "preprocessed = (preprocessed-preprocessed.min())/(preprocessed.max()-preprocessed.min()) # Normalization\n",
    "# It also normalizes the class, but because class is either 1 or 0, the formula does not change the class \n",
    "preprocessed.describe()"
   ],
   "id": "d8e9c5d9bacdada6"
  },
  {
   "metadata": {},
   "cell_type": "markdown",
   "source": "TASK 3",
   "id": "41518569b23bfe5f"
  },
  {
   "metadata": {
    "ExecuteTime": {
     "end_time": "2025-10-02T09:07:22.667629Z",
     "start_time": "2025-10-02T09:07:22.642355Z"
    }
   },
   "cell_type": "code",
   "source": [
    "from sklearn.model_selection import train_test_split\n",
    "X_train_s, X_test_s, Y_train_s, Y_test_s = train_test_split(\n",
    "    preprocessed.drop('class', axis=1), preprocessed['class'], test_size=0.15, random_state=1) # small test_size\n",
    "X_train_l, X_test_l, Y_train_l, Y_test_l = train_test_split(\n",
    "    preprocessed.drop('class', axis=1), preprocessed['class'], test_size=0.66, random_state=1) # large test_size\n",
    "# random state for reproducibility"
   ],
   "id": "b41a7370afa97717",
   "outputs": [],
   "execution_count": 12
  },
  {
   "metadata": {
    "ExecuteTime": {
     "end_time": "2025-10-02T10:11:37.561854Z",
     "start_time": "2025-10-02T10:11:37.021284Z"
    }
   },
   "cell_type": "code",
   "source": [
    "\"\"\"\"NIET MET DE OPDRACHT TE MAKEN, FEATURE IMPORTANCE VOOR DE PRESENTATIE\"\"\"\n",
    "\n",
    "import pandas as pd\n",
    "\n",
    "from sklearn.ensemble import RandomForestClassifier\n",
    "names = (list(X_train_s))\n",
    "feature_names = [f\"feature {names[i]}\" for i in range(X_train_s.shape[1])]\n",
    "forest = RandomForestClassifier(random_state=0)\n",
    "forest.fit(X_train_s, Y_train_s)\n",
    "import time\n",
    "import matplotlib.pyplot as plt\n",
    "\n",
    "import numpy as np\n",
    "\n",
    "start_time = time.time()\n",
    "importances = forest.feature_importances_\n",
    "std = np.std([tree.feature_importances_ for tree in forest.estimators_], axis=0)\n",
    "elapsed_time = time.time() - start_time\n",
    "\n",
    "print(f\"Elapsed time to compute the importances: {elapsed_time:.3f} seconds\")\n",
    "forest_importances = pd.Series(importances, index=feature_names)\n",
    "\n",
    "fig, ax = plt.subplots()\n",
    "forest_importances.plot.bar(yerr=std, ax=ax)\n",
    "ax.set_title(\"Feature importances using MDI\")\n",
    "ax.set_ylabel(\"Mean decrease in impurity\")\n",
    "fig.tight_layout()"
   ],
   "id": "2b167550ba199f9c",
   "outputs": [
    {
     "name": "stdout",
     "output_type": "stream",
     "text": [
      "Elapsed time to compute the importances: 0.010 seconds\n"
     ]
    },
    {
     "data": {
      "text/plain": [
       "<Figure size 640x480 with 1 Axes>"
      ],
      "image/png": "[encoded data removed]"
     },
     "metadata": {},
     "output_type": "display_data",
     "jetTransient": {
      "display_id": null
     }
    }
   ],
   "execution_count": 41
  },
  {
   "metadata": {},
   "cell_type": "markdown",
   "source": "TASK 4 & 5",
   "id": "a01516e88a3d87d1"
  },
  {
   "metadata": {},
   "cell_type": "code",
   "outputs": [],
   "execution_count": null,
   "source": [
    "from sklearn.metrics import classification_report\n",
    "from sklearn.metrics import fbeta_score\n",
    "\n",
    "#5.1 Confusion matrix\n",
    "def confusionmatrix(predicted_y, real_y): # it works, im confused :)\n",
    "    \"\"\"\n",
    "    This function calculates and prints the confusion matrix.\n",
    "    :param predicted_y: list: predicted classes for the test data \n",
    "    :param real_y: list: real classes of the test data\n",
    "    :return: prints the confusion matrix, returns nothing\n",
    "    \"\"\"\n",
    "    tp, fp, tn, fn = 0, 0, 0, 0\n",
    "    for index,_ in enumerate(predicted_y):\n",
    "        if predicted_y[index] == 1: \n",
    "            if predicted_y[index] == real_y[index]: \n",
    "                tp += 1\n",
    "            else:\n",
    "                fp += 1\n",
    "        elif predicted_y[index] == 0:\n",
    "            if predicted_y[index] == real_y[index]: \n",
    "                tn += 1\n",
    "            else:\n",
    "                fn += 1\n",
    "    print(f\"\\t P \\t\\t N \\n T \\t {tp} \\t\\t {tn} \\n F \\t {fp} \\t\\t {fn} \\n\")\n",
    "\n",
    "def accuracy_checker(y_test, pred, mode=\"basic\", X_test=None, y_predicted=None, knn=False):\n",
    "    \"\"\"\n",
    "    This function checks the accuracy of the predicted classes against the real classes.\n",
    "    :param X_test: pandas.DataFrame: the test data to be classified\n",
    "    :param y_predicted: list: predicted classes for the test data\n",
    "    :param y_test: pandas.Series: the real classes of the test data\n",
    "    :param pred: predictor class: the method used to classify the test data\n",
    "    :param mode: string: way to evaluate the results\n",
    "    :return: prints the results, returns nothing\n",
    "    \"\"\"\n",
    "    num, total = 0, 0\n",
    "    predicted, true = [], []\n",
    "    if not knn:\n",
    "        for index, row in X_test.iterrows():\n",
    "            p = pred.predict(X_test.loc[[index]])\n",
    "            q = list(y_test.loc[[index]])\n",
    "            if p == q:\n",
    "                num += 1\n",
    "            total += 1\n",
    "            predicted.append(p)\n",
    "            true.append(q)\n",
    "    else: \n",
    "        predicted = y_predicted\n",
    "        true = list(y_test)\n",
    "        for index, _ in enumerate(predicted):\n",
    "            if predicted[index] == true[index]: \n",
    "                num += 1\n",
    "            total += 1\n",
    "        \n",
    "    if mode == \"basic\":\n",
    "        print(f\"Accuracy: {num/total*100:.2f}%\")\n",
    "    elif mode == \"classification_report\":\n",
    "        print(classification_report(true, predicted))\n",
    "    elif mode == \"confusion_matrix\":\n",
    "        confusionmatrix(true, predicted)\n",
    "    elif mode == \"fbeta\":\n",
    "        print(\"average=macro:\", fbeta_score(true, predicted, average='macro', beta=0.5))\n",
    "        print(\"average=weighted:\", fbeta_score(true, predicted, average='weighted', beta=0.5))\n",
    "        print(\"average=None:\", fbeta_score(true, predicted, average=None, beta=0.5))\n",
    "\n",
    "# 4.1 KNN\n",
    "def manhattan_distance(a, b):\n",
    "    \"\"\"\n",
    "    This function calculates the manhattan distance between two datapoints.\n",
    "    :param a: list: the first datapoint\n",
    "    :param b: list: the second datapoint\n",
    "    :return: float: the manhattan distance between the datapoints\n",
    "    \"\"\"\n",
    "    distance = 0\n",
    "    for index, _ in enumerate(a):\n",
    "        distance += ((a[index] - b[index]) ** 2) ** 0.5\n",
    "    return distance      \n",
    "\n",
    "def KNN_classifier(k, train_x, train_y, test_x):\n",
    "    \"\"\"\n",
    "    This function trains the KNN classifier on the training data and predicts the class of the test data.\n",
    "    :param k: int: the number of neighbors\n",
    "    :param train_x: pandas.DataFrame: the train data\n",
    "    :param train_y: pandas.Series: the corresponding classes of the train data\n",
    "    :param test_x: pandas.DataFrame: the test data\n",
    "    :return: list: the predicted classes of the test data\n",
    "    \"\"\"\n",
    "    test_y = list([0 for _ in range(test_x.shape[0])])\n",
    "    for index, (_,test_row) in enumerate(test_x.iterrows()):\n",
    "        distances = []\n",
    "        for _, train_row in train_x.iterrows():\n",
    "            test_values = list(test_row)  \n",
    "            train_values = list(train_row)\n",
    "            distance = manhattan_distance(test_values, train_values)\n",
    "            distances.append(distance)\n",
    "        nearest_neighbours = sorted(range(len(distances)), key=lambda i: distances[i])[:k]\n",
    "        neighbor_labels = train_y.iloc[nearest_neighbours]\n",
    "        predicted_label = round(neighbor_labels.mean())\n",
    "        test_y[index] = predicted_label\n",
    "    return test_y\n",
    "\n",
    "y_predicted = KNN_classifier(5, X_train_s, Y_train_s, X_test_s)\n",
    "print(\"For knn:\")\n",
    "accuracy_checker(Y_test_s, \"knn\", y_predicted=y_predicted, knn=True)\n",
    "\n",
    "# 4.2 nbc\n",
    "from sklearn.naive_bayes import GaussianNB\n",
    "nbc = GaussianNB()\n",
    "nbc.fit(X_train_s, Y_train_s)\n",
    "print(\"For nbc:\")\n",
    "accuracy_checker(Y_test_s, nbc, X_test=X_test_s)\n",
    "\n",
    "# 4.3 svc\n",
    "from sklearn.svm import SVC\n",
    "from sklearn.preprocessing import StandardScaler\n",
    "from sklearn.pipeline import make_pipeline\n",
    "svc = make_pipeline(StandardScaler(), SVC(gamma='auto'))\n",
    "svc.fit(X_train_s, Y_train_s)\n",
    "print(\"For svc:\")\n",
    "accuracy_checker(Y_test_s, svc, X_test=X_test_s)\n",
    "\n",
    "# 4.4 mlp\n",
    "from sklearn.neural_network import MLPClassifier\n",
    "mlp = MLPClassifier(random_state=1, max_iter=250).fit(X_train_s, Y_train_s)\n",
    "print(\"For mlp:\")\n",
    "accuracy_checker(Y_test_s, mlp, X_test=X_test_s)"
   ],
   "id": "1d034448746f4dde"
  },
  {
   "metadata": {
    "ExecuteTime": {
     "end_time": "2025-10-02T09:07:45.844661Z",
     "start_time": "2025-10-02T09:07:28.985784Z"
    }
   },
   "cell_type": "code",
   "source": [
    "Y_predicted_s = KNN_classifier(5, X_train_s, Y_train_s, X_test_s)\n",
    "Y_predicted_l = KNN_classifier(5, X_train_l, Y_train_l, X_test_l)\n",
    "preds = [nbc, svc, mlp, \"knn\"]\n",
    "modes = [\"confusion_matrix\", \"classification_report\", \"fbeta\"]\n",
    "for mode in modes:\n",
    "    for pred in preds:\n",
    "        if pred == \"knn\":\n",
    "            print(f\"{mode} for {pred} with small test data size:\")\n",
    "            accuracy_checker(Y_test_s, pred, mode=mode, y_predicted=Y_predicted_s, knn=True)\n",
    "            print(f\"\\n{mode} for {pred} with large test data size:\")\n",
    "            accuracy_checker(Y_test_l, pred, mode=mode, y_predicted=Y_predicted_l, knn=True)\n",
    "            print(\"-----------------------------------------\")\n",
    "        else:\n",
    "            pred_string = \"\"\n",
    "            if pred == svc: pred_string = \"svc\"\n",
    "            elif pred == mlp: pred_string = \"mlp\"\n",
    "            elif pred == nbc: pred_string = \"nbc\"\n",
    "            print(f\"{mode} for {pred_string} with small test data size:\")\n",
    "            accuracy_checker(Y_test_s, pred, mode=mode, X_test=X_test_s)            \n",
    "            print(f\"\\n{mode} for {pred_string} with large test data size:\")\n",
    "            accuracy_checker(Y_test_l, pred, mode=mode, X_test=X_test_l)\n",
    "            print(\"-----------------------------------------\")"
   ],
   "id": "8aadb811fdda4bdb",
   "outputs": [
    {
     "name": "stdout",
     "output_type": "stream",
     "text": [
      "confusion_matrix for nbc with small test data size:\n",
      "\t P \t\t N \n",
      " T \t 0 \t\t 0 \n",
      " F \t 0 \t\t 0 \n",
      "\n",
      "\n",
      "confusion_matrix for nbc with large test data size:\n",
      "\t P \t\t N \n",
      " T \t 0 \t\t 0 \n",
      " F \t 0 \t\t 0 \n",
      "\n",
      "-----------------------------------------\n",
      "confusion_matrix for svc with small test data size:\n",
      "\t P \t\t N \n",
      " T \t 0 \t\t 0 \n",
      " F \t 0 \t\t 0 \n",
      "\n",
      "\n",
      "confusion_matrix for svc with large test data size:\n",
      "\t P \t\t N \n",
      " T \t 0 \t\t 0 \n",
      " F \t 0 \t\t 0 \n",
      "\n",
      "-----------------------------------------\n",
      "confusion_matrix for mlp with small test data size:\n",
      "\t P \t\t N \n",
      " T \t 0 \t\t 0 \n",
      " F \t 0 \t\t 0 \n",
      "\n",
      "\n",
      "confusion_matrix for mlp with large test data size:\n",
      "\t P \t\t N \n",
      " T \t 0 \t\t 0 \n",
      " F \t 0 \t\t 0 \n",
      "\n",
      "-----------------------------------------\n",
      "confusion_matrix for knn with small test data size:\n",
      "\t P \t\t N \n",
      " T \t 12 \t\t 76 \n",
      " F \t 20 \t\t 5 \n",
      "\n",
      "\n",
      "confusion_matrix for knn with large test data size:\n",
      "\t P \t\t N \n",
      " T \t 30 \t\t 342 \n",
      " F \t 86 \t\t 36 \n",
      "\n",
      "-----------------------------------------\n",
      "classification_report for nbc with small test data size:\n",
      "              precision    recall  f1-score   support\n",
      "\n",
      "         0.0       0.73      0.96      0.83        81\n",
      "         1.0       0.50      0.09      0.16        32\n",
      "\n",
      "    accuracy                           0.72       113\n",
      "   macro avg       0.61      0.53      0.49       113\n",
      "weighted avg       0.66      0.72      0.64       113\n",
      "\n",
      "\n",
      "classification_report for nbc with large test data size:\n",
      "              precision    recall  f1-score   support\n",
      "\n",
      "         0.0       0.79      0.95      0.86       378\n",
      "         1.0       0.50      0.17      0.26       116\n",
      "\n",
      "    accuracy                           0.77       494\n",
      "   macro avg       0.64      0.56      0.56       494\n",
      "weighted avg       0.72      0.77      0.72       494\n",
      "\n",
      "-----------------------------------------\n",
      "classification_report for svc with small test data size:\n",
      "              precision    recall  f1-score   support\n",
      "\n",
      "         0.0       0.73      0.99      0.84        81\n",
      "         1.0       0.67      0.06      0.11        32\n",
      "\n",
      "    accuracy                           0.73       113\n",
      "   macro avg       0.70      0.53      0.48       113\n",
      "weighted avg       0.71      0.73      0.63       113\n",
      "\n",
      "\n",
      "classification_report for svc with large test data size:\n",
      "              precision    recall  f1-score   support\n",
      "\n",
      "         0.0       0.79      0.98      0.88       378\n",
      "         1.0       0.77      0.17      0.28       116\n",
      "\n",
      "    accuracy                           0.79       494\n",
      "   macro avg       0.78      0.58      0.58       494\n",
      "weighted avg       0.79      0.79      0.74       494\n",
      "\n",
      "-----------------------------------------\n",
      "classification_report for mlp with small test data size:\n",
      "              precision    recall  f1-score   support\n",
      "\n",
      "         0.0       0.73      0.99      0.84        81\n",
      "         1.0       0.75      0.09      0.17        32\n",
      "\n",
      "    accuracy                           0.73       113\n",
      "   macro avg       0.74      0.54      0.50       113\n",
      "weighted avg       0.74      0.73      0.65       113\n",
      "\n",
      "\n",
      "classification_report for mlp with large test data size:\n",
      "              precision    recall  f1-score   support\n",
      "\n",
      "         0.0       0.79      0.98      0.87       378\n",
      "         1.0       0.65      0.13      0.22       116\n",
      "\n",
      "    accuracy                           0.78       494\n",
      "   macro avg       0.72      0.55      0.54       494\n",
      "weighted avg       0.75      0.78      0.72       494\n",
      "\n",
      "-----------------------------------------\n",
      "classification_report for knn with small test data size:\n",
      "              precision    recall  f1-score   support\n",
      "\n",
      "         0.0       0.79      0.94      0.86        81\n",
      "         1.0       0.71      0.38      0.49        32\n",
      "\n",
      "    accuracy                           0.78       113\n",
      "   macro avg       0.75      0.66      0.67       113\n",
      "weighted avg       0.77      0.78      0.75       113\n",
      "\n",
      "\n",
      "classification_report for knn with large test data size:\n",
      "              precision    recall  f1-score   support\n",
      "\n",
      "         0.0       0.80      0.90      0.85       378\n",
      "         1.0       0.45      0.26      0.33       116\n",
      "\n",
      "    accuracy                           0.75       494\n",
      "   macro avg       0.63      0.58      0.59       494\n",
      "weighted avg       0.72      0.75      0.73       494\n",
      "\n",
      "-----------------------------------------\n",
      "fbeta for nbc with small test data size:\n",
      "average=macro: 0.5170326971653101\n",
      "average=weighted: 0.6250822738122145\n",
      "average=None: [0.76620825 0.26785714]\n",
      "\n",
      "fbeta for nbc with large test data size:\n",
      "average=macro: 0.5890901404357074\n",
      "average=weighted: 0.709361558577957\n",
      "average=None: [0.81586144 0.36231884]\n",
      "-----------------------------------------\n",
      "fbeta for svc with small test data size:\n",
      "average=macro: 0.49751352294538476\n",
      "average=weighted: 0.6146975847857407\n",
      "average=None: [0.76775432 0.22727273]\n",
      "\n",
      "fbeta for svc with large test data size:\n",
      "average=macro: 0.6406060606060606\n",
      "average=weighted: 0.739285977180714\n",
      "average=None: [0.82666667 0.45454545]\n",
      "-----------------------------------------\n",
      "fbeta for mlp with small test data size:\n",
      "average=macro: 0.5430971953578336\n",
      "average=weighted: 0.6430906694510536\n",
      "average=None: [0.77369439 0.3125    ]\n",
      "\n",
      "fbeta for mlp with large test data size:\n",
      "average=macro: 0.5892186118479222\n",
      "average=weighted: 0.710482017633351\n",
      "average=None: [0.8178603  0.36057692]\n",
      "-----------------------------------------\n",
      "fbeta for knn with small test data size:\n",
      "average=macro: 0.7086021505376343\n",
      "average=weighted: 0.7556951184698828\n",
      "average=None: [0.8172043 0.6      ]\n",
      "\n",
      "fbeta for knn with large test data size:\n",
      "average=macro: 0.6064593301435407\n",
      "average=weighted: 0.7187493946496717\n",
      "average=None: [0.81818182 0.39473684]\n",
      "-----------------------------------------\n"
     ]
    }
   ],
   "execution_count": 14
  },
  {
   "metadata": {
    "ExecuteTime": {
     "end_time": "2025-10-02T09:07:45.907237Z",
     "start_time": "2025-10-02T09:07:45.904697Z"
    }
   },
   "cell_type": "code",
   "source": "",
   "id": "ee48293a89ef8b5f",
   "outputs": [],
   "execution_count": null
  }
 ],
 "metadata": {
  "kernelspec": {
   "display_name": "Python 3",
   "language": "python",
   "name": "python3"
  },
  "language_info": {
   "codemirror_mode": {
    "name": "ipython",
    "version": 2
   },
   "file_extension": ".py",
   "mimetype": "text/x-python",
   "name": "python",
   "nbconvert_exporter": "python",
   "pygments_lexer": "ipython2",
   "version": "2.7.6"
  }
 },
 "nbformat": 4,
 "nbformat_minor": 5
}
